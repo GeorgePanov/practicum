{
 "cells": [
  {
   "cell_type": "markdown",
   "metadata": {},
   "source": [
    "## Изучение данных из файла"
   ]
  },
  {
   "cell_type": "code",
   "execution_count": 1,
   "metadata": {},
   "outputs": [],
   "source": [
    "import pandas as pd\n",
    "import matplotlib.pyplot as plt"
   ]
  },
  {
   "cell_type": "code",
   "execution_count": 2,
   "metadata": {},
   "outputs": [
    {
     "data": {
      "text/html": [
       "<div>\n",
       "<style scoped>\n",
       "    .dataframe tbody tr th:only-of-type {\n",
       "        vertical-align: middle;\n",
       "    }\n",
       "\n",
       "    .dataframe tbody tr th {\n",
       "        vertical-align: top;\n",
       "    }\n",
       "\n",
       "    .dataframe thead th {\n",
       "        text-align: right;\n",
       "    }\n",
       "</style>\n",
       "<table border=\"1\" class=\"dataframe\">\n",
       "  <thead>\n",
       "    <tr style=\"text-align: right;\">\n",
       "      <th></th>\n",
       "      <th>total_images</th>\n",
       "      <th>last_price</th>\n",
       "      <th>total_area</th>\n",
       "      <th>first_day_exposition</th>\n",
       "      <th>rooms</th>\n",
       "      <th>ceiling_height</th>\n",
       "      <th>floors_total</th>\n",
       "      <th>living_area</th>\n",
       "      <th>floor</th>\n",
       "      <th>is_apartment</th>\n",
       "      <th>...</th>\n",
       "      <th>kitchen_area</th>\n",
       "      <th>balcony</th>\n",
       "      <th>locality_name</th>\n",
       "      <th>airports_nearest</th>\n",
       "      <th>cityCenters_nearest</th>\n",
       "      <th>parks_around3000</th>\n",
       "      <th>parks_nearest</th>\n",
       "      <th>ponds_around3000</th>\n",
       "      <th>ponds_nearest</th>\n",
       "      <th>days_exposition</th>\n",
       "    </tr>\n",
       "  </thead>\n",
       "  <tbody>\n",
       "    <tr>\n",
       "      <td>0</td>\n",
       "      <td>20</td>\n",
       "      <td>13000000.0</td>\n",
       "      <td>108.00</td>\n",
       "      <td>2019-03-07T00:00:00</td>\n",
       "      <td>3</td>\n",
       "      <td>2.70</td>\n",
       "      <td>16.0</td>\n",
       "      <td>51.0</td>\n",
       "      <td>8</td>\n",
       "      <td>NaN</td>\n",
       "      <td>...</td>\n",
       "      <td>25.00</td>\n",
       "      <td>NaN</td>\n",
       "      <td>Санкт-Петербург</td>\n",
       "      <td>18863.0</td>\n",
       "      <td>16028.0</td>\n",
       "      <td>1.0</td>\n",
       "      <td>482.0</td>\n",
       "      <td>2.0</td>\n",
       "      <td>755.0</td>\n",
       "      <td>NaN</td>\n",
       "    </tr>\n",
       "    <tr>\n",
       "      <td>1</td>\n",
       "      <td>7</td>\n",
       "      <td>3350000.0</td>\n",
       "      <td>40.40</td>\n",
       "      <td>2018-12-04T00:00:00</td>\n",
       "      <td>1</td>\n",
       "      <td>NaN</td>\n",
       "      <td>11.0</td>\n",
       "      <td>18.6</td>\n",
       "      <td>1</td>\n",
       "      <td>NaN</td>\n",
       "      <td>...</td>\n",
       "      <td>11.00</td>\n",
       "      <td>2.0</td>\n",
       "      <td>посёлок Шушары</td>\n",
       "      <td>12817.0</td>\n",
       "      <td>18603.0</td>\n",
       "      <td>0.0</td>\n",
       "      <td>NaN</td>\n",
       "      <td>0.0</td>\n",
       "      <td>NaN</td>\n",
       "      <td>81.0</td>\n",
       "    </tr>\n",
       "    <tr>\n",
       "      <td>2</td>\n",
       "      <td>10</td>\n",
       "      <td>5196000.0</td>\n",
       "      <td>56.00</td>\n",
       "      <td>2015-08-20T00:00:00</td>\n",
       "      <td>2</td>\n",
       "      <td>NaN</td>\n",
       "      <td>5.0</td>\n",
       "      <td>34.3</td>\n",
       "      <td>4</td>\n",
       "      <td>NaN</td>\n",
       "      <td>...</td>\n",
       "      <td>8.30</td>\n",
       "      <td>0.0</td>\n",
       "      <td>Санкт-Петербург</td>\n",
       "      <td>21741.0</td>\n",
       "      <td>13933.0</td>\n",
       "      <td>1.0</td>\n",
       "      <td>90.0</td>\n",
       "      <td>2.0</td>\n",
       "      <td>574.0</td>\n",
       "      <td>558.0</td>\n",
       "    </tr>\n",
       "    <tr>\n",
       "      <td>3</td>\n",
       "      <td>0</td>\n",
       "      <td>64900000.0</td>\n",
       "      <td>159.00</td>\n",
       "      <td>2015-07-24T00:00:00</td>\n",
       "      <td>3</td>\n",
       "      <td>NaN</td>\n",
       "      <td>14.0</td>\n",
       "      <td>NaN</td>\n",
       "      <td>9</td>\n",
       "      <td>NaN</td>\n",
       "      <td>...</td>\n",
       "      <td>NaN</td>\n",
       "      <td>0.0</td>\n",
       "      <td>Санкт-Петербург</td>\n",
       "      <td>28098.0</td>\n",
       "      <td>6800.0</td>\n",
       "      <td>2.0</td>\n",
       "      <td>84.0</td>\n",
       "      <td>3.0</td>\n",
       "      <td>234.0</td>\n",
       "      <td>424.0</td>\n",
       "    </tr>\n",
       "    <tr>\n",
       "      <td>4</td>\n",
       "      <td>2</td>\n",
       "      <td>10000000.0</td>\n",
       "      <td>100.00</td>\n",
       "      <td>2018-06-19T00:00:00</td>\n",
       "      <td>2</td>\n",
       "      <td>3.03</td>\n",
       "      <td>14.0</td>\n",
       "      <td>32.0</td>\n",
       "      <td>13</td>\n",
       "      <td>NaN</td>\n",
       "      <td>...</td>\n",
       "      <td>41.00</td>\n",
       "      <td>NaN</td>\n",
       "      <td>Санкт-Петербург</td>\n",
       "      <td>31856.0</td>\n",
       "      <td>8098.0</td>\n",
       "      <td>2.0</td>\n",
       "      <td>112.0</td>\n",
       "      <td>1.0</td>\n",
       "      <td>48.0</td>\n",
       "      <td>121.0</td>\n",
       "    </tr>\n",
       "    <tr>\n",
       "      <td>...</td>\n",
       "      <td>...</td>\n",
       "      <td>...</td>\n",
       "      <td>...</td>\n",
       "      <td>...</td>\n",
       "      <td>...</td>\n",
       "      <td>...</td>\n",
       "      <td>...</td>\n",
       "      <td>...</td>\n",
       "      <td>...</td>\n",
       "      <td>...</td>\n",
       "      <td>...</td>\n",
       "      <td>...</td>\n",
       "      <td>...</td>\n",
       "      <td>...</td>\n",
       "      <td>...</td>\n",
       "      <td>...</td>\n",
       "      <td>...</td>\n",
       "      <td>...</td>\n",
       "      <td>...</td>\n",
       "      <td>...</td>\n",
       "      <td>...</td>\n",
       "    </tr>\n",
       "    <tr>\n",
       "      <td>23694</td>\n",
       "      <td>9</td>\n",
       "      <td>9700000.0</td>\n",
       "      <td>133.81</td>\n",
       "      <td>2017-03-21T00:00:00</td>\n",
       "      <td>3</td>\n",
       "      <td>3.70</td>\n",
       "      <td>5.0</td>\n",
       "      <td>73.3</td>\n",
       "      <td>3</td>\n",
       "      <td>NaN</td>\n",
       "      <td>...</td>\n",
       "      <td>13.83</td>\n",
       "      <td>NaN</td>\n",
       "      <td>Санкт-Петербург</td>\n",
       "      <td>24665.0</td>\n",
       "      <td>4232.0</td>\n",
       "      <td>1.0</td>\n",
       "      <td>796.0</td>\n",
       "      <td>3.0</td>\n",
       "      <td>381.0</td>\n",
       "      <td>NaN</td>\n",
       "    </tr>\n",
       "    <tr>\n",
       "      <td>23695</td>\n",
       "      <td>14</td>\n",
       "      <td>3100000.0</td>\n",
       "      <td>59.00</td>\n",
       "      <td>2018-01-15T00:00:00</td>\n",
       "      <td>3</td>\n",
       "      <td>NaN</td>\n",
       "      <td>5.0</td>\n",
       "      <td>38.0</td>\n",
       "      <td>4</td>\n",
       "      <td>NaN</td>\n",
       "      <td>...</td>\n",
       "      <td>8.50</td>\n",
       "      <td>NaN</td>\n",
       "      <td>Тосно</td>\n",
       "      <td>NaN</td>\n",
       "      <td>NaN</td>\n",
       "      <td>NaN</td>\n",
       "      <td>NaN</td>\n",
       "      <td>NaN</td>\n",
       "      <td>NaN</td>\n",
       "      <td>45.0</td>\n",
       "    </tr>\n",
       "    <tr>\n",
       "      <td>23696</td>\n",
       "      <td>18</td>\n",
       "      <td>2500000.0</td>\n",
       "      <td>56.70</td>\n",
       "      <td>2018-02-11T00:00:00</td>\n",
       "      <td>2</td>\n",
       "      <td>NaN</td>\n",
       "      <td>3.0</td>\n",
       "      <td>29.7</td>\n",
       "      <td>1</td>\n",
       "      <td>NaN</td>\n",
       "      <td>...</td>\n",
       "      <td>NaN</td>\n",
       "      <td>NaN</td>\n",
       "      <td>село Рождествено</td>\n",
       "      <td>NaN</td>\n",
       "      <td>NaN</td>\n",
       "      <td>NaN</td>\n",
       "      <td>NaN</td>\n",
       "      <td>NaN</td>\n",
       "      <td>NaN</td>\n",
       "      <td>NaN</td>\n",
       "    </tr>\n",
       "    <tr>\n",
       "      <td>23697</td>\n",
       "      <td>13</td>\n",
       "      <td>11475000.0</td>\n",
       "      <td>76.75</td>\n",
       "      <td>2017-03-28T00:00:00</td>\n",
       "      <td>2</td>\n",
       "      <td>3.00</td>\n",
       "      <td>17.0</td>\n",
       "      <td>NaN</td>\n",
       "      <td>12</td>\n",
       "      <td>NaN</td>\n",
       "      <td>...</td>\n",
       "      <td>23.30</td>\n",
       "      <td>2.0</td>\n",
       "      <td>Санкт-Петербург</td>\n",
       "      <td>39140.0</td>\n",
       "      <td>10364.0</td>\n",
       "      <td>2.0</td>\n",
       "      <td>173.0</td>\n",
       "      <td>3.0</td>\n",
       "      <td>196.0</td>\n",
       "      <td>602.0</td>\n",
       "    </tr>\n",
       "    <tr>\n",
       "      <td>23698</td>\n",
       "      <td>4</td>\n",
       "      <td>1350000.0</td>\n",
       "      <td>32.30</td>\n",
       "      <td>2017-07-21T00:00:00</td>\n",
       "      <td>1</td>\n",
       "      <td>2.50</td>\n",
       "      <td>5.0</td>\n",
       "      <td>12.3</td>\n",
       "      <td>1</td>\n",
       "      <td>NaN</td>\n",
       "      <td>...</td>\n",
       "      <td>9.00</td>\n",
       "      <td>NaN</td>\n",
       "      <td>поселок Новый Учхоз</td>\n",
       "      <td>NaN</td>\n",
       "      <td>NaN</td>\n",
       "      <td>NaN</td>\n",
       "      <td>NaN</td>\n",
       "      <td>NaN</td>\n",
       "      <td>NaN</td>\n",
       "      <td>NaN</td>\n",
       "    </tr>\n",
       "  </tbody>\n",
       "</table>\n",
       "<p>23699 rows × 22 columns</p>\n",
       "</div>"
      ],
      "text/plain": [
       "       total_images  last_price  total_area first_day_exposition  rooms  \\\n",
       "0                20  13000000.0      108.00  2019-03-07T00:00:00      3   \n",
       "1                 7   3350000.0       40.40  2018-12-04T00:00:00      1   \n",
       "2                10   5196000.0       56.00  2015-08-20T00:00:00      2   \n",
       "3                 0  64900000.0      159.00  2015-07-24T00:00:00      3   \n",
       "4                 2  10000000.0      100.00  2018-06-19T00:00:00      2   \n",
       "...             ...         ...         ...                  ...    ...   \n",
       "23694             9   9700000.0      133.81  2017-03-21T00:00:00      3   \n",
       "23695            14   3100000.0       59.00  2018-01-15T00:00:00      3   \n",
       "23696            18   2500000.0       56.70  2018-02-11T00:00:00      2   \n",
       "23697            13  11475000.0       76.75  2017-03-28T00:00:00      2   \n",
       "23698             4   1350000.0       32.30  2017-07-21T00:00:00      1   \n",
       "\n",
       "       ceiling_height  floors_total  living_area  floor is_apartment  ...  \\\n",
       "0                2.70          16.0         51.0      8          NaN  ...   \n",
       "1                 NaN          11.0         18.6      1          NaN  ...   \n",
       "2                 NaN           5.0         34.3      4          NaN  ...   \n",
       "3                 NaN          14.0          NaN      9          NaN  ...   \n",
       "4                3.03          14.0         32.0     13          NaN  ...   \n",
       "...               ...           ...          ...    ...          ...  ...   \n",
       "23694            3.70           5.0         73.3      3          NaN  ...   \n",
       "23695             NaN           5.0         38.0      4          NaN  ...   \n",
       "23696             NaN           3.0         29.7      1          NaN  ...   \n",
       "23697            3.00          17.0          NaN     12          NaN  ...   \n",
       "23698            2.50           5.0         12.3      1          NaN  ...   \n",
       "\n",
       "       kitchen_area  balcony        locality_name  airports_nearest  \\\n",
       "0             25.00      NaN      Санкт-Петербург           18863.0   \n",
       "1             11.00      2.0       посёлок Шушары           12817.0   \n",
       "2              8.30      0.0      Санкт-Петербург           21741.0   \n",
       "3               NaN      0.0      Санкт-Петербург           28098.0   \n",
       "4             41.00      NaN      Санкт-Петербург           31856.0   \n",
       "...             ...      ...                  ...               ...   \n",
       "23694         13.83      NaN      Санкт-Петербург           24665.0   \n",
       "23695          8.50      NaN                Тосно               NaN   \n",
       "23696           NaN      NaN     село Рождествено               NaN   \n",
       "23697         23.30      2.0      Санкт-Петербург           39140.0   \n",
       "23698          9.00      NaN  поселок Новый Учхоз               NaN   \n",
       "\n",
       "      cityCenters_nearest  parks_around3000  parks_nearest  ponds_around3000  \\\n",
       "0                 16028.0               1.0          482.0               2.0   \n",
       "1                 18603.0               0.0            NaN               0.0   \n",
       "2                 13933.0               1.0           90.0               2.0   \n",
       "3                  6800.0               2.0           84.0               3.0   \n",
       "4                  8098.0               2.0          112.0               1.0   \n",
       "...                   ...               ...            ...               ...   \n",
       "23694              4232.0               1.0          796.0               3.0   \n",
       "23695                 NaN               NaN            NaN               NaN   \n",
       "23696                 NaN               NaN            NaN               NaN   \n",
       "23697             10364.0               2.0          173.0               3.0   \n",
       "23698                 NaN               NaN            NaN               NaN   \n",
       "\n",
       "       ponds_nearest  days_exposition  \n",
       "0              755.0              NaN  \n",
       "1                NaN             81.0  \n",
       "2              574.0            558.0  \n",
       "3              234.0            424.0  \n",
       "4               48.0            121.0  \n",
       "...              ...              ...  \n",
       "23694          381.0              NaN  \n",
       "23695            NaN             45.0  \n",
       "23696            NaN              NaN  \n",
       "23697          196.0            602.0  \n",
       "23698            NaN              NaN  \n",
       "\n",
       "[23699 rows x 22 columns]"
      ]
     },
     "metadata": {},
     "output_type": "display_data"
    },
    {
     "name": "stdout",
     "output_type": "stream",
     "text": [
      "<class 'pandas.core.frame.DataFrame'>\n",
      "RangeIndex: 23699 entries, 0 to 23698\n",
      "Data columns (total 22 columns):\n",
      "total_images            23699 non-null int64\n",
      "last_price              23699 non-null float64\n",
      "total_area              23699 non-null float64\n",
      "first_day_exposition    23699 non-null object\n",
      "rooms                   23699 non-null int64\n",
      "ceiling_height          14504 non-null float64\n",
      "floors_total            23613 non-null float64\n",
      "living_area             21796 non-null float64\n",
      "floor                   23699 non-null int64\n",
      "is_apartment            2775 non-null object\n",
      "studio                  23699 non-null bool\n",
      "open_plan               23699 non-null bool\n",
      "kitchen_area            21421 non-null float64\n",
      "balcony                 12180 non-null float64\n",
      "locality_name           23650 non-null object\n",
      "airports_nearest        18157 non-null float64\n",
      "cityCenters_nearest     18180 non-null float64\n",
      "parks_around3000        18181 non-null float64\n",
      "parks_nearest           8079 non-null float64\n",
      "ponds_around3000        18181 non-null float64\n",
      "ponds_nearest           9110 non-null float64\n",
      "days_exposition         20518 non-null float64\n",
      "dtypes: bool(2), float64(14), int64(3), object(3)\n",
      "memory usage: 3.7+ MB\n"
     ]
    }
   ],
   "source": [
    "df = pd.read_csv('real_estate_data.csv', sep='\\t')\n",
    "display(df)\n",
    "df.info() "
   ]
  },
  {
   "cell_type": "markdown",
   "metadata": {},
   "source": [
    "**Вывод**<br>Можно увидеть что очень много float64 объектов, которые можно перевести в Int64\n"
   ]
  },
  {
   "cell_type": "markdown",
   "metadata": {},
   "source": [
    "## Предобработка данных"
   ]
  },
  {
   "cell_type": "code",
   "execution_count": 3,
   "metadata": {
    "scrolled": false
   },
   "outputs": [],
   "source": [
    "# заменим пропущенные значения в столбце 'balcony' на 0\n",
    "df['balcony'] = df['balcony'].fillna(0)\n",
    "\n",
    "# дальше изменим тип столбеца first_day_exposition на datetime64\n",
    "df['first_day_exposition'] = pd.to_datetime(df['first_day_exposition'], format='%Y-%m-%dT%H:%M:%S')\n",
    "\n",
    "# в столбеце 'is_apartment'(bool type) присутствуют значения 'nan', которые я заменю на False.\n",
    "df['is_apartment'] = df['is_apartment'].fillna(False)\n",
    "\n",
    "# переведу столбецы из типа float64 в int64\n",
    "df['floors_total'] = df['floors_total'].astype('Int64')\n",
    "df['airports_nearest'] = df['airports_nearest'].astype('Int64')\n",
    "df['cityCenters_nearest'] = df['cityCenters_nearest'].astype('Int64')\n",
    "df['balcony'] = df['balcony'].astype('Int64')\n",
    "df['parks_around3000'] = df['parks_around3000'].astype('Int64')\n",
    "df['ponds_around3000'] = df['ponds_around3000'].astype('Int64')\n",
    "df['ponds_nearest'] = df['ponds_nearest'].astype('Int64')\n",
    "df['parks_nearest'] = df['parks_nearest'].astype('Int64')\n",
    "df['days_exposition'] = df['days_exposition'].round(0).astype('Int64')\n",
    "\n",
    "\n",
    "# изменим столбец last_price - разделим на миллион, чтобы было удобнее считать.\n",
    "df['last_price'] = ((df['last_price'] / 1000000).round(2)).astype('float64')"
   ]
  },
  {
   "cell_type": "markdown",
   "metadata": {},
   "source": [
    "## Расчёты и добавление результатов в таблицу"
   ]
  },
  {
   "cell_type": "code",
   "execution_count": 4,
   "metadata": {
    "scrolled": false
   },
   "outputs": [
    {
     "data": {
      "text/html": [
       "<div>\n",
       "<style scoped>\n",
       "    .dataframe tbody tr th:only-of-type {\n",
       "        vertical-align: middle;\n",
       "    }\n",
       "\n",
       "    .dataframe tbody tr th {\n",
       "        vertical-align: top;\n",
       "    }\n",
       "\n",
       "    .dataframe thead th {\n",
       "        text-align: right;\n",
       "    }\n",
       "</style>\n",
       "<table border=\"1\" class=\"dataframe\">\n",
       "  <thead>\n",
       "    <tr style=\"text-align: right;\">\n",
       "      <th></th>\n",
       "      <th>total_images</th>\n",
       "      <th>last_price</th>\n",
       "      <th>total_area</th>\n",
       "      <th>first_day_exposition</th>\n",
       "      <th>rooms</th>\n",
       "      <th>ceiling_height</th>\n",
       "      <th>floors_total</th>\n",
       "      <th>living_area</th>\n",
       "      <th>floor</th>\n",
       "      <th>is_apartment</th>\n",
       "      <th>...</th>\n",
       "      <th>ponds_around3000</th>\n",
       "      <th>ponds_nearest</th>\n",
       "      <th>days_exposition</th>\n",
       "      <th>price_per_square_meter</th>\n",
       "      <th>publication_year</th>\n",
       "      <th>publication_month</th>\n",
       "      <th>publication_week_day</th>\n",
       "      <th>apartment_floor</th>\n",
       "      <th>percent_of_living_area</th>\n",
       "      <th>percent_of_kitchen</th>\n",
       "    </tr>\n",
       "  </thead>\n",
       "  <tbody>\n",
       "    <tr>\n",
       "      <td>0</td>\n",
       "      <td>20</td>\n",
       "      <td>13.00</td>\n",
       "      <td>108.0</td>\n",
       "      <td>2019-03-07</td>\n",
       "      <td>3</td>\n",
       "      <td>2.70</td>\n",
       "      <td>16</td>\n",
       "      <td>51.0</td>\n",
       "      <td>8</td>\n",
       "      <td>False</td>\n",
       "      <td>...</td>\n",
       "      <td>2</td>\n",
       "      <td>755</td>\n",
       "      <td>NaN</td>\n",
       "      <td>0</td>\n",
       "      <td>2019</td>\n",
       "      <td>3</td>\n",
       "      <td>Thursday</td>\n",
       "      <td>Other</td>\n",
       "      <td>0.47</td>\n",
       "      <td>0.23</td>\n",
       "    </tr>\n",
       "    <tr>\n",
       "      <td>1</td>\n",
       "      <td>7</td>\n",
       "      <td>3.35</td>\n",
       "      <td>40.4</td>\n",
       "      <td>2018-12-04</td>\n",
       "      <td>1</td>\n",
       "      <td>NaN</td>\n",
       "      <td>11</td>\n",
       "      <td>18.6</td>\n",
       "      <td>1</td>\n",
       "      <td>False</td>\n",
       "      <td>...</td>\n",
       "      <td>0</td>\n",
       "      <td>NaN</td>\n",
       "      <td>81</td>\n",
       "      <td>0</td>\n",
       "      <td>2018</td>\n",
       "      <td>12</td>\n",
       "      <td>Tuesday</td>\n",
       "      <td>First</td>\n",
       "      <td>0.46</td>\n",
       "      <td>0.27</td>\n",
       "    </tr>\n",
       "    <tr>\n",
       "      <td>2</td>\n",
       "      <td>10</td>\n",
       "      <td>5.20</td>\n",
       "      <td>56.0</td>\n",
       "      <td>2015-08-20</td>\n",
       "      <td>2</td>\n",
       "      <td>NaN</td>\n",
       "      <td>5</td>\n",
       "      <td>34.3</td>\n",
       "      <td>4</td>\n",
       "      <td>False</td>\n",
       "      <td>...</td>\n",
       "      <td>2</td>\n",
       "      <td>574</td>\n",
       "      <td>558</td>\n",
       "      <td>0</td>\n",
       "      <td>2015</td>\n",
       "      <td>8</td>\n",
       "      <td>Thursday</td>\n",
       "      <td>Other</td>\n",
       "      <td>0.61</td>\n",
       "      <td>0.15</td>\n",
       "    </tr>\n",
       "    <tr>\n",
       "      <td>3</td>\n",
       "      <td>0</td>\n",
       "      <td>64.90</td>\n",
       "      <td>159.0</td>\n",
       "      <td>2015-07-24</td>\n",
       "      <td>3</td>\n",
       "      <td>NaN</td>\n",
       "      <td>14</td>\n",
       "      <td>NaN</td>\n",
       "      <td>9</td>\n",
       "      <td>False</td>\n",
       "      <td>...</td>\n",
       "      <td>3</td>\n",
       "      <td>234</td>\n",
       "      <td>424</td>\n",
       "      <td>0</td>\n",
       "      <td>2015</td>\n",
       "      <td>7</td>\n",
       "      <td>Friday</td>\n",
       "      <td>Other</td>\n",
       "      <td>NaN</td>\n",
       "      <td>NaN</td>\n",
       "    </tr>\n",
       "    <tr>\n",
       "      <td>4</td>\n",
       "      <td>2</td>\n",
       "      <td>10.00</td>\n",
       "      <td>100.0</td>\n",
       "      <td>2018-06-19</td>\n",
       "      <td>2</td>\n",
       "      <td>3.03</td>\n",
       "      <td>14</td>\n",
       "      <td>32.0</td>\n",
       "      <td>13</td>\n",
       "      <td>False</td>\n",
       "      <td>...</td>\n",
       "      <td>1</td>\n",
       "      <td>48</td>\n",
       "      <td>121</td>\n",
       "      <td>0</td>\n",
       "      <td>2018</td>\n",
       "      <td>6</td>\n",
       "      <td>Tuesday</td>\n",
       "      <td>Other</td>\n",
       "      <td>0.32</td>\n",
       "      <td>0.41</td>\n",
       "    </tr>\n",
       "  </tbody>\n",
       "</table>\n",
       "<p>5 rows × 29 columns</p>\n",
       "</div>"
      ],
      "text/plain": [
       "   total_images  last_price  total_area first_day_exposition  rooms  \\\n",
       "0            20       13.00       108.0           2019-03-07      3   \n",
       "1             7        3.35        40.4           2018-12-04      1   \n",
       "2            10        5.20        56.0           2015-08-20      2   \n",
       "3             0       64.90       159.0           2015-07-24      3   \n",
       "4             2       10.00       100.0           2018-06-19      2   \n",
       "\n",
       "   ceiling_height  floors_total  living_area  floor  is_apartment  ...  \\\n",
       "0            2.70            16         51.0      8         False  ...   \n",
       "1             NaN            11         18.6      1         False  ...   \n",
       "2             NaN             5         34.3      4         False  ...   \n",
       "3             NaN            14          NaN      9         False  ...   \n",
       "4            3.03            14         32.0     13         False  ...   \n",
       "\n",
       "   ponds_around3000  ponds_nearest  days_exposition  price_per_square_meter  \\\n",
       "0                 2            755              NaN                       0   \n",
       "1                 0            NaN               81                       0   \n",
       "2                 2            574              558                       0   \n",
       "3                 3            234              424                       0   \n",
       "4                 1             48              121                       0   \n",
       "\n",
       "  publication_year  publication_month  publication_week_day  apartment_floor  \\\n",
       "0             2019                  3              Thursday            Other   \n",
       "1             2018                 12               Tuesday            First   \n",
       "2             2015                  8              Thursday            Other   \n",
       "3             2015                  7                Friday            Other   \n",
       "4             2018                  6               Tuesday            Other   \n",
       "\n",
       "   percent_of_living_area  percent_of_kitchen  \n",
       "0                    0.47                0.23  \n",
       "1                    0.46                0.27  \n",
       "2                    0.61                0.15  \n",
       "3                     NaN                 NaN  \n",
       "4                    0.32                0.41  \n",
       "\n",
       "[5 rows x 29 columns]"
      ]
     },
     "metadata": {},
     "output_type": "display_data"
    },
    {
     "name": "stdout",
     "output_type": "stream",
     "text": [
      "<class 'pandas.core.frame.DataFrame'>\n",
      "RangeIndex: 23699 entries, 0 to 23698\n",
      "Data columns (total 29 columns):\n",
      "total_images              23699 non-null int64\n",
      "last_price                23699 non-null float64\n",
      "total_area                23699 non-null float64\n",
      "first_day_exposition      23699 non-null datetime64[ns]\n",
      "rooms                     23699 non-null int64\n",
      "ceiling_height            14504 non-null float64\n",
      "floors_total              23613 non-null Int64\n",
      "living_area               21796 non-null float64\n",
      "floor                     23699 non-null int64\n",
      "is_apartment              23699 non-null bool\n",
      "studio                    23699 non-null bool\n",
      "open_plan                 23699 non-null bool\n",
      "kitchen_area              21421 non-null float64\n",
      "balcony                   23699 non-null Int64\n",
      "locality_name             23650 non-null object\n",
      "airports_nearest          18157 non-null Int64\n",
      "cityCenters_nearest       18180 non-null Int64\n",
      "parks_around3000          18181 non-null Int64\n",
      "parks_nearest             8079 non-null Int64\n",
      "ponds_around3000          18181 non-null Int64\n",
      "ponds_nearest             9110 non-null Int64\n",
      "days_exposition           20518 non-null Int64\n",
      "price_per_square_meter    23699 non-null Int64\n",
      "publication_year          23699 non-null int64\n",
      "publication_month         23699 non-null int64\n",
      "publication_week_day      23699 non-null object\n",
      "apartment_floor           23699 non-null object\n",
      "percent_of_living_area    21796 non-null float64\n",
      "percent_of_kitchen        21421 non-null float64\n",
      "dtypes: Int64(10), bool(3), datetime64[ns](1), float64(7), int64(5), object(3)\n",
      "memory usage: 5.0+ MB\n"
     ]
    }
   ],
   "source": [
    "# создадим функцию которая будет определять этаж\n",
    "def apartment_floor_func(data):\n",
    "    if data['floor'] == data['floors_total']:\n",
    "        return 'Last'\n",
    "    elif data['floor'] == 1:\n",
    "        return 'First'\n",
    "    else:\n",
    "        return 'Other'\n",
    "\n",
    "# посчитаем цену квадратного метра окуруглив до целых\n",
    "df['price_per_square_meter'] = ((df['last_price'] / df['total_area']).round(0)).astype('Int64')\n",
    "\n",
    "# добавим столбцы с годом / месяцем / днём недели\n",
    "df['publication_year'] = pd.DatetimeIndex(df['first_day_exposition']).year\n",
    "df['publication_month'] = pd.DatetimeIndex(df['first_day_exposition']).month\n",
    "df['publication_week_day'] = df['first_day_exposition'].dt.weekday_name\n",
    "\n",
    "# создадим столбец с этажами квартир\n",
    "df['apartment_floor'] = df.apply(apartment_floor_func, axis=1)\n",
    "\n",
    "# создадим столбец который будет показывать соотношение жилой и общей площади\n",
    "df['percent_of_living_area'] = (df['living_area'] / df['total_area']).round(2) \n",
    "# создадим столбец который будет показывать отношение площади кухни к общей площади\n",
    "df['percent_of_kitchen'] = (df['kitchen_area'] / df['total_area']).round(2)\n",
    "\n",
    "\n",
    "display(df.head())\n",
    "df.info()"
   ]
  },
  {
   "cell_type": "markdown",
   "metadata": {},
   "source": [
    "## Исследовательский анализ данных"
   ]
  },
  {
   "cell_type": "markdown",
   "metadata": {},
   "source": [
    "### Изучите следующие параметры: площадь, цена, число комнат, высота потолков. \n",
    "Постройте гистограммы для каждого параметра."
   ]
  },
  {
   "cell_type": "code",
   "execution_count": 5,
   "metadata": {
    "scrolled": false
   },
   "outputs": [
    {
     "data": {
      "image/png": "[encoded data removed]",
      "text/plain": [
       "<Figure size 432x288 with 1 Axes>"
      ]
     },
     "metadata": {
      "needs_background": "light"
     },
     "output_type": "display_data"
    },
    {
     "data": {
      "image/png": "[encoded data removed]",
      "text/plain": [
       "<Figure size 432x288 with 1 Axes>"
      ]
     },
     "metadata": {
      "needs_background": "light"
     },
     "output_type": "display_data"
    },
    {
     "data": {
      "image/png": "[encoded data removed]",
      "text/plain": [
       "<Figure size 432x288 with 1 Axes>"
      ]
     },
     "metadata": {
      "needs_background": "light"
     },
     "output_type": "display_data"
    },
    {
     "data": {
      "image/png": "[encoded data removed]",
      "text/plain": [
       "<Figure size 432x288 with 1 Axes>"
      ]
     },
     "metadata": {
      "needs_background": "light"
     },
     "output_type": "display_data"
    }
   ],
   "source": [
    "# строим боксплоты и ограничиваем до выбросов\n",
    "df.boxplot(column='total_area')\n",
    "plt.ylim(0, 130)\n",
    "plt.show()\n",
    "\n",
    "df.boxplot(column='last_price')\n",
    "plt.ylim(0, 13)\n",
    "plt.show()\n",
    "\n",
    "df.boxplot(column='rooms')\n",
    "plt.ylim(0, 8)\n",
    "plt.show()\n",
    "\n",
    "df.boxplot(column='ceiling_height')\n",
    "plt.ylim(2, 3.5)\n",
    "plt.show()"
   ]
  },
  {
   "cell_type": "markdown",
   "metadata": {},
   "source": [
    "Теперь создаём гистограммы с ограничениями по выбросам."
   ]
  },
  {
   "cell_type": "code",
   "execution_count": 6,
   "metadata": {
    "scrolled": false
   },
   "outputs": [
    {
     "data": {
      "text/plain": [
       "<matplotlib.axes._subplots.AxesSubplot at 0x1354b4a9788>"
      ]
     },
     "execution_count": 6,
     "metadata": {},
     "output_type": "execute_result"
    },
    {
     "data": {
      "image/png": "[encoded data removed]",
      "text/plain": [
       "<Figure size 432x288 with 1 Axes>"
      ]
     },
     "metadata": {
      "needs_background": "light"
     },
     "output_type": "display_data"
    },
    {
     "data": {
      "image/png": "[encoded data removed]",
      "text/plain": [
       "<Figure size 432x288 with 1 Axes>"
      ]
     },
     "metadata": {
      "needs_background": "light"
     },
     "output_type": "display_data"
    },
    {
     "data": {
      "image/png": "[encoded data removed]",
      "text/plain": [
       "<Figure size 432x288 with 1 Axes>"
      ]
     },
     "metadata": {
      "needs_background": "light"
     },
     "output_type": "display_data"
    },
    {
     "data": {
      "image/png": "[encoded data removed]",
      "text/plain": [
       "<Figure size 432x288 with 1 Axes>"
      ]
     },
     "metadata": {
      "needs_background": "light"
     },
     "output_type": "display_data"
    }
   ],
   "source": [
    "# 1\n",
    "df.plot(kind='hist',\n",
    "        y='total_area',\n",
    "        bins=100,\n",
    "        range=(0, 120),\n",
    "        grid=True,\n",
    "        label='total_area')\n",
    "\n",
    "\n",
    "# 2\n",
    "df.plot(kind='hist',\n",
    "        y='last_price',\n",
    "        bins=24,\n",
    "        range=(0, 12),\n",
    "        grid=True,\n",
    "        label='last_price')\n",
    "\n",
    "\n",
    "# 3\n",
    "df.plot(kind='hist',\n",
    "        y='rooms',\n",
    "        bins=7,\n",
    "        range=(0, 7),\n",
    "        grid=True,\n",
    "        linewidth = 0.5,\n",
    "        label='rooms')\n",
    "\n",
    "\n",
    "# 4\n",
    "df.plot(kind='hist',\n",
    "        y='ceiling_height',\n",
    "        bins=8,\n",
    "        range=(2, 4),\n",
    "        grid=True,\n",
    "        label='ceiling_height')"
   ]
  },
  {
   "cell_type": "markdown",
   "metadata": {},
   "source": [
    "**Вывод:**\n",
    "\n",
    "***Площадь*** Можно увидеть, что большинство продаваемых квартир имеют площадь от 25 до 75 кв.м. Самый пик популярности достигают квартиры с площадью от 26 до 48 кв.м.\n",
    "\n",
    "***Цена:*** Большинство квартир продают от 2.5 до 5 млн.\n",
    "\n",
    "***Число комнат:*** Основная масса продаж состоит из 1, 2 комнатных квартир. Почти одинаковые продажи. Чуть менее популярны трех комнатные квартиры. Четырёх комнатные квартиры кратно меньше продаются, чем 1, 2 комнатные. Студии и квартиры с пятью и более комнат имеют очень маленькие продажи.\n",
    "\n",
    "***Высота потолков:*** Повальное большинство квартир имеет высоту потолков от 2.5 до 2.75 метров. Пик приходит на 2.5 метров. Реже встречаются квартиры с потолками от 2.75 до 3 метров, и еще реже квартиры с высотой 3 - 3.25. Квартиры с потолками больше 3.25 являются выбросами."
   ]
  },
  {
   "cell_type": "markdown",
   "metadata": {},
   "source": [
    "### Изучите время продажи квартиры. \n",
    "Постройте гистограмму. Посчитайте среднее и медиану. Опишите, сколько обычно занимает продажа. Когда можно считать, что продажи прошли очень быстро, а когда необычно долго?"
   ]
  },
  {
   "cell_type": "code",
   "execution_count": 7,
   "metadata": {
    "scrolled": true
   },
   "outputs": [
    {
     "data": {
      "text/plain": [
       "(0, 600)"
      ]
     },
     "execution_count": 7,
     "metadata": {},
     "output_type": "execute_result"
    },
    {
     "data": {
      "image/png": "[encoded data removed]",
      "text/plain": [
       "<Figure size 432x288 with 1 Axes>"
      ]
     },
     "metadata": {
      "needs_background": "light"
     },
     "output_type": "display_data"
    }
   ],
   "source": [
    "df.boxplot(column='days_exposition')\n",
    "plt.ylim(0, 600)"
   ]
  },
  {
   "cell_type": "markdown",
   "metadata": {},
   "source": [
    "Видим, что выбросы есть вплоть до 1600 дней, но основная масса продаж сосредоточена в диапазоне от 50 до ~230 дней. Выбросы начинаются с 500. Отсеим их."
   ]
  },
  {
   "cell_type": "code",
   "execution_count": 8,
   "metadata": {
    "scrolled": false
   },
   "outputs": [
    {
     "data": {
      "text/plain": [
       "<matplotlib.axes._subplots.AxesSubplot at 0x1354c627f08>"
      ]
     },
     "execution_count": 8,
     "metadata": {},
     "output_type": "execute_result"
    },
    {
     "data": {
      "image/png": "[encoded data removed]",
      "text/plain": [
       "<Figure size 432x288 with 1 Axes>"
      ]
     },
     "metadata": {
      "needs_background": "light"
     },
     "output_type": "display_data"
    }
   ],
   "source": [
    "df1 = df.query('(days_exposition < 500)')\n",
    "df1.plot(kind='hist',\n",
    "        y='days_exposition',\n",
    "        bins=50,\n",
    "#         range=(0, 100),\n",
    "        grid=True,\n",
    "        label='days_exposition')\n"
   ]
  },
  {
   "cell_type": "markdown",
   "metadata": {},
   "source": [
    "Можно увидеть, что большинство квартир продаются в период до 230 дней."
   ]
  },
  {
   "cell_type": "markdown",
   "metadata": {},
   "source": [
    "Выше в подзадаче \"Изучите следующие параметры: площадь, цена, число комнат, высота потолков\" я построил boxplot для параметров и в дальнейшем ограничил выбросы."
   ]
  },
  {
   "cell_type": "markdown",
   "metadata": {},
   "source": [
    "### Какие факторы больше всего влияют на стоимость квартиры? \n",
    "Изучите, зависит ли цена от площади, числа комнат, удалённости от центра. \n",
    "Изучите зависимость цены от того, на каком этаже расположена квартира: первом, последнем или другом. \n",
    "Также изучите зависимость от даты размещения: дня недели, месяца и года."
   ]
  },
  {
   "cell_type": "markdown",
   "metadata": {},
   "source": [
    "**Площадь**"
   ]
  },
  {
   "cell_type": "code",
   "execution_count": 9,
   "metadata": {
    "scrolled": false
   },
   "outputs": [
    {
     "data": {
      "text/plain": [
       "<matplotlib.axes._subplots.AxesSubplot at 0x1354c832188>"
      ]
     },
     "execution_count": 9,
     "metadata": {},
     "output_type": "execute_result"
    },
    {
     "data": {
      "image/png": "[encoded data removed]",
      "text/plain": [
       "<Figure size 720x360 with 1 Axes>"
      ]
     },
     "metadata": {
      "needs_background": "light"
     },
     "output_type": "display_data"
    }
   ],
   "source": [
    "df.plot(x='total_area', y='last_price', kind='scatter', figsize = (10, 5)) #, alpha=0.01)"
   ]
  },
  {
   "cell_type": "markdown",
   "metadata": {},
   "source": [
    "**Число комнат**"
   ]
  },
  {
   "cell_type": "code",
   "execution_count": 10,
   "metadata": {
    "scrolled": true
   },
   "outputs": [
    {
     "data": {
      "text/plain": [
       "<matplotlib.axes._subplots.AxesSubplot at 0x1354cc9c108>"
      ]
     },
     "execution_count": 10,
     "metadata": {},
     "output_type": "execute_result"
    },
    {
     "data": {
      "image/png": "[encoded data removed]",
      "text/plain": [
       "<Figure size 432x288 with 1 Axes>"
      ]
     },
     "metadata": {
      "needs_background": "light"
     },
     "output_type": "display_data"
    }
   ],
   "source": [
    "# создаем сводную таблицу и график по ней\n",
    "rooms_price = df.pivot_table(index='rooms', values='last_price', aggfunc='median')\n",
    "rooms_price.plot(y='last_price', kind='bar')"
   ]
  },
  {
   "cell_type": "markdown",
   "metadata": {},
   "source": [
    "Квартиры с 12 комнатами выбиваются. Взглянем поближе:"
   ]
  },
  {
   "cell_type": "code",
   "execution_count": 11,
   "metadata": {},
   "outputs": [
    {
     "data": {
      "text/html": [
       "<div>\n",
       "<style scoped>\n",
       "    .dataframe tbody tr th:only-of-type {\n",
       "        vertical-align: middle;\n",
       "    }\n",
       "\n",
       "    .dataframe tbody tr th {\n",
       "        vertical-align: top;\n",
       "    }\n",
       "\n",
       "    .dataframe thead th {\n",
       "        text-align: right;\n",
       "    }\n",
       "</style>\n",
       "<table border=\"1\" class=\"dataframe\">\n",
       "  <thead>\n",
       "    <tr style=\"text-align: right;\">\n",
       "      <th></th>\n",
       "      <th>total_images</th>\n",
       "      <th>last_price</th>\n",
       "      <th>total_area</th>\n",
       "      <th>first_day_exposition</th>\n",
       "      <th>rooms</th>\n",
       "      <th>ceiling_height</th>\n",
       "      <th>floors_total</th>\n",
       "      <th>living_area</th>\n",
       "      <th>floor</th>\n",
       "      <th>is_apartment</th>\n",
       "      <th>...</th>\n",
       "      <th>ponds_around3000</th>\n",
       "      <th>ponds_nearest</th>\n",
       "      <th>days_exposition</th>\n",
       "      <th>price_per_square_meter</th>\n",
       "      <th>publication_year</th>\n",
       "      <th>publication_month</th>\n",
       "      <th>publication_week_day</th>\n",
       "      <th>apartment_floor</th>\n",
       "      <th>percent_of_living_area</th>\n",
       "      <th>percent_of_kitchen</th>\n",
       "    </tr>\n",
       "  </thead>\n",
       "  <tbody>\n",
       "    <tr>\n",
       "      <td>19540</td>\n",
       "      <td>8</td>\n",
       "      <td>420.0</td>\n",
       "      <td>900.0</td>\n",
       "      <td>2017-12-06</td>\n",
       "      <td>12</td>\n",
       "      <td>2.8</td>\n",
       "      <td>25</td>\n",
       "      <td>409.7</td>\n",
       "      <td>25</td>\n",
       "      <td>False</td>\n",
       "      <td>...</td>\n",
       "      <td>2</td>\n",
       "      <td>318</td>\n",
       "      <td>106</td>\n",
       "      <td>0</td>\n",
       "      <td>2017</td>\n",
       "      <td>12</td>\n",
       "      <td>Wednesday</td>\n",
       "      <td>Last</td>\n",
       "      <td>0.46</td>\n",
       "      <td>0.12</td>\n",
       "    </tr>\n",
       "  </tbody>\n",
       "</table>\n",
       "<p>1 rows × 29 columns</p>\n",
       "</div>"
      ],
      "text/plain": [
       "       total_images  last_price  total_area first_day_exposition  rooms  \\\n",
       "19540             8       420.0       900.0           2017-12-06     12   \n",
       "\n",
       "       ceiling_height  floors_total  living_area  floor  is_apartment  ...  \\\n",
       "19540             2.8            25        409.7     25         False  ...   \n",
       "\n",
       "       ponds_around3000  ponds_nearest  days_exposition  \\\n",
       "19540                 2            318              106   \n",
       "\n",
       "       price_per_square_meter publication_year  publication_month  \\\n",
       "19540                       0             2017                 12   \n",
       "\n",
       "       publication_week_day  apartment_floor  percent_of_living_area  \\\n",
       "19540             Wednesday             Last                    0.46   \n",
       "\n",
       "       percent_of_kitchen  \n",
       "19540                0.12  \n",
       "\n",
       "[1 rows x 29 columns]"
      ]
     },
     "execution_count": 11,
     "metadata": {},
     "output_type": "execute_result"
    }
   ],
   "source": [
    "df[df['rooms'] == 12]"
   ]
  },
  {
   "cell_type": "markdown",
   "metadata": {},
   "source": [
    "Видим, что квартира одна. Можем смело ограничивать по цене."
   ]
  },
  {
   "cell_type": "code",
   "execution_count": 12,
   "metadata": {},
   "outputs": [
    {
     "data": {
      "text/plain": [
       "(0, 70)"
      ]
     },
     "execution_count": 12,
     "metadata": {},
     "output_type": "execute_result"
    },
    {
     "data": {
      "image/png": "[encoded data removed]",
      "text/plain": [
       "<Figure size 432x288 with 1 Axes>"
      ]
     },
     "metadata": {
      "needs_background": "light"
     },
     "output_type": "display_data"
    }
   ],
   "source": [
    "rooms_price.plot(y='last_price', kind='bar')\n",
    "plt.ylim(0, 70)"
   ]
  },
  {
   "cell_type": "markdown",
   "metadata": {},
   "source": [
    "Видим плавный рост цены до 7 комнатных квартир. Потом медианная цена варьируется в районе +- 20-40 млн."
   ]
  },
  {
   "cell_type": "markdown",
   "metadata": {},
   "source": [
    "**Удалённость от центра**"
   ]
  },
  {
   "cell_type": "code",
   "execution_count": 13,
   "metadata": {
    "scrolled": false
   },
   "outputs": [
    {
     "data": {
      "text/plain": [
       "(0, 50)"
      ]
     },
     "execution_count": 13,
     "metadata": {},
     "output_type": "execute_result"
    },
    {
     "data": {
      "image/png": "[encoded data removed]",
      "text/plain": [
       "<Figure size 432x288 with 1 Axes>"
      ]
     },
     "metadata": {
      "needs_background": "light"
     },
     "output_type": "display_data"
    },
    {
     "data": {
      "image/png": "[encoded data removed]",
      "text/plain": [
       "<Figure size 1080x360 with 1 Axes>"
      ]
     },
     "metadata": {
      "needs_background": "light"
     },
     "output_type": "display_data"
    },
    {
     "data": {
      "image/png": "[encoded data removed]",
      "text/plain": [
       "<Figure size 1080x360 with 1 Axes>"
      ]
     },
     "metadata": {
      "needs_background": "light"
     },
     "output_type": "display_data"
    }
   ],
   "source": [
    "df.boxplot(column='cityCenters_nearest')\n",
    "# убираем выбросы. это всё больше 26км\n",
    "plt.ylim(0, 30000)\n",
    "\n",
    "# общае представление о площади к цене (выбросы больше 200 я убрал)\n",
    "df.plot(x='cityCenters_nearest', y='last_price', kind='scatter', figsize = (15, 5)) #, alpha=0.1)\n",
    "plt.ylim(0, 200)\n",
    "\n",
    "# теперь ограничимся 30км и стоимостью до 50 млн\n",
    "df.plot(x='cityCenters_nearest', y='last_price', kind='scatter', figsize = (15, 5)) #, alpha=0.1)\n",
    "plt.xlim(0, 30000)\n",
    "plt.ylim(0, 50)"
   ]
  },
  {
   "cell_type": "markdown",
   "metadata": {},
   "source": [
    "Мы видим, что большинство квартир не зависимо от расстояния до центра продаются за цену в диапазоне 10 млн. \n",
    "\n",
    "Но всё-таки можно заметить постепенный спад цены в зависимости от расстояния. Если средняя цена до 5 км сотавляет ~11-13 млн, то уже до 17 км она составляет 8-10 млн.\n",
    "\n",
    "По \"ящику с усами\" можно увидеть, что большинство квартир покупают на расстоянии от 9 до 16 км от центра.\n",
    "\n",
    "Среднее расстояние равняется 14.191 км от центра"
   ]
  },
  {
   "cell_type": "markdown",
   "metadata": {},
   "source": [
    "**Этаж**"
   ]
  },
  {
   "cell_type": "code",
   "execution_count": 14,
   "metadata": {
    "scrolled": false
   },
   "outputs": [
    {
     "data": {
      "text/html": [
       "<div>\n",
       "<style scoped>\n",
       "    .dataframe tbody tr th:only-of-type {\n",
       "        vertical-align: middle;\n",
       "    }\n",
       "\n",
       "    .dataframe tbody tr th {\n",
       "        vertical-align: top;\n",
       "    }\n",
       "\n",
       "    .dataframe thead th {\n",
       "        text-align: right;\n",
       "    }\n",
       "</style>\n",
       "<table border=\"1\" class=\"dataframe\">\n",
       "  <thead>\n",
       "    <tr style=\"text-align: right;\">\n",
       "      <th></th>\n",
       "      <th>last_price</th>\n",
       "    </tr>\n",
       "    <tr>\n",
       "      <th>apartment_floor</th>\n",
       "      <th></th>\n",
       "    </tr>\n",
       "  </thead>\n",
       "  <tbody>\n",
       "    <tr>\n",
       "      <td>First</td>\n",
       "      <td>3.90</td>\n",
       "    </tr>\n",
       "    <tr>\n",
       "      <td>Last</td>\n",
       "      <td>4.30</td>\n",
       "    </tr>\n",
       "    <tr>\n",
       "      <td>Other</td>\n",
       "      <td>4.85</td>\n",
       "    </tr>\n",
       "  </tbody>\n",
       "</table>\n",
       "</div>"
      ],
      "text/plain": [
       "                 last_price\n",
       "apartment_floor            \n",
       "First                  3.90\n",
       "Last                   4.30\n",
       "Other                  4.85"
      ]
     },
     "metadata": {},
     "output_type": "display_data"
    },
    {
     "data": {
      "text/plain": [
       "<matplotlib.axes._subplots.AxesSubplot at 0x1354c96e888>"
      ]
     },
     "execution_count": 14,
     "metadata": {},
     "output_type": "execute_result"
    },
    {
     "data": {
      "image/png": "[encoded data removed]",
      "text/plain": [
       "<Figure size 432x288 with 1 Axes>"
      ]
     },
     "metadata": {
      "needs_background": "light"
     },
     "output_type": "display_data"
    }
   ],
   "source": [
    "floors_price = df.pivot_table(index='apartment_floor', values='last_price', aggfunc='median')\n",
    "display(floors_price)\n",
    "floors_price.plot(y='last_price', kind='bar')"
   ]
  },
  {
   "cell_type": "markdown",
   "metadata": {},
   "source": [
    "Мы видим, что квартиры на первом этаже являются самыми дешевыми. На втором месте по стоимости идут квартиры на последнем этаже. Они уже стоят чуть дороже. "
   ]
  },
  {
   "cell_type": "markdown",
   "metadata": {},
   "source": [
    "**Год, месяц, день недели**"
   ]
  },
  {
   "cell_type": "code",
   "execution_count": 15,
   "metadata": {
    "scrolled": false
   },
   "outputs": [
    {
     "data": {
      "text/html": [
       "<div>\n",
       "<style scoped>\n",
       "    .dataframe tbody tr th:only-of-type {\n",
       "        vertical-align: middle;\n",
       "    }\n",
       "\n",
       "    .dataframe tbody tr th {\n",
       "        vertical-align: top;\n",
       "    }\n",
       "\n",
       "    .dataframe thead th {\n",
       "        text-align: right;\n",
       "    }\n",
       "</style>\n",
       "<table border=\"1\" class=\"dataframe\">\n",
       "  <thead>\n",
       "    <tr style=\"text-align: right;\">\n",
       "      <th></th>\n",
       "      <th>last_price</th>\n",
       "    </tr>\n",
       "    <tr>\n",
       "      <th>publication_year</th>\n",
       "      <th></th>\n",
       "    </tr>\n",
       "  </thead>\n",
       "  <tbody>\n",
       "    <tr>\n",
       "      <td>2014</td>\n",
       "      <td>7.70</td>\n",
       "    </tr>\n",
       "    <tr>\n",
       "      <td>2015</td>\n",
       "      <td>5.35</td>\n",
       "    </tr>\n",
       "    <tr>\n",
       "      <td>2016</td>\n",
       "      <td>4.55</td>\n",
       "    </tr>\n",
       "    <tr>\n",
       "      <td>2017</td>\n",
       "      <td>4.50</td>\n",
       "    </tr>\n",
       "    <tr>\n",
       "      <td>2018</td>\n",
       "      <td>4.55</td>\n",
       "    </tr>\n",
       "    <tr>\n",
       "      <td>2019</td>\n",
       "      <td>5.05</td>\n",
       "    </tr>\n",
       "  </tbody>\n",
       "</table>\n",
       "</div>"
      ],
      "text/plain": [
       "                  last_price\n",
       "publication_year            \n",
       "2014                    7.70\n",
       "2015                    5.35\n",
       "2016                    4.55\n",
       "2017                    4.50\n",
       "2018                    4.55\n",
       "2019                    5.05"
      ]
     },
     "metadata": {},
     "output_type": "display_data"
    },
    {
     "data": {
      "text/plain": [
       "(0, 7)"
      ]
     },
     "execution_count": 15,
     "metadata": {},
     "output_type": "execute_result"
    },
    {
     "data": {
      "image/png": "[encoded data removed]",
      "text/plain": [
       "<Figure size 432x288 with 1 Axes>"
      ]
     },
     "metadata": {
      "needs_background": "light"
     },
     "output_type": "display_data"
    },
    {
     "data": {
      "image/png": "[encoded data removed]",
      "text/plain": [
       "<Figure size 432x288 with 1 Axes>"
      ]
     },
     "metadata": {
      "needs_background": "light"
     },
     "output_type": "display_data"
    }
   ],
   "source": [
    "# год\n",
    "year_price = df.pivot_table(index='publication_year', values='last_price', aggfunc='median')\n",
    "display(year_price)\n",
    "\n",
    "# месяц\n",
    "month_price = df.pivot_table(index='publication_month', values='last_price', aggfunc='median')\n",
    "month_price.plot(y='last_price', kind='bar')\n",
    "plt.ylim(0, 6)\n",
    "\n",
    "# день недели\n",
    "week_day_price = df.pivot_table(index='publication_week_day', values='last_price', aggfunc='median').sort_values(by='last_price')\n",
    "week_day_price.plot(y='last_price', kind='bar')\n",
    "plt.ylim(0, 7)"
   ]
  },
  {
   "cell_type": "markdown",
   "metadata": {},
   "source": [
    "**Год:** Можно пронаблюдать, что медиана цены была самой высокой в 2014 - примерно 7.5 млн. Она проседала до 4.5 млн в 2017, и сейчас стала расти - 5.05 млн.\n",
    "\n",
    "**Месяц:** В апреле медиана стоимости самая высокая ~4.8 млн. А в июне самая низкая ~4.4 млн\n",
    "\n",
    "**День недели:** В воскресенье совершаются самые недорогие сделки (медиана равна 4.55 млн), а во вторник самые дорогие (медиана равна 4.73 млн)"
   ]
  },
  {
   "cell_type": "markdown",
   "metadata": {},
   "source": [
    "### Выберите 10 населённых пунктов с наибольшим числом объявлений. \n",
    "Посчитайте среднюю цену квадратного метра в этих населённых пунктах. Выделите населённые пункты с самой высокой и низкой стоимостью жилья. Эти данные можно найти по имени в столбце *locality_name*."
   ]
  },
  {
   "cell_type": "code",
   "execution_count": 16,
   "metadata": {
    "scrolled": false
   },
   "outputs": [
    {
     "data": {
      "text/html": [
       "<div>\n",
       "<style scoped>\n",
       "    .dataframe tbody tr th:only-of-type {\n",
       "        vertical-align: middle;\n",
       "    }\n",
       "\n",
       "    .dataframe tbody tr th {\n",
       "        vertical-align: top;\n",
       "    }\n",
       "\n",
       "    .dataframe thead th {\n",
       "        text-align: right;\n",
       "    }\n",
       "</style>\n",
       "<table border=\"1\" class=\"dataframe\">\n",
       "  <thead>\n",
       "    <tr style=\"text-align: right;\">\n",
       "      <th></th>\n",
       "      <th>count</th>\n",
       "      <th>mean</th>\n",
       "      <th>max</th>\n",
       "      <th>min</th>\n",
       "    </tr>\n",
       "    <tr>\n",
       "      <th>locality_name</th>\n",
       "      <th></th>\n",
       "      <th></th>\n",
       "      <th></th>\n",
       "      <th></th>\n",
       "    </tr>\n",
       "  </thead>\n",
       "  <tbody>\n",
       "    <tr>\n",
       "      <td>All</td>\n",
       "      <td>23650</td>\n",
       "      <td>60.329069</td>\n",
       "      <td>900.0</td>\n",
       "      <td>12.0</td>\n",
       "    </tr>\n",
       "    <tr>\n",
       "      <td>Санкт-Петербург</td>\n",
       "      <td>15721</td>\n",
       "      <td>64.751488</td>\n",
       "      <td>900.0</td>\n",
       "      <td>12.0</td>\n",
       "    </tr>\n",
       "    <tr>\n",
       "      <td>посёлок Мурино</td>\n",
       "      <td>522</td>\n",
       "      <td>44.133448</td>\n",
       "      <td>98.1</td>\n",
       "      <td>20.0</td>\n",
       "    </tr>\n",
       "    <tr>\n",
       "      <td>посёлок Шушары</td>\n",
       "      <td>440</td>\n",
       "      <td>53.821273</td>\n",
       "      <td>128.0</td>\n",
       "      <td>17.0</td>\n",
       "    </tr>\n",
       "    <tr>\n",
       "      <td>Всеволожск</td>\n",
       "      <td>398</td>\n",
       "      <td>56.022186</td>\n",
       "      <td>152.0</td>\n",
       "      <td>20.0</td>\n",
       "    </tr>\n",
       "    <tr>\n",
       "      <td>Пушкин</td>\n",
       "      <td>369</td>\n",
       "      <td>61.552791</td>\n",
       "      <td>380.0</td>\n",
       "      <td>18.4</td>\n",
       "    </tr>\n",
       "    <tr>\n",
       "      <td>Колпино</td>\n",
       "      <td>338</td>\n",
       "      <td>53.231479</td>\n",
       "      <td>347.5</td>\n",
       "      <td>22.0</td>\n",
       "    </tr>\n",
       "    <tr>\n",
       "      <td>посёлок Парголово</td>\n",
       "      <td>327</td>\n",
       "      <td>51.521407</td>\n",
       "      <td>201.5</td>\n",
       "      <td>24.0</td>\n",
       "    </tr>\n",
       "    <tr>\n",
       "      <td>Гатчина</td>\n",
       "      <td>307</td>\n",
       "      <td>50.942932</td>\n",
       "      <td>147.8</td>\n",
       "      <td>26.0</td>\n",
       "    </tr>\n",
       "    <tr>\n",
       "      <td>деревня Кудрово</td>\n",
       "      <td>299</td>\n",
       "      <td>46.571739</td>\n",
       "      <td>116.6</td>\n",
       "      <td>20.0</td>\n",
       "    </tr>\n",
       "    <tr>\n",
       "      <td>Выборг</td>\n",
       "      <td>237</td>\n",
       "      <td>56.150042</td>\n",
       "      <td>186.0</td>\n",
       "      <td>22.0</td>\n",
       "    </tr>\n",
       "  </tbody>\n",
       "</table>\n",
       "</div>"
      ],
      "text/plain": [
       "                   count       mean    max   min\n",
       "locality_name                                   \n",
       "All                23650  60.329069  900.0  12.0\n",
       "Санкт-Петербург    15721  64.751488  900.0  12.0\n",
       "посёлок Мурино       522  44.133448   98.1  20.0\n",
       "посёлок Шушары       440  53.821273  128.0  17.0\n",
       "Всеволожск           398  56.022186  152.0  20.0\n",
       "Пушкин               369  61.552791  380.0  18.4\n",
       "Колпино              338  53.231479  347.5  22.0\n",
       "посёлок Парголово    327  51.521407  201.5  24.0\n",
       "Гатчина              307  50.942932  147.8  26.0\n",
       "деревня Кудрово      299  46.571739  116.6  20.0\n",
       "Выборг               237  56.150042  186.0  22.0"
      ]
     },
     "metadata": {},
     "output_type": "display_data"
    }
   ],
   "source": [
    "top10 = df.pivot_table(index='locality_name', \n",
    "                       values='total_area', \n",
    "                       aggfunc=['count', 'mean', 'max', 'min'], \n",
    "                       margins=True).sort_values(('count', 'total_area'), ascending=False).head(11)\n",
    "top10.columns = ['count', 'mean', 'max', 'min']\n",
    "display(top10)"
   ]
  },
  {
   "cell_type": "markdown",
   "metadata": {},
   "source": [
    "### Изучите предложения квартир: для каждой квартиры есть информация о расстоянии до центра.\n",
    "Выделите квартиры в Санкт-Петербурге (locality_name). Ваша задача — выяснить, какая область входит в центр. Создайте столбец с расстоянием до центра в километрах: округлите до целых значений. После этого посчитайте среднюю цену для каждого километра. Постройте график: он должен показывать, как цена зависит от удалённости от центра. Определите границу, где график сильно меняется, — это и будет центральная зона."
   ]
  },
  {
   "cell_type": "code",
   "execution_count": 17,
   "metadata": {},
   "outputs": [
    {
     "name": "stderr",
     "output_type": "stream",
     "text": [
      "C:\\Users\\George\\.conda\\envs\\praktikum_env_win_new\\lib\\site-packages\\ipykernel_launcher.py:3: SettingWithCopyWarning: \n",
      "A value is trying to be set on a copy of a slice from a DataFrame.\n",
      "Try using .loc[row_indexer,col_indexer] = value instead\n",
      "\n",
      "See the caveats in the documentation: http://pandas.pydata.org/pandas-docs/stable/user_guide/indexing.html#returning-a-view-versus-a-copy\n",
      "  This is separate from the ipykernel package so we can avoid doing imports until\n"
     ]
    }
   ],
   "source": [
    "# создаём таблицу и столбец с расстоянием в км \n",
    "df_spb = df[df['locality_name'] == 'Санкт-Петербург']\n",
    "df_spb['cityCenters_nearest_km'] = (df_spb['cityCenters_nearest'] / 1000).round(0)"
   ]
  },
  {
   "cell_type": "code",
   "execution_count": 18,
   "metadata": {
    "scrolled": false
   },
   "outputs": [
    {
     "data": {
      "image/png": "[encoded data removed]",
      "text/plain": [
       "<Figure size 432x288 with 1 Axes>"
      ]
     },
     "metadata": {
      "needs_background": "light"
     },
     "output_type": "display_data"
    },
    {
     "data": {
      "image/png": "[encoded data removed]",
      "text/plain": [
       "<Figure size 432x288 with 1 Axes>"
      ]
     },
     "metadata": {
      "needs_background": "light"
     },
     "output_type": "display_data"
    }
   ],
   "source": [
    "# строим боксплоты\n",
    "df_spb.boxplot(column='last_price')\n",
    "plt.ylim(0, 15)\n",
    "plt.show()\n",
    "\n",
    "df_spb.boxplot(column='cityCenters_nearest_km')\n",
    "# plt.ylim(0, 16)\n",
    "plt.show()\n"
   ]
  },
  {
   "cell_type": "markdown",
   "metadata": {},
   "source": [
    "Итак. Будем считать, что центр питера находится в радиусе 8 км, тогда:"
   ]
  },
  {
   "cell_type": "code",
   "execution_count": 19,
   "metadata": {
    "scrolled": true
   },
   "outputs": [
    {
     "data": {
      "text/plain": [
       "<matplotlib.axes._subplots.AxesSubplot at 0x1354b42ba08>"
      ]
     },
     "execution_count": 19,
     "metadata": {},
     "output_type": "execute_result"
    },
    {
     "data": {
      "image/png": "[encoded data removed]",
      "text/plain": [
       "<Figure size 432x288 with 1 Axes>"
      ]
     },
     "metadata": {
      "needs_background": "light"
     },
     "output_type": "display_data"
    }
   ],
   "source": [
    "df_spb_center = df_spb[df_spb['cityCenters_nearest_km'] <= 8]\n",
    "df_spb_center['cityCenters_nearest_km'].hist(bins=8)"
   ]
  },
  {
   "cell_type": "markdown",
   "metadata": {},
   "source": [
    "### Выделите сегмент квартир в центре. \n",
    "Проанализируйте эту территорию и изучите следующие параметры: площадь, цена, число комнат, высота потолков. Также выделите факторы, которые влияют на стоимость квартиры (число комнат, этаж, удалённость от центра, дата размещения объявления). Сделайте выводы. Отличаются ли они от общих выводов по всему городу?"
   ]
  },
  {
   "cell_type": "markdown",
   "metadata": {},
   "source": [
    "**Площадь:**\n",
    "Сравним площади квартир только в центре и площади всех квартир в Питере."
   ]
  },
  {
   "cell_type": "code",
   "execution_count": 20,
   "metadata": {},
   "outputs": [
    {
     "data": {
      "image/png": "[encoded data removed]",
      "text/plain": [
       "<Figure size 432x288 with 1 Axes>"
      ]
     },
     "metadata": {
      "needs_background": "light"
     },
     "output_type": "display_data"
    },
    {
     "data": {
      "image/png": "[encoded data removed]",
      "text/plain": [
       "<Figure size 432x288 with 1 Axes>"
      ]
     },
     "metadata": {
      "needs_background": "light"
     },
     "output_type": "display_data"
    }
   ],
   "source": [
    "df_spb.boxplot(column='total_area')\n",
    "plt.ylim(0, 125)\n",
    "plt.show()\n",
    "\n",
    "\n",
    "df_spb_center.boxplot(column='total_area')\n",
    "plt.ylim(0, 200)\n",
    "plt.show()"
   ]
  },
  {
   "cell_type": "markdown",
   "metadata": {},
   "source": [
    "Мы видим, что медианная прощадь для квартир в центре состовляет 76 кв.м., в то время как для всех квартир в Питере - 55 кв.м. "
   ]
  },
  {
   "cell_type": "markdown",
   "metadata": {},
   "source": [
    "**Цена:** Сравним цены квартир только в центре и цены всех квартир в Питере."
   ]
  },
  {
   "cell_type": "code",
   "execution_count": 21,
   "metadata": {},
   "outputs": [
    {
     "data": {
      "image/png": "[encoded data removed]",
      "text/plain": [
       "<Figure size 432x288 with 1 Axes>"
      ]
     },
     "metadata": {
      "needs_background": "light"
     },
     "output_type": "display_data"
    },
    {
     "data": {
      "image/png": "[encoded data removed]",
      "text/plain": [
       "<Figure size 432x288 with 1 Axes>"
      ]
     },
     "metadata": {
      "needs_background": "light"
     },
     "output_type": "display_data"
    }
   ],
   "source": [
    "df_spb.boxplot(column='last_price')\n",
    "plt.ylim(0, 15)\n",
    "plt.show()\n",
    "\n",
    "\n",
    "df_spb_center.boxplot(column='last_price')\n",
    "plt.ylim(0, 26)\n",
    "plt.show()"
   ]
  },
  {
   "cell_type": "markdown",
   "metadata": {},
   "source": [
    "Мы видим, что медианная цена для квартир в центре состовляет почти 9 млн - 8.96 млн, в то время как для всех квартир в Питере - 5.5 млн. Также видим, что выбросы начинаются с 25 млн, а не с 14 млн как в случае со всеми квартирами."
   ]
  },
  {
   "cell_type": "markdown",
   "metadata": {},
   "source": [
    "**Число комнат:** Сравним число комнат квартир только в центре и число комнат всех квартир в Питере."
   ]
  },
  {
   "cell_type": "code",
   "execution_count": 22,
   "metadata": {},
   "outputs": [
    {
     "data": {
      "image/png": "[encoded data removed]",
      "text/plain": [
       "<Figure size 432x288 with 1 Axes>"
      ]
     },
     "metadata": {
      "needs_background": "light"
     },
     "output_type": "display_data"
    },
    {
     "data": {
      "image/png": "[encoded data removed]",
      "text/plain": [
       "<Figure size 432x288 with 1 Axes>"
      ]
     },
     "metadata": {
      "needs_background": "light"
     },
     "output_type": "display_data"
    }
   ],
   "source": [
    "df_spb.boxplot(column='rooms')\n",
    "plt.ylim(0, 7)\n",
    "plt.show()\n",
    "\n",
    "df_spb_center.boxplot(column='rooms')\n",
    "plt.ylim(0, 7)\n",
    "plt.show()"
   ]
  },
  {
   "cell_type": "markdown",
   "metadata": {},
   "source": [
    "Мы видим, что медианное число комнат для квартир в центре состовляет 3, в то время как для всех квартир в Питере - 2. Но можно заметить, что выбросы начинаются с 4, а не с 6 как в случае со всеми квартирами."
   ]
  },
  {
   "cell_type": "markdown",
   "metadata": {},
   "source": [
    "**Высота потолков:** Сравним высоту потолков квартир только в центре и высоту потолков всех квартир в Питере."
   ]
  },
  {
   "cell_type": "code",
   "execution_count": 23,
   "metadata": {},
   "outputs": [
    {
     "name": "stdout",
     "output_type": "stream",
     "text": [
      "2.7\n",
      "3.0\n"
     ]
    }
   ],
   "source": [
    "print(df_spb['ceiling_height'].median())\n",
    "print(df_spb_center['ceiling_height'].median())"
   ]
  },
  {
   "cell_type": "code",
   "execution_count": 24,
   "metadata": {},
   "outputs": [
    {
     "data": {
      "image/png": "[encoded data removed]",
      "text/plain": [
       "<Figure size 432x288 with 1 Axes>"
      ]
     },
     "metadata": {
      "needs_background": "light"
     },
     "output_type": "display_data"
    },
    {
     "data": {
      "image/png": "[encoded data removed]",
      "text/plain": [
       "<Figure size 432x288 with 1 Axes>"
      ]
     },
     "metadata": {
      "needs_background": "light"
     },
     "output_type": "display_data"
    }
   ],
   "source": [
    "df_spb.boxplot(column='ceiling_height')\n",
    "plt.ylim(2, 4)\n",
    "plt.show()\n",
    "\n",
    "\n",
    "df_spb_center.boxplot(column='ceiling_height')\n",
    "plt.ylim(2, 4)\n",
    "plt.show()"
   ]
  },
  {
   "cell_type": "markdown",
   "metadata": {},
   "source": [
    "Мы видим, что медианная высота потолков для квартир в центре состовляет 3 метра, в то время как для всех квартир в Питере - 2.7 метров. Но можно заметить, что выбросы начинаются с 3.9 метров, а не с 3.3 метров как в случае со всеми квартирами."
   ]
  },
  {
   "cell_type": "markdown",
   "metadata": {},
   "source": [
    "**Теперь выделим факторы, которые влияют на стоимость квартиры**"
   ]
  },
  {
   "cell_type": "markdown",
   "metadata": {},
   "source": [
    "**Число комнат**"
   ]
  },
  {
   "cell_type": "code",
   "execution_count": 25,
   "metadata": {},
   "outputs": [
    {
     "data": {
      "image/png": "[encoded data removed]",
      "text/plain": [
       "<Figure size 432x288 with 1 Axes>"
      ]
     },
     "metadata": {
      "needs_background": "light"
     },
     "output_type": "display_data"
    }
   ],
   "source": [
    "spb_center_floors_price = df_spb_center.pivot_table(index='rooms', values='last_price', aggfunc='median')\n",
    "spb_center_floors_price.plot(y='last_price', kind='bar')\n",
    "plt.ylim(0, 30)\n",
    "plt.show()"
   ]
  },
  {
   "cell_type": "markdown",
   "metadata": {},
   "source": [
    "Видим, что квартиры в центре с таким же количеством комнат стоят дороже по сравнению со всем квартирами Питера"
   ]
  },
  {
   "cell_type": "markdown",
   "metadata": {},
   "source": [
    "**Этаж**"
   ]
  },
  {
   "cell_type": "code",
   "execution_count": 26,
   "metadata": {},
   "outputs": [
    {
     "data": {
      "image/png": "[encoded data removed]",
      "text/plain": [
       "<Figure size 432x288 with 1 Axes>"
      ]
     },
     "metadata": {
      "needs_background": "light"
     },
     "output_type": "display_data"
    }
   ],
   "source": [
    "spb_center_floor = df_spb_center.pivot_table(index='apartment_floor', values='last_price', aggfunc='median')\n",
    "spb_center_floor.plot(y='last_price', kind='bar')\n",
    "plt.show()"
   ]
  },
  {
   "cell_type": "markdown",
   "metadata": {},
   "source": [
    "Мы видим, что последних и других этажей сильно меньше, чем первых"
   ]
  },
  {
   "cell_type": "markdown",
   "metadata": {},
   "source": [
    "**Удалённость от центра**"
   ]
  },
  {
   "cell_type": "code",
   "execution_count": 27,
   "metadata": {},
   "outputs": [
    {
     "data": {
      "text/plain": [
       "(1, 8)"
      ]
     },
     "execution_count": 27,
     "metadata": {},
     "output_type": "execute_result"
    },
    {
     "data": {
      "image/png": "[encoded data removed]",
      "text/plain": [
       "<Figure size 432x288 with 1 Axes>"
      ]
     },
     "metadata": {
      "needs_background": "light"
     },
     "output_type": "display_data"
    }
   ],
   "source": [
    "spb_center_city_сenters_nearest_km = df_spb_center.pivot_table(index='cityCenters_nearest_km', values='last_price', aggfunc='median') #.sort_values(by='last_price')\n",
    "    \n",
    "spb_center_city_сenters_nearest_km.plot(y='last_price', kind='bar')\n",
    "plt.xlim(1, 8)"
   ]
  },
  {
   "cell_type": "markdown",
   "metadata": {},
   "source": [
    "Видим, что цена в среднем колеблется от 7.5 млн до 10 млн, если не брать в учет квартиру в 1 км от центра."
   ]
  },
  {
   "cell_type": "markdown",
   "metadata": {},
   "source": [
    "**Дата размещения объявления**"
   ]
  },
  {
   "cell_type": "code",
   "execution_count": 28,
   "metadata": {},
   "outputs": [
    {
     "data": {
      "text/plain": [
       "<matplotlib.axes._subplots.AxesSubplot at 0x1354c934ec8>"
      ]
     },
     "execution_count": 28,
     "metadata": {},
     "output_type": "execute_result"
    },
    {
     "data": {
      "image/png": "[encoded data removed]",
      "text/plain": [
       "<Figure size 432x288 with 1 Axes>"
      ]
     },
     "metadata": {
      "needs_background": "light"
     },
     "output_type": "display_data"
    },
    {
     "data": {
      "image/png": "[encoded data removed]",
      "text/plain": [
       "<Figure size 432x288 with 1 Axes>"
      ]
     },
     "metadata": {
      "needs_background": "light"
     },
     "output_type": "display_data"
    },
    {
     "data": {
      "image/png": "[encoded data removed]",
      "text/plain": [
       "<Figure size 432x288 with 1 Axes>"
      ]
     },
     "metadata": {
      "needs_background": "light"
     },
     "output_type": "display_data"
    }
   ],
   "source": [
    "# дни недели\n",
    "spb_center_floor = df_spb_center.pivot_table(index='publication_week_day', values='last_price', aggfunc='median').sort_values(by='last_price')\n",
    "spb_center_floor.plot(y='last_price', kind='bar')\n",
    "plt.ylim(0, 11)\n",
    "\n",
    "# месяц\n",
    "spb_center_floor = df_spb_center.pivot_table(index='publication_month', values='last_price', aggfunc='median').sort_values(by='last_price')\n",
    "spb_center_floor.plot(y='last_price', kind='bar')\n",
    "plt.ylim(0, 10)\n",
    "\n",
    "# год\n",
    "spb_center_floor = df_spb_center.pivot_table(index='publication_year', values='last_price', aggfunc='median').sort_values(by='last_price')\n",
    "spb_center_floor.plot(y='last_price', kind='bar')"
   ]
  },
  {
   "cell_type": "markdown",
   "metadata": {},
   "source": [
    "Опираясь на эту сводку можно сделать вывод, что чаще всего квартиры в центре питера покупали в воскресенье, в сентябре и в 2014 году."
   ]
  },
  {
   "cell_type": "markdown",
   "metadata": {},
   "source": [
    "## Общий вывод"
   ]
  },
  {
   "cell_type": "markdown",
   "metadata": {},
   "source": [
    "**Итак подводим итоги исследования**\n",
    "\n",
    "Мы узнали среднее время продажи квартиры. Оно составляет примерно 230 дней.\n",
    "\n",
    "Изучили факторы которые влияют на стоимость квартиры.\n",
    "\n",
    "Выбрали 10 населённых пунктов с наибольшим числом объявлений."
   ]
  }
 ],
 "metadata": {
  "ExecuteTimeLog": [
   {
    "duration": 626,
    "start_time": "2022-01-21T01:10:49.232Z"
   },
   {
    "duration": 61,
    "start_time": "2022-01-21T01:10:55.180Z"
   },
   {
    "duration": 85,
    "start_time": "2022-01-21T01:11:10.084Z"
   },
   {
    "duration": 98,
    "start_time": "2022-01-21T01:11:15.995Z"
   },
   {
    "duration": 81,
    "start_time": "2022-01-21T01:11:26.196Z"
   },
   {
    "duration": 80,
    "start_time": "2022-01-21T01:11:33.486Z"
   },
   {
    "duration": 94,
    "start_time": "2022-01-21T01:13:00.985Z"
   },
   {
    "duration": 84,
    "start_time": "2022-01-21T01:14:14.244Z"
   },
   {
    "duration": 11,
    "start_time": "2022-01-21T01:21:17.654Z"
   },
   {
    "duration": 2136,
    "start_time": "2022-01-21T01:29:55.941Z"
   },
   {
    "duration": 46,
    "start_time": "2022-01-21T01:30:21.212Z"
   },
   {
    "duration": 42,
    "start_time": "2022-01-21T01:30:44.652Z"
   },
   {
    "duration": 8,
    "start_time": "2022-01-21T01:32:51.858Z"
   },
   {
    "duration": 10,
    "start_time": "2022-01-21T01:36:49.341Z"
   },
   {
    "duration": 12,
    "start_time": "2022-01-21T01:37:01.604Z"
   },
   {
    "duration": 12,
    "start_time": "2022-01-21T01:41:38.969Z"
   },
   {
    "duration": 40,
    "start_time": "2022-01-21T01:41:56.720Z"
   },
   {
    "duration": 200,
    "start_time": "2022-01-21T01:42:51.315Z"
   },
   {
    "duration": 40,
    "start_time": "2022-01-21T01:43:20.139Z"
   },
   {
    "duration": 9,
    "start_time": "2022-01-21T01:43:38.688Z"
   },
   {
    "duration": 198,
    "start_time": "2022-01-21T01:43:54.862Z"
   },
   {
    "duration": 204,
    "start_time": "2022-01-21T01:45:01.649Z"
   },
   {
    "duration": 9,
    "start_time": "2022-01-21T01:46:23.214Z"
   },
   {
    "duration": 73,
    "start_time": "2022-01-21T01:46:28.483Z"
   },
   {
    "duration": 10,
    "start_time": "2022-01-21T01:46:37.497Z"
   },
   {
    "duration": 11,
    "start_time": "2022-01-21T01:47:30.234Z"
   },
   {
    "duration": 231,
    "start_time": "2022-01-21T01:48:08.445Z"
   },
   {
    "duration": 624,
    "start_time": "2022-01-21T01:48:12.278Z"
   },
   {
    "duration": 10,
    "start_time": "2022-01-21T01:48:12.904Z"
   },
   {
    "duration": 8,
    "start_time": "2022-01-21T01:50:46.085Z"
   },
   {
    "duration": 52,
    "start_time": "2022-01-21T01:50:49.740Z"
   },
   {
    "duration": 2,
    "start_time": "2022-01-21T17:51:05.117Z"
   },
   {
    "duration": 641,
    "start_time": "2022-01-21T17:51:14.237Z"
   },
   {
    "duration": 54,
    "start_time": "2022-01-21T17:51:17.993Z"
   },
   {
    "duration": 28,
    "start_time": "2022-01-21T17:52:47.731Z"
   },
   {
    "duration": 33,
    "start_time": "2022-01-21T17:55:14.002Z"
   },
   {
    "duration": 33,
    "start_time": "2022-01-21T18:02:30.815Z"
   },
   {
    "duration": 32,
    "start_time": "2022-01-21T18:03:02.847Z"
   },
   {
    "duration": 33,
    "start_time": "2022-01-21T18:03:27.051Z"
   },
   {
    "duration": 19,
    "start_time": "2022-01-21T18:03:56.117Z"
   },
   {
    "duration": 32,
    "start_time": "2022-01-21T18:04:13.686Z"
   },
   {
    "duration": 10,
    "start_time": "2022-01-21T18:04:57.117Z"
   },
   {
    "duration": 33,
    "start_time": "2022-01-21T18:05:18.105Z"
   },
   {
    "duration": 34,
    "start_time": "2022-01-21T18:05:55.584Z"
   },
   {
    "duration": 17,
    "start_time": "2022-01-21T18:06:01.261Z"
   },
   {
    "duration": 33,
    "start_time": "2022-01-21T18:06:08.012Z"
   },
   {
    "duration": 14,
    "start_time": "2022-01-21T18:06:18.120Z"
   },
   {
    "duration": 33,
    "start_time": "2022-01-21T18:06:26.428Z"
   },
   {
    "duration": 36,
    "start_time": "2022-01-21T18:06:49.464Z"
   },
   {
    "duration": 12,
    "start_time": "2022-01-21T18:07:00.759Z"
   },
   {
    "duration": 34,
    "start_time": "2022-01-21T18:07:11.954Z"
   },
   {
    "duration": 36,
    "start_time": "2022-01-21T18:07:24.939Z"
   },
   {
    "duration": 384,
    "start_time": "2022-01-21T18:07:52.266Z"
   },
   {
    "duration": 34,
    "start_time": "2022-01-21T18:08:06.645Z"
   },
   {
    "duration": 40,
    "start_time": "2022-01-21T18:08:15.406Z"
   },
   {
    "duration": 311,
    "start_time": "2022-01-21T18:08:30.038Z"
   },
   {
    "duration": 282,
    "start_time": "2022-01-21T18:08:33.255Z"
   },
   {
    "duration": 13,
    "start_time": "2022-01-21T18:09:22.999Z"
   },
   {
    "duration": 39,
    "start_time": "2022-01-21T18:12:23.871Z"
   },
   {
    "duration": 35,
    "start_time": "2022-01-21T18:12:28.040Z"
   },
   {
    "duration": 35,
    "start_time": "2022-01-21T18:13:08.871Z"
   },
   {
    "duration": 42,
    "start_time": "2022-01-21T18:13:48.913Z"
   },
   {
    "duration": 22,
    "start_time": "2022-01-21T18:25:19.513Z"
   },
   {
    "duration": 879,
    "start_time": "2022-01-22T14:09:20.952Z"
   },
   {
    "duration": 78,
    "start_time": "2022-01-22T14:09:21.834Z"
   },
   {
    "duration": 52,
    "start_time": "2022-01-22T14:09:21.915Z"
   },
   {
    "duration": 50,
    "start_time": "2022-01-22T14:26:44.646Z"
   },
   {
    "duration": 382,
    "start_time": "2022-01-22T14:28:03.668Z"
   },
   {
    "duration": 311,
    "start_time": "2022-01-22T14:28:32.696Z"
   },
   {
    "duration": 116,
    "start_time": "2022-01-22T14:32:00.149Z"
   },
   {
    "duration": 52,
    "start_time": "2022-01-22T14:32:06.083Z"
   },
   {
    "duration": 52,
    "start_time": "2022-01-22T14:32:11.479Z"
   },
   {
    "duration": 58,
    "start_time": "2022-01-22T14:32:40.817Z"
   },
   {
    "duration": 51,
    "start_time": "2022-01-22T14:32:57.938Z"
   },
   {
    "duration": 324,
    "start_time": "2022-01-22T14:49:26.320Z"
   },
   {
    "duration": 348,
    "start_time": "2022-01-22T14:49:41.270Z"
   },
   {
    "duration": 294,
    "start_time": "2022-01-22T14:49:47.096Z"
   },
   {
    "duration": 283,
    "start_time": "2022-01-22T14:49:54.965Z"
   },
   {
    "duration": 57,
    "start_time": "2022-01-22T14:50:00.355Z"
   },
   {
    "duration": 330,
    "start_time": "2022-01-22T14:50:39.806Z"
   },
   {
    "duration": 63,
    "start_time": "2022-01-22T14:50:47.386Z"
   },
   {
    "duration": 877,
    "start_time": "2022-01-22T14:50:56.975Z"
   },
   {
    "duration": 91,
    "start_time": "2022-01-22T14:50:57.855Z"
   },
   {
    "duration": 114,
    "start_time": "2022-01-22T14:50:57.950Z"
   },
   {
    "duration": 684,
    "start_time": "2022-01-24T11:28:20.510Z"
   },
   {
    "duration": 62,
    "start_time": "2022-01-24T11:28:21.197Z"
   },
   {
    "duration": 55,
    "start_time": "2022-01-24T11:28:21.261Z"
   },
   {
    "duration": 38,
    "start_time": "2022-01-24T11:30:12.808Z"
   },
   {
    "duration": 294,
    "start_time": "2022-01-24T11:30:40.641Z"
   },
   {
    "duration": 39,
    "start_time": "2022-01-24T11:31:22.945Z"
   },
   {
    "duration": 47,
    "start_time": "2022-01-24T11:32:09.841Z"
   },
   {
    "duration": 44,
    "start_time": "2022-01-24T11:32:26.722Z"
   },
   {
    "duration": 701,
    "start_time": "2022-01-24T11:32:37.986Z"
   },
   {
    "duration": 56,
    "start_time": "2022-01-24T11:32:38.689Z"
   },
   {
    "duration": 44,
    "start_time": "2022-01-24T11:32:38.746Z"
   },
   {
    "duration": 438,
    "start_time": "2022-01-24T12:12:36.729Z"
   },
   {
    "duration": 248,
    "start_time": "2022-01-24T12:13:38.382Z"
   },
   {
    "duration": 616,
    "start_time": "2022-01-24T12:13:48.782Z"
   },
   {
    "duration": 820,
    "start_time": "2022-01-24T12:36:52.773Z"
   },
   {
    "duration": 618,
    "start_time": "2022-01-24T12:37:36.779Z"
   },
   {
    "duration": 608,
    "start_time": "2022-01-24T12:37:51.032Z"
   },
   {
    "duration": 599,
    "start_time": "2022-01-24T12:38:10.673Z"
   },
   {
    "duration": 577,
    "start_time": "2022-01-24T12:38:33.246Z"
   },
   {
    "duration": 851,
    "start_time": "2022-01-24T12:39:00.253Z"
   },
   {
    "duration": 593,
    "start_time": "2022-01-24T12:39:03.777Z"
   },
   {
    "duration": 80,
    "start_time": "2022-01-24T12:50:06.901Z"
   },
   {
    "duration": 605,
    "start_time": "2022-01-24T12:50:10.863Z"
   },
   {
    "duration": 610,
    "start_time": "2022-01-24T12:52:55.473Z"
   },
   {
    "duration": 647,
    "start_time": "2022-01-24T12:53:22.496Z"
   },
   {
    "duration": 599,
    "start_time": "2022-01-24T12:59:30.393Z"
   },
   {
    "duration": 601,
    "start_time": "2022-01-24T12:59:50.886Z"
   },
   {
    "duration": 600,
    "start_time": "2022-01-24T12:59:55.466Z"
   },
   {
    "duration": 654,
    "start_time": "2022-01-24T13:00:20.818Z"
   },
   {
    "duration": 52,
    "start_time": "2022-01-24T13:00:21.474Z"
   },
   {
    "duration": 609,
    "start_time": "2022-01-24T13:00:21.528Z"
   },
   {
    "duration": 611,
    "start_time": "2022-01-24T13:00:45.885Z"
   },
   {
    "duration": 656,
    "start_time": "2022-01-24T13:28:11.993Z"
   },
   {
    "duration": 234,
    "start_time": "2022-01-24T13:29:36.568Z"
   },
   {
    "duration": 649,
    "start_time": "2022-01-24T13:35:06.136Z"
   },
   {
    "duration": 1038,
    "start_time": "2022-01-24T13:35:31.470Z"
   },
   {
    "duration": 790,
    "start_time": "2022-01-24T13:35:45.899Z"
   },
   {
    "duration": 366,
    "start_time": "2022-01-24T13:35:52.819Z"
   },
   {
    "duration": 925,
    "start_time": "2022-01-24T13:36:12.496Z"
   },
   {
    "duration": 169,
    "start_time": "2022-01-24T13:41:35.347Z"
   },
   {
    "duration": 1846,
    "start_time": "2022-01-24T13:41:43.737Z"
   },
   {
    "duration": 530,
    "start_time": "2022-01-24T13:42:02.500Z"
   },
   {
    "duration": 1890,
    "start_time": "2022-01-24T13:42:06.078Z"
   },
   {
    "duration": 8,
    "start_time": "2022-01-24T13:46:05.234Z"
   },
   {
    "duration": 1257,
    "start_time": "2022-01-24T13:47:22.490Z"
   },
   {
    "duration": 90,
    "start_time": "2022-01-24T13:47:46.319Z"
   },
   {
    "duration": 9,
    "start_time": "2022-01-24T13:47:50.149Z"
   },
   {
    "duration": 1400,
    "start_time": "2022-01-24T13:48:25.171Z"
   },
   {
    "duration": 1429,
    "start_time": "2022-01-24T13:48:41.082Z"
   },
   {
    "duration": 1282,
    "start_time": "2022-01-24T13:50:12.650Z"
   },
   {
    "duration": 366,
    "start_time": "2022-01-24T13:50:30.965Z"
   },
   {
    "duration": 333,
    "start_time": "2022-01-24T13:50:39.805Z"
   },
   {
    "duration": 328,
    "start_time": "2022-01-24T13:50:48.208Z"
   },
   {
    "duration": 594,
    "start_time": "2022-01-24T13:50:52.901Z"
   },
   {
    "duration": 337,
    "start_time": "2022-01-24T13:51:11.105Z"
   },
   {
    "duration": 351,
    "start_time": "2022-01-24T13:51:26.065Z"
   },
   {
    "duration": 9,
    "start_time": "2022-01-24T13:51:59.044Z"
   },
   {
    "duration": 351,
    "start_time": "2022-01-24T13:55:07.468Z"
   },
   {
    "duration": 176,
    "start_time": "2022-01-24T13:55:15.335Z"
   },
   {
    "duration": 178,
    "start_time": "2022-01-24T13:55:25.978Z"
   },
   {
    "duration": 199,
    "start_time": "2022-01-24T13:55:32.950Z"
   },
   {
    "duration": 2012,
    "start_time": "2022-01-24T13:55:36.554Z"
   },
   {
    "duration": 378,
    "start_time": "2022-01-24T14:10:43.195Z"
   },
   {
    "duration": 658,
    "start_time": "2022-01-24T14:15:32.663Z"
   },
   {
    "duration": 260,
    "start_time": "2022-01-24T14:16:21.616Z"
   },
   {
    "duration": 345,
    "start_time": "2022-01-24T14:27:08.137Z"
   },
   {
    "duration": 345,
    "start_time": "2022-01-24T14:27:15.539Z"
   },
   {
    "duration": 336,
    "start_time": "2022-01-24T14:27:46.911Z"
   },
   {
    "duration": 380,
    "start_time": "2022-01-24T14:27:55.372Z"
   },
   {
    "duration": 361,
    "start_time": "2022-01-24T14:28:20.906Z"
   },
   {
    "duration": 389,
    "start_time": "2022-01-24T14:28:28.336Z"
   },
   {
    "duration": 74,
    "start_time": "2022-01-24T14:30:47.231Z"
   },
   {
    "duration": 7,
    "start_time": "2022-01-24T14:32:49.584Z"
   },
   {
    "duration": 213,
    "start_time": "2022-01-24T14:35:19.629Z"
   },
   {
    "duration": 193,
    "start_time": "2022-01-24T14:35:32.277Z"
   },
   {
    "duration": 207,
    "start_time": "2022-01-24T14:35:37.805Z"
   },
   {
    "duration": 208,
    "start_time": "2022-01-24T14:35:49.266Z"
   },
   {
    "duration": 353,
    "start_time": "2022-01-24T14:36:23.446Z"
   },
   {
    "duration": 220,
    "start_time": "2022-01-24T14:36:42.792Z"
   },
   {
    "duration": 211,
    "start_time": "2022-01-24T14:36:51.935Z"
   },
   {
    "duration": 7,
    "start_time": "2022-01-24T14:38:54.624Z"
   },
   {
    "duration": 8,
    "start_time": "2022-01-24T14:39:11.451Z"
   },
   {
    "duration": 8,
    "start_time": "2022-01-24T14:39:16.432Z"
   },
   {
    "duration": 178,
    "start_time": "2022-01-24T14:39:31.887Z"
   },
   {
    "duration": 327,
    "start_time": "2022-01-24T14:39:45.560Z"
   },
   {
    "duration": 642,
    "start_time": "2022-01-24T14:40:03.077Z"
   },
   {
    "duration": 324,
    "start_time": "2022-01-24T14:40:09.806Z"
   },
   {
    "duration": 184,
    "start_time": "2022-01-24T14:40:24.983Z"
   },
   {
    "duration": 313,
    "start_time": "2022-01-24T14:40:28.756Z"
   },
   {
    "duration": 361,
    "start_time": "2022-01-24T14:41:07.612Z"
   },
   {
    "duration": 182,
    "start_time": "2022-01-24T14:41:11.641Z"
   },
   {
    "duration": 181,
    "start_time": "2022-01-24T14:41:16.980Z"
   },
   {
    "duration": 341,
    "start_time": "2022-01-24T14:43:32.698Z"
   },
   {
    "duration": 232,
    "start_time": "2022-01-24T14:45:22.036Z"
   },
   {
    "duration": -502,
    "start_time": "2022-01-24T14:46:07.191Z"
   },
   {
    "duration": 334,
    "start_time": "2022-01-24T14:46:13.352Z"
   },
   {
    "duration": 340,
    "start_time": "2022-01-24T14:47:19.127Z"
   },
   {
    "duration": 321,
    "start_time": "2022-01-24T14:47:23.998Z"
   },
   {
    "duration": 172,
    "start_time": "2022-01-24T14:47:27.489Z"
   },
   {
    "duration": 576,
    "start_time": "2022-01-24T14:47:52.163Z"
   },
   {
    "duration": 552,
    "start_time": "2022-01-24T14:48:06.767Z"
   },
   {
    "duration": 1153,
    "start_time": "2022-01-24T15:05:22.949Z"
   },
   {
    "duration": 567,
    "start_time": "2022-01-24T15:08:47.258Z"
   },
   {
    "duration": 796,
    "start_time": "2022-01-24T15:09:17.429Z"
   },
   {
    "duration": 741,
    "start_time": "2022-01-24T15:10:09.062Z"
   },
   {
    "duration": 417,
    "start_time": "2022-01-24T15:10:54.797Z"
   },
   {
    "duration": 854,
    "start_time": "2022-01-24T15:19:11.076Z"
   },
   {
    "duration": 1232,
    "start_time": "2022-01-24T15:19:31.874Z"
   },
   {
    "duration": 1623,
    "start_time": "2022-01-24T15:26:45.399Z"
   },
   {
    "duration": 73,
    "start_time": "2022-01-24T15:29:37.817Z"
   },
   {
    "duration": 1656,
    "start_time": "2022-01-24T15:29:46.784Z"
   },
   {
    "duration": 1750,
    "start_time": "2022-01-24T15:30:03.802Z"
   },
   {
    "duration": 1701,
    "start_time": "2022-01-24T15:30:10.280Z"
   },
   {
    "duration": 1728,
    "start_time": "2022-01-24T15:30:20.552Z"
   },
   {
    "duration": 1679,
    "start_time": "2022-01-24T15:37:36.387Z"
   },
   {
    "duration": 1701,
    "start_time": "2022-01-24T15:37:48.111Z"
   },
   {
    "duration": 1683,
    "start_time": "2022-01-24T15:38:14.743Z"
   },
   {
    "duration": 94,
    "start_time": "2022-01-24T15:38:18.139Z"
   },
   {
    "duration": 50,
    "start_time": "2022-01-24T15:38:18.234Z"
   },
   {
    "duration": 664,
    "start_time": "2022-01-24T15:38:18.286Z"
   },
   {
    "duration": 748,
    "start_time": "2022-01-24T15:38:26.243Z"
   },
   {
    "duration": -39,
    "start_time": "2022-01-24T15:38:27.032Z"
   },
   {
    "duration": -39,
    "start_time": "2022-01-24T15:38:27.035Z"
   },
   {
    "duration": -40,
    "start_time": "2022-01-24T15:38:27.038Z"
   },
   {
    "duration": 699,
    "start_time": "2022-01-24T15:38:33.194Z"
   },
   {
    "duration": 64,
    "start_time": "2022-01-24T15:38:33.895Z"
   },
   {
    "duration": 654,
    "start_time": "2022-01-24T15:38:33.961Z"
   },
   {
    "duration": 1811,
    "start_time": "2022-01-24T15:38:34.617Z"
   },
   {
    "duration": 240,
    "start_time": "2022-01-25T11:37:56.204Z"
   },
   {
    "duration": 795,
    "start_time": "2022-01-25T11:38:01.754Z"
   },
   {
    "duration": 82,
    "start_time": "2022-01-25T11:38:02.551Z"
   },
   {
    "duration": 696,
    "start_time": "2022-01-25T11:38:02.636Z"
   },
   {
    "duration": 1501,
    "start_time": "2022-01-25T11:38:03.333Z"
   },
   {
    "duration": 1568,
    "start_time": "2022-01-25T11:38:16.834Z"
   },
   {
    "duration": 1162,
    "start_time": "2022-01-25T11:39:21.022Z"
   },
   {
    "duration": 1563,
    "start_time": "2022-01-25T11:39:22.618Z"
   },
   {
    "duration": 5652,
    "start_time": "2022-01-25T11:39:50.457Z"
   },
   {
    "duration": 24,
    "start_time": "2022-01-25T11:44:58.187Z"
   },
   {
    "duration": 197,
    "start_time": "2022-01-25T11:45:55.790Z"
   },
   {
    "duration": 341,
    "start_time": "2022-01-25T11:46:29.959Z"
   },
   {
    "duration": 503,
    "start_time": "2022-01-25T11:48:57.037Z"
   },
   {
    "duration": 329,
    "start_time": "2022-01-25T11:49:15.258Z"
   },
   {
    "duration": 330,
    "start_time": "2022-01-25T11:52:54.258Z"
   },
   {
    "duration": 66,
    "start_time": "2022-01-25T11:53:08.689Z"
   },
   {
    "duration": 68,
    "start_time": "2022-01-25T11:53:12.444Z"
   },
   {
    "duration": 303,
    "start_time": "2022-01-25T11:53:18.072Z"
   },
   {
    "duration": 325,
    "start_time": "2022-01-25T11:53:24.259Z"
   },
   {
    "duration": 312,
    "start_time": "2022-01-25T11:55:19.853Z"
   },
   {
    "duration": 479,
    "start_time": "2022-01-25T11:55:33.698Z"
   },
   {
    "duration": 327,
    "start_time": "2022-01-25T11:55:39.870Z"
   },
   {
    "duration": 343,
    "start_time": "2022-01-25T11:56:36.995Z"
   },
   {
    "duration": 324,
    "start_time": "2022-01-25T11:56:47.699Z"
   },
   {
    "duration": 345,
    "start_time": "2022-01-25T11:56:51.150Z"
   },
   {
    "duration": 331,
    "start_time": "2022-01-25T11:56:53.911Z"
   },
   {
    "duration": 217,
    "start_time": "2022-01-25T11:58:15.805Z"
   },
   {
    "duration": 456,
    "start_time": "2022-01-25T11:58:20.339Z"
   },
   {
    "duration": 285,
    "start_time": "2022-01-25T11:58:25.416Z"
   },
   {
    "duration": 207,
    "start_time": "2022-01-25T11:58:30.956Z"
   },
   {
    "duration": 67,
    "start_time": "2022-01-25T11:58:48.440Z"
   },
   {
    "duration": 7,
    "start_time": "2022-01-25T11:58:52.068Z"
   },
   {
    "duration": 7,
    "start_time": "2022-01-25T11:59:05.632Z"
   },
   {
    "duration": 210,
    "start_time": "2022-01-25T12:02:29.159Z"
   },
   {
    "duration": 13,
    "start_time": "2022-01-25T12:02:52.713Z"
   },
   {
    "duration": 219,
    "start_time": "2022-01-25T12:03:26.138Z"
   },
   {
    "duration": 6,
    "start_time": "2022-01-25T12:03:57.446Z"
   },
   {
    "duration": 203,
    "start_time": "2022-01-25T12:04:10.231Z"
   },
   {
    "duration": 6,
    "start_time": "2022-01-25T12:04:12.538Z"
   },
   {
    "duration": 45,
    "start_time": "2022-01-25T12:04:48.086Z"
   },
   {
    "duration": 214,
    "start_time": "2022-01-25T12:05:05.756Z"
   },
   {
    "duration": 227,
    "start_time": "2022-01-25T12:05:14.961Z"
   },
   {
    "duration": 218,
    "start_time": "2022-01-25T12:05:19.267Z"
   },
   {
    "duration": 295,
    "start_time": "2022-01-25T12:05:24.805Z"
   },
   {
    "duration": 7,
    "start_time": "2022-01-25T12:07:04.726Z"
   },
   {
    "duration": 9,
    "start_time": "2022-01-25T12:07:13.825Z"
   },
   {
    "duration": 7,
    "start_time": "2022-01-25T12:07:19.386Z"
   },
   {
    "duration": 332,
    "start_time": "2022-01-25T12:08:07.960Z"
   },
   {
    "duration": 329,
    "start_time": "2022-01-25T12:08:19.494Z"
   },
   {
    "duration": 74,
    "start_time": "2022-01-25T12:13:22.971Z"
   },
   {
    "duration": 82,
    "start_time": "2022-01-25T12:13:45.951Z"
   },
   {
    "duration": 32,
    "start_time": "2022-01-25T12:13:51.041Z"
   },
   {
    "duration": 48,
    "start_time": "2022-01-25T12:13:55.757Z"
   },
   {
    "duration": 192,
    "start_time": "2022-01-25T12:14:15.291Z"
   },
   {
    "duration": 346,
    "start_time": "2022-01-25T12:14:31.637Z"
   },
   {
    "duration": 340,
    "start_time": "2022-01-25T12:14:44.367Z"
   },
   {
    "duration": 346,
    "start_time": "2022-01-25T12:15:07.508Z"
   },
   {
    "duration": 6,
    "start_time": "2022-01-25T12:16:24.275Z"
   },
   {
    "duration": 8,
    "start_time": "2022-01-25T12:16:28.165Z"
   },
   {
    "duration": 202,
    "start_time": "2022-01-25T12:16:32.798Z"
   },
   {
    "duration": 65,
    "start_time": "2022-01-25T12:16:36.362Z"
   },
   {
    "duration": 7,
    "start_time": "2022-01-25T12:16:39.697Z"
   },
   {
    "duration": 319,
    "start_time": "2022-01-25T12:27:39.766Z"
   },
   {
    "duration": 2541,
    "start_time": "2022-01-25T12:33:33.702Z"
   },
   {
    "duration": 193,
    "start_time": "2022-01-25T12:33:54.220Z"
   },
   {
    "duration": 213,
    "start_time": "2022-01-25T12:34:26.424Z"
   },
   {
    "duration": 927,
    "start_time": "2022-01-25T12:34:31.348Z"
   },
   {
    "duration": 198,
    "start_time": "2022-01-25T12:34:38.342Z"
   },
   {
    "duration": 584,
    "start_time": "2022-01-25T12:46:10.691Z"
   },
   {
    "duration": 612,
    "start_time": "2022-01-25T12:46:37.818Z"
   },
   {
    "duration": 595,
    "start_time": "2022-01-25T12:46:44.278Z"
   },
   {
    "duration": 529,
    "start_time": "2022-01-25T12:46:50.044Z"
   },
   {
    "duration": 559,
    "start_time": "2022-01-25T12:47:04.564Z"
   },
   {
    "duration": 220,
    "start_time": "2022-01-25T12:47:08.687Z"
   },
   {
    "duration": 321,
    "start_time": "2022-01-25T12:48:02.297Z"
   },
   {
    "duration": 537,
    "start_time": "2022-01-25T12:48:16.616Z"
   },
   {
    "duration": 74,
    "start_time": "2022-01-25T12:48:43.924Z"
   },
   {
    "duration": 476,
    "start_time": "2022-01-25T12:48:46.853Z"
   },
   {
    "duration": 405,
    "start_time": "2022-01-25T12:49:02.976Z"
   },
   {
    "duration": 497,
    "start_time": "2022-01-25T12:49:14.381Z"
   },
   {
    "duration": 345,
    "start_time": "2022-01-25T12:49:21.517Z"
   },
   {
    "duration": 235,
    "start_time": "2022-01-25T12:49:37.115Z"
   },
   {
    "duration": 206,
    "start_time": "2022-01-25T12:49:43.805Z"
   },
   {
    "duration": 196,
    "start_time": "2022-01-25T12:49:47.071Z"
   },
   {
    "duration": 346,
    "start_time": "2022-01-25T12:49:53.143Z"
   },
   {
    "duration": 372,
    "start_time": "2022-01-25T12:52:13.990Z"
   },
   {
    "duration": 1788,
    "start_time": "2022-01-25T12:55:05.851Z"
   },
   {
    "duration": 1392,
    "start_time": "2022-01-25T12:55:22.527Z"
   },
   {
    "duration": 2454,
    "start_time": "2022-01-25T13:02:28.999Z"
   },
   {
    "duration": 1420,
    "start_time": "2022-01-25T13:02:45.121Z"
   },
   {
    "duration": 1393,
    "start_time": "2022-01-25T13:02:57.055Z"
   },
   {
    "duration": 23,
    "start_time": "2022-01-25T13:05:35.894Z"
   },
   {
    "duration": 9,
    "start_time": "2022-01-25T13:06:04.207Z"
   },
   {
    "duration": 187,
    "start_time": "2022-01-25T13:07:22.709Z"
   },
   {
    "duration": 192,
    "start_time": "2022-01-25T13:07:42.032Z"
   },
   {
    "duration": 6,
    "start_time": "2022-01-25T13:08:09.371Z"
   },
   {
    "duration": 362,
    "start_time": "2022-01-25T13:08:09.503Z"
   },
   {
    "duration": 6,
    "start_time": "2022-01-25T13:08:17.269Z"
   },
   {
    "duration": 9,
    "start_time": "2022-01-25T13:08:25.948Z"
   },
   {
    "duration": 10,
    "start_time": "2022-01-25T13:08:37.867Z"
   },
   {
    "duration": 83,
    "start_time": "2022-01-25T13:11:11.315Z"
   },
   {
    "duration": 86,
    "start_time": "2022-01-25T13:17:35.498Z"
   },
   {
    "duration": 56,
    "start_time": "2022-01-25T13:17:35.586Z"
   },
   {
    "duration": 634,
    "start_time": "2022-01-25T13:17:35.661Z"
   },
   {
    "duration": 1385,
    "start_time": "2022-01-25T13:17:36.297Z"
   },
   {
    "duration": 355,
    "start_time": "2022-01-25T13:17:37.684Z"
   },
   {
    "duration": 644,
    "start_time": "2022-01-25T13:18:18.296Z"
   },
   {
    "duration": 62,
    "start_time": "2022-01-25T13:18:18.942Z"
   },
   {
    "duration": 642,
    "start_time": "2022-01-25T13:18:19.009Z"
   },
   {
    "duration": 1747,
    "start_time": "2022-01-25T13:18:19.653Z"
   },
   {
    "duration": 371,
    "start_time": "2022-01-25T13:18:21.401Z"
   },
   {
    "duration": 48,
    "start_time": "2022-01-25T13:26:23.878Z"
   },
   {
    "duration": 22,
    "start_time": "2022-01-25T13:26:31.064Z"
   },
   {
    "duration": 294,
    "start_time": "2022-01-25T13:29:15.491Z"
   },
   {
    "duration": 523,
    "start_time": "2022-01-25T13:29:31.147Z"
   },
   {
    "duration": -162,
    "start_time": "2022-01-25T13:29:54.756Z"
   },
   {
    "duration": 1114,
    "start_time": "2022-01-25T13:29:55.990Z"
   },
   {
    "duration": 435,
    "start_time": "2022-01-25T13:30:02.337Z"
   },
   {
    "duration": 304,
    "start_time": "2022-01-25T13:30:10.483Z"
   },
   {
    "duration": 648,
    "start_time": "2022-01-25T13:32:41.328Z"
   },
   {
    "duration": 487,
    "start_time": "2022-01-25T13:33:55.416Z"
   },
   {
    "duration": 485,
    "start_time": "2022-01-25T13:34:06.108Z"
   },
   {
    "duration": 571,
    "start_time": "2022-01-25T13:34:12.151Z"
   },
   {
    "duration": 567,
    "start_time": "2022-01-25T13:34:20.542Z"
   },
   {
    "duration": 720,
    "start_time": "2022-01-25T13:34:30.649Z"
   },
   {
    "duration": 494,
    "start_time": "2022-01-25T13:34:51.695Z"
   },
   {
    "duration": 395,
    "start_time": "2022-01-25T13:35:17.840Z"
   },
   {
    "duration": 403,
    "start_time": "2022-01-25T13:35:20.573Z"
   },
   {
    "duration": 404,
    "start_time": "2022-01-25T13:35:22.487Z"
   },
   {
    "duration": 733,
    "start_time": "2022-01-25T13:35:35.556Z"
   },
   {
    "duration": 705,
    "start_time": "2022-01-25T13:36:13.946Z"
   },
   {
    "duration": 571,
    "start_time": "2022-01-25T13:36:18.799Z"
   },
   {
    "duration": 492,
    "start_time": "2022-01-25T13:39:28.649Z"
   },
   {
    "duration": 548,
    "start_time": "2022-01-25T13:40:07.577Z"
   },
   {
    "duration": 520,
    "start_time": "2022-01-25T13:40:17.773Z"
   },
   {
    "duration": 459,
    "start_time": "2022-01-25T13:42:57.280Z"
   },
   {
    "duration": 430,
    "start_time": "2022-01-25T13:43:03.865Z"
   },
   {
    "duration": 451,
    "start_time": "2022-01-25T13:43:09.275Z"
   },
   {
    "duration": 762,
    "start_time": "2022-01-25T13:43:49.774Z"
   },
   {
    "duration": 71,
    "start_time": "2022-01-25T13:43:50.539Z"
   },
   {
    "duration": 662,
    "start_time": "2022-01-25T13:43:50.613Z"
   },
   {
    "duration": 1486,
    "start_time": "2022-01-25T13:43:51.277Z"
   },
   {
    "duration": 362,
    "start_time": "2022-01-25T13:43:52.765Z"
   },
   {
    "duration": 21,
    "start_time": "2022-01-25T13:43:53.129Z"
   },
   {
    "duration": 442,
    "start_time": "2022-01-25T13:43:53.162Z"
   },
   {
    "duration": 541,
    "start_time": "2022-01-25T13:43:57.171Z"
   },
   {
    "duration": 277,
    "start_time": "2022-01-25T13:46:43.684Z"
   },
   {
    "duration": 740,
    "start_time": "2022-01-25T13:47:18.859Z"
   },
   {
    "duration": 67,
    "start_time": "2022-01-25T13:47:19.602Z"
   },
   {
    "duration": 635,
    "start_time": "2022-01-25T13:47:19.671Z"
   },
   {
    "duration": 2130,
    "start_time": "2022-01-25T13:47:20.308Z"
   },
   {
    "duration": 350,
    "start_time": "2022-01-25T13:47:22.439Z"
   },
   {
    "duration": 20,
    "start_time": "2022-01-25T13:47:22.791Z"
   },
   {
    "duration": 525,
    "start_time": "2022-01-25T13:47:22.813Z"
   },
   {
    "duration": 266,
    "start_time": "2022-01-25T13:47:52.289Z"
   },
   {
    "duration": 8,
    "start_time": "2022-01-25T13:48:08.087Z"
   },
   {
    "duration": 7,
    "start_time": "2022-01-25T13:48:21.665Z"
   },
   {
    "duration": 210,
    "start_time": "2022-01-25T13:48:30.636Z"
   },
   {
    "duration": 9,
    "start_time": "2022-01-25T13:48:36.812Z"
   },
   {
    "duration": 1471,
    "start_time": "2022-01-25T13:49:02.263Z"
   },
   {
    "duration": 9,
    "start_time": "2022-01-25T13:49:36.766Z"
   },
   {
    "duration": 10,
    "start_time": "2022-01-25T13:50:09.667Z"
   },
   {
    "duration": 9,
    "start_time": "2022-01-25T13:50:14.092Z"
   },
   {
    "duration": 120,
    "start_time": "2022-01-25T13:51:03.310Z"
   },
   {
    "duration": 1376,
    "start_time": "2022-01-25T13:51:13.431Z"
   },
   {
    "duration": 18,
    "start_time": "2022-01-25T13:51:30.079Z"
   },
   {
    "duration": 701,
    "start_time": "2022-01-25T13:51:48.723Z"
   },
   {
    "duration": 62,
    "start_time": "2022-01-25T13:51:49.426Z"
   },
   {
    "duration": 899,
    "start_time": "2022-01-25T13:51:49.490Z"
   },
   {
    "duration": 11,
    "start_time": "2022-01-25T13:51:50.391Z"
   },
   {
    "duration": 1921,
    "start_time": "2022-01-25T13:51:50.404Z"
   },
   {
    "duration": 694,
    "start_time": "2022-01-25T13:51:52.327Z"
   },
   {
    "duration": 38,
    "start_time": "2022-01-25T13:51:53.023Z"
   },
   {
    "duration": 574,
    "start_time": "2022-01-25T13:51:53.063Z"
   },
   {
    "duration": 8,
    "start_time": "2022-01-25T13:52:00.294Z"
   },
   {
    "duration": 8,
    "start_time": "2022-01-25T13:52:04.210Z"
   },
   {
    "duration": 180,
    "start_time": "2022-01-25T13:52:42.558Z"
   },
   {
    "duration": 1363,
    "start_time": "2022-01-25T13:52:44.403Z"
   },
   {
    "duration": 1298,
    "start_time": "2022-01-25T13:53:36.016Z"
   },
   {
    "duration": 1489,
    "start_time": "2022-01-25T13:53:54.506Z"
   },
   {
    "duration": 572,
    "start_time": "2022-01-25T13:54:35.589Z"
   },
   {
    "duration": 286,
    "start_time": "2022-01-25T13:54:44.812Z"
   },
   {
    "duration": 759,
    "start_time": "2022-01-25T13:55:16.457Z"
   },
   {
    "duration": 62,
    "start_time": "2022-01-25T13:55:17.218Z"
   },
   {
    "duration": 627,
    "start_time": "2022-01-25T13:55:17.283Z"
   },
   {
    "duration": 127,
    "start_time": "2022-01-25T13:55:17.912Z"
   },
   {
    "duration": 1461,
    "start_time": "2022-01-25T13:55:18.041Z"
   },
   {
    "duration": 364,
    "start_time": "2022-01-25T13:55:19.503Z"
   },
   {
    "duration": 22,
    "start_time": "2022-01-25T13:55:19.869Z"
   },
   {
    "duration": 305,
    "start_time": "2022-01-25T13:55:19.893Z"
   },
   {
    "duration": 15,
    "start_time": "2022-01-25T13:55:56.373Z"
   },
   {
    "duration": 329,
    "start_time": "2022-01-25T13:56:32.804Z"
   },
   {
    "duration": 738,
    "start_time": "2022-01-25T13:57:34.655Z"
   },
   {
    "duration": 71,
    "start_time": "2022-01-25T13:57:35.395Z"
   },
   {
    "duration": 804,
    "start_time": "2022-01-25T13:57:35.469Z"
   },
   {
    "duration": 226,
    "start_time": "2022-01-25T13:57:36.275Z"
   },
   {
    "duration": 1359,
    "start_time": "2022-01-25T13:57:36.503Z"
   },
   {
    "duration": 363,
    "start_time": "2022-01-25T13:57:37.864Z"
   },
   {
    "duration": 13,
    "start_time": "2022-01-25T13:57:38.229Z"
   },
   {
    "duration": 335,
    "start_time": "2022-01-25T13:57:38.245Z"
   },
   {
    "duration": 863,
    "start_time": "2022-01-25T13:59:04.086Z"
   },
   {
    "duration": 80,
    "start_time": "2022-01-25T13:59:04.953Z"
   },
   {
    "duration": 796,
    "start_time": "2022-01-25T13:59:05.036Z"
   },
   {
    "duration": 2,
    "start_time": "2022-01-25T13:59:05.834Z"
   },
   {
    "duration": 1459,
    "start_time": "2022-01-25T13:59:05.837Z"
   },
   {
    "duration": 400,
    "start_time": "2022-01-25T13:59:07.298Z"
   },
   {
    "duration": 13,
    "start_time": "2022-01-25T13:59:07.700Z"
   },
   {
    "duration": 533,
    "start_time": "2022-01-25T13:59:07.716Z"
   },
   {
    "duration": 2,
    "start_time": "2022-01-25T13:59:12.494Z"
   },
   {
    "duration": 505,
    "start_time": "2022-01-25T14:00:03.255Z"
   },
   {
    "duration": 529,
    "start_time": "2022-01-25T14:02:46.215Z"
   },
   {
    "duration": 496,
    "start_time": "2022-01-25T14:02:50.234Z"
   },
   {
    "duration": 503,
    "start_time": "2022-01-25T14:03:17.276Z"
   },
   {
    "duration": 77,
    "start_time": "2022-01-25T14:03:37.800Z"
   },
   {
    "duration": 547,
    "start_time": "2022-01-25T14:03:42.992Z"
   },
   {
    "duration": 514,
    "start_time": "2022-01-25T14:04:00.654Z"
   },
   {
    "duration": 502,
    "start_time": "2022-01-25T14:04:05.146Z"
   },
   {
    "duration": 411,
    "start_time": "2022-01-25T14:04:18.350Z"
   },
   {
    "duration": 552,
    "start_time": "2022-01-25T14:04:22.488Z"
   },
   {
    "duration": 246,
    "start_time": "2022-01-25T14:06:01.604Z"
   },
   {
    "duration": 13,
    "start_time": "2022-01-25T14:06:36.376Z"
   },
   {
    "duration": 207,
    "start_time": "2022-01-25T14:07:05.322Z"
   },
   {
    "duration": 702,
    "start_time": "2022-01-25T14:07:24.144Z"
   },
   {
    "duration": 26,
    "start_time": "2022-01-25T14:07:24.847Z"
   },
   {
    "duration": 802,
    "start_time": "2022-01-25T14:07:24.875Z"
   },
   {
    "duration": 3,
    "start_time": "2022-01-25T14:07:25.679Z"
   },
   {
    "duration": 1260,
    "start_time": "2022-01-25T14:07:25.683Z"
   },
   {
    "duration": 366,
    "start_time": "2022-01-25T14:07:26.945Z"
   },
   {
    "duration": 11,
    "start_time": "2022-01-25T14:07:27.313Z"
   },
   {
    "duration": 575,
    "start_time": "2022-01-25T14:07:27.326Z"
   },
   {
    "duration": 767,
    "start_time": "2022-01-25T14:07:27.902Z"
   },
   {
    "duration": 1294,
    "start_time": "2022-01-25T14:08:17.467Z"
   },
   {
    "duration": 15,
    "start_time": "2022-01-25T14:08:27.997Z"
   },
   {
    "duration": 662,
    "start_time": "2022-01-25T14:09:10.903Z"
   },
   {
    "duration": 1293,
    "start_time": "2022-01-25T14:09:43.263Z"
   },
   {
    "duration": 287,
    "start_time": "2022-01-25T14:09:52.519Z"
   },
   {
    "duration": 6,
    "start_time": "2022-01-25T14:10:16.453Z"
   },
   {
    "duration": 8,
    "start_time": "2022-01-25T14:11:07.905Z"
   },
   {
    "duration": 13,
    "start_time": "2022-01-25T14:12:18.663Z"
   },
   {
    "duration": 547,
    "start_time": "2022-01-25T14:12:23.058Z"
   },
   {
    "duration": 521,
    "start_time": "2022-01-25T14:12:32.014Z"
   },
   {
    "duration": 571,
    "start_time": "2022-01-25T14:12:35.669Z"
   },
   {
    "duration": 557,
    "start_time": "2022-01-25T14:13:05.888Z"
   },
   {
    "duration": 13,
    "start_time": "2022-01-25T14:13:46.189Z"
   },
   {
    "duration": 2,
    "start_time": "2022-01-25T14:13:53.987Z"
   },
   {
    "duration": 13,
    "start_time": "2022-01-25T14:14:14.375Z"
   },
   {
    "duration": 2,
    "start_time": "2022-01-25T14:14:19.732Z"
   },
   {
    "duration": 552,
    "start_time": "2022-01-25T14:14:34.037Z"
   },
   {
    "duration": 214,
    "start_time": "2022-01-25T14:16:48.484Z"
   },
   {
    "duration": 213,
    "start_time": "2022-01-25T14:16:59.015Z"
   },
   {
    "duration": 23,
    "start_time": "2022-01-25T14:17:12.976Z"
   },
   {
    "duration": 105,
    "start_time": "2022-01-25T14:17:20.023Z"
   },
   {
    "duration": 29,
    "start_time": "2022-01-25T14:17:25.661Z"
   },
   {
    "duration": 1414,
    "start_time": "2022-01-25T14:17:44.977Z"
   },
   {
    "duration": 1611,
    "start_time": "2022-01-25T14:18:04.246Z"
   },
   {
    "duration": 1872,
    "start_time": "2022-01-25T14:18:18.973Z"
   },
   {
    "duration": 636,
    "start_time": "2022-01-25T14:25:40.582Z"
   },
   {
    "duration": 1639,
    "start_time": "2022-01-25T14:26:48.205Z"
   },
   {
    "duration": 1616,
    "start_time": "2022-01-25T14:26:53.358Z"
   },
   {
    "duration": 1313,
    "start_time": "2022-01-25T14:26:57.589Z"
   },
   {
    "duration": 1557,
    "start_time": "2022-01-25T14:27:13.156Z"
   },
   {
    "duration": 1693,
    "start_time": "2022-01-25T14:27:33.185Z"
   },
   {
    "duration": 336,
    "start_time": "2022-01-25T14:31:06.487Z"
   },
   {
    "duration": 195,
    "start_time": "2022-01-25T14:31:12.501Z"
   },
   {
    "duration": 182,
    "start_time": "2022-01-25T14:31:26.848Z"
   },
   {
    "duration": 5,
    "start_time": "2022-01-25T14:31:53.923Z"
   },
   {
    "duration": 201,
    "start_time": "2022-01-25T14:32:33.311Z"
   },
   {
    "duration": 8,
    "start_time": "2022-01-25T14:32:39.404Z"
   },
   {
    "duration": -31,
    "start_time": "2022-01-25T14:33:26.239Z"
   },
   {
    "duration": 7,
    "start_time": "2022-01-25T14:33:28.332Z"
   },
   {
    "duration": 238,
    "start_time": "2022-01-25T14:34:06.284Z"
   },
   {
    "duration": 357,
    "start_time": "2022-01-25T14:34:27.006Z"
   },
   {
    "duration": 204,
    "start_time": "2022-01-25T14:34:35.936Z"
   },
   {
    "duration": 192,
    "start_time": "2022-01-25T14:34:38.974Z"
   },
   {
    "duration": 185,
    "start_time": "2022-01-25T14:34:42.192Z"
   },
   {
    "duration": 648,
    "start_time": "2022-01-25T14:37:08.996Z"
   },
   {
    "duration": 32,
    "start_time": "2022-01-25T14:37:09.647Z"
   },
   {
    "duration": 636,
    "start_time": "2022-01-25T14:37:09.681Z"
   },
   {
    "duration": 2,
    "start_time": "2022-01-25T14:37:10.319Z"
   },
   {
    "duration": 1347,
    "start_time": "2022-01-25T14:37:10.322Z"
   },
   {
    "duration": 653,
    "start_time": "2022-01-25T14:37:11.670Z"
   },
   {
    "duration": 2,
    "start_time": "2022-01-25T14:37:12.325Z"
   },
   {
    "duration": 317,
    "start_time": "2022-01-25T14:37:12.328Z"
   },
   {
    "duration": -26,
    "start_time": "2022-01-25T14:37:12.673Z"
   },
   {
    "duration": -27,
    "start_time": "2022-01-25T14:37:12.675Z"
   },
   {
    "duration": -30,
    "start_time": "2022-01-25T14:37:12.678Z"
   },
   {
    "duration": 563,
    "start_time": "2022-01-25T14:37:35.648Z"
   },
   {
    "duration": 538,
    "start_time": "2022-01-25T14:37:38.180Z"
   },
   {
    "duration": 1741,
    "start_time": "2022-01-25T14:37:38.777Z"
   },
   {
    "duration": 206,
    "start_time": "2022-01-25T14:37:40.521Z"
   },
   {
    "duration": 5,
    "start_time": "2022-01-25T14:57:26.548Z"
   },
   {
    "duration": 4,
    "start_time": "2022-01-25T14:57:40.680Z"
   },
   {
    "duration": 9,
    "start_time": "2022-01-25T14:57:51.188Z"
   },
   {
    "duration": 12,
    "start_time": "2022-01-25T14:58:06.618Z"
   },
   {
    "duration": 10,
    "start_time": "2022-01-25T14:58:19.838Z"
   },
   {
    "duration": 234,
    "start_time": "2022-01-25T14:58:27.409Z"
   },
   {
    "duration": 11,
    "start_time": "2022-01-25T14:58:36.203Z"
   },
   {
    "duration": 11,
    "start_time": "2022-01-25T14:58:49.648Z"
   },
   {
    "duration": 11,
    "start_time": "2022-01-25T14:58:55.861Z"
   },
   {
    "duration": 12,
    "start_time": "2022-01-25T15:01:01.046Z"
   },
   {
    "duration": 8,
    "start_time": "2022-01-25T15:01:05.705Z"
   },
   {
    "duration": 10,
    "start_time": "2022-01-25T15:01:08.607Z"
   },
   {
    "duration": 26,
    "start_time": "2022-01-25T15:01:32.917Z"
   },
   {
    "duration": 40,
    "start_time": "2022-01-25T15:01:37.334Z"
   },
   {
    "duration": 43,
    "start_time": "2022-01-25T15:02:23.709Z"
   },
   {
    "duration": 39,
    "start_time": "2022-01-25T15:03:16.532Z"
   },
   {
    "duration": 101,
    "start_time": "2022-01-25T15:08:03.031Z"
   },
   {
    "duration": 119,
    "start_time": "2022-01-25T15:08:12.080Z"
   },
   {
    "duration": 142,
    "start_time": "2022-01-25T15:08:37.150Z"
   },
   {
    "duration": 206,
    "start_time": "2022-01-25T15:10:07.141Z"
   },
   {
    "duration": 154,
    "start_time": "2022-01-25T15:10:20.561Z"
   },
   {
    "duration": 68,
    "start_time": "2022-01-25T15:11:11.891Z"
   },
   {
    "duration": 64,
    "start_time": "2022-01-25T15:14:00.849Z"
   },
   {
    "duration": 44,
    "start_time": "2022-01-25T15:17:04.334Z"
   },
   {
    "duration": 10,
    "start_time": "2022-01-25T15:17:47.079Z"
   },
   {
    "duration": 70,
    "start_time": "2022-01-25T15:18:00.438Z"
   },
   {
    "duration": 344,
    "start_time": "2022-01-25T20:20:45.693Z"
   },
   {
    "duration": 923,
    "start_time": "2022-01-25T20:20:51.638Z"
   },
   {
    "duration": 36,
    "start_time": "2022-01-25T20:20:52.564Z"
   },
   {
    "duration": 1204,
    "start_time": "2022-01-25T20:20:52.603Z"
   },
   {
    "duration": 2,
    "start_time": "2022-01-25T20:20:53.810Z"
   },
   {
    "duration": 2307,
    "start_time": "2022-01-25T20:20:53.815Z"
   },
   {
    "duration": 727,
    "start_time": "2022-01-25T20:20:56.124Z"
   },
   {
    "duration": 3,
    "start_time": "2022-01-25T20:20:56.854Z"
   },
   {
    "duration": 768,
    "start_time": "2022-01-25T20:20:56.859Z"
   },
   {
    "duration": 860,
    "start_time": "2022-01-25T20:20:57.630Z"
   },
   {
    "duration": 3479,
    "start_time": "2022-01-25T20:20:58.493Z"
   },
   {
    "duration": 328,
    "start_time": "2022-01-25T20:21:01.974Z"
   },
   {
    "duration": 114,
    "start_time": "2022-01-25T20:21:02.305Z"
   },
   {
    "duration": 79,
    "start_time": "2022-01-25T20:21:02.422Z"
   },
   {
    "duration": 21,
    "start_time": "2022-01-25T20:21:19.236Z"
   },
   {
    "duration": 100,
    "start_time": "2022-01-25T20:22:27.899Z"
   },
   {
    "duration": 22,
    "start_time": "2022-01-25T20:34:33.063Z"
   },
   {
    "duration": 76,
    "start_time": "2022-01-25T20:35:06.188Z"
   },
   {
    "duration": 73,
    "start_time": "2022-01-25T20:35:12.001Z"
   },
   {
    "duration": 68,
    "start_time": "2022-01-25T20:35:27.256Z"
   },
   {
    "duration": 106,
    "start_time": "2022-01-25T20:37:41.088Z"
   },
   {
    "duration": 339,
    "start_time": "2022-01-25T20:42:47.943Z"
   },
   {
    "duration": 473,
    "start_time": "2022-01-25T20:42:59.778Z"
   },
   {
    "duration": 3986,
    "start_time": "2022-01-25T20:43:24.894Z"
   },
   {
    "duration": 1108,
    "start_time": "2022-01-25T20:45:35.080Z"
   },
   {
    "duration": 527,
    "start_time": "2022-01-25T20:46:12.156Z"
   },
   {
    "duration": 531,
    "start_time": "2022-01-25T20:52:16.005Z"
   },
   {
    "duration": 656,
    "start_time": "2022-02-03T07:36:50.755Z"
   },
   {
    "duration": 27,
    "start_time": "2022-02-03T07:36:51.414Z"
   },
   {
    "duration": 644,
    "start_time": "2022-02-03T07:36:51.443Z"
   },
   {
    "duration": 2,
    "start_time": "2022-02-03T07:36:52.090Z"
   },
   {
    "duration": 1340,
    "start_time": "2022-02-03T07:36:52.094Z"
   },
   {
    "duration": 406,
    "start_time": "2022-02-03T07:36:53.437Z"
   },
   {
    "duration": 12,
    "start_time": "2022-02-03T07:36:53.845Z"
   },
   {
    "duration": 532,
    "start_time": "2022-02-03T07:36:53.860Z"
   },
   {
    "duration": 540,
    "start_time": "2022-02-03T07:36:54.393Z"
   },
   {
    "duration": 2517,
    "start_time": "2022-02-03T07:36:54.935Z"
   },
   {
    "duration": 215,
    "start_time": "2022-02-03T07:36:57.454Z"
   },
   {
    "duration": 72,
    "start_time": "2022-02-03T07:36:57.671Z"
   },
   {
    "duration": 261,
    "start_time": "2022-02-03T07:36:57.746Z"
   },
   {
    "duration": 526,
    "start_time": "2022-02-03T08:21:14.653Z"
   },
   {
    "duration": 736,
    "start_time": "2022-02-03T08:23:56.724Z"
   },
   {
    "duration": 31,
    "start_time": "2022-02-03T08:23:57.462Z"
   },
   {
    "duration": 633,
    "start_time": "2022-02-03T08:23:57.496Z"
   },
   {
    "duration": 1202,
    "start_time": "2022-02-03T08:23:58.131Z"
   },
   {
    "duration": 370,
    "start_time": "2022-02-03T08:23:59.335Z"
   },
   {
    "duration": 17,
    "start_time": "2022-02-03T08:23:59.707Z"
   },
   {
    "duration": 388,
    "start_time": "2022-02-03T08:23:59.725Z"
   },
   {
    "duration": -71,
    "start_time": "2022-02-03T08:24:00.187Z"
   },
   {
    "duration": -72,
    "start_time": "2022-02-03T08:24:00.189Z"
   },
   {
    "duration": -73,
    "start_time": "2022-02-03T08:24:00.191Z"
   },
   {
    "duration": -74,
    "start_time": "2022-02-03T08:24:00.193Z"
   },
   {
    "duration": -74,
    "start_time": "2022-02-03T08:24:00.194Z"
   },
   {
    "duration": -79,
    "start_time": "2022-02-03T08:24:00.200Z"
   },
   {
    "duration": 746,
    "start_time": "2022-02-03T08:24:28.225Z"
   },
   {
    "duration": 27,
    "start_time": "2022-02-03T08:24:28.973Z"
   },
   {
    "duration": 646,
    "start_time": "2022-02-03T08:24:29.002Z"
   },
   {
    "duration": 1533,
    "start_time": "2022-02-03T08:24:29.651Z"
   },
   {
    "duration": 452,
    "start_time": "2022-02-03T08:24:31.186Z"
   },
   {
    "duration": 12,
    "start_time": "2022-02-03T08:24:31.641Z"
   },
   {
    "duration": 525,
    "start_time": "2022-02-03T08:24:31.655Z"
   },
   {
    "duration": 512,
    "start_time": "2022-02-03T08:24:32.182Z"
   },
   {
    "duration": 527,
    "start_time": "2022-02-03T08:24:32.697Z"
   },
   {
    "duration": 486,
    "start_time": "2022-02-03T08:24:33.226Z"
   },
   {
    "duration": 211,
    "start_time": "2022-02-03T08:24:33.714Z"
   },
   {
    "duration": 73,
    "start_time": "2022-02-03T08:24:33.927Z"
   },
   {
    "duration": 320,
    "start_time": "2022-02-03T08:24:34.001Z"
   },
   {
    "duration": 477,
    "start_time": "2022-02-03T08:31:24.686Z"
   },
   {
    "duration": 584,
    "start_time": "2022-02-03T08:31:30.016Z"
   },
   {
    "duration": 6,
    "start_time": "2022-02-03T08:32:23.735Z"
   },
   {
    "duration": 573,
    "start_time": "2022-02-03T11:28:50.531Z"
   },
   {
    "duration": 102,
    "start_time": "2022-02-03T11:28:51.106Z"
   },
   {
    "duration": 554,
    "start_time": "2022-02-03T12:19:48.351Z"
   },
   {
    "duration": 96,
    "start_time": "2022-02-03T12:19:48.907Z"
   },
   {
    "duration": 28,
    "start_time": "2022-02-03T12:19:49.005Z"
   },
   {
    "duration": 628,
    "start_time": "2022-02-03T12:19:49.035Z"
   },
   {
    "duration": 1322,
    "start_time": "2022-02-03T12:19:49.665Z"
   },
   {
    "duration": 400,
    "start_time": "2022-02-03T12:19:50.989Z"
   },
   {
    "duration": 21,
    "start_time": "2022-02-03T12:19:51.391Z"
   },
   {
    "duration": 510,
    "start_time": "2022-02-03T12:19:51.414Z"
   },
   {
    "duration": 813,
    "start_time": "2022-02-03T12:19:51.927Z"
   },
   {
    "duration": 548,
    "start_time": "2022-02-03T12:19:52.742Z"
   },
   {
    "duration": 430,
    "start_time": "2022-02-03T12:19:53.292Z"
   },
   {
    "duration": 194,
    "start_time": "2022-02-03T12:19:53.724Z"
   },
   {
    "duration": 64,
    "start_time": "2022-02-03T12:19:53.920Z"
   },
   {
    "duration": 275,
    "start_time": "2022-02-03T12:19:53.985Z"
   },
   {
    "duration": 76,
    "start_time": "2022-02-03T12:21:18.156Z"
   },
   {
    "duration": 131,
    "start_time": "2022-02-03T12:21:29.268Z"
   },
   {
    "duration": 1223,
    "start_time": "2022-02-03T12:21:41.320Z"
   },
   {
    "duration": 1217,
    "start_time": "2022-02-03T12:21:52.108Z"
   },
   {
    "duration": 1377,
    "start_time": "2022-02-03T12:22:02.286Z"
   },
   {
    "duration": 1342,
    "start_time": "2022-02-03T12:22:11.770Z"
   },
   {
    "duration": 1312,
    "start_time": "2022-02-03T12:22:30.769Z"
   },
   {
    "duration": 1322,
    "start_time": "2022-02-03T12:22:58.834Z"
   },
   {
    "duration": 1358,
    "start_time": "2022-02-03T12:56:22.988Z"
   },
   {
    "duration": 1252,
    "start_time": "2022-02-03T12:56:42.128Z"
   },
   {
    "duration": 1364,
    "start_time": "2022-02-03T12:57:03.249Z"
   },
   {
    "duration": 1307,
    "start_time": "2022-02-03T13:05:33.885Z"
   },
   {
    "duration": 1295,
    "start_time": "2022-02-03T13:05:44.251Z"
   },
   {
    "duration": 85,
    "start_time": "2022-02-03T13:06:23.209Z"
   },
   {
    "duration": 342,
    "start_time": "2022-02-03T13:06:25.340Z"
   },
   {
    "duration": 231,
    "start_time": "2022-02-03T13:06:28.344Z"
   },
   {
    "duration": 5,
    "start_time": "2022-02-03T13:06:37.972Z"
   },
   {
    "duration": 242,
    "start_time": "2022-02-03T13:06:50.731Z"
   },
   {
    "duration": 7,
    "start_time": "2022-02-03T13:07:00.714Z"
   },
   {
    "duration": 7,
    "start_time": "2022-02-03T13:07:26.234Z"
   },
   {
    "duration": 228,
    "start_time": "2022-02-03T13:07:47.742Z"
   },
   {
    "duration": 7,
    "start_time": "2022-02-03T13:07:52.016Z"
   },
   {
    "duration": 7,
    "start_time": "2022-02-03T13:08:10.993Z"
   },
   {
    "duration": 5,
    "start_time": "2022-02-03T13:08:23.708Z"
   },
   {
    "duration": 1424,
    "start_time": "2022-02-03T13:15:33.897Z"
   },
   {
    "duration": 1297,
    "start_time": "2022-02-03T13:15:52.958Z"
   },
   {
    "duration": 1373,
    "start_time": "2022-02-03T13:16:19.759Z"
   },
   {
    "duration": 20,
    "start_time": "2022-02-03T13:26:32.324Z"
   },
   {
    "duration": 19,
    "start_time": "2022-02-03T13:26:37.728Z"
   },
   {
    "duration": 615,
    "start_time": "2022-02-03T13:47:28.283Z"
   },
   {
    "duration": 387,
    "start_time": "2022-02-03T13:47:35.149Z"
   },
   {
    "duration": 2,
    "start_time": "2022-02-03T13:47:43.013Z"
   },
   {
    "duration": 160,
    "start_time": "2022-02-03T13:47:49.971Z"
   },
   {
    "duration": 156,
    "start_time": "2022-02-03T13:52:07.919Z"
   },
   {
    "duration": 161,
    "start_time": "2022-02-03T13:52:38.951Z"
   },
   {
    "duration": 2,
    "start_time": "2022-02-03T13:52:41.299Z"
   },
   {
    "duration": 163,
    "start_time": "2022-02-03T13:59:51.881Z"
   },
   {
    "duration": 149,
    "start_time": "2022-02-03T13:59:58.260Z"
   },
   {
    "duration": 171,
    "start_time": "2022-02-03T14:00:11.609Z"
   },
   {
    "duration": 152,
    "start_time": "2022-02-03T14:01:49.082Z"
   },
   {
    "duration": 269,
    "start_time": "2022-02-03T14:09:08.737Z"
   },
   {
    "duration": 441,
    "start_time": "2022-02-03T14:10:13.787Z"
   },
   {
    "duration": 434,
    "start_time": "2022-02-03T14:13:38.045Z"
   },
   {
    "duration": 430,
    "start_time": "2022-02-03T14:13:50.394Z"
   },
   {
    "duration": 71,
    "start_time": "2022-02-03T14:20:05.741Z"
   },
   {
    "duration": 74,
    "start_time": "2022-02-03T14:20:11.255Z"
   },
   {
    "duration": 428,
    "start_time": "2022-02-03T14:20:15.216Z"
   },
   {
    "duration": 429,
    "start_time": "2022-02-03T14:20:28.338Z"
   },
   {
    "duration": 525,
    "start_time": "2022-02-03T14:20:52.725Z"
   },
   {
    "duration": 626,
    "start_time": "2022-02-03T14:20:58.869Z"
   },
   {
    "duration": 326,
    "start_time": "2022-02-03T14:21:08.037Z"
   },
   {
    "duration": 2,
    "start_time": "2022-02-03T14:44:04.065Z"
   },
   {
    "duration": 3,
    "start_time": "2022-02-03T14:44:06.519Z"
   },
   {
    "duration": 2,
    "start_time": "2022-02-03T14:44:08.814Z"
   },
   {
    "duration": 587,
    "start_time": "2022-02-03T14:45:06.447Z"
   },
   {
    "duration": 501,
    "start_time": "2022-02-03T14:45:22.271Z"
   },
   {
    "duration": 573,
    "start_time": "2022-02-03T14:45:26.529Z"
   },
   {
    "duration": 547,
    "start_time": "2022-02-03T14:45:29.497Z"
   },
   {
    "duration": 585,
    "start_time": "2022-02-03T14:45:33.018Z"
   },
   {
    "duration": 541,
    "start_time": "2022-02-03T14:45:40.901Z"
   },
   {
    "duration": 533,
    "start_time": "2022-02-03T14:45:55.716Z"
   },
   {
    "duration": 540,
    "start_time": "2022-02-03T14:46:03.978Z"
   },
   {
    "duration": 84,
    "start_time": "2022-02-03T14:48:44.757Z"
   },
   {
    "duration": 669,
    "start_time": "2022-02-03T15:02:32.135Z"
   },
   {
    "duration": 519,
    "start_time": "2022-02-03T15:02:48.766Z"
   },
   {
    "duration": 521,
    "start_time": "2022-02-03T15:03:02.911Z"
   },
   {
    "duration": 539,
    "start_time": "2022-02-03T15:03:29.298Z"
   },
   {
    "duration": 581,
    "start_time": "2022-02-03T15:03:32.547Z"
   },
   {
    "duration": 4,
    "start_time": "2022-02-05T09:46:55.932Z"
   },
   {
    "duration": 733,
    "start_time": "2022-02-05T09:47:05.510Z"
   },
   {
    "duration": 108,
    "start_time": "2022-02-05T09:47:06.245Z"
   },
   {
    "duration": 29,
    "start_time": "2022-02-05T09:47:06.355Z"
   },
   {
    "duration": 692,
    "start_time": "2022-02-05T09:47:06.386Z"
   },
   {
    "duration": 1316,
    "start_time": "2022-02-05T09:47:07.080Z"
   },
   {
    "duration": 180,
    "start_time": "2022-02-05T09:47:08.398Z"
   },
   {
    "duration": 337,
    "start_time": "2022-02-05T09:47:08.580Z"
   },
   {
    "duration": 2,
    "start_time": "2022-02-05T09:47:08.920Z"
   },
   {
    "duration": 8,
    "start_time": "2022-02-05T09:47:08.924Z"
   },
   {
    "duration": 711,
    "start_time": "2022-02-05T09:47:08.934Z"
   },
   {
    "duration": 869,
    "start_time": "2022-02-05T09:47:09.647Z"
   },
   {
    "duration": 620,
    "start_time": "2022-02-05T09:47:10.518Z"
   },
   {
    "duration": 2,
    "start_time": "2022-02-05T09:47:11.140Z"
   },
   {
    "duration": 179,
    "start_time": "2022-02-05T09:47:11.144Z"
   },
   {
    "duration": 407,
    "start_time": "2022-02-05T09:47:11.325Z"
   },
   {
    "duration": 16,
    "start_time": "2022-02-05T09:52:44.863Z"
   },
   {
    "duration": 306,
    "start_time": "2022-02-05T09:53:33.153Z"
   },
   {
    "duration": 11,
    "start_time": "2022-02-05T09:53:43.897Z"
   },
   {
    "duration": 16,
    "start_time": "2022-02-05T09:53:48.982Z"
   },
   {
    "duration": 262,
    "start_time": "2022-02-05T10:01:51.294Z"
   },
   {
    "duration": 254,
    "start_time": "2022-02-05T10:02:08.457Z"
   },
   {
    "duration": 401,
    "start_time": "2022-02-05T10:02:32.401Z"
   },
   {
    "duration": 8,
    "start_time": "2022-02-05T10:02:49.161Z"
   },
   {
    "duration": 67,
    "start_time": "2022-02-05T10:03:14.381Z"
   },
   {
    "duration": 21,
    "start_time": "2022-02-05T10:03:17.624Z"
   },
   {
    "duration": 301,
    "start_time": "2022-02-05T10:03:32.768Z"
   },
   {
    "duration": 23,
    "start_time": "2022-02-05T10:03:34.914Z"
   },
   {
    "duration": 22,
    "start_time": "2022-02-05T10:04:10.334Z"
   },
   {
    "duration": 28,
    "start_time": "2022-02-05T10:04:21.747Z"
   },
   {
    "duration": 249,
    "start_time": "2022-02-05T10:06:30.018Z"
   },
   {
    "duration": 228,
    "start_time": "2022-02-05T10:07:49.788Z"
   },
   {
    "duration": 257,
    "start_time": "2022-02-05T10:08:09.560Z"
   },
   {
    "duration": 344,
    "start_time": "2022-02-05T10:08:31.296Z"
   },
   {
    "duration": 239,
    "start_time": "2022-02-05T10:08:36.897Z"
   },
   {
    "duration": 38,
    "start_time": "2022-02-05T10:16:37.176Z"
   },
   {
    "duration": 50,
    "start_time": "2022-02-05T10:16:52.481Z"
   },
   {
    "duration": 32,
    "start_time": "2022-02-05T10:17:02.794Z"
   },
   {
    "duration": 29,
    "start_time": "2022-02-05T10:17:06.893Z"
   },
   {
    "duration": 28,
    "start_time": "2022-02-05T10:17:11.702Z"
   },
   {
    "duration": 28,
    "start_time": "2022-02-05T10:17:14.622Z"
   },
   {
    "duration": 21,
    "start_time": "2022-02-05T10:17:17.520Z"
   },
   {
    "duration": 26,
    "start_time": "2022-02-05T10:17:22.499Z"
   },
   {
    "duration": 26,
    "start_time": "2022-02-05T10:17:29.945Z"
   },
   {
    "duration": 27,
    "start_time": "2022-02-05T10:17:33.367Z"
   },
   {
    "duration": 30,
    "start_time": "2022-02-05T10:17:39.739Z"
   },
   {
    "duration": 25,
    "start_time": "2022-02-05T10:17:43.837Z"
   },
   {
    "duration": 39,
    "start_time": "2022-02-05T10:17:46.289Z"
   },
   {
    "duration": 41,
    "start_time": "2022-02-05T10:17:49.723Z"
   },
   {
    "duration": 43,
    "start_time": "2022-02-05T10:17:54.463Z"
   },
   {
    "duration": 62,
    "start_time": "2022-02-05T10:17:57.487Z"
   },
   {
    "duration": 47,
    "start_time": "2022-02-05T10:18:01.374Z"
   },
   {
    "duration": 25,
    "start_time": "2022-02-05T10:18:04.789Z"
   },
   {
    "duration": 599,
    "start_time": "2022-02-05T10:18:31.960Z"
   },
   {
    "duration": 3,
    "start_time": "2022-02-05T11:13:45.829Z"
   },
   {
    "duration": 163,
    "start_time": "2022-02-05T11:13:51.877Z"
   },
   {
    "duration": 248,
    "start_time": "2022-02-05T11:16:52.267Z"
   },
   {
    "duration": 243,
    "start_time": "2022-02-05T11:16:56.746Z"
   },
   {
    "duration": 164,
    "start_time": "2022-02-05T11:28:20.945Z"
   },
   {
    "duration": 244,
    "start_time": "2022-02-05T12:30:28.109Z"
   },
   {
    "duration": 726,
    "start_time": "2022-02-05T12:39:12.642Z"
   },
   {
    "duration": 738,
    "start_time": "2022-02-05T12:39:43.071Z"
   },
   {
    "duration": 169,
    "start_time": "2022-02-05T12:39:48.354Z"
   },
   {
    "duration": 158,
    "start_time": "2022-02-05T12:41:07.287Z"
   },
   {
    "duration": 166,
    "start_time": "2022-02-05T12:42:55.832Z"
   },
   {
    "duration": 759,
    "start_time": "2022-02-05T12:43:06.084Z"
   },
   {
    "duration": 746,
    "start_time": "2022-02-05T12:43:25.583Z"
   },
   {
    "duration": 729,
    "start_time": "2022-02-05T12:46:14.099Z"
   },
   {
    "duration": 725,
    "start_time": "2022-02-05T12:46:23.533Z"
   },
   {
    "duration": 829,
    "start_time": "2022-02-05T12:46:36.979Z"
   },
   {
    "duration": 756,
    "start_time": "2022-02-05T12:47:20.924Z"
   },
   {
    "duration": 727,
    "start_time": "2022-02-05T12:47:36.561Z"
   },
   {
    "duration": 754,
    "start_time": "2022-02-05T12:47:40.993Z"
   },
   {
    "duration": 1484,
    "start_time": "2022-02-05T12:53:21.874Z"
   },
   {
    "duration": 1473,
    "start_time": "2022-02-05T12:53:53.596Z"
   },
   {
    "duration": 1354,
    "start_time": "2022-02-05T12:54:55.914Z"
   },
   {
    "duration": 1531,
    "start_time": "2022-02-05T12:55:07.535Z"
   },
   {
    "duration": 1338,
    "start_time": "2022-02-05T12:55:11.647Z"
   },
   {
    "duration": 1377,
    "start_time": "2022-02-05T12:56:17.370Z"
   },
   {
    "duration": 1334,
    "start_time": "2022-02-05T12:58:17.322Z"
   },
   {
    "duration": 1334,
    "start_time": "2022-02-05T12:58:28.718Z"
   },
   {
    "duration": 1241,
    "start_time": "2022-02-05T12:58:56.630Z"
   },
   {
    "duration": 1384,
    "start_time": "2022-02-05T12:59:03.890Z"
   },
   {
    "duration": 1338,
    "start_time": "2022-02-05T12:59:14.476Z"
   },
   {
    "duration": 321,
    "start_time": "2022-02-05T15:25:07.398Z"
   },
   {
    "duration": 639,
    "start_time": "2022-02-05T15:25:13.636Z"
   },
   {
    "duration": 87,
    "start_time": "2022-02-05T15:25:14.277Z"
   },
   {
    "duration": 26,
    "start_time": "2022-02-05T15:25:14.366Z"
   },
   {
    "duration": 577,
    "start_time": "2022-02-05T15:25:14.394Z"
   },
   {
    "duration": 1047,
    "start_time": "2022-02-05T15:25:14.973Z"
   },
   {
    "duration": 141,
    "start_time": "2022-02-05T15:25:16.021Z"
   },
   {
    "duration": 278,
    "start_time": "2022-02-05T15:25:16.163Z"
   },
   {
    "duration": 2,
    "start_time": "2022-02-05T15:25:16.442Z"
   },
   {
    "duration": 457,
    "start_time": "2022-02-05T15:25:16.446Z"
   },
   {
    "duration": 505,
    "start_time": "2022-02-05T15:25:16.906Z"
   },
   {
    "duration": 197,
    "start_time": "2022-02-05T15:25:17.413Z"
   },
   {
    "duration": 23,
    "start_time": "2022-02-05T15:25:17.612Z"
   },
   {
    "duration": 207,
    "start_time": "2022-02-05T15:25:17.637Z"
   },
   {
    "duration": 1230,
    "start_time": "2022-02-05T15:25:17.846Z"
   },
   {
    "duration": 88,
    "start_time": "2022-02-05T15:25:19.078Z"
   },
   {
    "duration": -21,
    "start_time": "2022-02-05T15:25:19.189Z"
   },
   {
    "duration": -37,
    "start_time": "2022-02-05T15:25:19.206Z"
   },
   {
    "duration": 1248,
    "start_time": "2022-02-05T17:43:22.549Z"
   },
   {
    "duration": 16,
    "start_time": "2022-02-05T18:18:29.569Z"
   },
   {
    "duration": 1158,
    "start_time": "2022-02-05T18:19:44.913Z"
   },
   {
    "duration": 1173,
    "start_time": "2022-02-05T18:20:11.465Z"
   },
   {
    "duration": 1207,
    "start_time": "2022-02-05T18:20:17.706Z"
   },
   {
    "duration": 1219,
    "start_time": "2022-02-05T18:20:30.241Z"
   },
   {
    "duration": 10,
    "start_time": "2022-02-05T18:22:53.905Z"
   },
   {
    "duration": 13,
    "start_time": "2022-02-05T18:23:03.493Z"
   },
   {
    "duration": 128,
    "start_time": "2022-02-05T18:23:16.319Z"
   },
   {
    "duration": 127,
    "start_time": "2022-02-05T18:23:39.534Z"
   },
   {
    "duration": 135,
    "start_time": "2022-02-05T18:23:43.351Z"
   },
   {
    "duration": 130,
    "start_time": "2022-02-05T18:23:50.511Z"
   },
   {
    "duration": 267,
    "start_time": "2022-02-05T18:24:01.857Z"
   },
   {
    "duration": 13,
    "start_time": "2022-02-05T18:24:22.285Z"
   },
   {
    "duration": 132,
    "start_time": "2022-02-05T18:24:30.660Z"
   },
   {
    "duration": 125,
    "start_time": "2022-02-05T18:24:33.211Z"
   },
   {
    "duration": 128,
    "start_time": "2022-02-05T18:24:41.056Z"
   },
   {
    "duration": 132,
    "start_time": "2022-02-05T18:24:46.057Z"
   },
   {
    "duration": 117,
    "start_time": "2022-02-05T18:28:42.793Z"
   },
   {
    "duration": 58,
    "start_time": "2022-02-05T18:29:10.477Z"
   },
   {
    "duration": 57,
    "start_time": "2022-02-05T18:29:18.239Z"
   },
   {
    "duration": 55,
    "start_time": "2022-02-05T18:29:49.571Z"
   },
   {
    "duration": 17,
    "start_time": "2022-02-05T18:30:02.202Z"
   },
   {
    "duration": 153,
    "start_time": "2022-02-05T18:31:17.762Z"
   },
   {
    "duration": 147,
    "start_time": "2022-02-05T18:31:30.219Z"
   },
   {
    "duration": 141,
    "start_time": "2022-02-05T18:31:38.308Z"
   },
   {
    "duration": 143,
    "start_time": "2022-02-05T18:33:07.805Z"
   },
   {
    "duration": 454,
    "start_time": "2022-02-05T18:34:05.536Z"
   },
   {
    "duration": 448,
    "start_time": "2022-02-05T18:34:43.041Z"
   },
   {
    "duration": 549,
    "start_time": "2022-02-05T18:34:50.441Z"
   },
   {
    "duration": 482,
    "start_time": "2022-02-05T18:35:27.255Z"
   },
   {
    "duration": 467,
    "start_time": "2022-02-05T18:35:46.381Z"
   },
   {
    "duration": 326,
    "start_time": "2022-02-05T18:49:52.622Z"
   },
   {
    "duration": 626,
    "start_time": "2022-02-05T18:50:03.810Z"
   },
   {
    "duration": 382,
    "start_time": "2022-02-05T18:50:15.264Z"
   },
   {
    "duration": 470,
    "start_time": "2022-02-05T18:50:36.450Z"
   },
   {
    "duration": 443,
    "start_time": "2022-02-05T18:52:32.441Z"
   },
   {
    "duration": 458,
    "start_time": "2022-02-05T18:52:40.475Z"
   },
   {
    "duration": 511,
    "start_time": "2022-02-05T18:52:50.163Z"
   },
   {
    "duration": 475,
    "start_time": "2022-02-05T18:52:56.798Z"
   },
   {
    "duration": 570,
    "start_time": "2022-02-05T18:53:44.326Z"
   },
   {
    "duration": 337,
    "start_time": "2022-02-05T18:53:56.748Z"
   },
   {
    "duration": 472,
    "start_time": "2022-02-05T18:54:52.720Z"
   },
   {
    "duration": 535,
    "start_time": "2022-02-05T18:55:02.827Z"
   },
   {
    "duration": 457,
    "start_time": "2022-02-05T18:56:08.223Z"
   },
   {
    "duration": 466,
    "start_time": "2022-02-05T18:56:15.602Z"
   },
   {
    "duration": 313,
    "start_time": "2022-02-05T18:57:14.536Z"
   },
   {
    "duration": 328,
    "start_time": "2022-02-05T18:58:59.622Z"
   },
   {
    "duration": 446,
    "start_time": "2022-02-05T18:59:18.800Z"
   },
   {
    "duration": 629,
    "start_time": "2022-02-05T19:01:36.681Z"
   },
   {
    "duration": 86,
    "start_time": "2022-02-05T19:01:37.312Z"
   },
   {
    "duration": 26,
    "start_time": "2022-02-05T19:01:37.401Z"
   },
   {
    "duration": 574,
    "start_time": "2022-02-05T19:01:37.428Z"
   },
   {
    "duration": 1036,
    "start_time": "2022-02-05T19:01:38.004Z"
   },
   {
    "duration": 144,
    "start_time": "2022-02-05T19:01:39.042Z"
   },
   {
    "duration": 283,
    "start_time": "2022-02-05T19:01:39.187Z"
   },
   {
    "duration": 2,
    "start_time": "2022-02-05T19:01:39.472Z"
   },
   {
    "duration": 474,
    "start_time": "2022-02-05T19:01:39.477Z"
   },
   {
    "duration": 476,
    "start_time": "2022-02-05T19:01:39.953Z"
   },
   {
    "duration": 201,
    "start_time": "2022-02-05T19:01:40.430Z"
   },
   {
    "duration": 21,
    "start_time": "2022-02-05T19:01:40.632Z"
   },
   {
    "duration": 199,
    "start_time": "2022-02-05T19:01:40.654Z"
   },
   {
    "duration": 1190,
    "start_time": "2022-02-05T19:01:40.855Z"
   },
   {
    "duration": 142,
    "start_time": "2022-02-05T19:01:42.047Z"
   },
   {
    "duration": 10,
    "start_time": "2022-02-05T19:01:42.191Z"
   },
   {
    "duration": 332,
    "start_time": "2022-02-05T19:01:42.202Z"
   },
   {
    "duration": 64,
    "start_time": "2022-02-05T19:01:42.536Z"
   },
   {
    "duration": 221,
    "start_time": "2022-02-05T19:01:42.601Z"
   },
   {
    "duration": 279,
    "start_time": "2022-02-05T19:06:56.464Z"
   },
   {
    "duration": 263,
    "start_time": "2022-02-05T19:07:00.418Z"
   },
   {
    "duration": 270,
    "start_time": "2022-02-05T19:07:10.068Z"
   },
   {
    "duration": 577,
    "start_time": "2022-02-05T19:13:34.907Z"
   },
   {
    "duration": 94,
    "start_time": "2022-02-05T19:13:35.486Z"
   },
   {
    "duration": 25,
    "start_time": "2022-02-05T19:13:35.582Z"
   },
   {
    "duration": 591,
    "start_time": "2022-02-05T19:13:35.609Z"
   },
   {
    "duration": 1072,
    "start_time": "2022-02-05T19:13:36.201Z"
   },
   {
    "duration": 154,
    "start_time": "2022-02-05T19:13:37.275Z"
   },
   {
    "duration": 271,
    "start_time": "2022-02-05T19:13:37.431Z"
   },
   {
    "duration": 2,
    "start_time": "2022-02-05T19:13:37.703Z"
   },
   {
    "duration": 493,
    "start_time": "2022-02-05T19:13:37.708Z"
   },
   {
    "duration": 601,
    "start_time": "2022-02-05T19:13:38.203Z"
   },
   {
    "duration": 204,
    "start_time": "2022-02-05T19:13:38.805Z"
   },
   {
    "duration": 22,
    "start_time": "2022-02-05T19:13:39.011Z"
   },
   {
    "duration": 219,
    "start_time": "2022-02-05T19:13:39.035Z"
   },
   {
    "duration": 1266,
    "start_time": "2022-02-05T19:13:39.255Z"
   },
   {
    "duration": 146,
    "start_time": "2022-02-05T19:13:40.522Z"
   },
   {
    "duration": 368,
    "start_time": "2022-02-05T19:13:40.670Z"
   },
   {
    "duration": 71,
    "start_time": "2022-02-05T19:13:41.040Z"
   },
   {
    "duration": 253,
    "start_time": "2022-02-05T19:13:41.112Z"
   },
   {
    "duration": 613,
    "start_time": "2022-02-07T20:39:30.096Z"
   },
   {
    "duration": 97,
    "start_time": "2022-02-07T20:39:30.711Z"
   },
   {
    "duration": 27,
    "start_time": "2022-02-07T20:39:30.810Z"
   },
   {
    "duration": 612,
    "start_time": "2022-02-07T20:39:30.839Z"
   },
   {
    "duration": 1223,
    "start_time": "2022-02-07T20:39:31.459Z"
   },
   {
    "duration": 302,
    "start_time": "2022-02-07T20:39:32.684Z"
   },
   {
    "duration": 331,
    "start_time": "2022-02-07T20:39:32.987Z"
   },
   {
    "duration": 2,
    "start_time": "2022-02-07T20:39:33.320Z"
   },
   {
    "duration": 511,
    "start_time": "2022-02-07T20:39:33.324Z"
   },
   {
    "duration": 514,
    "start_time": "2022-02-07T20:39:33.836Z"
   },
   {
    "duration": 220,
    "start_time": "2022-02-07T20:39:34.351Z"
   },
   {
    "duration": 21,
    "start_time": "2022-02-07T20:39:34.573Z"
   },
   {
    "duration": 221,
    "start_time": "2022-02-07T20:39:34.595Z"
   },
   {
    "duration": 1477,
    "start_time": "2022-02-07T20:39:34.818Z"
   },
   {
    "duration": 163,
    "start_time": "2022-02-07T20:39:36.297Z"
   },
   {
    "duration": 368,
    "start_time": "2022-02-07T20:39:36.462Z"
   },
   {
    "duration": 70,
    "start_time": "2022-02-07T20:39:36.832Z"
   },
   {
    "duration": 252,
    "start_time": "2022-02-07T20:39:36.904Z"
   },
   {
    "duration": 274,
    "start_time": "2022-02-08T08:10:55.887Z"
   },
   {
    "duration": 827,
    "start_time": "2022-02-08T08:11:19.161Z"
   },
   {
    "duration": 133,
    "start_time": "2022-02-08T08:11:19.991Z"
   },
   {
    "duration": 54,
    "start_time": "2022-02-08T08:11:20.128Z"
   },
   {
    "duration": 1019,
    "start_time": "2022-02-08T08:11:20.185Z"
   },
   {
    "duration": 1924,
    "start_time": "2022-02-08T08:11:21.208Z"
   },
   {
    "duration": 252,
    "start_time": "2022-02-08T08:11:23.135Z"
   },
   {
    "duration": 496,
    "start_time": "2022-02-08T08:11:23.391Z"
   },
   {
    "duration": 3,
    "start_time": "2022-02-08T08:11:23.890Z"
   },
   {
    "duration": 728,
    "start_time": "2022-02-08T08:11:23.896Z"
   },
   {
    "duration": 825,
    "start_time": "2022-02-08T08:11:24.626Z"
   },
   {
    "duration": 401,
    "start_time": "2022-02-08T08:11:25.454Z"
   },
   {
    "duration": 38,
    "start_time": "2022-02-08T08:11:25.857Z"
   },
   {
    "duration": 399,
    "start_time": "2022-02-08T08:11:25.897Z"
   },
   {
    "duration": 2082,
    "start_time": "2022-02-08T08:11:26.298Z"
   },
   {
    "duration": 277,
    "start_time": "2022-02-08T08:11:28.382Z"
   },
   {
    "duration": 594,
    "start_time": "2022-02-08T08:11:28.661Z"
   },
   {
    "duration": 107,
    "start_time": "2022-02-08T08:11:29.257Z"
   },
   {
    "duration": 387,
    "start_time": "2022-02-08T08:11:29.366Z"
   },
   {
    "duration": 225,
    "start_time": "2022-02-08T08:37:45.730Z"
   },
   {
    "duration": 214,
    "start_time": "2022-02-08T08:37:55.952Z"
   },
   {
    "duration": 230,
    "start_time": "2022-02-08T08:38:05.792Z"
   },
   {
    "duration": 224,
    "start_time": "2022-02-08T08:42:15.218Z"
   },
   {
    "duration": 226,
    "start_time": "2022-02-08T08:42:22.763Z"
   },
   {
    "duration": 398,
    "start_time": "2022-02-08T08:43:44.066Z"
   },
   {
    "duration": 386,
    "start_time": "2022-02-08T08:44:21.725Z"
   },
   {
    "duration": 317,
    "start_time": "2022-02-08T08:44:33.358Z"
   },
   {
    "duration": 20,
    "start_time": "2022-02-08T08:46:21.525Z"
   },
   {
    "duration": 412,
    "start_time": "2022-02-08T08:46:40.874Z"
   },
   {
    "duration": 9,
    "start_time": "2022-02-08T08:47:10.622Z"
   },
   {
    "duration": 7,
    "start_time": "2022-02-08T08:47:52.974Z"
   },
   {
    "duration": 9,
    "start_time": "2022-02-08T08:47:53.871Z"
   },
   {
    "duration": 284,
    "start_time": "2022-02-08T08:50:10.333Z"
   },
   {
    "duration": 40,
    "start_time": "2022-02-08T09:24:33.713Z"
   },
   {
    "duration": 256,
    "start_time": "2022-02-08T09:25:32.793Z"
   },
   {
    "duration": 842,
    "start_time": "2022-02-08T09:25:49.933Z"
   },
   {
    "duration": 133,
    "start_time": "2022-02-08T09:25:50.778Z"
   },
   {
    "duration": 57,
    "start_time": "2022-02-08T09:25:50.917Z"
   },
   {
    "duration": 999,
    "start_time": "2022-02-08T09:25:50.976Z"
   },
   {
    "duration": 2255,
    "start_time": "2022-02-08T09:25:51.977Z"
   },
   {
    "duration": 240,
    "start_time": "2022-02-08T09:25:54.234Z"
   },
   {
    "duration": 501,
    "start_time": "2022-02-08T09:25:54.478Z"
   },
   {
    "duration": 4,
    "start_time": "2022-02-08T09:25:54.983Z"
   },
   {
    "duration": 706,
    "start_time": "2022-02-08T09:25:54.990Z"
   },
   {
    "duration": 738,
    "start_time": "2022-02-08T09:25:55.699Z"
   },
   {
    "duration": 374,
    "start_time": "2022-02-08T09:25:56.440Z"
   },
   {
    "duration": 46,
    "start_time": "2022-02-08T09:25:56.817Z"
   },
   {
    "duration": 388,
    "start_time": "2022-02-08T09:25:56.865Z"
   },
   {
    "duration": 7,
    "start_time": "2022-02-08T09:25:57.256Z"
   },
   {
    "duration": 362,
    "start_time": "2022-02-08T09:25:57.266Z"
   },
   {
    "duration": 1857,
    "start_time": "2022-02-08T09:25:57.631Z"
   },
   {
    "duration": 255,
    "start_time": "2022-02-08T09:25:59.491Z"
   },
   {
    "duration": 616,
    "start_time": "2022-02-08T09:25:59.749Z"
   },
   {
    "duration": 112,
    "start_time": "2022-02-08T09:26:00.368Z"
   },
   {
    "duration": 398,
    "start_time": "2022-02-08T09:26:00.483Z"
   },
   {
    "duration": 258,
    "start_time": "2022-02-08T09:26:10.270Z"
   },
   {
    "duration": 372,
    "start_time": "2022-02-08T09:26:26.506Z"
   },
   {
    "duration": 37,
    "start_time": "2022-02-08T09:26:28.535Z"
   },
   {
    "duration": 345,
    "start_time": "2022-02-08T09:26:30.222Z"
   },
   {
    "duration": 220,
    "start_time": "2022-02-08T09:31:24.155Z"
   },
   {
    "duration": 394,
    "start_time": "2022-02-08T09:31:33.618Z"
   },
   {
    "duration": 323,
    "start_time": "2022-02-08T09:31:54.928Z"
   },
   {
    "duration": 536,
    "start_time": "2022-02-08T09:32:03.526Z"
   },
   {
    "duration": 856,
    "start_time": "2022-02-08T09:32:22.092Z"
   },
   {
    "duration": 729,
    "start_time": "2022-02-08T09:35:14.744Z"
   },
   {
    "duration": 980,
    "start_time": "2022-02-08T09:35:23.768Z"
   },
   {
    "duration": 894,
    "start_time": "2022-02-08T09:35:48.826Z"
   },
   {
    "duration": 872,
    "start_time": "2022-02-08T09:36:03.229Z"
   },
   {
    "duration": 1943,
    "start_time": "2022-02-08T09:36:33.116Z"
   },
   {
    "duration": 879,
    "start_time": "2022-02-08T09:37:13.557Z"
   },
   {
    "duration": 1050,
    "start_time": "2022-02-08T09:37:20.749Z"
   },
   {
    "duration": 1059,
    "start_time": "2022-02-08T09:37:29.227Z"
   },
   {
    "duration": 961,
    "start_time": "2022-02-08T09:37:39.342Z"
   },
   {
    "duration": 844,
    "start_time": "2022-02-08T09:37:48.030Z"
   },
   {
    "duration": 1078,
    "start_time": "2022-02-08T09:37:54.485Z"
   },
   {
    "duration": 1972,
    "start_time": "2022-02-08T09:38:08.374Z"
   },
   {
    "duration": 2507,
    "start_time": "2022-02-08T09:38:17.533Z"
   },
   {
    "duration": 2155,
    "start_time": "2022-02-08T09:38:24.368Z"
   },
   {
    "duration": 880,
    "start_time": "2022-02-08T09:38:42.711Z"
   },
   {
    "duration": 983,
    "start_time": "2022-02-08T09:38:51.882Z"
   },
   {
    "duration": 837,
    "start_time": "2022-02-08T09:39:05.504Z"
   },
   {
    "duration": 906,
    "start_time": "2022-02-08T09:39:14.986Z"
   },
   {
    "duration": 1035,
    "start_time": "2022-02-08T09:39:27.695Z"
   },
   {
    "duration": 2073,
    "start_time": "2022-02-08T09:39:59.830Z"
   },
   {
    "duration": 2048,
    "start_time": "2022-02-08T09:40:27.058Z"
   },
   {
    "duration": 2393,
    "start_time": "2022-02-08T09:41:05.061Z"
   },
   {
    "duration": 2124,
    "start_time": "2022-02-08T09:41:16.111Z"
   },
   {
    "duration": 2359,
    "start_time": "2022-02-08T09:41:22.324Z"
   },
   {
    "duration": 1900,
    "start_time": "2022-02-08T09:41:34.493Z"
   },
   {
    "duration": 1878,
    "start_time": "2022-02-08T09:41:37.961Z"
   },
   {
    "duration": 2070,
    "start_time": "2022-02-08T09:50:31.465Z"
   },
   {
    "duration": 1671,
    "start_time": "2022-02-08T09:51:46.764Z"
   },
   {
    "duration": 1720,
    "start_time": "2022-02-08T09:52:12.731Z"
   },
   {
    "duration": 1814,
    "start_time": "2022-02-08T09:52:56.602Z"
   },
   {
    "duration": 1628,
    "start_time": "2022-02-08T09:56:13.612Z"
   },
   {
    "duration": 1778,
    "start_time": "2022-02-08T09:56:56.414Z"
   },
   {
    "duration": 1974,
    "start_time": "2022-02-08T09:57:15.946Z"
   },
   {
    "duration": 2212,
    "start_time": "2022-02-08T09:58:48.867Z"
   },
   {
    "duration": 2153,
    "start_time": "2022-02-08T09:59:03.903Z"
   },
   {
    "duration": 1680,
    "start_time": "2022-02-08T09:59:16.604Z"
   },
   {
    "duration": 1843,
    "start_time": "2022-02-08T10:01:07.738Z"
   },
   {
    "duration": 1633,
    "start_time": "2022-02-08T10:04:36.379Z"
   },
   {
    "duration": 1754,
    "start_time": "2022-02-08T10:05:00.049Z"
   },
   {
    "duration": 1030,
    "start_time": "2022-02-08T10:08:59.397Z"
   },
   {
    "duration": 1017,
    "start_time": "2022-02-08T10:09:04.810Z"
   },
   {
    "duration": 849,
    "start_time": "2022-02-08T10:09:28.210Z"
   },
   {
    "duration": 5880,
    "start_time": "2022-02-08T11:45:22.119Z"
   },
   {
    "duration": 15,
    "start_time": "2022-02-08T11:45:30.228Z"
   },
   {
    "duration": 68,
    "start_time": "2022-02-08T11:45:35.622Z"
   },
   {
    "duration": 16,
    "start_time": "2022-02-08T11:46:03.042Z"
   },
   {
    "duration": 423,
    "start_time": "2022-02-08T11:46:06.793Z"
   },
   {
    "duration": 237,
    "start_time": "2022-02-08T11:46:34.546Z"
   },
   {
    "duration": 261,
    "start_time": "2022-02-08T11:47:07.307Z"
   },
   {
    "duration": 242,
    "start_time": "2022-02-08T11:48:28.565Z"
   },
   {
    "duration": 19,
    "start_time": "2022-02-08T11:48:31.350Z"
   },
   {
    "duration": 273,
    "start_time": "2022-02-08T11:49:20.598Z"
   },
   {
    "duration": 237,
    "start_time": "2022-02-08T11:49:36.308Z"
   },
   {
    "duration": 266,
    "start_time": "2022-02-08T11:49:45.933Z"
   },
   {
    "duration": 411,
    "start_time": "2022-02-08T11:49:54.449Z"
   },
   {
    "duration": 493,
    "start_time": "2022-02-08T11:50:03.490Z"
   },
   {
    "duration": 426,
    "start_time": "2022-02-08T11:50:08.458Z"
   },
   {
    "duration": 581,
    "start_time": "2022-02-08T11:50:14.478Z"
   },
   {
    "duration": 429,
    "start_time": "2022-02-08T11:50:22.314Z"
   },
   {
    "duration": 454,
    "start_time": "2022-02-08T11:51:09.900Z"
   },
   {
    "duration": 567,
    "start_time": "2022-02-08T11:56:18.129Z"
   },
   {
    "duration": 420,
    "start_time": "2022-02-08T11:56:35.260Z"
   },
   {
    "duration": 462,
    "start_time": "2022-02-08T11:58:24.926Z"
   },
   {
    "duration": 626,
    "start_time": "2022-02-08T12:25:05.969Z"
   },
   {
    "duration": 406,
    "start_time": "2022-02-08T12:25:12.795Z"
   },
   {
    "duration": 374,
    "start_time": "2022-02-08T12:25:20.937Z"
   },
   {
    "duration": 463,
    "start_time": "2022-02-08T12:25:28.981Z"
   },
   {
    "duration": 593,
    "start_time": "2022-02-08T12:25:34.003Z"
   },
   {
    "duration": 321,
    "start_time": "2022-02-08T12:25:50.361Z"
   },
   {
    "duration": 350,
    "start_time": "2022-02-08T12:27:51.895Z"
   },
   {
    "duration": 405,
    "start_time": "2022-02-08T12:28:06.632Z"
   },
   {
    "duration": 376,
    "start_time": "2022-02-08T12:28:19.164Z"
   },
   {
    "duration": 81,
    "start_time": "2022-02-08T12:30:48.857Z"
   },
   {
    "duration": 1178,
    "start_time": "2022-02-08T12:31:01.457Z"
   },
   {
    "duration": 285,
    "start_time": "2022-02-08T12:31:24.764Z"
   },
   {
    "duration": 288,
    "start_time": "2022-02-08T12:32:39.708Z"
   },
   {
    "duration": 352,
    "start_time": "2022-02-08T13:11:47.202Z"
   },
   {
    "duration": 6322,
    "start_time": "2022-02-08T14:00:35.606Z"
   },
   {
    "duration": 126,
    "start_time": "2022-02-08T14:01:10.313Z"
   },
   {
    "duration": 82,
    "start_time": "2022-02-08T14:01:16.948Z"
   },
   {
    "duration": 853,
    "start_time": "2022-02-08T14:01:31.983Z"
   },
   {
    "duration": 44,
    "start_time": "2022-02-08T16:09:07.164Z"
   },
   {
    "duration": 261,
    "start_time": "2022-02-08T16:09:32.018Z"
   },
   {
    "duration": 439,
    "start_time": "2022-02-08T16:10:06.036Z"
   },
   {
    "duration": 469,
    "start_time": "2022-02-08T16:10:19.806Z"
   },
   {
    "duration": 527,
    "start_time": "2022-02-08T16:10:33.778Z"
   },
   {
    "duration": 523,
    "start_time": "2022-02-08T16:11:00.326Z"
   },
   {
    "duration": 768,
    "start_time": "2022-02-08T16:27:10.385Z"
   },
   {
    "duration": 466,
    "start_time": "2022-02-08T16:27:17.565Z"
   },
   {
    "duration": 546,
    "start_time": "2022-02-08T16:28:07.705Z"
   },
   {
    "duration": 471,
    "start_time": "2022-02-08T16:28:16.165Z"
   },
   {
    "duration": 468,
    "start_time": "2022-02-08T16:28:25.401Z"
   },
   {
    "duration": 459,
    "start_time": "2022-02-08T16:28:29.685Z"
   },
   {
    "duration": 458,
    "start_time": "2022-02-08T16:28:35.326Z"
   },
   {
    "duration": 744,
    "start_time": "2022-02-08T16:28:44.066Z"
   },
   {
    "duration": 466,
    "start_time": "2022-02-08T16:28:57.605Z"
   },
   {
    "duration": 493,
    "start_time": "2022-02-08T16:29:20.886Z"
   },
   {
    "duration": 33,
    "start_time": "2022-02-08T16:30:52.525Z"
   },
   {
    "duration": 438,
    "start_time": "2022-02-08T16:33:38.406Z"
   },
   {
    "duration": 426,
    "start_time": "2022-02-08T16:33:55.706Z"
   },
   {
    "duration": 552,
    "start_time": "2022-02-08T16:34:14.437Z"
   },
   {
    "duration": 455,
    "start_time": "2022-02-08T16:34:33.393Z"
   },
   {
    "duration": 8,
    "start_time": "2022-02-08T16:35:21.965Z"
   },
   {
    "duration": 8,
    "start_time": "2022-02-08T16:35:26.717Z"
   },
   {
    "duration": 9,
    "start_time": "2022-02-08T16:35:50.265Z"
   },
   {
    "duration": 7,
    "start_time": "2022-02-08T16:36:29.773Z"
   },
   {
    "duration": 8,
    "start_time": "2022-02-08T16:41:24.873Z"
   },
   {
    "duration": 484,
    "start_time": "2022-02-08T16:41:28.605Z"
   },
   {
    "duration": 526,
    "start_time": "2022-02-08T16:41:36.968Z"
   },
   {
    "duration": 508,
    "start_time": "2022-02-08T16:42:10.305Z"
   },
   {
    "duration": 8,
    "start_time": "2022-02-08T16:47:08.745Z"
   },
   {
    "duration": 403,
    "start_time": "2022-02-08T16:47:34.725Z"
   },
   {
    "duration": 439,
    "start_time": "2022-02-08T16:48:02.865Z"
   },
   {
    "duration": 386,
    "start_time": "2022-02-08T16:48:12.697Z"
   },
   {
    "duration": 554,
    "start_time": "2022-02-08T16:48:23.565Z"
   },
   {
    "duration": 445,
    "start_time": "2022-02-08T16:48:30.805Z"
   },
   {
    "duration": 708,
    "start_time": "2022-02-08T16:48:53.314Z"
   },
   {
    "duration": 17,
    "start_time": "2022-02-08T17:25:27.988Z"
   },
   {
    "duration": 48,
    "start_time": "2022-02-08T17:25:34.319Z"
   },
   {
    "duration": 47,
    "start_time": "2022-02-08T17:26:33.641Z"
   },
   {
    "duration": 15,
    "start_time": "2022-02-08T17:33:21.592Z"
   },
   {
    "duration": 21,
    "start_time": "2022-02-08T17:33:27.663Z"
   },
   {
    "duration": 7722,
    "start_time": "2022-02-08T17:33:47.719Z"
   },
   {
    "duration": 338,
    "start_time": "2022-02-08T17:33:56.728Z"
   },
   {
    "duration": 404,
    "start_time": "2022-02-08T17:34:52.720Z"
   },
   {
    "duration": 403,
    "start_time": "2022-02-08T17:35:32.380Z"
   },
   {
    "duration": 429,
    "start_time": "2022-02-08T17:35:54.716Z"
   },
   {
    "duration": 822,
    "start_time": "2022-02-08T17:36:38.631Z"
   },
   {
    "duration": 735,
    "start_time": "2022-02-08T17:37:17.448Z"
   },
   {
    "duration": 887,
    "start_time": "2022-02-08T17:37:45.882Z"
   },
   {
    "duration": 770,
    "start_time": "2022-02-08T17:38:05.888Z"
   },
   {
    "duration": 760,
    "start_time": "2022-02-08T17:38:10.496Z"
   },
   {
    "duration": 405,
    "start_time": "2022-02-08T17:41:13.164Z"
   },
   {
    "duration": 448,
    "start_time": "2022-02-08T17:45:30.380Z"
   },
   {
    "duration": 470,
    "start_time": "2022-02-08T17:46:36.639Z"
   },
   {
    "duration": 69,
    "start_time": "2022-02-08T17:49:04.916Z"
   },
   {
    "duration": 335,
    "start_time": "2022-02-08T17:49:41.588Z"
   },
   {
    "duration": 261,
    "start_time": "2022-02-08T17:50:18.261Z"
   },
   {
    "duration": 265,
    "start_time": "2022-02-08T17:50:35.148Z"
   },
   {
    "duration": 335,
    "start_time": "2022-02-08T17:51:08.639Z"
   },
   {
    "duration": 359,
    "start_time": "2022-02-08T17:51:28.949Z"
   },
   {
    "duration": 341,
    "start_time": "2022-02-08T17:51:32.612Z"
   },
   {
    "duration": 87,
    "start_time": "2022-02-08T17:52:17.713Z"
   },
   {
    "duration": 313,
    "start_time": "2022-02-08T17:52:49.299Z"
   },
   {
    "duration": 337,
    "start_time": "2022-02-08T17:53:01.861Z"
   },
   {
    "duration": 342,
    "start_time": "2022-02-08T17:53:26.868Z"
   },
   {
    "duration": 14,
    "start_time": "2022-02-08T17:59:38.692Z"
   },
   {
    "duration": 299,
    "start_time": "2022-02-08T18:00:01.111Z"
   },
   {
    "duration": 354,
    "start_time": "2022-02-08T18:00:31.311Z"
   },
   {
    "duration": 349,
    "start_time": "2022-02-08T18:00:43.098Z"
   },
   {
    "duration": 345,
    "start_time": "2022-02-08T18:00:48.641Z"
   },
   {
    "duration": 344,
    "start_time": "2022-02-08T18:03:55.019Z"
   },
   {
    "duration": 636,
    "start_time": "2022-02-08T18:04:36.479Z"
   },
   {
    "duration": 620,
    "start_time": "2022-02-08T18:04:46.561Z"
   },
   {
    "duration": 668,
    "start_time": "2022-02-08T18:04:52.729Z"
   },
   {
    "duration": 637,
    "start_time": "2022-02-08T18:04:58.621Z"
   },
   {
    "duration": 1113,
    "start_time": "2022-02-08T18:05:31.671Z"
   },
   {
    "duration": 421,
    "start_time": "2022-02-08T19:50:00.953Z"
   },
   {
    "duration": 863,
    "start_time": "2022-02-08T22:44:10.307Z"
   },
   {
    "duration": 133,
    "start_time": "2022-02-08T22:44:11.173Z"
   },
   {
    "duration": 41,
    "start_time": "2022-02-08T22:44:11.309Z"
   },
   {
    "duration": 1135,
    "start_time": "2022-02-08T22:44:11.369Z"
   },
   {
    "duration": 908,
    "start_time": "2022-02-08T22:44:12.506Z"
   },
   {
    "duration": 2053,
    "start_time": "2022-02-08T22:44:13.416Z"
   },
   {
    "duration": 251,
    "start_time": "2022-02-08T22:44:15.471Z"
   },
   {
    "duration": 536,
    "start_time": "2022-02-08T22:44:15.725Z"
   },
   {
    "duration": 736,
    "start_time": "2022-02-08T22:44:16.264Z"
   },
   {
    "duration": 848,
    "start_time": "2022-02-08T22:44:17.002Z"
   },
   {
    "duration": 372,
    "start_time": "2022-02-08T22:44:17.852Z"
   },
   {
    "duration": 49,
    "start_time": "2022-02-08T22:44:18.226Z"
   },
   {
    "duration": 370,
    "start_time": "2022-02-08T22:44:18.278Z"
   },
   {
    "duration": 1820,
    "start_time": "2022-02-08T22:44:18.650Z"
   },
   {
    "duration": 284,
    "start_time": "2022-02-08T22:44:20.473Z"
   },
   {
    "duration": 630,
    "start_time": "2022-02-08T22:44:20.760Z"
   },
   {
    "duration": 120,
    "start_time": "2022-02-08T22:44:21.393Z"
   },
   {
    "duration": 15,
    "start_time": "2022-02-08T22:44:21.516Z"
   },
   {
    "duration": 456,
    "start_time": "2022-02-08T22:44:21.533Z"
   },
   {
    "duration": 306,
    "start_time": "2022-02-08T22:44:21.991Z"
   },
   {
    "duration": 528,
    "start_time": "2022-02-08T22:44:22.299Z"
   },
   {
    "duration": 443,
    "start_time": "2022-02-08T22:44:22.829Z"
   },
   {
    "duration": 536,
    "start_time": "2022-02-08T22:44:23.276Z"
   },
   {
    "duration": 6,
    "start_time": "2022-02-08T22:44:23.815Z"
   },
   {
    "duration": 457,
    "start_time": "2022-02-08T22:44:23.823Z"
   },
   {
    "duration": 350,
    "start_time": "2022-02-08T22:44:24.282Z"
   },
   {
    "duration": 236,
    "start_time": "2022-02-08T22:44:24.634Z"
   },
   {
    "duration": 321,
    "start_time": "2022-02-08T22:44:24.873Z"
   },
   {
    "duration": 1049,
    "start_time": "2022-02-08T22:44:25.197Z"
   },
   {
    "duration": 76,
    "start_time": "2022-02-10T11:19:16.598Z"
   },
   {
    "duration": 394,
    "start_time": "2022-02-10T11:19:20.926Z"
   },
   {
    "duration": 817,
    "start_time": "2022-02-10T11:19:24.370Z"
   },
   {
    "duration": 78,
    "start_time": "2022-02-10T11:19:26.580Z"
   },
   {
    "duration": 117,
    "start_time": "2022-02-10T11:19:35.735Z"
   }
  ],
  "kernelspec": {
   "display_name": "Python 3 (ipykernel)",
   "language": "python",
   "name": "python3"
  },
  "language_info": {
   "codemirror_mode": {
    "name": "ipython",
    "version": 3
   },
   "file_extension": ".py",
   "mimetype": "text/x-python",
   "name": "python",
   "nbconvert_exporter": "python",
   "pygments_lexer": "ipython3",
   "version": "3.7.8"
  },
  "toc": {
   "base_numbering": 1,
   "nav_menu": {},
   "number_sections": true,
   "sideBar": true,
   "skip_h1_title": false,
   "title_cell": "Содержание",
   "title_sidebar": "Contents",
   "toc_cell": false,
   "toc_position": {
    "height": "calc(100% - 180px)",
    "left": "10px",
    "top": "150px",
    "width": "252.594px"
   },
   "toc_section_display": true,
   "toc_window_display": true
  }
 },
 "nbformat": 4,
 "nbformat_minor": 2
}
