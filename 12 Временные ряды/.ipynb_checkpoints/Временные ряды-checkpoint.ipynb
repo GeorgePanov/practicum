{
 "cells": [
  {
   "cell_type": "markdown",
   "metadata": {},
   "source": [
    "<div style=\"border:solid green 2px; padding: 20px\">\n",
    "<b>Привет,Георгий!</b>\n",
    "\n",
    "Меня зовут Лутченкова Екатерина, и я буду проверять твой проект. Предлагаю общаться на «ты», но если это не удобно - дай знать, и мы перейдем на \"вы\". Моя основная цель — помочь тебе разобраться в материале, поделиться своим опытом и помочь тебе стать крутым специалистом.\n",
    "\n",
    "Ниже ты найдешь мои комментарии, они будут в отдельных ячейках Markdown с заголовком «Комментарий ревьюера». **Пожалуйста, не перемещай, не изменяй и не удаляй их**. Я буду использовать цветовую разметку:\n",
    "\n",
    "<div class=\"alert alert-danger\">\n",
    "<b>Комментарий ревьюера ❌:</b> Так выделены самые важные замечания. Без их отработки я не смогу принять твой проект. </div>\n",
    "\n",
    "<div class=\"alert alert-warning\">\n",
    "<b>Комментарий ревьюера ⚠️:</b> Так выделены небольшие замечания. Я надеюсь, что их ты тоже учтешь - твой проект от этого станет только лучше. Но настаивать на их отработке не буду.\n",
    "\n",
    "</div>\n",
    "\n",
    "<div class=\"alert alert-success\">\n",
    "<b>Комментарий ревьюера ✔️:</b> Так я выделяю все остальные комментарии.</div>\n",
    "\n",
    "Давай работать над проектом в диалоге: **если ты что-то меняешь в проекте или отвечаешь на мои комменатри — пиши об этом.** Мне будет легче отследить изменения, если ты выделишь свои комментарии:\n",
    "<div class=\"alert alert-info\"> <b>Комментарий студента:</b> Например, вот так.</div>\n",
    "\n",
    "Всё это поможет выполнить повторную проверку твоего проекта оперативнее."
   ]
  },
  {
   "cell_type": "markdown",
   "metadata": {},
   "source": [
    "<div class=\"alert alert-warning\">\n",
    "<b>⚠️ Комментарий ревьюера:</b> \n",
    "\n",
    "Было бы здорово, если бы здесь было оглавление. \n",
    "    \n",
    "Возможность использовать стандартное автособираемое оглавление есть не всегда, а хорошее оглавление делает работу чуткой и структурированной.\n",
    "</div>"
   ]
  },
  {
   "cell_type": "markdown",
   "metadata": {},
   "source": [
    "#  Прогнозирование заказов такси"
   ]
  },
  {
   "cell_type": "markdown",
   "metadata": {},
   "source": [
    "Компания «Чётенькое такси» собрала исторические данные о заказах такси в аэропортах. Чтобы привлекать больше водителей в период пиковой нагрузки, нужно спрогнозировать количество заказов такси на следующий час. Постройте модель для такого предсказания.\n",
    "\n",
    "Значение метрики *RMSE* на тестовой выборке должно быть не больше 48.\n",
    "\n",
    "Вам нужно:\n",
    "\n",
    "1. Загрузить данные и выполнить их ресемплирование по одному часу.\n",
    "2. Проанализировать данные.\n",
    "3. Обучить разные модели с различными гиперпараметрами. Сделать тестовую выборку размером 10% от исходных данных.\n",
    "4. Проверить данные на тестовой выборке и сделать выводы.\n",
    "\n",
    "\n",
    "Данные лежат в файле `taxi.csv`. Количество заказов находится в столбце `num_orders` (от англ. *number of orders*, «число заказов»)."
   ]
  },
  {
   "cell_type": "markdown",
   "metadata": {},
   "source": [
    "## Подготовка"
   ]
  },
  {
   "cell_type": "code",
   "execution_count": 1,
   "metadata": {},
   "outputs": [],
   "source": [
    "import pandas as pd\n",
    "import numpy as np\n",
    "# import lightgbm as lgb\n",
    "import matplotlib.pyplot as plt\n",
    "\n",
    "from sklearn.model_selection import GridSearchCV\n",
    "from sklearn.model_selection import TimeSeriesSplit\n",
    "from sklearn.model_selection import cross_val_score\n",
    "from sklearn.model_selection import train_test_split\n",
    "from sklearn.metrics import mean_squared_error\n",
    "\n",
    "from sklearn.linear_model import LinearRegression\n",
    "from sklearn.tree import DecisionTreeRegressor\n",
    "from sklearn.ensemble import RandomForestRegressor\n",
    "\n",
    "from statsmodels.tsa.seasonal import seasonal_decompose\n",
    "\n",
    "# чтобы не было предупреждений\n",
    "import warnings\n",
    "warnings.filterwarnings(\"ignore\")"
   ]
  },
  {
   "cell_type": "code",
   "execution_count": 2,
   "metadata": {
    "scrolled": false
   },
   "outputs": [
    {
     "data": {
      "text/html": [
       "<div>\n",
       "<style scoped>\n",
       "    .dataframe tbody tr th:only-of-type {\n",
       "        vertical-align: middle;\n",
       "    }\n",
       "\n",
       "    .dataframe tbody tr th {\n",
       "        vertical-align: top;\n",
       "    }\n",
       "\n",
       "    .dataframe thead th {\n",
       "        text-align: right;\n",
       "    }\n",
       "</style>\n",
       "<table border=\"1\" class=\"dataframe\">\n",
       "  <thead>\n",
       "    <tr style=\"text-align: right;\">\n",
       "      <th></th>\n",
       "      <th>num_orders</th>\n",
       "    </tr>\n",
       "    <tr>\n",
       "      <th>datetime</th>\n",
       "      <th></th>\n",
       "    </tr>\n",
       "  </thead>\n",
       "  <tbody>\n",
       "    <tr>\n",
       "      <td>2018-03-01 00:00:00</td>\n",
       "      <td>9</td>\n",
       "    </tr>\n",
       "    <tr>\n",
       "      <td>2018-03-01 00:10:00</td>\n",
       "      <td>14</td>\n",
       "    </tr>\n",
       "    <tr>\n",
       "      <td>2018-03-01 00:20:00</td>\n",
       "      <td>28</td>\n",
       "    </tr>\n",
       "    <tr>\n",
       "      <td>2018-03-01 00:30:00</td>\n",
       "      <td>20</td>\n",
       "    </tr>\n",
       "    <tr>\n",
       "      <td>2018-03-01 00:40:00</td>\n",
       "      <td>32</td>\n",
       "    </tr>\n",
       "    <tr>\n",
       "      <td>...</td>\n",
       "      <td>...</td>\n",
       "    </tr>\n",
       "    <tr>\n",
       "      <td>2018-08-31 23:10:00</td>\n",
       "      <td>32</td>\n",
       "    </tr>\n",
       "    <tr>\n",
       "      <td>2018-08-31 23:20:00</td>\n",
       "      <td>24</td>\n",
       "    </tr>\n",
       "    <tr>\n",
       "      <td>2018-08-31 23:30:00</td>\n",
       "      <td>27</td>\n",
       "    </tr>\n",
       "    <tr>\n",
       "      <td>2018-08-31 23:40:00</td>\n",
       "      <td>39</td>\n",
       "    </tr>\n",
       "    <tr>\n",
       "      <td>2018-08-31 23:50:00</td>\n",
       "      <td>53</td>\n",
       "    </tr>\n",
       "  </tbody>\n",
       "</table>\n",
       "<p>26496 rows × 1 columns</p>\n",
       "</div>"
      ],
      "text/plain": [
       "                     num_orders\n",
       "datetime                       \n",
       "2018-03-01 00:00:00           9\n",
       "2018-03-01 00:10:00          14\n",
       "2018-03-01 00:20:00          28\n",
       "2018-03-01 00:30:00          20\n",
       "2018-03-01 00:40:00          32\n",
       "...                         ...\n",
       "2018-08-31 23:10:00          32\n",
       "2018-08-31 23:20:00          24\n",
       "2018-08-31 23:30:00          27\n",
       "2018-08-31 23:40:00          39\n",
       "2018-08-31 23:50:00          53\n",
       "\n",
       "[26496 rows x 1 columns]"
      ]
     },
     "metadata": {},
     "output_type": "display_data"
    },
    {
     "name": "stdout",
     "output_type": "stream",
     "text": [
      "Проверка монотонности индекса - True\n"
     ]
    }
   ],
   "source": [
    "# data = pd.read_csv('/datasets/taxi.csv', index_col=[0], parse_dates=[0])\n",
    "data = pd.read_csv(r\"C:\\Users\\George\\Мой диск\\3 Практикум\\2 Проекты\\12 Временные ряды\\taxi.csv\", index_col=[0], parse_dates=[0])\n",
    "\n",
    "display(data)\n",
    "\n",
    "print(f'Проверка монотонности индекса - {data.index.is_monotonic}')"
   ]
  },
  {
   "cell_type": "markdown",
   "metadata": {},
   "source": [
    "<div class=\"alert alert-success\">\n",
    "<b>✔️ Комментарий ревьюера:</b>\n",
    "\n",
    "Молодец, что столбец `datetime` сразу читаешь в формате даты и в качестве индекса.\n",
    "</div>"
   ]
  },
  {
   "cell_type": "markdown",
   "metadata": {},
   "source": [
    "## Анализ"
   ]
  },
  {
   "cell_type": "code",
   "execution_count": 3,
   "metadata": {},
   "outputs": [],
   "source": [
    "data_copy = data.copy()"
   ]
  },
  {
   "cell_type": "code",
   "execution_count": 4,
   "metadata": {},
   "outputs": [],
   "source": [
    "data_copy_rolling = data_copy.resample('1H').sum()\n",
    "data_copy_decompose = data_copy.resample('1H').sum()"
   ]
  },
  {
   "cell_type": "markdown",
   "metadata": {},
   "source": [
    "<div class=\"alert alert-success\">\n",
    "<b>✔️ Комментарий ревьюера:</b>\n",
    "\n",
    "Верно, ресемплирование по часу здесь самое подходящее. А еще хорошо, что ты берешь сумму, это наиболее правильно в плане интерпретации.\n",
    "</div>"
   ]
  },
  {
   "cell_type": "code",
   "execution_count": 5,
   "metadata": {},
   "outputs": [
    {
     "data": {
      "text/plain": [
       "<matplotlib.axes._subplots.AxesSubplot at 0x1d8b9cf29c8>"
      ]
     },
     "execution_count": 5,
     "metadata": {},
     "output_type": "execute_result"
    },
    {
     "data": {
      "image/png": "[encoded data removed]",
      "text/plain": [
       "<Figure size 864x360 with 1 Axes>"
      ]
     },
     "metadata": {
      "needs_background": "light"
     },
     "output_type": "display_data"
    }
   ],
   "source": [
    "data_copy_rolling['mean'] = data_copy_rolling['num_orders'].rolling(20).mean()\n",
    "data_copy_rolling.plot(figsize=(12, 5), title = 'Количество заказов и среднее распределение')"
   ]
  },
  {
   "cell_type": "code",
   "execution_count": 6,
   "metadata": {
    "scrolled": false
   },
   "outputs": [
    {
     "data": {
      "image/png": "[encoded data removed]",
      "text/plain": [
       "<Figure size 864x720 with 3 Axes>"
      ]
     },
     "metadata": {
      "needs_background": "light"
     },
     "output_type": "display_data"
    }
   ],
   "source": [
    "decomposed = seasonal_decompose(data_copy_decompose)\n",
    "\n",
    "plt.figure(figsize=(12, 10))\n",
    "plt.subplot(311)\n",
    "decomposed.trend.plot(ax=plt.gca())\n",
    "plt.title('Trend')\n",
    "\n",
    "plt.subplot(312)\n",
    "decomposed.seasonal.plot(ax=plt.gca())\n",
    "plt.title('Seasonality')\n",
    "\n",
    "plt.subplot(313)\n",
    "decomposed.resid.plot(ax=plt.gca())\n",
    "plt.title('Residuals')\n",
    "\n",
    "plt.tight_layout()"
   ]
  },
  {
   "cell_type": "markdown",
   "metadata": {},
   "source": [
    "Ничего не понятно, поэтому возьмём за месяц, неделю и неделю"
   ]
  },
  {
   "cell_type": "code",
   "execution_count": 7,
   "metadata": {},
   "outputs": [],
   "source": [
    "data_per_month = data_copy['2018-03' : '2018-04'].resample('1H').sum()\n",
    "data_per_week = data_copy['2018-03-04' : '2018-03-11'].resample('1H').sum()\n",
    "data_per_day = data_copy['2018-05-20' : '2018-05-21'].resample('1H').sum()"
   ]
  },
  {
   "cell_type": "code",
   "execution_count": 8,
   "metadata": {
    "scrolled": false
   },
   "outputs": [
    {
     "data": {
      "image/png": "[encoded data removed]",
      "text/plain": [
       "<Figure size 864x936 with 4 Axes>"
      ]
     },
     "metadata": {
      "needs_background": "light"
     },
     "output_type": "display_data"
    }
   ],
   "source": [
    "decomposed_per_month = seasonal_decompose(data_per_month)\n",
    "decomposed_per_week = seasonal_decompose(data_per_week)\n",
    "decomposed_per_day = seasonal_decompose(data_per_day)\n",
    "\n",
    "plt.figure(figsize=(12, 13))\n",
    "plt.subplot(411)\n",
    "decomposed_per_month.trend.plot(ax=plt.gca())\n",
    "plt.title('Trend per month')\n",
    "plt.grid()\n",
    "\n",
    "plt.subplot(412)\n",
    "decomposed_per_month.seasonal.plot(ax=plt.gca())\n",
    "plt.title('Seasonality per month')\n",
    "plt.grid()\n",
    "\n",
    "plt.subplot(413)\n",
    "decomposed_per_week.seasonal.plot(ax=plt.gca())\n",
    "plt.title('Seasonality per week')\n",
    "plt.grid()\n",
    "\n",
    "plt.subplot(414)\n",
    "decomposed_per_day.seasonal.plot(ax=plt.gca())\n",
    "plt.title('Seasonality per day')\n",
    "plt.grid()\n",
    "\n",
    "plt.tight_layout()"
   ]
  },
  {
   "cell_type": "markdown",
   "metadata": {},
   "source": [
    "**Вывод**\n",
    "\n",
    "- Видно, что среднее значение как и колличество заказов увеличивается\n",
    "- Видна сезонность по утрам и в районе 16-17 часов. Но ещё пики около 12 часов, а потом спад."
   ]
  },
  {
   "cell_type": "markdown",
   "metadata": {},
   "source": [
    "<div class=\"alert alert-success\">\n",
    "<b>✔️ Комментарий ревьюера:</b>\n",
    "\n",
    "Да, верно. В данных присутствует и тренд и сезонность. Молодец, что рассмотрел сезонность на более коротком промежутке и заметил сезонность внутри суток.\n",
    "    \n",
    "Здесь еще можно убедиться, что наш ряд стационарный. Для этого можно провести тест Дики — Фуллера. Подробнее можно почитать [здесь](https://habr.com/ru/post/540868/).\n",
    "</div>"
   ]
  },
  {
   "cell_type": "markdown",
   "metadata": {},
   "source": [
    "## Обучение"
   ]
  },
  {
   "cell_type": "code",
   "execution_count": 9,
   "metadata": {},
   "outputs": [],
   "source": [
    "data_learning = data_copy.resample('1H').sum()"
   ]
  },
  {
   "cell_type": "code",
   "execution_count": 10,
   "metadata": {},
   "outputs": [],
   "source": [
    "def make_features(data, max_lag, rolling_mean_size):\n",
    "    data['day'] = data.index.day\n",
    "    data['dayofweek'] = data.index.dayofweek\n",
    "    data['hour'] = data.index.hour\n",
    "    \n",
    "    for lag in range(1, max_lag + 1):\n",
    "        data['lag_{}'.format(lag)] = data['num_orders'].shift(lag)\n",
    "\n",
    "    data['rolling_mean'] = data['num_orders'].shift().rolling(rolling_mean_size).mean()"
   ]
  },
  {
   "cell_type": "markdown",
   "metadata": {},
   "source": [
    "<div class=\"alert alert-danger\">\n",
    "<b>❌ Комментарий ревьюера:</b> \n",
    "\n",
    "Все данные за 2018 год, поэтому выделять отдельно год не имеет смысла, этот признак будет равен константе. Месяц выделить можно, но это тоже довольно бесполезный признак, так как данные у нас всего за пол года, а дальше предсказывать придется осень.\n",
    "    \n",
    "А вот час, как раз таки, нужно выделить в отдельный признак, так как, в задании просят предсказывать данные на следующий час.\n",
    "</div>"
   ]
  },
  {
   "cell_type": "markdown",
   "metadata": {},
   "source": [
    "<div class=\"alert alert-info\"> <b>Комментарий студента:</b> \n",
    "    Исправил\n",
    "</div>"
   ]
  },
  {
   "cell_type": "markdown",
   "metadata": {},
   "source": [
    "print(features_train.shape)\n",
    "print(features_test.shape)\n",
    "print(target_train.shape)\n",
    "print(target_test.shape)"
   ]
  },
  {
   "cell_type": "markdown",
   "metadata": {},
   "source": [
    "<div class=\"alert alert-danger\">\n",
    "<b>❌ Комментарий ревьюера:</b> \n",
    "\n",
    "Твой код не работает в режиме Run-All. Ты пытаешься вывести переменные, которые еще не були созданы. \n",
    "    \n",
    "Перед отправкой проекта рекоммендую запустить проект заново от начала до конца и убедиться, что весь код работает (`Kernel -> Restart & Run All`).\n",
    "\n",
    "</div>"
   ]
  },
  {
   "cell_type": "markdown",
   "metadata": {},
   "source": [
    "display(train.head())\n",
    "display(test.head())"
   ]
  },
  {
   "cell_type": "markdown",
   "metadata": {},
   "source": [
    "<div class=\"alert alert-success\">\n",
    "<b>✔️ Комментарий ревьюера:</b>\n",
    "\n",
    "Хочу тебе напомнить графический метод подбора параметров max_lag и rolling_mean_size.\n",
    "     \n",
    "Чтобы оценить количество лагов, можно построить график частной автокорреляционной функции\\\n",
    "А для того, чтобы оценить порядок скользящего среднего, построить график автокорреляционной функции. Нам нужен тот параметр, после которого значения функции равны или близки к нулю.\\\n",
    "Подходить может много вариантов, но выбор слишком больших параметров усложнит модель.\n",
    "    \n",
    "```python\n",
    "from statsmodels.graphics.tsaplots import plot_acf, plot_pacf\n",
    "\n",
    "plot_pacf(ts, alpha=None).set_size_inches(12, 4)\n",
    "plt.show()\n",
    "\n",
    "plot_acf(ts, alpha=None).set_size_inches(12, 4)\n",
    "plt.show()\n",
    "```\n",
    "https://habr.com/ru/post/207160/\n",
    "</div>"
   ]
  },
  {
   "cell_type": "code",
   "execution_count": 11,
   "metadata": {
    "scrolled": false
   },
   "outputs": [
    {
     "data": {
      "image/png": "[encoded data removed]",
      "text/plain": [
       "<Figure size 864x288 with 1 Axes>"
      ]
     },
     "metadata": {
      "needs_background": "light"
     },
     "output_type": "display_data"
    },
    {
     "data": {
      "image/png": "[encoded data removed]",
      "text/plain": [
       "<Figure size 864x288 with 1 Axes>"
      ]
     },
     "metadata": {
      "needs_background": "light"
     },
     "output_type": "display_data"
    }
   ],
   "source": [
    "from statsmodels.graphics.tsaplots import plot_acf, plot_pacf\n",
    "\n",
    "plot_pacf(data_learning, alpha=None).set_size_inches(12, 4)\n",
    "plt.show()\n",
    "\n",
    "plot_acf(data_learning, alpha=None).set_size_inches(12, 4)\n",
    "plt.show()"
   ]
  },
  {
   "cell_type": "markdown",
   "metadata": {},
   "source": [
    "<div class=\"alert alert-info\"> <b>Комментарий студента:</b> \n",
    "    Я посмотрел документацию, но до конца не понял, что мне нужно делать с этими данными. Какие значение стоит брать.\n",
    "</div>"
   ]
  },
  {
   "cell_type": "code",
   "execution_count": 12,
   "metadata": {},
   "outputs": [],
   "source": [
    "make_features(data_learning, 8, 9)"
   ]
  },
  {
   "cell_type": "code",
   "execution_count": 13,
   "metadata": {},
   "outputs": [],
   "source": [
    "# Создадим обучающую, валидационную и тестовую выборки\n",
    "train, valid = train_test_split(data_learning, shuffle=False, test_size=0.2)\n",
    "valid, test = train_test_split(valid, shuffle=False, test_size=0.5)\n",
    "\n",
    "train = train.dropna()\n",
    "\n",
    "features_train = train.drop('num_orders', axis=1)\n",
    "features_valid = valid.drop('num_orders', axis=1)\n",
    "features_test = test.drop('num_orders', axis=1)\n",
    "\n",
    "target_train = train['num_orders']\n",
    "target_valid = valid['num_orders']\n",
    "target_test = test['num_orders']"
   ]
  },
  {
   "cell_type": "code",
   "execution_count": 14,
   "metadata": {},
   "outputs": [
    {
     "name": "stdout",
     "output_type": "stream",
     "text": [
      "(3523, 12)\n",
      "(442, 12)\n",
      "(442, 12)\n",
      "(3523,)\n",
      "(442,)\n",
      "(442,)\n"
     ]
    }
   ],
   "source": [
    "print(features_train.shape)\n",
    "print(features_valid.shape)\n",
    "print(features_test.shape)\n",
    "print(target_train.shape)\n",
    "print(target_valid.shape)\n",
    "print(target_test.shape)"
   ]
  },
  {
   "cell_type": "markdown",
   "metadata": {},
   "source": [
    "### Линейная регрессия"
   ]
  },
  {
   "cell_type": "code",
   "execution_count": 15,
   "metadata": {
    "scrolled": false
   },
   "outputs": [
    {
     "data": {
      "text/plain": [
       "0.1591708144066405"
      ]
     },
     "execution_count": 15,
     "metadata": {},
     "output_type": "execute_result"
    }
   ],
   "source": [
    "# Воспользуемся линейной регрессией\n",
    "model_lr = LinearRegression()\n",
    "model_lr.fit(features_train, target_train)\n",
    "\n",
    "# print(\"RMSE обучающей выборки:\", mean_squared_error(target_valid, model.predict(features_valid))**0.5)\n",
    "\n",
    "tscv = TimeSeriesSplit(n_splits=10)\n",
    "cross_val_score(model_lr, features_train, target_train, cv=tscv).mean()"
   ]
  },
  {
   "cell_type": "markdown",
   "metadata": {},
   "source": [
    "<div class=\"alert alert-danger\">\n",
    "<b>❌ Комментарий ревьюера:</b> \n",
    "\n",
    "Если тестировать модель на обучающей выборке - большой риск не заметить переобучение, что видно по результатам на тестовой выборке.\n",
    "Здесь можно использовать валидационную выборку, но лучше тестировать модель с помощью кросс-валидации, такая оценка получается более \"честной\". Оставлю ссылку: https://scikit-learn.org/stable/modules/generated/sklearn.model_selection.cross_val_score.html\n",
    "    \n",
    "Также не забудь, что в случае с временным рядом нам нужно задать кросс-валидацию TimeSeriesSplit\\\n",
    "https://scikit-learn.org/stable/modules/generated/sklearn.model_selection.TimeSeriesSplit.html \\\n",
    "Если мы исследуем временной ряд, то в каждом сплите тестовые индексы должны быть позже по времени, чем обучающие, поэтому перетасовка обычным способом неуместна. Как раз TimeSeriesSplit решает эту проблему.\\\n",
    "Иллюстрация работы:\\\n",
    "</font>\n",
    "![image.png](https://scikit-learn.org/stable/_images/sphx_glr_plot_cv_indices_013.png)\n",
    "\n",
    "Сделать это можно примерно так:\n",
    "```python\n",
    "tscv = TimeSeriesSplit(n_splits=10)\n",
    "cross_val_score(model, X, y, cv=tscv)\n",
    "```\n",
    "</div>"
   ]
  },
  {
   "cell_type": "markdown",
   "metadata": {},
   "source": [
    "<div class=\"alert alert-info\"> <b>Комментарий студента:</b> \n",
    "    Сделал валидационную выборку, также сделал кросс-валидацию TimeSeriesSplit, но, буду честен, не понимаю что делать с результатом (полученный array-массив)\n",
    "</div>"
   ]
  },
  {
   "cell_type": "markdown",
   "metadata": {},
   "source": [
    "### Дерево решений"
   ]
  },
  {
   "cell_type": "code",
   "execution_count": 16,
   "metadata": {},
   "outputs": [
    {
     "name": "stdout",
     "output_type": "stream",
     "text": [
      "Wall time: 21 s\n"
     ]
    },
    {
     "data": {
      "text/plain": [
       "{'max_depth': 5, 'min_samples_leaf': 4, 'min_samples_split': 2}"
      ]
     },
     "execution_count": 16,
     "metadata": {},
     "output_type": "execute_result"
    }
   ],
   "source": [
    "%%time\n",
    "\n",
    "model = DecisionTreeRegressor()\n",
    "\n",
    "parametrs = { 'max_depth': range(1, 13),\n",
    "              'min_samples_leaf': range(1, 8),\n",
    "              'min_samples_split': range(2, 10, 2) }\n",
    "\n",
    "grid = GridSearchCV(model, parametrs, cv=5)\n",
    "grid.fit(features_train, target_train)\n",
    "\n",
    "grid.best_params_"
   ]
  },
  {
   "cell_type": "code",
   "execution_count": 17,
   "metadata": {},
   "outputs": [
    {
     "name": "stdout",
     "output_type": "stream",
     "text": [
      "RMSE валидационной выборки: 39.9194206590888\n"
     ]
    },
    {
     "data": {
      "text/plain": [
       "0.29844290786584143"
      ]
     },
     "execution_count": 17,
     "metadata": {},
     "output_type": "execute_result"
    }
   ],
   "source": [
    "model_dt = DecisionTreeRegressor(max_depth=5, min_samples_leaf=4, min_samples_split=2, random_state=12345)\n",
    "\n",
    "model_dt.fit(features_train, target_train)\n",
    "print(\"RMSE валидационной выборки:\", mean_squared_error(target_valid, model_dt.predict(features_valid))**0.5)\n",
    "\n",
    "cross_val_score(model_dt, features_train, target_train, cv=tscv).mean()"
   ]
  },
  {
   "cell_type": "markdown",
   "metadata": {},
   "source": [
    "### Случайный лес"
   ]
  },
  {
   "cell_type": "markdown",
   "metadata": {},
   "source": [
    "Сделал подбор гиперпараметров с помощью GridSearchCV, заняло 11 минут. \n",
    "\n",
    "```python\n",
    "%%time\n",
    "\n",
    "model = RandomForestRegressor()\n",
    "\n",
    "parametrs = { 'n_estimators': range(10, 51, 10),\n",
    "              'max_depth': range(1, 13, 2),\n",
    "              'min_samples_leaf': range(1, 8),\n",
    "              'min_samples_split': range(2, 10, 2) }\n",
    "\n",
    "grid = GridSearchCV(model, parametrs, cv=5)\n",
    "grid.fit(features_train, target_train)\n",
    "\n",
    "grid.best_params_\n",
    "````\n",
    "Результат был следующим: `n_estimators=40, max_depth=11, min_samples_leaf=4, min_samples_split=2`"
   ]
  },
  {
   "cell_type": "code",
   "execution_count": 18,
   "metadata": {},
   "outputs": [
    {
     "name": "stdout",
     "output_type": "stream",
     "text": [
      "RMSE валидационной выборки: 33.82620037698347\n"
     ]
    },
    {
     "data": {
      "text/plain": [
       "0.49252376780663"
      ]
     },
     "execution_count": 18,
     "metadata": {},
     "output_type": "execute_result"
    }
   ],
   "source": [
    "model_rf = RandomForestRegressor(n_estimators=40, max_depth=11, min_samples_leaf=4, min_samples_split=2, random_state=12345)\n",
    "\n",
    "model_rf.fit(features_train, target_train)\n",
    "print(\"RMSE валидационной выборки:\", mean_squared_error(target_valid, model_rf.predict(features_valid))**0.5)\n",
    "\n",
    "cross_val_score(model_rf, features_train, target_train, cv=tscv).mean()"
   ]
  },
  {
   "cell_type": "markdown",
   "metadata": {},
   "source": [
    "<div class=\"alert alert-danger\">\n",
    "<b>❌ Комментарий ревьюера:</b> \n",
    "\n",
    "Нельзя подбирать гиперпараметры по обучающей выборке, это грубейшая ошибка, которая ведет к переобучению.\n",
    "Если ты подбираешь гиперпараметры в цикле, необходимо выделять валидационную выборку или использовать кросс-валидацию. В нашем случае удобнее использовать кросс-валидацию с поиском гиперпараметров по сетке: Вот [ссылка](https://vc.ru/ml/147132-kak-avtomaticheski-podobrat-parametry-dlya-modeli-mashinnogo-obucheniya-ispolzuem-gridsearchcv).\n",
    "    \n",
    "Также не забудь, что здесь тоже следует использовать разбивку TimeSeriesSplit.\n",
    "    \n",
    "</div>"
   ]
  },
  {
   "cell_type": "markdown",
   "metadata": {},
   "source": [
    "## Тестирование"
   ]
  },
  {
   "cell_type": "code",
   "execution_count": 19,
   "metadata": {},
   "outputs": [
    {
     "name": "stdout",
     "output_type": "stream",
     "text": [
      "RMSE тестовой выборки: 54.12916648172606\n"
     ]
    }
   ],
   "source": [
    "print(\"RMSE тестовой выборки:\", mean_squared_error(target_test, model_rf.predict(features_test))**0.5)"
   ]
  },
  {
   "cell_type": "markdown",
   "metadata": {},
   "source": [
    "<div class=\"alert alert-danger\">\n",
    "<b>❌ Комментарий ревьюера:</b> \n",
    "    \n",
    "Давай тут еще построим график с реальным и предсказанным значением тестовой выборки. Интересно, как все это дело выглядит. \n",
    "\n",
    "График нужен типо такого: https://www.pvsm.ru/images/2017/04/24/otkrytyi-kurs-mashinnogo-obucheniya-tema-9-analiz-vremennyh-ryadov-s-pomoshyu-Python-61.png\n",
    "    \n",
    "На одном графике две линии: реальный временной ряд из тестовой выборки и предсказанный временной ряд из тестовой выборки\n",
    "\n",
    "Как ты думаешь, какие результаты можно считать приемлемыми? Ты построил так много классных моделей, обучил их, получил довольно низкие значения RMSE. Но что, если константное предсказание результат лучше, чем твоя модель? Давай посчитаем значение метрики на любой простейшей модели (на твой выбор - среднее, предыдущее, DummyRegressor) и оценим результат.  \n",
    "</div>"
   ]
  },
  {
   "cell_type": "markdown",
   "metadata": {},
   "source": [
    "<div class=\"alert alert-info\"> <b>Комментарий студента:</b> \n",
    "    Я взял несколько других моделей, подобрал параметры с помощью GridSearchCV и обучил их. Но всё равно получил низкие значения RMSE. Не понимаю, как лучше сделать\n",
    "</div>"
   ]
  },
  {
   "cell_type": "markdown",
   "metadata": {},
   "source": [
    "<div style=\"border:solid green 2px; padding: 20px\">\n",
    "    \n",
    "Спасибо за твою работу, основные шаги выполнены.\n",
    "    \n",
    "Мне понравился твой раздел с первоначальным анализом, молодец, что заметил наличие тренда и сезонности.\n",
    "    \n",
    "В разделе с обучением моделей еще есть над чем поработать: пока тебе не удалось достичь необходимого качества модели, но мы движемся в верном направлении :)\n",
    "    \n",
    "Есть несколько доработок, без выполнения которых я не смогу принять твой проект:\n",
    "    \n",
    "    1. Подумать над выделением признаков;\n",
    "    \n",
    "    2. Правильно оценить качество моделей;\n",
    "    \n",
    "    3. Построить график с прогнозом;\n",
    "    \n",
    "    4. Сравнить твой результат с простейшим предсказанием;\n",
    "    \n",
    "    5. Написать финальные выводы;\n",
    "    \n",
    "    \n",
    "Буду ждать твою работу на повторное ревью. Если у тебя есть какие-то вопросы, буду рада на них ответить 🙂"
   ]
  },
  {
   "cell_type": "markdown",
   "metadata": {},
   "source": [
    "## Чек-лист проверки"
   ]
  },
  {
   "cell_type": "markdown",
   "metadata": {},
   "source": [
    "- [x]  Jupyter Notebook открыт\n",
    "- [ ]  Весь код выполняется без ошибок\n",
    "- [ ]  Ячейки с кодом расположены в порядке исполнения\n",
    "- [ ]  Данные загружены и подготовлены\n",
    "- [ ]  Данные проанализированы\n",
    "- [ ]  Модель обучена, гиперпараметры подобраны\n",
    "- [ ]  Качество моделей проверено, выводы сделаны\n",
    "- [ ]  Значение *RMSE* на тестовой выборке не больше 48"
   ]
  },
  {
   "cell_type": "markdown",
   "metadata": {},
   "source": [
    "```python\n",
    "%%time\n",
    "\n",
    "# усовершенствуем\n",
    "best_max_lag = 0\n",
    "best_rolling_mean_size = 0\n",
    "best_rmse = 1000000000\n",
    "best_model = None\n",
    "\n",
    "for max_lag in range(1, 21):\n",
    "    for rolling_mean_size in range(1, 21):\n",
    "        make_features(data_learning, max_lag, rolling_mean_size)\n",
    "\n",
    "        train, test = train_test_split(data_learning, shuffle=False, test_size=0.1)\n",
    "        train = train.dropna()\n",
    "\n",
    "        features_train = train.drop('num_orders', axis=1)\n",
    "        features_test = test.drop('num_orders', axis=1)\n",
    "        target_train = train['num_orders']\n",
    "        target_test = test['num_orders']\n",
    "\n",
    "        model = LinearRegression()\n",
    "        model.fit(features_train, target_train)\n",
    "\n",
    "        rmse = mean_squared_error(target_train, model.predict(features_train))**0.5\n",
    "        if rmse < best_rmse:\n",
    "            best_max_lag = max_lag\n",
    "            best_rolling_mean_size = rolling_mean_size\n",
    "            best_rmse = rmse\n",
    "            best_model = model\n",
    "\n",
    "print('best_max_lag =', best_max_lag)\n",
    "print('best_rolling_mean_size =', best_rolling_mean_size)\n",
    "print('best_rmse', best_rmse)\n",
    "```"
   ]
  },
  {
   "cell_type": "code",
   "execution_count": null,
   "metadata": {},
   "outputs": [],
   "source": []
  }
 ],
 "metadata": {
  "ExecuteTimeLog": [
   {
    "duration": 821,
    "start_time": "2022-06-07T17:27:06.942Z"
   },
   {
    "duration": 144,
    "start_time": "2022-06-07T17:27:50.649Z"
   },
   {
    "duration": 40,
    "start_time": "2022-06-07T17:27:59.952Z"
   },
   {
    "duration": 56,
    "start_time": "2022-06-07T17:28:34.460Z"
   },
   {
    "duration": 118,
    "start_time": "2022-06-07T17:28:55.063Z"
   },
   {
    "duration": 47,
    "start_time": "2022-06-07T17:29:10.972Z"
   },
   {
    "duration": 3,
    "start_time": "2022-06-07T17:29:33.570Z"
   },
   {
    "duration": 51,
    "start_time": "2022-06-07T17:32:47.734Z"
   },
   {
    "duration": 52,
    "start_time": "2022-06-07T17:32:56.576Z"
   },
   {
    "duration": 51,
    "start_time": "2022-06-07T17:33:43.096Z"
   },
   {
    "duration": 44,
    "start_time": "2022-06-07T17:33:47.028Z"
   },
   {
    "duration": 37,
    "start_time": "2022-06-07T17:34:02.053Z"
   },
   {
    "duration": 55,
    "start_time": "2022-06-07T17:34:14.432Z"
   },
   {
    "duration": 7,
    "start_time": "2022-06-07T17:34:28.770Z"
   },
   {
    "duration": 54,
    "start_time": "2022-06-07T17:34:32.853Z"
   },
   {
    "duration": 2,
    "start_time": "2022-06-07T17:34:41.882Z"
   },
   {
    "duration": 49,
    "start_time": "2022-06-07T17:34:43.467Z"
   },
   {
    "duration": 62,
    "start_time": "2022-06-07T17:34:48.448Z"
   },
   {
    "duration": 3,
    "start_time": "2022-06-07T17:34:50.636Z"
   },
   {
    "duration": 50,
    "start_time": "2022-06-07T17:34:52.568Z"
   },
   {
    "duration": 5,
    "start_time": "2022-06-07T17:35:15.972Z"
   },
   {
    "duration": 5,
    "start_time": "2022-06-07T17:35:21.809Z"
   },
   {
    "duration": 4,
    "start_time": "2022-06-07T17:35:24.435Z"
   },
   {
    "duration": 14,
    "start_time": "2022-06-07T17:35:29.089Z"
   },
   {
    "duration": 50,
    "start_time": "2022-06-07T17:35:33.365Z"
   },
   {
    "duration": 4,
    "start_time": "2022-06-07T17:35:33.559Z"
   },
   {
    "duration": 8,
    "start_time": "2022-06-07T17:36:23.068Z"
   },
   {
    "duration": 6,
    "start_time": "2022-06-07T17:36:33.911Z"
   },
   {
    "duration": 3,
    "start_time": "2022-06-07T17:36:36.712Z"
   },
   {
    "duration": 4,
    "start_time": "2022-06-07T17:37:15.502Z"
   },
   {
    "duration": 2,
    "start_time": "2022-06-07T17:37:44.267Z"
   },
   {
    "duration": 55,
    "start_time": "2022-06-07T17:37:44.561Z"
   },
   {
    "duration": 944,
    "start_time": "2022-06-07T17:37:44.904Z"
   },
   {
    "duration": 522,
    "start_time": "2022-06-07T17:38:04.338Z"
   },
   {
    "duration": 151,
    "start_time": "2022-06-07T17:38:24.786Z"
   },
   {
    "duration": 516,
    "start_time": "2022-06-07T17:38:34.655Z"
   },
   {
    "duration": 47,
    "start_time": "2022-06-07T17:38:42.928Z"
   },
   {
    "duration": 528,
    "start_time": "2022-06-07T17:38:43.136Z"
   },
   {
    "duration": 638,
    "start_time": "2022-06-07T17:38:53.950Z"
   },
   {
    "duration": 3,
    "start_time": "2022-06-07T17:39:00.523Z"
   },
   {
    "duration": 519,
    "start_time": "2022-06-07T17:39:05.509Z"
   },
   {
    "duration": 4,
    "start_time": "2022-06-07T17:39:06.723Z"
   },
   {
    "duration": 547,
    "start_time": "2022-06-07T17:39:55.015Z"
   },
   {
    "duration": 4,
    "start_time": "2022-06-07T17:39:57.389Z"
   },
   {
    "duration": 726,
    "start_time": "2022-06-07T17:40:07.737Z"
   },
   {
    "duration": 51,
    "start_time": "2022-06-07T17:40:08.465Z"
   },
   {
    "duration": 807,
    "start_time": "2022-06-07T17:40:08.517Z"
   },
   {
    "duration": 3,
    "start_time": "2022-06-07T17:40:09.326Z"
   },
   {
    "duration": 3,
    "start_time": "2022-06-07T17:40:26.291Z"
   },
   {
    "duration": 53,
    "start_time": "2022-06-07T17:40:30.217Z"
   },
   {
    "duration": 47,
    "start_time": "2022-06-07T17:41:04.361Z"
   },
   {
    "duration": 50,
    "start_time": "2022-06-07T17:41:10.248Z"
   },
   {
    "duration": 51,
    "start_time": "2022-06-07T17:41:32.290Z"
   },
   {
    "duration": 48,
    "start_time": "2022-06-07T17:41:37.629Z"
   },
   {
    "duration": 46,
    "start_time": "2022-06-07T17:41:42.647Z"
   },
   {
    "duration": 527,
    "start_time": "2022-06-07T17:42:27.467Z"
   },
   {
    "duration": 90,
    "start_time": "2022-06-07T17:42:30.966Z"
   },
   {
    "duration": 609,
    "start_time": "2022-06-07T17:42:37.133Z"
   },
   {
    "duration": 2,
    "start_time": "2022-06-07T17:42:41.488Z"
   },
   {
    "duration": 46,
    "start_time": "2022-06-07T17:44:40.543Z"
   },
   {
    "duration": 5,
    "start_time": "2022-06-07T17:45:11.330Z"
   },
   {
    "duration": 37,
    "start_time": "2022-06-07T17:45:31.174Z"
   },
   {
    "duration": 6,
    "start_time": "2022-06-07T17:45:31.440Z"
   },
   {
    "duration": 47,
    "start_time": "2022-06-07T17:45:50.436Z"
   },
   {
    "duration": 546,
    "start_time": "2022-06-07T17:45:52.729Z"
   },
   {
    "duration": 3,
    "start_time": "2022-06-07T17:45:59.462Z"
   },
   {
    "duration": 8,
    "start_time": "2022-06-07T17:46:01.208Z"
   },
   {
    "duration": 3,
    "start_time": "2022-06-07T17:46:04.577Z"
   },
   {
    "duration": 53,
    "start_time": "2022-06-07T17:46:18.250Z"
   },
   {
    "duration": 59,
    "start_time": "2022-06-07T17:46:36.198Z"
   },
   {
    "duration": 48,
    "start_time": "2022-06-07T17:48:27.877Z"
   },
   {
    "duration": 493,
    "start_time": "2022-06-07T17:49:04.811Z"
   },
   {
    "duration": 610,
    "start_time": "2022-06-07T17:49:17.695Z"
   },
   {
    "duration": 547,
    "start_time": "2022-06-07T17:49:37.756Z"
   },
   {
    "duration": 530,
    "start_time": "2022-06-07T17:49:50.882Z"
   },
   {
    "duration": 294,
    "start_time": "2022-06-07T17:49:57.141Z"
   },
   {
    "duration": 33,
    "start_time": "2022-06-07T18:01:36.746Z"
   },
   {
    "duration": 763,
    "start_time": "2022-06-07T18:01:43.303Z"
   },
   {
    "duration": 54,
    "start_time": "2022-06-07T18:01:44.068Z"
   },
   {
    "duration": 831,
    "start_time": "2022-06-07T18:01:44.123Z"
   },
   {
    "duration": 220,
    "start_time": "2022-06-07T18:01:51.501Z"
   },
   {
    "duration": 212,
    "start_time": "2022-06-07T18:02:40.995Z"
   },
   {
    "duration": 6,
    "start_time": "2022-06-07T18:05:46.416Z"
   },
   {
    "duration": 5,
    "start_time": "2022-06-07T18:06:24.660Z"
   },
   {
    "duration": 4,
    "start_time": "2022-06-07T18:06:37.947Z"
   },
   {
    "duration": 194,
    "start_time": "2022-06-07T18:06:38.458Z"
   },
   {
    "duration": 3,
    "start_time": "2022-06-07T18:06:46.623Z"
   },
   {
    "duration": 302,
    "start_time": "2022-06-07T18:06:47.018Z"
   },
   {
    "duration": 3,
    "start_time": "2022-06-07T18:06:55.055Z"
   },
   {
    "duration": 210,
    "start_time": "2022-06-07T18:06:55.914Z"
   },
   {
    "duration": 5,
    "start_time": "2022-06-07T18:07:07.578Z"
   },
   {
    "duration": 210,
    "start_time": "2022-06-07T18:07:08.669Z"
   },
   {
    "duration": 324,
    "start_time": "2022-06-07T18:07:24.465Z"
   },
   {
    "duration": 319,
    "start_time": "2022-06-07T18:07:31.336Z"
   },
   {
    "duration": 4,
    "start_time": "2022-06-07T18:07:49.406Z"
   },
   {
    "duration": 325,
    "start_time": "2022-06-07T18:07:49.541Z"
   },
   {
    "duration": 331,
    "start_time": "2022-06-07T18:07:58.082Z"
   },
   {
    "duration": 37,
    "start_time": "2022-06-07T18:14:23.219Z"
   },
   {
    "duration": 230,
    "start_time": "2022-06-07T18:16:11.259Z"
   },
   {
    "duration": 337,
    "start_time": "2022-06-07T18:16:26.447Z"
   },
   {
    "duration": 101,
    "start_time": "2022-06-07T18:17:49.704Z"
   },
   {
    "duration": 24,
    "start_time": "2022-06-07T18:18:13.904Z"
   },
   {
    "duration": 46,
    "start_time": "2022-06-07T18:18:14.739Z"
   },
   {
    "duration": 6,
    "start_time": "2022-06-07T18:18:16.724Z"
   },
   {
    "duration": 8,
    "start_time": "2022-06-07T18:18:17.000Z"
   },
   {
    "duration": 293,
    "start_time": "2022-06-07T18:18:17.146Z"
   },
   {
    "duration": 271,
    "start_time": "2022-06-07T18:18:17.442Z"
   },
   {
    "duration": 18,
    "start_time": "2022-06-07T18:18:22.979Z"
   },
   {
    "duration": 3,
    "start_time": "2022-06-07T18:18:40.783Z"
   },
   {
    "duration": 10,
    "start_time": "2022-06-07T18:18:42.088Z"
   },
   {
    "duration": 5,
    "start_time": "2022-06-07T18:19:35.822Z"
   },
   {
    "duration": 4,
    "start_time": "2022-06-07T18:19:46.384Z"
   },
   {
    "duration": 372,
    "start_time": "2022-06-07T18:19:46.569Z"
   },
   {
    "duration": 3,
    "start_time": "2022-06-07T18:19:47.042Z"
   },
   {
    "duration": 5,
    "start_time": "2022-06-07T18:19:48.164Z"
   },
   {
    "duration": 3,
    "start_time": "2022-06-07T18:20:33.113Z"
   },
   {
    "duration": 6,
    "start_time": "2022-06-07T18:20:33.511Z"
   },
   {
    "duration": 11,
    "start_time": "2022-06-07T18:20:33.690Z"
   },
   {
    "duration": 8,
    "start_time": "2022-06-07T18:20:52.262Z"
   },
   {
    "duration": 10,
    "start_time": "2022-06-07T18:20:54.745Z"
   },
   {
    "duration": 36,
    "start_time": "2022-06-07T18:21:01.799Z"
   },
   {
    "duration": 11,
    "start_time": "2022-06-07T18:21:03.546Z"
   },
   {
    "duration": 9,
    "start_time": "2022-06-07T18:21:15.136Z"
   },
   {
    "duration": 4,
    "start_time": "2022-06-07T18:21:19.316Z"
   },
   {
    "duration": 256,
    "start_time": "2022-06-07T18:21:19.802Z"
   },
   {
    "duration": 3,
    "start_time": "2022-06-07T18:21:21.601Z"
   },
   {
    "duration": 12,
    "start_time": "2022-06-07T18:21:22.410Z"
   },
   {
    "duration": 4,
    "start_time": "2022-06-07T18:21:28.071Z"
   },
   {
    "duration": 252,
    "start_time": "2022-06-07T18:21:28.508Z"
   },
   {
    "duration": 2,
    "start_time": "2022-06-07T18:21:31.439Z"
   },
   {
    "duration": 10,
    "start_time": "2022-06-07T18:21:31.759Z"
   },
   {
    "duration": 11,
    "start_time": "2022-06-07T18:21:41.641Z"
   },
   {
    "duration": 989,
    "start_time": "2022-06-07T18:24:10.615Z"
   },
   {
    "duration": 51,
    "start_time": "2022-06-07T18:24:11.606Z"
   },
   {
    "duration": 2,
    "start_time": "2022-06-07T18:24:11.659Z"
   },
   {
    "duration": 10,
    "start_time": "2022-06-07T18:24:11.663Z"
   },
   {
    "duration": 362,
    "start_time": "2022-06-07T18:24:11.675Z"
   },
   {
    "duration": 99,
    "start_time": "2022-06-07T18:24:12.039Z"
   },
   {
    "duration": 0,
    "start_time": "2022-06-07T18:24:12.139Z"
   },
   {
    "duration": 10,
    "start_time": "2022-06-07T18:24:39.273Z"
   },
   {
    "duration": 9,
    "start_time": "2022-06-07T18:25:00.713Z"
   },
   {
    "duration": 9,
    "start_time": "2022-06-07T18:25:07.239Z"
   },
   {
    "duration": 12,
    "start_time": "2022-06-07T19:22:42.672Z"
   },
   {
    "duration": 1399,
    "start_time": "2022-06-07T19:23:23.645Z"
   },
   {
    "duration": 77,
    "start_time": "2022-06-07T19:23:25.046Z"
   },
   {
    "duration": 126,
    "start_time": "2022-06-07T19:23:30.414Z"
   },
   {
    "duration": 7,
    "start_time": "2022-06-07T19:24:17.466Z"
   },
   {
    "duration": 871,
    "start_time": "2022-06-07T19:24:18.314Z"
   },
   {
    "duration": 750,
    "start_time": "2022-06-07T19:25:57.670Z"
   },
   {
    "duration": 1648,
    "start_time": "2022-06-08T11:42:18.031Z"
   },
   {
    "duration": 204,
    "start_time": "2022-06-08T11:42:19.681Z"
   },
   {
    "duration": 3,
    "start_time": "2022-06-08T11:42:23.416Z"
   },
   {
    "duration": 122,
    "start_time": "2022-06-08T11:42:23.695Z"
   },
   {
    "duration": 14,
    "start_time": "2022-06-08T11:43:55.154Z"
   },
   {
    "duration": 975,
    "start_time": "2022-06-08T11:43:59.076Z"
   },
   {
    "duration": 10,
    "start_time": "2022-06-08T11:49:04.487Z"
   },
   {
    "duration": 4,
    "start_time": "2022-06-08T11:49:22.154Z"
   },
   {
    "duration": 15,
    "start_time": "2022-06-08T11:49:26.639Z"
   },
   {
    "duration": 11,
    "start_time": "2022-06-08T11:54:44.054Z"
   },
   {
    "duration": 12,
    "start_time": "2022-06-08T11:54:46.455Z"
   },
   {
    "duration": 12,
    "start_time": "2022-06-08T11:56:57.057Z"
   },
   {
    "duration": 15,
    "start_time": "2022-06-08T11:56:58.314Z"
   },
   {
    "duration": 14,
    "start_time": "2022-06-08T11:57:54.295Z"
   },
   {
    "duration": 1113,
    "start_time": "2022-06-08T11:57:56.097Z"
   },
   {
    "duration": 9,
    "start_time": "2022-06-08T11:59:22.307Z"
   },
   {
    "duration": 17,
    "start_time": "2022-06-08T11:59:37.616Z"
   },
   {
    "duration": 21,
    "start_time": "2022-06-08T11:59:47.015Z"
   },
   {
    "duration": 13,
    "start_time": "2022-06-08T11:59:50.950Z"
   },
   {
    "duration": 14,
    "start_time": "2022-06-08T12:00:22.963Z"
   },
   {
    "duration": 17,
    "start_time": "2022-06-08T12:00:36.628Z"
   },
   {
    "duration": 18,
    "start_time": "2022-06-08T12:00:46.037Z"
   },
   {
    "duration": 15,
    "start_time": "2022-06-08T12:00:52.748Z"
   },
   {
    "duration": 19,
    "start_time": "2022-06-08T12:01:54.244Z"
   },
   {
    "duration": 12,
    "start_time": "2022-06-08T12:02:15.096Z"
   },
   {
    "duration": 1023,
    "start_time": "2022-06-08T12:04:48.656Z"
   },
   {
    "duration": 1245,
    "start_time": "2022-06-08T12:05:12.044Z"
   },
   {
    "duration": 1885,
    "start_time": "2022-06-08T12:05:21.049Z"
   },
   {
    "duration": 1760,
    "start_time": "2022-06-08T12:05:30.017Z"
   },
   {
    "duration": 1591,
    "start_time": "2022-06-08T12:05:43.296Z"
   },
   {
    "duration": 15,
    "start_time": "2022-06-08T12:06:24.759Z"
   },
   {
    "duration": 1624,
    "start_time": "2022-06-08T12:06:25.496Z"
   },
   {
    "duration": 14,
    "start_time": "2022-06-08T12:06:52.917Z"
   },
   {
    "duration": 1499,
    "start_time": "2022-06-08T12:06:53.443Z"
   },
   {
    "duration": 1450,
    "start_time": "2022-06-08T12:12:41.398Z"
   },
   {
    "duration": 1270,
    "start_time": "2022-06-08T12:12:52.145Z"
   },
   {
    "duration": 1163,
    "start_time": "2022-06-08T12:13:20.558Z"
   },
   {
    "duration": 1280,
    "start_time": "2022-06-08T12:14:40.458Z"
   },
   {
    "duration": 31,
    "start_time": "2022-06-08T12:18:31.918Z"
   },
   {
    "duration": 15,
    "start_time": "2022-06-08T12:18:32.118Z"
   },
   {
    "duration": 8,
    "start_time": "2022-06-08T12:21:31.478Z"
   },
   {
    "duration": 3,
    "start_time": "2022-06-08T12:21:34.998Z"
   },
   {
    "duration": 6,
    "start_time": "2022-06-08T12:21:35.178Z"
   },
   {
    "duration": 226,
    "start_time": "2022-06-08T12:21:35.352Z"
   },
   {
    "duration": 13,
    "start_time": "2022-06-08T12:22:04.898Z"
   },
   {
    "duration": 296,
    "start_time": "2022-06-08T12:22:12.738Z"
   },
   {
    "duration": 267,
    "start_time": "2022-06-08T12:22:27.635Z"
   },
   {
    "duration": 275,
    "start_time": "2022-06-08T12:22:33.458Z"
   },
   {
    "duration": 19,
    "start_time": "2022-06-08T12:25:57.618Z"
   },
   {
    "duration": 1274,
    "start_time": "2022-06-08T12:25:57.798Z"
   },
   {
    "duration": 271,
    "start_time": "2022-06-08T12:26:12.238Z"
   },
   {
    "duration": 13,
    "start_time": "2022-06-08T12:26:26.070Z"
   },
   {
    "duration": 18,
    "start_time": "2022-06-08T12:26:40.567Z"
   },
   {
    "duration": 1276,
    "start_time": "2022-06-08T12:26:52.844Z"
   },
   {
    "duration": 116,
    "start_time": "2022-06-08T12:26:54.123Z"
   },
   {
    "duration": 3,
    "start_time": "2022-06-08T12:26:54.240Z"
   },
   {
    "duration": 18,
    "start_time": "2022-06-08T12:26:54.245Z"
   },
   {
    "duration": 406,
    "start_time": "2022-06-08T12:26:54.265Z"
   },
   {
    "duration": 124,
    "start_time": "2022-06-08T12:26:54.673Z"
   },
   {
    "duration": 0,
    "start_time": "2022-06-08T12:26:54.798Z"
   },
   {
    "duration": 0,
    "start_time": "2022-06-08T12:26:54.799Z"
   },
   {
    "duration": 9,
    "start_time": "2022-06-08T12:27:07.462Z"
   },
   {
    "duration": 1213,
    "start_time": "2022-06-08T12:28:00.362Z"
   },
   {
    "duration": 63,
    "start_time": "2022-06-08T12:28:01.577Z"
   },
   {
    "duration": 3,
    "start_time": "2022-06-08T12:28:01.642Z"
   },
   {
    "duration": 26,
    "start_time": "2022-06-08T12:28:01.647Z"
   },
   {
    "duration": 455,
    "start_time": "2022-06-08T12:28:01.674Z"
   },
   {
    "duration": 899,
    "start_time": "2022-06-08T12:28:02.132Z"
   },
   {
    "duration": 16,
    "start_time": "2022-06-08T12:28:03.034Z"
   },
   {
    "duration": 1192,
    "start_time": "2022-06-08T12:28:03.052Z"
   },
   {
    "duration": 11,
    "start_time": "2022-06-08T12:30:13.342Z"
   },
   {
    "duration": 356,
    "start_time": "2022-06-08T12:30:14.662Z"
   },
   {
    "duration": 794,
    "start_time": "2022-06-08T12:30:19.338Z"
   },
   {
    "duration": 19,
    "start_time": "2022-06-08T12:30:33.814Z"
   },
   {
    "duration": 1137,
    "start_time": "2022-06-08T12:30:34.662Z"
   },
   {
    "duration": 264,
    "start_time": "2022-06-08T12:35:53.912Z"
   },
   {
    "duration": 379,
    "start_time": "2022-06-08T12:36:34.905Z"
   },
   {
    "duration": 1000,
    "start_time": "2022-06-08T12:36:52.790Z"
   },
   {
    "duration": 937,
    "start_time": "2022-06-08T12:37:06.168Z"
   },
   {
    "duration": 1137,
    "start_time": "2022-06-08T12:37:15.568Z"
   },
   {
    "duration": 11,
    "start_time": "2022-06-08T12:46:16.803Z"
   },
   {
    "duration": 41,
    "start_time": "2022-06-08T12:47:02.911Z"
   },
   {
    "duration": 42,
    "start_time": "2022-06-08T12:47:20.232Z"
   },
   {
    "duration": 6,
    "start_time": "2022-06-08T12:47:42.406Z"
   },
   {
    "duration": 2,
    "start_time": "2022-06-08T12:48:33.718Z"
   },
   {
    "duration": 9,
    "start_time": "2022-06-08T12:49:49.678Z"
   },
   {
    "duration": 122,
    "start_time": "2022-06-08T12:49:51.673Z"
   },
   {
    "duration": 12,
    "start_time": "2022-06-08T12:49:53.130Z"
   },
   {
    "duration": 6,
    "start_time": "2022-06-08T12:51:14.406Z"
   },
   {
    "duration": 4,
    "start_time": "2022-06-08T12:51:23.777Z"
   },
   {
    "duration": 26,
    "start_time": "2022-06-08T12:56:18.145Z"
   },
   {
    "duration": 1200,
    "start_time": "2022-06-08T12:56:25.065Z"
   },
   {
    "duration": 132,
    "start_time": "2022-06-08T12:56:26.266Z"
   },
   {
    "duration": 3,
    "start_time": "2022-06-08T12:56:26.399Z"
   },
   {
    "duration": 14,
    "start_time": "2022-06-08T12:56:26.403Z"
   },
   {
    "duration": 348,
    "start_time": "2022-06-08T12:56:26.419Z"
   },
   {
    "duration": 742,
    "start_time": "2022-06-08T12:56:26.769Z"
   },
   {
    "duration": 19,
    "start_time": "2022-06-08T12:56:27.513Z"
   },
   {
    "duration": 996,
    "start_time": "2022-06-08T12:56:27.534Z"
   },
   {
    "duration": 7,
    "start_time": "2022-06-08T12:56:28.531Z"
   },
   {
    "duration": 7,
    "start_time": "2022-06-08T12:56:28.539Z"
   },
   {
    "duration": 254,
    "start_time": "2022-06-08T12:56:28.547Z"
   },
   {
    "duration": 0,
    "start_time": "2022-06-08T12:56:28.803Z"
   },
   {
    "duration": 26,
    "start_time": "2022-06-08T12:57:30.565Z"
   },
   {
    "duration": 29,
    "start_time": "2022-06-08T12:57:55.613Z"
   },
   {
    "duration": 124,
    "start_time": "2022-06-08T12:58:46.804Z"
   },
   {
    "duration": 6,
    "start_time": "2022-06-08T12:58:50.217Z"
   },
   {
    "duration": 26,
    "start_time": "2022-06-08T13:01:26.238Z"
   },
   {
    "duration": 4,
    "start_time": "2022-06-08T13:01:30.853Z"
   },
   {
    "duration": 57,
    "start_time": "2022-06-08T13:01:33.967Z"
   },
   {
    "duration": 6,
    "start_time": "2022-06-08T13:01:37.705Z"
   },
   {
    "duration": 21,
    "start_time": "2022-06-08T13:01:50.685Z"
   },
   {
    "duration": 6,
    "start_time": "2022-06-08T13:01:59.945Z"
   },
   {
    "duration": 10,
    "start_time": "2022-06-08T13:08:10.718Z"
   },
   {
    "duration": 10,
    "start_time": "2022-06-08T13:08:20.886Z"
   },
   {
    "duration": 10,
    "start_time": "2022-06-08T13:08:30.778Z"
   },
   {
    "duration": 18003,
    "start_time": "2022-06-08T13:10:45.834Z"
   },
   {
    "duration": 18254,
    "start_time": "2022-06-08T13:11:24.074Z"
   },
   {
    "duration": 97,
    "start_time": "2022-06-08T13:11:42.331Z"
   },
   {
    "duration": 17134,
    "start_time": "2022-06-08T13:12:08.415Z"
   },
   {
    "duration": 72,
    "start_time": "2022-06-08T13:12:25.551Z"
   },
   {
    "duration": 7,
    "start_time": "2022-06-08T13:13:17.928Z"
   },
   {
    "duration": 9,
    "start_time": "2022-06-08T13:14:13.866Z"
   },
   {
    "duration": 76484,
    "start_time": "2022-06-08T13:15:13.755Z"
   },
   {
    "duration": 25,
    "start_time": "2022-06-08T13:16:45.048Z"
   },
   {
    "duration": 19,
    "start_time": "2022-06-08T13:16:55.928Z"
   },
   {
    "duration": 57,
    "start_time": "2022-06-08T13:19:34.668Z"
   },
   {
    "duration": 4,
    "start_time": "2022-06-08T13:20:03.240Z"
   },
   {
    "duration": 4,
    "start_time": "2022-06-08T13:20:25.248Z"
   },
   {
    "duration": 145,
    "start_time": "2022-06-08T13:20:47.888Z"
   },
   {
    "duration": 4,
    "start_time": "2022-06-08T13:20:48.380Z"
   },
   {
    "duration": 4,
    "start_time": "2022-06-08T13:21:00.520Z"
   },
   {
    "duration": 38,
    "start_time": "2022-06-08T13:21:09.019Z"
   },
   {
    "duration": 1258,
    "start_time": "2022-06-08T13:21:58.038Z"
   },
   {
    "duration": 145,
    "start_time": "2022-06-08T13:21:59.299Z"
   },
   {
    "duration": 3,
    "start_time": "2022-06-08T13:21:59.446Z"
   },
   {
    "duration": 16,
    "start_time": "2022-06-08T13:21:59.451Z"
   },
   {
    "duration": 347,
    "start_time": "2022-06-08T13:21:59.468Z"
   },
   {
    "duration": 853,
    "start_time": "2022-06-08T13:21:59.817Z"
   },
   {
    "duration": 21,
    "start_time": "2022-06-08T13:22:00.672Z"
   },
   {
    "duration": 1195,
    "start_time": "2022-06-08T13:22:00.696Z"
   },
   {
    "duration": 7,
    "start_time": "2022-06-08T13:22:01.895Z"
   },
   {
    "duration": 28,
    "start_time": "2022-06-08T13:22:01.906Z"
   },
   {
    "duration": 298,
    "start_time": "2022-06-08T13:22:01.936Z"
   },
   {
    "duration": 88,
    "start_time": "2022-06-08T13:22:02.239Z"
   },
   {
    "duration": 94,
    "start_time": "2022-06-08T13:22:02.330Z"
   },
   {
    "duration": 14,
    "start_time": "2022-06-08T13:22:02.425Z"
   },
   {
    "duration": 7,
    "start_time": "2022-06-08T13:23:00.160Z"
   },
   {
    "duration": 5,
    "start_time": "2022-06-08T13:23:01.166Z"
   },
   {
    "duration": 56,
    "start_time": "2022-06-08T13:23:06.969Z"
   },
   {
    "duration": 4,
    "start_time": "2022-06-08T13:23:10.706Z"
   },
   {
    "duration": 20,
    "start_time": "2022-06-08T13:23:11.587Z"
   },
   {
    "duration": 14,
    "start_time": "2022-06-08T13:23:53.408Z"
   },
   {
    "duration": 24,
    "start_time": "2022-06-08T13:24:05.561Z"
   },
   {
    "duration": 26,
    "start_time": "2022-06-08T13:24:20.658Z"
   },
   {
    "duration": 126,
    "start_time": "2022-06-08T13:30:21.126Z"
   },
   {
    "duration": 44,
    "start_time": "2022-06-08T13:30:45.826Z"
   },
   {
    "duration": 14,
    "start_time": "2022-06-08T13:30:49.319Z"
   },
   {
    "duration": 11753,
    "start_time": "2022-06-08T13:31:17.183Z"
   },
   {
    "duration": 172772,
    "start_time": "2022-06-08T13:32:06.589Z"
   },
   {
    "duration": 1368,
    "start_time": "2022-06-08T20:31:52.255Z"
   },
   {
    "duration": 163,
    "start_time": "2022-06-08T20:31:53.627Z"
   },
   {
    "duration": 3,
    "start_time": "2022-06-08T20:31:53.791Z"
   },
   {
    "duration": 12,
    "start_time": "2022-06-08T20:31:53.796Z"
   },
   {
    "duration": 301,
    "start_time": "2022-06-08T20:31:53.810Z"
   },
   {
    "duration": 829,
    "start_time": "2022-06-08T20:31:54.112Z"
   },
   {
    "duration": 16,
    "start_time": "2022-06-08T20:31:54.943Z"
   },
   {
    "duration": 964,
    "start_time": "2022-06-08T20:31:54.961Z"
   },
   {
    "duration": 6,
    "start_time": "2022-06-08T20:31:55.927Z"
   },
   {
    "duration": 13,
    "start_time": "2022-06-08T20:31:55.934Z"
   },
   {
    "duration": 106,
    "start_time": "2022-06-08T20:31:55.948Z"
   },
   {
    "duration": 0,
    "start_time": "2022-06-08T20:31:56.055Z"
   },
   {
    "duration": 0,
    "start_time": "2022-06-08T20:31:56.057Z"
   },
   {
    "duration": 0,
    "start_time": "2022-06-08T20:31:56.057Z"
   },
   {
    "duration": 1,
    "start_time": "2022-06-08T20:31:56.058Z"
   },
   {
    "duration": 192,
    "start_time": "2022-06-08T20:33:10.235Z"
   },
   {
    "duration": 2993,
    "start_time": "2022-06-08T20:33:12.339Z"
   },
   {
    "duration": 97,
    "start_time": "2022-06-08T20:33:15.335Z"
   },
   {
    "duration": 1017,
    "start_time": "2022-06-09T08:48:22.548Z"
   },
   {
    "duration": 8,
    "start_time": "2022-06-09T09:34:27.809Z"
   },
   {
    "duration": 1300,
    "start_time": "2022-06-09T09:34:33.884Z"
   },
   {
    "duration": 141,
    "start_time": "2022-06-09T09:34:35.186Z"
   },
   {
    "duration": 3,
    "start_time": "2022-06-09T09:34:35.328Z"
   },
   {
    "duration": 16,
    "start_time": "2022-06-09T09:34:35.332Z"
   },
   {
    "duration": 272,
    "start_time": "2022-06-09T09:34:35.349Z"
   },
   {
    "duration": 762,
    "start_time": "2022-06-09T09:34:35.622Z"
   },
   {
    "duration": 21,
    "start_time": "2022-06-09T09:34:36.386Z"
   },
   {
    "duration": 936,
    "start_time": "2022-06-09T09:34:36.409Z"
   },
   {
    "duration": 5,
    "start_time": "2022-06-09T09:34:37.347Z"
   },
   {
    "duration": 5,
    "start_time": "2022-06-09T09:34:37.354Z"
   },
   {
    "duration": 106,
    "start_time": "2022-06-09T09:34:37.360Z"
   },
   {
    "duration": 1,
    "start_time": "2022-06-09T09:34:37.467Z"
   },
   {
    "duration": 0,
    "start_time": "2022-06-09T09:34:37.468Z"
   },
   {
    "duration": 0,
    "start_time": "2022-06-09T09:34:37.469Z"
   },
   {
    "duration": 0,
    "start_time": "2022-06-09T09:34:37.470Z"
   },
   {
    "duration": 1967,
    "start_time": "2022-06-09T09:34:52.081Z"
   },
   {
    "duration": 734,
    "start_time": "2022-06-09T09:35:40.087Z"
   },
   {
    "duration": 11,
    "start_time": "2022-06-09T09:40:01.075Z"
   },
   {
    "duration": 8,
    "start_time": "2022-06-09T09:40:29.384Z"
   },
   {
    "duration": 8,
    "start_time": "2022-06-09T09:41:00.380Z"
   },
   {
    "duration": 10,
    "start_time": "2022-06-09T09:41:16.198Z"
   },
   {
    "duration": 8,
    "start_time": "2022-06-09T09:41:29.621Z"
   },
   {
    "duration": 1189,
    "start_time": "2022-06-09T09:41:42.420Z"
   },
   {
    "duration": 54,
    "start_time": "2022-06-09T09:41:43.611Z"
   },
   {
    "duration": 2,
    "start_time": "2022-06-09T09:41:43.667Z"
   },
   {
    "duration": 11,
    "start_time": "2022-06-09T09:41:43.671Z"
   },
   {
    "duration": 309,
    "start_time": "2022-06-09T09:41:43.684Z"
   },
   {
    "duration": 734,
    "start_time": "2022-06-09T09:41:43.994Z"
   },
   {
    "duration": 15,
    "start_time": "2022-06-09T09:41:44.730Z"
   },
   {
    "duration": 894,
    "start_time": "2022-06-09T09:41:44.747Z"
   },
   {
    "duration": 7,
    "start_time": "2022-06-09T09:41:45.643Z"
   },
   {
    "duration": 4,
    "start_time": "2022-06-09T09:41:45.652Z"
   },
   {
    "duration": 591,
    "start_time": "2022-06-09T09:41:45.658Z"
   },
   {
    "duration": 51,
    "start_time": "2022-06-09T09:41:46.250Z"
   },
   {
    "duration": 197,
    "start_time": "2022-06-09T09:41:46.395Z"
   },
   {
    "duration": 284,
    "start_time": "2022-06-09T09:41:46.593Z"
   },
   {
    "duration": 0,
    "start_time": "2022-06-09T09:41:46.878Z"
   },
   {
    "duration": 1077,
    "start_time": "2022-06-09T19:27:34.929Z"
   },
   {
    "duration": 837,
    "start_time": "2022-06-09T19:27:39.534Z"
   },
   {
    "duration": 176,
    "start_time": "2022-06-09T19:27:40.373Z"
   },
   {
    "duration": 2,
    "start_time": "2022-06-09T19:27:40.551Z"
   },
   {
    "duration": 16,
    "start_time": "2022-06-09T19:27:40.555Z"
   },
   {
    "duration": 343,
    "start_time": "2022-06-09T19:27:40.573Z"
   },
   {
    "duration": 859,
    "start_time": "2022-06-09T19:27:40.919Z"
   },
   {
    "duration": 18,
    "start_time": "2022-06-09T19:27:41.779Z"
   },
   {
    "duration": 1018,
    "start_time": "2022-06-09T19:27:41.799Z"
   },
   {
    "duration": 6,
    "start_time": "2022-06-09T19:27:42.819Z"
   },
   {
    "duration": 8,
    "start_time": "2022-06-09T19:27:42.827Z"
   },
   {
    "duration": 3111,
    "start_time": "2022-06-09T19:27:42.836Z"
   },
   {
    "duration": 102,
    "start_time": "2022-06-09T19:27:45.978Z"
   },
   {
    "duration": 119,
    "start_time": "2022-06-09T19:27:48.781Z"
   },
   {
    "duration": 284,
    "start_time": "2022-06-09T19:28:44.804Z"
   },
   {
    "duration": 91,
    "start_time": "2022-06-09T19:28:48.414Z"
   },
   {
    "duration": 10785,
    "start_time": "2022-06-09T19:30:10.914Z"
   },
   {
    "duration": 138,
    "start_time": "2022-06-09T19:36:54.243Z"
   },
   {
    "duration": 11,
    "start_time": "2022-06-09T19:44:56.884Z"
   },
   {
    "duration": 9,
    "start_time": "2022-06-09T19:44:59.209Z"
   },
   {
    "duration": 4,
    "start_time": "2022-06-09T19:44:59.331Z"
   },
   {
    "duration": 42,
    "start_time": "2022-06-09T19:48:25.924Z"
   },
   {
    "duration": 1394,
    "start_time": "2022-06-09T19:48:30.527Z"
   },
   {
    "duration": 52,
    "start_time": "2022-06-09T19:48:31.923Z"
   },
   {
    "duration": 17,
    "start_time": "2022-06-09T19:48:31.977Z"
   },
   {
    "duration": 34,
    "start_time": "2022-06-09T19:48:32.001Z"
   },
   {
    "duration": 300,
    "start_time": "2022-06-09T19:48:32.036Z"
   },
   {
    "duration": 814,
    "start_time": "2022-06-09T19:48:32.338Z"
   },
   {
    "duration": 15,
    "start_time": "2022-06-09T19:48:33.154Z"
   },
   {
    "duration": 945,
    "start_time": "2022-06-09T19:48:33.179Z"
   },
   {
    "duration": 6,
    "start_time": "2022-06-09T19:48:34.125Z"
   },
   {
    "duration": 15,
    "start_time": "2022-06-09T19:48:34.133Z"
   },
   {
    "duration": 203,
    "start_time": "2022-06-09T19:48:34.149Z"
   },
   {
    "duration": 0,
    "start_time": "2022-06-09T19:48:34.354Z"
   },
   {
    "duration": 0,
    "start_time": "2022-06-09T19:48:34.355Z"
   },
   {
    "duration": 0,
    "start_time": "2022-06-09T19:48:34.356Z"
   },
   {
    "duration": 3,
    "start_time": "2022-06-09T19:49:35.972Z"
   },
   {
    "duration": 81,
    "start_time": "2022-06-09T19:49:35.976Z"
   },
   {
    "duration": 3,
    "start_time": "2022-06-09T19:49:36.058Z"
   },
   {
    "duration": 22,
    "start_time": "2022-06-09T19:49:36.062Z"
   },
   {
    "duration": 282,
    "start_time": "2022-06-09T19:49:36.087Z"
   },
   {
    "duration": 862,
    "start_time": "2022-06-09T19:49:36.370Z"
   },
   {
    "duration": 14,
    "start_time": "2022-06-09T19:49:37.234Z"
   },
   {
    "duration": 1062,
    "start_time": "2022-06-09T19:49:37.249Z"
   },
   {
    "duration": 7,
    "start_time": "2022-06-09T19:49:38.316Z"
   },
   {
    "duration": 17,
    "start_time": "2022-06-09T19:49:38.325Z"
   },
   {
    "duration": 104,
    "start_time": "2022-06-09T19:49:42.296Z"
   },
   {
    "duration": 3,
    "start_time": "2022-06-09T19:49:49.646Z"
   },
   {
    "duration": 64,
    "start_time": "2022-06-09T19:49:49.660Z"
   },
   {
    "duration": 3,
    "start_time": "2022-06-09T19:49:49.725Z"
   },
   {
    "duration": 13,
    "start_time": "2022-06-09T19:49:49.729Z"
   },
   {
    "duration": 268,
    "start_time": "2022-06-09T19:49:49.744Z"
   },
   {
    "duration": 837,
    "start_time": "2022-06-09T19:49:50.014Z"
   },
   {
    "duration": 14,
    "start_time": "2022-06-09T19:49:50.852Z"
   },
   {
    "duration": 985,
    "start_time": "2022-06-09T19:49:50.868Z"
   },
   {
    "duration": 7,
    "start_time": "2022-06-09T19:49:51.855Z"
   },
   {
    "duration": 17,
    "start_time": "2022-06-09T19:49:51.863Z"
   },
   {
    "duration": 3419,
    "start_time": "2022-06-09T19:49:52.774Z"
   },
   {
    "duration": 1287,
    "start_time": "2022-06-09T19:50:29.333Z"
   },
   {
    "duration": 54,
    "start_time": "2022-06-09T19:50:30.622Z"
   },
   {
    "duration": 12,
    "start_time": "2022-06-09T19:50:30.678Z"
   },
   {
    "duration": 37,
    "start_time": "2022-06-09T19:50:30.696Z"
   },
   {
    "duration": 322,
    "start_time": "2022-06-09T19:50:30.734Z"
   },
   {
    "duration": 801,
    "start_time": "2022-06-09T19:50:31.058Z"
   },
   {
    "duration": 29,
    "start_time": "2022-06-09T19:50:31.861Z"
   },
   {
    "duration": 1035,
    "start_time": "2022-06-09T19:50:31.898Z"
   },
   {
    "duration": 6,
    "start_time": "2022-06-09T19:50:32.934Z"
   },
   {
    "duration": 13,
    "start_time": "2022-06-09T19:50:32.942Z"
   },
   {
    "duration": 1693,
    "start_time": "2022-06-09T19:50:32.956Z"
   },
   {
    "duration": 2,
    "start_time": "2022-06-09T19:50:34.651Z"
   },
   {
    "duration": 13,
    "start_time": "2022-06-09T19:50:34.655Z"
   },
   {
    "duration": 3,
    "start_time": "2022-06-09T19:50:34.670Z"
   },
   {
    "duration": 127,
    "start_time": "2022-06-09T19:50:35.702Z"
   },
   {
    "duration": 3,
    "start_time": "2022-06-09T19:51:21.726Z"
   },
   {
    "duration": 54,
    "start_time": "2022-06-09T19:51:21.732Z"
   },
   {
    "duration": 3,
    "start_time": "2022-06-09T19:51:21.793Z"
   },
   {
    "duration": 20,
    "start_time": "2022-06-09T19:51:21.797Z"
   },
   {
    "duration": 288,
    "start_time": "2022-06-09T19:51:21.819Z"
   },
   {
    "duration": 829,
    "start_time": "2022-06-09T19:51:22.111Z"
   },
   {
    "duration": 15,
    "start_time": "2022-06-09T19:51:22.941Z"
   },
   {
    "duration": 958,
    "start_time": "2022-06-09T19:51:22.958Z"
   },
   {
    "duration": 6,
    "start_time": "2022-06-09T19:51:23.918Z"
   },
   {
    "duration": 8,
    "start_time": "2022-06-09T19:51:23.926Z"
   },
   {
    "duration": 5785,
    "start_time": "2022-06-09T19:51:23.935Z"
   },
   {
    "duration": 10,
    "start_time": "2022-06-09T19:51:29.722Z"
   },
   {
    "duration": 9,
    "start_time": "2022-06-09T19:51:29.734Z"
   },
   {
    "duration": 4,
    "start_time": "2022-06-09T19:51:29.745Z"
   },
   {
    "duration": 37,
    "start_time": "2022-06-09T19:51:29.750Z"
   },
   {
    "duration": 77,
    "start_time": "2022-06-09T19:52:07.120Z"
   },
   {
    "duration": 71,
    "start_time": "2022-06-09T19:55:25.243Z"
   },
   {
    "duration": 119,
    "start_time": "2022-06-09T20:18:42.451Z"
   },
   {
    "duration": 40,
    "start_time": "2022-06-09T20:19:02.007Z"
   },
   {
    "duration": 4,
    "start_time": "2022-06-09T20:19:15.915Z"
   },
   {
    "duration": 156,
    "start_time": "2022-06-09T20:19:15.921Z"
   },
   {
    "duration": 3,
    "start_time": "2022-06-09T20:19:16.079Z"
   },
   {
    "duration": 19,
    "start_time": "2022-06-09T20:19:16.084Z"
   },
   {
    "duration": 350,
    "start_time": "2022-06-09T20:19:16.105Z"
   },
   {
    "duration": 668,
    "start_time": "2022-06-09T20:19:16.456Z"
   },
   {
    "duration": 14,
    "start_time": "2022-06-09T20:19:17.125Z"
   },
   {
    "duration": 955,
    "start_time": "2022-06-09T20:19:17.140Z"
   },
   {
    "duration": 8,
    "start_time": "2022-06-09T20:19:18.097Z"
   },
   {
    "duration": 6,
    "start_time": "2022-06-09T20:19:18.107Z"
   },
   {
    "duration": 821,
    "start_time": "2022-06-09T20:19:18.115Z"
   },
   {
    "duration": 15,
    "start_time": "2022-06-09T20:19:18.938Z"
   },
   {
    "duration": 32,
    "start_time": "2022-06-09T20:19:18.954Z"
   },
   {
    "duration": 4,
    "start_time": "2022-06-09T20:19:18.988Z"
   },
   {
    "duration": 106,
    "start_time": "2022-06-09T20:19:18.993Z"
   },
   {
    "duration": 3,
    "start_time": "2022-06-09T20:19:19.101Z"
   },
   {
    "duration": 38,
    "start_time": "2022-06-09T20:19:19.991Z"
   },
   {
    "duration": 351030,
    "start_time": "2022-06-09T20:19:36.172Z"
   }
  ],
  "kernelspec": {
   "display_name": "Python 3 (ipykernel)",
   "language": "python",
   "name": "python3"
  },
  "language_info": {
   "codemirror_mode": {
    "name": "ipython",
    "version": 3
   },
   "file_extension": ".py",
   "mimetype": "text/x-python",
   "name": "python",
   "nbconvert_exporter": "python",
   "pygments_lexer": "ipython3",
   "version": "3.7.8"
  },
  "toc": {
   "base_numbering": 1,
   "nav_menu": {},
   "number_sections": true,
   "sideBar": true,
   "skip_h1_title": true,
   "title_cell": "Содержание",
   "title_sidebar": "Contents",
   "toc_cell": false,
   "toc_position": {
    "height": "calc(100% - 180px)",
    "left": "10px",
    "top": "150px",
    "width": "241px"
   },
   "toc_section_display": true,
   "toc_window_display": true
  }
 },
 "nbformat": 4,
 "nbformat_minor": 2
}
