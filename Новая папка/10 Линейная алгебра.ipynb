{
 "cells": [
  {
   "cell_type": "markdown",
   "metadata": {},
   "source": [
    "<h1> Комментарий ревьюера </h1>\n",
    "\n",
    "Привет, Георгий!\n",
    "Меня зовут Виктория Ильина, и я буду проверять твой проект. Предлагаю общаться на \"ты\", но если тебе будет не комфортно, обязательно сообщи и мы перейдем на \"вы\". \n",
    "\n",
    "Моя основная цель - не указать на совершённые тобой ошибки, а поделиться своим опытом и помочь тебе стать специалистом по Data Science. Ты уже проделал большую работу над проектом, но давай сделаем его ещё лучше. Ниже ты найдёшь мои комментарии - пожалуйста, не перемещай, не изменяй и не удаляй их. Я буду использовать различные цвета, чтобы было легче воспринимать мои комментарии:\n",
    "\n",
    "<div class=\"alert alert-block alert-danger\">\n",
    "<b>Комментарий ревьюера❌:</b> Так выделены самые важные замечания. Без их отработки проект не будет принят.\n",
    "</div>\n",
    "\n",
    "<div class=\"alert alert-block alert-warning\">\n",
    "<b>Комментарий ревьюера🤔:</b> Так выделены небольшие замечания. Одно-два таких замечания в проекте допустимы, но если их будет больше - тебе будет необходимо внести исправления. Однако, если перед нами стоит цель не просто сдать проект и забыть, а приобрести новые знания и успешно применять их в будущем, я бы всё-таки рекомендовала тебе прорабатывать эти недочёты.\n",
    "</div>\n",
    "    \n",
    "<div class=\"alert alert-block alert-success\">\n",
    "<b>Комментарий ревьюера👍:</b> Так я выделю все остальные комментарии.\n",
    "</div>\n",
    "    \n",
    "Давай работать над проектом в диалоге: если ты что-то меняешь в проекте или отвечаешь на мои комментарии - пиши об этом. Мне будет легче отследить изменения, если ты выделишь свои комментарии:\n",
    "\n",
    "<div class=\"alert alert-block alert-info\">\n",
    "<b>Комментарий студента:</b> Например, вот так.\n",
    "</div>\n",
    "\n",
    "Давай посмотрим, что получилось!"
   ]
  },
  {
   "cell_type": "markdown",
   "metadata": {},
   "source": [
    "# Защита персональных данных клиентов"
   ]
  },
  {
   "cell_type": "markdown",
   "metadata": {},
   "source": [
    "Вам нужно защитить данные клиентов страховой компании «Хоть потоп». Разработайте такой метод преобразования данных, чтобы по ним было сложно восстановить персональную информацию. Обоснуйте корректность его работы.\n",
    "\n",
    "Нужно защитить данные, чтобы при преобразовании качество моделей машинного обучения не ухудшилось. Подбирать наилучшую модель не требуется."
   ]
  },
  {
   "cell_type": "markdown",
   "metadata": {},
   "source": [
    "## Загрузка данных"
   ]
  },
  {
   "cell_type": "code",
   "execution_count": 1,
   "metadata": {},
   "outputs": [],
   "source": [
    "import pandas as pd\n",
    "import numpy as np\n",
    "from sklearn.model_selection import train_test_split\n",
    "from sklearn.linear_model import LinearRegression\n",
    "from sklearn.metrics import r2_score"
   ]
  },
  {
   "cell_type": "code",
   "execution_count": 2,
   "metadata": {},
   "outputs": [],
   "source": [
    "df = pd.read_csv('/datasets/insurance.csv')"
   ]
  },
  {
   "cell_type": "code",
   "execution_count": 3,
   "metadata": {},
   "outputs": [
    {
     "data": {
      "text/html": [
       "<div>\n",
       "<style scoped>\n",
       "    .dataframe tbody tr th:only-of-type {\n",
       "        vertical-align: middle;\n",
       "    }\n",
       "\n",
       "    .dataframe tbody tr th {\n",
       "        vertical-align: top;\n",
       "    }\n",
       "\n",
       "    .dataframe thead th {\n",
       "        text-align: right;\n",
       "    }\n",
       "</style>\n",
       "<table border=\"1\" class=\"dataframe\">\n",
       "  <thead>\n",
       "    <tr style=\"text-align: right;\">\n",
       "      <th></th>\n",
       "      <th>Пол</th>\n",
       "      <th>Возраст</th>\n",
       "      <th>Зарплата</th>\n",
       "      <th>Члены семьи</th>\n",
       "      <th>Страховые выплаты</th>\n",
       "    </tr>\n",
       "  </thead>\n",
       "  <tbody>\n",
       "    <tr>\n",
       "      <th>0</th>\n",
       "      <td>1</td>\n",
       "      <td>41.0</td>\n",
       "      <td>49600.0</td>\n",
       "      <td>1</td>\n",
       "      <td>0</td>\n",
       "    </tr>\n",
       "    <tr>\n",
       "      <th>1</th>\n",
       "      <td>0</td>\n",
       "      <td>46.0</td>\n",
       "      <td>38000.0</td>\n",
       "      <td>1</td>\n",
       "      <td>1</td>\n",
       "    </tr>\n",
       "    <tr>\n",
       "      <th>2</th>\n",
       "      <td>0</td>\n",
       "      <td>29.0</td>\n",
       "      <td>21000.0</td>\n",
       "      <td>0</td>\n",
       "      <td>0</td>\n",
       "    </tr>\n",
       "    <tr>\n",
       "      <th>3</th>\n",
       "      <td>0</td>\n",
       "      <td>21.0</td>\n",
       "      <td>41700.0</td>\n",
       "      <td>2</td>\n",
       "      <td>0</td>\n",
       "    </tr>\n",
       "    <tr>\n",
       "      <th>4</th>\n",
       "      <td>1</td>\n",
       "      <td>28.0</td>\n",
       "      <td>26100.0</td>\n",
       "      <td>0</td>\n",
       "      <td>0</td>\n",
       "    </tr>\n",
       "    <tr>\n",
       "      <th>...</th>\n",
       "      <td>...</td>\n",
       "      <td>...</td>\n",
       "      <td>...</td>\n",
       "      <td>...</td>\n",
       "      <td>...</td>\n",
       "    </tr>\n",
       "    <tr>\n",
       "      <th>4995</th>\n",
       "      <td>0</td>\n",
       "      <td>28.0</td>\n",
       "      <td>35700.0</td>\n",
       "      <td>2</td>\n",
       "      <td>0</td>\n",
       "    </tr>\n",
       "    <tr>\n",
       "      <th>4996</th>\n",
       "      <td>0</td>\n",
       "      <td>34.0</td>\n",
       "      <td>52400.0</td>\n",
       "      <td>1</td>\n",
       "      <td>0</td>\n",
       "    </tr>\n",
       "    <tr>\n",
       "      <th>4997</th>\n",
       "      <td>0</td>\n",
       "      <td>20.0</td>\n",
       "      <td>33900.0</td>\n",
       "      <td>2</td>\n",
       "      <td>0</td>\n",
       "    </tr>\n",
       "    <tr>\n",
       "      <th>4998</th>\n",
       "      <td>1</td>\n",
       "      <td>22.0</td>\n",
       "      <td>32700.0</td>\n",
       "      <td>3</td>\n",
       "      <td>0</td>\n",
       "    </tr>\n",
       "    <tr>\n",
       "      <th>4999</th>\n",
       "      <td>1</td>\n",
       "      <td>28.0</td>\n",
       "      <td>40600.0</td>\n",
       "      <td>1</td>\n",
       "      <td>0</td>\n",
       "    </tr>\n",
       "  </tbody>\n",
       "</table>\n",
       "<p>5000 rows × 5 columns</p>\n",
       "</div>"
      ],
      "text/plain": [
       "      Пол  Возраст  Зарплата  Члены семьи  Страховые выплаты\n",
       "0       1     41.0   49600.0            1                  0\n",
       "1       0     46.0   38000.0            1                  1\n",
       "2       0     29.0   21000.0            0                  0\n",
       "3       0     21.0   41700.0            2                  0\n",
       "4       1     28.0   26100.0            0                  0\n",
       "...   ...      ...       ...          ...                ...\n",
       "4995    0     28.0   35700.0            2                  0\n",
       "4996    0     34.0   52400.0            1                  0\n",
       "4997    0     20.0   33900.0            2                  0\n",
       "4998    1     22.0   32700.0            3                  0\n",
       "4999    1     28.0   40600.0            1                  0\n",
       "\n",
       "[5000 rows x 5 columns]"
      ]
     },
     "metadata": {},
     "output_type": "display_data"
    },
    {
     "name": "stdout",
     "output_type": "stream",
     "text": [
      "<class 'pandas.core.frame.DataFrame'>\n",
      "RangeIndex: 5000 entries, 0 to 4999\n",
      "Data columns (total 5 columns):\n",
      " #   Column             Non-Null Count  Dtype  \n",
      "---  ------             --------------  -----  \n",
      " 0   Пол                5000 non-null   int64  \n",
      " 1   Возраст            5000 non-null   float64\n",
      " 2   Зарплата           5000 non-null   float64\n",
      " 3   Члены семьи        5000 non-null   int64  \n",
      " 4   Страховые выплаты  5000 non-null   int64  \n",
      "dtypes: float64(2), int64(3)\n",
      "memory usage: 195.4 KB\n",
      "None\n"
     ]
    }
   ],
   "source": [
    "display(df)\n",
    "print(df.info())"
   ]
  },
  {
   "cell_type": "markdown",
   "metadata": {},
   "source": [
    "Наличие дубликатов"
   ]
  },
  {
   "cell_type": "code",
   "execution_count": 4,
   "metadata": {},
   "outputs": [
    {
     "data": {
      "text/plain": [
       "153"
      ]
     },
     "execution_count": 4,
     "metadata": {},
     "output_type": "execute_result"
    }
   ],
   "source": [
    "# проверим на наличие дупликатов\n",
    "df.duplicated().sum()"
   ]
  },
  {
   "cell_type": "code",
   "execution_count": 5,
   "metadata": {},
   "outputs": [
    {
     "data": {
      "text/html": [
       "<div>\n",
       "<style scoped>\n",
       "    .dataframe tbody tr th:only-of-type {\n",
       "        vertical-align: middle;\n",
       "    }\n",
       "\n",
       "    .dataframe tbody tr th {\n",
       "        vertical-align: top;\n",
       "    }\n",
       "\n",
       "    .dataframe thead th {\n",
       "        text-align: right;\n",
       "    }\n",
       "</style>\n",
       "<table border=\"1\" class=\"dataframe\">\n",
       "  <thead>\n",
       "    <tr style=\"text-align: right;\">\n",
       "      <th></th>\n",
       "      <th>Пол</th>\n",
       "      <th>Возраст</th>\n",
       "      <th>Зарплата</th>\n",
       "      <th>Члены семьи</th>\n",
       "      <th>Страховые выплаты</th>\n",
       "    </tr>\n",
       "  </thead>\n",
       "  <tbody>\n",
       "    <tr>\n",
       "      <th>2955</th>\n",
       "      <td>1</td>\n",
       "      <td>32.0</td>\n",
       "      <td>21600.0</td>\n",
       "      <td>0</td>\n",
       "      <td>0</td>\n",
       "    </tr>\n",
       "    <tr>\n",
       "      <th>2988</th>\n",
       "      <td>1</td>\n",
       "      <td>32.0</td>\n",
       "      <td>21600.0</td>\n",
       "      <td>0</td>\n",
       "      <td>0</td>\n",
       "    </tr>\n",
       "    <tr>\n",
       "      <th>361</th>\n",
       "      <td>0</td>\n",
       "      <td>50.0</td>\n",
       "      <td>24700.0</td>\n",
       "      <td>1</td>\n",
       "      <td>2</td>\n",
       "    </tr>\n",
       "    <tr>\n",
       "      <th>2869</th>\n",
       "      <td>0</td>\n",
       "      <td>50.0</td>\n",
       "      <td>24700.0</td>\n",
       "      <td>1</td>\n",
       "      <td>2</td>\n",
       "    </tr>\n",
       "    <tr>\n",
       "      <th>333</th>\n",
       "      <td>0</td>\n",
       "      <td>32.0</td>\n",
       "      <td>25600.0</td>\n",
       "      <td>1</td>\n",
       "      <td>0</td>\n",
       "    </tr>\n",
       "    <tr>\n",
       "      <th>...</th>\n",
       "      <td>...</td>\n",
       "      <td>...</td>\n",
       "      <td>...</td>\n",
       "      <td>...</td>\n",
       "      <td>...</td>\n",
       "    </tr>\n",
       "    <tr>\n",
       "      <th>2465</th>\n",
       "      <td>0</td>\n",
       "      <td>40.0</td>\n",
       "      <td>54000.0</td>\n",
       "      <td>2</td>\n",
       "      <td>0</td>\n",
       "    </tr>\n",
       "    <tr>\n",
       "      <th>1042</th>\n",
       "      <td>0</td>\n",
       "      <td>33.0</td>\n",
       "      <td>59300.0</td>\n",
       "      <td>2</td>\n",
       "      <td>0</td>\n",
       "    </tr>\n",
       "    <tr>\n",
       "      <th>2231</th>\n",
       "      <td>0</td>\n",
       "      <td>33.0</td>\n",
       "      <td>59300.0</td>\n",
       "      <td>2</td>\n",
       "      <td>0</td>\n",
       "    </tr>\n",
       "    <tr>\n",
       "      <th>1418</th>\n",
       "      <td>1</td>\n",
       "      <td>28.0</td>\n",
       "      <td>59900.0</td>\n",
       "      <td>0</td>\n",
       "      <td>0</td>\n",
       "    </tr>\n",
       "    <tr>\n",
       "      <th>1742</th>\n",
       "      <td>1</td>\n",
       "      <td>28.0</td>\n",
       "      <td>59900.0</td>\n",
       "      <td>0</td>\n",
       "      <td>0</td>\n",
       "    </tr>\n",
       "  </tbody>\n",
       "</table>\n",
       "<p>300 rows × 5 columns</p>\n",
       "</div>"
      ],
      "text/plain": [
       "      Пол  Возраст  Зарплата  Члены семьи  Страховые выплаты\n",
       "2955    1     32.0   21600.0            0                  0\n",
       "2988    1     32.0   21600.0            0                  0\n",
       "361     0     50.0   24700.0            1                  2\n",
       "2869    0     50.0   24700.0            1                  2\n",
       "333     0     32.0   25600.0            1                  0\n",
       "...   ...      ...       ...          ...                ...\n",
       "2465    0     40.0   54000.0            2                  0\n",
       "1042    0     33.0   59300.0            2                  0\n",
       "2231    0     33.0   59300.0            2                  0\n",
       "1418    1     28.0   59900.0            0                  0\n",
       "1742    1     28.0   59900.0            0                  0\n",
       "\n",
       "[300 rows x 5 columns]"
      ]
     },
     "execution_count": 5,
     "metadata": {},
     "output_type": "execute_result"
    }
   ],
   "source": [
    "# Посмотрим на дубликаты\n",
    "df[df.duplicated(keep=False)].sort_values(by='Зарплата')"
   ]
  },
  {
   "cell_type": "code",
   "execution_count": 6,
   "metadata": {},
   "outputs": [
    {
     "data": {
      "text/plain": [
       "0"
      ]
     },
     "execution_count": 6,
     "metadata": {},
     "output_type": "execute_result"
    }
   ],
   "source": [
    "# удалим их\n",
    "df = df.drop_duplicates().reset_index(drop=True)\n",
    "df.duplicated().sum()"
   ]
  },
  {
   "cell_type": "markdown",
   "metadata": {},
   "source": [
    "Тип столбцов"
   ]
  },
  {
   "cell_type": "code",
   "execution_count": 7,
   "metadata": {},
   "outputs": [
    {
     "name": "stdout",
     "output_type": "stream",
     "text": [
      "<class 'pandas.core.frame.DataFrame'>\n",
      "RangeIndex: 4847 entries, 0 to 4846\n",
      "Data columns (total 5 columns):\n",
      " #   Column             Non-Null Count  Dtype\n",
      "---  ------             --------------  -----\n",
      " 0   Пол                4847 non-null   int64\n",
      " 1   Возраст            4847 non-null   int64\n",
      " 2   Зарплата           4847 non-null   int64\n",
      " 3   Члены семьи        4847 non-null   int64\n",
      " 4   Страховые выплаты  4847 non-null   int64\n",
      "dtypes: int64(5)\n",
      "memory usage: 189.5 KB\n"
     ]
    }
   ],
   "source": [
    "# У столбцов возраст и зарплата тип float64. Изменим на Int64\n",
    "df[['Возраст', 'Зарплата']] = df[['Возраст', 'Зарплата']].astype(int)\n",
    "df.info()"
   ]
  },
  {
   "cell_type": "code",
   "execution_count": 8,
   "metadata": {},
   "outputs": [
    {
     "data": {
      "text/html": [
       "<div>\n",
       "<style scoped>\n",
       "    .dataframe tbody tr th:only-of-type {\n",
       "        vertical-align: middle;\n",
       "    }\n",
       "\n",
       "    .dataframe tbody tr th {\n",
       "        vertical-align: top;\n",
       "    }\n",
       "\n",
       "    .dataframe thead th {\n",
       "        text-align: right;\n",
       "    }\n",
       "</style>\n",
       "<table border=\"1\" class=\"dataframe\">\n",
       "  <thead>\n",
       "    <tr style=\"text-align: right;\">\n",
       "      <th></th>\n",
       "      <th>Пол</th>\n",
       "      <th>Возраст</th>\n",
       "      <th>Зарплата</th>\n",
       "      <th>Члены семьи</th>\n",
       "      <th>Страховые выплаты</th>\n",
       "    </tr>\n",
       "  </thead>\n",
       "  <tbody>\n",
       "    <tr>\n",
       "      <th>count</th>\n",
       "      <td>4847.000000</td>\n",
       "      <td>4847.000000</td>\n",
       "      <td>4847.000000</td>\n",
       "      <td>4847.000000</td>\n",
       "      <td>4847.000000</td>\n",
       "    </tr>\n",
       "    <tr>\n",
       "      <th>mean</th>\n",
       "      <td>0.498453</td>\n",
       "      <td>31.023932</td>\n",
       "      <td>39895.811223</td>\n",
       "      <td>1.203425</td>\n",
       "      <td>0.152259</td>\n",
       "    </tr>\n",
       "    <tr>\n",
       "      <th>std</th>\n",
       "      <td>0.500049</td>\n",
       "      <td>8.487995</td>\n",
       "      <td>9972.952441</td>\n",
       "      <td>1.098664</td>\n",
       "      <td>0.468934</td>\n",
       "    </tr>\n",
       "    <tr>\n",
       "      <th>min</th>\n",
       "      <td>0.000000</td>\n",
       "      <td>18.000000</td>\n",
       "      <td>5300.000000</td>\n",
       "      <td>0.000000</td>\n",
       "      <td>0.000000</td>\n",
       "    </tr>\n",
       "    <tr>\n",
       "      <th>25%</th>\n",
       "      <td>0.000000</td>\n",
       "      <td>24.000000</td>\n",
       "      <td>33200.000000</td>\n",
       "      <td>0.000000</td>\n",
       "      <td>0.000000</td>\n",
       "    </tr>\n",
       "    <tr>\n",
       "      <th>50%</th>\n",
       "      <td>0.000000</td>\n",
       "      <td>30.000000</td>\n",
       "      <td>40200.000000</td>\n",
       "      <td>1.000000</td>\n",
       "      <td>0.000000</td>\n",
       "    </tr>\n",
       "    <tr>\n",
       "      <th>75%</th>\n",
       "      <td>1.000000</td>\n",
       "      <td>37.000000</td>\n",
       "      <td>46600.000000</td>\n",
       "      <td>2.000000</td>\n",
       "      <td>0.000000</td>\n",
       "    </tr>\n",
       "    <tr>\n",
       "      <th>max</th>\n",
       "      <td>1.000000</td>\n",
       "      <td>65.000000</td>\n",
       "      <td>79000.000000</td>\n",
       "      <td>6.000000</td>\n",
       "      <td>5.000000</td>\n",
       "    </tr>\n",
       "  </tbody>\n",
       "</table>\n",
       "</div>"
      ],
      "text/plain": [
       "               Пол      Возраст      Зарплата  Члены семьи  Страховые выплаты\n",
       "count  4847.000000  4847.000000   4847.000000  4847.000000        4847.000000\n",
       "mean      0.498453    31.023932  39895.811223     1.203425           0.152259\n",
       "std       0.500049     8.487995   9972.952441     1.098664           0.468934\n",
       "min       0.000000    18.000000   5300.000000     0.000000           0.000000\n",
       "25%       0.000000    24.000000  33200.000000     0.000000           0.000000\n",
       "50%       0.000000    30.000000  40200.000000     1.000000           0.000000\n",
       "75%       1.000000    37.000000  46600.000000     2.000000           0.000000\n",
       "max       1.000000    65.000000  79000.000000     6.000000           5.000000"
      ]
     },
     "execution_count": 8,
     "metadata": {},
     "output_type": "execute_result"
    }
   ],
   "source": [
    "df.describe()"
   ]
  },
  {
   "cell_type": "code",
   "execution_count": 9,
   "metadata": {},
   "outputs": [
    {
     "data": {
      "text/html": [
       "<div>\n",
       "<style scoped>\n",
       "    .dataframe tbody tr th:only-of-type {\n",
       "        vertical-align: middle;\n",
       "    }\n",
       "\n",
       "    .dataframe tbody tr th {\n",
       "        vertical-align: top;\n",
       "    }\n",
       "\n",
       "    .dataframe thead th {\n",
       "        text-align: right;\n",
       "    }\n",
       "</style>\n",
       "<table border=\"1\" class=\"dataframe\">\n",
       "  <thead>\n",
       "    <tr style=\"text-align: right;\">\n",
       "      <th></th>\n",
       "      <th>Пол</th>\n",
       "      <th>Возраст</th>\n",
       "      <th>Зарплата</th>\n",
       "      <th>Члены семьи</th>\n",
       "      <th>Страховые выплаты</th>\n",
       "    </tr>\n",
       "  </thead>\n",
       "  <tbody>\n",
       "    <tr>\n",
       "      <th>Пол</th>\n",
       "      <td>1.000000</td>\n",
       "      <td>0.001953</td>\n",
       "      <td>0.015456</td>\n",
       "      <td>-0.007315</td>\n",
       "      <td>0.011565</td>\n",
       "    </tr>\n",
       "    <tr>\n",
       "      <th>Возраст</th>\n",
       "      <td>0.001953</td>\n",
       "      <td>1.000000</td>\n",
       "      <td>-0.017386</td>\n",
       "      <td>-0.009064</td>\n",
       "      <td>0.654964</td>\n",
       "    </tr>\n",
       "    <tr>\n",
       "      <th>Зарплата</th>\n",
       "      <td>0.015456</td>\n",
       "      <td>-0.017386</td>\n",
       "      <td>1.000000</td>\n",
       "      <td>-0.031687</td>\n",
       "      <td>-0.013123</td>\n",
       "    </tr>\n",
       "    <tr>\n",
       "      <th>Члены семьи</th>\n",
       "      <td>-0.007315</td>\n",
       "      <td>-0.009064</td>\n",
       "      <td>-0.031687</td>\n",
       "      <td>1.000000</td>\n",
       "      <td>-0.039303</td>\n",
       "    </tr>\n",
       "    <tr>\n",
       "      <th>Страховые выплаты</th>\n",
       "      <td>0.011565</td>\n",
       "      <td>0.654964</td>\n",
       "      <td>-0.013123</td>\n",
       "      <td>-0.039303</td>\n",
       "      <td>1.000000</td>\n",
       "    </tr>\n",
       "  </tbody>\n",
       "</table>\n",
       "</div>"
      ],
      "text/plain": [
       "                        Пол   Возраст  Зарплата  Члены семьи  \\\n",
       "Пол                1.000000  0.001953  0.015456    -0.007315   \n",
       "Возраст            0.001953  1.000000 -0.017386    -0.009064   \n",
       "Зарплата           0.015456 -0.017386  1.000000    -0.031687   \n",
       "Члены семьи       -0.007315 -0.009064 -0.031687     1.000000   \n",
       "Страховые выплаты  0.011565  0.654964 -0.013123    -0.039303   \n",
       "\n",
       "                   Страховые выплаты  \n",
       "Пол                         0.011565  \n",
       "Возраст                     0.654964  \n",
       "Зарплата                   -0.013123  \n",
       "Члены семьи                -0.039303  \n",
       "Страховые выплаты           1.000000  "
      ]
     },
     "execution_count": 9,
     "metadata": {},
     "output_type": "execute_result"
    }
   ],
   "source": [
    "df.corr()"
   ]
  },
  {
   "cell_type": "code",
   "execution_count": 10,
   "metadata": {
    "scrolled": true
   },
   "outputs": [
    {
     "data": {
      "text/plain": [
       "<AxesSubplot:xlabel='Возраст'>"
      ]
     },
     "execution_count": 10,
     "metadata": {},
     "output_type": "execute_result"
    },
    {
     "data": {
      "image/png": "[encoded data removed]",
      "text/plain": [
       "<Figure size 432x288 with 1 Axes>"
      ]
     },
     "metadata": {
      "needs_background": "light"
     },
     "output_type": "display_data"
    }
   ],
   "source": [
    "insurance_age = df.pivot_table(index='Возраст', values='Страховые выплаты', aggfunc='median')\n",
    "insurance_age.plot(y='Страховые выплаты', kind='bar')"
   ]
  },
  {
   "cell_type": "code",
   "execution_count": 11,
   "metadata": {},
   "outputs": [
    {
     "data": {
      "text/html": [
       "<div>\n",
       "<style scoped>\n",
       "    .dataframe tbody tr th:only-of-type {\n",
       "        vertical-align: middle;\n",
       "    }\n",
       "\n",
       "    .dataframe tbody tr th {\n",
       "        vertical-align: top;\n",
       "    }\n",
       "\n",
       "    .dataframe thead th {\n",
       "        text-align: right;\n",
       "    }\n",
       "</style>\n",
       "<table border=\"1\" class=\"dataframe\">\n",
       "  <thead>\n",
       "    <tr style=\"text-align: right;\">\n",
       "      <th></th>\n",
       "      <th>Пол</th>\n",
       "      <th>Возраст</th>\n",
       "      <th>Зарплата</th>\n",
       "      <th>Члены семьи</th>\n",
       "      <th>Страховые выплаты</th>\n",
       "    </tr>\n",
       "  </thead>\n",
       "  <tbody>\n",
       "    <tr>\n",
       "      <th>228</th>\n",
       "      <td>1</td>\n",
       "      <td>65</td>\n",
       "      <td>39700</td>\n",
       "      <td>1</td>\n",
       "      <td>5</td>\n",
       "    </tr>\n",
       "  </tbody>\n",
       "</table>\n",
       "</div>"
      ],
      "text/plain": [
       "     Пол  Возраст  Зарплата  Члены семьи  Страховые выплаты\n",
       "228    1       65     39700            1                  5"
      ]
     },
     "execution_count": 11,
     "metadata": {},
     "output_type": "execute_result"
    }
   ],
   "source": [
    "df[df['Возраст']==65]"
   ]
  },
  {
   "cell_type": "markdown",
   "metadata": {},
   "source": [
    "<div class=\"alert alert-block alert-success\">\n",
    "<b>Комментарий ревьюера👍:</b> Отлично!\n",
    "    \n",
    "Этого не было в требованиях к проекту, просто дополнительно по EDA:\n",
    "    \n",
    "Если использовать функцию describe(), то можно увидеть, что в таблице данных компании соблюден почти идеальный баланс между мужчинами и женщинами. Средний возраст застрахованного составляет около 31 года, при этом медиана составляет 30. Границы возраста застрахованных приводят к выводу, что компания не занимается страхованием лиц, чей возраст составляет менее 18 и старше 65 лет. Также интересно взглянуть на уровень заработной платы застрахованных - медиана составляет чуть более 40 000 рублей. В целом, в компании скорее представлен средний экономический класс, чем слишком бедные или слишком богатые граждане. \n",
    "    \n",
    "Дополнительно можно было бы посмотреть корреляцию. Возраст и количество страховых выплат клиенту за последние 5 лет имеют корреляцию 0.651. Вероятно, для компании есть взаимосвязь: чем старше застрахованное лицо, тем более вероятно он потребует страховку чаще, следовательно, несёт в себе больше рисков для предприятия.\n",
    "\n",
    "Если подробнее изучить эту связь, то можно узнать, что все клиенты в возрасте до 42 лет не получали ни одной страховой выплаты, в возрасте до 49 лет только одну выплату, до 55 лет две выплаты, до 59 лет три выплаты, до 65 лет четыре выплаты. Только один клиент получил максимальное количество выплат за пять лет - пять выплат в возрасте 65 лет\n",
    "</div>\n"
   ]
  },
  {
   "cell_type": "markdown",
   "metadata": {},
   "source": [
    "<div class=\"alert alert-block alert-warning\">\n",
    "<b>Комментарий ревьюера🤔:</b> отсутствует промежуточный вывод\n",
    "</div>"
   ]
  },
  {
   "cell_type": "markdown",
   "metadata": {},
   "source": [
    "**Вывод**<br>\n",
    "\n",
    "Были обнаруженные и удалены дубликаты, изменены типы столбцов, и проанализированны данные в таблице:\n",
    "- Мужчин и женщин примерно одинаковое количество\n",
    "- Возраст:\n",
    "    - Диапазон возрастов от 18 до 65 лет\n",
    "    - Средний возраст 31 год\n",
    "    - 75% людей в возрасте до 37 лет\n",
    "- Средняя зарплата составляет примерно 40 тыс.\n",
    "\n",
    "Также видна корреляция между возрастом и страховыми выплатами: 0.654.<br>\n",
    "Если мы построим barplot, то увидим, что людям до 42 лет не выплачивали ни одной выплаты. С 42 до 49 лет по одной. С 49 до 55 лет две выплаты. С 55 до 59 три выплаты, с 59 лет до 65 лет четыре выплаты. Только в 65 лет человеку было выплачено 5 раз."
   ]
  },
  {
   "cell_type": "markdown",
   "metadata": {},
   "source": [
    "## Умножение матриц"
   ]
  },
  {
   "cell_type": "markdown",
   "metadata": {},
   "source": [
    "В этом задании вы можете записывать формулы в *Jupyter Notebook.*\n",
    "\n",
    "Чтобы записать формулу внутри текста, окружите её символами доллара \\\\$; если снаружи —  двойными символами \\\\$\\\\$. Эти формулы записываются на языке вёрстки *LaTeX.* \n",
    "\n",
    "Для примера мы записали формулы линейной регрессии. Можете их скопировать и отредактировать, чтобы решить задачу.\n",
    "\n",
    "Работать в *LaTeX* необязательно."
   ]
  },
  {
   "cell_type": "markdown",
   "metadata": {},
   "source": [
    "Обозначения:\n",
    "\n",
    "- $X$ — матрица признаков (нулевой столбец состоит из единиц)\n",
    "\n",
    "- $y$ — вектор целевого признака\n",
    "\n",
    "- $P$ — матрица, на которую умножаются признаки\n",
    "\n",
    "- $w$ — вектор весов линейной регрессии (нулевой элемент равен сдвигу)"
   ]
  },
  {
   "cell_type": "markdown",
   "metadata": {},
   "source": [
    "Предсказания:\n",
    "\n",
    "$$\n",
    "a = Xw\n",
    "$$\n",
    "\n",
    "Задача обучения:\n",
    "\n",
    "$$\n",
    "w = \\arg\\min_w MSE(Xw, y)\n",
    "$$\n",
    "\n",
    "Формула обучения:\n",
    "\n",
    "$$\n",
    "w = (X^T X)^{-1} X^T y\n",
    "$$"
   ]
  },
  {
   "cell_type": "markdown",
   "metadata": {},
   "source": [
    "**Звучит подзадание так:** <br>\n",
    "Признаки умножают на обратимую матрицу.<br> \n",
    "Изменится ли качество линейной регрессии? (Её можно обучить заново.)<br>\n",
    "- a. Изменится. Приведите примеры матриц.<br>\n",
    "- b. Не изменится. Укажите, как связаны параметры линейной регрессии в исходной задаче и в преобразованной.<br>"
   ]
  },
  {
   "cell_type": "markdown",
   "metadata": {},
   "source": [
    "**Ответ:** Не изменится\n",
    "\n",
    "**Доказательство:** \n",
    "\n",
    "1) Заменим $X$ на $I$, где $L$ - Обратимая матрица: $$I = XL$$ \n",
    "\n",
    "\n",
    "2) Итак, наши формулы: \n",
    "$$a = Iw$$\n",
    "$$w = (I^T I)^{-1} I^T y$$\n",
    "\n",
    "\n",
    "3) Подставим $XL$ вместо $I$:\n",
    "$$w2 = ((XL)^T XL)^{-1} (XL)^T y$$\n",
    "\n",
    "4) Раскроем $(XL)^T$:\n",
    "$$w2 = (L^T X^T XL)^{-1}  L^T X^T y $$\n",
    "\n",
    "5) Возьмём в скобки  $X^T X$\n",
    "$$w2 = (L^T (X^T X)L)^{-1}  L^T X^T y $$\n",
    "\n",
    "6) Раскроем скобки $(L^T (X^T X)L)^{-1}$\n",
    "$$w2 = L^{-1} (X^T X)^{-1} (L^T)^{-1}  L^T X^T y $$\n",
    "\n",
    "7) Так как $L$ обратимая, то $(L^T)^{-1}  L^T$ будет равно $E$:\n",
    "$$w2 = L^{-1} (X^T X)^{-1} E X^T y = L^{-1} (X^T X)^{-1} X^T y $$\n",
    "\n",
    "8) Получается, что справа у нас формула обучения $w$:\n",
    "$$  w2 =L^{-1} (X^T X)^{-1} X^T y = L^{-1} w$$\n",
    "\n",
    "9) Подставляем в формулу $a2$:\n",
    "$$ a2 = Iw2 = IL^{-1}w $$\n",
    "\n",
    "10) Заменяем  $I$ на $XL$ и, зная что $L(L)^{-1}$ будет равно $E$, преобразовываем:\n",
    "$$ a2 = XLL^{-1}w = XEw = Xw = a$$\n",
    "\n",
    "\n",
    "\n",
    "Было доказанно, что приумножении матрицы признаков на обратимую матрицу качество линейной регрессии не изменяется"
   ]
  },
  {
   "cell_type": "markdown",
   "metadata": {},
   "source": [
    "<div class=\"alert alert-block alert-success\">\n",
    "<b>Комментарий ревьюера👍:</b> Абсолютно верно, молодец, что не раскрыл $(X^T X)^{-1}$, так как для неквадратных матриц $X$ и $X^T$ обратных матриц не существует. Маленькое замечание по оформлению, чтобы a2 выглядело как $a_2$ нужно просто добавить нижнее подчёркивание\n",
    "</div>\n"
   ]
  },
  {
   "cell_type": "markdown",
   "metadata": {},
   "source": [
    "## Алгоритм преобразования"
   ]
  },
  {
   "cell_type": "markdown",
   "metadata": {},
   "source": [
    "Предложите алгоритм преобразования данных для решения задачи. Обоснуйте, почему качество линейной регрессии не поменяется."
   ]
  },
  {
   "cell_type": "markdown",
   "metadata": {},
   "source": [
    "Создадим рандомную матрицу\n",
    "\n",
    "Так как матрица при умножении на матрицу признаков должна давать матрицу такого же размера как исходная, то $I$ должна быть квадратной с размером, равным количеству признаков, в нашем случае их 4."
   ]
  },
  {
   "cell_type": "code",
   "execution_count": 12,
   "metadata": {},
   "outputs": [
    {
     "data": {
      "text/plain": [
       "array([[94, 54,  0, 51],\n",
       "       [ 3, 63, 16, 86],\n",
       "       [27,  4, 72, 34],\n",
       "       [75, 33, 53, 89]])"
      ]
     },
     "execution_count": 12,
     "metadata": {},
     "output_type": "execute_result"
    }
   ],
   "source": [
    "random_matrix = np.random.randint(100,size = (4, 4))\n",
    "random_matrix"
   ]
  },
  {
   "cell_type": "markdown",
   "metadata": {},
   "source": [
    "Чтобы найти обратную матрицу, вызову функцию `numpy.linalg.inv()`. Если матрица необратима, будет обнаружена ошибка."
   ]
  },
  {
   "cell_type": "code",
   "execution_count": 13,
   "metadata": {},
   "outputs": [
    {
     "data": {
      "text/plain": [
       "array([[ 0.00746168, -0.00887474, -0.00165968,  0.00493383],\n",
       "       [ 0.02085679,  0.01478771,  0.02230147, -0.03476055],\n",
       "       [ 0.00370672,  0.00217603,  0.0229785 , -0.01300506],\n",
       "       [-0.01622873,  0.00069979, -0.0205543 ,  0.02771156]])"
      ]
     },
     "execution_count": 13,
     "metadata": {},
     "output_type": "execute_result"
    }
   ],
   "source": [
    "np.linalg.inv(random_matrix)"
   ]
  },
  {
   "cell_type": "markdown",
   "metadata": {},
   "source": [
    "У нас есть обратимая матрица, осталось только проверить алгоритм."
   ]
  },
  {
   "cell_type": "markdown",
   "metadata": {},
   "source": [
    "## Проверка алгоритма"
   ]
  },
  {
   "cell_type": "code",
   "execution_count": 14,
   "metadata": {},
   "outputs": [],
   "source": [
    "features = df.drop('Страховые выплаты', axis=1)\n",
    "target = df['Страховые выплаты']\n",
    "\n",
    "features_train, features_valid, target_train, target_valid = train_test_split(\n",
    "    features, target, test_size=0.25, random_state=12345)"
   ]
  },
  {
   "cell_type": "code",
   "execution_count": 15,
   "metadata": {},
   "outputs": [
    {
     "data": {
      "text/plain": [
       "(3635, 4)"
      ]
     },
     "metadata": {},
     "output_type": "display_data"
    },
    {
     "data": {
      "text/plain": [
       "(1212, 4)"
      ]
     },
     "metadata": {},
     "output_type": "display_data"
    },
    {
     "data": {
      "text/plain": [
       "(3635,)"
      ]
     },
     "metadata": {},
     "output_type": "display_data"
    },
    {
     "data": {
      "text/plain": [
       "(1212,)"
      ]
     },
     "metadata": {},
     "output_type": "display_data"
    }
   ],
   "source": [
    "display(features_train.shape, features_valid.shape, target_train.shape, target_valid.shape)"
   ]
  },
  {
   "cell_type": "code",
   "execution_count": 16,
   "metadata": {},
   "outputs": [
    {
     "name": "stdout",
     "output_type": "stream",
     "text": [
      "R2_Score для исходных данных: 0.42308\n"
     ]
    }
   ],
   "source": [
    "model = LinearRegression()\n",
    "model.fit(features_train, target_train)\n",
    "print('R2_Score для исходных данных:',(r2_score(target_valid, model.predict(features_valid))).round(5) )"
   ]
  },
  {
   "cell_type": "code",
   "execution_count": 17,
   "metadata": {},
   "outputs": [
    {
     "name": "stdout",
     "output_type": "stream",
     "text": [
      "R2_Score для зашифрованных данных: 0.42308\n"
     ]
    }
   ],
   "source": [
    "encoded_matrix_train = np.dot(features_train, random_matrix)\n",
    "encoded_matrix_valid = np.dot(features_valid, random_matrix)\n",
    "model = LinearRegression()\n",
    "model.fit(encoded_matrix_train, target_train)\n",
    "print('R2_Score для зашифрованных данных:',(r2_score(target_valid, model.predict(encoded_matrix_valid))).round(5) )"
   ]
  },
  {
   "cell_type": "markdown",
   "metadata": {},
   "source": [
    "**Вывод**<br>\n",
    "В данной работе я разработал метод преобразования данных с помощью обратимой матрицы.\n",
    "И доказал с помощью метрики R2, что качество модели не ухудшилось."
   ]
  },
  {
   "cell_type": "markdown",
   "metadata": {},
   "source": [
    "<div class=\"alert alert-block alert-success\">\n",
    "<b>Комментарий ревьюера👍:</b> Верно, таким образом в случае домножения матрицы признаков на случайную обратимую матрицу можно обеспечить защиту данных, не потеряв в качестве модели. \n",
    "</div>\n"
   ]
  },
  {
   "cell_type": "markdown",
   "metadata": {},
   "source": [
    "## Чек-лист проверки"
   ]
  },
  {
   "cell_type": "markdown",
   "metadata": {},
   "source": [
    "Поставьте 'x' в выполненных пунктах. Далее нажмите Shift+Enter."
   ]
  },
  {
   "cell_type": "markdown",
   "metadata": {},
   "source": [
    "- [x]  Jupyter Notebook открыт\n",
    "- [ ]  Весь код выполняется без ошибок\n",
    "- [ ]  Ячейки с кодом расположены в порядке исполнения\n",
    "- [ ]  Выполнен шаг 1: данные загружены\n",
    "- [ ]  Выполнен шаг 2: получен ответ на вопрос об умножении матриц\n",
    "    - [ ]  Указан правильный вариант ответа\n",
    "    - [ ]  Вариант обоснован\n",
    "- [ ]  Выполнен шаг 3: предложен алгоритм преобразования\n",
    "    - [ ]  Алгоритм описан\n",
    "    - [ ]  Алгоритм обоснован\n",
    "- [ ]  Выполнен шаг 4: алгоритм проверен\n",
    "    - [ ]  Алгоритм реализован\n",
    "    - [ ]  Проведено сравнение качества моделей до и после преобразования"
   ]
  },
  {
   "cell_type": "markdown",
   "metadata": {},
   "source": [
    "<div class=\"alert alert-block alert-success\">\n",
    "<b>Комментарий ревьюера👍:</b> Спасибо тебе за проделанную работу, ты демонстрируешь отличное владение материалом спринта.\n",
    "    \n",
    "Отправляю обратно, чтобы ты мог прочитать мои комментарии и задать какие-то вопросы, может хочешь какую-то подборку статей.   \n",
    "\n",
    "Обзоры по применению криптографии в машинном обучении: https://arxiv.org/pdf/1902.04109.pdf, https://www.researchgate.net/publication/342746786_Some_Applications_of_Machine_Learning_in_Cryptography\n",
    "\n",
    "Небольшой обзор на Шифр Хилла: https://habr.com/ru/post/595281/\n",
    "   \n",
    "Примеры использования линейной алгебры в машинном обучении:\n",
    "https://machinelearningmastery.com/examples-of-linear-algebra-in-machine-learning/\n",
    "    \n",
    "Для чего нужна математика в машинном обучении?\n",
    "https://proglib.io/p/dlya-chego-nuzhen-matematicheskiy-analiz-v-mashinnom-obuchenii-2021-02-15\n",
    "\n",
    "Большая статья по векторам:\n",
    "https://neptune.ai/blog/understanding-vectors-from-a-machine-learning-perspective  \n",
    "\n",
    "Можно ещё дополнительно посмотреть лекции от МФТИ https://www.youtube.com/playlist?list=PLk4h7dmY2eYHHTyfLyrl7HmP-H3mMAW08\n",
    "    \n",
    "Классная серия роликов по линейной алгебре на английском (можно включить автоматические русские субтитры): https://www.youtube.com/playlist?list=PLRDl2inPrWQW1QSWhBU0ki-jq_uElkh2a\n",
    "</div>\n"
   ]
  },
  {
   "cell_type": "markdown",
   "metadata": {},
   "source": [
    "<div class=\"alert alert-block alert-success\">\n",
    "<b>Комментарий ревьюера V.2👍:</b> Удачи в будущих проектах и работе =)\n",
    "</div>"
   ]
  }
 ],
 "metadata": {
  "ExecuteTimeLog": [
   {
    "duration": 419,
    "start_time": "2022-04-30T11:51:29.243Z"
   },
   {
    "duration": 17,
    "start_time": "2022-04-30T11:51:52.276Z"
   },
   {
    "duration": 18,
    "start_time": "2022-04-30T11:51:54.042Z"
   },
   {
    "duration": 11,
    "start_time": "2022-04-30T11:52:23.593Z"
   },
   {
    "duration": 8,
    "start_time": "2022-04-30T11:52:37.064Z"
   },
   {
    "duration": 6,
    "start_time": "2022-04-30T11:52:42.516Z"
   },
   {
    "duration": 7,
    "start_time": "2022-04-30T11:53:27.706Z"
   },
   {
    "duration": 111,
    "start_time": "2022-04-30T11:53:31.037Z"
   },
   {
    "duration": 97,
    "start_time": "2022-04-30T11:53:32.927Z"
   },
   {
    "duration": 8,
    "start_time": "2022-04-30T11:53:34.506Z"
   },
   {
    "duration": 7,
    "start_time": "2022-04-30T11:53:56.801Z"
   },
   {
    "duration": 6,
    "start_time": "2022-04-30T11:54:00.834Z"
   },
   {
    "duration": 14,
    "start_time": "2022-04-30T11:54:02.349Z"
   },
   {
    "duration": 6,
    "start_time": "2022-04-30T11:54:03.673Z"
   },
   {
    "duration": 6,
    "start_time": "2022-04-30T11:54:28.921Z"
   },
   {
    "duration": 3,
    "start_time": "2022-04-30T11:56:43.082Z"
   },
   {
    "duration": 12,
    "start_time": "2022-04-30T11:56:43.549Z"
   },
   {
    "duration": 7,
    "start_time": "2022-04-30T11:56:44.440Z"
   },
   {
    "duration": 6,
    "start_time": "2022-04-30T11:56:45.423Z"
   },
   {
    "duration": 13,
    "start_time": "2022-04-30T11:56:46.507Z"
   },
   {
    "duration": 8,
    "start_time": "2022-04-30T11:57:02.146Z"
   },
   {
    "duration": 6,
    "start_time": "2022-04-30T11:57:12.923Z"
   },
   {
    "duration": 8,
    "start_time": "2022-04-30T11:57:13.388Z"
   },
   {
    "duration": 17,
    "start_time": "2022-04-30T11:57:16.796Z"
   },
   {
    "duration": 6,
    "start_time": "2022-04-30T11:57:33.455Z"
   },
   {
    "duration": 6,
    "start_time": "2022-04-30T11:57:34.285Z"
   },
   {
    "duration": 13,
    "start_time": "2022-04-30T11:57:34.750Z"
   },
   {
    "duration": 16,
    "start_time": "2022-04-30T11:57:51.358Z"
   },
   {
    "duration": 10,
    "start_time": "2022-04-30T11:58:05.234Z"
   },
   {
    "duration": 10,
    "start_time": "2022-04-30T11:58:06.235Z"
   },
   {
    "duration": 24,
    "start_time": "2022-04-30T11:58:51.736Z"
   },
   {
    "duration": 10,
    "start_time": "2022-04-30T11:58:51.911Z"
   },
   {
    "duration": 17,
    "start_time": "2022-04-30T11:59:05.279Z"
   },
   {
    "duration": 10,
    "start_time": "2022-04-30T11:59:10.118Z"
   },
   {
    "duration": 14,
    "start_time": "2022-04-30T11:59:26.285Z"
   },
   {
    "duration": 21,
    "start_time": "2022-04-30T11:59:33.761Z"
   },
   {
    "duration": 8,
    "start_time": "2022-04-30T11:59:59.870Z"
   },
   {
    "duration": 1015,
    "start_time": "2022-04-30T12:02:30.743Z"
   },
   {
    "duration": 932,
    "start_time": "2022-04-30T12:02:36.374Z"
   },
   {
    "duration": 9,
    "start_time": "2022-04-30T12:02:54.195Z"
   },
   {
    "duration": 24,
    "start_time": "2022-04-30T12:02:57.437Z"
   },
   {
    "duration": 8,
    "start_time": "2022-04-30T12:03:02.700Z"
   },
   {
    "duration": 9,
    "start_time": "2022-04-30T12:03:30.791Z"
   },
   {
    "duration": 13,
    "start_time": "2022-04-30T12:03:41.014Z"
   },
   {
    "duration": 4,
    "start_time": "2022-04-30T12:03:49.385Z"
   },
   {
    "duration": 10,
    "start_time": "2022-04-30T12:03:50.439Z"
   },
   {
    "duration": 10,
    "start_time": "2022-04-30T12:03:54.507Z"
   },
   {
    "duration": 16,
    "start_time": "2022-04-30T12:04:03.872Z"
   },
   {
    "duration": 420,
    "start_time": "2022-05-07T15:55:55.445Z"
   },
   {
    "duration": 13,
    "start_time": "2022-05-07T15:55:55.867Z"
   },
   {
    "duration": 29,
    "start_time": "2022-05-07T15:55:55.882Z"
   },
   {
    "duration": 6,
    "start_time": "2022-05-07T15:55:55.913Z"
   },
   {
    "duration": 15,
    "start_time": "2022-05-07T15:55:55.921Z"
   },
   {
    "duration": 14,
    "start_time": "2022-05-07T15:55:55.940Z"
   },
   {
    "duration": 527,
    "start_time": "2022-05-08T14:04:52.890Z"
   },
   {
    "duration": 19,
    "start_time": "2022-05-08T14:04:53.420Z"
   },
   {
    "duration": 53,
    "start_time": "2022-05-08T14:04:53.441Z"
   },
   {
    "duration": 15,
    "start_time": "2022-05-08T14:04:53.497Z"
   },
   {
    "duration": 13,
    "start_time": "2022-05-08T14:04:53.515Z"
   },
   {
    "duration": 55,
    "start_time": "2022-05-08T14:04:53.531Z"
   },
   {
    "duration": 13,
    "start_time": "2022-05-08T14:12:48.276Z"
   },
   {
    "duration": 154,
    "start_time": "2022-05-08T14:12:54.697Z"
   },
   {
    "duration": 500,
    "start_time": "2022-05-08T14:12:58.126Z"
   },
   {
    "duration": 4,
    "start_time": "2022-05-08T14:13:11.429Z"
   },
   {
    "duration": 21,
    "start_time": "2022-05-08T14:13:11.435Z"
   },
   {
    "duration": 34,
    "start_time": "2022-05-08T14:13:11.458Z"
   },
   {
    "duration": 8,
    "start_time": "2022-05-08T14:13:11.499Z"
   },
   {
    "duration": 26,
    "start_time": "2022-05-08T14:13:13.810Z"
   },
   {
    "duration": 10,
    "start_time": "2022-05-08T14:13:28.778Z"
   },
   {
    "duration": 13,
    "start_time": "2022-05-08T14:13:33.764Z"
   },
   {
    "duration": 500,
    "start_time": "2022-05-08T14:13:36.945Z"
   },
   {
    "duration": 37,
    "start_time": "2022-05-08T14:13:49.976Z"
   },
   {
    "duration": 16,
    "start_time": "2022-05-08T14:14:07.891Z"
   },
   {
    "duration": 20,
    "start_time": "2022-05-08T14:14:22.054Z"
   },
   {
    "duration": 21,
    "start_time": "2022-05-08T14:14:40.665Z"
   },
   {
    "duration": 42,
    "start_time": "2022-05-08T14:15:18.054Z"
   },
   {
    "duration": 20,
    "start_time": "2022-05-08T14:15:58.920Z"
   },
   {
    "duration": 10,
    "start_time": "2022-05-08T14:16:00.828Z"
   },
   {
    "duration": 12,
    "start_time": "2022-05-08T14:16:05.209Z"
   },
   {
    "duration": 534,
    "start_time": "2022-05-08T14:16:10.510Z"
   },
   {
    "duration": 15,
    "start_time": "2022-05-08T14:16:11.047Z"
   },
   {
    "duration": 71,
    "start_time": "2022-05-08T14:16:11.064Z"
   },
   {
    "duration": 9,
    "start_time": "2022-05-08T14:16:11.137Z"
   },
   {
    "duration": 48,
    "start_time": "2022-05-08T14:16:11.149Z"
   },
   {
    "duration": 13,
    "start_time": "2022-05-08T14:16:11.200Z"
   },
   {
    "duration": 24,
    "start_time": "2022-05-08T14:16:11.216Z"
   },
   {
    "duration": 99,
    "start_time": "2022-05-08T15:05:26.628Z"
   },
   {
    "duration": 468,
    "start_time": "2022-05-08T15:05:43.526Z"
   },
   {
    "duration": 4,
    "start_time": "2022-05-08T15:05:49.868Z"
   },
   {
    "duration": 30,
    "start_time": "2022-05-08T15:05:49.876Z"
   },
   {
    "duration": 47,
    "start_time": "2022-05-08T15:05:49.909Z"
   },
   {
    "duration": 8,
    "start_time": "2022-05-08T15:05:49.958Z"
   },
   {
    "duration": 21,
    "start_time": "2022-05-08T15:05:49.981Z"
   },
   {
    "duration": 14,
    "start_time": "2022-05-08T15:05:50.004Z"
   },
   {
    "duration": 20,
    "start_time": "2022-05-08T15:05:50.021Z"
   },
   {
    "duration": 44,
    "start_time": "2022-05-08T15:05:50.044Z"
   },
   {
    "duration": 7,
    "start_time": "2022-05-08T15:09:50.220Z"
   },
   {
    "duration": 6,
    "start_time": "2022-05-08T15:11:55.279Z"
   },
   {
    "duration": 7,
    "start_time": "2022-05-08T15:16:54.417Z"
   },
   {
    "duration": 15,
    "start_time": "2022-05-08T15:18:41.277Z"
   },
   {
    "duration": 16,
    "start_time": "2022-05-08T15:19:09.648Z"
   },
   {
    "duration": 11,
    "start_time": "2022-05-08T15:19:29.878Z"
   },
   {
    "duration": 5,
    "start_time": "2022-05-08T15:19:36.337Z"
   },
   {
    "duration": 93,
    "start_time": "2022-05-08T15:20:23.093Z"
   },
   {
    "duration": 12,
    "start_time": "2022-05-08T15:20:25.079Z"
   },
   {
    "duration": 9,
    "start_time": "2022-05-08T15:20:25.210Z"
   },
   {
    "duration": 1052,
    "start_time": "2022-05-08T15:20:49.354Z"
   },
   {
    "duration": 9,
    "start_time": "2022-05-08T15:20:56.445Z"
   },
   {
    "duration": 16,
    "start_time": "2022-05-08T15:20:56.965Z"
   },
   {
    "duration": 33,
    "start_time": "2022-05-08T15:21:01.331Z"
   },
   {
    "duration": 19,
    "start_time": "2022-05-08T15:21:19.282Z"
   },
   {
    "duration": 12,
    "start_time": "2022-05-08T15:41:42.241Z"
   },
   {
    "duration": 12,
    "start_time": "2022-05-08T15:41:54.694Z"
   },
   {
    "duration": 12,
    "start_time": "2022-05-08T15:41:57.807Z"
   },
   {
    "duration": 12,
    "start_time": "2022-05-08T15:42:13.954Z"
   },
   {
    "duration": 7,
    "start_time": "2022-05-08T15:44:37.195Z"
   },
   {
    "duration": 10,
    "start_time": "2022-05-08T15:45:47.468Z"
   },
   {
    "duration": 6,
    "start_time": "2022-05-08T15:48:43.295Z"
   },
   {
    "duration": 1559,
    "start_time": "2022-05-08T16:26:55.845Z"
   },
   {
    "duration": 14,
    "start_time": "2022-05-08T16:26:57.407Z"
   },
   {
    "duration": 42,
    "start_time": "2022-05-08T16:26:57.423Z"
   },
   {
    "duration": 8,
    "start_time": "2022-05-08T16:26:57.483Z"
   },
   {
    "duration": 22,
    "start_time": "2022-05-08T16:26:57.493Z"
   },
   {
    "duration": 11,
    "start_time": "2022-05-08T16:26:57.517Z"
   },
   {
    "duration": 55,
    "start_time": "2022-05-08T16:26:57.530Z"
   },
   {
    "duration": 5,
    "start_time": "2022-05-08T16:26:57.587Z"
   },
   {
    "duration": 12,
    "start_time": "2022-05-08T16:26:57.594Z"
   },
   {
    "duration": 89,
    "start_time": "2022-05-08T16:26:57.610Z"
   },
   {
    "duration": 87,
    "start_time": "2022-05-08T16:26:57.701Z"
   },
   {
    "duration": 11,
    "start_time": "2022-05-08T16:26:57.790Z"
   },
   {
    "duration": 12,
    "start_time": "2022-05-08T16:26:57.804Z"
   },
   {
    "duration": 9,
    "start_time": "2022-05-08T16:26:57.818Z"
   },
   {
    "duration": 1471,
    "start_time": "2022-05-08T16:33:06.530Z"
   },
   {
    "duration": 14,
    "start_time": "2022-05-08T16:33:08.004Z"
   },
   {
    "duration": 39,
    "start_time": "2022-05-08T16:33:08.021Z"
   },
   {
    "duration": 23,
    "start_time": "2022-05-08T16:33:08.063Z"
   },
   {
    "duration": 21,
    "start_time": "2022-05-08T16:33:08.089Z"
   },
   {
    "duration": 10,
    "start_time": "2022-05-08T16:33:08.112Z"
   },
   {
    "duration": 17,
    "start_time": "2022-05-08T16:33:08.125Z"
   },
   {
    "duration": 43,
    "start_time": "2022-05-08T16:33:08.144Z"
   },
   {
    "duration": 10,
    "start_time": "2022-05-08T16:33:08.189Z"
   },
   {
    "duration": 81,
    "start_time": "2022-05-08T16:33:08.202Z"
   },
   {
    "duration": 95,
    "start_time": "2022-05-08T16:33:08.287Z"
   },
   {
    "duration": 13,
    "start_time": "2022-05-08T16:33:08.384Z"
   },
   {
    "duration": 11,
    "start_time": "2022-05-08T16:33:08.399Z"
   },
   {
    "duration": 1152,
    "start_time": "2022-05-09T10:04:26.784Z"
   },
   {
    "duration": 22,
    "start_time": "2022-05-09T10:04:27.938Z"
   },
   {
    "duration": 27,
    "start_time": "2022-05-09T10:04:27.961Z"
   },
   {
    "duration": 6,
    "start_time": "2022-05-09T10:04:27.990Z"
   },
   {
    "duration": 24,
    "start_time": "2022-05-09T10:04:27.997Z"
   },
   {
    "duration": 7,
    "start_time": "2022-05-09T10:04:28.023Z"
   },
   {
    "duration": 12,
    "start_time": "2022-05-09T10:04:28.032Z"
   },
   {
    "duration": 22,
    "start_time": "2022-05-09T10:04:33.314Z"
   },
   {
    "duration": 7,
    "start_time": "2022-05-09T10:05:38.177Z"
   },
   {
    "duration": 10,
    "start_time": "2022-05-09T10:05:39.656Z"
   },
   {
    "duration": 550,
    "start_time": "2022-05-09T10:07:55.723Z"
   },
   {
    "duration": 467,
    "start_time": "2022-05-09T10:08:27.493Z"
   },
   {
    "duration": 110,
    "start_time": "2022-05-09T10:09:34.743Z"
   },
   {
    "duration": 488,
    "start_time": "2022-05-09T10:12:11.484Z"
   },
   {
    "duration": 511,
    "start_time": "2022-05-09T10:12:38.321Z"
   },
   {
    "duration": 442,
    "start_time": "2022-05-09T10:12:42.207Z"
   },
   {
    "duration": 461,
    "start_time": "2022-05-09T10:12:46.902Z"
   },
   {
    "duration": 452,
    "start_time": "2022-05-09T10:13:37.873Z"
   },
   {
    "duration": 458,
    "start_time": "2022-05-09T10:14:18.642Z"
   },
   {
    "duration": 547,
    "start_time": "2022-05-09T10:26:20.245Z"
   },
   {
    "duration": 450,
    "start_time": "2022-05-09T10:26:30.318Z"
   },
   {
    "duration": 161,
    "start_time": "2022-05-09T10:26:41.288Z"
   },
   {
    "duration": 461,
    "start_time": "2022-05-09T10:26:45.067Z"
   },
   {
    "duration": 482,
    "start_time": "2022-05-09T10:27:19.372Z"
   },
   {
    "duration": 84,
    "start_time": "2022-05-09T10:28:30.946Z"
   },
   {
    "duration": 5,
    "start_time": "2022-05-09T10:28:41.669Z"
   },
   {
    "duration": 8,
    "start_time": "2022-05-09T10:35:25.490Z"
   },
   {
    "duration": 128,
    "start_time": "2022-05-09T10:35:57.471Z"
   },
   {
    "duration": 11,
    "start_time": "2022-05-09T10:36:03.233Z"
   },
   {
    "duration": 11,
    "start_time": "2022-05-09T10:36:14.369Z"
   },
   {
    "duration": 1108,
    "start_time": "2022-05-09T10:37:51.620Z"
   },
   {
    "duration": 12,
    "start_time": "2022-05-09T10:37:52.730Z"
   },
   {
    "duration": 29,
    "start_time": "2022-05-09T10:37:52.743Z"
   },
   {
    "duration": 6,
    "start_time": "2022-05-09T10:37:52.773Z"
   },
   {
    "duration": 32,
    "start_time": "2022-05-09T10:37:52.782Z"
   },
   {
    "duration": 8,
    "start_time": "2022-05-09T10:37:52.816Z"
   },
   {
    "duration": 16,
    "start_time": "2022-05-09T10:37:52.825Z"
   },
   {
    "duration": 24,
    "start_time": "2022-05-09T10:37:52.843Z"
   },
   {
    "duration": 9,
    "start_time": "2022-05-09T10:37:52.869Z"
   },
   {
    "duration": 747,
    "start_time": "2022-05-09T10:37:52.880Z"
   },
   {
    "duration": 9,
    "start_time": "2022-05-09T10:37:53.628Z"
   },
   {
    "duration": 6,
    "start_time": "2022-05-09T10:37:53.639Z"
   },
   {
    "duration": 8,
    "start_time": "2022-05-09T10:37:53.646Z"
   },
   {
    "duration": 9,
    "start_time": "2022-05-09T10:37:53.709Z"
   },
   {
    "duration": 89,
    "start_time": "2022-05-09T10:37:53.721Z"
   },
   {
    "duration": 8,
    "start_time": "2022-05-09T10:37:53.812Z"
   },
   {
    "duration": 7,
    "start_time": "2022-05-09T10:37:53.822Z"
   }
  ],
  "kernelspec": {
   "display_name": "Python 3 (ipykernel)",
   "language": "python",
   "name": "python3"
  },
  "language_info": {
   "codemirror_mode": {
    "name": "ipython",
    "version": 3
   },
   "file_extension": ".py",
   "mimetype": "text/x-python",
   "name": "python",
   "nbconvert_exporter": "python",
   "pygments_lexer": "ipython3",
   "version": "3.7.8"
  },
  "toc": {
   "base_numbering": 1,
   "nav_menu": {},
   "number_sections": true,
   "sideBar": true,
   "skip_h1_title": true,
   "title_cell": "Содержание",
   "title_sidebar": "Contents",
   "toc_cell": false,
   "toc_position": {
    "height": "calc(100% - 180px)",
    "left": "10px",
    "top": "150px",
    "width": "281.198px"
   },
   "toc_section_display": true,
   "toc_window_display": true
  }
 },
 "nbformat": 4,
 "nbformat_minor": 2
}
