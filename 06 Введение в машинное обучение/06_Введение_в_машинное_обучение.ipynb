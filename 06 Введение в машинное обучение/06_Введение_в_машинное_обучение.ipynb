{
 "cells": [
  {
   "cell_type": "markdown",
   "metadata": {},
   "source": [
    "# Рекомендация тарифов"
   ]
  },
  {
   "cell_type": "markdown",
   "metadata": {},
   "source": [
    "## Открытие и изучение файла"
   ]
  },
  {
   "cell_type": "code",
   "execution_count": 1,
   "metadata": {},
   "outputs": [],
   "source": [
    "import pandas as pd\n",
    "\n",
    "from sklearn.tree import DecisionTreeClassifier\n",
    "from sklearn.ensemble import RandomForestClassifier\n",
    "from sklearn.linear_model import LogisticRegression\n",
    "from sklearn.model_selection import train_test_split\n",
    "from sklearn.metrics import mean_squared_error\n",
    "from sklearn.metrics import accuracy_score\n",
    "from sklearn.dummy import DummyClassifier\n",
    "\n",
    "# Чтобы игнорировать предупреждения\n",
    "import warnings\n",
    "warnings.filterwarnings('ignore')"
   ]
  },
  {
   "cell_type": "code",
   "execution_count": 2,
   "metadata": {},
   "outputs": [
    {
     "data": {
      "text/html": [
       "<div>\n",
       "<style scoped>\n",
       "    .dataframe tbody tr th:only-of-type {\n",
       "        vertical-align: middle;\n",
       "    }\n",
       "\n",
       "    .dataframe tbody tr th {\n",
       "        vertical-align: top;\n",
       "    }\n",
       "\n",
       "    .dataframe thead th {\n",
       "        text-align: right;\n",
       "    }\n",
       "</style>\n",
       "<table border=\"1\" class=\"dataframe\">\n",
       "  <thead>\n",
       "    <tr style=\"text-align: right;\">\n",
       "      <th></th>\n",
       "      <th>calls</th>\n",
       "      <th>minutes</th>\n",
       "      <th>messages</th>\n",
       "      <th>mb_used</th>\n",
       "      <th>is_ultra</th>\n",
       "    </tr>\n",
       "  </thead>\n",
       "  <tbody>\n",
       "    <tr>\n",
       "      <td>0</td>\n",
       "      <td>40.0</td>\n",
       "      <td>311.90</td>\n",
       "      <td>83.0</td>\n",
       "      <td>19915.42</td>\n",
       "      <td>0</td>\n",
       "    </tr>\n",
       "    <tr>\n",
       "      <td>1</td>\n",
       "      <td>85.0</td>\n",
       "      <td>516.75</td>\n",
       "      <td>56.0</td>\n",
       "      <td>22696.96</td>\n",
       "      <td>0</td>\n",
       "    </tr>\n",
       "    <tr>\n",
       "      <td>2</td>\n",
       "      <td>77.0</td>\n",
       "      <td>467.66</td>\n",
       "      <td>86.0</td>\n",
       "      <td>21060.45</td>\n",
       "      <td>0</td>\n",
       "    </tr>\n",
       "    <tr>\n",
       "      <td>3</td>\n",
       "      <td>106.0</td>\n",
       "      <td>745.53</td>\n",
       "      <td>81.0</td>\n",
       "      <td>8437.39</td>\n",
       "      <td>1</td>\n",
       "    </tr>\n",
       "    <tr>\n",
       "      <td>4</td>\n",
       "      <td>66.0</td>\n",
       "      <td>418.74</td>\n",
       "      <td>1.0</td>\n",
       "      <td>14502.75</td>\n",
       "      <td>0</td>\n",
       "    </tr>\n",
       "    <tr>\n",
       "      <td>...</td>\n",
       "      <td>...</td>\n",
       "      <td>...</td>\n",
       "      <td>...</td>\n",
       "      <td>...</td>\n",
       "      <td>...</td>\n",
       "    </tr>\n",
       "    <tr>\n",
       "      <td>3209</td>\n",
       "      <td>122.0</td>\n",
       "      <td>910.98</td>\n",
       "      <td>20.0</td>\n",
       "      <td>35124.90</td>\n",
       "      <td>1</td>\n",
       "    </tr>\n",
       "    <tr>\n",
       "      <td>3210</td>\n",
       "      <td>25.0</td>\n",
       "      <td>190.36</td>\n",
       "      <td>0.0</td>\n",
       "      <td>3275.61</td>\n",
       "      <td>0</td>\n",
       "    </tr>\n",
       "    <tr>\n",
       "      <td>3211</td>\n",
       "      <td>97.0</td>\n",
       "      <td>634.44</td>\n",
       "      <td>70.0</td>\n",
       "      <td>13974.06</td>\n",
       "      <td>0</td>\n",
       "    </tr>\n",
       "    <tr>\n",
       "      <td>3212</td>\n",
       "      <td>64.0</td>\n",
       "      <td>462.32</td>\n",
       "      <td>90.0</td>\n",
       "      <td>31239.78</td>\n",
       "      <td>0</td>\n",
       "    </tr>\n",
       "    <tr>\n",
       "      <td>3213</td>\n",
       "      <td>80.0</td>\n",
       "      <td>566.09</td>\n",
       "      <td>6.0</td>\n",
       "      <td>29480.52</td>\n",
       "      <td>1</td>\n",
       "    </tr>\n",
       "  </tbody>\n",
       "</table>\n",
       "<p>3214 rows × 5 columns</p>\n",
       "</div>"
      ],
      "text/plain": [
       "      calls  minutes  messages   mb_used  is_ultra\n",
       "0      40.0   311.90      83.0  19915.42         0\n",
       "1      85.0   516.75      56.0  22696.96         0\n",
       "2      77.0   467.66      86.0  21060.45         0\n",
       "3     106.0   745.53      81.0   8437.39         1\n",
       "4      66.0   418.74       1.0  14502.75         0\n",
       "...     ...      ...       ...       ...       ...\n",
       "3209  122.0   910.98      20.0  35124.90         1\n",
       "3210   25.0   190.36       0.0   3275.61         0\n",
       "3211   97.0   634.44      70.0  13974.06         0\n",
       "3212   64.0   462.32      90.0  31239.78         0\n",
       "3213   80.0   566.09       6.0  29480.52         1\n",
       "\n",
       "[3214 rows x 5 columns]"
      ]
     },
     "execution_count": 2,
     "metadata": {},
     "output_type": "execute_result"
    }
   ],
   "source": [
    "df = pd.read_csv('users_behavior.csv')\n",
    "df"
   ]
  },
  {
   "cell_type": "code",
   "execution_count": 3,
   "metadata": {},
   "outputs": [
    {
     "name": "stdout",
     "output_type": "stream",
     "text": [
      "0.9820832355742293\n"
     ]
    }
   ],
   "source": [
    "print(df['calls'].corr(df['minutes']))"
   ]
  },
  {
   "cell_type": "code",
   "execution_count": 4,
   "metadata": {},
   "outputs": [
    {
     "data": {
      "text/plain": [
       "<matplotlib.axes._subplots.AxesSubplot at 0x22a8c5eea08>"
      ]
     },
     "execution_count": 4,
     "metadata": {},
     "output_type": "execute_result"
    },
    {
     "data": {
      "image/png": "[encoded data removed]",
      "text/plain": [
       "<Figure size 432x288 with 1 Axes>"
      ]
     },
     "metadata": {
      "needs_background": "light"
     },
     "output_type": "display_data"
    }
   ],
   "source": [
    "df.plot(x='calls', y='minutes', kind='scatter')"
   ]
  },
  {
   "cell_type": "markdown",
   "metadata": {},
   "source": [
    "Тут есть мультиколлинеаорность факторов, тогда сразу можно один из факторов можно смело исключить.<br>\n"
   ]
  },
  {
   "cell_type": "code",
   "execution_count": 5,
   "metadata": {},
   "outputs": [],
   "source": [
    "df = df.drop('calls', 1)"
   ]
  },
  {
   "cell_type": "code",
   "execution_count": 6,
   "metadata": {},
   "outputs": [
    {
     "data": {
      "text/html": [
       "<div>\n",
       "<style scoped>\n",
       "    .dataframe tbody tr th:only-of-type {\n",
       "        vertical-align: middle;\n",
       "    }\n",
       "\n",
       "    .dataframe tbody tr th {\n",
       "        vertical-align: top;\n",
       "    }\n",
       "\n",
       "    .dataframe thead th {\n",
       "        text-align: right;\n",
       "    }\n",
       "</style>\n",
       "<table border=\"1\" class=\"dataframe\">\n",
       "  <thead>\n",
       "    <tr style=\"text-align: right;\">\n",
       "      <th></th>\n",
       "      <th>minutes</th>\n",
       "      <th>messages</th>\n",
       "      <th>mb_used</th>\n",
       "      <th>is_ultra</th>\n",
       "    </tr>\n",
       "  </thead>\n",
       "  <tbody>\n",
       "    <tr>\n",
       "      <td>0</td>\n",
       "      <td>311.90</td>\n",
       "      <td>83.0</td>\n",
       "      <td>19915.42</td>\n",
       "      <td>0</td>\n",
       "    </tr>\n",
       "    <tr>\n",
       "      <td>1</td>\n",
       "      <td>516.75</td>\n",
       "      <td>56.0</td>\n",
       "      <td>22696.96</td>\n",
       "      <td>0</td>\n",
       "    </tr>\n",
       "    <tr>\n",
       "      <td>2</td>\n",
       "      <td>467.66</td>\n",
       "      <td>86.0</td>\n",
       "      <td>21060.45</td>\n",
       "      <td>0</td>\n",
       "    </tr>\n",
       "    <tr>\n",
       "      <td>3</td>\n",
       "      <td>745.53</td>\n",
       "      <td>81.0</td>\n",
       "      <td>8437.39</td>\n",
       "      <td>1</td>\n",
       "    </tr>\n",
       "    <tr>\n",
       "      <td>4</td>\n",
       "      <td>418.74</td>\n",
       "      <td>1.0</td>\n",
       "      <td>14502.75</td>\n",
       "      <td>0</td>\n",
       "    </tr>\n",
       "    <tr>\n",
       "      <td>...</td>\n",
       "      <td>...</td>\n",
       "      <td>...</td>\n",
       "      <td>...</td>\n",
       "      <td>...</td>\n",
       "    </tr>\n",
       "    <tr>\n",
       "      <td>3209</td>\n",
       "      <td>910.98</td>\n",
       "      <td>20.0</td>\n",
       "      <td>35124.90</td>\n",
       "      <td>1</td>\n",
       "    </tr>\n",
       "    <tr>\n",
       "      <td>3210</td>\n",
       "      <td>190.36</td>\n",
       "      <td>0.0</td>\n",
       "      <td>3275.61</td>\n",
       "      <td>0</td>\n",
       "    </tr>\n",
       "    <tr>\n",
       "      <td>3211</td>\n",
       "      <td>634.44</td>\n",
       "      <td>70.0</td>\n",
       "      <td>13974.06</td>\n",
       "      <td>0</td>\n",
       "    </tr>\n",
       "    <tr>\n",
       "      <td>3212</td>\n",
       "      <td>462.32</td>\n",
       "      <td>90.0</td>\n",
       "      <td>31239.78</td>\n",
       "      <td>0</td>\n",
       "    </tr>\n",
       "    <tr>\n",
       "      <td>3213</td>\n",
       "      <td>566.09</td>\n",
       "      <td>6.0</td>\n",
       "      <td>29480.52</td>\n",
       "      <td>1</td>\n",
       "    </tr>\n",
       "  </tbody>\n",
       "</table>\n",
       "<p>3214 rows × 4 columns</p>\n",
       "</div>"
      ],
      "text/plain": [
       "      minutes  messages   mb_used  is_ultra\n",
       "0      311.90      83.0  19915.42         0\n",
       "1      516.75      56.0  22696.96         0\n",
       "2      467.66      86.0  21060.45         0\n",
       "3      745.53      81.0   8437.39         1\n",
       "4      418.74       1.0  14502.75         0\n",
       "...       ...       ...       ...       ...\n",
       "3209   910.98      20.0  35124.90         1\n",
       "3210   190.36       0.0   3275.61         0\n",
       "3211   634.44      70.0  13974.06         0\n",
       "3212   462.32      90.0  31239.78         0\n",
       "3213   566.09       6.0  29480.52         1\n",
       "\n",
       "[3214 rows x 4 columns]"
      ]
     },
     "execution_count": 6,
     "metadata": {},
     "output_type": "execute_result"
    }
   ],
   "source": [
    "df"
   ]
  },
  {
   "cell_type": "markdown",
   "metadata": {},
   "source": [
    "## Разбейте данные на выборки"
   ]
  },
  {
   "cell_type": "code",
   "execution_count": 7,
   "metadata": {},
   "outputs": [],
   "source": [
    "features = df.drop(['is_ultra'], axis=1)\n",
    "target = df['is_ultra']\n",
    "\n",
    "features_train, features_valid, target_train, target_valid = train_test_split(features, target, test_size=0.4, random_state=12345)\n",
    "features_valid, features_test, target_valid, target_test = train_test_split(features_valid, target_valid, test_size=0.5, random_state=12345)"
   ]
  },
  {
   "cell_type": "code",
   "execution_count": 8,
   "metadata": {},
   "outputs": [
    {
     "name": "stdout",
     "output_type": "stream",
     "text": [
      "(1928, 3)\n",
      "(1928,)\n",
      "(643, 3)\n",
      "(643,)\n",
      "(643, 3)\n",
      "(643,)\n"
     ]
    }
   ],
   "source": [
    "print(features_train.shape)\n",
    "print(target_train.shape)\n",
    "\n",
    "print(features_valid.shape)\n",
    "print(target_valid.shape)\n",
    "\n",
    "print(features_test.shape)\n",
    "print(target_test.shape)"
   ]
  },
  {
   "cell_type": "markdown",
   "metadata": {},
   "source": [
    "Разбил данные на признаки и целевой признак. Затем разбили еще на 6 выборок: 2 обучающие, 2 валидационные и 2 тестовые"
   ]
  },
  {
   "cell_type": "markdown",
   "metadata": {},
   "source": [
    "## Исследуйте модели"
   ]
  },
  {
   "cell_type": "markdown",
   "metadata": {},
   "source": [
    "**Дерево решений - Decision Tree**"
   ]
  },
  {
   "cell_type": "code",
   "execution_count": 9,
   "metadata": {
    "scrolled": false
   },
   "outputs": [
    {
     "name": "stdout",
     "output_type": "stream",
     "text": [
      "Лучшая accuracy у модели решающего дерева равна 0.7885, глубина деревьев: 4\n"
     ]
    }
   ],
   "source": [
    "best_model_dt = None\n",
    "best_result_dt = 0\n",
    "best_depth = 0\n",
    "for depth in range(1, 101):\n",
    "    model = DecisionTreeClassifier(random_state=12345, max_depth=depth)\n",
    "    model.fit(features_train, target_train)\n",
    "    predictions_valid = model.predict(features_valid)\n",
    "    result = accuracy_score(predictions_valid, target_valid)\n",
    "    if result > best_result_dt:\n",
    "        best_result_dt = result\n",
    "        best_model_dt = model\n",
    "        best_depth = depth\n",
    "        \n",
    "print(f'Лучшая accuracy у модели решающего дерева равна {round(best_result_dt, 4)}, глубина деревьев: {best_depth}')"
   ]
  },
  {
   "cell_type": "markdown",
   "metadata": {},
   "source": [
    "**Случайный лес - Random Forest**"
   ]
  },
  {
   "cell_type": "code",
   "execution_count": 10,
   "metadata": {},
   "outputs": [
    {
     "name": "stdout",
     "output_type": "stream",
     "text": [
      "Лучшая accuracy у модели случайного дерева равна 0.7823, Колличество деревьев: 20\n"
     ]
    }
   ],
   "source": [
    "best_model_rt = None\n",
    "best_result_rt = 0\n",
    "best_est = 0\n",
    "for est in range(10, 101, 10):\n",
    "    model = RandomForestClassifier(random_state=12345, n_estimators=est)\n",
    "    model.fit(features_train, target_train)\n",
    "    predictions_valid = model.predict(features_valid)\n",
    "    result = accuracy_score(predictions_valid, target_valid)\n",
    "    if result > best_result_rt:\n",
    "        best_result_rt = result\n",
    "        best_model_rt = model\n",
    "        best_est = est\n",
    "        \n",
    "print(f'Лучшая accuracy у модели случайного дерева равна {round(best_result_rt, 4)}, Колличество деревьев: {best_est}')"
   ]
  },
  {
   "cell_type": "markdown",
   "metadata": {},
   "source": [
    "**Логическая регрессия**"
   ]
  },
  {
   "cell_type": "code",
   "execution_count": 11,
   "metadata": {
    "scrolled": false
   },
   "outputs": [
    {
     "name": "stdout",
     "output_type": "stream",
     "text": [
      "0.7076\n"
     ]
    }
   ],
   "source": [
    "model_lr = LogisticRegression(random_state=12345)\n",
    "model_lr.fit(features_train, target_train)\n",
    "predictions = model_lr.predict(features_valid)\n",
    "result = accuracy_score(target_valid, predictions)\n",
    "print(round(result, 4))"
   ]
  },
  {
   "cell_type": "markdown",
   "metadata": {},
   "source": [
    "Я сделал несколько моделей и сравнил между собой. Самая лучшая точность у модели **Decision Tree**"
   ]
  },
  {
   "cell_type": "markdown",
   "metadata": {},
   "source": [
    "## Проверьте модель на тестовой выборке"
   ]
  },
  {
   "cell_type": "markdown",
   "metadata": {},
   "source": [
    "Возьмём лучшую модель (в нашем случае Decision Tree) и сделаем предсказание"
   ]
  },
  {
   "cell_type": "code",
   "execution_count": 12,
   "metadata": {},
   "outputs": [
    {
     "name": "stdout",
     "output_type": "stream",
     "text": [
      "accuracy_score равняется 0.7807\n"
     ]
    }
   ],
   "source": [
    "predictions = best_model_dt.predict(features_test)\n",
    "result = accuracy_score(target_test, predictions)\n",
    "print('accuracy_score равняется', round(result, 4))"
   ]
  },
  {
   "cell_type": "markdown",
   "metadata": {},
   "source": [
    "## (бонус) Проверка модели на адекватность"
   ]
  },
  {
   "cell_type": "markdown",
   "metadata": {},
   "source": [
    "Проверка Decision Tree"
   ]
  },
  {
   "cell_type": "code",
   "execution_count": 13,
   "metadata": {},
   "outputs": [
    {
     "name": "stdout",
     "output_type": "stream",
     "text": [
      "mse - 0.45990059105717984\n"
     ]
    }
   ],
   "source": [
    "predictions_valid = best_model_dt.predict(features_valid)\n",
    "result = mean_squared_error(target_valid, predictions_valid)**0.5\n",
    "print('mse -', result)"
   ]
  },
  {
   "cell_type": "markdown",
   "metadata": {},
   "source": [
    "Проверка Random Forest"
   ]
  },
  {
   "cell_type": "code",
   "execution_count": 14,
   "metadata": {},
   "outputs": [
    {
     "name": "stdout",
     "output_type": "stream",
     "text": [
      "mse - 0.46661482345519006\n"
     ]
    }
   ],
   "source": [
    "predictions_valid = best_model_rt.predict(features_valid)\n",
    "result = mean_squared_error(target_valid, predictions_valid)**0.5\n",
    "print('mse -', result)"
   ]
  },
  {
   "cell_type": "code",
   "execution_count": null,
   "metadata": {},
   "outputs": [],
   "source": []
  }
 ],
 "metadata": {
  "ExecuteTimeLog": [
   {
    "duration": 758,
    "start_time": "2022-03-08T11:30:02.323Z"
   },
   {
    "duration": 24,
    "start_time": "2022-03-08T11:30:21.512Z"
   },
   {
    "duration": 54,
    "start_time": "2022-03-08T11:30:25.694Z"
   },
   {
    "duration": 204,
    "start_time": "2022-03-09T07:11:27.522Z"
   },
   {
    "duration": 615,
    "start_time": "2022-03-09T07:11:30.651Z"
   },
   {
    "duration": 30,
    "start_time": "2022-03-09T07:11:31.268Z"
   },
   {
    "duration": 18,
    "start_time": "2022-03-09T07:11:38.768Z"
   },
   {
    "duration": 16,
    "start_time": "2022-03-09T07:11:41.205Z"
   },
   {
    "duration": 20,
    "start_time": "2022-03-09T07:11:54.642Z"
   },
   {
    "duration": 479,
    "start_time": "2022-03-09T08:08:38.950Z"
   },
   {
    "duration": 22,
    "start_time": "2022-03-09T08:08:39.734Z"
   },
   {
    "duration": 5,
    "start_time": "2022-03-09T08:08:43.037Z"
   },
   {
    "duration": 35,
    "start_time": "2022-03-09T08:09:20.984Z"
   },
   {
    "duration": 8,
    "start_time": "2022-03-09T08:18:24.215Z"
   },
   {
    "duration": 4,
    "start_time": "2022-03-09T08:52:53.587Z"
   },
   {
    "duration": 7,
    "start_time": "2022-03-09T08:52:56.346Z"
   },
   {
    "duration": 26,
    "start_time": "2022-03-09T08:53:45.563Z"
   },
   {
    "duration": 9,
    "start_time": "2022-03-09T09:00:02.551Z"
   },
   {
    "duration": 12,
    "start_time": "2022-03-09T09:00:11.263Z"
   },
   {
    "duration": 11,
    "start_time": "2022-03-09T09:00:18.684Z"
   },
   {
    "duration": 11,
    "start_time": "2022-03-09T09:00:26.076Z"
   },
   {
    "duration": 5,
    "start_time": "2022-03-09T09:00:32.512Z"
   },
   {
    "duration": 5,
    "start_time": "2022-03-09T09:00:44.227Z"
   },
   {
    "duration": 10,
    "start_time": "2022-03-09T09:00:47.991Z"
   },
   {
    "duration": 5,
    "start_time": "2022-03-09T09:00:53.533Z"
   },
   {
    "duration": 34,
    "start_time": "2022-03-09T09:03:17.045Z"
   },
   {
    "duration": 223,
    "start_time": "2022-03-09T09:09:41.820Z"
   },
   {
    "duration": 30,
    "start_time": "2022-03-09T09:09:51.771Z"
   },
   {
    "duration": 4,
    "start_time": "2022-03-09T09:10:03.517Z"
   },
   {
    "duration": 22,
    "start_time": "2022-03-09T09:10:23.439Z"
   },
   {
    "duration": 4,
    "start_time": "2022-03-09T09:10:24.354Z"
   },
   {
    "duration": 19,
    "start_time": "2022-03-09T09:10:51.295Z"
   },
   {
    "duration": 4,
    "start_time": "2022-03-09T09:10:52.536Z"
   },
   {
    "duration": 20,
    "start_time": "2022-03-09T09:10:55.816Z"
   },
   {
    "duration": 4,
    "start_time": "2022-03-09T09:10:57.383Z"
   },
   {
    "duration": 176,
    "start_time": "2022-03-09T09:12:49.125Z"
   },
   {
    "duration": 4,
    "start_time": "2022-03-09T09:12:49.304Z"
   },
   {
    "duration": 4,
    "start_time": "2022-03-09T09:13:32.268Z"
   },
   {
    "duration": 193,
    "start_time": "2022-03-09T09:13:35.018Z"
   },
   {
    "duration": 171,
    "start_time": "2022-03-09T09:14:22.075Z"
   },
   {
    "duration": 4,
    "start_time": "2022-03-09T09:14:35.953Z"
   },
   {
    "duration": 176,
    "start_time": "2022-03-09T09:14:54.109Z"
   },
   {
    "duration": 184,
    "start_time": "2022-03-09T09:16:28.063Z"
   },
   {
    "duration": 7,
    "start_time": "2022-03-09T09:21:07.724Z"
   },
   {
    "duration": 401,
    "start_time": "2022-03-09T09:21:09.457Z"
   },
   {
    "duration": 57,
    "start_time": "2022-03-09T09:25:43.034Z"
   },
   {
    "duration": 182,
    "start_time": "2022-03-09T09:25:55.080Z"
   },
   {
    "duration": 3,
    "start_time": "2022-03-09T09:28:51.773Z"
   },
   {
    "duration": 9,
    "start_time": "2022-03-09T09:28:58.438Z"
   },
   {
    "duration": 14,
    "start_time": "2022-03-09T09:30:32.431Z"
   },
   {
    "duration": 15,
    "start_time": "2022-03-09T09:30:43.221Z"
   },
   {
    "duration": 3,
    "start_time": "2022-03-09T09:37:18.447Z"
   },
   {
    "duration": 2,
    "start_time": "2022-03-09T09:37:46.628Z"
   },
   {
    "duration": 25,
    "start_time": "2022-03-09T09:40:03.122Z"
   },
   {
    "duration": 3,
    "start_time": "2022-03-09T09:40:03.245Z"
   },
   {
    "duration": 22,
    "start_time": "2022-03-09T09:40:36.096Z"
   },
   {
    "duration": 3,
    "start_time": "2022-03-09T09:40:36.462Z"
   },
   {
    "duration": 3,
    "start_time": "2022-03-09T09:40:44.101Z"
   },
   {
    "duration": 23,
    "start_time": "2022-03-09T09:41:03.006Z"
   },
   {
    "duration": 4,
    "start_time": "2022-03-09T09:41:04.920Z"
   },
   {
    "duration": 18,
    "start_time": "2022-03-09T09:41:10.426Z"
   },
   {
    "duration": 5,
    "start_time": "2022-03-09T09:41:11.017Z"
   },
   {
    "duration": 19,
    "start_time": "2022-03-09T09:41:14.628Z"
   },
   {
    "duration": 4,
    "start_time": "2022-03-09T09:41:15.124Z"
   },
   {
    "duration": 24,
    "start_time": "2022-03-09T09:41:21.870Z"
   },
   {
    "duration": 3,
    "start_time": "2022-03-09T09:42:35.604Z"
   },
   {
    "duration": 24,
    "start_time": "2022-03-09T09:50:37.641Z"
   },
   {
    "duration": 4,
    "start_time": "2022-03-09T09:50:37.821Z"
   },
   {
    "duration": 74,
    "start_time": "2022-03-09T09:52:02.169Z"
   },
   {
    "duration": 3,
    "start_time": "2022-03-09T09:52:02.349Z"
   },
   {
    "duration": 16,
    "start_time": "2022-03-09T10:03:18.389Z"
   },
   {
    "duration": 179,
    "start_time": "2022-03-09T10:04:38.773Z"
   },
   {
    "duration": 175,
    "start_time": "2022-03-09T10:04:54.561Z"
   },
   {
    "duration": 12,
    "start_time": "2022-03-09T10:07:25.444Z"
   },
   {
    "duration": 7,
    "start_time": "2022-03-09T10:07:52.616Z"
   },
   {
    "duration": 14,
    "start_time": "2022-03-09T10:08:26.636Z"
   },
   {
    "duration": 7,
    "start_time": "2022-03-09T10:15:47.539Z"
   },
   {
    "duration": 27027,
    "start_time": "2022-03-09T10:21:04.133Z"
   },
   {
    "duration": 4,
    "start_time": "2022-03-09T10:21:31.164Z"
   },
   {
    "duration": 925,
    "start_time": "2022-03-09T10:21:45.201Z"
   },
   {
    "duration": 3,
    "start_time": "2022-03-09T10:21:50.588Z"
   },
   {
    "duration": 18188,
    "start_time": "2022-03-09T10:22:31.037Z"
   },
   {
    "duration": 4,
    "start_time": "2022-03-09T10:22:49.226Z"
   },
   {
    "duration": 56,
    "start_time": "2022-03-09T10:23:23.261Z"
   },
   {
    "duration": 4,
    "start_time": "2022-03-09T10:23:27.490Z"
   },
   {
    "duration": 866,
    "start_time": "2022-03-09T10:26:02.882Z"
   },
   {
    "duration": 4,
    "start_time": "2022-03-09T10:26:39.038Z"
   },
   {
    "duration": 5,
    "start_time": "2022-03-09T10:26:57.660Z"
   },
   {
    "duration": 4,
    "start_time": "2022-03-09T10:27:53.154Z"
   },
   {
    "duration": 5,
    "start_time": "2022-03-09T10:27:56.576Z"
   },
   {
    "duration": 3,
    "start_time": "2022-03-09T10:28:07.886Z"
   },
   {
    "duration": 62,
    "start_time": "2022-03-09T10:28:52.416Z"
   },
   {
    "duration": 4,
    "start_time": "2022-03-09T10:29:07.725Z"
   },
   {
    "duration": 5,
    "start_time": "2022-03-09T10:34:31.335Z"
   },
   {
    "duration": 9,
    "start_time": "2022-03-09T10:34:46.835Z"
   },
   {
    "duration": 5,
    "start_time": "2022-03-09T10:34:51.130Z"
   },
   {
    "duration": 9,
    "start_time": "2022-03-09T10:34:57.188Z"
   },
   {
    "duration": 186,
    "start_time": "2022-03-09T10:35:39.787Z"
   },
   {
    "duration": 10,
    "start_time": "2022-03-09T10:35:44.976Z"
   },
   {
    "duration": 4,
    "start_time": "2022-03-09T10:40:55.569Z"
   },
   {
    "duration": 57,
    "start_time": "2022-03-09T10:44:05.922Z"
   },
   {
    "duration": 6,
    "start_time": "2022-03-09T10:48:42.298Z"
   },
   {
    "duration": 13,
    "start_time": "2022-03-09T10:49:46.518Z"
   },
   {
    "duration": 1216,
    "start_time": "2022-03-09T10:49:57.860Z"
   },
   {
    "duration": 3,
    "start_time": "2022-03-09T10:49:59.078Z"
   },
   {
    "duration": 1107,
    "start_time": "2022-03-09T10:50:17.947Z"
   },
   {
    "duration": 34,
    "start_time": "2022-03-09T10:50:19.056Z"
   },
   {
    "duration": 4,
    "start_time": "2022-03-09T10:50:19.095Z"
   },
   {
    "duration": 10,
    "start_time": "2022-03-09T10:50:19.100Z"
   },
   {
    "duration": 994,
    "start_time": "2022-03-09T10:50:19.112Z"
   },
   {
    "duration": 4,
    "start_time": "2022-03-09T10:50:20.108Z"
   },
   {
    "duration": 18826,
    "start_time": "2022-03-09T10:50:20.113Z"
   },
   {
    "duration": 3,
    "start_time": "2022-03-09T10:50:38.942Z"
   },
   {
    "duration": 27,
    "start_time": "2022-03-09T10:50:38.947Z"
   },
   {
    "duration": 8,
    "start_time": "2022-03-09T10:50:38.976Z"
   },
   {
    "duration": 17,
    "start_time": "2022-03-09T10:50:38.986Z"
   },
   {
    "duration": 17,
    "start_time": "2022-03-09T10:50:39.005Z"
   },
   {
    "duration": 17,
    "start_time": "2022-03-09T10:50:39.024Z"
   },
   {
    "duration": 18306,
    "start_time": "2022-03-09T10:50:47.400Z"
   },
   {
    "duration": 3,
    "start_time": "2022-03-09T10:51:05.708Z"
   },
   {
    "duration": 5,
    "start_time": "2022-03-09T10:52:41.328Z"
   },
   {
    "duration": 5,
    "start_time": "2022-03-09T10:52:45.668Z"
   },
   {
    "duration": 243,
    "start_time": "2022-03-09T14:09:28.589Z"
   },
   {
    "duration": 1113,
    "start_time": "2022-03-09T14:09:36.033Z"
   },
   {
    "duration": 34,
    "start_time": "2022-03-09T14:09:37.148Z"
   },
   {
    "duration": 4,
    "start_time": "2022-03-09T14:09:37.184Z"
   },
   {
    "duration": 10,
    "start_time": "2022-03-09T14:09:37.190Z"
   },
   {
    "duration": 953,
    "start_time": "2022-03-09T14:09:37.202Z"
   },
   {
    "duration": 4,
    "start_time": "2022-03-09T14:09:38.157Z"
   },
   {
    "duration": 20757,
    "start_time": "2022-03-09T14:09:38.162Z"
   },
   {
    "duration": 4,
    "start_time": "2022-03-09T14:09:58.921Z"
   },
   {
    "duration": 21,
    "start_time": "2022-03-09T14:09:58.927Z"
   },
   {
    "duration": 6,
    "start_time": "2022-03-09T14:09:58.950Z"
   },
   {
    "duration": 26,
    "start_time": "2022-03-09T14:09:58.958Z"
   },
   {
    "duration": 4,
    "start_time": "2022-03-09T14:09:58.986Z"
   },
   {
    "duration": 11,
    "start_time": "2022-03-09T14:09:58.992Z"
   },
   {
    "duration": 5,
    "start_time": "2022-03-09T14:10:33.964Z"
   },
   {
    "duration": 10,
    "start_time": "2022-03-09T14:10:40.367Z"
   },
   {
    "duration": 1273,
    "start_time": "2022-03-09T16:15:32.878Z"
   },
   {
    "duration": 42,
    "start_time": "2022-03-09T16:15:34.153Z"
   },
   {
    "duration": 7,
    "start_time": "2022-03-09T16:15:37.945Z"
   },
   {
    "duration": 11,
    "start_time": "2022-03-09T16:15:38.212Z"
   },
   {
    "duration": 1186,
    "start_time": "2022-03-09T16:16:40.780Z"
   },
   {
    "duration": 5,
    "start_time": "2022-03-09T16:16:41.969Z"
   },
   {
    "duration": 43576,
    "start_time": "2022-03-09T16:16:41.977Z"
   },
   {
    "duration": 4,
    "start_time": "2022-03-09T16:17:25.555Z"
   },
   {
    "duration": 86,
    "start_time": "2022-03-09T16:17:25.562Z"
   },
   {
    "duration": 9,
    "start_time": "2022-03-09T16:17:25.650Z"
   },
   {
    "duration": 78,
    "start_time": "2022-03-09T16:17:25.662Z"
   },
   {
    "duration": 7,
    "start_time": "2022-03-09T16:17:25.742Z"
   },
   {
    "duration": 13,
    "start_time": "2022-03-09T16:17:25.751Z"
   },
   {
    "duration": 331,
    "start_time": "2022-03-09T17:01:45.147Z"
   },
   {
    "duration": 1159,
    "start_time": "2022-03-09T17:01:49.793Z"
   },
   {
    "duration": 31,
    "start_time": "2022-03-09T17:01:50.955Z"
   },
   {
    "duration": 4,
    "start_time": "2022-03-09T17:01:50.988Z"
   },
   {
    "duration": 9,
    "start_time": "2022-03-09T17:01:51.001Z"
   },
   {
    "duration": 257,
    "start_time": "2022-03-09T17:01:53.634Z"
   },
   {
    "duration": 5,
    "start_time": "2022-03-09T17:01:58.995Z"
   },
   {
    "duration": 5,
    "start_time": "2022-03-09T17:02:08.161Z"
   },
   {
    "duration": 5,
    "start_time": "2022-03-09T17:02:11.228Z"
   },
   {
    "duration": 4,
    "start_time": "2022-03-09T17:02:13.851Z"
   },
   {
    "duration": 5,
    "start_time": "2022-03-09T17:03:20.259Z"
   },
   {
    "duration": 6,
    "start_time": "2022-03-09T17:03:42.423Z"
   },
   {
    "duration": 5,
    "start_time": "2022-03-09T17:03:52.328Z"
   },
   {
    "duration": 271,
    "start_time": "2022-03-10T08:56:22.280Z"
   },
   {
    "duration": 992,
    "start_time": "2022-03-10T08:56:24.135Z"
   },
   {
    "duration": 316,
    "start_time": "2022-03-10T08:56:25.129Z"
   },
   {
    "duration": 286,
    "start_time": "2022-03-10T08:56:29.760Z"
   },
   {
    "duration": 1755,
    "start_time": "2022-03-10T08:56:39.153Z"
   },
   {
    "duration": 5,
    "start_time": "2022-03-10T08:57:14.440Z"
   },
   {
    "duration": 386,
    "start_time": "2022-03-10T08:59:40.439Z"
   },
   {
    "duration": 252,
    "start_time": "2022-03-10T09:01:00.440Z"
   },
   {
    "duration": 281,
    "start_time": "2022-03-10T09:01:10.343Z"
   },
   {
    "duration": 27,
    "start_time": "2022-03-10T09:01:34.031Z"
   },
   {
    "duration": 989,
    "start_time": "2022-03-11T08:28:47.017Z"
   },
   {
    "duration": 35,
    "start_time": "2022-03-11T08:28:48.008Z"
   },
   {
    "duration": 5,
    "start_time": "2022-03-11T08:28:48.045Z"
   },
   {
    "duration": 456,
    "start_time": "2022-03-11T08:28:48.059Z"
   },
   {
    "duration": 3,
    "start_time": "2022-03-11T08:28:48.517Z"
   },
   {
    "duration": 8,
    "start_time": "2022-03-11T08:28:48.522Z"
   },
   {
    "duration": 4,
    "start_time": "2022-03-11T08:28:48.532Z"
   },
   {
    "duration": 1112,
    "start_time": "2022-03-11T08:28:48.538Z"
   },
   {
    "duration": 4,
    "start_time": "2022-03-11T08:28:49.652Z"
   },
   {
    "duration": 18829,
    "start_time": "2022-03-11T08:28:49.659Z"
   },
   {
    "duration": 3,
    "start_time": "2022-03-11T08:29:08.490Z"
   },
   {
    "duration": 15,
    "start_time": "2022-03-11T08:29:08.495Z"
   },
   {
    "duration": 8,
    "start_time": "2022-03-11T08:29:08.512Z"
   },
   {
    "duration": 4,
    "start_time": "2022-03-11T08:29:08.522Z"
   },
   {
    "duration": 34,
    "start_time": "2022-03-11T08:29:08.528Z"
   },
   {
    "duration": 10,
    "start_time": "2022-03-11T08:29:37.578Z"
   },
   {
    "duration": 418,
    "start_time": "2022-03-11T08:31:16.399Z"
   },
   {
    "duration": -474,
    "start_time": "2022-03-11T08:31:17.293Z"
   },
   {
    "duration": 5,
    "start_time": "2022-03-11T08:31:34.953Z"
   },
   {
    "duration": 12,
    "start_time": "2022-03-11T08:31:36.518Z"
   },
   {
    "duration": 3,
    "start_time": "2022-03-11T08:32:36.070Z"
   },
   {
    "duration": 23,
    "start_time": "2022-03-11T08:32:36.075Z"
   },
   {
    "duration": 4,
    "start_time": "2022-03-11T08:32:36.100Z"
   },
   {
    "duration": 317,
    "start_time": "2022-03-11T08:32:36.106Z"
   },
   {
    "duration": 235,
    "start_time": "2022-03-11T08:32:36.425Z"
   },
   {
    "duration": 4,
    "start_time": "2022-03-11T08:33:36.105Z"
   },
   {
    "duration": 43,
    "start_time": "2022-03-11T08:33:36.110Z"
   },
   {
    "duration": 5,
    "start_time": "2022-03-11T08:33:36.155Z"
   },
   {
    "duration": 342,
    "start_time": "2022-03-11T08:33:36.162Z"
   },
   {
    "duration": 4,
    "start_time": "2022-03-11T08:33:36.505Z"
   },
   {
    "duration": 11,
    "start_time": "2022-03-11T08:33:39.636Z"
   },
   {
    "duration": 5,
    "start_time": "2022-03-11T08:33:57.272Z"
   },
   {
    "duration": 7,
    "start_time": "2022-03-11T08:33:57.528Z"
   },
   {
    "duration": 5,
    "start_time": "2022-03-11T08:33:57.787Z"
   },
   {
    "duration": 760,
    "start_time": "2022-03-11T08:34:04.340Z"
   },
   {
    "duration": 3,
    "start_time": "2022-03-11T08:34:06.553Z"
   },
   {
    "duration": 13716,
    "start_time": "2022-03-11T08:34:10.607Z"
   },
   {
    "duration": 2,
    "start_time": "2022-03-11T08:34:24.325Z"
   },
   {
    "duration": 1001,
    "start_time": "2022-03-11T08:41:24.104Z"
   },
   {
    "duration": 29,
    "start_time": "2022-03-11T08:41:25.107Z"
   },
   {
    "duration": 5,
    "start_time": "2022-03-11T08:41:25.139Z"
   },
   {
    "duration": 455,
    "start_time": "2022-03-11T08:41:25.146Z"
   },
   {
    "duration": 3,
    "start_time": "2022-03-11T08:41:25.603Z"
   },
   {
    "duration": 25,
    "start_time": "2022-03-11T08:41:25.608Z"
   },
   {
    "duration": 20,
    "start_time": "2022-03-11T08:41:25.635Z"
   },
   {
    "duration": 18,
    "start_time": "2022-03-11T08:41:25.657Z"
   },
   {
    "duration": 30,
    "start_time": "2022-03-11T08:41:25.677Z"
   },
   {
    "duration": 1050,
    "start_time": "2022-03-11T08:41:25.709Z"
   },
   {
    "duration": 6,
    "start_time": "2022-03-11T08:41:26.760Z"
   },
   {
    "duration": 13967,
    "start_time": "2022-03-11T08:41:26.769Z"
   },
   {
    "duration": 3,
    "start_time": "2022-03-11T08:41:40.738Z"
   },
   {
    "duration": 17,
    "start_time": "2022-03-11T08:41:40.743Z"
   },
   {
    "duration": 8,
    "start_time": "2022-03-11T08:41:40.762Z"
   },
   {
    "duration": 5,
    "start_time": "2022-03-11T08:42:10.246Z"
   },
   {
    "duration": 9,
    "start_time": "2022-03-11T08:42:16.433Z"
   },
   {
    "duration": 5,
    "start_time": "2022-03-11T08:44:09.259Z"
   },
   {
    "duration": 9,
    "start_time": "2022-03-11T08:44:12.283Z"
   },
   {
    "duration": 10,
    "start_time": "2022-03-11T08:47:42.620Z"
   },
   {
    "duration": 8,
    "start_time": "2022-03-11T08:47:42.631Z"
   },
   {
    "duration": 4,
    "start_time": "2022-03-11T08:47:42.641Z"
   },
   {
    "duration": 10,
    "start_time": "2022-03-11T08:47:42.647Z"
   },
   {
    "duration": 9,
    "start_time": "2022-03-11T08:47:59.351Z"
   },
   {
    "duration": 82,
    "start_time": "2022-03-11T08:50:34.547Z"
   },
   {
    "duration": 331,
    "start_time": "2022-03-11T08:51:07.274Z"
   },
   {
    "duration": 3,
    "start_time": "2022-03-11T08:51:27.930Z"
   },
   {
    "duration": 7,
    "start_time": "2022-03-11T08:51:29.555Z"
   },
   {
    "duration": 7,
    "start_time": "2022-03-11T08:52:55.067Z"
   },
   {
    "duration": 987,
    "start_time": "2022-03-11T09:17:34.816Z"
   },
   {
    "duration": 29,
    "start_time": "2022-03-11T09:17:35.804Z"
   },
   {
    "duration": 5,
    "start_time": "2022-03-11T09:17:35.835Z"
   },
   {
    "duration": 424,
    "start_time": "2022-03-11T09:17:35.842Z"
   },
   {
    "duration": 3,
    "start_time": "2022-03-11T09:17:36.268Z"
   },
   {
    "duration": 16,
    "start_time": "2022-03-11T09:17:36.273Z"
   },
   {
    "duration": 5,
    "start_time": "2022-03-11T09:17:36.291Z"
   },
   {
    "duration": 8,
    "start_time": "2022-03-11T09:17:36.298Z"
   },
   {
    "duration": 4,
    "start_time": "2022-03-11T09:17:36.309Z"
   },
   {
    "duration": 798,
    "start_time": "2022-03-11T09:17:36.316Z"
   },
   {
    "duration": 4,
    "start_time": "2022-03-11T09:17:37.116Z"
   },
   {
    "duration": 13486,
    "start_time": "2022-03-11T09:17:37.122Z"
   },
   {
    "duration": 4,
    "start_time": "2022-03-11T09:17:50.609Z"
   },
   {
    "duration": 18,
    "start_time": "2022-03-11T09:17:50.615Z"
   },
   {
    "duration": 9,
    "start_time": "2022-03-11T09:17:50.636Z"
   },
   {
    "duration": 6,
    "start_time": "2022-03-11T09:17:50.660Z"
   },
   {
    "duration": 10,
    "start_time": "2022-03-11T09:17:50.668Z"
   },
   {
    "duration": 9,
    "start_time": "2022-03-11T09:17:50.680Z"
   },
   {
    "duration": 9,
    "start_time": "2022-03-11T09:17:50.691Z"
   },
   {
    "duration": 1061,
    "start_time": "2022-03-11T09:25:59.540Z"
   },
   {
    "duration": 29,
    "start_time": "2022-03-11T09:26:00.603Z"
   },
   {
    "duration": 12,
    "start_time": "2022-03-11T09:26:00.634Z"
   },
   {
    "duration": 448,
    "start_time": "2022-03-11T09:26:00.648Z"
   },
   {
    "duration": 4,
    "start_time": "2022-03-11T09:26:01.098Z"
   },
   {
    "duration": 25,
    "start_time": "2022-03-11T09:26:01.103Z"
   },
   {
    "duration": 5,
    "start_time": "2022-03-11T09:26:01.129Z"
   },
   {
    "duration": 12,
    "start_time": "2022-03-11T09:26:01.137Z"
   },
   {
    "duration": 11,
    "start_time": "2022-03-11T09:26:01.151Z"
   },
   {
    "duration": 791,
    "start_time": "2022-03-11T09:26:01.164Z"
   },
   {
    "duration": 3,
    "start_time": "2022-03-11T09:26:01.957Z"
   },
   {
    "duration": 13653,
    "start_time": "2022-03-11T09:26:01.962Z"
   },
   {
    "duration": 3,
    "start_time": "2022-03-11T09:26:15.617Z"
   },
   {
    "duration": 12,
    "start_time": "2022-03-11T09:26:15.622Z"
   },
   {
    "duration": 23,
    "start_time": "2022-03-11T09:26:15.636Z"
   },
   {
    "duration": 5,
    "start_time": "2022-03-11T09:26:15.660Z"
   },
   {
    "duration": 13,
    "start_time": "2022-03-11T09:26:15.666Z"
   },
   {
    "duration": 8,
    "start_time": "2022-03-11T09:26:15.680Z"
   },
   {
    "duration": 7,
    "start_time": "2022-03-11T09:26:15.690Z"
   }
  ],
  "kernelspec": {
   "display_name": "Python 3 (ipykernel)",
   "language": "python",
   "name": "python3"
  },
  "language_info": {
   "codemirror_mode": {
    "name": "ipython",
    "version": 3
   },
   "file_extension": ".py",
   "mimetype": "text/x-python",
   "name": "python",
   "nbconvert_exporter": "python",
   "pygments_lexer": "ipython3",
   "version": "3.7.8"
  },
  "toc": {
   "base_numbering": 1,
   "nav_menu": {},
   "number_sections": true,
   "sideBar": true,
   "skip_h1_title": true,
   "title_cell": "Table of Contents",
   "title_sidebar": "Contents",
   "toc_cell": false,
   "toc_position": {
    "height": "calc(100% - 180px)",
    "left": "10px",
    "top": "150px",
    "width": "281.198px"
   },
   "toc_section_display": true,
   "toc_window_display": true
  }
 },
 "nbformat": 4,
 "nbformat_minor": 2
}
