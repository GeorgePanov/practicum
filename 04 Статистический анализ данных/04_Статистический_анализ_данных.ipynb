{
 "cells": [
  {
   "cell_type": "markdown",
   "metadata": {},
   "source": [
    "## Изучение данных из файлов"
   ]
  },
  {
   "cell_type": "code",
   "execution_count": 1,
   "metadata": {},
   "outputs": [],
   "source": [
    "import pandas as pd\n",
    "import numpy as np\n",
    "import matplotlib.pyplot as plt\n",
    "from scipy import stats as st"
   ]
  },
  {
   "cell_type": "code",
   "execution_count": 2,
   "metadata": {
    "scrolled": true
   },
   "outputs": [],
   "source": [
    "# импортируем данные\n",
    "users = pd.read_csv('datasets/users.csv')\n",
    "calls = pd.read_csv('datasets/calls.csv')\n",
    "messages = pd.read_csv('messages.csv')\n",
    "internet = pd.read_csv('internet.csv')\n",
    "tariffs = pd.read_csv('tariffs.csv')"
   ]
  },
  {
   "cell_type": "code",
   "execution_count": 3,
   "metadata": {},
   "outputs": [
    {
     "data": {
      "text/html": [
       "<div>\n",
       "<style scoped>\n",
       "    .dataframe tbody tr th:only-of-type {\n",
       "        vertical-align: middle;\n",
       "    }\n",
       "\n",
       "    .dataframe tbody tr th {\n",
       "        vertical-align: top;\n",
       "    }\n",
       "\n",
       "    .dataframe thead th {\n",
       "        text-align: right;\n",
       "    }\n",
       "</style>\n",
       "<table border=\"1\" class=\"dataframe\">\n",
       "  <thead>\n",
       "    <tr style=\"text-align: right;\">\n",
       "      <th></th>\n",
       "      <th>user_id</th>\n",
       "      <th>age</th>\n",
       "      <th>churn_date</th>\n",
       "      <th>city</th>\n",
       "      <th>first_name</th>\n",
       "      <th>last_name</th>\n",
       "      <th>reg_date</th>\n",
       "      <th>tariff</th>\n",
       "    </tr>\n",
       "  </thead>\n",
       "  <tbody>\n",
       "    <tr>\n",
       "      <td>0</td>\n",
       "      <td>1000</td>\n",
       "      <td>52</td>\n",
       "      <td>NaN</td>\n",
       "      <td>Краснодар</td>\n",
       "      <td>Рафаил</td>\n",
       "      <td>Верещагин</td>\n",
       "      <td>2018-05-25</td>\n",
       "      <td>ultra</td>\n",
       "    </tr>\n",
       "    <tr>\n",
       "      <td>1</td>\n",
       "      <td>1001</td>\n",
       "      <td>41</td>\n",
       "      <td>NaN</td>\n",
       "      <td>Москва</td>\n",
       "      <td>Иван</td>\n",
       "      <td>Ежов</td>\n",
       "      <td>2018-11-01</td>\n",
       "      <td>smart</td>\n",
       "    </tr>\n",
       "    <tr>\n",
       "      <td>2</td>\n",
       "      <td>1002</td>\n",
       "      <td>59</td>\n",
       "      <td>NaN</td>\n",
       "      <td>Стерлитамак</td>\n",
       "      <td>Евгений</td>\n",
       "      <td>Абрамович</td>\n",
       "      <td>2018-06-17</td>\n",
       "      <td>smart</td>\n",
       "    </tr>\n",
       "    <tr>\n",
       "      <td>3</td>\n",
       "      <td>1003</td>\n",
       "      <td>23</td>\n",
       "      <td>NaN</td>\n",
       "      <td>Москва</td>\n",
       "      <td>Белла</td>\n",
       "      <td>Белякова</td>\n",
       "      <td>2018-08-17</td>\n",
       "      <td>ultra</td>\n",
       "    </tr>\n",
       "    <tr>\n",
       "      <td>4</td>\n",
       "      <td>1004</td>\n",
       "      <td>68</td>\n",
       "      <td>NaN</td>\n",
       "      <td>Новокузнецк</td>\n",
       "      <td>Татьяна</td>\n",
       "      <td>Авдеенко</td>\n",
       "      <td>2018-05-14</td>\n",
       "      <td>ultra</td>\n",
       "    </tr>\n",
       "  </tbody>\n",
       "</table>\n",
       "</div>"
      ],
      "text/plain": [
       "   user_id  age churn_date         city first_name  last_name    reg_date  \\\n",
       "0     1000   52        NaN    Краснодар     Рафаил  Верещагин  2018-05-25   \n",
       "1     1001   41        NaN       Москва       Иван       Ежов  2018-11-01   \n",
       "2     1002   59        NaN  Стерлитамак    Евгений  Абрамович  2018-06-17   \n",
       "3     1003   23        NaN       Москва      Белла   Белякова  2018-08-17   \n",
       "4     1004   68        NaN  Новокузнецк    Татьяна   Авдеенко  2018-05-14   \n",
       "\n",
       "  tariff  \n",
       "0  ultra  \n",
       "1  smart  \n",
       "2  smart  \n",
       "3  ultra  \n",
       "4  ultra  "
      ]
     },
     "metadata": {},
     "output_type": "display_data"
    },
    {
     "name": "stdout",
     "output_type": "stream",
     "text": [
      "<class 'pandas.core.frame.DataFrame'>\n",
      "RangeIndex: 500 entries, 0 to 499\n",
      "Data columns (total 8 columns):\n",
      "user_id       500 non-null int64\n",
      "age           500 non-null int64\n",
      "churn_date    38 non-null object\n",
      "city          500 non-null object\n",
      "first_name    500 non-null object\n",
      "last_name     500 non-null object\n",
      "reg_date      500 non-null object\n",
      "tariff        500 non-null object\n",
      "dtypes: int64(2), object(6)\n",
      "memory usage: 31.4+ KB\n"
     ]
    }
   ],
   "source": [
    "display(users.head())\n",
    "users.info()"
   ]
  },
  {
   "cell_type": "code",
   "execution_count": 4,
   "metadata": {},
   "outputs": [
    {
     "data": {
      "text/html": [
       "<div>\n",
       "<style scoped>\n",
       "    .dataframe tbody tr th:only-of-type {\n",
       "        vertical-align: middle;\n",
       "    }\n",
       "\n",
       "    .dataframe tbody tr th {\n",
       "        vertical-align: top;\n",
       "    }\n",
       "\n",
       "    .dataframe thead th {\n",
       "        text-align: right;\n",
       "    }\n",
       "</style>\n",
       "<table border=\"1\" class=\"dataframe\">\n",
       "  <thead>\n",
       "    <tr style=\"text-align: right;\">\n",
       "      <th></th>\n",
       "      <th>id</th>\n",
       "      <th>call_date</th>\n",
       "      <th>duration</th>\n",
       "      <th>user_id</th>\n",
       "    </tr>\n",
       "  </thead>\n",
       "  <tbody>\n",
       "    <tr>\n",
       "      <td>0</td>\n",
       "      <td>1000_0</td>\n",
       "      <td>2018-07-25</td>\n",
       "      <td>0.00</td>\n",
       "      <td>1000</td>\n",
       "    </tr>\n",
       "    <tr>\n",
       "      <td>1</td>\n",
       "      <td>1000_1</td>\n",
       "      <td>2018-08-17</td>\n",
       "      <td>0.00</td>\n",
       "      <td>1000</td>\n",
       "    </tr>\n",
       "    <tr>\n",
       "      <td>2</td>\n",
       "      <td>1000_2</td>\n",
       "      <td>2018-06-11</td>\n",
       "      <td>2.85</td>\n",
       "      <td>1000</td>\n",
       "    </tr>\n",
       "    <tr>\n",
       "      <td>3</td>\n",
       "      <td>1000_3</td>\n",
       "      <td>2018-09-21</td>\n",
       "      <td>13.80</td>\n",
       "      <td>1000</td>\n",
       "    </tr>\n",
       "    <tr>\n",
       "      <td>4</td>\n",
       "      <td>1000_4</td>\n",
       "      <td>2018-12-15</td>\n",
       "      <td>5.18</td>\n",
       "      <td>1000</td>\n",
       "    </tr>\n",
       "  </tbody>\n",
       "</table>\n",
       "</div>"
      ],
      "text/plain": [
       "       id   call_date  duration  user_id\n",
       "0  1000_0  2018-07-25      0.00     1000\n",
       "1  1000_1  2018-08-17      0.00     1000\n",
       "2  1000_2  2018-06-11      2.85     1000\n",
       "3  1000_3  2018-09-21     13.80     1000\n",
       "4  1000_4  2018-12-15      5.18     1000"
      ]
     },
     "metadata": {},
     "output_type": "display_data"
    },
    {
     "name": "stdout",
     "output_type": "stream",
     "text": [
      "<class 'pandas.core.frame.DataFrame'>\n",
      "RangeIndex: 202607 entries, 0 to 202606\n",
      "Data columns (total 4 columns):\n",
      "id           202607 non-null object\n",
      "call_date    202607 non-null object\n",
      "duration     202607 non-null float64\n",
      "user_id      202607 non-null int64\n",
      "dtypes: float64(1), int64(1), object(2)\n",
      "memory usage: 6.2+ MB\n"
     ]
    }
   ],
   "source": [
    "display(calls.head())\n",
    "calls.info()"
   ]
  },
  {
   "cell_type": "code",
   "execution_count": 5,
   "metadata": {},
   "outputs": [
    {
     "data": {
      "text/html": [
       "<div>\n",
       "<style scoped>\n",
       "    .dataframe tbody tr th:only-of-type {\n",
       "        vertical-align: middle;\n",
       "    }\n",
       "\n",
       "    .dataframe tbody tr th {\n",
       "        vertical-align: top;\n",
       "    }\n",
       "\n",
       "    .dataframe thead th {\n",
       "        text-align: right;\n",
       "    }\n",
       "</style>\n",
       "<table border=\"1\" class=\"dataframe\">\n",
       "  <thead>\n",
       "    <tr style=\"text-align: right;\">\n",
       "      <th></th>\n",
       "      <th>id</th>\n",
       "      <th>message_date</th>\n",
       "      <th>user_id</th>\n",
       "    </tr>\n",
       "  </thead>\n",
       "  <tbody>\n",
       "    <tr>\n",
       "      <td>0</td>\n",
       "      <td>1000_0</td>\n",
       "      <td>2018-06-27</td>\n",
       "      <td>1000</td>\n",
       "    </tr>\n",
       "    <tr>\n",
       "      <td>1</td>\n",
       "      <td>1000_1</td>\n",
       "      <td>2018-10-08</td>\n",
       "      <td>1000</td>\n",
       "    </tr>\n",
       "    <tr>\n",
       "      <td>2</td>\n",
       "      <td>1000_2</td>\n",
       "      <td>2018-08-04</td>\n",
       "      <td>1000</td>\n",
       "    </tr>\n",
       "    <tr>\n",
       "      <td>3</td>\n",
       "      <td>1000_3</td>\n",
       "      <td>2018-06-16</td>\n",
       "      <td>1000</td>\n",
       "    </tr>\n",
       "    <tr>\n",
       "      <td>4</td>\n",
       "      <td>1000_4</td>\n",
       "      <td>2018-12-05</td>\n",
       "      <td>1000</td>\n",
       "    </tr>\n",
       "  </tbody>\n",
       "</table>\n",
       "</div>"
      ],
      "text/plain": [
       "       id message_date  user_id\n",
       "0  1000_0   2018-06-27     1000\n",
       "1  1000_1   2018-10-08     1000\n",
       "2  1000_2   2018-08-04     1000\n",
       "3  1000_3   2018-06-16     1000\n",
       "4  1000_4   2018-12-05     1000"
      ]
     },
     "metadata": {},
     "output_type": "display_data"
    },
    {
     "name": "stdout",
     "output_type": "stream",
     "text": [
      "<class 'pandas.core.frame.DataFrame'>\n",
      "RangeIndex: 123036 entries, 0 to 123035\n",
      "Data columns (total 3 columns):\n",
      "id              123036 non-null object\n",
      "message_date    123036 non-null object\n",
      "user_id         123036 non-null int64\n",
      "dtypes: int64(1), object(2)\n",
      "memory usage: 2.8+ MB\n"
     ]
    }
   ],
   "source": [
    "display(messages.head())\n",
    "messages.info()"
   ]
  },
  {
   "cell_type": "code",
   "execution_count": 6,
   "metadata": {},
   "outputs": [
    {
     "data": {
      "text/html": [
       "<div>\n",
       "<style scoped>\n",
       "    .dataframe tbody tr th:only-of-type {\n",
       "        vertical-align: middle;\n",
       "    }\n",
       "\n",
       "    .dataframe tbody tr th {\n",
       "        vertical-align: top;\n",
       "    }\n",
       "\n",
       "    .dataframe thead th {\n",
       "        text-align: right;\n",
       "    }\n",
       "</style>\n",
       "<table border=\"1\" class=\"dataframe\">\n",
       "  <thead>\n",
       "    <tr style=\"text-align: right;\">\n",
       "      <th></th>\n",
       "      <th>Unnamed: 0</th>\n",
       "      <th>id</th>\n",
       "      <th>mb_used</th>\n",
       "      <th>session_date</th>\n",
       "      <th>user_id</th>\n",
       "    </tr>\n",
       "  </thead>\n",
       "  <tbody>\n",
       "    <tr>\n",
       "      <td>0</td>\n",
       "      <td>0</td>\n",
       "      <td>1000_0</td>\n",
       "      <td>112.95</td>\n",
       "      <td>2018-11-25</td>\n",
       "      <td>1000</td>\n",
       "    </tr>\n",
       "    <tr>\n",
       "      <td>1</td>\n",
       "      <td>1</td>\n",
       "      <td>1000_1</td>\n",
       "      <td>1052.81</td>\n",
       "      <td>2018-09-07</td>\n",
       "      <td>1000</td>\n",
       "    </tr>\n",
       "    <tr>\n",
       "      <td>2</td>\n",
       "      <td>2</td>\n",
       "      <td>1000_2</td>\n",
       "      <td>1197.26</td>\n",
       "      <td>2018-06-25</td>\n",
       "      <td>1000</td>\n",
       "    </tr>\n",
       "    <tr>\n",
       "      <td>3</td>\n",
       "      <td>3</td>\n",
       "      <td>1000_3</td>\n",
       "      <td>550.27</td>\n",
       "      <td>2018-08-22</td>\n",
       "      <td>1000</td>\n",
       "    </tr>\n",
       "    <tr>\n",
       "      <td>4</td>\n",
       "      <td>4</td>\n",
       "      <td>1000_4</td>\n",
       "      <td>302.56</td>\n",
       "      <td>2018-09-24</td>\n",
       "      <td>1000</td>\n",
       "    </tr>\n",
       "  </tbody>\n",
       "</table>\n",
       "</div>"
      ],
      "text/plain": [
       "   Unnamed: 0      id  mb_used session_date  user_id\n",
       "0           0  1000_0   112.95   2018-11-25     1000\n",
       "1           1  1000_1  1052.81   2018-09-07     1000\n",
       "2           2  1000_2  1197.26   2018-06-25     1000\n",
       "3           3  1000_3   550.27   2018-08-22     1000\n",
       "4           4  1000_4   302.56   2018-09-24     1000"
      ]
     },
     "metadata": {},
     "output_type": "display_data"
    },
    {
     "name": "stdout",
     "output_type": "stream",
     "text": [
      "<class 'pandas.core.frame.DataFrame'>\n",
      "RangeIndex: 149396 entries, 0 to 149395\n",
      "Data columns (total 5 columns):\n",
      "Unnamed: 0      149396 non-null int64\n",
      "id              149396 non-null object\n",
      "mb_used         149396 non-null float64\n",
      "session_date    149396 non-null object\n",
      "user_id         149396 non-null int64\n",
      "dtypes: float64(1), int64(2), object(2)\n",
      "memory usage: 5.7+ MB\n"
     ]
    }
   ],
   "source": [
    "display(internet.head())\n",
    "internet.info()"
   ]
  },
  {
   "cell_type": "code",
   "execution_count": 7,
   "metadata": {},
   "outputs": [
    {
     "data": {
      "text/html": [
       "<div>\n",
       "<style scoped>\n",
       "    .dataframe tbody tr th:only-of-type {\n",
       "        vertical-align: middle;\n",
       "    }\n",
       "\n",
       "    .dataframe tbody tr th {\n",
       "        vertical-align: top;\n",
       "    }\n",
       "\n",
       "    .dataframe thead th {\n",
       "        text-align: right;\n",
       "    }\n",
       "</style>\n",
       "<table border=\"1\" class=\"dataframe\">\n",
       "  <thead>\n",
       "    <tr style=\"text-align: right;\">\n",
       "      <th></th>\n",
       "      <th>messages_included</th>\n",
       "      <th>mb_per_month_included</th>\n",
       "      <th>minutes_included</th>\n",
       "      <th>rub_monthly_fee</th>\n",
       "      <th>rub_per_gb</th>\n",
       "      <th>rub_per_message</th>\n",
       "      <th>rub_per_minute</th>\n",
       "      <th>tariff_name</th>\n",
       "    </tr>\n",
       "  </thead>\n",
       "  <tbody>\n",
       "    <tr>\n",
       "      <td>0</td>\n",
       "      <td>50</td>\n",
       "      <td>15360</td>\n",
       "      <td>500</td>\n",
       "      <td>550</td>\n",
       "      <td>200</td>\n",
       "      <td>3</td>\n",
       "      <td>3</td>\n",
       "      <td>smart</td>\n",
       "    </tr>\n",
       "    <tr>\n",
       "      <td>1</td>\n",
       "      <td>1000</td>\n",
       "      <td>30720</td>\n",
       "      <td>3000</td>\n",
       "      <td>1950</td>\n",
       "      <td>150</td>\n",
       "      <td>1</td>\n",
       "      <td>1</td>\n",
       "      <td>ultra</td>\n",
       "    </tr>\n",
       "  </tbody>\n",
       "</table>\n",
       "</div>"
      ],
      "text/plain": [
       "   messages_included  mb_per_month_included  minutes_included  \\\n",
       "0                 50                  15360               500   \n",
       "1               1000                  30720              3000   \n",
       "\n",
       "   rub_monthly_fee  rub_per_gb  rub_per_message  rub_per_minute tariff_name  \n",
       "0              550         200                3               3       smart  \n",
       "1             1950         150                1               1       ultra  "
      ]
     },
     "metadata": {},
     "output_type": "display_data"
    },
    {
     "name": "stdout",
     "output_type": "stream",
     "text": [
      "<class 'pandas.core.frame.DataFrame'>\n",
      "RangeIndex: 2 entries, 0 to 1\n",
      "Data columns (total 8 columns):\n",
      "messages_included        2 non-null int64\n",
      "mb_per_month_included    2 non-null int64\n",
      "minutes_included         2 non-null int64\n",
      "rub_monthly_fee          2 non-null int64\n",
      "rub_per_gb               2 non-null int64\n",
      "rub_per_message          2 non-null int64\n",
      "rub_per_minute           2 non-null int64\n",
      "tariff_name              2 non-null object\n",
      "dtypes: int64(7), object(1)\n",
      "memory usage: 256.0+ bytes\n"
     ]
    }
   ],
   "source": [
    "display(tariffs.head())\n",
    "tariffs.info()"
   ]
  },
  {
   "cell_type": "markdown",
   "metadata": {},
   "source": [
    "Проверю аномалии"
   ]
  },
  {
   "cell_type": "code",
   "execution_count": 8,
   "metadata": {},
   "outputs": [
    {
     "data": {
      "text/plain": [
       "<matplotlib.axes._subplots.AxesSubplot at 0x1f38f53a7c8>"
      ]
     },
     "execution_count": 8,
     "metadata": {},
     "output_type": "execute_result"
    },
    {
     "data": {
      "image/png": "[encoded data removed]",
      "text/plain": [
       "<Figure size 432x288 with 1 Axes>"
      ]
     },
     "metadata": {
      "needs_background": "light"
     },
     "output_type": "display_data"
    }
   ],
   "source": [
    "internet['mb_used'].hist(bins=20)"
   ]
  },
  {
   "cell_type": "code",
   "execution_count": 9,
   "metadata": {},
   "outputs": [
    {
     "data": {
      "text/plain": [
       "483.87    0.000007\n",
       "128.33    0.000007\n",
       "177.35    0.000007\n",
       "423.46    0.000007\n",
       "225.99    0.000007\n",
       "            ...   \n",
       "273.45    0.000054\n",
       "335.91    0.000060\n",
       "447.30    0.000060\n",
       "197.56    0.000060\n",
       "0.00      0.131182\n",
       "Name: mb_used, Length: 70003, dtype: float64"
      ]
     },
     "execution_count": 9,
     "metadata": {},
     "output_type": "execute_result"
    }
   ],
   "source": [
    "(internet['mb_used'].value_counts() / internet['mb_used'].value_counts().sum()).sort_values()"
   ]
  },
  {
   "cell_type": "markdown",
   "metadata": {},
   "source": [
    "**Вывод**\n",
    "\n",
    "Можно заметить, что нам предоставили вполне не плохие данные. Только в таблице users есть пропущенные значения.<br>\n",
    "Типы столбцов нужно изменить: \n",
    "\n",
    "В таблице \"users\" изменить тип столбца \"reg_date\" и \"churn_date\" на datetime64<br>\n",
    "В таблице \"calls\" изменить типы столбцов<br>\n",
    "В таблице \"messages\" изменить тип столбца \"message_date\" на datetime64<br>\n",
    "В таблице \"internet\" изменить тип столбца и удалить столбец \"Unnamed: 0\" с дубликатом индексов<br>\n",
    "\n",
    "Можно увидеть, что у нас целых 13% нулевого трафика"
   ]
  },
  {
   "cell_type": "markdown",
   "metadata": {},
   "source": [
    "## Подготовка данных"
   ]
  },
  {
   "cell_type": "markdown",
   "metadata": {},
   "source": [
    "**Проверка дубликатов**"
   ]
  },
  {
   "cell_type": "code",
   "execution_count": 10,
   "metadata": {
    "scrolled": false
   },
   "outputs": [
    {
     "name": "stdout",
     "output_type": "stream",
     "text": [
      "0\n",
      "0\n",
      "0\n",
      "0\n",
      "0\n"
     ]
    }
   ],
   "source": [
    "print(users.duplicated().sum())\n",
    "print(calls.duplicated().sum())\n",
    "print(messages.duplicated().sum())\n",
    "print(internet.duplicated().sum())\n",
    "print(tariffs.duplicated().sum())"
   ]
  },
  {
   "cell_type": "code",
   "execution_count": 11,
   "metadata": {},
   "outputs": [
    {
     "data": {
      "text/plain": [
       "<matplotlib.axes._subplots.AxesSubplot at 0x1f390394cc8>"
      ]
     },
     "execution_count": 11,
     "metadata": {},
     "output_type": "execute_result"
    },
    {
     "data": {
      "image/png": "[encoded data removed]",
      "text/plain": [
       "<Figure size 432x288 with 1 Axes>"
      ]
     },
     "metadata": {
      "needs_background": "light"
     },
     "output_type": "display_data"
    }
   ],
   "source": [
    "internet.plot(y='mb_used', kind='hist', bins=100)"
   ]
  },
  {
   "cell_type": "code",
   "execution_count": 12,
   "metadata": {},
   "outputs": [
    {
     "data": {
      "text/plain": [
       "count    149396.000000\n",
       "mean        370.192426\n",
       "std         278.300951\n",
       "min           0.000000\n",
       "25%         138.187500\n",
       "50%         348.015000\n",
       "75%         559.552500\n",
       "max        1724.830000\n",
       "Name: mb_used, dtype: float64"
      ]
     },
     "execution_count": 12,
     "metadata": {},
     "output_type": "execute_result"
    }
   ],
   "source": [
    "internet['mb_used'].describe()"
   ]
  },
  {
   "cell_type": "markdown",
   "metadata": {},
   "source": [
    "**Округлим секунды до минут**"
   ]
  },
  {
   "cell_type": "code",
   "execution_count": 13,
   "metadata": {
    "scrolled": false
   },
   "outputs": [
    {
     "data": {
      "text/html": [
       "<div>\n",
       "<style scoped>\n",
       "    .dataframe tbody tr th:only-of-type {\n",
       "        vertical-align: middle;\n",
       "    }\n",
       "\n",
       "    .dataframe tbody tr th {\n",
       "        vertical-align: top;\n",
       "    }\n",
       "\n",
       "    .dataframe thead th {\n",
       "        text-align: right;\n",
       "    }\n",
       "</style>\n",
       "<table border=\"1\" class=\"dataframe\">\n",
       "  <thead>\n",
       "    <tr style=\"text-align: right;\">\n",
       "      <th></th>\n",
       "      <th>id</th>\n",
       "      <th>call_date</th>\n",
       "      <th>duration</th>\n",
       "      <th>user_id</th>\n",
       "    </tr>\n",
       "  </thead>\n",
       "  <tbody>\n",
       "    <tr>\n",
       "      <td>0</td>\n",
       "      <td>1000_0</td>\n",
       "      <td>2018-07-25</td>\n",
       "      <td>0.0</td>\n",
       "      <td>1000</td>\n",
       "    </tr>\n",
       "    <tr>\n",
       "      <td>1</td>\n",
       "      <td>1000_1</td>\n",
       "      <td>2018-08-17</td>\n",
       "      <td>0.0</td>\n",
       "      <td>1000</td>\n",
       "    </tr>\n",
       "    <tr>\n",
       "      <td>2</td>\n",
       "      <td>1000_2</td>\n",
       "      <td>2018-06-11</td>\n",
       "      <td>3.0</td>\n",
       "      <td>1000</td>\n",
       "    </tr>\n",
       "    <tr>\n",
       "      <td>3</td>\n",
       "      <td>1000_3</td>\n",
       "      <td>2018-09-21</td>\n",
       "      <td>14.0</td>\n",
       "      <td>1000</td>\n",
       "    </tr>\n",
       "    <tr>\n",
       "      <td>4</td>\n",
       "      <td>1000_4</td>\n",
       "      <td>2018-12-15</td>\n",
       "      <td>6.0</td>\n",
       "      <td>1000</td>\n",
       "    </tr>\n",
       "    <tr>\n",
       "      <td>...</td>\n",
       "      <td>...</td>\n",
       "      <td>...</td>\n",
       "      <td>...</td>\n",
       "      <td>...</td>\n",
       "    </tr>\n",
       "    <tr>\n",
       "      <td>202602</td>\n",
       "      <td>1499_215</td>\n",
       "      <td>2018-12-26</td>\n",
       "      <td>1.0</td>\n",
       "      <td>1499</td>\n",
       "    </tr>\n",
       "    <tr>\n",
       "      <td>202603</td>\n",
       "      <td>1499_216</td>\n",
       "      <td>2018-10-18</td>\n",
       "      <td>19.0</td>\n",
       "      <td>1499</td>\n",
       "    </tr>\n",
       "    <tr>\n",
       "      <td>202604</td>\n",
       "      <td>1499_217</td>\n",
       "      <td>2018-11-10</td>\n",
       "      <td>11.0</td>\n",
       "      <td>1499</td>\n",
       "    </tr>\n",
       "    <tr>\n",
       "      <td>202605</td>\n",
       "      <td>1499_218</td>\n",
       "      <td>2018-10-06</td>\n",
       "      <td>5.0</td>\n",
       "      <td>1499</td>\n",
       "    </tr>\n",
       "    <tr>\n",
       "      <td>202606</td>\n",
       "      <td>1499_219</td>\n",
       "      <td>2018-12-14</td>\n",
       "      <td>20.0</td>\n",
       "      <td>1499</td>\n",
       "    </tr>\n",
       "  </tbody>\n",
       "</table>\n",
       "<p>202607 rows × 4 columns</p>\n",
       "</div>"
      ],
      "text/plain": [
       "              id   call_date  duration  user_id\n",
       "0         1000_0  2018-07-25       0.0     1000\n",
       "1         1000_1  2018-08-17       0.0     1000\n",
       "2         1000_2  2018-06-11       3.0     1000\n",
       "3         1000_3  2018-09-21      14.0     1000\n",
       "4         1000_4  2018-12-15       6.0     1000\n",
       "...          ...         ...       ...      ...\n",
       "202602  1499_215  2018-12-26       1.0     1499\n",
       "202603  1499_216  2018-10-18      19.0     1499\n",
       "202604  1499_217  2018-11-10      11.0     1499\n",
       "202605  1499_218  2018-10-06       5.0     1499\n",
       "202606  1499_219  2018-12-14      20.0     1499\n",
       "\n",
       "[202607 rows x 4 columns]"
      ]
     },
     "metadata": {},
     "output_type": "display_data"
    }
   ],
   "source": [
    "calls['duration'] = np.ceil(calls['duration'])\n",
    "display(calls)"
   ]
  },
  {
   "cell_type": "code",
   "execution_count": 14,
   "metadata": {},
   "outputs": [
    {
     "data": {
      "text/plain": [
       "0          0.0\n",
       "1          0.0\n",
       "2          3.0\n",
       "3         14.0\n",
       "4          6.0\n",
       "          ... \n",
       "202602     1.0\n",
       "202603    19.0\n",
       "202604    11.0\n",
       "202605     5.0\n",
       "202606    20.0\n",
       "Name: duration, Length: 202607, dtype: float64"
      ]
     },
     "execution_count": 14,
     "metadata": {},
     "output_type": "execute_result"
    }
   ],
   "source": [
    "calls['duration']"
   ]
  },
  {
   "cell_type": "markdown",
   "metadata": {},
   "source": [
    "**Приведите данные к нужным типам**"
   ]
  },
  {
   "cell_type": "code",
   "execution_count": 15,
   "metadata": {
    "scrolled": false
   },
   "outputs": [
    {
     "data": {
      "text/html": [
       "<div>\n",
       "<style scoped>\n",
       "    .dataframe tbody tr th:only-of-type {\n",
       "        vertical-align: middle;\n",
       "    }\n",
       "\n",
       "    .dataframe tbody tr th {\n",
       "        vertical-align: top;\n",
       "    }\n",
       "\n",
       "    .dataframe thead th {\n",
       "        text-align: right;\n",
       "    }\n",
       "</style>\n",
       "<table border=\"1\" class=\"dataframe\">\n",
       "  <thead>\n",
       "    <tr style=\"text-align: right;\">\n",
       "      <th></th>\n",
       "      <th>id</th>\n",
       "      <th>call_date</th>\n",
       "      <th>duration</th>\n",
       "      <th>user_id</th>\n",
       "    </tr>\n",
       "  </thead>\n",
       "  <tbody>\n",
       "    <tr>\n",
       "      <td>0</td>\n",
       "      <td>1000_0</td>\n",
       "      <td>2018-07-25</td>\n",
       "      <td>0</td>\n",
       "      <td>1000</td>\n",
       "    </tr>\n",
       "    <tr>\n",
       "      <td>1</td>\n",
       "      <td>1000_1</td>\n",
       "      <td>2018-08-17</td>\n",
       "      <td>0</td>\n",
       "      <td>1000</td>\n",
       "    </tr>\n",
       "    <tr>\n",
       "      <td>2</td>\n",
       "      <td>1000_2</td>\n",
       "      <td>2018-06-11</td>\n",
       "      <td>3</td>\n",
       "      <td>1000</td>\n",
       "    </tr>\n",
       "    <tr>\n",
       "      <td>3</td>\n",
       "      <td>1000_3</td>\n",
       "      <td>2018-09-21</td>\n",
       "      <td>14</td>\n",
       "      <td>1000</td>\n",
       "    </tr>\n",
       "    <tr>\n",
       "      <td>4</td>\n",
       "      <td>1000_4</td>\n",
       "      <td>2018-12-15</td>\n",
       "      <td>6</td>\n",
       "      <td>1000</td>\n",
       "    </tr>\n",
       "    <tr>\n",
       "      <td>...</td>\n",
       "      <td>...</td>\n",
       "      <td>...</td>\n",
       "      <td>...</td>\n",
       "      <td>...</td>\n",
       "    </tr>\n",
       "    <tr>\n",
       "      <td>202602</td>\n",
       "      <td>1499_215</td>\n",
       "      <td>2018-12-26</td>\n",
       "      <td>1</td>\n",
       "      <td>1499</td>\n",
       "    </tr>\n",
       "    <tr>\n",
       "      <td>202603</td>\n",
       "      <td>1499_216</td>\n",
       "      <td>2018-10-18</td>\n",
       "      <td>19</td>\n",
       "      <td>1499</td>\n",
       "    </tr>\n",
       "    <tr>\n",
       "      <td>202604</td>\n",
       "      <td>1499_217</td>\n",
       "      <td>2018-11-10</td>\n",
       "      <td>11</td>\n",
       "      <td>1499</td>\n",
       "    </tr>\n",
       "    <tr>\n",
       "      <td>202605</td>\n",
       "      <td>1499_218</td>\n",
       "      <td>2018-10-06</td>\n",
       "      <td>5</td>\n",
       "      <td>1499</td>\n",
       "    </tr>\n",
       "    <tr>\n",
       "      <td>202606</td>\n",
       "      <td>1499_219</td>\n",
       "      <td>2018-12-14</td>\n",
       "      <td>20</td>\n",
       "      <td>1499</td>\n",
       "    </tr>\n",
       "  </tbody>\n",
       "</table>\n",
       "<p>202607 rows × 4 columns</p>\n",
       "</div>"
      ],
      "text/plain": [
       "              id  call_date  duration  user_id\n",
       "0         1000_0 2018-07-25         0     1000\n",
       "1         1000_1 2018-08-17         0     1000\n",
       "2         1000_2 2018-06-11         3     1000\n",
       "3         1000_3 2018-09-21        14     1000\n",
       "4         1000_4 2018-12-15         6     1000\n",
       "...          ...        ...       ...      ...\n",
       "202602  1499_215 2018-12-26         1     1499\n",
       "202603  1499_216 2018-10-18        19     1499\n",
       "202604  1499_217 2018-11-10        11     1499\n",
       "202605  1499_218 2018-10-06         5     1499\n",
       "202606  1499_219 2018-12-14        20     1499\n",
       "\n",
       "[202607 rows x 4 columns]"
      ]
     },
     "metadata": {},
     "output_type": "display_data"
    }
   ],
   "source": [
    "# Таблица \"users\"\n",
    "# изменим тип столбца \"reg_date\" и \"churn_date\" на datetime64\n",
    "users['reg_date'] = pd.to_datetime(users['reg_date'], format='%Y-%m-%d')\n",
    "users['churn_date'] = pd.to_datetime(users['churn_date'], format='%Y-%m-%d')\n",
    "\n",
    "# Таблица \"calls\"\n",
    "# изменим типы столбцов\n",
    "calls['call_date'] = pd.to_datetime(calls['call_date'], format='%Y-%m-%d')\n",
    "calls['duration'] = calls['duration'].astype('Int64')\n",
    "\n",
    "# Таблица \"messages\"\n",
    "# изменим тип столбца \"message_date\" на datetime64\n",
    "messages['message_date'] = pd.to_datetime(messages['message_date'], format='%Y-%m-%d')\n",
    "\n",
    "# Таблица \"internet\"\n",
    "# изменим тип столбца\n",
    "internet['session_date'] = pd.to_datetime(internet['session_date'], format='%Y-%m-%d')\n",
    "# удаляем столбец \"Unnamed: 0\" дубликатом индексов\n",
    "try:\n",
    "    internet = internet.drop('Unnamed: 0', 1)\n",
    "except:\n",
    "    print('already done')\n",
    "    \n",
    "display(calls)"
   ]
  },
  {
   "cell_type": "markdown",
   "metadata": {},
   "source": [
    "**Добавим столбец с месяцем для таблиц calls, messages, internet**"
   ]
  },
  {
   "cell_type": "code",
   "execution_count": 16,
   "metadata": {
    "scrolled": false
   },
   "outputs": [
    {
     "data": {
      "text/html": [
       "<div>\n",
       "<style scoped>\n",
       "    .dataframe tbody tr th:only-of-type {\n",
       "        vertical-align: middle;\n",
       "    }\n",
       "\n",
       "    .dataframe tbody tr th {\n",
       "        vertical-align: top;\n",
       "    }\n",
       "\n",
       "    .dataframe thead th {\n",
       "        text-align: right;\n",
       "    }\n",
       "</style>\n",
       "<table border=\"1\" class=\"dataframe\">\n",
       "  <thead>\n",
       "    <tr style=\"text-align: right;\">\n",
       "      <th></th>\n",
       "      <th>id</th>\n",
       "      <th>call_date</th>\n",
       "      <th>duration</th>\n",
       "      <th>user_id</th>\n",
       "      <th>month_call</th>\n",
       "    </tr>\n",
       "  </thead>\n",
       "  <tbody>\n",
       "    <tr>\n",
       "      <td>0</td>\n",
       "      <td>1000_0</td>\n",
       "      <td>2018-07-25</td>\n",
       "      <td>0</td>\n",
       "      <td>1000</td>\n",
       "      <td>7</td>\n",
       "    </tr>\n",
       "    <tr>\n",
       "      <td>1</td>\n",
       "      <td>1000_1</td>\n",
       "      <td>2018-08-17</td>\n",
       "      <td>0</td>\n",
       "      <td>1000</td>\n",
       "      <td>8</td>\n",
       "    </tr>\n",
       "    <tr>\n",
       "      <td>2</td>\n",
       "      <td>1000_2</td>\n",
       "      <td>2018-06-11</td>\n",
       "      <td>3</td>\n",
       "      <td>1000</td>\n",
       "      <td>6</td>\n",
       "    </tr>\n",
       "    <tr>\n",
       "      <td>3</td>\n",
       "      <td>1000_3</td>\n",
       "      <td>2018-09-21</td>\n",
       "      <td>14</td>\n",
       "      <td>1000</td>\n",
       "      <td>9</td>\n",
       "    </tr>\n",
       "    <tr>\n",
       "      <td>4</td>\n",
       "      <td>1000_4</td>\n",
       "      <td>2018-12-15</td>\n",
       "      <td>6</td>\n",
       "      <td>1000</td>\n",
       "      <td>12</td>\n",
       "    </tr>\n",
       "  </tbody>\n",
       "</table>\n",
       "</div>"
      ],
      "text/plain": [
       "       id  call_date  duration  user_id  month_call\n",
       "0  1000_0 2018-07-25         0     1000           7\n",
       "1  1000_1 2018-08-17         0     1000           8\n",
       "2  1000_2 2018-06-11         3     1000           6\n",
       "3  1000_3 2018-09-21        14     1000           9\n",
       "4  1000_4 2018-12-15         6     1000          12"
      ]
     },
     "metadata": {},
     "output_type": "display_data"
    },
    {
     "data": {
      "text/html": [
       "<div>\n",
       "<style scoped>\n",
       "    .dataframe tbody tr th:only-of-type {\n",
       "        vertical-align: middle;\n",
       "    }\n",
       "\n",
       "    .dataframe tbody tr th {\n",
       "        vertical-align: top;\n",
       "    }\n",
       "\n",
       "    .dataframe thead th {\n",
       "        text-align: right;\n",
       "    }\n",
       "</style>\n",
       "<table border=\"1\" class=\"dataframe\">\n",
       "  <thead>\n",
       "    <tr style=\"text-align: right;\">\n",
       "      <th></th>\n",
       "      <th>id</th>\n",
       "      <th>message_date</th>\n",
       "      <th>user_id</th>\n",
       "      <th>month_message</th>\n",
       "    </tr>\n",
       "  </thead>\n",
       "  <tbody>\n",
       "    <tr>\n",
       "      <td>0</td>\n",
       "      <td>1000_0</td>\n",
       "      <td>2018-06-27</td>\n",
       "      <td>1000</td>\n",
       "      <td>6</td>\n",
       "    </tr>\n",
       "    <tr>\n",
       "      <td>1</td>\n",
       "      <td>1000_1</td>\n",
       "      <td>2018-10-08</td>\n",
       "      <td>1000</td>\n",
       "      <td>10</td>\n",
       "    </tr>\n",
       "    <tr>\n",
       "      <td>2</td>\n",
       "      <td>1000_2</td>\n",
       "      <td>2018-08-04</td>\n",
       "      <td>1000</td>\n",
       "      <td>8</td>\n",
       "    </tr>\n",
       "    <tr>\n",
       "      <td>3</td>\n",
       "      <td>1000_3</td>\n",
       "      <td>2018-06-16</td>\n",
       "      <td>1000</td>\n",
       "      <td>6</td>\n",
       "    </tr>\n",
       "    <tr>\n",
       "      <td>4</td>\n",
       "      <td>1000_4</td>\n",
       "      <td>2018-12-05</td>\n",
       "      <td>1000</td>\n",
       "      <td>12</td>\n",
       "    </tr>\n",
       "  </tbody>\n",
       "</table>\n",
       "</div>"
      ],
      "text/plain": [
       "       id message_date  user_id  month_message\n",
       "0  1000_0   2018-06-27     1000              6\n",
       "1  1000_1   2018-10-08     1000             10\n",
       "2  1000_2   2018-08-04     1000              8\n",
       "3  1000_3   2018-06-16     1000              6\n",
       "4  1000_4   2018-12-05     1000             12"
      ]
     },
     "metadata": {},
     "output_type": "display_data"
    },
    {
     "data": {
      "text/html": [
       "<div>\n",
       "<style scoped>\n",
       "    .dataframe tbody tr th:only-of-type {\n",
       "        vertical-align: middle;\n",
       "    }\n",
       "\n",
       "    .dataframe tbody tr th {\n",
       "        vertical-align: top;\n",
       "    }\n",
       "\n",
       "    .dataframe thead th {\n",
       "        text-align: right;\n",
       "    }\n",
       "</style>\n",
       "<table border=\"1\" class=\"dataframe\">\n",
       "  <thead>\n",
       "    <tr style=\"text-align: right;\">\n",
       "      <th></th>\n",
       "      <th>id</th>\n",
       "      <th>mb_used</th>\n",
       "      <th>session_date</th>\n",
       "      <th>user_id</th>\n",
       "      <th>month_internet</th>\n",
       "    </tr>\n",
       "  </thead>\n",
       "  <tbody>\n",
       "    <tr>\n",
       "      <td>0</td>\n",
       "      <td>1000_0</td>\n",
       "      <td>112.95</td>\n",
       "      <td>2018-11-25</td>\n",
       "      <td>1000</td>\n",
       "      <td>11</td>\n",
       "    </tr>\n",
       "    <tr>\n",
       "      <td>1</td>\n",
       "      <td>1000_1</td>\n",
       "      <td>1052.81</td>\n",
       "      <td>2018-09-07</td>\n",
       "      <td>1000</td>\n",
       "      <td>9</td>\n",
       "    </tr>\n",
       "    <tr>\n",
       "      <td>2</td>\n",
       "      <td>1000_2</td>\n",
       "      <td>1197.26</td>\n",
       "      <td>2018-06-25</td>\n",
       "      <td>1000</td>\n",
       "      <td>6</td>\n",
       "    </tr>\n",
       "    <tr>\n",
       "      <td>3</td>\n",
       "      <td>1000_3</td>\n",
       "      <td>550.27</td>\n",
       "      <td>2018-08-22</td>\n",
       "      <td>1000</td>\n",
       "      <td>8</td>\n",
       "    </tr>\n",
       "    <tr>\n",
       "      <td>4</td>\n",
       "      <td>1000_4</td>\n",
       "      <td>302.56</td>\n",
       "      <td>2018-09-24</td>\n",
       "      <td>1000</td>\n",
       "      <td>9</td>\n",
       "    </tr>\n",
       "  </tbody>\n",
       "</table>\n",
       "</div>"
      ],
      "text/plain": [
       "       id  mb_used session_date  user_id  month_internet\n",
       "0  1000_0   112.95   2018-11-25     1000              11\n",
       "1  1000_1  1052.81   2018-09-07     1000               9\n",
       "2  1000_2  1197.26   2018-06-25     1000               6\n",
       "3  1000_3   550.27   2018-08-22     1000               8\n",
       "4  1000_4   302.56   2018-09-24     1000               9"
      ]
     },
     "metadata": {},
     "output_type": "display_data"
    }
   ],
   "source": [
    "calls['month_call'] = pd.DatetimeIndex(calls['call_date']).month\n",
    "display(calls.head())\n",
    "\n",
    "messages['month_message'] = pd.DatetimeIndex(messages['message_date']).month\n",
    "display(messages.head())\n",
    "\n",
    "internet['month_internet'] = pd.DatetimeIndex(internet['session_date']).month\n",
    "display(internet.head())"
   ]
  },
  {
   "cell_type": "markdown",
   "metadata": {},
   "source": [
    "Во всех таблицах кроме tariffs были столбцы с датами у которых был тип object. Я изменил на datetime64.<br>\n",
    "Удалил столбец \"Unnamed: 0\" в таблице \"internet\". Так же проверил на наличие дубликатов - не нашел."
   ]
  },
  {
   "cell_type": "markdown",
   "metadata": {},
   "source": [
    "### Посчитаем для каждого пользователя:\n",
    " - **количество сделанных звонков и израсходованных минут разговора по месяцам**"
   ]
  },
  {
   "cell_type": "code",
   "execution_count": 17,
   "metadata": {},
   "outputs": [
    {
     "data": {
      "text/html": [
       "<div>\n",
       "<style scoped>\n",
       "    .dataframe tbody tr th:only-of-type {\n",
       "        vertical-align: middle;\n",
       "    }\n",
       "\n",
       "    .dataframe tbody tr th {\n",
       "        vertical-align: top;\n",
       "    }\n",
       "\n",
       "    .dataframe thead th {\n",
       "        text-align: right;\n",
       "    }\n",
       "</style>\n",
       "<table border=\"1\" class=\"dataframe\">\n",
       "  <thead>\n",
       "    <tr style=\"text-align: right;\">\n",
       "      <th></th>\n",
       "      <th>user_id</th>\n",
       "      <th>month</th>\n",
       "      <th>sum_min</th>\n",
       "      <th>count_calls</th>\n",
       "    </tr>\n",
       "  </thead>\n",
       "  <tbody>\n",
       "    <tr>\n",
       "      <td>0</td>\n",
       "      <td>1000</td>\n",
       "      <td>5</td>\n",
       "      <td>159</td>\n",
       "      <td>22</td>\n",
       "    </tr>\n",
       "    <tr>\n",
       "      <td>1</td>\n",
       "      <td>1000</td>\n",
       "      <td>6</td>\n",
       "      <td>172</td>\n",
       "      <td>43</td>\n",
       "    </tr>\n",
       "    <tr>\n",
       "      <td>2</td>\n",
       "      <td>1000</td>\n",
       "      <td>7</td>\n",
       "      <td>340</td>\n",
       "      <td>47</td>\n",
       "    </tr>\n",
       "    <tr>\n",
       "      <td>3</td>\n",
       "      <td>1000</td>\n",
       "      <td>8</td>\n",
       "      <td>408</td>\n",
       "      <td>52</td>\n",
       "    </tr>\n",
       "    <tr>\n",
       "      <td>4</td>\n",
       "      <td>1000</td>\n",
       "      <td>9</td>\n",
       "      <td>466</td>\n",
       "      <td>58</td>\n",
       "    </tr>\n",
       "    <tr>\n",
       "      <td>...</td>\n",
       "      <td>...</td>\n",
       "      <td>...</td>\n",
       "      <td>...</td>\n",
       "      <td>...</td>\n",
       "    </tr>\n",
       "    <tr>\n",
       "      <td>3169</td>\n",
       "      <td>1498</td>\n",
       "      <td>10</td>\n",
       "      <td>247</td>\n",
       "      <td>41</td>\n",
       "    </tr>\n",
       "    <tr>\n",
       "      <td>3170</td>\n",
       "      <td>1499</td>\n",
       "      <td>9</td>\n",
       "      <td>70</td>\n",
       "      <td>9</td>\n",
       "    </tr>\n",
       "    <tr>\n",
       "      <td>3171</td>\n",
       "      <td>1499</td>\n",
       "      <td>10</td>\n",
       "      <td>449</td>\n",
       "      <td>68</td>\n",
       "    </tr>\n",
       "    <tr>\n",
       "      <td>3172</td>\n",
       "      <td>1499</td>\n",
       "      <td>11</td>\n",
       "      <td>612</td>\n",
       "      <td>74</td>\n",
       "    </tr>\n",
       "    <tr>\n",
       "      <td>3173</td>\n",
       "      <td>1499</td>\n",
       "      <td>12</td>\n",
       "      <td>492</td>\n",
       "      <td>69</td>\n",
       "    </tr>\n",
       "  </tbody>\n",
       "</table>\n",
       "<p>3174 rows × 4 columns</p>\n",
       "</div>"
      ],
      "text/plain": [
       "      user_id  month  sum_min  count_calls\n",
       "0        1000      5      159           22\n",
       "1        1000      6      172           43\n",
       "2        1000      7      340           47\n",
       "3        1000      8      408           52\n",
       "4        1000      9      466           58\n",
       "...       ...    ...      ...          ...\n",
       "3169     1498     10      247           41\n",
       "3170     1499      9       70            9\n",
       "3171     1499     10      449           68\n",
       "3172     1499     11      612           74\n",
       "3173     1499     12      492           69\n",
       "\n",
       "[3174 rows x 4 columns]"
      ]
     },
     "metadata": {},
     "output_type": "display_data"
    }
   ],
   "source": [
    "calls1 = calls.pivot_table(index=['user_id', 'month_call'], values='duration', aggfunc=['sum', 'count']).reset_index()\n",
    "calls1.columns = ['user_id', 'month', 'sum_min', 'count_calls']\n",
    "display(calls1)"
   ]
  },
  {
   "cell_type": "markdown",
   "metadata": {},
   "source": [
    " - **количество отправленных сообщений по месяцам**"
   ]
  },
  {
   "cell_type": "code",
   "execution_count": 18,
   "metadata": {},
   "outputs": [
    {
     "data": {
      "text/html": [
       "<div>\n",
       "<style scoped>\n",
       "    .dataframe tbody tr th:only-of-type {\n",
       "        vertical-align: middle;\n",
       "    }\n",
       "\n",
       "    .dataframe tbody tr th {\n",
       "        vertical-align: top;\n",
       "    }\n",
       "\n",
       "    .dataframe thead th {\n",
       "        text-align: right;\n",
       "    }\n",
       "</style>\n",
       "<table border=\"1\" class=\"dataframe\">\n",
       "  <thead>\n",
       "    <tr style=\"text-align: right;\">\n",
       "      <th></th>\n",
       "      <th>user_id</th>\n",
       "      <th>month</th>\n",
       "      <th>count_sms</th>\n",
       "    </tr>\n",
       "  </thead>\n",
       "  <tbody>\n",
       "    <tr>\n",
       "      <td>0</td>\n",
       "      <td>1000</td>\n",
       "      <td>5</td>\n",
       "      <td>22</td>\n",
       "    </tr>\n",
       "    <tr>\n",
       "      <td>1</td>\n",
       "      <td>1000</td>\n",
       "      <td>6</td>\n",
       "      <td>60</td>\n",
       "    </tr>\n",
       "    <tr>\n",
       "      <td>2</td>\n",
       "      <td>1000</td>\n",
       "      <td>7</td>\n",
       "      <td>75</td>\n",
       "    </tr>\n",
       "    <tr>\n",
       "      <td>3</td>\n",
       "      <td>1000</td>\n",
       "      <td>8</td>\n",
       "      <td>81</td>\n",
       "    </tr>\n",
       "    <tr>\n",
       "      <td>4</td>\n",
       "      <td>1000</td>\n",
       "      <td>9</td>\n",
       "      <td>57</td>\n",
       "    </tr>\n",
       "    <tr>\n",
       "      <td>...</td>\n",
       "      <td>...</td>\n",
       "      <td>...</td>\n",
       "      <td>...</td>\n",
       "    </tr>\n",
       "    <tr>\n",
       "      <td>2712</td>\n",
       "      <td>1498</td>\n",
       "      <td>10</td>\n",
       "      <td>42</td>\n",
       "    </tr>\n",
       "    <tr>\n",
       "      <td>2713</td>\n",
       "      <td>1499</td>\n",
       "      <td>9</td>\n",
       "      <td>11</td>\n",
       "    </tr>\n",
       "    <tr>\n",
       "      <td>2714</td>\n",
       "      <td>1499</td>\n",
       "      <td>10</td>\n",
       "      <td>48</td>\n",
       "    </tr>\n",
       "    <tr>\n",
       "      <td>2715</td>\n",
       "      <td>1499</td>\n",
       "      <td>11</td>\n",
       "      <td>59</td>\n",
       "    </tr>\n",
       "    <tr>\n",
       "      <td>2716</td>\n",
       "      <td>1499</td>\n",
       "      <td>12</td>\n",
       "      <td>66</td>\n",
       "    </tr>\n",
       "  </tbody>\n",
       "</table>\n",
       "<p>2717 rows × 3 columns</p>\n",
       "</div>"
      ],
      "text/plain": [
       "      user_id  month  count_sms\n",
       "0        1000      5         22\n",
       "1        1000      6         60\n",
       "2        1000      7         75\n",
       "3        1000      8         81\n",
       "4        1000      9         57\n",
       "...       ...    ...        ...\n",
       "2712     1498     10         42\n",
       "2713     1499      9         11\n",
       "2714     1499     10         48\n",
       "2715     1499     11         59\n",
       "2716     1499     12         66\n",
       "\n",
       "[2717 rows x 3 columns]"
      ]
     },
     "metadata": {},
     "output_type": "display_data"
    }
   ],
   "source": [
    "messages1 = messages.pivot_table(index=['user_id', 'month_message'], values='id', aggfunc='count').reset_index()\n",
    "messages1.columns = ['user_id', 'month', 'count_sms']\n",
    "display(messages1)"
   ]
  },
  {
   "cell_type": "markdown",
   "metadata": {},
   "source": [
    " - **объем израсходованного интернет-трафика по месяцам**"
   ]
  },
  {
   "cell_type": "code",
   "execution_count": 19,
   "metadata": {
    "scrolled": false
   },
   "outputs": [
    {
     "data": {
      "text/html": [
       "<div>\n",
       "<style scoped>\n",
       "    .dataframe tbody tr th:only-of-type {\n",
       "        vertical-align: middle;\n",
       "    }\n",
       "\n",
       "    .dataframe tbody tr th {\n",
       "        vertical-align: top;\n",
       "    }\n",
       "\n",
       "    .dataframe thead th {\n",
       "        text-align: right;\n",
       "    }\n",
       "</style>\n",
       "<table border=\"1\" class=\"dataframe\">\n",
       "  <thead>\n",
       "    <tr style=\"text-align: right;\">\n",
       "      <th></th>\n",
       "      <th>user_id</th>\n",
       "      <th>month</th>\n",
       "      <th>mb_used</th>\n",
       "    </tr>\n",
       "  </thead>\n",
       "  <tbody>\n",
       "    <tr>\n",
       "      <td>0</td>\n",
       "      <td>1000</td>\n",
       "      <td>5</td>\n",
       "      <td>2253.49</td>\n",
       "    </tr>\n",
       "    <tr>\n",
       "      <td>1</td>\n",
       "      <td>1000</td>\n",
       "      <td>6</td>\n",
       "      <td>23233.77</td>\n",
       "    </tr>\n",
       "    <tr>\n",
       "      <td>2</td>\n",
       "      <td>1000</td>\n",
       "      <td>7</td>\n",
       "      <td>14003.64</td>\n",
       "    </tr>\n",
       "    <tr>\n",
       "      <td>3</td>\n",
       "      <td>1000</td>\n",
       "      <td>8</td>\n",
       "      <td>14055.93</td>\n",
       "    </tr>\n",
       "    <tr>\n",
       "      <td>4</td>\n",
       "      <td>1000</td>\n",
       "      <td>9</td>\n",
       "      <td>14568.91</td>\n",
       "    </tr>\n",
       "    <tr>\n",
       "      <td>...</td>\n",
       "      <td>...</td>\n",
       "      <td>...</td>\n",
       "      <td>...</td>\n",
       "    </tr>\n",
       "    <tr>\n",
       "      <td>3198</td>\n",
       "      <td>1498</td>\n",
       "      <td>10</td>\n",
       "      <td>20579.36</td>\n",
       "    </tr>\n",
       "    <tr>\n",
       "      <td>3199</td>\n",
       "      <td>1499</td>\n",
       "      <td>9</td>\n",
       "      <td>1845.75</td>\n",
       "    </tr>\n",
       "    <tr>\n",
       "      <td>3200</td>\n",
       "      <td>1499</td>\n",
       "      <td>10</td>\n",
       "      <td>17788.51</td>\n",
       "    </tr>\n",
       "    <tr>\n",
       "      <td>3201</td>\n",
       "      <td>1499</td>\n",
       "      <td>11</td>\n",
       "      <td>17963.31</td>\n",
       "    </tr>\n",
       "    <tr>\n",
       "      <td>3202</td>\n",
       "      <td>1499</td>\n",
       "      <td>12</td>\n",
       "      <td>13055.58</td>\n",
       "    </tr>\n",
       "  </tbody>\n",
       "</table>\n",
       "<p>3203 rows × 3 columns</p>\n",
       "</div>"
      ],
      "text/plain": [
       "      user_id  month   mb_used\n",
       "0        1000      5   2253.49\n",
       "1        1000      6  23233.77\n",
       "2        1000      7  14003.64\n",
       "3        1000      8  14055.93\n",
       "4        1000      9  14568.91\n",
       "...       ...    ...       ...\n",
       "3198     1498     10  20579.36\n",
       "3199     1499      9   1845.75\n",
       "3200     1499     10  17788.51\n",
       "3201     1499     11  17963.31\n",
       "3202     1499     12  13055.58\n",
       "\n",
       "[3203 rows x 3 columns]"
      ]
     },
     "metadata": {},
     "output_type": "display_data"
    }
   ],
   "source": [
    "internet1 = internet.pivot_table(index=['user_id', 'month_internet'], values='mb_used', aggfunc='sum').reset_index()\n",
    "internet1.columns = ['user_id', 'month', 'mb_used']\n",
    "display(internet1)"
   ]
  },
  {
   "cell_type": "markdown",
   "metadata": {},
   "source": [
    " - **помесячную выручку с каждого пользователя (вычтите бесплатный лимит из суммарного количества звонков, сообщений и интернет-трафика; остаток умножьте на значение из тарифного плана; прибавьте абонентскую плату, соответствующую тарифному плану)**"
   ]
  },
  {
   "cell_type": "markdown",
   "metadata": {},
   "source": [
    "Объединим таблицы в одну и обработаем данные, уберя пропуски и приведя к нужному типу"
   ]
  },
  {
   "cell_type": "code",
   "execution_count": 20,
   "metadata": {},
   "outputs": [],
   "source": [
    "# создаём таблицу только с user_id и tariff\n",
    "users_and_tarrif = users.loc[:, ['user_id', 'tariff']]"
   ]
  },
  {
   "cell_type": "code",
   "execution_count": 21,
   "metadata": {
    "scrolled": false
   },
   "outputs": [
    {
     "data": {
      "text/html": [
       "<div>\n",
       "<style scoped>\n",
       "    .dataframe tbody tr th:only-of-type {\n",
       "        vertical-align: middle;\n",
       "    }\n",
       "\n",
       "    .dataframe tbody tr th {\n",
       "        vertical-align: top;\n",
       "    }\n",
       "\n",
       "    .dataframe thead th {\n",
       "        text-align: right;\n",
       "    }\n",
       "</style>\n",
       "<table border=\"1\" class=\"dataframe\">\n",
       "  <thead>\n",
       "    <tr style=\"text-align: right;\">\n",
       "      <th></th>\n",
       "      <th>user_id</th>\n",
       "      <th>month</th>\n",
       "      <th>sum_min</th>\n",
       "      <th>count_calls</th>\n",
       "      <th>count_sms</th>\n",
       "      <th>mb_used</th>\n",
       "      <th>tariff</th>\n",
       "    </tr>\n",
       "  </thead>\n",
       "  <tbody>\n",
       "    <tr>\n",
       "      <td>0</td>\n",
       "      <td>1000</td>\n",
       "      <td>5</td>\n",
       "      <td>159</td>\n",
       "      <td>22</td>\n",
       "      <td>22</td>\n",
       "      <td>2253.49</td>\n",
       "      <td>ultra</td>\n",
       "    </tr>\n",
       "    <tr>\n",
       "      <td>1</td>\n",
       "      <td>1000</td>\n",
       "      <td>6</td>\n",
       "      <td>172</td>\n",
       "      <td>43</td>\n",
       "      <td>60</td>\n",
       "      <td>23233.77</td>\n",
       "      <td>ultra</td>\n",
       "    </tr>\n",
       "    <tr>\n",
       "      <td>2</td>\n",
       "      <td>1000</td>\n",
       "      <td>7</td>\n",
       "      <td>340</td>\n",
       "      <td>47</td>\n",
       "      <td>75</td>\n",
       "      <td>14003.64</td>\n",
       "      <td>ultra</td>\n",
       "    </tr>\n",
       "    <tr>\n",
       "      <td>3</td>\n",
       "      <td>1000</td>\n",
       "      <td>8</td>\n",
       "      <td>408</td>\n",
       "      <td>52</td>\n",
       "      <td>81</td>\n",
       "      <td>14055.93</td>\n",
       "      <td>ultra</td>\n",
       "    </tr>\n",
       "    <tr>\n",
       "      <td>4</td>\n",
       "      <td>1000</td>\n",
       "      <td>9</td>\n",
       "      <td>466</td>\n",
       "      <td>58</td>\n",
       "      <td>57</td>\n",
       "      <td>14568.91</td>\n",
       "      <td>ultra</td>\n",
       "    </tr>\n",
       "    <tr>\n",
       "      <td>...</td>\n",
       "      <td>...</td>\n",
       "      <td>...</td>\n",
       "      <td>...</td>\n",
       "      <td>...</td>\n",
       "      <td>...</td>\n",
       "      <td>...</td>\n",
       "      <td>...</td>\n",
       "    </tr>\n",
       "    <tr>\n",
       "      <td>3211</td>\n",
       "      <td>1489</td>\n",
       "      <td>10</td>\n",
       "      <td>0</td>\n",
       "      <td>0</td>\n",
       "      <td>21</td>\n",
       "      <td>19559.44</td>\n",
       "      <td>smart</td>\n",
       "    </tr>\n",
       "    <tr>\n",
       "      <td>3212</td>\n",
       "      <td>1489</td>\n",
       "      <td>11</td>\n",
       "      <td>0</td>\n",
       "      <td>0</td>\n",
       "      <td>20</td>\n",
       "      <td>17491.56</td>\n",
       "      <td>smart</td>\n",
       "    </tr>\n",
       "    <tr>\n",
       "      <td>3213</td>\n",
       "      <td>1489</td>\n",
       "      <td>12</td>\n",
       "      <td>0</td>\n",
       "      <td>0</td>\n",
       "      <td>35</td>\n",
       "      <td>17322.51</td>\n",
       "      <td>smart</td>\n",
       "    </tr>\n",
       "    <tr>\n",
       "      <td>3214</td>\n",
       "      <td>1128</td>\n",
       "      <td>NaN</td>\n",
       "      <td>0</td>\n",
       "      <td>0</td>\n",
       "      <td>0</td>\n",
       "      <td>0.00</td>\n",
       "      <td>ultra</td>\n",
       "    </tr>\n",
       "    <tr>\n",
       "      <td>3215</td>\n",
       "      <td>1371</td>\n",
       "      <td>NaN</td>\n",
       "      <td>0</td>\n",
       "      <td>0</td>\n",
       "      <td>0</td>\n",
       "      <td>0.00</td>\n",
       "      <td>smart</td>\n",
       "    </tr>\n",
       "  </tbody>\n",
       "</table>\n",
       "<p>3216 rows × 7 columns</p>\n",
       "</div>"
      ],
      "text/plain": [
       "      user_id  month  sum_min  count_calls  count_sms   mb_used tariff\n",
       "0        1000      5      159           22         22   2253.49  ultra\n",
       "1        1000      6      172           43         60  23233.77  ultra\n",
       "2        1000      7      340           47         75  14003.64  ultra\n",
       "3        1000      8      408           52         81  14055.93  ultra\n",
       "4        1000      9      466           58         57  14568.91  ultra\n",
       "...       ...    ...      ...          ...        ...       ...    ...\n",
       "3211     1489     10        0            0         21  19559.44  smart\n",
       "3212     1489     11        0            0         20  17491.56  smart\n",
       "3213     1489     12        0            0         35  17322.51  smart\n",
       "3214     1128    NaN        0            0          0      0.00  ultra\n",
       "3215     1371    NaN        0            0          0      0.00  smart\n",
       "\n",
       "[3216 rows x 7 columns]"
      ]
     },
     "execution_count": 21,
     "metadata": {},
     "output_type": "execute_result"
    }
   ],
   "source": [
    "# создадим соединенную таблицу\n",
    "general = calls1.merge(messages1, on=['user_id', 'month'], how='outer')\n",
    "general = general.merge(internet1, on=['user_id', 'month'], how='outer')\n",
    "general = general.merge(users_and_tarrif, on='user_id', how='outer')\n",
    "\n",
    "# заполним пропуски\n",
    "general['sum_min'] = general['sum_min'].fillna(0)\n",
    "general['count_calls'] = general['count_calls'].fillna(0)\n",
    "general['count_sms'] = general['count_sms'].fillna(0)\n",
    "general['mb_used'] = general['mb_used'].fillna(0)\n",
    "\n",
    "# приводим к нужному типу\n",
    "general['count_calls'] = general['count_calls'].astype('Int64')\n",
    "general['count_sms'] = general['count_sms'].astype('Int64')\n",
    "general['month'] = general['month'].astype('Int64')\n",
    "general"
   ]
  },
  {
   "cell_type": "code",
   "execution_count": 22,
   "metadata": {
    "scrolled": true
   },
   "outputs": [
    {
     "data": {
      "text/plain": [
       "(500,)"
      ]
     },
     "execution_count": 22,
     "metadata": {},
     "output_type": "execute_result"
    }
   ],
   "source": [
    "general.user_id.unique().shape"
   ]
  },
  {
   "cell_type": "code",
   "execution_count": 23,
   "metadata": {
    "scrolled": true
   },
   "outputs": [],
   "source": [
    "# Переводим мегабайты в гигабайты\n",
    "general['mb_used'] = general['mb_used'] / 1024"
   ]
  },
  {
   "cell_type": "code",
   "execution_count": 24,
   "metadata": {},
   "outputs": [
    {
     "data": {
      "text/html": [
       "<div>\n",
       "<style scoped>\n",
       "    .dataframe tbody tr th:only-of-type {\n",
       "        vertical-align: middle;\n",
       "    }\n",
       "\n",
       "    .dataframe tbody tr th {\n",
       "        vertical-align: top;\n",
       "    }\n",
       "\n",
       "    .dataframe thead th {\n",
       "        text-align: right;\n",
       "    }\n",
       "</style>\n",
       "<table border=\"1\" class=\"dataframe\">\n",
       "  <thead>\n",
       "    <tr style=\"text-align: right;\">\n",
       "      <th></th>\n",
       "      <th>user_id</th>\n",
       "      <th>month</th>\n",
       "      <th>sum_min</th>\n",
       "      <th>count_calls</th>\n",
       "      <th>count_sms</th>\n",
       "      <th>gb_used</th>\n",
       "      <th>tariff</th>\n",
       "    </tr>\n",
       "  </thead>\n",
       "  <tbody>\n",
       "    <tr>\n",
       "      <td>0</td>\n",
       "      <td>1000</td>\n",
       "      <td>5</td>\n",
       "      <td>159</td>\n",
       "      <td>22</td>\n",
       "      <td>22</td>\n",
       "      <td>3</td>\n",
       "      <td>ultra</td>\n",
       "    </tr>\n",
       "    <tr>\n",
       "      <td>1</td>\n",
       "      <td>1000</td>\n",
       "      <td>6</td>\n",
       "      <td>172</td>\n",
       "      <td>43</td>\n",
       "      <td>60</td>\n",
       "      <td>23</td>\n",
       "      <td>ultra</td>\n",
       "    </tr>\n",
       "    <tr>\n",
       "      <td>2</td>\n",
       "      <td>1000</td>\n",
       "      <td>7</td>\n",
       "      <td>340</td>\n",
       "      <td>47</td>\n",
       "      <td>75</td>\n",
       "      <td>14</td>\n",
       "      <td>ultra</td>\n",
       "    </tr>\n",
       "    <tr>\n",
       "      <td>3</td>\n",
       "      <td>1000</td>\n",
       "      <td>8</td>\n",
       "      <td>408</td>\n",
       "      <td>52</td>\n",
       "      <td>81</td>\n",
       "      <td>14</td>\n",
       "      <td>ultra</td>\n",
       "    </tr>\n",
       "    <tr>\n",
       "      <td>4</td>\n",
       "      <td>1000</td>\n",
       "      <td>9</td>\n",
       "      <td>466</td>\n",
       "      <td>58</td>\n",
       "      <td>57</td>\n",
       "      <td>15</td>\n",
       "      <td>ultra</td>\n",
       "    </tr>\n",
       "    <tr>\n",
       "      <td>...</td>\n",
       "      <td>...</td>\n",
       "      <td>...</td>\n",
       "      <td>...</td>\n",
       "      <td>...</td>\n",
       "      <td>...</td>\n",
       "      <td>...</td>\n",
       "      <td>...</td>\n",
       "    </tr>\n",
       "    <tr>\n",
       "      <td>3211</td>\n",
       "      <td>1489</td>\n",
       "      <td>10</td>\n",
       "      <td>0</td>\n",
       "      <td>0</td>\n",
       "      <td>21</td>\n",
       "      <td>20</td>\n",
       "      <td>smart</td>\n",
       "    </tr>\n",
       "    <tr>\n",
       "      <td>3212</td>\n",
       "      <td>1489</td>\n",
       "      <td>11</td>\n",
       "      <td>0</td>\n",
       "      <td>0</td>\n",
       "      <td>20</td>\n",
       "      <td>18</td>\n",
       "      <td>smart</td>\n",
       "    </tr>\n",
       "    <tr>\n",
       "      <td>3213</td>\n",
       "      <td>1489</td>\n",
       "      <td>12</td>\n",
       "      <td>0</td>\n",
       "      <td>0</td>\n",
       "      <td>35</td>\n",
       "      <td>17</td>\n",
       "      <td>smart</td>\n",
       "    </tr>\n",
       "    <tr>\n",
       "      <td>3214</td>\n",
       "      <td>1128</td>\n",
       "      <td>NaN</td>\n",
       "      <td>0</td>\n",
       "      <td>0</td>\n",
       "      <td>0</td>\n",
       "      <td>0</td>\n",
       "      <td>ultra</td>\n",
       "    </tr>\n",
       "    <tr>\n",
       "      <td>3215</td>\n",
       "      <td>1371</td>\n",
       "      <td>NaN</td>\n",
       "      <td>0</td>\n",
       "      <td>0</td>\n",
       "      <td>0</td>\n",
       "      <td>0</td>\n",
       "      <td>smart</td>\n",
       "    </tr>\n",
       "  </tbody>\n",
       "</table>\n",
       "<p>3216 rows × 7 columns</p>\n",
       "</div>"
      ],
      "text/plain": [
       "      user_id  month  sum_min  count_calls  count_sms  gb_used tariff\n",
       "0        1000      5      159           22         22        3  ultra\n",
       "1        1000      6      172           43         60       23  ultra\n",
       "2        1000      7      340           47         75       14  ultra\n",
       "3        1000      8      408           52         81       14  ultra\n",
       "4        1000      9      466           58         57       15  ultra\n",
       "...       ...    ...      ...          ...        ...      ...    ...\n",
       "3211     1489     10        0            0         21       20  smart\n",
       "3212     1489     11        0            0         20       18  smart\n",
       "3213     1489     12        0            0         35       17  smart\n",
       "3214     1128    NaN        0            0          0        0  ultra\n",
       "3215     1371    NaN        0            0          0        0  smart\n",
       "\n",
       "[3216 rows x 7 columns]"
      ]
     },
     "metadata": {},
     "output_type": "display_data"
    }
   ],
   "source": [
    "# округлим в большую сторону потраченный за месяц трафик \n",
    "general['mb_used'] = (general['mb_used'].apply(np.ceil)).astype('Int64')\n",
    "\n",
    "# переименуем столбец 'mb_used' в 'gb_used'\n",
    "general.rename(columns={'mb_used': 'gb_used'}, inplace=True)\n",
    "display(general)"
   ]
  },
  {
   "cell_type": "markdown",
   "metadata": {},
   "source": [
    "Теперь создадим функцию подсчёта"
   ]
  },
  {
   "cell_type": "code",
   "execution_count": 25,
   "metadata": {},
   "outputs": [],
   "source": [
    "def money(data):\n",
    "    \n",
    "    if data['tariff'] == 'ultra':\n",
    "        sum_min = 0\n",
    "        sum_sms = 0\n",
    "        sum_internet = 0\n",
    "        \n",
    "        minutes = data['sum_min'] - 3000\n",
    "        if minutes > 0:\n",
    "            sum_min = minutes * 1\n",
    "\n",
    "        sms = data['count_sms'] - 1000\n",
    "        if sms > 0:\n",
    "            sum_sms = sms * 1\n",
    "\n",
    "        internets = data['gb_used'] - 30\n",
    "        if internets > 0:\n",
    "            sum_internet = internets * 150\n",
    "\n",
    "        return (sum_min + sum_sms + sum_internet + 1950)\n",
    "    elif data['tariff'] == 'smart':\n",
    "        sum_min = 0\n",
    "        sum_sms = 0\n",
    "        sum_internet = 0\n",
    "        \n",
    "        minutes = data['sum_min'] - 500\n",
    "        if minutes > 0:\n",
    "            sum_min = minutes * 3\n",
    "\n",
    "        sms = data['count_sms'] - 50\n",
    "        if sms > 0:\n",
    "            sum_sms = sms * 3\n",
    "\n",
    "        internets = data['gb_used'] - 15\n",
    "        if internets > 0:\n",
    "            sum_internet = internets * 200\n",
    "\n",
    "        return (sum_min + sum_sms + sum_internet + 550)"
   ]
  },
  {
   "cell_type": "markdown",
   "metadata": {},
   "source": [
    "Применяем метод"
   ]
  },
  {
   "cell_type": "code",
   "execution_count": 26,
   "metadata": {
    "scrolled": false
   },
   "outputs": [],
   "source": [
    "general['cost'] = general.apply(money, axis=1)"
   ]
  },
  {
   "cell_type": "code",
   "execution_count": 27,
   "metadata": {},
   "outputs": [
    {
     "data": {
      "text/html": [
       "<div>\n",
       "<style scoped>\n",
       "    .dataframe tbody tr th:only-of-type {\n",
       "        vertical-align: middle;\n",
       "    }\n",
       "\n",
       "    .dataframe tbody tr th {\n",
       "        vertical-align: top;\n",
       "    }\n",
       "\n",
       "    .dataframe thead th {\n",
       "        text-align: right;\n",
       "    }\n",
       "</style>\n",
       "<table border=\"1\" class=\"dataframe\">\n",
       "  <thead>\n",
       "    <tr style=\"text-align: right;\">\n",
       "      <th></th>\n",
       "      <th>user_id</th>\n",
       "      <th>month</th>\n",
       "      <th>sum_min</th>\n",
       "      <th>count_calls</th>\n",
       "      <th>count_sms</th>\n",
       "      <th>gb_used</th>\n",
       "      <th>tariff</th>\n",
       "      <th>cost</th>\n",
       "    </tr>\n",
       "  </thead>\n",
       "  <tbody>\n",
       "    <tr>\n",
       "      <td>0</td>\n",
       "      <td>1000</td>\n",
       "      <td>5</td>\n",
       "      <td>159</td>\n",
       "      <td>22</td>\n",
       "      <td>22</td>\n",
       "      <td>3</td>\n",
       "      <td>ultra</td>\n",
       "      <td>1950</td>\n",
       "    </tr>\n",
       "    <tr>\n",
       "      <td>1</td>\n",
       "      <td>1000</td>\n",
       "      <td>6</td>\n",
       "      <td>172</td>\n",
       "      <td>43</td>\n",
       "      <td>60</td>\n",
       "      <td>23</td>\n",
       "      <td>ultra</td>\n",
       "      <td>1950</td>\n",
       "    </tr>\n",
       "    <tr>\n",
       "      <td>2</td>\n",
       "      <td>1000</td>\n",
       "      <td>7</td>\n",
       "      <td>340</td>\n",
       "      <td>47</td>\n",
       "      <td>75</td>\n",
       "      <td>14</td>\n",
       "      <td>ultra</td>\n",
       "      <td>1950</td>\n",
       "    </tr>\n",
       "    <tr>\n",
       "      <td>3</td>\n",
       "      <td>1000</td>\n",
       "      <td>8</td>\n",
       "      <td>408</td>\n",
       "      <td>52</td>\n",
       "      <td>81</td>\n",
       "      <td>14</td>\n",
       "      <td>ultra</td>\n",
       "      <td>1950</td>\n",
       "    </tr>\n",
       "    <tr>\n",
       "      <td>4</td>\n",
       "      <td>1000</td>\n",
       "      <td>9</td>\n",
       "      <td>466</td>\n",
       "      <td>58</td>\n",
       "      <td>57</td>\n",
       "      <td>15</td>\n",
       "      <td>ultra</td>\n",
       "      <td>1950</td>\n",
       "    </tr>\n",
       "    <tr>\n",
       "      <td>...</td>\n",
       "      <td>...</td>\n",
       "      <td>...</td>\n",
       "      <td>...</td>\n",
       "      <td>...</td>\n",
       "      <td>...</td>\n",
       "      <td>...</td>\n",
       "      <td>...</td>\n",
       "      <td>...</td>\n",
       "    </tr>\n",
       "    <tr>\n",
       "      <td>3211</td>\n",
       "      <td>1489</td>\n",
       "      <td>10</td>\n",
       "      <td>0</td>\n",
       "      <td>0</td>\n",
       "      <td>21</td>\n",
       "      <td>20</td>\n",
       "      <td>smart</td>\n",
       "      <td>1550</td>\n",
       "    </tr>\n",
       "    <tr>\n",
       "      <td>3212</td>\n",
       "      <td>1489</td>\n",
       "      <td>11</td>\n",
       "      <td>0</td>\n",
       "      <td>0</td>\n",
       "      <td>20</td>\n",
       "      <td>18</td>\n",
       "      <td>smart</td>\n",
       "      <td>1150</td>\n",
       "    </tr>\n",
       "    <tr>\n",
       "      <td>3213</td>\n",
       "      <td>1489</td>\n",
       "      <td>12</td>\n",
       "      <td>0</td>\n",
       "      <td>0</td>\n",
       "      <td>35</td>\n",
       "      <td>17</td>\n",
       "      <td>smart</td>\n",
       "      <td>950</td>\n",
       "    </tr>\n",
       "    <tr>\n",
       "      <td>3214</td>\n",
       "      <td>1128</td>\n",
       "      <td>NaN</td>\n",
       "      <td>0</td>\n",
       "      <td>0</td>\n",
       "      <td>0</td>\n",
       "      <td>0</td>\n",
       "      <td>ultra</td>\n",
       "      <td>1950</td>\n",
       "    </tr>\n",
       "    <tr>\n",
       "      <td>3215</td>\n",
       "      <td>1371</td>\n",
       "      <td>NaN</td>\n",
       "      <td>0</td>\n",
       "      <td>0</td>\n",
       "      <td>0</td>\n",
       "      <td>0</td>\n",
       "      <td>smart</td>\n",
       "      <td>550</td>\n",
       "    </tr>\n",
       "  </tbody>\n",
       "</table>\n",
       "<p>3216 rows × 8 columns</p>\n",
       "</div>"
      ],
      "text/plain": [
       "      user_id  month  sum_min  count_calls  count_sms  gb_used tariff  cost\n",
       "0        1000      5      159           22         22        3  ultra  1950\n",
       "1        1000      6      172           43         60       23  ultra  1950\n",
       "2        1000      7      340           47         75       14  ultra  1950\n",
       "3        1000      8      408           52         81       14  ultra  1950\n",
       "4        1000      9      466           58         57       15  ultra  1950\n",
       "...       ...    ...      ...          ...        ...      ...    ...   ...\n",
       "3211     1489     10        0            0         21       20  smart  1550\n",
       "3212     1489     11        0            0         20       18  smart  1150\n",
       "3213     1489     12        0            0         35       17  smart   950\n",
       "3214     1128    NaN        0            0          0        0  ultra  1950\n",
       "3215     1371    NaN        0            0          0        0  smart   550\n",
       "\n",
       "[3216 rows x 8 columns]"
      ]
     },
     "execution_count": 27,
     "metadata": {},
     "output_type": "execute_result"
    }
   ],
   "source": [
    "general"
   ]
  },
  {
   "cell_type": "markdown",
   "metadata": {},
   "source": [
    "## Проанализируем данные\n",
    "\n",
    "Опишите поведение клиентов оператора, исходя из выборки. Сколько минут разговора, сколько сообщений и какой объём интернет-трафика требуется пользователям каждого тарифа в месяц? Посчитайте среднее количество, дисперсию и стандартное отклонение. Постройте гистограммы. Опишите распределения."
   ]
  },
  {
   "cell_type": "code",
   "execution_count": 28,
   "metadata": {},
   "outputs": [],
   "source": [
    "# создадим две раздельные таблицы\n",
    "general_smart = general[general['tariff'] == 'smart']\n",
    "general_ultra = general[general['tariff'] == 'ultra']"
   ]
  },
  {
   "cell_type": "code",
   "execution_count": 29,
   "metadata": {},
   "outputs": [
    {
     "data": {
      "text/html": [
       "<div>\n",
       "<style scoped>\n",
       "    .dataframe tbody tr th:only-of-type {\n",
       "        vertical-align: middle;\n",
       "    }\n",
       "\n",
       "    .dataframe tbody tr th {\n",
       "        vertical-align: top;\n",
       "    }\n",
       "\n",
       "    .dataframe thead th {\n",
       "        text-align: right;\n",
       "    }\n",
       "</style>\n",
       "<table border=\"1\" class=\"dataframe\">\n",
       "  <thead>\n",
       "    <tr style=\"text-align: right;\">\n",
       "      <th></th>\n",
       "      <th>smart</th>\n",
       "      <th>ultra</th>\n",
       "    </tr>\n",
       "    <tr>\n",
       "      <th>month</th>\n",
       "      <th></th>\n",
       "      <th></th>\n",
       "    </tr>\n",
       "  </thead>\n",
       "  <tbody>\n",
       "    <tr>\n",
       "      <td>1</td>\n",
       "      <td>24525</td>\n",
       "      <td>17550</td>\n",
       "    </tr>\n",
       "    <tr>\n",
       "      <td>2</td>\n",
       "      <td>48001</td>\n",
       "      <td>47400</td>\n",
       "    </tr>\n",
       "    <tr>\n",
       "      <td>3</td>\n",
       "      <td>89676</td>\n",
       "      <td>74550</td>\n",
       "    </tr>\n",
       "    <tr>\n",
       "      <td>4</td>\n",
       "      <td>107866</td>\n",
       "      <td>110100</td>\n",
       "    </tr>\n",
       "    <tr>\n",
       "      <td>5</td>\n",
       "      <td>168849</td>\n",
       "      <td>138000</td>\n",
       "    </tr>\n",
       "    <tr>\n",
       "      <td>6</td>\n",
       "      <td>197459</td>\n",
       "      <td>171300</td>\n",
       "    </tr>\n",
       "    <tr>\n",
       "      <td>7</td>\n",
       "      <td>246014</td>\n",
       "      <td>192750</td>\n",
       "    </tr>\n",
       "    <tr>\n",
       "      <td>8</td>\n",
       "      <td>310340</td>\n",
       "      <td>222900</td>\n",
       "    </tr>\n",
       "    <tr>\n",
       "      <td>9</td>\n",
       "      <td>324986</td>\n",
       "      <td>232800</td>\n",
       "    </tr>\n",
       "    <tr>\n",
       "      <td>10</td>\n",
       "      <td>401267</td>\n",
       "      <td>254100</td>\n",
       "    </tr>\n",
       "    <tr>\n",
       "      <td>11</td>\n",
       "      <td>424403</td>\n",
       "      <td>280350</td>\n",
       "    </tr>\n",
       "    <tr>\n",
       "      <td>12</td>\n",
       "      <td>531965</td>\n",
       "      <td>297300</td>\n",
       "    </tr>\n",
       "  </tbody>\n",
       "</table>\n",
       "</div>"
      ],
      "text/plain": [
       "        smart   ultra\n",
       "month                \n",
       "1       24525   17550\n",
       "2       48001   47400\n",
       "3       89676   74550\n",
       "4      107866  110100\n",
       "5      168849  138000\n",
       "6      197459  171300\n",
       "7      246014  192750\n",
       "8      310340  222900\n",
       "9      324986  232800\n",
       "10     401267  254100\n",
       "11     424403  280350\n",
       "12     531965  297300"
      ]
     },
     "execution_count": 29,
     "metadata": {},
     "output_type": "execute_result"
    }
   ],
   "source": [
    "data = {'smart' : general_smart.groupby('month')['cost'].sum(), \n",
    "       'ultra' : general_ultra.groupby('month')['cost'].sum()}\n",
    "pd.DataFrame(data)"
   ]
  },
  {
   "cell_type": "markdown",
   "metadata": {},
   "source": [
    "Можно пронаблюдать, что по обоим тарифам растёт выручка, но по тарифу \"Смарт\" она растёт быстрее"
   ]
  },
  {
   "cell_type": "markdown",
   "metadata": {},
   "source": [
    "### Минуты"
   ]
  },
  {
   "cell_type": "code",
   "execution_count": 30,
   "metadata": {
    "scrolled": true
   },
   "outputs": [
    {
     "data": {
      "image/png": "[encoded data removed]",
      "text/plain": [
       "<Figure size 864x360 with 2 Axes>"
      ]
     },
     "metadata": {
      "needs_background": "light"
     },
     "output_type": "display_data"
    }
   ],
   "source": [
    "# среднее колличество \n",
    "fig, axes = plt.subplots(nrows = 1, ncols = 2, figsize = (12,5))\n",
    "plt.subplot(1,2,1)\n",
    "general_smart.boxplot(column='sum_min')\n",
    "plt.subplot(1,2,2)\n",
    "general_ultra.boxplot(column='sum_min')\n",
    "plt.show()"
   ]
  },
  {
   "cell_type": "code",
   "execution_count": 31,
   "metadata": {},
   "outputs": [
    {
     "name": "stdout",
     "output_type": "stream",
     "text": [
      "Дисперсия для smart равна 36281.39383644458\n",
      "Дисперсия для ultra равна 101052.49354928387\n"
     ]
    }
   ],
   "source": [
    "# Дисперсия\n",
    "print('Дисперсия для smart равна', np.var(general_smart['sum_min']))\n",
    "print('Дисперсия для ultra равна', np.var(general_ultra['sum_min']))"
   ]
  },
  {
   "cell_type": "code",
   "execution_count": 32,
   "metadata": {},
   "outputs": [
    {
     "name": "stdout",
     "output_type": "stream",
     "text": [
      "Стандартное отклонение для smart равно 190.4767540579285\n",
      "Стандартное отклонение для ultra равно 317.8875485911392\n"
     ]
    }
   ],
   "source": [
    "# Стандартное отклонение\n",
    "print('Стандартное отклонение для smart равно', np.sqrt(np.var(general_smart['sum_min'])))\n",
    "print('Стандартное отклонение для ultra равно', np.sqrt(np.var(general_ultra['sum_min'])))"
   ]
  },
  {
   "cell_type": "code",
   "execution_count": 33,
   "metadata": {
    "scrolled": false
   },
   "outputs": [
    {
     "data": {
      "text/plain": [
       "<matplotlib.axes._subplots.AxesSubplot at 0x1f3904a8a88>"
      ]
     },
     "execution_count": 33,
     "metadata": {},
     "output_type": "execute_result"
    },
    {
     "data": {
      "image/png": "[encoded data removed]",
      "text/plain": [
       "<Figure size 432x288 with 1 Axes>"
      ]
     },
     "metadata": {
      "needs_background": "light"
     },
     "output_type": "display_data"
    }
   ],
   "source": [
    "# гистограмма\n",
    "general_smart['sum_min'].hist(alpha=0.7, label='smart')\n",
    "general_ultra['sum_min'].hist(alpha=0.7, label='ultra')"
   ]
  },
  {
   "cell_type": "markdown",
   "metadata": {},
   "source": [
    "Итак, можно увидеть, что в среднем пользователи тарифа 'smart' используют 300-500 минут. Медиана равняется 422 минут. \n",
    "Дисперсия равняется 36219, а среднее стандартное отклонение равняется 190.<br>\n",
    "В среднем пользователи тарифа 'ultra' используют 300-750 минут. Медиана равняется 518 минут. Дисперсия равняется 100873, а среднее стандартное отклонение равняется 317. Так же очень много пользователей, которые за месяц вообще не разговаривают по телефону.<br>\n",
    "\n",
    "Намного больше дохода приносит тариф smart"
   ]
  },
  {
   "cell_type": "markdown",
   "metadata": {},
   "source": [
    "### Сообщения"
   ]
  },
  {
   "cell_type": "code",
   "execution_count": 34,
   "metadata": {
    "scrolled": false
   },
   "outputs": [
    {
     "data": {
      "image/png": "[encoded data removed]",
      "text/plain": [
       "<Figure size 864x360 with 2 Axes>"
      ]
     },
     "metadata": {
      "needs_background": "light"
     },
     "output_type": "display_data"
    },
    {
     "name": "stdout",
     "output_type": "stream",
     "text": [
      "28.0\n",
      "38.0\n"
     ]
    }
   ],
   "source": [
    "# среднее колличество \n",
    "fig, axes = plt.subplots(nrows = 1, ncols = 2, figsize = (12,5))\n",
    "plt.subplot(1,2,1)\n",
    "general_smart.boxplot(column='count_sms')\n",
    "plt.subplot(1,2,2)\n",
    "general_ultra.boxplot(column='count_sms')\n",
    "plt.show()\n",
    "\n",
    "print(general_smart['count_sms'].median())\n",
    "print(general_ultra['count_sms'].median())"
   ]
  },
  {
   "cell_type": "code",
   "execution_count": 35,
   "metadata": {},
   "outputs": [
    {
     "name": "stdout",
     "output_type": "stream",
     "text": [
      "Дисперсия для smart равна 796.9552557301129\n",
      "Дисперсия для ultra равна 2285.4174246558414\n"
     ]
    }
   ],
   "source": [
    "# Дисперсия\n",
    "print('Дисперсия для smart равна', np.var(general_smart['count_sms']))\n",
    "print('Дисперсия для ultra равна', np.var(general_ultra['count_sms']))"
   ]
  },
  {
   "cell_type": "code",
   "execution_count": 36,
   "metadata": {},
   "outputs": [
    {
     "name": "stdout",
     "output_type": "stream",
     "text": [
      "Стандартное отклонение для smart равно 28.230395954185852\n",
      "Стандартное отклонение для ultra равно 47.80603962530092\n"
     ]
    }
   ],
   "source": [
    "# Стандартное отклонение\n",
    "print('Стандартное отклонение для smart равно', np.sqrt(np.var(general_smart['count_sms'])))\n",
    "print('Стандартное отклонение для ultra равно', np.sqrt(np.var(general_ultra['count_sms'])))"
   ]
  },
  {
   "cell_type": "code",
   "execution_count": 37,
   "metadata": {},
   "outputs": [
    {
     "data": {
      "text/plain": [
       "<matplotlib.axes._subplots.AxesSubplot at 0x1f391394288>"
      ]
     },
     "execution_count": 37,
     "metadata": {},
     "output_type": "execute_result"
    },
    {
     "data": {
      "image/png": "[encoded data removed]",
      "text/plain": [
       "<Figure size 432x288 with 1 Axes>"
      ]
     },
     "metadata": {
      "needs_background": "light"
     },
     "output_type": "display_data"
    }
   ],
   "source": [
    "# гистограмма\n",
    "general_smart['count_sms'].hist(bins=40, alpha=0.7, label='smart')\n",
    "general_ultra['count_sms'].hist(bins=40, alpha=0.7, label='ultra')"
   ]
  },
  {
   "cell_type": "markdown",
   "metadata": {},
   "source": [
    "Можно увидеть, что в среднем пользователи тарифа 'smart' отправляют 10-50 сообщений. Медиана равняется 28 сообщений. Дисперсия равняется 796, а среднее стандартное отклонение равняется 28. <br> \n",
    "Но большинство пользователей за месяц вообще не отправляли сообщения. \n",
    "\n",
    "Можно увидеть, что в среднем пользователи тарифа 'ultra' отправляют 10-80 сообщений. Медиана равняется 38 сообщений. Дисперсия равняется 2285, а среднее стандартное отклонение равняется 47. <br> \n",
    "Но большинство пользователей за месяц вообще не отправляли сообщения."
   ]
  },
  {
   "cell_type": "markdown",
   "metadata": {},
   "source": [
    "### Интернет"
   ]
  },
  {
   "cell_type": "markdown",
   "metadata": {},
   "source": [
    "**Интернет для смарт**"
   ]
  },
  {
   "cell_type": "code",
   "execution_count": 38,
   "metadata": {
    "scrolled": false
   },
   "outputs": [
    {
     "data": {
      "image/png": "[encoded data removed]",
      "text/plain": [
       "<Figure size 864x360 with 2 Axes>"
      ]
     },
     "metadata": {
      "needs_background": "light"
     },
     "output_type": "display_data"
    },
    {
     "name": "stdout",
     "output_type": "stream",
     "text": [
      "17.0\n",
      "19.0\n"
     ]
    }
   ],
   "source": [
    "# среднее колличество \n",
    "fig, axes = plt.subplots(nrows = 1, ncols = 2, figsize = (12,5))\n",
    "plt.subplot(1,2,1)\n",
    "general_smart.boxplot(column='gb_used')\n",
    "plt.subplot(1,2,2)\n",
    "general_ultra.boxplot(column='gb_used')\n",
    "plt.show()\n",
    "\n",
    "print(general_smart['gb_used'].median())\n",
    "\n",
    "print(general_ultra['gb_used'].median())\n"
   ]
  },
  {
   "cell_type": "code",
   "execution_count": 39,
   "metadata": {},
   "outputs": [
    {
     "name": "stdout",
     "output_type": "stream",
     "text": [
      "Дисперсия для smart равна 33.133453035506285\n",
      "Дисперсия для ultra равна 97.37854429011234\n"
     ]
    }
   ],
   "source": [
    "# Дисперсия\n",
    "print('Дисперсия для smart равна', np.var(general_smart['gb_used']))\n",
    "print('Дисперсия для ultra равна', np.var(general_ultra['gb_used']))"
   ]
  },
  {
   "cell_type": "code",
   "execution_count": 40,
   "metadata": {},
   "outputs": [
    {
     "name": "stdout",
     "output_type": "stream",
     "text": [
      "Стандартное отклонение для smart равно 5.7561665225657155\n",
      "Стандартное отклонение для ultra равно 9.868056763624352\n"
     ]
    }
   ],
   "source": [
    "# Стандартное отклонение\n",
    "print('Стандартное отклонение для smart равно', np.sqrt(np.var(general_smart['gb_used'])))\n",
    "print('Стандартное отклонение для ultra равно', np.sqrt(np.var(general_ultra['gb_used'])))"
   ]
  },
  {
   "cell_type": "code",
   "execution_count": 41,
   "metadata": {
    "scrolled": true
   },
   "outputs": [
    {
     "data": {
      "text/plain": [
       "<matplotlib.axes._subplots.AxesSubplot at 0x1f391ff6548>"
      ]
     },
     "execution_count": 41,
     "metadata": {},
     "output_type": "execute_result"
    },
    {
     "data": {
      "image/png": "[encoded data removed]",
      "text/plain": [
       "<Figure size 432x288 with 1 Axes>"
      ]
     },
     "metadata": {
      "needs_background": "light"
     },
     "output_type": "display_data"
    }
   ],
   "source": [
    "# гистограмма\n",
    "general_smart['gb_used'].hist(bins=50, range=(0,50), alpha=0.7, label='smart')\n",
    "general_ultra['gb_used'].hist(bins=50, range=(0,50), alpha=0.7, label='ultra')"
   ]
  },
  {
   "cell_type": "markdown",
   "metadata": {},
   "source": [
    "Можно увидеть, что в среднем пользователи тарифа 'smart' используют 13-22 гб в месяц. Медиана равняется 17 гб. Дисперсия равняется 34, а среднее стандартное отклонение равняется 5.8. <br>\n",
    "\n",
    "Можно увидеть, что в среднем пользователи тарифа 'ultra' используют 10-29 гб в месяц. Медиана равняется 20 гб. Дисперсия равняется 102, а среднее стандартное отклонение равняется 10."
   ]
  },
  {
   "cell_type": "markdown",
   "metadata": {},
   "source": [
    "## Проверим гипотезы\n",
    "- средняя выручка пользователей тарифов «Ультра» и «Смарт» различаются;\n",
    "- средняя выручка пользователей из Москвы отличается от выручки пользователей из других регионов.\n",
    "\n",
    "Пороговое значение alpha задам самостоятельно."
   ]
  },
  {
   "cell_type": "markdown",
   "metadata": {},
   "source": [
    "### Средняя выручка пользователей тарифов «Ультра» и «Смарт» различаются;"
   ]
  },
  {
   "cell_type": "markdown",
   "metadata": {},
   "source": [
    "Выдвигаем нулевую гипотезу, что выручка пользователей тарифов «Ультра» и «Смарт» равна.\n",
    "\n",
    "Альтернативная гипотеза звучит так: \"Выручка пользователей тарифов «Ультра» и «Смарт» различается\""
   ]
  },
  {
   "cell_type": "code",
   "execution_count": 42,
   "metadata": {},
   "outputs": [
    {
     "name": "stdout",
     "output_type": "stream",
     "text": [
      "p-значение:  8.081909555489931e-161\n",
      "Отвергаем нулевую гипотезу\n"
     ]
    }
   ],
   "source": [
    "# гипотеза о равенстве средних двух генеральных совокупностей\n",
    "smart = general_smart['cost']\n",
    "ultra = general_ultra['cost']\n",
    " \n",
    "alpha = 0.05\n",
    " \n",
    " \n",
    "results = st.ttest_ind(\n",
    "   smart, \n",
    "   ultra)\n",
    " \n",
    "print('p-значение: ', results.pvalue)\n",
    " \n",
    "if results.pvalue < alpha:\n",
    "    print(\"Отвергаем нулевую гипотезу\")\n",
    "else:\n",
    "    print(\"Не получилось отвергнуть нулевую гипотезу\") "
   ]
  },
  {
   "cell_type": "markdown",
   "metadata": {},
   "source": [
    "*Отвергаем нулевую гипотезу*"
   ]
  },
  {
   "cell_type": "markdown",
   "metadata": {},
   "source": [
    "### Средняя выручка пользователей из Москвы отличается от выручки пользователей из других регионов."
   ]
  },
  {
   "cell_type": "markdown",
   "metadata": {},
   "source": [
    "Выдвигаем нулевую гипотезу, что средняя выручка пользователей из Москвы равна выручки пользователей из других регионов.\n",
    "\n",
    "Альтернативная гипотеза звучит так: \"Средняя выручка пользователей из Москвы отличается от выручки пользователей из других регионов.\""
   ]
  },
  {
   "cell_type": "markdown",
   "metadata": {},
   "source": [
    "Добавим в нашу таблицу general столбец с городами"
   ]
  },
  {
   "cell_type": "code",
   "execution_count": 43,
   "metadata": {},
   "outputs": [],
   "source": [
    "# создаём таблицу только с user_id и city\n",
    "users_and_city = users.loc[:, ['user_id', 'city']]"
   ]
  },
  {
   "cell_type": "code",
   "execution_count": 44,
   "metadata": {},
   "outputs": [],
   "source": [
    "# добавляем в таблицу general\n",
    "general = general.merge(users_and_city, on='user_id', how='left')"
   ]
  },
  {
   "cell_type": "code",
   "execution_count": 45,
   "metadata": {},
   "outputs": [
    {
     "name": "stdout",
     "output_type": "stream",
     "text": [
      "p-значение:  0.5400751614511182\n",
      "Не получилось отвергнуть нулевую гипотезу\n"
     ]
    }
   ],
   "source": [
    "moscow = general[general['city'] == 'Москва']['cost']\n",
    "other = general[general['city'] != 'Москва']['cost']\n",
    " \n",
    "alpha = 0.05\n",
    " \n",
    " \n",
    "results = st.ttest_ind(\n",
    "   moscow, \n",
    "   other)\n",
    " \n",
    "print('p-значение: ', results.pvalue)\n",
    " \n",
    "if results.pvalue < alpha:\n",
    "    print(\"Отвергаем нулевую гипотезу\")\n",
    "else:\n",
    "    print(\"Не получилось отвергнуть нулевую гипотезу\") "
   ]
  },
  {
   "cell_type": "markdown",
   "metadata": {},
   "source": [
    "Получается, что средняя выручка пользователей из Москвы не отличается от средней выручки пользователей из других регионов."
   ]
  },
  {
   "cell_type": "code",
   "execution_count": 46,
   "metadata": {
    "scrolled": true
   },
   "outputs": [
    {
     "data": {
      "text/plain": [
       "1750.0"
      ]
     },
     "execution_count": 46,
     "metadata": {},
     "output_type": "execute_result"
    }
   ],
   "source": [
    "moscow.median()"
   ]
  },
  {
   "cell_type": "code",
   "execution_count": 47,
   "metadata": {},
   "outputs": [
    {
     "data": {
      "text/plain": [
       "1583.0"
      ]
     },
     "execution_count": 47,
     "metadata": {},
     "output_type": "execute_result"
    }
   ],
   "source": [
    "other.median()"
   ]
  },
  {
   "cell_type": "markdown",
   "metadata": {},
   "source": [
    "## Общий вывод"
   ]
  },
  {
   "cell_type": "code",
   "execution_count": 49,
   "metadata": {
    "scrolled": true
   },
   "outputs": [
    {
     "data": {
      "image/png": "[encoded data removed]",
      "text/plain": [
       "<Figure size 648x360 with 1 Axes>"
      ]
     },
     "metadata": {
      "needs_background": "light"
     },
     "output_type": "display_data"
    }
   ],
   "source": [
    "a = general.pivot_table(index='month', columns='tariff', values='cost', aggfunc='mean').plot(kind='bar', figsize=(9, 5))"
   ]
  },
  {
   "cell_type": "markdown",
   "metadata": {},
   "source": [
    "Можно сделать вывод, что большинство пользователей тарифа smart доплачивают за тариф, но все равно в среднем получается, что траты за месяц меньше, чем стоимость тарифа ultra. <br>\n",
    "\n",
    "Отсюда можно сделать вывод, что не смотря на то, что вы будете доплачивать, тариф smart является более выгодным, чем тариф ultra."
   ]
  },
  {
   "cell_type": "code",
   "execution_count": 48,
   "metadata": {},
   "outputs": [
    {
     "name": "stdout",
     "output_type": "stream",
     "text": [
      "Общая выручка от тарифа smart: 2875901\n",
      "Общая выручка от тарифа ultra: 2041050\n"
     ]
    }
   ],
   "source": [
    "print('Общая выручка от тарифа smart:', general_smart['cost'].sum())\n",
    "print('Общая выручка от тарифа ultra:', general_ultra['cost'].sum())"
   ]
  },
  {
   "cell_type": "markdown",
   "metadata": {},
   "source": [
    "Можно увидеть, что выручка от пользователей тарифа Smart больше на 834 851 рублей, имеет смысл вкладывать в тариф Smart."
   ]
  }
 ],
 "metadata": {
  "ExecuteTimeLog": [
   {
    "duration": 722,
    "start_time": "2022-02-10T11:16:53.170Z"
   },
   {
    "duration": 1763,
    "start_time": "2022-02-10T11:18:42.303Z"
   },
   {
    "duration": 221,
    "start_time": "2022-02-10T11:19:07.148Z"
   },
   {
    "duration": 193,
    "start_time": "2022-02-10T11:19:55.954Z"
   },
   {
    "duration": 469,
    "start_time": "2022-02-10T11:22:28.109Z"
   },
   {
    "duration": 576,
    "start_time": "2022-02-10T11:22:54.392Z"
   },
   {
    "duration": 590,
    "start_time": "2022-02-10T11:23:10.324Z"
   },
   {
    "duration": 736,
    "start_time": "2022-02-10T11:23:20.416Z"
   },
   {
    "duration": 604,
    "start_time": "2022-02-10T11:23:55.215Z"
   },
   {
    "duration": 534,
    "start_time": "2022-02-10T11:25:38.114Z"
   },
   {
    "duration": 543,
    "start_time": "2022-02-10T11:25:55.686Z"
   },
   {
    "duration": 568,
    "start_time": "2022-02-10T11:26:40.401Z"
   },
   {
    "duration": 799,
    "start_time": "2022-02-10T11:28:14.241Z"
   },
   {
    "duration": 40,
    "start_time": "2022-02-10T13:34:48.282Z"
   },
   {
    "duration": 238,
    "start_time": "2022-02-10T13:35:33.321Z"
   },
   {
    "duration": 56,
    "start_time": "2022-02-10T13:35:47.324Z"
   },
   {
    "duration": 503,
    "start_time": "2022-02-10T14:13:25.255Z"
   },
   {
    "duration": 13,
    "start_time": "2022-02-10T14:15:43.602Z"
   },
   {
    "duration": 252,
    "start_time": "2022-02-10T14:15:55.194Z"
   },
   {
    "duration": 13,
    "start_time": "2022-02-10T14:16:03.518Z"
   },
   {
    "duration": 56,
    "start_time": "2022-02-10T14:17:38.280Z"
   },
   {
    "duration": 36,
    "start_time": "2022-02-10T14:18:04.869Z"
   },
   {
    "duration": 37,
    "start_time": "2022-02-10T14:18:16.893Z"
   },
   {
    "duration": 492,
    "start_time": "2022-02-10T14:21:16.919Z"
   },
   {
    "duration": 107,
    "start_time": "2022-02-10T14:23:56.909Z"
   },
   {
    "duration": 546,
    "start_time": "2022-02-10T14:25:42.004Z"
   },
   {
    "duration": 63,
    "start_time": "2022-02-10T14:26:05.205Z"
   },
   {
    "duration": 478,
    "start_time": "2022-02-10T14:26:57.593Z"
   },
   {
    "duration": 72,
    "start_time": "2022-02-10T14:31:11.353Z"
   },
   {
    "duration": 287,
    "start_time": "2022-02-10T14:33:20.958Z"
   },
   {
    "duration": 38,
    "start_time": "2022-02-10T14:33:30.962Z"
   },
   {
    "duration": 517,
    "start_time": "2022-02-10T14:33:46.896Z"
   },
   {
    "duration": 94,
    "start_time": "2022-02-10T14:33:55.054Z"
   },
   {
    "duration": 3,
    "start_time": "2022-02-10T14:34:17.935Z"
   },
   {
    "duration": 478,
    "start_time": "2022-02-10T14:36:40.881Z"
   },
   {
    "duration": 38,
    "start_time": "2022-02-10T14:36:47.846Z"
   },
   {
    "duration": 56,
    "start_time": "2022-02-10T14:37:34.236Z"
   },
   {
    "duration": 33,
    "start_time": "2022-02-10T14:38:07.498Z"
   },
   {
    "duration": 21,
    "start_time": "2022-02-10T14:40:47.809Z"
   },
   {
    "duration": 484,
    "start_time": "2022-02-10T14:41:53.977Z"
   },
   {
    "duration": 528,
    "start_time": "2022-02-10T14:42:03.676Z"
   },
   {
    "duration": 583,
    "start_time": "2022-02-10T14:42:33.104Z"
   },
   {
    "duration": 754,
    "start_time": "2022-02-10T14:42:52.909Z"
   },
   {
    "duration": 614,
    "start_time": "2022-02-10T14:42:53.666Z"
   },
   {
    "duration": 122,
    "start_time": "2022-02-10T14:42:54.283Z"
   },
   {
    "duration": 436,
    "start_time": "2022-02-10T14:43:52.186Z"
   },
   {
    "duration": 262,
    "start_time": "2022-02-10T14:44:00.007Z"
   },
   {
    "duration": 10,
    "start_time": "2022-02-10T14:44:08.172Z"
   },
   {
    "duration": 116,
    "start_time": "2022-02-10T14:44:14.241Z"
   },
   {
    "duration": 49,
    "start_time": "2022-02-10T14:44:17.583Z"
   },
   {
    "duration": 98,
    "start_time": "2022-02-10T14:44:20.853Z"
   },
   {
    "duration": 384,
    "start_time": "2022-02-10T14:46:17.933Z"
   },
   {
    "duration": 547,
    "start_time": "2022-02-10T14:46:27.504Z"
   },
   {
    "duration": 601,
    "start_time": "2022-02-10T14:46:44.954Z"
   },
   {
    "duration": 88,
    "start_time": "2022-02-10T14:53:25.830Z"
   },
   {
    "duration": 85,
    "start_time": "2022-02-10T14:53:36.432Z"
   },
   {
    "duration": 34,
    "start_time": "2022-02-10T14:54:09.737Z"
   },
   {
    "duration": 44,
    "start_time": "2022-02-10T14:54:17.953Z"
   },
   {
    "duration": 41,
    "start_time": "2022-02-10T14:54:45.048Z"
   },
   {
    "duration": 636,
    "start_time": "2022-02-10T14:55:14.747Z"
   },
   {
    "duration": 131,
    "start_time": "2022-02-10T14:55:18.783Z"
   },
   {
    "duration": 26,
    "start_time": "2022-02-10T14:55:53.120Z"
   },
   {
    "duration": 31,
    "start_time": "2022-02-10T14:56:21.438Z"
   },
   {
    "duration": 31,
    "start_time": "2022-02-10T14:56:25.674Z"
   },
   {
    "duration": 55,
    "start_time": "2022-02-10T14:57:03.921Z"
   },
   {
    "duration": 26,
    "start_time": "2022-02-10T14:57:43.592Z"
   },
   {
    "duration": 28,
    "start_time": "2022-02-10T14:58:15.706Z"
   },
   {
    "duration": 4,
    "start_time": "2022-02-10T14:58:21.237Z"
   },
   {
    "duration": 12346,
    "start_time": "2022-02-10T15:44:54.528Z"
   },
   {
    "duration": 6111,
    "start_time": "2022-02-10T15:45:54.976Z"
   },
   {
    "duration": 46,
    "start_time": "2022-02-10T15:46:01.560Z"
   },
   {
    "duration": 101,
    "start_time": "2022-02-10T17:04:02.406Z"
   },
   {
    "duration": 53,
    "start_time": "2022-02-10T17:04:05.288Z"
   },
   {
    "duration": 7548,
    "start_time": "2022-02-10T17:04:57.246Z"
   },
   {
    "duration": 62,
    "start_time": "2022-02-10T17:05:07.900Z"
   },
   {
    "duration": 92,
    "start_time": "2022-02-10T17:06:25.394Z"
   },
   {
    "duration": 45,
    "start_time": "2022-02-10T17:10:02.966Z"
   },
   {
    "duration": 41,
    "start_time": "2022-02-10T17:10:11.931Z"
   },
   {
    "duration": 43,
    "start_time": "2022-02-10T17:10:15.450Z"
   },
   {
    "duration": 45,
    "start_time": "2022-02-10T17:10:31.938Z"
   },
   {
    "duration": 39,
    "start_time": "2022-02-10T17:10:48.097Z"
   },
   {
    "duration": 41,
    "start_time": "2022-02-10T17:10:53.260Z"
   },
   {
    "duration": 43,
    "start_time": "2022-02-10T17:11:03.922Z"
   },
   {
    "duration": 43,
    "start_time": "2022-02-10T17:12:58.030Z"
   },
   {
    "duration": 42,
    "start_time": "2022-02-10T17:13:10.884Z"
   },
   {
    "duration": 37,
    "start_time": "2022-02-10T17:14:17.957Z"
   },
   {
    "duration": 47,
    "start_time": "2022-02-10T17:14:22.532Z"
   },
   {
    "duration": 45,
    "start_time": "2022-02-10T17:14:26.861Z"
   },
   {
    "duration": 46,
    "start_time": "2022-02-10T17:15:18.469Z"
   },
   {
    "duration": 88,
    "start_time": "2022-02-10T17:15:22.453Z"
   },
   {
    "duration": 47,
    "start_time": "2022-02-10T17:15:26.581Z"
   },
   {
    "duration": 50,
    "start_time": "2022-02-10T17:15:36.191Z"
   },
   {
    "duration": 369,
    "start_time": "2022-02-10T17:22:06.338Z"
   },
   {
    "duration": 73,
    "start_time": "2022-02-10T17:22:13.825Z"
   },
   {
    "duration": 72,
    "start_time": "2022-02-10T17:22:25.276Z"
   },
   {
    "duration": 74,
    "start_time": "2022-02-10T17:22:30.785Z"
   },
   {
    "duration": 73,
    "start_time": "2022-02-10T17:23:32.768Z"
   },
   {
    "duration": 100,
    "start_time": "2022-02-10T17:27:34.340Z"
   },
   {
    "duration": 109,
    "start_time": "2022-02-10T17:27:42.139Z"
   },
   {
    "duration": 103,
    "start_time": "2022-02-10T17:27:57.108Z"
   },
   {
    "duration": 121,
    "start_time": "2022-02-10T17:33:16.752Z"
   },
   {
    "duration": 8,
    "start_time": "2022-02-10T17:33:54.621Z"
   },
   {
    "duration": -159,
    "start_time": "2022-02-10T17:34:15.262Z"
   },
   {
    "duration": 9,
    "start_time": "2022-02-10T17:34:19.951Z"
   },
   {
    "duration": 272,
    "start_time": "2022-02-10T17:43:37.179Z"
   },
   {
    "duration": 238,
    "start_time": "2022-02-10T17:43:57.214Z"
   },
   {
    "duration": 358,
    "start_time": "2022-02-10T17:44:13.303Z"
   },
   {
    "duration": 21,
    "start_time": "2022-02-10T17:44:17.348Z"
   },
   {
    "duration": 25,
    "start_time": "2022-02-10T17:44:44.671Z"
   },
   {
    "duration": 116,
    "start_time": "2022-02-10T17:46:02.389Z"
   },
   {
    "duration": 22,
    "start_time": "2022-02-10T17:46:08.520Z"
   },
   {
    "duration": 239,
    "start_time": "2022-02-10T17:46:53.332Z"
   },
   {
    "duration": 227,
    "start_time": "2022-02-10T17:47:09.693Z"
   },
   {
    "duration": 260,
    "start_time": "2022-02-10T17:47:30.320Z"
   },
   {
    "duration": 347,
    "start_time": "2022-02-10T17:54:18.835Z"
   },
   {
    "duration": 96,
    "start_time": "2022-02-10T17:54:39.411Z"
   },
   {
    "duration": 129,
    "start_time": "2022-02-10T17:55:16.698Z"
   },
   {
    "duration": 91,
    "start_time": "2022-02-10T17:56:08.462Z"
   },
   {
    "duration": 124,
    "start_time": "2022-02-10T17:56:42.639Z"
   },
   {
    "duration": 809,
    "start_time": "2022-02-10T17:56:55.716Z"
   },
   {
    "duration": 656,
    "start_time": "2022-02-10T17:56:56.528Z"
   },
   {
    "duration": 372,
    "start_time": "2022-02-10T17:56:57.189Z"
   },
   {
    "duration": 214,
    "start_time": "2022-02-10T17:56:57.565Z"
   },
   {
    "duration": 280,
    "start_time": "2022-02-10T17:56:57.781Z"
   },
   {
    "duration": 386,
    "start_time": "2022-02-10T17:56:58.064Z"
   },
   {
    "duration": -161,
    "start_time": "2022-02-10T17:56:58.613Z"
   },
   {
    "duration": 27,
    "start_time": "2022-02-10T17:57:20.977Z"
   },
   {
    "duration": 252,
    "start_time": "2022-02-10T18:01:45.334Z"
   },
   {
    "duration": 237,
    "start_time": "2022-02-10T18:04:56.243Z"
   },
   {
    "duration": 366,
    "start_time": "2022-02-10T18:05:02.801Z"
   },
   {
    "duration": 236,
    "start_time": "2022-02-10T18:10:12.845Z"
   },
   {
    "duration": 273,
    "start_time": "2022-02-10T18:11:19.124Z"
   },
   {
    "duration": 250,
    "start_time": "2022-02-10T18:14:55.481Z"
   },
   {
    "duration": 261,
    "start_time": "2022-02-10T18:15:24.801Z"
   },
   {
    "duration": 332,
    "start_time": "2022-02-10T18:16:03.594Z"
   },
   {
    "duration": 19,
    "start_time": "2022-02-10T18:16:34.265Z"
   },
   {
    "duration": 85,
    "start_time": "2022-02-10T18:17:06.433Z"
   },
   {
    "duration": 233,
    "start_time": "2022-02-10T18:17:10.101Z"
   },
   {
    "duration": 247,
    "start_time": "2022-02-10T18:17:23.118Z"
   },
   {
    "duration": 82,
    "start_time": "2022-02-10T18:23:04.001Z"
   },
   {
    "duration": 74,
    "start_time": "2022-02-10T18:25:45.581Z"
   },
   {
    "duration": 80,
    "start_time": "2022-02-10T18:25:51.429Z"
   },
   {
    "duration": 82,
    "start_time": "2022-02-10T18:25:56.336Z"
   },
   {
    "duration": 84,
    "start_time": "2022-02-10T18:26:30.334Z"
   },
   {
    "duration": 40,
    "start_time": "2022-02-10T18:27:50.617Z"
   },
   {
    "duration": 44,
    "start_time": "2022-02-10T18:28:03.398Z"
   },
   {
    "duration": 44,
    "start_time": "2022-02-10T18:28:27.729Z"
   },
   {
    "duration": 4,
    "start_time": "2022-02-10T18:31:47.333Z"
   },
   {
    "duration": 37,
    "start_time": "2022-02-10T18:31:55.654Z"
   },
   {
    "duration": 40,
    "start_time": "2022-02-10T18:32:25.063Z"
   },
   {
    "duration": 687,
    "start_time": "2022-02-11T08:42:20.936Z"
   },
   {
    "duration": 471,
    "start_time": "2022-02-11T08:42:21.625Z"
   },
   {
    "duration": 116,
    "start_time": "2022-02-11T08:42:22.100Z"
   },
   {
    "duration": 95,
    "start_time": "2022-02-11T08:42:22.218Z"
   },
   {
    "duration": 106,
    "start_time": "2022-02-11T08:42:22.315Z"
   },
   {
    "duration": 60,
    "start_time": "2022-02-11T08:42:22.423Z"
   },
   {
    "duration": 30,
    "start_time": "2022-02-11T08:42:22.486Z"
   },
   {
    "duration": 32,
    "start_time": "2022-02-11T09:07:57.778Z"
   },
   {
    "duration": 29,
    "start_time": "2022-02-11T09:08:03.216Z"
   },
   {
    "duration": 194,
    "start_time": "2022-02-11T09:11:44.880Z"
   },
   {
    "duration": 19,
    "start_time": "2022-02-11T09:11:54.123Z"
   },
   {
    "duration": 84,
    "start_time": "2022-02-11T09:12:23.737Z"
   },
   {
    "duration": 53,
    "start_time": "2022-02-11T09:19:50.344Z"
   },
   {
    "duration": 31,
    "start_time": "2022-02-11T09:19:56.394Z"
   },
   {
    "duration": 18,
    "start_time": "2022-02-11T09:20:19.140Z"
   },
   {
    "duration": 14,
    "start_time": "2022-02-11T09:20:31.597Z"
   },
   {
    "duration": 19,
    "start_time": "2022-02-11T09:20:35.146Z"
   },
   {
    "duration": 44,
    "start_time": "2022-02-11T09:21:11.611Z"
   },
   {
    "duration": 46,
    "start_time": "2022-02-11T09:21:22.616Z"
   },
   {
    "duration": 32,
    "start_time": "2022-02-11T09:21:39.595Z"
   },
   {
    "duration": 15,
    "start_time": "2022-02-11T09:22:05.684Z"
   },
   {
    "duration": 19,
    "start_time": "2022-02-11T09:22:10.961Z"
   },
   {
    "duration": 33,
    "start_time": "2022-02-11T09:22:20.596Z"
   },
   {
    "duration": 46,
    "start_time": "2022-02-11T09:22:27.670Z"
   },
   {
    "duration": 25,
    "start_time": "2022-02-11T09:22:35.163Z"
   },
   {
    "duration": 55,
    "start_time": "2022-02-11T09:22:55.422Z"
   },
   {
    "duration": 32,
    "start_time": "2022-02-11T09:23:02.128Z"
   },
   {
    "duration": 19,
    "start_time": "2022-02-11T09:23:12.327Z"
   },
   {
    "duration": 22,
    "start_time": "2022-02-11T09:23:26.024Z"
   },
   {
    "duration": 22,
    "start_time": "2022-02-11T09:23:44.134Z"
   },
   {
    "duration": 23,
    "start_time": "2022-02-11T09:23:52.442Z"
   },
   {
    "duration": 22,
    "start_time": "2022-02-11T09:24:07.038Z"
   },
   {
    "duration": 46,
    "start_time": "2022-02-11T10:10:38.361Z"
   },
   {
    "duration": 3560,
    "start_time": "2022-02-11T10:11:58.191Z"
   },
   {
    "duration": 46,
    "start_time": "2022-02-11T10:12:07.207Z"
   },
   {
    "duration": 42,
    "start_time": "2022-02-11T10:12:24.467Z"
   },
   {
    "duration": 42,
    "start_time": "2022-02-11T10:12:33.082Z"
   },
   {
    "duration": 21,
    "start_time": "2022-02-11T10:12:37.870Z"
   },
   {
    "duration": 24,
    "start_time": "2022-02-11T10:12:45.143Z"
   },
   {
    "duration": 16,
    "start_time": "2022-02-11T10:14:47.087Z"
   },
   {
    "duration": 22,
    "start_time": "2022-02-11T10:15:02.429Z"
   },
   {
    "duration": 16,
    "start_time": "2022-02-11T10:15:16.727Z"
   },
   {
    "duration": 22,
    "start_time": "2022-02-11T10:15:23.953Z"
   },
   {
    "duration": 179,
    "start_time": "2022-02-11T10:16:10.457Z"
   },
   {
    "duration": 15,
    "start_time": "2022-02-11T10:17:36.657Z"
   },
   {
    "duration": 165,
    "start_time": "2022-02-11T10:17:53.153Z"
   },
   {
    "duration": 22,
    "start_time": "2022-02-11T10:18:14.529Z"
   },
   {
    "duration": 25,
    "start_time": "2022-02-11T10:18:37.474Z"
   },
   {
    "duration": 27,
    "start_time": "2022-02-11T10:18:50.663Z"
   },
   {
    "duration": 28,
    "start_time": "2022-02-11T10:19:16.052Z"
   },
   {
    "duration": 553,
    "start_time": "2022-02-11T10:22:19.372Z"
   },
   {
    "duration": 487,
    "start_time": "2022-02-11T10:22:19.927Z"
   },
   {
    "duration": 96,
    "start_time": "2022-02-11T10:22:20.416Z"
   },
   {
    "duration": 76,
    "start_time": "2022-02-11T10:22:20.514Z"
   },
   {
    "duration": 77,
    "start_time": "2022-02-11T10:22:20.592Z"
   },
   {
    "duration": 37,
    "start_time": "2022-02-11T10:22:20.670Z"
   },
   {
    "duration": 30,
    "start_time": "2022-02-11T10:22:20.709Z"
   },
   {
    "duration": 28,
    "start_time": "2022-02-11T10:22:20.759Z"
   },
   {
    "duration": 240,
    "start_time": "2022-02-11T10:48:04.348Z"
   },
   {
    "duration": 330,
    "start_time": "2022-02-11T10:48:12.645Z"
   },
   {
    "duration": 5,
    "start_time": "2022-02-11T10:48:37.106Z"
   },
   {
    "duration": 7,
    "start_time": "2022-02-11T10:48:48.328Z"
   },
   {
    "duration": 269,
    "start_time": "2022-02-11T10:49:02.275Z"
   },
   {
    "duration": 7,
    "start_time": "2022-02-11T10:49:11.849Z"
   },
   {
    "duration": 93,
    "start_time": "2022-02-11T10:49:34.611Z"
   },
   {
    "duration": 180,
    "start_time": "2022-02-11T10:51:29.492Z"
   },
   {
    "duration": 141,
    "start_time": "2022-02-11T10:51:33.621Z"
   },
   {
    "duration": 18,
    "start_time": "2022-02-11T10:51:37.734Z"
   },
   {
    "duration": 45,
    "start_time": "2022-02-11T10:54:14.655Z"
   },
   {
    "duration": 146,
    "start_time": "2022-02-11T10:54:19.478Z"
   },
   {
    "duration": 145,
    "start_time": "2022-02-11T10:54:21.685Z"
   },
   {
    "duration": 11,
    "start_time": "2022-02-11T10:55:34.734Z"
   },
   {
    "duration": 35,
    "start_time": "2022-02-11T10:56:42.640Z"
   },
   {
    "duration": 32,
    "start_time": "2022-02-11T10:56:56.779Z"
   },
   {
    "duration": 29,
    "start_time": "2022-02-11T10:57:15.943Z"
   },
   {
    "duration": 42,
    "start_time": "2022-02-11T10:57:21.578Z"
   },
   {
    "duration": 30,
    "start_time": "2022-02-11T10:57:36.339Z"
   },
   {
    "duration": 30,
    "start_time": "2022-02-11T10:57:43.254Z"
   },
   {
    "duration": 5,
    "start_time": "2022-02-11T10:58:01.553Z"
   },
   {
    "duration": 5,
    "start_time": "2022-02-11T11:00:45.283Z"
   },
   {
    "duration": 34,
    "start_time": "2022-02-11T11:00:45.515Z"
   },
   {
    "duration": 3,
    "start_time": "2022-02-11T11:13:46.674Z"
   },
   {
    "duration": 435,
    "start_time": "2022-02-11T11:13:46.681Z"
   },
   {
    "duration": 91,
    "start_time": "2022-02-11T11:13:47.118Z"
   },
   {
    "duration": 72,
    "start_time": "2022-02-11T11:13:47.211Z"
   },
   {
    "duration": 55,
    "start_time": "2022-02-11T11:13:47.285Z"
   },
   {
    "duration": 44,
    "start_time": "2022-02-11T11:13:47.342Z"
   },
   {
    "duration": 27,
    "start_time": "2022-02-11T11:13:47.388Z"
   },
   {
    "duration": 5,
    "start_time": "2022-02-11T11:13:47.417Z"
   },
   {
    "duration": 61,
    "start_time": "2022-02-11T11:13:47.424Z"
   },
   {
    "duration": 34,
    "start_time": "2022-02-11T11:28:12.851Z"
   },
   {
    "duration": 5,
    "start_time": "2022-02-11T11:28:29.130Z"
   },
   {
    "duration": 152,
    "start_time": "2022-02-11T11:28:46.376Z"
   },
   {
    "duration": 6,
    "start_time": "2022-02-11T11:28:53.551Z"
   },
   {
    "duration": 7,
    "start_time": "2022-02-11T11:29:13.902Z"
   },
   {
    "duration": 33,
    "start_time": "2022-02-11T11:30:05.736Z"
   },
   {
    "duration": 8,
    "start_time": "2022-02-11T11:30:08.670Z"
   },
   {
    "duration": 33,
    "start_time": "2022-02-11T11:31:08.288Z"
   },
   {
    "duration": 8,
    "start_time": "2022-02-11T11:31:20.616Z"
   },
   {
    "duration": 33,
    "start_time": "2022-02-11T11:31:45.840Z"
   },
   {
    "duration": 8,
    "start_time": "2022-02-11T11:31:48.817Z"
   },
   {
    "duration": 31,
    "start_time": "2022-02-11T11:31:54.853Z"
   },
   {
    "duration": 8,
    "start_time": "2022-02-11T11:31:58.676Z"
   },
   {
    "duration": 5,
    "start_time": "2022-02-11T12:00:43.158Z"
   },
   {
    "duration": 17,
    "start_time": "2022-02-11T12:00:48.736Z"
   },
   {
    "duration": 34,
    "start_time": "2022-02-11T12:01:09.366Z"
   },
   {
    "duration": 19,
    "start_time": "2022-02-11T12:01:13.445Z"
   },
   {
    "duration": 31,
    "start_time": "2022-02-11T12:01:20.800Z"
   },
   {
    "duration": 18,
    "start_time": "2022-02-11T12:01:23.860Z"
   },
   {
    "duration": 2,
    "start_time": "2022-02-11T12:09:58.231Z"
   },
   {
    "duration": 11,
    "start_time": "2022-02-11T12:16:33.894Z"
   },
   {
    "duration": 5,
    "start_time": "2022-02-11T12:17:40.710Z"
   },
   {
    "duration": 13,
    "start_time": "2022-02-11T12:17:42.686Z"
   },
   {
    "duration": 453,
    "start_time": "2022-02-11T12:17:56.679Z"
   },
   {
    "duration": 11,
    "start_time": "2022-02-11T12:18:00.444Z"
   },
   {
    "duration": 4,
    "start_time": "2022-02-11T12:18:04.526Z"
   },
   {
    "duration": 12,
    "start_time": "2022-02-11T12:18:07.303Z"
   },
   {
    "duration": 14,
    "start_time": "2022-02-11T12:20:15.196Z"
   },
   {
    "duration": 6,
    "start_time": "2022-02-11T12:21:00.371Z"
   },
   {
    "duration": 14,
    "start_time": "2022-02-11T12:21:05.757Z"
   },
   {
    "duration": 7,
    "start_time": "2022-02-11T12:21:47.804Z"
   },
   {
    "duration": 12,
    "start_time": "2022-02-11T12:21:50.735Z"
   },
   {
    "duration": 448,
    "start_time": "2022-02-11T12:23:12.676Z"
   },
   {
    "duration": 13,
    "start_time": "2022-02-11T12:23:15.907Z"
   },
   {
    "duration": 4,
    "start_time": "2022-02-11T12:23:21.239Z"
   },
   {
    "duration": 13,
    "start_time": "2022-02-11T12:23:23.389Z"
   },
   {
    "duration": 5,
    "start_time": "2022-02-11T12:23:37.056Z"
   },
   {
    "duration": 13,
    "start_time": "2022-02-11T12:23:44.764Z"
   },
   {
    "duration": 467,
    "start_time": "2022-02-11T12:23:56.298Z"
   },
   {
    "duration": 14,
    "start_time": "2022-02-11T12:24:01.768Z"
   },
   {
    "duration": 5,
    "start_time": "2022-02-11T12:24:32.162Z"
   },
   {
    "duration": 14,
    "start_time": "2022-02-11T12:24:34.649Z"
   },
   {
    "duration": 5,
    "start_time": "2022-02-11T12:24:40.361Z"
   },
   {
    "duration": 12,
    "start_time": "2022-02-11T12:24:42.823Z"
   },
   {
    "duration": 442,
    "start_time": "2022-02-11T12:25:20.672Z"
   },
   {
    "duration": 14,
    "start_time": "2022-02-11T12:25:22.792Z"
   },
   {
    "duration": 5,
    "start_time": "2022-02-11T12:25:34.494Z"
   },
   {
    "duration": 19,
    "start_time": "2022-02-11T12:25:38.354Z"
   },
   {
    "duration": 4,
    "start_time": "2022-02-11T12:25:45.262Z"
   },
   {
    "duration": 12,
    "start_time": "2022-02-11T12:25:51.660Z"
   },
   {
    "duration": 18,
    "start_time": "2022-02-11T12:26:24.129Z"
   },
   {
    "duration": 537,
    "start_time": "2022-02-11T12:26:42.976Z"
   },
   {
    "duration": 476,
    "start_time": "2022-02-11T12:26:44.484Z"
   },
   {
    "duration": 14,
    "start_time": "2022-02-11T12:26:47.076Z"
   },
   {
    "duration": 14,
    "start_time": "2022-02-11T12:26:52.934Z"
   },
   {
    "duration": 10,
    "start_time": "2022-02-11T12:26:57.437Z"
   },
   {
    "duration": 447,
    "start_time": "2022-02-11T12:27:03.751Z"
   },
   {
    "duration": 10,
    "start_time": "2022-02-11T12:27:05.623Z"
   },
   {
    "duration": 10,
    "start_time": "2022-02-11T12:27:14.331Z"
   },
   {
    "duration": 8,
    "start_time": "2022-02-11T12:27:17.637Z"
   },
   {
    "duration": 11,
    "start_time": "2022-02-11T12:27:24.166Z"
   },
   {
    "duration": 9,
    "start_time": "2022-02-11T12:30:25.069Z"
   },
   {
    "duration": 14,
    "start_time": "2022-02-11T12:30:39.939Z"
   },
   {
    "duration": 476,
    "start_time": "2022-02-11T12:31:04.597Z"
   },
   {
    "duration": 10,
    "start_time": "2022-02-11T12:31:07.324Z"
   },
   {
    "duration": 14,
    "start_time": "2022-02-11T12:31:11.920Z"
   },
   {
    "duration": 16,
    "start_time": "2022-02-11T12:31:53.295Z"
   },
   {
    "duration": 3,
    "start_time": "2022-02-11T12:34:29.633Z"
   },
   {
    "duration": 527,
    "start_time": "2022-02-11T12:34:30.037Z"
   },
   {
    "duration": 11,
    "start_time": "2022-02-11T12:34:35.820Z"
   },
   {
    "duration": 13,
    "start_time": "2022-02-11T12:34:38.972Z"
   },
   {
    "duration": 440,
    "start_time": "2022-02-11T12:35:22.662Z"
   },
   {
    "duration": 12,
    "start_time": "2022-02-11T12:35:30.227Z"
   },
   {
    "duration": 13,
    "start_time": "2022-02-11T12:35:35.784Z"
   },
   {
    "duration": 14,
    "start_time": "2022-02-11T12:36:22.964Z"
   },
   {
    "duration": 14,
    "start_time": "2022-02-11T12:36:38.334Z"
   },
   {
    "duration": 12,
    "start_time": "2022-02-11T12:36:41.297Z"
   },
   {
    "duration": 14,
    "start_time": "2022-02-11T12:36:46.630Z"
   },
   {
    "duration": 2,
    "start_time": "2022-02-11T12:37:07.023Z"
   },
   {
    "duration": 6,
    "start_time": "2022-02-11T12:37:15.186Z"
   },
   {
    "duration": 13,
    "start_time": "2022-02-11T12:37:27.065Z"
   },
   {
    "duration": 13,
    "start_time": "2022-02-11T12:37:31.386Z"
   },
   {
    "duration": 22,
    "start_time": "2022-02-11T12:37:40.455Z"
   },
   {
    "duration": 7,
    "start_time": "2022-02-11T12:37:52.021Z"
   },
   {
    "duration": 84,
    "start_time": "2022-02-11T12:40:00.460Z"
   },
   {
    "duration": 39,
    "start_time": "2022-02-11T12:40:30.914Z"
   },
   {
    "duration": 2,
    "start_time": "2022-02-11T12:46:58.424Z"
   },
   {
    "duration": 477,
    "start_time": "2022-02-11T12:46:59.446Z"
   },
   {
    "duration": 2,
    "start_time": "2022-02-11T12:49:09.364Z"
   },
   {
    "duration": 495,
    "start_time": "2022-02-11T12:49:10.077Z"
   },
   {
    "duration": 13,
    "start_time": "2022-02-11T12:49:40.788Z"
   },
   {
    "duration": 84,
    "start_time": "2022-02-11T12:49:57.736Z"
   },
   {
    "duration": 64,
    "start_time": "2022-02-11T12:53:22.944Z"
   },
   {
    "duration": 76,
    "start_time": "2022-02-11T12:54:32.002Z"
   },
   {
    "duration": 32,
    "start_time": "2022-02-11T12:54:53.496Z"
   },
   {
    "duration": 30,
    "start_time": "2022-02-11T12:55:00.537Z"
   },
   {
    "duration": 193,
    "start_time": "2022-02-11T12:55:32.455Z"
   },
   {
    "duration": 5,
    "start_time": "2022-02-11T12:55:36.846Z"
   },
   {
    "duration": 33,
    "start_time": "2022-02-11T12:55:37.645Z"
   },
   {
    "duration": 17,
    "start_time": "2022-02-11T12:57:27.810Z"
   },
   {
    "duration": 2,
    "start_time": "2022-02-11T12:57:46.521Z"
   },
   {
    "duration": 15,
    "start_time": "2022-02-11T12:58:41.113Z"
   },
   {
    "duration": 17,
    "start_time": "2022-02-11T12:59:08.936Z"
   },
   {
    "duration": 16,
    "start_time": "2022-02-11T13:00:52.978Z"
   },
   {
    "duration": 17,
    "start_time": "2022-02-11T13:04:27.857Z"
   },
   {
    "duration": 584,
    "start_time": "2022-02-11T13:04:48.948Z"
   },
   {
    "duration": 495,
    "start_time": "2022-02-11T13:04:49.534Z"
   },
   {
    "duration": 33,
    "start_time": "2022-02-11T13:04:50.032Z"
   },
   {
    "duration": 105,
    "start_time": "2022-02-11T13:04:50.067Z"
   },
   {
    "duration": 66,
    "start_time": "2022-02-11T13:04:50.174Z"
   },
   {
    "duration": 81,
    "start_time": "2022-02-11T13:04:50.260Z"
   },
   {
    "duration": 48,
    "start_time": "2022-02-11T13:04:50.343Z"
   },
   {
    "duration": 29,
    "start_time": "2022-02-11T13:04:50.393Z"
   },
   {
    "duration": 3,
    "start_time": "2022-02-11T13:04:50.424Z"
   },
   {
    "duration": 55,
    "start_time": "2022-02-11T13:04:50.429Z"
   },
   {
    "duration": 4,
    "start_time": "2022-02-11T13:04:50.486Z"
   },
   {
    "duration": 18,
    "start_time": "2022-02-11T13:04:50.492Z"
   },
   {
    "duration": 68,
    "start_time": "2022-02-11T13:04:50.512Z"
   },
   {
    "duration": 362,
    "start_time": "2022-02-11T18:00:38.318Z"
   },
   {
    "duration": 339,
    "start_time": "2022-02-11T18:00:44.837Z"
   },
   {
    "duration": 762,
    "start_time": "2022-02-11T18:00:55.718Z"
   },
   {
    "duration": 655,
    "start_time": "2022-02-11T18:00:56.483Z"
   },
   {
    "duration": 17,
    "start_time": "2022-02-11T18:00:57.143Z"
   },
   {
    "duration": 158,
    "start_time": "2022-02-11T18:00:57.164Z"
   },
   {
    "duration": 115,
    "start_time": "2022-02-11T18:00:57.333Z"
   },
   {
    "duration": 122,
    "start_time": "2022-02-11T18:00:57.451Z"
   },
   {
    "duration": 70,
    "start_time": "2022-02-11T18:00:57.576Z"
   },
   {
    "duration": 41,
    "start_time": "2022-02-11T18:00:57.649Z"
   },
   {
    "duration": 5,
    "start_time": "2022-02-11T18:00:57.693Z"
   },
   {
    "duration": 79,
    "start_time": "2022-02-11T18:00:57.701Z"
   },
   {
    "duration": 8,
    "start_time": "2022-02-11T18:00:57.782Z"
   },
   {
    "duration": 49,
    "start_time": "2022-02-11T18:00:57.793Z"
   },
   {
    "duration": 92,
    "start_time": "2022-02-11T18:00:57.844Z"
   },
   {
    "duration": -90,
    "start_time": "2022-02-11T18:00:58.029Z"
   },
   {
    "duration": 23,
    "start_time": "2022-02-11T18:01:02.756Z"
   },
   {
    "duration": 13,
    "start_time": "2022-02-11T19:49:12.316Z"
   },
   {
    "duration": 6,
    "start_time": "2022-02-11T19:59:46.041Z"
   },
   {
    "duration": 23,
    "start_time": "2022-02-11T20:11:57.875Z"
   },
   {
    "duration": 90,
    "start_time": "2022-02-11T20:12:50.391Z"
   },
   {
    "duration": 33,
    "start_time": "2022-02-11T20:12:59.505Z"
   },
   {
    "duration": 21,
    "start_time": "2022-02-11T20:13:29.809Z"
   },
   {
    "duration": 17,
    "start_time": "2022-02-11T20:14:02.707Z"
   },
   {
    "duration": 21,
    "start_time": "2022-02-11T20:14:29.339Z"
   },
   {
    "duration": 18,
    "start_time": "2022-02-11T20:14:36.561Z"
   },
   {
    "duration": 102,
    "start_time": "2022-02-11T20:14:53.995Z"
   },
   {
    "duration": 98,
    "start_time": "2022-02-11T20:15:00.164Z"
   },
   {
    "duration": 8,
    "start_time": "2022-02-11T20:15:49.730Z"
   },
   {
    "duration": 188,
    "start_time": "2022-02-11T20:15:51.574Z"
   },
   {
    "duration": 186,
    "start_time": "2022-02-11T20:16:24.860Z"
   },
   {
    "duration": 189,
    "start_time": "2022-02-11T20:16:35.896Z"
   },
   {
    "duration": 192,
    "start_time": "2022-02-11T20:16:39.824Z"
   },
   {
    "duration": 189,
    "start_time": "2022-02-11T20:18:04.853Z"
   },
   {
    "duration": 199,
    "start_time": "2022-02-11T20:18:12.426Z"
   },
   {
    "duration": 3,
    "start_time": "2022-02-11T20:19:57.328Z"
   },
   {
    "duration": 25,
    "start_time": "2022-02-11T20:20:50.521Z"
   },
   {
    "duration": 26,
    "start_time": "2022-02-11T20:21:11.297Z"
   },
   {
    "duration": 27,
    "start_time": "2022-02-11T20:21:23.199Z"
   },
   {
    "duration": 31,
    "start_time": "2022-02-11T20:22:14.886Z"
   },
   {
    "duration": 33,
    "start_time": "2022-02-11T20:23:01.918Z"
   },
   {
    "duration": 31,
    "start_time": "2022-02-11T20:23:12.958Z"
   },
   {
    "duration": 29,
    "start_time": "2022-02-11T20:23:20.105Z"
   },
   {
    "duration": 27,
    "start_time": "2022-02-11T20:25:42.187Z"
   },
   {
    "duration": 27,
    "start_time": "2022-02-11T20:29:30.142Z"
   },
   {
    "duration": 9,
    "start_time": "2022-02-11T20:33:20.579Z"
   },
   {
    "duration": 28,
    "start_time": "2022-02-11T20:33:25.378Z"
   },
   {
    "duration": 30,
    "start_time": "2022-02-11T20:33:44.598Z"
   },
   {
    "duration": 415,
    "start_time": "2022-02-11T20:36:36.217Z"
   },
   {
    "duration": 397,
    "start_time": "2022-02-11T20:36:46.730Z"
   },
   {
    "duration": 4,
    "start_time": "2022-02-11T20:37:33.902Z"
   },
   {
    "duration": 864,
    "start_time": "2022-02-11T20:37:46.907Z"
   },
   {
    "duration": 622,
    "start_time": "2022-02-11T20:37:47.773Z"
   },
   {
    "duration": 44,
    "start_time": "2022-02-11T20:37:48.398Z"
   },
   {
    "duration": 128,
    "start_time": "2022-02-11T20:37:48.445Z"
   },
   {
    "duration": 107,
    "start_time": "2022-02-11T20:37:48.575Z"
   },
   {
    "duration": 125,
    "start_time": "2022-02-11T20:37:48.685Z"
   },
   {
    "duration": 56,
    "start_time": "2022-02-11T20:37:48.813Z"
   },
   {
    "duration": 41,
    "start_time": "2022-02-11T20:37:48.873Z"
   },
   {
    "duration": 6,
    "start_time": "2022-02-11T20:37:48.932Z"
   },
   {
    "duration": 57,
    "start_time": "2022-02-11T20:37:48.940Z"
   },
   {
    "duration": 9,
    "start_time": "2022-02-11T20:37:48.999Z"
   },
   {
    "duration": 26,
    "start_time": "2022-02-11T20:37:49.032Z"
   },
   {
    "duration": 7,
    "start_time": "2022-02-11T20:37:49.061Z"
   },
   {
    "duration": 205,
    "start_time": "2022-02-11T20:37:49.071Z"
   },
   {
    "duration": 29,
    "start_time": "2022-02-11T20:37:49.278Z"
   },
   {
    "duration": 32,
    "start_time": "2022-02-11T20:37:49.309Z"
   },
   {
    "duration": 3,
    "start_time": "2022-02-11T20:37:49.344Z"
   },
   {
    "duration": 372,
    "start_time": "2022-02-11T20:39:32.856Z"
   },
   {
    "duration": 229,
    "start_time": "2022-02-11T20:40:09.665Z"
   },
   {
    "duration": 218,
    "start_time": "2022-02-11T20:42:01.056Z"
   },
   {
    "duration": 248,
    "start_time": "2022-02-11T20:46:57.049Z"
   },
   {
    "duration": 263,
    "start_time": "2022-02-11T20:47:04.592Z"
   },
   {
    "duration": 496,
    "start_time": "2022-02-11T20:47:34.105Z"
   },
   {
    "duration": 228,
    "start_time": "2022-02-11T20:47:38.937Z"
   },
   {
    "duration": 224,
    "start_time": "2022-02-11T20:47:50.886Z"
   },
   {
    "duration": 204,
    "start_time": "2022-02-11T21:07:12.062Z"
   },
   {
    "duration": 222,
    "start_time": "2022-02-11T21:07:44.716Z"
   },
   {
    "duration": 230,
    "start_time": "2022-02-11T21:12:08.395Z"
   },
   {
    "duration": 280,
    "start_time": "2022-02-11T21:13:11.190Z"
   },
   {
    "duration": 296,
    "start_time": "2022-02-11T21:13:17.623Z"
   },
   {
    "duration": 233,
    "start_time": "2022-02-11T21:13:25.845Z"
   },
   {
    "duration": 252,
    "start_time": "2022-02-11T21:13:29.914Z"
   },
   {
    "duration": 314,
    "start_time": "2022-02-11T21:13:48.432Z"
   },
   {
    "duration": 207,
    "start_time": "2022-02-11T21:14:01.391Z"
   },
   {
    "duration": 654,
    "start_time": "2022-02-12T11:56:11.552Z"
   },
   {
    "duration": 435,
    "start_time": "2022-02-12T11:56:12.207Z"
   },
   {
    "duration": 10,
    "start_time": "2022-02-12T11:56:12.644Z"
   },
   {
    "duration": 91,
    "start_time": "2022-02-12T11:56:12.655Z"
   },
   {
    "duration": 73,
    "start_time": "2022-02-12T11:56:12.748Z"
   },
   {
    "duration": 84,
    "start_time": "2022-02-12T11:56:12.823Z"
   },
   {
    "duration": 29,
    "start_time": "2022-02-12T11:56:12.909Z"
   },
   {
    "duration": 42,
    "start_time": "2022-02-12T11:56:12.940Z"
   },
   {
    "duration": 3,
    "start_time": "2022-02-12T11:56:12.983Z"
   },
   {
    "duration": 29,
    "start_time": "2022-02-12T11:56:12.988Z"
   },
   {
    "duration": 6,
    "start_time": "2022-02-12T11:56:13.018Z"
   },
   {
    "duration": 14,
    "start_time": "2022-02-12T11:56:13.025Z"
   },
   {
    "duration": 4,
    "start_time": "2022-02-12T11:56:13.041Z"
   },
   {
    "duration": 115,
    "start_time": "2022-02-12T11:56:13.046Z"
   },
   {
    "duration": 15,
    "start_time": "2022-02-12T11:56:13.172Z"
   },
   {
    "duration": 5,
    "start_time": "2022-02-12T11:56:13.189Z"
   },
   {
    "duration": 136,
    "start_time": "2022-02-12T11:56:13.196Z"
   },
   {
    "duration": 129,
    "start_time": "2022-02-12T11:56:13.334Z"
   },
   {
    "duration": 135,
    "start_time": "2022-02-12T11:56:13.464Z"
   },
   {
    "duration": 158,
    "start_time": "2022-02-12T11:56:13.601Z"
   },
   {
    "duration": 139,
    "start_time": "2022-02-12T11:56:13.760Z"
   },
   {
    "duration": 129,
    "start_time": "2022-02-12T11:56:13.901Z"
   },
   {
    "duration": 246,
    "start_time": "2022-02-13T10:55:05.374Z"
   },
   {
    "duration": 715,
    "start_time": "2022-02-13T10:55:14.483Z"
   },
   {
    "duration": 516,
    "start_time": "2022-02-13T10:55:15.200Z"
   },
   {
    "duration": 15,
    "start_time": "2022-02-13T10:55:15.719Z"
   },
   {
    "duration": 121,
    "start_time": "2022-02-13T10:55:15.737Z"
   },
   {
    "duration": 82,
    "start_time": "2022-02-13T10:55:15.860Z"
   },
   {
    "duration": 95,
    "start_time": "2022-02-13T10:55:15.944Z"
   },
   {
    "duration": 35,
    "start_time": "2022-02-13T10:55:16.041Z"
   },
   {
    "duration": 52,
    "start_time": "2022-02-13T10:55:16.079Z"
   },
   {
    "duration": 5,
    "start_time": "2022-02-13T10:55:16.133Z"
   },
   {
    "duration": 39,
    "start_time": "2022-02-13T10:55:16.140Z"
   },
   {
    "duration": 26,
    "start_time": "2022-02-13T10:55:16.181Z"
   },
   {
    "duration": 19,
    "start_time": "2022-02-13T10:55:16.210Z"
   },
   {
    "duration": 5,
    "start_time": "2022-02-13T10:55:16.231Z"
   },
   {
    "duration": 132,
    "start_time": "2022-02-13T10:55:16.238Z"
   },
   {
    "duration": 21,
    "start_time": "2022-02-13T10:55:16.372Z"
   },
   {
    "duration": 8,
    "start_time": "2022-02-13T10:55:16.408Z"
   },
   {
    "duration": 154,
    "start_time": "2022-02-13T10:55:16.419Z"
   },
   {
    "duration": 170,
    "start_time": "2022-02-13T10:55:16.575Z"
   },
   {
    "duration": 163,
    "start_time": "2022-02-13T10:55:16.747Z"
   },
   {
    "duration": 216,
    "start_time": "2022-02-13T10:55:16.912Z"
   },
   {
    "duration": 163,
    "start_time": "2022-02-13T10:55:17.130Z"
   },
   {
    "duration": 148,
    "start_time": "2022-02-13T10:55:17.295Z"
   },
   {
    "duration": 5,
    "start_time": "2022-02-13T10:55:17.446Z"
   },
   {
    "duration": 5,
    "start_time": "2022-02-13T10:55:51.082Z"
   },
   {
    "duration": 150,
    "start_time": "2022-02-13T11:01:48.295Z"
   },
   {
    "duration": 6,
    "start_time": "2022-02-13T11:03:11.498Z"
   },
   {
    "duration": 2,
    "start_time": "2022-02-13T11:03:28.120Z"
   },
   {
    "duration": 5,
    "start_time": "2022-02-13T11:04:27.085Z"
   },
   {
    "duration": 201,
    "start_time": "2022-02-13T11:11:10.761Z"
   },
   {
    "duration": 358,
    "start_time": "2022-02-13T11:11:20.924Z"
   },
   {
    "duration": 449,
    "start_time": "2022-02-13T11:11:41.704Z"
   },
   {
    "duration": 262,
    "start_time": "2022-02-13T11:12:47.440Z"
   },
   {
    "duration": 270,
    "start_time": "2022-02-13T11:12:50.732Z"
   },
   {
    "duration": 335,
    "start_time": "2022-02-13T11:12:59.816Z"
   },
   {
    "duration": 7,
    "start_time": "2022-02-13T11:16:03.420Z"
   },
   {
    "duration": 5,
    "start_time": "2022-02-13T11:16:12.019Z"
   },
   {
    "duration": 176,
    "start_time": "2022-02-13T11:17:11.321Z"
   },
   {
    "duration": 176,
    "start_time": "2022-02-13T11:17:16.778Z"
   },
   {
    "duration": 5,
    "start_time": "2022-02-13T11:18:02.477Z"
   },
   {
    "duration": 5,
    "start_time": "2022-02-13T11:18:13.603Z"
   },
   {
    "duration": 196,
    "start_time": "2022-02-13T11:19:03.014Z"
   },
   {
    "duration": 259,
    "start_time": "2022-02-13T11:19:16.114Z"
   },
   {
    "duration": 178,
    "start_time": "2022-02-13T11:19:20.255Z"
   },
   {
    "duration": 199,
    "start_time": "2022-02-13T11:19:35.370Z"
   },
   {
    "duration": 206,
    "start_time": "2022-02-13T11:20:41.243Z"
   },
   {
    "duration": 221,
    "start_time": "2022-02-13T11:20:50.122Z"
   },
   {
    "duration": 510,
    "start_time": "2022-02-13T11:20:58.647Z"
   },
   {
    "duration": 330,
    "start_time": "2022-02-13T11:21:16.880Z"
   },
   {
    "duration": 284,
    "start_time": "2022-02-13T11:23:56.432Z"
   },
   {
    "duration": 240,
    "start_time": "2022-02-13T11:24:15.826Z"
   },
   {
    "duration": 148,
    "start_time": "2022-02-13T11:27:40.720Z"
   },
   {
    "duration": 141,
    "start_time": "2022-02-13T11:27:46.153Z"
   },
   {
    "duration": 162,
    "start_time": "2022-02-13T11:27:50.328Z"
   },
   {
    "duration": 158,
    "start_time": "2022-02-13T11:27:56.928Z"
   },
   {
    "duration": 143,
    "start_time": "2022-02-13T11:28:03.150Z"
   },
   {
    "duration": 139,
    "start_time": "2022-02-13T11:28:07.354Z"
   },
   {
    "duration": 136,
    "start_time": "2022-02-13T11:28:10.722Z"
   },
   {
    "duration": 140,
    "start_time": "2022-02-13T11:28:14.529Z"
   },
   {
    "duration": 136,
    "start_time": "2022-02-13T11:28:17.766Z"
   },
   {
    "duration": 142,
    "start_time": "2022-02-13T11:28:28.110Z"
   },
   {
    "duration": 148,
    "start_time": "2022-02-13T11:28:31.053Z"
   },
   {
    "duration": 3,
    "start_time": "2022-02-13T11:39:42.107Z"
   },
   {
    "duration": 3,
    "start_time": "2022-02-13T11:39:45.080Z"
   },
   {
    "duration": 6,
    "start_time": "2022-02-13T11:40:23.858Z"
   },
   {
    "duration": 6,
    "start_time": "2022-02-13T11:43:31.526Z"
   },
   {
    "duration": 221,
    "start_time": "2022-02-13T11:44:11.148Z"
   },
   {
    "duration": 523,
    "start_time": "2022-02-13T11:44:15.608Z"
   },
   {
    "duration": 358,
    "start_time": "2022-02-13T11:44:34.900Z"
   },
   {
    "duration": 205,
    "start_time": "2022-02-13T11:44:38.834Z"
   },
   {
    "duration": 241,
    "start_time": "2022-02-13T11:44:47.557Z"
   },
   {
    "duration": 396,
    "start_time": "2022-02-13T11:44:53.365Z"
   },
   {
    "duration": 303,
    "start_time": "2022-02-13T11:45:13.395Z"
   },
   {
    "duration": 448,
    "start_time": "2022-02-13T11:45:17.159Z"
   },
   {
    "duration": 221,
    "start_time": "2022-02-13T11:48:56.696Z"
   },
   {
    "duration": 156,
    "start_time": "2022-02-13T12:05:34.983Z"
   },
   {
    "duration": 151,
    "start_time": "2022-02-13T12:06:00.014Z"
   },
   {
    "duration": 153,
    "start_time": "2022-02-13T12:06:11.259Z"
   },
   {
    "duration": 252,
    "start_time": "2022-02-13T12:06:18.127Z"
   },
   {
    "duration": 157,
    "start_time": "2022-02-13T12:06:21.338Z"
   },
   {
    "duration": 150,
    "start_time": "2022-02-13T12:06:31.876Z"
   },
   {
    "duration": 6,
    "start_time": "2022-02-13T12:10:24.574Z"
   },
   {
    "duration": 6,
    "start_time": "2022-02-13T12:10:36.950Z"
   },
   {
    "duration": 193,
    "start_time": "2022-02-13T12:11:00.089Z"
   },
   {
    "duration": 212,
    "start_time": "2022-02-13T12:12:04.935Z"
   },
   {
    "duration": 201,
    "start_time": "2022-02-13T12:12:25.034Z"
   },
   {
    "duration": 394,
    "start_time": "2022-02-13T12:12:32.074Z"
   },
   {
    "duration": 237,
    "start_time": "2022-02-13T12:16:20.943Z"
   },
   {
    "duration": 225,
    "start_time": "2022-02-13T12:16:32.669Z"
   },
   {
    "duration": 150,
    "start_time": "2022-02-13T12:24:10.673Z"
   },
   {
    "duration": 5,
    "start_time": "2022-02-13T12:25:08.057Z"
   },
   {
    "duration": 6,
    "start_time": "2022-02-13T12:25:20.472Z"
   },
   {
    "duration": 225,
    "start_time": "2022-02-13T12:25:50.838Z"
   },
   {
    "duration": 211,
    "start_time": "2022-02-13T12:26:01.218Z"
   },
   {
    "duration": 267,
    "start_time": "2022-02-13T12:26:08.234Z"
   },
   {
    "duration": 412,
    "start_time": "2022-02-13T12:26:17.796Z"
   },
   {
    "duration": 299,
    "start_time": "2022-02-13T12:26:35.815Z"
   },
   {
    "duration": 205,
    "start_time": "2022-02-13T12:27:07.263Z"
   },
   {
    "duration": 222,
    "start_time": "2022-02-13T12:27:14.440Z"
   },
   {
    "duration": 5,
    "start_time": "2022-02-13T12:50:08.599Z"
   },
   {
    "duration": 148,
    "start_time": "2022-02-13T12:50:13.692Z"
   },
   {
    "duration": 5,
    "start_time": "2022-02-13T12:50:32.377Z"
   },
   {
    "duration": 261,
    "start_time": "2022-02-13T12:50:51.834Z"
   },
   {
    "duration": 271,
    "start_time": "2022-02-13T12:51:01.524Z"
   },
   {
    "duration": 204,
    "start_time": "2022-02-13T12:51:06.878Z"
   },
   {
    "duration": 218,
    "start_time": "2022-02-13T12:51:12.692Z"
   },
   {
    "duration": 201,
    "start_time": "2022-02-13T12:51:17.238Z"
   },
   {
    "duration": 212,
    "start_time": "2022-02-13T12:51:37.573Z"
   },
   {
    "duration": 161,
    "start_time": "2022-02-13T12:53:10.267Z"
   },
   {
    "duration": 264,
    "start_time": "2022-02-13T12:54:05.179Z"
   },
   {
    "duration": 137,
    "start_time": "2022-02-13T12:54:32.847Z"
   },
   {
    "duration": 656,
    "start_time": "2022-02-13T13:17:51.759Z"
   },
   {
    "duration": 535,
    "start_time": "2022-02-13T13:17:52.417Z"
   },
   {
    "duration": 14,
    "start_time": "2022-02-13T13:17:52.955Z"
   },
   {
    "duration": 169,
    "start_time": "2022-02-13T13:17:52.972Z"
   },
   {
    "duration": 89,
    "start_time": "2022-02-13T13:17:53.143Z"
   },
   {
    "duration": 95,
    "start_time": "2022-02-13T13:17:53.234Z"
   },
   {
    "duration": 35,
    "start_time": "2022-02-13T13:17:53.331Z"
   },
   {
    "duration": 49,
    "start_time": "2022-02-13T13:17:53.369Z"
   },
   {
    "duration": 4,
    "start_time": "2022-02-13T13:17:53.421Z"
   },
   {
    "duration": 42,
    "start_time": "2022-02-13T13:17:53.428Z"
   },
   {
    "duration": 16,
    "start_time": "2022-02-13T13:17:53.472Z"
   },
   {
    "duration": 34,
    "start_time": "2022-02-13T13:17:53.490Z"
   },
   {
    "duration": 6,
    "start_time": "2022-02-13T13:17:53.526Z"
   },
   {
    "duration": 138,
    "start_time": "2022-02-13T13:17:53.534Z"
   },
   {
    "duration": 21,
    "start_time": "2022-02-13T13:17:53.674Z"
   },
   {
    "duration": 11,
    "start_time": "2022-02-13T13:17:53.707Z"
   },
   {
    "duration": 174,
    "start_time": "2022-02-13T13:17:53.720Z"
   },
   {
    "duration": 5,
    "start_time": "2022-02-13T13:17:53.896Z"
   },
   {
    "duration": 6,
    "start_time": "2022-02-13T13:17:53.908Z"
   },
   {
    "duration": 291,
    "start_time": "2022-02-13T13:17:53.916Z"
   },
   {
    "duration": 158,
    "start_time": "2022-02-13T13:17:54.209Z"
   },
   {
    "duration": 4,
    "start_time": "2022-02-13T13:17:54.369Z"
   },
   {
    "duration": 24,
    "start_time": "2022-02-13T13:17:54.377Z"
   },
   {
    "duration": 297,
    "start_time": "2022-02-13T13:17:54.403Z"
   },
   {
    "duration": 164,
    "start_time": "2022-02-13T13:17:54.702Z"
   },
   {
    "duration": 6,
    "start_time": "2022-02-13T13:17:54.868Z"
   },
   {
    "duration": 7,
    "start_time": "2022-02-13T13:17:54.876Z"
   },
   {
    "duration": 263,
    "start_time": "2022-02-13T13:17:54.885Z"
   },
   {
    "duration": 162,
    "start_time": "2022-02-13T13:17:55.150Z"
   },
   {
    "duration": 5,
    "start_time": "2022-02-13T13:17:55.314Z"
   },
   {
    "duration": 9,
    "start_time": "2022-02-13T13:17:55.320Z"
   },
   {
    "duration": 241,
    "start_time": "2022-02-13T13:17:55.331Z"
   },
   {
    "duration": 165,
    "start_time": "2022-02-13T13:17:55.574Z"
   },
   {
    "duration": 5,
    "start_time": "2022-02-13T13:17:55.741Z"
   },
   {
    "duration": 21,
    "start_time": "2022-02-13T13:17:55.748Z"
   },
   {
    "duration": 239,
    "start_time": "2022-02-13T13:17:55.771Z"
   },
   {
    "duration": 162,
    "start_time": "2022-02-13T13:17:56.012Z"
   },
   {
    "duration": 6,
    "start_time": "2022-02-13T13:17:56.176Z"
   },
   {
    "duration": 23,
    "start_time": "2022-02-13T13:17:56.184Z"
   },
   {
    "duration": 279,
    "start_time": "2022-02-13T13:17:56.209Z"
   },
   {
    "duration": 19,
    "start_time": "2022-02-13T13:34:13.588Z"
   },
   {
    "duration": 5,
    "start_time": "2022-02-13T13:34:24.745Z"
   },
   {
    "duration": 305,
    "start_time": "2022-02-13T13:34:30.546Z"
   },
   {
    "duration": 5,
    "start_time": "2022-02-13T13:34:34.838Z"
   },
   {
    "duration": 5,
    "start_time": "2022-02-13T13:34:38.257Z"
   },
   {
    "duration": 274,
    "start_time": "2022-02-13T13:35:01.017Z"
   },
   {
    "duration": 211,
    "start_time": "2022-02-13T13:35:05.609Z"
   },
   {
    "duration": 327,
    "start_time": "2022-02-13T13:35:26.322Z"
   },
   {
    "duration": 194,
    "start_time": "2022-02-13T13:35:32.452Z"
   },
   {
    "duration": 196,
    "start_time": "2022-02-13T13:35:37.194Z"
   },
   {
    "duration": 223,
    "start_time": "2022-02-13T13:35:44.996Z"
   },
   {
    "duration": 261,
    "start_time": "2022-02-13T13:36:39.080Z"
   },
   {
    "duration": 211,
    "start_time": "2022-02-13T13:37:05.819Z"
   },
   {
    "duration": 224,
    "start_time": "2022-02-13T13:37:11.862Z"
   },
   {
    "duration": 5,
    "start_time": "2022-02-13T13:40:19.806Z"
   },
   {
    "duration": 6,
    "start_time": "2022-02-13T13:40:33.056Z"
   },
   {
    "duration": 5,
    "start_time": "2022-02-13T13:42:21.740Z"
   },
   {
    "duration": 431,
    "start_time": "2022-02-13T13:46:30.022Z"
   },
   {
    "duration": 4,
    "start_time": "2022-02-13T13:48:48.471Z"
   },
   {
    "duration": 6,
    "start_time": "2022-02-13T13:49:57.344Z"
   },
   {
    "duration": 6,
    "start_time": "2022-02-13T13:50:01.412Z"
   },
   {
    "duration": 6,
    "start_time": "2022-02-13T13:51:22.074Z"
   },
   {
    "duration": 7,
    "start_time": "2022-02-13T13:51:28.240Z"
   },
   {
    "duration": 7,
    "start_time": "2022-02-13T13:51:38.235Z"
   },
   {
    "duration": 6,
    "start_time": "2022-02-13T13:51:42.921Z"
   },
   {
    "duration": 7,
    "start_time": "2022-02-13T13:51:48.198Z"
   },
   {
    "duration": 6,
    "start_time": "2022-02-13T13:51:50.903Z"
   },
   {
    "duration": 5,
    "start_time": "2022-02-13T13:51:57.015Z"
   },
   {
    "duration": 149,
    "start_time": "2022-02-13T16:49:37.338Z"
   },
   {
    "duration": 148,
    "start_time": "2022-02-13T16:49:55.376Z"
   },
   {
    "duration": 169,
    "start_time": "2022-02-13T16:50:18.412Z"
   },
   {
    "duration": 202,
    "start_time": "2022-02-13T16:50:29.277Z"
   },
   {
    "duration": 214,
    "start_time": "2022-02-13T16:50:32.786Z"
   },
   {
    "duration": 5,
    "start_time": "2022-02-13T16:50:54.532Z"
   },
   {
    "duration": 7,
    "start_time": "2022-02-13T16:51:03.615Z"
   },
   {
    "duration": 4,
    "start_time": "2022-02-13T16:51:32.160Z"
   },
   {
    "duration": 151,
    "start_time": "2022-02-13T16:51:45.814Z"
   },
   {
    "duration": 150,
    "start_time": "2022-02-13T16:51:55.720Z"
   },
   {
    "duration": 3,
    "start_time": "2022-02-13T16:56:29.034Z"
   },
   {
    "duration": 150,
    "start_time": "2022-02-13T16:57:10.915Z"
   },
   {
    "duration": 150,
    "start_time": "2022-02-13T16:57:19.521Z"
   },
   {
    "duration": 148,
    "start_time": "2022-02-13T16:57:25.317Z"
   },
   {
    "duration": 161,
    "start_time": "2022-02-13T16:57:35.504Z"
   },
   {
    "duration": 155,
    "start_time": "2022-02-13T16:57:39.575Z"
   },
   {
    "duration": 154,
    "start_time": "2022-02-13T16:57:42.854Z"
   },
   {
    "duration": 5,
    "start_time": "2022-02-13T16:57:55.325Z"
   },
   {
    "duration": 357,
    "start_time": "2022-02-13T16:57:56.372Z"
   },
   {
    "duration": 10,
    "start_time": "2022-02-13T16:58:19.090Z"
   },
   {
    "duration": 1086,
    "start_time": "2022-02-13T16:58:56.429Z"
   },
   {
    "duration": 516,
    "start_time": "2022-02-13T16:58:57.518Z"
   },
   {
    "duration": 13,
    "start_time": "2022-02-13T16:58:58.037Z"
   },
   {
    "duration": 132,
    "start_time": "2022-02-13T16:58:58.052Z"
   },
   {
    "duration": 89,
    "start_time": "2022-02-13T16:58:58.186Z"
   },
   {
    "duration": 103,
    "start_time": "2022-02-13T16:58:58.277Z"
   },
   {
    "duration": 55,
    "start_time": "2022-02-13T16:58:58.382Z"
   },
   {
    "duration": 34,
    "start_time": "2022-02-13T16:58:58.440Z"
   },
   {
    "duration": 4,
    "start_time": "2022-02-13T16:58:58.477Z"
   },
   {
    "duration": 70,
    "start_time": "2022-02-13T16:58:58.484Z"
   },
   {
    "duration": 8,
    "start_time": "2022-02-13T16:58:58.556Z"
   },
   {
    "duration": 21,
    "start_time": "2022-02-13T16:58:58.566Z"
   },
   {
    "duration": 26,
    "start_time": "2022-02-13T16:58:58.589Z"
   },
   {
    "duration": 166,
    "start_time": "2022-02-13T16:58:58.618Z"
   },
   {
    "duration": 28,
    "start_time": "2022-02-13T16:58:58.786Z"
   },
   {
    "duration": 11,
    "start_time": "2022-02-13T16:58:58.817Z"
   },
   {
    "duration": 177,
    "start_time": "2022-02-13T16:58:58.830Z"
   },
   {
    "duration": 6,
    "start_time": "2022-02-13T16:58:59.009Z"
   },
   {
    "duration": 21,
    "start_time": "2022-02-13T16:58:59.017Z"
   },
   {
    "duration": 287,
    "start_time": "2022-02-13T16:58:59.040Z"
   },
   {
    "duration": 171,
    "start_time": "2022-02-13T16:58:59.329Z"
   },
   {
    "duration": 7,
    "start_time": "2022-02-13T16:58:59.503Z"
   },
   {
    "duration": 10,
    "start_time": "2022-02-13T16:58:59.514Z"
   },
   {
    "duration": 260,
    "start_time": "2022-02-13T16:58:59.526Z"
   },
   {
    "duration": 174,
    "start_time": "2022-02-13T16:58:59.788Z"
   },
   {
    "duration": 4,
    "start_time": "2022-02-13T16:58:59.964Z"
   },
   {
    "duration": 8,
    "start_time": "2022-02-13T16:58:59.970Z"
   },
   {
    "duration": 263,
    "start_time": "2022-02-13T16:58:59.980Z"
   },
   {
    "duration": 154,
    "start_time": "2022-02-13T16:59:00.245Z"
   },
   {
    "duration": 7,
    "start_time": "2022-02-13T16:59:00.401Z"
   },
   {
    "duration": 15,
    "start_time": "2022-02-13T16:59:00.410Z"
   },
   {
    "duration": 235,
    "start_time": "2022-02-13T16:59:00.426Z"
   },
   {
    "duration": 166,
    "start_time": "2022-02-13T16:59:00.663Z"
   },
   {
    "duration": 5,
    "start_time": "2022-02-13T16:59:00.830Z"
   },
   {
    "duration": 19,
    "start_time": "2022-02-13T16:59:00.837Z"
   },
   {
    "duration": 367,
    "start_time": "2022-02-13T16:59:00.858Z"
   },
   {
    "duration": 163,
    "start_time": "2022-02-13T16:59:01.227Z"
   },
   {
    "duration": 5,
    "start_time": "2022-02-13T16:59:01.392Z"
   },
   {
    "duration": 48,
    "start_time": "2022-02-13T16:59:01.399Z"
   },
   {
    "duration": 249,
    "start_time": "2022-02-13T16:59:01.449Z"
   },
   {
    "duration": 3,
    "start_time": "2022-02-13T16:59:01.700Z"
   },
   {
    "duration": 16,
    "start_time": "2022-02-13T16:59:01.708Z"
   },
   {
    "duration": 170,
    "start_time": "2022-02-13T16:59:01.726Z"
   },
   {
    "duration": 11,
    "start_time": "2022-02-13T16:59:01.898Z"
   },
   {
    "duration": 8,
    "start_time": "2022-02-13T16:59:29.379Z"
   },
   {
    "duration": 15,
    "start_time": "2022-02-13T17:00:18.121Z"
   },
   {
    "duration": 10,
    "start_time": "2022-02-13T17:04:10.060Z"
   },
   {
    "duration": 3,
    "start_time": "2022-02-13T17:04:14.084Z"
   },
   {
    "duration": 6,
    "start_time": "2022-02-13T17:04:17.917Z"
   },
   {
    "duration": 6,
    "start_time": "2022-02-13T17:04:27.678Z"
   },
   {
    "duration": 7,
    "start_time": "2022-02-13T17:04:32.837Z"
   },
   {
    "duration": 12,
    "start_time": "2022-02-13T17:17:56.038Z"
   },
   {
    "duration": 149,
    "start_time": "2022-02-13T17:19:10.972Z"
   },
   {
    "duration": 10,
    "start_time": "2022-02-13T17:19:35.333Z"
   },
   {
    "duration": 463,
    "start_time": "2022-02-13T17:19:49.043Z"
   },
   {
    "duration": 561,
    "start_time": "2022-02-13T17:21:11.107Z"
   },
   {
    "duration": 22,
    "start_time": "2022-02-13T17:21:34.346Z"
   },
   {
    "duration": 25,
    "start_time": "2022-02-13T17:21:40.088Z"
   },
   {
    "duration": 22,
    "start_time": "2022-02-13T17:21:49.997Z"
   },
   {
    "duration": 26,
    "start_time": "2022-02-13T17:21:59.130Z"
   },
   {
    "duration": 16,
    "start_time": "2022-02-13T17:22:05.462Z"
   },
   {
    "duration": 398,
    "start_time": "2022-02-13T17:22:49.596Z"
   },
   {
    "duration": 9,
    "start_time": "2022-02-13T17:23:16.563Z"
   },
   {
    "duration": 13,
    "start_time": "2022-02-13T17:23:27.693Z"
   },
   {
    "duration": 9,
    "start_time": "2022-02-13T17:23:40.484Z"
   },
   {
    "duration": 6,
    "start_time": "2022-02-13T17:23:42.035Z"
   },
   {
    "duration": 6,
    "start_time": "2022-02-13T17:23:46.597Z"
   },
   {
    "duration": 6,
    "start_time": "2022-02-13T17:23:49.728Z"
   },
   {
    "duration": 1238,
    "start_time": "2022-02-13T21:07:29.788Z"
   },
   {
    "duration": 624,
    "start_time": "2022-02-13T21:07:31.029Z"
   },
   {
    "duration": 13,
    "start_time": "2022-02-13T21:07:31.655Z"
   },
   {
    "duration": 133,
    "start_time": "2022-02-13T21:07:31.670Z"
   },
   {
    "duration": 95,
    "start_time": "2022-02-13T21:07:31.806Z"
   },
   {
    "duration": 105,
    "start_time": "2022-02-13T21:07:31.903Z"
   },
   {
    "duration": 39,
    "start_time": "2022-02-13T21:07:32.011Z"
   },
   {
    "duration": 56,
    "start_time": "2022-02-13T21:07:32.053Z"
   },
   {
    "duration": 6,
    "start_time": "2022-02-13T21:07:32.113Z"
   },
   {
    "duration": 61,
    "start_time": "2022-02-13T21:07:32.121Z"
   },
   {
    "duration": 5,
    "start_time": "2022-02-13T21:07:32.184Z"
   },
   {
    "duration": 34,
    "start_time": "2022-02-13T21:07:32.191Z"
   },
   {
    "duration": 19,
    "start_time": "2022-02-13T21:07:32.227Z"
   },
   {
    "duration": 153,
    "start_time": "2022-02-13T21:07:32.248Z"
   },
   {
    "duration": 20,
    "start_time": "2022-02-13T21:07:32.403Z"
   },
   {
    "duration": 25,
    "start_time": "2022-02-13T21:07:32.425Z"
   },
   {
    "duration": 178,
    "start_time": "2022-02-13T21:07:32.452Z"
   },
   {
    "duration": 5,
    "start_time": "2022-02-13T21:07:32.632Z"
   },
   {
    "duration": 21,
    "start_time": "2022-02-13T21:07:32.638Z"
   },
   {
    "duration": 328,
    "start_time": "2022-02-13T21:07:32.661Z"
   },
   {
    "duration": 182,
    "start_time": "2022-02-13T21:07:32.991Z"
   },
   {
    "duration": 6,
    "start_time": "2022-02-13T21:07:33.175Z"
   },
   {
    "duration": 35,
    "start_time": "2022-02-13T21:07:33.187Z"
   },
   {
    "duration": 304,
    "start_time": "2022-02-13T21:07:33.225Z"
   },
   {
    "duration": 183,
    "start_time": "2022-02-13T21:07:33.532Z"
   },
   {
    "duration": 5,
    "start_time": "2022-02-13T21:07:33.718Z"
   },
   {
    "duration": 15,
    "start_time": "2022-02-13T21:07:33.725Z"
   },
   {
    "duration": 267,
    "start_time": "2022-02-13T21:07:33.742Z"
   },
   {
    "duration": 171,
    "start_time": "2022-02-13T21:07:34.010Z"
   },
   {
    "duration": 21,
    "start_time": "2022-02-13T21:07:34.183Z"
   },
   {
    "duration": 15,
    "start_time": "2022-02-13T21:07:34.206Z"
   },
   {
    "duration": 309,
    "start_time": "2022-02-13T21:07:34.226Z"
   },
   {
    "duration": 182,
    "start_time": "2022-02-13T21:07:34.537Z"
   },
   {
    "duration": 6,
    "start_time": "2022-02-13T21:07:34.721Z"
   },
   {
    "duration": 6,
    "start_time": "2022-02-13T21:07:34.729Z"
   },
   {
    "duration": 379,
    "start_time": "2022-02-13T21:07:34.737Z"
   },
   {
    "duration": 168,
    "start_time": "2022-02-13T21:07:35.118Z"
   },
   {
    "duration": 12,
    "start_time": "2022-02-13T21:07:35.288Z"
   },
   {
    "duration": 7,
    "start_time": "2022-02-13T21:07:35.301Z"
   },
   {
    "duration": 282,
    "start_time": "2022-02-13T21:07:35.310Z"
   },
   {
    "duration": 9,
    "start_time": "2022-02-13T21:07:35.598Z"
   },
   {
    "duration": 195,
    "start_time": "2022-02-13T21:07:35.609Z"
   },
   {
    "duration": 8,
    "start_time": "2022-02-13T21:07:35.807Z"
   },
   {
    "duration": 9,
    "start_time": "2022-02-13T21:07:35.817Z"
   },
   {
    "duration": 1325,
    "start_time": "2022-02-14T05:40:11.758Z"
   },
   {
    "duration": 604,
    "start_time": "2022-02-14T05:40:13.086Z"
   },
   {
    "duration": 44,
    "start_time": "2022-02-14T05:40:13.693Z"
   },
   {
    "duration": 133,
    "start_time": "2022-02-14T05:40:13.740Z"
   },
   {
    "duration": 103,
    "start_time": "2022-02-14T05:40:13.876Z"
   },
   {
    "duration": 116,
    "start_time": "2022-02-14T05:40:13.981Z"
   },
   {
    "duration": 57,
    "start_time": "2022-02-14T05:40:14.099Z"
   },
   {
    "duration": 40,
    "start_time": "2022-02-14T05:40:14.159Z"
   },
   {
    "duration": 5,
    "start_time": "2022-02-14T05:40:14.201Z"
   },
   {
    "duration": 76,
    "start_time": "2022-02-14T05:40:14.208Z"
   },
   {
    "duration": 8,
    "start_time": "2022-02-14T05:40:14.286Z"
   },
   {
    "duration": 48,
    "start_time": "2022-02-14T05:40:14.296Z"
   },
   {
    "duration": 7,
    "start_time": "2022-02-14T05:40:14.346Z"
   },
   {
    "duration": 197,
    "start_time": "2022-02-14T05:40:14.355Z"
   },
   {
    "duration": 25,
    "start_time": "2022-02-14T05:40:14.554Z"
   },
   {
    "duration": 15,
    "start_time": "2022-02-14T05:40:14.581Z"
   },
   {
    "duration": 247,
    "start_time": "2022-02-14T05:40:14.599Z"
   },
   {
    "duration": 7,
    "start_time": "2022-02-14T05:40:14.848Z"
   },
   {
    "duration": 8,
    "start_time": "2022-02-14T05:40:14.857Z"
   },
   {
    "duration": 428,
    "start_time": "2022-02-14T05:40:14.867Z"
   },
   {
    "duration": 243,
    "start_time": "2022-02-14T05:40:15.297Z"
   },
   {
    "duration": 6,
    "start_time": "2022-02-14T05:40:15.543Z"
   },
   {
    "duration": 5,
    "start_time": "2022-02-14T05:40:15.555Z"
   },
   {
    "duration": 381,
    "start_time": "2022-02-14T05:40:15.563Z"
   },
   {
    "duration": 248,
    "start_time": "2022-02-14T05:40:15.946Z"
   },
   {
    "duration": 6,
    "start_time": "2022-02-14T05:40:16.196Z"
   },
   {
    "duration": 20,
    "start_time": "2022-02-14T05:40:16.204Z"
   },
   {
    "duration": 361,
    "start_time": "2022-02-14T05:40:16.226Z"
   },
   {
    "duration": 225,
    "start_time": "2022-02-14T05:40:16.590Z"
   },
   {
    "duration": 16,
    "start_time": "2022-02-14T05:40:16.817Z"
   },
   {
    "duration": 11,
    "start_time": "2022-02-14T05:40:16.836Z"
   },
   {
    "duration": 345,
    "start_time": "2022-02-14T05:40:16.850Z"
   },
   {
    "duration": 239,
    "start_time": "2022-02-14T05:40:17.198Z"
   },
   {
    "duration": 6,
    "start_time": "2022-02-14T05:40:17.439Z"
   },
   {
    "duration": 7,
    "start_time": "2022-02-14T05:40:17.448Z"
   },
   {
    "duration": 413,
    "start_time": "2022-02-14T05:40:17.458Z"
   },
   {
    "duration": 229,
    "start_time": "2022-02-14T05:40:17.873Z"
   },
   {
    "duration": 6,
    "start_time": "2022-02-14T05:40:18.104Z"
   },
   {
    "duration": 23,
    "start_time": "2022-02-14T05:40:18.113Z"
   },
   {
    "duration": 351,
    "start_time": "2022-02-14T05:40:18.138Z"
   },
   {
    "duration": 11,
    "start_time": "2022-02-14T05:40:18.492Z"
   },
   {
    "duration": 238,
    "start_time": "2022-02-14T05:40:18.505Z"
   },
   {
    "duration": 9,
    "start_time": "2022-02-14T05:40:18.746Z"
   },
   {
    "duration": 6,
    "start_time": "2022-02-14T05:40:18.757Z"
   },
   {
    "duration": 13,
    "start_time": "2022-02-14T05:40:18.765Z"
   },
   {
    "duration": 24,
    "start_time": "2022-02-14T05:40:32.937Z"
   },
   {
    "duration": 26,
    "start_time": "2022-02-14T05:40:58.365Z"
   },
   {
    "duration": 402,
    "start_time": "2022-02-14T05:41:53.730Z"
   },
   {
    "duration": 6,
    "start_time": "2022-02-14T05:41:59.398Z"
   },
   {
    "duration": 38,
    "start_time": "2022-02-14T05:42:01.838Z"
   },
   {
    "duration": 7,
    "start_time": "2022-02-14T06:00:02.615Z"
   },
   {
    "duration": 6,
    "start_time": "2022-02-14T06:00:13.534Z"
   },
   {
    "duration": 5,
    "start_time": "2022-02-14T06:00:26.208Z"
   },
   {
    "duration": 7,
    "start_time": "2022-02-14T06:00:30.557Z"
   },
   {
    "duration": 8,
    "start_time": "2022-02-14T06:00:36.812Z"
   },
   {
    "duration": 4,
    "start_time": "2022-02-14T06:01:26.603Z"
   },
   {
    "duration": 8,
    "start_time": "2022-02-14T06:01:28.891Z"
   },
   {
    "duration": 8,
    "start_time": "2022-02-14T06:01:34.375Z"
   },
   {
    "duration": 6,
    "start_time": "2022-02-14T06:01:37.288Z"
   },
   {
    "duration": 6,
    "start_time": "2022-02-14T06:01:53.450Z"
   },
   {
    "duration": 6,
    "start_time": "2022-02-14T06:02:04.362Z"
   },
   {
    "duration": 6,
    "start_time": "2022-02-14T06:02:15.456Z"
   },
   {
    "duration": 8,
    "start_time": "2022-02-14T06:36:57.099Z"
   },
   {
    "duration": 7,
    "start_time": "2022-02-14T06:37:53.506Z"
   },
   {
    "duration": 8,
    "start_time": "2022-02-14T06:37:59.387Z"
   },
   {
    "duration": 3,
    "start_time": "2022-02-14T06:38:09.731Z"
   },
   {
    "duration": 10,
    "start_time": "2022-02-14T06:38:41.793Z"
   },
   {
    "duration": 10,
    "start_time": "2022-02-14T06:38:57.083Z"
   },
   {
    "duration": 3,
    "start_time": "2022-02-14T06:39:25.341Z"
   },
   {
    "duration": 3,
    "start_time": "2022-02-14T06:39:29.726Z"
   },
   {
    "duration": 3,
    "start_time": "2022-02-14T06:39:30.586Z"
   },
   {
    "duration": 3,
    "start_time": "2022-02-14T06:39:32.629Z"
   },
   {
    "duration": 7,
    "start_time": "2022-02-14T06:39:35.805Z"
   },
   {
    "duration": 8,
    "start_time": "2022-02-14T06:40:05.108Z"
   },
   {
    "duration": 9,
    "start_time": "2022-02-14T06:40:09.301Z"
   },
   {
    "duration": 8,
    "start_time": "2022-02-14T06:40:13.165Z"
   },
   {
    "duration": 7,
    "start_time": "2022-02-14T06:40:34.904Z"
   },
   {
    "duration": 10,
    "start_time": "2022-02-14T06:40:38.088Z"
   },
   {
    "duration": 8,
    "start_time": "2022-02-14T06:40:42.242Z"
   },
   {
    "duration": 8,
    "start_time": "2022-02-14T06:40:45.489Z"
   },
   {
    "duration": 8,
    "start_time": "2022-02-14T06:40:57.005Z"
   },
   {
    "duration": 9,
    "start_time": "2022-02-14T06:41:00.080Z"
   },
   {
    "duration": 7,
    "start_time": "2022-02-14T06:41:04.384Z"
   },
   {
    "duration": 7,
    "start_time": "2022-02-14T06:41:40.261Z"
   },
   {
    "duration": 8,
    "start_time": "2022-02-14T06:51:25.593Z"
   },
   {
    "duration": 6962,
    "start_time": "2022-02-14T06:52:05.811Z"
   },
   {
    "duration": 15,
    "start_time": "2022-02-14T06:52:24.554Z"
   },
   {
    "duration": 10,
    "start_time": "2022-02-14T06:52:28.028Z"
   },
   {
    "duration": 9,
    "start_time": "2022-02-14T06:52:37.172Z"
   },
   {
    "duration": 9,
    "start_time": "2022-02-14T06:54:28.349Z"
   },
   {
    "duration": 33,
    "start_time": "2022-02-14T06:55:41.737Z"
   },
   {
    "duration": 14,
    "start_time": "2022-02-14T06:56:29.021Z"
   },
   {
    "duration": 6,
    "start_time": "2022-02-14T06:56:34.889Z"
   },
   {
    "duration": 9,
    "start_time": "2022-02-14T06:56:39.309Z"
   },
   {
    "duration": 36,
    "start_time": "2022-02-14T06:57:05.702Z"
   },
   {
    "duration": 1337,
    "start_time": "2022-02-14T06:57:17.550Z"
   },
   {
    "duration": 609,
    "start_time": "2022-02-14T06:57:18.890Z"
   },
   {
    "duration": 36,
    "start_time": "2022-02-14T06:57:19.502Z"
   },
   {
    "duration": 145,
    "start_time": "2022-02-14T06:57:19.541Z"
   },
   {
    "duration": 102,
    "start_time": "2022-02-14T06:57:19.688Z"
   },
   {
    "duration": 119,
    "start_time": "2022-02-14T06:57:19.792Z"
   },
   {
    "duration": 53,
    "start_time": "2022-02-14T06:57:19.913Z"
   },
   {
    "duration": 40,
    "start_time": "2022-02-14T06:57:19.969Z"
   },
   {
    "duration": 23,
    "start_time": "2022-02-14T06:57:20.012Z"
   },
   {
    "duration": 61,
    "start_time": "2022-02-14T06:57:20.037Z"
   },
   {
    "duration": 8,
    "start_time": "2022-02-14T06:57:20.101Z"
   },
   {
    "duration": 28,
    "start_time": "2022-02-14T06:57:20.133Z"
   },
   {
    "duration": 7,
    "start_time": "2022-02-14T06:57:20.163Z"
   },
   {
    "duration": 200,
    "start_time": "2022-02-14T06:57:20.172Z"
   },
   {
    "duration": 27,
    "start_time": "2022-02-14T06:57:20.374Z"
   },
   {
    "duration": 30,
    "start_time": "2022-02-14T06:57:20.403Z"
   },
   {
    "duration": 234,
    "start_time": "2022-02-14T06:57:20.435Z"
   },
   {
    "duration": 5,
    "start_time": "2022-02-14T06:57:20.671Z"
   },
   {
    "duration": 7,
    "start_time": "2022-02-14T06:57:20.678Z"
   },
   {
    "duration": 430,
    "start_time": "2022-02-14T06:57:20.687Z"
   },
   {
    "duration": 235,
    "start_time": "2022-02-14T06:57:21.119Z"
   },
   {
    "duration": 6,
    "start_time": "2022-02-14T06:57:21.358Z"
   },
   {
    "duration": 6,
    "start_time": "2022-02-14T06:57:21.369Z"
   },
   {
    "duration": 389,
    "start_time": "2022-02-14T06:57:21.378Z"
   },
   {
    "duration": 247,
    "start_time": "2022-02-14T06:57:21.769Z"
   },
   {
    "duration": 14,
    "start_time": "2022-02-14T06:57:22.019Z"
   },
   {
    "duration": 9,
    "start_time": "2022-02-14T06:57:22.035Z"
   },
   {
    "duration": 372,
    "start_time": "2022-02-14T06:57:22.047Z"
   },
   {
    "duration": 225,
    "start_time": "2022-02-14T06:57:22.422Z"
   },
   {
    "duration": 6,
    "start_time": "2022-02-14T06:57:22.649Z"
   },
   {
    "duration": 9,
    "start_time": "2022-02-14T06:57:22.657Z"
   },
   {
    "duration": 359,
    "start_time": "2022-02-14T06:57:22.668Z"
   },
   {
    "duration": 245,
    "start_time": "2022-02-14T06:57:23.033Z"
   },
   {
    "duration": 6,
    "start_time": "2022-02-14T06:57:23.280Z"
   },
   {
    "duration": 8,
    "start_time": "2022-02-14T06:57:23.288Z"
   },
   {
    "duration": 436,
    "start_time": "2022-02-14T06:57:23.298Z"
   },
   {
    "duration": 224,
    "start_time": "2022-02-14T06:57:23.737Z"
   },
   {
    "duration": 5,
    "start_time": "2022-02-14T06:57:23.964Z"
   },
   {
    "duration": 9,
    "start_time": "2022-02-14T06:57:23.971Z"
   },
   {
    "duration": 363,
    "start_time": "2022-02-14T06:57:23.983Z"
   },
   {
    "duration": 7,
    "start_time": "2022-02-14T06:57:24.349Z"
   },
   {
    "duration": 9,
    "start_time": "2022-02-14T06:57:24.358Z"
   },
   {
    "duration": 16,
    "start_time": "2022-02-14T06:57:24.369Z"
   },
   {
    "duration": 10,
    "start_time": "2022-02-14T06:57:24.387Z"
   },
   {
    "duration": 61,
    "start_time": "2022-02-14T06:57:24.399Z"
   },
   {
    "duration": 52,
    "start_time": "2022-02-14T06:57:54.116Z"
   },
   {
    "duration": 10,
    "start_time": "2022-02-14T06:57:58.353Z"
   },
   {
    "duration": 55,
    "start_time": "2022-02-14T06:58:02.198Z"
   },
   {
    "duration": 3,
    "start_time": "2022-02-14T07:03:38.248Z"
   },
   {
    "duration": 29,
    "start_time": "2022-02-14T07:04:10.526Z"
   },
   {
    "duration": 3,
    "start_time": "2022-02-14T07:04:13.095Z"
   },
   {
    "duration": 14,
    "start_time": "2022-02-14T07:04:55.340Z"
   },
   {
    "duration": 7,
    "start_time": "2022-02-14T07:09:15.070Z"
   },
   {
    "duration": 6,
    "start_time": "2022-02-14T07:09:23.198Z"
   },
   {
    "duration": 5,
    "start_time": "2022-02-14T07:09:30.820Z"
   },
   {
    "duration": 8,
    "start_time": "2022-02-14T07:09:39.550Z"
   },
   {
    "duration": 6,
    "start_time": "2022-02-14T07:09:43.245Z"
   },
   {
    "duration": 279,
    "start_time": "2022-02-14T07:15:19.389Z"
   },
   {
    "duration": 458,
    "start_time": "2022-02-14T07:15:38.855Z"
   },
   {
    "duration": 107,
    "start_time": "2022-02-14T07:15:53.109Z"
   },
   {
    "duration": 368,
    "start_time": "2022-02-14T07:15:58.031Z"
   },
   {
    "duration": 379,
    "start_time": "2022-02-14T07:16:09.370Z"
   },
   {
    "duration": 209,
    "start_time": "2022-02-14T07:17:13.215Z"
   },
   {
    "duration": 219,
    "start_time": "2022-02-14T07:17:45.879Z"
   },
   {
    "duration": 224,
    "start_time": "2022-02-14T07:18:00.964Z"
   },
   {
    "duration": 724,
    "start_time": "2022-02-14T07:18:18.743Z"
   },
   {
    "duration": 495,
    "start_time": "2022-02-14T07:18:37.314Z"
   },
   {
    "duration": 246,
    "start_time": "2022-02-14T07:18:48.025Z"
   },
   {
    "duration": 242,
    "start_time": "2022-02-14T07:19:21.901Z"
   },
   {
    "duration": 235,
    "start_time": "2022-02-14T07:19:27.716Z"
   },
   {
    "duration": 219,
    "start_time": "2022-02-14T07:19:32.097Z"
   },
   {
    "duration": 226,
    "start_time": "2022-02-14T07:19:39.866Z"
   },
   {
    "duration": 232,
    "start_time": "2022-02-14T07:20:41.866Z"
   },
   {
    "duration": 273,
    "start_time": "2022-02-14T07:20:58.023Z"
   },
   {
    "duration": 304,
    "start_time": "2022-02-14T07:21:03.961Z"
   },
   {
    "duration": 303,
    "start_time": "2022-02-14T07:21:06.750Z"
   },
   {
    "duration": 524,
    "start_time": "2022-02-14T07:21:15.326Z"
   },
   {
    "duration": 494,
    "start_time": "2022-02-14T07:21:28.861Z"
   },
   {
    "duration": 638,
    "start_time": "2022-02-14T07:21:53.833Z"
   },
   {
    "duration": 516,
    "start_time": "2022-02-14T07:21:57.049Z"
   },
   {
    "duration": 494,
    "start_time": "2022-02-14T07:22:23.965Z"
   },
   {
    "duration": 512,
    "start_time": "2022-02-14T07:22:34.564Z"
   },
   {
    "duration": 499,
    "start_time": "2022-02-14T07:22:38.749Z"
   },
   {
    "duration": 517,
    "start_time": "2022-02-14T07:22:45.650Z"
   },
   {
    "duration": 517,
    "start_time": "2022-02-14T07:22:52.192Z"
   },
   {
    "duration": 12,
    "start_time": "2022-02-14T07:23:44.723Z"
   },
   {
    "duration": 12,
    "start_time": "2022-02-14T07:23:54.667Z"
   },
   {
    "duration": 6,
    "start_time": "2022-02-14T07:26:48.097Z"
   },
   {
    "duration": 7,
    "start_time": "2022-02-14T07:27:05.720Z"
   },
   {
    "duration": 1359,
    "start_time": "2022-02-14T07:29:05.635Z"
   },
   {
    "duration": 614,
    "start_time": "2022-02-14T07:29:06.997Z"
   },
   {
    "duration": 17,
    "start_time": "2022-02-14T07:29:07.633Z"
   },
   {
    "duration": 138,
    "start_time": "2022-02-14T07:29:07.653Z"
   },
   {
    "duration": 106,
    "start_time": "2022-02-14T07:29:07.794Z"
   },
   {
    "duration": 119,
    "start_time": "2022-02-14T07:29:07.903Z"
   },
   {
    "duration": 50,
    "start_time": "2022-02-14T07:29:08.025Z"
   },
   {
    "duration": 58,
    "start_time": "2022-02-14T07:29:08.078Z"
   },
   {
    "duration": 5,
    "start_time": "2022-02-14T07:29:08.140Z"
   },
   {
    "duration": 51,
    "start_time": "2022-02-14T07:29:08.147Z"
   },
   {
    "duration": 32,
    "start_time": "2022-02-14T07:29:08.200Z"
   },
   {
    "duration": 26,
    "start_time": "2022-02-14T07:29:08.234Z"
   },
   {
    "duration": 8,
    "start_time": "2022-02-14T07:29:08.263Z"
   },
   {
    "duration": 210,
    "start_time": "2022-02-14T07:29:08.273Z"
   },
   {
    "duration": 24,
    "start_time": "2022-02-14T07:29:08.486Z"
   },
   {
    "duration": 26,
    "start_time": "2022-02-14T07:29:08.513Z"
   },
   {
    "duration": 227,
    "start_time": "2022-02-14T07:29:08.541Z"
   },
   {
    "duration": 6,
    "start_time": "2022-02-14T07:29:08.771Z"
   },
   {
    "duration": 10,
    "start_time": "2022-02-14T07:29:08.780Z"
   },
   {
    "duration": 424,
    "start_time": "2022-02-14T07:29:08.792Z"
   },
   {
    "duration": 282,
    "start_time": "2022-02-14T07:29:09.218Z"
   },
   {
    "duration": 15,
    "start_time": "2022-02-14T07:29:09.504Z"
   },
   {
    "duration": 22,
    "start_time": "2022-02-14T07:29:09.527Z"
   },
   {
    "duration": 359,
    "start_time": "2022-02-14T07:29:09.552Z"
   },
   {
    "duration": 250,
    "start_time": "2022-02-14T07:29:09.913Z"
   },
   {
    "duration": 6,
    "start_time": "2022-02-14T07:29:10.166Z"
   },
   {
    "duration": 8,
    "start_time": "2022-02-14T07:29:10.174Z"
   },
   {
    "duration": 378,
    "start_time": "2022-02-14T07:29:10.184Z"
   },
   {
    "duration": 234,
    "start_time": "2022-02-14T07:29:10.565Z"
   },
   {
    "duration": 6,
    "start_time": "2022-02-14T07:29:10.801Z"
   },
   {
    "duration": 26,
    "start_time": "2022-02-14T07:29:10.809Z"
   },
   {
    "duration": 336,
    "start_time": "2022-02-14T07:29:10.838Z"
   },
   {
    "duration": 256,
    "start_time": "2022-02-14T07:29:11.176Z"
   },
   {
    "duration": 7,
    "start_time": "2022-02-14T07:29:11.434Z"
   },
   {
    "duration": 13,
    "start_time": "2022-02-14T07:29:11.443Z"
   },
   {
    "duration": 435,
    "start_time": "2022-02-14T07:29:11.458Z"
   },
   {
    "duration": 241,
    "start_time": "2022-02-14T07:29:11.896Z"
   },
   {
    "duration": 7,
    "start_time": "2022-02-14T07:29:12.139Z"
   },
   {
    "duration": 6,
    "start_time": "2022-02-14T07:29:12.148Z"
   },
   {
    "duration": 395,
    "start_time": "2022-02-14T07:29:12.157Z"
   },
   {
    "duration": 8,
    "start_time": "2022-02-14T07:29:12.555Z"
   },
   {
    "duration": 8,
    "start_time": "2022-02-14T07:29:12.566Z"
   },
   {
    "duration": 19,
    "start_time": "2022-02-14T07:29:12.576Z"
   },
   {
    "duration": 39,
    "start_time": "2022-02-14T07:29:12.598Z"
   },
   {
    "duration": 6,
    "start_time": "2022-02-14T07:29:12.639Z"
   },
   {
    "duration": 10,
    "start_time": "2022-02-14T07:29:12.648Z"
   },
   {
    "duration": 1086,
    "start_time": "2022-02-20T18:25:53.002Z"
   },
   {
    "duration": 499,
    "start_time": "2022-02-20T18:25:54.090Z"
   },
   {
    "duration": 16,
    "start_time": "2022-02-20T18:25:54.592Z"
   },
   {
    "duration": 186,
    "start_time": "2022-02-20T18:25:54.610Z"
   },
   {
    "duration": 92,
    "start_time": "2022-02-20T18:25:54.798Z"
   },
   {
    "duration": 86,
    "start_time": "2022-02-20T18:25:54.892Z"
   },
   {
    "duration": 33,
    "start_time": "2022-02-20T18:25:54.979Z"
   },
   {
    "duration": 65,
    "start_time": "2022-02-20T18:25:55.016Z"
   },
   {
    "duration": 6,
    "start_time": "2022-02-20T18:25:55.084Z"
   },
   {
    "duration": 39,
    "start_time": "2022-02-20T18:25:55.091Z"
   },
   {
    "duration": 4,
    "start_time": "2022-02-20T18:25:55.132Z"
   },
   {
    "duration": 30,
    "start_time": "2022-02-20T18:25:55.138Z"
   },
   {
    "duration": 6,
    "start_time": "2022-02-20T18:25:55.169Z"
   },
   {
    "duration": 124,
    "start_time": "2022-02-20T18:25:55.177Z"
   },
   {
    "duration": 17,
    "start_time": "2022-02-20T18:25:55.303Z"
   },
   {
    "duration": 8,
    "start_time": "2022-02-20T18:25:55.322Z"
   },
   {
    "duration": 209,
    "start_time": "2022-02-20T18:25:55.331Z"
   },
   {
    "duration": 5,
    "start_time": "2022-02-20T18:25:55.542Z"
   },
   {
    "duration": 14,
    "start_time": "2022-02-20T18:25:55.549Z"
   },
   {
    "duration": 291,
    "start_time": "2022-02-20T18:25:55.564Z"
   },
   {
    "duration": 202,
    "start_time": "2022-02-20T18:25:55.858Z"
   },
   {
    "duration": 5,
    "start_time": "2022-02-20T18:25:56.062Z"
   },
   {
    "duration": 8,
    "start_time": "2022-02-20T18:25:56.070Z"
   },
   {
    "duration": 251,
    "start_time": "2022-02-20T18:25:56.081Z"
   },
   {
    "duration": 158,
    "start_time": "2022-02-20T18:25:56.334Z"
   },
   {
    "duration": 4,
    "start_time": "2022-02-20T18:25:56.494Z"
   },
   {
    "duration": 7,
    "start_time": "2022-02-20T18:25:56.501Z"
   },
   {
    "duration": 255,
    "start_time": "2022-02-20T18:25:56.510Z"
   },
   {
    "duration": 154,
    "start_time": "2022-02-20T18:25:56.767Z"
   },
   {
    "duration": 5,
    "start_time": "2022-02-20T18:25:56.923Z"
   },
   {
    "duration": 9,
    "start_time": "2022-02-20T18:25:56.930Z"
   },
   {
    "duration": 280,
    "start_time": "2022-02-20T18:25:56.941Z"
   },
   {
    "duration": 167,
    "start_time": "2022-02-20T18:25:57.223Z"
   },
   {
    "duration": 5,
    "start_time": "2022-02-20T18:25:57.392Z"
   },
   {
    "duration": 7,
    "start_time": "2022-02-20T18:25:57.398Z"
   },
   {
    "duration": 301,
    "start_time": "2022-02-20T18:25:57.406Z"
   },
   {
    "duration": 145,
    "start_time": "2022-02-20T18:25:57.709Z"
   },
   {
    "duration": 5,
    "start_time": "2022-02-20T18:25:57.860Z"
   },
   {
    "duration": 6,
    "start_time": "2022-02-20T18:25:57.867Z"
   },
   {
    "duration": 240,
    "start_time": "2022-02-20T18:25:57.874Z"
   },
   {
    "duration": 5,
    "start_time": "2022-02-20T18:25:58.116Z"
   },
   {
    "duration": 8,
    "start_time": "2022-02-20T18:25:58.123Z"
   },
   {
    "duration": 31,
    "start_time": "2022-02-20T18:25:58.133Z"
   },
   {
    "duration": 10,
    "start_time": "2022-02-20T18:25:58.165Z"
   },
   {
    "duration": 7,
    "start_time": "2022-02-20T18:25:58.177Z"
   },
   {
    "duration": 7,
    "start_time": "2022-02-20T18:25:58.185Z"
   },
   {
    "duration": 5,
    "start_time": "2022-02-20T18:57:28.279Z"
   },
   {
    "duration": 5,
    "start_time": "2022-02-20T18:59:36.179Z"
   },
   {
    "duration": 1072,
    "start_time": "2022-02-21T17:05:49.488Z"
   },
   {
    "duration": 398,
    "start_time": "2022-02-21T17:06:51.608Z"
   },
   {
    "duration": 3,
    "start_time": "2022-02-21T17:06:57.687Z"
   },
   {
    "duration": 389,
    "start_time": "2022-02-21T17:06:57.692Z"
   },
   {
    "duration": 16,
    "start_time": "2022-02-21T17:06:58.084Z"
   },
   {
    "duration": 26,
    "start_time": "2022-02-21T17:06:58.102Z"
   },
   {
    "duration": 38,
    "start_time": "2022-02-21T17:06:58.130Z"
   },
   {
    "duration": 24,
    "start_time": "2022-02-21T17:06:58.170Z"
   },
   {
    "duration": 11,
    "start_time": "2022-02-21T17:07:24.591Z"
   },
   {
    "duration": 9,
    "start_time": "2022-02-21T17:12:55.302Z"
   },
   {
    "duration": 14,
    "start_time": "2022-02-21T17:13:04.178Z"
   },
   {
    "duration": 105,
    "start_time": "2022-02-21T17:13:30.193Z"
   },
   {
    "duration": 44,
    "start_time": "2022-02-21T17:13:42.875Z"
   },
   {
    "duration": 56,
    "start_time": "2022-02-21T17:13:56.190Z"
   },
   {
    "duration": 7,
    "start_time": "2022-02-21T17:14:02.888Z"
   },
   {
    "duration": 193,
    "start_time": "2022-02-21T17:15:56.379Z"
   },
   {
    "duration": 228,
    "start_time": "2022-02-21T17:16:05.784Z"
   },
   {
    "duration": 196,
    "start_time": "2022-02-21T17:16:14.687Z"
   },
   {
    "duration": 3,
    "start_time": "2022-02-21T17:20:17.677Z"
   },
   {
    "duration": 389,
    "start_time": "2022-02-21T17:20:18.039Z"
   },
   {
    "duration": 14,
    "start_time": "2022-02-21T17:20:19.557Z"
   },
   {
    "duration": 28,
    "start_time": "2022-02-21T17:20:21.610Z"
   },
   {
    "duration": 19,
    "start_time": "2022-02-21T17:20:21.803Z"
   },
   {
    "duration": 24,
    "start_time": "2022-02-21T17:20:22.034Z"
   },
   {
    "duration": 15,
    "start_time": "2022-02-21T17:20:22.425Z"
   },
   {
    "duration": 184,
    "start_time": "2022-02-21T17:20:25.928Z"
   },
   {
    "duration": 340,
    "start_time": "2022-02-21T17:27:47.520Z"
   },
   {
    "duration": 163,
    "start_time": "2022-02-21T17:28:04.427Z"
   },
   {
    "duration": 247,
    "start_time": "2022-02-21T17:28:21.900Z"
   },
   {
    "duration": 2411,
    "start_time": "2022-02-21T17:28:36.873Z"
   },
   {
    "duration": 438,
    "start_time": "2022-02-21T17:28:46.073Z"
   },
   {
    "duration": 16,
    "start_time": "2022-02-21T17:30:37.914Z"
   },
   {
    "duration": 3,
    "start_time": "2022-02-21T17:31:35.232Z"
   },
   {
    "duration": 2,
    "start_time": "2022-02-21T17:31:37.611Z"
   },
   {
    "duration": 11,
    "start_time": "2022-02-21T17:31:56.839Z"
   },
   {
    "duration": 13,
    "start_time": "2022-02-21T17:32:06.201Z"
   },
   {
    "duration": 370,
    "start_time": "2022-02-21T17:32:28.483Z"
   },
   {
    "duration": 382,
    "start_time": "2022-02-21T17:32:31.298Z"
   },
   {
    "duration": 26,
    "start_time": "2022-02-21T17:32:37.787Z"
   },
   {
    "duration": 11,
    "start_time": "2022-02-21T17:32:46.528Z"
   },
   {
    "duration": 11,
    "start_time": "2022-02-21T17:32:51.867Z"
   },
   {
    "duration": 3,
    "start_time": "2022-02-21T17:33:08.930Z"
   },
   {
    "duration": 371,
    "start_time": "2022-02-21T17:33:08.935Z"
   },
   {
    "duration": 14,
    "start_time": "2022-02-21T17:33:09.308Z"
   },
   {
    "duration": 36,
    "start_time": "2022-02-21T17:33:09.324Z"
   },
   {
    "duration": 21,
    "start_time": "2022-02-21T17:33:09.361Z"
   },
   {
    "duration": 25,
    "start_time": "2022-02-21T17:33:09.384Z"
   },
   {
    "duration": 14,
    "start_time": "2022-02-21T17:33:09.411Z"
   },
   {
    "duration": 198,
    "start_time": "2022-02-21T17:33:09.460Z"
   },
   {
    "duration": 3,
    "start_time": "2022-02-21T17:33:09.660Z"
   },
   {
    "duration": 6,
    "start_time": "2022-02-21T17:33:09.665Z"
   },
   {
    "duration": 14,
    "start_time": "2022-02-21T17:33:09.672Z"
   },
   {
    "duration": 105,
    "start_time": "2022-02-21T17:33:09.688Z"
   },
   {
    "duration": 34,
    "start_time": "2022-02-21T17:33:20.393Z"
   },
   {
    "duration": 2,
    "start_time": "2022-02-21T17:33:40.747Z"
   },
   {
    "duration": 375,
    "start_time": "2022-02-21T17:33:40.751Z"
   },
   {
    "duration": 13,
    "start_time": "2022-02-21T17:33:41.128Z"
   },
   {
    "duration": 34,
    "start_time": "2022-02-21T17:33:41.143Z"
   },
   {
    "duration": 20,
    "start_time": "2022-02-21T17:33:41.179Z"
   },
   {
    "duration": 24,
    "start_time": "2022-02-21T17:33:41.201Z"
   },
   {
    "duration": 39,
    "start_time": "2022-02-21T17:33:41.226Z"
   },
   {
    "duration": 203,
    "start_time": "2022-02-21T17:33:41.267Z"
   },
   {
    "duration": 2,
    "start_time": "2022-02-21T17:33:41.471Z"
   },
   {
    "duration": 7,
    "start_time": "2022-02-21T17:33:41.475Z"
   },
   {
    "duration": 14,
    "start_time": "2022-02-21T17:33:41.483Z"
   },
   {
    "duration": 96,
    "start_time": "2022-02-21T17:33:41.499Z"
   },
   {
    "duration": 1084,
    "start_time": "2022-02-21T17:34:37.569Z"
   },
   {
    "duration": 403,
    "start_time": "2022-02-21T17:34:38.655Z"
   },
   {
    "duration": 21,
    "start_time": "2022-02-21T17:34:39.061Z"
   },
   {
    "duration": 29,
    "start_time": "2022-02-21T17:34:39.085Z"
   },
   {
    "duration": 50,
    "start_time": "2022-02-21T17:34:39.116Z"
   },
   {
    "duration": 24,
    "start_time": "2022-02-21T17:34:39.168Z"
   },
   {
    "duration": 10,
    "start_time": "2022-02-21T17:34:39.194Z"
   },
   {
    "duration": 241,
    "start_time": "2022-02-21T17:34:39.206Z"
   },
   {
    "duration": 3,
    "start_time": "2022-02-21T17:34:39.461Z"
   },
   {
    "duration": 5,
    "start_time": "2022-02-21T17:34:39.466Z"
   },
   {
    "duration": 15,
    "start_time": "2022-02-21T17:34:39.472Z"
   },
   {
    "duration": 111,
    "start_time": "2022-02-21T17:34:39.489Z"
   },
   {
    "duration": 81,
    "start_time": "2022-02-21T17:34:39.603Z"
   },
   {
    "duration": 90,
    "start_time": "2022-02-21T17:34:39.686Z"
   },
   {
    "duration": 33,
    "start_time": "2022-02-21T17:34:39.778Z"
   },
   {
    "duration": 51,
    "start_time": "2022-02-21T17:34:39.813Z"
   },
   {
    "duration": 4,
    "start_time": "2022-02-21T17:34:39.866Z"
   },
   {
    "duration": 47,
    "start_time": "2022-02-21T17:34:39.872Z"
   },
   {
    "duration": 4,
    "start_time": "2022-02-21T17:34:39.921Z"
   },
   {
    "duration": 8,
    "start_time": "2022-02-21T17:34:39.926Z"
   },
   {
    "duration": 26,
    "start_time": "2022-02-21T17:34:39.935Z"
   },
   {
    "duration": 5,
    "start_time": "2022-02-21T17:34:39.962Z"
   },
   {
    "duration": 117,
    "start_time": "2022-02-21T17:34:39.968Z"
   },
   {
    "duration": 16,
    "start_time": "2022-02-21T17:34:40.086Z"
   },
   {
    "duration": 5,
    "start_time": "2022-02-21T17:40:04.194Z"
   },
   {
    "duration": 4,
    "start_time": "2022-02-21T17:40:10.809Z"
   },
   {
    "duration": 5,
    "start_time": "2022-02-21T17:40:13.600Z"
   },
   {
    "duration": 3,
    "start_time": "2022-02-21T17:42:27.681Z"
   },
   {
    "duration": 5,
    "start_time": "2022-02-21T17:42:48.285Z"
   },
   {
    "duration": 5,
    "start_time": "2022-02-21T17:42:51.840Z"
   },
   {
    "duration": 5,
    "start_time": "2022-02-21T17:42:54.513Z"
   },
   {
    "duration": 3,
    "start_time": "2022-02-21T17:53:02.239Z"
   },
   {
    "duration": 6,
    "start_time": "2022-02-21T17:53:12.281Z"
   },
   {
    "duration": 209,
    "start_time": "2022-02-21T18:23:40.745Z"
   },
   {
    "duration": 5,
    "start_time": "2022-02-21T18:23:44.525Z"
   },
   {
    "duration": 10,
    "start_time": "2022-02-21T18:33:11.577Z"
   },
   {
    "duration": 10,
    "start_time": "2022-02-21T18:33:59.441Z"
   },
   {
    "duration": 18,
    "start_time": "2022-02-21T18:34:03.784Z"
   },
   {
    "duration": 4,
    "start_time": "2022-02-21T18:34:43.273Z"
   },
   {
    "duration": 8,
    "start_time": "2022-02-21T18:34:43.742Z"
   },
   {
    "duration": 5,
    "start_time": "2022-02-21T18:35:19.372Z"
   },
   {
    "duration": 9,
    "start_time": "2022-02-21T18:35:19.518Z"
   },
   {
    "duration": 142,
    "start_time": "2022-02-21T18:35:30.832Z"
   },
   {
    "duration": 9,
    "start_time": "2022-02-21T18:35:31.153Z"
   },
   {
    "duration": 5,
    "start_time": "2022-02-21T18:35:36.248Z"
   },
   {
    "duration": 23,
    "start_time": "2022-02-21T18:35:38.298Z"
   },
   {
    "duration": 4,
    "start_time": "2022-02-21T18:39:09.398Z"
   },
   {
    "duration": 23,
    "start_time": "2022-02-21T18:39:10.167Z"
   },
   {
    "duration": 4,
    "start_time": "2022-02-21T18:39:47.047Z"
   },
   {
    "duration": 6,
    "start_time": "2022-02-21T18:43:58.870Z"
   },
   {
    "duration": 5,
    "start_time": "2022-02-21T18:44:25.817Z"
   },
   {
    "duration": 58,
    "start_time": "2022-02-21T18:45:42.570Z"
   },
   {
    "duration": 6,
    "start_time": "2022-02-21T18:45:44.788Z"
   },
   {
    "duration": 1246,
    "start_time": "2022-02-21T18:46:10.182Z"
   },
   {
    "duration": 429,
    "start_time": "2022-02-21T18:46:11.430Z"
   },
   {
    "duration": 26,
    "start_time": "2022-02-21T18:46:11.861Z"
   },
   {
    "duration": 40,
    "start_time": "2022-02-21T18:46:11.889Z"
   },
   {
    "duration": 40,
    "start_time": "2022-02-21T18:46:11.931Z"
   },
   {
    "duration": 23,
    "start_time": "2022-02-21T18:46:11.973Z"
   },
   {
    "duration": 12,
    "start_time": "2022-02-21T18:46:11.998Z"
   },
   {
    "duration": 282,
    "start_time": "2022-02-21T18:46:12.012Z"
   },
   {
    "duration": 3,
    "start_time": "2022-02-21T18:46:12.296Z"
   },
   {
    "duration": 10,
    "start_time": "2022-02-21T18:46:12.301Z"
   },
   {
    "duration": 19,
    "start_time": "2022-02-21T18:46:12.313Z"
   },
   {
    "duration": 107,
    "start_time": "2022-02-21T18:46:12.334Z"
   },
   {
    "duration": 82,
    "start_time": "2022-02-21T18:46:12.443Z"
   },
   {
    "duration": 98,
    "start_time": "2022-02-21T18:46:12.528Z"
   },
   {
    "duration": 44,
    "start_time": "2022-02-21T18:46:12.627Z"
   },
   {
    "duration": 32,
    "start_time": "2022-02-21T18:46:12.673Z"
   },
   {
    "duration": 4,
    "start_time": "2022-02-21T18:46:12.707Z"
   },
   {
    "duration": 55,
    "start_time": "2022-02-21T18:46:12.713Z"
   },
   {
    "duration": 4,
    "start_time": "2022-02-21T18:46:12.770Z"
   },
   {
    "duration": 6,
    "start_time": "2022-02-21T19:48:45.015Z"
   },
   {
    "duration": 27,
    "start_time": "2022-02-21T19:48:49.607Z"
   },
   {
    "duration": 1095,
    "start_time": "2022-02-21T19:49:12.856Z"
   },
   {
    "duration": 431,
    "start_time": "2022-02-21T19:49:13.953Z"
   },
   {
    "duration": 19,
    "start_time": "2022-02-21T19:49:14.386Z"
   },
   {
    "duration": 28,
    "start_time": "2022-02-21T19:49:14.408Z"
   },
   {
    "duration": 36,
    "start_time": "2022-02-21T19:49:14.438Z"
   },
   {
    "duration": 22,
    "start_time": "2022-02-21T19:49:14.476Z"
   },
   {
    "duration": 10,
    "start_time": "2022-02-21T19:49:14.500Z"
   },
   {
    "duration": 259,
    "start_time": "2022-02-21T19:49:14.513Z"
   },
   {
    "duration": 3,
    "start_time": "2022-02-21T19:49:14.774Z"
   },
   {
    "duration": 10,
    "start_time": "2022-02-21T19:49:14.779Z"
   },
   {
    "duration": 18,
    "start_time": "2022-02-21T19:49:14.791Z"
   },
   {
    "duration": 102,
    "start_time": "2022-02-21T19:49:14.810Z"
   },
   {
    "duration": 75,
    "start_time": "2022-02-21T19:49:14.914Z"
   },
   {
    "duration": 100,
    "start_time": "2022-02-21T19:49:14.991Z"
   },
   {
    "duration": 34,
    "start_time": "2022-02-21T19:49:15.093Z"
   },
   {
    "duration": 47,
    "start_time": "2022-02-21T19:49:15.128Z"
   },
   {
    "duration": 4,
    "start_time": "2022-02-21T19:49:15.176Z"
   },
   {
    "duration": 39,
    "start_time": "2022-02-21T19:49:15.182Z"
   },
   {
    "duration": 4,
    "start_time": "2022-02-21T19:49:15.223Z"
   },
   {
    "duration": 30,
    "start_time": "2022-02-21T19:49:15.229Z"
   },
   {
    "duration": 33,
    "start_time": "2022-02-21T19:49:15.261Z"
   },
   {
    "duration": 5,
    "start_time": "2022-02-21T19:49:15.296Z"
   },
   {
    "duration": 155,
    "start_time": "2022-02-21T19:49:15.304Z"
   },
   {
    "duration": 17,
    "start_time": "2022-02-21T19:49:15.461Z"
   },
   {
    "duration": 22,
    "start_time": "2022-02-21T19:49:15.479Z"
   },
   {
    "duration": 158,
    "start_time": "2022-02-21T19:49:15.503Z"
   },
   {
    "duration": 4,
    "start_time": "2022-02-21T19:49:15.662Z"
   },
   {
    "duration": 9,
    "start_time": "2022-02-21T19:49:15.668Z"
   },
   {
    "duration": 280,
    "start_time": "2022-02-21T19:49:15.678Z"
   },
   {
    "duration": 3,
    "start_time": "2022-02-21T20:35:42.326Z"
   },
   {
    "duration": 403,
    "start_time": "2022-02-21T20:35:42.331Z"
   },
   {
    "duration": 14,
    "start_time": "2022-02-21T20:35:42.736Z"
   },
   {
    "duration": 28,
    "start_time": "2022-02-21T20:35:42.758Z"
   },
   {
    "duration": 20,
    "start_time": "2022-02-21T20:35:42.788Z"
   },
   {
    "duration": 25,
    "start_time": "2022-02-21T20:35:42.809Z"
   },
   {
    "duration": 12,
    "start_time": "2022-02-21T20:35:42.860Z"
   },
   {
    "duration": 203,
    "start_time": "2022-02-21T20:35:42.875Z"
   },
   {
    "duration": 2,
    "start_time": "2022-02-21T20:35:43.080Z"
   },
   {
    "duration": 9,
    "start_time": "2022-02-21T20:35:43.084Z"
   },
   {
    "duration": 16,
    "start_time": "2022-02-21T20:35:43.095Z"
   },
   {
    "duration": 93,
    "start_time": "2022-02-21T20:35:43.112Z"
   },
   {
    "duration": 77,
    "start_time": "2022-02-21T20:35:43.207Z"
   },
   {
    "duration": 60,
    "start_time": "2022-02-21T20:35:43.286Z"
   },
   {
    "duration": 41,
    "start_time": "2022-02-21T20:35:43.348Z"
   },
   {
    "duration": 31,
    "start_time": "2022-02-21T20:35:43.390Z"
   },
   {
    "duration": 4,
    "start_time": "2022-02-21T20:35:43.423Z"
   },
   {
    "duration": 61,
    "start_time": "2022-02-21T20:35:43.428Z"
   },
   {
    "duration": 4,
    "start_time": "2022-02-21T20:35:43.491Z"
   },
   {
    "duration": 36,
    "start_time": "2022-02-21T20:36:37.182Z"
   },
   {
    "duration": 5,
    "start_time": "2022-02-21T20:36:38.233Z"
   },
   {
    "duration": 7,
    "start_time": "2022-02-21T20:36:56.990Z"
   },
   {
    "duration": 5,
    "start_time": "2022-02-21T20:37:02.657Z"
   },
   {
    "duration": 5,
    "start_time": "2022-02-21T20:37:06.583Z"
   },
   {
    "duration": 4,
    "start_time": "2022-02-21T20:37:11.769Z"
   },
   {
    "duration": 5,
    "start_time": "2022-02-21T20:37:11.953Z"
   },
   {
    "duration": 6,
    "start_time": "2022-02-21T20:37:31.594Z"
   },
   {
    "duration": 1418,
    "start_time": "2022-02-22T08:36:00.072Z"
   },
   {
    "duration": 573,
    "start_time": "2022-02-22T08:36:01.493Z"
   },
   {
    "duration": 26,
    "start_time": "2022-02-22T08:36:02.068Z"
   },
   {
    "duration": 54,
    "start_time": "2022-02-22T08:36:02.097Z"
   },
   {
    "duration": 28,
    "start_time": "2022-02-22T08:36:02.153Z"
   },
   {
    "duration": 57,
    "start_time": "2022-02-22T08:36:02.184Z"
   },
   {
    "duration": 18,
    "start_time": "2022-02-22T08:36:02.244Z"
   },
   {
    "duration": 377,
    "start_time": "2022-02-22T08:36:02.267Z"
   },
   {
    "duration": 4,
    "start_time": "2022-02-22T08:36:02.646Z"
   },
   {
    "duration": 12,
    "start_time": "2022-02-22T08:36:02.653Z"
   },
   {
    "duration": 21,
    "start_time": "2022-02-22T08:36:02.668Z"
   },
   {
    "duration": 169,
    "start_time": "2022-02-22T08:36:02.692Z"
   },
   {
    "duration": 116,
    "start_time": "2022-02-22T08:36:02.864Z"
   },
   {
    "duration": 131,
    "start_time": "2022-02-22T08:36:02.983Z"
   },
   {
    "duration": 55,
    "start_time": "2022-02-22T08:36:03.116Z"
   },
   {
    "duration": 68,
    "start_time": "2022-02-22T08:36:03.173Z"
   },
   {
    "duration": 6,
    "start_time": "2022-02-22T08:36:03.244Z"
   },
   {
    "duration": 87,
    "start_time": "2022-02-22T08:36:03.253Z"
   },
   {
    "duration": 7,
    "start_time": "2022-02-22T08:36:03.343Z"
   },
   {
    "duration": 30,
    "start_time": "2022-02-22T08:36:03.353Z"
   },
   {
    "duration": 5,
    "start_time": "2022-02-22T08:36:36.475Z"
   },
   {
    "duration": 532,
    "start_time": "2022-02-22T08:36:36.483Z"
   },
   {
    "duration": 19,
    "start_time": "2022-02-22T08:36:37.018Z"
   },
   {
    "duration": 46,
    "start_time": "2022-02-22T08:36:37.040Z"
   },
   {
    "duration": 47,
    "start_time": "2022-02-22T08:36:37.088Z"
   },
   {
    "duration": 33,
    "start_time": "2022-02-22T08:36:37.138Z"
   },
   {
    "duration": 25,
    "start_time": "2022-02-22T08:36:37.174Z"
   },
   {
    "duration": 301,
    "start_time": "2022-02-22T08:36:37.226Z"
   },
   {
    "duration": 4,
    "start_time": "2022-02-22T08:36:37.529Z"
   },
   {
    "duration": 21,
    "start_time": "2022-02-22T08:36:37.535Z"
   },
   {
    "duration": 28,
    "start_time": "2022-02-22T08:36:37.559Z"
   },
   {
    "duration": 139,
    "start_time": "2022-02-22T08:36:37.589Z"
   },
   {
    "duration": 117,
    "start_time": "2022-02-22T08:36:37.731Z"
   },
   {
    "duration": 107,
    "start_time": "2022-02-22T08:36:37.851Z"
   },
   {
    "duration": 45,
    "start_time": "2022-02-22T08:36:37.960Z"
   },
   {
    "duration": 52,
    "start_time": "2022-02-22T08:36:38.008Z"
   },
   {
    "duration": 5,
    "start_time": "2022-02-22T08:36:38.063Z"
   },
   {
    "duration": 81,
    "start_time": "2022-02-22T08:36:38.070Z"
   },
   {
    "duration": 6,
    "start_time": "2022-02-22T08:36:38.155Z"
   },
   {
    "duration": 7,
    "start_time": "2022-02-22T08:36:38.164Z"
   },
   {
    "duration": 54,
    "start_time": "2022-02-22T08:36:38.173Z"
   },
   {
    "duration": 9,
    "start_time": "2022-02-22T08:36:38.230Z"
   },
   {
    "duration": 203,
    "start_time": "2022-02-22T08:36:38.241Z"
   },
   {
    "duration": 27,
    "start_time": "2022-02-22T08:36:38.447Z"
   },
   {
    "duration": 10,
    "start_time": "2022-02-22T08:36:38.476Z"
   },
   {
    "duration": 359,
    "start_time": "2022-02-22T08:36:38.489Z"
   },
   {
    "duration": 6,
    "start_time": "2022-02-22T08:36:38.851Z"
   },
   {
    "duration": 8,
    "start_time": "2022-02-22T08:36:38.859Z"
   },
   {
    "duration": 426,
    "start_time": "2022-02-22T08:37:25.681Z"
   },
   {
    "duration": 385,
    "start_time": "2022-02-22T08:37:41.822Z"
   },
   {
    "duration": 521,
    "start_time": "2022-02-22T08:37:50.824Z"
   },
   {
    "duration": 508,
    "start_time": "2022-02-22T08:38:05.560Z"
   },
   {
    "duration": 523,
    "start_time": "2022-02-22T08:39:07.169Z"
   },
   {
    "duration": 794,
    "start_time": "2022-02-22T08:39:34.936Z"
   },
   {
    "duration": 592,
    "start_time": "2022-02-22T08:43:24.866Z"
   },
   {
    "duration": 600,
    "start_time": "2022-02-22T08:43:44.831Z"
   },
   {
    "duration": 1390,
    "start_time": "2022-02-22T08:48:28.973Z"
   },
   {
    "duration": 555,
    "start_time": "2022-02-22T08:48:30.366Z"
   },
   {
    "duration": 27,
    "start_time": "2022-02-22T08:48:30.925Z"
   },
   {
    "duration": 40,
    "start_time": "2022-02-22T08:48:30.955Z"
   },
   {
    "duration": 57,
    "start_time": "2022-02-22T08:48:30.997Z"
   },
   {
    "duration": 32,
    "start_time": "2022-02-22T08:48:31.056Z"
   },
   {
    "duration": 44,
    "start_time": "2022-02-22T08:48:31.091Z"
   },
   {
    "duration": 363,
    "start_time": "2022-02-22T08:48:31.140Z"
   },
   {
    "duration": 4,
    "start_time": "2022-02-22T08:48:31.505Z"
   },
   {
    "duration": 24,
    "start_time": "2022-02-22T08:48:31.512Z"
   },
   {
    "duration": 25,
    "start_time": "2022-02-22T08:48:31.539Z"
   },
   {
    "duration": 152,
    "start_time": "2022-02-22T08:48:31.567Z"
   },
   {
    "duration": 114,
    "start_time": "2022-02-22T08:48:31.725Z"
   },
   {
    "duration": 126,
    "start_time": "2022-02-22T08:48:31.841Z"
   },
   {
    "duration": 68,
    "start_time": "2022-02-22T08:48:31.970Z"
   },
   {
    "duration": 57,
    "start_time": "2022-02-22T08:48:32.041Z"
   },
   {
    "duration": 25,
    "start_time": "2022-02-22T08:48:32.101Z"
   },
   {
    "duration": 56,
    "start_time": "2022-02-22T08:48:32.129Z"
   },
   {
    "duration": 6,
    "start_time": "2022-02-22T08:48:32.188Z"
   },
   {
    "duration": 15,
    "start_time": "2022-02-22T08:48:32.227Z"
   },
   {
    "duration": 30,
    "start_time": "2022-02-22T08:48:32.244Z"
   },
   {
    "duration": 8,
    "start_time": "2022-02-22T08:48:32.277Z"
   },
   {
    "duration": 214,
    "start_time": "2022-02-22T08:48:32.290Z"
   },
   {
    "duration": 49,
    "start_time": "2022-02-22T08:48:32.507Z"
   },
   {
    "duration": 15,
    "start_time": "2022-02-22T08:48:32.559Z"
   },
   {
    "duration": 265,
    "start_time": "2022-02-22T08:48:32.577Z"
   },
   {
    "duration": 8,
    "start_time": "2022-02-22T08:48:32.846Z"
   },
   {
    "duration": 19,
    "start_time": "2022-02-22T08:48:32.857Z"
   },
   {
    "duration": 711,
    "start_time": "2022-02-22T08:48:32.879Z"
   },
   {
    "duration": 344,
    "start_time": "2022-02-22T08:52:51.790Z"
   },
   {
    "duration": 347,
    "start_time": "2022-02-22T08:53:04.285Z"
   },
   {
    "duration": 339,
    "start_time": "2022-02-22T08:53:24.544Z"
   },
   {
    "duration": 455,
    "start_time": "2022-02-22T08:53:28.540Z"
   },
   {
    "duration": 364,
    "start_time": "2022-02-22T08:53:58.155Z"
   },
   {
    "duration": 1039,
    "start_time": "2022-02-22T08:54:23.574Z"
   },
   {
    "duration": 612,
    "start_time": "2022-02-22T08:57:29.270Z"
   },
   {
    "duration": 424,
    "start_time": "2022-02-22T08:59:17.705Z"
   },
   {
    "duration": 544,
    "start_time": "2022-02-22T08:59:30.175Z"
   },
   {
    "duration": 432,
    "start_time": "2022-02-22T09:00:08.835Z"
   },
   {
    "duration": 3,
    "start_time": "2022-02-22T09:00:17.375Z"
   },
   {
    "duration": 355,
    "start_time": "2022-02-22T09:00:20.989Z"
   },
   {
    "duration": 4,
    "start_time": "2022-02-22T09:00:48.915Z"
   },
   {
    "duration": 517,
    "start_time": "2022-02-22T09:00:48.922Z"
   },
   {
    "duration": 20,
    "start_time": "2022-02-22T09:00:49.442Z"
   },
   {
    "duration": 47,
    "start_time": "2022-02-22T09:00:49.465Z"
   },
   {
    "duration": 27,
    "start_time": "2022-02-22T09:00:49.526Z"
   },
   {
    "duration": 33,
    "start_time": "2022-02-22T09:00:49.556Z"
   },
   {
    "duration": 51,
    "start_time": "2022-02-22T09:00:49.593Z"
   },
   {
    "duration": 299,
    "start_time": "2022-02-22T09:00:49.647Z"
   },
   {
    "duration": 4,
    "start_time": "2022-02-22T09:00:49.949Z"
   },
   {
    "duration": 5,
    "start_time": "2022-02-22T09:00:49.956Z"
   },
   {
    "duration": 20,
    "start_time": "2022-02-22T09:00:49.964Z"
   },
   {
    "duration": 167,
    "start_time": "2022-02-22T09:00:49.987Z"
   },
   {
    "duration": 121,
    "start_time": "2022-02-22T09:00:50.157Z"
   },
   {
    "duration": 126,
    "start_time": "2022-02-22T09:00:50.281Z"
   },
   {
    "duration": 55,
    "start_time": "2022-02-22T09:00:50.409Z"
   },
   {
    "duration": 77,
    "start_time": "2022-02-22T09:00:50.468Z"
   },
   {
    "duration": 6,
    "start_time": "2022-02-22T09:00:50.547Z"
   },
   {
    "duration": 79,
    "start_time": "2022-02-22T09:00:50.555Z"
   },
   {
    "duration": 7,
    "start_time": "2022-02-22T09:00:50.640Z"
   },
   {
    "duration": 8,
    "start_time": "2022-02-22T09:00:50.650Z"
   },
   {
    "duration": 31,
    "start_time": "2022-02-22T09:00:50.661Z"
   },
   {
    "duration": 38,
    "start_time": "2022-02-22T09:00:50.695Z"
   },
   {
    "duration": 204,
    "start_time": "2022-02-22T09:00:50.735Z"
   },
   {
    "duration": 30,
    "start_time": "2022-02-22T09:00:50.943Z"
   },
   {
    "duration": 13,
    "start_time": "2022-02-22T09:00:50.975Z"
   },
   {
    "duration": 255,
    "start_time": "2022-02-22T09:00:50.991Z"
   },
   {
    "duration": 6,
    "start_time": "2022-02-22T09:00:51.248Z"
   },
   {
    "duration": 11,
    "start_time": "2022-02-22T09:00:51.256Z"
   },
   {
    "duration": 389,
    "start_time": "2022-02-22T09:00:51.269Z"
   },
   {
    "duration": 625,
    "start_time": "2022-02-22T09:03:01.153Z"
   },
   {
    "duration": 622,
    "start_time": "2022-02-22T09:03:14.590Z"
   },
   {
    "duration": 735,
    "start_time": "2022-02-22T09:04:43.698Z"
   },
   {
    "duration": 3,
    "start_time": "2022-02-22T09:04:49.097Z"
   },
   {
    "duration": 617,
    "start_time": "2022-02-22T09:05:00.652Z"
   },
   {
    "duration": 270,
    "start_time": "2022-02-22T10:05:45.802Z"
   },
   {
    "duration": 283,
    "start_time": "2022-02-22T10:06:01.738Z"
   },
   {
    "duration": 468,
    "start_time": "2022-02-22T10:06:20.732Z"
   },
   {
    "duration": 697,
    "start_time": "2022-02-22T10:07:05.390Z"
   },
   {
    "duration": 484,
    "start_time": "2022-02-22T10:07:29.774Z"
   },
   {
    "duration": 473,
    "start_time": "2022-02-22T10:07:43.368Z"
   },
   {
    "duration": 460,
    "start_time": "2022-02-22T10:08:33.606Z"
   },
   {
    "duration": 300,
    "start_time": "2022-02-22T10:08:47.481Z"
   },
   {
    "duration": 5,
    "start_time": "2022-02-22T10:08:56.449Z"
   },
   {
    "duration": 5,
    "start_time": "2022-02-22T10:09:06.323Z"
   },
   {
    "duration": 4,
    "start_time": "2022-02-22T10:09:22.014Z"
   },
   {
    "duration": 8,
    "start_time": "2022-02-22T10:09:35.605Z"
   },
   {
    "duration": 7,
    "start_time": "2022-02-22T10:11:07.825Z"
   },
   {
    "duration": 256,
    "start_time": "2022-02-22T10:19:41.763Z"
   },
   {
    "duration": 260,
    "start_time": "2022-02-22T10:22:04.063Z"
   },
   {
    "duration": 597,
    "start_time": "2022-02-22T10:22:08.003Z"
   },
   {
    "duration": 456,
    "start_time": "2022-02-22T10:25:00.151Z"
   },
   {
    "duration": 7,
    "start_time": "2022-02-22T10:25:24.286Z"
   },
   {
    "duration": 7,
    "start_time": "2022-02-22T10:25:53.138Z"
   },
   {
    "duration": 10,
    "start_time": "2022-02-22T10:26:00.341Z"
   },
   {
    "duration": 6,
    "start_time": "2022-02-22T10:26:05.180Z"
   },
   {
    "duration": 596,
    "start_time": "2022-02-22T10:26:41.463Z"
   },
   {
    "duration": 355,
    "start_time": "2022-02-22T10:26:50.322Z"
   },
   {
    "duration": 347,
    "start_time": "2022-02-22T10:26:58.683Z"
   },
   {
    "duration": 590,
    "start_time": "2022-02-22T10:27:05.728Z"
   },
   {
    "duration": 728,
    "start_time": "2022-02-22T10:27:21.006Z"
   },
   {
    "duration": 637,
    "start_time": "2022-02-22T10:27:23.569Z"
   },
   {
    "duration": 449,
    "start_time": "2022-02-22T10:28:17.937Z"
   },
   {
    "duration": 809,
    "start_time": "2022-02-22T10:28:35.554Z"
   },
   {
    "duration": 1502,
    "start_time": "2022-02-22T10:28:49.404Z"
   },
   {
    "duration": 561,
    "start_time": "2022-02-22T10:28:50.910Z"
   },
   {
    "duration": 27,
    "start_time": "2022-02-22T10:28:51.474Z"
   },
   {
    "duration": 54,
    "start_time": "2022-02-22T10:28:51.504Z"
   },
   {
    "duration": 29,
    "start_time": "2022-02-22T10:28:51.561Z"
   },
   {
    "duration": 61,
    "start_time": "2022-02-22T10:28:51.593Z"
   },
   {
    "duration": 22,
    "start_time": "2022-02-22T10:28:51.657Z"
   },
   {
    "duration": 352,
    "start_time": "2022-02-22T10:28:51.682Z"
   },
   {
    "duration": 5,
    "start_time": "2022-02-22T10:28:52.037Z"
   },
   {
    "duration": 25,
    "start_time": "2022-02-22T10:28:52.045Z"
   },
   {
    "duration": 39,
    "start_time": "2022-02-22T10:28:52.073Z"
   },
   {
    "duration": 199,
    "start_time": "2022-02-22T10:28:52.115Z"
   },
   {
    "duration": 122,
    "start_time": "2022-02-22T10:28:52.326Z"
   },
   {
    "duration": 121,
    "start_time": "2022-02-22T10:28:52.451Z"
   },
   {
    "duration": 56,
    "start_time": "2022-02-22T10:28:52.574Z"
   },
   {
    "duration": 44,
    "start_time": "2022-02-22T10:28:52.632Z"
   },
   {
    "duration": 5,
    "start_time": "2022-02-22T10:28:52.679Z"
   },
   {
    "duration": 83,
    "start_time": "2022-02-22T10:28:52.687Z"
   },
   {
    "duration": 6,
    "start_time": "2022-02-22T10:28:52.772Z"
   },
   {
    "duration": 34,
    "start_time": "2022-02-22T10:28:52.781Z"
   },
   {
    "duration": 52,
    "start_time": "2022-02-22T10:28:52.817Z"
   },
   {
    "duration": 14,
    "start_time": "2022-02-22T10:28:52.871Z"
   },
   {
    "duration": 206,
    "start_time": "2022-02-22T10:28:52.890Z"
   },
   {
    "duration": 36,
    "start_time": "2022-02-22T10:28:53.099Z"
   },
   {
    "duration": 33,
    "start_time": "2022-02-22T10:28:53.138Z"
   },
   {
    "duration": 635,
    "start_time": "2022-02-22T10:28:53.174Z"
   },
   {
    "duration": 19,
    "start_time": "2022-02-22T10:28:53.811Z"
   },
   {
    "duration": 11,
    "start_time": "2022-02-22T10:28:53.832Z"
   },
   {
    "duration": 603,
    "start_time": "2022-02-22T10:28:53.845Z"
   },
   {
    "duration": 3,
    "start_time": "2022-02-22T10:28:54.451Z"
   },
   {
    "duration": 470,
    "start_time": "2022-02-22T10:28:54.456Z"
   },
   {
    "duration": 8,
    "start_time": "2022-02-22T10:28:54.929Z"
   },
   {
    "duration": 16,
    "start_time": "2022-02-22T10:28:54.939Z"
   },
   {
    "duration": 563,
    "start_time": "2022-02-22T10:28:54.958Z"
   },
   {
    "duration": 591,
    "start_time": "2022-02-22T10:28:55.523Z"
   },
   {
    "duration": 6,
    "start_time": "2022-02-22T10:29:14.745Z"
   },
   {
    "duration": 11,
    "start_time": "2022-02-22T10:29:35.839Z"
   },
   {
    "duration": 11,
    "start_time": "2022-02-22T10:29:40.367Z"
   },
   {
    "duration": 522,
    "start_time": "2022-02-22T10:30:01.601Z"
   },
   {
    "duration": 566,
    "start_time": "2022-02-22T10:30:08.670Z"
   },
   {
    "duration": 414,
    "start_time": "2022-02-22T10:30:21.305Z"
   },
   {
    "duration": 371,
    "start_time": "2022-02-22T10:30:36.150Z"
   },
   {
    "duration": 289,
    "start_time": "2022-02-22T10:30:42.554Z"
   },
   {
    "duration": 572,
    "start_time": "2022-02-22T10:30:52.695Z"
   },
   {
    "duration": 468,
    "start_time": "2022-02-22T10:31:03.329Z"
   },
   {
    "duration": 687,
    "start_time": "2022-02-22T10:31:10.369Z"
   },
   {
    "duration": 485,
    "start_time": "2022-02-22T10:31:16.041Z"
   },
   {
    "duration": 401,
    "start_time": "2022-02-22T10:31:20.656Z"
   },
   {
    "duration": 103,
    "start_time": "2022-02-22T10:32:00.537Z"
   },
   {
    "duration": 401,
    "start_time": "2022-02-22T10:32:04.103Z"
   },
   {
    "duration": 555,
    "start_time": "2022-02-22T10:32:14.666Z"
   },
   {
    "duration": 555,
    "start_time": "2022-02-22T10:32:31.750Z"
   },
   {
    "duration": 7,
    "start_time": "2022-02-22T10:32:57.000Z"
   },
   {
    "duration": 7,
    "start_time": "2022-02-22T10:33:06.148Z"
   },
   {
    "duration": 1419,
    "start_time": "2022-02-22T10:33:16.516Z"
   },
   {
    "duration": 555,
    "start_time": "2022-02-22T10:33:17.939Z"
   },
   {
    "duration": 36,
    "start_time": "2022-02-22T10:33:18.501Z"
   },
   {
    "duration": 36,
    "start_time": "2022-02-22T10:33:18.539Z"
   },
   {
    "duration": 55,
    "start_time": "2022-02-22T10:33:18.577Z"
   },
   {
    "duration": 31,
    "start_time": "2022-02-22T10:33:18.634Z"
   },
   {
    "duration": 19,
    "start_time": "2022-02-22T10:33:18.669Z"
   },
   {
    "duration": 366,
    "start_time": "2022-02-22T10:33:18.690Z"
   },
   {
    "duration": 4,
    "start_time": "2022-02-22T10:33:19.058Z"
   },
   {
    "duration": 5,
    "start_time": "2022-02-22T10:33:19.064Z"
   },
   {
    "duration": 18,
    "start_time": "2022-02-22T10:33:19.072Z"
   },
   {
    "duration": 167,
    "start_time": "2022-02-22T10:33:19.093Z"
   },
   {
    "duration": 109,
    "start_time": "2022-02-22T10:33:19.263Z"
   },
   {
    "duration": 123,
    "start_time": "2022-02-22T10:33:19.375Z"
   },
   {
    "duration": 59,
    "start_time": "2022-02-22T10:33:19.501Z"
   },
   {
    "duration": 41,
    "start_time": "2022-02-22T10:33:19.563Z"
   },
   {
    "duration": 22,
    "start_time": "2022-02-22T10:33:19.607Z"
   },
   {
    "duration": 53,
    "start_time": "2022-02-22T10:33:19.632Z"
   },
   {
    "duration": 5,
    "start_time": "2022-02-22T10:33:19.688Z"
   },
   {
    "duration": 9,
    "start_time": "2022-02-22T10:33:19.727Z"
   },
   {
    "duration": 27,
    "start_time": "2022-02-22T10:33:19.739Z"
   },
   {
    "duration": 8,
    "start_time": "2022-02-22T10:33:19.768Z"
   },
   {
    "duration": 211,
    "start_time": "2022-02-22T10:33:19.779Z"
   },
   {
    "duration": 40,
    "start_time": "2022-02-22T10:33:19.992Z"
   },
   {
    "duration": 23,
    "start_time": "2022-02-22T10:33:20.037Z"
   },
   {
    "duration": 508,
    "start_time": "2022-02-22T10:33:20.064Z"
   },
   {
    "duration": 7,
    "start_time": "2022-02-22T10:33:20.575Z"
   },
   {
    "duration": 17,
    "start_time": "2022-02-22T10:33:20.584Z"
   },
   {
    "duration": 619,
    "start_time": "2022-02-22T10:33:20.603Z"
   },
   {
    "duration": 4,
    "start_time": "2022-02-22T10:33:21.226Z"
   },
   {
    "duration": 450,
    "start_time": "2022-02-22T10:33:21.232Z"
   },
   {
    "duration": 6,
    "start_time": "2022-02-22T10:33:21.685Z"
   },
   {
    "duration": 10,
    "start_time": "2022-02-22T10:33:21.694Z"
   },
   {
    "duration": 532,
    "start_time": "2022-02-22T10:33:21.727Z"
   },
   {
    "duration": 567,
    "start_time": "2022-02-22T10:33:22.262Z"
   },
   {
    "duration": 7,
    "start_time": "2022-02-22T10:33:22.831Z"
   },
   {
    "duration": 8,
    "start_time": "2022-02-22T10:33:22.841Z"
   },
   {
    "duration": 636,
    "start_time": "2022-02-22T10:33:22.852Z"
   },
   {
    "duration": 6,
    "start_time": "2022-02-22T10:33:23.490Z"
   },
   {
    "duration": 29,
    "start_time": "2022-02-22T10:33:23.499Z"
   },
   {
    "duration": 365,
    "start_time": "2022-02-22T10:33:23.530Z"
   },
   {
    "duration": 9,
    "start_time": "2022-02-22T10:33:23.898Z"
   },
   {
    "duration": 22,
    "start_time": "2022-02-22T10:33:23.909Z"
   },
   {
    "duration": 49,
    "start_time": "2022-02-22T10:33:23.933Z"
   },
   {
    "duration": 26,
    "start_time": "2022-02-22T10:33:23.984Z"
   },
   {
    "duration": 13,
    "start_time": "2022-02-22T10:33:24.012Z"
   },
   {
    "duration": 25,
    "start_time": "2022-02-22T10:33:24.027Z"
   },
   {
    "duration": 11,
    "start_time": "2022-02-22T11:01:08.482Z"
   },
   {
    "duration": 327,
    "start_time": "2022-02-22T11:01:17.275Z"
   },
   {
    "duration": 11,
    "start_time": "2022-02-22T11:01:23.309Z"
   },
   {
    "duration": 10,
    "start_time": "2022-02-22T11:01:25.884Z"
   },
   {
    "duration": 8,
    "start_time": "2022-02-22T11:01:41.572Z"
   },
   {
    "duration": 330,
    "start_time": "2022-02-22T11:01:57.140Z"
   },
   {
    "duration": 7,
    "start_time": "2022-02-22T11:02:04.067Z"
   },
   {
    "duration": 6,
    "start_time": "2022-02-22T11:02:11.359Z"
   },
   {
    "duration": 493,
    "start_time": "2022-02-22T11:02:21.802Z"
   },
   {
    "duration": 349,
    "start_time": "2022-02-22T11:02:23.713Z"
   },
   {
    "duration": 6,
    "start_time": "2022-02-22T11:02:34.261Z"
   },
   {
    "duration": 341,
    "start_time": "2022-02-22T11:03:19.501Z"
   },
   {
    "duration": 7,
    "start_time": "2022-02-22T11:04:41.535Z"
   },
   {
    "duration": 11,
    "start_time": "2022-02-22T11:05:04.555Z"
   },
   {
    "duration": 356,
    "start_time": "2022-02-22T11:05:11.428Z"
   },
   {
    "duration": 437,
    "start_time": "2022-02-22T11:05:26.506Z"
   },
   {
    "duration": 10,
    "start_time": "2022-02-22T11:05:38.656Z"
   },
   {
    "duration": 6,
    "start_time": "2022-02-22T11:05:45.151Z"
   },
   {
    "duration": 8,
    "start_time": "2022-02-22T11:05:47.983Z"
   },
   {
    "duration": 11,
    "start_time": "2022-02-22T11:05:58.289Z"
   },
   {
    "duration": 313,
    "start_time": "2022-02-22T11:06:29.480Z"
   },
   {
    "duration": 13,
    "start_time": "2022-02-22T11:06:43.165Z"
   },
   {
    "duration": 324,
    "start_time": "2022-02-22T11:06:49.887Z"
   },
   {
    "duration": 184,
    "start_time": "2022-02-22T11:06:55.797Z"
   },
   {
    "duration": 8,
    "start_time": "2022-02-22T11:06:56.203Z"
   },
   {
    "duration": 12,
    "start_time": "2022-02-22T11:06:56.973Z"
   },
   {
    "duration": 300,
    "start_time": "2022-02-22T11:07:05.462Z"
   },
   {
    "duration": 4,
    "start_time": "2022-02-22T11:08:34.869Z"
   },
   {
    "duration": 6,
    "start_time": "2022-02-22T11:08:42.309Z"
   },
   {
    "duration": 6,
    "start_time": "2022-02-22T11:08:54.602Z"
   },
   {
    "duration": 30,
    "start_time": "2022-02-22T11:09:16.539Z"
   },
   {
    "duration": 7,
    "start_time": "2022-02-22T11:09:36.318Z"
   },
   {
    "duration": 7,
    "start_time": "2022-02-22T11:09:42.345Z"
   },
   {
    "duration": 9,
    "start_time": "2022-02-22T11:09:59.719Z"
   },
   {
    "duration": 10,
    "start_time": "2022-02-22T11:12:19.853Z"
   },
   {
    "duration": 349,
    "start_time": "2022-02-22T20:28:57.859Z"
   },
   {
    "duration": 1307,
    "start_time": "2022-02-22T20:29:04.895Z"
   },
   {
    "duration": 535,
    "start_time": "2022-02-22T20:29:06.205Z"
   },
   {
    "duration": 28,
    "start_time": "2022-02-22T20:29:06.742Z"
   },
   {
    "duration": 36,
    "start_time": "2022-02-22T20:29:06.772Z"
   },
   {
    "duration": 61,
    "start_time": "2022-02-22T20:29:06.811Z"
   },
   {
    "duration": 33,
    "start_time": "2022-02-22T20:29:06.874Z"
   },
   {
    "duration": 49,
    "start_time": "2022-02-22T20:29:06.910Z"
   },
   {
    "duration": 445,
    "start_time": "2022-02-22T20:29:06.962Z"
   },
   {
    "duration": 3,
    "start_time": "2022-02-22T20:29:07.411Z"
   },
   {
    "duration": 31,
    "start_time": "2022-02-22T20:29:07.417Z"
   },
   {
    "duration": 20,
    "start_time": "2022-02-22T20:29:07.451Z"
   },
   {
    "duration": 151,
    "start_time": "2022-02-22T20:29:07.473Z"
   },
   {
    "duration": 108,
    "start_time": "2022-02-22T20:29:07.626Z"
   },
   {
    "duration": 133,
    "start_time": "2022-02-22T20:29:07.737Z"
   },
   {
    "duration": 45,
    "start_time": "2022-02-22T20:29:07.872Z"
   },
   {
    "duration": 64,
    "start_time": "2022-02-22T20:29:07.920Z"
   },
   {
    "duration": 6,
    "start_time": "2022-02-22T20:29:07.987Z"
   },
   {
    "duration": 80,
    "start_time": "2022-02-22T20:29:07.996Z"
   },
   {
    "duration": 5,
    "start_time": "2022-02-22T20:29:08.079Z"
   },
   {
    "duration": 15,
    "start_time": "2022-02-22T20:29:08.087Z"
   },
   {
    "duration": 44,
    "start_time": "2022-02-22T20:29:08.105Z"
   },
   {
    "duration": 8,
    "start_time": "2022-02-22T20:29:08.151Z"
   },
   {
    "duration": 205,
    "start_time": "2022-02-22T20:29:08.165Z"
   },
   {
    "duration": 13,
    "start_time": "2022-02-22T20:29:08.372Z"
   },
   {
    "duration": 6,
    "start_time": "2022-02-22T20:29:55.593Z"
   },
   {
    "duration": 10,
    "start_time": "2022-02-22T20:30:28.885Z"
   },
   {
    "duration": 479,
    "start_time": "2022-02-22T20:30:33.257Z"
   },
   {
    "duration": 9,
    "start_time": "2022-02-22T20:30:37.511Z"
   },
   {
    "duration": 24,
    "start_time": "2022-02-22T20:34:39.056Z"
   },
   {
    "duration": 25,
    "start_time": "2022-02-22T20:38:50.534Z"
   },
   {
    "duration": 20,
    "start_time": "2022-02-22T20:39:12.072Z"
   },
   {
    "duration": 11,
    "start_time": "2022-02-22T20:39:42.454Z"
   },
   {
    "duration": 300,
    "start_time": "2022-02-22T20:47:18.198Z"
   },
   {
    "duration": 10,
    "start_time": "2022-02-22T20:47:22.466Z"
   },
   {
    "duration": 11,
    "start_time": "2022-02-22T20:47:22.632Z"
   },
   {
    "duration": 11,
    "start_time": "2022-02-22T20:47:33.568Z"
   },
   {
    "duration": 313,
    "start_time": "2022-02-22T20:48:02.765Z"
   },
   {
    "duration": 340,
    "start_time": "2022-02-22T20:48:07.724Z"
   },
   {
    "duration": 10,
    "start_time": "2022-02-22T20:48:19.857Z"
   },
   {
    "duration": 3,
    "start_time": "2022-02-22T20:49:18.176Z"
   },
   {
    "duration": 3,
    "start_time": "2022-02-22T20:49:21.253Z"
   },
   {
    "duration": 487,
    "start_time": "2022-02-22T20:59:11.363Z"
   },
   {
    "duration": 353,
    "start_time": "2022-02-22T20:59:21.098Z"
   },
   {
    "duration": 28,
    "start_time": "2022-02-22T21:05:49.227Z"
   },
   {
    "duration": 6,
    "start_time": "2022-02-22T21:06:06.837Z"
   },
   {
    "duration": 7,
    "start_time": "2022-02-22T21:06:50.484Z"
   },
   {
    "duration": 38,
    "start_time": "2022-02-22T21:07:07.148Z"
   },
   {
    "duration": 1372,
    "start_time": "2022-02-22T21:07:28.144Z"
   },
   {
    "duration": 505,
    "start_time": "2022-02-22T21:07:29.520Z"
   },
   {
    "duration": 27,
    "start_time": "2022-02-22T21:07:30.028Z"
   },
   {
    "duration": 37,
    "start_time": "2022-02-22T21:07:30.058Z"
   },
   {
    "duration": 61,
    "start_time": "2022-02-22T21:07:30.098Z"
   },
   {
    "duration": 32,
    "start_time": "2022-02-22T21:07:30.162Z"
   },
   {
    "duration": 18,
    "start_time": "2022-02-22T21:07:30.197Z"
   },
   {
    "duration": 355,
    "start_time": "2022-02-22T21:07:30.251Z"
   },
   {
    "duration": 4,
    "start_time": "2022-02-22T21:07:30.611Z"
   },
   {
    "duration": 19,
    "start_time": "2022-02-22T21:07:30.619Z"
   },
   {
    "duration": 49,
    "start_time": "2022-02-22T21:07:30.642Z"
   },
   {
    "duration": 196,
    "start_time": "2022-02-22T21:07:30.694Z"
   },
   {
    "duration": 130,
    "start_time": "2022-02-22T21:07:30.893Z"
   },
   {
    "duration": 111,
    "start_time": "2022-02-22T21:07:31.026Z"
   },
   {
    "duration": 45,
    "start_time": "2022-02-22T21:07:31.148Z"
   },
   {
    "duration": 61,
    "start_time": "2022-02-22T21:07:31.195Z"
   },
   {
    "duration": 5,
    "start_time": "2022-02-22T21:07:31.259Z"
   },
   {
    "duration": 59,
    "start_time": "2022-02-22T21:07:31.267Z"
   },
   {
    "duration": 23,
    "start_time": "2022-02-22T21:07:31.329Z"
   },
   {
    "duration": 12,
    "start_time": "2022-02-22T21:07:31.355Z"
   },
   {
    "duration": 30,
    "start_time": "2022-02-22T21:07:31.369Z"
   },
   {
    "duration": 8,
    "start_time": "2022-02-22T21:07:31.401Z"
   },
   {
    "duration": 207,
    "start_time": "2022-02-22T21:07:31.414Z"
   },
   {
    "duration": 34,
    "start_time": "2022-02-22T21:07:31.624Z"
   },
   {
    "duration": 12,
    "start_time": "2022-02-22T21:07:31.660Z"
   },
   {
    "duration": 3,
    "start_time": "2022-02-22T21:07:31.674Z"
   },
   {
    "duration": 16,
    "start_time": "2022-02-22T21:07:31.680Z"
   },
   {
    "duration": 502,
    "start_time": "2022-02-22T21:07:31.699Z"
   },
   {
    "duration": 9,
    "start_time": "2022-02-22T21:07:32.204Z"
   },
   {
    "duration": 36,
    "start_time": "2022-02-22T21:07:32.216Z"
   },
   {
    "duration": 506,
    "start_time": "2022-02-22T21:07:32.255Z"
   },
   {
    "duration": 3,
    "start_time": "2022-02-22T21:07:32.764Z"
   },
   {
    "duration": 442,
    "start_time": "2022-02-22T21:07:32.770Z"
   },
   {
    "duration": 6,
    "start_time": "2022-02-22T21:07:33.215Z"
   },
   {
    "duration": 28,
    "start_time": "2022-02-22T21:07:33.224Z"
   },
   {
    "duration": 529,
    "start_time": "2022-02-22T21:07:33.254Z"
   },
   {
    "duration": 453,
    "start_time": "2022-02-22T21:07:33.785Z"
   },
   {
    "duration": 8,
    "start_time": "2022-02-22T21:07:34.247Z"
   },
   {
    "duration": 12,
    "start_time": "2022-02-22T21:07:34.258Z"
   },
   {
    "duration": 691,
    "start_time": "2022-02-22T21:07:34.273Z"
   },
   {
    "duration": 9,
    "start_time": "2022-02-22T21:07:34.967Z"
   },
   {
    "duration": 8,
    "start_time": "2022-02-22T21:07:34.980Z"
   },
   {
    "duration": 22,
    "start_time": "2022-02-22T21:07:34.991Z"
   },
   {
    "duration": 46,
    "start_time": "2022-02-22T21:07:35.016Z"
   },
   {
    "duration": 8,
    "start_time": "2022-02-22T21:07:35.065Z"
   },
   {
    "duration": 11,
    "start_time": "2022-02-22T21:07:35.076Z"
   },
   {
    "duration": 8,
    "start_time": "2022-02-22T21:07:35.090Z"
   },
   {
    "duration": 6,
    "start_time": "2022-02-22T21:07:42.059Z"
   },
   {
    "duration": 7,
    "start_time": "2022-02-22T21:08:54.614Z"
   },
   {
    "duration": 1344,
    "start_time": "2022-02-22T21:10:35.981Z"
   },
   {
    "duration": 525,
    "start_time": "2022-02-22T21:10:37.328Z"
   },
   {
    "duration": 25,
    "start_time": "2022-02-22T21:10:37.856Z"
   },
   {
    "duration": 37,
    "start_time": "2022-02-22T21:10:37.884Z"
   },
   {
    "duration": 28,
    "start_time": "2022-02-22T21:10:37.948Z"
   },
   {
    "duration": 34,
    "start_time": "2022-02-22T21:10:37.979Z"
   },
   {
    "duration": 18,
    "start_time": "2022-02-22T21:10:38.048Z"
   },
   {
    "duration": 328,
    "start_time": "2022-02-22T21:10:38.070Z"
   },
   {
    "duration": 3,
    "start_time": "2022-02-22T21:10:38.402Z"
   },
   {
    "duration": 12,
    "start_time": "2022-02-22T21:10:38.408Z"
   },
   {
    "duration": 38,
    "start_time": "2022-02-22T21:10:38.423Z"
   },
   {
    "duration": 139,
    "start_time": "2022-02-22T21:10:38.464Z"
   },
   {
    "duration": 109,
    "start_time": "2022-02-22T21:10:38.606Z"
   },
   {
    "duration": 126,
    "start_time": "2022-02-22T21:10:38.717Z"
   },
   {
    "duration": 47,
    "start_time": "2022-02-22T21:10:38.848Z"
   },
   {
    "duration": 64,
    "start_time": "2022-02-22T21:10:38.898Z"
   },
   {
    "duration": 5,
    "start_time": "2022-02-22T21:10:38.966Z"
   },
   {
    "duration": 82,
    "start_time": "2022-02-22T21:10:38.974Z"
   },
   {
    "duration": 7,
    "start_time": "2022-02-22T21:10:39.059Z"
   },
   {
    "duration": 17,
    "start_time": "2022-02-22T21:10:39.070Z"
   },
   {
    "duration": 30,
    "start_time": "2022-02-22T21:10:39.089Z"
   },
   {
    "duration": 9,
    "start_time": "2022-02-22T21:10:39.150Z"
   },
   {
    "duration": 204,
    "start_time": "2022-02-22T21:10:39.164Z"
   },
   {
    "duration": 27,
    "start_time": "2022-02-22T21:10:39.371Z"
   },
   {
    "duration": 10,
    "start_time": "2022-02-22T21:10:39.401Z"
   },
   {
    "duration": 3,
    "start_time": "2022-02-22T21:10:39.414Z"
   },
   {
    "duration": 30,
    "start_time": "2022-02-22T21:10:39.420Z"
   },
   {
    "duration": 483,
    "start_time": "2022-02-22T21:10:39.453Z"
   },
   {
    "duration": 12,
    "start_time": "2022-02-22T21:10:39.939Z"
   },
   {
    "duration": 10,
    "start_time": "2022-02-22T21:10:39.954Z"
   },
   {
    "duration": 370,
    "start_time": "2022-02-22T21:10:39.966Z"
   },
   {
    "duration": 10,
    "start_time": "2022-02-22T21:10:40.339Z"
   },
   {
    "duration": 476,
    "start_time": "2022-02-22T21:10:40.351Z"
   },
   {
    "duration": 6,
    "start_time": "2022-02-22T21:10:40.830Z"
   },
   {
    "duration": 6,
    "start_time": "2022-02-22T21:10:40.849Z"
   },
   {
    "duration": 572,
    "start_time": "2022-02-22T21:10:40.858Z"
   },
   {
    "duration": 460,
    "start_time": "2022-02-22T21:10:41.432Z"
   },
   {
    "duration": 7,
    "start_time": "2022-02-22T21:10:41.895Z"
   },
   {
    "duration": 11,
    "start_time": "2022-02-22T21:10:41.905Z"
   },
   {
    "duration": 671,
    "start_time": "2022-02-22T21:10:41.948Z"
   },
   {
    "duration": 8,
    "start_time": "2022-02-22T21:10:42.621Z"
   },
   {
    "duration": 19,
    "start_time": "2022-02-22T21:10:42.632Z"
   },
   {
    "duration": 14,
    "start_time": "2022-02-22T21:10:42.653Z"
   },
   {
    "duration": 15,
    "start_time": "2022-02-22T21:10:42.669Z"
   },
   {
    "duration": 7,
    "start_time": "2022-02-22T21:10:42.687Z"
   },
   {
    "duration": 7,
    "start_time": "2022-02-22T21:10:42.697Z"
   },
   {
    "duration": 46,
    "start_time": "2022-02-22T21:10:42.706Z"
   },
   {
    "duration": 1022,
    "start_time": "2022-02-22T23:34:13.791Z"
   },
   {
    "duration": 419,
    "start_time": "2022-02-22T23:34:14.818Z"
   },
   {
    "duration": 16,
    "start_time": "2022-02-22T23:34:15.240Z"
   },
   {
    "duration": 26,
    "start_time": "2022-02-22T23:34:15.257Z"
   },
   {
    "duration": 17,
    "start_time": "2022-02-22T23:34:15.285Z"
   },
   {
    "duration": 43,
    "start_time": "2022-02-22T23:34:15.304Z"
   },
   {
    "duration": 10,
    "start_time": "2022-02-22T23:34:15.349Z"
   },
   {
    "duration": 219,
    "start_time": "2022-02-22T23:34:15.361Z"
   },
   {
    "duration": 2,
    "start_time": "2022-02-22T23:34:15.582Z"
   },
   {
    "duration": 4,
    "start_time": "2022-02-22T23:34:15.585Z"
   },
   {
    "duration": 12,
    "start_time": "2022-02-22T23:34:15.591Z"
   },
   {
    "duration": 102,
    "start_time": "2022-02-22T23:34:15.605Z"
   },
   {
    "duration": 74,
    "start_time": "2022-02-22T23:34:15.709Z"
   },
   {
    "duration": 90,
    "start_time": "2022-02-22T23:34:15.784Z"
   },
   {
    "duration": 31,
    "start_time": "2022-02-22T23:34:15.875Z"
   },
   {
    "duration": 40,
    "start_time": "2022-02-22T23:34:15.907Z"
   },
   {
    "duration": 3,
    "start_time": "2022-02-22T23:34:15.949Z"
   },
   {
    "duration": 40,
    "start_time": "2022-02-22T23:34:15.954Z"
   },
   {
    "duration": 5,
    "start_time": "2022-02-22T23:34:15.996Z"
   },
   {
    "duration": 36,
    "start_time": "2022-02-22T23:34:16.003Z"
   },
   {
    "duration": 18,
    "start_time": "2022-02-22T23:34:16.041Z"
   },
   {
    "duration": 5,
    "start_time": "2022-02-22T23:34:16.063Z"
   },
   {
    "duration": 120,
    "start_time": "2022-02-22T23:34:16.070Z"
   },
   {
    "duration": 18,
    "start_time": "2022-02-22T23:34:16.191Z"
   },
   {
    "duration": 25,
    "start_time": "2022-02-22T23:34:16.211Z"
   },
   {
    "duration": 2,
    "start_time": "2022-02-22T23:34:16.237Z"
   },
   {
    "duration": 5,
    "start_time": "2022-02-22T23:34:16.240Z"
   },
   {
    "duration": 264,
    "start_time": "2022-02-22T23:34:16.246Z"
   },
   {
    "duration": 4,
    "start_time": "2022-02-22T23:34:16.512Z"
   },
   {
    "duration": 14,
    "start_time": "2022-02-22T23:34:16.518Z"
   },
   {
    "duration": 198,
    "start_time": "2022-02-22T23:34:16.533Z"
   },
   {
    "duration": 2,
    "start_time": "2022-02-22T23:34:16.733Z"
   },
   {
    "duration": 261,
    "start_time": "2022-02-22T23:34:16.737Z"
   },
   {
    "duration": 4,
    "start_time": "2022-02-22T23:34:17.000Z"
   },
   {
    "duration": 5,
    "start_time": "2022-02-22T23:34:17.006Z"
   },
   {
    "duration": 297,
    "start_time": "2022-02-22T23:34:17.013Z"
   },
   {
    "duration": 265,
    "start_time": "2022-02-22T23:34:17.311Z"
   },
   {
    "duration": 5,
    "start_time": "2022-02-22T23:34:17.577Z"
   },
   {
    "duration": 7,
    "start_time": "2022-02-22T23:34:17.584Z"
   },
   {
    "duration": 407,
    "start_time": "2022-02-22T23:34:17.593Z"
   },
   {
    "duration": 5,
    "start_time": "2022-02-22T23:34:18.002Z"
   },
   {
    "duration": 5,
    "start_time": "2022-02-22T23:34:18.009Z"
   },
   {
    "duration": 21,
    "start_time": "2022-02-22T23:34:18.016Z"
   },
   {
    "duration": 10,
    "start_time": "2022-02-22T23:34:18.038Z"
   },
   {
    "duration": 4,
    "start_time": "2022-02-22T23:34:18.050Z"
   },
   {
    "duration": 4,
    "start_time": "2022-02-22T23:34:18.056Z"
   },
   {
    "duration": 4,
    "start_time": "2022-02-22T23:34:18.061Z"
   },
   {
    "duration": 666,
    "start_time": "2022-02-22T23:56:19.803Z"
   },
   {
    "duration": 891,
    "start_time": "2022-02-23T00:00:36.387Z"
   },
   {
    "duration": 602,
    "start_time": "2022-02-23T00:01:24.776Z"
   },
   {
    "duration": 585,
    "start_time": "2022-02-23T00:02:15.186Z"
   },
   {
    "duration": 318,
    "start_time": "2022-02-23T00:02:57.286Z"
   },
   {
    "duration": 284,
    "start_time": "2022-02-23T00:03:10.595Z"
   },
   {
    "duration": 359,
    "start_time": "2022-02-23T00:03:20.506Z"
   },
   {
    "duration": 275,
    "start_time": "2022-02-23T00:04:40.380Z"
   },
   {
    "duration": 276,
    "start_time": "2022-02-23T00:04:55.492Z"
   },
   {
    "duration": 287,
    "start_time": "2022-02-23T00:05:39.150Z"
   },
   {
    "duration": 570,
    "start_time": "2022-02-23T00:06:18.427Z"
   },
   {
    "duration": 735,
    "start_time": "2022-02-23T00:06:53.518Z"
   },
   {
    "duration": 643,
    "start_time": "2022-02-23T00:07:05.915Z"
   },
   {
    "duration": 349,
    "start_time": "2022-02-23T00:07:32.042Z"
   },
   {
    "duration": 277,
    "start_time": "2022-02-23T00:08:11.079Z"
   },
   {
    "duration": 358,
    "start_time": "2022-02-23T08:59:29.564Z"
   },
   {
    "duration": 1557,
    "start_time": "2022-02-23T08:59:34.104Z"
   },
   {
    "duration": 548,
    "start_time": "2022-02-23T08:59:35.664Z"
   },
   {
    "duration": 25,
    "start_time": "2022-02-23T08:59:36.216Z"
   },
   {
    "duration": 40,
    "start_time": "2022-02-23T08:59:36.244Z"
   },
   {
    "duration": 51,
    "start_time": "2022-02-23T08:59:36.287Z"
   },
   {
    "duration": 34,
    "start_time": "2022-02-23T08:59:36.341Z"
   },
   {
    "duration": 51,
    "start_time": "2022-02-23T08:59:36.377Z"
   },
   {
    "duration": 361,
    "start_time": "2022-02-23T08:59:36.431Z"
   },
   {
    "duration": 371,
    "start_time": "2022-02-23T08:59:42.827Z"
   },
   {
    "duration": 24,
    "start_time": "2022-02-23T09:00:09.811Z"
   },
   {
    "duration": 27,
    "start_time": "2022-02-23T09:00:46.902Z"
   },
   {
    "duration": 22,
    "start_time": "2022-02-23T09:01:16.882Z"
   },
   {
    "duration": 46,
    "start_time": "2022-02-23T09:01:26.050Z"
   },
   {
    "duration": 48,
    "start_time": "2022-02-23T09:01:49.805Z"
   },
   {
    "duration": 482,
    "start_time": "2022-02-23T09:04:29.150Z"
   },
   {
    "duration": 1345,
    "start_time": "2022-02-23T09:04:38.969Z"
   },
   {
    "duration": 558,
    "start_time": "2022-02-23T09:04:40.317Z"
   },
   {
    "duration": 27,
    "start_time": "2022-02-23T09:04:40.878Z"
   },
   {
    "duration": 45,
    "start_time": "2022-02-23T09:04:40.907Z"
   },
   {
    "duration": 26,
    "start_time": "2022-02-23T09:04:40.954Z"
   },
   {
    "duration": 60,
    "start_time": "2022-02-23T09:04:40.983Z"
   },
   {
    "duration": 18,
    "start_time": "2022-02-23T09:04:41.045Z"
   },
   {
    "duration": 396,
    "start_time": "2022-02-23T09:04:41.065Z"
   },
   {
    "duration": 60,
    "start_time": "2022-02-23T09:04:41.467Z"
   },
   {
    "duration": 335,
    "start_time": "2022-02-23T09:04:41.531Z"
   },
   {
    "duration": 3,
    "start_time": "2022-02-23T09:04:41.869Z"
   },
   {
    "duration": 6,
    "start_time": "2022-02-23T09:04:41.874Z"
   },
   {
    "duration": 20,
    "start_time": "2022-02-23T09:04:41.883Z"
   },
   {
    "duration": 141,
    "start_time": "2022-02-23T09:04:41.927Z"
   },
   {
    "duration": 108,
    "start_time": "2022-02-23T09:04:42.070Z"
   },
   {
    "duration": 131,
    "start_time": "2022-02-23T09:04:42.181Z"
   },
   {
    "duration": 53,
    "start_time": "2022-02-23T09:04:42.314Z"
   },
   {
    "duration": 57,
    "start_time": "2022-02-23T09:04:42.370Z"
   },
   {
    "duration": 6,
    "start_time": "2022-02-23T09:04:42.430Z"
   },
   {
    "duration": 56,
    "start_time": "2022-02-23T09:04:42.439Z"
   },
   {
    "duration": 31,
    "start_time": "2022-02-23T09:04:42.498Z"
   },
   {
    "duration": 8,
    "start_time": "2022-02-23T09:04:42.531Z"
   },
   {
    "duration": 29,
    "start_time": "2022-02-23T09:04:42.541Z"
   },
   {
    "duration": 8,
    "start_time": "2022-02-23T09:04:42.573Z"
   },
   {
    "duration": 235,
    "start_time": "2022-02-23T09:04:42.583Z"
   },
   {
    "duration": 30,
    "start_time": "2022-02-23T09:04:42.821Z"
   },
   {
    "duration": 10,
    "start_time": "2022-02-23T09:04:42.858Z"
   },
   {
    "duration": 3,
    "start_time": "2022-02-23T09:04:42.872Z"
   },
   {
    "duration": 9,
    "start_time": "2022-02-23T09:04:42.877Z"
   },
   {
    "duration": 515,
    "start_time": "2022-02-23T09:04:42.888Z"
   },
   {
    "duration": 503,
    "start_time": "2022-02-23T09:04:43.406Z"
   },
   {
    "duration": 14,
    "start_time": "2022-02-23T09:04:43.912Z"
   },
   {
    "duration": 14,
    "start_time": "2022-02-23T09:04:43.928Z"
   },
   {
    "duration": 461,
    "start_time": "2022-02-23T09:04:43.944Z"
   },
   {
    "duration": 3,
    "start_time": "2022-02-23T09:04:44.407Z"
   },
   {
    "duration": 468,
    "start_time": "2022-02-23T09:04:44.413Z"
   },
   {
    "duration": 7,
    "start_time": "2022-02-23T09:04:44.883Z"
   },
   {
    "duration": 38,
    "start_time": "2022-02-23T09:04:44.892Z"
   },
   {
    "duration": 632,
    "start_time": "2022-02-23T09:04:44.932Z"
   },
   {
    "duration": 471,
    "start_time": "2022-02-23T09:04:45.566Z"
   },
   {
    "duration": 8,
    "start_time": "2022-02-23T09:04:46.039Z"
   },
   {
    "duration": 14,
    "start_time": "2022-02-23T09:04:46.050Z"
   },
   {
    "duration": 614,
    "start_time": "2022-02-23T09:04:46.066Z"
   },
   {
    "duration": 9,
    "start_time": "2022-02-23T09:04:46.682Z"
   },
   {
    "duration": 6,
    "start_time": "2022-02-23T09:04:46.694Z"
   },
   {
    "duration": 35,
    "start_time": "2022-02-23T09:04:46.703Z"
   },
   {
    "duration": 16,
    "start_time": "2022-02-23T09:04:46.741Z"
   },
   {
    "duration": 6,
    "start_time": "2022-02-23T09:04:46.759Z"
   },
   {
    "duration": 13,
    "start_time": "2022-02-23T09:04:46.768Z"
   },
   {
    "duration": 42,
    "start_time": "2022-02-23T09:04:46.784Z"
   },
   {
    "duration": 4,
    "start_time": "2022-02-23T09:04:46.828Z"
   },
   {
    "duration": 10,
    "start_time": "2022-02-23T09:06:08.564Z"
   },
   {
    "duration": 311,
    "start_time": "2022-02-23T09:06:19.040Z"
   },
   {
    "duration": 306,
    "start_time": "2022-02-23T09:06:25.287Z"
   },
   {
    "duration": 413,
    "start_time": "2022-02-23T09:06:29.513Z"
   },
   {
    "duration": 11,
    "start_time": "2022-02-23T09:06:43.699Z"
   },
   {
    "duration": 11,
    "start_time": "2022-02-23T09:06:53.669Z"
   },
   {
    "duration": 7,
    "start_time": "2022-02-23T09:09:37.095Z"
   },
   {
    "duration": 11,
    "start_time": "2022-02-23T09:09:45.064Z"
   },
   {
    "duration": 326,
    "start_time": "2022-02-23T09:10:37.295Z"
   },
   {
    "duration": 321,
    "start_time": "2022-02-23T09:10:48.934Z"
   },
   {
    "duration": 7,
    "start_time": "2022-02-23T09:14:33.648Z"
   },
   {
    "duration": 7,
    "start_time": "2022-02-23T09:14:37.539Z"
   },
   {
    "duration": 7,
    "start_time": "2022-02-23T09:14:44.922Z"
   },
   {
    "duration": 309,
    "start_time": "2022-02-23T09:15:06.094Z"
   },
   {
    "duration": 7,
    "start_time": "2022-02-23T09:15:16.341Z"
   },
   {
    "duration": 13,
    "start_time": "2022-02-23T09:15:55.625Z"
   },
   {
    "duration": 657,
    "start_time": "2022-02-23T09:16:02.993Z"
   },
   {
    "duration": 665,
    "start_time": "2022-02-23T09:16:31.517Z"
   },
   {
    "duration": 14,
    "start_time": "2022-02-23T09:17:24.073Z"
   },
   {
    "duration": 10,
    "start_time": "2022-02-23T09:17:27.693Z"
   },
   {
    "duration": 282,
    "start_time": "2022-02-23T09:18:29.486Z"
   },
   {
    "duration": 329,
    "start_time": "2022-02-23T09:18:46.385Z"
   },
   {
    "duration": 286,
    "start_time": "2022-02-23T09:19:13.563Z"
   },
   {
    "duration": 589,
    "start_time": "2022-02-23T09:19:26.464Z"
   },
   {
    "duration": 4,
    "start_time": "2022-02-23T09:21:21.581Z"
   },
   {
    "duration": 7,
    "start_time": "2022-02-23T09:21:25.477Z"
   },
   {
    "duration": 325,
    "start_time": "2022-02-23T09:21:39.799Z"
   },
   {
    "duration": 288,
    "start_time": "2022-02-23T09:21:54.136Z"
   },
   {
    "duration": 304,
    "start_time": "2022-02-23T09:22:00.041Z"
   },
   {
    "duration": 7,
    "start_time": "2022-02-23T09:22:02.918Z"
   },
   {
    "duration": 14,
    "start_time": "2022-02-23T09:23:23.921Z"
   },
   {
    "duration": 280,
    "start_time": "2022-02-23T09:23:26.884Z"
   },
   {
    "duration": 8,
    "start_time": "2022-02-23T09:23:31.961Z"
   },
   {
    "duration": 13,
    "start_time": "2022-02-23T09:23:44.515Z"
   },
   {
    "duration": 15,
    "start_time": "2022-02-23T09:23:57.887Z"
   },
   {
    "duration": 10,
    "start_time": "2022-02-23T09:24:01.388Z"
   },
   {
    "duration": 16,
    "start_time": "2022-02-23T09:25:06.531Z"
   },
   {
    "duration": 7,
    "start_time": "2022-02-23T09:25:07.039Z"
   },
   {
    "duration": 295,
    "start_time": "2022-02-23T09:25:14.981Z"
   },
   {
    "duration": 7,
    "start_time": "2022-02-23T09:25:42.806Z"
   },
   {
    "duration": 7,
    "start_time": "2022-02-23T09:25:47.291Z"
   },
   {
    "duration": 354,
    "start_time": "2022-02-23T09:25:50.111Z"
   },
   {
    "duration": 290,
    "start_time": "2022-02-23T09:25:54.504Z"
   },
   {
    "duration": 339,
    "start_time": "2022-02-23T09:26:02.303Z"
   },
   {
    "duration": 6,
    "start_time": "2022-02-23T09:27:36.310Z"
   },
   {
    "duration": 21,
    "start_time": "2022-02-23T09:30:09.943Z"
   },
   {
    "duration": 100,
    "start_time": "2022-02-23T09:31:43.346Z"
   },
   {
    "duration": 28,
    "start_time": "2022-02-23T09:31:48.859Z"
   },
   {
    "duration": 317,
    "start_time": "2022-02-23T09:31:53.167Z"
   },
   {
    "duration": 20,
    "start_time": "2022-02-23T09:34:04.081Z"
   },
   {
    "duration": 23,
    "start_time": "2022-02-23T09:35:11.738Z"
   },
   {
    "duration": 318,
    "start_time": "2022-02-23T09:35:22.563Z"
   },
   {
    "duration": 444,
    "start_time": "2022-02-23T09:35:28.248Z"
   },
   {
    "duration": 305,
    "start_time": "2022-02-23T09:35:38.320Z"
   },
   {
    "duration": 362,
    "start_time": "2022-02-23T09:35:46.708Z"
   },
   {
    "duration": 691,
    "start_time": "2022-02-23T09:36:27.216Z"
   },
   {
    "duration": 14,
    "start_time": "2022-02-23T09:39:11.056Z"
   },
   {
    "duration": 672,
    "start_time": "2022-02-23T09:44:49.190Z"
   },
   {
    "duration": 667,
    "start_time": "2022-02-23T09:53:52.372Z"
   },
   {
    "duration": 588,
    "start_time": "2022-02-23T09:54:13.785Z"
   },
   {
    "duration": 188,
    "start_time": "2022-02-23T09:57:25.060Z"
   },
   {
    "duration": 552,
    "start_time": "2022-02-23T09:57:30.986Z"
   },
   {
    "duration": 416,
    "start_time": "2022-02-23T09:57:34.958Z"
   },
   {
    "duration": 378,
    "start_time": "2022-02-23T09:57:47.092Z"
   },
   {
    "duration": 435,
    "start_time": "2022-02-23T09:57:59.801Z"
   },
   {
    "duration": 542,
    "start_time": "2022-02-23T09:58:30.019Z"
   },
   {
    "duration": 485,
    "start_time": "2022-02-23T09:58:37.680Z"
   },
   {
    "duration": 440,
    "start_time": "2022-02-23T09:58:45.335Z"
   },
   {
    "duration": 6,
    "start_time": "2022-02-23T09:59:06.052Z"
   },
   {
    "duration": 22,
    "start_time": "2022-02-23T09:59:15.832Z"
   },
   {
    "duration": 29,
    "start_time": "2022-02-23T09:59:18.696Z"
   },
   {
    "duration": 458,
    "start_time": "2022-02-23T09:59:42.723Z"
   },
   {
    "duration": 449,
    "start_time": "2022-02-23T09:59:47.883Z"
   },
   {
    "duration": 148,
    "start_time": "2022-02-23T09:59:53.023Z"
   },
   {
    "duration": 436,
    "start_time": "2022-02-23T09:59:59.078Z"
   },
   {
    "duration": 443,
    "start_time": "2022-02-23T10:00:06.737Z"
   }
  ],
  "kernelspec": {
   "display_name": "Python 3 (ipykernel)",
   "language": "python",
   "name": "python3"
  },
  "language_info": {
   "codemirror_mode": {
    "name": "ipython",
    "version": 3
   },
   "file_extension": ".py",
   "mimetype": "text/x-python",
   "name": "python",
   "nbconvert_exporter": "python",
   "pygments_lexer": "ipython3",
   "version": "3.7.8"
  },
  "toc": {
   "base_numbering": "1",
   "nav_menu": {},
   "number_sections": true,
   "sideBar": true,
   "skip_h1_title": true,
   "title_cell": "Table of Contents",
   "title_sidebar": "Содержание",
   "toc_cell": false,
   "toc_position": {
    "height": "calc(100% - 180px)",
    "left": "10px",
    "top": "150px",
    "width": "255.146px"
   },
   "toc_section_display": true,
   "toc_window_display": true
  }
 },
 "nbformat": 4,
 "nbformat_minor": 2
}
