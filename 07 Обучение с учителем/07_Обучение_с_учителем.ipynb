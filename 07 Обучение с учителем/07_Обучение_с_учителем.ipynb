{
 "cells": [
  {
   "cell_type": "markdown",
   "id": "51bbb921",
   "metadata": {},
   "source": [
    "# Отток клиентов"
   ]
  },
  {
   "cell_type": "markdown",
   "id": "b2ab1ad9",
   "metadata": {},
   "source": [
    "## Подготовка данных"
   ]
  },
  {
   "cell_type": "code",
   "execution_count": 1,
   "id": "4d371820",
   "metadata": {},
   "outputs": [],
   "source": [
    "import pandas as pd\n",
    "import matplotlib.pyplot as plt\n",
    "\n",
    "from sklearn.model_selection import train_test_split\n",
    "from sklearn.tree import DecisionTreeClassifier\n",
    "from sklearn.ensemble import RandomForestClassifier\n",
    "from sklearn.linear_model import LogisticRegression\n",
    "from sklearn.metrics import confusion_matrix\n",
    "from sklearn.metrics import f1_score\n",
    "from sklearn.metrics import roc_curve\n",
    "from sklearn.metrics import auc\n",
    "from sklearn.metrics import roc_auc_score\n",
    "from sklearn.preprocessing import StandardScaler\n",
    "from sklearn.utils import shuffle\n",
    "\n",
    "# Чтобы игнорировать предупреждения\n",
    "import warnings\n",
    "warnings.filterwarnings('ignore')"
   ]
  },
  {
   "cell_type": "code",
   "execution_count": 2,
   "id": "be61f8da",
   "metadata": {
    "scrolled": false
   },
   "outputs": [],
   "source": [
    "# извлеяение данных\n",
    "data = pd.read_csv('/datasets/Churn.csv')\n",
    "# переименование столбцов\n",
    "data = data.rename(columns={'RowNumber': 'Row_Number', 'CustomerId': 'Customer_Id', 'CreditScore': 'Credit_Score', 'NumOfProducts': 'Num_Of_Products', 'HasCrCard': 'Has_Cr_Card', 'IsActiveMember': 'Is_Active_Member', 'EstimatedSalary': 'Estimated_Salary'})\n",
    "data.columns = data.columns.str.lower()"
   ]
  },
  {
   "cell_type": "code",
   "execution_count": 3,
   "id": "21d202f5",
   "metadata": {
    "scrolled": true
   },
   "outputs": [
    {
     "data": {
      "text/plain": [
       "row_number            0\n",
       "customer_id           0\n",
       "surname               0\n",
       "credit_score          0\n",
       "geography             0\n",
       "gender                0\n",
       "age                   0\n",
       "tenure              909\n",
       "balance               0\n",
       "num_of_products       0\n",
       "has_cr_card           0\n",
       "is_active_member      0\n",
       "estimated_salary      0\n",
       "exited                0\n",
       "dtype: int64"
      ]
     },
     "execution_count": 3,
     "metadata": {},
     "output_type": "execute_result"
    }
   ],
   "source": [
    "data.isna().sum()"
   ]
  },
  {
   "cell_type": "markdown",
   "id": "34d6f314",
   "metadata": {},
   "source": [
    "У нас есть пропущенные значение в столбце tenure. Заполним медианой и переведём в int64"
   ]
  },
  {
   "cell_type": "code",
   "execution_count": 4,
   "id": "78fbd83b",
   "metadata": {},
   "outputs": [],
   "source": [
    "data['tenure'] = data['tenure'].fillna(data['tenure'].median())"
   ]
  },
  {
   "cell_type": "code",
   "execution_count": 5,
   "id": "3100d36a",
   "metadata": {},
   "outputs": [],
   "source": [
    "data['tenure'] = data['tenure'].astype('Int64')"
   ]
  },
  {
   "cell_type": "code",
   "execution_count": 6,
   "id": "468d55d5",
   "metadata": {},
   "outputs": [
    {
     "data": {
      "text/html": [
       "<div>\n",
       "<style scoped>\n",
       "    .dataframe tbody tr th:only-of-type {\n",
       "        vertical-align: middle;\n",
       "    }\n",
       "\n",
       "    .dataframe tbody tr th {\n",
       "        vertical-align: top;\n",
       "    }\n",
       "\n",
       "    .dataframe thead th {\n",
       "        text-align: right;\n",
       "    }\n",
       "</style>\n",
       "<table border=\"1\" class=\"dataframe\">\n",
       "  <thead>\n",
       "    <tr style=\"text-align: right;\">\n",
       "      <th></th>\n",
       "      <th>row_number</th>\n",
       "      <th>customer_id</th>\n",
       "      <th>surname</th>\n",
       "      <th>credit_score</th>\n",
       "      <th>geography</th>\n",
       "      <th>gender</th>\n",
       "      <th>age</th>\n",
       "      <th>tenure</th>\n",
       "      <th>balance</th>\n",
       "      <th>num_of_products</th>\n",
       "      <th>has_cr_card</th>\n",
       "      <th>is_active_member</th>\n",
       "      <th>estimated_salary</th>\n",
       "      <th>exited</th>\n",
       "    </tr>\n",
       "  </thead>\n",
       "  <tbody>\n",
       "    <tr>\n",
       "      <td>0</td>\n",
       "      <td>1</td>\n",
       "      <td>15634602</td>\n",
       "      <td>Hargrave</td>\n",
       "      <td>619</td>\n",
       "      <td>France</td>\n",
       "      <td>Female</td>\n",
       "      <td>42</td>\n",
       "      <td>2</td>\n",
       "      <td>0.00</td>\n",
       "      <td>1</td>\n",
       "      <td>1</td>\n",
       "      <td>1</td>\n",
       "      <td>101348.88</td>\n",
       "      <td>1</td>\n",
       "    </tr>\n",
       "    <tr>\n",
       "      <td>1</td>\n",
       "      <td>2</td>\n",
       "      <td>15647311</td>\n",
       "      <td>Hill</td>\n",
       "      <td>608</td>\n",
       "      <td>Spain</td>\n",
       "      <td>Female</td>\n",
       "      <td>41</td>\n",
       "      <td>1</td>\n",
       "      <td>83807.86</td>\n",
       "      <td>1</td>\n",
       "      <td>0</td>\n",
       "      <td>1</td>\n",
       "      <td>112542.58</td>\n",
       "      <td>0</td>\n",
       "    </tr>\n",
       "    <tr>\n",
       "      <td>2</td>\n",
       "      <td>3</td>\n",
       "      <td>15619304</td>\n",
       "      <td>Onio</td>\n",
       "      <td>502</td>\n",
       "      <td>France</td>\n",
       "      <td>Female</td>\n",
       "      <td>42</td>\n",
       "      <td>8</td>\n",
       "      <td>159660.80</td>\n",
       "      <td>3</td>\n",
       "      <td>1</td>\n",
       "      <td>0</td>\n",
       "      <td>113931.57</td>\n",
       "      <td>1</td>\n",
       "    </tr>\n",
       "    <tr>\n",
       "      <td>3</td>\n",
       "      <td>4</td>\n",
       "      <td>15701354</td>\n",
       "      <td>Boni</td>\n",
       "      <td>699</td>\n",
       "      <td>France</td>\n",
       "      <td>Female</td>\n",
       "      <td>39</td>\n",
       "      <td>1</td>\n",
       "      <td>0.00</td>\n",
       "      <td>2</td>\n",
       "      <td>0</td>\n",
       "      <td>0</td>\n",
       "      <td>93826.63</td>\n",
       "      <td>0</td>\n",
       "    </tr>\n",
       "    <tr>\n",
       "      <td>4</td>\n",
       "      <td>5</td>\n",
       "      <td>15737888</td>\n",
       "      <td>Mitchell</td>\n",
       "      <td>850</td>\n",
       "      <td>Spain</td>\n",
       "      <td>Female</td>\n",
       "      <td>43</td>\n",
       "      <td>2</td>\n",
       "      <td>125510.82</td>\n",
       "      <td>1</td>\n",
       "      <td>1</td>\n",
       "      <td>1</td>\n",
       "      <td>79084.10</td>\n",
       "      <td>0</td>\n",
       "    </tr>\n",
       "    <tr>\n",
       "      <td>...</td>\n",
       "      <td>...</td>\n",
       "      <td>...</td>\n",
       "      <td>...</td>\n",
       "      <td>...</td>\n",
       "      <td>...</td>\n",
       "      <td>...</td>\n",
       "      <td>...</td>\n",
       "      <td>...</td>\n",
       "      <td>...</td>\n",
       "      <td>...</td>\n",
       "      <td>...</td>\n",
       "      <td>...</td>\n",
       "      <td>...</td>\n",
       "      <td>...</td>\n",
       "    </tr>\n",
       "    <tr>\n",
       "      <td>9995</td>\n",
       "      <td>9996</td>\n",
       "      <td>15606229</td>\n",
       "      <td>Obijiaku</td>\n",
       "      <td>771</td>\n",
       "      <td>France</td>\n",
       "      <td>Male</td>\n",
       "      <td>39</td>\n",
       "      <td>5</td>\n",
       "      <td>0.00</td>\n",
       "      <td>2</td>\n",
       "      <td>1</td>\n",
       "      <td>0</td>\n",
       "      <td>96270.64</td>\n",
       "      <td>0</td>\n",
       "    </tr>\n",
       "    <tr>\n",
       "      <td>9996</td>\n",
       "      <td>9997</td>\n",
       "      <td>15569892</td>\n",
       "      <td>Johnstone</td>\n",
       "      <td>516</td>\n",
       "      <td>France</td>\n",
       "      <td>Male</td>\n",
       "      <td>35</td>\n",
       "      <td>10</td>\n",
       "      <td>57369.61</td>\n",
       "      <td>1</td>\n",
       "      <td>1</td>\n",
       "      <td>1</td>\n",
       "      <td>101699.77</td>\n",
       "      <td>0</td>\n",
       "    </tr>\n",
       "    <tr>\n",
       "      <td>9997</td>\n",
       "      <td>9998</td>\n",
       "      <td>15584532</td>\n",
       "      <td>Liu</td>\n",
       "      <td>709</td>\n",
       "      <td>France</td>\n",
       "      <td>Female</td>\n",
       "      <td>36</td>\n",
       "      <td>7</td>\n",
       "      <td>0.00</td>\n",
       "      <td>1</td>\n",
       "      <td>0</td>\n",
       "      <td>1</td>\n",
       "      <td>42085.58</td>\n",
       "      <td>1</td>\n",
       "    </tr>\n",
       "    <tr>\n",
       "      <td>9998</td>\n",
       "      <td>9999</td>\n",
       "      <td>15682355</td>\n",
       "      <td>Sabbatini</td>\n",
       "      <td>772</td>\n",
       "      <td>Germany</td>\n",
       "      <td>Male</td>\n",
       "      <td>42</td>\n",
       "      <td>3</td>\n",
       "      <td>75075.31</td>\n",
       "      <td>2</td>\n",
       "      <td>1</td>\n",
       "      <td>0</td>\n",
       "      <td>92888.52</td>\n",
       "      <td>1</td>\n",
       "    </tr>\n",
       "    <tr>\n",
       "      <td>9999</td>\n",
       "      <td>10000</td>\n",
       "      <td>15628319</td>\n",
       "      <td>Walker</td>\n",
       "      <td>792</td>\n",
       "      <td>France</td>\n",
       "      <td>Female</td>\n",
       "      <td>28</td>\n",
       "      <td>5</td>\n",
       "      <td>130142.79</td>\n",
       "      <td>1</td>\n",
       "      <td>1</td>\n",
       "      <td>0</td>\n",
       "      <td>38190.78</td>\n",
       "      <td>0</td>\n",
       "    </tr>\n",
       "  </tbody>\n",
       "</table>\n",
       "<p>10000 rows × 14 columns</p>\n",
       "</div>"
      ],
      "text/plain": [
       "      row_number  customer_id    surname  credit_score geography  gender  age  \\\n",
       "0              1     15634602   Hargrave           619    France  Female   42   \n",
       "1              2     15647311       Hill           608     Spain  Female   41   \n",
       "2              3     15619304       Onio           502    France  Female   42   \n",
       "3              4     15701354       Boni           699    France  Female   39   \n",
       "4              5     15737888   Mitchell           850     Spain  Female   43   \n",
       "...          ...          ...        ...           ...       ...     ...  ...   \n",
       "9995        9996     15606229   Obijiaku           771    France    Male   39   \n",
       "9996        9997     15569892  Johnstone           516    France    Male   35   \n",
       "9997        9998     15584532        Liu           709    France  Female   36   \n",
       "9998        9999     15682355  Sabbatini           772   Germany    Male   42   \n",
       "9999       10000     15628319     Walker           792    France  Female   28   \n",
       "\n",
       "      tenure    balance  num_of_products  has_cr_card  is_active_member  \\\n",
       "0          2       0.00                1            1                 1   \n",
       "1          1   83807.86                1            0                 1   \n",
       "2          8  159660.80                3            1                 0   \n",
       "3          1       0.00                2            0                 0   \n",
       "4          2  125510.82                1            1                 1   \n",
       "...      ...        ...              ...          ...               ...   \n",
       "9995       5       0.00                2            1                 0   \n",
       "9996      10   57369.61                1            1                 1   \n",
       "9997       7       0.00                1            0                 1   \n",
       "9998       3   75075.31                2            1                 0   \n",
       "9999       5  130142.79                1            1                 0   \n",
       "\n",
       "      estimated_salary  exited  \n",
       "0            101348.88       1  \n",
       "1            112542.58       0  \n",
       "2            113931.57       1  \n",
       "3             93826.63       0  \n",
       "4             79084.10       0  \n",
       "...                ...     ...  \n",
       "9995          96270.64       0  \n",
       "9996         101699.77       0  \n",
       "9997          42085.58       1  \n",
       "9998          92888.52       1  \n",
       "9999          38190.78       0  \n",
       "\n",
       "[10000 rows x 14 columns]"
      ]
     },
     "execution_count": 6,
     "metadata": {},
     "output_type": "execute_result"
    }
   ],
   "source": [
    "data"
   ]
  },
  {
   "cell_type": "markdown",
   "id": "92c9afa7",
   "metadata": {},
   "source": [
    "Извлек данные и изучил их. Нужно было изменить название столбцов с типа camelCase на snake_case. \n",
    "Плюс еще в столбце 'tenure' (сколько лет человек является клиентом банка) обнаружил пропуск. Заменил их медианной, а \n",
    "также изменил тип с float на int."
   ]
  },
  {
   "cell_type": "markdown",
   "id": "a2a3b91a",
   "metadata": {},
   "source": [
    "## Исследование задачи"
   ]
  },
  {
   "cell_type": "markdown",
   "id": "3f2141aa",
   "metadata": {},
   "source": [
    "**Исследуйте баланс классов, обучите модель без учёта дисбаланса. Кратко опишите выводы.**"
   ]
  },
  {
   "cell_type": "markdown",
   "id": "232be587",
   "metadata": {},
   "source": [
    "Уберем столбцы которые нам не понадобятся при обучении модели: `'surname', 'row_number', 'customer_id'`"
   ]
  },
  {
   "cell_type": "code",
   "execution_count": 7,
   "id": "bbbaad5b",
   "metadata": {},
   "outputs": [],
   "source": [
    "data_ohe = data.drop(['surname', 'row_number', 'customer_id'], axis=1)"
   ]
  },
  {
   "cell_type": "code",
   "execution_count": 8,
   "id": "25c14648",
   "metadata": {},
   "outputs": [],
   "source": [
    "data_ohe = pd.get_dummies(data_ohe, drop_first=True)"
   ]
  },
  {
   "cell_type": "code",
   "execution_count": 9,
   "id": "569887b0",
   "metadata": {},
   "outputs": [],
   "source": [
    "features = data_ohe.drop('exited', axis=1)\n",
    "target = data_ohe['exited']\n",
    "\n",
    "features_train, features_valid, target_train, target_valid = train_test_split(features, target, test_size=0.4, random_state=12345)\n",
    "features_test, features_valid, target_test, target_valid = train_test_split(features_valid, target_valid, test_size=0.5, random_state=12345)"
   ]
  },
  {
   "cell_type": "code",
   "execution_count": 10,
   "id": "7910005b",
   "metadata": {
    "scrolled": true
   },
   "outputs": [
    {
     "name": "stdout",
     "output_type": "stream",
     "text": [
      "(6000, 11)\n",
      "(2000, 11)\n",
      "(2000, 11)\n"
     ]
    }
   ],
   "source": [
    "print(features_train.shape)\n",
    "print(features_valid.shape)\n",
    "print(features_test.shape)"
   ]
  },
  {
   "cell_type": "code",
   "execution_count": 11,
   "id": "312f17a1",
   "metadata": {},
   "outputs": [
    {
     "data": {
      "text/html": [
       "<div>\n",
       "<style scoped>\n",
       "    .dataframe tbody tr th:only-of-type {\n",
       "        vertical-align: middle;\n",
       "    }\n",
       "\n",
       "    .dataframe tbody tr th {\n",
       "        vertical-align: top;\n",
       "    }\n",
       "\n",
       "    .dataframe thead th {\n",
       "        text-align: right;\n",
       "    }\n",
       "</style>\n",
       "<table border=\"1\" class=\"dataframe\">\n",
       "  <thead>\n",
       "    <tr style=\"text-align: right;\">\n",
       "      <th></th>\n",
       "      <th>credit_score</th>\n",
       "      <th>age</th>\n",
       "      <th>tenure</th>\n",
       "      <th>balance</th>\n",
       "      <th>num_of_products</th>\n",
       "      <th>has_cr_card</th>\n",
       "      <th>is_active_member</th>\n",
       "      <th>estimated_salary</th>\n",
       "      <th>geography_Germany</th>\n",
       "      <th>geography_Spain</th>\n",
       "      <th>gender_Male</th>\n",
       "    </tr>\n",
       "  </thead>\n",
       "  <tbody>\n",
       "    <tr>\n",
       "      <td>7479</td>\n",
       "      <td>567</td>\n",
       "      <td>35</td>\n",
       "      <td>8</td>\n",
       "      <td>153137.74</td>\n",
       "      <td>1</td>\n",
       "      <td>1</td>\n",
       "      <td>0</td>\n",
       "      <td>88659.07</td>\n",
       "      <td>0</td>\n",
       "      <td>1</td>\n",
       "      <td>1</td>\n",
       "    </tr>\n",
       "    <tr>\n",
       "      <td>3411</td>\n",
       "      <td>711</td>\n",
       "      <td>37</td>\n",
       "      <td>8</td>\n",
       "      <td>113899.92</td>\n",
       "      <td>1</td>\n",
       "      <td>0</td>\n",
       "      <td>0</td>\n",
       "      <td>80215.20</td>\n",
       "      <td>0</td>\n",
       "      <td>0</td>\n",
       "      <td>0</td>\n",
       "    </tr>\n",
       "    <tr>\n",
       "      <td>6027</td>\n",
       "      <td>850</td>\n",
       "      <td>44</td>\n",
       "      <td>3</td>\n",
       "      <td>140393.65</td>\n",
       "      <td>2</td>\n",
       "      <td>0</td>\n",
       "      <td>1</td>\n",
       "      <td>186285.52</td>\n",
       "      <td>1</td>\n",
       "      <td>0</td>\n",
       "      <td>1</td>\n",
       "    </tr>\n",
       "    <tr>\n",
       "      <td>1247</td>\n",
       "      <td>512</td>\n",
       "      <td>24</td>\n",
       "      <td>6</td>\n",
       "      <td>0.00</td>\n",
       "      <td>2</td>\n",
       "      <td>1</td>\n",
       "      <td>0</td>\n",
       "      <td>37654.31</td>\n",
       "      <td>0</td>\n",
       "      <td>0</td>\n",
       "      <td>1</td>\n",
       "    </tr>\n",
       "    <tr>\n",
       "      <td>3716</td>\n",
       "      <td>665</td>\n",
       "      <td>27</td>\n",
       "      <td>2</td>\n",
       "      <td>147435.96</td>\n",
       "      <td>1</td>\n",
       "      <td>0</td>\n",
       "      <td>0</td>\n",
       "      <td>187508.06</td>\n",
       "      <td>1</td>\n",
       "      <td>0</td>\n",
       "      <td>0</td>\n",
       "    </tr>\n",
       "    <tr>\n",
       "      <td>...</td>\n",
       "      <td>...</td>\n",
       "      <td>...</td>\n",
       "      <td>...</td>\n",
       "      <td>...</td>\n",
       "      <td>...</td>\n",
       "      <td>...</td>\n",
       "      <td>...</td>\n",
       "      <td>...</td>\n",
       "      <td>...</td>\n",
       "      <td>...</td>\n",
       "      <td>...</td>\n",
       "    </tr>\n",
       "    <tr>\n",
       "      <td>4478</td>\n",
       "      <td>549</td>\n",
       "      <td>31</td>\n",
       "      <td>4</td>\n",
       "      <td>0.00</td>\n",
       "      <td>2</td>\n",
       "      <td>0</td>\n",
       "      <td>1</td>\n",
       "      <td>25684.85</td>\n",
       "      <td>0</td>\n",
       "      <td>0</td>\n",
       "      <td>1</td>\n",
       "    </tr>\n",
       "    <tr>\n",
       "      <td>4094</td>\n",
       "      <td>513</td>\n",
       "      <td>29</td>\n",
       "      <td>10</td>\n",
       "      <td>0.00</td>\n",
       "      <td>2</td>\n",
       "      <td>0</td>\n",
       "      <td>1</td>\n",
       "      <td>25514.77</td>\n",
       "      <td>0</td>\n",
       "      <td>0</td>\n",
       "      <td>1</td>\n",
       "    </tr>\n",
       "    <tr>\n",
       "      <td>3492</td>\n",
       "      <td>655</td>\n",
       "      <td>45</td>\n",
       "      <td>5</td>\n",
       "      <td>57327.04</td>\n",
       "      <td>1</td>\n",
       "      <td>0</td>\n",
       "      <td>1</td>\n",
       "      <td>47349.00</td>\n",
       "      <td>0</td>\n",
       "      <td>0</td>\n",
       "      <td>0</td>\n",
       "    </tr>\n",
       "    <tr>\n",
       "      <td>2177</td>\n",
       "      <td>667</td>\n",
       "      <td>24</td>\n",
       "      <td>4</td>\n",
       "      <td>0.00</td>\n",
       "      <td>2</td>\n",
       "      <td>0</td>\n",
       "      <td>1</td>\n",
       "      <td>34335.55</td>\n",
       "      <td>0</td>\n",
       "      <td>0</td>\n",
       "      <td>0</td>\n",
       "    </tr>\n",
       "    <tr>\n",
       "      <td>4578</td>\n",
       "      <td>691</td>\n",
       "      <td>38</td>\n",
       "      <td>1</td>\n",
       "      <td>0.00</td>\n",
       "      <td>2</td>\n",
       "      <td>0</td>\n",
       "      <td>0</td>\n",
       "      <td>44653.50</td>\n",
       "      <td>0</td>\n",
       "      <td>0</td>\n",
       "      <td>1</td>\n",
       "    </tr>\n",
       "  </tbody>\n",
       "</table>\n",
       "<p>6000 rows × 11 columns</p>\n",
       "</div>"
      ],
      "text/plain": [
       "      credit_score  age  tenure    balance  num_of_products  has_cr_card  \\\n",
       "7479           567   35       8  153137.74                1            1   \n",
       "3411           711   37       8  113899.92                1            0   \n",
       "6027           850   44       3  140393.65                2            0   \n",
       "1247           512   24       6       0.00                2            1   \n",
       "3716           665   27       2  147435.96                1            0   \n",
       "...            ...  ...     ...        ...              ...          ...   \n",
       "4478           549   31       4       0.00                2            0   \n",
       "4094           513   29      10       0.00                2            0   \n",
       "3492           655   45       5   57327.04                1            0   \n",
       "2177           667   24       4       0.00                2            0   \n",
       "4578           691   38       1       0.00                2            0   \n",
       "\n",
       "      is_active_member  estimated_salary  geography_Germany  geography_Spain  \\\n",
       "7479                 0          88659.07                  0                1   \n",
       "3411                 0          80215.20                  0                0   \n",
       "6027                 1         186285.52                  1                0   \n",
       "1247                 0          37654.31                  0                0   \n",
       "3716                 0         187508.06                  1                0   \n",
       "...                ...               ...                ...              ...   \n",
       "4478                 1          25684.85                  0                0   \n",
       "4094                 1          25514.77                  0                0   \n",
       "3492                 1          47349.00                  0                0   \n",
       "2177                 1          34335.55                  0                0   \n",
       "4578                 0          44653.50                  0                0   \n",
       "\n",
       "      gender_Male  \n",
       "7479            1  \n",
       "3411            0  \n",
       "6027            1  \n",
       "1247            1  \n",
       "3716            0  \n",
       "...           ...  \n",
       "4478            1  \n",
       "4094            1  \n",
       "3492            0  \n",
       "2177            0  \n",
       "4578            1  \n",
       "\n",
       "[6000 rows x 11 columns]"
      ]
     },
     "execution_count": 11,
     "metadata": {},
     "output_type": "execute_result"
    }
   ],
   "source": [
    "features_train"
   ]
  },
  {
   "cell_type": "code",
   "execution_count": 12,
   "id": "4ae671d8",
   "metadata": {},
   "outputs": [],
   "source": [
    "pd.options.mode.chained_assignment = None # чтобы не было ошибок\n",
    "scaler = StandardScaler()\n",
    "numeric = ['credit_score', 'age', 'tenure', 'balance', 'estimated_salary']\n",
    "scaler.fit(features_train[numeric])\n",
    "\n",
    "features_train[numeric] = scaler.transform(features_train[numeric])\n",
    "features_valid[numeric] = scaler.transform(features_valid[numeric])\n",
    "features_test[numeric] = scaler.transform(features_test[numeric])"
   ]
  },
  {
   "cell_type": "markdown",
   "id": "1d542449",
   "metadata": {},
   "source": [
    "### Решающее дерево"
   ]
  },
  {
   "cell_type": "code",
   "execution_count": 13,
   "id": "231ed2d3",
   "metadata": {},
   "outputs": [
    {
     "name": "stdout",
     "output_type": "stream",
     "text": [
      "Лучшая глубина равна 6, а лучшая f1_score равняется 0.5337\n",
      "[[1522   55]\n",
      " [ 249  174]]\n",
      "Wall time: 152 ms\n"
     ]
    }
   ],
   "source": [
    "%%time\n",
    "\n",
    "best_result = 0\n",
    "best_depth = 0\n",
    "bpv = 0\n",
    "for depth in range(1, 11):\n",
    "    model = DecisionTreeClassifier(max_depth=depth, random_state=12345)\n",
    "    model.fit(features_train, target_train)\n",
    "    prediction_valid = model.predict(features_valid)\n",
    "    result = f1_score(target_valid, prediction_valid)\n",
    "    if result > best_result:\n",
    "        best_result = result\n",
    "        best_depth = depth\n",
    "        bpv = prediction_valid\n",
    "        \n",
    "print(f'Лучшая глубина равна {best_depth}, а лучшая f1_score равняется {round(best_result, 4)}')\n",
    "\n",
    "print(confusion_matrix(target_valid, bpv))"
   ]
  },
  {
   "cell_type": "markdown",
   "id": "ba605445",
   "metadata": {},
   "source": [
    "### Случайный лес"
   ]
  },
  {
   "cell_type": "code",
   "execution_count": 14,
   "id": "a2f0818e",
   "metadata": {},
   "outputs": [
    {
     "name": "stdout",
     "output_type": "stream",
     "text": [
      "Лучшее колличество равно 90, а лучшая f1_score равняется 0.553\n",
      "[[1518   59]\n",
      " [ 239  184]]\n",
      "Wall time: 3.61 s\n"
     ]
    }
   ],
   "source": [
    "%%time\n",
    "\n",
    "best_result = 0\n",
    "best_est = 0\n",
    "bpv = None\n",
    "for est in range(10, 101, 10):\n",
    "    model = RandomForestClassifier(n_estimators=est, random_state=12345)\n",
    "    model.fit(features_train, target_train)\n",
    "    prediction_valid = model.predict(features_valid)\n",
    "    result = f1_score(target_valid, prediction_valid)\n",
    "    if result > best_result:\n",
    "        best_result = result\n",
    "        best_est = est\n",
    "        bpv = prediction_valid\n",
    "\n",
    "print(f'Лучшее колличество равно {best_est}, а лучшая f1_score равняется {round(best_result, 3)}')\n",
    "print(confusion_matrix(target_valid, bpv))"
   ]
  },
  {
   "cell_type": "markdown",
   "id": "2cb68554",
   "metadata": {},
   "source": [
    "### Логическая регрессия"
   ]
  },
  {
   "cell_type": "code",
   "execution_count": 15,
   "id": "e65c5f54",
   "metadata": {},
   "outputs": [
    {
     "name": "stdout",
     "output_type": "stream",
     "text": [
      "Лучшая f1_score равняется 0.27478260869565213\n",
      "Wall time: 16 ms\n"
     ]
    }
   ],
   "source": [
    "%%time\n",
    "\n",
    "model = LogisticRegression(solver='liblinear', random_state=12345)\n",
    "model.fit(features_train, target_train)\n",
    "prediction_valid = model.predict(features_valid)\n",
    "\n",
    "print(f'Лучшая f1_score равняется {f1_score(target_valid, prediction_valid)}')"
   ]
  },
  {
   "cell_type": "markdown",
   "id": "13f2e02f",
   "metadata": {},
   "source": [
    "Можно наблюдать, что у модели Случайного леса лучший показатель f1-метрики "
   ]
  },
  {
   "cell_type": "markdown",
   "id": "28abbff2",
   "metadata": {},
   "source": [
    "## Улучшите качество модели, учитывая дисбаланс классов. \n",
    "Обучите разные модели и найдите лучшую. Кратко опишите выводы."
   ]
  },
  {
   "cell_type": "code",
   "execution_count": 16,
   "id": "ced4c74e",
   "metadata": {},
   "outputs": [],
   "source": [
    "# функция для увеличение выборки\n",
    "def upsample(features, target, repeat):\n",
    "    features_zeros = features[target == 0]\n",
    "    features_ones = features[target == 1]\n",
    "    target_zeros = target[target == 0]\n",
    "    target_ones = target[target == 1]\n",
    "\n",
    "    features_upsampled = pd.concat(\n",
    "        [features_zeros] + [features_ones] * repeat)\n",
    "    target_upsampled = pd.concat(\n",
    "        [target_zeros] + [target_ones] * repeat)\n",
    "    \n",
    "    features_upsampled, target_upsampled = shuffle(\n",
    "        features_upsampled, target_upsampled, random_state=12345)\n",
    "    \n",
    "    return features_upsampled, target_upsampled\n",
    "\n",
    "# функция для уменьшения выборки\n",
    "def downsample(features, target, fraction):\n",
    "    features_zeros = features[target == 0]\n",
    "    features_ones = features[target == 1]\n",
    "    target_zeros = target[target == 0]\n",
    "    target_ones = target[target == 1]\n",
    "    \n",
    "    features_downsampled = pd.concat(\n",
    "        [features_zeros.sample(frac=fraction, random_state=12345)] + [features_ones])\n",
    "    target_downsampled = pd.concat(\n",
    "        [target_zeros.sample(frac=fraction, random_state=12345)] + [target_ones])\n",
    "    \n",
    "    features_downsampled, target_downsampled = shuffle(\n",
    "        features_downsampled, target_downsampled, random_state=12345)\n",
    "    \n",
    "    return features_downsampled, target_downsampled"
   ]
  },
  {
   "cell_type": "markdown",
   "id": "5c029aac",
   "metadata": {},
   "source": [
    "Создал функции для увеличение и уменьшения выборки"
   ]
  },
  {
   "cell_type": "markdown",
   "id": "83e4a8bb",
   "metadata": {},
   "source": [
    "### Выбираем лучшую модель"
   ]
  },
  {
   "cell_type": "markdown",
   "id": "582db489",
   "metadata": {},
   "source": [
    "#### Решающее дерево"
   ]
  },
  {
   "cell_type": "code",
   "execution_count": 17,
   "id": "34ff899d",
   "metadata": {},
   "outputs": [],
   "source": [
    "features_upsampled, target_upsampled = upsample(features_train, target_train, 4)\n",
    "features_downsampled, target_downsampled = downsample(features_train, target_train, 0.4)"
   ]
  },
  {
   "cell_type": "markdown",
   "id": "b1efa22b",
   "metadata": {},
   "source": [
    "Увеличил и уменьшил выборки. Поэксперементировал. Выборки features_upsampled, target_upsampled показывают лучшие результаты."
   ]
  },
  {
   "cell_type": "code",
   "execution_count": 18,
   "id": "410024d5",
   "metadata": {},
   "outputs": [
    {
     "name": "stdout",
     "output_type": "stream",
     "text": [
      "Глубина - 5, f1_score - 0.5809128630705395\n",
      "[[1316  261]\n",
      " [ 143  280]]\n",
      "Wall time: 200 ms\n"
     ]
    }
   ],
   "source": [
    "%%time\n",
    "\n",
    "best_result = 0\n",
    "best_depth = 0\n",
    "bpv = 0\n",
    "for depth in range(1, 11):\n",
    "    model = DecisionTreeClassifier(max_depth=depth, random_state=12345)\n",
    "    model.fit(features_upsampled, target_upsampled)\n",
    "    prediction_valid = model.predict(features_valid)\n",
    "    result = f1_score(target_valid, prediction_valid)\n",
    "    if result > best_result:\n",
    "        best_result = result\n",
    "        best_depth = depth\n",
    "        bpv = prediction_valid\n",
    "        \n",
    "print(f'Глубина - {best_depth}, f1_score - {best_result}')\n",
    "print(confusion_matrix(target_valid, bpv))"
   ]
  },
  {
   "cell_type": "markdown",
   "id": "fc38046c",
   "metadata": {},
   "source": [
    "#### Случайный лес"
   ]
  },
  {
   "cell_type": "code",
   "execution_count": 19,
   "id": "c3b0f13a",
   "metadata": {
    "scrolled": false
   },
   "outputs": [
    {
     "name": "stdout",
     "output_type": "stream",
     "text": [
      "Колличество - 30, глубина - 10, f1_score - 0.6261980830670926\n",
      "[[1355  222]\n",
      " [ 129  294]]\n",
      "Wall time: 28.2 s\n"
     ]
    }
   ],
   "source": [
    "%%time\n",
    "\n",
    "best_result = 0\n",
    "best_est = 0\n",
    "bpv = None\n",
    "best_depth = 0\n",
    "for depth in range(1, 11):\n",
    "    for est in range(10, 101, 10):\n",
    "        model = RandomForestClassifier(class_weight='balanced', n_estimators=est, max_depth=depth, random_state=12345)\n",
    "        model.fit(features_upsampled, target_upsampled)\n",
    "        prediction_valid = model.predict(features_valid)\n",
    "        result = f1_score(target_valid, prediction_valid)\n",
    "        if result > best_result:\n",
    "            best_result = result\n",
    "            best_est = est\n",
    "            bpv = prediction_valid\n",
    "            best_depth = depth\n",
    "\n",
    "print(f'Колличество - {best_est}, глубина - {best_depth}, f1_score - {best_result}')\n",
    "print(confusion_matrix(target_valid, bpv))"
   ]
  },
  {
   "cell_type": "markdown",
   "id": "03cb5606",
   "metadata": {},
   "source": [
    "#### Логическая регрессия"
   ]
  },
  {
   "cell_type": "code",
   "execution_count": 20,
   "id": "1d5c7025",
   "metadata": {},
   "outputs": [
    {
     "name": "stdout",
     "output_type": "stream",
     "text": [
      "Лучшая f1_score равняется 0.4775086505190312\n",
      "[[1120  457]\n",
      " [ 147  276]]\n",
      "Wall time: 31.1 ms\n"
     ]
    }
   ],
   "source": [
    "%%time\n",
    "\n",
    "model = LogisticRegression(solver='liblinear', random_state=12345)\n",
    "model.fit(features_upsampled, target_upsampled)\n",
    "prediction_valid = model.predict(features_valid)\n",
    "\n",
    "print(f'Лучшая f1_score равняется {f1_score(target_valid, prediction_valid)}')\n",
    "print(confusion_matrix(target_valid, prediction_valid))"
   ]
  },
  {
   "cell_type": "markdown",
   "id": "5dced180",
   "metadata": {},
   "source": [
    "#### Вывод\n",
    "f1_score у Случайного леса является наибольшим"
   ]
  },
  {
   "cell_type": "markdown",
   "id": "4a4e45a5",
   "metadata": {},
   "source": [
    "### roc_auc_score"
   ]
  },
  {
   "cell_type": "code",
   "execution_count": 21,
   "id": "447b1248",
   "metadata": {},
   "outputs": [
    {
     "data": {
      "image/png": "[encoded data removed]",
      "text/plain": [
       "<Figure size 432x288 with 1 Axes>"
      ]
     },
     "metadata": {
      "needs_background": "light"
     },
     "output_type": "display_data"
    },
    {
     "name": "stdout",
     "output_type": "stream",
     "text": [
      "Wall time: 370 ms\n"
     ]
    }
   ],
   "source": [
    "%%time\n",
    "fig, ax = plt.subplots()\n",
    "\n",
    "model = RandomForestClassifier(class_weight='balanced', n_estimators=30, max_depth=10, random_state=12345)\n",
    "model.fit(features_upsampled, target_upsampled)\n",
    "probabilities = model.predict_proba(features_valid)[:,1]\n",
    "\n",
    "fpr, tpr, thresholds = roc_curve(target_valid, probabilities)\n",
    "roc_auc = auc(fpr, tpr)\n",
    "plt.plot(fpr, tpr, 'b', label = 'AUC = %0.2f' % roc_auc)\n",
    "plt.legend(loc = 'lower right')\n",
    "plt.plot([0, 1], [0, 1],'r--')\n",
    "plt.xlim([0, 1])\n",
    "plt.ylim([0, 1])\n",
    "\n",
    "ax.set_title('ROC-кривая')\n",
    "plt.xlabel('True Positive Rate')\n",
    "plt.ylabel('False Positive Rate')\n",
    "plt.show()"
   ]
  },
  {
   "cell_type": "markdown",
   "id": "ae159d83",
   "metadata": {},
   "source": [
    "Построил ROC кривую для лучшей модели"
   ]
  },
  {
   "cell_type": "markdown",
   "id": "38cf247c",
   "metadata": {},
   "source": [
    "## Проведите финальное тестирование."
   ]
  },
  {
   "cell_type": "code",
   "execution_count": 22,
   "id": "113602a8",
   "metadata": {},
   "outputs": [
    {
     "name": "stdout",
     "output_type": "stream",
     "text": [
      "Значение f1-score равняется 0.6175514626218851\n",
      "[[1362  220]\n",
      " [ 133  285]]\n"
     ]
    }
   ],
   "source": [
    "model = RandomForestClassifier(class_weight='balanced', n_estimators=30, max_depth=10, random_state=12345)\n",
    "model.fit(features_upsampled, target_upsampled)\n",
    "prediction_test = model.predict(features_test)\n",
    "\n",
    "print('Значение f1-score равняется', f1_score(target_test, prediction_test))\n",
    "print(confusion_matrix(target_test, prediction_test))"
   ]
  },
  {
   "cell_type": "markdown",
   "id": "821badad",
   "metadata": {},
   "source": [
    "Построил модель с значением F1-score больше 0.61"
   ]
  }
 ],
 "metadata": {
  "ExecuteTimeLog": [
   {
    "duration": 2643,
    "start_time": "2022-03-18T16:26:27.760Z"
   },
   {
    "duration": 38,
    "start_time": "2022-03-18T16:26:30.407Z"
   },
   {
    "duration": 15,
    "start_time": "2022-03-18T16:26:30.447Z"
   },
   {
    "duration": 23,
    "start_time": "2022-03-18T16:26:30.465Z"
   },
   {
    "duration": 8,
    "start_time": "2022-03-18T16:26:30.493Z"
   },
   {
    "duration": 50,
    "start_time": "2022-03-18T16:26:30.504Z"
   },
   {
    "duration": 328,
    "start_time": "2022-03-18T16:26:30.556Z"
   },
   {
    "duration": 393,
    "start_time": "2022-03-18T16:26:30.887Z"
   },
   {
    "duration": 7979,
    "start_time": "2022-03-18T16:26:31.283Z"
   },
   {
    "duration": 86387,
    "start_time": "2022-03-18T16:26:39.265Z"
   },
   {
    "duration": 13180,
    "start_time": "2022-03-18T16:28:05.655Z"
   },
   {
    "duration": 883,
    "start_time": "2022-03-18T16:28:18.839Z"
   },
   {
    "duration": 6646,
    "start_time": "2022-03-18T16:28:19.786Z"
   },
   {
    "duration": 86018,
    "start_time": "2022-03-18T16:28:26.437Z"
   },
   {
    "duration": 4577,
    "start_time": "2022-03-18T16:29:52.457Z"
   },
   {
    "duration": 1154,
    "start_time": "2022-03-18T16:29:57.037Z"
   },
   {
    "duration": 19,
    "start_time": "2022-03-18T16:29:58.194Z"
   },
   {
    "duration": 8,
    "start_time": "2022-03-18T16:31:10.750Z"
   },
   {
    "duration": 983,
    "start_time": "2022-03-18T16:31:27.205Z"
   },
   {
    "duration": 832,
    "start_time": "2022-03-18T16:32:22.522Z"
   },
   {
    "duration": 1502,
    "start_time": "2022-03-19T15:21:55.192Z"
   },
   {
    "duration": 27,
    "start_time": "2022-03-19T15:21:56.696Z"
   },
   {
    "duration": 19,
    "start_time": "2022-03-19T15:21:56.725Z"
   },
   {
    "duration": 6,
    "start_time": "2022-03-19T15:21:56.746Z"
   },
   {
    "duration": 5,
    "start_time": "2022-03-19T15:21:56.754Z"
   },
   {
    "duration": 22,
    "start_time": "2022-03-19T15:21:56.761Z"
   },
   {
    "duration": 5,
    "start_time": "2022-03-19T15:26:29.545Z"
   },
   {
    "duration": 111,
    "start_time": "2022-03-19T15:27:41.075Z"
   },
   {
    "duration": 22,
    "start_time": "2022-03-19T15:27:50.150Z"
   },
   {
    "duration": 22,
    "start_time": "2022-03-19T15:28:03.242Z"
   },
   {
    "duration": 5,
    "start_time": "2022-03-19T15:28:18.020Z"
   },
   {
    "duration": 4,
    "start_time": "2022-03-19T15:33:27.290Z"
   },
   {
    "duration": 31,
    "start_time": "2022-03-19T15:33:27.295Z"
   },
   {
    "duration": 7,
    "start_time": "2022-03-19T15:33:27.327Z"
   },
   {
    "duration": 5,
    "start_time": "2022-03-19T15:33:27.456Z"
   },
   {
    "duration": 4,
    "start_time": "2022-03-19T15:33:27.827Z"
   },
   {
    "duration": 36,
    "start_time": "2022-03-19T15:33:27.833Z"
   },
   {
    "duration": 6,
    "start_time": "2022-03-19T15:33:27.870Z"
   },
   {
    "duration": 189,
    "start_time": "2022-03-19T15:33:27.877Z"
   },
   {
    "duration": 9,
    "start_time": "2022-03-19T15:37:05.106Z"
   },
   {
    "duration": 242,
    "start_time": "2022-03-19T15:37:12.383Z"
   },
   {
    "duration": 9,
    "start_time": "2022-03-19T15:37:12.627Z"
   },
   {
    "duration": 4,
    "start_time": "2022-03-19T15:37:24.644Z"
   },
   {
    "duration": 3,
    "start_time": "2022-03-19T15:37:41.587Z"
   },
   {
    "duration": 1355,
    "start_time": "2022-03-19T16:12:37.138Z"
   },
   {
    "duration": 25,
    "start_time": "2022-03-19T16:12:38.495Z"
   },
   {
    "duration": 13,
    "start_time": "2022-03-19T16:12:38.522Z"
   },
   {
    "duration": 5,
    "start_time": "2022-03-19T16:12:38.537Z"
   },
   {
    "duration": 4,
    "start_time": "2022-03-19T16:12:38.544Z"
   },
   {
    "duration": 21,
    "start_time": "2022-03-19T16:12:38.549Z"
   },
   {
    "duration": 4,
    "start_time": "2022-03-19T16:12:38.572Z"
   },
   {
    "duration": 209,
    "start_time": "2022-03-19T16:12:38.577Z"
   },
   {
    "duration": 240,
    "start_time": "2022-03-19T16:12:38.787Z"
   },
   {
    "duration": 6,
    "start_time": "2022-03-19T16:12:39.028Z"
   },
   {
    "duration": 3416,
    "start_time": "2022-03-19T16:12:39.035Z"
   },
   {
    "duration": 3265,
    "start_time": "2022-03-19T16:14:13.757Z"
   },
   {
    "duration": 37918,
    "start_time": "2022-03-19T16:15:28.577Z"
   },
   {
    "duration": 617,
    "start_time": "2022-03-19T16:18:00.917Z"
   },
   {
    "duration": 5681,
    "start_time": "2022-03-19T16:19:17.058Z"
   },
   {
    "duration": 578,
    "start_time": "2022-03-19T16:19:52.357Z"
   },
   {
    "duration": 3291,
    "start_time": "2022-03-19T16:25:53.648Z"
   },
   {
    "duration": 38116,
    "start_time": "2022-03-19T16:27:06.289Z"
   },
   {
    "duration": 626,
    "start_time": "2022-03-19T16:28:56.909Z"
   },
   {
    "duration": 1356,
    "start_time": "2022-03-19T16:34:22.189Z"
   },
   {
    "duration": 27,
    "start_time": "2022-03-19T16:34:23.546Z"
   },
   {
    "duration": 9,
    "start_time": "2022-03-19T16:34:23.575Z"
   },
   {
    "duration": 5,
    "start_time": "2022-03-19T16:34:23.586Z"
   },
   {
    "duration": 3,
    "start_time": "2022-03-19T16:34:23.593Z"
   },
   {
    "duration": 39,
    "start_time": "2022-03-19T16:34:23.598Z"
   },
   {
    "duration": 4,
    "start_time": "2022-03-19T16:34:23.639Z"
   },
   {
    "duration": 202,
    "start_time": "2022-03-19T16:34:23.644Z"
   },
   {
    "duration": 241,
    "start_time": "2022-03-19T16:34:23.848Z"
   },
   {
    "duration": 4,
    "start_time": "2022-03-19T16:34:24.091Z"
   },
   {
    "duration": 3236,
    "start_time": "2022-03-19T16:34:24.096Z"
   },
   {
    "duration": 39559,
    "start_time": "2022-03-19T16:34:27.334Z"
   },
   {
    "duration": 541,
    "start_time": "2022-03-19T16:35:06.894Z"
   },
   {
    "duration": 3401,
    "start_time": "2022-03-19T16:35:07.438Z"
   },
   {
    "duration": 38384,
    "start_time": "2022-03-19T16:35:10.840Z"
   },
   {
    "duration": 712,
    "start_time": "2022-03-19T16:35:49.226Z"
   },
   {
    "duration": 578,
    "start_time": "2022-03-19T16:35:49.941Z"
   },
   {
    "duration": 519,
    "start_time": "2022-03-19T16:35:50.521Z"
   },
   {
    "duration": 341,
    "start_time": "2022-03-19T16:35:51.042Z"
   },
   {
    "duration": 431,
    "start_time": "2022-03-19T16:52:42.023Z"
   },
   {
    "duration": 435,
    "start_time": "2022-03-19T16:56:38.463Z"
   },
   {
    "duration": 551,
    "start_time": "2022-03-19T16:57:14.955Z"
   },
   {
    "duration": 442,
    "start_time": "2022-03-19T16:58:05.007Z"
   },
   {
    "duration": 346,
    "start_time": "2022-03-19T17:01:06.617Z"
   },
   {
    "duration": 337,
    "start_time": "2022-03-19T17:03:33.788Z"
   },
   {
    "duration": 335,
    "start_time": "2022-03-19T17:03:42.507Z"
   },
   {
    "duration": 347,
    "start_time": "2022-03-19T17:04:01.833Z"
   },
   {
    "duration": 338,
    "start_time": "2022-03-19T17:04:07.143Z"
   },
   {
    "duration": 335,
    "start_time": "2022-03-19T17:04:13.452Z"
   },
   {
    "duration": 4,
    "start_time": "2022-03-19T17:11:52.031Z"
   },
   {
    "duration": 39,
    "start_time": "2022-03-19T17:11:52.038Z"
   },
   {
    "duration": 10,
    "start_time": "2022-03-19T17:11:52.079Z"
   },
   {
    "duration": 9,
    "start_time": "2022-03-19T17:11:52.092Z"
   },
   {
    "duration": 9,
    "start_time": "2022-03-19T17:11:52.102Z"
   },
   {
    "duration": 34,
    "start_time": "2022-03-19T17:11:52.112Z"
   },
   {
    "duration": 6,
    "start_time": "2022-03-19T17:11:52.147Z"
   },
   {
    "duration": 233,
    "start_time": "2022-03-19T17:11:52.154Z"
   },
   {
    "duration": 342,
    "start_time": "2022-03-19T17:11:52.391Z"
   },
   {
    "duration": 4,
    "start_time": "2022-03-19T17:11:52.735Z"
   },
   {
    "duration": 3312,
    "start_time": "2022-03-19T17:11:52.741Z"
   },
   {
    "duration": 41603,
    "start_time": "2022-03-19T17:11:56.055Z"
   },
   {
    "duration": 574,
    "start_time": "2022-03-19T17:12:37.660Z"
   },
   {
    "duration": 3350,
    "start_time": "2022-03-19T17:12:38.236Z"
   },
   {
    "duration": 42489,
    "start_time": "2022-03-19T17:12:41.588Z"
   },
   {
    "duration": 856,
    "start_time": "2022-03-19T17:13:24.079Z"
   },
   {
    "duration": 503,
    "start_time": "2022-03-19T17:13:24.937Z"
   },
   {
    "duration": 340,
    "start_time": "2022-03-19T17:13:25.441Z"
   },
   {
    "duration": 683,
    "start_time": "2022-03-19T17:13:55.156Z"
   },
   {
    "duration": 342,
    "start_time": "2022-03-19T17:14:30.278Z"
   },
   {
    "duration": 763,
    "start_time": "2022-03-19T17:15:39.575Z"
   },
   {
    "duration": 682,
    "start_time": "2022-03-19T17:15:59.854Z"
   },
   {
    "duration": 1520,
    "start_time": "2022-03-19T17:16:08.722Z"
   },
   {
    "duration": 32,
    "start_time": "2022-03-19T17:16:10.244Z"
   },
   {
    "duration": 10,
    "start_time": "2022-03-19T17:16:10.278Z"
   },
   {
    "duration": 4,
    "start_time": "2022-03-19T17:16:10.290Z"
   },
   {
    "duration": 5,
    "start_time": "2022-03-19T17:16:10.296Z"
   },
   {
    "duration": 41,
    "start_time": "2022-03-19T17:16:10.302Z"
   },
   {
    "duration": 4,
    "start_time": "2022-03-19T17:16:10.345Z"
   },
   {
    "duration": 202,
    "start_time": "2022-03-19T17:16:10.350Z"
   },
   {
    "duration": 242,
    "start_time": "2022-03-19T17:16:10.553Z"
   },
   {
    "duration": 4,
    "start_time": "2022-03-19T17:16:10.797Z"
   },
   {
    "duration": 3281,
    "start_time": "2022-03-19T17:16:10.803Z"
   },
   {
    "duration": 38414,
    "start_time": "2022-03-19T17:16:14.085Z"
   },
   {
    "duration": 544,
    "start_time": "2022-03-19T17:16:52.501Z"
   },
   {
    "duration": 3966,
    "start_time": "2022-03-19T17:16:53.135Z"
   },
   {
    "duration": 48691,
    "start_time": "2022-03-19T17:16:57.103Z"
   },
   {
    "duration": 640,
    "start_time": "2022-03-19T17:17:45.796Z"
   },
   {
    "duration": 561,
    "start_time": "2022-03-19T17:17:46.438Z"
   },
   {
    "duration": 356,
    "start_time": "2022-03-19T17:17:47.001Z"
   },
   {
    "duration": 2447,
    "start_time": "2022-03-19T19:53:19.731Z"
   },
   {
    "duration": 43,
    "start_time": "2022-03-19T19:53:22.184Z"
   },
   {
    "duration": 14,
    "start_time": "2022-03-19T19:53:22.229Z"
   },
   {
    "duration": 7,
    "start_time": "2022-03-19T19:53:22.245Z"
   },
   {
    "duration": 30,
    "start_time": "2022-03-19T19:53:22.254Z"
   },
   {
    "duration": 118,
    "start_time": "2022-03-19T19:53:22.287Z"
   },
   {
    "duration": 5,
    "start_time": "2022-03-19T19:53:22.408Z"
   },
   {
    "duration": 320,
    "start_time": "2022-03-19T19:53:22.415Z"
   },
   {
    "duration": 30,
    "start_time": "2022-03-19T19:53:28.642Z"
   },
   {
    "duration": 82,
    "start_time": "2022-03-19T19:54:03.966Z"
   },
   {
    "duration": 29,
    "start_time": "2022-03-19T19:54:07.689Z"
   },
   {
    "duration": 5,
    "start_time": "2022-03-19T19:54:15.888Z"
   },
   {
    "duration": 15,
    "start_time": "2022-03-19T19:54:17.796Z"
   },
   {
    "duration": 18,
    "start_time": "2022-03-19T19:54:19.522Z"
   },
   {
    "duration": 6,
    "start_time": "2022-03-19T19:54:51.630Z"
   },
   {
    "duration": 45,
    "start_time": "2022-03-19T19:54:51.640Z"
   },
   {
    "duration": 11,
    "start_time": "2022-03-19T19:54:51.689Z"
   },
   {
    "duration": 11,
    "start_time": "2022-03-19T19:54:51.703Z"
   },
   {
    "duration": 11,
    "start_time": "2022-03-19T19:54:51.717Z"
   },
   {
    "duration": 57,
    "start_time": "2022-03-19T19:54:51.731Z"
   },
   {
    "duration": 15,
    "start_time": "2022-03-19T19:54:51.793Z"
   },
   {
    "duration": 364,
    "start_time": "2022-03-19T19:54:51.811Z"
   },
   {
    "duration": 36,
    "start_time": "2022-03-19T19:54:52.178Z"
   },
   {
    "duration": 194,
    "start_time": "2022-03-20T08:14:46.451Z"
   },
   {
    "duration": 2572,
    "start_time": "2022-03-20T08:15:00.624Z"
   },
   {
    "duration": 41,
    "start_time": "2022-03-20T08:15:03.199Z"
   },
   {
    "duration": 18,
    "start_time": "2022-03-20T08:15:03.243Z"
   },
   {
    "duration": 15,
    "start_time": "2022-03-20T08:15:03.263Z"
   },
   {
    "duration": 11,
    "start_time": "2022-03-20T08:15:03.281Z"
   },
   {
    "duration": 59,
    "start_time": "2022-03-20T08:15:03.294Z"
   },
   {
    "duration": 30,
    "start_time": "2022-03-20T08:15:03.356Z"
   },
   {
    "duration": 29,
    "start_time": "2022-03-20T08:15:54.194Z"
   },
   {
    "duration": 10,
    "start_time": "2022-03-20T08:16:01.140Z"
   },
   {
    "duration": 310,
    "start_time": "2022-03-20T08:16:25.889Z"
   },
   {
    "duration": 42,
    "start_time": "2022-03-20T08:16:27.168Z"
   },
   {
    "duration": 6,
    "start_time": "2022-03-20T08:16:50.434Z"
   },
   {
    "duration": 42,
    "start_time": "2022-03-20T08:16:53.943Z"
   },
   {
    "duration": 17,
    "start_time": "2022-03-20T08:16:56.767Z"
   },
   {
    "duration": 30,
    "start_time": "2022-03-20T08:17:07.629Z"
   },
   {
    "duration": 39,
    "start_time": "2022-03-20T08:17:40.285Z"
   },
   {
    "duration": 48,
    "start_time": "2022-03-20T08:18:08.921Z"
   },
   {
    "duration": 20,
    "start_time": "2022-03-20T08:18:15.212Z"
   },
   {
    "duration": 30,
    "start_time": "2022-03-20T08:18:15.553Z"
   },
   {
    "duration": 164,
    "start_time": "2022-03-20T08:19:30.914Z"
   },
   {
    "duration": 7,
    "start_time": "2022-03-20T08:19:37.335Z"
   },
   {
    "duration": 64,
    "start_time": "2022-03-20T08:19:37.345Z"
   },
   {
    "duration": 12,
    "start_time": "2022-03-20T08:19:37.413Z"
   },
   {
    "duration": 6,
    "start_time": "2022-03-20T08:19:37.427Z"
   },
   {
    "duration": 9,
    "start_time": "2022-03-20T08:19:37.446Z"
   },
   {
    "duration": 37,
    "start_time": "2022-03-20T08:19:37.461Z"
   },
   {
    "duration": 43,
    "start_time": "2022-03-20T08:19:37.501Z"
   },
   {
    "duration": 19,
    "start_time": "2022-03-20T08:19:37.552Z"
   },
   {
    "duration": 35,
    "start_time": "2022-03-20T08:19:37.573Z"
   },
   {
    "duration": 52,
    "start_time": "2022-03-20T08:19:37.611Z"
   },
   {
    "duration": 6,
    "start_time": "2022-03-20T08:19:37.665Z"
   },
   {
    "duration": 300,
    "start_time": "2022-03-20T08:36:27.374Z"
   },
   {
    "duration": 50,
    "start_time": "2022-03-20T08:36:27.677Z"
   },
   {
    "duration": 82,
    "start_time": "2022-03-20T08:36:36.758Z"
   },
   {
    "duration": 51,
    "start_time": "2022-03-20T08:36:37.349Z"
   },
   {
    "duration": 36,
    "start_time": "2022-03-20T08:37:13.043Z"
   },
   {
    "duration": 14,
    "start_time": "2022-03-20T08:37:14.260Z"
   },
   {
    "duration": 29,
    "start_time": "2022-03-20T08:37:14.603Z"
   },
   {
    "duration": 14,
    "start_time": "2022-03-20T08:37:24.105Z"
   },
   {
    "duration": 5,
    "start_time": "2022-03-20T08:37:25.180Z"
   },
   {
    "duration": 269,
    "start_time": "2022-03-20T08:37:34.269Z"
   },
   {
    "duration": 5748,
    "start_time": "2022-03-20T08:37:42.918Z"
   },
   {
    "duration": 129,
    "start_time": "2022-03-20T08:38:03.818Z"
   },
   {
    "duration": 290,
    "start_time": "2022-03-20T08:38:13.516Z"
   },
   {
    "duration": 5667,
    "start_time": "2022-03-20T08:38:18.284Z"
   },
   {
    "duration": 196,
    "start_time": "2022-03-20T08:38:23.953Z"
   },
   {
    "duration": 35,
    "start_time": "2022-03-20T08:38:41.806Z"
   },
   {
    "duration": 2260,
    "start_time": "2022-03-20T09:17:58.919Z"
   },
   {
    "duration": 51,
    "start_time": "2022-03-20T09:18:01.182Z"
   },
   {
    "duration": 15,
    "start_time": "2022-03-20T09:18:01.235Z"
   },
   {
    "duration": 34,
    "start_time": "2022-03-20T09:18:01.254Z"
   },
   {
    "duration": 34,
    "start_time": "2022-03-20T09:18:01.290Z"
   },
   {
    "duration": 73,
    "start_time": "2022-03-20T09:18:01.327Z"
   },
   {
    "duration": 33,
    "start_time": "2022-03-20T09:18:01.403Z"
   },
   {
    "duration": 28,
    "start_time": "2022-03-20T09:18:01.439Z"
   },
   {
    "duration": 50,
    "start_time": "2022-03-20T09:18:01.470Z"
   },
   {
    "duration": 191,
    "start_time": "2022-03-20T09:19:52.877Z"
   },
   {
    "duration": 29,
    "start_time": "2022-03-20T09:19:53.167Z"
   },
   {
    "duration": 167,
    "start_time": "2022-03-20T09:19:59.352Z"
   },
   {
    "duration": 23,
    "start_time": "2022-03-20T09:20:11.499Z"
   },
   {
    "duration": 6,
    "start_time": "2022-03-20T09:20:14.356Z"
   },
   {
    "duration": 8,
    "start_time": "2022-03-20T09:20:26.103Z"
   },
   {
    "duration": 15,
    "start_time": "2022-03-20T09:20:32.039Z"
   },
   {
    "duration": 15,
    "start_time": "2022-03-20T09:21:33.969Z"
   },
   {
    "duration": 1697,
    "start_time": "2022-03-20T17:50:25.989Z"
   },
   {
    "duration": 31,
    "start_time": "2022-03-20T17:50:27.688Z"
   },
   {
    "duration": 11,
    "start_time": "2022-03-20T17:50:27.721Z"
   },
   {
    "duration": 5,
    "start_time": "2022-03-20T17:50:27.734Z"
   },
   {
    "duration": 10,
    "start_time": "2022-03-20T17:50:27.741Z"
   },
   {
    "duration": 28,
    "start_time": "2022-03-20T17:50:27.753Z"
   },
   {
    "duration": 43,
    "start_time": "2022-03-20T17:50:27.783Z"
   },
   {
    "duration": 13,
    "start_time": "2022-03-20T17:50:27.827Z"
   },
   {
    "duration": 20,
    "start_time": "2022-03-20T17:50:27.841Z"
   },
   {
    "duration": 12,
    "start_time": "2022-03-20T17:50:37.086Z"
   },
   {
    "duration": 4,
    "start_time": "2022-03-20T17:50:38.840Z"
   },
   {
    "duration": 107,
    "start_time": "2022-03-20T18:59:43.846Z"
   },
   {
    "duration": 8,
    "start_time": "2022-03-20T19:00:04.806Z"
   },
   {
    "duration": 20,
    "start_time": "2022-03-20T19:00:07.165Z"
   },
   {
    "duration": 25,
    "start_time": "2022-03-20T19:00:23.042Z"
   },
   {
    "duration": 11,
    "start_time": "2022-03-20T19:00:38.241Z"
   },
   {
    "duration": 1381,
    "start_time": "2022-03-20T19:02:16.765Z"
   },
   {
    "duration": 34,
    "start_time": "2022-03-20T19:02:18.148Z"
   },
   {
    "duration": 9,
    "start_time": "2022-03-20T19:02:18.183Z"
   },
   {
    "duration": 5,
    "start_time": "2022-03-20T19:02:18.194Z"
   },
   {
    "duration": 9,
    "start_time": "2022-03-20T19:02:18.200Z"
   },
   {
    "duration": 25,
    "start_time": "2022-03-20T19:02:18.210Z"
   },
   {
    "duration": 20,
    "start_time": "2022-03-20T19:02:18.236Z"
   },
   {
    "duration": 11,
    "start_time": "2022-03-20T19:02:18.257Z"
   },
   {
    "duration": 42,
    "start_time": "2022-03-20T19:02:18.270Z"
   },
   {
    "duration": 11,
    "start_time": "2022-03-20T19:02:18.314Z"
   },
   {
    "duration": 4,
    "start_time": "2022-03-20T19:02:18.326Z"
   },
   {
    "duration": 114,
    "start_time": "2022-03-20T19:21:19.814Z"
   },
   {
    "duration": 38,
    "start_time": "2022-03-20T19:21:24.036Z"
   },
   {
    "duration": 52,
    "start_time": "2022-03-20T19:21:30.203Z"
   },
   {
    "duration": 4,
    "start_time": "2022-03-20T19:25:06.626Z"
   },
   {
    "duration": 27,
    "start_time": "2022-03-20T19:26:37.738Z"
   },
   {
    "duration": 1389,
    "start_time": "2022-03-20T19:27:04.440Z"
   },
   {
    "duration": 33,
    "start_time": "2022-03-20T19:27:05.830Z"
   },
   {
    "duration": 10,
    "start_time": "2022-03-20T19:27:05.865Z"
   },
   {
    "duration": 7,
    "start_time": "2022-03-20T19:27:05.877Z"
   },
   {
    "duration": 5,
    "start_time": "2022-03-20T19:27:05.886Z"
   },
   {
    "duration": 35,
    "start_time": "2022-03-20T19:27:05.892Z"
   },
   {
    "duration": 20,
    "start_time": "2022-03-20T19:27:05.929Z"
   },
   {
    "duration": 11,
    "start_time": "2022-03-20T19:27:05.951Z"
   },
   {
    "duration": 54,
    "start_time": "2022-03-20T19:27:05.963Z"
   },
   {
    "duration": 21,
    "start_time": "2022-03-20T19:27:34.625Z"
   },
   {
    "duration": 9,
    "start_time": "2022-03-20T19:27:49.922Z"
   },
   {
    "duration": 27,
    "start_time": "2022-03-20T19:27:50.440Z"
   },
   {
    "duration": 9,
    "start_time": "2022-03-20T19:37:53.664Z"
   },
   {
    "duration": 4,
    "start_time": "2022-03-20T19:37:56.029Z"
   },
   {
    "duration": 13,
    "start_time": "2022-03-20T19:38:06.475Z"
   },
   {
    "duration": 5,
    "start_time": "2022-03-20T19:38:06.618Z"
   },
   {
    "duration": 8,
    "start_time": "2022-03-20T19:38:11.265Z"
   },
   {
    "duration": 4,
    "start_time": "2022-03-20T19:38:11.410Z"
   },
   {
    "duration": 211,
    "start_time": "2022-03-20T19:38:16.917Z"
   },
   {
    "duration": 1427,
    "start_time": "2022-03-20T19:38:39.049Z"
   },
   {
    "duration": 29,
    "start_time": "2022-03-20T19:38:40.479Z"
   },
   {
    "duration": 14,
    "start_time": "2022-03-20T19:38:40.510Z"
   },
   {
    "duration": 7,
    "start_time": "2022-03-20T19:38:40.525Z"
   },
   {
    "duration": 4,
    "start_time": "2022-03-20T19:38:40.535Z"
   },
   {
    "duration": 23,
    "start_time": "2022-03-20T19:38:40.541Z"
   },
   {
    "duration": 56,
    "start_time": "2022-03-20T19:38:40.566Z"
   },
   {
    "duration": 14,
    "start_time": "2022-03-20T19:38:40.623Z"
   },
   {
    "duration": 36,
    "start_time": "2022-03-20T19:38:40.639Z"
   },
   {
    "duration": 32,
    "start_time": "2022-03-20T19:38:40.677Z"
   },
   {
    "duration": 4,
    "start_time": "2022-03-20T19:38:40.711Z"
   },
   {
    "duration": 233,
    "start_time": "2022-03-20T19:38:43.083Z"
   },
   {
    "duration": 9,
    "start_time": "2022-03-20T19:39:13.819Z"
   },
   {
    "duration": 4,
    "start_time": "2022-03-20T19:39:37.107Z"
   },
   {
    "duration": 1437,
    "start_time": "2022-03-20T19:44:16.615Z"
   },
   {
    "duration": 29,
    "start_time": "2022-03-20T19:44:18.054Z"
   },
   {
    "duration": 9,
    "start_time": "2022-03-20T19:44:18.085Z"
   },
   {
    "duration": 12,
    "start_time": "2022-03-20T19:44:18.096Z"
   },
   {
    "duration": 4,
    "start_time": "2022-03-20T19:44:18.110Z"
   },
   {
    "duration": 24,
    "start_time": "2022-03-20T19:44:18.116Z"
   },
   {
    "duration": 20,
    "start_time": "2022-03-20T19:44:18.142Z"
   },
   {
    "duration": 12,
    "start_time": "2022-03-20T19:44:18.163Z"
   },
   {
    "duration": 132,
    "start_time": "2022-03-20T19:44:18.177Z"
   },
   {
    "duration": 22,
    "start_time": "2022-03-20T19:44:33.860Z"
   },
   {
    "duration": 4,
    "start_time": "2022-03-20T19:44:40.347Z"
   },
   {
    "duration": 26,
    "start_time": "2022-03-20T19:44:53.427Z"
   },
   {
    "duration": 18,
    "start_time": "2022-03-20T19:46:41.938Z"
   },
   {
    "duration": 4,
    "start_time": "2022-03-20T19:46:54.481Z"
   },
   {
    "duration": 26,
    "start_time": "2022-03-20T19:47:08.928Z"
   },
   {
    "duration": 8,
    "start_time": "2022-03-20T19:47:19.667Z"
   },
   {
    "duration": 3,
    "start_time": "2022-03-20T19:47:20.045Z"
   },
   {
    "duration": 171,
    "start_time": "2022-03-20T19:47:23.772Z"
   },
   {
    "duration": 3778,
    "start_time": "2022-03-20T19:47:31.457Z"
   },
   {
    "duration": 94,
    "start_time": "2022-03-20T19:47:41.615Z"
   },
   {
    "duration": 1644,
    "start_time": "2022-03-20T19:47:50.508Z"
   },
   {
    "duration": 30,
    "start_time": "2022-03-20T19:47:52.209Z"
   },
   {
    "duration": 9,
    "start_time": "2022-03-20T19:47:52.241Z"
   },
   {
    "duration": 6,
    "start_time": "2022-03-20T19:47:52.252Z"
   },
   {
    "duration": 5,
    "start_time": "2022-03-20T19:47:52.309Z"
   },
   {
    "duration": 25,
    "start_time": "2022-03-20T19:47:52.315Z"
   },
   {
    "duration": 4,
    "start_time": "2022-03-20T19:47:52.342Z"
   },
   {
    "duration": 77,
    "start_time": "2022-03-20T19:47:52.348Z"
   },
   {
    "duration": 4,
    "start_time": "2022-03-20T19:47:52.426Z"
   },
   {
    "duration": 79,
    "start_time": "2022-03-20T19:47:52.432Z"
   },
   {
    "duration": 8,
    "start_time": "2022-03-20T19:47:52.512Z"
   },
   {
    "duration": 4,
    "start_time": "2022-03-20T19:47:52.521Z"
   },
   {
    "duration": 386,
    "start_time": "2022-03-20T19:47:52.526Z"
   },
   {
    "duration": 3959,
    "start_time": "2022-03-20T19:47:52.914Z"
   },
   {
    "duration": 40,
    "start_time": "2022-03-20T19:47:56.875Z"
   },
   {
    "duration": 343,
    "start_time": "2022-03-20T19:47:56.917Z"
   },
   {
    "duration": 3695,
    "start_time": "2022-03-20T19:47:57.262Z"
   },
   {
    "duration": 58,
    "start_time": "2022-03-20T19:48:00.958Z"
   },
   {
    "duration": 254,
    "start_time": "2022-03-20T19:48:01.018Z"
   },
   {
    "duration": 24,
    "start_time": "2022-03-20T19:48:01.273Z"
   },
   {
    "duration": 120,
    "start_time": "2022-03-20T19:48:01.308Z"
   },
   {
    "duration": 8,
    "start_time": "2022-03-20T19:52:15.311Z"
   },
   {
    "duration": 9,
    "start_time": "2022-03-20T19:52:17.031Z"
   },
   {
    "duration": 4,
    "start_time": "2022-03-20T19:52:17.201Z"
   },
   {
    "duration": 4,
    "start_time": "2022-03-20T19:54:53.378Z"
   },
   {
    "duration": 28,
    "start_time": "2022-03-20T19:55:25.183Z"
   },
   {
    "duration": 4,
    "start_time": "2022-03-20T19:56:52.152Z"
   },
   {
    "duration": 36,
    "start_time": "2022-03-20T19:58:13.709Z"
   },
   {
    "duration": 32,
    "start_time": "2022-03-20T19:58:27.834Z"
   },
   {
    "duration": 35,
    "start_time": "2022-03-20T19:58:33.793Z"
   },
   {
    "duration": 27,
    "start_time": "2022-03-20T20:05:59.184Z"
   },
   {
    "duration": 22,
    "start_time": "2022-03-20T20:06:08.464Z"
   },
   {
    "duration": 232,
    "start_time": "2022-03-20T20:07:29.458Z"
   },
   {
    "duration": 293,
    "start_time": "2022-03-20T20:07:34.796Z"
   },
   {
    "duration": 10,
    "start_time": "2022-03-20T20:07:58.517Z"
   },
   {
    "duration": 17,
    "start_time": "2022-03-20T20:08:04.022Z"
   },
   {
    "duration": 203,
    "start_time": "2022-03-20T20:08:18.607Z"
   },
   {
    "duration": 18,
    "start_time": "2022-03-20T20:08:21.905Z"
   },
   {
    "duration": 228,
    "start_time": "2022-03-20T20:08:33.111Z"
   },
   {
    "duration": 19,
    "start_time": "2022-03-20T20:08:36.876Z"
   },
   {
    "duration": 1358,
    "start_time": "2022-03-20T20:09:57.916Z"
   },
   {
    "duration": 27,
    "start_time": "2022-03-20T20:09:59.276Z"
   },
   {
    "duration": 10,
    "start_time": "2022-03-20T20:09:59.305Z"
   },
   {
    "duration": 13,
    "start_time": "2022-03-20T20:09:59.317Z"
   },
   {
    "duration": 8,
    "start_time": "2022-03-20T20:09:59.332Z"
   },
   {
    "duration": 31,
    "start_time": "2022-03-20T20:09:59.341Z"
   },
   {
    "duration": 3,
    "start_time": "2022-03-20T20:09:59.374Z"
   },
   {
    "duration": 15,
    "start_time": "2022-03-20T20:09:59.379Z"
   },
   {
    "duration": 15,
    "start_time": "2022-03-20T20:09:59.395Z"
   },
   {
    "duration": 13,
    "start_time": "2022-03-20T20:09:59.412Z"
   },
   {
    "duration": 7,
    "start_time": "2022-03-20T20:09:59.427Z"
   },
   {
    "duration": 8,
    "start_time": "2022-03-20T20:09:59.435Z"
   },
   {
    "duration": 185,
    "start_time": "2022-03-20T20:09:59.444Z"
   },
   {
    "duration": 3774,
    "start_time": "2022-03-20T20:09:59.631Z"
   },
   {
    "duration": 22,
    "start_time": "2022-03-20T20:10:03.408Z"
   },
   {
    "duration": 7,
    "start_time": "2022-03-20T20:10:03.510Z"
   },
   {
    "duration": 232,
    "start_time": "2022-03-20T20:11:31.738Z"
   },
   {
    "duration": 205,
    "start_time": "2022-03-20T20:11:38.970Z"
   },
   {
    "duration": 222,
    "start_time": "2022-03-20T20:11:44.535Z"
   },
   {
    "duration": 207,
    "start_time": "2022-03-20T20:11:49.476Z"
   },
   {
    "duration": 27,
    "start_time": "2022-03-20T20:12:25.690Z"
   },
   {
    "duration": 25,
    "start_time": "2022-03-20T20:13:05.142Z"
   },
   {
    "duration": 230,
    "start_time": "2022-03-20T20:13:30.864Z"
   },
   {
    "duration": 246,
    "start_time": "2022-03-20T20:13:35.998Z"
   },
   {
    "duration": 266,
    "start_time": "2022-03-20T20:13:40.653Z"
   },
   {
    "duration": 284,
    "start_time": "2022-03-20T20:13:44.313Z"
   },
   {
    "duration": 242,
    "start_time": "2022-03-20T20:13:47.250Z"
   },
   {
    "duration": 210,
    "start_time": "2022-03-20T20:13:52.140Z"
   },
   {
    "duration": 222,
    "start_time": "2022-03-20T20:13:55.448Z"
   },
   {
    "duration": 190,
    "start_time": "2022-03-20T20:13:57.580Z"
   },
   {
    "duration": 219,
    "start_time": "2022-03-20T20:14:01.787Z"
   },
   {
    "duration": 3787,
    "start_time": "2022-03-20T20:14:33.483Z"
   },
   {
    "duration": 4792,
    "start_time": "2022-03-20T20:14:49.078Z"
   },
   {
    "duration": 232,
    "start_time": "2022-03-20T20:15:08.321Z"
   },
   {
    "duration": 5311,
    "start_time": "2022-03-20T20:15:11.293Z"
   },
   {
    "duration": 26,
    "start_time": "2022-03-20T20:15:30.830Z"
   },
   {
    "duration": 164,
    "start_time": "2022-03-20T20:16:00.818Z"
   },
   {
    "duration": 159,
    "start_time": "2022-03-20T20:16:10.804Z"
   },
   {
    "duration": 288,
    "start_time": "2022-03-20T20:17:42.417Z"
   },
   {
    "duration": 282,
    "start_time": "2022-03-20T20:17:57.772Z"
   },
   {
    "duration": 209,
    "start_time": "2022-03-20T20:23:20.290Z"
   },
   {
    "duration": 28,
    "start_time": "2022-03-20T20:23:46.567Z"
   },
   {
    "duration": 56293,
    "start_time": "2022-03-20T20:25:06.258Z"
   },
   {
    "duration": 1268,
    "start_time": "2022-03-20T20:27:00.841Z"
   },
   {
    "duration": 1113,
    "start_time": "2022-03-20T20:27:16.317Z"
   },
   {
    "duration": 1090,
    "start_time": "2022-03-20T20:28:00.506Z"
   },
   {
    "duration": 1026,
    "start_time": "2022-03-20T20:28:33.457Z"
   },
   {
    "duration": 897,
    "start_time": "2022-03-20T20:28:41.593Z"
   },
   {
    "duration": 960,
    "start_time": "2022-03-20T20:28:45.574Z"
   },
   {
    "duration": 888,
    "start_time": "2022-03-20T20:28:52.156Z"
   },
   {
    "duration": 942,
    "start_time": "2022-03-20T20:28:56.803Z"
   },
   {
    "duration": 1450,
    "start_time": "2022-03-20T20:29:35.977Z"
   },
   {
    "duration": 35,
    "start_time": "2022-03-20T20:29:37.429Z"
   },
   {
    "duration": 10,
    "start_time": "2022-03-20T20:29:37.466Z"
   },
   {
    "duration": 10,
    "start_time": "2022-03-20T20:29:37.478Z"
   },
   {
    "duration": 5,
    "start_time": "2022-03-20T20:29:37.489Z"
   },
   {
    "duration": 30,
    "start_time": "2022-03-20T20:29:37.495Z"
   },
   {
    "duration": 4,
    "start_time": "2022-03-20T20:29:37.526Z"
   },
   {
    "duration": 14,
    "start_time": "2022-03-20T20:29:37.531Z"
   },
   {
    "duration": 5,
    "start_time": "2022-03-20T20:29:37.546Z"
   },
   {
    "duration": 15,
    "start_time": "2022-03-20T20:29:37.553Z"
   },
   {
    "duration": 7,
    "start_time": "2022-03-20T20:29:37.570Z"
   },
   {
    "duration": 33,
    "start_time": "2022-03-20T20:29:37.578Z"
   },
   {
    "duration": 175,
    "start_time": "2022-03-20T20:29:37.613Z"
   },
   {
    "duration": 3796,
    "start_time": "2022-03-20T20:29:37.790Z"
   },
   {
    "duration": 30,
    "start_time": "2022-03-20T20:29:41.588Z"
   },
   {
    "duration": 94,
    "start_time": "2022-03-20T20:29:41.715Z"
   },
   {
    "duration": 12,
    "start_time": "2022-03-20T20:29:41.812Z"
   },
   {
    "duration": 239,
    "start_time": "2022-03-20T20:29:41.825Z"
   },
   {
    "duration": 5138,
    "start_time": "2022-03-20T20:29:42.066Z"
   },
   {
    "duration": 102,
    "start_time": "2022-03-20T20:29:47.206Z"
   },
   {
    "duration": 277,
    "start_time": "2022-03-20T20:29:47.311Z"
   },
   {
    "duration": 58403,
    "start_time": "2022-03-20T20:29:47.589Z"
   },
   {
    "duration": 33,
    "start_time": "2022-03-20T20:30:46.998Z"
   },
   {
    "duration": 1145,
    "start_time": "2022-03-20T20:30:47.035Z"
   },
   {
    "duration": 293,
    "start_time": "2022-03-20T20:31:01.333Z"
   },
   {
    "duration": 11,
    "start_time": "2022-03-20T20:37:56.987Z"
   },
   {
    "duration": 45,
    "start_time": "2022-03-20T20:38:28.946Z"
   },
   {
    "duration": 1427,
    "start_time": "2022-03-20T20:38:41.293Z"
   },
   {
    "duration": 30,
    "start_time": "2022-03-20T20:38:42.722Z"
   },
   {
    "duration": 9,
    "start_time": "2022-03-20T20:38:42.754Z"
   },
   {
    "duration": 5,
    "start_time": "2022-03-20T20:38:42.764Z"
   },
   {
    "duration": 4,
    "start_time": "2022-03-20T20:38:42.771Z"
   },
   {
    "duration": 39,
    "start_time": "2022-03-20T20:38:42.776Z"
   },
   {
    "duration": 4,
    "start_time": "2022-03-20T20:38:42.816Z"
   },
   {
    "duration": 12,
    "start_time": "2022-03-20T20:38:42.822Z"
   },
   {
    "duration": 6,
    "start_time": "2022-03-20T20:38:42.836Z"
   },
   {
    "duration": 18,
    "start_time": "2022-03-20T20:38:42.844Z"
   },
   {
    "duration": 7,
    "start_time": "2022-03-20T20:38:42.863Z"
   },
   {
    "duration": 4,
    "start_time": "2022-03-20T20:38:42.871Z"
   },
   {
    "duration": 188,
    "start_time": "2022-03-20T20:38:42.876Z"
   },
   {
    "duration": 3774,
    "start_time": "2022-03-20T20:38:43.068Z"
   },
   {
    "duration": 65,
    "start_time": "2022-03-20T20:38:46.844Z"
   },
   {
    "duration": 96,
    "start_time": "2022-03-20T20:38:46.913Z"
   },
   {
    "duration": 28,
    "start_time": "2022-03-20T20:38:47.011Z"
   },
   {
    "duration": 219,
    "start_time": "2022-03-20T20:40:22.939Z"
   },
   {
    "duration": 120,
    "start_time": "2022-03-20T20:40:34.248Z"
   },
   {
    "duration": 2271,
    "start_time": "2022-03-20T20:40:40.582Z"
   },
   {
    "duration": 92,
    "start_time": "2022-03-20T20:40:58.523Z"
   },
   {
    "duration": 154,
    "start_time": "2022-03-20T20:41:06.109Z"
   },
   {
    "duration": 138,
    "start_time": "2022-03-20T20:41:14.555Z"
   },
   {
    "duration": 297,
    "start_time": "2022-03-20T20:41:19.299Z"
   },
   {
    "duration": 112,
    "start_time": "2022-03-20T20:53:24.887Z"
   },
   {
    "duration": 220,
    "start_time": "2022-03-20T20:53:27.781Z"
   },
   {
    "duration": 21,
    "start_time": "2022-03-20T20:53:33.082Z"
   },
   {
    "duration": 25,
    "start_time": "2022-03-20T20:53:36.124Z"
   },
   {
    "duration": 11,
    "start_time": "2022-03-20T20:54:34.429Z"
   },
   {
    "duration": 81,
    "start_time": "2022-03-20T20:54:47.920Z"
   },
   {
    "duration": 1451,
    "start_time": "2022-03-20T20:54:57.591Z"
   },
   {
    "duration": 18,
    "start_time": "2022-03-20T20:55:06.263Z"
   },
   {
    "duration": 5168,
    "start_time": "2022-03-20T20:55:56.055Z"
   },
   {
    "duration": 5644,
    "start_time": "2022-03-20T20:58:45.140Z"
   },
   {
    "duration": 28,
    "start_time": "2022-03-20T20:58:50.810Z"
   },
   {
    "duration": 9,
    "start_time": "2022-03-20T20:58:50.840Z"
   },
   {
    "duration": 5,
    "start_time": "2022-03-20T20:58:50.851Z"
   },
   {
    "duration": 3,
    "start_time": "2022-03-20T20:58:50.858Z"
   },
   {
    "duration": 22,
    "start_time": "2022-03-20T20:58:50.863Z"
   },
   {
    "duration": 4,
    "start_time": "2022-03-20T20:58:50.887Z"
   },
   {
    "duration": 16,
    "start_time": "2022-03-20T20:58:50.892Z"
   },
   {
    "duration": 6,
    "start_time": "2022-03-20T20:58:50.910Z"
   },
   {
    "duration": 19,
    "start_time": "2022-03-20T20:58:50.918Z"
   },
   {
    "duration": 7,
    "start_time": "2022-03-20T20:58:50.938Z"
   },
   {
    "duration": 4,
    "start_time": "2022-03-20T20:58:50.947Z"
   },
   {
    "duration": 176,
    "start_time": "2022-03-20T20:58:50.953Z"
   },
   {
    "duration": 3858,
    "start_time": "2022-03-20T20:58:51.131Z"
   },
   {
    "duration": 32,
    "start_time": "2022-03-20T20:58:54.991Z"
   },
   {
    "duration": 85,
    "start_time": "2022-03-20T20:58:55.024Z"
   },
   {
    "duration": 108,
    "start_time": "2022-03-20T20:58:55.112Z"
   },
   {
    "duration": 222,
    "start_time": "2022-03-20T20:58:55.221Z"
   },
   {
    "duration": 5858,
    "start_time": "2022-03-20T20:58:55.445Z"
   },
   {
    "duration": 29,
    "start_time": "2022-03-20T20:59:01.305Z"
   },
   {
    "duration": 265,
    "start_time": "2022-03-20T20:59:01.409Z"
   },
   {
    "duration": 310,
    "start_time": "2022-03-20T20:59:01.676Z"
   },
   {
    "duration": 39,
    "start_time": "2022-03-20T20:59:01.988Z"
   },
   {
    "duration": 4,
    "start_time": "2022-03-21T12:42:20.743Z"
   },
   {
    "duration": 1626,
    "start_time": "2022-03-21T12:42:49.392Z"
   },
   {
    "duration": 35,
    "start_time": "2022-03-21T12:42:51.020Z"
   },
   {
    "duration": 10,
    "start_time": "2022-03-21T12:42:51.056Z"
   },
   {
    "duration": 7,
    "start_time": "2022-03-21T12:42:51.068Z"
   },
   {
    "duration": 5,
    "start_time": "2022-03-21T12:42:51.077Z"
   },
   {
    "duration": 25,
    "start_time": "2022-03-21T12:42:51.084Z"
   },
   {
    "duration": 23,
    "start_time": "2022-03-21T12:42:51.110Z"
   },
   {
    "duration": 15,
    "start_time": "2022-03-21T12:42:51.134Z"
   },
   {
    "duration": 12,
    "start_time": "2022-03-21T12:42:51.150Z"
   },
   {
    "duration": 3,
    "start_time": "2022-03-21T12:42:51.164Z"
   },
   {
    "duration": 134,
    "start_time": "2022-03-21T12:42:51.169Z"
   },
   {
    "duration": 0,
    "start_time": "2022-03-21T12:42:51.305Z"
   },
   {
    "duration": 0,
    "start_time": "2022-03-21T12:42:51.306Z"
   },
   {
    "duration": 0,
    "start_time": "2022-03-21T12:42:51.307Z"
   },
   {
    "duration": 0,
    "start_time": "2022-03-21T12:42:51.308Z"
   },
   {
    "duration": 0,
    "start_time": "2022-03-21T12:42:51.309Z"
   },
   {
    "duration": 0,
    "start_time": "2022-03-21T12:42:51.310Z"
   },
   {
    "duration": 0,
    "start_time": "2022-03-21T12:42:51.311Z"
   },
   {
    "duration": 0,
    "start_time": "2022-03-21T12:42:51.312Z"
   },
   {
    "duration": 0,
    "start_time": "2022-03-21T12:42:51.313Z"
   },
   {
    "duration": 0,
    "start_time": "2022-03-21T12:42:51.314Z"
   },
   {
    "duration": 0,
    "start_time": "2022-03-21T12:42:51.315Z"
   },
   {
    "duration": 18,
    "start_time": "2022-03-21T12:44:51.445Z"
   },
   {
    "duration": 30,
    "start_time": "2022-03-21T12:47:46.017Z"
   },
   {
    "duration": 17,
    "start_time": "2022-03-21T12:47:52.373Z"
   },
   {
    "duration": 1520,
    "start_time": "2022-03-21T12:48:32.836Z"
   },
   {
    "duration": 33,
    "start_time": "2022-03-21T12:48:34.358Z"
   },
   {
    "duration": 10,
    "start_time": "2022-03-21T12:48:34.392Z"
   },
   {
    "duration": 7,
    "start_time": "2022-03-21T12:48:34.404Z"
   },
   {
    "duration": 10,
    "start_time": "2022-03-21T12:48:34.413Z"
   },
   {
    "duration": 26,
    "start_time": "2022-03-21T12:48:34.425Z"
   },
   {
    "duration": 5,
    "start_time": "2022-03-21T12:48:34.453Z"
   },
   {
    "duration": 15,
    "start_time": "2022-03-21T12:48:34.460Z"
   },
   {
    "duration": 11,
    "start_time": "2022-03-21T12:48:34.477Z"
   },
   {
    "duration": 4,
    "start_time": "2022-03-21T12:48:34.489Z"
   },
   {
    "duration": 47,
    "start_time": "2022-03-21T12:48:34.495Z"
   },
   {
    "duration": 205,
    "start_time": "2022-03-21T12:48:34.544Z"
   },
   {
    "duration": 3942,
    "start_time": "2022-03-21T12:48:34.751Z"
   },
   {
    "duration": 50,
    "start_time": "2022-03-21T12:48:38.697Z"
   },
   {
    "duration": 98,
    "start_time": "2022-03-21T12:48:38.834Z"
   },
   {
    "duration": 23,
    "start_time": "2022-03-21T12:48:38.934Z"
   },
   {
    "duration": 253,
    "start_time": "2022-03-21T12:48:38.959Z"
   },
   {
    "duration": 5426,
    "start_time": "2022-03-21T12:48:39.214Z"
   },
   {
    "duration": 191,
    "start_time": "2022-03-21T12:48:44.642Z"
   },
   {
    "duration": 224,
    "start_time": "2022-03-21T12:48:44.834Z"
   },
   {
    "duration": 323,
    "start_time": "2022-03-21T12:48:45.060Z"
   },
   {
    "duration": 3,
    "start_time": "2022-03-21T12:48:45.385Z"
   },
   {
    "duration": 29,
    "start_time": "2022-03-21T12:49:58.818Z"
   },
   {
    "duration": 194,
    "start_time": "2022-03-21T12:50:05.191Z"
   },
   {
    "duration": 3966,
    "start_time": "2022-03-21T12:50:28.018Z"
   },
   {
    "duration": 73,
    "start_time": "2022-03-21T12:50:44.459Z"
   },
   {
    "duration": 18,
    "start_time": "2022-03-21T12:51:04.698Z"
   },
   {
    "duration": 1443,
    "start_time": "2022-03-21T12:51:51.490Z"
   },
   {
    "duration": 33,
    "start_time": "2022-03-21T12:51:52.935Z"
   },
   {
    "duration": 10,
    "start_time": "2022-03-21T12:51:52.969Z"
   },
   {
    "duration": 15,
    "start_time": "2022-03-21T12:51:52.981Z"
   },
   {
    "duration": 20,
    "start_time": "2022-03-21T12:51:52.997Z"
   },
   {
    "duration": 35,
    "start_time": "2022-03-21T12:51:53.019Z"
   },
   {
    "duration": 4,
    "start_time": "2022-03-21T12:51:53.056Z"
   },
   {
    "duration": 15,
    "start_time": "2022-03-21T12:51:53.062Z"
   },
   {
    "duration": 11,
    "start_time": "2022-03-21T12:51:53.079Z"
   },
   {
    "duration": 4,
    "start_time": "2022-03-21T12:51:53.092Z"
   },
   {
    "duration": 37,
    "start_time": "2022-03-21T12:51:53.098Z"
   },
   {
    "duration": 31,
    "start_time": "2022-03-21T12:51:53.137Z"
   },
   {
    "duration": 199,
    "start_time": "2022-03-21T12:51:53.170Z"
   },
   {
    "duration": 3955,
    "start_time": "2022-03-21T12:51:53.371Z"
   },
   {
    "duration": 29,
    "start_time": "2022-03-21T12:51:57.327Z"
   },
   {
    "duration": 82,
    "start_time": "2022-03-21T12:51:57.358Z"
   },
   {
    "duration": 18,
    "start_time": "2022-03-21T12:52:08.438Z"
   },
   {
    "duration": 229,
    "start_time": "2022-03-21T12:52:13.791Z"
   },
   {
    "duration": 233,
    "start_time": "2022-03-21T12:52:19.710Z"
   },
   {
    "duration": 5633,
    "start_time": "2022-03-21T12:52:23.986Z"
   },
   {
    "duration": 77,
    "start_time": "2022-03-21T12:52:38.758Z"
   },
   {
    "duration": 1127,
    "start_time": "2022-03-21T12:53:13.510Z"
   },
   {
    "duration": 449,
    "start_time": "2022-03-21T12:53:21.859Z"
   },
   {
    "duration": 30347,
    "start_time": "2022-03-21T12:55:04.616Z"
   },
   {
    "duration": 30308,
    "start_time": "2022-03-21T12:56:42.157Z"
   },
   {
    "duration": 71,
    "start_time": "2022-03-21T12:57:21.459Z"
   },
   {
    "duration": 497,
    "start_time": "2022-03-21T12:57:28.837Z"
   },
   {
    "duration": 346,
    "start_time": "2022-03-21T12:58:06.564Z"
   },
   {
    "duration": 352,
    "start_time": "2022-03-21T13:01:23.382Z"
   },
   {
    "duration": 30846,
    "start_time": "2022-03-21T13:01:55.134Z"
   },
   {
    "duration": 368,
    "start_time": "2022-03-21T13:02:25.982Z"
   },
   {
    "duration": 528,
    "start_time": "2022-03-21T13:02:45.002Z"
   },
   {
    "duration": 362,
    "start_time": "2022-03-21T13:02:52.466Z"
   },
   {
    "duration": 528,
    "start_time": "2022-03-21T13:02:56.670Z"
   },
   {
    "duration": 535,
    "start_time": "2022-03-21T13:03:12.981Z"
   },
   {
    "duration": 530,
    "start_time": "2022-03-21T13:03:17.535Z"
   },
   {
    "duration": 700,
    "start_time": "2022-03-21T13:05:04.943Z"
   },
   {
    "duration": 656,
    "start_time": "2022-03-21T13:05:22.924Z"
   },
   {
    "duration": 513,
    "start_time": "2022-03-21T13:05:28.304Z"
   },
   {
    "duration": 805,
    "start_time": "2022-03-21T13:05:42.755Z"
   },
   {
    "duration": 235,
    "start_time": "2022-03-21T13:07:00.096Z"
   },
   {
    "duration": 234,
    "start_time": "2022-03-21T13:07:05.711Z"
   },
   {
    "duration": 32320,
    "start_time": "2022-03-21T13:07:12.366Z"
   },
   {
    "duration": 525,
    "start_time": "2022-03-21T13:08:23.722Z"
   }
  ],
  "kernelspec": {
   "display_name": "Python 3 (ipykernel)",
   "language": "python",
   "name": "python3"
  },
  "language_info": {
   "codemirror_mode": {
    "name": "ipython",
    "version": 3
   },
   "file_extension": ".py",
   "mimetype": "text/x-python",
   "name": "python",
   "nbconvert_exporter": "python",
   "pygments_lexer": "ipython3",
   "version": "3.7.8"
  },
  "toc": {
   "base_numbering": 1,
   "nav_menu": {},
   "number_sections": true,
   "sideBar": true,
   "skip_h1_title": true,
   "title_cell": "Table of Contents",
   "title_sidebar": "Contents",
   "toc_cell": false,
   "toc_position": {
    "height": "calc(100% - 180px)",
    "left": "10px",
    "top": "150px",
    "width": "361.792px"
   },
   "toc_section_display": true,
   "toc_window_display": true
  }
 },
 "nbformat": 4,
 "nbformat_minor": 5
}
