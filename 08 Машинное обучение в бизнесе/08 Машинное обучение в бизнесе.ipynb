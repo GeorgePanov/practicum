{
 "cells": [
  {
   "cell_type": "markdown",
   "metadata": {},
   "source": [
    "# Выбор локации для скважины"
   ]
  },
  {
   "cell_type": "markdown",
   "metadata": {},
   "source": [
    "## Загрузка и подготовка данных"
   ]
  },
  {
   "cell_type": "code",
   "execution_count": 1,
   "metadata": {},
   "outputs": [],
   "source": [
    "import pandas as pd\n",
    "import numpy as np\n",
    "\n",
    "from sklearn.model_selection import train_test_split\n",
    "from sklearn.linear_model import LinearRegression\n",
    "from sklearn.metrics import accuracy_score\n",
    "from sklearn.metrics import mean_squared_error"
   ]
  },
  {
   "cell_type": "code",
   "execution_count": 2,
   "metadata": {},
   "outputs": [],
   "source": [
    "data_0 = pd.read_csv(r\"C:\\Users\\George\\Мой диск\\Практикум\\2 Проекты\\08 Машинное обучение в бизнесе\\geo_data_0.csv\")\n",
    "data_1 = pd.read_csv(r\"C:\\Users\\George\\Мой диск\\Практикум\\2 Проекты\\08 Машинное обучение в бизнесе\\geo_data_1.csv\")\n",
    "data_2 = pd.read_csv(r\"C:\\Users\\George\\Мой диск\\Практикум\\2 Проекты\\08 Машинное обучение в бизнесе\\geo_data_2.csv\")"
   ]
  },
  {
   "cell_type": "code",
   "execution_count": 3,
   "metadata": {},
   "outputs": [
    {
     "data": {
      "text/html": [
       "<div>\n",
       "<style scoped>\n",
       "    .dataframe tbody tr th:only-of-type {\n",
       "        vertical-align: middle;\n",
       "    }\n",
       "\n",
       "    .dataframe tbody tr th {\n",
       "        vertical-align: top;\n",
       "    }\n",
       "\n",
       "    .dataframe thead th {\n",
       "        text-align: right;\n",
       "    }\n",
       "</style>\n",
       "<table border=\"1\" class=\"dataframe\">\n",
       "  <thead>\n",
       "    <tr style=\"text-align: right;\">\n",
       "      <th></th>\n",
       "      <th>id</th>\n",
       "      <th>f0</th>\n",
       "      <th>f1</th>\n",
       "      <th>f2</th>\n",
       "      <th>product</th>\n",
       "    </tr>\n",
       "  </thead>\n",
       "  <tbody>\n",
       "    <tr>\n",
       "      <td>0</td>\n",
       "      <td>txEyH</td>\n",
       "      <td>0.705745</td>\n",
       "      <td>-0.497823</td>\n",
       "      <td>1.221170</td>\n",
       "      <td>105.280062</td>\n",
       "    </tr>\n",
       "    <tr>\n",
       "      <td>1</td>\n",
       "      <td>2acmU</td>\n",
       "      <td>1.334711</td>\n",
       "      <td>-0.340164</td>\n",
       "      <td>4.365080</td>\n",
       "      <td>73.037750</td>\n",
       "    </tr>\n",
       "    <tr>\n",
       "      <td>2</td>\n",
       "      <td>409Wp</td>\n",
       "      <td>1.022732</td>\n",
       "      <td>0.151990</td>\n",
       "      <td>1.419926</td>\n",
       "      <td>85.265647</td>\n",
       "    </tr>\n",
       "    <tr>\n",
       "      <td>3</td>\n",
       "      <td>iJLyR</td>\n",
       "      <td>-0.032172</td>\n",
       "      <td>0.139033</td>\n",
       "      <td>2.978566</td>\n",
       "      <td>168.620776</td>\n",
       "    </tr>\n",
       "    <tr>\n",
       "      <td>4</td>\n",
       "      <td>Xdl7t</td>\n",
       "      <td>1.988431</td>\n",
       "      <td>0.155413</td>\n",
       "      <td>4.751769</td>\n",
       "      <td>154.036647</td>\n",
       "    </tr>\n",
       "    <tr>\n",
       "      <td>...</td>\n",
       "      <td>...</td>\n",
       "      <td>...</td>\n",
       "      <td>...</td>\n",
       "      <td>...</td>\n",
       "      <td>...</td>\n",
       "    </tr>\n",
       "    <tr>\n",
       "      <td>99995</td>\n",
       "      <td>DLsed</td>\n",
       "      <td>0.971957</td>\n",
       "      <td>0.370953</td>\n",
       "      <td>6.075346</td>\n",
       "      <td>110.744026</td>\n",
       "    </tr>\n",
       "    <tr>\n",
       "      <td>99996</td>\n",
       "      <td>QKivN</td>\n",
       "      <td>1.392429</td>\n",
       "      <td>-0.382606</td>\n",
       "      <td>1.273912</td>\n",
       "      <td>122.346843</td>\n",
       "    </tr>\n",
       "    <tr>\n",
       "      <td>99997</td>\n",
       "      <td>3rnvd</td>\n",
       "      <td>1.029585</td>\n",
       "      <td>0.018787</td>\n",
       "      <td>-1.348308</td>\n",
       "      <td>64.375443</td>\n",
       "    </tr>\n",
       "    <tr>\n",
       "      <td>99998</td>\n",
       "      <td>7kl59</td>\n",
       "      <td>0.998163</td>\n",
       "      <td>-0.528582</td>\n",
       "      <td>1.583869</td>\n",
       "      <td>74.040764</td>\n",
       "    </tr>\n",
       "    <tr>\n",
       "      <td>99999</td>\n",
       "      <td>1CWhH</td>\n",
       "      <td>1.764754</td>\n",
       "      <td>-0.266417</td>\n",
       "      <td>5.722849</td>\n",
       "      <td>149.633246</td>\n",
       "    </tr>\n",
       "  </tbody>\n",
       "</table>\n",
       "<p>100000 rows × 5 columns</p>\n",
       "</div>"
      ],
      "text/plain": [
       "          id        f0        f1        f2     product\n",
       "0      txEyH  0.705745 -0.497823  1.221170  105.280062\n",
       "1      2acmU  1.334711 -0.340164  4.365080   73.037750\n",
       "2      409Wp  1.022732  0.151990  1.419926   85.265647\n",
       "3      iJLyR -0.032172  0.139033  2.978566  168.620776\n",
       "4      Xdl7t  1.988431  0.155413  4.751769  154.036647\n",
       "...      ...       ...       ...       ...         ...\n",
       "99995  DLsed  0.971957  0.370953  6.075346  110.744026\n",
       "99996  QKivN  1.392429 -0.382606  1.273912  122.346843\n",
       "99997  3rnvd  1.029585  0.018787 -1.348308   64.375443\n",
       "99998  7kl59  0.998163 -0.528582  1.583869   74.040764\n",
       "99999  1CWhH  1.764754 -0.266417  5.722849  149.633246\n",
       "\n",
       "[100000 rows x 5 columns]"
      ]
     },
     "metadata": {},
     "output_type": "display_data"
    },
    {
     "data": {
      "text/html": [
       "<div>\n",
       "<style scoped>\n",
       "    .dataframe tbody tr th:only-of-type {\n",
       "        vertical-align: middle;\n",
       "    }\n",
       "\n",
       "    .dataframe tbody tr th {\n",
       "        vertical-align: top;\n",
       "    }\n",
       "\n",
       "    .dataframe thead th {\n",
       "        text-align: right;\n",
       "    }\n",
       "</style>\n",
       "<table border=\"1\" class=\"dataframe\">\n",
       "  <thead>\n",
       "    <tr style=\"text-align: right;\">\n",
       "      <th></th>\n",
       "      <th>id</th>\n",
       "      <th>f0</th>\n",
       "      <th>f1</th>\n",
       "      <th>f2</th>\n",
       "      <th>product</th>\n",
       "    </tr>\n",
       "  </thead>\n",
       "  <tbody>\n",
       "    <tr>\n",
       "      <td>0</td>\n",
       "      <td>kBEdx</td>\n",
       "      <td>-15.001348</td>\n",
       "      <td>-8.276000</td>\n",
       "      <td>-0.005876</td>\n",
       "      <td>3.179103</td>\n",
       "    </tr>\n",
       "    <tr>\n",
       "      <td>1</td>\n",
       "      <td>62mP7</td>\n",
       "      <td>14.272088</td>\n",
       "      <td>-3.475083</td>\n",
       "      <td>0.999183</td>\n",
       "      <td>26.953261</td>\n",
       "    </tr>\n",
       "    <tr>\n",
       "      <td>2</td>\n",
       "      <td>vyE1P</td>\n",
       "      <td>6.263187</td>\n",
       "      <td>-5.948386</td>\n",
       "      <td>5.001160</td>\n",
       "      <td>134.766305</td>\n",
       "    </tr>\n",
       "    <tr>\n",
       "      <td>3</td>\n",
       "      <td>KcrkZ</td>\n",
       "      <td>-13.081196</td>\n",
       "      <td>-11.506057</td>\n",
       "      <td>4.999415</td>\n",
       "      <td>137.945408</td>\n",
       "    </tr>\n",
       "    <tr>\n",
       "      <td>4</td>\n",
       "      <td>AHL4O</td>\n",
       "      <td>12.702195</td>\n",
       "      <td>-8.147433</td>\n",
       "      <td>5.004363</td>\n",
       "      <td>134.766305</td>\n",
       "    </tr>\n",
       "    <tr>\n",
       "      <td>...</td>\n",
       "      <td>...</td>\n",
       "      <td>...</td>\n",
       "      <td>...</td>\n",
       "      <td>...</td>\n",
       "      <td>...</td>\n",
       "    </tr>\n",
       "    <tr>\n",
       "      <td>99995</td>\n",
       "      <td>QywKC</td>\n",
       "      <td>9.535637</td>\n",
       "      <td>-6.878139</td>\n",
       "      <td>1.998296</td>\n",
       "      <td>53.906522</td>\n",
       "    </tr>\n",
       "    <tr>\n",
       "      <td>99996</td>\n",
       "      <td>ptvty</td>\n",
       "      <td>-10.160631</td>\n",
       "      <td>-12.558096</td>\n",
       "      <td>5.005581</td>\n",
       "      <td>137.945408</td>\n",
       "    </tr>\n",
       "    <tr>\n",
       "      <td>99997</td>\n",
       "      <td>09gWa</td>\n",
       "      <td>-7.378891</td>\n",
       "      <td>-3.084104</td>\n",
       "      <td>4.998651</td>\n",
       "      <td>137.945408</td>\n",
       "    </tr>\n",
       "    <tr>\n",
       "      <td>99998</td>\n",
       "      <td>rqwUm</td>\n",
       "      <td>0.665714</td>\n",
       "      <td>-6.152593</td>\n",
       "      <td>1.000146</td>\n",
       "      <td>30.132364</td>\n",
       "    </tr>\n",
       "    <tr>\n",
       "      <td>99999</td>\n",
       "      <td>relB0</td>\n",
       "      <td>-3.426139</td>\n",
       "      <td>-7.794274</td>\n",
       "      <td>-0.003299</td>\n",
       "      <td>3.179103</td>\n",
       "    </tr>\n",
       "  </tbody>\n",
       "</table>\n",
       "<p>100000 rows × 5 columns</p>\n",
       "</div>"
      ],
      "text/plain": [
       "          id         f0         f1        f2     product\n",
       "0      kBEdx -15.001348  -8.276000 -0.005876    3.179103\n",
       "1      62mP7  14.272088  -3.475083  0.999183   26.953261\n",
       "2      vyE1P   6.263187  -5.948386  5.001160  134.766305\n",
       "3      KcrkZ -13.081196 -11.506057  4.999415  137.945408\n",
       "4      AHL4O  12.702195  -8.147433  5.004363  134.766305\n",
       "...      ...        ...        ...       ...         ...\n",
       "99995  QywKC   9.535637  -6.878139  1.998296   53.906522\n",
       "99996  ptvty -10.160631 -12.558096  5.005581  137.945408\n",
       "99997  09gWa  -7.378891  -3.084104  4.998651  137.945408\n",
       "99998  rqwUm   0.665714  -6.152593  1.000146   30.132364\n",
       "99999  relB0  -3.426139  -7.794274 -0.003299    3.179103\n",
       "\n",
       "[100000 rows x 5 columns]"
      ]
     },
     "metadata": {},
     "output_type": "display_data"
    },
    {
     "data": {
      "text/html": [
       "<div>\n",
       "<style scoped>\n",
       "    .dataframe tbody tr th:only-of-type {\n",
       "        vertical-align: middle;\n",
       "    }\n",
       "\n",
       "    .dataframe tbody tr th {\n",
       "        vertical-align: top;\n",
       "    }\n",
       "\n",
       "    .dataframe thead th {\n",
       "        text-align: right;\n",
       "    }\n",
       "</style>\n",
       "<table border=\"1\" class=\"dataframe\">\n",
       "  <thead>\n",
       "    <tr style=\"text-align: right;\">\n",
       "      <th></th>\n",
       "      <th>id</th>\n",
       "      <th>f0</th>\n",
       "      <th>f1</th>\n",
       "      <th>f2</th>\n",
       "      <th>product</th>\n",
       "    </tr>\n",
       "  </thead>\n",
       "  <tbody>\n",
       "    <tr>\n",
       "      <td>0</td>\n",
       "      <td>fwXo0</td>\n",
       "      <td>-1.146987</td>\n",
       "      <td>0.963328</td>\n",
       "      <td>-0.828965</td>\n",
       "      <td>27.758673</td>\n",
       "    </tr>\n",
       "    <tr>\n",
       "      <td>1</td>\n",
       "      <td>WJtFt</td>\n",
       "      <td>0.262778</td>\n",
       "      <td>0.269839</td>\n",
       "      <td>-2.530187</td>\n",
       "      <td>56.069697</td>\n",
       "    </tr>\n",
       "    <tr>\n",
       "      <td>2</td>\n",
       "      <td>ovLUW</td>\n",
       "      <td>0.194587</td>\n",
       "      <td>0.289035</td>\n",
       "      <td>-5.586433</td>\n",
       "      <td>62.871910</td>\n",
       "    </tr>\n",
       "    <tr>\n",
       "      <td>3</td>\n",
       "      <td>q6cA6</td>\n",
       "      <td>2.236060</td>\n",
       "      <td>-0.553760</td>\n",
       "      <td>0.930038</td>\n",
       "      <td>114.572842</td>\n",
       "    </tr>\n",
       "    <tr>\n",
       "      <td>4</td>\n",
       "      <td>WPMUX</td>\n",
       "      <td>-0.515993</td>\n",
       "      <td>1.716266</td>\n",
       "      <td>5.899011</td>\n",
       "      <td>149.600746</td>\n",
       "    </tr>\n",
       "    <tr>\n",
       "      <td>...</td>\n",
       "      <td>...</td>\n",
       "      <td>...</td>\n",
       "      <td>...</td>\n",
       "      <td>...</td>\n",
       "      <td>...</td>\n",
       "    </tr>\n",
       "    <tr>\n",
       "      <td>99995</td>\n",
       "      <td>4GxBu</td>\n",
       "      <td>-1.777037</td>\n",
       "      <td>1.125220</td>\n",
       "      <td>6.263374</td>\n",
       "      <td>172.327046</td>\n",
       "    </tr>\n",
       "    <tr>\n",
       "      <td>99996</td>\n",
       "      <td>YKFjq</td>\n",
       "      <td>-1.261523</td>\n",
       "      <td>-0.894828</td>\n",
       "      <td>2.524545</td>\n",
       "      <td>138.748846</td>\n",
       "    </tr>\n",
       "    <tr>\n",
       "      <td>99997</td>\n",
       "      <td>tKPY3</td>\n",
       "      <td>-1.199934</td>\n",
       "      <td>-2.957637</td>\n",
       "      <td>5.219411</td>\n",
       "      <td>157.080080</td>\n",
       "    </tr>\n",
       "    <tr>\n",
       "      <td>99998</td>\n",
       "      <td>nmxp2</td>\n",
       "      <td>-2.419896</td>\n",
       "      <td>2.417221</td>\n",
       "      <td>-5.548444</td>\n",
       "      <td>51.795253</td>\n",
       "    </tr>\n",
       "    <tr>\n",
       "      <td>99999</td>\n",
       "      <td>V9kWn</td>\n",
       "      <td>-2.551421</td>\n",
       "      <td>-2.025625</td>\n",
       "      <td>6.090891</td>\n",
       "      <td>102.775767</td>\n",
       "    </tr>\n",
       "  </tbody>\n",
       "</table>\n",
       "<p>100000 rows × 5 columns</p>\n",
       "</div>"
      ],
      "text/plain": [
       "          id        f0        f1        f2     product\n",
       "0      fwXo0 -1.146987  0.963328 -0.828965   27.758673\n",
       "1      WJtFt  0.262778  0.269839 -2.530187   56.069697\n",
       "2      ovLUW  0.194587  0.289035 -5.586433   62.871910\n",
       "3      q6cA6  2.236060 -0.553760  0.930038  114.572842\n",
       "4      WPMUX -0.515993  1.716266  5.899011  149.600746\n",
       "...      ...       ...       ...       ...         ...\n",
       "99995  4GxBu -1.777037  1.125220  6.263374  172.327046\n",
       "99996  YKFjq -1.261523 -0.894828  2.524545  138.748846\n",
       "99997  tKPY3 -1.199934 -2.957637  5.219411  157.080080\n",
       "99998  nmxp2 -2.419896  2.417221 -5.548444   51.795253\n",
       "99999  V9kWn -2.551421 -2.025625  6.090891  102.775767\n",
       "\n",
       "[100000 rows x 5 columns]"
      ]
     },
     "metadata": {},
     "output_type": "display_data"
    }
   ],
   "source": [
    "# Изучим данные\n",
    "display(data_0)\n",
    "display(data_1)\n",
    "display(data_2)"
   ]
  },
  {
   "cell_type": "code",
   "execution_count": 4,
   "metadata": {},
   "outputs": [
    {
     "name": "stdout",
     "output_type": "stream",
     "text": [
      "0\n",
      "0\n",
      "0\n"
     ]
    }
   ],
   "source": [
    "print(data_0.duplicated().sum())\n",
    "print(data_1.duplicated().sum())\n",
    "print(data_2.duplicated().sum())"
   ]
  },
  {
   "cell_type": "code",
   "execution_count": 5,
   "metadata": {},
   "outputs": [
    {
     "data": {
      "text/html": [
       "<div>\n",
       "<style scoped>\n",
       "    .dataframe tbody tr th:only-of-type {\n",
       "        vertical-align: middle;\n",
       "    }\n",
       "\n",
       "    .dataframe tbody tr th {\n",
       "        vertical-align: top;\n",
       "    }\n",
       "\n",
       "    .dataframe thead th {\n",
       "        text-align: right;\n",
       "    }\n",
       "</style>\n",
       "<table border=\"1\" class=\"dataframe\">\n",
       "  <thead>\n",
       "    <tr style=\"text-align: right;\">\n",
       "      <th></th>\n",
       "      <th>id</th>\n",
       "      <th>f0</th>\n",
       "      <th>f1</th>\n",
       "      <th>f2</th>\n",
       "      <th>product</th>\n",
       "    </tr>\n",
       "  </thead>\n",
       "  <tbody>\n",
       "    <tr>\n",
       "      <td>60140</td>\n",
       "      <td>TtcGQ</td>\n",
       "      <td>0.569276</td>\n",
       "      <td>-0.104876</td>\n",
       "      <td>6.440215</td>\n",
       "      <td>85.350186</td>\n",
       "    </tr>\n",
       "    <tr>\n",
       "      <td>92341</td>\n",
       "      <td>TtcGQ</td>\n",
       "      <td>0.110711</td>\n",
       "      <td>1.022689</td>\n",
       "      <td>0.911381</td>\n",
       "      <td>101.318008</td>\n",
       "    </tr>\n",
       "  </tbody>\n",
       "</table>\n",
       "</div>"
      ],
      "text/plain": [
       "          id        f0        f1        f2     product\n",
       "60140  TtcGQ  0.569276 -0.104876  6.440215   85.350186\n",
       "92341  TtcGQ  0.110711  1.022689  0.911381  101.318008"
      ]
     },
     "execution_count": 5,
     "metadata": {},
     "output_type": "execute_result"
    }
   ],
   "source": [
    "data_0[data_0['id'] == 'TtcGQ']"
   ]
  },
  {
   "cell_type": "markdown",
   "metadata": {},
   "source": [
    "**Вывод** <br>\n",
    "Данные загруженны корректно, первичный осмотр проведен.\n",
    "Я проверил таблицы на наличие дубликатов. Их не обнаружилось. <br>\n",
    "А вот одинаковые значения \"id\" есть, видимо пробы брались несколько раз. Я так понял складывать строки не нужно."
   ]
  },
  {
   "cell_type": "markdown",
   "metadata": {},
   "source": [
    "## Обучение и проверка модели"
   ]
  },
  {
   "cell_type": "code",
   "execution_count": 6,
   "metadata": {},
   "outputs": [],
   "source": [
    "# Удалим столбец 'id', так как он не нужен при обучении модели\n",
    "\n",
    "# регион 1\n",
    "features = data_0.drop(['product', 'id'], axis=1)\n",
    "target = data_0['product']\n",
    "\n",
    "features_train_0, features_valid_0, target_train_0, target_valid_0 = train_test_split(features, target, test_size=0.25, random_state=12345)\n",
    "\n",
    "# регион 2\n",
    "features = data_1.drop(['product', 'id'], axis=1)\n",
    "target = data_1['product']\n",
    "\n",
    "features_train_1, features_valid_1, target_train_1, target_valid_1 = train_test_split(features, target, test_size=0.25, random_state=12345)\n",
    "\n",
    "# регион 3\n",
    "features = data_2.drop(['product', 'id'], axis=1)\n",
    "target = data_2['product']\n",
    "\n",
    "features_train_2, features_valid_2, target_train_2, target_valid_2 = train_test_split(features, target, test_size=0.25, random_state=12345)"
   ]
  },
  {
   "cell_type": "code",
   "execution_count": 7,
   "metadata": {},
   "outputs": [
    {
     "name": "stdout",
     "output_type": "stream",
     "text": [
      "[ 95.89495185  77.57258261  77.89263965 ...  61.50983303 118.18039721\n",
      " 118.16939229]\n",
      "[ 82.66331365  54.43178616  29.74875995 ... 137.87934053  83.76196568\n",
      "  53.95846638]\n",
      "[ 93.59963303  75.10515854  90.06680936 ...  99.40728116  77.77991248\n",
      " 129.03241718]\n",
      "Wall time: 32 ms\n"
     ]
    }
   ],
   "source": [
    "%%time\n",
    "\n",
    "# Для моделей используем линейную регрессию\n",
    "\n",
    "model_0 = LinearRegression()\n",
    "model_0.fit(features_train_0, target_train_0)\n",
    "pre_0 = model_0.predict(features_valid_0)\n",
    "print(pre_0)\n",
    "\n",
    "model_1 = LinearRegression()\n",
    "model_1.fit(features_train_1, target_train_1)\n",
    "pre_1 = model_1.predict(features_valid_1)\n",
    "print(pre_1)\n",
    "\n",
    "model_2 = LinearRegression()\n",
    "model_2.fit(features_train_2, target_train_2)\n",
    "pre_2 = model_2.predict(features_valid_2)\n",
    "print(pre_2)"
   ]
  },
  {
   "cell_type": "code",
   "execution_count": 8,
   "metadata": {},
   "outputs": [
    {
     "name": "stdout",
     "output_type": "stream",
     "text": [
      "Средний запас предсказанного сырья data_0 равняется 92.59\n",
      "Средний запас предсказанного сырья data_1 равняется 68.73\n",
      "Средний запас предсказанного сырья data_2 равняется 94.97\n"
     ]
    }
   ],
   "source": [
    "# Средний запас предсказанного сырья и RMSE модели.\n",
    "print(f'Средний запас предсказанного сырья data_0 равняется {round(pre_0.mean(), 2)}')\n",
    "print(f'Средний запас предсказанного сырья data_1 равняется {round(pre_1.mean(), 2)}')\n",
    "print(f'Средний запас предсказанного сырья data_2 равняется {round(pre_2.mean(), 2)}')"
   ]
  },
  {
   "cell_type": "code",
   "execution_count": 9,
   "metadata": {},
   "outputs": [
    {
     "name": "stdout",
     "output_type": "stream",
     "text": [
      "RSME первой модели равняется 37.58\n",
      "RSME второй модели равняется 0.89\n",
      "RSME третьей модели равняется 40.03\n"
     ]
    }
   ],
   "source": [
    "rsme_0 = mean_squared_error(target_valid_0, pre_0)**0.5\n",
    "print(f'RSME первой модели равняется {round(rsme_0, 2)}')\n",
    "rsme_1 = mean_squared_error(target_valid_1, pre_1)**0.5\n",
    "print(f'RSME второй модели равняется {round(rsme_1, 2)}')\n",
    "rsme_2 = mean_squared_error(target_valid_2, pre_2)**0.5\n",
    "print(f'RSME третьей модели равняется {round(rsme_2, 2)}')"
   ]
  },
  {
   "cell_type": "markdown",
   "metadata": {},
   "source": [
    "**Вывод**<br> \n",
    "Можно увидеть, что самый лучший показатель у второй модели. <br> RSME равняется 0.89, в то время как у первой и третей моделей RSME равняется 37 и 40, что очень много."
   ]
  },
  {
   "cell_type": "markdown",
   "metadata": {},
   "source": [
    "## Подготовка к расчёту прибыли"
   ]
  },
  {
   "cell_type": "markdown",
   "metadata": {},
   "source": [
    "Все ключевые значения\n",
    "\n",
    "Модели: `model_0, model_1, model_2`\n",
    "\n",
    "Предсказания моделей: `pre_0, pre_1, pre_2`\n",
    "\n",
    "RSME моделей:`rsme_0, rsme_1, rsme_2`"
   ]
  },
  {
   "cell_type": "markdown",
   "metadata": {},
   "source": [
    "Рассчитаю достаточный объём сырья для безубыточной разработки новой скважины:"
   ]
  },
  {
   "cell_type": "code",
   "execution_count": 10,
   "metadata": {},
   "outputs": [
    {
     "name": "stdout",
     "output_type": "stream",
     "text": [
      "Достаточный объём сырья для безубыточной разработки равняется 111.11 тыс. баррелей\n"
     ]
    }
   ],
   "source": [
    "# поделить общий бюджет на количество скважин и потом на доход с одной единицы продукта\n",
    "BUDGET = 10000000000\n",
    "enough = round((BUDGET / 200) / 450000, 2)\n",
    "print(f'Достаточный объём сырья для безубыточной разработки равняется {enough} тыс. баррелей')"
   ]
  },
  {
   "cell_type": "code",
   "execution_count": 11,
   "metadata": {},
   "outputs": [
    {
     "name": "stdout",
     "output_type": "stream",
     "text": [
      "91.84997204396296\n",
      "57.08562464628662\n",
      "94.92561258990246\n"
     ]
    }
   ],
   "source": [
    "# Стравню полученный объём сырья со средним запасом в каждом регионе.\n",
    "print(data_0['product'].median())\n",
    "print(data_1['product'].median())\n",
    "print(data_2['product'].median())"
   ]
  },
  {
   "cell_type": "code",
   "execution_count": 12,
   "metadata": {},
   "outputs": [],
   "source": [
    "# Функция для расчета прибыли\n",
    "def profit(target, prediction, count):\n",
    "    prediction_sorted = prediction.sort_values(ascending=False)\n",
    "    volume = target[prediction_sorted.index][:count]\n",
    "    profit = 450000*volume.sum() - BUDGET\n",
    "    return profit"
   ]
  },
  {
   "cell_type": "markdown",
   "metadata": {},
   "source": [
    "**Вывод** <br>\n",
    "Можно наблюдать что средний объем во всех регионах меньше чем достаточный, рассчитанный мною. "
   ]
  },
  {
   "cell_type": "markdown",
   "metadata": {},
   "source": [
    "## Расчёт прибыли и рисков "
   ]
  },
  {
   "cell_type": "code",
   "execution_count": 13,
   "metadata": {},
   "outputs": [],
   "source": [
    "state = np.random.RandomState(12345)\n",
    "\n",
    "def finish(target, predictions):\n",
    "    values = []\n",
    "    for i in range(1000):\n",
    "        target_subsample = target.sample(n=500, replace=True, random_state=state)\n",
    "        pred_subsample = predictions[target_subsample.index]\n",
    "        result = profit(target_subsample, pred_subsample, 200)\n",
    "        values.append(result)\n",
    "    values = pd.Series(values)\n",
    "    negative = (values < 0).mean()*100\n",
    "    mean = values.mean()\n",
    "    lower = values.quantile(0.025)\n",
    "    upper = values.quantile(0.975)\n",
    "    print(f'Средняя прибыль прогнозируемая моделью равна {round(mean/1000000, 2)} млн')\n",
    "    print(f'С вероятностью 95% прибыль будте от {round(lower/1000000, 2)} млн до {round(upper/1000000, 2)} млн')\n",
    "    print(f'Риск убытков равен {negative}%')"
   ]
  },
  {
   "cell_type": "code",
   "execution_count": 14,
   "metadata": {},
   "outputs": [
    {
     "name": "stdout",
     "output_type": "stream",
     "text": [
      "Средняя прибыль прогнозируемая моделью равна 425.94 млн\n",
      "С вероятностью 95% прибыль будте от -102.09 млн до 947.98 млн\n",
      "Риск убытков равен 6.0%\n",
      "\n",
      "Wall time: 4.76 s\n"
     ]
    }
   ],
   "source": [
    "%%time\n",
    "\n",
    "target_valid_0 = target_valid_0.reset_index(drop=True)\n",
    "pre_0 = pd.Series(pre_0)\n",
    "finish(target_valid_0, pre_0)\n",
    "print()"
   ]
  },
  {
   "cell_type": "code",
   "execution_count": 15,
   "metadata": {},
   "outputs": [
    {
     "name": "stdout",
     "output_type": "stream",
     "text": [
      "Средняя прибыль прогнозируемая моделью равна 518.26 млн\n",
      "С вероятностью 95% прибыль будте от 128.12 млн до 953.61 млн\n",
      "Риск убытков равен 0.3%\n",
      "\n",
      "Wall time: 3.88 s\n"
     ]
    }
   ],
   "source": [
    "%%time\n",
    "\n",
    "target_valid_1 = target_valid_1.reset_index(drop=True)\n",
    "pre_1 = pd.Series(pre_1)\n",
    "finish(target_valid_1, pre_1)\n",
    "print()"
   ]
  },
  {
   "cell_type": "code",
   "execution_count": 16,
   "metadata": {},
   "outputs": [
    {
     "name": "stdout",
     "output_type": "stream",
     "text": [
      "Средняя прибыль прогнозируемая моделью равна 420.19 млн\n",
      "С вероятностью 95% прибыль будте от -115.85 млн до 989.63 млн\n",
      "Риск убытков равен 6.2%\n",
      "\n",
      "Wall time: 3.69 s\n"
     ]
    }
   ],
   "source": [
    "%%time\n",
    "\n",
    "target_valid_2 = target_valid_2.reset_index(drop=True)\n",
    "pre_2 = pd.Series(pre_2)\n",
    "finish(target_valid_2, pre_2)\n",
    "print()"
   ]
  },
  {
   "cell_type": "markdown",
   "metadata": {},
   "source": [
    "**Вывод**<br>\n",
    "Основываясь на данных полученные мною в результате проведения расчетов прибыли и рисков можно сделать такой вывод. В первом и третьем регионах риск убытков превышает 2.5%, а это означает, что они нам не подходят. А вот во втором регионе риск меньше 2.5%, следовательно второй регион продходит для разработки скважин"
   ]
  }
 ],
 "metadata": {
  "ExecuteTimeLog": [
   {
    "duration": 1083,
    "start_time": "2022-03-31T10:48:27.974Z"
   },
   {
    "duration": 357,
    "start_time": "2022-03-31T10:49:29.909Z"
   },
   {
    "duration": 35,
    "start_time": "2022-03-31T10:49:38.148Z"
   },
   {
    "duration": 49,
    "start_time": "2022-03-31T10:49:52.049Z"
   },
   {
    "duration": 69,
    "start_time": "2022-03-31T10:49:59.892Z"
   },
   {
    "duration": 14,
    "start_time": "2022-03-31T10:50:10.503Z"
   },
   {
    "duration": 48,
    "start_time": "2022-03-31T10:51:31.698Z"
   },
   {
    "duration": 20,
    "start_time": "2022-03-31T10:51:47.787Z"
   },
   {
    "duration": 2,
    "start_time": "2022-03-31T10:52:00.009Z"
   },
   {
    "duration": 221,
    "start_time": "2022-03-31T10:52:45.913Z"
   },
   {
    "duration": 91,
    "start_time": "2022-03-31T10:53:48.267Z"
   },
   {
    "duration": 9,
    "start_time": "2022-03-31T10:54:02.730Z"
   },
   {
    "duration": 4,
    "start_time": "2022-03-31T10:54:27.068Z"
   },
   {
    "duration": 4,
    "start_time": "2022-03-31T10:54:58.933Z"
   },
   {
    "duration": 7,
    "start_time": "2022-03-31T10:55:23.705Z"
   },
   {
    "duration": 4,
    "start_time": "2022-03-31T10:58:57.293Z"
   },
   {
    "duration": 10,
    "start_time": "2022-03-31T10:59:59.499Z"
   },
   {
    "duration": 3,
    "start_time": "2022-03-31T11:02:26.536Z"
   },
   {
    "duration": 7,
    "start_time": "2022-03-31T11:02:54.955Z"
   },
   {
    "duration": 3,
    "start_time": "2022-03-31T11:05:08.177Z"
   },
   {
    "duration": 4,
    "start_time": "2022-03-31T11:08:15.499Z"
   },
   {
    "duration": 6,
    "start_time": "2022-03-31T11:08:16.756Z"
   },
   {
    "duration": 1176,
    "start_time": "2022-03-31T11:08:18.343Z"
   },
   {
    "duration": 1159,
    "start_time": "2022-03-31T11:08:19.521Z"
   },
   {
    "duration": 1177,
    "start_time": "2022-03-31T11:08:20.682Z"
   },
   {
    "duration": 5,
    "start_time": "2022-03-31T11:09:18.543Z"
   },
   {
    "duration": 1081,
    "start_time": "2022-03-31T11:09:20.773Z"
   },
   {
    "duration": 5,
    "start_time": "2022-03-31T11:09:34.680Z"
   },
   {
    "duration": 1091,
    "start_time": "2022-03-31T11:09:35.927Z"
   },
   {
    "duration": 6,
    "start_time": "2022-03-31T11:10:04.817Z"
   },
   {
    "duration": 1148,
    "start_time": "2022-03-31T11:10:06.161Z"
   },
   {
    "duration": 5,
    "start_time": "2022-03-31T11:10:50.981Z"
   },
   {
    "duration": 1091,
    "start_time": "2022-03-31T11:10:51.121Z"
   },
   {
    "duration": 3,
    "start_time": "2022-03-31T11:11:05.864Z"
   },
   {
    "duration": 5,
    "start_time": "2022-03-31T11:11:06.803Z"
   },
   {
    "duration": 1100,
    "start_time": "2022-03-31T11:11:08.256Z"
   },
   {
    "duration": 1088,
    "start_time": "2022-03-31T11:11:10.746Z"
   },
   {
    "duration": 1091,
    "start_time": "2022-03-31T11:11:12.360Z"
   },
   {
    "duration": 5,
    "start_time": "2022-03-31T11:11:25.543Z"
   },
   {
    "duration": 1103,
    "start_time": "2022-03-31T11:11:25.713Z"
   },
   {
    "duration": 1174,
    "start_time": "2022-03-31T11:11:26.817Z"
   },
   {
    "duration": 1110,
    "start_time": "2022-03-31T11:11:27.993Z"
   },
   {
    "duration": 5,
    "start_time": "2022-03-31T11:12:14.921Z"
   },
   {
    "duration": 1096,
    "start_time": "2022-03-31T11:12:15.294Z"
   },
   {
    "duration": 1118,
    "start_time": "2022-03-31T11:12:16.392Z"
   },
   {
    "duration": 1123,
    "start_time": "2022-03-31T11:12:17.512Z"
   },
   {
    "duration": 5,
    "start_time": "2022-03-31T11:12:36.675Z"
   },
   {
    "duration": 1105,
    "start_time": "2022-03-31T11:12:36.835Z"
   },
   {
    "duration": 1102,
    "start_time": "2022-03-31T11:12:37.942Z"
   },
   {
    "duration": 1106,
    "start_time": "2022-03-31T11:12:39.046Z"
   },
   {
    "duration": 5,
    "start_time": "2022-03-31T11:13:10.493Z"
   },
   {
    "duration": 1098,
    "start_time": "2022-03-31T11:13:29.819Z"
   },
   {
    "duration": 1089,
    "start_time": "2022-03-31T11:13:43.652Z"
   },
   {
    "duration": 1085,
    "start_time": "2022-03-31T11:13:45.906Z"
   },
   {
    "duration": 1104,
    "start_time": "2022-03-31T11:13:56.866Z"
   },
   {
    "duration": 1108,
    "start_time": "2022-03-31T11:13:59.911Z"
   },
   {
    "duration": 1113,
    "start_time": "2022-03-31T11:14:02.723Z"
   },
   {
    "duration": 1109,
    "start_time": "2022-03-31T11:14:06.709Z"
   },
   {
    "duration": 1122,
    "start_time": "2022-03-31T11:14:09.661Z"
   },
   {
    "duration": 1116,
    "start_time": "2022-03-31T11:14:15.208Z"
   },
   {
    "duration": 1215,
    "start_time": "2022-03-31T11:14:18.381Z"
   },
   {
    "duration": 1105,
    "start_time": "2022-03-31T11:14:21.944Z"
   },
   {
    "duration": 1111,
    "start_time": "2022-03-31T11:23:43.295Z"
   },
   {
    "duration": 1109,
    "start_time": "2022-03-31T11:23:45.368Z"
   },
   {
    "duration": 1110,
    "start_time": "2022-03-31T11:23:47.738Z"
   },
   {
    "duration": 1115,
    "start_time": "2022-03-31T11:23:51.019Z"
   },
   {
    "duration": 1117,
    "start_time": "2022-03-31T11:23:53.189Z"
   },
   {
    "duration": 1110,
    "start_time": "2022-03-31T11:23:55.426Z"
   },
   {
    "duration": 1142,
    "start_time": "2022-03-31T11:23:57.612Z"
   },
   {
    "duration": 1137,
    "start_time": "2022-03-31T11:24:00.112Z"
   },
   {
    "duration": 1123,
    "start_time": "2022-03-31T11:24:02.892Z"
   },
   {
    "duration": 1134,
    "start_time": "2022-03-31T11:24:05.372Z"
   },
   {
    "duration": 1138,
    "start_time": "2022-03-31T11:24:08.009Z"
   },
   {
    "duration": 1032,
    "start_time": "2022-03-31T11:25:02.499Z"
   },
   {
    "duration": 337,
    "start_time": "2022-03-31T11:25:03.533Z"
   },
   {
    "duration": 35,
    "start_time": "2022-03-31T11:25:03.872Z"
   },
   {
    "duration": 64,
    "start_time": "2022-03-31T11:25:03.909Z"
   },
   {
    "duration": 80,
    "start_time": "2022-03-31T11:25:03.974Z"
   },
   {
    "duration": 27,
    "start_time": "2022-03-31T11:25:04.055Z"
   },
   {
    "duration": 54,
    "start_time": "2022-03-31T11:25:04.084Z"
   },
   {
    "duration": 2,
    "start_time": "2022-03-31T11:25:04.140Z"
   },
   {
    "duration": 199,
    "start_time": "2022-03-31T11:25:04.143Z"
   },
   {
    "duration": 102,
    "start_time": "2022-03-31T11:25:04.436Z"
   },
   {
    "duration": 5,
    "start_time": "2022-03-31T11:25:04.540Z"
   },
   {
    "duration": 13,
    "start_time": "2022-03-31T11:25:04.547Z"
   },
   {
    "duration": 6,
    "start_time": "2022-03-31T11:25:04.562Z"
   },
   {
    "duration": 15,
    "start_time": "2022-03-31T11:25:04.570Z"
   },
   {
    "duration": 3,
    "start_time": "2022-03-31T11:25:04.586Z"
   },
   {
    "duration": 9,
    "start_time": "2022-03-31T11:25:04.591Z"
   },
   {
    "duration": 1152,
    "start_time": "2022-03-31T11:25:04.601Z"
   },
   {
    "duration": 1108,
    "start_time": "2022-03-31T11:25:05.755Z"
   },
   {
    "duration": 1093,
    "start_time": "2022-03-31T11:25:06.865Z"
   },
   {
    "duration": 5,
    "start_time": "2022-03-31T11:26:24.169Z"
   },
   {
    "duration": 7,
    "start_time": "2022-03-31T11:26:53.642Z"
   },
   {
    "duration": 1076,
    "start_time": "2022-03-31T11:27:47.854Z"
   },
   {
    "duration": 333,
    "start_time": "2022-03-31T11:27:48.932Z"
   },
   {
    "duration": 36,
    "start_time": "2022-03-31T11:27:49.267Z"
   },
   {
    "duration": 65,
    "start_time": "2022-03-31T11:27:49.305Z"
   },
   {
    "duration": 83,
    "start_time": "2022-03-31T11:27:49.371Z"
   },
   {
    "duration": 14,
    "start_time": "2022-03-31T11:27:49.455Z"
   },
   {
    "duration": 62,
    "start_time": "2022-03-31T11:27:49.471Z"
   },
   {
    "duration": 2,
    "start_time": "2022-03-31T11:27:49.535Z"
   },
   {
    "duration": 198,
    "start_time": "2022-03-31T11:27:49.538Z"
   },
   {
    "duration": 101,
    "start_time": "2022-03-31T11:27:49.739Z"
   },
   {
    "duration": 6,
    "start_time": "2022-03-31T11:27:49.842Z"
   },
   {
    "duration": 7,
    "start_time": "2022-03-31T11:27:49.933Z"
   },
   {
    "duration": 3,
    "start_time": "2022-03-31T11:27:49.942Z"
   },
   {
    "duration": 11,
    "start_time": "2022-03-31T11:27:49.946Z"
   },
   {
    "duration": 3,
    "start_time": "2022-03-31T11:27:49.959Z"
   },
   {
    "duration": 14,
    "start_time": "2022-03-31T11:27:49.963Z"
   },
   {
    "duration": 1139,
    "start_time": "2022-03-31T11:27:49.978Z"
   },
   {
    "duration": 1088,
    "start_time": "2022-03-31T11:27:51.118Z"
   },
   {
    "duration": 1102,
    "start_time": "2022-03-31T11:27:52.208Z"
   },
   {
    "duration": 1527,
    "start_time": "2022-04-01T12:07:43.747Z"
   },
   {
    "duration": 445,
    "start_time": "2022-04-01T12:07:45.278Z"
   },
   {
    "duration": 51,
    "start_time": "2022-04-01T12:07:45.726Z"
   },
   {
    "duration": 71,
    "start_time": "2022-04-01T12:07:45.783Z"
   },
   {
    "duration": 84,
    "start_time": "2022-04-01T12:07:45.856Z"
   },
   {
    "duration": 39,
    "start_time": "2022-04-01T12:07:45.943Z"
   },
   {
    "duration": 54,
    "start_time": "2022-04-01T12:07:49.621Z"
   },
   {
    "duration": 3,
    "start_time": "2022-04-01T12:07:51.279Z"
   },
   {
    "duration": 257,
    "start_time": "2022-04-01T12:07:53.527Z"
   },
   {
    "duration": 10,
    "start_time": "2022-04-01T12:07:55.867Z"
   },
   {
    "duration": 7,
    "start_time": "2022-04-01T12:07:58.604Z"
   },
   {
    "duration": 12,
    "start_time": "2022-04-01T12:07:58.796Z"
   },
   {
    "duration": 5,
    "start_time": "2022-04-01T12:10:41.350Z"
   },
   {
    "duration": 19,
    "start_time": "2022-04-01T12:10:54.481Z"
   },
   {
    "duration": 5,
    "start_time": "2022-04-01T12:10:59.471Z"
   },
   {
    "duration": 8,
    "start_time": "2022-04-01T12:11:05.100Z"
   },
   {
    "duration": 260,
    "start_time": "2022-04-01T12:11:09.610Z"
   },
   {
    "duration": 113,
    "start_time": "2022-04-01T12:11:21.547Z"
   },
   {
    "duration": 5,
    "start_time": "2022-04-01T12:11:24.306Z"
   },
   {
    "duration": 11,
    "start_time": "2022-04-01T12:11:26.083Z"
   },
   {
    "duration": 1884,
    "start_time": "2022-04-01T12:11:28.224Z"
   },
   {
    "duration": 8,
    "start_time": "2022-04-01T12:12:15.265Z"
   },
   {
    "duration": 1957,
    "start_time": "2022-04-01T12:12:16.502Z"
   },
   {
    "duration": 11,
    "start_time": "2022-04-01T12:12:36.967Z"
   },
   {
    "duration": 2825,
    "start_time": "2022-04-01T12:12:38.336Z"
   },
   {
    "duration": 2042,
    "start_time": "2022-04-01T12:12:42.574Z"
   },
   {
    "duration": 1849,
    "start_time": "2022-04-01T12:12:44.619Z"
   },
   {
    "duration": 1849,
    "start_time": "2022-04-01T12:12:50.180Z"
   },
   {
    "duration": 7,
    "start_time": "2022-04-01T12:12:59.574Z"
   },
   {
    "duration": 1843,
    "start_time": "2022-04-01T12:13:01.616Z"
   },
   {
    "duration": 1907,
    "start_time": "2022-04-01T12:13:03.462Z"
   },
   {
    "duration": 1840,
    "start_time": "2022-04-01T12:13:09.649Z"
   },
   {
    "duration": 8,
    "start_time": "2022-04-01T12:16:06.243Z"
   },
   {
    "duration": 1775,
    "start_time": "2022-04-01T12:16:08.019Z"
   },
   {
    "duration": 1431,
    "start_time": "2022-04-01T12:16:30.301Z"
   },
   {
    "duration": 420,
    "start_time": "2022-04-01T12:16:31.735Z"
   },
   {
    "duration": 62,
    "start_time": "2022-04-01T12:16:32.157Z"
   },
   {
    "duration": 92,
    "start_time": "2022-04-01T12:16:32.222Z"
   },
   {
    "duration": 87,
    "start_time": "2022-04-01T12:16:32.316Z"
   },
   {
    "duration": 20,
    "start_time": "2022-04-01T12:16:32.405Z"
   },
   {
    "duration": 85,
    "start_time": "2022-04-01T12:16:32.427Z"
   },
   {
    "duration": 3,
    "start_time": "2022-04-01T12:16:32.514Z"
   },
   {
    "duration": 183,
    "start_time": "2022-04-01T12:16:32.519Z"
   },
   {
    "duration": 103,
    "start_time": "2022-04-01T12:16:32.790Z"
   },
   {
    "duration": 18,
    "start_time": "2022-04-01T12:16:32.897Z"
   },
   {
    "duration": 16,
    "start_time": "2022-04-01T12:16:32.917Z"
   },
   {
    "duration": 21,
    "start_time": "2022-04-01T12:16:32.936Z"
   },
   {
    "duration": 32,
    "start_time": "2022-04-01T12:16:32.959Z"
   },
   {
    "duration": 8,
    "start_time": "2022-04-01T12:16:32.993Z"
   },
   {
    "duration": 19,
    "start_time": "2022-04-01T12:16:33.004Z"
   },
   {
    "duration": 1823,
    "start_time": "2022-04-01T12:16:33.025Z"
   },
   {
    "duration": 1847,
    "start_time": "2022-04-01T12:16:34.850Z"
   },
   {
    "duration": 1899,
    "start_time": "2022-04-01T12:16:36.699Z"
   }
  ],
  "kernelspec": {
   "display_name": "Python 3 (ipykernel)",
   "language": "python",
   "name": "python3"
  },
  "language_info": {
   "codemirror_mode": {
    "name": "ipython",
    "version": 3
   },
   "file_extension": ".py",
   "mimetype": "text/x-python",
   "name": "python",
   "nbconvert_exporter": "python",
   "pygments_lexer": "ipython3",
   "version": "3.7.8"
  },
  "toc": {
   "base_numbering": 1,
   "nav_menu": {},
   "number_sections": true,
   "sideBar": true,
   "skip_h1_title": true,
   "title_cell": "Table of Contents",
   "title_sidebar": "Contents",
   "toc_cell": false,
   "toc_position": {},
   "toc_section_display": true,
   "toc_window_display": true
  }
 },
 "nbformat": 4,
 "nbformat_minor": 2
}
