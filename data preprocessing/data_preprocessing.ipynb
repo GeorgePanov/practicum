{
 "cells": [
  {
   "cell_type": "markdown",
   "id": "af0f05e5",
   "metadata": {},
   "source": [
    "# Открыть и изучить общую информацию"
   ]
  },
  {
   "cell_type": "code",
   "execution_count": 1,
   "id": "37a1534c",
   "metadata": {},
   "outputs": [],
   "source": [
    "import pandas as pd\n",
    "from pymystem3 import Mystem\n",
    "m = Mystem()"
   ]
  },
  {
   "cell_type": "code",
   "execution_count": 2,
   "id": "550de74c",
   "metadata": {
    "scrolled": false
   },
   "outputs": [
    {
     "data": {
      "text/html": [
       "<div>\n",
       "<style scoped>\n",
       "    .dataframe tbody tr th:only-of-type {\n",
       "        vertical-align: middle;\n",
       "    }\n",
       "\n",
       "    .dataframe tbody tr th {\n",
       "        vertical-align: top;\n",
       "    }\n",
       "\n",
       "    .dataframe thead th {\n",
       "        text-align: right;\n",
       "    }\n",
       "</style>\n",
       "<table border=\"1\" class=\"dataframe\">\n",
       "  <thead>\n",
       "    <tr style=\"text-align: right;\">\n",
       "      <th></th>\n",
       "      <th>children</th>\n",
       "      <th>days_employed</th>\n",
       "      <th>dob_years</th>\n",
       "      <th>education</th>\n",
       "      <th>education_id</th>\n",
       "      <th>family_status</th>\n",
       "      <th>family_status_id</th>\n",
       "      <th>gender</th>\n",
       "      <th>income_type</th>\n",
       "      <th>debt</th>\n",
       "      <th>total_income</th>\n",
       "      <th>purpose</th>\n",
       "    </tr>\n",
       "  </thead>\n",
       "  <tbody>\n",
       "    <tr>\n",
       "      <th>0</th>\n",
       "      <td>1</td>\n",
       "      <td>-8437.673028</td>\n",
       "      <td>42</td>\n",
       "      <td>высшее</td>\n",
       "      <td>0</td>\n",
       "      <td>женат / замужем</td>\n",
       "      <td>0</td>\n",
       "      <td>F</td>\n",
       "      <td>сотрудник</td>\n",
       "      <td>0</td>\n",
       "      <td>253875.639453</td>\n",
       "      <td>покупка жилья</td>\n",
       "    </tr>\n",
       "    <tr>\n",
       "      <th>1</th>\n",
       "      <td>1</td>\n",
       "      <td>-4024.803754</td>\n",
       "      <td>36</td>\n",
       "      <td>среднее</td>\n",
       "      <td>1</td>\n",
       "      <td>женат / замужем</td>\n",
       "      <td>0</td>\n",
       "      <td>F</td>\n",
       "      <td>сотрудник</td>\n",
       "      <td>0</td>\n",
       "      <td>112080.014102</td>\n",
       "      <td>приобретение автомобиля</td>\n",
       "    </tr>\n",
       "    <tr>\n",
       "      <th>2</th>\n",
       "      <td>0</td>\n",
       "      <td>-5623.422610</td>\n",
       "      <td>33</td>\n",
       "      <td>Среднее</td>\n",
       "      <td>1</td>\n",
       "      <td>женат / замужем</td>\n",
       "      <td>0</td>\n",
       "      <td>M</td>\n",
       "      <td>сотрудник</td>\n",
       "      <td>0</td>\n",
       "      <td>145885.952297</td>\n",
       "      <td>покупка жилья</td>\n",
       "    </tr>\n",
       "    <tr>\n",
       "      <th>3</th>\n",
       "      <td>3</td>\n",
       "      <td>-4124.747207</td>\n",
       "      <td>32</td>\n",
       "      <td>среднее</td>\n",
       "      <td>1</td>\n",
       "      <td>женат / замужем</td>\n",
       "      <td>0</td>\n",
       "      <td>M</td>\n",
       "      <td>сотрудник</td>\n",
       "      <td>0</td>\n",
       "      <td>267628.550329</td>\n",
       "      <td>дополнительное образование</td>\n",
       "    </tr>\n",
       "    <tr>\n",
       "      <th>4</th>\n",
       "      <td>0</td>\n",
       "      <td>340266.072047</td>\n",
       "      <td>53</td>\n",
       "      <td>среднее</td>\n",
       "      <td>1</td>\n",
       "      <td>гражданский брак</td>\n",
       "      <td>1</td>\n",
       "      <td>F</td>\n",
       "      <td>пенсионер</td>\n",
       "      <td>0</td>\n",
       "      <td>158616.077870</td>\n",
       "      <td>сыграть свадьбу</td>\n",
       "    </tr>\n",
       "    <tr>\n",
       "      <th>5</th>\n",
       "      <td>0</td>\n",
       "      <td>-926.185831</td>\n",
       "      <td>27</td>\n",
       "      <td>высшее</td>\n",
       "      <td>0</td>\n",
       "      <td>гражданский брак</td>\n",
       "      <td>1</td>\n",
       "      <td>M</td>\n",
       "      <td>компаньон</td>\n",
       "      <td>0</td>\n",
       "      <td>255763.565419</td>\n",
       "      <td>покупка жилья</td>\n",
       "    </tr>\n",
       "    <tr>\n",
       "      <th>6</th>\n",
       "      <td>0</td>\n",
       "      <td>-2879.202052</td>\n",
       "      <td>43</td>\n",
       "      <td>высшее</td>\n",
       "      <td>0</td>\n",
       "      <td>женат / замужем</td>\n",
       "      <td>0</td>\n",
       "      <td>F</td>\n",
       "      <td>компаньон</td>\n",
       "      <td>0</td>\n",
       "      <td>240525.971920</td>\n",
       "      <td>операции с жильем</td>\n",
       "    </tr>\n",
       "    <tr>\n",
       "      <th>7</th>\n",
       "      <td>0</td>\n",
       "      <td>-152.779569</td>\n",
       "      <td>50</td>\n",
       "      <td>СРЕДНЕЕ</td>\n",
       "      <td>1</td>\n",
       "      <td>женат / замужем</td>\n",
       "      <td>0</td>\n",
       "      <td>M</td>\n",
       "      <td>сотрудник</td>\n",
       "      <td>0</td>\n",
       "      <td>135823.934197</td>\n",
       "      <td>образование</td>\n",
       "    </tr>\n",
       "    <tr>\n",
       "      <th>8</th>\n",
       "      <td>2</td>\n",
       "      <td>-6929.865299</td>\n",
       "      <td>35</td>\n",
       "      <td>ВЫСШЕЕ</td>\n",
       "      <td>0</td>\n",
       "      <td>гражданский брак</td>\n",
       "      <td>1</td>\n",
       "      <td>F</td>\n",
       "      <td>сотрудник</td>\n",
       "      <td>0</td>\n",
       "      <td>95856.832424</td>\n",
       "      <td>на проведение свадьбы</td>\n",
       "    </tr>\n",
       "    <tr>\n",
       "      <th>9</th>\n",
       "      <td>0</td>\n",
       "      <td>-2188.756445</td>\n",
       "      <td>41</td>\n",
       "      <td>среднее</td>\n",
       "      <td>1</td>\n",
       "      <td>женат / замужем</td>\n",
       "      <td>0</td>\n",
       "      <td>M</td>\n",
       "      <td>сотрудник</td>\n",
       "      <td>0</td>\n",
       "      <td>144425.938277</td>\n",
       "      <td>покупка жилья для семьи</td>\n",
       "    </tr>\n",
       "  </tbody>\n",
       "</table>\n",
       "</div>"
      ],
      "text/plain": [
       "   children  days_employed  dob_years education  education_id  \\\n",
       "0         1   -8437.673028         42    высшее             0   \n",
       "1         1   -4024.803754         36   среднее             1   \n",
       "2         0   -5623.422610         33   Среднее             1   \n",
       "3         3   -4124.747207         32   среднее             1   \n",
       "4         0  340266.072047         53   среднее             1   \n",
       "5         0    -926.185831         27    высшее             0   \n",
       "6         0   -2879.202052         43    высшее             0   \n",
       "7         0    -152.779569         50   СРЕДНЕЕ             1   \n",
       "8         2   -6929.865299         35    ВЫСШЕЕ             0   \n",
       "9         0   -2188.756445         41   среднее             1   \n",
       "\n",
       "      family_status  family_status_id gender income_type  debt   total_income  \\\n",
       "0   женат / замужем                 0      F   сотрудник     0  253875.639453   \n",
       "1   женат / замужем                 0      F   сотрудник     0  112080.014102   \n",
       "2   женат / замужем                 0      M   сотрудник     0  145885.952297   \n",
       "3   женат / замужем                 0      M   сотрудник     0  267628.550329   \n",
       "4  гражданский брак                 1      F   пенсионер     0  158616.077870   \n",
       "5  гражданский брак                 1      M   компаньон     0  255763.565419   \n",
       "6   женат / замужем                 0      F   компаньон     0  240525.971920   \n",
       "7   женат / замужем                 0      M   сотрудник     0  135823.934197   \n",
       "8  гражданский брак                 1      F   сотрудник     0   95856.832424   \n",
       "9   женат / замужем                 0      M   сотрудник     0  144425.938277   \n",
       "\n",
       "                      purpose  \n",
       "0               покупка жилья  \n",
       "1     приобретение автомобиля  \n",
       "2               покупка жилья  \n",
       "3  дополнительное образование  \n",
       "4             сыграть свадьбу  \n",
       "5               покупка жилья  \n",
       "6           операции с жильем  \n",
       "7                 образование  \n",
       "8       на проведение свадьбы  \n",
       "9     покупка жилья для семьи  "
      ]
     },
     "metadata": {},
     "output_type": "display_data"
    },
    {
     "name": "stdout",
     "output_type": "stream",
     "text": [
      "<class 'pandas.core.frame.DataFrame'>\n",
      "RangeIndex: 21525 entries, 0 to 21524\n",
      "Data columns (total 12 columns):\n",
      " #   Column            Non-Null Count  Dtype  \n",
      "---  ------            --------------  -----  \n",
      " 0   children          21525 non-null  int64  \n",
      " 1   days_employed     19351 non-null  float64\n",
      " 2   dob_years         21525 non-null  int64  \n",
      " 3   education         21525 non-null  object \n",
      " 4   education_id      21525 non-null  int64  \n",
      " 5   family_status     21525 non-null  object \n",
      " 6   family_status_id  21525 non-null  int64  \n",
      " 7   gender            21525 non-null  object \n",
      " 8   income_type       21525 non-null  object \n",
      " 9   debt              21525 non-null  int64  \n",
      " 10  total_income      19351 non-null  float64\n",
      " 11  purpose           21525 non-null  object \n",
      "dtypes: float64(2), int64(5), object(5)\n",
      "memory usage: 2.0+ MB\n",
      "None\n"
     ]
    }
   ],
   "source": [
    "data = pd.read_csv('/datasets/data.csv')\n",
    "display(data.head(10))\n",
    "print(data.info())"
   ]
  },
  {
   "cell_type": "markdown",
   "id": "f04a1351",
   "metadata": {},
   "source": [
    "**Вывод**<br> \n",
    "Видно, что пропущенные значения только в столбцах \"days_employed\" и \"total_income\".<br>\n",
    "Но еще мне не понятно, почему рабочий стаж (\"days_employed\") имеет отрицательные значения."
   ]
  },
  {
   "cell_type": "markdown",
   "id": "31eb46ec",
   "metadata": {},
   "source": [
    "# Предобработка данных"
   ]
  },
  {
   "cell_type": "markdown",
   "id": "808ccb2d",
   "metadata": {},
   "source": [
    "## Обработка пропусков"
   ]
  },
  {
   "cell_type": "code",
   "execution_count": 3,
   "id": "d8947e9c",
   "metadata": {
    "scrolled": false
   },
   "outputs": [
    {
     "name": "stdout",
     "output_type": "stream",
     "text": [
      "<class 'pandas.core.frame.DataFrame'>\n",
      "RangeIndex: 21525 entries, 0 to 21524\n",
      "Data columns (total 12 columns):\n",
      " #   Column            Non-Null Count  Dtype  \n",
      "---  ------            --------------  -----  \n",
      " 0   children          21525 non-null  int64  \n",
      " 1   days_employed     21525 non-null  float64\n",
      " 2   dob_years         21525 non-null  int64  \n",
      " 3   education         21525 non-null  object \n",
      " 4   education_id      21525 non-null  int64  \n",
      " 5   family_status     21525 non-null  object \n",
      " 6   family_status_id  21525 non-null  int64  \n",
      " 7   gender            21525 non-null  object \n",
      " 8   income_type       21525 non-null  object \n",
      " 9   debt              21525 non-null  int64  \n",
      " 10  total_income      21525 non-null  float64\n",
      " 11  purpose           21525 non-null  object \n",
      "dtypes: float64(2), int64(5), object(5)\n",
      "memory usage: 2.0+ MB\n"
     ]
    },
    {
     "data": {
      "text/html": [
       "<div>\n",
       "<style scoped>\n",
       "    .dataframe tbody tr th:only-of-type {\n",
       "        vertical-align: middle;\n",
       "    }\n",
       "\n",
       "    .dataframe tbody tr th {\n",
       "        vertical-align: top;\n",
       "    }\n",
       "\n",
       "    .dataframe thead th {\n",
       "        text-align: right;\n",
       "    }\n",
       "</style>\n",
       "<table border=\"1\" class=\"dataframe\">\n",
       "  <thead>\n",
       "    <tr style=\"text-align: right;\">\n",
       "      <th></th>\n",
       "      <th>children</th>\n",
       "      <th>days_employed</th>\n",
       "      <th>dob_years</th>\n",
       "      <th>education</th>\n",
       "      <th>education_id</th>\n",
       "      <th>family_status</th>\n",
       "      <th>family_status_id</th>\n",
       "      <th>gender</th>\n",
       "      <th>income_type</th>\n",
       "      <th>debt</th>\n",
       "      <th>total_income</th>\n",
       "      <th>purpose</th>\n",
       "    </tr>\n",
       "  </thead>\n",
       "  <tbody>\n",
       "    <tr>\n",
       "      <th>0</th>\n",
       "      <td>1</td>\n",
       "      <td>8437.673028</td>\n",
       "      <td>42</td>\n",
       "      <td>высшее</td>\n",
       "      <td>0</td>\n",
       "      <td>женат / замужем</td>\n",
       "      <td>0</td>\n",
       "      <td>F</td>\n",
       "      <td>сотрудник</td>\n",
       "      <td>0</td>\n",
       "      <td>253875.639453</td>\n",
       "      <td>покупка жилья</td>\n",
       "    </tr>\n",
       "    <tr>\n",
       "      <th>1</th>\n",
       "      <td>1</td>\n",
       "      <td>4024.803754</td>\n",
       "      <td>36</td>\n",
       "      <td>среднее</td>\n",
       "      <td>1</td>\n",
       "      <td>женат / замужем</td>\n",
       "      <td>0</td>\n",
       "      <td>F</td>\n",
       "      <td>сотрудник</td>\n",
       "      <td>0</td>\n",
       "      <td>112080.014102</td>\n",
       "      <td>приобретение автомобиля</td>\n",
       "    </tr>\n",
       "    <tr>\n",
       "      <th>2</th>\n",
       "      <td>0</td>\n",
       "      <td>5623.422610</td>\n",
       "      <td>33</td>\n",
       "      <td>Среднее</td>\n",
       "      <td>1</td>\n",
       "      <td>женат / замужем</td>\n",
       "      <td>0</td>\n",
       "      <td>M</td>\n",
       "      <td>сотрудник</td>\n",
       "      <td>0</td>\n",
       "      <td>145885.952297</td>\n",
       "      <td>покупка жилья</td>\n",
       "    </tr>\n",
       "    <tr>\n",
       "      <th>3</th>\n",
       "      <td>3</td>\n",
       "      <td>4124.747207</td>\n",
       "      <td>32</td>\n",
       "      <td>среднее</td>\n",
       "      <td>1</td>\n",
       "      <td>женат / замужем</td>\n",
       "      <td>0</td>\n",
       "      <td>M</td>\n",
       "      <td>сотрудник</td>\n",
       "      <td>0</td>\n",
       "      <td>267628.550329</td>\n",
       "      <td>дополнительное образование</td>\n",
       "    </tr>\n",
       "    <tr>\n",
       "      <th>4</th>\n",
       "      <td>0</td>\n",
       "      <td>340266.072047</td>\n",
       "      <td>53</td>\n",
       "      <td>среднее</td>\n",
       "      <td>1</td>\n",
       "      <td>гражданский брак</td>\n",
       "      <td>1</td>\n",
       "      <td>F</td>\n",
       "      <td>пенсионер</td>\n",
       "      <td>0</td>\n",
       "      <td>158616.077870</td>\n",
       "      <td>сыграть свадьбу</td>\n",
       "    </tr>\n",
       "  </tbody>\n",
       "</table>\n",
       "</div>"
      ],
      "text/plain": [
       "   children  days_employed  dob_years education  education_id  \\\n",
       "0         1    8437.673028         42    высшее             0   \n",
       "1         1    4024.803754         36   среднее             1   \n",
       "2         0    5623.422610         33   Среднее             1   \n",
       "3         3    4124.747207         32   среднее             1   \n",
       "4         0  340266.072047         53   среднее             1   \n",
       "\n",
       "      family_status  family_status_id gender income_type  debt   total_income  \\\n",
       "0   женат / замужем                 0      F   сотрудник     0  253875.639453   \n",
       "1   женат / замужем                 0      F   сотрудник     0  112080.014102   \n",
       "2   женат / замужем                 0      M   сотрудник     0  145885.952297   \n",
       "3   женат / замужем                 0      M   сотрудник     0  267628.550329   \n",
       "4  гражданский брак                 1      F   пенсионер     0  158616.077870   \n",
       "\n",
       "                      purpose  \n",
       "0               покупка жилья  \n",
       "1     приобретение автомобиля  \n",
       "2               покупка жилья  \n",
       "3  дополнительное образование  \n",
       "4             сыграть свадьбу  "
      ]
     },
     "execution_count": 3,
     "metadata": {},
     "output_type": "execute_result"
    }
   ],
   "source": [
    "# переводим все отрицательные значения в положительные\n",
    "data['days_employed'] = abs(data['days_employed'])\n",
    "\n",
    "# выявляем медиану для рабочих дней и подставляем в пропущенные значения\n",
    "median_days = data['days_employed'].median()\n",
    "data['days_employed'] = data['days_employed'].fillna(median_days)\n",
    "\n",
    "# выявляем медиану для ежемесячного дохода и подставляем в пропущенные значения\n",
    "median_income = data['total_income'].median()\n",
    "data['total_income'] = data['total_income'].fillna(median_income)\n",
    "\n",
    "data.info()\n",
    "data.head()"
   ]
  },
  {
   "cell_type": "markdown",
   "id": "c38afbdc",
   "metadata": {},
   "source": [
    "**Вывод**<br>\n",
    "Отрицательные значения я перевел в положительные (потому что не может быть отрицательного опыта в дня).<br>\n",
    "Заменил пропуски в столбцах \"days_employed\" и \"total_income\" на медианы этих столбцов."
   ]
  },
  {
   "cell_type": "markdown",
   "id": "52a4f60e",
   "metadata": {},
   "source": [
    "## Замена типа данных"
   ]
  },
  {
   "cell_type": "code",
   "execution_count": 4,
   "id": "5d8df5e5",
   "metadata": {
    "scrolled": true
   },
   "outputs": [
    {
     "name": "stdout",
     "output_type": "stream",
     "text": [
      "<class 'pandas.core.frame.DataFrame'>\n",
      "RangeIndex: 21525 entries, 0 to 21524\n",
      "Data columns (total 12 columns):\n",
      " #   Column            Non-Null Count  Dtype \n",
      "---  ------            --------------  ----- \n",
      " 0   children          21525 non-null  int64 \n",
      " 1   days_employed     21525 non-null  int64 \n",
      " 2   dob_years         21525 non-null  int64 \n",
      " 3   education         21525 non-null  object\n",
      " 4   education_id      21525 non-null  int64 \n",
      " 5   family_status     21525 non-null  object\n",
      " 6   family_status_id  21525 non-null  int64 \n",
      " 7   gender            21525 non-null  object\n",
      " 8   income_type       21525 non-null  object\n",
      " 9   debt              21525 non-null  int64 \n",
      " 10  total_income      21525 non-null  int64 \n",
      " 11  purpose           21525 non-null  object\n",
      "dtypes: int64(7), object(5)\n",
      "memory usage: 2.0+ MB\n"
     ]
    }
   ],
   "source": [
    "def f_to_int(value):\n",
    "    integer = int(value)\n",
    "    return integer\n",
    "\n",
    "data['days_employed'] = data['days_employed'].apply(f_to_int)\n",
    "data['total_income'] = data['total_income'].apply(f_to_int)\n",
    "\n",
    "data.info()"
   ]
  },
  {
   "cell_type": "markdown",
   "id": "05abc448",
   "metadata": {},
   "source": [
    "**Вывод**<br>Вещественные значения столбцов \"days_employed\" и \"total_income\" заменил на целочисленные"
   ]
  },
  {
   "cell_type": "markdown",
   "id": "feb00b71",
   "metadata": {},
   "source": [
    "## Обработка дубликатов"
   ]
  },
  {
   "cell_type": "code",
   "execution_count": 5,
   "id": "8c607833",
   "metadata": {},
   "outputs": [
    {
     "data": {
      "text/plain": [
       "54"
      ]
     },
     "execution_count": 5,
     "metadata": {},
     "output_type": "execute_result"
    }
   ],
   "source": [
    "data.duplicated().sum()"
   ]
  },
  {
   "cell_type": "code",
   "execution_count": 6,
   "id": "b886fbe8",
   "metadata": {},
   "outputs": [],
   "source": [
    "data['education'] = data['education'].str.lower()"
   ]
  },
  {
   "cell_type": "code",
   "execution_count": 7,
   "id": "1c1a4767",
   "metadata": {},
   "outputs": [
    {
     "data": {
      "text/plain": [
       "71"
      ]
     },
     "execution_count": 7,
     "metadata": {},
     "output_type": "execute_result"
    }
   ],
   "source": [
    "data.duplicated().sum()"
   ]
  },
  {
   "cell_type": "code",
   "execution_count": 8,
   "id": "61e5ea03",
   "metadata": {},
   "outputs": [
    {
     "data": {
      "text/plain": [
       "0"
      ]
     },
     "execution_count": 8,
     "metadata": {},
     "output_type": "execute_result"
    }
   ],
   "source": [
    "data = data.drop_duplicates().reset_index(drop=True)\n",
    "data.duplicated().sum()"
   ]
  },
  {
   "cell_type": "markdown",
   "id": "a9dd715b",
   "metadata": {},
   "source": [
    "**Вывод**"
   ]
  },
  {
   "cell_type": "markdown",
   "id": "50fdb42e",
   "metadata": {},
   "source": [
    "Я заметил одинаковые значения в столбце \"education\" написанные в разном регистре, поэтому я решил их привести к одному регистру. Таким образом колличество дубликатов оказалось не 71, а 54. Методом \"drop_duplicates().reset_index(drop=True)\" я их удалил. <br>\n",
    "Дубликаты разные, потому что люди по-разному записали своё образование. Не думаю, что в анкете было написано \"только строчными буквами\" или на оборот заглавными."
   ]
  },
  {
   "cell_type": "markdown",
   "id": "9709bc9c",
   "metadata": {},
   "source": [
    "## Лемматизация"
   ]
  },
  {
   "cell_type": "code",
   "execution_count": 9,
   "id": "5d539fbb",
   "metadata": {
    "scrolled": false
   },
   "outputs": [
    {
     "data": {
      "text/plain": [
       "purpose_category\n",
       "автомобиль       4306\n",
       "недвижимость    10811\n",
       "образование      4013\n",
       "свадьба          2324\n",
       "Name: purpose_category, dtype: int64"
      ]
     },
     "execution_count": 9,
     "metadata": {},
     "output_type": "execute_result"
    }
   ],
   "source": [
    "# создаём функцию которая определяет к какой группе относится заем\n",
    "def create_category_purpose(data):\n",
    "    lem_purpose = m.lemmatize(data['purpose'])\n",
    "    if 'автомобиль' in lem_purpose:\n",
    "        return 'автомобиль'\n",
    "    elif ('жилье' in lem_purpose) or ('недвижимость' in lem_purpose ):\n",
    "        return 'недвижимость'\n",
    "    elif 'образование' in lem_purpose:\n",
    "        return 'образование'\n",
    "    elif 'свадьба' in lem_purpose:\n",
    "        return 'свадьба'\n",
    "    else:\n",
    "        return 'other'\n",
    "\n",
    "data['purpose_category'] = data.apply(create_category_purpose, axis=1)\n",
    "data.groupby('purpose_category')['purpose_category'].count()"
   ]
  },
  {
   "cell_type": "markdown",
   "id": "1f801308",
   "metadata": {},
   "source": [
    "**Вывод**<br>Можно заметь, что на покупку недвижимости люди берут кредит больше всего, а на свадьбу - меньше всего.\n",
    "На образование и автомобиль берут примерно одинаковое колличество людей."
   ]
  },
  {
   "cell_type": "markdown",
   "id": "3ab08c4d",
   "metadata": {},
   "source": [
    "## Категоризация данных"
   ]
  },
  {
   "cell_type": "code",
   "execution_count": 10,
   "id": "8565a4e8",
   "metadata": {},
   "outputs": [
    {
     "data": {
      "text/html": [
       "<div>\n",
       "<style scoped>\n",
       "    .dataframe tbody tr th:only-of-type {\n",
       "        vertical-align: middle;\n",
       "    }\n",
       "\n",
       "    .dataframe tbody tr th {\n",
       "        vertical-align: top;\n",
       "    }\n",
       "\n",
       "    .dataframe thead th {\n",
       "        text-align: right;\n",
       "    }\n",
       "</style>\n",
       "<table border=\"1\" class=\"dataframe\">\n",
       "  <thead>\n",
       "    <tr style=\"text-align: right;\">\n",
       "      <th></th>\n",
       "      <th>children</th>\n",
       "      <th>days_employed</th>\n",
       "      <th>dob_years</th>\n",
       "      <th>education</th>\n",
       "      <th>education_id</th>\n",
       "      <th>family_status</th>\n",
       "      <th>family_status_id</th>\n",
       "      <th>gender</th>\n",
       "      <th>income_type</th>\n",
       "      <th>debt</th>\n",
       "      <th>total_income</th>\n",
       "      <th>purpose</th>\n",
       "      <th>purpose_category</th>\n",
       "      <th>income_level</th>\n",
       "      <th>have_children</th>\n",
       "      <th>have_debt</th>\n",
       "    </tr>\n",
       "  </thead>\n",
       "  <tbody>\n",
       "    <tr>\n",
       "      <th>0</th>\n",
       "      <td>1</td>\n",
       "      <td>8437</td>\n",
       "      <td>42</td>\n",
       "      <td>высшее</td>\n",
       "      <td>0</td>\n",
       "      <td>женат / замужем</td>\n",
       "      <td>0</td>\n",
       "      <td>F</td>\n",
       "      <td>сотрудник</td>\n",
       "      <td>0</td>\n",
       "      <td>253875</td>\n",
       "      <td>покупка жилья</td>\n",
       "      <td>недвижимость</td>\n",
       "      <td>Высокий доход</td>\n",
       "      <td>Есть дети</td>\n",
       "      <td>Не было задолжностей</td>\n",
       "    </tr>\n",
       "    <tr>\n",
       "      <th>1</th>\n",
       "      <td>1</td>\n",
       "      <td>4024</td>\n",
       "      <td>36</td>\n",
       "      <td>среднее</td>\n",
       "      <td>1</td>\n",
       "      <td>женат / замужем</td>\n",
       "      <td>0</td>\n",
       "      <td>F</td>\n",
       "      <td>сотрудник</td>\n",
       "      <td>0</td>\n",
       "      <td>112080</td>\n",
       "      <td>приобретение автомобиля</td>\n",
       "      <td>автомобиль</td>\n",
       "      <td>Средний доход</td>\n",
       "      <td>Есть дети</td>\n",
       "      <td>Не было задолжностей</td>\n",
       "    </tr>\n",
       "    <tr>\n",
       "      <th>2</th>\n",
       "      <td>0</td>\n",
       "      <td>5623</td>\n",
       "      <td>33</td>\n",
       "      <td>среднее</td>\n",
       "      <td>1</td>\n",
       "      <td>женат / замужем</td>\n",
       "      <td>0</td>\n",
       "      <td>M</td>\n",
       "      <td>сотрудник</td>\n",
       "      <td>0</td>\n",
       "      <td>145885</td>\n",
       "      <td>покупка жилья</td>\n",
       "      <td>недвижимость</td>\n",
       "      <td>Средний доход</td>\n",
       "      <td>Нет детей</td>\n",
       "      <td>Не было задолжностей</td>\n",
       "    </tr>\n",
       "    <tr>\n",
       "      <th>3</th>\n",
       "      <td>3</td>\n",
       "      <td>4124</td>\n",
       "      <td>32</td>\n",
       "      <td>среднее</td>\n",
       "      <td>1</td>\n",
       "      <td>женат / замужем</td>\n",
       "      <td>0</td>\n",
       "      <td>M</td>\n",
       "      <td>сотрудник</td>\n",
       "      <td>0</td>\n",
       "      <td>267628</td>\n",
       "      <td>дополнительное образование</td>\n",
       "      <td>образование</td>\n",
       "      <td>Высокий доход</td>\n",
       "      <td>Есть дети</td>\n",
       "      <td>Не было задолжностей</td>\n",
       "    </tr>\n",
       "    <tr>\n",
       "      <th>4</th>\n",
       "      <td>0</td>\n",
       "      <td>340266</td>\n",
       "      <td>53</td>\n",
       "      <td>среднее</td>\n",
       "      <td>1</td>\n",
       "      <td>гражданский брак</td>\n",
       "      <td>1</td>\n",
       "      <td>F</td>\n",
       "      <td>пенсионер</td>\n",
       "      <td>0</td>\n",
       "      <td>158616</td>\n",
       "      <td>сыграть свадьбу</td>\n",
       "      <td>свадьба</td>\n",
       "      <td>Средний доход</td>\n",
       "      <td>Нет детей</td>\n",
       "      <td>Не было задолжностей</td>\n",
       "    </tr>\n",
       "  </tbody>\n",
       "</table>\n",
       "</div>"
      ],
      "text/plain": [
       "   children  days_employed  dob_years education  education_id  \\\n",
       "0         1           8437         42    высшее             0   \n",
       "1         1           4024         36   среднее             1   \n",
       "2         0           5623         33   среднее             1   \n",
       "3         3           4124         32   среднее             1   \n",
       "4         0         340266         53   среднее             1   \n",
       "\n",
       "      family_status  family_status_id gender income_type  debt  total_income  \\\n",
       "0   женат / замужем                 0      F   сотрудник     0        253875   \n",
       "1   женат / замужем                 0      F   сотрудник     0        112080   \n",
       "2   женат / замужем                 0      M   сотрудник     0        145885   \n",
       "3   женат / замужем                 0      M   сотрудник     0        267628   \n",
       "4  гражданский брак                 1      F   пенсионер     0        158616   \n",
       "\n",
       "                      purpose purpose_category   income_level have_children  \\\n",
       "0               покупка жилья     недвижимость  Высокий доход     Есть дети   \n",
       "1     приобретение автомобиля       автомобиль  Средний доход     Есть дети   \n",
       "2               покупка жилья     недвижимость  Средний доход     Нет детей   \n",
       "3  дополнительное образование      образование  Высокий доход     Есть дети   \n",
       "4             сыграть свадьбу          свадьба  Средний доход     Нет детей   \n",
       "\n",
       "              have_debt  \n",
       "0  Не было задолжностей  \n",
       "1  Не было задолжностей  \n",
       "2  Не было задолжностей  \n",
       "3  Не было задолжностей  \n",
       "4  Не было задолжностей  "
      ]
     },
     "execution_count": 10,
     "metadata": {},
     "output_type": "execute_result"
    }
   ],
   "source": [
    "# data['children'].unique()\n",
    "# array([ 1,  0,  3,  2, -1,  4, 20,  5])\n",
    "# Мы видим, что в таблице есть минусовое значение. Наверно это опечатка.\n",
    "\n",
    "# print(data[data['children'] == -1]['children'].count())\n",
    "# 47 отрицательных значений. Думаю, что это опечатка. Надо сделать их положительными.\n",
    "\n",
    "data['children'] = abs(data['children'])\n",
    "# data['children'].unique()\n",
    "# array([ 1,  0,  3,  2,  4, 20,  5])\n",
    "\n",
    "\n",
    "\n",
    "# теперь сделаем столбец с наличием детей (Есть/Нет)\n",
    "def Are_there_children(table):\n",
    "    if table['children'] > 0:\n",
    "        return 'Есть дети'\n",
    "    else:\n",
    "        return 'Нет детей'\n",
    "\n",
    "# сделаем столбец с задолжностями (Были/Нет)\n",
    "def Are_there_debt(table):\n",
    "    if table['debt'] > 0:\n",
    "        return 'Были задолжности'\n",
    "    else:\n",
    "        return 'Не было задолжностей'\n",
    "\n",
    "# сделаем столбец с уровнем дохода\n",
    "def income_level(table):\n",
    "    if table['total_income'] <= 75000:\n",
    "        return 'Низкий доход'\n",
    "    elif 75000 < table['total_income'] <= 200000:\n",
    "        return 'Средний доход'\n",
    "    elif 200000 < table['total_income'] <= 500000:\n",
    "        return 'Высокий доход'\n",
    "    elif 500000 < table['total_income']:\n",
    "        return 'Богач'\n",
    "   \n",
    "    \n",
    "    \n",
    "data['income_level'] = data.apply(income_level, axis=1)\n",
    "data['have_children'] = data.apply(Are_there_children, axis=1)\n",
    "data['have_debt'] = data.apply(Are_there_debt, axis=1)\n",
    "\n",
    "data.head()"
   ]
  },
  {
   "cell_type": "code",
   "execution_count": 11,
   "id": "c2bd3953",
   "metadata": {},
   "outputs": [
    {
     "data": {
      "text/plain": [
       "income_level\n",
       "Богач              222\n",
       "Высокий доход     4844\n",
       "Низкий доход      1865\n",
       "Средний доход    14523\n",
       "Name: income_level, dtype: int64"
      ]
     },
     "execution_count": 11,
     "metadata": {},
     "output_type": "execute_result"
    }
   ],
   "source": [
    "data.groupby('income_level')['income_level'].count()"
   ]
  },
  {
   "cell_type": "markdown",
   "id": "6c353ecd",
   "metadata": {},
   "source": [
    "**Вывод**"
   ]
  },
  {
   "cell_type": "markdown",
   "id": "8e542993",
   "metadata": {},
   "source": [
    "Большинство людей, которые берут кредит находятся в среднем классе."
   ]
  },
  {
   "cell_type": "markdown",
   "id": "584aea6c",
   "metadata": {},
   "source": [
    "# Ответьте на вопросы"
   ]
  },
  {
   "cell_type": "markdown",
   "id": "056e2fb6",
   "metadata": {},
   "source": [
    "## Есть ли зависимость между наличием детей и возвратом кредита в срок?"
   ]
  },
  {
   "cell_type": "code",
   "execution_count": 12,
   "id": "6d34eb90",
   "metadata": {},
   "outputs": [
    {
     "data": {
      "text/html": [
       "<div>\n",
       "<style scoped>\n",
       "    .dataframe tbody tr th:only-of-type {\n",
       "        vertical-align: middle;\n",
       "    }\n",
       "\n",
       "    .dataframe tbody tr th {\n",
       "        vertical-align: top;\n",
       "    }\n",
       "\n",
       "    .dataframe thead th {\n",
       "        text-align: right;\n",
       "    }\n",
       "</style>\n",
       "<table border=\"1\" class=\"dataframe\">\n",
       "  <thead>\n",
       "    <tr style=\"text-align: right;\">\n",
       "      <th>have_debt</th>\n",
       "      <th>Были задолжности</th>\n",
       "      <th>Не было задолжностей</th>\n",
       "      <th>Percentage_of_return</th>\n",
       "    </tr>\n",
       "    <tr>\n",
       "      <th>have_children</th>\n",
       "      <th></th>\n",
       "      <th></th>\n",
       "      <th></th>\n",
       "    </tr>\n",
       "  </thead>\n",
       "  <tbody>\n",
       "    <tr>\n",
       "      <th>Нет детей</th>\n",
       "      <td>1063</td>\n",
       "      <td>13028</td>\n",
       "      <td>91.840651</td>\n",
       "    </tr>\n",
       "    <tr>\n",
       "      <th>Есть дети</th>\n",
       "      <td>678</td>\n",
       "      <td>6685</td>\n",
       "      <td>89.857891</td>\n",
       "    </tr>\n",
       "  </tbody>\n",
       "</table>\n",
       "</div>"
      ],
      "text/plain": [
       "have_debt      Были задолжности  Не было задолжностей  Percentage_of_return\n",
       "have_children                                                              \n",
       "Нет детей                  1063                 13028             91.840651\n",
       "Есть дети                   678                  6685             89.857891"
      ]
     },
     "metadata": {},
     "output_type": "display_data"
    }
   ],
   "source": [
    "data_pivot = data.pivot_table(\n",
    "    index='have_children', \n",
    "    columns=['have_debt'], \n",
    "    values='debt', \n",
    "    aggfunc='count')\n",
    "\n",
    "data_pivot['Percentage_of_return'] = 100 - data_pivot['Были задолжности'] / data_pivot['Не было задолжностей'] * 100\n",
    "\n",
    "display(data_pivot.sort_values(by='Percentage_of_return', ascending=False))"
   ]
  },
  {
   "cell_type": "markdown",
   "id": "950d8ec5",
   "metadata": {},
   "source": [
    "**Вывод** <br>\n",
    "Таблица показывает: что те, у кого нет детей чаще возвращают кредит в срок, чем те, у кого есть."
   ]
  },
  {
   "cell_type": "markdown",
   "id": "48e6ab4c",
   "metadata": {},
   "source": [
    "## Есть ли зависимость между семейным положением и возвратом кредита в срок?"
   ]
  },
  {
   "cell_type": "code",
   "execution_count": 13,
   "id": "f82fa14a",
   "metadata": {},
   "outputs": [
    {
     "data": {
      "text/html": [
       "<div>\n",
       "<style scoped>\n",
       "    .dataframe tbody tr th:only-of-type {\n",
       "        vertical-align: middle;\n",
       "    }\n",
       "\n",
       "    .dataframe tbody tr th {\n",
       "        vertical-align: top;\n",
       "    }\n",
       "\n",
       "    .dataframe thead th {\n",
       "        text-align: right;\n",
       "    }\n",
       "</style>\n",
       "<table border=\"1\" class=\"dataframe\">\n",
       "  <thead>\n",
       "    <tr style=\"text-align: right;\">\n",
       "      <th>have_debt</th>\n",
       "      <th>Были задолжности</th>\n",
       "      <th>Не было задолжностей</th>\n",
       "      <th>Percentage_of_return</th>\n",
       "    </tr>\n",
       "    <tr>\n",
       "      <th>family_status</th>\n",
       "      <th></th>\n",
       "      <th></th>\n",
       "      <th></th>\n",
       "    </tr>\n",
       "  </thead>\n",
       "  <tbody>\n",
       "    <tr>\n",
       "      <th>вдовец / вдова</th>\n",
       "      <td>63</td>\n",
       "      <td>896</td>\n",
       "      <td>92.968750</td>\n",
       "    </tr>\n",
       "    <tr>\n",
       "      <th>в разводе</th>\n",
       "      <td>85</td>\n",
       "      <td>1110</td>\n",
       "      <td>92.342342</td>\n",
       "    </tr>\n",
       "    <tr>\n",
       "      <th>женат / замужем</th>\n",
       "      <td>931</td>\n",
       "      <td>11408</td>\n",
       "      <td>91.839060</td>\n",
       "    </tr>\n",
       "    <tr>\n",
       "      <th>гражданский брак</th>\n",
       "      <td>388</td>\n",
       "      <td>3763</td>\n",
       "      <td>89.689078</td>\n",
       "    </tr>\n",
       "    <tr>\n",
       "      <th>Не женат / не замужем</th>\n",
       "      <td>274</td>\n",
       "      <td>2536</td>\n",
       "      <td>89.195584</td>\n",
       "    </tr>\n",
       "  </tbody>\n",
       "</table>\n",
       "</div>"
      ],
      "text/plain": [
       "have_debt              Были задолжности  Не было задолжностей  \\\n",
       "family_status                                                   \n",
       "вдовец / вдова                       63                   896   \n",
       "в разводе                            85                  1110   \n",
       "женат / замужем                     931                 11408   \n",
       "гражданский брак                    388                  3763   \n",
       "Не женат / не замужем               274                  2536   \n",
       "\n",
       "have_debt              Percentage_of_return  \n",
       "family_status                                \n",
       "вдовец / вдова                    92.968750  \n",
       "в разводе                         92.342342  \n",
       "женат / замужем                   91.839060  \n",
       "гражданский брак                  89.689078  \n",
       "Не женат / не замужем             89.195584  "
      ]
     },
     "metadata": {},
     "output_type": "display_data"
    }
   ],
   "source": [
    "data_pivot = data.pivot_table(\n",
    "    index='family_status', \n",
    "    columns=['have_debt'], \n",
    "    values='debt', \n",
    "    aggfunc='count')\n",
    "\n",
    "# создаём дополнительную таблицу отношений между столбцами\n",
    "data_pivot['Percentage_of_return'] = 100 - data_pivot['Были задолжности'] / data_pivot['Не было задолжностей'] * 100\n",
    "\n",
    "\n",
    "display(data_pivot.sort_values(by='Percentage_of_return',ascending=False))"
   ]
  },
  {
   "cell_type": "markdown",
   "id": "27cf1384",
   "metadata": {},
   "source": [
    "**Вывод** <br>\n",
    "*Проанализировав таблицу можно сделать выводы:*\n",
    " - Люди, находящиеся не в браке, отдают кредит вовремя реже, чем все остальные. На предпоследнем месте находятся люди, состоящие в гражданском браке. \n",
    " - А овдовевшие граждане чаще остальных отдают кредит во время."
   ]
  },
  {
   "cell_type": "markdown",
   "id": "71a0eb0e",
   "metadata": {},
   "source": [
    "## Есть ли зависимость между уровнем дохода и возвратом кредита в срок?"
   ]
  },
  {
   "cell_type": "code",
   "execution_count": 14,
   "id": "749ed6b6",
   "metadata": {},
   "outputs": [
    {
     "data": {
      "text/html": [
       "<div>\n",
       "<style scoped>\n",
       "    .dataframe tbody tr th:only-of-type {\n",
       "        vertical-align: middle;\n",
       "    }\n",
       "\n",
       "    .dataframe tbody tr th {\n",
       "        vertical-align: top;\n",
       "    }\n",
       "\n",
       "    .dataframe thead th {\n",
       "        text-align: right;\n",
       "    }\n",
       "</style>\n",
       "<table border=\"1\" class=\"dataframe\">\n",
       "  <thead>\n",
       "    <tr style=\"text-align: right;\">\n",
       "      <th>have_debt</th>\n",
       "      <th>Были задолжности</th>\n",
       "      <th>Не было задолжностей</th>\n",
       "      <th>Percentage_of_return</th>\n",
       "    </tr>\n",
       "    <tr>\n",
       "      <th>income_level</th>\n",
       "      <th></th>\n",
       "      <th></th>\n",
       "      <th></th>\n",
       "    </tr>\n",
       "  </thead>\n",
       "  <tbody>\n",
       "    <tr>\n",
       "      <th>Богач</th>\n",
       "      <td>14</td>\n",
       "      <td>208</td>\n",
       "      <td>93.269231</td>\n",
       "    </tr>\n",
       "    <tr>\n",
       "      <th>Высокий доход</th>\n",
       "      <td>344</td>\n",
       "      <td>4500</td>\n",
       "      <td>92.355556</td>\n",
       "    </tr>\n",
       "    <tr>\n",
       "      <th>Низкий доход</th>\n",
       "      <td>136</td>\n",
       "      <td>1729</td>\n",
       "      <td>92.134182</td>\n",
       "    </tr>\n",
       "    <tr>\n",
       "      <th>Средний доход</th>\n",
       "      <td>1247</td>\n",
       "      <td>13276</td>\n",
       "      <td>90.607111</td>\n",
       "    </tr>\n",
       "  </tbody>\n",
       "</table>\n",
       "</div>"
      ],
      "text/plain": [
       "have_debt      Были задолжности  Не было задолжностей  Percentage_of_return\n",
       "income_level                                                               \n",
       "Богач                        14                   208             93.269231\n",
       "Высокий доход               344                  4500             92.355556\n",
       "Низкий доход                136                  1729             92.134182\n",
       "Средний доход              1247                 13276             90.607111"
      ]
     },
     "metadata": {},
     "output_type": "display_data"
    }
   ],
   "source": [
    "data_pivot = data.pivot_table(\n",
    "    index='income_level', \n",
    "    columns=['have_debt'], \n",
    "    values='debt', \n",
    "    aggfunc='count')\n",
    "\n",
    "# создаём дополнительную таблицу отношений между столбцами\n",
    "data_pivot['Percentage_of_return'] = 100 - data_pivot['Были задолжности'] / data_pivot['Не было задолжностей'] * 100\n",
    "\n",
    "display(data_pivot.sort_values(by='Percentage_of_return',ascending=False))"
   ]
  },
  {
   "cell_type": "markdown",
   "id": "ff5ee07b",
   "metadata": {},
   "source": [
    "**Вывод** <br>\n",
    "Видно, что богатые люди отдают кредит во время чаще остальных. А хуже всех отдают люди с средним доходом"
   ]
  },
  {
   "cell_type": "markdown",
   "id": "87b7df02",
   "metadata": {},
   "source": [
    "## Как разные цели кредита влияют на его возврат в срок?"
   ]
  },
  {
   "cell_type": "code",
   "execution_count": 15,
   "id": "8bd4f2db",
   "metadata": {
    "scrolled": true
   },
   "outputs": [
    {
     "data": {
      "text/html": [
       "<div>\n",
       "<style scoped>\n",
       "    .dataframe tbody tr th:only-of-type {\n",
       "        vertical-align: middle;\n",
       "    }\n",
       "\n",
       "    .dataframe tbody tr th {\n",
       "        vertical-align: top;\n",
       "    }\n",
       "\n",
       "    .dataframe thead th {\n",
       "        text-align: right;\n",
       "    }\n",
       "</style>\n",
       "<table border=\"1\" class=\"dataframe\">\n",
       "  <thead>\n",
       "    <tr style=\"text-align: right;\">\n",
       "      <th>have_debt</th>\n",
       "      <th>Были задолжности</th>\n",
       "      <th>Не было задолжностей</th>\n",
       "      <th>Percentage_of_return</th>\n",
       "    </tr>\n",
       "    <tr>\n",
       "      <th>purpose_category</th>\n",
       "      <th></th>\n",
       "      <th></th>\n",
       "      <th></th>\n",
       "    </tr>\n",
       "  </thead>\n",
       "  <tbody>\n",
       "    <tr>\n",
       "      <th>недвижимость</th>\n",
       "      <td>782</td>\n",
       "      <td>10029</td>\n",
       "      <td>92.202612</td>\n",
       "    </tr>\n",
       "    <tr>\n",
       "      <th>свадьба</th>\n",
       "      <td>186</td>\n",
       "      <td>2138</td>\n",
       "      <td>91.300281</td>\n",
       "    </tr>\n",
       "    <tr>\n",
       "      <th>образование</th>\n",
       "      <td>370</td>\n",
       "      <td>3643</td>\n",
       "      <td>89.843536</td>\n",
       "    </tr>\n",
       "    <tr>\n",
       "      <th>автомобиль</th>\n",
       "      <td>403</td>\n",
       "      <td>3903</td>\n",
       "      <td>89.674609</td>\n",
       "    </tr>\n",
       "  </tbody>\n",
       "</table>\n",
       "</div>"
      ],
      "text/plain": [
       "have_debt         Были задолжности  Не было задолжностей  Percentage_of_return\n",
       "purpose_category                                                              \n",
       "недвижимость                   782                 10029             92.202612\n",
       "свадьба                        186                  2138             91.300281\n",
       "образование                    370                  3643             89.843536\n",
       "автомобиль                     403                  3903             89.674609"
      ]
     },
     "metadata": {},
     "output_type": "display_data"
    }
   ],
   "source": [
    "data_pivot = data.pivot_table(\n",
    "    index='purpose_category', \n",
    "    columns=['have_debt'], \n",
    "    values='debt', \n",
    "    aggfunc='count')\n",
    "\n",
    "data_pivot['Percentage_of_return'] = 100 - data_pivot['Были задолжности'] / data_pivot['Не было задолжностей'] * 100\n",
    "\n",
    "display(data_pivot.sort_values(by='Percentage_of_return',ascending=False))"
   ]
  },
  {
   "cell_type": "markdown",
   "id": "2697d659",
   "metadata": {},
   "source": [
    "**Вывод** <br>\n",
    "Кредиты на недвижимость возвращают во время, а кредиты на автомобиль реже других. "
   ]
  },
  {
   "cell_type": "markdown",
   "id": "24f4b8b2",
   "metadata": {},
   "source": [
    "# Общий вывод"
   ]
  },
  {
   "cell_type": "markdown",
   "id": "f6cd1d6d",
   "metadata": {},
   "source": [
    "Резюмирую <br>\n",
    "Вопрос изначально был поставлен такой: \"Влияет ли семейное положение и количество детей клиента на факт погашения кредита в срок\".<br>\n",
    "Про анализировав таблицу можно сделать такие выводы:\n",
    " - Семейное положение влияет на факт погашения кредита в срок: Люди находящиеся НЕ в браке реже остальных возвращают кредит в срок, что удивительно. Люди, находящиеся в браке возвращают кредит не чаще и не реже других. А вот как оказалось оводовевшие граждане чаще всех остальных погашают кредит в срок.\n",
    " - Наличие детей также влияет на факт погашения кредита в срок: Клиенты у которых есть дети реже возвращают кредит в срок."
   ]
  },
  {
   "cell_type": "code",
   "execution_count": null,
   "id": "5c05f870",
   "metadata": {},
   "outputs": [],
   "source": []
  }
 ],
 "metadata": {
  "ExecuteTimeLog": [
   {
    "duration": 43,
    "start_time": "2022-04-02T20:52:50.159Z"
   },
   {
    "duration": 364,
    "start_time": "2022-04-02T20:52:53.001Z"
   },
   {
    "duration": 95,
    "start_time": "2022-04-02T20:52:53.366Z"
   },
   {
    "duration": 23,
    "start_time": "2022-04-02T20:52:53.463Z"
   },
   {
    "duration": 26,
    "start_time": "2022-04-02T20:52:53.488Z"
   },
   {
    "duration": 41,
    "start_time": "2022-04-02T20:52:53.516Z"
   },
   {
    "duration": 4692,
    "start_time": "2022-04-02T20:52:53.558Z"
   },
   {
    "duration": 438,
    "start_time": "2022-04-02T20:52:58.252Z"
   },
   {
    "duration": 7,
    "start_time": "2022-04-02T20:52:58.692Z"
   },
   {
    "duration": 24,
    "start_time": "2022-04-02T20:52:58.700Z"
   },
   {
    "duration": 19,
    "start_time": "2022-04-02T20:52:58.726Z"
   },
   {
    "duration": 42,
    "start_time": "2022-04-02T20:52:58.746Z"
   },
   {
    "duration": 17,
    "start_time": "2022-04-02T20:52:58.790Z"
   },
   {
    "duration": 18,
    "start_time": "2022-04-02T20:52:58.809Z"
   },
   {
    "duration": 16,
    "start_time": "2022-04-02T21:03:35.263Z"
   },
   {
    "duration": 21,
    "start_time": "2022-04-02T21:03:43.449Z"
   },
   {
    "duration": 77,
    "start_time": "2022-04-02T21:03:43.472Z"
   },
   {
    "duration": 23,
    "start_time": "2022-04-02T21:03:43.551Z"
   },
   {
    "duration": 412,
    "start_time": "2022-04-02T21:03:59.349Z"
   },
   {
    "duration": 84,
    "start_time": "2022-04-02T21:03:59.763Z"
   },
   {
    "duration": 25,
    "start_time": "2022-04-02T21:03:59.848Z"
   },
   {
    "duration": 68,
    "start_time": "2022-04-02T21:04:38.380Z"
   },
   {
    "duration": 380,
    "start_time": "2022-04-02T21:04:59.440Z"
   },
   {
    "duration": 82,
    "start_time": "2022-04-02T21:04:59.822Z"
   },
   {
    "duration": 23,
    "start_time": "2022-04-02T21:04:59.906Z"
   },
   {
    "duration": 80,
    "start_time": "2022-04-02T21:04:59.930Z"
   },
   {
    "duration": 15,
    "start_time": "2022-04-02T21:05:04.158Z"
   },
   {
    "duration": 29,
    "start_time": "2022-04-02T21:05:31.464Z"
   },
   {
    "duration": 28,
    "start_time": "2022-04-02T21:05:39.697Z"
   },
   {
    "duration": 15,
    "start_time": "2022-04-02T21:05:44.618Z"
   },
   {
    "duration": 3,
    "start_time": "2022-04-02T21:05:50.952Z"
   },
   {
    "duration": 83,
    "start_time": "2022-04-02T21:05:50.956Z"
   },
   {
    "duration": 25,
    "start_time": "2022-04-02T21:05:51.041Z"
   },
   {
    "duration": 26,
    "start_time": "2022-04-02T21:05:51.067Z"
   },
   {
    "duration": 28,
    "start_time": "2022-04-02T21:06:31.675Z"
   },
   {
    "duration": 3,
    "start_time": "2022-04-02T21:06:36.218Z"
   },
   {
    "duration": 79,
    "start_time": "2022-04-02T21:06:36.223Z"
   },
   {
    "duration": 23,
    "start_time": "2022-04-02T21:06:36.304Z"
   },
   {
    "duration": 28,
    "start_time": "2022-04-02T21:06:36.328Z"
   },
   {
    "duration": 17,
    "start_time": "2022-04-02T21:08:27.149Z"
   },
   {
    "duration": 11,
    "start_time": "2022-04-02T21:08:33.059Z"
   },
   {
    "duration": 18,
    "start_time": "2022-04-02T21:08:40.886Z"
   },
   {
    "duration": 31,
    "start_time": "2022-04-02T21:08:57.329Z"
   },
   {
    "duration": 11,
    "start_time": "2022-04-02T21:09:02.405Z"
   },
   {
    "duration": 17,
    "start_time": "2022-04-02T21:09:02.576Z"
   },
   {
    "duration": 31,
    "start_time": "2022-04-02T21:09:03.165Z"
   },
   {
    "duration": 375,
    "start_time": "2022-04-02T21:12:49.185Z"
   },
   {
    "duration": 83,
    "start_time": "2022-04-02T21:12:49.562Z"
   },
   {
    "duration": 25,
    "start_time": "2022-04-02T21:12:49.646Z"
   },
   {
    "duration": 34,
    "start_time": "2022-04-02T21:12:49.673Z"
   },
   {
    "duration": 17,
    "start_time": "2022-04-02T21:12:49.709Z"
   },
   {
    "duration": 16,
    "start_time": "2022-04-02T21:12:49.728Z"
   },
   {
    "duration": 50,
    "start_time": "2022-04-02T21:12:49.746Z"
   },
   {
    "duration": 46,
    "start_time": "2022-04-02T21:12:49.797Z"
   },
   {
    "duration": 3928,
    "start_time": "2022-04-02T21:12:49.844Z"
   },
   {
    "duration": 423,
    "start_time": "2022-04-02T21:12:53.782Z"
   },
   {
    "duration": 7,
    "start_time": "2022-04-02T21:12:54.206Z"
   },
   {
    "duration": 23,
    "start_time": "2022-04-02T21:12:54.214Z"
   },
   {
    "duration": 42,
    "start_time": "2022-04-02T21:12:54.239Z"
   },
   {
    "duration": 18,
    "start_time": "2022-04-02T21:12:54.283Z"
   },
   {
    "duration": 17,
    "start_time": "2022-04-02T21:12:54.302Z"
   }
  ],
  "kernelspec": {
   "display_name": "Python 3 (ipykernel)",
   "language": "python",
   "name": "python3"
  },
  "language_info": {
   "codemirror_mode": {
    "name": "ipython",
    "version": 3
   },
   "file_extension": ".py",
   "mimetype": "text/x-python",
   "name": "python",
   "nbconvert_exporter": "python",
   "pygments_lexer": "ipython3",
   "version": "3.9.5"
  },
  "toc": {
   "base_numbering": 1,
   "nav_menu": {},
   "number_sections": true,
   "sideBar": true,
   "skip_h1_title": false,
   "title_cell": "Table of Contents",
   "title_sidebar": "Contents",
   "toc_cell": false,
   "toc_position": {
    "height": "calc(100% - 180px)",
    "left": "10px",
    "top": "150px",
    "width": "298.792px"
   },
   "toc_section_display": true,
   "toc_window_display": true
  }
 },
 "nbformat": 4,
 "nbformat_minor": 5
}
