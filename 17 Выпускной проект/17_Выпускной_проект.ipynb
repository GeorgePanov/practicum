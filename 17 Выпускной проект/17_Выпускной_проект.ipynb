{
 "cells": [
  {
   "cell_type": "markdown",
   "metadata": {
    "toc": true
   },
   "source": [
    "<h1>Table of Contents<span class=\"tocSkip\"></span></h1>\n",
    "<div class=\"toc\"><ul class=\"toc-item\"><li><span><a href=\"#Промышленность-—-задача-проекта\" data-toc-modified-id=\"Промышленность-—-задача-проекта-1\"><span class=\"toc-item-num\">1&nbsp;&nbsp;</span>Промышленность — задача проекта</a></span><ul class=\"toc-item\"><li><span><a href=\"#Описание-этапа-обработки\" data-toc-modified-id=\"Описание-этапа-обработки-1.1\"><span class=\"toc-item-num\">1.1&nbsp;&nbsp;</span>Описание этапа обработки</a></span></li><li><span><a href=\"#Описание-данных\" data-toc-modified-id=\"Описание-данных-1.2\"><span class=\"toc-item-num\">1.2&nbsp;&nbsp;</span>Описание данных</a></span></li><li><span><a href=\"#План-работы:\" data-toc-modified-id=\"План-работы:-1.3\"><span class=\"toc-item-num\">1.3&nbsp;&nbsp;</span>План работы:</a></span></li></ul></li><li><span><a href=\"#Извлечение-и-анализ-данных\" data-toc-modified-id=\"Извлечение-и-анализ-данных-2\"><span class=\"toc-item-num\">2&nbsp;&nbsp;</span>Извлечение и анализ данных</a></span><ul class=\"toc-item\"><li><span><a href=\"#data_arc---Данные-об-электродах\" data-toc-modified-id=\"data_arc---Данные-об-электродах-2.1\"><span class=\"toc-item-num\">2.1&nbsp;&nbsp;</span><code>data_arc</code> - Данные об электродах</a></span></li><li><span><a href=\"#data_bulk---данные-о-подаче-сыпучих-материалов-(объём)\" data-toc-modified-id=\"data_bulk---данные-о-подаче-сыпучих-материалов-(объём)-2.2\"><span class=\"toc-item-num\">2.2&nbsp;&nbsp;</span><code>data_bulk</code> - данные о подаче сыпучих материалов (объём)</a></span></li><li><span><a href=\"#data_bulk_time---данные-о-подаче-сыпучих-материалов-(время)\" data-toc-modified-id=\"data_bulk_time---данные-о-подаче-сыпучих-материалов-(время)-2.3\"><span class=\"toc-item-num\">2.3&nbsp;&nbsp;</span><code>data_bulk_time</code> - данные о подаче сыпучих материалов (время)</a></span></li><li><span><a href=\"#data_gas---данные-о-продувке-сплава-газом\" data-toc-modified-id=\"data_gas---данные-о-продувке-сплава-газом-2.4\"><span class=\"toc-item-num\">2.4&nbsp;&nbsp;</span><code>data_gas</code> - данные о продувке сплава газом</a></span></li><li><span><a href=\"#data_temp---результаты-измерения-температуры\" data-toc-modified-id=\"data_temp---результаты-измерения-температуры-2.5\"><span class=\"toc-item-num\">2.5&nbsp;&nbsp;</span><code>data_temp</code> - результаты измерения температуры</a></span></li><li><span><a href=\"#data_wire---данные-о-проволочных-материалах-(объём)\" data-toc-modified-id=\"data_wire---данные-о-проволочных-материалах-(объём)-2.6\"><span class=\"toc-item-num\">2.6&nbsp;&nbsp;</span><code>data_wire</code> - данные о проволочных материалах (объём)</a></span></li><li><span><a href=\"#data_wire_time---данные-о-проволочных-материалах-(время)\" data-toc-modified-id=\"data_wire_time---данные-о-проволочных-материалах-(время)-2.7\"><span class=\"toc-item-num\">2.7&nbsp;&nbsp;</span><code>data_wire_time</code> - данные о проволочных материалах (время)</a></span></li><li><span><a href=\"#Вывод\" data-toc-modified-id=\"Вывод-2.8\"><span class=\"toc-item-num\">2.8&nbsp;&nbsp;</span>Вывод</a></span></li></ul></li><li><span><a href=\"#Предобработка-данных\" data-toc-modified-id=\"Предобработка-данных-3\"><span class=\"toc-item-num\">3&nbsp;&nbsp;</span>Предобработка данных</a></span><ul class=\"toc-item\"><li><span><a href=\"#data_arc\" data-toc-modified-id=\"data_arc-3.1\"><span class=\"toc-item-num\">3.1&nbsp;&nbsp;</span><code>data_arc</code></a></span></li><li><span><a href=\"#data_temp\" data-toc-modified-id=\"data_temp-3.2\"><span class=\"toc-item-num\">3.2&nbsp;&nbsp;</span><code>data_temp</code></a></span></li><li><span><a href=\"#Объединение-таблиц\" data-toc-modified-id=\"Объединение-таблиц-3.3\"><span class=\"toc-item-num\">3.3&nbsp;&nbsp;</span>Объединение таблиц</a></span></li><li><span><a href=\"#Проверим-на-корреляцию\" data-toc-modified-id=\"Проверим-на-корреляцию-3.4\"><span class=\"toc-item-num\">3.4&nbsp;&nbsp;</span>Проверим на корреляцию</a></span></li><li><span><a href=\"#Делим-на-выборки\" data-toc-modified-id=\"Делим-на-выборки-3.5\"><span class=\"toc-item-num\">3.5&nbsp;&nbsp;</span>Делим на выборки</a></span></li></ul></li><li><span><a href=\"#Обучаем-модель\" data-toc-modified-id=\"Обучаем-модель-4\"><span class=\"toc-item-num\">4&nbsp;&nbsp;</span>Обучаем модель</a></span><ul class=\"toc-item\"><li><span><a href=\"#Функция\" data-toc-modified-id=\"Функция-4.1\"><span class=\"toc-item-num\">4.1&nbsp;&nbsp;</span>Функция</a></span></li><li><span><a href=\"#Запуск-функции\" data-toc-modified-id=\"Запуск-функции-4.2\"><span class=\"toc-item-num\">4.2&nbsp;&nbsp;</span>Запуск функции</a></span></li><li><span><a href=\"#Лучшая-модель\" data-toc-modified-id=\"Лучшая-модель-4.3\"><span class=\"toc-item-num\">4.3&nbsp;&nbsp;</span>Лучшая модель</a></span></li></ul></li><li><span><a href=\"#Отчёт-по-решению\" data-toc-modified-id=\"Отчёт-по-решению-5\"><span class=\"toc-item-num\">5&nbsp;&nbsp;</span>Отчёт по решению</a></span><ul class=\"toc-item\"><li><span><a href=\"#Какие-пункты-плана-были-выполнены,-а-какие-—-нет?\" data-toc-modified-id=\"Какие-пункты-плана-были-выполнены,-а-какие-—-нет?-5.1\"><span class=\"toc-item-num\">5.1&nbsp;&nbsp;</span>Какие пункты плана были выполнены, а какие — нет?</a></span></li><li><span><a href=\"#Какие-трудности-возникли-и-как-вы-их-преодолели?\" data-toc-modified-id=\"Какие-трудности-возникли-и-как-вы-их-преодолели?-5.2\"><span class=\"toc-item-num\">5.2&nbsp;&nbsp;</span>Какие трудности возникли и как вы их преодолели?</a></span></li><li><span><a href=\"#Какие-ключевые-шаги-в-решении-задачи-выделили?\" data-toc-modified-id=\"Какие-ключевые-шаги-в-решении-задачи-выделили?-5.3\"><span class=\"toc-item-num\">5.3&nbsp;&nbsp;</span>Какие ключевые шаги в решении задачи выделили?</a></span></li><li><span><a href=\"#Какая-ваша-итоговая-модель-и-какое-у-неё-качество?\" data-toc-modified-id=\"Какая-ваша-итоговая-модель-и-какое-у-неё-качество?-5.4\"><span class=\"toc-item-num\">5.4&nbsp;&nbsp;</span>Какая ваша итоговая модель и какое у неё качество?</a></span></li></ul></li></ul></div>"
   ]
  },
  {
   "cell_type": "markdown",
   "metadata": {},
   "source": [
    "## Промышленность — задача проекта\n",
    "\n",
    "Чтобы оптимизировать производственные расходы, металлургический комбинат ООО «Так закаляем сталь» решил уменьшить потребление электроэнергии на этапе обработки стали. Вам предстоит построить модель, которая предскажет температуру стали.\n",
    "\n",
    "### Описание этапа обработки\n",
    "\n",
    "Сталь обрабатывают в металлическом ковше вместимостью около 100 тонн. Чтобы ковш выдерживал высокие температуры, изнутри его облицовывают огнеупорным кирпичом. Расплавленную сталь заливают в ковш и подогревают до нужной температуры графитовыми электродами. Они установлены в крышке ковша. \n",
    "\n",
    "Из сплава выводится сера (десульфурация), добавлением примесей корректируется химический состав и отбираются пробы. Сталь легируют — изменяют её состав — подавая куски сплава из бункера для сыпучих материалов или проволоку через специальный трайб-аппарат (англ. tribe, «масса»).\n",
    "\n",
    "Перед тем как первый раз ввести легирующие добавки, измеряют температуру стали и производят её химический анализ. Потом температуру на несколько минут повышают, добавляют легирующие материалы и продувают сплав инертным газом. Затем его перемешивают и снова проводят измерения. Такой цикл повторяется до достижения целевого химического состава и оптимальной температуры плавки.\n",
    "\n",
    "Тогда расплавленная сталь отправляется на доводку металла или поступает в машину непрерывной разливки. Оттуда готовый продукт выходит в виде заготовок-слябов (англ. *slab*, «плита»).\n",
    "\n",
    "### Описание данных\n",
    "\n",
    "Данные состоят из файлов, полученных из разных источников:\n",
    "\n",
    "- `data_arc.csv` — данные об электродах;\n",
    "- `data_bulk.csv` — данные о подаче сыпучих материалов (объём);\n",
    "- `data_bulk_time.csv` *—* данные о подаче сыпучих материалов (время);\n",
    "- `data_gas.csv` — данные о продувке сплава газом;\n",
    "- `data_temp.csv` — результаты измерения температуры;\n",
    "- `data_wire.csv` — данные о проволочных материалах (объём);\n",
    "- `data_wire_time.csv` — данные о проволочных материалах (время).\n",
    "\n",
    "Во всех файлах столбец `key` содержит номер партии. В файлах может быть несколько строк с одинаковым значением `key`: они соответствуют разным итерациям обработки."
   ]
  },
  {
   "cell_type": "markdown",
   "metadata": {},
   "source": [
    "### План работы:\n",
    "\n",
    "- Импортируем данные, \n",
    "- Проведём анализ данных\n",
    "- Проведём предобработку данных\n",
    "\n",
    "- Подготоим данные:\n",
    "    - Определим какие признаки нужны нам для модели\n",
    "    - Удалим ненужные данные\n",
    "\n",
    "- Соединим таблицы в одну по признаку `key`\n",
    "- Будем использовать градиентный бустинг для подбора нужных параметров\n",
    "- Сравним полученные результаты наших моделей и выделим лучшую\n",
    "- Проверим на тестовой выборке\n",
    "- Напишем отчет"
   ]
  },
  {
   "cell_type": "markdown",
   "metadata": {},
   "source": [
    "## Извлечение и анализ данных"
   ]
  },
  {
   "cell_type": "code",
   "execution_count": 1,
   "metadata": {},
   "outputs": [],
   "source": [
    "import pandas as pd\n",
    "import numpy as np\n",
    "import seaborn as sns\n",
    "import matplotlib.pyplot as plt\n",
    "\n",
    "from sklearn.model_selection import train_test_split\n",
    "from sklearn.model_selection import GridSearchCV\n",
    "from sklearn.model_selection import cross_val_score\n",
    "from sklearn.metrics import mean_absolute_error\n",
    "from sklearn.preprocessing import MinMaxScaler\n",
    "from sklearn.preprocessing import StandardScaler\n",
    "\n",
    "from sklearn.linear_model import LinearRegression\n",
    "import lightgbm as lgb\n",
    "from catboost import CatBoostRegressor\n",
    "\n",
    "import warnings\n",
    "warnings.filterwarnings('ignore')\n",
    "# константа для random_state\n",
    "rds=250722"
   ]
  },
  {
   "cell_type": "code",
   "execution_count": 2,
   "metadata": {},
   "outputs": [],
   "source": [
    "try:\n",
    "    data_arc = pd.read_csv('/datasets/final_steel/data_arc.csv')\n",
    "    data_bulk = pd.read_csv('/datasets/final_steel/data_bulk.csv')\n",
    "    data_bulk_time = pd.read_csv('/datasets/final_steel/data_bulk_time.csv')\n",
    "    data_gas = pd.read_csv('/datasets/final_steel/data_gas.csv')\n",
    "    data_temp = pd.read_csv('/datasets/final_steel/data_temp.csv')\n",
    "    data_wire = pd.read_csv('/datasets/final_steel/data_wire.csv')\n",
    "    data_wire_time = pd.read_csv('/datasets/final_steel/data_wire_time.csv')\n",
    "except:\n",
    "    data_arc = pd.read_csv(r\"C:\\Users\\George\\Мой диск\\3 Практикум\\2 Проекты\\17 Выпускной проект\\final_steel\\data_arc.csv\")\n",
    "    data_bulk = pd.read_csv(r\"C:\\Users\\George\\Мой диск\\3 Практикум\\2 Проекты\\17 Выпускной проект\\final_steel\\data_bulk.csv\")\n",
    "    data_bulk_time = pd.read_csv(r\"C:\\Users\\George\\Мой диск\\3 Практикум\\2 Проекты\\17 Выпускной проект\\final_steel\\data_bulk_time.csv\")\n",
    "    data_gas = pd.read_csv(r\"C:\\Users\\George\\Мой диск\\3 Практикум\\2 Проекты\\17 Выпускной проект\\final_steel\\data_gas.csv\")\n",
    "    data_temp = pd.read_csv(r\"C:\\Users\\George\\Мой диск\\3 Практикум\\2 Проекты\\17 Выпускной проект\\final_steel\\data_temp.csv\")\n",
    "    data_wire = pd.read_csv(r\"C:\\Users\\George\\Мой диск\\3 Практикум\\2 Проекты\\17 Выпускной проект\\final_steel\\data_wire.csv\")\n",
    "    data_wire_time = pd.read_csv(r\"C:\\Users\\George\\Мой диск\\3 Практикум\\2 Проекты\\17 Выпускной проект\\final_steel\\data_wire_time.csv\")"
   ]
  },
  {
   "cell_type": "code",
   "execution_count": 3,
   "metadata": {},
   "outputs": [],
   "source": [
    "# функция для анализа таблицы\n",
    "def data_info(data):\n",
    "    display(data.head(10))\n",
    "    display(data.info())\n",
    "    display(data.describe())\n",
    "    print(f'Количество дубликатов - {data.duplicated().sum()} \\n')\n",
    "#     корреляция\n",
    "    corr = data.corr()\n",
    "    display(corr.style.background_gradient(cmap='coolwarm').set_precision(2))\n"
   ]
  },
  {
   "cell_type": "markdown",
   "metadata": {},
   "source": [
    "### `data_arc` - Данные об электродах"
   ]
  },
  {
   "cell_type": "code",
   "execution_count": 4,
   "metadata": {
    "scrolled": false
   },
   "outputs": [
    {
     "data": {
      "text/html": [
       "<div>\n",
       "<style scoped>\n",
       "    .dataframe tbody tr th:only-of-type {\n",
       "        vertical-align: middle;\n",
       "    }\n",
       "\n",
       "    .dataframe tbody tr th {\n",
       "        vertical-align: top;\n",
       "    }\n",
       "\n",
       "    .dataframe thead th {\n",
       "        text-align: right;\n",
       "    }\n",
       "</style>\n",
       "<table border=\"1\" class=\"dataframe\">\n",
       "  <thead>\n",
       "    <tr style=\"text-align: right;\">\n",
       "      <th></th>\n",
       "      <th>key</th>\n",
       "      <th>Начало нагрева дугой</th>\n",
       "      <th>Конец нагрева дугой</th>\n",
       "      <th>Активная мощность</th>\n",
       "      <th>Реактивная мощность</th>\n",
       "    </tr>\n",
       "  </thead>\n",
       "  <tbody>\n",
       "    <tr>\n",
       "      <th>0</th>\n",
       "      <td>1</td>\n",
       "      <td>2019-05-03 11:02:14</td>\n",
       "      <td>2019-05-03 11:06:02</td>\n",
       "      <td>0.976059</td>\n",
       "      <td>0.687084</td>\n",
       "    </tr>\n",
       "    <tr>\n",
       "      <th>1</th>\n",
       "      <td>1</td>\n",
       "      <td>2019-05-03 11:07:28</td>\n",
       "      <td>2019-05-03 11:10:33</td>\n",
       "      <td>0.805607</td>\n",
       "      <td>0.520285</td>\n",
       "    </tr>\n",
       "    <tr>\n",
       "      <th>2</th>\n",
       "      <td>1</td>\n",
       "      <td>2019-05-03 11:11:44</td>\n",
       "      <td>2019-05-03 11:14:36</td>\n",
       "      <td>0.744363</td>\n",
       "      <td>0.498805</td>\n",
       "    </tr>\n",
       "    <tr>\n",
       "      <th>3</th>\n",
       "      <td>1</td>\n",
       "      <td>2019-05-03 11:18:14</td>\n",
       "      <td>2019-05-03 11:24:19</td>\n",
       "      <td>1.659363</td>\n",
       "      <td>1.062669</td>\n",
       "    </tr>\n",
       "    <tr>\n",
       "      <th>4</th>\n",
       "      <td>1</td>\n",
       "      <td>2019-05-03 11:26:09</td>\n",
       "      <td>2019-05-03 11:28:37</td>\n",
       "      <td>0.692755</td>\n",
       "      <td>0.414397</td>\n",
       "    </tr>\n",
       "    <tr>\n",
       "      <th>5</th>\n",
       "      <td>2</td>\n",
       "      <td>2019-05-03 11:34:14</td>\n",
       "      <td>2019-05-03 11:36:31</td>\n",
       "      <td>0.438063</td>\n",
       "      <td>0.283043</td>\n",
       "    </tr>\n",
       "    <tr>\n",
       "      <th>6</th>\n",
       "      <td>2</td>\n",
       "      <td>2019-05-03 11:38:50</td>\n",
       "      <td>2019-05-03 11:44:28</td>\n",
       "      <td>1.296415</td>\n",
       "      <td>0.892914</td>\n",
       "    </tr>\n",
       "    <tr>\n",
       "      <th>7</th>\n",
       "      <td>2</td>\n",
       "      <td>2019-05-03 11:46:19</td>\n",
       "      <td>2019-05-03 11:48:25</td>\n",
       "      <td>0.490377</td>\n",
       "      <td>0.305281</td>\n",
       "    </tr>\n",
       "    <tr>\n",
       "      <th>8</th>\n",
       "      <td>2</td>\n",
       "      <td>2019-05-03 11:49:48</td>\n",
       "      <td>2019-05-03 11:53:18</td>\n",
       "      <td>0.827743</td>\n",
       "      <td>0.516874</td>\n",
       "    </tr>\n",
       "    <tr>\n",
       "      <th>9</th>\n",
       "      <td>3</td>\n",
       "      <td>2019-05-03 12:06:54</td>\n",
       "      <td>2019-05-03 12:11:34</td>\n",
       "      <td>1.062053</td>\n",
       "      <td>0.671494</td>\n",
       "    </tr>\n",
       "  </tbody>\n",
       "</table>\n",
       "</div>"
      ],
      "text/plain": [
       "   key Начало нагрева дугой  Конец нагрева дугой  Активная мощность  \\\n",
       "0    1  2019-05-03 11:02:14  2019-05-03 11:06:02           0.976059   \n",
       "1    1  2019-05-03 11:07:28  2019-05-03 11:10:33           0.805607   \n",
       "2    1  2019-05-03 11:11:44  2019-05-03 11:14:36           0.744363   \n",
       "3    1  2019-05-03 11:18:14  2019-05-03 11:24:19           1.659363   \n",
       "4    1  2019-05-03 11:26:09  2019-05-03 11:28:37           0.692755   \n",
       "5    2  2019-05-03 11:34:14  2019-05-03 11:36:31           0.438063   \n",
       "6    2  2019-05-03 11:38:50  2019-05-03 11:44:28           1.296415   \n",
       "7    2  2019-05-03 11:46:19  2019-05-03 11:48:25           0.490377   \n",
       "8    2  2019-05-03 11:49:48  2019-05-03 11:53:18           0.827743   \n",
       "9    3  2019-05-03 12:06:54  2019-05-03 12:11:34           1.062053   \n",
       "\n",
       "   Реактивная мощность  \n",
       "0             0.687084  \n",
       "1             0.520285  \n",
       "2             0.498805  \n",
       "3             1.062669  \n",
       "4             0.414397  \n",
       "5             0.283043  \n",
       "6             0.892914  \n",
       "7             0.305281  \n",
       "8             0.516874  \n",
       "9             0.671494  "
      ]
     },
     "metadata": {},
     "output_type": "display_data"
    },
    {
     "name": "stdout",
     "output_type": "stream",
     "text": [
      "<class 'pandas.core.frame.DataFrame'>\n",
      "RangeIndex: 14876 entries, 0 to 14875\n",
      "Data columns (total 5 columns):\n",
      " #   Column                Non-Null Count  Dtype  \n",
      "---  ------                --------------  -----  \n",
      " 0   key                   14876 non-null  int64  \n",
      " 1   Начало нагрева дугой  14876 non-null  object \n",
      " 2   Конец нагрева дугой   14876 non-null  object \n",
      " 3   Активная мощность     14876 non-null  float64\n",
      " 4   Реактивная мощность   14876 non-null  float64\n",
      "dtypes: float64(2), int64(1), object(2)\n",
      "memory usage: 581.2+ KB\n"
     ]
    },
    {
     "data": {
      "text/plain": [
       "None"
      ]
     },
     "metadata": {},
     "output_type": "display_data"
    },
    {
     "data": {
      "text/html": [
       "<div>\n",
       "<style scoped>\n",
       "    .dataframe tbody tr th:only-of-type {\n",
       "        vertical-align: middle;\n",
       "    }\n",
       "\n",
       "    .dataframe tbody tr th {\n",
       "        vertical-align: top;\n",
       "    }\n",
       "\n",
       "    .dataframe thead th {\n",
       "        text-align: right;\n",
       "    }\n",
       "</style>\n",
       "<table border=\"1\" class=\"dataframe\">\n",
       "  <thead>\n",
       "    <tr style=\"text-align: right;\">\n",
       "      <th></th>\n",
       "      <th>key</th>\n",
       "      <th>Активная мощность</th>\n",
       "      <th>Реактивная мощность</th>\n",
       "    </tr>\n",
       "  </thead>\n",
       "  <tbody>\n",
       "    <tr>\n",
       "      <th>count</th>\n",
       "      <td>14876.000000</td>\n",
       "      <td>14876.000000</td>\n",
       "      <td>14876.000000</td>\n",
       "    </tr>\n",
       "    <tr>\n",
       "      <th>mean</th>\n",
       "      <td>1615.220422</td>\n",
       "      <td>0.670441</td>\n",
       "      <td>0.452592</td>\n",
       "    </tr>\n",
       "    <tr>\n",
       "      <th>std</th>\n",
       "      <td>934.571502</td>\n",
       "      <td>0.408159</td>\n",
       "      <td>5.878702</td>\n",
       "    </tr>\n",
       "    <tr>\n",
       "      <th>min</th>\n",
       "      <td>1.000000</td>\n",
       "      <td>0.030002</td>\n",
       "      <td>-715.504924</td>\n",
       "    </tr>\n",
       "    <tr>\n",
       "      <th>25%</th>\n",
       "      <td>806.000000</td>\n",
       "      <td>0.395297</td>\n",
       "      <td>0.290991</td>\n",
       "    </tr>\n",
       "    <tr>\n",
       "      <th>50%</th>\n",
       "      <td>1617.000000</td>\n",
       "      <td>0.555517</td>\n",
       "      <td>0.415962</td>\n",
       "    </tr>\n",
       "    <tr>\n",
       "      <th>75%</th>\n",
       "      <td>2429.000000</td>\n",
       "      <td>0.857034</td>\n",
       "      <td>0.637371</td>\n",
       "    </tr>\n",
       "    <tr>\n",
       "      <th>max</th>\n",
       "      <td>3241.000000</td>\n",
       "      <td>3.731596</td>\n",
       "      <td>2.676388</td>\n",
       "    </tr>\n",
       "  </tbody>\n",
       "</table>\n",
       "</div>"
      ],
      "text/plain": [
       "                key  Активная мощность  Реактивная мощность\n",
       "count  14876.000000       14876.000000         14876.000000\n",
       "mean    1615.220422           0.670441             0.452592\n",
       "std      934.571502           0.408159             5.878702\n",
       "min        1.000000           0.030002          -715.504924\n",
       "25%      806.000000           0.395297             0.290991\n",
       "50%     1617.000000           0.555517             0.415962\n",
       "75%     2429.000000           0.857034             0.637371\n",
       "max     3241.000000           3.731596             2.676388"
      ]
     },
     "metadata": {},
     "output_type": "display_data"
    },
    {
     "name": "stdout",
     "output_type": "stream",
     "text": [
      "Количество дубликатов - 0 \n",
      "\n"
     ]
    },
    {
     "data": {
      "text/html": [
       "<style type=\"text/css\">\n",
       "#T_15cdd_row0_col0, #T_15cdd_row1_col1, #T_15cdd_row2_col2 {\n",
       "  background-color: #b40426;\n",
       "  color: #f1f1f1;\n",
       "}\n",
       "#T_15cdd_row0_col1, #T_15cdd_row0_col2, #T_15cdd_row1_col0 {\n",
       "  background-color: #3b4cc0;\n",
       "  color: #f1f1f1;\n",
       "}\n",
       "#T_15cdd_row1_col2 {\n",
       "  background-color: #4b64d5;\n",
       "  color: #f1f1f1;\n",
       "}\n",
       "#T_15cdd_row2_col0 {\n",
       "  background-color: #3f53c6;\n",
       "  color: #f1f1f1;\n",
       "}\n",
       "#T_15cdd_row2_col1 {\n",
       "  background-color: #516ddb;\n",
       "  color: #f1f1f1;\n",
       "}\n",
       "</style>\n",
       "<table id=\"T_15cdd_\">\n",
       "  <thead>\n",
       "    <tr>\n",
       "      <th class=\"blank level0\" >&nbsp;</th>\n",
       "      <th class=\"col_heading level0 col0\" >key</th>\n",
       "      <th class=\"col_heading level0 col1\" >Активная мощность</th>\n",
       "      <th class=\"col_heading level0 col2\" >Реактивная мощность</th>\n",
       "    </tr>\n",
       "  </thead>\n",
       "  <tbody>\n",
       "    <tr>\n",
       "      <th id=\"T_15cdd_level0_row0\" class=\"row_heading level0 row0\" >key</th>\n",
       "      <td id=\"T_15cdd_row0_col0\" class=\"data row0 col0\" >1.00</td>\n",
       "      <td id=\"T_15cdd_row0_col1\" class=\"data row0 col1\" >-0.02</td>\n",
       "      <td id=\"T_15cdd_row0_col2\" class=\"data row0 col2\" >-0.00</td>\n",
       "    </tr>\n",
       "    <tr>\n",
       "      <th id=\"T_15cdd_level0_row1\" class=\"row_heading level0 row1\" >Активная мощность</th>\n",
       "      <td id=\"T_15cdd_row1_col0\" class=\"data row1 col0\" >-0.02</td>\n",
       "      <td id=\"T_15cdd_row1_col1\" class=\"data row1 col1\" >1.00</td>\n",
       "      <td id=\"T_15cdd_row1_col2\" class=\"data row1 col2\" >0.05</td>\n",
       "    </tr>\n",
       "    <tr>\n",
       "      <th id=\"T_15cdd_level0_row2\" class=\"row_heading level0 row2\" >Реактивная мощность</th>\n",
       "      <td id=\"T_15cdd_row2_col0\" class=\"data row2 col0\" >-0.00</td>\n",
       "      <td id=\"T_15cdd_row2_col1\" class=\"data row2 col1\" >0.05</td>\n",
       "      <td id=\"T_15cdd_row2_col2\" class=\"data row2 col2\" >1.00</td>\n",
       "    </tr>\n",
       "  </tbody>\n",
       "</table>\n"
      ],
      "text/plain": [
       "<pandas.io.formats.style.Styler at 0x1b581127a60>"
      ]
     },
     "metadata": {},
     "output_type": "display_data"
    }
   ],
   "source": [
    "data_info(data_arc)"
   ]
  },
  {
   "cell_type": "markdown",
   "metadata": {},
   "source": [
    "- 14876 объектов и 5 признаков\n",
    "- Можно увидеть, что минимальное значение в столбце реактивная мощность равно `-715`, при том, что основная часть находиться в диапазоне между 0 и 1. Возможно из-за этого значение корреляции равно `0.05`\n",
    "- У столбцов `\"Начало нагрева дугой\"` и `\"Конец нагрева дугой\"` тип нужно изменить на `datetime`\n",
    "- В таблице нет пропусков"
   ]
  },
  {
   "cell_type": "code",
   "execution_count": 5,
   "metadata": {
    "scrolled": false
   },
   "outputs": [
    {
     "name": "stdout",
     "output_type": "stream",
     "text": [
      "<class 'pandas.core.frame.DataFrame'>\n",
      "RangeIndex: 14876 entries, 0 to 14875\n",
      "Data columns (total 5 columns):\n",
      " #   Column                Non-Null Count  Dtype         \n",
      "---  ------                --------------  -----         \n",
      " 0   key                   14876 non-null  int64         \n",
      " 1   Начало нагрева дугой  14876 non-null  datetime64[ns]\n",
      " 2   Конец нагрева дугой   14876 non-null  datetime64[ns]\n",
      " 3   Активная мощность     14876 non-null  float64       \n",
      " 4   Реактивная мощность   14876 non-null  float64       \n",
      "dtypes: datetime64[ns](2), float64(2), int64(1)\n",
      "memory usage: 581.2 KB\n"
     ]
    }
   ],
   "source": [
    "# Изменим тип признаков\n",
    "data_arc['Начало нагрева дугой'] = pd.to_datetime(data_arc['Начало нагрева дугой'])\n",
    "data_arc['Конец нагрева дугой'] = pd.to_datetime(data_arc['Конец нагрева дугой'])\n",
    "\n",
    "data_arc.info()"
   ]
  },
  {
   "cell_type": "code",
   "execution_count": 6,
   "metadata": {},
   "outputs": [
    {
     "data": {
      "text/plain": [
       "Text(0.5, 1.0, 'Активная мощность')"
      ]
     },
     "execution_count": 6,
     "metadata": {},
     "output_type": "execute_result"
    },
    {
     "data": {
      "image/png": "[encoded data removed]",
      "text/plain": [
       "<Figure size 864x360 with 1 Axes>"
      ]
     },
     "metadata": {
      "needs_background": "light"
     },
     "output_type": "display_data"
    }
   ],
   "source": [
    "# Посмотрим распределение в столбце Активная мощность\n",
    "data_arc.plot(kind='hist',\n",
    "        y='Активная мощность',\n",
    "        bins=100,\n",
    "        grid=True,\n",
    "        label='Активная мощность',\n",
    "        figsize=(12, 5))\n",
    "plt.title('Активная мощность')"
   ]
  },
  {
   "cell_type": "code",
   "execution_count": 7,
   "metadata": {},
   "outputs": [
    {
     "data": {
      "text/plain": [
       "Text(0.5, 1.0, 'Реактивная мощность в диапазоне от -800 до -100')"
      ]
     },
     "execution_count": 7,
     "metadata": {},
     "output_type": "execute_result"
    },
    {
     "data": {
      "image/png": "[encoded data removed]",
      "text/plain": [
       "<Figure size 864x360 with 1 Axes>"
      ]
     },
     "metadata": {
      "needs_background": "light"
     },
     "output_type": "display_data"
    },
    {
     "data": {
      "image/png": "[encoded data removed]",
      "text/plain": [
       "<Figure size 864x360 with 1 Axes>"
      ]
     },
     "metadata": {
      "needs_background": "light"
     },
     "output_type": "display_data"
    }
   ],
   "source": [
    "# Реактивна мощность\n",
    "data_arc.plot(kind='hist', \n",
    "              y='Реактивная мощность',\n",
    "              bins=10,\n",
    "              grid=True,\n",
    "              label='Активная мощность',\n",
    "              figsize=(12, 5))\n",
    "plt.title('Реактивная мощность')\n",
    "\n",
    "data_arc.plot(kind='hist', \n",
    "              y='Реактивная мощность',\n",
    "              bins=10,\n",
    "              grid=True,\n",
    "              range=(-800, -100),\n",
    "              label='Активная мощность',\n",
    "              figsize=(12, 5))\n",
    "plt.title('Реактивная мощность в диапазоне от -800 до -100')"
   ]
  },
  {
   "cell_type": "code",
   "execution_count": 8,
   "metadata": {},
   "outputs": [
    {
     "name": "stdout",
     "output_type": "stream",
     "text": [
      "Значений меньше нуля - 1\n"
     ]
    },
    {
     "data": {
      "text/html": [
       "<div>\n",
       "<style scoped>\n",
       "    .dataframe tbody tr th:only-of-type {\n",
       "        vertical-align: middle;\n",
       "    }\n",
       "\n",
       "    .dataframe tbody tr th {\n",
       "        vertical-align: top;\n",
       "    }\n",
       "\n",
       "    .dataframe thead th {\n",
       "        text-align: right;\n",
       "    }\n",
       "</style>\n",
       "<table border=\"1\" class=\"dataframe\">\n",
       "  <thead>\n",
       "    <tr style=\"text-align: right;\">\n",
       "      <th></th>\n",
       "      <th>key</th>\n",
       "      <th>Начало нагрева дугой</th>\n",
       "      <th>Конец нагрева дугой</th>\n",
       "      <th>Активная мощность</th>\n",
       "      <th>Реактивная мощность</th>\n",
       "    </tr>\n",
       "  </thead>\n",
       "  <tbody>\n",
       "    <tr>\n",
       "      <th>9780</th>\n",
       "      <td>2116</td>\n",
       "      <td>2019-07-24 00:44:48</td>\n",
       "      <td>2019-07-24 00:46:37</td>\n",
       "      <td>0.495782</td>\n",
       "      <td>-715.504924</td>\n",
       "    </tr>\n",
       "  </tbody>\n",
       "</table>\n",
       "</div>"
      ],
      "text/plain": [
       "       key Начало нагрева дугой Конец нагрева дугой  Активная мощность  \\\n",
       "9780  2116  2019-07-24 00:44:48 2019-07-24 00:46:37           0.495782   \n",
       "\n",
       "      Реактивная мощность  \n",
       "9780          -715.504924  "
      ]
     },
     "metadata": {},
     "output_type": "display_data"
    }
   ],
   "source": [
    "print(f\"Значений меньше нуля - {(data_arc['Реактивная мощность'] < 0).sum()}\")\n",
    "display(data_arc[data_arc['Реактивная мощность'] < 0])"
   ]
  },
  {
   "cell_type": "code",
   "execution_count": 9,
   "metadata": {},
   "outputs": [],
   "source": [
    "# Избавимся от выброса\n",
    "data_arc = data_arc[data_arc['Реактивная мощность'] >= 0]"
   ]
  },
  {
   "cell_type": "markdown",
   "metadata": {},
   "source": [
    "<font color='steelblue'><b>Комментарий тимлида</b></font><br>\n",
    "<font color='green'>✔️ Верно, реактивная мощность не может быть отрицательной. Я бы удалила весь ключ.</font><br>"
   ]
  },
  {
   "cell_type": "code",
   "execution_count": 10,
   "metadata": {},
   "outputs": [
    {
     "data": {
      "text/plain": [
       "Text(0.5, 1.0, 'Реактивная мощность')"
      ]
     },
     "execution_count": 10,
     "metadata": {},
     "output_type": "execute_result"
    },
    {
     "data": {
      "image/png": "[encoded data removed]",
      "text/plain": [
       "<Figure size 864x360 with 1 Axes>"
      ]
     },
     "metadata": {
      "needs_background": "light"
     },
     "output_type": "display_data"
    }
   ],
   "source": [
    "# Посмотрим еще раз на распределение без выбросов\n",
    "data_arc.plot(kind='hist', \n",
    "              y='Реактивная мощность',\n",
    "              bins=100,\n",
    "              grid=True,\n",
    "              label='Реактивная мощность',\n",
    "              figsize=(12, 5))\n",
    "plt.title('Реактивная мощность')"
   ]
  },
  {
   "cell_type": "markdown",
   "metadata": {},
   "source": [
    "Посмотрим на корреляцию между Активной мощностью и Реактивной мощностью после удаления выбросов и посчитаем её."
   ]
  },
  {
   "cell_type": "code",
   "execution_count": 11,
   "metadata": {},
   "outputs": [
    {
     "data": {
      "image/png": "[encoded data removed]",
      "text/plain": [
       "<Figure size 576x504 with 1 Axes>"
      ]
     },
     "metadata": {
      "needs_background": "light"
     },
     "output_type": "display_data"
    },
    {
     "name": "stdout",
     "output_type": "stream",
     "text": [
      "Корреляция - 0.9631819131519802\n"
     ]
    }
   ],
   "source": [
    "data_arc.plot(x='Активная мощность', \n",
    "              y='Реактивная мощность', \n",
    "              style='.', \n",
    "              grid=True,\n",
    "              xlabel='Активная мощность', \n",
    "              ylabel='Реактивная мощность',\n",
    "              figsize=(8, 7))\n",
    "plt.show()\n",
    "print('Корреляция -', data_arc['Активная мощность'].corr(data_arc['Реактивная мощность']))"
   ]
  },
  {
   "cell_type": "markdown",
   "metadata": {},
   "source": [
    "**Вывод**\n",
    "- Проведена проверка на дубликаты и пропуски - их не оказалость\n",
    "- Столбцы `Начало нагрева дугой` и `Конец нагрева дугой` были приведены к типу `datetime`\n",
    "- Удалён выброс (`-715`) в столбце `Реактивная мощность`\n",
    "- Была выявлена большая корреляция между Активной и Реактивной мощностью. Думаю имеет смысл посчитать [полную мощность](https://ru.wikipedia.org/wiki/Электрическая_мощность)"
   ]
  },
  {
   "cell_type": "markdown",
   "metadata": {},
   "source": [
    "### `data_bulk` - данные о подаче сыпучих материалов (объём)"
   ]
  },
  {
   "cell_type": "code",
   "execution_count": 12,
   "metadata": {
    "scrolled": false
   },
   "outputs": [
    {
     "data": {
      "text/html": [
       "<div>\n",
       "<style scoped>\n",
       "    .dataframe tbody tr th:only-of-type {\n",
       "        vertical-align: middle;\n",
       "    }\n",
       "\n",
       "    .dataframe tbody tr th {\n",
       "        vertical-align: top;\n",
       "    }\n",
       "\n",
       "    .dataframe thead th {\n",
       "        text-align: right;\n",
       "    }\n",
       "</style>\n",
       "<table border=\"1\" class=\"dataframe\">\n",
       "  <thead>\n",
       "    <tr style=\"text-align: right;\">\n",
       "      <th></th>\n",
       "      <th>key</th>\n",
       "      <th>Bulk 1</th>\n",
       "      <th>Bulk 2</th>\n",
       "      <th>Bulk 3</th>\n",
       "      <th>Bulk 4</th>\n",
       "      <th>Bulk 5</th>\n",
       "      <th>Bulk 6</th>\n",
       "      <th>Bulk 7</th>\n",
       "      <th>Bulk 8</th>\n",
       "      <th>Bulk 9</th>\n",
       "      <th>Bulk 10</th>\n",
       "      <th>Bulk 11</th>\n",
       "      <th>Bulk 12</th>\n",
       "      <th>Bulk 13</th>\n",
       "      <th>Bulk 14</th>\n",
       "      <th>Bulk 15</th>\n",
       "    </tr>\n",
       "  </thead>\n",
       "  <tbody>\n",
       "    <tr>\n",
       "      <th>0</th>\n",
       "      <td>1</td>\n",
       "      <td>NaN</td>\n",
       "      <td>NaN</td>\n",
       "      <td>NaN</td>\n",
       "      <td>43.0</td>\n",
       "      <td>NaN</td>\n",
       "      <td>NaN</td>\n",
       "      <td>NaN</td>\n",
       "      <td>NaN</td>\n",
       "      <td>NaN</td>\n",
       "      <td>NaN</td>\n",
       "      <td>NaN</td>\n",
       "      <td>206.0</td>\n",
       "      <td>NaN</td>\n",
       "      <td>150.0</td>\n",
       "      <td>154.0</td>\n",
       "    </tr>\n",
       "    <tr>\n",
       "      <th>1</th>\n",
       "      <td>2</td>\n",
       "      <td>NaN</td>\n",
       "      <td>NaN</td>\n",
       "      <td>NaN</td>\n",
       "      <td>73.0</td>\n",
       "      <td>NaN</td>\n",
       "      <td>NaN</td>\n",
       "      <td>NaN</td>\n",
       "      <td>NaN</td>\n",
       "      <td>NaN</td>\n",
       "      <td>NaN</td>\n",
       "      <td>NaN</td>\n",
       "      <td>206.0</td>\n",
       "      <td>NaN</td>\n",
       "      <td>149.0</td>\n",
       "      <td>154.0</td>\n",
       "    </tr>\n",
       "    <tr>\n",
       "      <th>2</th>\n",
       "      <td>3</td>\n",
       "      <td>NaN</td>\n",
       "      <td>NaN</td>\n",
       "      <td>NaN</td>\n",
       "      <td>34.0</td>\n",
       "      <td>NaN</td>\n",
       "      <td>NaN</td>\n",
       "      <td>NaN</td>\n",
       "      <td>NaN</td>\n",
       "      <td>NaN</td>\n",
       "      <td>NaN</td>\n",
       "      <td>NaN</td>\n",
       "      <td>205.0</td>\n",
       "      <td>NaN</td>\n",
       "      <td>152.0</td>\n",
       "      <td>153.0</td>\n",
       "    </tr>\n",
       "    <tr>\n",
       "      <th>3</th>\n",
       "      <td>4</td>\n",
       "      <td>NaN</td>\n",
       "      <td>NaN</td>\n",
       "      <td>NaN</td>\n",
       "      <td>81.0</td>\n",
       "      <td>NaN</td>\n",
       "      <td>NaN</td>\n",
       "      <td>NaN</td>\n",
       "      <td>NaN</td>\n",
       "      <td>NaN</td>\n",
       "      <td>NaN</td>\n",
       "      <td>NaN</td>\n",
       "      <td>207.0</td>\n",
       "      <td>NaN</td>\n",
       "      <td>153.0</td>\n",
       "      <td>154.0</td>\n",
       "    </tr>\n",
       "    <tr>\n",
       "      <th>4</th>\n",
       "      <td>5</td>\n",
       "      <td>NaN</td>\n",
       "      <td>NaN</td>\n",
       "      <td>NaN</td>\n",
       "      <td>78.0</td>\n",
       "      <td>NaN</td>\n",
       "      <td>NaN</td>\n",
       "      <td>NaN</td>\n",
       "      <td>NaN</td>\n",
       "      <td>NaN</td>\n",
       "      <td>NaN</td>\n",
       "      <td>NaN</td>\n",
       "      <td>203.0</td>\n",
       "      <td>NaN</td>\n",
       "      <td>151.0</td>\n",
       "      <td>152.0</td>\n",
       "    </tr>\n",
       "    <tr>\n",
       "      <th>5</th>\n",
       "      <td>6</td>\n",
       "      <td>NaN</td>\n",
       "      <td>NaN</td>\n",
       "      <td>NaN</td>\n",
       "      <td>117.0</td>\n",
       "      <td>NaN</td>\n",
       "      <td>NaN</td>\n",
       "      <td>NaN</td>\n",
       "      <td>NaN</td>\n",
       "      <td>NaN</td>\n",
       "      <td>NaN</td>\n",
       "      <td>NaN</td>\n",
       "      <td>204.0</td>\n",
       "      <td>NaN</td>\n",
       "      <td>201.0</td>\n",
       "      <td>154.0</td>\n",
       "    </tr>\n",
       "    <tr>\n",
       "      <th>6</th>\n",
       "      <td>7</td>\n",
       "      <td>NaN</td>\n",
       "      <td>NaN</td>\n",
       "      <td>NaN</td>\n",
       "      <td>117.0</td>\n",
       "      <td>NaN</td>\n",
       "      <td>NaN</td>\n",
       "      <td>NaN</td>\n",
       "      <td>NaN</td>\n",
       "      <td>NaN</td>\n",
       "      <td>NaN</td>\n",
       "      <td>NaN</td>\n",
       "      <td>204.0</td>\n",
       "      <td>NaN</td>\n",
       "      <td>152.0</td>\n",
       "      <td>154.0</td>\n",
       "    </tr>\n",
       "    <tr>\n",
       "      <th>7</th>\n",
       "      <td>8</td>\n",
       "      <td>NaN</td>\n",
       "      <td>NaN</td>\n",
       "      <td>NaN</td>\n",
       "      <td>99.0</td>\n",
       "      <td>NaN</td>\n",
       "      <td>NaN</td>\n",
       "      <td>NaN</td>\n",
       "      <td>NaN</td>\n",
       "      <td>NaN</td>\n",
       "      <td>NaN</td>\n",
       "      <td>NaN</td>\n",
       "      <td>410.0</td>\n",
       "      <td>NaN</td>\n",
       "      <td>252.0</td>\n",
       "      <td>153.0</td>\n",
       "    </tr>\n",
       "    <tr>\n",
       "      <th>8</th>\n",
       "      <td>9</td>\n",
       "      <td>NaN</td>\n",
       "      <td>NaN</td>\n",
       "      <td>NaN</td>\n",
       "      <td>117.0</td>\n",
       "      <td>NaN</td>\n",
       "      <td>NaN</td>\n",
       "      <td>NaN</td>\n",
       "      <td>NaN</td>\n",
       "      <td>NaN</td>\n",
       "      <td>NaN</td>\n",
       "      <td>NaN</td>\n",
       "      <td>107.0</td>\n",
       "      <td>NaN</td>\n",
       "      <td>99.0</td>\n",
       "      <td>203.0</td>\n",
       "    </tr>\n",
       "    <tr>\n",
       "      <th>9</th>\n",
       "      <td>10</td>\n",
       "      <td>NaN</td>\n",
       "      <td>NaN</td>\n",
       "      <td>NaN</td>\n",
       "      <td>NaN</td>\n",
       "      <td>NaN</td>\n",
       "      <td>NaN</td>\n",
       "      <td>NaN</td>\n",
       "      <td>NaN</td>\n",
       "      <td>NaN</td>\n",
       "      <td>NaN</td>\n",
       "      <td>NaN</td>\n",
       "      <td>203.0</td>\n",
       "      <td>NaN</td>\n",
       "      <td>102.0</td>\n",
       "      <td>204.0</td>\n",
       "    </tr>\n",
       "  </tbody>\n",
       "</table>\n",
       "</div>"
      ],
      "text/plain": [
       "   key  Bulk 1  Bulk 2  Bulk 3  Bulk 4  Bulk 5  Bulk 6  Bulk 7  Bulk 8  \\\n",
       "0    1     NaN     NaN     NaN    43.0     NaN     NaN     NaN     NaN   \n",
       "1    2     NaN     NaN     NaN    73.0     NaN     NaN     NaN     NaN   \n",
       "2    3     NaN     NaN     NaN    34.0     NaN     NaN     NaN     NaN   \n",
       "3    4     NaN     NaN     NaN    81.0     NaN     NaN     NaN     NaN   \n",
       "4    5     NaN     NaN     NaN    78.0     NaN     NaN     NaN     NaN   \n",
       "5    6     NaN     NaN     NaN   117.0     NaN     NaN     NaN     NaN   \n",
       "6    7     NaN     NaN     NaN   117.0     NaN     NaN     NaN     NaN   \n",
       "7    8     NaN     NaN     NaN    99.0     NaN     NaN     NaN     NaN   \n",
       "8    9     NaN     NaN     NaN   117.0     NaN     NaN     NaN     NaN   \n",
       "9   10     NaN     NaN     NaN     NaN     NaN     NaN     NaN     NaN   \n",
       "\n",
       "   Bulk 9  Bulk 10  Bulk 11  Bulk 12  Bulk 13  Bulk 14  Bulk 15  \n",
       "0     NaN      NaN      NaN    206.0      NaN    150.0    154.0  \n",
       "1     NaN      NaN      NaN    206.0      NaN    149.0    154.0  \n",
       "2     NaN      NaN      NaN    205.0      NaN    152.0    153.0  \n",
       "3     NaN      NaN      NaN    207.0      NaN    153.0    154.0  \n",
       "4     NaN      NaN      NaN    203.0      NaN    151.0    152.0  \n",
       "5     NaN      NaN      NaN    204.0      NaN    201.0    154.0  \n",
       "6     NaN      NaN      NaN    204.0      NaN    152.0    154.0  \n",
       "7     NaN      NaN      NaN    410.0      NaN    252.0    153.0  \n",
       "8     NaN      NaN      NaN    107.0      NaN     99.0    203.0  \n",
       "9     NaN      NaN      NaN    203.0      NaN    102.0    204.0  "
      ]
     },
     "metadata": {},
     "output_type": "display_data"
    },
    {
     "name": "stdout",
     "output_type": "stream",
     "text": [
      "<class 'pandas.core.frame.DataFrame'>\n",
      "RangeIndex: 3129 entries, 0 to 3128\n",
      "Data columns (total 16 columns):\n",
      " #   Column   Non-Null Count  Dtype  \n",
      "---  ------   --------------  -----  \n",
      " 0   key      3129 non-null   int64  \n",
      " 1   Bulk 1   252 non-null    float64\n",
      " 2   Bulk 2   22 non-null     float64\n",
      " 3   Bulk 3   1298 non-null   float64\n",
      " 4   Bulk 4   1014 non-null   float64\n",
      " 5   Bulk 5   77 non-null     float64\n",
      " 6   Bulk 6   576 non-null    float64\n",
      " 7   Bulk 7   25 non-null     float64\n",
      " 8   Bulk 8   1 non-null      float64\n",
      " 9   Bulk 9   19 non-null     float64\n",
      " 10  Bulk 10  176 non-null    float64\n",
      " 11  Bulk 11  177 non-null    float64\n",
      " 12  Bulk 12  2450 non-null   float64\n",
      " 13  Bulk 13  18 non-null     float64\n",
      " 14  Bulk 14  2806 non-null   float64\n",
      " 15  Bulk 15  2248 non-null   float64\n",
      "dtypes: float64(15), int64(1)\n",
      "memory usage: 391.2 KB\n"
     ]
    },
    {
     "data": {
      "text/plain": [
       "None"
      ]
     },
     "metadata": {},
     "output_type": "display_data"
    },
    {
     "data": {
      "text/html": [
       "<div>\n",
       "<style scoped>\n",
       "    .dataframe tbody tr th:only-of-type {\n",
       "        vertical-align: middle;\n",
       "    }\n",
       "\n",
       "    .dataframe tbody tr th {\n",
       "        vertical-align: top;\n",
       "    }\n",
       "\n",
       "    .dataframe thead th {\n",
       "        text-align: right;\n",
       "    }\n",
       "</style>\n",
       "<table border=\"1\" class=\"dataframe\">\n",
       "  <thead>\n",
       "    <tr style=\"text-align: right;\">\n",
       "      <th></th>\n",
       "      <th>key</th>\n",
       "      <th>Bulk 1</th>\n",
       "      <th>Bulk 2</th>\n",
       "      <th>Bulk 3</th>\n",
       "      <th>Bulk 4</th>\n",
       "      <th>Bulk 5</th>\n",
       "      <th>Bulk 6</th>\n",
       "      <th>Bulk 7</th>\n",
       "      <th>Bulk 8</th>\n",
       "      <th>Bulk 9</th>\n",
       "      <th>Bulk 10</th>\n",
       "      <th>Bulk 11</th>\n",
       "      <th>Bulk 12</th>\n",
       "      <th>Bulk 13</th>\n",
       "      <th>Bulk 14</th>\n",
       "      <th>Bulk 15</th>\n",
       "    </tr>\n",
       "  </thead>\n",
       "  <tbody>\n",
       "    <tr>\n",
       "      <th>count</th>\n",
       "      <td>3129.000000</td>\n",
       "      <td>252.000000</td>\n",
       "      <td>22.000000</td>\n",
       "      <td>1298.000000</td>\n",
       "      <td>1014.000000</td>\n",
       "      <td>77.000000</td>\n",
       "      <td>576.000000</td>\n",
       "      <td>25.000000</td>\n",
       "      <td>1.0</td>\n",
       "      <td>19.000000</td>\n",
       "      <td>176.000000</td>\n",
       "      <td>177.000000</td>\n",
       "      <td>2450.000000</td>\n",
       "      <td>18.000000</td>\n",
       "      <td>2806.000000</td>\n",
       "      <td>2248.000000</td>\n",
       "    </tr>\n",
       "    <tr>\n",
       "      <th>mean</th>\n",
       "      <td>1624.383509</td>\n",
       "      <td>39.242063</td>\n",
       "      <td>253.045455</td>\n",
       "      <td>113.879045</td>\n",
       "      <td>104.394477</td>\n",
       "      <td>107.025974</td>\n",
       "      <td>118.925347</td>\n",
       "      <td>305.600000</td>\n",
       "      <td>49.0</td>\n",
       "      <td>76.315789</td>\n",
       "      <td>83.284091</td>\n",
       "      <td>76.819209</td>\n",
       "      <td>260.471020</td>\n",
       "      <td>181.111111</td>\n",
       "      <td>170.284747</td>\n",
       "      <td>160.513345</td>\n",
       "    </tr>\n",
       "    <tr>\n",
       "      <th>std</th>\n",
       "      <td>933.337642</td>\n",
       "      <td>18.277654</td>\n",
       "      <td>21.180578</td>\n",
       "      <td>75.483494</td>\n",
       "      <td>48.184126</td>\n",
       "      <td>81.790646</td>\n",
       "      <td>72.057776</td>\n",
       "      <td>191.022904</td>\n",
       "      <td>NaN</td>\n",
       "      <td>21.720581</td>\n",
       "      <td>26.060347</td>\n",
       "      <td>59.655365</td>\n",
       "      <td>120.649269</td>\n",
       "      <td>46.088009</td>\n",
       "      <td>65.868652</td>\n",
       "      <td>51.765319</td>\n",
       "    </tr>\n",
       "    <tr>\n",
       "      <th>min</th>\n",
       "      <td>1.000000</td>\n",
       "      <td>10.000000</td>\n",
       "      <td>228.000000</td>\n",
       "      <td>6.000000</td>\n",
       "      <td>12.000000</td>\n",
       "      <td>11.000000</td>\n",
       "      <td>17.000000</td>\n",
       "      <td>47.000000</td>\n",
       "      <td>49.0</td>\n",
       "      <td>63.000000</td>\n",
       "      <td>24.000000</td>\n",
       "      <td>8.000000</td>\n",
       "      <td>53.000000</td>\n",
       "      <td>151.000000</td>\n",
       "      <td>16.000000</td>\n",
       "      <td>1.000000</td>\n",
       "    </tr>\n",
       "    <tr>\n",
       "      <th>25%</th>\n",
       "      <td>816.000000</td>\n",
       "      <td>27.000000</td>\n",
       "      <td>242.000000</td>\n",
       "      <td>58.000000</td>\n",
       "      <td>72.000000</td>\n",
       "      <td>70.000000</td>\n",
       "      <td>69.750000</td>\n",
       "      <td>155.000000</td>\n",
       "      <td>49.0</td>\n",
       "      <td>66.000000</td>\n",
       "      <td>64.000000</td>\n",
       "      <td>25.000000</td>\n",
       "      <td>204.000000</td>\n",
       "      <td>153.250000</td>\n",
       "      <td>119.000000</td>\n",
       "      <td>105.000000</td>\n",
       "    </tr>\n",
       "    <tr>\n",
       "      <th>50%</th>\n",
       "      <td>1622.000000</td>\n",
       "      <td>31.000000</td>\n",
       "      <td>251.500000</td>\n",
       "      <td>97.500000</td>\n",
       "      <td>102.000000</td>\n",
       "      <td>86.000000</td>\n",
       "      <td>100.000000</td>\n",
       "      <td>298.000000</td>\n",
       "      <td>49.0</td>\n",
       "      <td>68.000000</td>\n",
       "      <td>86.500000</td>\n",
       "      <td>64.000000</td>\n",
       "      <td>208.000000</td>\n",
       "      <td>155.500000</td>\n",
       "      <td>151.000000</td>\n",
       "      <td>160.000000</td>\n",
       "    </tr>\n",
       "    <tr>\n",
       "      <th>75%</th>\n",
       "      <td>2431.000000</td>\n",
       "      <td>46.000000</td>\n",
       "      <td>257.750000</td>\n",
       "      <td>152.000000</td>\n",
       "      <td>133.000000</td>\n",
       "      <td>132.000000</td>\n",
       "      <td>157.000000</td>\n",
       "      <td>406.000000</td>\n",
       "      <td>49.0</td>\n",
       "      <td>70.500000</td>\n",
       "      <td>102.000000</td>\n",
       "      <td>106.000000</td>\n",
       "      <td>316.000000</td>\n",
       "      <td>203.500000</td>\n",
       "      <td>205.750000</td>\n",
       "      <td>205.000000</td>\n",
       "    </tr>\n",
       "    <tr>\n",
       "      <th>max</th>\n",
       "      <td>3241.000000</td>\n",
       "      <td>185.000000</td>\n",
       "      <td>325.000000</td>\n",
       "      <td>454.000000</td>\n",
       "      <td>281.000000</td>\n",
       "      <td>603.000000</td>\n",
       "      <td>503.000000</td>\n",
       "      <td>772.000000</td>\n",
       "      <td>49.0</td>\n",
       "      <td>147.000000</td>\n",
       "      <td>159.000000</td>\n",
       "      <td>313.000000</td>\n",
       "      <td>1849.000000</td>\n",
       "      <td>305.000000</td>\n",
       "      <td>636.000000</td>\n",
       "      <td>405.000000</td>\n",
       "    </tr>\n",
       "  </tbody>\n",
       "</table>\n",
       "</div>"
      ],
      "text/plain": [
       "               key      Bulk 1      Bulk 2       Bulk 3       Bulk 4  \\\n",
       "count  3129.000000  252.000000   22.000000  1298.000000  1014.000000   \n",
       "mean   1624.383509   39.242063  253.045455   113.879045   104.394477   \n",
       "std     933.337642   18.277654   21.180578    75.483494    48.184126   \n",
       "min       1.000000   10.000000  228.000000     6.000000    12.000000   \n",
       "25%     816.000000   27.000000  242.000000    58.000000    72.000000   \n",
       "50%    1622.000000   31.000000  251.500000    97.500000   102.000000   \n",
       "75%    2431.000000   46.000000  257.750000   152.000000   133.000000   \n",
       "max    3241.000000  185.000000  325.000000   454.000000   281.000000   \n",
       "\n",
       "           Bulk 5      Bulk 6      Bulk 7  Bulk 8      Bulk 9     Bulk 10  \\\n",
       "count   77.000000  576.000000   25.000000     1.0   19.000000  176.000000   \n",
       "mean   107.025974  118.925347  305.600000    49.0   76.315789   83.284091   \n",
       "std     81.790646   72.057776  191.022904     NaN   21.720581   26.060347   \n",
       "min     11.000000   17.000000   47.000000    49.0   63.000000   24.000000   \n",
       "25%     70.000000   69.750000  155.000000    49.0   66.000000   64.000000   \n",
       "50%     86.000000  100.000000  298.000000    49.0   68.000000   86.500000   \n",
       "75%    132.000000  157.000000  406.000000    49.0   70.500000  102.000000   \n",
       "max    603.000000  503.000000  772.000000    49.0  147.000000  159.000000   \n",
       "\n",
       "          Bulk 11      Bulk 12     Bulk 13      Bulk 14      Bulk 15  \n",
       "count  177.000000  2450.000000   18.000000  2806.000000  2248.000000  \n",
       "mean    76.819209   260.471020  181.111111   170.284747   160.513345  \n",
       "std     59.655365   120.649269   46.088009    65.868652    51.765319  \n",
       "min      8.000000    53.000000  151.000000    16.000000     1.000000  \n",
       "25%     25.000000   204.000000  153.250000   119.000000   105.000000  \n",
       "50%     64.000000   208.000000  155.500000   151.000000   160.000000  \n",
       "75%    106.000000   316.000000  203.500000   205.750000   205.000000  \n",
       "max    313.000000  1849.000000  305.000000   636.000000   405.000000  "
      ]
     },
     "metadata": {},
     "output_type": "display_data"
    },
    {
     "name": "stdout",
     "output_type": "stream",
     "text": [
      "Количество дубликатов - 0 \n",
      "\n"
     ]
    },
    {
     "data": {
      "text/html": [
       "<style type=\"text/css\">\n",
       "#T_a6135_row0_col0, #T_a6135_row1_col1, #T_a6135_row1_col13, #T_a6135_row2_col2, #T_a6135_row3_col3, #T_a6135_row4_col4, #T_a6135_row5_col5, #T_a6135_row6_col6, #T_a6135_row7_col7, #T_a6135_row7_col14, #T_a6135_row9_col9, #T_a6135_row10_col10, #T_a6135_row11_col11, #T_a6135_row12_col12, #T_a6135_row13_col1, #T_a6135_row13_col13, #T_a6135_row14_col7, #T_a6135_row14_col14, #T_a6135_row15_col15 {\n",
       "  background-color: #b40426;\n",
       "  color: #f1f1f1;\n",
       "}\n",
       "#T_a6135_row0_col1 {\n",
       "  background-color: #6384eb;\n",
       "  color: #f1f1f1;\n",
       "}\n",
       "#T_a6135_row0_col2, #T_a6135_row0_col7 {\n",
       "  background-color: #445acc;\n",
       "  color: #f1f1f1;\n",
       "}\n",
       "#T_a6135_row0_col3 {\n",
       "  background-color: #a5c3fe;\n",
       "  color: #000000;\n",
       "}\n",
       "#T_a6135_row0_col4 {\n",
       "  background-color: #94b6ff;\n",
       "  color: #000000;\n",
       "}\n",
       "#T_a6135_row0_col5 {\n",
       "  background-color: #a7c5fe;\n",
       "  color: #000000;\n",
       "}\n",
       "#T_a6135_row0_col6 {\n",
       "  background-color: #9dbdff;\n",
       "  color: #000000;\n",
       "}\n",
       "#T_a6135_row0_col8, #T_a6135_row1_col8, #T_a6135_row1_col9, #T_a6135_row2_col3, #T_a6135_row2_col6, #T_a6135_row2_col8, #T_a6135_row2_col9, #T_a6135_row2_col10, #T_a6135_row2_col11, #T_a6135_row2_col12, #T_a6135_row2_col13, #T_a6135_row2_col14, #T_a6135_row2_col15, #T_a6135_row3_col2, #T_a6135_row3_col7, #T_a6135_row3_col8, #T_a6135_row4_col8, #T_a6135_row4_col11, #T_a6135_row5_col8, #T_a6135_row5_col9, #T_a6135_row5_col10, #T_a6135_row5_col11, #T_a6135_row5_col13, #T_a6135_row6_col2, #T_a6135_row6_col7, #T_a6135_row6_col8, #T_a6135_row6_col9, #T_a6135_row6_col10, #T_a6135_row7_col3, #T_a6135_row7_col6, #T_a6135_row7_col8, #T_a6135_row7_col9, #T_a6135_row7_col10, #T_a6135_row7_col11, #T_a6135_row7_col13, #T_a6135_row7_col15, #T_a6135_row8_col0, #T_a6135_row8_col1, #T_a6135_row8_col2, #T_a6135_row8_col3, #T_a6135_row8_col4, #T_a6135_row8_col5, #T_a6135_row8_col6, #T_a6135_row8_col7, #T_a6135_row8_col8, #T_a6135_row8_col9, #T_a6135_row8_col10, #T_a6135_row8_col11, #T_a6135_row8_col12, #T_a6135_row8_col13, #T_a6135_row8_col14, #T_a6135_row8_col15, #T_a6135_row9_col1, #T_a6135_row9_col2, #T_a6135_row9_col5, #T_a6135_row9_col6, #T_a6135_row9_col7, #T_a6135_row9_col8, #T_a6135_row9_col10, #T_a6135_row9_col11, #T_a6135_row9_col13, #T_a6135_row9_col15, #T_a6135_row10_col2, #T_a6135_row10_col5, #T_a6135_row10_col6, #T_a6135_row10_col7, #T_a6135_row10_col8, #T_a6135_row10_col9, #T_a6135_row10_col11, #T_a6135_row10_col13, #T_a6135_row11_col2, #T_a6135_row11_col4, #T_a6135_row11_col5, #T_a6135_row11_col7, #T_a6135_row11_col8, #T_a6135_row11_col9, #T_a6135_row11_col10, #T_a6135_row11_col13, #T_a6135_row12_col2, #T_a6135_row12_col8, #T_a6135_row13_col2, #T_a6135_row13_col5, #T_a6135_row13_col7, #T_a6135_row13_col8, #T_a6135_row13_col9, #T_a6135_row13_col10, #T_a6135_row13_col11, #T_a6135_row14_col2, #T_a6135_row14_col8, #T_a6135_row15_col2, #T_a6135_row15_col7, #T_a6135_row15_col8, #T_a6135_row15_col9 {\n",
       "  background-color: #000000;\n",
       "  color: #f1f1f1;\n",
       "}\n",
       "#T_a6135_row0_col9 {\n",
       "  background-color: #dddcdc;\n",
       "  color: #000000;\n",
       "}\n",
       "#T_a6135_row0_col10, #T_a6135_row6_col3 {\n",
       "  background-color: #e4d9d2;\n",
       "  color: #000000;\n",
       "}\n",
       "#T_a6135_row0_col11, #T_a6135_row1_col0, #T_a6135_row1_col2, #T_a6135_row1_col7, #T_a6135_row3_col13, #T_a6135_row4_col10, #T_a6135_row5_col1, #T_a6135_row5_col6, #T_a6135_row5_col15, #T_a6135_row6_col5, #T_a6135_row6_col12, #T_a6135_row9_col14, #T_a6135_row10_col4, #T_a6135_row13_col3, #T_a6135_row14_col9 {\n",
       "  background-color: #3b4cc0;\n",
       "  color: #f1f1f1;\n",
       "}\n",
       "#T_a6135_row0_col12, #T_a6135_row6_col11 {\n",
       "  background-color: #485fd1;\n",
       "  color: #f1f1f1;\n",
       "}\n",
       "#T_a6135_row0_col13 {\n",
       "  background-color: #c0d4f5;\n",
       "  color: #000000;\n",
       "}\n",
       "#T_a6135_row0_col14, #T_a6135_row15_col11 {\n",
       "  background-color: #84a7fc;\n",
       "  color: #f1f1f1;\n",
       "}\n",
       "#T_a6135_row0_col15 {\n",
       "  background-color: #4e68d8;\n",
       "  color: #f1f1f1;\n",
       "}\n",
       "#T_a6135_row1_col3, #T_a6135_row4_col7, #T_a6135_row12_col3 {\n",
       "  background-color: #b9d0f9;\n",
       "  color: #000000;\n",
       "}\n",
       "#T_a6135_row1_col4, #T_a6135_row15_col6 {\n",
       "  background-color: #a3c2fe;\n",
       "  color: #000000;\n",
       "}\n",
       "#T_a6135_row1_col5 {\n",
       "  background-color: #5875e1;\n",
       "  color: #f1f1f1;\n",
       "}\n",
       "#T_a6135_row1_col6 {\n",
       "  background-color: #cad8ef;\n",
       "  color: #000000;\n",
       "}\n",
       "#T_a6135_row1_col10, #T_a6135_row10_col14 {\n",
       "  background-color: #6c8ff1;\n",
       "  color: #f1f1f1;\n",
       "}\n",
       "#T_a6135_row1_col11, #T_a6135_row12_col15 {\n",
       "  background-color: #e5d8d1;\n",
       "  color: #000000;\n",
       "}\n",
       "#T_a6135_row1_col12, #T_a6135_row9_col3 {\n",
       "  background-color: #c5d6f2;\n",
       "  color: #000000;\n",
       "}\n",
       "#T_a6135_row1_col14, #T_a6135_row2_col4, #T_a6135_row14_col13 {\n",
       "  background-color: #f2cbb7;\n",
       "  color: #000000;\n",
       "}\n",
       "#T_a6135_row1_col15 {\n",
       "  background-color: #5a78e4;\n",
       "  color: #f1f1f1;\n",
       "}\n",
       "#T_a6135_row2_col0 {\n",
       "  background-color: #6282ea;\n",
       "  color: #f1f1f1;\n",
       "}\n",
       "#T_a6135_row2_col1 {\n",
       "  background-color: #81a4fb;\n",
       "  color: #f1f1f1;\n",
       "}\n",
       "#T_a6135_row2_col5, #T_a6135_row14_col3 {\n",
       "  background-color: #bbd1f8;\n",
       "  color: #000000;\n",
       "}\n",
       "#T_a6135_row2_col7, #T_a6135_row10_col1 {\n",
       "  background-color: #4f69d9;\n",
       "  color: #f1f1f1;\n",
       "}\n",
       "#T_a6135_row3_col0 {\n",
       "  background-color: #5673e0;\n",
       "  color: #f1f1f1;\n",
       "}\n",
       "#T_a6135_row3_col1 {\n",
       "  background-color: #98b9ff;\n",
       "  color: #000000;\n",
       "}\n",
       "#T_a6135_row3_col4, #T_a6135_row4_col13, #T_a6135_row6_col15, #T_a6135_row14_col5 {\n",
       "  background-color: #7093f3;\n",
       "  color: #f1f1f1;\n",
       "}\n",
       "#T_a6135_row3_col5, #T_a6135_row4_col2 {\n",
       "  background-color: #cbd8ee;\n",
       "  color: #000000;\n",
       "}\n",
       "#T_a6135_row3_col6 {\n",
       "  background-color: #dedcdb;\n",
       "  color: #000000;\n",
       "}\n",
       "#T_a6135_row3_col9, #T_a6135_row6_col1, #T_a6135_row12_col4 {\n",
       "  background-color: #b7cff9;\n",
       "  color: #000000;\n",
       "}\n",
       "#T_a6135_row3_col10, #T_a6135_row12_col11, #T_a6135_row14_col10 {\n",
       "  background-color: #7396f5;\n",
       "  color: #f1f1f1;\n",
       "}\n",
       "#T_a6135_row3_col11 {\n",
       "  background-color: #8fb1fe;\n",
       "  color: #000000;\n",
       "}\n",
       "#T_a6135_row3_col12 {\n",
       "  background-color: #5470de;\n",
       "  color: #f1f1f1;\n",
       "}\n",
       "#T_a6135_row3_col14, #T_a6135_row12_col5 {\n",
       "  background-color: #adc9fd;\n",
       "  color: #000000;\n",
       "}\n",
       "#T_a6135_row3_col15, #T_a6135_row15_col1 {\n",
       "  background-color: #7597f6;\n",
       "  color: #f1f1f1;\n",
       "}\n",
       "#T_a6135_row4_col0 {\n",
       "  background-color: #516ddb;\n",
       "  color: #f1f1f1;\n",
       "}\n",
       "#T_a6135_row4_col1 {\n",
       "  background-color: #89acfd;\n",
       "  color: #000000;\n",
       "}\n",
       "#T_a6135_row4_col3, #T_a6135_row7_col1, #T_a6135_row13_col0 {\n",
       "  background-color: #7da0f9;\n",
       "  color: #f1f1f1;\n",
       "}\n",
       "#T_a6135_row4_col5, #T_a6135_row12_col6 {\n",
       "  background-color: #9abbff;\n",
       "  color: #000000;\n",
       "}\n",
       "#T_a6135_row4_col6, #T_a6135_row6_col4, #T_a6135_row7_col0, #T_a6135_row11_col12 {\n",
       "  background-color: #5f7fe8;\n",
       "  color: #f1f1f1;\n",
       "}\n",
       "#T_a6135_row4_col9 {\n",
       "  background-color: #e57058;\n",
       "  color: #f1f1f1;\n",
       "}\n",
       "#T_a6135_row4_col12 {\n",
       "  background-color: #6180e9;\n",
       "  color: #f1f1f1;\n",
       "}\n",
       "#T_a6135_row4_col14 {\n",
       "  background-color: #abc8fd;\n",
       "  color: #000000;\n",
       "}\n",
       "#T_a6135_row4_col15 {\n",
       "  background-color: #86a9fc;\n",
       "  color: #f1f1f1;\n",
       "}\n",
       "#T_a6135_row5_col0 {\n",
       "  background-color: #688aef;\n",
       "  color: #f1f1f1;\n",
       "}\n",
       "#T_a6135_row5_col2, #T_a6135_row12_col0, #T_a6135_row13_col4 {\n",
       "  background-color: #6485ec;\n",
       "  color: #f1f1f1;\n",
       "}\n",
       "#T_a6135_row5_col3 {\n",
       "  background-color: #d2dbe8;\n",
       "  color: #000000;\n",
       "}\n",
       "#T_a6135_row5_col4 {\n",
       "  background-color: #9bbcff;\n",
       "  color: #000000;\n",
       "}\n",
       "#T_a6135_row5_col7 {\n",
       "  background-color: #b3cdfb;\n",
       "  color: #000000;\n",
       "}\n",
       "#T_a6135_row5_col12 {\n",
       "  background-color: #536edd;\n",
       "  color: #f1f1f1;\n",
       "}\n",
       "#T_a6135_row5_col14 {\n",
       "  background-color: #6a8bef;\n",
       "  color: #f1f1f1;\n",
       "}\n",
       "#T_a6135_row6_col0 {\n",
       "  background-color: #5b7ae5;\n",
       "  color: #f1f1f1;\n",
       "}\n",
       "#T_a6135_row6_col13 {\n",
       "  background-color: #d65244;\n",
       "  color: #f1f1f1;\n",
       "}\n",
       "#T_a6135_row6_col14 {\n",
       "  background-color: #c9d7f0;\n",
       "  color: #000000;\n",
       "}\n",
       "#T_a6135_row7_col2 {\n",
       "  background-color: #4c66d6;\n",
       "  color: #f1f1f1;\n",
       "}\n",
       "#T_a6135_row7_col4 {\n",
       "  background-color: #ead4c8;\n",
       "  color: #000000;\n",
       "}\n",
       "#T_a6135_row7_col5, #T_a6135_row12_col1 {\n",
       "  background-color: #e7d7ce;\n",
       "  color: #000000;\n",
       "}\n",
       "#T_a6135_row7_col12, #T_a6135_row13_col14 {\n",
       "  background-color: #edd1c2;\n",
       "  color: #000000;\n",
       "}\n",
       "#T_a6135_row9_col0 {\n",
       "  background-color: #bad0f8;\n",
       "  color: #000000;\n",
       "}\n",
       "#T_a6135_row9_col4 {\n",
       "  background-color: #e46e56;\n",
       "  color: #f1f1f1;\n",
       "}\n",
       "#T_a6135_row9_col12 {\n",
       "  background-color: #c53334;\n",
       "  color: #f1f1f1;\n",
       "}\n",
       "#T_a6135_row10_col0 {\n",
       "  background-color: #c1d4f4;\n",
       "  color: #000000;\n",
       "}\n",
       "#T_a6135_row10_col3 {\n",
       "  background-color: #80a3fa;\n",
       "  color: #f1f1f1;\n",
       "}\n",
       "#T_a6135_row10_col12 {\n",
       "  background-color: #4961d2;\n",
       "  color: #f1f1f1;\n",
       "}\n",
       "#T_a6135_row10_col15 {\n",
       "  background-color: #90b2fe;\n",
       "  color: #000000;\n",
       "}\n",
       "#T_a6135_row11_col0 {\n",
       "  background-color: #4358cb;\n",
       "  color: #f1f1f1;\n",
       "}\n",
       "#T_a6135_row11_col1 {\n",
       "  background-color: #f2c9b4;\n",
       "  color: #000000;\n",
       "}\n",
       "#T_a6135_row11_col3 {\n",
       "  background-color: #d1dae9;\n",
       "  color: #000000;\n",
       "}\n",
       "#T_a6135_row11_col6 {\n",
       "  background-color: #93b5fe;\n",
       "  color: #000000;\n",
       "}\n",
       "#T_a6135_row11_col14 {\n",
       "  background-color: #9ebeff;\n",
       "  color: #000000;\n",
       "}\n",
       "#T_a6135_row11_col15, #T_a6135_row14_col15 {\n",
       "  background-color: #97b8ff;\n",
       "  color: #000000;\n",
       "}\n",
       "#T_a6135_row12_col7 {\n",
       "  background-color: #eed0c0;\n",
       "  color: #000000;\n",
       "}\n",
       "#T_a6135_row12_col9 {\n",
       "  background-color: #c12b30;\n",
       "  color: #f1f1f1;\n",
       "}\n",
       "#T_a6135_row12_col10 {\n",
       "  background-color: #a6c4fe;\n",
       "  color: #000000;\n",
       "}\n",
       "#T_a6135_row12_col13 {\n",
       "  background-color: #ec8165;\n",
       "  color: #f1f1f1;\n",
       "}\n",
       "#T_a6135_row12_col14 {\n",
       "  background-color: #f3c8b2;\n",
       "  color: #000000;\n",
       "}\n",
       "#T_a6135_row13_col6 {\n",
       "  background-color: #d75445;\n",
       "  color: #f1f1f1;\n",
       "}\n",
       "#T_a6135_row13_col12 {\n",
       "  background-color: #f7a688;\n",
       "  color: #000000;\n",
       "}\n",
       "#T_a6135_row13_col15 {\n",
       "  background-color: #e3d9d3;\n",
       "  color: #000000;\n",
       "}\n",
       "#T_a6135_row14_col0 {\n",
       "  background-color: #455cce;\n",
       "  color: #f1f1f1;\n",
       "}\n",
       "#T_a6135_row14_col1 {\n",
       "  background-color: #edd2c3;\n",
       "  color: #000000;\n",
       "}\n",
       "#T_a6135_row14_col4 {\n",
       "  background-color: #b2ccfb;\n",
       "  color: #000000;\n",
       "}\n",
       "#T_a6135_row14_col6 {\n",
       "  background-color: #ccd9ed;\n",
       "  color: #000000;\n",
       "}\n",
       "#T_a6135_row14_col11 {\n",
       "  background-color: #5977e3;\n",
       "  color: #f1f1f1;\n",
       "}\n",
       "#T_a6135_row14_col12 {\n",
       "  background-color: #d5dbe5;\n",
       "  color: #000000;\n",
       "}\n",
       "#T_a6135_row15_col0 {\n",
       "  background-color: #3f53c6;\n",
       "  color: #f1f1f1;\n",
       "}\n",
       "#T_a6135_row15_col3 {\n",
       "  background-color: #b1cbfc;\n",
       "  color: #000000;\n",
       "}\n",
       "#T_a6135_row15_col4 {\n",
       "  background-color: #b6cefa;\n",
       "  color: #000000;\n",
       "}\n",
       "#T_a6135_row15_col5 {\n",
       "  background-color: #7295f4;\n",
       "  color: #f1f1f1;\n",
       "}\n",
       "#T_a6135_row15_col10, #T_a6135_row15_col14 {\n",
       "  background-color: #bed2f6;\n",
       "  color: #000000;\n",
       "}\n",
       "#T_a6135_row15_col12 {\n",
       "  background-color: #d3dbe7;\n",
       "  color: #000000;\n",
       "}\n",
       "#T_a6135_row15_col13 {\n",
       "  background-color: #f5c4ac;\n",
       "  color: #000000;\n",
       "}\n",
       "</style>\n",
       "<table id=\"T_a6135_\">\n",
       "  <thead>\n",
       "    <tr>\n",
       "      <th class=\"blank level0\" >&nbsp;</th>\n",
       "      <th class=\"col_heading level0 col0\" >key</th>\n",
       "      <th class=\"col_heading level0 col1\" >Bulk 1</th>\n",
       "      <th class=\"col_heading level0 col2\" >Bulk 2</th>\n",
       "      <th class=\"col_heading level0 col3\" >Bulk 3</th>\n",
       "      <th class=\"col_heading level0 col4\" >Bulk 4</th>\n",
       "      <th class=\"col_heading level0 col5\" >Bulk 5</th>\n",
       "      <th class=\"col_heading level0 col6\" >Bulk 6</th>\n",
       "      <th class=\"col_heading level0 col7\" >Bulk 7</th>\n",
       "      <th class=\"col_heading level0 col8\" >Bulk 8</th>\n",
       "      <th class=\"col_heading level0 col9\" >Bulk 9</th>\n",
       "      <th class=\"col_heading level0 col10\" >Bulk 10</th>\n",
       "      <th class=\"col_heading level0 col11\" >Bulk 11</th>\n",
       "      <th class=\"col_heading level0 col12\" >Bulk 12</th>\n",
       "      <th class=\"col_heading level0 col13\" >Bulk 13</th>\n",
       "      <th class=\"col_heading level0 col14\" >Bulk 14</th>\n",
       "      <th class=\"col_heading level0 col15\" >Bulk 15</th>\n",
       "    </tr>\n",
       "  </thead>\n",
       "  <tbody>\n",
       "    <tr>\n",
       "      <th id=\"T_a6135_level0_row0\" class=\"row_heading level0 row0\" >key</th>\n",
       "      <td id=\"T_a6135_row0_col0\" class=\"data row0 col0\" >1.00</td>\n",
       "      <td id=\"T_a6135_row0_col1\" class=\"data row0 col1\" >-0.19</td>\n",
       "      <td id=\"T_a6135_row0_col2\" class=\"data row0 col2\" >-0.04</td>\n",
       "      <td id=\"T_a6135_row0_col3\" class=\"data row0 col3\" >-0.08</td>\n",
       "      <td id=\"T_a6135_row0_col4\" class=\"data row0 col4\" >-0.10</td>\n",
       "      <td id=\"T_a6135_row0_col5\" class=\"data row0 col5\" >-0.02</td>\n",
       "      <td id=\"T_a6135_row0_col6\" class=\"data row0 col6\" >-0.06</td>\n",
       "      <td id=\"T_a6135_row0_col7\" class=\"data row0 col7\" >-0.05</td>\n",
       "      <td id=\"T_a6135_row0_col8\" class=\"data row0 col8\" >nan</td>\n",
       "      <td id=\"T_a6135_row0_col9\" class=\"data row0 col9\" >0.26</td>\n",
       "      <td id=\"T_a6135_row0_col10\" class=\"data row0 col10\" >0.29</td>\n",
       "      <td id=\"T_a6135_row0_col11\" class=\"data row0 col11\" >-0.16</td>\n",
       "      <td id=\"T_a6135_row0_col12\" class=\"data row0 col12\" >-0.03</td>\n",
       "      <td id=\"T_a6135_row0_col13\" class=\"data row0 col13\" >0.05</td>\n",
       "      <td id=\"T_a6135_row0_col14\" class=\"data row0 col14\" >-0.15</td>\n",
       "      <td id=\"T_a6135_row0_col15\" class=\"data row0 col15\" >-0.17</td>\n",
       "    </tr>\n",
       "    <tr>\n",
       "      <th id=\"T_a6135_level0_row1\" class=\"row_heading level0 row1\" >Bulk 1</th>\n",
       "      <td id=\"T_a6135_row1_col0\" class=\"data row1 col0\" >-0.19</td>\n",
       "      <td id=\"T_a6135_row1_col1\" class=\"data row1 col1\" >1.00</td>\n",
       "      <td id=\"T_a6135_row1_col2\" class=\"data row1 col2\" >-0.07</td>\n",
       "      <td id=\"T_a6135_row1_col3\" class=\"data row1 col3\" >0.02</td>\n",
       "      <td id=\"T_a6135_row1_col4\" class=\"data row1 col4\" >-0.04</td>\n",
       "      <td id=\"T_a6135_row1_col5\" class=\"data row1 col5\" >-0.37</td>\n",
       "      <td id=\"T_a6135_row1_col6\" class=\"data row1 col6\" >0.14</td>\n",
       "      <td id=\"T_a6135_row1_col7\" class=\"data row1 col7\" >-0.09</td>\n",
       "      <td id=\"T_a6135_row1_col8\" class=\"data row1 col8\" >nan</td>\n",
       "      <td id=\"T_a6135_row1_col9\" class=\"data row1 col9\" >nan</td>\n",
       "      <td id=\"T_a6135_row1_col10\" class=\"data row1 col10\" >-0.28</td>\n",
       "      <td id=\"T_a6135_row1_col11\" class=\"data row1 col11\" >0.46</td>\n",
       "      <td id=\"T_a6135_row1_col12\" class=\"data row1 col12\" >0.37</td>\n",
       "      <td id=\"T_a6135_row1_col13\" class=\"data row1 col13\" >1.00</td>\n",
       "      <td id=\"T_a6135_row1_col14\" class=\"data row1 col14\" >0.41</td>\n",
       "      <td id=\"T_a6135_row1_col15\" class=\"data row1 col15\" >-0.12</td>\n",
       "    </tr>\n",
       "    <tr>\n",
       "      <th id=\"T_a6135_level0_row2\" class=\"row_heading level0 row2\" >Bulk 2</th>\n",
       "      <td id=\"T_a6135_row2_col0\" class=\"data row2 col0\" >-0.04</td>\n",
       "      <td id=\"T_a6135_row2_col1\" class=\"data row2 col1\" >-0.07</td>\n",
       "      <td id=\"T_a6135_row2_col2\" class=\"data row2 col2\" >1.00</td>\n",
       "      <td id=\"T_a6135_row2_col3\" class=\"data row2 col3\" >nan</td>\n",
       "      <td id=\"T_a6135_row2_col4\" class=\"data row2 col4\" >0.39</td>\n",
       "      <td id=\"T_a6135_row2_col5\" class=\"data row2 col5\" >0.07</td>\n",
       "      <td id=\"T_a6135_row2_col6\" class=\"data row2 col6\" >nan</td>\n",
       "      <td id=\"T_a6135_row2_col7\" class=\"data row2 col7\" >-0.01</td>\n",
       "      <td id=\"T_a6135_row2_col8\" class=\"data row2 col8\" >nan</td>\n",
       "      <td id=\"T_a6135_row2_col9\" class=\"data row2 col9\" >nan</td>\n",
       "      <td id=\"T_a6135_row2_col10\" class=\"data row2 col10\" >nan</td>\n",
       "      <td id=\"T_a6135_row2_col11\" class=\"data row2 col11\" >nan</td>\n",
       "      <td id=\"T_a6135_row2_col12\" class=\"data row2 col12\" >nan</td>\n",
       "      <td id=\"T_a6135_row2_col13\" class=\"data row2 col13\" >nan</td>\n",
       "      <td id=\"T_a6135_row2_col14\" class=\"data row2 col14\" >nan</td>\n",
       "      <td id=\"T_a6135_row2_col15\" class=\"data row2 col15\" >nan</td>\n",
       "    </tr>\n",
       "    <tr>\n",
       "      <th id=\"T_a6135_level0_row3\" class=\"row_heading level0 row3\" >Bulk 3</th>\n",
       "      <td id=\"T_a6135_row3_col0\" class=\"data row3 col0\" >-0.08</td>\n",
       "      <td id=\"T_a6135_row3_col1\" class=\"data row3 col1\" >0.02</td>\n",
       "      <td id=\"T_a6135_row3_col2\" class=\"data row3 col2\" >nan</td>\n",
       "      <td id=\"T_a6135_row3_col3\" class=\"data row3 col3\" >1.00</td>\n",
       "      <td id=\"T_a6135_row3_col4\" class=\"data row3 col4\" >-0.26</td>\n",
       "      <td id=\"T_a6135_row3_col5\" class=\"data row3 col5\" >0.14</td>\n",
       "      <td id=\"T_a6135_row3_col6\" class=\"data row3 col6\" >0.25</td>\n",
       "      <td id=\"T_a6135_row3_col7\" class=\"data row3 col7\" >nan</td>\n",
       "      <td id=\"T_a6135_row3_col8\" class=\"data row3 col8\" >nan</td>\n",
       "      <td id=\"T_a6135_row3_col9\" class=\"data row3 col9\" >0.07</td>\n",
       "      <td id=\"T_a6135_row3_col10\" class=\"data row3 col10\" >-0.24</td>\n",
       "      <td id=\"T_a6135_row3_col11\" class=\"data row3 col11\" >0.14</td>\n",
       "      <td id=\"T_a6135_row3_col12\" class=\"data row3 col12\" >0.01</td>\n",
       "      <td id=\"T_a6135_row3_col13\" class=\"data row3 col13\" >-0.58</td>\n",
       "      <td id=\"T_a6135_row3_col14\" class=\"data row3 col14\" >0.03</td>\n",
       "      <td id=\"T_a6135_row3_col15\" class=\"data row3 col15\" >-0.02</td>\n",
       "    </tr>\n",
       "    <tr>\n",
       "      <th id=\"T_a6135_level0_row4\" class=\"row_heading level0 row4\" >Bulk 4</th>\n",
       "      <td id=\"T_a6135_row4_col0\" class=\"data row4 col0\" >-0.10</td>\n",
       "      <td id=\"T_a6135_row4_col1\" class=\"data row4 col1\" >-0.04</td>\n",
       "      <td id=\"T_a6135_row4_col2\" class=\"data row4 col2\" >0.39</td>\n",
       "      <td id=\"T_a6135_row4_col3\" class=\"data row4 col3\" >-0.26</td>\n",
       "      <td id=\"T_a6135_row4_col4\" class=\"data row4 col4\" >1.00</td>\n",
       "      <td id=\"T_a6135_row4_col5\" class=\"data row4 col5\" >-0.08</td>\n",
       "      <td id=\"T_a6135_row4_col6\" class=\"data row4 col6\" >-0.33</td>\n",
       "      <td id=\"T_a6135_row4_col7\" class=\"data row4 col7\" >0.32</td>\n",
       "      <td id=\"T_a6135_row4_col8\" class=\"data row4 col8\" >nan</td>\n",
       "      <td id=\"T_a6135_row4_col9\" class=\"data row4 col9\" >0.77</td>\n",
       "      <td id=\"T_a6135_row4_col10\" class=\"data row4 col10\" >-0.52</td>\n",
       "      <td id=\"T_a6135_row4_col11\" class=\"data row4 col11\" >nan</td>\n",
       "      <td id=\"T_a6135_row4_col12\" class=\"data row4 col12\" >0.05</td>\n",
       "      <td id=\"T_a6135_row4_col13\" class=\"data row4 col13\" >-0.31</td>\n",
       "      <td id=\"T_a6135_row4_col14\" class=\"data row4 col14\" >0.02</td>\n",
       "      <td id=\"T_a6135_row4_col15\" class=\"data row4 col15\" >0.04</td>\n",
       "    </tr>\n",
       "    <tr>\n",
       "      <th id=\"T_a6135_level0_row5\" class=\"row_heading level0 row5\" >Bulk 5</th>\n",
       "      <td id=\"T_a6135_row5_col0\" class=\"data row5 col0\" >-0.02</td>\n",
       "      <td id=\"T_a6135_row5_col1\" class=\"data row5 col1\" >-0.37</td>\n",
       "      <td id=\"T_a6135_row5_col2\" class=\"data row5 col2\" >0.07</td>\n",
       "      <td id=\"T_a6135_row5_col3\" class=\"data row5 col3\" >0.14</td>\n",
       "      <td id=\"T_a6135_row5_col4\" class=\"data row5 col4\" >-0.08</td>\n",
       "      <td id=\"T_a6135_row5_col5\" class=\"data row5 col5\" >1.00</td>\n",
       "      <td id=\"T_a6135_row5_col6\" class=\"data row5 col6\" >-0.51</td>\n",
       "      <td id=\"T_a6135_row5_col7\" class=\"data row5 col7\" >0.30</td>\n",
       "      <td id=\"T_a6135_row5_col8\" class=\"data row5 col8\" >nan</td>\n",
       "      <td id=\"T_a6135_row5_col9\" class=\"data row5 col9\" >nan</td>\n",
       "      <td id=\"T_a6135_row5_col10\" class=\"data row5 col10\" >nan</td>\n",
       "      <td id=\"T_a6135_row5_col11\" class=\"data row5 col11\" >nan</td>\n",
       "      <td id=\"T_a6135_row5_col12\" class=\"data row5 col12\" >0.01</td>\n",
       "      <td id=\"T_a6135_row5_col13\" class=\"data row5 col13\" >nan</td>\n",
       "      <td id=\"T_a6135_row5_col14\" class=\"data row5 col14\" >-0.26</td>\n",
       "      <td id=\"T_a6135_row5_col15\" class=\"data row5 col15\" >-0.25</td>\n",
       "    </tr>\n",
       "    <tr>\n",
       "      <th id=\"T_a6135_level0_row6\" class=\"row_heading level0 row6\" >Bulk 6</th>\n",
       "      <td id=\"T_a6135_row6_col0\" class=\"data row6 col0\" >-0.06</td>\n",
       "      <td id=\"T_a6135_row6_col1\" class=\"data row6 col1\" >0.14</td>\n",
       "      <td id=\"T_a6135_row6_col2\" class=\"data row6 col2\" >nan</td>\n",
       "      <td id=\"T_a6135_row6_col3\" class=\"data row6 col3\" >0.25</td>\n",
       "      <td id=\"T_a6135_row6_col4\" class=\"data row6 col4\" >-0.33</td>\n",
       "      <td id=\"T_a6135_row6_col5\" class=\"data row6 col5\" >-0.51</td>\n",
       "      <td id=\"T_a6135_row6_col6\" class=\"data row6 col6\" >1.00</td>\n",
       "      <td id=\"T_a6135_row6_col7\" class=\"data row6 col7\" >nan</td>\n",
       "      <td id=\"T_a6135_row6_col8\" class=\"data row6 col8\" >nan</td>\n",
       "      <td id=\"T_a6135_row6_col9\" class=\"data row6 col9\" >nan</td>\n",
       "      <td id=\"T_a6135_row6_col10\" class=\"data row6 col10\" >nan</td>\n",
       "      <td id=\"T_a6135_row6_col11\" class=\"data row6 col11\" >-0.10</td>\n",
       "      <td id=\"T_a6135_row6_col12\" class=\"data row6 col12\" >-0.08</td>\n",
       "      <td id=\"T_a6135_row6_col13\" class=\"data row6 col13\" >0.84</td>\n",
       "      <td id=\"T_a6135_row6_col14\" class=\"data row6 col14\" >0.15</td>\n",
       "      <td id=\"T_a6135_row6_col15\" class=\"data row6 col15\" >-0.04</td>\n",
       "    </tr>\n",
       "    <tr>\n",
       "      <th id=\"T_a6135_level0_row7\" class=\"row_heading level0 row7\" >Bulk 7</th>\n",
       "      <td id=\"T_a6135_row7_col0\" class=\"data row7 col0\" >-0.05</td>\n",
       "      <td id=\"T_a6135_row7_col1\" class=\"data row7 col1\" >-0.09</td>\n",
       "      <td id=\"T_a6135_row7_col2\" class=\"data row7 col2\" >-0.01</td>\n",
       "      <td id=\"T_a6135_row7_col3\" class=\"data row7 col3\" >nan</td>\n",
       "      <td id=\"T_a6135_row7_col4\" class=\"data row7 col4\" >0.32</td>\n",
       "      <td id=\"T_a6135_row7_col5\" class=\"data row7 col5\" >0.30</td>\n",
       "      <td id=\"T_a6135_row7_col6\" class=\"data row7 col6\" >nan</td>\n",
       "      <td id=\"T_a6135_row7_col7\" class=\"data row7 col7\" >1.00</td>\n",
       "      <td id=\"T_a6135_row7_col8\" class=\"data row7 col8\" >nan</td>\n",
       "      <td id=\"T_a6135_row7_col9\" class=\"data row7 col9\" >nan</td>\n",
       "      <td id=\"T_a6135_row7_col10\" class=\"data row7 col10\" >nan</td>\n",
       "      <td id=\"T_a6135_row7_col11\" class=\"data row7 col11\" >nan</td>\n",
       "      <td id=\"T_a6135_row7_col12\" class=\"data row7 col12\" >0.54</td>\n",
       "      <td id=\"T_a6135_row7_col13\" class=\"data row7 col13\" >nan</td>\n",
       "      <td id=\"T_a6135_row7_col14\" class=\"data row7 col14\" >1.00</td>\n",
       "      <td id=\"T_a6135_row7_col15\" class=\"data row7 col15\" >nan</td>\n",
       "    </tr>\n",
       "    <tr>\n",
       "      <th id=\"T_a6135_level0_row8\" class=\"row_heading level0 row8\" >Bulk 8</th>\n",
       "      <td id=\"T_a6135_row8_col0\" class=\"data row8 col0\" >nan</td>\n",
       "      <td id=\"T_a6135_row8_col1\" class=\"data row8 col1\" >nan</td>\n",
       "      <td id=\"T_a6135_row8_col2\" class=\"data row8 col2\" >nan</td>\n",
       "      <td id=\"T_a6135_row8_col3\" class=\"data row8 col3\" >nan</td>\n",
       "      <td id=\"T_a6135_row8_col4\" class=\"data row8 col4\" >nan</td>\n",
       "      <td id=\"T_a6135_row8_col5\" class=\"data row8 col5\" >nan</td>\n",
       "      <td id=\"T_a6135_row8_col6\" class=\"data row8 col6\" >nan</td>\n",
       "      <td id=\"T_a6135_row8_col7\" class=\"data row8 col7\" >nan</td>\n",
       "      <td id=\"T_a6135_row8_col8\" class=\"data row8 col8\" >nan</td>\n",
       "      <td id=\"T_a6135_row8_col9\" class=\"data row8 col9\" >nan</td>\n",
       "      <td id=\"T_a6135_row8_col10\" class=\"data row8 col10\" >nan</td>\n",
       "      <td id=\"T_a6135_row8_col11\" class=\"data row8 col11\" >nan</td>\n",
       "      <td id=\"T_a6135_row8_col12\" class=\"data row8 col12\" >nan</td>\n",
       "      <td id=\"T_a6135_row8_col13\" class=\"data row8 col13\" >nan</td>\n",
       "      <td id=\"T_a6135_row8_col14\" class=\"data row8 col14\" >nan</td>\n",
       "      <td id=\"T_a6135_row8_col15\" class=\"data row8 col15\" >nan</td>\n",
       "    </tr>\n",
       "    <tr>\n",
       "      <th id=\"T_a6135_level0_row9\" class=\"row_heading level0 row9\" >Bulk 9</th>\n",
       "      <td id=\"T_a6135_row9_col0\" class=\"data row9 col0\" >0.26</td>\n",
       "      <td id=\"T_a6135_row9_col1\" class=\"data row9 col1\" >nan</td>\n",
       "      <td id=\"T_a6135_row9_col2\" class=\"data row9 col2\" >nan</td>\n",
       "      <td id=\"T_a6135_row9_col3\" class=\"data row9 col3\" >0.07</td>\n",
       "      <td id=\"T_a6135_row9_col4\" class=\"data row9 col4\" >0.77</td>\n",
       "      <td id=\"T_a6135_row9_col5\" class=\"data row9 col5\" >nan</td>\n",
       "      <td id=\"T_a6135_row9_col6\" class=\"data row9 col6\" >nan</td>\n",
       "      <td id=\"T_a6135_row9_col7\" class=\"data row9 col7\" >nan</td>\n",
       "      <td id=\"T_a6135_row9_col8\" class=\"data row9 col8\" >nan</td>\n",
       "      <td id=\"T_a6135_row9_col9\" class=\"data row9 col9\" >1.00</td>\n",
       "      <td id=\"T_a6135_row9_col10\" class=\"data row9 col10\" >nan</td>\n",
       "      <td id=\"T_a6135_row9_col11\" class=\"data row9 col11\" >nan</td>\n",
       "      <td id=\"T_a6135_row9_col12\" class=\"data row9 col12\" >0.95</td>\n",
       "      <td id=\"T_a6135_row9_col13\" class=\"data row9 col13\" >nan</td>\n",
       "      <td id=\"T_a6135_row9_col14\" class=\"data row9 col14\" >-0.48</td>\n",
       "      <td id=\"T_a6135_row9_col15\" class=\"data row9 col15\" >nan</td>\n",
       "    </tr>\n",
       "    <tr>\n",
       "      <th id=\"T_a6135_level0_row10\" class=\"row_heading level0 row10\" >Bulk 10</th>\n",
       "      <td id=\"T_a6135_row10_col0\" class=\"data row10 col0\" >0.29</td>\n",
       "      <td id=\"T_a6135_row10_col1\" class=\"data row10 col1\" >-0.28</td>\n",
       "      <td id=\"T_a6135_row10_col2\" class=\"data row10 col2\" >nan</td>\n",
       "      <td id=\"T_a6135_row10_col3\" class=\"data row10 col3\" >-0.24</td>\n",
       "      <td id=\"T_a6135_row10_col4\" class=\"data row10 col4\" >-0.52</td>\n",
       "      <td id=\"T_a6135_row10_col5\" class=\"data row10 col5\" >nan</td>\n",
       "      <td id=\"T_a6135_row10_col6\" class=\"data row10 col6\" >nan</td>\n",
       "      <td id=\"T_a6135_row10_col7\" class=\"data row10 col7\" >nan</td>\n",
       "      <td id=\"T_a6135_row10_col8\" class=\"data row10 col8\" >nan</td>\n",
       "      <td id=\"T_a6135_row10_col9\" class=\"data row10 col9\" >nan</td>\n",
       "      <td id=\"T_a6135_row10_col10\" class=\"data row10 col10\" >1.00</td>\n",
       "      <td id=\"T_a6135_row10_col11\" class=\"data row10 col11\" >nan</td>\n",
       "      <td id=\"T_a6135_row10_col12\" class=\"data row10 col12\" >-0.03</td>\n",
       "      <td id=\"T_a6135_row10_col13\" class=\"data row10 col13\" >nan</td>\n",
       "      <td id=\"T_a6135_row10_col14\" class=\"data row10 col14\" >-0.25</td>\n",
       "      <td id=\"T_a6135_row10_col15\" class=\"data row10 col15\" >0.08</td>\n",
       "    </tr>\n",
       "    <tr>\n",
       "      <th id=\"T_a6135_level0_row11\" class=\"row_heading level0 row11\" >Bulk 11</th>\n",
       "      <td id=\"T_a6135_row11_col0\" class=\"data row11 col0\" >-0.16</td>\n",
       "      <td id=\"T_a6135_row11_col1\" class=\"data row11 col1\" >0.46</td>\n",
       "      <td id=\"T_a6135_row11_col2\" class=\"data row11 col2\" >nan</td>\n",
       "      <td id=\"T_a6135_row11_col3\" class=\"data row11 col3\" >0.14</td>\n",
       "      <td id=\"T_a6135_row11_col4\" class=\"data row11 col4\" >nan</td>\n",
       "      <td id=\"T_a6135_row11_col5\" class=\"data row11 col5\" >nan</td>\n",
       "      <td id=\"T_a6135_row11_col6\" class=\"data row11 col6\" >-0.10</td>\n",
       "      <td id=\"T_a6135_row11_col7\" class=\"data row11 col7\" >nan</td>\n",
       "      <td id=\"T_a6135_row11_col8\" class=\"data row11 col8\" >nan</td>\n",
       "      <td id=\"T_a6135_row11_col9\" class=\"data row11 col9\" >nan</td>\n",
       "      <td id=\"T_a6135_row11_col10\" class=\"data row11 col10\" >nan</td>\n",
       "      <td id=\"T_a6135_row11_col11\" class=\"data row11 col11\" >1.00</td>\n",
       "      <td id=\"T_a6135_row11_col12\" class=\"data row11 col12\" >0.05</td>\n",
       "      <td id=\"T_a6135_row11_col13\" class=\"data row11 col13\" >nan</td>\n",
       "      <td id=\"T_a6135_row11_col14\" class=\"data row11 col14\" >-0.04</td>\n",
       "      <td id=\"T_a6135_row11_col15\" class=\"data row11 col15\" >0.10</td>\n",
       "    </tr>\n",
       "    <tr>\n",
       "      <th id=\"T_a6135_level0_row12\" class=\"row_heading level0 row12\" >Bulk 12</th>\n",
       "      <td id=\"T_a6135_row12_col0\" class=\"data row12 col0\" >-0.03</td>\n",
       "      <td id=\"T_a6135_row12_col1\" class=\"data row12 col1\" >0.37</td>\n",
       "      <td id=\"T_a6135_row12_col2\" class=\"data row12 col2\" >nan</td>\n",
       "      <td id=\"T_a6135_row12_col3\" class=\"data row12 col3\" >0.01</td>\n",
       "      <td id=\"T_a6135_row12_col4\" class=\"data row12 col4\" >0.05</td>\n",
       "      <td id=\"T_a6135_row12_col5\" class=\"data row12 col5\" >0.01</td>\n",
       "      <td id=\"T_a6135_row12_col6\" class=\"data row12 col6\" >-0.08</td>\n",
       "      <td id=\"T_a6135_row12_col7\" class=\"data row12 col7\" >0.54</td>\n",
       "      <td id=\"T_a6135_row12_col8\" class=\"data row12 col8\" >nan</td>\n",
       "      <td id=\"T_a6135_row12_col9\" class=\"data row12 col9\" >0.95</td>\n",
       "      <td id=\"T_a6135_row12_col10\" class=\"data row12 col10\" >-0.03</td>\n",
       "      <td id=\"T_a6135_row12_col11\" class=\"data row12 col11\" >0.05</td>\n",
       "      <td id=\"T_a6135_row12_col12\" class=\"data row12 col12\" >1.00</td>\n",
       "      <td id=\"T_a6135_row12_col13\" class=\"data row12 col13\" >0.70</td>\n",
       "      <td id=\"T_a6135_row12_col14\" class=\"data row12 col14\" >0.43</td>\n",
       "      <td id=\"T_a6135_row12_col15\" class=\"data row12 col15\" >0.42</td>\n",
       "    </tr>\n",
       "    <tr>\n",
       "      <th id=\"T_a6135_level0_row13\" class=\"row_heading level0 row13\" >Bulk 13</th>\n",
       "      <td id=\"T_a6135_row13_col0\" class=\"data row13 col0\" >0.05</td>\n",
       "      <td id=\"T_a6135_row13_col1\" class=\"data row13 col1\" >1.00</td>\n",
       "      <td id=\"T_a6135_row13_col2\" class=\"data row13 col2\" >nan</td>\n",
       "      <td id=\"T_a6135_row13_col3\" class=\"data row13 col3\" >-0.58</td>\n",
       "      <td id=\"T_a6135_row13_col4\" class=\"data row13 col4\" >-0.31</td>\n",
       "      <td id=\"T_a6135_row13_col5\" class=\"data row13 col5\" >nan</td>\n",
       "      <td id=\"T_a6135_row13_col6\" class=\"data row13 col6\" >0.84</td>\n",
       "      <td id=\"T_a6135_row13_col7\" class=\"data row13 col7\" >nan</td>\n",
       "      <td id=\"T_a6135_row13_col8\" class=\"data row13 col8\" >nan</td>\n",
       "      <td id=\"T_a6135_row13_col9\" class=\"data row13 col9\" >nan</td>\n",
       "      <td id=\"T_a6135_row13_col10\" class=\"data row13 col10\" >nan</td>\n",
       "      <td id=\"T_a6135_row13_col11\" class=\"data row13 col11\" >nan</td>\n",
       "      <td id=\"T_a6135_row13_col12\" class=\"data row13 col12\" >0.70</td>\n",
       "      <td id=\"T_a6135_row13_col13\" class=\"data row13 col13\" >1.00</td>\n",
       "      <td id=\"T_a6135_row13_col14\" class=\"data row13 col14\" >0.37</td>\n",
       "      <td id=\"T_a6135_row13_col15\" class=\"data row13 col15\" >0.41</td>\n",
       "    </tr>\n",
       "    <tr>\n",
       "      <th id=\"T_a6135_level0_row14\" class=\"row_heading level0 row14\" >Bulk 14</th>\n",
       "      <td id=\"T_a6135_row14_col0\" class=\"data row14 col0\" >-0.15</td>\n",
       "      <td id=\"T_a6135_row14_col1\" class=\"data row14 col1\" >0.41</td>\n",
       "      <td id=\"T_a6135_row14_col2\" class=\"data row14 col2\" >nan</td>\n",
       "      <td id=\"T_a6135_row14_col3\" class=\"data row14 col3\" >0.03</td>\n",
       "      <td id=\"T_a6135_row14_col4\" class=\"data row14 col4\" >0.02</td>\n",
       "      <td id=\"T_a6135_row14_col5\" class=\"data row14 col5\" >-0.26</td>\n",
       "      <td id=\"T_a6135_row14_col6\" class=\"data row14 col6\" >0.15</td>\n",
       "      <td id=\"T_a6135_row14_col7\" class=\"data row14 col7\" >1.00</td>\n",
       "      <td id=\"T_a6135_row14_col8\" class=\"data row14 col8\" >nan</td>\n",
       "      <td id=\"T_a6135_row14_col9\" class=\"data row14 col9\" >-0.48</td>\n",
       "      <td id=\"T_a6135_row14_col10\" class=\"data row14 col10\" >-0.25</td>\n",
       "      <td id=\"T_a6135_row14_col11\" class=\"data row14 col11\" >-0.04</td>\n",
       "      <td id=\"T_a6135_row14_col12\" class=\"data row14 col12\" >0.43</td>\n",
       "      <td id=\"T_a6135_row14_col13\" class=\"data row14 col13\" >0.37</td>\n",
       "      <td id=\"T_a6135_row14_col14\" class=\"data row14 col14\" >1.00</td>\n",
       "      <td id=\"T_a6135_row14_col15\" class=\"data row14 col15\" >0.10</td>\n",
       "    </tr>\n",
       "    <tr>\n",
       "      <th id=\"T_a6135_level0_row15\" class=\"row_heading level0 row15\" >Bulk 15</th>\n",
       "      <td id=\"T_a6135_row15_col0\" class=\"data row15 col0\" >-0.17</td>\n",
       "      <td id=\"T_a6135_row15_col1\" class=\"data row15 col1\" >-0.12</td>\n",
       "      <td id=\"T_a6135_row15_col2\" class=\"data row15 col2\" >nan</td>\n",
       "      <td id=\"T_a6135_row15_col3\" class=\"data row15 col3\" >-0.02</td>\n",
       "      <td id=\"T_a6135_row15_col4\" class=\"data row15 col4\" >0.04</td>\n",
       "      <td id=\"T_a6135_row15_col5\" class=\"data row15 col5\" >-0.25</td>\n",
       "      <td id=\"T_a6135_row15_col6\" class=\"data row15 col6\" >-0.04</td>\n",
       "      <td id=\"T_a6135_row15_col7\" class=\"data row15 col7\" >nan</td>\n",
       "      <td id=\"T_a6135_row15_col8\" class=\"data row15 col8\" >nan</td>\n",
       "      <td id=\"T_a6135_row15_col9\" class=\"data row15 col9\" >nan</td>\n",
       "      <td id=\"T_a6135_row15_col10\" class=\"data row15 col10\" >0.08</td>\n",
       "      <td id=\"T_a6135_row15_col11\" class=\"data row15 col11\" >0.10</td>\n",
       "      <td id=\"T_a6135_row15_col12\" class=\"data row15 col12\" >0.42</td>\n",
       "      <td id=\"T_a6135_row15_col13\" class=\"data row15 col13\" >0.41</td>\n",
       "      <td id=\"T_a6135_row15_col14\" class=\"data row15 col14\" >0.10</td>\n",
       "      <td id=\"T_a6135_row15_col15\" class=\"data row15 col15\" >1.00</td>\n",
       "    </tr>\n",
       "  </tbody>\n",
       "</table>\n"
      ],
      "text/plain": [
       "<pandas.io.formats.style.Styler at 0x1b5815ebdc0>"
      ]
     },
     "metadata": {},
     "output_type": "display_data"
    }
   ],
   "source": [
    "data_info(data_bulk)"
   ]
  },
  {
   "cell_type": "code",
   "execution_count": 13,
   "metadata": {},
   "outputs": [
    {
     "data": {
      "text/plain": [
       "3129"
      ]
     },
     "execution_count": 13,
     "metadata": {},
     "output_type": "execute_result"
    }
   ],
   "source": [
    "#количество уникальных значений Key\n",
    "len(data_bulk['key'].unique())"
   ]
  },
  {
   "cell_type": "markdown",
   "metadata": {},
   "source": [
    "**Вывод**\n",
    "- Дубликатов нет, типы данных верные\n",
    "- Большое колличество пропуском обусловленно подачей разных сочетаний сыпучих материалов разным партиям"
   ]
  },
  {
   "cell_type": "markdown",
   "metadata": {},
   "source": [
    "### `data_bulk_time` - данные о подаче сыпучих материалов (время)"
   ]
  },
  {
   "cell_type": "code",
   "execution_count": 14,
   "metadata": {},
   "outputs": [
    {
     "data": {
      "text/html": [
       "<div>\n",
       "<style scoped>\n",
       "    .dataframe tbody tr th:only-of-type {\n",
       "        vertical-align: middle;\n",
       "    }\n",
       "\n",
       "    .dataframe tbody tr th {\n",
       "        vertical-align: top;\n",
       "    }\n",
       "\n",
       "    .dataframe thead th {\n",
       "        text-align: right;\n",
       "    }\n",
       "</style>\n",
       "<table border=\"1\" class=\"dataframe\">\n",
       "  <thead>\n",
       "    <tr style=\"text-align: right;\">\n",
       "      <th></th>\n",
       "      <th>key</th>\n",
       "      <th>Bulk 1</th>\n",
       "      <th>Bulk 2</th>\n",
       "      <th>Bulk 3</th>\n",
       "      <th>Bulk 4</th>\n",
       "      <th>Bulk 5</th>\n",
       "      <th>Bulk 6</th>\n",
       "      <th>Bulk 7</th>\n",
       "      <th>Bulk 8</th>\n",
       "      <th>Bulk 9</th>\n",
       "      <th>Bulk 10</th>\n",
       "      <th>Bulk 11</th>\n",
       "      <th>Bulk 12</th>\n",
       "      <th>Bulk 13</th>\n",
       "      <th>Bulk 14</th>\n",
       "      <th>Bulk 15</th>\n",
       "    </tr>\n",
       "  </thead>\n",
       "  <tbody>\n",
       "    <tr>\n",
       "      <th>0</th>\n",
       "      <td>1</td>\n",
       "      <td>NaN</td>\n",
       "      <td>NaN</td>\n",
       "      <td>NaN</td>\n",
       "      <td>2019-05-03 11:21:30</td>\n",
       "      <td>NaN</td>\n",
       "      <td>NaN</td>\n",
       "      <td>NaN</td>\n",
       "      <td>NaN</td>\n",
       "      <td>NaN</td>\n",
       "      <td>NaN</td>\n",
       "      <td>NaN</td>\n",
       "      <td>2019-05-03 11:03:52</td>\n",
       "      <td>NaN</td>\n",
       "      <td>2019-05-03 11:03:52</td>\n",
       "      <td>2019-05-03 11:03:52</td>\n",
       "    </tr>\n",
       "    <tr>\n",
       "      <th>1</th>\n",
       "      <td>2</td>\n",
       "      <td>NaN</td>\n",
       "      <td>NaN</td>\n",
       "      <td>NaN</td>\n",
       "      <td>2019-05-03 11:46:38</td>\n",
       "      <td>NaN</td>\n",
       "      <td>NaN</td>\n",
       "      <td>NaN</td>\n",
       "      <td>NaN</td>\n",
       "      <td>NaN</td>\n",
       "      <td>NaN</td>\n",
       "      <td>NaN</td>\n",
       "      <td>2019-05-03 11:40:20</td>\n",
       "      <td>NaN</td>\n",
       "      <td>2019-05-03 11:40:20</td>\n",
       "      <td>2019-05-03 11:40:20</td>\n",
       "    </tr>\n",
       "    <tr>\n",
       "      <th>2</th>\n",
       "      <td>3</td>\n",
       "      <td>NaN</td>\n",
       "      <td>NaN</td>\n",
       "      <td>NaN</td>\n",
       "      <td>2019-05-03 12:31:06</td>\n",
       "      <td>NaN</td>\n",
       "      <td>NaN</td>\n",
       "      <td>NaN</td>\n",
       "      <td>NaN</td>\n",
       "      <td>NaN</td>\n",
       "      <td>NaN</td>\n",
       "      <td>NaN</td>\n",
       "      <td>2019-05-03 12:09:40</td>\n",
       "      <td>NaN</td>\n",
       "      <td>2019-05-03 12:09:40</td>\n",
       "      <td>2019-05-03 12:09:40</td>\n",
       "    </tr>\n",
       "    <tr>\n",
       "      <th>3</th>\n",
       "      <td>4</td>\n",
       "      <td>NaN</td>\n",
       "      <td>NaN</td>\n",
       "      <td>NaN</td>\n",
       "      <td>2019-05-03 12:48:43</td>\n",
       "      <td>NaN</td>\n",
       "      <td>NaN</td>\n",
       "      <td>NaN</td>\n",
       "      <td>NaN</td>\n",
       "      <td>NaN</td>\n",
       "      <td>NaN</td>\n",
       "      <td>NaN</td>\n",
       "      <td>2019-05-03 12:41:24</td>\n",
       "      <td>NaN</td>\n",
       "      <td>2019-05-03 12:41:24</td>\n",
       "      <td>2019-05-03 12:41:24</td>\n",
       "    </tr>\n",
       "    <tr>\n",
       "      <th>4</th>\n",
       "      <td>5</td>\n",
       "      <td>NaN</td>\n",
       "      <td>NaN</td>\n",
       "      <td>NaN</td>\n",
       "      <td>2019-05-03 13:18:50</td>\n",
       "      <td>NaN</td>\n",
       "      <td>NaN</td>\n",
       "      <td>NaN</td>\n",
       "      <td>NaN</td>\n",
       "      <td>NaN</td>\n",
       "      <td>NaN</td>\n",
       "      <td>NaN</td>\n",
       "      <td>2019-05-03 13:12:56</td>\n",
       "      <td>NaN</td>\n",
       "      <td>2019-05-03 13:12:56</td>\n",
       "      <td>2019-05-03 13:12:56</td>\n",
       "    </tr>\n",
       "    <tr>\n",
       "      <th>5</th>\n",
       "      <td>6</td>\n",
       "      <td>NaN</td>\n",
       "      <td>NaN</td>\n",
       "      <td>NaN</td>\n",
       "      <td>2019-05-03 13:59:24</td>\n",
       "      <td>NaN</td>\n",
       "      <td>NaN</td>\n",
       "      <td>NaN</td>\n",
       "      <td>NaN</td>\n",
       "      <td>NaN</td>\n",
       "      <td>NaN</td>\n",
       "      <td>NaN</td>\n",
       "      <td>2019-05-03 13:53:27</td>\n",
       "      <td>NaN</td>\n",
       "      <td>2019-05-03 13:53:27</td>\n",
       "      <td>2019-05-03 13:53:27</td>\n",
       "    </tr>\n",
       "    <tr>\n",
       "      <th>6</th>\n",
       "      <td>7</td>\n",
       "      <td>NaN</td>\n",
       "      <td>NaN</td>\n",
       "      <td>NaN</td>\n",
       "      <td>2019-05-03 14:29:14</td>\n",
       "      <td>NaN</td>\n",
       "      <td>NaN</td>\n",
       "      <td>NaN</td>\n",
       "      <td>NaN</td>\n",
       "      <td>NaN</td>\n",
       "      <td>NaN</td>\n",
       "      <td>NaN</td>\n",
       "      <td>2019-05-03 14:22:19</td>\n",
       "      <td>NaN</td>\n",
       "      <td>2019-05-03 14:22:19</td>\n",
       "      <td>2019-05-03 14:22:19</td>\n",
       "    </tr>\n",
       "    <tr>\n",
       "      <th>7</th>\n",
       "      <td>8</td>\n",
       "      <td>NaN</td>\n",
       "      <td>NaN</td>\n",
       "      <td>NaN</td>\n",
       "      <td>2019-05-03 15:04:05</td>\n",
       "      <td>NaN</td>\n",
       "      <td>NaN</td>\n",
       "      <td>NaN</td>\n",
       "      <td>NaN</td>\n",
       "      <td>NaN</td>\n",
       "      <td>NaN</td>\n",
       "      <td>NaN</td>\n",
       "      <td>2019-05-03 14:55:46</td>\n",
       "      <td>NaN</td>\n",
       "      <td>2019-05-03 14:55:46</td>\n",
       "      <td>2019-05-03 14:55:46</td>\n",
       "    </tr>\n",
       "    <tr>\n",
       "      <th>8</th>\n",
       "      <td>9</td>\n",
       "      <td>NaN</td>\n",
       "      <td>NaN</td>\n",
       "      <td>NaN</td>\n",
       "      <td>2019-05-03 15:47:34</td>\n",
       "      <td>NaN</td>\n",
       "      <td>NaN</td>\n",
       "      <td>NaN</td>\n",
       "      <td>NaN</td>\n",
       "      <td>NaN</td>\n",
       "      <td>NaN</td>\n",
       "      <td>NaN</td>\n",
       "      <td>2019-05-03 15:41:00</td>\n",
       "      <td>NaN</td>\n",
       "      <td>2019-05-03 15:41:00</td>\n",
       "      <td>2019-05-03 15:41:00</td>\n",
       "    </tr>\n",
       "    <tr>\n",
       "      <th>9</th>\n",
       "      <td>10</td>\n",
       "      <td>NaN</td>\n",
       "      <td>NaN</td>\n",
       "      <td>NaN</td>\n",
       "      <td>NaN</td>\n",
       "      <td>NaN</td>\n",
       "      <td>NaN</td>\n",
       "      <td>NaN</td>\n",
       "      <td>NaN</td>\n",
       "      <td>NaN</td>\n",
       "      <td>NaN</td>\n",
       "      <td>NaN</td>\n",
       "      <td>2019-05-03 16:18:52</td>\n",
       "      <td>NaN</td>\n",
       "      <td>2019-05-03 16:18:52</td>\n",
       "      <td>2019-05-03 16:18:52</td>\n",
       "    </tr>\n",
       "  </tbody>\n",
       "</table>\n",
       "</div>"
      ],
      "text/plain": [
       "   key Bulk 1 Bulk 2 Bulk 3               Bulk 4 Bulk 5 Bulk 6 Bulk 7 Bulk 8  \\\n",
       "0    1    NaN    NaN    NaN  2019-05-03 11:21:30    NaN    NaN    NaN    NaN   \n",
       "1    2    NaN    NaN    NaN  2019-05-03 11:46:38    NaN    NaN    NaN    NaN   \n",
       "2    3    NaN    NaN    NaN  2019-05-03 12:31:06    NaN    NaN    NaN    NaN   \n",
       "3    4    NaN    NaN    NaN  2019-05-03 12:48:43    NaN    NaN    NaN    NaN   \n",
       "4    5    NaN    NaN    NaN  2019-05-03 13:18:50    NaN    NaN    NaN    NaN   \n",
       "5    6    NaN    NaN    NaN  2019-05-03 13:59:24    NaN    NaN    NaN    NaN   \n",
       "6    7    NaN    NaN    NaN  2019-05-03 14:29:14    NaN    NaN    NaN    NaN   \n",
       "7    8    NaN    NaN    NaN  2019-05-03 15:04:05    NaN    NaN    NaN    NaN   \n",
       "8    9    NaN    NaN    NaN  2019-05-03 15:47:34    NaN    NaN    NaN    NaN   \n",
       "9   10    NaN    NaN    NaN                  NaN    NaN    NaN    NaN    NaN   \n",
       "\n",
       "  Bulk 9 Bulk 10 Bulk 11              Bulk 12 Bulk 13              Bulk 14  \\\n",
       "0    NaN     NaN     NaN  2019-05-03 11:03:52     NaN  2019-05-03 11:03:52   \n",
       "1    NaN     NaN     NaN  2019-05-03 11:40:20     NaN  2019-05-03 11:40:20   \n",
       "2    NaN     NaN     NaN  2019-05-03 12:09:40     NaN  2019-05-03 12:09:40   \n",
       "3    NaN     NaN     NaN  2019-05-03 12:41:24     NaN  2019-05-03 12:41:24   \n",
       "4    NaN     NaN     NaN  2019-05-03 13:12:56     NaN  2019-05-03 13:12:56   \n",
       "5    NaN     NaN     NaN  2019-05-03 13:53:27     NaN  2019-05-03 13:53:27   \n",
       "6    NaN     NaN     NaN  2019-05-03 14:22:19     NaN  2019-05-03 14:22:19   \n",
       "7    NaN     NaN     NaN  2019-05-03 14:55:46     NaN  2019-05-03 14:55:46   \n",
       "8    NaN     NaN     NaN  2019-05-03 15:41:00     NaN  2019-05-03 15:41:00   \n",
       "9    NaN     NaN     NaN  2019-05-03 16:18:52     NaN  2019-05-03 16:18:52   \n",
       "\n",
       "               Bulk 15  \n",
       "0  2019-05-03 11:03:52  \n",
       "1  2019-05-03 11:40:20  \n",
       "2  2019-05-03 12:09:40  \n",
       "3  2019-05-03 12:41:24  \n",
       "4  2019-05-03 13:12:56  \n",
       "5  2019-05-03 13:53:27  \n",
       "6  2019-05-03 14:22:19  \n",
       "7  2019-05-03 14:55:46  \n",
       "8  2019-05-03 15:41:00  \n",
       "9  2019-05-03 16:18:52  "
      ]
     },
     "metadata": {},
     "output_type": "display_data"
    },
    {
     "name": "stdout",
     "output_type": "stream",
     "text": [
      "<class 'pandas.core.frame.DataFrame'>\n",
      "RangeIndex: 3129 entries, 0 to 3128\n",
      "Data columns (total 16 columns):\n",
      " #   Column   Non-Null Count  Dtype \n",
      "---  ------   --------------  ----- \n",
      " 0   key      3129 non-null   int64 \n",
      " 1   Bulk 1   252 non-null    object\n",
      " 2   Bulk 2   22 non-null     object\n",
      " 3   Bulk 3   1298 non-null   object\n",
      " 4   Bulk 4   1014 non-null   object\n",
      " 5   Bulk 5   77 non-null     object\n",
      " 6   Bulk 6   576 non-null    object\n",
      " 7   Bulk 7   25 non-null     object\n",
      " 8   Bulk 8   1 non-null      object\n",
      " 9   Bulk 9   19 non-null     object\n",
      " 10  Bulk 10  176 non-null    object\n",
      " 11  Bulk 11  177 non-null    object\n",
      " 12  Bulk 12  2450 non-null   object\n",
      " 13  Bulk 13  18 non-null     object\n",
      " 14  Bulk 14  2806 non-null   object\n",
      " 15  Bulk 15  2248 non-null   object\n",
      "dtypes: int64(1), object(15)\n",
      "memory usage: 391.2+ KB\n"
     ]
    },
    {
     "data": {
      "text/plain": [
       "None"
      ]
     },
     "metadata": {},
     "output_type": "display_data"
    },
    {
     "data": {
      "text/html": [
       "<div>\n",
       "<style scoped>\n",
       "    .dataframe tbody tr th:only-of-type {\n",
       "        vertical-align: middle;\n",
       "    }\n",
       "\n",
       "    .dataframe tbody tr th {\n",
       "        vertical-align: top;\n",
       "    }\n",
       "\n",
       "    .dataframe thead th {\n",
       "        text-align: right;\n",
       "    }\n",
       "</style>\n",
       "<table border=\"1\" class=\"dataframe\">\n",
       "  <thead>\n",
       "    <tr style=\"text-align: right;\">\n",
       "      <th></th>\n",
       "      <th>key</th>\n",
       "    </tr>\n",
       "  </thead>\n",
       "  <tbody>\n",
       "    <tr>\n",
       "      <th>count</th>\n",
       "      <td>3129.000000</td>\n",
       "    </tr>\n",
       "    <tr>\n",
       "      <th>mean</th>\n",
       "      <td>1624.383509</td>\n",
       "    </tr>\n",
       "    <tr>\n",
       "      <th>std</th>\n",
       "      <td>933.337642</td>\n",
       "    </tr>\n",
       "    <tr>\n",
       "      <th>min</th>\n",
       "      <td>1.000000</td>\n",
       "    </tr>\n",
       "    <tr>\n",
       "      <th>25%</th>\n",
       "      <td>816.000000</td>\n",
       "    </tr>\n",
       "    <tr>\n",
       "      <th>50%</th>\n",
       "      <td>1622.000000</td>\n",
       "    </tr>\n",
       "    <tr>\n",
       "      <th>75%</th>\n",
       "      <td>2431.000000</td>\n",
       "    </tr>\n",
       "    <tr>\n",
       "      <th>max</th>\n",
       "      <td>3241.000000</td>\n",
       "    </tr>\n",
       "  </tbody>\n",
       "</table>\n",
       "</div>"
      ],
      "text/plain": [
       "               key\n",
       "count  3129.000000\n",
       "mean   1624.383509\n",
       "std     933.337642\n",
       "min       1.000000\n",
       "25%     816.000000\n",
       "50%    1622.000000\n",
       "75%    2431.000000\n",
       "max    3241.000000"
      ]
     },
     "metadata": {},
     "output_type": "display_data"
    },
    {
     "name": "stdout",
     "output_type": "stream",
     "text": [
      "Количество дубликатов - 0 \n",
      "\n"
     ]
    },
    {
     "data": {
      "text/html": [
       "<style type=\"text/css\">\n",
       "#T_7cb59_row0_col0 {\n",
       "  background-color: #3b4cc0;\n",
       "  color: #f1f1f1;\n",
       "}\n",
       "</style>\n",
       "<table id=\"T_7cb59_\">\n",
       "  <thead>\n",
       "    <tr>\n",
       "      <th class=\"blank level0\" >&nbsp;</th>\n",
       "      <th class=\"col_heading level0 col0\" >key</th>\n",
       "    </tr>\n",
       "  </thead>\n",
       "  <tbody>\n",
       "    <tr>\n",
       "      <th id=\"T_7cb59_level0_row0\" class=\"row_heading level0 row0\" >key</th>\n",
       "      <td id=\"T_7cb59_row0_col0\" class=\"data row0 col0\" >1.00</td>\n",
       "    </tr>\n",
       "  </tbody>\n",
       "</table>\n"
      ],
      "text/plain": [
       "<pandas.io.formats.style.Styler at 0x1b5815feb20>"
      ]
     },
     "metadata": {},
     "output_type": "display_data"
    }
   ],
   "source": [
    " data_info(data_bulk_time)"
   ]
  },
  {
   "cell_type": "markdown",
   "metadata": {},
   "source": [
    "**Вывод**\n",
    "- Имеются пропуски\n",
    "- Отсутствуют дубликаты\n",
    "- Типы данных нужно изменить на datetime\n",
    "- Этот датасет не понадобиться, поэтому предобработку проводить не будем"
   ]
  },
  {
   "cell_type": "markdown",
   "metadata": {},
   "source": [
    "### `data_gas` - данные о продувке сплава газом"
   ]
  },
  {
   "cell_type": "code",
   "execution_count": 15,
   "metadata": {},
   "outputs": [
    {
     "data": {
      "text/html": [
       "<div>\n",
       "<style scoped>\n",
       "    .dataframe tbody tr th:only-of-type {\n",
       "        vertical-align: middle;\n",
       "    }\n",
       "\n",
       "    .dataframe tbody tr th {\n",
       "        vertical-align: top;\n",
       "    }\n",
       "\n",
       "    .dataframe thead th {\n",
       "        text-align: right;\n",
       "    }\n",
       "</style>\n",
       "<table border=\"1\" class=\"dataframe\">\n",
       "  <thead>\n",
       "    <tr style=\"text-align: right;\">\n",
       "      <th></th>\n",
       "      <th>key</th>\n",
       "      <th>Газ 1</th>\n",
       "    </tr>\n",
       "  </thead>\n",
       "  <tbody>\n",
       "    <tr>\n",
       "      <th>0</th>\n",
       "      <td>1</td>\n",
       "      <td>29.749986</td>\n",
       "    </tr>\n",
       "    <tr>\n",
       "      <th>1</th>\n",
       "      <td>2</td>\n",
       "      <td>12.555561</td>\n",
       "    </tr>\n",
       "    <tr>\n",
       "      <th>2</th>\n",
       "      <td>3</td>\n",
       "      <td>28.554793</td>\n",
       "    </tr>\n",
       "    <tr>\n",
       "      <th>3</th>\n",
       "      <td>4</td>\n",
       "      <td>18.841219</td>\n",
       "    </tr>\n",
       "    <tr>\n",
       "      <th>4</th>\n",
       "      <td>5</td>\n",
       "      <td>5.413692</td>\n",
       "    </tr>\n",
       "    <tr>\n",
       "      <th>5</th>\n",
       "      <td>6</td>\n",
       "      <td>11.273392</td>\n",
       "    </tr>\n",
       "    <tr>\n",
       "      <th>6</th>\n",
       "      <td>7</td>\n",
       "      <td>9.836267</td>\n",
       "    </tr>\n",
       "    <tr>\n",
       "      <th>7</th>\n",
       "      <td>8</td>\n",
       "      <td>15.171553</td>\n",
       "    </tr>\n",
       "    <tr>\n",
       "      <th>8</th>\n",
       "      <td>9</td>\n",
       "      <td>8.216623</td>\n",
       "    </tr>\n",
       "    <tr>\n",
       "      <th>9</th>\n",
       "      <td>10</td>\n",
       "      <td>6.529891</td>\n",
       "    </tr>\n",
       "  </tbody>\n",
       "</table>\n",
       "</div>"
      ],
      "text/plain": [
       "   key      Газ 1\n",
       "0    1  29.749986\n",
       "1    2  12.555561\n",
       "2    3  28.554793\n",
       "3    4  18.841219\n",
       "4    5   5.413692\n",
       "5    6  11.273392\n",
       "6    7   9.836267\n",
       "7    8  15.171553\n",
       "8    9   8.216623\n",
       "9   10   6.529891"
      ]
     },
     "metadata": {},
     "output_type": "display_data"
    },
    {
     "name": "stdout",
     "output_type": "stream",
     "text": [
      "<class 'pandas.core.frame.DataFrame'>\n",
      "RangeIndex: 3239 entries, 0 to 3238\n",
      "Data columns (total 2 columns):\n",
      " #   Column  Non-Null Count  Dtype  \n",
      "---  ------  --------------  -----  \n",
      " 0   key     3239 non-null   int64  \n",
      " 1   Газ 1   3239 non-null   float64\n",
      "dtypes: float64(1), int64(1)\n",
      "memory usage: 50.7 KB\n"
     ]
    },
    {
     "data": {
      "text/plain": [
       "None"
      ]
     },
     "metadata": {},
     "output_type": "display_data"
    },
    {
     "data": {
      "text/html": [
       "<div>\n",
       "<style scoped>\n",
       "    .dataframe tbody tr th:only-of-type {\n",
       "        vertical-align: middle;\n",
       "    }\n",
       "\n",
       "    .dataframe tbody tr th {\n",
       "        vertical-align: top;\n",
       "    }\n",
       "\n",
       "    .dataframe thead th {\n",
       "        text-align: right;\n",
       "    }\n",
       "</style>\n",
       "<table border=\"1\" class=\"dataframe\">\n",
       "  <thead>\n",
       "    <tr style=\"text-align: right;\">\n",
       "      <th></th>\n",
       "      <th>key</th>\n",
       "      <th>Газ 1</th>\n",
       "    </tr>\n",
       "  </thead>\n",
       "  <tbody>\n",
       "    <tr>\n",
       "      <th>count</th>\n",
       "      <td>3239.000000</td>\n",
       "      <td>3239.000000</td>\n",
       "    </tr>\n",
       "    <tr>\n",
       "      <th>mean</th>\n",
       "      <td>1621.861377</td>\n",
       "      <td>11.002062</td>\n",
       "    </tr>\n",
       "    <tr>\n",
       "      <th>std</th>\n",
       "      <td>935.386334</td>\n",
       "      <td>6.220327</td>\n",
       "    </tr>\n",
       "    <tr>\n",
       "      <th>min</th>\n",
       "      <td>1.000000</td>\n",
       "      <td>0.008399</td>\n",
       "    </tr>\n",
       "    <tr>\n",
       "      <th>25%</th>\n",
       "      <td>812.500000</td>\n",
       "      <td>7.043089</td>\n",
       "    </tr>\n",
       "    <tr>\n",
       "      <th>50%</th>\n",
       "      <td>1622.000000</td>\n",
       "      <td>9.836267</td>\n",
       "    </tr>\n",
       "    <tr>\n",
       "      <th>75%</th>\n",
       "      <td>2431.500000</td>\n",
       "      <td>13.769915</td>\n",
       "    </tr>\n",
       "    <tr>\n",
       "      <th>max</th>\n",
       "      <td>3241.000000</td>\n",
       "      <td>77.995040</td>\n",
       "    </tr>\n",
       "  </tbody>\n",
       "</table>\n",
       "</div>"
      ],
      "text/plain": [
       "               key        Газ 1\n",
       "count  3239.000000  3239.000000\n",
       "mean   1621.861377    11.002062\n",
       "std     935.386334     6.220327\n",
       "min       1.000000     0.008399\n",
       "25%     812.500000     7.043089\n",
       "50%    1622.000000     9.836267\n",
       "75%    2431.500000    13.769915\n",
       "max    3241.000000    77.995040"
      ]
     },
     "metadata": {},
     "output_type": "display_data"
    },
    {
     "name": "stdout",
     "output_type": "stream",
     "text": [
      "Количество дубликатов - 0 \n",
      "\n"
     ]
    },
    {
     "data": {
      "text/html": [
       "<style type=\"text/css\">\n",
       "#T_57abc_row0_col0, #T_57abc_row1_col1 {\n",
       "  background-color: #b40426;\n",
       "  color: #f1f1f1;\n",
       "}\n",
       "#T_57abc_row0_col1, #T_57abc_row1_col0 {\n",
       "  background-color: #3b4cc0;\n",
       "  color: #f1f1f1;\n",
       "}\n",
       "</style>\n",
       "<table id=\"T_57abc_\">\n",
       "  <thead>\n",
       "    <tr>\n",
       "      <th class=\"blank level0\" >&nbsp;</th>\n",
       "      <th class=\"col_heading level0 col0\" >key</th>\n",
       "      <th class=\"col_heading level0 col1\" >Газ 1</th>\n",
       "    </tr>\n",
       "  </thead>\n",
       "  <tbody>\n",
       "    <tr>\n",
       "      <th id=\"T_57abc_level0_row0\" class=\"row_heading level0 row0\" >key</th>\n",
       "      <td id=\"T_57abc_row0_col0\" class=\"data row0 col0\" >1.00</td>\n",
       "      <td id=\"T_57abc_row0_col1\" class=\"data row0 col1\" >-0.04</td>\n",
       "    </tr>\n",
       "    <tr>\n",
       "      <th id=\"T_57abc_level0_row1\" class=\"row_heading level0 row1\" >Газ 1</th>\n",
       "      <td id=\"T_57abc_row1_col0\" class=\"data row1 col0\" >-0.04</td>\n",
       "      <td id=\"T_57abc_row1_col1\" class=\"data row1 col1\" >1.00</td>\n",
       "    </tr>\n",
       "  </tbody>\n",
       "</table>\n"
      ],
      "text/plain": [
       "<pandas.io.formats.style.Styler at 0x1b58167c610>"
      ]
     },
     "metadata": {},
     "output_type": "display_data"
    }
   ],
   "source": [
    "data_info(data_gas)"
   ]
  },
  {
   "cell_type": "code",
   "execution_count": 16,
   "metadata": {},
   "outputs": [
    {
     "data": {
      "image/png": "[encoded data removed]",
      "text/plain": [
       "<Figure size 864x360 with 1 Axes>"
      ]
     },
     "metadata": {
      "needs_background": "light"
     },
     "output_type": "display_data"
    }
   ],
   "source": [
    "# распределение\n",
    "fig = plt.figure(figsize=(12, 5))\n",
    "sns.distplot(data_gas['Газ 1'], bins=100)\n",
    "plt.grid()\n",
    "plt.show()"
   ]
  },
  {
   "cell_type": "code",
   "execution_count": 17,
   "metadata": {},
   "outputs": [
    {
     "data": {
      "image/png": "[encoded data removed]",
      "text/plain": [
       "<Figure size 864x360 with 2 Axes>"
      ]
     },
     "metadata": {
      "needs_background": "light"
     },
     "output_type": "display_data"
    }
   ],
   "source": [
    "fig, axes = plt.subplots(1, 2, figsize = (12, 5))\n",
    "\n",
    "plt.subplot(1,2,1)\n",
    "data_gas.boxplot(column=['Газ 1'])\n",
    "\n",
    "plt.subplot(1,2,2)\n",
    "data_gas.boxplot(column=['Газ 1'])\n",
    "plt.ylim(-1, 25)\n",
    "\n",
    "plt.show()"
   ]
  },
  {
   "cell_type": "code",
   "execution_count": 18,
   "metadata": {},
   "outputs": [
    {
     "data": {
      "text/plain": [
       "key      0\n",
       "Газ 1    0\n",
       "dtype: int64"
      ]
     },
     "execution_count": 18,
     "metadata": {},
     "output_type": "execute_result"
    }
   ],
   "source": [
    "# Пропуски\n",
    "data_gas.isna().sum()"
   ]
  },
  {
   "cell_type": "markdown",
   "metadata": {},
   "source": [
    "**Вывод**\n",
    "- Типы данных правильные\n",
    "- Дубликатов нет\n",
    "- Распределение нормальное\n",
    "- Выбросы в столбце `\"Газ 1\"` начинаются с ~24\n",
    "- Пропусков в столбцах нет"
   ]
  },
  {
   "cell_type": "markdown",
   "metadata": {},
   "source": [
    "### `data_temp` - результаты измерения температуры"
   ]
  },
  {
   "cell_type": "code",
   "execution_count": 19,
   "metadata": {},
   "outputs": [
    {
     "data": {
      "text/html": [
       "<div>\n",
       "<style scoped>\n",
       "    .dataframe tbody tr th:only-of-type {\n",
       "        vertical-align: middle;\n",
       "    }\n",
       "\n",
       "    .dataframe tbody tr th {\n",
       "        vertical-align: top;\n",
       "    }\n",
       "\n",
       "    .dataframe thead th {\n",
       "        text-align: right;\n",
       "    }\n",
       "</style>\n",
       "<table border=\"1\" class=\"dataframe\">\n",
       "  <thead>\n",
       "    <tr style=\"text-align: right;\">\n",
       "      <th></th>\n",
       "      <th>key</th>\n",
       "      <th>Время замера</th>\n",
       "      <th>Температура</th>\n",
       "    </tr>\n",
       "  </thead>\n",
       "  <tbody>\n",
       "    <tr>\n",
       "      <th>0</th>\n",
       "      <td>1</td>\n",
       "      <td>2019-05-03 11:16:18</td>\n",
       "      <td>1571.0</td>\n",
       "    </tr>\n",
       "    <tr>\n",
       "      <th>1</th>\n",
       "      <td>1</td>\n",
       "      <td>2019-05-03 11:25:53</td>\n",
       "      <td>1604.0</td>\n",
       "    </tr>\n",
       "    <tr>\n",
       "      <th>2</th>\n",
       "      <td>1</td>\n",
       "      <td>2019-05-03 11:29:11</td>\n",
       "      <td>1618.0</td>\n",
       "    </tr>\n",
       "    <tr>\n",
       "      <th>3</th>\n",
       "      <td>1</td>\n",
       "      <td>2019-05-03 11:30:01</td>\n",
       "      <td>1601.0</td>\n",
       "    </tr>\n",
       "    <tr>\n",
       "      <th>4</th>\n",
       "      <td>1</td>\n",
       "      <td>2019-05-03 11:30:39</td>\n",
       "      <td>1613.0</td>\n",
       "    </tr>\n",
       "    <tr>\n",
       "      <th>5</th>\n",
       "      <td>2</td>\n",
       "      <td>2019-05-03 11:37:27</td>\n",
       "      <td>1581.0</td>\n",
       "    </tr>\n",
       "    <tr>\n",
       "      <th>6</th>\n",
       "      <td>2</td>\n",
       "      <td>2019-05-03 11:38:00</td>\n",
       "      <td>1577.0</td>\n",
       "    </tr>\n",
       "    <tr>\n",
       "      <th>7</th>\n",
       "      <td>2</td>\n",
       "      <td>2019-05-03 11:49:38</td>\n",
       "      <td>1589.0</td>\n",
       "    </tr>\n",
       "    <tr>\n",
       "      <th>8</th>\n",
       "      <td>2</td>\n",
       "      <td>2019-05-03 11:55:50</td>\n",
       "      <td>1604.0</td>\n",
       "    </tr>\n",
       "    <tr>\n",
       "      <th>9</th>\n",
       "      <td>2</td>\n",
       "      <td>2019-05-03 11:58:24</td>\n",
       "      <td>1608.0</td>\n",
       "    </tr>\n",
       "  </tbody>\n",
       "</table>\n",
       "</div>"
      ],
      "text/plain": [
       "   key         Время замера  Температура\n",
       "0    1  2019-05-03 11:16:18       1571.0\n",
       "1    1  2019-05-03 11:25:53       1604.0\n",
       "2    1  2019-05-03 11:29:11       1618.0\n",
       "3    1  2019-05-03 11:30:01       1601.0\n",
       "4    1  2019-05-03 11:30:39       1613.0\n",
       "5    2  2019-05-03 11:37:27       1581.0\n",
       "6    2  2019-05-03 11:38:00       1577.0\n",
       "7    2  2019-05-03 11:49:38       1589.0\n",
       "8    2  2019-05-03 11:55:50       1604.0\n",
       "9    2  2019-05-03 11:58:24       1608.0"
      ]
     },
     "metadata": {},
     "output_type": "display_data"
    },
    {
     "name": "stdout",
     "output_type": "stream",
     "text": [
      "<class 'pandas.core.frame.DataFrame'>\n",
      "RangeIndex: 15907 entries, 0 to 15906\n",
      "Data columns (total 3 columns):\n",
      " #   Column        Non-Null Count  Dtype  \n",
      "---  ------        --------------  -----  \n",
      " 0   key           15907 non-null  int64  \n",
      " 1   Время замера  15907 non-null  object \n",
      " 2   Температура   13006 non-null  float64\n",
      "dtypes: float64(1), int64(1), object(1)\n",
      "memory usage: 372.9+ KB\n"
     ]
    },
    {
     "data": {
      "text/plain": [
       "None"
      ]
     },
     "metadata": {},
     "output_type": "display_data"
    },
    {
     "data": {
      "text/html": [
       "<div>\n",
       "<style scoped>\n",
       "    .dataframe tbody tr th:only-of-type {\n",
       "        vertical-align: middle;\n",
       "    }\n",
       "\n",
       "    .dataframe tbody tr th {\n",
       "        vertical-align: top;\n",
       "    }\n",
       "\n",
       "    .dataframe thead th {\n",
       "        text-align: right;\n",
       "    }\n",
       "</style>\n",
       "<table border=\"1\" class=\"dataframe\">\n",
       "  <thead>\n",
       "    <tr style=\"text-align: right;\">\n",
       "      <th></th>\n",
       "      <th>key</th>\n",
       "      <th>Температура</th>\n",
       "    </tr>\n",
       "  </thead>\n",
       "  <tbody>\n",
       "    <tr>\n",
       "      <th>count</th>\n",
       "      <td>15907.000000</td>\n",
       "      <td>13006.000000</td>\n",
       "    </tr>\n",
       "    <tr>\n",
       "      <th>mean</th>\n",
       "      <td>1607.880870</td>\n",
       "      <td>1591.840920</td>\n",
       "    </tr>\n",
       "    <tr>\n",
       "      <th>std</th>\n",
       "      <td>942.212073</td>\n",
       "      <td>21.375851</td>\n",
       "    </tr>\n",
       "    <tr>\n",
       "      <th>min</th>\n",
       "      <td>1.000000</td>\n",
       "      <td>1191.000000</td>\n",
       "    </tr>\n",
       "    <tr>\n",
       "      <th>25%</th>\n",
       "      <td>790.000000</td>\n",
       "      <td>1581.000000</td>\n",
       "    </tr>\n",
       "    <tr>\n",
       "      <th>50%</th>\n",
       "      <td>1618.000000</td>\n",
       "      <td>1591.000000</td>\n",
       "    </tr>\n",
       "    <tr>\n",
       "      <th>75%</th>\n",
       "      <td>2427.000000</td>\n",
       "      <td>1601.000000</td>\n",
       "    </tr>\n",
       "    <tr>\n",
       "      <th>max</th>\n",
       "      <td>3241.000000</td>\n",
       "      <td>1705.000000</td>\n",
       "    </tr>\n",
       "  </tbody>\n",
       "</table>\n",
       "</div>"
      ],
      "text/plain": [
       "                key   Температура\n",
       "count  15907.000000  13006.000000\n",
       "mean    1607.880870   1591.840920\n",
       "std      942.212073     21.375851\n",
       "min        1.000000   1191.000000\n",
       "25%      790.000000   1581.000000\n",
       "50%     1618.000000   1591.000000\n",
       "75%     2427.000000   1601.000000\n",
       "max     3241.000000   1705.000000"
      ]
     },
     "metadata": {},
     "output_type": "display_data"
    },
    {
     "name": "stdout",
     "output_type": "stream",
     "text": [
      "Количество дубликатов - 0 \n",
      "\n"
     ]
    },
    {
     "data": {
      "text/html": [
       "<style type=\"text/css\">\n",
       "#T_e519b_row0_col0, #T_e519b_row1_col1 {\n",
       "  background-color: #b40426;\n",
       "  color: #f1f1f1;\n",
       "}\n",
       "#T_e519b_row0_col1, #T_e519b_row1_col0 {\n",
       "  background-color: #3b4cc0;\n",
       "  color: #f1f1f1;\n",
       "}\n",
       "</style>\n",
       "<table id=\"T_e519b_\">\n",
       "  <thead>\n",
       "    <tr>\n",
       "      <th class=\"blank level0\" >&nbsp;</th>\n",
       "      <th class=\"col_heading level0 col0\" >key</th>\n",
       "      <th class=\"col_heading level0 col1\" >Температура</th>\n",
       "    </tr>\n",
       "  </thead>\n",
       "  <tbody>\n",
       "    <tr>\n",
       "      <th id=\"T_e519b_level0_row0\" class=\"row_heading level0 row0\" >key</th>\n",
       "      <td id=\"T_e519b_row0_col0\" class=\"data row0 col0\" >1.00</td>\n",
       "      <td id=\"T_e519b_row0_col1\" class=\"data row0 col1\" >-0.05</td>\n",
       "    </tr>\n",
       "    <tr>\n",
       "      <th id=\"T_e519b_level0_row1\" class=\"row_heading level0 row1\" >Температура</th>\n",
       "      <td id=\"T_e519b_row1_col0\" class=\"data row1 col0\" >-0.05</td>\n",
       "      <td id=\"T_e519b_row1_col1\" class=\"data row1 col1\" >1.00</td>\n",
       "    </tr>\n",
       "  </tbody>\n",
       "</table>\n"
      ],
      "text/plain": [
       "<pandas.io.formats.style.Styler at 0x1b5815fec40>"
      ]
     },
     "metadata": {},
     "output_type": "display_data"
    }
   ],
   "source": [
    "data_info(data_temp)"
   ]
  },
  {
   "cell_type": "markdown",
   "metadata": {},
   "source": [
    "Нужно привести данные в столбце `Время замера` в тип `datetime`"
   ]
  },
  {
   "cell_type": "code",
   "execution_count": 20,
   "metadata": {},
   "outputs": [
    {
     "name": "stdout",
     "output_type": "stream",
     "text": [
      "<class 'pandas.core.frame.DataFrame'>\n",
      "RangeIndex: 15907 entries, 0 to 15906\n",
      "Data columns (total 3 columns):\n",
      " #   Column        Non-Null Count  Dtype         \n",
      "---  ------        --------------  -----         \n",
      " 0   key           15907 non-null  int64         \n",
      " 1   Время замера  15907 non-null  datetime64[ns]\n",
      " 2   Температура   13006 non-null  float64       \n",
      "dtypes: datetime64[ns](1), float64(1), int64(1)\n",
      "memory usage: 372.9 KB\n"
     ]
    }
   ],
   "source": [
    "data_temp['Время замера'] = pd.to_datetime(data_temp['Время замера'])\n",
    "\n",
    "data_temp.info()"
   ]
  },
  {
   "cell_type": "code",
   "execution_count": 21,
   "metadata": {},
   "outputs": [
    {
     "data": {
      "image/png": "[encoded data removed]",
      "text/plain": [
       "<Figure size 864x360 with 1 Axes>"
      ]
     },
     "metadata": {
      "needs_background": "light"
     },
     "output_type": "display_data"
    }
   ],
   "source": [
    "# распределение\n",
    "fig = plt.figure(figsize=(12, 5))\n",
    "sns.distplot(data_temp['Температура'], bins=100)\n",
    "plt.grid()\n",
    "plt.show()"
   ]
  },
  {
   "cell_type": "code",
   "execution_count": 22,
   "metadata": {},
   "outputs": [
    {
     "data": {
      "image/png": "[encoded data removed]",
      "text/plain": [
       "<Figure size 864x360 with 2 Axes>"
      ]
     },
     "metadata": {
      "needs_background": "light"
     },
     "output_type": "display_data"
    }
   ],
   "source": [
    "fig, axes = plt.subplots(1, 2, figsize = (12, 5))\n",
    "\n",
    "plt.subplot(1,2,1)\n",
    "data_temp.boxplot(column=['Температура'])\n",
    "\n",
    "plt.subplot(1,2,2)\n",
    "data_temp.boxplot(column=['Температура'])\n",
    "plt.ylim(1525, 1650)\n",
    "\n",
    "plt.show()"
   ]
  },
  {
   "cell_type": "code",
   "execution_count": 23,
   "metadata": {},
   "outputs": [
    {
     "data": {
      "text/plain": [
       "key                0\n",
       "Время замера       0\n",
       "Температура     2901\n",
       "dtype: int64"
      ]
     },
     "execution_count": 23,
     "metadata": {},
     "output_type": "execute_result"
    }
   ],
   "source": [
    "# посмотрим пропуски\n",
    "data_temp.isna().sum()"
   ]
  },
  {
   "cell_type": "code",
   "execution_count": 24,
   "metadata": {},
   "outputs": [
    {
     "data": {
      "text/html": [
       "<div>\n",
       "<style scoped>\n",
       "    .dataframe tbody tr th:only-of-type {\n",
       "        vertical-align: middle;\n",
       "    }\n",
       "\n",
       "    .dataframe tbody tr th {\n",
       "        vertical-align: top;\n",
       "    }\n",
       "\n",
       "    .dataframe thead th {\n",
       "        text-align: right;\n",
       "    }\n",
       "</style>\n",
       "<table border=\"1\" class=\"dataframe\">\n",
       "  <thead>\n",
       "    <tr style=\"text-align: right;\">\n",
       "      <th></th>\n",
       "      <th>key</th>\n",
       "      <th>Время замера</th>\n",
       "      <th>Температура</th>\n",
       "    </tr>\n",
       "  </thead>\n",
       "  <tbody>\n",
       "    <tr>\n",
       "      <th>12268</th>\n",
       "      <td>2500</td>\n",
       "      <td>2019-08-06 03:24:43</td>\n",
       "      <td>NaN</td>\n",
       "    </tr>\n",
       "    <tr>\n",
       "      <th>12269</th>\n",
       "      <td>2500</td>\n",
       "      <td>2019-08-06 03:25:16</td>\n",
       "      <td>NaN</td>\n",
       "    </tr>\n",
       "    <tr>\n",
       "      <th>12270</th>\n",
       "      <td>2500</td>\n",
       "      <td>2019-08-06 03:28:21</td>\n",
       "      <td>NaN</td>\n",
       "    </tr>\n",
       "    <tr>\n",
       "      <th>12272</th>\n",
       "      <td>2501</td>\n",
       "      <td>2019-08-06 04:01:59</td>\n",
       "      <td>NaN</td>\n",
       "    </tr>\n",
       "    <tr>\n",
       "      <th>12273</th>\n",
       "      <td>2501</td>\n",
       "      <td>2019-08-06 04:14:35</td>\n",
       "      <td>NaN</td>\n",
       "    </tr>\n",
       "    <tr>\n",
       "      <th>12274</th>\n",
       "      <td>2501</td>\n",
       "      <td>2019-08-06 04:22:14</td>\n",
       "      <td>NaN</td>\n",
       "    </tr>\n",
       "    <tr>\n",
       "      <th>12275</th>\n",
       "      <td>2501</td>\n",
       "      <td>2019-08-06 04:31:14</td>\n",
       "      <td>NaN</td>\n",
       "    </tr>\n",
       "    <tr>\n",
       "      <th>12277</th>\n",
       "      <td>2502</td>\n",
       "      <td>2019-08-06 04:46:04</td>\n",
       "      <td>NaN</td>\n",
       "    </tr>\n",
       "    <tr>\n",
       "      <th>12278</th>\n",
       "      <td>2502</td>\n",
       "      <td>2019-08-06 04:52:32</td>\n",
       "      <td>NaN</td>\n",
       "    </tr>\n",
       "    <tr>\n",
       "      <th>12279</th>\n",
       "      <td>2502</td>\n",
       "      <td>2019-08-06 04:57:30</td>\n",
       "      <td>NaN</td>\n",
       "    </tr>\n",
       "  </tbody>\n",
       "</table>\n",
       "</div>"
      ],
      "text/plain": [
       "        key        Время замера  Температура\n",
       "12268  2500 2019-08-06 03:24:43          NaN\n",
       "12269  2500 2019-08-06 03:25:16          NaN\n",
       "12270  2500 2019-08-06 03:28:21          NaN\n",
       "12272  2501 2019-08-06 04:01:59          NaN\n",
       "12273  2501 2019-08-06 04:14:35          NaN\n",
       "12274  2501 2019-08-06 04:22:14          NaN\n",
       "12275  2501 2019-08-06 04:31:14          NaN\n",
       "12277  2502 2019-08-06 04:46:04          NaN\n",
       "12278  2502 2019-08-06 04:52:32          NaN\n",
       "12279  2502 2019-08-06 04:57:30          NaN"
      ]
     },
     "execution_count": 24,
     "metadata": {},
     "output_type": "execute_result"
    }
   ],
   "source": [
    "# надо выяснить когда начинаются \n",
    "data_temp[data_temp['Температура'].isna()].head(10)"
   ]
  },
  {
   "cell_type": "code",
   "execution_count": 25,
   "metadata": {},
   "outputs": [
    {
     "data": {
      "text/html": [
       "<div>\n",
       "<style scoped>\n",
       "    .dataframe tbody tr th:only-of-type {\n",
       "        vertical-align: middle;\n",
       "    }\n",
       "\n",
       "    .dataframe tbody tr th {\n",
       "        vertical-align: top;\n",
       "    }\n",
       "\n",
       "    .dataframe thead th {\n",
       "        text-align: right;\n",
       "    }\n",
       "</style>\n",
       "<table border=\"1\" class=\"dataframe\">\n",
       "  <thead>\n",
       "    <tr style=\"text-align: right;\">\n",
       "      <th></th>\n",
       "      <th>key</th>\n",
       "      <th>Время замера</th>\n",
       "      <th>Температура</th>\n",
       "    </tr>\n",
       "  </thead>\n",
       "  <tbody>\n",
       "    <tr>\n",
       "      <th>15901</th>\n",
       "      <td>3240</td>\n",
       "      <td>2019-09-01 03:35:16</td>\n",
       "      <td>NaN</td>\n",
       "    </tr>\n",
       "    <tr>\n",
       "      <th>15903</th>\n",
       "      <td>3241</td>\n",
       "      <td>2019-09-01 04:16:12</td>\n",
       "      <td>NaN</td>\n",
       "    </tr>\n",
       "    <tr>\n",
       "      <th>15904</th>\n",
       "      <td>3241</td>\n",
       "      <td>2019-09-01 04:22:39</td>\n",
       "      <td>NaN</td>\n",
       "    </tr>\n",
       "    <tr>\n",
       "      <th>15905</th>\n",
       "      <td>3241</td>\n",
       "      <td>2019-09-01 04:33:42</td>\n",
       "      <td>NaN</td>\n",
       "    </tr>\n",
       "    <tr>\n",
       "      <th>15906</th>\n",
       "      <td>3241</td>\n",
       "      <td>2019-09-01 04:38:08</td>\n",
       "      <td>NaN</td>\n",
       "    </tr>\n",
       "  </tbody>\n",
       "</table>\n",
       "</div>"
      ],
      "text/plain": [
       "        key        Время замера  Температура\n",
       "15901  3240 2019-09-01 03:35:16          NaN\n",
       "15903  3241 2019-09-01 04:16:12          NaN\n",
       "15904  3241 2019-09-01 04:22:39          NaN\n",
       "15905  3241 2019-09-01 04:33:42          NaN\n",
       "15906  3241 2019-09-01 04:38:08          NaN"
      ]
     },
     "execution_count": 25,
     "metadata": {},
     "output_type": "execute_result"
    }
   ],
   "source": [
    "data_temp[data_temp['Температура'].isna()].tail()"
   ]
  },
  {
   "cell_type": "markdown",
   "metadata": {},
   "source": [
    "**Вывод**\n",
    "- Данные с пропусками начинаются с 2500 ключа\n",
    "- Распределение нормальное, но присутствуют большие выбросы:\n",
    "    - мин - 1191\n",
    "    - макс - 1705\n",
    "- Дубликатов нет\n",
    "- Тип столбца изменил на `datetime`"
   ]
  },
  {
   "cell_type": "markdown",
   "metadata": {},
   "source": [
    "### `data_wire` - данные о проволочных материалах (объём)"
   ]
  },
  {
   "cell_type": "code",
   "execution_count": 26,
   "metadata": {
    "scrolled": false
   },
   "outputs": [
    {
     "data": {
      "text/html": [
       "<div>\n",
       "<style scoped>\n",
       "    .dataframe tbody tr th:only-of-type {\n",
       "        vertical-align: middle;\n",
       "    }\n",
       "\n",
       "    .dataframe tbody tr th {\n",
       "        vertical-align: top;\n",
       "    }\n",
       "\n",
       "    .dataframe thead th {\n",
       "        text-align: right;\n",
       "    }\n",
       "</style>\n",
       "<table border=\"1\" class=\"dataframe\">\n",
       "  <thead>\n",
       "    <tr style=\"text-align: right;\">\n",
       "      <th></th>\n",
       "      <th>key</th>\n",
       "      <th>Wire 1</th>\n",
       "      <th>Wire 2</th>\n",
       "      <th>Wire 3</th>\n",
       "      <th>Wire 4</th>\n",
       "      <th>Wire 5</th>\n",
       "      <th>Wire 6</th>\n",
       "      <th>Wire 7</th>\n",
       "      <th>Wire 8</th>\n",
       "      <th>Wire 9</th>\n",
       "    </tr>\n",
       "  </thead>\n",
       "  <tbody>\n",
       "    <tr>\n",
       "      <th>0</th>\n",
       "      <td>1</td>\n",
       "      <td>60.059998</td>\n",
       "      <td>NaN</td>\n",
       "      <td>NaN</td>\n",
       "      <td>NaN</td>\n",
       "      <td>NaN</td>\n",
       "      <td>NaN</td>\n",
       "      <td>NaN</td>\n",
       "      <td>NaN</td>\n",
       "      <td>NaN</td>\n",
       "    </tr>\n",
       "    <tr>\n",
       "      <th>1</th>\n",
       "      <td>2</td>\n",
       "      <td>96.052315</td>\n",
       "      <td>NaN</td>\n",
       "      <td>NaN</td>\n",
       "      <td>NaN</td>\n",
       "      <td>NaN</td>\n",
       "      <td>NaN</td>\n",
       "      <td>NaN</td>\n",
       "      <td>NaN</td>\n",
       "      <td>NaN</td>\n",
       "    </tr>\n",
       "    <tr>\n",
       "      <th>2</th>\n",
       "      <td>3</td>\n",
       "      <td>91.160157</td>\n",
       "      <td>NaN</td>\n",
       "      <td>NaN</td>\n",
       "      <td>NaN</td>\n",
       "      <td>NaN</td>\n",
       "      <td>NaN</td>\n",
       "      <td>NaN</td>\n",
       "      <td>NaN</td>\n",
       "      <td>NaN</td>\n",
       "    </tr>\n",
       "    <tr>\n",
       "      <th>3</th>\n",
       "      <td>4</td>\n",
       "      <td>89.063515</td>\n",
       "      <td>NaN</td>\n",
       "      <td>NaN</td>\n",
       "      <td>NaN</td>\n",
       "      <td>NaN</td>\n",
       "      <td>NaN</td>\n",
       "      <td>NaN</td>\n",
       "      <td>NaN</td>\n",
       "      <td>NaN</td>\n",
       "    </tr>\n",
       "    <tr>\n",
       "      <th>4</th>\n",
       "      <td>5</td>\n",
       "      <td>89.238236</td>\n",
       "      <td>9.114560</td>\n",
       "      <td>NaN</td>\n",
       "      <td>NaN</td>\n",
       "      <td>NaN</td>\n",
       "      <td>NaN</td>\n",
       "      <td>NaN</td>\n",
       "      <td>NaN</td>\n",
       "      <td>NaN</td>\n",
       "    </tr>\n",
       "    <tr>\n",
       "      <th>5</th>\n",
       "      <td>6</td>\n",
       "      <td>99.109917</td>\n",
       "      <td>9.114560</td>\n",
       "      <td>NaN</td>\n",
       "      <td>NaN</td>\n",
       "      <td>NaN</td>\n",
       "      <td>NaN</td>\n",
       "      <td>NaN</td>\n",
       "      <td>NaN</td>\n",
       "      <td>NaN</td>\n",
       "    </tr>\n",
       "    <tr>\n",
       "      <th>6</th>\n",
       "      <td>7</td>\n",
       "      <td>98.061600</td>\n",
       "      <td>NaN</td>\n",
       "      <td>NaN</td>\n",
       "      <td>NaN</td>\n",
       "      <td>NaN</td>\n",
       "      <td>NaN</td>\n",
       "      <td>NaN</td>\n",
       "      <td>NaN</td>\n",
       "      <td>NaN</td>\n",
       "    </tr>\n",
       "    <tr>\n",
       "      <th>7</th>\n",
       "      <td>8</td>\n",
       "      <td>155.282394</td>\n",
       "      <td>NaN</td>\n",
       "      <td>NaN</td>\n",
       "      <td>NaN</td>\n",
       "      <td>NaN</td>\n",
       "      <td>NaN</td>\n",
       "      <td>NaN</td>\n",
       "      <td>NaN</td>\n",
       "      <td>NaN</td>\n",
       "    </tr>\n",
       "    <tr>\n",
       "      <th>8</th>\n",
       "      <td>9</td>\n",
       "      <td>113.393279</td>\n",
       "      <td>9.143681</td>\n",
       "      <td>NaN</td>\n",
       "      <td>NaN</td>\n",
       "      <td>NaN</td>\n",
       "      <td>NaN</td>\n",
       "      <td>NaN</td>\n",
       "      <td>NaN</td>\n",
       "      <td>NaN</td>\n",
       "    </tr>\n",
       "    <tr>\n",
       "      <th>9</th>\n",
       "      <td>10</td>\n",
       "      <td>81.244796</td>\n",
       "      <td>12.376000</td>\n",
       "      <td>NaN</td>\n",
       "      <td>NaN</td>\n",
       "      <td>NaN</td>\n",
       "      <td>NaN</td>\n",
       "      <td>NaN</td>\n",
       "      <td>NaN</td>\n",
       "      <td>NaN</td>\n",
       "    </tr>\n",
       "  </tbody>\n",
       "</table>\n",
       "</div>"
      ],
      "text/plain": [
       "   key      Wire 1     Wire 2  Wire 3  Wire 4  Wire 5  Wire 6  Wire 7  Wire 8  \\\n",
       "0    1   60.059998        NaN     NaN     NaN     NaN     NaN     NaN     NaN   \n",
       "1    2   96.052315        NaN     NaN     NaN     NaN     NaN     NaN     NaN   \n",
       "2    3   91.160157        NaN     NaN     NaN     NaN     NaN     NaN     NaN   \n",
       "3    4   89.063515        NaN     NaN     NaN     NaN     NaN     NaN     NaN   \n",
       "4    5   89.238236   9.114560     NaN     NaN     NaN     NaN     NaN     NaN   \n",
       "5    6   99.109917   9.114560     NaN     NaN     NaN     NaN     NaN     NaN   \n",
       "6    7   98.061600        NaN     NaN     NaN     NaN     NaN     NaN     NaN   \n",
       "7    8  155.282394        NaN     NaN     NaN     NaN     NaN     NaN     NaN   \n",
       "8    9  113.393279   9.143681     NaN     NaN     NaN     NaN     NaN     NaN   \n",
       "9   10   81.244796  12.376000     NaN     NaN     NaN     NaN     NaN     NaN   \n",
       "\n",
       "   Wire 9  \n",
       "0     NaN  \n",
       "1     NaN  \n",
       "2     NaN  \n",
       "3     NaN  \n",
       "4     NaN  \n",
       "5     NaN  \n",
       "6     NaN  \n",
       "7     NaN  \n",
       "8     NaN  \n",
       "9     NaN  "
      ]
     },
     "metadata": {},
     "output_type": "display_data"
    },
    {
     "name": "stdout",
     "output_type": "stream",
     "text": [
      "<class 'pandas.core.frame.DataFrame'>\n",
      "RangeIndex: 3081 entries, 0 to 3080\n",
      "Data columns (total 10 columns):\n",
      " #   Column  Non-Null Count  Dtype  \n",
      "---  ------  --------------  -----  \n",
      " 0   key     3081 non-null   int64  \n",
      " 1   Wire 1  3055 non-null   float64\n",
      " 2   Wire 2  1079 non-null   float64\n",
      " 3   Wire 3  63 non-null     float64\n",
      " 4   Wire 4  14 non-null     float64\n",
      " 5   Wire 5  1 non-null      float64\n",
      " 6   Wire 6  73 non-null     float64\n",
      " 7   Wire 7  11 non-null     float64\n",
      " 8   Wire 8  19 non-null     float64\n",
      " 9   Wire 9  29 non-null     float64\n",
      "dtypes: float64(9), int64(1)\n",
      "memory usage: 240.8 KB\n"
     ]
    },
    {
     "data": {
      "text/plain": [
       "None"
      ]
     },
     "metadata": {},
     "output_type": "display_data"
    },
    {
     "data": {
      "text/html": [
       "<div>\n",
       "<style scoped>\n",
       "    .dataframe tbody tr th:only-of-type {\n",
       "        vertical-align: middle;\n",
       "    }\n",
       "\n",
       "    .dataframe tbody tr th {\n",
       "        vertical-align: top;\n",
       "    }\n",
       "\n",
       "    .dataframe thead th {\n",
       "        text-align: right;\n",
       "    }\n",
       "</style>\n",
       "<table border=\"1\" class=\"dataframe\">\n",
       "  <thead>\n",
       "    <tr style=\"text-align: right;\">\n",
       "      <th></th>\n",
       "      <th>key</th>\n",
       "      <th>Wire 1</th>\n",
       "      <th>Wire 2</th>\n",
       "      <th>Wire 3</th>\n",
       "      <th>Wire 4</th>\n",
       "      <th>Wire 5</th>\n",
       "      <th>Wire 6</th>\n",
       "      <th>Wire 7</th>\n",
       "      <th>Wire 8</th>\n",
       "      <th>Wire 9</th>\n",
       "    </tr>\n",
       "  </thead>\n",
       "  <tbody>\n",
       "    <tr>\n",
       "      <th>count</th>\n",
       "      <td>3081.000000</td>\n",
       "      <td>3055.000000</td>\n",
       "      <td>1079.000000</td>\n",
       "      <td>63.000000</td>\n",
       "      <td>14.000000</td>\n",
       "      <td>1.000</td>\n",
       "      <td>73.000000</td>\n",
       "      <td>11.000000</td>\n",
       "      <td>19.000000</td>\n",
       "      <td>29.000000</td>\n",
       "    </tr>\n",
       "    <tr>\n",
       "      <th>mean</th>\n",
       "      <td>1623.426485</td>\n",
       "      <td>100.895853</td>\n",
       "      <td>50.577323</td>\n",
       "      <td>189.482681</td>\n",
       "      <td>57.442842</td>\n",
       "      <td>15.132</td>\n",
       "      <td>48.016974</td>\n",
       "      <td>10.039007</td>\n",
       "      <td>53.625193</td>\n",
       "      <td>34.155752</td>\n",
       "    </tr>\n",
       "    <tr>\n",
       "      <th>std</th>\n",
       "      <td>932.996726</td>\n",
       "      <td>42.012518</td>\n",
       "      <td>39.320216</td>\n",
       "      <td>99.513444</td>\n",
       "      <td>28.824667</td>\n",
       "      <td>NaN</td>\n",
       "      <td>33.919845</td>\n",
       "      <td>8.610584</td>\n",
       "      <td>16.881728</td>\n",
       "      <td>19.931616</td>\n",
       "    </tr>\n",
       "    <tr>\n",
       "      <th>min</th>\n",
       "      <td>1.000000</td>\n",
       "      <td>1.918800</td>\n",
       "      <td>0.030160</td>\n",
       "      <td>0.144144</td>\n",
       "      <td>24.148801</td>\n",
       "      <td>15.132</td>\n",
       "      <td>0.034320</td>\n",
       "      <td>0.234208</td>\n",
       "      <td>45.076721</td>\n",
       "      <td>4.622800</td>\n",
       "    </tr>\n",
       "    <tr>\n",
       "      <th>25%</th>\n",
       "      <td>823.000000</td>\n",
       "      <td>72.115684</td>\n",
       "      <td>20.193680</td>\n",
       "      <td>95.135044</td>\n",
       "      <td>40.807002</td>\n",
       "      <td>15.132</td>\n",
       "      <td>25.053600</td>\n",
       "      <td>6.762756</td>\n",
       "      <td>46.094879</td>\n",
       "      <td>22.058401</td>\n",
       "    </tr>\n",
       "    <tr>\n",
       "      <th>50%</th>\n",
       "      <td>1619.000000</td>\n",
       "      <td>100.158234</td>\n",
       "      <td>40.142956</td>\n",
       "      <td>235.194977</td>\n",
       "      <td>45.234282</td>\n",
       "      <td>15.132</td>\n",
       "      <td>42.076324</td>\n",
       "      <td>9.017009</td>\n",
       "      <td>46.279999</td>\n",
       "      <td>30.066399</td>\n",
       "    </tr>\n",
       "    <tr>\n",
       "      <th>75%</th>\n",
       "      <td>2434.000000</td>\n",
       "      <td>126.060483</td>\n",
       "      <td>70.227558</td>\n",
       "      <td>276.252014</td>\n",
       "      <td>76.124619</td>\n",
       "      <td>15.132</td>\n",
       "      <td>64.212723</td>\n",
       "      <td>11.886057</td>\n",
       "      <td>48.089603</td>\n",
       "      <td>43.862003</td>\n",
       "    </tr>\n",
       "    <tr>\n",
       "      <th>max</th>\n",
       "      <td>3241.000000</td>\n",
       "      <td>330.314424</td>\n",
       "      <td>282.780152</td>\n",
       "      <td>385.008668</td>\n",
       "      <td>113.231044</td>\n",
       "      <td>15.132</td>\n",
       "      <td>180.454575</td>\n",
       "      <td>32.847674</td>\n",
       "      <td>102.762401</td>\n",
       "      <td>90.053604</td>\n",
       "    </tr>\n",
       "  </tbody>\n",
       "</table>\n",
       "</div>"
      ],
      "text/plain": [
       "               key       Wire 1       Wire 2      Wire 3      Wire 4  Wire 5  \\\n",
       "count  3081.000000  3055.000000  1079.000000   63.000000   14.000000   1.000   \n",
       "mean   1623.426485   100.895853    50.577323  189.482681   57.442842  15.132   \n",
       "std     932.996726    42.012518    39.320216   99.513444   28.824667     NaN   \n",
       "min       1.000000     1.918800     0.030160    0.144144   24.148801  15.132   \n",
       "25%     823.000000    72.115684    20.193680   95.135044   40.807002  15.132   \n",
       "50%    1619.000000   100.158234    40.142956  235.194977   45.234282  15.132   \n",
       "75%    2434.000000   126.060483    70.227558  276.252014   76.124619  15.132   \n",
       "max    3241.000000   330.314424   282.780152  385.008668  113.231044  15.132   \n",
       "\n",
       "           Wire 6     Wire 7      Wire 8     Wire 9  \n",
       "count   73.000000  11.000000   19.000000  29.000000  \n",
       "mean    48.016974  10.039007   53.625193  34.155752  \n",
       "std     33.919845   8.610584   16.881728  19.931616  \n",
       "min      0.034320   0.234208   45.076721   4.622800  \n",
       "25%     25.053600   6.762756   46.094879  22.058401  \n",
       "50%     42.076324   9.017009   46.279999  30.066399  \n",
       "75%     64.212723  11.886057   48.089603  43.862003  \n",
       "max    180.454575  32.847674  102.762401  90.053604  "
      ]
     },
     "metadata": {},
     "output_type": "display_data"
    },
    {
     "name": "stdout",
     "output_type": "stream",
     "text": [
      "Количество дубликатов - 0 \n",
      "\n"
     ]
    },
    {
     "data": {
      "text/html": [
       "<style type=\"text/css\">\n",
       "#T_f2ec0_row0_col0, #T_f2ec0_row1_col1, #T_f2ec0_row2_col2, #T_f2ec0_row3_col3, #T_f2ec0_row4_col4, #T_f2ec0_row6_col6, #T_f2ec0_row7_col7, #T_f2ec0_row8_col8, #T_f2ec0_row9_col9 {\n",
       "  background-color: #b40426;\n",
       "  color: #f1f1f1;\n",
       "}\n",
       "#T_f2ec0_row0_col1, #T_f2ec0_row6_col0 {\n",
       "  background-color: #6b8df0;\n",
       "  color: #f1f1f1;\n",
       "}\n",
       "#T_f2ec0_row0_col2 {\n",
       "  background-color: #7da0f9;\n",
       "  color: #f1f1f1;\n",
       "}\n",
       "#T_f2ec0_row0_col3 {\n",
       "  background-color: #5d7ce6;\n",
       "  color: #f1f1f1;\n",
       "}\n",
       "#T_f2ec0_row0_col4 {\n",
       "  background-color: #ecd3c5;\n",
       "  color: #000000;\n",
       "}\n",
       "#T_f2ec0_row0_col5, #T_f2ec0_row1_col5, #T_f2ec0_row2_col4, #T_f2ec0_row2_col5, #T_f2ec0_row2_col7, #T_f2ec0_row3_col5, #T_f2ec0_row3_col8, #T_f2ec0_row3_col9, #T_f2ec0_row4_col2, #T_f2ec0_row4_col5, #T_f2ec0_row4_col8, #T_f2ec0_row4_col9, #T_f2ec0_row5_col0, #T_f2ec0_row5_col1, #T_f2ec0_row5_col2, #T_f2ec0_row5_col3, #T_f2ec0_row5_col4, #T_f2ec0_row5_col5, #T_f2ec0_row5_col6, #T_f2ec0_row5_col7, #T_f2ec0_row5_col8, #T_f2ec0_row5_col9, #T_f2ec0_row6_col5, #T_f2ec0_row6_col8, #T_f2ec0_row6_col9, #T_f2ec0_row7_col2, #T_f2ec0_row7_col5, #T_f2ec0_row7_col8, #T_f2ec0_row7_col9, #T_f2ec0_row8_col3, #T_f2ec0_row8_col4, #T_f2ec0_row8_col5, #T_f2ec0_row8_col6, #T_f2ec0_row8_col7, #T_f2ec0_row8_col9, #T_f2ec0_row9_col3, #T_f2ec0_row9_col4, #T_f2ec0_row9_col5, #T_f2ec0_row9_col6, #T_f2ec0_row9_col7, #T_f2ec0_row9_col8 {\n",
       "  background-color: #000000;\n",
       "  color: #f1f1f1;\n",
       "}\n",
       "#T_f2ec0_row0_col6 {\n",
       "  background-color: #98b9ff;\n",
       "  color: #000000;\n",
       "}\n",
       "#T_f2ec0_row0_col7 {\n",
       "  background-color: #f7ac8e;\n",
       "  color: #000000;\n",
       "}\n",
       "#T_f2ec0_row0_col8 {\n",
       "  background-color: #96b7ff;\n",
       "  color: #000000;\n",
       "}\n",
       "#T_f2ec0_row0_col9, #T_f2ec0_row1_col0, #T_f2ec0_row1_col6, #T_f2ec0_row1_col8, #T_f2ec0_row3_col0, #T_f2ec0_row4_col7, #T_f2ec0_row6_col1, #T_f2ec0_row6_col2, #T_f2ec0_row6_col3, #T_f2ec0_row7_col4 {\n",
       "  background-color: #3b4cc0;\n",
       "  color: #f1f1f1;\n",
       "}\n",
       "#T_f2ec0_row1_col2 {\n",
       "  background-color: #7699f6;\n",
       "  color: #f1f1f1;\n",
       "}\n",
       "#T_f2ec0_row1_col3 {\n",
       "  background-color: #f18f71;\n",
       "  color: #f1f1f1;\n",
       "}\n",
       "#T_f2ec0_row1_col4 {\n",
       "  background-color: #a7c5fe;\n",
       "  color: #000000;\n",
       "}\n",
       "#T_f2ec0_row1_col7 {\n",
       "  background-color: #92b4fe;\n",
       "  color: #000000;\n",
       "}\n",
       "#T_f2ec0_row1_col9, #T_f2ec0_row2_col9 {\n",
       "  background-color: #4055c8;\n",
       "  color: #f1f1f1;\n",
       "}\n",
       "#T_f2ec0_row2_col0 {\n",
       "  background-color: #506bda;\n",
       "  color: #f1f1f1;\n",
       "}\n",
       "#T_f2ec0_row2_col1, #T_f2ec0_row2_col8, #T_f2ec0_row7_col1 {\n",
       "  background-color: #799cf8;\n",
       "  color: #f1f1f1;\n",
       "}\n",
       "#T_f2ec0_row2_col3 {\n",
       "  background-color: #5e7de7;\n",
       "  color: #f1f1f1;\n",
       "}\n",
       "#T_f2ec0_row2_col6 {\n",
       "  background-color: #3e51c5;\n",
       "  color: #f1f1f1;\n",
       "}\n",
       "#T_f2ec0_row3_col1 {\n",
       "  background-color: #f08b6e;\n",
       "  color: #f1f1f1;\n",
       "}\n",
       "#T_f2ec0_row3_col2 {\n",
       "  background-color: #688aef;\n",
       "  color: #f1f1f1;\n",
       "}\n",
       "#T_f2ec0_row3_col4 {\n",
       "  background-color: #abc8fd;\n",
       "  color: #000000;\n",
       "}\n",
       "#T_f2ec0_row3_col6, #T_f2ec0_row7_col6 {\n",
       "  background-color: #485fd1;\n",
       "  color: #f1f1f1;\n",
       "}\n",
       "#T_f2ec0_row3_col7 {\n",
       "  background-color: #8caffe;\n",
       "  color: #000000;\n",
       "}\n",
       "#T_f2ec0_row4_col0 {\n",
       "  background-color: #cbd8ee;\n",
       "  color: #000000;\n",
       "}\n",
       "#T_f2ec0_row4_col1 {\n",
       "  background-color: #90b2fe;\n",
       "  color: #000000;\n",
       "}\n",
       "#T_f2ec0_row4_col3 {\n",
       "  background-color: #89acfd;\n",
       "  color: #000000;\n",
       "}\n",
       "#T_f2ec0_row4_col6 {\n",
       "  background-color: #c1d4f4;\n",
       "  color: #000000;\n",
       "}\n",
       "#T_f2ec0_row6_col4 {\n",
       "  background-color: #d2dbe8;\n",
       "  color: #000000;\n",
       "}\n",
       "#T_f2ec0_row6_col7 {\n",
       "  background-color: #6282ea;\n",
       "  color: #f1f1f1;\n",
       "}\n",
       "#T_f2ec0_row7_col0 {\n",
       "  background-color: #f3c8b2;\n",
       "  color: #000000;\n",
       "}\n",
       "#T_f2ec0_row7_col3 {\n",
       "  background-color: #6485ec;\n",
       "  color: #f1f1f1;\n",
       "}\n",
       "#T_f2ec0_row8_col0 {\n",
       "  background-color: #b9d0f9;\n",
       "  color: #000000;\n",
       "}\n",
       "#T_f2ec0_row8_col1 {\n",
       "  background-color: #94b6ff;\n",
       "  color: #000000;\n",
       "}\n",
       "#T_f2ec0_row8_col2 {\n",
       "  background-color: #c3d5f4;\n",
       "  color: #000000;\n",
       "}\n",
       "#T_f2ec0_row9_col0 {\n",
       "  background-color: #4f69d9;\n",
       "  color: #f1f1f1;\n",
       "}\n",
       "#T_f2ec0_row9_col1 {\n",
       "  background-color: #85a8fc;\n",
       "  color: #f1f1f1;\n",
       "}\n",
       "#T_f2ec0_row9_col2 {\n",
       "  background-color: #81a4fb;\n",
       "  color: #f1f1f1;\n",
       "}\n",
       "</style>\n",
       "<table id=\"T_f2ec0_\">\n",
       "  <thead>\n",
       "    <tr>\n",
       "      <th class=\"blank level0\" >&nbsp;</th>\n",
       "      <th class=\"col_heading level0 col0\" >key</th>\n",
       "      <th class=\"col_heading level0 col1\" >Wire 1</th>\n",
       "      <th class=\"col_heading level0 col2\" >Wire 2</th>\n",
       "      <th class=\"col_heading level0 col3\" >Wire 3</th>\n",
       "      <th class=\"col_heading level0 col4\" >Wire 4</th>\n",
       "      <th class=\"col_heading level0 col5\" >Wire 5</th>\n",
       "      <th class=\"col_heading level0 col6\" >Wire 6</th>\n",
       "      <th class=\"col_heading level0 col7\" >Wire 7</th>\n",
       "      <th class=\"col_heading level0 col8\" >Wire 8</th>\n",
       "      <th class=\"col_heading level0 col9\" >Wire 9</th>\n",
       "    </tr>\n",
       "  </thead>\n",
       "  <tbody>\n",
       "    <tr>\n",
       "      <th id=\"T_f2ec0_level0_row0\" class=\"row_heading level0 row0\" >key</th>\n",
       "      <td id=\"T_f2ec0_row0_col0\" class=\"data row0 col0\" >1.00</td>\n",
       "      <td id=\"T_f2ec0_row0_col1\" class=\"data row0 col1\" >-0.08</td>\n",
       "      <td id=\"T_f2ec0_row0_col2\" class=\"data row0 col2\" >-0.01</td>\n",
       "      <td id=\"T_f2ec0_row0_col3\" class=\"data row0 col3\" >-0.08</td>\n",
       "      <td id=\"T_f2ec0_row0_col4\" class=\"data row0 col4\" >0.39</td>\n",
       "      <td id=\"T_f2ec0_row0_col5\" class=\"data row0 col5\" >nan</td>\n",
       "      <td id=\"T_f2ec0_row0_col6\" class=\"data row0 col6\" >0.08</td>\n",
       "      <td id=\"T_f2ec0_row0_col7\" class=\"data row0 col7\" >0.58</td>\n",
       "      <td id=\"T_f2ec0_row0_col8\" class=\"data row0 col8\" >0.32</td>\n",
       "      <td id=\"T_f2ec0_row0_col9\" class=\"data row0 col9\" >-0.01</td>\n",
       "    </tr>\n",
       "    <tr>\n",
       "      <th id=\"T_f2ec0_level0_row1\" class=\"row_heading level0 row1\" >Wire 1</th>\n",
       "      <td id=\"T_f2ec0_row1_col0\" class=\"data row1 col0\" >-0.08</td>\n",
       "      <td id=\"T_f2ec0_row1_col1\" class=\"data row1 col1\" >1.00</td>\n",
       "      <td id=\"T_f2ec0_row1_col2\" class=\"data row1 col2\" >-0.03</td>\n",
       "      <td id=\"T_f2ec0_row1_col3\" class=\"data row1 col3\" >0.72</td>\n",
       "      <td id=\"T_f2ec0_row1_col4\" class=\"data row1 col4\" >0.05</td>\n",
       "      <td id=\"T_f2ec0_row1_col5\" class=\"data row1 col5\" >nan</td>\n",
       "      <td id=\"T_f2ec0_row1_col6\" class=\"data row1 col6\" >-0.28</td>\n",
       "      <td id=\"T_f2ec0_row1_col7\" class=\"data row1 col7\" >-0.04</td>\n",
       "      <td id=\"T_f2ec0_row1_col8\" class=\"data row1 col8\" >0.07</td>\n",
       "      <td id=\"T_f2ec0_row1_col9\" class=\"data row1 col9\" >0.01</td>\n",
       "    </tr>\n",
       "    <tr>\n",
       "      <th id=\"T_f2ec0_level0_row2\" class=\"row_heading level0 row2\" >Wire 2</th>\n",
       "      <td id=\"T_f2ec0_row2_col0\" class=\"data row2 col0\" >-0.01</td>\n",
       "      <td id=\"T_f2ec0_row2_col1\" class=\"data row2 col1\" >-0.03</td>\n",
       "      <td id=\"T_f2ec0_row2_col2\" class=\"data row2 col2\" >1.00</td>\n",
       "      <td id=\"T_f2ec0_row2_col3\" class=\"data row2 col3\" >-0.08</td>\n",
       "      <td id=\"T_f2ec0_row2_col4\" class=\"data row2 col4\" >nan</td>\n",
       "      <td id=\"T_f2ec0_row2_col5\" class=\"data row2 col5\" >nan</td>\n",
       "      <td id=\"T_f2ec0_row2_col6\" class=\"data row2 col6\" >-0.27</td>\n",
       "      <td id=\"T_f2ec0_row2_col7\" class=\"data row2 col7\" >nan</td>\n",
       "      <td id=\"T_f2ec0_row2_col8\" class=\"data row2 col8\" >0.25</td>\n",
       "      <td id=\"T_f2ec0_row2_col9\" class=\"data row2 col9\" >0.01</td>\n",
       "    </tr>\n",
       "    <tr>\n",
       "      <th id=\"T_f2ec0_level0_row3\" class=\"row_heading level0 row3\" >Wire 3</th>\n",
       "      <td id=\"T_f2ec0_row3_col0\" class=\"data row3 col0\" >-0.08</td>\n",
       "      <td id=\"T_f2ec0_row3_col1\" class=\"data row3 col1\" >0.72</td>\n",
       "      <td id=\"T_f2ec0_row3_col2\" class=\"data row3 col2\" >-0.08</td>\n",
       "      <td id=\"T_f2ec0_row3_col3\" class=\"data row3 col3\" >1.00</td>\n",
       "      <td id=\"T_f2ec0_row3_col4\" class=\"data row3 col4\" >0.07</td>\n",
       "      <td id=\"T_f2ec0_row3_col5\" class=\"data row3 col5\" >nan</td>\n",
       "      <td id=\"T_f2ec0_row3_col6\" class=\"data row3 col6\" >-0.22</td>\n",
       "      <td id=\"T_f2ec0_row3_col7\" class=\"data row3 col7\" >-0.06</td>\n",
       "      <td id=\"T_f2ec0_row3_col8\" class=\"data row3 col8\" >nan</td>\n",
       "      <td id=\"T_f2ec0_row3_col9\" class=\"data row3 col9\" >nan</td>\n",
       "    </tr>\n",
       "    <tr>\n",
       "      <th id=\"T_f2ec0_level0_row4\" class=\"row_heading level0 row4\" >Wire 4</th>\n",
       "      <td id=\"T_f2ec0_row4_col0\" class=\"data row4 col0\" >0.39</td>\n",
       "      <td id=\"T_f2ec0_row4_col1\" class=\"data row4 col1\" >0.05</td>\n",
       "      <td id=\"T_f2ec0_row4_col2\" class=\"data row4 col2\" >nan</td>\n",
       "      <td id=\"T_f2ec0_row4_col3\" class=\"data row4 col3\" >0.07</td>\n",
       "      <td id=\"T_f2ec0_row4_col4\" class=\"data row4 col4\" >1.00</td>\n",
       "      <td id=\"T_f2ec0_row4_col5\" class=\"data row4 col5\" >nan</td>\n",
       "      <td id=\"T_f2ec0_row4_col6\" class=\"data row4 col6\" >0.24</td>\n",
       "      <td id=\"T_f2ec0_row4_col7\" class=\"data row4 col7\" >-0.40</td>\n",
       "      <td id=\"T_f2ec0_row4_col8\" class=\"data row4 col8\" >nan</td>\n",
       "      <td id=\"T_f2ec0_row4_col9\" class=\"data row4 col9\" >nan</td>\n",
       "    </tr>\n",
       "    <tr>\n",
       "      <th id=\"T_f2ec0_level0_row5\" class=\"row_heading level0 row5\" >Wire 5</th>\n",
       "      <td id=\"T_f2ec0_row5_col0\" class=\"data row5 col0\" >nan</td>\n",
       "      <td id=\"T_f2ec0_row5_col1\" class=\"data row5 col1\" >nan</td>\n",
       "      <td id=\"T_f2ec0_row5_col2\" class=\"data row5 col2\" >nan</td>\n",
       "      <td id=\"T_f2ec0_row5_col3\" class=\"data row5 col3\" >nan</td>\n",
       "      <td id=\"T_f2ec0_row5_col4\" class=\"data row5 col4\" >nan</td>\n",
       "      <td id=\"T_f2ec0_row5_col5\" class=\"data row5 col5\" >nan</td>\n",
       "      <td id=\"T_f2ec0_row5_col6\" class=\"data row5 col6\" >nan</td>\n",
       "      <td id=\"T_f2ec0_row5_col7\" class=\"data row5 col7\" >nan</td>\n",
       "      <td id=\"T_f2ec0_row5_col8\" class=\"data row5 col8\" >nan</td>\n",
       "      <td id=\"T_f2ec0_row5_col9\" class=\"data row5 col9\" >nan</td>\n",
       "    </tr>\n",
       "    <tr>\n",
       "      <th id=\"T_f2ec0_level0_row6\" class=\"row_heading level0 row6\" >Wire 6</th>\n",
       "      <td id=\"T_f2ec0_row6_col0\" class=\"data row6 col0\" >0.08</td>\n",
       "      <td id=\"T_f2ec0_row6_col1\" class=\"data row6 col1\" >-0.28</td>\n",
       "      <td id=\"T_f2ec0_row6_col2\" class=\"data row6 col2\" >-0.27</td>\n",
       "      <td id=\"T_f2ec0_row6_col3\" class=\"data row6 col3\" >-0.22</td>\n",
       "      <td id=\"T_f2ec0_row6_col4\" class=\"data row6 col4\" >0.24</td>\n",
       "      <td id=\"T_f2ec0_row6_col5\" class=\"data row6 col5\" >nan</td>\n",
       "      <td id=\"T_f2ec0_row6_col6\" class=\"data row6 col6\" >1.00</td>\n",
       "      <td id=\"T_f2ec0_row6_col7\" class=\"data row6 col7\" >-0.22</td>\n",
       "      <td id=\"T_f2ec0_row6_col8\" class=\"data row6 col8\" >nan</td>\n",
       "      <td id=\"T_f2ec0_row6_col9\" class=\"data row6 col9\" >nan</td>\n",
       "    </tr>\n",
       "    <tr>\n",
       "      <th id=\"T_f2ec0_level0_row7\" class=\"row_heading level0 row7\" >Wire 7</th>\n",
       "      <td id=\"T_f2ec0_row7_col0\" class=\"data row7 col0\" >0.58</td>\n",
       "      <td id=\"T_f2ec0_row7_col1\" class=\"data row7 col1\" >-0.04</td>\n",
       "      <td id=\"T_f2ec0_row7_col2\" class=\"data row7 col2\" >nan</td>\n",
       "      <td id=\"T_f2ec0_row7_col3\" class=\"data row7 col3\" >-0.06</td>\n",
       "      <td id=\"T_f2ec0_row7_col4\" class=\"data row7 col4\" >-0.40</td>\n",
       "      <td id=\"T_f2ec0_row7_col5\" class=\"data row7 col5\" >nan</td>\n",
       "      <td id=\"T_f2ec0_row7_col6\" class=\"data row7 col6\" >-0.22</td>\n",
       "      <td id=\"T_f2ec0_row7_col7\" class=\"data row7 col7\" >1.00</td>\n",
       "      <td id=\"T_f2ec0_row7_col8\" class=\"data row7 col8\" >nan</td>\n",
       "      <td id=\"T_f2ec0_row7_col9\" class=\"data row7 col9\" >nan</td>\n",
       "    </tr>\n",
       "    <tr>\n",
       "      <th id=\"T_f2ec0_level0_row8\" class=\"row_heading level0 row8\" >Wire 8</th>\n",
       "      <td id=\"T_f2ec0_row8_col0\" class=\"data row8 col0\" >0.32</td>\n",
       "      <td id=\"T_f2ec0_row8_col1\" class=\"data row8 col1\" >0.07</td>\n",
       "      <td id=\"T_f2ec0_row8_col2\" class=\"data row8 col2\" >0.25</td>\n",
       "      <td id=\"T_f2ec0_row8_col3\" class=\"data row8 col3\" >nan</td>\n",
       "      <td id=\"T_f2ec0_row8_col4\" class=\"data row8 col4\" >nan</td>\n",
       "      <td id=\"T_f2ec0_row8_col5\" class=\"data row8 col5\" >nan</td>\n",
       "      <td id=\"T_f2ec0_row8_col6\" class=\"data row8 col6\" >nan</td>\n",
       "      <td id=\"T_f2ec0_row8_col7\" class=\"data row8 col7\" >nan</td>\n",
       "      <td id=\"T_f2ec0_row8_col8\" class=\"data row8 col8\" >1.00</td>\n",
       "      <td id=\"T_f2ec0_row8_col9\" class=\"data row8 col9\" >nan</td>\n",
       "    </tr>\n",
       "    <tr>\n",
       "      <th id=\"T_f2ec0_level0_row9\" class=\"row_heading level0 row9\" >Wire 9</th>\n",
       "      <td id=\"T_f2ec0_row9_col0\" class=\"data row9 col0\" >-0.01</td>\n",
       "      <td id=\"T_f2ec0_row9_col1\" class=\"data row9 col1\" >0.01</td>\n",
       "      <td id=\"T_f2ec0_row9_col2\" class=\"data row9 col2\" >0.01</td>\n",
       "      <td id=\"T_f2ec0_row9_col3\" class=\"data row9 col3\" >nan</td>\n",
       "      <td id=\"T_f2ec0_row9_col4\" class=\"data row9 col4\" >nan</td>\n",
       "      <td id=\"T_f2ec0_row9_col5\" class=\"data row9 col5\" >nan</td>\n",
       "      <td id=\"T_f2ec0_row9_col6\" class=\"data row9 col6\" >nan</td>\n",
       "      <td id=\"T_f2ec0_row9_col7\" class=\"data row9 col7\" >nan</td>\n",
       "      <td id=\"T_f2ec0_row9_col8\" class=\"data row9 col8\" >nan</td>\n",
       "      <td id=\"T_f2ec0_row9_col9\" class=\"data row9 col9\" >1.00</td>\n",
       "    </tr>\n",
       "  </tbody>\n",
       "</table>\n"
      ],
      "text/plain": [
       "<pandas.io.formats.style.Styler at 0x1b581194040>"
      ]
     },
     "metadata": {},
     "output_type": "display_data"
    }
   ],
   "source": [
    "data_info(data_wire)"
   ]
  },
  {
   "cell_type": "code",
   "execution_count": 27,
   "metadata": {},
   "outputs": [
    {
     "data": {
      "text/plain": [
       "key          0\n",
       "Wire 1      26\n",
       "Wire 2    2002\n",
       "Wire 3    3018\n",
       "Wire 4    3067\n",
       "Wire 5    3080\n",
       "Wire 6    3008\n",
       "Wire 7    3070\n",
       "Wire 8    3062\n",
       "Wire 9    3052\n",
       "dtype: int64"
      ]
     },
     "execution_count": 27,
     "metadata": {},
     "output_type": "execute_result"
    }
   ],
   "source": [
    "# проверим на пропуски\n",
    "data_wire.isna().sum()"
   ]
  },
  {
   "cell_type": "code",
   "execution_count": 28,
   "metadata": {
    "scrolled": false
   },
   "outputs": [
    {
     "data": {
      "image/png": "[encoded data removed]",
      "text/plain": [
       "<Figure size 864x864 with 9 Axes>"
      ]
     },
     "metadata": {
      "needs_background": "light"
     },
     "output_type": "display_data"
    }
   ],
   "source": [
    "fig, axes = plt.subplots(3, 3, figsize = (12, 12))\n",
    "\n",
    "for wire in range(1, 10):  \n",
    "    plt.subplot(3, 3, wire)\n",
    "    data_wire.boxplot(column=f'Wire {wire}')"
   ]
  },
  {
   "cell_type": "markdown",
   "metadata": {},
   "source": [
    "**Вывод**\n",
    "- Дубликатов нет\n",
    "- Типы данных указаны верно\n",
    "- Очень много пропусков. Скорее всего потому что проволочные материалы поступали в разное время индивидуально для каждого ключа."
   ]
  },
  {
   "cell_type": "markdown",
   "metadata": {},
   "source": [
    "### `data_wire_time` - данные о проволочных материалах (время)"
   ]
  },
  {
   "cell_type": "code",
   "execution_count": 29,
   "metadata": {},
   "outputs": [
    {
     "data": {
      "text/html": [
       "<div>\n",
       "<style scoped>\n",
       "    .dataframe tbody tr th:only-of-type {\n",
       "        vertical-align: middle;\n",
       "    }\n",
       "\n",
       "    .dataframe tbody tr th {\n",
       "        vertical-align: top;\n",
       "    }\n",
       "\n",
       "    .dataframe thead th {\n",
       "        text-align: right;\n",
       "    }\n",
       "</style>\n",
       "<table border=\"1\" class=\"dataframe\">\n",
       "  <thead>\n",
       "    <tr style=\"text-align: right;\">\n",
       "      <th></th>\n",
       "      <th>key</th>\n",
       "      <th>Wire 1</th>\n",
       "      <th>Wire 2</th>\n",
       "      <th>Wire 3</th>\n",
       "      <th>Wire 4</th>\n",
       "      <th>Wire 5</th>\n",
       "      <th>Wire 6</th>\n",
       "      <th>Wire 7</th>\n",
       "      <th>Wire 8</th>\n",
       "      <th>Wire 9</th>\n",
       "    </tr>\n",
       "  </thead>\n",
       "  <tbody>\n",
       "    <tr>\n",
       "      <th>0</th>\n",
       "      <td>1</td>\n",
       "      <td>2019-05-03 11:11:41</td>\n",
       "      <td>NaN</td>\n",
       "      <td>NaN</td>\n",
       "      <td>NaN</td>\n",
       "      <td>NaN</td>\n",
       "      <td>NaN</td>\n",
       "      <td>NaN</td>\n",
       "      <td>NaN</td>\n",
       "      <td>NaN</td>\n",
       "    </tr>\n",
       "    <tr>\n",
       "      <th>1</th>\n",
       "      <td>2</td>\n",
       "      <td>2019-05-03 11:46:10</td>\n",
       "      <td>NaN</td>\n",
       "      <td>NaN</td>\n",
       "      <td>NaN</td>\n",
       "      <td>NaN</td>\n",
       "      <td>NaN</td>\n",
       "      <td>NaN</td>\n",
       "      <td>NaN</td>\n",
       "      <td>NaN</td>\n",
       "    </tr>\n",
       "    <tr>\n",
       "      <th>2</th>\n",
       "      <td>3</td>\n",
       "      <td>2019-05-03 12:13:47</td>\n",
       "      <td>NaN</td>\n",
       "      <td>NaN</td>\n",
       "      <td>NaN</td>\n",
       "      <td>NaN</td>\n",
       "      <td>NaN</td>\n",
       "      <td>NaN</td>\n",
       "      <td>NaN</td>\n",
       "      <td>NaN</td>\n",
       "    </tr>\n",
       "    <tr>\n",
       "      <th>3</th>\n",
       "      <td>4</td>\n",
       "      <td>2019-05-03 12:48:05</td>\n",
       "      <td>NaN</td>\n",
       "      <td>NaN</td>\n",
       "      <td>NaN</td>\n",
       "      <td>NaN</td>\n",
       "      <td>NaN</td>\n",
       "      <td>NaN</td>\n",
       "      <td>NaN</td>\n",
       "      <td>NaN</td>\n",
       "    </tr>\n",
       "    <tr>\n",
       "      <th>4</th>\n",
       "      <td>5</td>\n",
       "      <td>2019-05-03 13:18:15</td>\n",
       "      <td>2019-05-03 13:32:06</td>\n",
       "      <td>NaN</td>\n",
       "      <td>NaN</td>\n",
       "      <td>NaN</td>\n",
       "      <td>NaN</td>\n",
       "      <td>NaN</td>\n",
       "      <td>NaN</td>\n",
       "      <td>NaN</td>\n",
       "    </tr>\n",
       "    <tr>\n",
       "      <th>5</th>\n",
       "      <td>6</td>\n",
       "      <td>2019-05-03 13:59:02</td>\n",
       "      <td>2019-05-03 13:59:54</td>\n",
       "      <td>NaN</td>\n",
       "      <td>NaN</td>\n",
       "      <td>NaN</td>\n",
       "      <td>NaN</td>\n",
       "      <td>NaN</td>\n",
       "      <td>NaN</td>\n",
       "      <td>NaN</td>\n",
       "    </tr>\n",
       "    <tr>\n",
       "      <th>6</th>\n",
       "      <td>7</td>\n",
       "      <td>2019-05-03 14:28:46</td>\n",
       "      <td>NaN</td>\n",
       "      <td>NaN</td>\n",
       "      <td>NaN</td>\n",
       "      <td>NaN</td>\n",
       "      <td>NaN</td>\n",
       "      <td>NaN</td>\n",
       "      <td>NaN</td>\n",
       "      <td>NaN</td>\n",
       "    </tr>\n",
       "    <tr>\n",
       "      <th>7</th>\n",
       "      <td>8</td>\n",
       "      <td>2019-05-03 15:03:42</td>\n",
       "      <td>NaN</td>\n",
       "      <td>NaN</td>\n",
       "      <td>NaN</td>\n",
       "      <td>NaN</td>\n",
       "      <td>NaN</td>\n",
       "      <td>NaN</td>\n",
       "      <td>NaN</td>\n",
       "      <td>NaN</td>\n",
       "    </tr>\n",
       "    <tr>\n",
       "      <th>8</th>\n",
       "      <td>9</td>\n",
       "      <td>2019-05-03 15:42:43</td>\n",
       "      <td>2019-05-03 15:58:12</td>\n",
       "      <td>NaN</td>\n",
       "      <td>NaN</td>\n",
       "      <td>NaN</td>\n",
       "      <td>NaN</td>\n",
       "      <td>NaN</td>\n",
       "      <td>NaN</td>\n",
       "      <td>NaN</td>\n",
       "    </tr>\n",
       "    <tr>\n",
       "      <th>9</th>\n",
       "      <td>10</td>\n",
       "      <td>2019-05-03 16:20:25</td>\n",
       "      <td>2019-05-03 16:21:02</td>\n",
       "      <td>NaN</td>\n",
       "      <td>NaN</td>\n",
       "      <td>NaN</td>\n",
       "      <td>NaN</td>\n",
       "      <td>NaN</td>\n",
       "      <td>NaN</td>\n",
       "      <td>NaN</td>\n",
       "    </tr>\n",
       "  </tbody>\n",
       "</table>\n",
       "</div>"
      ],
      "text/plain": [
       "   key               Wire 1               Wire 2 Wire 3 Wire 4 Wire 5 Wire 6  \\\n",
       "0    1  2019-05-03 11:11:41                  NaN    NaN    NaN    NaN    NaN   \n",
       "1    2  2019-05-03 11:46:10                  NaN    NaN    NaN    NaN    NaN   \n",
       "2    3  2019-05-03 12:13:47                  NaN    NaN    NaN    NaN    NaN   \n",
       "3    4  2019-05-03 12:48:05                  NaN    NaN    NaN    NaN    NaN   \n",
       "4    5  2019-05-03 13:18:15  2019-05-03 13:32:06    NaN    NaN    NaN    NaN   \n",
       "5    6  2019-05-03 13:59:02  2019-05-03 13:59:54    NaN    NaN    NaN    NaN   \n",
       "6    7  2019-05-03 14:28:46                  NaN    NaN    NaN    NaN    NaN   \n",
       "7    8  2019-05-03 15:03:42                  NaN    NaN    NaN    NaN    NaN   \n",
       "8    9  2019-05-03 15:42:43  2019-05-03 15:58:12    NaN    NaN    NaN    NaN   \n",
       "9   10  2019-05-03 16:20:25  2019-05-03 16:21:02    NaN    NaN    NaN    NaN   \n",
       "\n",
       "  Wire 7 Wire 8 Wire 9  \n",
       "0    NaN    NaN    NaN  \n",
       "1    NaN    NaN    NaN  \n",
       "2    NaN    NaN    NaN  \n",
       "3    NaN    NaN    NaN  \n",
       "4    NaN    NaN    NaN  \n",
       "5    NaN    NaN    NaN  \n",
       "6    NaN    NaN    NaN  \n",
       "7    NaN    NaN    NaN  \n",
       "8    NaN    NaN    NaN  \n",
       "9    NaN    NaN    NaN  "
      ]
     },
     "metadata": {},
     "output_type": "display_data"
    },
    {
     "name": "stdout",
     "output_type": "stream",
     "text": [
      "<class 'pandas.core.frame.DataFrame'>\n",
      "RangeIndex: 3081 entries, 0 to 3080\n",
      "Data columns (total 10 columns):\n",
      " #   Column  Non-Null Count  Dtype \n",
      "---  ------  --------------  ----- \n",
      " 0   key     3081 non-null   int64 \n",
      " 1   Wire 1  3055 non-null   object\n",
      " 2   Wire 2  1079 non-null   object\n",
      " 3   Wire 3  63 non-null     object\n",
      " 4   Wire 4  14 non-null     object\n",
      " 5   Wire 5  1 non-null      object\n",
      " 6   Wire 6  73 non-null     object\n",
      " 7   Wire 7  11 non-null     object\n",
      " 8   Wire 8  19 non-null     object\n",
      " 9   Wire 9  29 non-null     object\n",
      "dtypes: int64(1), object(9)\n",
      "memory usage: 240.8+ KB\n"
     ]
    },
    {
     "data": {
      "text/plain": [
       "None"
      ]
     },
     "metadata": {},
     "output_type": "display_data"
    },
    {
     "data": {
      "text/html": [
       "<div>\n",
       "<style scoped>\n",
       "    .dataframe tbody tr th:only-of-type {\n",
       "        vertical-align: middle;\n",
       "    }\n",
       "\n",
       "    .dataframe tbody tr th {\n",
       "        vertical-align: top;\n",
       "    }\n",
       "\n",
       "    .dataframe thead th {\n",
       "        text-align: right;\n",
       "    }\n",
       "</style>\n",
       "<table border=\"1\" class=\"dataframe\">\n",
       "  <thead>\n",
       "    <tr style=\"text-align: right;\">\n",
       "      <th></th>\n",
       "      <th>key</th>\n",
       "    </tr>\n",
       "  </thead>\n",
       "  <tbody>\n",
       "    <tr>\n",
       "      <th>count</th>\n",
       "      <td>3081.000000</td>\n",
       "    </tr>\n",
       "    <tr>\n",
       "      <th>mean</th>\n",
       "      <td>1623.426485</td>\n",
       "    </tr>\n",
       "    <tr>\n",
       "      <th>std</th>\n",
       "      <td>932.996726</td>\n",
       "    </tr>\n",
       "    <tr>\n",
       "      <th>min</th>\n",
       "      <td>1.000000</td>\n",
       "    </tr>\n",
       "    <tr>\n",
       "      <th>25%</th>\n",
       "      <td>823.000000</td>\n",
       "    </tr>\n",
       "    <tr>\n",
       "      <th>50%</th>\n",
       "      <td>1619.000000</td>\n",
       "    </tr>\n",
       "    <tr>\n",
       "      <th>75%</th>\n",
       "      <td>2434.000000</td>\n",
       "    </tr>\n",
       "    <tr>\n",
       "      <th>max</th>\n",
       "      <td>3241.000000</td>\n",
       "    </tr>\n",
       "  </tbody>\n",
       "</table>\n",
       "</div>"
      ],
      "text/plain": [
       "               key\n",
       "count  3081.000000\n",
       "mean   1623.426485\n",
       "std     932.996726\n",
       "min       1.000000\n",
       "25%     823.000000\n",
       "50%    1619.000000\n",
       "75%    2434.000000\n",
       "max    3241.000000"
      ]
     },
     "metadata": {},
     "output_type": "display_data"
    },
    {
     "name": "stdout",
     "output_type": "stream",
     "text": [
      "Количество дубликатов - 0 \n",
      "\n"
     ]
    },
    {
     "data": {
      "text/html": [
       "<style type=\"text/css\">\n",
       "#T_1431d_row0_col0 {\n",
       "  background-color: #3b4cc0;\n",
       "  color: #f1f1f1;\n",
       "}\n",
       "</style>\n",
       "<table id=\"T_1431d_\">\n",
       "  <thead>\n",
       "    <tr>\n",
       "      <th class=\"blank level0\" >&nbsp;</th>\n",
       "      <th class=\"col_heading level0 col0\" >key</th>\n",
       "    </tr>\n",
       "  </thead>\n",
       "  <tbody>\n",
       "    <tr>\n",
       "      <th id=\"T_1431d_level0_row0\" class=\"row_heading level0 row0\" >key</th>\n",
       "      <td id=\"T_1431d_row0_col0\" class=\"data row0 col0\" >1.00</td>\n",
       "    </tr>\n",
       "  </tbody>\n",
       "</table>\n"
      ],
      "text/plain": [
       "<pandas.io.formats.style.Styler at 0x1b58219be50>"
      ]
     },
     "metadata": {},
     "output_type": "display_data"
    }
   ],
   "source": [
    "data_info(data_wire_time)"
   ]
  },
  {
   "cell_type": "markdown",
   "metadata": {},
   "source": [
    "**Вывод**\n",
    "- Дубликатов нет\n",
    "- Тип данных указан неверно, но эту таблицу мы не будем брать в расчет"
   ]
  },
  {
   "cell_type": "markdown",
   "metadata": {},
   "source": [
    "### Вывод\n",
    "- Загрузили и изучили данные\n",
    "- Избавились от некоторых выбросов\n",
    "- Изменили типы данных на `datetime` в некоторых таблицах\n",
    "- Изучили пропуски и дубликаты\n",
    "- В таблице `date_arc` нужно добавить столбец с полной мощностью\n",
    "- В температуре отсутствуют данные начиная с 2500 ключа, поэтому нужно их удалить"
   ]
  },
  {
   "cell_type": "markdown",
   "metadata": {},
   "source": [
    "## Предобработка данных"
   ]
  },
  {
   "cell_type": "markdown",
   "metadata": {},
   "source": [
    "План работы:\n",
    "- Добавим признак \"Полная мощность\"\n",
    "- Узнаем сколько по времени проводился нагрев (в секундах)\n",
    "- Удалим признаки после 2500, т.к. данные по температуре не изестны"
   ]
  },
  {
   "cell_type": "code",
   "execution_count": 30,
   "metadata": {},
   "outputs": [],
   "source": [
    "# удаляем признаки после 2500 ключа\n",
    "data_temp = data_temp[data_temp['key'] < 2500]\n",
    "data_arc = data_arc[data_arc['key'] < 2500]\n",
    "data_bulk = data_bulk[data_bulk['key'] < 2500]\n",
    "data_wire = data_wire[data_wire['key'] < 2500]"
   ]
  },
  {
   "cell_type": "markdown",
   "metadata": {},
   "source": [
    "### `data_arc`"
   ]
  },
  {
   "cell_type": "code",
   "execution_count": 31,
   "metadata": {},
   "outputs": [
    {
     "data": {
      "text/html": [
       "<div>\n",
       "<style scoped>\n",
       "    .dataframe tbody tr th:only-of-type {\n",
       "        vertical-align: middle;\n",
       "    }\n",
       "\n",
       "    .dataframe tbody tr th {\n",
       "        vertical-align: top;\n",
       "    }\n",
       "\n",
       "    .dataframe thead th {\n",
       "        text-align: right;\n",
       "    }\n",
       "</style>\n",
       "<table border=\"1\" class=\"dataframe\">\n",
       "  <thead>\n",
       "    <tr style=\"text-align: right;\">\n",
       "      <th></th>\n",
       "      <th>key</th>\n",
       "      <th>Начало нагрева дугой</th>\n",
       "      <th>Конец нагрева дугой</th>\n",
       "      <th>Активная мощность</th>\n",
       "      <th>Реактивная мощность</th>\n",
       "      <th>Полная мощность</th>\n",
       "      <th>Длительность нагрева</th>\n",
       "    </tr>\n",
       "  </thead>\n",
       "  <tbody>\n",
       "    <tr>\n",
       "      <th>0</th>\n",
       "      <td>1</td>\n",
       "      <td>2019-05-03 11:02:14</td>\n",
       "      <td>2019-05-03 11:06:02</td>\n",
       "      <td>0.976059</td>\n",
       "      <td>0.687084</td>\n",
       "      <td>1.193639</td>\n",
       "      <td>228</td>\n",
       "    </tr>\n",
       "    <tr>\n",
       "      <th>1</th>\n",
       "      <td>1</td>\n",
       "      <td>2019-05-03 11:07:28</td>\n",
       "      <td>2019-05-03 11:10:33</td>\n",
       "      <td>0.805607</td>\n",
       "      <td>0.520285</td>\n",
       "      <td>0.959010</td>\n",
       "      <td>185</td>\n",
       "    </tr>\n",
       "    <tr>\n",
       "      <th>2</th>\n",
       "      <td>1</td>\n",
       "      <td>2019-05-03 11:11:44</td>\n",
       "      <td>2019-05-03 11:14:36</td>\n",
       "      <td>0.744363</td>\n",
       "      <td>0.498805</td>\n",
       "      <td>0.896038</td>\n",
       "      <td>172</td>\n",
       "    </tr>\n",
       "    <tr>\n",
       "      <th>3</th>\n",
       "      <td>1</td>\n",
       "      <td>2019-05-03 11:18:14</td>\n",
       "      <td>2019-05-03 11:24:19</td>\n",
       "      <td>1.659363</td>\n",
       "      <td>1.062669</td>\n",
       "      <td>1.970470</td>\n",
       "      <td>365</td>\n",
       "    </tr>\n",
       "    <tr>\n",
       "      <th>4</th>\n",
       "      <td>1</td>\n",
       "      <td>2019-05-03 11:26:09</td>\n",
       "      <td>2019-05-03 11:28:37</td>\n",
       "      <td>0.692755</td>\n",
       "      <td>0.414397</td>\n",
       "      <td>0.807239</td>\n",
       "      <td>148</td>\n",
       "    </tr>\n",
       "  </tbody>\n",
       "</table>\n",
       "</div>"
      ],
      "text/plain": [
       "   key Начало нагрева дугой Конец нагрева дугой  Активная мощность  \\\n",
       "0    1  2019-05-03 11:02:14 2019-05-03 11:06:02           0.976059   \n",
       "1    1  2019-05-03 11:07:28 2019-05-03 11:10:33           0.805607   \n",
       "2    1  2019-05-03 11:11:44 2019-05-03 11:14:36           0.744363   \n",
       "3    1  2019-05-03 11:18:14 2019-05-03 11:24:19           1.659363   \n",
       "4    1  2019-05-03 11:26:09 2019-05-03 11:28:37           0.692755   \n",
       "\n",
       "   Реактивная мощность  Полная мощность  Длительность нагрева  \n",
       "0             0.687084         1.193639                   228  \n",
       "1             0.520285         0.959010                   185  \n",
       "2             0.498805         0.896038                   172  \n",
       "3             1.062669         1.970470                   365  \n",
       "4             0.414397         0.807239                   148  "
      ]
     },
     "execution_count": 31,
     "metadata": {},
     "output_type": "execute_result"
    }
   ],
   "source": [
    "# добавим признак с полной мощностью\n",
    "data_arc['Полная мощность'] = (data_arc['Активная мощность']**2 + data_arc['Реактивная мощность']**2)**0.5\n",
    "\n",
    "# создадим столбец с длительностью нагрева. Для точности переведём в секунды\n",
    "data_arc['Длительность нагрева'] = (data_arc['Конец нагрева дугой'] - data_arc['Начало нагрева дугой']).dt.seconds\n",
    "\n",
    "data_arc.head()"
   ]
  },
  {
   "cell_type": "code",
   "execution_count": 32,
   "metadata": {},
   "outputs": [
    {
     "data": {
      "text/html": [
       "<div>\n",
       "<style scoped>\n",
       "    .dataframe tbody tr th:only-of-type {\n",
       "        vertical-align: middle;\n",
       "    }\n",
       "\n",
       "    .dataframe tbody tr th {\n",
       "        vertical-align: top;\n",
       "    }\n",
       "\n",
       "    .dataframe thead th {\n",
       "        text-align: right;\n",
       "    }\n",
       "</style>\n",
       "<table border=\"1\" class=\"dataframe\">\n",
       "  <thead>\n",
       "    <tr style=\"text-align: right;\">\n",
       "      <th></th>\n",
       "      <th>key</th>\n",
       "      <th>Количество повторений</th>\n",
       "    </tr>\n",
       "  </thead>\n",
       "  <tbody>\n",
       "    <tr>\n",
       "      <th>0</th>\n",
       "      <td>1</td>\n",
       "      <td>5</td>\n",
       "    </tr>\n",
       "    <tr>\n",
       "      <th>1</th>\n",
       "      <td>2</td>\n",
       "      <td>4</td>\n",
       "    </tr>\n",
       "    <tr>\n",
       "      <th>2</th>\n",
       "      <td>3</td>\n",
       "      <td>5</td>\n",
       "    </tr>\n",
       "    <tr>\n",
       "      <th>3</th>\n",
       "      <td>4</td>\n",
       "      <td>4</td>\n",
       "    </tr>\n",
       "    <tr>\n",
       "      <th>4</th>\n",
       "      <td>5</td>\n",
       "      <td>4</td>\n",
       "    </tr>\n",
       "  </tbody>\n",
       "</table>\n",
       "</div>"
      ],
      "text/plain": [
       "   key  Количество повторений\n",
       "0    1                      5\n",
       "1    2                      4\n",
       "2    3                      5\n",
       "3    4                      4\n",
       "4    5                      4"
      ]
     },
     "execution_count": 32,
     "metadata": {},
     "output_type": "execute_result"
    }
   ],
   "source": [
    "# определим количество повторений нагрева\n",
    "repetition = data_arc.groupby(by = 'key', as_index=False).count()[['key', 'Длительность нагрева']]\n",
    "repetition.columns = ['key', 'Количество повторений']\n",
    "repetition.head()"
   ]
  },
  {
   "cell_type": "code",
   "execution_count": 33,
   "metadata": {},
   "outputs": [
    {
     "data": {
      "text/html": [
       "<div>\n",
       "<style scoped>\n",
       "    .dataframe tbody tr th:only-of-type {\n",
       "        vertical-align: middle;\n",
       "    }\n",
       "\n",
       "    .dataframe tbody tr th {\n",
       "        vertical-align: top;\n",
       "    }\n",
       "\n",
       "    .dataframe thead th {\n",
       "        text-align: right;\n",
       "    }\n",
       "</style>\n",
       "<table border=\"1\" class=\"dataframe\">\n",
       "  <thead>\n",
       "    <tr style=\"text-align: right;\">\n",
       "      <th></th>\n",
       "      <th>key</th>\n",
       "      <th>Длительность нагрева</th>\n",
       "      <th>Полная мощность</th>\n",
       "      <th>Количество повторений</th>\n",
       "    </tr>\n",
       "  </thead>\n",
       "  <tbody>\n",
       "    <tr>\n",
       "      <th>0</th>\n",
       "      <td>1</td>\n",
       "      <td>1098</td>\n",
       "      <td>5.826395</td>\n",
       "      <td>5</td>\n",
       "    </tr>\n",
       "    <tr>\n",
       "      <th>1</th>\n",
       "      <td>2</td>\n",
       "      <td>811</td>\n",
       "      <td>3.649216</td>\n",
       "      <td>4</td>\n",
       "    </tr>\n",
       "    <tr>\n",
       "      <th>2</th>\n",
       "      <td>3</td>\n",
       "      <td>655</td>\n",
       "      <td>2.989534</td>\n",
       "      <td>5</td>\n",
       "    </tr>\n",
       "    <tr>\n",
       "      <th>3</th>\n",
       "      <td>4</td>\n",
       "      <td>741</td>\n",
       "      <td>3.814962</td>\n",
       "      <td>4</td>\n",
       "    </tr>\n",
       "    <tr>\n",
       "      <th>4</th>\n",
       "      <td>5</td>\n",
       "      <td>869</td>\n",
       "      <td>4.035758</td>\n",
       "      <td>4</td>\n",
       "    </tr>\n",
       "    <tr>\n",
       "      <th>5</th>\n",
       "      <td>6</td>\n",
       "      <td>952</td>\n",
       "      <td>4.786837</td>\n",
       "      <td>4</td>\n",
       "    </tr>\n",
       "    <tr>\n",
       "      <th>6</th>\n",
       "      <td>7</td>\n",
       "      <td>673</td>\n",
       "      <td>2.987777</td>\n",
       "      <td>4</td>\n",
       "    </tr>\n",
       "    <tr>\n",
       "      <th>7</th>\n",
       "      <td>8</td>\n",
       "      <td>913</td>\n",
       "      <td>4.627389</td>\n",
       "      <td>4</td>\n",
       "    </tr>\n",
       "    <tr>\n",
       "      <th>8</th>\n",
       "      <td>9</td>\n",
       "      <td>625</td>\n",
       "      <td>2.555348</td>\n",
       "      <td>5</td>\n",
       "    </tr>\n",
       "    <tr>\n",
       "      <th>9</th>\n",
       "      <td>10</td>\n",
       "      <td>825</td>\n",
       "      <td>3.851739</td>\n",
       "      <td>6</td>\n",
       "    </tr>\n",
       "  </tbody>\n",
       "</table>\n",
       "</div>"
      ],
      "text/plain": [
       "   key  Длительность нагрева  Полная мощность  Количество повторений\n",
       "0    1                  1098         5.826395                      5\n",
       "1    2                   811         3.649216                      4\n",
       "2    3                   655         2.989534                      5\n",
       "3    4                   741         3.814962                      4\n",
       "4    5                   869         4.035758                      4\n",
       "5    6                   952         4.786837                      4\n",
       "6    7                   673         2.987777                      4\n",
       "7    8                   913         4.627389                      4\n",
       "8    9                   625         2.555348                      5\n",
       "9   10                   825         3.851739                      6"
      ]
     },
     "execution_count": 33,
     "metadata": {},
     "output_type": "execute_result"
    }
   ],
   "source": [
    "# сгруппируем данные по ключу и сразу уберём признаки Активная и Реактивная мощность из-за большой корреляции\n",
    "# Оставим Полную мощность\n",
    "data_arc = data_arc.groupby(by = 'key', as_index=False).sum()[['key', 'Длительность нагрева', 'Полная мощность']]\n",
    "\n",
    "# Присоединим количество повторений по ключу\n",
    "data_arc = data_arc.merge(repetition, how = 'left', on = 'key')\n",
    "data_arc.head(10)"
   ]
  },
  {
   "cell_type": "code",
   "execution_count": 34,
   "metadata": {},
   "outputs": [
    {
     "data": {
      "text/html": [
       "<style type=\"text/css\">\n",
       "#T_61364_row0_col0, #T_61364_row1_col1, #T_61364_row2_col2, #T_61364_row3_col3 {\n",
       "  background-color: #b40426;\n",
       "  color: #f1f1f1;\n",
       "}\n",
       "#T_61364_row0_col1, #T_61364_row0_col2, #T_61364_row0_col3, #T_61364_row1_col0, #T_61364_row3_col0 {\n",
       "  background-color: #3b4cc0;\n",
       "  color: #f1f1f1;\n",
       "}\n",
       "#T_61364_row1_col2, #T_61364_row2_col1 {\n",
       "  background-color: #ba162b;\n",
       "  color: #f1f1f1;\n",
       "}\n",
       "#T_61364_row1_col3, #T_61364_row3_col1 {\n",
       "  background-color: #ed8366;\n",
       "  color: #f1f1f1;\n",
       "}\n",
       "#T_61364_row2_col0 {\n",
       "  background-color: #3e51c5;\n",
       "  color: #f1f1f1;\n",
       "}\n",
       "#T_61364_row2_col3, #T_61364_row3_col2 {\n",
       "  background-color: #f29274;\n",
       "  color: #f1f1f1;\n",
       "}\n",
       "</style>\n",
       "<table id=\"T_61364_\">\n",
       "  <thead>\n",
       "    <tr>\n",
       "      <th class=\"blank level0\" >&nbsp;</th>\n",
       "      <th class=\"col_heading level0 col0\" >key</th>\n",
       "      <th class=\"col_heading level0 col1\" >Длительность нагрева</th>\n",
       "      <th class=\"col_heading level0 col2\" >Полная мощность</th>\n",
       "      <th class=\"col_heading level0 col3\" >Количество повторений</th>\n",
       "    </tr>\n",
       "  </thead>\n",
       "  <tbody>\n",
       "    <tr>\n",
       "      <th id=\"T_61364_level0_row0\" class=\"row_heading level0 row0\" >key</th>\n",
       "      <td id=\"T_61364_row0_col0\" class=\"data row0 col0\" >1.00</td>\n",
       "      <td id=\"T_61364_row0_col1\" class=\"data row0 col1\" >-0.03</td>\n",
       "      <td id=\"T_61364_row0_col2\" class=\"data row0 col2\" >-0.02</td>\n",
       "      <td id=\"T_61364_row0_col3\" class=\"data row0 col3\" >-0.03</td>\n",
       "    </tr>\n",
       "    <tr>\n",
       "      <th id=\"T_61364_level0_row1\" class=\"row_heading level0 row1\" >Длительность нагрева</th>\n",
       "      <td id=\"T_61364_row1_col0\" class=\"data row1 col0\" >-0.03</td>\n",
       "      <td id=\"T_61364_row1_col1\" class=\"data row1 col1\" >1.00</td>\n",
       "      <td id=\"T_61364_row1_col2\" class=\"data row1 col2\" >0.98</td>\n",
       "      <td id=\"T_61364_row1_col3\" class=\"data row1 col3\" >0.80</td>\n",
       "    </tr>\n",
       "    <tr>\n",
       "      <th id=\"T_61364_level0_row2\" class=\"row_heading level0 row2\" >Полная мощность</th>\n",
       "      <td id=\"T_61364_row2_col0\" class=\"data row2 col0\" >-0.02</td>\n",
       "      <td id=\"T_61364_row2_col1\" class=\"data row2 col1\" >0.98</td>\n",
       "      <td id=\"T_61364_row2_col2\" class=\"data row2 col2\" >1.00</td>\n",
       "      <td id=\"T_61364_row2_col3\" class=\"data row2 col3\" >0.76</td>\n",
       "    </tr>\n",
       "    <tr>\n",
       "      <th id=\"T_61364_level0_row3\" class=\"row_heading level0 row3\" >Количество повторений</th>\n",
       "      <td id=\"T_61364_row3_col0\" class=\"data row3 col0\" >-0.03</td>\n",
       "      <td id=\"T_61364_row3_col1\" class=\"data row3 col1\" >0.80</td>\n",
       "      <td id=\"T_61364_row3_col2\" class=\"data row3 col2\" >0.76</td>\n",
       "      <td id=\"T_61364_row3_col3\" class=\"data row3 col3\" >1.00</td>\n",
       "    </tr>\n",
       "  </tbody>\n",
       "</table>\n"
      ],
      "text/plain": [
       "<pandas.io.formats.style.Styler at 0x1b5fad702e0>"
      ]
     },
     "metadata": {},
     "output_type": "display_data"
    },
    {
     "data": {
      "text/plain": [
       "<Figure size 864x864 with 0 Axes>"
      ]
     },
     "metadata": {},
     "output_type": "display_data"
    },
    {
     "data": {
      "image/png": "[encoded data removed]",
      "text/plain": [
       "<Figure size 540x540 with 12 Axes>"
      ]
     },
     "metadata": {
      "needs_background": "light"
     },
     "output_type": "display_data"
    }
   ],
   "source": [
    "# Посмотрим на корреляцию новообразованных признаков\n",
    "display(data_arc.corr().style.background_gradient(cmap='coolwarm').set_precision(2))\n",
    "\n",
    "plt.figure(figsize=(12, 12))\n",
    "sns.pairplot(data_arc[['Количество повторений', 'Длительность нагрева', 'Полная мощность']], kind='scatter')\n",
    "plt.show()"
   ]
  },
  {
   "cell_type": "markdown",
   "metadata": {},
   "source": [
    "Можно увидеть очень сильную корреляцию между `Полной мощностью` и `Длительностью нагрева`. Имеет смысл удалить признак `Длительность нагрева`."
   ]
  },
  {
   "cell_type": "code",
   "execution_count": 35,
   "metadata": {},
   "outputs": [
    {
     "data": {
      "text/html": [
       "<div>\n",
       "<style scoped>\n",
       "    .dataframe tbody tr th:only-of-type {\n",
       "        vertical-align: middle;\n",
       "    }\n",
       "\n",
       "    .dataframe tbody tr th {\n",
       "        vertical-align: top;\n",
       "    }\n",
       "\n",
       "    .dataframe thead th {\n",
       "        text-align: right;\n",
       "    }\n",
       "</style>\n",
       "<table border=\"1\" class=\"dataframe\">\n",
       "  <thead>\n",
       "    <tr style=\"text-align: right;\">\n",
       "      <th></th>\n",
       "      <th>key</th>\n",
       "      <th>Полная мощность</th>\n",
       "      <th>Количество повторений</th>\n",
       "    </tr>\n",
       "  </thead>\n",
       "  <tbody>\n",
       "    <tr>\n",
       "      <th>0</th>\n",
       "      <td>1</td>\n",
       "      <td>5.826395</td>\n",
       "      <td>5</td>\n",
       "    </tr>\n",
       "    <tr>\n",
       "      <th>1</th>\n",
       "      <td>2</td>\n",
       "      <td>3.649216</td>\n",
       "      <td>4</td>\n",
       "    </tr>\n",
       "    <tr>\n",
       "      <th>2</th>\n",
       "      <td>3</td>\n",
       "      <td>2.989534</td>\n",
       "      <td>5</td>\n",
       "    </tr>\n",
       "    <tr>\n",
       "      <th>3</th>\n",
       "      <td>4</td>\n",
       "      <td>3.814962</td>\n",
       "      <td>4</td>\n",
       "    </tr>\n",
       "    <tr>\n",
       "      <th>4</th>\n",
       "      <td>5</td>\n",
       "      <td>4.035758</td>\n",
       "      <td>4</td>\n",
       "    </tr>\n",
       "  </tbody>\n",
       "</table>\n",
       "</div>"
      ],
      "text/plain": [
       "   key  Полная мощность  Количество повторений\n",
       "0    1         5.826395                      5\n",
       "1    2         3.649216                      4\n",
       "2    3         2.989534                      5\n",
       "3    4         3.814962                      4\n",
       "4    5         4.035758                      4"
      ]
     },
     "execution_count": 35,
     "metadata": {},
     "output_type": "execute_result"
    }
   ],
   "source": [
    "data_arc = data_arc.drop('Длительность нагрева', axis=1)\n",
    "data_arc.head()"
   ]
  },
  {
   "cell_type": "markdown",
   "metadata": {},
   "source": [
    "### `data_temp`"
   ]
  },
  {
   "cell_type": "code",
   "execution_count": 36,
   "metadata": {},
   "outputs": [
    {
     "data": {
      "text/plain": [
       "key             0\n",
       "Время замера    0\n",
       "Температура     0\n",
       "dtype: int64"
      ]
     },
     "execution_count": 36,
     "metadata": {},
     "output_type": "execute_result"
    }
   ],
   "source": [
    "# проверим на пропуски в таблице с температурой\n",
    "data_temp.isna().sum()"
   ]
  },
  {
   "cell_type": "code",
   "execution_count": 37,
   "metadata": {},
   "outputs": [
    {
     "data": {
      "text/html": [
       "<div>\n",
       "<style scoped>\n",
       "    .dataframe tbody tr th:only-of-type {\n",
       "        vertical-align: middle;\n",
       "    }\n",
       "\n",
       "    .dataframe tbody tr th {\n",
       "        vertical-align: top;\n",
       "    }\n",
       "\n",
       "    .dataframe thead th {\n",
       "        text-align: right;\n",
       "    }\n",
       "</style>\n",
       "<table border=\"1\" class=\"dataframe\">\n",
       "  <thead>\n",
       "    <tr style=\"text-align: right;\">\n",
       "      <th></th>\n",
       "      <th>key</th>\n",
       "      <th>Температура 1</th>\n",
       "      <th>Температура 2</th>\n",
       "    </tr>\n",
       "  </thead>\n",
       "  <tbody>\n",
       "    <tr>\n",
       "      <th>0</th>\n",
       "      <td>1</td>\n",
       "      <td>1571.0</td>\n",
       "      <td>1613.0</td>\n",
       "    </tr>\n",
       "    <tr>\n",
       "      <th>1</th>\n",
       "      <td>2</td>\n",
       "      <td>1581.0</td>\n",
       "      <td>1602.0</td>\n",
       "    </tr>\n",
       "    <tr>\n",
       "      <th>2</th>\n",
       "      <td>3</td>\n",
       "      <td>1596.0</td>\n",
       "      <td>1599.0</td>\n",
       "    </tr>\n",
       "    <tr>\n",
       "      <th>3</th>\n",
       "      <td>4</td>\n",
       "      <td>1601.0</td>\n",
       "      <td>1625.0</td>\n",
       "    </tr>\n",
       "    <tr>\n",
       "      <th>4</th>\n",
       "      <td>5</td>\n",
       "      <td>1576.0</td>\n",
       "      <td>1602.0</td>\n",
       "    </tr>\n",
       "  </tbody>\n",
       "</table>\n",
       "</div>"
      ],
      "text/plain": [
       "   key  Температура 1  Температура 2\n",
       "0    1         1571.0         1613.0\n",
       "1    2         1581.0         1602.0\n",
       "2    3         1596.0         1599.0\n",
       "3    4         1601.0         1625.0\n",
       "4    5         1576.0         1602.0"
      ]
     },
     "execution_count": 37,
     "metadata": {},
     "output_type": "execute_result"
    }
   ],
   "source": [
    "# сгруппируем по ключу и выведем первый и последний замер\n",
    "data_temp = data_temp.groupby(by='key').agg(['first', 'last']).reset_index()\n",
    "data_temp.columns = data_temp.columns.droplevel()\n",
    "data_temp.columns = ['key', 'Время замера 1', 'Время замера 2', 'Температура 1', 'Температура 2']\n",
    "# оставим только температуру\n",
    "data_temp = data_temp[['key', 'Температура 1', 'Температура 2']]\n",
    "data_temp.head(5)"
   ]
  },
  {
   "cell_type": "markdown",
   "metadata": {},
   "source": [
    "### Объединение таблиц"
   ]
  },
  {
   "cell_type": "code",
   "execution_count": 38,
   "metadata": {},
   "outputs": [],
   "source": [
    "# объединим обработанные датасеты по ключу key\n",
    "data = (data_temp.merge(data_arc, how = 'inner', on = 'key')\n",
    "                 .merge(data_wire, how = 'inner', on = 'key')\n",
    "                 .merge(data_bulk, how = 'inner', on = 'key')\n",
    "                 .merge(data_gas, how = 'inner', on = 'key')\n",
    "       )"
   ]
  },
  {
   "cell_type": "code",
   "execution_count": 39,
   "metadata": {},
   "outputs": [
    {
     "data": {
      "text/plain": [
       "key                         0\n",
       "Температура 1               0\n",
       "Температура 2               0\n",
       "Полная мощность             0\n",
       "Количество повторений       0\n",
       "Wire 1                     23\n",
       "Wire 2                   1518\n",
       "Wire 3                   2290\n",
       "Wire 4                   2317\n",
       "Wire 5                   2329\n",
       "Wire 6                   2284\n",
       "Wire 7                   2325\n",
       "Wire 8                   2316\n",
       "Wire 9                   2305\n",
       "Bulk 1                   2130\n",
       "Bulk 2                   2316\n",
       "Bulk 3                   1369\n",
       "Bulk 4                   1517\n",
       "Bulk 5                   2276\n",
       "Bulk 6                   1891\n",
       "Bulk 7                   2316\n",
       "Bulk 8                   2328\n",
       "Bulk 9                   2316\n",
       "Bulk 10                  2186\n",
       "Bulk 11                  2199\n",
       "Bulk 12                   517\n",
       "Bulk 13                  2315\n",
       "Bulk 14                   261\n",
       "Bulk 15                   630\n",
       "Газ 1                       0\n",
       "dtype: int64"
      ]
     },
     "execution_count": 39,
     "metadata": {},
     "output_type": "execute_result"
    }
   ],
   "source": [
    "# Посмотрим пропуски\n",
    "data.isna().sum()"
   ]
  },
  {
   "cell_type": "code",
   "execution_count": 40,
   "metadata": {},
   "outputs": [
    {
     "data": {
      "text/html": [
       "<div>\n",
       "<style scoped>\n",
       "    .dataframe tbody tr th:only-of-type {\n",
       "        vertical-align: middle;\n",
       "    }\n",
       "\n",
       "    .dataframe tbody tr th {\n",
       "        vertical-align: top;\n",
       "    }\n",
       "\n",
       "    .dataframe thead th {\n",
       "        text-align: right;\n",
       "    }\n",
       "</style>\n",
       "<table border=\"1\" class=\"dataframe\">\n",
       "  <thead>\n",
       "    <tr style=\"text-align: right;\">\n",
       "      <th></th>\n",
       "      <th>First_temp</th>\n",
       "      <th>Last_temp</th>\n",
       "      <th>Full_power</th>\n",
       "      <th>Number_of_repetitions</th>\n",
       "      <th>Wire 1</th>\n",
       "      <th>Wire 2</th>\n",
       "      <th>Wire 3</th>\n",
       "      <th>Wire 4</th>\n",
       "      <th>Wire 5</th>\n",
       "      <th>Wire 6</th>\n",
       "      <th>...</th>\n",
       "      <th>Bulk 7</th>\n",
       "      <th>Bulk 8</th>\n",
       "      <th>Bulk 9</th>\n",
       "      <th>Bulk 10</th>\n",
       "      <th>Bulk 11</th>\n",
       "      <th>Bulk 12</th>\n",
       "      <th>Bulk 13</th>\n",
       "      <th>Bulk 14</th>\n",
       "      <th>Bulk 15</th>\n",
       "      <th>Gas</th>\n",
       "    </tr>\n",
       "  </thead>\n",
       "  <tbody>\n",
       "    <tr>\n",
       "      <th>0</th>\n",
       "      <td>1571.0</td>\n",
       "      <td>1613.0</td>\n",
       "      <td>5.826395</td>\n",
       "      <td>5</td>\n",
       "      <td>60.059998</td>\n",
       "      <td>0.00000</td>\n",
       "      <td>0.0</td>\n",
       "      <td>0.0</td>\n",
       "      <td>0.0</td>\n",
       "      <td>0.0</td>\n",
       "      <td>...</td>\n",
       "      <td>0.0</td>\n",
       "      <td>0.0</td>\n",
       "      <td>0.0</td>\n",
       "      <td>0.0</td>\n",
       "      <td>0.0</td>\n",
       "      <td>206.0</td>\n",
       "      <td>0.0</td>\n",
       "      <td>150.0</td>\n",
       "      <td>154.0</td>\n",
       "      <td>29.749986</td>\n",
       "    </tr>\n",
       "    <tr>\n",
       "      <th>1</th>\n",
       "      <td>1581.0</td>\n",
       "      <td>1602.0</td>\n",
       "      <td>3.649216</td>\n",
       "      <td>4</td>\n",
       "      <td>96.052315</td>\n",
       "      <td>0.00000</td>\n",
       "      <td>0.0</td>\n",
       "      <td>0.0</td>\n",
       "      <td>0.0</td>\n",
       "      <td>0.0</td>\n",
       "      <td>...</td>\n",
       "      <td>0.0</td>\n",
       "      <td>0.0</td>\n",
       "      <td>0.0</td>\n",
       "      <td>0.0</td>\n",
       "      <td>0.0</td>\n",
       "      <td>206.0</td>\n",
       "      <td>0.0</td>\n",
       "      <td>149.0</td>\n",
       "      <td>154.0</td>\n",
       "      <td>12.555561</td>\n",
       "    </tr>\n",
       "    <tr>\n",
       "      <th>2</th>\n",
       "      <td>1596.0</td>\n",
       "      <td>1599.0</td>\n",
       "      <td>2.989534</td>\n",
       "      <td>5</td>\n",
       "      <td>91.160157</td>\n",
       "      <td>0.00000</td>\n",
       "      <td>0.0</td>\n",
       "      <td>0.0</td>\n",
       "      <td>0.0</td>\n",
       "      <td>0.0</td>\n",
       "      <td>...</td>\n",
       "      <td>0.0</td>\n",
       "      <td>0.0</td>\n",
       "      <td>0.0</td>\n",
       "      <td>0.0</td>\n",
       "      <td>0.0</td>\n",
       "      <td>205.0</td>\n",
       "      <td>0.0</td>\n",
       "      <td>152.0</td>\n",
       "      <td>153.0</td>\n",
       "      <td>28.554793</td>\n",
       "    </tr>\n",
       "    <tr>\n",
       "      <th>3</th>\n",
       "      <td>1601.0</td>\n",
       "      <td>1625.0</td>\n",
       "      <td>3.814962</td>\n",
       "      <td>4</td>\n",
       "      <td>89.063515</td>\n",
       "      <td>0.00000</td>\n",
       "      <td>0.0</td>\n",
       "      <td>0.0</td>\n",
       "      <td>0.0</td>\n",
       "      <td>0.0</td>\n",
       "      <td>...</td>\n",
       "      <td>0.0</td>\n",
       "      <td>0.0</td>\n",
       "      <td>0.0</td>\n",
       "      <td>0.0</td>\n",
       "      <td>0.0</td>\n",
       "      <td>207.0</td>\n",
       "      <td>0.0</td>\n",
       "      <td>153.0</td>\n",
       "      <td>154.0</td>\n",
       "      <td>18.841219</td>\n",
       "    </tr>\n",
       "    <tr>\n",
       "      <th>4</th>\n",
       "      <td>1576.0</td>\n",
       "      <td>1602.0</td>\n",
       "      <td>4.035758</td>\n",
       "      <td>4</td>\n",
       "      <td>89.238236</td>\n",
       "      <td>9.11456</td>\n",
       "      <td>0.0</td>\n",
       "      <td>0.0</td>\n",
       "      <td>0.0</td>\n",
       "      <td>0.0</td>\n",
       "      <td>...</td>\n",
       "      <td>0.0</td>\n",
       "      <td>0.0</td>\n",
       "      <td>0.0</td>\n",
       "      <td>0.0</td>\n",
       "      <td>0.0</td>\n",
       "      <td>203.0</td>\n",
       "      <td>0.0</td>\n",
       "      <td>151.0</td>\n",
       "      <td>152.0</td>\n",
       "      <td>5.413692</td>\n",
       "    </tr>\n",
       "  </tbody>\n",
       "</table>\n",
       "<p>5 rows × 29 columns</p>\n",
       "</div>"
      ],
      "text/plain": [
       "   First_temp  Last_temp  Full_power  Number_of_repetitions     Wire 1  \\\n",
       "0      1571.0     1613.0    5.826395                      5  60.059998   \n",
       "1      1581.0     1602.0    3.649216                      4  96.052315   \n",
       "2      1596.0     1599.0    2.989534                      5  91.160157   \n",
       "3      1601.0     1625.0    3.814962                      4  89.063515   \n",
       "4      1576.0     1602.0    4.035758                      4  89.238236   \n",
       "\n",
       "    Wire 2  Wire 3  Wire 4  Wire 5  Wire 6  ...  Bulk 7  Bulk 8  Bulk 9  \\\n",
       "0  0.00000     0.0     0.0     0.0     0.0  ...     0.0     0.0     0.0   \n",
       "1  0.00000     0.0     0.0     0.0     0.0  ...     0.0     0.0     0.0   \n",
       "2  0.00000     0.0     0.0     0.0     0.0  ...     0.0     0.0     0.0   \n",
       "3  0.00000     0.0     0.0     0.0     0.0  ...     0.0     0.0     0.0   \n",
       "4  9.11456     0.0     0.0     0.0     0.0  ...     0.0     0.0     0.0   \n",
       "\n",
       "   Bulk 10  Bulk 11  Bulk 12  Bulk 13  Bulk 14  Bulk 15        Gas  \n",
       "0      0.0      0.0    206.0      0.0    150.0    154.0  29.749986  \n",
       "1      0.0      0.0    206.0      0.0    149.0    154.0  12.555561  \n",
       "2      0.0      0.0    205.0      0.0    152.0    153.0  28.554793  \n",
       "3      0.0      0.0    207.0      0.0    153.0    154.0  18.841219  \n",
       "4      0.0      0.0    203.0      0.0    151.0    152.0   5.413692  \n",
       "\n",
       "[5 rows x 29 columns]"
      ]
     },
     "execution_count": 40,
     "metadata": {},
     "output_type": "execute_result"
    }
   ],
   "source": [
    "# Нам не нужны пустые значения в столбцах `Полная мощность`, `Количество повторений`, `Газ 1`, поэтому удалим их\n",
    "# data = data.drop(index=data[data['Полная мощность'].isna()].index)\n",
    "# data = data.drop(index=data[data['Количество повторений'].isna()].index)\n",
    "# data = data.drop(index=data[data['Газ 1'].isna()].index)\n",
    "\n",
    "# остальные пустые значения заполним нулями\n",
    "data = data.fillna(0)\n",
    "\n",
    "# Переименуем столбцы для дальнейших избежаний ошибок\n",
    "data = data.rename(columns={'Температура 1': 'First_temp',\n",
    "                            'Температура 2': 'Last_temp',\n",
    "                            'Полная мощность': 'Full_power',\n",
    "                            'Количество повторений':'Number_of_repetitions',\n",
    "                            'Газ 1': 'Gas'})\n",
    "\n",
    "# Удалим столбец `key`\n",
    "data = data.drop(['key'], axis = 1)\n",
    "\n",
    "data.head(5)"
   ]
  },
  {
   "cell_type": "code",
   "execution_count": 41,
   "metadata": {},
   "outputs": [
    {
     "name": "stdout",
     "output_type": "stream",
     "text": [
      "<class 'pandas.core.frame.DataFrame'>\n",
      "Int64Index: 2329 entries, 0 to 2328\n",
      "Data columns (total 29 columns):\n",
      " #   Column                 Non-Null Count  Dtype  \n",
      "---  ------                 --------------  -----  \n",
      " 0   First_temp             2329 non-null   float64\n",
      " 1   Last_temp              2329 non-null   float64\n",
      " 2   Full_power             2329 non-null   float64\n",
      " 3   Number_of_repetitions  2329 non-null   int64  \n",
      " 4   Wire 1                 2329 non-null   float64\n",
      " 5   Wire 2                 2329 non-null   float64\n",
      " 6   Wire 3                 2329 non-null   float64\n",
      " 7   Wire 4                 2329 non-null   float64\n",
      " 8   Wire 5                 2329 non-null   float64\n",
      " 9   Wire 6                 2329 non-null   float64\n",
      " 10  Wire 7                 2329 non-null   float64\n",
      " 11  Wire 8                 2329 non-null   float64\n",
      " 12  Wire 9                 2329 non-null   float64\n",
      " 13  Bulk 1                 2329 non-null   float64\n",
      " 14  Bulk 2                 2329 non-null   float64\n",
      " 15  Bulk 3                 2329 non-null   float64\n",
      " 16  Bulk 4                 2329 non-null   float64\n",
      " 17  Bulk 5                 2329 non-null   float64\n",
      " 18  Bulk 6                 2329 non-null   float64\n",
      " 19  Bulk 7                 2329 non-null   float64\n",
      " 20  Bulk 8                 2329 non-null   float64\n",
      " 21  Bulk 9                 2329 non-null   float64\n",
      " 22  Bulk 10                2329 non-null   float64\n",
      " 23  Bulk 11                2329 non-null   float64\n",
      " 24  Bulk 12                2329 non-null   float64\n",
      " 25  Bulk 13                2329 non-null   float64\n",
      " 26  Bulk 14                2329 non-null   float64\n",
      " 27  Bulk 15                2329 non-null   float64\n",
      " 28  Gas                    2329 non-null   float64\n",
      "dtypes: float64(28), int64(1)\n",
      "memory usage: 545.9 KB\n"
     ]
    }
   ],
   "source": [
    "data.info()"
   ]
  },
  {
   "cell_type": "markdown",
   "metadata": {},
   "source": [
    "### Проверим на корреляцию"
   ]
  },
  {
   "cell_type": "code",
   "execution_count": 42,
   "metadata": {},
   "outputs": [
    {
     "data": {
      "text/html": [
       "<style type=\"text/css\">\n",
       "#T_12c32_row0_col0, #T_12c32_row1_col1, #T_12c32_row2_col2, #T_12c32_row3_col3, #T_12c32_row4_col4, #T_12c32_row5_col5, #T_12c32_row6_col6, #T_12c32_row7_col7, #T_12c32_row9_col9, #T_12c32_row10_col10, #T_12c32_row11_col11, #T_12c32_row12_col12, #T_12c32_row13_col13, #T_12c32_row14_col14, #T_12c32_row15_col15, #T_12c32_row16_col16, #T_12c32_row17_col17, #T_12c32_row18_col18, #T_12c32_row19_col19, #T_12c32_row20_col20, #T_12c32_row21_col21, #T_12c32_row22_col22, #T_12c32_row23_col23, #T_12c32_row24_col24, #T_12c32_row25_col25, #T_12c32_row26_col26, #T_12c32_row27_col27, #T_12c32_row28_col28 {\n",
       "  background-color: #b40426;\n",
       "  color: #f1f1f1;\n",
       "}\n",
       "#T_12c32_row0_col1, #T_12c32_row3_col24, #T_12c32_row10_col9, #T_12c32_row12_col5 {\n",
       "  background-color: #bad0f8;\n",
       "  color: #000000;\n",
       "}\n",
       "#T_12c32_row0_col2, #T_12c32_row0_col3, #T_12c32_row1_col7, #T_12c32_row1_col10, #T_12c32_row1_col13, #T_12c32_row2_col0, #T_12c32_row4_col9, #T_12c32_row4_col14, #T_12c32_row4_col19, #T_12c32_row4_col23, #T_12c32_row5_col1, #T_12c32_row5_col22, #T_12c32_row6_col24, #T_12c32_row6_col27, #T_12c32_row14_col26, #T_12c32_row15_col16, #T_12c32_row16_col5, #T_12c32_row16_col12, #T_12c32_row16_col15, #T_12c32_row16_col18, #T_12c32_row16_col23, #T_12c32_row18_col4, #T_12c32_row22_col28, #T_12c32_row24_col6, #T_12c32_row24_col17, #T_12c32_row26_col20, #T_12c32_row26_col25, #T_12c32_row27_col6, #T_12c32_row27_col11, #T_12c32_row27_col21 {\n",
       "  background-color: #3b4cc0;\n",
       "  color: #f1f1f1;\n",
       "}\n",
       "#T_12c32_row0_col4, #T_12c32_row16_col0 {\n",
       "  background-color: #b3cdfb;\n",
       "  color: #000000;\n",
       "}\n",
       "#T_12c32_row0_col5, #T_12c32_row2_col10, #T_12c32_row4_col6, #T_12c32_row15_col1, #T_12c32_row20_col14, #T_12c32_row27_col22, #T_12c32_row28_col23 {\n",
       "  background-color: #6788ee;\n",
       "  color: #f1f1f1;\n",
       "}\n",
       "#T_12c32_row0_col6, #T_12c32_row2_col11, #T_12c32_row3_col22, #T_12c32_row4_col21, #T_12c32_row4_col25, #T_12c32_row5_col7, #T_12c32_row5_col10, #T_12c32_row11_col9, #T_12c32_row13_col1, #T_12c32_row14_col23, #T_12c32_row16_col13, #T_12c32_row21_col9, #T_12c32_row25_col9 {\n",
       "  background-color: #5b7ae5;\n",
       "  color: #f1f1f1;\n",
       "}\n",
       "#T_12c32_row0_col7, #T_12c32_row5_col3, #T_12c32_row5_col6, #T_12c32_row13_col10, #T_12c32_row14_col15, #T_12c32_row20_col18, #T_12c32_row23_col26, #T_12c32_row28_col21 {\n",
       "  background-color: #799cf8;\n",
       "  color: #f1f1f1;\n",
       "}\n",
       "#T_12c32_row0_col8, #T_12c32_row1_col8, #T_12c32_row2_col8, #T_12c32_row3_col8, #T_12c32_row4_col8, #T_12c32_row5_col8, #T_12c32_row6_col8, #T_12c32_row7_col8, #T_12c32_row8_col0, #T_12c32_row8_col1, #T_12c32_row8_col2, #T_12c32_row8_col3, #T_12c32_row8_col4, #T_12c32_row8_col5, #T_12c32_row8_col6, #T_12c32_row8_col7, #T_12c32_row8_col8, #T_12c32_row8_col9, #T_12c32_row8_col10, #T_12c32_row8_col11, #T_12c32_row8_col12, #T_12c32_row8_col13, #T_12c32_row8_col14, #T_12c32_row8_col15, #T_12c32_row8_col16, #T_12c32_row8_col17, #T_12c32_row8_col18, #T_12c32_row8_col19, #T_12c32_row8_col20, #T_12c32_row8_col21, #T_12c32_row8_col22, #T_12c32_row8_col23, #T_12c32_row8_col24, #T_12c32_row8_col25, #T_12c32_row8_col26, #T_12c32_row8_col27, #T_12c32_row8_col28, #T_12c32_row9_col8, #T_12c32_row10_col8, #T_12c32_row11_col8, #T_12c32_row12_col8, #T_12c32_row13_col8, #T_12c32_row14_col8, #T_12c32_row15_col8, #T_12c32_row16_col8, #T_12c32_row17_col8, #T_12c32_row18_col8, #T_12c32_row19_col8, #T_12c32_row20_col8, #T_12c32_row21_col8, #T_12c32_row22_col8, #T_12c32_row23_col8, #T_12c32_row24_col8, #T_12c32_row25_col8, #T_12c32_row26_col8, #T_12c32_row27_col8, #T_12c32_row28_col8 {\n",
       "  background-color: #000000;\n",
       "  color: #f1f1f1;\n",
       "}\n",
       "#T_12c32_row0_col9, #T_12c32_row0_col17, #T_12c32_row6_col1, #T_12c32_row12_col7, #T_12c32_row22_col5, #T_12c32_row22_col14, #T_12c32_row22_col24 {\n",
       "  background-color: #6384eb;\n",
       "  color: #f1f1f1;\n",
       "}\n",
       "#T_12c32_row0_col10, #T_12c32_row2_col13, #T_12c32_row3_col6, #T_12c32_row4_col5, #T_12c32_row21_col1, #T_12c32_row21_col3, #T_12c32_row21_col26, #T_12c32_row26_col0, #T_12c32_row26_col16 {\n",
       "  background-color: #6c8ff1;\n",
       "  color: #f1f1f1;\n",
       "}\n",
       "#T_12c32_row0_col11, #T_12c32_row0_col12, #T_12c32_row0_col21, #T_12c32_row1_col25, #T_12c32_row4_col10, #T_12c32_row5_col9, #T_12c32_row5_col13, #T_12c32_row6_col25, #T_12c32_row9_col25, #T_12c32_row11_col17, #T_12c32_row13_col25, #T_12c32_row15_col12, #T_12c32_row15_col13, #T_12c32_row15_col17, #T_12c32_row17_col25, #T_12c32_row18_col21, #T_12c32_row21_col17, #T_12c32_row23_col25, #T_12c32_row23_col27, #T_12c32_row24_col14, #T_12c32_row25_col13, #T_12c32_row25_col17, #T_12c32_row27_col7 {\n",
       "  background-color: #4c66d6;\n",
       "  color: #f1f1f1;\n",
       "}\n",
       "#T_12c32_row0_col13, #T_12c32_row2_col6, #T_12c32_row3_col17, #T_12c32_row11_col14, #T_12c32_row12_col14, #T_12c32_row12_col26, #T_12c32_row21_col14, #T_12c32_row25_col14 {\n",
       "  background-color: #6687ed;\n",
       "  color: #f1f1f1;\n",
       "}\n",
       "#T_12c32_row0_col14, #T_12c32_row17_col16, #T_12c32_row19_col6, #T_12c32_row20_col0, #T_12c32_row20_col2 {\n",
       "  background-color: #8caffe;\n",
       "  color: #000000;\n",
       "}\n",
       "#T_12c32_row0_col15, #T_12c32_row5_col11, #T_12c32_row5_col21, #T_12c32_row10_col13, #T_12c32_row17_col1, #T_12c32_row18_col28, #T_12c32_row23_col14, #T_12c32_row26_col4, #T_12c32_row28_col27 {\n",
       "  background-color: #688aef;\n",
       "  color: #f1f1f1;\n",
       "}\n",
       "#T_12c32_row0_col16, #T_12c32_row13_col14, #T_12c32_row19_col17 {\n",
       "  background-color: #abc8fd;\n",
       "  color: #000000;\n",
       "}\n",
       "#T_12c32_row0_col18, #T_12c32_row3_col11, #T_12c32_row4_col28, #T_12c32_row5_col19, #T_12c32_row11_col19, #T_12c32_row13_col17, #T_12c32_row15_col24, #T_12c32_row20_col19, #T_12c32_row21_col19, #T_12c32_row21_col28, #T_12c32_row22_col7, #T_12c32_row22_col18, #T_12c32_row23_col9, #T_12c32_row25_col27, #T_12c32_row26_col11 {\n",
       "  background-color: #6180e9;\n",
       "  color: #f1f1f1;\n",
       "}\n",
       "#T_12c32_row0_col19, #T_12c32_row2_col7, #T_12c32_row5_col0, #T_12c32_row10_col3, #T_12c32_row10_col18, #T_12c32_row12_col18, #T_12c32_row17_col3, #T_12c32_row23_col0, #T_12c32_row28_col10, #T_12c32_row28_col11 {\n",
       "  background-color: #779af7;\n",
       "  color: #f1f1f1;\n",
       "}\n",
       "#T_12c32_row0_col20, #T_12c32_row0_col23, #T_12c32_row1_col12, #T_12c32_row2_col20, #T_12c32_row3_col20, #T_12c32_row7_col24, #T_12c32_row18_col20 {\n",
       "  background-color: #4358cb;\n",
       "  color: #f1f1f1;\n",
       "}\n",
       "#T_12c32_row0_col22, #T_12c32_row11_col28, #T_12c32_row13_col6, #T_12c32_row17_col13, #T_12c32_row23_col7 {\n",
       "  background-color: #6282ea;\n",
       "  color: #f1f1f1;\n",
       "}\n",
       "#T_12c32_row0_col24, #T_12c32_row1_col18, #T_12c32_row4_col17, #T_12c32_row5_col17, #T_12c32_row5_col20, #T_12c32_row10_col1, #T_12c32_row11_col24, #T_12c32_row12_col17, #T_12c32_row15_col20, #T_12c32_row15_col25, #T_12c32_row18_col11, #T_12c32_row19_col26, #T_12c32_row21_col24, #T_12c32_row25_col26, #T_12c32_row25_col28, #T_12c32_row26_col19 {\n",
       "  background-color: #4b64d5;\n",
       "  color: #f1f1f1;\n",
       "}\n",
       "#T_12c32_row0_col25, #T_12c32_row6_col13, #T_12c32_row6_col23, #T_12c32_row9_col4, #T_12c32_row10_col22, #T_12c32_row10_col28, #T_12c32_row15_col11, #T_12c32_row16_col11, #T_12c32_row20_col22, #T_12c32_row20_col26, #T_12c32_row23_col6, #T_12c32_row27_col25, #T_12c32_row28_col22 {\n",
       "  background-color: #5572df;\n",
       "  color: #f1f1f1;\n",
       "}\n",
       "#T_12c32_row0_col26, #T_12c32_row14_col27, #T_12c32_row18_col27, #T_12c32_row24_col20, #T_12c32_row27_col20 {\n",
       "  background-color: #3d50c3;\n",
       "  color: #f1f1f1;\n",
       "}\n",
       "#T_12c32_row0_col27, #T_12c32_row1_col28, #T_12c32_row5_col25, #T_12c32_row6_col22, #T_12c32_row9_col24, #T_12c32_row10_col25, #T_12c32_row12_col24, #T_12c32_row13_col21, #T_12c32_row15_col28, #T_12c32_row17_col22, #T_12c32_row18_col13, #T_12c32_row20_col25, #T_12c32_row22_col11, #T_12c32_row22_col21, #T_12c32_row23_col11, #T_12c32_row26_col9, #T_12c32_row26_col10, #T_12c32_row27_col13, #T_12c32_row28_col12 {\n",
       "  background-color: #4f69d9;\n",
       "  color: #f1f1f1;\n",
       "}\n",
       "#T_12c32_row0_col28, #T_12c32_row6_col12, #T_12c32_row9_col12, #T_12c32_row16_col26, #T_12c32_row17_col12, #T_12c32_row17_col27, #T_12c32_row27_col19 {\n",
       "  background-color: #485fd1;\n",
       "  color: #f1f1f1;\n",
       "}\n",
       "#T_12c32_row1_col0 {\n",
       "  background-color: #cdd9ec;\n",
       "  color: #000000;\n",
       "}\n",
       "#T_12c32_row1_col2, #T_12c32_row4_col16 {\n",
       "  background-color: #d2dbe8;\n",
       "  color: #000000;\n",
       "}\n",
       "#T_12c32_row1_col3, #T_12c32_row4_col2, #T_12c32_row6_col7, #T_12c32_row14_col2, #T_12c32_row18_col23, #T_12c32_row22_col0, #T_12c32_row28_col0 {\n",
       "  background-color: #98b9ff;\n",
       "  color: #000000;\n",
       "}\n",
       "#T_12c32_row1_col4, #T_12c32_row19_col10 {\n",
       "  background-color: #cedaeb;\n",
       "  color: #000000;\n",
       "}\n",
       "#T_12c32_row1_col5, #T_12c32_row7_col12, #T_12c32_row11_col12, #T_12c32_row14_col12, #T_12c32_row18_col17, #T_12c32_row19_col12, #T_12c32_row21_col12, #T_12c32_row22_col13, #T_12c32_row23_col28, #T_12c32_row25_col12 {\n",
       "  background-color: #4961d2;\n",
       "  color: #f1f1f1;\n",
       "}\n",
       "#T_12c32_row1_col6, #T_12c32_row7_col25, #T_12c32_row10_col27, #T_12c32_row11_col25, #T_12c32_row12_col25, #T_12c32_row13_col11, #T_12c32_row13_col12, #T_12c32_row14_col25, #T_12c32_row17_col26, #T_12c32_row18_col6, #T_12c32_row19_col25, #T_12c32_row20_col13, #T_12c32_row20_col17, #T_12c32_row21_col25, #T_12c32_row22_col23, #T_12c32_row24_col7, #T_12c32_row27_col23 {\n",
       "  background-color: #4e68d8;\n",
       "  color: #f1f1f1;\n",
       "}\n",
       "#T_12c32_row1_col9, #T_12c32_row6_col20, #T_12c32_row7_col1, #T_12c32_row7_col20, #T_12c32_row9_col20, #T_12c32_row10_col20, #T_12c32_row12_col20, #T_12c32_row14_col20, #T_12c32_row17_col20, #T_12c32_row19_col20, #T_12c32_row23_col12, #T_12c32_row25_col20 {\n",
       "  background-color: #455cce;\n",
       "  color: #f1f1f1;\n",
       "}\n",
       "#T_12c32_row1_col11, #T_12c32_row1_col21, #T_12c32_row4_col20, #T_12c32_row10_col24, #T_12c32_row10_col26, #T_12c32_row12_col22, #T_12c32_row12_col27, #T_12c32_row13_col22, #T_12c32_row13_col23, #T_12c32_row16_col6, #T_12c32_row16_col25, #T_12c32_row23_col21, #T_12c32_row23_col24, #T_12c32_row24_col23, #T_12c32_row26_col12 {\n",
       "  background-color: #506bda;\n",
       "  color: #f1f1f1;\n",
       "}\n",
       "#T_12c32_row1_col14, #T_12c32_row4_col12, #T_12c32_row4_col26, #T_12c32_row6_col11, #T_12c32_row6_col21, #T_12c32_row7_col4, #T_12c32_row9_col11, #T_12c32_row9_col22, #T_12c32_row9_col26, #T_12c32_row9_col27, #T_12c32_row12_col11, #T_12c32_row14_col11, #T_12c32_row14_col22, #T_12c32_row17_col11, #T_12c32_row17_col21, #T_12c32_row19_col4, #T_12c32_row23_col1, #T_12c32_row24_col9, #T_12c32_row25_col11, #T_12c32_row25_col22 {\n",
       "  background-color: #516ddb;\n",
       "  color: #f1f1f1;\n",
       "}\n",
       "#T_12c32_row1_col15, #T_12c32_row2_col19, #T_12c32_row13_col4, #T_12c32_row16_col24, #T_12c32_row17_col5, #T_12c32_row19_col15, #T_12c32_row28_col6 {\n",
       "  background-color: #7b9ff9;\n",
       "  color: #f1f1f1;\n",
       "}\n",
       "#T_12c32_row1_col16, #T_12c32_row18_col5, #T_12c32_row24_col13 {\n",
       "  background-color: #b7cff9;\n",
       "  color: #000000;\n",
       "}\n",
       "#T_12c32_row1_col17, #T_12c32_row2_col12, #T_12c32_row17_col24, #T_12c32_row18_col12, #T_12c32_row22_col17, #T_12c32_row28_col20 {\n",
       "  background-color: #465ecf;\n",
       "  color: #f1f1f1;\n",
       "}\n",
       "#T_12c32_row1_col19, #T_12c32_row3_col12, #T_12c32_row13_col20, #T_12c32_row18_col16, #T_12c32_row22_col12, #T_12c32_row22_col20, #T_12c32_row23_col13, #T_12c32_row23_col20, #T_12c32_row24_col11, #T_12c32_row24_col21, #T_12c32_row26_col7 {\n",
       "  background-color: #445acc;\n",
       "  color: #f1f1f1;\n",
       "}\n",
       "#T_12c32_row1_col20, #T_12c32_row4_col7, #T_12c32_row4_col18, #T_12c32_row20_col28, #T_12c32_row24_col12 {\n",
       "  background-color: #3e51c5;\n",
       "  color: #f1f1f1;\n",
       "}\n",
       "#T_12c32_row1_col22, #T_12c32_row3_col0, #T_12c32_row4_col22, #T_12c32_row12_col1, #T_12c32_row16_col10, #T_12c32_row20_col1, #T_12c32_row28_col17 {\n",
       "  background-color: #6a8bef;\n",
       "  color: #f1f1f1;\n",
       "}\n",
       "#T_12c32_row1_col23, #T_12c32_row18_col22, #T_12c32_row18_col24, #T_12c32_row26_col17, #T_12c32_row27_col17 {\n",
       "  background-color: #3c4ec2;\n",
       "  color: #f1f1f1;\n",
       "}\n",
       "#T_12c32_row1_col24, #T_12c32_row1_col27, #T_12c32_row11_col20, #T_12c32_row14_col0, #T_12c32_row25_col2 {\n",
       "  background-color: #aec9fc;\n",
       "  color: #000000;\n",
       "}\n",
       "#T_12c32_row1_col26, #T_12c32_row3_col14, #T_12c32_row3_col16, #T_12c32_row7_col3, #T_12c32_row14_col28, #T_12c32_row15_col4, #T_12c32_row17_col15, #T_12c32_row20_col5, #T_12c32_row21_col16, #T_12c32_row24_col28, #T_12c32_row25_col4, #T_12c32_row27_col0 {\n",
       "  background-color: #84a7fc;\n",
       "  color: #f1f1f1;\n",
       "}\n",
       "#T_12c32_row2_col1, #T_12c32_row13_col24 {\n",
       "  background-color: #bfd3f6;\n",
       "  color: #000000;\n",
       "}\n",
       "#T_12c32_row2_col3 {\n",
       "  background-color: #ee8669;\n",
       "  color: #f1f1f1;\n",
       "}\n",
       "#T_12c32_row2_col4, #T_12c32_row6_col4, #T_12c32_row9_col16, #T_12c32_row13_col15, #T_12c32_row15_col3, #T_12c32_row20_col4, #T_12c32_row22_col1, #T_12c32_row23_col15, #T_12c32_row28_col1 {\n",
       "  background-color: #82a6fb;\n",
       "  color: #f1f1f1;\n",
       "}\n",
       "#T_12c32_row2_col5, #T_12c32_row5_col12, #T_12c32_row6_col0, #T_12c32_row7_col16, #T_12c32_row10_col16, #T_12c32_row18_col3, #T_12c32_row19_col3, #T_12c32_row22_col2 {\n",
       "  background-color: #8fb1fe;\n",
       "  color: #000000;\n",
       "}\n",
       "#T_12c32_row2_col9, #T_12c32_row3_col9, #T_12c32_row3_col13, #T_12c32_row3_col23, #T_12c32_row5_col23, #T_12c32_row6_col18, #T_12c32_row11_col1, #T_12c32_row11_col3, #T_12c32_row11_col26, #T_12c32_row22_col15, #T_12c32_row22_col16, #T_12c32_row25_col1 {\n",
       "  background-color: #6e90f2;\n",
       "  color: #f1f1f1;\n",
       "}\n",
       "#T_12c32_row2_col14, #T_12c32_row11_col18, #T_12c32_row14_col18, #T_12c32_row15_col0, #T_12c32_row21_col18, #T_12c32_row23_col3, #T_12c32_row26_col23 {\n",
       "  background-color: #7396f5;\n",
       "  color: #f1f1f1;\n",
       "}\n",
       "#T_12c32_row2_col15, #T_12c32_row3_col4, #T_12c32_row5_col15, #T_12c32_row7_col0, #T_12c32_row28_col24 {\n",
       "  background-color: #9fbfff;\n",
       "  color: #000000;\n",
       "}\n",
       "#T_12c32_row2_col16, #T_12c32_row7_col13, #T_12c32_row11_col4, #T_12c32_row13_col5, #T_12c32_row14_col3, #T_12c32_row19_col28 {\n",
       "  background-color: #7da0f9;\n",
       "  color: #f1f1f1;\n",
       "}\n",
       "#T_12c32_row2_col17, #T_12c32_row7_col11, #T_12c32_row7_col21, #T_12c32_row7_col22, #T_12c32_row9_col21, #T_12c32_row10_col11, #T_12c32_row11_col22, #T_12c32_row12_col13, #T_12c32_row12_col21, #T_12c32_row14_col21, #T_12c32_row19_col11, #T_12c32_row19_col21, #T_12c32_row19_col22, #T_12c32_row20_col27, #T_12c32_row21_col22, #T_12c32_row25_col21 {\n",
       "  background-color: #536edd;\n",
       "  color: #f1f1f1;\n",
       "}\n",
       "#T_12c32_row2_col18, #T_12c32_row3_col1, #T_12c32_row3_col18 {\n",
       "  background-color: #a6c4fe;\n",
       "  color: #000000;\n",
       "}\n",
       "#T_12c32_row2_col21, #T_12c32_row9_col1, #T_12c32_row12_col3, #T_12c32_row12_col9, #T_12c32_row13_col27, #T_12c32_row14_col1, #T_12c32_row15_col7, #T_12c32_row15_col10, #T_12c32_row15_col14, #T_12c32_row16_col9, #T_12c32_row18_col19, #T_12c32_row19_col23, #T_12c32_row20_col6, #T_12c32_row20_col23 {\n",
       "  background-color: #5a78e4;\n",
       "  color: #f1f1f1;\n",
       "}\n",
       "#T_12c32_row2_col22, #T_12c32_row7_col23, #T_12c32_row11_col23, #T_12c32_row15_col19, #T_12c32_row15_col21, #T_12c32_row15_col27, #T_12c32_row16_col17, #T_12c32_row17_col28, #T_12c32_row18_col9, #T_12c32_row21_col23, #T_12c32_row23_col4, #T_12c32_row25_col23 {\n",
       "  background-color: #5875e1;\n",
       "  color: #f1f1f1;\n",
       "}\n",
       "#T_12c32_row2_col23, #T_12c32_row6_col3 {\n",
       "  background-color: #7295f4;\n",
       "  color: #f1f1f1;\n",
       "}\n",
       "#T_12c32_row2_col24, #T_12c32_row28_col2 {\n",
       "  background-color: #e4d9d2;\n",
       "  color: #000000;\n",
       "}\n",
       "#T_12c32_row2_col25, #T_12c32_row3_col25, #T_12c32_row7_col18, #T_12c32_row12_col16, #T_12c32_row14_col5, #T_12c32_row16_col14, #T_12c32_row17_col4, #T_12c32_row17_col18, #T_12c32_row18_col0, #T_12c32_row19_col18 {\n",
       "  background-color: #7597f6;\n",
       "  color: #f1f1f1;\n",
       "}\n",
       "#T_12c32_row2_col26, #T_12c32_row9_col7 {\n",
       "  background-color: #e2dad5;\n",
       "  color: #000000;\n",
       "}\n",
       "#T_12c32_row2_col27, #T_12c32_row24_col1, #T_12c32_row24_col3, #T_12c32_row27_col1 {\n",
       "  background-color: #bed2f6;\n",
       "  color: #000000;\n",
       "}\n",
       "#T_12c32_row2_col28, #T_12c32_row17_col19, #T_12c32_row20_col11 {\n",
       "  background-color: #b9d0f9;\n",
       "  color: #000000;\n",
       "}\n",
       "#T_12c32_row3_col2 {\n",
       "  background-color: #e9785d;\n",
       "  color: #f1f1f1;\n",
       "}\n",
       "#T_12c32_row3_col5, #T_12c32_row9_col0, #T_12c32_row9_col6, #T_12c32_row17_col10, #T_12c32_row21_col2 {\n",
       "  background-color: #94b6ff;\n",
       "  color: #000000;\n",
       "}\n",
       "#T_12c32_row3_col7, #T_12c32_row11_col0, #T_12c32_row21_col0, #T_12c32_row21_col15, #T_12c32_row25_col18, #T_12c32_row26_col15 {\n",
       "  background-color: #88abfd;\n",
       "  color: #000000;\n",
       "}\n",
       "#T_12c32_row3_col10, #T_12c32_row7_col5, #T_12c32_row9_col18 {\n",
       "  background-color: #7699f6;\n",
       "  color: #f1f1f1;\n",
       "}\n",
       "#T_12c32_row3_col15, #T_12c32_row13_col0, #T_12c32_row19_col0, #T_12c32_row23_col2, #T_12c32_row24_col16 {\n",
       "  background-color: #a2c1ff;\n",
       "  color: #000000;\n",
       "}\n",
       "#T_12c32_row3_col19, #T_12c32_row4_col15, #T_12c32_row4_col24, #T_12c32_row7_col6, #T_12c32_row9_col17, #T_12c32_row12_col0, #T_12c32_row13_col16, #T_12c32_row14_col16, #T_12c32_row23_col5 {\n",
       "  background-color: #90b2fe;\n",
       "  color: #000000;\n",
       "}\n",
       "#T_12c32_row3_col21, #T_12c32_row11_col10, #T_12c32_row12_col10, #T_12c32_row12_col19, #T_12c32_row15_col9, #T_12c32_row16_col3, #T_12c32_row18_col14, #T_12c32_row20_col10, #T_12c32_row21_col10, #T_12c32_row23_col19, #T_12c32_row24_col22, #T_12c32_row24_col25, #T_12c32_row25_col10, #T_12c32_row25_col19, #T_12c32_row26_col21 {\n",
       "  background-color: #5f7fe8;\n",
       "  color: #f1f1f1;\n",
       "}\n",
       "#T_12c32_row3_col26, #T_12c32_row26_col3 {\n",
       "  background-color: #c5d6f2;\n",
       "  color: #000000;\n",
       "}\n",
       "#T_12c32_row3_col27, #T_12c32_row6_col19, #T_12c32_row13_col7, #T_12c32_row17_col2, #T_12c32_row19_col16, #T_12c32_row21_col5, #T_12c32_row26_col13, #T_12c32_row28_col7 {\n",
       "  background-color: #92b4fe;\n",
       "  color: #000000;\n",
       "}\n",
       "#T_12c32_row3_col28 {\n",
       "  background-color: #c3d5f4;\n",
       "  color: #000000;\n",
       "}\n",
       "#T_12c32_row4_col0 {\n",
       "  background-color: #c4d5f3;\n",
       "  color: #000000;\n",
       "}\n",
       "#T_12c32_row4_col1 {\n",
       "  background-color: #cbd8ee;\n",
       "  color: #000000;\n",
       "}\n",
       "#T_12c32_row4_col3, #T_12c32_row12_col2, #T_12c32_row13_col9, #T_12c32_row20_col15, #T_12c32_row24_col15 {\n",
       "  background-color: #8badfd;\n",
       "  color: #000000;\n",
       "}\n",
       "#T_12c32_row4_col11, #T_12c32_row10_col23, #T_12c32_row11_col6, #T_12c32_row12_col6, #T_12c32_row15_col23, #T_12c32_row21_col6, #T_12c32_row22_col9, #T_12c32_row25_col6, #T_12c32_row26_col6 {\n",
       "  background-color: #5977e3;\n",
       "  color: #f1f1f1;\n",
       "}\n",
       "#T_12c32_row4_col13, #T_12c32_row10_col21, #T_12c32_row16_col21, #T_12c32_row19_col1, #T_12c32_row20_col24, #T_12c32_row22_col6, #T_12c32_row22_col26, #T_12c32_row24_col10, #T_12c32_row27_col9, #T_12c32_row27_col10 {\n",
       "  background-color: #5470de;\n",
       "  color: #f1f1f1;\n",
       "}\n",
       "#T_12c32_row4_col27, #T_12c32_row10_col15, #T_12c32_row19_col5, #T_12c32_row24_col0 {\n",
       "  background-color: #80a3fa;\n",
       "  color: #f1f1f1;\n",
       "}\n",
       "#T_12c32_row5_col2, #T_12c32_row9_col2, #T_12c32_row17_col9, #T_12c32_row28_col5 {\n",
       "  background-color: #9dbdff;\n",
       "  color: #000000;\n",
       "}\n",
       "#T_12c32_row5_col4, #T_12c32_row6_col17, #T_12c32_row10_col4, #T_12c32_row11_col7, #T_12c32_row15_col26, #T_12c32_row20_col7, #T_12c32_row21_col7, #T_12c32_row22_col3, #T_12c32_row23_col16, #T_12c32_row24_col5, #T_12c32_row25_col7, #T_12c32_row27_col5 {\n",
       "  background-color: #6485ec;\n",
       "  color: #f1f1f1;\n",
       "}\n",
       "#T_12c32_row5_col14, #T_12c32_row5_col28, #T_12c32_row6_col28, #T_12c32_row15_col6, #T_12c32_row18_col10, #T_12c32_row18_col25, #T_12c32_row20_col9, #T_12c32_row22_col19, #T_12c32_row24_col18, #T_12c32_row24_col19 {\n",
       "  background-color: #5d7ce6;\n",
       "  color: #f1f1f1;\n",
       "}\n",
       "#T_12c32_row5_col16, #T_12c32_row5_col24, #T_12c32_row12_col28, #T_12c32_row18_col1, #T_12c32_row21_col27, #T_12c32_row27_col12 {\n",
       "  background-color: #4055c8;\n",
       "  color: #f1f1f1;\n",
       "}\n",
       "#T_12c32_row5_col18, #T_12c32_row17_col7 {\n",
       "  background-color: #b5cdfa;\n",
       "  color: #000000;\n",
       "}\n",
       "#T_12c32_row5_col26, #T_12c32_row7_col28, #T_12c32_row22_col27, #T_12c32_row25_col24 {\n",
       "  background-color: #6b8df0;\n",
       "  color: #f1f1f1;\n",
       "}\n",
       "#T_12c32_row5_col27, #T_12c32_row7_col26, #T_12c32_row14_col24, #T_12c32_row15_col22, #T_12c32_row16_col22 {\n",
       "  background-color: #3f53c6;\n",
       "  color: #f1f1f1;\n",
       "}\n",
       "#T_12c32_row6_col2, #T_12c32_row14_col13, #T_12c32_row18_col15, #T_12c32_row18_col26 {\n",
       "  background-color: #97b8ff;\n",
       "  color: #000000;\n",
       "}\n",
       "#T_12c32_row6_col5, #T_12c32_row10_col0, #T_12c32_row15_col5, #T_12c32_row27_col4, #T_12c32_row28_col4, #T_12c32_row28_col13 {\n",
       "  background-color: #9abbff;\n",
       "  color: #000000;\n",
       "}\n",
       "#T_12c32_row6_col9, #T_12c32_row10_col2, #T_12c32_row11_col2, #T_12c32_row26_col28, #T_12c32_row27_col3, #T_12c32_row28_col15 {\n",
       "  background-color: #96b7ff;\n",
       "  color: #000000;\n",
       "}\n",
       "#T_12c32_row6_col10, #T_12c32_row9_col13, #T_12c32_row12_col4, #T_12c32_row13_col3, #T_12c32_row21_col4, #T_12c32_row25_col5, #T_12c32_row28_col9 {\n",
       "  background-color: #7ea1fa;\n",
       "  color: #f1f1f1;\n",
       "}\n",
       "#T_12c32_row6_col14, #T_12c32_row13_col19 {\n",
       "  background-color: #aac7fd;\n",
       "  color: #000000;\n",
       "}\n",
       "#T_12c32_row6_col15, #T_12c32_row9_col15, #T_12c32_row11_col15, #T_12c32_row11_col16, #T_12c32_row12_col15, #T_12c32_row16_col2, #T_12c32_row25_col16 {\n",
       "  background-color: #86a9fc;\n",
       "  color: #f1f1f1;\n",
       "}\n",
       "#T_12c32_row6_col16, #T_12c32_row7_col15, #T_12c32_row10_col5, #T_12c32_row10_col6, #T_12c32_row13_col18, #T_12c32_row16_col27 {\n",
       "  background-color: #7a9df8;\n",
       "  color: #f1f1f1;\n",
       "}\n",
       "#T_12c32_row6_col26, #T_12c32_row9_col23, #T_12c32_row9_col28, #T_12c32_row18_col7, #T_12c32_row20_col3, #T_12c32_row22_col10, #T_12c32_row23_col10, #T_12c32_row27_col18, #T_12c32_row28_col25 {\n",
       "  background-color: #5e7de7;\n",
       "  color: #f1f1f1;\n",
       "}\n",
       "#T_12c32_row7_col2, #T_12c32_row28_col19 {\n",
       "  background-color: #9ebeff;\n",
       "  color: #000000;\n",
       "}\n",
       "#T_12c32_row7_col9 {\n",
       "  background-color: #dfdbd9;\n",
       "  color: #000000;\n",
       "}\n",
       "#T_12c32_row7_col10 {\n",
       "  background-color: #f6bda2;\n",
       "  color: #000000;\n",
       "}\n",
       "#T_12c32_row7_col14 {\n",
       "  background-color: #f59c7d;\n",
       "  color: #000000;\n",
       "}\n",
       "#T_12c32_row7_col17, #T_12c32_row28_col18 {\n",
       "  background-color: #a3c2fe;\n",
       "  color: #000000;\n",
       "}\n",
       "#T_12c32_row7_col19 {\n",
       "  background-color: #f29072;\n",
       "  color: #f1f1f1;\n",
       "}\n",
       "#T_12c32_row7_col27, #T_12c32_row11_col27, #T_12c32_row16_col20, #T_12c32_row16_col28, #T_12c32_row19_col27, #T_12c32_row26_col14 {\n",
       "  background-color: #4257c9;\n",
       "  color: #f1f1f1;\n",
       "}\n",
       "#T_12c32_row9_col3, #T_12c32_row17_col6 {\n",
       "  background-color: #7093f3;\n",
       "  color: #f1f1f1;\n",
       "}\n",
       "#T_12c32_row9_col5, #T_12c32_row16_col7, #T_12c32_row16_col19 {\n",
       "  background-color: #6f92f3;\n",
       "  color: #f1f1f1;\n",
       "}\n",
       "#T_12c32_row9_col10 {\n",
       "  background-color: #bcd2f7;\n",
       "  color: #000000;\n",
       "}\n",
       "#T_12c32_row9_col14 {\n",
       "  background-color: #f4c5ad;\n",
       "  color: #000000;\n",
       "}\n",
       "#T_12c32_row9_col19 {\n",
       "  background-color: #e3d9d3;\n",
       "  color: #000000;\n",
       "}\n",
       "#T_12c32_row10_col7 {\n",
       "  background-color: #f7ba9f;\n",
       "  color: #000000;\n",
       "}\n",
       "#T_12c32_row10_col12, #T_12c32_row11_col13, #T_12c32_row14_col4, #T_12c32_row20_col12, #T_12c32_row21_col13, #T_12c32_row22_col25, #T_12c32_row23_col17, #T_12c32_row23_col22, #T_12c32_row26_col22, #T_12c32_row27_col14, #T_12c32_row27_col28 {\n",
       "  background-color: #4a63d3;\n",
       "  color: #f1f1f1;\n",
       "}\n",
       "#T_12c32_row10_col14 {\n",
       "  background-color: #e0dbd8;\n",
       "  color: #000000;\n",
       "}\n",
       "#T_12c32_row10_col17, #T_12c32_row25_col3 {\n",
       "  background-color: #85a8fc;\n",
       "  color: #f1f1f1;\n",
       "}\n",
       "#T_12c32_row10_col19, #T_12c32_row17_col14 {\n",
       "  background-color: #cfdaea;\n",
       "  color: #000000;\n",
       "}\n",
       "#T_12c32_row11_col5, #T_12c32_row25_col0, #T_12c32_row26_col1 {\n",
       "  background-color: #93b5fe;\n",
       "  color: #000000;\n",
       "}\n",
       "#T_12c32_row11_col21, #T_12c32_row21_col11 {\n",
       "  background-color: #bb1b2c;\n",
       "  color: #f1f1f1;\n",
       "}\n",
       "#T_12c32_row12_col23, #T_12c32_row17_col23, #T_12c32_row19_col24 {\n",
       "  background-color: #5673e0;\n",
       "  color: #f1f1f1;\n",
       "}\n",
       "#T_12c32_row13_col2, #T_12c32_row15_col2, #T_12c32_row16_col1 {\n",
       "  background-color: #a7c5fe;\n",
       "  color: #000000;\n",
       "}\n",
       "#T_12c32_row13_col26, #T_12c32_row14_col6, #T_12c32_row17_col0, #T_12c32_row27_col16 {\n",
       "  background-color: #a1c0ff;\n",
       "  color: #000000;\n",
       "}\n",
       "#T_12c32_row13_col28, #T_12c32_row22_col4, #T_12c32_row26_col5, #T_12c32_row28_col16 {\n",
       "  background-color: #89acfd;\n",
       "  color: #000000;\n",
       "}\n",
       "#T_12c32_row14_col7 {\n",
       "  background-color: #f59d7e;\n",
       "  color: #000000;\n",
       "}\n",
       "#T_12c32_row14_col9, #T_12c32_row24_col2 {\n",
       "  background-color: #f2c9b4;\n",
       "  color: #000000;\n",
       "}\n",
       "#T_12c32_row14_col10 {\n",
       "  background-color: #dddcdc;\n",
       "  color: #000000;\n",
       "}\n",
       "#T_12c32_row14_col17 {\n",
       "  background-color: #c1d4f4;\n",
       "  color: #000000;\n",
       "}\n",
       "#T_12c32_row14_col19 {\n",
       "  background-color: #f6a586;\n",
       "  color: #000000;\n",
       "}\n",
       "#T_12c32_row15_col18 {\n",
       "  background-color: #8db0fe;\n",
       "  color: #000000;\n",
       "}\n",
       "#T_12c32_row16_col4 {\n",
       "  background-color: #cad8ef;\n",
       "  color: #000000;\n",
       "}\n",
       "#T_12c32_row18_col2 {\n",
       "  background-color: #b6cefa;\n",
       "  color: #000000;\n",
       "}\n",
       "#T_12c32_row19_col2 {\n",
       "  background-color: #a5c3fe;\n",
       "  color: #000000;\n",
       "}\n",
       "#T_12c32_row19_col7 {\n",
       "  background-color: #f18f71;\n",
       "  color: #f1f1f1;\n",
       "}\n",
       "#T_12c32_row19_col9 {\n",
       "  background-color: #e1dad6;\n",
       "  color: #000000;\n",
       "}\n",
       "#T_12c32_row19_col13 {\n",
       "  background-color: #9bbcff;\n",
       "  color: #000000;\n",
       "}\n",
       "#T_12c32_row19_col14 {\n",
       "  background-color: #f6a385;\n",
       "  color: #000000;\n",
       "}\n",
       "#T_12c32_row20_col16, #T_12c32_row25_col15, #T_12c32_row27_col15 {\n",
       "  background-color: #81a4fb;\n",
       "  color: #f1f1f1;\n",
       "}\n",
       "#T_12c32_row20_col21 {\n",
       "  background-color: #e5d8d1;\n",
       "  color: #000000;\n",
       "}\n",
       "#T_12c32_row21_col20 {\n",
       "  background-color: #dedcdb;\n",
       "  color: #000000;\n",
       "}\n",
       "#T_12c32_row23_col18, #T_12c32_row27_col26, #T_12c32_row28_col26 {\n",
       "  background-color: #b2ccfb;\n",
       "  color: #000000;\n",
       "}\n",
       "#T_12c32_row24_col4, #T_12c32_row28_col14 {\n",
       "  background-color: #a9c6fd;\n",
       "  color: #000000;\n",
       "}\n",
       "#T_12c32_row24_col26 {\n",
       "  background-color: #e8d6cc;\n",
       "  color: #000000;\n",
       "}\n",
       "#T_12c32_row24_col27, #T_12c32_row27_col24 {\n",
       "  background-color: #f7bca1;\n",
       "  color: #000000;\n",
       "}\n",
       "#T_12c32_row26_col2 {\n",
       "  background-color: #f1ccb8;\n",
       "  color: #000000;\n",
       "}\n",
       "#T_12c32_row26_col18, #T_12c32_row26_col27 {\n",
       "  background-color: #adc9fd;\n",
       "  color: #000000;\n",
       "}\n",
       "#T_12c32_row26_col24 {\n",
       "  background-color: #e6d7cf;\n",
       "  color: #000000;\n",
       "}\n",
       "#T_12c32_row27_col2 {\n",
       "  background-color: #dbdcde;\n",
       "  color: #000000;\n",
       "}\n",
       "#T_12c32_row28_col3 {\n",
       "  background-color: #d7dce3;\n",
       "  color: #000000;\n",
       "}\n",
       "</style>\n",
       "<table id=\"T_12c32_\">\n",
       "  <thead>\n",
       "    <tr>\n",
       "      <th class=\"blank level0\" >&nbsp;</th>\n",
       "      <th class=\"col_heading level0 col0\" >First_temp</th>\n",
       "      <th class=\"col_heading level0 col1\" >Last_temp</th>\n",
       "      <th class=\"col_heading level0 col2\" >Full_power</th>\n",
       "      <th class=\"col_heading level0 col3\" >Number_of_repetitions</th>\n",
       "      <th class=\"col_heading level0 col4\" >Wire 1</th>\n",
       "      <th class=\"col_heading level0 col5\" >Wire 2</th>\n",
       "      <th class=\"col_heading level0 col6\" >Wire 3</th>\n",
       "      <th class=\"col_heading level0 col7\" >Wire 4</th>\n",
       "      <th class=\"col_heading level0 col8\" >Wire 5</th>\n",
       "      <th class=\"col_heading level0 col9\" >Wire 6</th>\n",
       "      <th class=\"col_heading level0 col10\" >Wire 7</th>\n",
       "      <th class=\"col_heading level0 col11\" >Wire 8</th>\n",
       "      <th class=\"col_heading level0 col12\" >Wire 9</th>\n",
       "      <th class=\"col_heading level0 col13\" >Bulk 1</th>\n",
       "      <th class=\"col_heading level0 col14\" >Bulk 2</th>\n",
       "      <th class=\"col_heading level0 col15\" >Bulk 3</th>\n",
       "      <th class=\"col_heading level0 col16\" >Bulk 4</th>\n",
       "      <th class=\"col_heading level0 col17\" >Bulk 5</th>\n",
       "      <th class=\"col_heading level0 col18\" >Bulk 6</th>\n",
       "      <th class=\"col_heading level0 col19\" >Bulk 7</th>\n",
       "      <th class=\"col_heading level0 col20\" >Bulk 8</th>\n",
       "      <th class=\"col_heading level0 col21\" >Bulk 9</th>\n",
       "      <th class=\"col_heading level0 col22\" >Bulk 10</th>\n",
       "      <th class=\"col_heading level0 col23\" >Bulk 11</th>\n",
       "      <th class=\"col_heading level0 col24\" >Bulk 12</th>\n",
       "      <th class=\"col_heading level0 col25\" >Bulk 13</th>\n",
       "      <th class=\"col_heading level0 col26\" >Bulk 14</th>\n",
       "      <th class=\"col_heading level0 col27\" >Bulk 15</th>\n",
       "      <th class=\"col_heading level0 col28\" >Gas</th>\n",
       "    </tr>\n",
       "  </thead>\n",
       "  <tbody>\n",
       "    <tr>\n",
       "      <th id=\"T_12c32_level0_row0\" class=\"row_heading level0 row0\" >First_temp</th>\n",
       "      <td id=\"T_12c32_row0_col0\" class=\"data row0 col0\" >1.00</td>\n",
       "      <td id=\"T_12c32_row0_col1\" class=\"data row0 col1\" >0.25</td>\n",
       "      <td id=\"T_12c32_row0_col2\" class=\"data row0 col2\" >-0.34</td>\n",
       "      <td id=\"T_12c32_row0_col3\" class=\"data row0 col3\" >-0.14</td>\n",
       "      <td id=\"T_12c32_row0_col4\" class=\"data row0 col4\" >0.21</td>\n",
       "      <td id=\"T_12c32_row0_col5\" class=\"data row0 col5\" >-0.09</td>\n",
       "      <td id=\"T_12c32_row0_col6\" class=\"data row0 col6\" >-0.00</td>\n",
       "      <td id=\"T_12c32_row0_col7\" class=\"data row0 col7\" >0.06</td>\n",
       "      <td id=\"T_12c32_row0_col8\" class=\"data row0 col8\" >nan</td>\n",
       "      <td id=\"T_12c32_row0_col9\" class=\"data row0 col9\" >0.02</td>\n",
       "      <td id=\"T_12c32_row0_col10\" class=\"data row0 col10\" >0.04</td>\n",
       "      <td id=\"T_12c32_row0_col11\" class=\"data row0 col11\" >-0.02</td>\n",
       "      <td id=\"T_12c32_row0_col12\" class=\"data row0 col12\" >0.00</td>\n",
       "      <td id=\"T_12c32_row0_col13\" class=\"data row0 col13\" >0.07</td>\n",
       "      <td id=\"T_12c32_row0_col14\" class=\"data row0 col14\" >0.12</td>\n",
       "      <td id=\"T_12c32_row0_col15\" class=\"data row0 col15\" >-0.10</td>\n",
       "      <td id=\"T_12c32_row0_col16\" class=\"data row0 col16\" >0.14</td>\n",
       "      <td id=\"T_12c32_row0_col17\" class=\"data row0 col17\" >0.07</td>\n",
       "      <td id=\"T_12c32_row0_col18\" class=\"data row0 col18\" >-0.10</td>\n",
       "      <td id=\"T_12c32_row0_col19\" class=\"data row0 col19\" >0.07</td>\n",
       "      <td id=\"T_12c32_row0_col20\" class=\"data row0 col20\" >-0.01</td>\n",
       "      <td id=\"T_12c32_row0_col21\" class=\"data row0 col21\" >-0.03</td>\n",
       "      <td id=\"T_12c32_row0_col22\" class=\"data row0 col22\" >0.04</td>\n",
       "      <td id=\"T_12c32_row0_col23\" class=\"data row0 col23\" >-0.09</td>\n",
       "      <td id=\"T_12c32_row0_col24\" class=\"data row0 col24\" >-0.06</td>\n",
       "      <td id=\"T_12c32_row0_col25\" class=\"data row0 col25\" >0.02</td>\n",
       "      <td id=\"T_12c32_row0_col26\" class=\"data row0 col26\" >-0.13</td>\n",
       "      <td id=\"T_12c32_row0_col27\" class=\"data row0 col27\" >-0.04</td>\n",
       "      <td id=\"T_12c32_row0_col28\" class=\"data row0 col28\" >0.04</td>\n",
       "    </tr>\n",
       "    <tr>\n",
       "      <th id=\"T_12c32_level0_row1\" class=\"row_heading level0 row1\" >Last_temp</th>\n",
       "      <td id=\"T_12c32_row1_col0\" class=\"data row1 col0\" >0.25</td>\n",
       "      <td id=\"T_12c32_row1_col1\" class=\"data row1 col1\" >1.00</td>\n",
       "      <td id=\"T_12c32_row1_col2\" class=\"data row1 col2\" >0.27</td>\n",
       "      <td id=\"T_12c32_row1_col3\" class=\"data row1 col3\" >0.18</td>\n",
       "      <td id=\"T_12c32_row1_col4\" class=\"data row1 col4\" >0.32</td>\n",
       "      <td id=\"T_12c32_row1_col5\" class=\"data row1 col5\" >-0.21</td>\n",
       "      <td id=\"T_12c32_row1_col6\" class=\"data row1 col6\" >-0.05</td>\n",
       "      <td id=\"T_12c32_row1_col7\" class=\"data row1 col7\" >-0.16</td>\n",
       "      <td id=\"T_12c32_row1_col8\" class=\"data row1 col8\" >nan</td>\n",
       "      <td id=\"T_12c32_row1_col9\" class=\"data row1 col9\" >-0.08</td>\n",
       "      <td id=\"T_12c32_row1_col10\" class=\"data row1 col10\" >-0.14</td>\n",
       "      <td id=\"T_12c32_row1_col11\" class=\"data row1 col11\" >-0.01</td>\n",
       "      <td id=\"T_12c32_row1_col12\" class=\"data row1 col12\" >-0.03</td>\n",
       "      <td id=\"T_12c32_row1_col13\" class=\"data row1 col13\" >-0.08</td>\n",
       "      <td id=\"T_12c32_row1_col14\" class=\"data row1 col14\" >-0.08</td>\n",
       "      <td id=\"T_12c32_row1_col15\" class=\"data row1 col15\" >-0.04</td>\n",
       "      <td id=\"T_12c32_row1_col16\" class=\"data row1 col16\" >0.19</td>\n",
       "      <td id=\"T_12c32_row1_col17\" class=\"data row1 col17\" >-0.03</td>\n",
       "      <td id=\"T_12c32_row1_col18\" class=\"data row1 col18\" >-0.18</td>\n",
       "      <td id=\"T_12c32_row1_col19\" class=\"data row1 col19\" >-0.11</td>\n",
       "      <td id=\"T_12c32_row1_col20\" class=\"data row1 col20\" >-0.03</td>\n",
       "      <td id=\"T_12c32_row1_col21\" class=\"data row1 col21\" >-0.02</td>\n",
       "      <td id=\"T_12c32_row1_col22\" class=\"data row1 col22\" >0.06</td>\n",
       "      <td id=\"T_12c32_row1_col23\" class=\"data row1 col23\" >-0.11</td>\n",
       "      <td id=\"T_12c32_row1_col24\" class=\"data row1 col24\" >0.27</td>\n",
       "      <td id=\"T_12c32_row1_col25\" class=\"data row1 col25\" >-0.01</td>\n",
       "      <td id=\"T_12c32_row1_col26\" class=\"data row1 col26\" >0.11</td>\n",
       "      <td id=\"T_12c32_row1_col27\" class=\"data row1 col27\" >0.27</td>\n",
       "      <td id=\"T_12c32_row1_col28\" class=\"data row1 col28\" >0.06</td>\n",
       "    </tr>\n",
       "    <tr>\n",
       "      <th id=\"T_12c32_level0_row2\" class=\"row_heading level0 row2\" >Full_power</th>\n",
       "      <td id=\"T_12c32_row2_col0\" class=\"data row2 col0\" >-0.34</td>\n",
       "      <td id=\"T_12c32_row2_col1\" class=\"data row2 col1\" >0.27</td>\n",
       "      <td id=\"T_12c32_row2_col2\" class=\"data row2 col2\" >1.00</td>\n",
       "      <td id=\"T_12c32_row2_col3\" class=\"data row2 col3\" >0.77</td>\n",
       "      <td id=\"T_12c32_row2_col4\" class=\"data row2 col4\" >0.04</td>\n",
       "      <td id=\"T_12c32_row2_col5\" class=\"data row2 col5\" >0.05</td>\n",
       "      <td id=\"T_12c32_row2_col6\" class=\"data row2 col6\" >0.03</td>\n",
       "      <td id=\"T_12c32_row2_col7\" class=\"data row2 col7\" >0.06</td>\n",
       "      <td id=\"T_12c32_row2_col8\" class=\"data row2 col8\" >nan</td>\n",
       "      <td id=\"T_12c32_row2_col9\" class=\"data row2 col9\" >0.05</td>\n",
       "      <td id=\"T_12c32_row2_col10\" class=\"data row2 col10\" >0.03</td>\n",
       "      <td id=\"T_12c32_row2_col11\" class=\"data row2 col11\" >0.03</td>\n",
       "      <td id=\"T_12c32_row2_col12\" class=\"data row2 col12\" >-0.01</td>\n",
       "      <td id=\"T_12c32_row2_col13\" class=\"data row2 col13\" >0.09</td>\n",
       "      <td id=\"T_12c32_row2_col14\" class=\"data row2 col14\" >0.04</td>\n",
       "      <td id=\"T_12c32_row2_col15\" class=\"data row2 col15\" >0.10</td>\n",
       "      <td id=\"T_12c32_row2_col16\" class=\"data row2 col16\" >-0.03</td>\n",
       "      <td id=\"T_12c32_row2_col17\" class=\"data row2 col17\" >0.01</td>\n",
       "      <td id=\"T_12c32_row2_col18\" class=\"data row2 col18\" >0.15</td>\n",
       "      <td id=\"T_12c32_row2_col19\" class=\"data row2 col19\" >0.09</td>\n",
       "      <td id=\"T_12c32_row2_col20\" class=\"data row2 col20\" >-0.01</td>\n",
       "      <td id=\"T_12c32_row2_col21\" class=\"data row2 col21\" >0.02</td>\n",
       "      <td id=\"T_12c32_row2_col22\" class=\"data row2 col22\" >0.00</td>\n",
       "      <td id=\"T_12c32_row2_col23\" class=\"data row2 col23\" >0.07</td>\n",
       "      <td id=\"T_12c32_row2_col24\" class=\"data row2 col24\" >0.47</td>\n",
       "      <td id=\"T_12c32_row2_col25\" class=\"data row2 col25\" >0.12</td>\n",
       "      <td id=\"T_12c32_row2_col26\" class=\"data row2 col26\" >0.46</td>\n",
       "      <td id=\"T_12c32_row2_col27\" class=\"data row2 col27\" >0.32</td>\n",
       "      <td id=\"T_12c32_row2_col28\" class=\"data row2 col28\" >0.37</td>\n",
       "    </tr>\n",
       "    <tr>\n",
       "      <th id=\"T_12c32_level0_row3\" class=\"row_heading level0 row3\" >Number_of_repetitions</th>\n",
       "      <td id=\"T_12c32_row3_col0\" class=\"data row3 col0\" >-0.14</td>\n",
       "      <td id=\"T_12c32_row3_col1\" class=\"data row3 col1\" >0.18</td>\n",
       "      <td id=\"T_12c32_row3_col2\" class=\"data row3 col2\" >0.77</td>\n",
       "      <td id=\"T_12c32_row3_col3\" class=\"data row3 col3\" >1.00</td>\n",
       "      <td id=\"T_12c32_row3_col4\" class=\"data row3 col4\" >0.14</td>\n",
       "      <td id=\"T_12c32_row3_col5\" class=\"data row3 col5\" >0.08</td>\n",
       "      <td id=\"T_12c32_row3_col6\" class=\"data row3 col6\" >0.06</td>\n",
       "      <td id=\"T_12c32_row3_col7\" class=\"data row3 col7\" >0.11</td>\n",
       "      <td id=\"T_12c32_row3_col8\" class=\"data row3 col8\" >nan</td>\n",
       "      <td id=\"T_12c32_row3_col9\" class=\"data row3 col9\" >0.05</td>\n",
       "      <td id=\"T_12c32_row3_col10\" class=\"data row3 col10\" >0.07</td>\n",
       "      <td id=\"T_12c32_row3_col11\" class=\"data row3 col11\" >0.04</td>\n",
       "      <td id=\"T_12c32_row3_col12\" class=\"data row3 col12\" >-0.02</td>\n",
       "      <td id=\"T_12c32_row3_col13\" class=\"data row3 col13\" >0.10</td>\n",
       "      <td id=\"T_12c32_row3_col14\" class=\"data row3 col14\" >0.09</td>\n",
       "      <td id=\"T_12c32_row3_col15\" class=\"data row3 col15\" >0.11</td>\n",
       "      <td id=\"T_12c32_row3_col16\" class=\"data row3 col16\" >-0.00</td>\n",
       "      <td id=\"T_12c32_row3_col17\" class=\"data row3 col17\" >0.08</td>\n",
       "      <td id=\"T_12c32_row3_col18\" class=\"data row3 col18\" >0.15</td>\n",
       "      <td id=\"T_12c32_row3_col19\" class=\"data row3 col19\" >0.15</td>\n",
       "      <td id=\"T_12c32_row3_col20\" class=\"data row3 col20\" >-0.01</td>\n",
       "      <td id=\"T_12c32_row3_col21\" class=\"data row3 col21\" >0.04</td>\n",
       "      <td id=\"T_12c32_row3_col22\" class=\"data row3 col22\" >0.01</td>\n",
       "      <td id=\"T_12c32_row3_col23\" class=\"data row3 col23\" >0.06</td>\n",
       "      <td id=\"T_12c32_row3_col24\" class=\"data row3 col24\" >0.31</td>\n",
       "      <td id=\"T_12c32_row3_col25\" class=\"data row3 col25\" >0.12</td>\n",
       "      <td id=\"T_12c32_row3_col26\" class=\"data row3 col26\" >0.33</td>\n",
       "      <td id=\"T_12c32_row3_col27\" class=\"data row3 col27\" >0.18</td>\n",
       "      <td id=\"T_12c32_row3_col28\" class=\"data row3 col28\" >0.40</td>\n",
       "    </tr>\n",
       "    <tr>\n",
       "      <th id=\"T_12c32_level0_row4\" class=\"row_heading level0 row4\" >Wire 1</th>\n",
       "      <td id=\"T_12c32_row4_col0\" class=\"data row4 col0\" >0.21</td>\n",
       "      <td id=\"T_12c32_row4_col1\" class=\"data row4 col1\" >0.32</td>\n",
       "      <td id=\"T_12c32_row4_col2\" class=\"data row4 col2\" >0.04</td>\n",
       "      <td id=\"T_12c32_row4_col3\" class=\"data row4 col3\" >0.14</td>\n",
       "      <td id=\"T_12c32_row4_col4\" class=\"data row4 col4\" >1.00</td>\n",
       "      <td id=\"T_12c32_row4_col5\" class=\"data row4 col5\" >-0.07</td>\n",
       "      <td id=\"T_12c32_row4_col6\" class=\"data row4 col6\" >0.04</td>\n",
       "      <td id=\"T_12c32_row4_col7\" class=\"data row4 col7\" >-0.14</td>\n",
       "      <td id=\"T_12c32_row4_col8\" class=\"data row4 col8\" >nan</td>\n",
       "      <td id=\"T_12c32_row4_col9\" class=\"data row4 col9\" >-0.13</td>\n",
       "      <td id=\"T_12c32_row4_col10\" class=\"data row4 col10\" >-0.07</td>\n",
       "      <td id=\"T_12c32_row4_col11\" class=\"data row4 col11\" >0.02</td>\n",
       "      <td id=\"T_12c32_row4_col12\" class=\"data row4 col12\" >0.02</td>\n",
       "      <td id=\"T_12c32_row4_col13\" class=\"data row4 col13\" >0.01</td>\n",
       "      <td id=\"T_12c32_row4_col14\" class=\"data row4 col14\" >-0.17</td>\n",
       "      <td id=\"T_12c32_row4_col15\" class=\"data row4 col15\" >0.04</td>\n",
       "      <td id=\"T_12c32_row4_col16\" class=\"data row4 col16\" >0.30</td>\n",
       "      <td id=\"T_12c32_row4_col17\" class=\"data row4 col17\" >-0.01</td>\n",
       "      <td id=\"T_12c32_row4_col18\" class=\"data row4 col18\" >-0.24</td>\n",
       "      <td id=\"T_12c32_row4_col19\" class=\"data row4 col19\" >-0.14</td>\n",
       "      <td id=\"T_12c32_row4_col20\" class=\"data row4 col20\" >0.03</td>\n",
       "      <td id=\"T_12c32_row4_col21\" class=\"data row4 col21\" >0.02</td>\n",
       "      <td id=\"T_12c32_row4_col22\" class=\"data row4 col22\" >0.06</td>\n",
       "      <td id=\"T_12c32_row4_col23\" class=\"data row4 col23\" >-0.12</td>\n",
       "      <td id=\"T_12c32_row4_col24\" class=\"data row4 col24\" >0.17</td>\n",
       "      <td id=\"T_12c32_row4_col25\" class=\"data row4 col25\" >0.04</td>\n",
       "      <td id=\"T_12c32_row4_col26\" class=\"data row4 col26\" >-0.05</td>\n",
       "      <td id=\"T_12c32_row4_col27\" class=\"data row4 col27\" >0.12</td>\n",
       "      <td id=\"T_12c32_row4_col28\" class=\"data row4 col28\" >0.12</td>\n",
       "    </tr>\n",
       "    <tr>\n",
       "      <th id=\"T_12c32_level0_row5\" class=\"row_heading level0 row5\" >Wire 2</th>\n",
       "      <td id=\"T_12c32_row5_col0\" class=\"data row5 col0\" >-0.09</td>\n",
       "      <td id=\"T_12c32_row5_col1\" class=\"data row5 col1\" >-0.21</td>\n",
       "      <td id=\"T_12c32_row5_col2\" class=\"data row5 col2\" >0.05</td>\n",
       "      <td id=\"T_12c32_row5_col3\" class=\"data row5 col3\" >0.08</td>\n",
       "      <td id=\"T_12c32_row5_col4\" class=\"data row5 col4\" >-0.07</td>\n",
       "      <td id=\"T_12c32_row5_col5\" class=\"data row5 col5\" >1.00</td>\n",
       "      <td id=\"T_12c32_row5_col6\" class=\"data row5 col6\" >0.09</td>\n",
       "      <td id=\"T_12c32_row5_col7\" class=\"data row5 col7\" >-0.03</td>\n",
       "      <td id=\"T_12c32_row5_col8\" class=\"data row5 col8\" >nan</td>\n",
       "      <td id=\"T_12c32_row5_col9\" class=\"data row5 col9\" >-0.06</td>\n",
       "      <td id=\"T_12c32_row5_col10\" class=\"data row5 col10\" >-0.02</td>\n",
       "      <td id=\"T_12c32_row5_col11\" class=\"data row5 col11\" >0.07</td>\n",
       "      <td id=\"T_12c32_row5_col12\" class=\"data row5 col12\" >0.21</td>\n",
       "      <td id=\"T_12c32_row5_col13\" class=\"data row5 col13\" >-0.01</td>\n",
       "      <td id=\"T_12c32_row5_col14\" class=\"data row5 col14\" >-0.04</td>\n",
       "      <td id=\"T_12c32_row5_col15\" class=\"data row5 col15\" >0.10</td>\n",
       "      <td id=\"T_12c32_row5_col16\" class=\"data row5 col16\" >-0.27</td>\n",
       "      <td id=\"T_12c32_row5_col17\" class=\"data row5 col17\" >-0.01</td>\n",
       "      <td id=\"T_12c32_row5_col18\" class=\"data row5 col18\" >0.20</td>\n",
       "      <td id=\"T_12c32_row5_col19\" class=\"data row5 col19\" >-0.00</td>\n",
       "      <td id=\"T_12c32_row5_col20\" class=\"data row5 col20\" >0.02</td>\n",
       "      <td id=\"T_12c32_row5_col21\" class=\"data row5 col21\" >0.07</td>\n",
       "      <td id=\"T_12c32_row5_col22\" class=\"data row5 col22\" >-0.10</td>\n",
       "      <td id=\"T_12c32_row5_col23\" class=\"data row5 col23\" >0.06</td>\n",
       "      <td id=\"T_12c32_row5_col24\" class=\"data row5 col24\" >-0.10</td>\n",
       "      <td id=\"T_12c32_row5_col25\" class=\"data row5 col25\" >-0.00</td>\n",
       "      <td id=\"T_12c32_row5_col26\" class=\"data row5 col26\" >0.04</td>\n",
       "      <td id=\"T_12c32_row5_col27\" class=\"data row5 col27\" >-0.10</td>\n",
       "      <td id=\"T_12c32_row5_col28\" class=\"data row5 col28\" >0.10</td>\n",
       "    </tr>\n",
       "    <tr>\n",
       "      <th id=\"T_12c32_level0_row6\" class=\"row_heading level0 row6\" >Wire 3</th>\n",
       "      <td id=\"T_12c32_row6_col0\" class=\"data row6 col0\" >-0.00</td>\n",
       "      <td id=\"T_12c32_row6_col1\" class=\"data row6 col1\" >-0.05</td>\n",
       "      <td id=\"T_12c32_row6_col2\" class=\"data row6 col2\" >0.03</td>\n",
       "      <td id=\"T_12c32_row6_col3\" class=\"data row6 col3\" >0.06</td>\n",
       "      <td id=\"T_12c32_row6_col4\" class=\"data row6 col4\" >0.04</td>\n",
       "      <td id=\"T_12c32_row6_col5\" class=\"data row6 col5\" >0.09</td>\n",
       "      <td id=\"T_12c32_row6_col6\" class=\"data row6 col6\" >1.00</td>\n",
       "      <td id=\"T_12c32_row6_col7\" class=\"data row6 col7\" >0.17</td>\n",
       "      <td id=\"T_12c32_row6_col8\" class=\"data row6 col8\" >nan</td>\n",
       "      <td id=\"T_12c32_row6_col9\" class=\"data row6 col9\" >0.18</td>\n",
       "      <td id=\"T_12c32_row6_col10\" class=\"data row6 col10\" >0.10</td>\n",
       "      <td id=\"T_12c32_row6_col11\" class=\"data row6 col11\" >-0.01</td>\n",
       "      <td id=\"T_12c32_row6_col12\" class=\"data row6 col12\" >-0.01</td>\n",
       "      <td id=\"T_12c32_row6_col13\" class=\"data row6 col13\" >0.02</td>\n",
       "      <td id=\"T_12c32_row6_col14\" class=\"data row6 col14\" >0.22</td>\n",
       "      <td id=\"T_12c32_row6_col15\" class=\"data row6 col15\" >0.01</td>\n",
       "      <td id=\"T_12c32_row6_col16\" class=\"data row6 col16\" >-0.04</td>\n",
       "      <td id=\"T_12c32_row6_col17\" class=\"data row6 col17\" >0.07</td>\n",
       "      <td id=\"T_12c32_row6_col18\" class=\"data row6 col18\" >-0.05</td>\n",
       "      <td id=\"T_12c32_row6_col19\" class=\"data row6 col19\" >0.16</td>\n",
       "      <td id=\"T_12c32_row6_col20\" class=\"data row6 col20\" >-0.00</td>\n",
       "      <td id=\"T_12c32_row6_col21\" class=\"data row6 col21\" >-0.01</td>\n",
       "      <td id=\"T_12c32_row6_col22\" class=\"data row6 col22\" >-0.03</td>\n",
       "      <td id=\"T_12c32_row6_col23\" class=\"data row6 col23\" >-0.02</td>\n",
       "      <td id=\"T_12c32_row6_col24\" class=\"data row6 col24\" >-0.12</td>\n",
       "      <td id=\"T_12c32_row6_col25\" class=\"data row6 col25\" >-0.01</td>\n",
       "      <td id=\"T_12c32_row6_col26\" class=\"data row6 col26\" >-0.01</td>\n",
       "      <td id=\"T_12c32_row6_col27\" class=\"data row6 col27\" >-0.12</td>\n",
       "      <td id=\"T_12c32_row6_col28\" class=\"data row6 col28\" >0.10</td>\n",
       "    </tr>\n",
       "    <tr>\n",
       "      <th id=\"T_12c32_level0_row7\" class=\"row_heading level0 row7\" >Wire 4</th>\n",
       "      <td id=\"T_12c32_row7_col0\" class=\"data row7 col0\" >0.06</td>\n",
       "      <td id=\"T_12c32_row7_col1\" class=\"data row7 col1\" >-0.16</td>\n",
       "      <td id=\"T_12c32_row7_col2\" class=\"data row7 col2\" >0.06</td>\n",
       "      <td id=\"T_12c32_row7_col3\" class=\"data row7 col3\" >0.11</td>\n",
       "      <td id=\"T_12c32_row7_col4\" class=\"data row7 col4\" >-0.14</td>\n",
       "      <td id=\"T_12c32_row7_col5\" class=\"data row7 col5\" >-0.03</td>\n",
       "      <td id=\"T_12c32_row7_col6\" class=\"data row7 col6\" >0.17</td>\n",
       "      <td id=\"T_12c32_row7_col7\" class=\"data row7 col7\" >1.00</td>\n",
       "      <td id=\"T_12c32_row7_col8\" class=\"data row7 col8\" >nan</td>\n",
       "      <td id=\"T_12c32_row7_col9\" class=\"data row7 col9\" >0.45</td>\n",
       "      <td id=\"T_12c32_row7_col10\" class=\"data row7 col10\" >0.60</td>\n",
       "      <td id=\"T_12c32_row7_col11\" class=\"data row7 col11\" >-0.00</td>\n",
       "      <td id=\"T_12c32_row7_col12\" class=\"data row7 col12\" >-0.01</td>\n",
       "      <td id=\"T_12c32_row7_col13\" class=\"data row7 col13\" >0.15</td>\n",
       "      <td id=\"T_12c32_row7_col14\" class=\"data row7 col14\" >0.70</td>\n",
       "      <td id=\"T_12c32_row7_col15\" class=\"data row7 col15\" >-0.04</td>\n",
       "      <td id=\"T_12c32_row7_col16\" class=\"data row7 col16\" >0.03</td>\n",
       "      <td id=\"T_12c32_row7_col17\" class=\"data row7 col17\" >0.26</td>\n",
       "      <td id=\"T_12c32_row7_col18\" class=\"data row7 col18\" >-0.03</td>\n",
       "      <td id=\"T_12c32_row7_col19\" class=\"data row7 col19\" >0.74</td>\n",
       "      <td id=\"T_12c32_row7_col20\" class=\"data row7 col20\" >-0.00</td>\n",
       "      <td id=\"T_12c32_row7_col21\" class=\"data row7 col21\" >-0.00</td>\n",
       "      <td id=\"T_12c32_row7_col22\" class=\"data row7 col22\" >-0.02</td>\n",
       "      <td id=\"T_12c32_row7_col23\" class=\"data row7 col23\" >-0.01</td>\n",
       "      <td id=\"T_12c32_row7_col24\" class=\"data row7 col24\" >-0.09</td>\n",
       "      <td id=\"T_12c32_row7_col25\" class=\"data row7 col25\" >-0.00</td>\n",
       "      <td id=\"T_12c32_row7_col26\" class=\"data row7 col26\" >-0.12</td>\n",
       "      <td id=\"T_12c32_row7_col27\" class=\"data row7 col27\" >-0.09</td>\n",
       "      <td id=\"T_12c32_row7_col28\" class=\"data row7 col28\" >0.15</td>\n",
       "    </tr>\n",
       "    <tr>\n",
       "      <th id=\"T_12c32_level0_row8\" class=\"row_heading level0 row8\" >Wire 5</th>\n",
       "      <td id=\"T_12c32_row8_col0\" class=\"data row8 col0\" >nan</td>\n",
       "      <td id=\"T_12c32_row8_col1\" class=\"data row8 col1\" >nan</td>\n",
       "      <td id=\"T_12c32_row8_col2\" class=\"data row8 col2\" >nan</td>\n",
       "      <td id=\"T_12c32_row8_col3\" class=\"data row8 col3\" >nan</td>\n",
       "      <td id=\"T_12c32_row8_col4\" class=\"data row8 col4\" >nan</td>\n",
       "      <td id=\"T_12c32_row8_col5\" class=\"data row8 col5\" >nan</td>\n",
       "      <td id=\"T_12c32_row8_col6\" class=\"data row8 col6\" >nan</td>\n",
       "      <td id=\"T_12c32_row8_col7\" class=\"data row8 col7\" >nan</td>\n",
       "      <td id=\"T_12c32_row8_col8\" class=\"data row8 col8\" >nan</td>\n",
       "      <td id=\"T_12c32_row8_col9\" class=\"data row8 col9\" >nan</td>\n",
       "      <td id=\"T_12c32_row8_col10\" class=\"data row8 col10\" >nan</td>\n",
       "      <td id=\"T_12c32_row8_col11\" class=\"data row8 col11\" >nan</td>\n",
       "      <td id=\"T_12c32_row8_col12\" class=\"data row8 col12\" >nan</td>\n",
       "      <td id=\"T_12c32_row8_col13\" class=\"data row8 col13\" >nan</td>\n",
       "      <td id=\"T_12c32_row8_col14\" class=\"data row8 col14\" >nan</td>\n",
       "      <td id=\"T_12c32_row8_col15\" class=\"data row8 col15\" >nan</td>\n",
       "      <td id=\"T_12c32_row8_col16\" class=\"data row8 col16\" >nan</td>\n",
       "      <td id=\"T_12c32_row8_col17\" class=\"data row8 col17\" >nan</td>\n",
       "      <td id=\"T_12c32_row8_col18\" class=\"data row8 col18\" >nan</td>\n",
       "      <td id=\"T_12c32_row8_col19\" class=\"data row8 col19\" >nan</td>\n",
       "      <td id=\"T_12c32_row8_col20\" class=\"data row8 col20\" >nan</td>\n",
       "      <td id=\"T_12c32_row8_col21\" class=\"data row8 col21\" >nan</td>\n",
       "      <td id=\"T_12c32_row8_col22\" class=\"data row8 col22\" >nan</td>\n",
       "      <td id=\"T_12c32_row8_col23\" class=\"data row8 col23\" >nan</td>\n",
       "      <td id=\"T_12c32_row8_col24\" class=\"data row8 col24\" >nan</td>\n",
       "      <td id=\"T_12c32_row8_col25\" class=\"data row8 col25\" >nan</td>\n",
       "      <td id=\"T_12c32_row8_col26\" class=\"data row8 col26\" >nan</td>\n",
       "      <td id=\"T_12c32_row8_col27\" class=\"data row8 col27\" >nan</td>\n",
       "      <td id=\"T_12c32_row8_col28\" class=\"data row8 col28\" >nan</td>\n",
       "    </tr>\n",
       "    <tr>\n",
       "      <th id=\"T_12c32_level0_row9\" class=\"row_heading level0 row9\" >Wire 6</th>\n",
       "      <td id=\"T_12c32_row9_col0\" class=\"data row9 col0\" >0.02</td>\n",
       "      <td id=\"T_12c32_row9_col1\" class=\"data row9 col1\" >-0.08</td>\n",
       "      <td id=\"T_12c32_row9_col2\" class=\"data row9 col2\" >0.05</td>\n",
       "      <td id=\"T_12c32_row9_col3\" class=\"data row9 col3\" >0.05</td>\n",
       "      <td id=\"T_12c32_row9_col4\" class=\"data row9 col4\" >-0.13</td>\n",
       "      <td id=\"T_12c32_row9_col5\" class=\"data row9 col5\" >-0.06</td>\n",
       "      <td id=\"T_12c32_row9_col6\" class=\"data row9 col6\" >0.18</td>\n",
       "      <td id=\"T_12c32_row9_col7\" class=\"data row9 col7\" >0.45</td>\n",
       "      <td id=\"T_12c32_row9_col8\" class=\"data row9 col8\" >nan</td>\n",
       "      <td id=\"T_12c32_row9_col9\" class=\"data row9 col9\" >1.00</td>\n",
       "      <td id=\"T_12c32_row9_col10\" class=\"data row9 col10\" >0.30</td>\n",
       "      <td id=\"T_12c32_row9_col11\" class=\"data row9 col11\" >-0.01</td>\n",
       "      <td id=\"T_12c32_row9_col12\" class=\"data row9 col12\" >-0.01</td>\n",
       "      <td id=\"T_12c32_row9_col13\" class=\"data row9 col13\" >0.15</td>\n",
       "      <td id=\"T_12c32_row9_col14\" class=\"data row9 col14\" >0.56</td>\n",
       "      <td id=\"T_12c32_row9_col15\" class=\"data row9 col15\" >0.01</td>\n",
       "      <td id=\"T_12c32_row9_col16\" class=\"data row9 col16\" >-0.01</td>\n",
       "      <td id=\"T_12c32_row9_col17\" class=\"data row9 col17\" >0.20</td>\n",
       "      <td id=\"T_12c32_row9_col18\" class=\"data row9 col18\" >-0.02</td>\n",
       "      <td id=\"T_12c32_row9_col19\" class=\"data row9 col19\" >0.46</td>\n",
       "      <td id=\"T_12c32_row9_col20\" class=\"data row9 col20\" >-0.00</td>\n",
       "      <td id=\"T_12c32_row9_col21\" class=\"data row9 col21\" >-0.01</td>\n",
       "      <td id=\"T_12c32_row9_col22\" class=\"data row9 col22\" >-0.02</td>\n",
       "      <td id=\"T_12c32_row9_col23\" class=\"data row9 col23\" >0.01</td>\n",
       "      <td id=\"T_12c32_row9_col24\" class=\"data row9 col24\" >-0.04</td>\n",
       "      <td id=\"T_12c32_row9_col25\" class=\"data row9 col25\" >-0.01</td>\n",
       "      <td id=\"T_12c32_row9_col26\" class=\"data row9 col26\" >-0.05</td>\n",
       "      <td id=\"T_12c32_row9_col27\" class=\"data row9 col27\" >-0.03</td>\n",
       "      <td id=\"T_12c32_row9_col28\" class=\"data row9 col28\" >0.11</td>\n",
       "    </tr>\n",
       "    <tr>\n",
       "      <th id=\"T_12c32_level0_row10\" class=\"row_heading level0 row10\" >Wire 7</th>\n",
       "      <td id=\"T_12c32_row10_col0\" class=\"data row10 col0\" >0.04</td>\n",
       "      <td id=\"T_12c32_row10_col1\" class=\"data row10 col1\" >-0.14</td>\n",
       "      <td id=\"T_12c32_row10_col2\" class=\"data row10 col2\" >0.03</td>\n",
       "      <td id=\"T_12c32_row10_col3\" class=\"data row10 col3\" >0.07</td>\n",
       "      <td id=\"T_12c32_row10_col4\" class=\"data row10 col4\" >-0.07</td>\n",
       "      <td id=\"T_12c32_row10_col5\" class=\"data row10 col5\" >-0.02</td>\n",
       "      <td id=\"T_12c32_row10_col6\" class=\"data row10 col6\" >0.10</td>\n",
       "      <td id=\"T_12c32_row10_col7\" class=\"data row10 col7\" >0.60</td>\n",
       "      <td id=\"T_12c32_row10_col8\" class=\"data row10 col8\" >nan</td>\n",
       "      <td id=\"T_12c32_row10_col9\" class=\"data row10 col9\" >0.30</td>\n",
       "      <td id=\"T_12c32_row10_col10\" class=\"data row10 col10\" >1.00</td>\n",
       "      <td id=\"T_12c32_row10_col11\" class=\"data row10 col11\" >-0.00</td>\n",
       "      <td id=\"T_12c32_row10_col12\" class=\"data row10 col12\" >-0.00</td>\n",
       "      <td id=\"T_12c32_row10_col13\" class=\"data row10 col13\" >0.08</td>\n",
       "      <td id=\"T_12c32_row10_col14\" class=\"data row10 col14\" >0.43</td>\n",
       "      <td id=\"T_12c32_row10_col15\" class=\"data row10 col15\" >-0.02</td>\n",
       "      <td id=\"T_12c32_row10_col16\" class=\"data row10 col16\" >0.03</td>\n",
       "      <td id=\"T_12c32_row10_col17\" class=\"data row10 col17\" >0.17</td>\n",
       "      <td id=\"T_12c32_row10_col18\" class=\"data row10 col18\" >-0.01</td>\n",
       "      <td id=\"T_12c32_row10_col19\" class=\"data row10 col19\" >0.37</td>\n",
       "      <td id=\"T_12c32_row10_col20\" class=\"data row10 col20\" >-0.00</td>\n",
       "      <td id=\"T_12c32_row10_col21\" class=\"data row10 col21\" >-0.00</td>\n",
       "      <td id=\"T_12c32_row10_col22\" class=\"data row10 col22\" >-0.01</td>\n",
       "      <td id=\"T_12c32_row10_col23\" class=\"data row10 col23\" >-0.01</td>\n",
       "      <td id=\"T_12c32_row10_col24\" class=\"data row10 col24\" >-0.04</td>\n",
       "      <td id=\"T_12c32_row10_col25\" class=\"data row10 col25\" >-0.00</td>\n",
       "      <td id=\"T_12c32_row10_col26\" class=\"data row10 col26\" >-0.06</td>\n",
       "      <td id=\"T_12c32_row10_col27\" class=\"data row10 col27\" >-0.04</td>\n",
       "      <td id=\"T_12c32_row10_col28\" class=\"data row10 col28\" >0.08</td>\n",
       "    </tr>\n",
       "    <tr>\n",
       "      <th id=\"T_12c32_level0_row11\" class=\"row_heading level0 row11\" >Wire 8</th>\n",
       "      <td id=\"T_12c32_row11_col0\" class=\"data row11 col0\" >-0.02</td>\n",
       "      <td id=\"T_12c32_row11_col1\" class=\"data row11 col1\" >-0.01</td>\n",
       "      <td id=\"T_12c32_row11_col2\" class=\"data row11 col2\" >0.03</td>\n",
       "      <td id=\"T_12c32_row11_col3\" class=\"data row11 col3\" >0.04</td>\n",
       "      <td id=\"T_12c32_row11_col4\" class=\"data row11 col4\" >0.02</td>\n",
       "      <td id=\"T_12c32_row11_col5\" class=\"data row11 col5\" >0.07</td>\n",
       "      <td id=\"T_12c32_row11_col6\" class=\"data row11 col6\" >-0.01</td>\n",
       "      <td id=\"T_12c32_row11_col7\" class=\"data row11 col7\" >-0.00</td>\n",
       "      <td id=\"T_12c32_row11_col8\" class=\"data row11 col8\" >nan</td>\n",
       "      <td id=\"T_12c32_row11_col9\" class=\"data row11 col9\" >-0.01</td>\n",
       "      <td id=\"T_12c32_row11_col10\" class=\"data row11 col10\" >-0.00</td>\n",
       "      <td id=\"T_12c32_row11_col11\" class=\"data row11 col11\" >1.00</td>\n",
       "      <td id=\"T_12c32_row11_col12\" class=\"data row11 col12\" >-0.01</td>\n",
       "      <td id=\"T_12c32_row11_col13\" class=\"data row11 col13\" >-0.02</td>\n",
       "      <td id=\"T_12c32_row11_col14\" class=\"data row11 col14\" >-0.01</td>\n",
       "      <td id=\"T_12c32_row11_col15\" class=\"data row11 col15\" >0.00</td>\n",
       "      <td id=\"T_12c32_row11_col16\" class=\"data row11 col16\" >0.01</td>\n",
       "      <td id=\"T_12c32_row11_col17\" class=\"data row11 col17\" >-0.01</td>\n",
       "      <td id=\"T_12c32_row11_col18\" class=\"data row11 col18\" >-0.03</td>\n",
       "      <td id=\"T_12c32_row11_col19\" class=\"data row11 col19\" >-0.00</td>\n",
       "      <td id=\"T_12c32_row11_col20\" class=\"data row11 col20\" >0.32</td>\n",
       "      <td id=\"T_12c32_row11_col21\" class=\"data row11 col21\" >0.97</td>\n",
       "      <td id=\"T_12c32_row11_col22\" class=\"data row11 col22\" >-0.02</td>\n",
       "      <td id=\"T_12c32_row11_col23\" class=\"data row11 col23\" >-0.01</td>\n",
       "      <td id=\"T_12c32_row11_col24\" class=\"data row11 col24\" >-0.06</td>\n",
       "      <td id=\"T_12c32_row11_col25\" class=\"data row11 col25\" >-0.01</td>\n",
       "      <td id=\"T_12c32_row11_col26\" class=\"data row11 col26\" >0.04</td>\n",
       "      <td id=\"T_12c32_row11_col27\" class=\"data row11 col27\" >-0.09</td>\n",
       "      <td id=\"T_12c32_row11_col28\" class=\"data row11 col28\" >0.12</td>\n",
       "    </tr>\n",
       "    <tr>\n",
       "      <th id=\"T_12c32_level0_row12\" class=\"row_heading level0 row12\" >Wire 9</th>\n",
       "      <td id=\"T_12c32_row12_col0\" class=\"data row12 col0\" >0.00</td>\n",
       "      <td id=\"T_12c32_row12_col1\" class=\"data row12 col1\" >-0.03</td>\n",
       "      <td id=\"T_12c32_row12_col2\" class=\"data row12 col2\" >-0.01</td>\n",
       "      <td id=\"T_12c32_row12_col3\" class=\"data row12 col3\" >-0.02</td>\n",
       "      <td id=\"T_12c32_row12_col4\" class=\"data row12 col4\" >0.02</td>\n",
       "      <td id=\"T_12c32_row12_col5\" class=\"data row12 col5\" >0.21</td>\n",
       "      <td id=\"T_12c32_row12_col6\" class=\"data row12 col6\" >-0.01</td>\n",
       "      <td id=\"T_12c32_row12_col7\" class=\"data row12 col7\" >-0.01</td>\n",
       "      <td id=\"T_12c32_row12_col8\" class=\"data row12 col8\" >nan</td>\n",
       "      <td id=\"T_12c32_row12_col9\" class=\"data row12 col9\" >-0.01</td>\n",
       "      <td id=\"T_12c32_row12_col10\" class=\"data row12 col10\" >-0.00</td>\n",
       "      <td id=\"T_12c32_row12_col11\" class=\"data row12 col11\" >-0.01</td>\n",
       "      <td id=\"T_12c32_row12_col12\" class=\"data row12 col12\" >1.00</td>\n",
       "      <td id=\"T_12c32_row12_col13\" class=\"data row12 col13\" >0.01</td>\n",
       "      <td id=\"T_12c32_row12_col14\" class=\"data row12 col14\" >-0.01</td>\n",
       "      <td id=\"T_12c32_row12_col15\" class=\"data row12 col15\" >0.00</td>\n",
       "      <td id=\"T_12c32_row12_col16\" class=\"data row12 col16\" >-0.06</td>\n",
       "      <td id=\"T_12c32_row12_col17\" class=\"data row12 col17\" >-0.01</td>\n",
       "      <td id=\"T_12c32_row12_col18\" class=\"data row12 col18\" >-0.01</td>\n",
       "      <td id=\"T_12c32_row12_col19\" class=\"data row12 col19\" >-0.01</td>\n",
       "      <td id=\"T_12c32_row12_col20\" class=\"data row12 col20\" >-0.00</td>\n",
       "      <td id=\"T_12c32_row12_col21\" class=\"data row12 col21\" >-0.01</td>\n",
       "      <td id=\"T_12c32_row12_col22\" class=\"data row12 col22\" >-0.02</td>\n",
       "      <td id=\"T_12c32_row12_col23\" class=\"data row12 col23\" >-0.02</td>\n",
       "      <td id=\"T_12c32_row12_col24\" class=\"data row12 col24\" >-0.04</td>\n",
       "      <td id=\"T_12c32_row12_col25\" class=\"data row12 col25\" >-0.01</td>\n",
       "      <td id=\"T_12c32_row12_col26\" class=\"data row12 col26\" >0.02</td>\n",
       "      <td id=\"T_12c32_row12_col27\" class=\"data row12 col27\" >-0.04</td>\n",
       "      <td id=\"T_12c32_row12_col28\" class=\"data row12 col28\" >0.01</td>\n",
       "    </tr>\n",
       "    <tr>\n",
       "      <th id=\"T_12c32_level0_row13\" class=\"row_heading level0 row13\" >Bulk 1</th>\n",
       "      <td id=\"T_12c32_row13_col0\" class=\"data row13 col0\" >0.07</td>\n",
       "      <td id=\"T_12c32_row13_col1\" class=\"data row13 col1\" >-0.08</td>\n",
       "      <td id=\"T_12c32_row13_col2\" class=\"data row13 col2\" >0.09</td>\n",
       "      <td id=\"T_12c32_row13_col3\" class=\"data row13 col3\" >0.10</td>\n",
       "      <td id=\"T_12c32_row13_col4\" class=\"data row13 col4\" >0.01</td>\n",
       "      <td id=\"T_12c32_row13_col5\" class=\"data row13 col5\" >-0.01</td>\n",
       "      <td id=\"T_12c32_row13_col6\" class=\"data row13 col6\" >0.02</td>\n",
       "      <td id=\"T_12c32_row13_col7\" class=\"data row13 col7\" >0.15</td>\n",
       "      <td id=\"T_12c32_row13_col8\" class=\"data row13 col8\" >nan</td>\n",
       "      <td id=\"T_12c32_row13_col9\" class=\"data row13 col9\" >0.15</td>\n",
       "      <td id=\"T_12c32_row13_col10\" class=\"data row13 col10\" >0.08</td>\n",
       "      <td id=\"T_12c32_row13_col11\" class=\"data row13 col11\" >-0.02</td>\n",
       "      <td id=\"T_12c32_row13_col12\" class=\"data row13 col12\" >0.01</td>\n",
       "      <td id=\"T_12c32_row13_col13\" class=\"data row13 col13\" >1.00</td>\n",
       "      <td id=\"T_12c32_row13_col14\" class=\"data row13 col14\" >0.22</td>\n",
       "      <td id=\"T_12c32_row13_col15\" class=\"data row13 col15\" >-0.01</td>\n",
       "      <td id=\"T_12c32_row13_col16\" class=\"data row13 col16\" >0.04</td>\n",
       "      <td id=\"T_12c32_row13_col17\" class=\"data row13 col17\" >0.06</td>\n",
       "      <td id=\"T_12c32_row13_col18\" class=\"data row13 col18\" >-0.00</td>\n",
       "      <td id=\"T_12c32_row13_col19\" class=\"data row13 col19\" >0.24</td>\n",
       "      <td id=\"T_12c32_row13_col20\" class=\"data row13 col20\" >-0.01</td>\n",
       "      <td id=\"T_12c32_row13_col21\" class=\"data row13 col21\" >-0.02</td>\n",
       "      <td id=\"T_12c32_row13_col22\" class=\"data row13 col22\" >-0.02</td>\n",
       "      <td id=\"T_12c32_row13_col23\" class=\"data row13 col23\" >-0.04</td>\n",
       "      <td id=\"T_12c32_row13_col24\" class=\"data row13 col24\" >0.33</td>\n",
       "      <td id=\"T_12c32_row13_col25\" class=\"data row13 col25\" >-0.01</td>\n",
       "      <td id=\"T_12c32_row13_col26\" class=\"data row13 col26\" >0.21</td>\n",
       "      <td id=\"T_12c32_row13_col27\" class=\"data row13 col27\" >-0.00</td>\n",
       "      <td id=\"T_12c32_row13_col28\" class=\"data row13 col28\" >0.23</td>\n",
       "    </tr>\n",
       "    <tr>\n",
       "      <th id=\"T_12c32_level0_row14\" class=\"row_heading level0 row14\" >Bulk 2</th>\n",
       "      <td id=\"T_12c32_row14_col0\" class=\"data row14 col0\" >0.12</td>\n",
       "      <td id=\"T_12c32_row14_col1\" class=\"data row14 col1\" >-0.08</td>\n",
       "      <td id=\"T_12c32_row14_col2\" class=\"data row14 col2\" >0.04</td>\n",
       "      <td id=\"T_12c32_row14_col3\" class=\"data row14 col3\" >0.09</td>\n",
       "      <td id=\"T_12c32_row14_col4\" class=\"data row14 col4\" >-0.17</td>\n",
       "      <td id=\"T_12c32_row14_col5\" class=\"data row14 col5\" >-0.04</td>\n",
       "      <td id=\"T_12c32_row14_col6\" class=\"data row14 col6\" >0.22</td>\n",
       "      <td id=\"T_12c32_row14_col7\" class=\"data row14 col7\" >0.70</td>\n",
       "      <td id=\"T_12c32_row14_col8\" class=\"data row14 col8\" >nan</td>\n",
       "      <td id=\"T_12c32_row14_col9\" class=\"data row14 col9\" >0.56</td>\n",
       "      <td id=\"T_12c32_row14_col10\" class=\"data row14 col10\" >0.43</td>\n",
       "      <td id=\"T_12c32_row14_col11\" class=\"data row14 col11\" >-0.01</td>\n",
       "      <td id=\"T_12c32_row14_col12\" class=\"data row14 col12\" >-0.01</td>\n",
       "      <td id=\"T_12c32_row14_col13\" class=\"data row14 col13\" >0.22</td>\n",
       "      <td id=\"T_12c32_row14_col14\" class=\"data row14 col14\" >1.00</td>\n",
       "      <td id=\"T_12c32_row14_col15\" class=\"data row14 col15\" >-0.05</td>\n",
       "      <td id=\"T_12c32_row14_col16\" class=\"data row14 col16\" >0.04</td>\n",
       "      <td id=\"T_12c32_row14_col17\" class=\"data row14 col17\" >0.36</td>\n",
       "      <td id=\"T_12c32_row14_col18\" class=\"data row14 col18\" >-0.03</td>\n",
       "      <td id=\"T_12c32_row14_col19\" class=\"data row14 col19\" >0.68</td>\n",
       "      <td id=\"T_12c32_row14_col20\" class=\"data row14 col20\" >-0.00</td>\n",
       "      <td id=\"T_12c32_row14_col21\" class=\"data row14 col21\" >-0.01</td>\n",
       "      <td id=\"T_12c32_row14_col22\" class=\"data row14 col22\" >-0.02</td>\n",
       "      <td id=\"T_12c32_row14_col23\" class=\"data row14 col23\" >0.00</td>\n",
       "      <td id=\"T_12c32_row14_col24\" class=\"data row14 col24\" >-0.10</td>\n",
       "      <td id=\"T_12c32_row14_col25\" class=\"data row14 col25\" >-0.01</td>\n",
       "      <td id=\"T_12c32_row14_col26\" class=\"data row14 col26\" >-0.14</td>\n",
       "      <td id=\"T_12c32_row14_col27\" class=\"data row14 col27\" >-0.11</td>\n",
       "      <td id=\"T_12c32_row14_col28\" class=\"data row14 col28\" >0.22</td>\n",
       "    </tr>\n",
       "    <tr>\n",
       "      <th id=\"T_12c32_level0_row15\" class=\"row_heading level0 row15\" >Bulk 3</th>\n",
       "      <td id=\"T_12c32_row15_col0\" class=\"data row15 col0\" >-0.10</td>\n",
       "      <td id=\"T_12c32_row15_col1\" class=\"data row15 col1\" >-0.04</td>\n",
       "      <td id=\"T_12c32_row15_col2\" class=\"data row15 col2\" >0.10</td>\n",
       "      <td id=\"T_12c32_row15_col3\" class=\"data row15 col3\" >0.11</td>\n",
       "      <td id=\"T_12c32_row15_col4\" class=\"data row15 col4\" >0.04</td>\n",
       "      <td id=\"T_12c32_row15_col5\" class=\"data row15 col5\" >0.10</td>\n",
       "      <td id=\"T_12c32_row15_col6\" class=\"data row15 col6\" >0.01</td>\n",
       "      <td id=\"T_12c32_row15_col7\" class=\"data row15 col7\" >-0.04</td>\n",
       "      <td id=\"T_12c32_row15_col8\" class=\"data row15 col8\" >nan</td>\n",
       "      <td id=\"T_12c32_row15_col9\" class=\"data row15 col9\" >0.01</td>\n",
       "      <td id=\"T_12c32_row15_col10\" class=\"data row15 col10\" >-0.02</td>\n",
       "      <td id=\"T_12c32_row15_col11\" class=\"data row15 col11\" >0.00</td>\n",
       "      <td id=\"T_12c32_row15_col12\" class=\"data row15 col12\" >0.00</td>\n",
       "      <td id=\"T_12c32_row15_col13\" class=\"data row15 col13\" >-0.01</td>\n",
       "      <td id=\"T_12c32_row15_col14\" class=\"data row15 col14\" >-0.05</td>\n",
       "      <td id=\"T_12c32_row15_col15\" class=\"data row15 col15\" >1.00</td>\n",
       "      <td id=\"T_12c32_row15_col16\" class=\"data row15 col16\" >-0.30</td>\n",
       "      <td id=\"T_12c32_row15_col17\" class=\"data row15 col17\" >-0.01</td>\n",
       "      <td id=\"T_12c32_row15_col18\" class=\"data row15 col18\" >0.07</td>\n",
       "      <td id=\"T_12c32_row15_col19\" class=\"data row15 col19\" >-0.03</td>\n",
       "      <td id=\"T_12c32_row15_col20\" class=\"data row15 col20\" >0.02</td>\n",
       "      <td id=\"T_12c32_row15_col21\" class=\"data row15 col21\" >0.01</td>\n",
       "      <td id=\"T_12c32_row15_col22\" class=\"data row15 col22\" >-0.09</td>\n",
       "      <td id=\"T_12c32_row15_col23\" class=\"data row15 col23\" >-0.01</td>\n",
       "      <td id=\"T_12c32_row15_col24\" class=\"data row15 col24\" >0.02</td>\n",
       "      <td id=\"T_12c32_row15_col25\" class=\"data row15 col25\" >-0.01</td>\n",
       "      <td id=\"T_12c32_row15_col26\" class=\"data row15 col26\" >0.01</td>\n",
       "      <td id=\"T_12c32_row15_col27\" class=\"data row15 col27\" >-0.01</td>\n",
       "      <td id=\"T_12c32_row15_col28\" class=\"data row15 col28\" >0.06</td>\n",
       "    </tr>\n",
       "    <tr>\n",
       "      <th id=\"T_12c32_level0_row16\" class=\"row_heading level0 row16\" >Bulk 4</th>\n",
       "      <td id=\"T_12c32_row16_col0\" class=\"data row16 col0\" >0.14</td>\n",
       "      <td id=\"T_12c32_row16_col1\" class=\"data row16 col1\" >0.19</td>\n",
       "      <td id=\"T_12c32_row16_col2\" class=\"data row16 col2\" >-0.03</td>\n",
       "      <td id=\"T_12c32_row16_col3\" class=\"data row16 col3\" >-0.00</td>\n",
       "      <td id=\"T_12c32_row16_col4\" class=\"data row16 col4\" >0.30</td>\n",
       "      <td id=\"T_12c32_row16_col5\" class=\"data row16 col5\" >-0.27</td>\n",
       "      <td id=\"T_12c32_row16_col6\" class=\"data row16 col6\" >-0.04</td>\n",
       "      <td id=\"T_12c32_row16_col7\" class=\"data row16 col7\" >0.03</td>\n",
       "      <td id=\"T_12c32_row16_col8\" class=\"data row16 col8\" >nan</td>\n",
       "      <td id=\"T_12c32_row16_col9\" class=\"data row16 col9\" >-0.01</td>\n",
       "      <td id=\"T_12c32_row16_col10\" class=\"data row16 col10\" >0.03</td>\n",
       "      <td id=\"T_12c32_row16_col11\" class=\"data row16 col11\" >0.01</td>\n",
       "      <td id=\"T_12c32_row16_col12\" class=\"data row16 col12\" >-0.06</td>\n",
       "      <td id=\"T_12c32_row16_col13\" class=\"data row16 col13\" >0.04</td>\n",
       "      <td id=\"T_12c32_row16_col14\" class=\"data row16 col14\" >0.04</td>\n",
       "      <td id=\"T_12c32_row16_col15\" class=\"data row16 col15\" >-0.30</td>\n",
       "      <td id=\"T_12c32_row16_col16\" class=\"data row16 col16\" >1.00</td>\n",
       "      <td id=\"T_12c32_row16_col17\" class=\"data row16 col17\" >0.03</td>\n",
       "      <td id=\"T_12c32_row16_col18\" class=\"data row16 col18\" >-0.25</td>\n",
       "      <td id=\"T_12c32_row16_col19\" class=\"data row16 col19\" >0.05</td>\n",
       "      <td id=\"T_12c32_row16_col20\" class=\"data row16 col20\" >-0.01</td>\n",
       "      <td id=\"T_12c32_row16_col21\" class=\"data row16 col21\" >-0.00</td>\n",
       "      <td id=\"T_12c32_row16_col22\" class=\"data row16 col22\" >-0.08</td>\n",
       "      <td id=\"T_12c32_row16_col23\" class=\"data row16 col23\" >-0.12</td>\n",
       "      <td id=\"T_12c32_row16_col24\" class=\"data row16 col24\" >0.11</td>\n",
       "      <td id=\"T_12c32_row16_col25\" class=\"data row16 col25\" >0.00</td>\n",
       "      <td id=\"T_12c32_row16_col26\" class=\"data row16 col26\" >-0.09</td>\n",
       "      <td id=\"T_12c32_row16_col27\" class=\"data row16 col27\" >0.10</td>\n",
       "      <td id=\"T_12c32_row16_col28\" class=\"data row16 col28\" >0.02</td>\n",
       "    </tr>\n",
       "    <tr>\n",
       "      <th id=\"T_12c32_level0_row17\" class=\"row_heading level0 row17\" >Bulk 5</th>\n",
       "      <td id=\"T_12c32_row17_col0\" class=\"data row17 col0\" >0.07</td>\n",
       "      <td id=\"T_12c32_row17_col1\" class=\"data row17 col1\" >-0.03</td>\n",
       "      <td id=\"T_12c32_row17_col2\" class=\"data row17 col2\" >0.01</td>\n",
       "      <td id=\"T_12c32_row17_col3\" class=\"data row17 col3\" >0.08</td>\n",
       "      <td id=\"T_12c32_row17_col4\" class=\"data row17 col4\" >-0.01</td>\n",
       "      <td id=\"T_12c32_row17_col5\" class=\"data row17 col5\" >-0.01</td>\n",
       "      <td id=\"T_12c32_row17_col6\" class=\"data row17 col6\" >0.07</td>\n",
       "      <td id=\"T_12c32_row17_col7\" class=\"data row17 col7\" >0.26</td>\n",
       "      <td id=\"T_12c32_row17_col8\" class=\"data row17 col8\" >nan</td>\n",
       "      <td id=\"T_12c32_row17_col9\" class=\"data row17 col9\" >0.20</td>\n",
       "      <td id=\"T_12c32_row17_col10\" class=\"data row17 col10\" >0.17</td>\n",
       "      <td id=\"T_12c32_row17_col11\" class=\"data row17 col11\" >-0.01</td>\n",
       "      <td id=\"T_12c32_row17_col12\" class=\"data row17 col12\" >-0.01</td>\n",
       "      <td id=\"T_12c32_row17_col13\" class=\"data row17 col13\" >0.06</td>\n",
       "      <td id=\"T_12c32_row17_col14\" class=\"data row17 col14\" >0.36</td>\n",
       "      <td id=\"T_12c32_row17_col15\" class=\"data row17 col15\" >-0.01</td>\n",
       "      <td id=\"T_12c32_row17_col16\" class=\"data row17 col16\" >0.03</td>\n",
       "      <td id=\"T_12c32_row17_col17\" class=\"data row17 col17\" >1.00</td>\n",
       "      <td id=\"T_12c32_row17_col18\" class=\"data row17 col18\" >-0.02</td>\n",
       "      <td id=\"T_12c32_row17_col19\" class=\"data row17 col19\" >0.29</td>\n",
       "      <td id=\"T_12c32_row17_col20\" class=\"data row17 col20\" >-0.00</td>\n",
       "      <td id=\"T_12c32_row17_col21\" class=\"data row17 col21\" >-0.01</td>\n",
       "      <td id=\"T_12c32_row17_col22\" class=\"data row17 col22\" >-0.03</td>\n",
       "      <td id=\"T_12c32_row17_col23\" class=\"data row17 col23\" >-0.02</td>\n",
       "      <td id=\"T_12c32_row17_col24\" class=\"data row17 col24\" >-0.07</td>\n",
       "      <td id=\"T_12c32_row17_col25\" class=\"data row17 col25\" >-0.01</td>\n",
       "      <td id=\"T_12c32_row17_col26\" class=\"data row17 col26\" >-0.07</td>\n",
       "      <td id=\"T_12c32_row17_col27\" class=\"data row17 col27\" >-0.07</td>\n",
       "      <td id=\"T_12c32_row17_col28\" class=\"data row17 col28\" >0.09</td>\n",
       "    </tr>\n",
       "    <tr>\n",
       "      <th id=\"T_12c32_level0_row18\" class=\"row_heading level0 row18\" >Bulk 6</th>\n",
       "      <td id=\"T_12c32_row18_col0\" class=\"data row18 col0\" >-0.10</td>\n",
       "      <td id=\"T_12c32_row18_col1\" class=\"data row18 col1\" >-0.18</td>\n",
       "      <td id=\"T_12c32_row18_col2\" class=\"data row18 col2\" >0.15</td>\n",
       "      <td id=\"T_12c32_row18_col3\" class=\"data row18 col3\" >0.15</td>\n",
       "      <td id=\"T_12c32_row18_col4\" class=\"data row18 col4\" >-0.24</td>\n",
       "      <td id=\"T_12c32_row18_col5\" class=\"data row18 col5\" >0.20</td>\n",
       "      <td id=\"T_12c32_row18_col6\" class=\"data row18 col6\" >-0.05</td>\n",
       "      <td id=\"T_12c32_row18_col7\" class=\"data row18 col7\" >-0.03</td>\n",
       "      <td id=\"T_12c32_row18_col8\" class=\"data row18 col8\" >nan</td>\n",
       "      <td id=\"T_12c32_row18_col9\" class=\"data row18 col9\" >-0.02</td>\n",
       "      <td id=\"T_12c32_row18_col10\" class=\"data row18 col10\" >-0.01</td>\n",
       "      <td id=\"T_12c32_row18_col11\" class=\"data row18 col11\" >-0.03</td>\n",
       "      <td id=\"T_12c32_row18_col12\" class=\"data row18 col12\" >-0.01</td>\n",
       "      <td id=\"T_12c32_row18_col13\" class=\"data row18 col13\" >-0.00</td>\n",
       "      <td id=\"T_12c32_row18_col14\" class=\"data row18 col14\" >-0.03</td>\n",
       "      <td id=\"T_12c32_row18_col15\" class=\"data row18 col15\" >0.07</td>\n",
       "      <td id=\"T_12c32_row18_col16\" class=\"data row18 col16\" >-0.25</td>\n",
       "      <td id=\"T_12c32_row18_col17\" class=\"data row18 col17\" >-0.02</td>\n",
       "      <td id=\"T_12c32_row18_col18\" class=\"data row18 col18\" >1.00</td>\n",
       "      <td id=\"T_12c32_row18_col19\" class=\"data row18 col19\" >-0.03</td>\n",
       "      <td id=\"T_12c32_row18_col20\" class=\"data row18 col20\" >-0.01</td>\n",
       "      <td id=\"T_12c32_row18_col21\" class=\"data row18 col21\" >-0.03</td>\n",
       "      <td id=\"T_12c32_row18_col22\" class=\"data row18 col22\" >-0.10</td>\n",
       "      <td id=\"T_12c32_row18_col23\" class=\"data row18 col23\" >0.20</td>\n",
       "      <td id=\"T_12c32_row18_col24\" class=\"data row18 col24\" >-0.11</td>\n",
       "      <td id=\"T_12c32_row18_col25\" class=\"data row18 col25\" >0.04</td>\n",
       "      <td id=\"T_12c32_row18_col26\" class=\"data row18 col26\" >0.18</td>\n",
       "      <td id=\"T_12c32_row18_col27\" class=\"data row18 col27\" >-0.11</td>\n",
       "      <td id=\"T_12c32_row18_col28\" class=\"data row18 col28\" >0.14</td>\n",
       "    </tr>\n",
       "    <tr>\n",
       "      <th id=\"T_12c32_level0_row19\" class=\"row_heading level0 row19\" >Bulk 7</th>\n",
       "      <td id=\"T_12c32_row19_col0\" class=\"data row19 col0\" >0.07</td>\n",
       "      <td id=\"T_12c32_row19_col1\" class=\"data row19 col1\" >-0.11</td>\n",
       "      <td id=\"T_12c32_row19_col2\" class=\"data row19 col2\" >0.09</td>\n",
       "      <td id=\"T_12c32_row19_col3\" class=\"data row19 col3\" >0.15</td>\n",
       "      <td id=\"T_12c32_row19_col4\" class=\"data row19 col4\" >-0.14</td>\n",
       "      <td id=\"T_12c32_row19_col5\" class=\"data row19 col5\" >-0.00</td>\n",
       "      <td id=\"T_12c32_row19_col6\" class=\"data row19 col6\" >0.16</td>\n",
       "      <td id=\"T_12c32_row19_col7\" class=\"data row19 col7\" >0.74</td>\n",
       "      <td id=\"T_12c32_row19_col8\" class=\"data row19 col8\" >nan</td>\n",
       "      <td id=\"T_12c32_row19_col9\" class=\"data row19 col9\" >0.46</td>\n",
       "      <td id=\"T_12c32_row19_col10\" class=\"data row19 col10\" >0.37</td>\n",
       "      <td id=\"T_12c32_row19_col11\" class=\"data row19 col11\" >-0.00</td>\n",
       "      <td id=\"T_12c32_row19_col12\" class=\"data row19 col12\" >-0.01</td>\n",
       "      <td id=\"T_12c32_row19_col13\" class=\"data row19 col13\" >0.24</td>\n",
       "      <td id=\"T_12c32_row19_col14\" class=\"data row19 col14\" >0.68</td>\n",
       "      <td id=\"T_12c32_row19_col15\" class=\"data row19 col15\" >-0.03</td>\n",
       "      <td id=\"T_12c32_row19_col16\" class=\"data row19 col16\" >0.05</td>\n",
       "      <td id=\"T_12c32_row19_col17\" class=\"data row19 col17\" >0.29</td>\n",
       "      <td id=\"T_12c32_row19_col18\" class=\"data row19 col18\" >-0.03</td>\n",
       "      <td id=\"T_12c32_row19_col19\" class=\"data row19 col19\" >1.00</td>\n",
       "      <td id=\"T_12c32_row19_col20\" class=\"data row19 col20\" >-0.00</td>\n",
       "      <td id=\"T_12c32_row19_col21\" class=\"data row19 col21\" >-0.00</td>\n",
       "      <td id=\"T_12c32_row19_col22\" class=\"data row19 col22\" >-0.02</td>\n",
       "      <td id=\"T_12c32_row19_col23\" class=\"data row19 col23\" >-0.00</td>\n",
       "      <td id=\"T_12c32_row19_col24\" class=\"data row19 col24\" >-0.02</td>\n",
       "      <td id=\"T_12c32_row19_col25\" class=\"data row19 col25\" >-0.00</td>\n",
       "      <td id=\"T_12c32_row19_col26\" class=\"data row19 col26\" >-0.08</td>\n",
       "      <td id=\"T_12c32_row19_col27\" class=\"data row19 col27\" >-0.09</td>\n",
       "      <td id=\"T_12c32_row19_col28\" class=\"data row19 col28\" >0.20</td>\n",
       "    </tr>\n",
       "    <tr>\n",
       "      <th id=\"T_12c32_level0_row20\" class=\"row_heading level0 row20\" >Bulk 8</th>\n",
       "      <td id=\"T_12c32_row20_col0\" class=\"data row20 col0\" >-0.01</td>\n",
       "      <td id=\"T_12c32_row20_col1\" class=\"data row20 col1\" >-0.03</td>\n",
       "      <td id=\"T_12c32_row20_col2\" class=\"data row20 col2\" >-0.01</td>\n",
       "      <td id=\"T_12c32_row20_col3\" class=\"data row20 col3\" >-0.01</td>\n",
       "      <td id=\"T_12c32_row20_col4\" class=\"data row20 col4\" >0.03</td>\n",
       "      <td id=\"T_12c32_row20_col5\" class=\"data row20 col5\" >0.02</td>\n",
       "      <td id=\"T_12c32_row20_col6\" class=\"data row20 col6\" >-0.00</td>\n",
       "      <td id=\"T_12c32_row20_col7\" class=\"data row20 col7\" >-0.00</td>\n",
       "      <td id=\"T_12c32_row20_col8\" class=\"data row20 col8\" >nan</td>\n",
       "      <td id=\"T_12c32_row20_col9\" class=\"data row20 col9\" >-0.00</td>\n",
       "      <td id=\"T_12c32_row20_col10\" class=\"data row20 col10\" >-0.00</td>\n",
       "      <td id=\"T_12c32_row20_col11\" class=\"data row20 col11\" >0.32</td>\n",
       "      <td id=\"T_12c32_row20_col12\" class=\"data row20 col12\" >-0.00</td>\n",
       "      <td id=\"T_12c32_row20_col13\" class=\"data row20 col13\" >-0.01</td>\n",
       "      <td id=\"T_12c32_row20_col14\" class=\"data row20 col14\" >-0.00</td>\n",
       "      <td id=\"T_12c32_row20_col15\" class=\"data row20 col15\" >0.02</td>\n",
       "      <td id=\"T_12c32_row20_col16\" class=\"data row20 col16\" >-0.01</td>\n",
       "      <td id=\"T_12c32_row20_col17\" class=\"data row20 col17\" >-0.00</td>\n",
       "      <td id=\"T_12c32_row20_col18\" class=\"data row20 col18\" >-0.01</td>\n",
       "      <td id=\"T_12c32_row20_col19\" class=\"data row20 col19\" >-0.00</td>\n",
       "      <td id=\"T_12c32_row20_col20\" class=\"data row20 col20\" >1.00</td>\n",
       "      <td id=\"T_12c32_row20_col21\" class=\"data row20 col21\" >0.49</td>\n",
       "      <td id=\"T_12c32_row20_col22\" class=\"data row20 col22\" >-0.01</td>\n",
       "      <td id=\"T_12c32_row20_col23\" class=\"data row20 col23\" >-0.00</td>\n",
       "      <td id=\"T_12c32_row20_col24\" class=\"data row20 col24\" >-0.03</td>\n",
       "      <td id=\"T_12c32_row20_col25\" class=\"data row20 col25\" >-0.00</td>\n",
       "      <td id=\"T_12c32_row20_col26\" class=\"data row20 col26\" >-0.04</td>\n",
       "      <td id=\"T_12c32_row20_col27\" class=\"data row20 col27\" >-0.03</td>\n",
       "      <td id=\"T_12c32_row20_col28\" class=\"data row20 col28\" >0.00</td>\n",
       "    </tr>\n",
       "    <tr>\n",
       "      <th id=\"T_12c32_level0_row21\" class=\"row_heading level0 row21\" >Bulk 9</th>\n",
       "      <td id=\"T_12c32_row21_col0\" class=\"data row21 col0\" >-0.03</td>\n",
       "      <td id=\"T_12c32_row21_col1\" class=\"data row21 col1\" >-0.02</td>\n",
       "      <td id=\"T_12c32_row21_col2\" class=\"data row21 col2\" >0.02</td>\n",
       "      <td id=\"T_12c32_row21_col3\" class=\"data row21 col3\" >0.04</td>\n",
       "      <td id=\"T_12c32_row21_col4\" class=\"data row21 col4\" >0.02</td>\n",
       "      <td id=\"T_12c32_row21_col5\" class=\"data row21 col5\" >0.07</td>\n",
       "      <td id=\"T_12c32_row21_col6\" class=\"data row21 col6\" >-0.01</td>\n",
       "      <td id=\"T_12c32_row21_col7\" class=\"data row21 col7\" >-0.00</td>\n",
       "      <td id=\"T_12c32_row21_col8\" class=\"data row21 col8\" >nan</td>\n",
       "      <td id=\"T_12c32_row21_col9\" class=\"data row21 col9\" >-0.01</td>\n",
       "      <td id=\"T_12c32_row21_col10\" class=\"data row21 col10\" >-0.00</td>\n",
       "      <td id=\"T_12c32_row21_col11\" class=\"data row21 col11\" >0.97</td>\n",
       "      <td id=\"T_12c32_row21_col12\" class=\"data row21 col12\" >-0.01</td>\n",
       "      <td id=\"T_12c32_row21_col13\" class=\"data row21 col13\" >-0.02</td>\n",
       "      <td id=\"T_12c32_row21_col14\" class=\"data row21 col14\" >-0.01</td>\n",
       "      <td id=\"T_12c32_row21_col15\" class=\"data row21 col15\" >0.01</td>\n",
       "      <td id=\"T_12c32_row21_col16\" class=\"data row21 col16\" >-0.00</td>\n",
       "      <td id=\"T_12c32_row21_col17\" class=\"data row21 col17\" >-0.01</td>\n",
       "      <td id=\"T_12c32_row21_col18\" class=\"data row21 col18\" >-0.03</td>\n",
       "      <td id=\"T_12c32_row21_col19\" class=\"data row21 col19\" >-0.00</td>\n",
       "      <td id=\"T_12c32_row21_col20\" class=\"data row21 col20\" >0.49</td>\n",
       "      <td id=\"T_12c32_row21_col21\" class=\"data row21 col21\" >1.00</td>\n",
       "      <td id=\"T_12c32_row21_col22\" class=\"data row21 col22\" >-0.02</td>\n",
       "      <td id=\"T_12c32_row21_col23\" class=\"data row21 col23\" >-0.01</td>\n",
       "      <td id=\"T_12c32_row21_col24\" class=\"data row21 col24\" >-0.06</td>\n",
       "      <td id=\"T_12c32_row21_col25\" class=\"data row21 col25\" >-0.01</td>\n",
       "      <td id=\"T_12c32_row21_col26\" class=\"data row21 col26\" >0.04</td>\n",
       "      <td id=\"T_12c32_row21_col27\" class=\"data row21 col27\" >-0.09</td>\n",
       "      <td id=\"T_12c32_row21_col28\" class=\"data row21 col28\" >0.12</td>\n",
       "    </tr>\n",
       "    <tr>\n",
       "      <th id=\"T_12c32_level0_row22\" class=\"row_heading level0 row22\" >Bulk 10</th>\n",
       "      <td id=\"T_12c32_row22_col0\" class=\"data row22 col0\" >0.04</td>\n",
       "      <td id=\"T_12c32_row22_col1\" class=\"data row22 col1\" >0.06</td>\n",
       "      <td id=\"T_12c32_row22_col2\" class=\"data row22 col2\" >0.00</td>\n",
       "      <td id=\"T_12c32_row22_col3\" class=\"data row22 col3\" >0.01</td>\n",
       "      <td id=\"T_12c32_row22_col4\" class=\"data row22 col4\" >0.06</td>\n",
       "      <td id=\"T_12c32_row22_col5\" class=\"data row22 col5\" >-0.10</td>\n",
       "      <td id=\"T_12c32_row22_col6\" class=\"data row22 col6\" >-0.03</td>\n",
       "      <td id=\"T_12c32_row22_col7\" class=\"data row22 col7\" >-0.02</td>\n",
       "      <td id=\"T_12c32_row22_col8\" class=\"data row22 col8\" >nan</td>\n",
       "      <td id=\"T_12c32_row22_col9\" class=\"data row22 col9\" >-0.02</td>\n",
       "      <td id=\"T_12c32_row22_col10\" class=\"data row22 col10\" >-0.01</td>\n",
       "      <td id=\"T_12c32_row22_col11\" class=\"data row22 col11\" >-0.02</td>\n",
       "      <td id=\"T_12c32_row22_col12\" class=\"data row22 col12\" >-0.02</td>\n",
       "      <td id=\"T_12c32_row22_col13\" class=\"data row22 col13\" >-0.02</td>\n",
       "      <td id=\"T_12c32_row22_col14\" class=\"data row22 col14\" >-0.02</td>\n",
       "      <td id=\"T_12c32_row22_col15\" class=\"data row22 col15\" >-0.09</td>\n",
       "      <td id=\"T_12c32_row22_col16\" class=\"data row22 col16\" >-0.08</td>\n",
       "      <td id=\"T_12c32_row22_col17\" class=\"data row22 col17\" >-0.03</td>\n",
       "      <td id=\"T_12c32_row22_col18\" class=\"data row22 col18\" >-0.10</td>\n",
       "      <td id=\"T_12c32_row22_col19\" class=\"data row22 col19\" >-0.02</td>\n",
       "      <td id=\"T_12c32_row22_col20\" class=\"data row22 col20\" >-0.01</td>\n",
       "      <td id=\"T_12c32_row22_col21\" class=\"data row22 col21\" >-0.02</td>\n",
       "      <td id=\"T_12c32_row22_col22\" class=\"data row22 col22\" >1.00</td>\n",
       "      <td id=\"T_12c32_row22_col23\" class=\"data row22 col23\" >-0.05</td>\n",
       "      <td id=\"T_12c32_row22_col24\" class=\"data row22 col24\" >0.03</td>\n",
       "      <td id=\"T_12c32_row22_col25\" class=\"data row22 col25\" >-0.02</td>\n",
       "      <td id=\"T_12c32_row22_col26\" class=\"data row22 col26\" >-0.05</td>\n",
       "      <td id=\"T_12c32_row22_col27\" class=\"data row22 col27\" >0.05</td>\n",
       "      <td id=\"T_12c32_row22_col28\" class=\"data row22 col28\" >-0.01</td>\n",
       "    </tr>\n",
       "    <tr>\n",
       "      <th id=\"T_12c32_level0_row23\" class=\"row_heading level0 row23\" >Bulk 11</th>\n",
       "      <td id=\"T_12c32_row23_col0\" class=\"data row23 col0\" >-0.09</td>\n",
       "      <td id=\"T_12c32_row23_col1\" class=\"data row23 col1\" >-0.11</td>\n",
       "      <td id=\"T_12c32_row23_col2\" class=\"data row23 col2\" >0.07</td>\n",
       "      <td id=\"T_12c32_row23_col3\" class=\"data row23 col3\" >0.06</td>\n",
       "      <td id=\"T_12c32_row23_col4\" class=\"data row23 col4\" >-0.12</td>\n",
       "      <td id=\"T_12c32_row23_col5\" class=\"data row23 col5\" >0.06</td>\n",
       "      <td id=\"T_12c32_row23_col6\" class=\"data row23 col6\" >-0.02</td>\n",
       "      <td id=\"T_12c32_row23_col7\" class=\"data row23 col7\" >-0.01</td>\n",
       "      <td id=\"T_12c32_row23_col8\" class=\"data row23 col8\" >nan</td>\n",
       "      <td id=\"T_12c32_row23_col9\" class=\"data row23 col9\" >0.01</td>\n",
       "      <td id=\"T_12c32_row23_col10\" class=\"data row23 col10\" >-0.01</td>\n",
       "      <td id=\"T_12c32_row23_col11\" class=\"data row23 col11\" >-0.01</td>\n",
       "      <td id=\"T_12c32_row23_col12\" class=\"data row23 col12\" >-0.02</td>\n",
       "      <td id=\"T_12c32_row23_col13\" class=\"data row23 col13\" >-0.04</td>\n",
       "      <td id=\"T_12c32_row23_col14\" class=\"data row23 col14\" >0.00</td>\n",
       "      <td id=\"T_12c32_row23_col15\" class=\"data row23 col15\" >-0.01</td>\n",
       "      <td id=\"T_12c32_row23_col16\" class=\"data row23 col16\" >-0.12</td>\n",
       "      <td id=\"T_12c32_row23_col17\" class=\"data row23 col17\" >-0.02</td>\n",
       "      <td id=\"T_12c32_row23_col18\" class=\"data row23 col18\" >0.20</td>\n",
       "      <td id=\"T_12c32_row23_col19\" class=\"data row23 col19\" >-0.00</td>\n",
       "      <td id=\"T_12c32_row23_col20\" class=\"data row23 col20\" >-0.00</td>\n",
       "      <td id=\"T_12c32_row23_col21\" class=\"data row23 col21\" >-0.01</td>\n",
       "      <td id=\"T_12c32_row23_col22\" class=\"data row23 col22\" >-0.05</td>\n",
       "      <td id=\"T_12c32_row23_col23\" class=\"data row23 col23\" >1.00</td>\n",
       "      <td id=\"T_12c32_row23_col24\" class=\"data row23 col24\" >-0.04</td>\n",
       "      <td id=\"T_12c32_row23_col25\" class=\"data row23 col25\" >-0.01</td>\n",
       "      <td id=\"T_12c32_row23_col26\" class=\"data row23 col26\" >0.08</td>\n",
       "      <td id=\"T_12c32_row23_col27\" class=\"data row23 col27\" >-0.05</td>\n",
       "      <td id=\"T_12c32_row23_col28\" class=\"data row23 col28\" >0.04</td>\n",
       "    </tr>\n",
       "    <tr>\n",
       "      <th id=\"T_12c32_level0_row24\" class=\"row_heading level0 row24\" >Bulk 12</th>\n",
       "      <td id=\"T_12c32_row24_col0\" class=\"data row24 col0\" >-0.06</td>\n",
       "      <td id=\"T_12c32_row24_col1\" class=\"data row24 col1\" >0.27</td>\n",
       "      <td id=\"T_12c32_row24_col2\" class=\"data row24 col2\" >0.47</td>\n",
       "      <td id=\"T_12c32_row24_col3\" class=\"data row24 col3\" >0.31</td>\n",
       "      <td id=\"T_12c32_row24_col4\" class=\"data row24 col4\" >0.17</td>\n",
       "      <td id=\"T_12c32_row24_col5\" class=\"data row24 col5\" >-0.10</td>\n",
       "      <td id=\"T_12c32_row24_col6\" class=\"data row24 col6\" >-0.12</td>\n",
       "      <td id=\"T_12c32_row24_col7\" class=\"data row24 col7\" >-0.09</td>\n",
       "      <td id=\"T_12c32_row24_col8\" class=\"data row24 col8\" >nan</td>\n",
       "      <td id=\"T_12c32_row24_col9\" class=\"data row24 col9\" >-0.04</td>\n",
       "      <td id=\"T_12c32_row24_col10\" class=\"data row24 col10\" >-0.04</td>\n",
       "      <td id=\"T_12c32_row24_col11\" class=\"data row24 col11\" >-0.06</td>\n",
       "      <td id=\"T_12c32_row24_col12\" class=\"data row24 col12\" >-0.04</td>\n",
       "      <td id=\"T_12c32_row24_col13\" class=\"data row24 col13\" >0.33</td>\n",
       "      <td id=\"T_12c32_row24_col14\" class=\"data row24 col14\" >-0.10</td>\n",
       "      <td id=\"T_12c32_row24_col15\" class=\"data row24 col15\" >0.02</td>\n",
       "      <td id=\"T_12c32_row24_col16\" class=\"data row24 col16\" >0.11</td>\n",
       "      <td id=\"T_12c32_row24_col17\" class=\"data row24 col17\" >-0.07</td>\n",
       "      <td id=\"T_12c32_row24_col18\" class=\"data row24 col18\" >-0.11</td>\n",
       "      <td id=\"T_12c32_row24_col19\" class=\"data row24 col19\" >-0.02</td>\n",
       "      <td id=\"T_12c32_row24_col20\" class=\"data row24 col20\" >-0.03</td>\n",
       "      <td id=\"T_12c32_row24_col21\" class=\"data row24 col21\" >-0.06</td>\n",
       "      <td id=\"T_12c32_row24_col22\" class=\"data row24 col22\" >0.03</td>\n",
       "      <td id=\"T_12c32_row24_col23\" class=\"data row24 col23\" >-0.04</td>\n",
       "      <td id=\"T_12c32_row24_col24\" class=\"data row24 col24\" >1.00</td>\n",
       "      <td id=\"T_12c32_row24_col25\" class=\"data row24 col25\" >0.05</td>\n",
       "      <td id=\"T_12c32_row24_col26\" class=\"data row24 col26\" >0.48</td>\n",
       "      <td id=\"T_12c32_row24_col27\" class=\"data row24 col27\" >0.61</td>\n",
       "      <td id=\"T_12c32_row24_col28\" class=\"data row24 col28\" >0.22</td>\n",
       "    </tr>\n",
       "    <tr>\n",
       "      <th id=\"T_12c32_level0_row25\" class=\"row_heading level0 row25\" >Bulk 13</th>\n",
       "      <td id=\"T_12c32_row25_col0\" class=\"data row25 col0\" >0.02</td>\n",
       "      <td id=\"T_12c32_row25_col1\" class=\"data row25 col1\" >-0.01</td>\n",
       "      <td id=\"T_12c32_row25_col2\" class=\"data row25 col2\" >0.12</td>\n",
       "      <td id=\"T_12c32_row25_col3\" class=\"data row25 col3\" >0.12</td>\n",
       "      <td id=\"T_12c32_row25_col4\" class=\"data row25 col4\" >0.04</td>\n",
       "      <td id=\"T_12c32_row25_col5\" class=\"data row25 col5\" >-0.00</td>\n",
       "      <td id=\"T_12c32_row25_col6\" class=\"data row25 col6\" >-0.01</td>\n",
       "      <td id=\"T_12c32_row25_col7\" class=\"data row25 col7\" >-0.00</td>\n",
       "      <td id=\"T_12c32_row25_col8\" class=\"data row25 col8\" >nan</td>\n",
       "      <td id=\"T_12c32_row25_col9\" class=\"data row25 col9\" >-0.01</td>\n",
       "      <td id=\"T_12c32_row25_col10\" class=\"data row25 col10\" >-0.00</td>\n",
       "      <td id=\"T_12c32_row25_col11\" class=\"data row25 col11\" >-0.01</td>\n",
       "      <td id=\"T_12c32_row25_col12\" class=\"data row25 col12\" >-0.01</td>\n",
       "      <td id=\"T_12c32_row25_col13\" class=\"data row25 col13\" >-0.01</td>\n",
       "      <td id=\"T_12c32_row25_col14\" class=\"data row25 col14\" >-0.01</td>\n",
       "      <td id=\"T_12c32_row25_col15\" class=\"data row25 col15\" >-0.01</td>\n",
       "      <td id=\"T_12c32_row25_col16\" class=\"data row25 col16\" >0.00</td>\n",
       "      <td id=\"T_12c32_row25_col17\" class=\"data row25 col17\" >-0.01</td>\n",
       "      <td id=\"T_12c32_row25_col18\" class=\"data row25 col18\" >0.04</td>\n",
       "      <td id=\"T_12c32_row25_col19\" class=\"data row25 col19\" >-0.00</td>\n",
       "      <td id=\"T_12c32_row25_col20\" class=\"data row25 col20\" >-0.00</td>\n",
       "      <td id=\"T_12c32_row25_col21\" class=\"data row25 col21\" >-0.01</td>\n",
       "      <td id=\"T_12c32_row25_col22\" class=\"data row25 col22\" >-0.02</td>\n",
       "      <td id=\"T_12c32_row25_col23\" class=\"data row25 col23\" >-0.01</td>\n",
       "      <td id=\"T_12c32_row25_col24\" class=\"data row25 col24\" >0.05</td>\n",
       "      <td id=\"T_12c32_row25_col25\" class=\"data row25 col25\" >1.00</td>\n",
       "      <td id=\"T_12c32_row25_col26\" class=\"data row25 col26\" >-0.08</td>\n",
       "      <td id=\"T_12c32_row25_col27\" class=\"data row25 col27\" >0.02</td>\n",
       "      <td id=\"T_12c32_row25_col28\" class=\"data row25 col28\" >0.05</td>\n",
       "    </tr>\n",
       "    <tr>\n",
       "      <th id=\"T_12c32_level0_row26\" class=\"row_heading level0 row26\" >Bulk 14</th>\n",
       "      <td id=\"T_12c32_row26_col0\" class=\"data row26 col0\" >-0.13</td>\n",
       "      <td id=\"T_12c32_row26_col1\" class=\"data row26 col1\" >0.11</td>\n",
       "      <td id=\"T_12c32_row26_col2\" class=\"data row26 col2\" >0.46</td>\n",
       "      <td id=\"T_12c32_row26_col3\" class=\"data row26 col3\" >0.33</td>\n",
       "      <td id=\"T_12c32_row26_col4\" class=\"data row26 col4\" >-0.05</td>\n",
       "      <td id=\"T_12c32_row26_col5\" class=\"data row26 col5\" >0.04</td>\n",
       "      <td id=\"T_12c32_row26_col6\" class=\"data row26 col6\" >-0.01</td>\n",
       "      <td id=\"T_12c32_row26_col7\" class=\"data row26 col7\" >-0.12</td>\n",
       "      <td id=\"T_12c32_row26_col8\" class=\"data row26 col8\" >nan</td>\n",
       "      <td id=\"T_12c32_row26_col9\" class=\"data row26 col9\" >-0.05</td>\n",
       "      <td id=\"T_12c32_row26_col10\" class=\"data row26 col10\" >-0.06</td>\n",
       "      <td id=\"T_12c32_row26_col11\" class=\"data row26 col11\" >0.04</td>\n",
       "      <td id=\"T_12c32_row26_col12\" class=\"data row26 col12\" >0.02</td>\n",
       "      <td id=\"T_12c32_row26_col13\" class=\"data row26 col13\" >0.21</td>\n",
       "      <td id=\"T_12c32_row26_col14\" class=\"data row26 col14\" >-0.14</td>\n",
       "      <td id=\"T_12c32_row26_col15\" class=\"data row26 col15\" >0.01</td>\n",
       "      <td id=\"T_12c32_row26_col16\" class=\"data row26 col16\" >-0.09</td>\n",
       "      <td id=\"T_12c32_row26_col17\" class=\"data row26 col17\" >-0.07</td>\n",
       "      <td id=\"T_12c32_row26_col18\" class=\"data row26 col18\" >0.18</td>\n",
       "      <td id=\"T_12c32_row26_col19\" class=\"data row26 col19\" >-0.08</td>\n",
       "      <td id=\"T_12c32_row26_col20\" class=\"data row26 col20\" >-0.04</td>\n",
       "      <td id=\"T_12c32_row26_col21\" class=\"data row26 col21\" >0.04</td>\n",
       "      <td id=\"T_12c32_row26_col22\" class=\"data row26 col22\" >-0.05</td>\n",
       "      <td id=\"T_12c32_row26_col23\" class=\"data row26 col23\" >0.08</td>\n",
       "      <td id=\"T_12c32_row26_col24\" class=\"data row26 col24\" >0.48</td>\n",
       "      <td id=\"T_12c32_row26_col25\" class=\"data row26 col25\" >-0.08</td>\n",
       "      <td id=\"T_12c32_row26_col26\" class=\"data row26 col26\" >1.00</td>\n",
       "      <td id=\"T_12c32_row26_col27\" class=\"data row26 col27\" >0.27</td>\n",
       "      <td id=\"T_12c32_row26_col28\" class=\"data row26 col28\" >0.27</td>\n",
       "    </tr>\n",
       "    <tr>\n",
       "      <th id=\"T_12c32_level0_row27\" class=\"row_heading level0 row27\" >Bulk 15</th>\n",
       "      <td id=\"T_12c32_row27_col0\" class=\"data row27 col0\" >-0.04</td>\n",
       "      <td id=\"T_12c32_row27_col1\" class=\"data row27 col1\" >0.27</td>\n",
       "      <td id=\"T_12c32_row27_col2\" class=\"data row27 col2\" >0.32</td>\n",
       "      <td id=\"T_12c32_row27_col3\" class=\"data row27 col3\" >0.18</td>\n",
       "      <td id=\"T_12c32_row27_col4\" class=\"data row27 col4\" >0.12</td>\n",
       "      <td id=\"T_12c32_row27_col5\" class=\"data row27 col5\" >-0.10</td>\n",
       "      <td id=\"T_12c32_row27_col6\" class=\"data row27 col6\" >-0.12</td>\n",
       "      <td id=\"T_12c32_row27_col7\" class=\"data row27 col7\" >-0.09</td>\n",
       "      <td id=\"T_12c32_row27_col8\" class=\"data row27 col8\" >nan</td>\n",
       "      <td id=\"T_12c32_row27_col9\" class=\"data row27 col9\" >-0.03</td>\n",
       "      <td id=\"T_12c32_row27_col10\" class=\"data row27 col10\" >-0.04</td>\n",
       "      <td id=\"T_12c32_row27_col11\" class=\"data row27 col11\" >-0.09</td>\n",
       "      <td id=\"T_12c32_row27_col12\" class=\"data row27 col12\" >-0.04</td>\n",
       "      <td id=\"T_12c32_row27_col13\" class=\"data row27 col13\" >-0.00</td>\n",
       "      <td id=\"T_12c32_row27_col14\" class=\"data row27 col14\" >-0.11</td>\n",
       "      <td id=\"T_12c32_row27_col15\" class=\"data row27 col15\" >-0.01</td>\n",
       "      <td id=\"T_12c32_row27_col16\" class=\"data row27 col16\" >0.10</td>\n",
       "      <td id=\"T_12c32_row27_col17\" class=\"data row27 col17\" >-0.07</td>\n",
       "      <td id=\"T_12c32_row27_col18\" class=\"data row27 col18\" >-0.11</td>\n",
       "      <td id=\"T_12c32_row27_col19\" class=\"data row27 col19\" >-0.09</td>\n",
       "      <td id=\"T_12c32_row27_col20\" class=\"data row27 col20\" >-0.03</td>\n",
       "      <td id=\"T_12c32_row27_col21\" class=\"data row27 col21\" >-0.09</td>\n",
       "      <td id=\"T_12c32_row27_col22\" class=\"data row27 col22\" >0.05</td>\n",
       "      <td id=\"T_12c32_row27_col23\" class=\"data row27 col23\" >-0.05</td>\n",
       "      <td id=\"T_12c32_row27_col24\" class=\"data row27 col24\" >0.61</td>\n",
       "      <td id=\"T_12c32_row27_col25\" class=\"data row27 col25\" >0.02</td>\n",
       "      <td id=\"T_12c32_row27_col26\" class=\"data row27 col26\" >0.27</td>\n",
       "      <td id=\"T_12c32_row27_col27\" class=\"data row27 col27\" >1.00</td>\n",
       "      <td id=\"T_12c32_row27_col28\" class=\"data row27 col28\" >0.04</td>\n",
       "    </tr>\n",
       "    <tr>\n",
       "      <th id=\"T_12c32_level0_row28\" class=\"row_heading level0 row28\" >Gas</th>\n",
       "      <td id=\"T_12c32_row28_col0\" class=\"data row28 col0\" >0.04</td>\n",
       "      <td id=\"T_12c32_row28_col1\" class=\"data row28 col1\" >0.06</td>\n",
       "      <td id=\"T_12c32_row28_col2\" class=\"data row28 col2\" >0.37</td>\n",
       "      <td id=\"T_12c32_row28_col3\" class=\"data row28 col3\" >0.40</td>\n",
       "      <td id=\"T_12c32_row28_col4\" class=\"data row28 col4\" >0.12</td>\n",
       "      <td id=\"T_12c32_row28_col5\" class=\"data row28 col5\" >0.10</td>\n",
       "      <td id=\"T_12c32_row28_col6\" class=\"data row28 col6\" >0.10</td>\n",
       "      <td id=\"T_12c32_row28_col7\" class=\"data row28 col7\" >0.15</td>\n",
       "      <td id=\"T_12c32_row28_col8\" class=\"data row28 col8\" >nan</td>\n",
       "      <td id=\"T_12c32_row28_col9\" class=\"data row28 col9\" >0.11</td>\n",
       "      <td id=\"T_12c32_row28_col10\" class=\"data row28 col10\" >0.08</td>\n",
       "      <td id=\"T_12c32_row28_col11\" class=\"data row28 col11\" >0.12</td>\n",
       "      <td id=\"T_12c32_row28_col12\" class=\"data row28 col12\" >0.01</td>\n",
       "      <td id=\"T_12c32_row28_col13\" class=\"data row28 col13\" >0.23</td>\n",
       "      <td id=\"T_12c32_row28_col14\" class=\"data row28 col14\" >0.22</td>\n",
       "      <td id=\"T_12c32_row28_col15\" class=\"data row28 col15\" >0.06</td>\n",
       "      <td id=\"T_12c32_row28_col16\" class=\"data row28 col16\" >0.02</td>\n",
       "      <td id=\"T_12c32_row28_col17\" class=\"data row28 col17\" >0.09</td>\n",
       "      <td id=\"T_12c32_row28_col18\" class=\"data row28 col18\" >0.14</td>\n",
       "      <td id=\"T_12c32_row28_col19\" class=\"data row28 col19\" >0.20</td>\n",
       "      <td id=\"T_12c32_row28_col20\" class=\"data row28 col20\" >0.00</td>\n",
       "      <td id=\"T_12c32_row28_col21\" class=\"data row28 col21\" >0.12</td>\n",
       "      <td id=\"T_12c32_row28_col22\" class=\"data row28 col22\" >-0.01</td>\n",
       "      <td id=\"T_12c32_row28_col23\" class=\"data row28 col23\" >0.04</td>\n",
       "      <td id=\"T_12c32_row28_col24\" class=\"data row28 col24\" >0.22</td>\n",
       "      <td id=\"T_12c32_row28_col25\" class=\"data row28 col25\" >0.05</td>\n",
       "      <td id=\"T_12c32_row28_col26\" class=\"data row28 col26\" >0.27</td>\n",
       "      <td id=\"T_12c32_row28_col27\" class=\"data row28 col27\" >0.04</td>\n",
       "      <td id=\"T_12c32_row28_col28\" class=\"data row28 col28\" >1.00</td>\n",
       "    </tr>\n",
       "  </tbody>\n",
       "</table>\n"
      ],
      "text/plain": [
       "<pandas.io.formats.style.Styler at 0x1b581432b20>"
      ]
     },
     "execution_count": 42,
     "metadata": {},
     "output_type": "execute_result"
    }
   ],
   "source": [
    "data.corr().style.background_gradient(cmap='coolwarm').set_precision(2)"
   ]
  },
  {
   "cell_type": "code",
   "execution_count": 43,
   "metadata": {},
   "outputs": [],
   "source": [
    "# Очень большая корреляция у 'Wire 8' и 'Bulk 9' поэтому уберём 'Wire 8'\n",
    "data = data.drop('Wire 8', axis=1)"
   ]
  },
  {
   "cell_type": "markdown",
   "metadata": {},
   "source": [
    "### Делим на выборки"
   ]
  },
  {
   "cell_type": "code",
   "execution_count": 44,
   "metadata": {},
   "outputs": [],
   "source": [
    "#Разделим нашу таблицу на тестовую и обучающие выборки\n",
    "train, test = train_test_split(data, test_size = 0.25, random_state = rds)"
   ]
  },
  {
   "cell_type": "code",
   "execution_count": 45,
   "metadata": {},
   "outputs": [],
   "source": [
    "#Масштабируем количественные признаки\n",
    "numeric = data.columns.tolist()\n",
    "numeric = [i for i in numeric if i not in ('Last_temp')]\n",
    "# scaler = StandardScaler()\n",
    "scaler = MinMaxScaler()\n",
    "scaler.fit(train[numeric])\n",
    "\n",
    "# масштабируем обучающую выборку\n",
    "train[numeric] = scaler.transform(train[numeric])\n",
    "\n",
    "# масштабируем тестовую выборку\n",
    "test[numeric] = scaler.transform(test[numeric])"
   ]
  },
  {
   "cell_type": "code",
   "execution_count": 46,
   "metadata": {},
   "outputs": [
    {
     "name": "stdout",
     "output_type": "stream",
     "text": [
      "(1746, 28)\n",
      "(583, 28)\n"
     ]
    }
   ],
   "source": [
    "print(train.shape)\n",
    "print(test.shape)"
   ]
  },
  {
   "cell_type": "code",
   "execution_count": 47,
   "metadata": {},
   "outputs": [],
   "source": [
    "# Определим target и features для обучающей выборки\n",
    "features_train = train.drop(['Last_temp'], axis = 1)\n",
    "target_train = train['Last_temp']\n",
    "\n",
    "# Определим target и features для тестовой выборки\n",
    "features_test = test.drop(['Last_temp'], axis = 1)\n",
    "target_test = test['Last_temp']"
   ]
  },
  {
   "cell_type": "markdown",
   "metadata": {},
   "source": [
    "## Обучаем модель"
   ]
  },
  {
   "cell_type": "markdown",
   "metadata": {},
   "source": [
    "### Функция"
   ]
  },
  {
   "cell_type": "code",
   "execution_count": 48,
   "metadata": {},
   "outputs": [],
   "source": [
    "# Напишим функцию, которая будет с помощью GridSearchCV искать лучшие параметры \n",
    "# обращаясь по ключу к моделям и соответсвующим параметрам\n",
    "\n",
    "def models_results():\n",
    "    for model_key in models.keys():\n",
    "            grid = GridSearchCV(models[model_key], parameters[model_key], scoring='neg_mean_absolute_error', cv=10)\n",
    "            try:\n",
    "                grid.fit(features_train, target_train, verbose_eval=100)\n",
    "            except:\n",
    "                grid.fit(features_train, target_train)\n",
    "            \n",
    "            result_list.append({\n",
    "                'model': model_key,\n",
    "                'train_mae_score': grid.best_score_,\n",
    "                'best_params': grid.best_params_\n",
    "            })"
   ]
  },
  {
   "cell_type": "code",
   "execution_count": 49,
   "metadata": {},
   "outputs": [],
   "source": [
    "models = {\n",
    "    'CatBoostRegressor': CatBoostRegressor(),\n",
    "    'LGBMRegressor': lgb.LGBMRegressor(),\n",
    "    'LinearRegression': LinearRegression()\n",
    "}\n",
    "\n",
    "parameters = {\n",
    "    'LinearRegression': {\n",
    "        'fit_intercept': [True],\n",
    "        'normalize': [True]\n",
    "    },\n",
    "    \n",
    "    \n",
    "    'LGBMRegressor': {\n",
    "        'max_depth': np.arange(2, 11, 2),\n",
    "        'n_estimators': np.arange(100, 501, 100),\n",
    "        'learning_rate': np.arange(0.01, 0.1, 0.01),\n",
    "        'random_state': [rds], \n",
    "        'metric': ['mae']\n",
    "    },\n",
    "    \n",
    "    \n",
    "    'CatBoostRegressor': {\n",
    "        'depth': [6],\n",
    "        'n_estimators': [1000],\n",
    "        'learning_rate': [0.02],\n",
    "        'random_state': [rds],\n",
    "        'loss_function': ['MAE']\n",
    "    }\n",
    "}"
   ]
  },
  {
   "cell_type": "markdown",
   "metadata": {},
   "source": [
    "**Примечание:**\n",
    "\n",
    "Модель `CatBoostRegressor` обучалась очень долго(`Wall time: 3h 52min 7s`), поэтому я оставил лучшие гиперпарамерты.\n",
    "\n",
    "Раньше код был таким:\n",
    "```python\n",
    "    'CatBoostRegressor': {\n",
    "        'depth': np.arange(2, 12, 2),\n",
    "        'n_estimators': np.arange(100, 1001, 100),  \n",
    "        'learning_rate': np.arange(0.02, 0.12, 0.01),\n",
    "        'random_state': [rds],\n",
    "        'loss_function': ['MAE']\n",
    "    }\n",
    "        \n",
    "```"
   ]
  },
  {
   "cell_type": "markdown",
   "metadata": {},
   "source": [
    "### Запуск функции"
   ]
  },
  {
   "cell_type": "code",
   "execution_count": 50,
   "metadata": {
    "scrolled": true
   },
   "outputs": [
    {
     "name": "stdout",
     "output_type": "stream",
     "text": [
      "0:\tlearn: 7.7991079\ttotal: 122ms\tremaining: 2m 1s\n",
      "100:\tlearn: 5.7980545\ttotal: 281ms\tremaining: 2.5s\n",
      "200:\tlearn: 5.1861488\ttotal: 425ms\tremaining: 1.69s\n",
      "300:\tlearn: 4.8573182\ttotal: 563ms\tremaining: 1.31s\n",
      "400:\tlearn: 4.6088116\ttotal: 709ms\tremaining: 1.06s\n",
      "500:\tlearn: 4.3777507\ttotal: 847ms\tremaining: 844ms\n",
      "600:\tlearn: 4.1803019\ttotal: 992ms\tremaining: 659ms\n",
      "700:\tlearn: 4.0142307\ttotal: 1.15s\tremaining: 490ms\n",
      "800:\tlearn: 3.8953820\ttotal: 1.3s\tremaining: 323ms\n",
      "900:\tlearn: 3.7845849\ttotal: 1.46s\tremaining: 160ms\n",
      "999:\tlearn: 3.6857090\ttotal: 1.63s\tremaining: 0us\n",
      "0:\tlearn: 7.8875356\ttotal: 1.95ms\tremaining: 1.95s\n",
      "100:\tlearn: 5.8421082\ttotal: 144ms\tremaining: 1.28s\n",
      "200:\tlearn: 5.2412559\ttotal: 289ms\tremaining: 1.15s\n",
      "300:\tlearn: 4.9102282\ttotal: 439ms\tremaining: 1.02s\n",
      "400:\tlearn: 4.6471133\ttotal: 592ms\tremaining: 885ms\n",
      "500:\tlearn: 4.4126456\ttotal: 743ms\tremaining: 740ms\n",
      "600:\tlearn: 4.2262479\ttotal: 901ms\tremaining: 598ms\n",
      "700:\tlearn: 4.0799891\ttotal: 1.05s\tremaining: 450ms\n",
      "800:\tlearn: 3.9328916\ttotal: 1.21s\tremaining: 300ms\n",
      "900:\tlearn: 3.8104549\ttotal: 1.36s\tremaining: 149ms\n",
      "999:\tlearn: 3.7013365\ttotal: 1.52s\tremaining: 0us\n",
      "0:\tlearn: 7.8017686\ttotal: 2.31ms\tremaining: 2.31s\n",
      "100:\tlearn: 5.8111317\ttotal: 171ms\tremaining: 1.52s\n",
      "200:\tlearn: 5.1940110\ttotal: 317ms\tremaining: 1.26s\n",
      "300:\tlearn: 4.8707625\ttotal: 469ms\tremaining: 1.09s\n",
      "400:\tlearn: 4.6385102\ttotal: 625ms\tremaining: 934ms\n",
      "500:\tlearn: 4.4166918\ttotal: 771ms\tremaining: 768ms\n",
      "600:\tlearn: 4.2250077\ttotal: 915ms\tremaining: 608ms\n",
      "700:\tlearn: 4.0477447\ttotal: 1.08s\tremaining: 460ms\n",
      "800:\tlearn: 3.9000475\ttotal: 1.25s\tremaining: 310ms\n",
      "900:\tlearn: 3.7876670\ttotal: 1.41s\tremaining: 155ms\n",
      "999:\tlearn: 3.6808142\ttotal: 1.57s\tremaining: 0us\n",
      "0:\tlearn: 7.8922842\ttotal: 2.89ms\tremaining: 2.88s\n",
      "100:\tlearn: 5.8253100\ttotal: 190ms\tremaining: 1.69s\n",
      "200:\tlearn: 5.1872021\ttotal: 355ms\tremaining: 1.41s\n",
      "300:\tlearn: 4.8384139\ttotal: 521ms\tremaining: 1.21s\n",
      "400:\tlearn: 4.5937546\ttotal: 686ms\tremaining: 1.02s\n",
      "500:\tlearn: 4.3797252\ttotal: 856ms\tremaining: 853ms\n",
      "600:\tlearn: 4.1963241\ttotal: 1.02s\tremaining: 678ms\n",
      "700:\tlearn: 4.0353040\ttotal: 1.19s\tremaining: 506ms\n",
      "800:\tlearn: 3.8945284\ttotal: 1.36s\tremaining: 337ms\n",
      "900:\tlearn: 3.7749316\ttotal: 1.53s\tremaining: 168ms\n",
      "999:\tlearn: 3.6759641\ttotal: 1.71s\tremaining: 0us\n",
      "0:\tlearn: 7.6850531\ttotal: 2.62ms\tremaining: 2.62s\n",
      "100:\tlearn: 5.7722826\ttotal: 173ms\tremaining: 1.54s\n",
      "200:\tlearn: 5.1643649\ttotal: 318ms\tremaining: 1.26s\n",
      "300:\tlearn: 4.8504901\ttotal: 455ms\tremaining: 1.06s\n",
      "400:\tlearn: 4.6041199\ttotal: 588ms\tremaining: 879ms\n",
      "500:\tlearn: 4.3687254\ttotal: 729ms\tremaining: 727ms\n",
      "600:\tlearn: 4.1529634\ttotal: 868ms\tremaining: 576ms\n",
      "700:\tlearn: 3.9799960\ttotal: 1.02s\tremaining: 435ms\n",
      "800:\tlearn: 3.8376829\ttotal: 1.18s\tremaining: 293ms\n",
      "900:\tlearn: 3.7334266\ttotal: 1.34s\tremaining: 147ms\n",
      "999:\tlearn: 3.6358214\ttotal: 1.49s\tremaining: 0us\n",
      "0:\tlearn: 7.7999481\ttotal: 3.06ms\tremaining: 3.05s\n",
      "100:\tlearn: 5.8430968\ttotal: 179ms\tremaining: 1.6s\n",
      "200:\tlearn: 5.2343781\ttotal: 336ms\tremaining: 1.33s\n",
      "300:\tlearn: 4.9124248\ttotal: 492ms\tremaining: 1.14s\n",
      "400:\tlearn: 4.6648718\ttotal: 654ms\tremaining: 977ms\n",
      "500:\tlearn: 4.4385343\ttotal: 816ms\tremaining: 813ms\n",
      "600:\tlearn: 4.2564803\ttotal: 982ms\tremaining: 652ms\n",
      "700:\tlearn: 4.0838794\ttotal: 1.15s\tremaining: 488ms\n",
      "800:\tlearn: 3.9511786\ttotal: 1.31s\tremaining: 325ms\n",
      "900:\tlearn: 3.8279057\ttotal: 1.47s\tremaining: 161ms\n",
      "999:\tlearn: 3.7322446\ttotal: 1.62s\tremaining: 0us\n",
      "0:\tlearn: 7.8052153\ttotal: 17.4ms\tremaining: 17.4s\n",
      "100:\tlearn: 5.8335291\ttotal: 169ms\tremaining: 1.5s\n",
      "200:\tlearn: 5.1975023\ttotal: 335ms\tremaining: 1.33s\n",
      "300:\tlearn: 4.8494022\ttotal: 499ms\tremaining: 1.16s\n",
      "400:\tlearn: 4.5992386\ttotal: 661ms\tremaining: 987ms\n",
      "500:\tlearn: 4.3514642\ttotal: 818ms\tremaining: 815ms\n",
      "600:\tlearn: 4.1386214\ttotal: 980ms\tremaining: 651ms\n",
      "700:\tlearn: 3.9778768\ttotal: 1.14s\tremaining: 487ms\n",
      "800:\tlearn: 3.8406506\ttotal: 1.31s\tremaining: 325ms\n",
      "900:\tlearn: 3.7318966\ttotal: 1.48s\tremaining: 163ms\n",
      "999:\tlearn: 3.6433853\ttotal: 1.63s\tremaining: 0us\n",
      "0:\tlearn: 7.7942993\ttotal: 2.67ms\tremaining: 2.66s\n",
      "100:\tlearn: 5.8132178\ttotal: 172ms\tremaining: 1.53s\n",
      "200:\tlearn: 5.2284275\ttotal: 306ms\tremaining: 1.22s\n",
      "300:\tlearn: 4.9056527\ttotal: 448ms\tremaining: 1.04s\n",
      "400:\tlearn: 4.6475845\ttotal: 594ms\tremaining: 887ms\n",
      "500:\tlearn: 4.4335621\ttotal: 726ms\tremaining: 723ms\n",
      "600:\tlearn: 4.2524818\ttotal: 861ms\tremaining: 572ms\n",
      "700:\tlearn: 4.0888837\ttotal: 1.02s\tremaining: 433ms\n",
      "800:\tlearn: 3.9507979\ttotal: 1.17s\tremaining: 291ms\n",
      "900:\tlearn: 3.8291920\ttotal: 1.32s\tremaining: 145ms\n",
      "999:\tlearn: 3.7293062\ttotal: 1.47s\tremaining: 0us\n",
      "0:\tlearn: 7.7797955\ttotal: 2.67ms\tremaining: 2.66s\n",
      "100:\tlearn: 5.7950118\ttotal: 174ms\tremaining: 1.54s\n",
      "200:\tlearn: 5.2148659\ttotal: 309ms\tremaining: 1.23s\n",
      "300:\tlearn: 4.9025919\ttotal: 457ms\tremaining: 1.06s\n",
      "400:\tlearn: 4.6535289\ttotal: 604ms\tremaining: 902ms\n",
      "500:\tlearn: 4.4122766\ttotal: 766ms\tremaining: 763ms\n",
      "600:\tlearn: 4.2130491\ttotal: 919ms\tremaining: 610ms\n",
      "700:\tlearn: 4.0433229\ttotal: 1.09s\tremaining: 464ms\n",
      "800:\tlearn: 3.8969876\ttotal: 1.25s\tremaining: 311ms\n",
      "900:\tlearn: 3.7716541\ttotal: 1.43s\tremaining: 157ms\n",
      "999:\tlearn: 3.6758519\ttotal: 1.59s\tremaining: 0us\n",
      "0:\tlearn: 7.8072255\ttotal: 16.3ms\tremaining: 16.2s\n",
      "100:\tlearn: 5.8525105\ttotal: 176ms\tremaining: 1.56s\n",
      "200:\tlearn: 5.2342263\ttotal: 333ms\tremaining: 1.32s\n",
      "300:\tlearn: 4.9033908\ttotal: 480ms\tremaining: 1.11s\n",
      "400:\tlearn: 4.6326185\ttotal: 636ms\tremaining: 951ms\n",
      "500:\tlearn: 4.3860099\ttotal: 795ms\tremaining: 792ms\n",
      "600:\tlearn: 4.1898340\ttotal: 947ms\tremaining: 629ms\n",
      "700:\tlearn: 4.0239791\ttotal: 1.11s\tremaining: 476ms\n",
      "800:\tlearn: 3.8866075\ttotal: 1.29s\tremaining: 321ms\n",
      "900:\tlearn: 3.7658695\ttotal: 1.47s\tremaining: 162ms\n",
      "999:\tlearn: 3.6662723\ttotal: 1.64s\tremaining: 0us\n",
      "0:\tlearn: 7.8088764\ttotal: 2.54ms\tremaining: 2.54s\n",
      "100:\tlearn: 5.8789069\ttotal: 166ms\tremaining: 1.48s\n",
      "200:\tlearn: 5.2738855\ttotal: 329ms\tremaining: 1.31s\n",
      "300:\tlearn: 4.9603105\ttotal: 499ms\tremaining: 1.16s\n",
      "400:\tlearn: 4.7107987\ttotal: 673ms\tremaining: 1s\n",
      "500:\tlearn: 4.4846977\ttotal: 854ms\tremaining: 851ms\n",
      "600:\tlearn: 4.2872978\ttotal: 1.02s\tremaining: 676ms\n",
      "700:\tlearn: 4.1166225\ttotal: 1.18s\tremaining: 504ms\n",
      "800:\tlearn: 3.9814864\ttotal: 1.34s\tremaining: 334ms\n",
      "900:\tlearn: 3.8577734\ttotal: 1.51s\tremaining: 166ms\n",
      "999:\tlearn: 3.7537041\ttotal: 1.69s\tremaining: 0us\n",
      "Wall time: 4min 15s\n"
     ]
    }
   ],
   "source": [
    "%%time\n",
    "\n",
    "result_list = []\n",
    "models_results()"
   ]
  },
  {
   "cell_type": "code",
   "execution_count": 51,
   "metadata": {},
   "outputs": [
    {
     "data": {
      "text/plain": [
       "[{'model': 'CatBoostRegressor',\n",
       "  'train_mae_score': -5.793826318061182,\n",
       "  'best_params': {'depth': 6,\n",
       "   'learning_rate': 0.02,\n",
       "   'loss_function': 'MAE',\n",
       "   'n_estimators': 1000,\n",
       "   'random_state': 250722}},\n",
       " {'model': 'LGBMRegressor',\n",
       "  'train_mae_score': -5.843399410965685,\n",
       "  'best_params': {'learning_rate': 0.08,\n",
       "   'max_depth': 6,\n",
       "   'metric': 'mae',\n",
       "   'n_estimators': 100,\n",
       "   'random_state': 250722}},\n",
       " {'model': 'LinearRegression',\n",
       "  'train_mae_score': -6.20194314383038,\n",
       "  'best_params': {'fit_intercept': True, 'normalize': True}}]"
      ]
     },
     "execution_count": 51,
     "metadata": {},
     "output_type": "execute_result"
    }
   ],
   "source": [
    "result_list"
   ]
  },
  {
   "cell_type": "code",
   "execution_count": 52,
   "metadata": {
    "scrolled": true
   },
   "outputs": [
    {
     "data": {
      "text/html": [
       "<div>\n",
       "<style scoped>\n",
       "    .dataframe tbody tr th:only-of-type {\n",
       "        vertical-align: middle;\n",
       "    }\n",
       "\n",
       "    .dataframe tbody tr th {\n",
       "        vertical-align: top;\n",
       "    }\n",
       "\n",
       "    .dataframe thead th {\n",
       "        text-align: right;\n",
       "    }\n",
       "</style>\n",
       "<table border=\"1\" class=\"dataframe\">\n",
       "  <thead>\n",
       "    <tr style=\"text-align: right;\">\n",
       "      <th></th>\n",
       "      <th>train_mae_score</th>\n",
       "      <th>best_params</th>\n",
       "    </tr>\n",
       "    <tr>\n",
       "      <th>model</th>\n",
       "      <th></th>\n",
       "      <th></th>\n",
       "    </tr>\n",
       "  </thead>\n",
       "  <tbody>\n",
       "    <tr>\n",
       "      <th>CatBoostRegressor</th>\n",
       "      <td>-5.793826</td>\n",
       "      <td>{'depth': 6, 'learning_rate': 0.02, 'loss_func...</td>\n",
       "    </tr>\n",
       "    <tr>\n",
       "      <th>LGBMRegressor</th>\n",
       "      <td>-5.843399</td>\n",
       "      <td>{'learning_rate': 0.08, 'max_depth': 6, 'metri...</td>\n",
       "    </tr>\n",
       "    <tr>\n",
       "      <th>LinearRegression</th>\n",
       "      <td>-6.201943</td>\n",
       "      <td>{'fit_intercept': True, 'normalize': True}</td>\n",
       "    </tr>\n",
       "  </tbody>\n",
       "</table>\n",
       "</div>"
      ],
      "text/plain": [
       "                   train_mae_score  \\\n",
       "model                                \n",
       "CatBoostRegressor        -5.793826   \n",
       "LGBMRegressor            -5.843399   \n",
       "LinearRegression         -6.201943   \n",
       "\n",
       "                                                         best_params  \n",
       "model                                                                 \n",
       "CatBoostRegressor  {'depth': 6, 'learning_rate': 0.02, 'loss_func...  \n",
       "LGBMRegressor      {'learning_rate': 0.08, 'max_depth': 6, 'metri...  \n",
       "LinearRegression          {'fit_intercept': True, 'normalize': True}  "
      ]
     },
     "execution_count": 52,
     "metadata": {},
     "output_type": "execute_result"
    }
   ],
   "source": [
    "#Представим данные в более привычном виде\n",
    "results = pd.DataFrame(result_list, columns=['model', 'train_mae_score', 'best_params']) \\\n",
    "                        .sort_values(by='train_mae_score', ascending=False)\n",
    "\n",
    "results.set_index(\"model\", inplace = True)\n",
    "results"
   ]
  },
  {
   "cell_type": "markdown",
   "metadata": {},
   "source": [
    "### Лучшая модель"
   ]
  },
  {
   "cell_type": "markdown",
   "metadata": {},
   "source": [
    "Можно увидеть, что у модели `CatBoostRegressor` лучшие показатели. Поэтому возьмём её."
   ]
  },
  {
   "cell_type": "code",
   "execution_count": 53,
   "metadata": {},
   "outputs": [
    {
     "name": "stdout",
     "output_type": "stream",
     "text": [
      "0:\tlearn: 10.8391522\ttotal: 2.19ms\tremaining: 2.18s\n",
      "100:\tlearn: 8.1204032\ttotal: 192ms\tremaining: 1.71s\n",
      "200:\tlearn: 7.3581933\ttotal: 363ms\tremaining: 1.44s\n",
      "300:\tlearn: 6.9579841\ttotal: 506ms\tremaining: 1.18s\n",
      "400:\tlearn: 6.6421241\ttotal: 649ms\tremaining: 969ms\n",
      "500:\tlearn: 6.3578136\ttotal: 788ms\tremaining: 785ms\n",
      "600:\tlearn: 6.0976361\ttotal: 930ms\tremaining: 618ms\n",
      "700:\tlearn: 5.8478582\ttotal: 1.09s\tremaining: 466ms\n",
      "800:\tlearn: 5.6305603\ttotal: 1.27s\tremaining: 315ms\n",
      "900:\tlearn: 5.4177640\ttotal: 1.43s\tremaining: 157ms\n",
      "999:\tlearn: 5.2317888\ttotal: 1.59s\tremaining: 0us\n",
      "MAE на тестовой выборке: 6.383364984338855\n"
     ]
    }
   ],
   "source": [
    "CBR_Model = CatBoostRegressor(max_depth=6, n_estimators=1000, learning_rate=0.02, random_state=rds)\n",
    "CBR_Model.fit(features_train, target_train, verbose=100)\n",
    "predictions = CBR_Model.predict(features_test)\n",
    "print('MAE на тестовой выборке:', mean_absolute_error(predictions, target_test))"
   ]
  },
  {
   "cell_type": "markdown",
   "metadata": {},
   "source": [
    "## Отчёт по решению"
   ]
  },
  {
   "cell_type": "markdown",
   "metadata": {},
   "source": [
    "### Какие пункты плана были выполнены, а какие — нет?\n",
    "\n",
    "Были выполнены все пункты плана\n",
    "- [x] Импортируем данные\n",
    "- [x] Проведём анализ данных\n",
    "- [x] Проведём предобработку данных\n",
    "- [x] Подготоим данные:\n",
    "    - [x] Определим какие признаки нужны нам для модели\n",
    "    - [x] Удалим ненужные данные\n",
    "- [x] Соединим таблицы в одну по признаку `key`\n",
    "- [x] Будем использовать градиентный бустинг для подбора нужных параметров\n",
    "- [x] Сравним полученные результаты наших моделей и выделим лучшую\n",
    "- [x] Проверим на тестовой выборке\n",
    "- [x] Напишем отчет\n",
    "\n",
    "Так же дополнительно были добавленны новые признаки такие как \"Полная мощность\"\n",
    "\n",
    "\n",
    "\n",
    "### Какие трудности возникли и как вы их преодолели?\n",
    "Долго вчитывался в условие, чтобы точнее понять задачу, и обсудив еще раз подробнее на вебенаре, я понял. После недели каникул пришлось освежить знания в анализе данных. Пересматривал свои шпаргалка о том, как сделать красивый график. Также абсолютно новым для меня было обучение моделей не по очереди, а через функцию и два словаря, в которых содержались модели и параметры к ним соответственно. \n",
    "\n",
    "### Какие ключевые шаги в решении задачи выделили?\n",
    " - Анализ данных\n",
    " - Предобработка данных\n",
    " - Обучение моделей\n",
    " - Проверка лучшей модели на тестовой выборке\n",
    " - Отчет\n",
    " \n",
    "Тут наверно нет ничего необычного, но я бы выделил как очень важный шаг это понимание задачи. Действительно огромное значение играет осознание того, что ты делаешь, зачем, и как это работает. При полном понимание, ты можешь понимать, что важно, а что нет. \n",
    "\n",
    "### Какая ваша итоговая модель и какое у неё качество?\n",
    "\n",
    " - Модель: `CatBoostRegressor`\n",
    " - Гиперпараметры: `'depth': 6, 'n_estimators': 1000, 'learning_rate': 0.02, 'loss_function': 'MAE', 'random_state': 250722`\n",
    " - Качество на тестовой выборке: `6.383364984338855`\n",
    " \n",
    "На самом деле я не очень доволен результатом. Мне хотелось достигнуть метрики `MAE < 6`, но получилось достичь, только 6.38. <br> Каким способом я бы мог улучшить модель?"
   ]
  },
  {
   "cell_type": "markdown",
   "metadata": {},
   "source": [
    "В этой работе нам были нужны 5 таблиц с признаками -  `data_temp, data_arc, data_wire, data_bulk, data_gas`.\n",
    "Для того, чтобы использовать их в машинном обучении, нужно было провести предобработку:\n",
    "\n",
    "- `data-temp`:\n",
    "    - Был переведён столбец `Время замера` в тип `datetime`\n",
    "    - У признаков после 2500 ключа нет температуры, поэтому они были удалены\n",
    "    - Данные были сгруппированны по ключу, выведен первый и последний замер и оставленны признаки только с температурой\n",
    "\n",
    "- `data_arc`:\n",
    "    - Были изменены типы в столбцах `Начало нагрева дугой` и `Конец нагрева дугой` на `datetime`\n",
    "    - Убран выброс меньше 0\n",
    "    - Из-за высокой корреляции признаков `Активная мощность` и `Реактивная мощность` был добавлен признак `Полная мощность` и убраны оба коррелирующих признаков\n",
    "    - Был добавлен стоблец `Длительностью нагрева`, единица измерения которого равны секундам\n",
    "    - Было посчитано колличество повторений нагрева\n",
    "    - В новообразованной таблице, состоящей из 4 признаков (`key`, `Длительность нагрева`, `Полная мощность`, `Количество повторений`) была проведена оценка корреляции признаков, после которой был удалён 1 признак (`Длительность нагрева`)\n",
    "\n",
    "- В таблицах `data_wire`, `data_bulk`, `data_gas` пропуски были заполнены нулями.\n",
    "\n",
    "- Таблицы были объединены по ключу и признаки переименованны в английский регистр.\n"
   ]
  },
  {
   "cell_type": "code",
   "execution_count": null,
   "metadata": {},
   "outputs": [],
   "source": []
  }
 ],
 "metadata": {
  "ExecuteTimeLog": [
   {
    "duration": 501,
    "start_time": "2022-07-25T09:24:07.718Z"
   },
   {
    "duration": 394,
    "start_time": "2022-07-25T09:24:19.705Z"
   },
   {
    "duration": 52,
    "start_time": "2022-07-25T09:26:18.289Z"
   },
   {
    "duration": 139,
    "start_time": "2022-07-25T09:26:58.216Z"
   },
   {
    "duration": 508,
    "start_time": "2022-07-25T09:27:10.195Z"
   },
   {
    "duration": 123,
    "start_time": "2022-07-25T09:27:51.111Z"
   },
   {
    "duration": 34,
    "start_time": "2022-07-25T09:29:07.809Z"
   },
   {
    "duration": 22,
    "start_time": "2022-07-25T09:29:17.548Z"
   },
   {
    "duration": 29,
    "start_time": "2022-07-25T09:29:34.741Z"
   },
   {
    "duration": 47,
    "start_time": "2022-07-25T09:42:16.955Z"
   },
   {
    "duration": 48,
    "start_time": "2022-07-25T09:42:17.005Z"
   },
   {
    "duration": 30,
    "start_time": "2022-07-25T09:42:33.889Z"
   },
   {
    "duration": 33,
    "start_time": "2022-07-25T09:42:41.963Z"
   },
   {
    "duration": 28,
    "start_time": "2022-07-25T09:42:49.168Z"
   },
   {
    "duration": 9,
    "start_time": "2022-07-25T09:43:42.346Z"
   },
   {
    "duration": 9,
    "start_time": "2022-07-25T09:43:46.753Z"
   },
   {
    "duration": 9,
    "start_time": "2022-07-25T09:45:45.531Z"
   },
   {
    "duration": 7,
    "start_time": "2022-07-25T09:45:54.127Z"
   },
   {
    "duration": 21,
    "start_time": "2022-07-25T09:46:10.044Z"
   },
   {
    "duration": 23,
    "start_time": "2022-07-25T09:47:04.052Z"
   },
   {
    "duration": 18,
    "start_time": "2022-07-25T09:48:59.282Z"
   },
   {
    "duration": 25,
    "start_time": "2022-07-25T09:48:59.371Z"
   },
   {
    "duration": 30,
    "start_time": "2022-07-25T09:48:59.470Z"
   },
   {
    "duration": 684,
    "start_time": "2022-07-25T09:49:05.738Z"
   },
   {
    "duration": 209,
    "start_time": "2022-07-25T09:49:06.423Z"
   },
   {
    "duration": 27,
    "start_time": "2022-07-25T09:49:06.634Z"
   },
   {
    "duration": 32,
    "start_time": "2022-07-25T09:49:06.664Z"
   },
   {
    "duration": 39,
    "start_time": "2022-07-25T09:49:06.724Z"
   },
   {
    "duration": 22,
    "start_time": "2022-07-25T09:49:06.766Z"
   },
   {
    "duration": 56,
    "start_time": "2022-07-25T09:49:06.790Z"
   },
   {
    "duration": 30,
    "start_time": "2022-07-25T09:49:06.848Z"
   },
   {
    "duration": 60,
    "start_time": "2022-07-25T09:49:06.880Z"
   },
   {
    "duration": 4,
    "start_time": "2022-07-25T10:42:30.353Z"
   },
   {
    "duration": 50,
    "start_time": "2022-07-25T10:42:39.245Z"
   },
   {
    "duration": 57,
    "start_time": "2022-07-25T10:43:37.645Z"
   },
   {
    "duration": 4,
    "start_time": "2022-07-25T10:44:39.312Z"
   },
   {
    "duration": 53,
    "start_time": "2022-07-25T10:44:39.589Z"
   },
   {
    "duration": 4,
    "start_time": "2022-07-25T10:44:52.510Z"
   },
   {
    "duration": 64,
    "start_time": "2022-07-25T10:44:52.627Z"
   },
   {
    "duration": 4,
    "start_time": "2022-07-25T10:45:06.995Z"
   },
   {
    "duration": 5,
    "start_time": "2022-07-25T10:45:12.514Z"
   },
   {
    "duration": 4,
    "start_time": "2022-07-25T10:45:33.795Z"
   },
   {
    "duration": 61,
    "start_time": "2022-07-25T10:45:34.805Z"
   },
   {
    "duration": 330,
    "start_time": "2022-07-25T10:58:05.697Z"
   },
   {
    "duration": 344,
    "start_time": "2022-07-25T10:58:15.263Z"
   },
   {
    "duration": 378,
    "start_time": "2022-07-25T10:58:37.107Z"
   },
   {
    "duration": 324,
    "start_time": "2022-07-25T10:58:43.089Z"
   },
   {
    "duration": 225,
    "start_time": "2022-07-25T10:58:55.947Z"
   },
   {
    "duration": 332,
    "start_time": "2022-07-25T10:59:00.863Z"
   },
   {
    "duration": 324,
    "start_time": "2022-07-25T10:59:13.974Z"
   },
   {
    "duration": 424,
    "start_time": "2022-07-25T11:01:42.673Z"
   },
   {
    "duration": 395,
    "start_time": "2022-07-25T11:07:16.795Z"
   },
   {
    "duration": 321,
    "start_time": "2022-07-25T11:07:26.790Z"
   },
   {
    "duration": 24,
    "start_time": "2022-07-25T11:17:37.101Z"
   },
   {
    "duration": 17,
    "start_time": "2022-07-25T11:17:40.643Z"
   },
   {
    "duration": 17,
    "start_time": "2022-07-25T11:17:45.019Z"
   },
   {
    "duration": 5,
    "start_time": "2022-07-25T11:19:04.711Z"
   },
   {
    "duration": 4,
    "start_time": "2022-07-25T11:19:42.513Z"
   },
   {
    "duration": 11,
    "start_time": "2022-07-25T11:21:00.665Z"
   },
   {
    "duration": 8,
    "start_time": "2022-07-25T11:21:10.754Z"
   },
   {
    "duration": 24,
    "start_time": "2022-07-25T11:21:47.385Z"
   },
   {
    "duration": 55,
    "start_time": "2022-07-25T11:21:56.361Z"
   },
   {
    "duration": 30,
    "start_time": "2022-07-25T11:22:55.245Z"
   },
   {
    "duration": 710,
    "start_time": "2022-07-25T11:25:26.645Z"
   },
   {
    "duration": 214,
    "start_time": "2022-07-25T11:25:27.357Z"
   },
   {
    "duration": 4,
    "start_time": "2022-07-25T11:25:27.573Z"
   },
   {
    "duration": 77,
    "start_time": "2022-07-25T11:25:27.580Z"
   },
   {
    "duration": 24,
    "start_time": "2022-07-25T11:25:27.659Z"
   },
   {
    "duration": 379,
    "start_time": "2022-07-25T11:25:27.685Z"
   },
   {
    "duration": 457,
    "start_time": "2022-07-25T11:26:55.809Z"
   },
   {
    "duration": 142,
    "start_time": "2022-07-25T11:27:42.147Z"
   },
   {
    "duration": 396,
    "start_time": "2022-07-25T11:27:46.092Z"
   },
   {
    "duration": 501,
    "start_time": "2022-07-25T11:29:36.677Z"
   },
   {
    "duration": 165,
    "start_time": "2022-07-25T11:29:50.322Z"
   },
   {
    "duration": 339,
    "start_time": "2022-07-25T11:30:13.913Z"
   },
   {
    "duration": 324,
    "start_time": "2022-07-25T11:30:21.744Z"
   },
   {
    "duration": 711,
    "start_time": "2022-07-25T11:32:32.809Z"
   },
   {
    "duration": 810,
    "start_time": "2022-07-25T11:32:41.789Z"
   },
   {
    "duration": 758,
    "start_time": "2022-07-25T11:33:06.551Z"
   },
   {
    "duration": 808,
    "start_time": "2022-07-25T11:33:11.110Z"
   },
   {
    "duration": 627,
    "start_time": "2022-07-25T11:37:32.341Z"
   },
   {
    "duration": 854,
    "start_time": "2022-07-25T11:38:38.600Z"
   },
   {
    "duration": 674,
    "start_time": "2022-07-25T11:38:47.647Z"
   },
   {
    "duration": 646,
    "start_time": "2022-07-25T11:39:02.817Z"
   },
   {
    "duration": 620,
    "start_time": "2022-07-25T11:39:12.060Z"
   },
   {
    "duration": 420,
    "start_time": "2022-07-25T11:39:16.345Z"
   },
   {
    "duration": 519,
    "start_time": "2022-07-25T11:40:25.102Z"
   },
   {
    "duration": 371,
    "start_time": "2022-07-25T11:40:30.516Z"
   },
   {
    "duration": 336,
    "start_time": "2022-07-25T11:40:41.397Z"
   },
   {
    "duration": 375,
    "start_time": "2022-07-25T11:40:49.772Z"
   },
   {
    "duration": 362,
    "start_time": "2022-07-25T11:41:02.216Z"
   },
   {
    "duration": 405,
    "start_time": "2022-07-25T11:41:25.560Z"
   },
   {
    "duration": 503,
    "start_time": "2022-07-25T11:44:36.893Z"
   },
   {
    "duration": 409,
    "start_time": "2022-07-25T11:44:44.374Z"
   },
   {
    "duration": 398,
    "start_time": "2022-07-25T11:44:49.370Z"
   },
   {
    "duration": 418,
    "start_time": "2022-07-25T11:45:02.322Z"
   },
   {
    "duration": 116,
    "start_time": "2022-07-25T11:45:41.505Z"
   },
   {
    "duration": 378,
    "start_time": "2022-07-25T11:46:07.517Z"
   },
   {
    "duration": 366,
    "start_time": "2022-07-25T11:46:18.148Z"
   },
   {
    "duration": 6,
    "start_time": "2022-07-25T11:46:56.361Z"
   },
   {
    "duration": 196,
    "start_time": "2022-07-25T11:48:33.647Z"
   },
   {
    "duration": 309,
    "start_time": "2022-07-25T11:48:37.893Z"
   },
   {
    "duration": 381,
    "start_time": "2022-07-25T11:48:45.849Z"
   },
   {
    "duration": 326,
    "start_time": "2022-07-25T11:50:05.803Z"
   },
   {
    "duration": 6,
    "start_time": "2022-07-25T11:51:53.612Z"
   },
   {
    "duration": 5,
    "start_time": "2022-07-25T11:51:59.200Z"
   },
   {
    "duration": 359,
    "start_time": "2022-07-25T11:52:02.650Z"
   },
   {
    "duration": 182,
    "start_time": "2022-07-25T11:52:35.080Z"
   },
   {
    "duration": 184,
    "start_time": "2022-07-25T11:52:41.963Z"
   },
   {
    "duration": 235,
    "start_time": "2022-07-25T11:52:49.032Z"
   },
   {
    "duration": 230,
    "start_time": "2022-07-25T11:55:20.216Z"
   },
   {
    "duration": 98,
    "start_time": "2022-07-25T11:57:58.376Z"
   },
   {
    "duration": 3,
    "start_time": "2022-07-25T11:59:42.550Z"
   },
   {
    "duration": 65,
    "start_time": "2022-07-25T11:59:42.614Z"
   },
   {
    "duration": 5,
    "start_time": "2022-07-25T11:59:50.791Z"
   },
   {
    "duration": 4,
    "start_time": "2022-07-25T12:00:02.006Z"
   },
   {
    "duration": 43,
    "start_time": "2022-07-25T12:00:02.446Z"
   },
   {
    "duration": 3,
    "start_time": "2022-07-25T12:00:38.342Z"
   },
   {
    "duration": 52,
    "start_time": "2022-07-25T12:00:39.561Z"
   },
   {
    "duration": 19,
    "start_time": "2022-07-25T12:01:08.701Z"
   },
   {
    "duration": 61,
    "start_time": "2022-07-25T12:02:09.980Z"
   },
   {
    "duration": 3,
    "start_time": "2022-07-25T12:03:36.448Z"
   },
   {
    "duration": 7,
    "start_time": "2022-07-25T12:03:43.803Z"
   },
   {
    "duration": 4,
    "start_time": "2022-07-25T12:04:01.178Z"
   },
   {
    "duration": 7,
    "start_time": "2022-07-25T12:04:01.710Z"
   },
   {
    "duration": 4,
    "start_time": "2022-07-25T12:05:42.843Z"
   },
   {
    "duration": 17,
    "start_time": "2022-07-25T12:05:42.954Z"
   },
   {
    "duration": 9,
    "start_time": "2022-07-25T12:06:11.212Z"
   },
   {
    "duration": 84,
    "start_time": "2022-07-25T12:06:13.350Z"
   },
   {
    "duration": 213,
    "start_time": "2022-07-25T12:10:14.684Z"
   },
   {
    "duration": 267,
    "start_time": "2022-07-25T12:10:23.956Z"
   },
   {
    "duration": 716,
    "start_time": "2022-07-25T12:11:17.900Z"
   },
   {
    "duration": 236,
    "start_time": "2022-07-25T12:11:18.619Z"
   },
   {
    "duration": 6,
    "start_time": "2022-07-25T12:11:18.857Z"
   },
   {
    "duration": 144,
    "start_time": "2022-07-25T12:11:18.865Z"
   },
   {
    "duration": 48,
    "start_time": "2022-07-25T12:11:19.012Z"
   },
   {
    "duration": 553,
    "start_time": "2022-07-25T12:11:19.063Z"
   },
   {
    "duration": 554,
    "start_time": "2022-07-25T12:11:19.630Z"
   },
   {
    "duration": 7,
    "start_time": "2022-07-25T12:11:20.187Z"
   },
   {
    "duration": 429,
    "start_time": "2022-07-25T12:11:20.196Z"
   },
   {
    "duration": 230,
    "start_time": "2022-07-25T12:11:20.629Z"
   },
   {
    "duration": 206,
    "start_time": "2022-07-25T12:11:58.584Z"
   },
   {
    "duration": 264,
    "start_time": "2022-07-25T12:12:16.097Z"
   },
   {
    "duration": 214,
    "start_time": "2022-07-25T12:15:46.513Z"
   },
   {
    "duration": 242,
    "start_time": "2022-07-25T12:16:03.819Z"
   },
   {
    "duration": 270,
    "start_time": "2022-07-25T12:17:46.086Z"
   },
   {
    "duration": 267,
    "start_time": "2022-07-25T12:18:13.345Z"
   },
   {
    "duration": 214,
    "start_time": "2022-07-25T12:19:29.445Z"
   },
   {
    "duration": 399,
    "start_time": "2022-07-25T12:19:51.071Z"
   },
   {
    "duration": 76,
    "start_time": "2022-07-25T12:20:06.175Z"
   },
   {
    "duration": 214,
    "start_time": "2022-07-25T12:20:10.084Z"
   },
   {
    "duration": 245,
    "start_time": "2022-07-25T12:20:17.066Z"
   },
   {
    "duration": 268,
    "start_time": "2022-07-25T12:20:28.893Z"
   },
   {
    "duration": 304,
    "start_time": "2022-07-25T12:20:34.927Z"
   },
   {
    "duration": 855,
    "start_time": "2022-07-25T12:21:39.394Z"
   },
   {
    "duration": 230,
    "start_time": "2022-07-25T12:21:40.252Z"
   },
   {
    "duration": 5,
    "start_time": "2022-07-25T12:21:40.485Z"
   },
   {
    "duration": 164,
    "start_time": "2022-07-25T12:21:40.493Z"
   },
   {
    "duration": 32,
    "start_time": "2022-07-25T12:21:40.660Z"
   },
   {
    "duration": 458,
    "start_time": "2022-07-25T12:21:40.694Z"
   },
   {
    "duration": 603,
    "start_time": "2022-07-25T12:21:41.154Z"
   },
   {
    "duration": 6,
    "start_time": "2022-07-25T12:21:41.758Z"
   },
   {
    "duration": 401,
    "start_time": "2022-07-25T12:21:41.766Z"
   },
   {
    "duration": 240,
    "start_time": "2022-07-25T12:21:42.170Z"
   },
   {
    "duration": 903,
    "start_time": "2022-07-26T12:28:22.666Z"
   },
   {
    "duration": 565,
    "start_time": "2022-07-26T12:28:23.572Z"
   },
   {
    "duration": 4,
    "start_time": "2022-07-26T12:28:24.139Z"
   },
   {
    "duration": 116,
    "start_time": "2022-07-26T12:28:24.147Z"
   },
   {
    "duration": 22,
    "start_time": "2022-07-26T12:28:24.265Z"
   },
   {
    "duration": 415,
    "start_time": "2022-07-26T12:28:24.289Z"
   },
   {
    "duration": 496,
    "start_time": "2022-07-26T12:28:24.705Z"
   },
   {
    "duration": 15,
    "start_time": "2022-07-26T12:28:25.205Z"
   },
   {
    "duration": 372,
    "start_time": "2022-07-26T12:28:25.221Z"
   },
   {
    "duration": 231,
    "start_time": "2022-07-26T12:28:25.603Z"
   },
   {
    "duration": 138,
    "start_time": "2022-07-26T12:32:13.589Z"
   },
   {
    "duration": 48,
    "start_time": "2022-07-26T16:10:54.488Z"
   },
   {
    "duration": 803,
    "start_time": "2022-07-26T16:11:14.834Z"
   },
   {
    "duration": 552,
    "start_time": "2022-07-26T16:11:15.640Z"
   },
   {
    "duration": 3,
    "start_time": "2022-07-26T16:11:16.194Z"
   },
   {
    "duration": 111,
    "start_time": "2022-07-26T16:11:16.199Z"
   },
   {
    "duration": 34,
    "start_time": "2022-07-26T16:11:16.312Z"
   },
   {
    "duration": 342,
    "start_time": "2022-07-26T16:11:16.348Z"
   },
   {
    "duration": 435,
    "start_time": "2022-07-26T16:11:16.692Z"
   },
   {
    "duration": 10,
    "start_time": "2022-07-26T16:11:17.129Z"
   },
   {
    "duration": 329,
    "start_time": "2022-07-26T16:11:17.140Z"
   },
   {
    "duration": 209,
    "start_time": "2022-07-26T16:11:17.472Z"
   },
   {
    "duration": 151,
    "start_time": "2022-07-26T16:11:17.683Z"
   },
   {
    "duration": 51,
    "start_time": "2022-07-26T16:11:17.837Z"
   },
   {
    "duration": 37,
    "start_time": "2022-07-26T16:20:30.921Z"
   },
   {
    "duration": 82,
    "start_time": "2022-07-26T16:20:34.218Z"
   },
   {
    "duration": 38,
    "start_time": "2022-07-26T16:20:38.398Z"
   },
   {
    "duration": 41,
    "start_time": "2022-07-26T16:20:38.503Z"
   },
   {
    "duration": 44,
    "start_time": "2022-07-26T16:30:59.198Z"
   },
   {
    "duration": 41,
    "start_time": "2022-07-26T16:33:48.034Z"
   },
   {
    "duration": 34,
    "start_time": "2022-07-26T16:34:55.657Z"
   },
   {
    "duration": 96,
    "start_time": "2022-07-26T16:36:29.051Z"
   },
   {
    "duration": 42,
    "start_time": "2022-07-26T16:36:34.145Z"
   },
   {
    "duration": 621,
    "start_time": "2022-07-26T16:36:45.748Z"
   },
   {
    "duration": 199,
    "start_time": "2022-07-26T16:36:46.371Z"
   },
   {
    "duration": 3,
    "start_time": "2022-07-26T16:36:46.572Z"
   },
   {
    "duration": 92,
    "start_time": "2022-07-26T16:36:46.577Z"
   },
   {
    "duration": 21,
    "start_time": "2022-07-26T16:36:46.672Z"
   },
   {
    "duration": 326,
    "start_time": "2022-07-26T16:36:46.695Z"
   },
   {
    "duration": 388,
    "start_time": "2022-07-26T16:36:47.023Z"
   },
   {
    "duration": 5,
    "start_time": "2022-07-26T16:36:47.413Z"
   },
   {
    "duration": 294,
    "start_time": "2022-07-26T16:36:47.420Z"
   },
   {
    "duration": 177,
    "start_time": "2022-07-26T16:36:47.716Z"
   },
   {
    "duration": 129,
    "start_time": "2022-07-26T16:36:47.896Z"
   },
   {
    "duration": 48,
    "start_time": "2022-07-26T16:36:48.026Z"
   },
   {
    "duration": 62,
    "start_time": "2022-07-26T16:36:48.076Z"
   },
   {
    "duration": 38,
    "start_time": "2022-07-26T16:36:48.140Z"
   },
   {
    "duration": 102,
    "start_time": "2022-07-26T16:36:48.180Z"
   },
   {
    "duration": 57,
    "start_time": "2022-07-26T16:36:48.284Z"
   },
   {
    "duration": 636,
    "start_time": "2022-07-26T17:08:45.049Z"
   },
   {
    "duration": 197,
    "start_time": "2022-07-26T17:08:45.687Z"
   },
   {
    "duration": 3,
    "start_time": "2022-07-26T17:08:45.886Z"
   },
   {
    "duration": 103,
    "start_time": "2022-07-26T17:08:45.891Z"
   },
   {
    "duration": 18,
    "start_time": "2022-07-26T17:08:45.996Z"
   },
   {
    "duration": 337,
    "start_time": "2022-07-26T17:08:46.016Z"
   },
   {
    "duration": 405,
    "start_time": "2022-07-26T17:08:46.355Z"
   },
   {
    "duration": 4,
    "start_time": "2022-07-26T17:08:46.762Z"
   },
   {
    "duration": 318,
    "start_time": "2022-07-26T17:08:46.767Z"
   },
   {
    "duration": 192,
    "start_time": "2022-07-26T17:08:47.087Z"
   },
   {
    "duration": 128,
    "start_time": "2022-07-26T17:08:47.281Z"
   },
   {
    "duration": 67,
    "start_time": "2022-07-26T17:08:47.411Z"
   },
   {
    "duration": 33,
    "start_time": "2022-07-26T17:08:47.480Z"
   },
   {
    "duration": 46,
    "start_time": "2022-07-26T17:08:47.538Z"
   },
   {
    "duration": 96,
    "start_time": "2022-07-26T17:08:47.586Z"
   },
   {
    "duration": 55,
    "start_time": "2022-07-26T17:08:47.683Z"
   },
   {
    "duration": 815,
    "start_time": "2022-07-27T09:41:01.094Z"
   },
   {
    "duration": 429,
    "start_time": "2022-07-27T09:41:01.911Z"
   },
   {
    "duration": 5,
    "start_time": "2022-07-27T09:41:02.342Z"
   },
   {
    "duration": 115,
    "start_time": "2022-07-27T09:41:02.348Z"
   },
   {
    "duration": 22,
    "start_time": "2022-07-27T09:41:33.142Z"
   },
   {
    "duration": 332,
    "start_time": "2022-07-27T09:41:37.016Z"
   },
   {
    "duration": 474,
    "start_time": "2022-07-27T09:41:53.676Z"
   },
   {
    "duration": 5,
    "start_time": "2022-07-27T09:42:05.720Z"
   },
   {
    "duration": 308,
    "start_time": "2022-07-27T09:42:06.231Z"
   },
   {
    "duration": 203,
    "start_time": "2022-07-27T09:42:12.795Z"
   },
   {
    "duration": 131,
    "start_time": "2022-07-27T10:00:22.015Z"
   },
   {
    "duration": 5,
    "start_time": "2022-07-27T10:04:08.295Z"
   },
   {
    "duration": 46,
    "start_time": "2022-07-27T10:11:45.914Z"
   },
   {
    "duration": 39,
    "start_time": "2022-07-27T10:14:05.429Z"
   },
   {
    "duration": 103,
    "start_time": "2022-07-27T10:15:08.739Z"
   },
   {
    "duration": 2,
    "start_time": "2022-07-27T10:15:11.924Z"
   },
   {
    "duration": 7,
    "start_time": "2022-07-27T10:15:33.239Z"
   },
   {
    "duration": 149,
    "start_time": "2022-07-27T10:15:49.085Z"
   },
   {
    "duration": 127,
    "start_time": "2022-07-27T10:16:02.074Z"
   },
   {
    "duration": 154,
    "start_time": "2022-07-27T10:16:09.720Z"
   },
   {
    "duration": 160,
    "start_time": "2022-07-27T10:16:29.981Z"
   },
   {
    "duration": 298,
    "start_time": "2022-07-27T10:16:36.600Z"
   },
   {
    "duration": 388,
    "start_time": "2022-07-27T10:16:56.007Z"
   },
   {
    "duration": 275,
    "start_time": "2022-07-27T10:17:00.816Z"
   },
   {
    "duration": 140,
    "start_time": "2022-07-27T10:23:00.119Z"
   },
   {
    "duration": 57,
    "start_time": "2022-07-27T10:23:20.989Z"
   },
   {
    "duration": 90,
    "start_time": "2022-07-27T10:23:28.925Z"
   },
   {
    "duration": 453,
    "start_time": "2022-07-27T10:26:20.253Z"
   },
   {
    "duration": 292,
    "start_time": "2022-07-27T10:27:49.071Z"
   },
   {
    "duration": 268,
    "start_time": "2022-07-27T10:28:55.994Z"
   },
   {
    "duration": 467,
    "start_time": "2022-07-27T10:29:27.666Z"
   },
   {
    "duration": 242,
    "start_time": "2022-07-27T10:29:32.245Z"
   },
   {
    "duration": 256,
    "start_time": "2022-07-27T10:29:36.844Z"
   },
   {
    "duration": 258,
    "start_time": "2022-07-27T10:29:39.748Z"
   },
   {
    "duration": 421,
    "start_time": "2022-07-27T10:30:02.693Z"
   },
   {
    "duration": 342,
    "start_time": "2022-07-27T10:30:12.265Z"
   },
   {
    "duration": 38,
    "start_time": "2022-07-27T10:30:27.188Z"
   },
   {
    "duration": 309,
    "start_time": "2022-07-27T10:31:08.957Z"
   },
   {
    "duration": 271,
    "start_time": "2022-07-27T10:31:28.572Z"
   },
   {
    "duration": 255,
    "start_time": "2022-07-27T10:33:53.821Z"
   },
   {
    "duration": 103,
    "start_time": "2022-07-27T10:36:49.223Z"
   },
   {
    "duration": 111,
    "start_time": "2022-07-27T10:37:10.462Z"
   },
   {
    "duration": 240,
    "start_time": "2022-07-27T10:37:15.925Z"
   },
   {
    "duration": 198,
    "start_time": "2022-07-27T10:40:35.673Z"
   },
   {
    "duration": 197,
    "start_time": "2022-07-27T10:40:47.582Z"
   },
   {
    "duration": 218,
    "start_time": "2022-07-27T10:40:54.269Z"
   },
   {
    "duration": 213,
    "start_time": "2022-07-27T10:41:37.393Z"
   },
   {
    "duration": 216,
    "start_time": "2022-07-27T10:41:49.481Z"
   },
   {
    "duration": 217,
    "start_time": "2022-07-27T10:41:54.328Z"
   },
   {
    "duration": 200,
    "start_time": "2022-07-27T10:42:09.453Z"
   },
   {
    "duration": 214,
    "start_time": "2022-07-27T10:42:26.123Z"
   },
   {
    "duration": 40,
    "start_time": "2022-07-27T10:45:35.816Z"
   },
   {
    "duration": 14,
    "start_time": "2022-07-27T10:50:51.534Z"
   },
   {
    "duration": 691,
    "start_time": "2022-07-27T10:51:23.071Z"
   },
   {
    "duration": 10,
    "start_time": "2022-07-27T10:53:37.088Z"
   },
   {
    "duration": 9,
    "start_time": "2022-07-27T10:54:02.247Z"
   },
   {
    "duration": 39,
    "start_time": "2022-07-27T11:01:12.129Z"
   },
   {
    "duration": 6,
    "start_time": "2022-07-27T11:02:03.400Z"
   },
   {
    "duration": 9,
    "start_time": "2022-07-27T11:02:30.333Z"
   },
   {
    "duration": 10,
    "start_time": "2022-07-27T11:02:34.621Z"
   },
   {
    "duration": 7,
    "start_time": "2022-07-27T11:05:53.526Z"
   },
   {
    "duration": 122,
    "start_time": "2022-07-27T11:05:58.245Z"
   },
   {
    "duration": 112,
    "start_time": "2022-07-27T11:06:14.691Z"
   },
   {
    "duration": 12,
    "start_time": "2022-07-27T11:06:37.800Z"
   },
   {
    "duration": 9,
    "start_time": "2022-07-27T11:07:00.931Z"
   },
   {
    "duration": 98,
    "start_time": "2022-07-27T11:07:13.792Z"
   },
   {
    "duration": 202,
    "start_time": "2022-07-27T11:08:07.566Z"
   },
   {
    "duration": 225,
    "start_time": "2022-07-27T11:08:32.792Z"
   },
   {
    "duration": 219,
    "start_time": "2022-07-27T11:08:49.540Z"
   },
   {
    "duration": 450,
    "start_time": "2022-07-27T11:10:04.196Z"
   },
   {
    "duration": 80,
    "start_time": "2022-07-27T11:12:49.723Z"
   },
   {
    "duration": 49,
    "start_time": "2022-07-27T11:26:34.467Z"
   },
   {
    "duration": 1080,
    "start_time": "2022-07-27T11:37:47.564Z"
   },
   {
    "duration": 179,
    "start_time": "2022-07-27T11:37:48.646Z"
   },
   {
    "duration": 3,
    "start_time": "2022-07-27T11:37:48.827Z"
   },
   {
    "duration": 97,
    "start_time": "2022-07-27T11:37:48.833Z"
   },
   {
    "duration": 23,
    "start_time": "2022-07-27T11:37:48.937Z"
   },
   {
    "duration": 401,
    "start_time": "2022-07-27T11:37:48.962Z"
   },
   {
    "duration": 359,
    "start_time": "2022-07-27T11:37:49.364Z"
   },
   {
    "duration": 5,
    "start_time": "2022-07-27T11:37:49.725Z"
   },
   {
    "duration": 304,
    "start_time": "2022-07-27T11:37:49.737Z"
   },
   {
    "duration": 188,
    "start_time": "2022-07-27T11:37:50.043Z"
   },
   {
    "duration": 135,
    "start_time": "2022-07-27T11:37:50.236Z"
   },
   {
    "duration": 4,
    "start_time": "2022-07-27T11:37:50.373Z"
   },
   {
    "duration": 70,
    "start_time": "2022-07-27T11:37:50.378Z"
   },
   {
    "duration": 34,
    "start_time": "2022-07-27T11:37:50.450Z"
   },
   {
    "duration": 359,
    "start_time": "2022-07-27T11:37:50.486Z"
   },
   {
    "duration": 221,
    "start_time": "2022-07-27T11:37:50.847Z"
   },
   {
    "duration": 6,
    "start_time": "2022-07-27T11:37:51.070Z"
   },
   {
    "duration": 64,
    "start_time": "2022-07-27T11:37:51.077Z"
   },
   {
    "duration": 14,
    "start_time": "2022-07-27T11:37:51.143Z"
   },
   {
    "duration": 507,
    "start_time": "2022-07-27T11:37:51.159Z"
   },
   {
    "duration": 218,
    "start_time": "2022-07-27T11:37:51.667Z"
   },
   {
    "duration": 7,
    "start_time": "2022-07-27T11:37:51.887Z"
   },
   {
    "duration": 11,
    "start_time": "2022-07-27T11:37:51.896Z"
   },
   {
    "duration": 31,
    "start_time": "2022-07-27T11:37:51.909Z"
   },
   {
    "duration": 97,
    "start_time": "2022-07-27T11:37:51.941Z"
   },
   {
    "duration": 40,
    "start_time": "2022-07-27T11:37:52.040Z"
   },
   {
    "duration": 1149,
    "start_time": "2022-07-27T11:44:23.806Z"
   },
   {
    "duration": 194,
    "start_time": "2022-07-27T11:44:24.957Z"
   },
   {
    "duration": 4,
    "start_time": "2022-07-27T11:44:25.153Z"
   },
   {
    "duration": 121,
    "start_time": "2022-07-27T11:44:25.159Z"
   },
   {
    "duration": 21,
    "start_time": "2022-07-27T11:44:25.282Z"
   },
   {
    "duration": 341,
    "start_time": "2022-07-27T11:44:25.305Z"
   },
   {
    "duration": 376,
    "start_time": "2022-07-27T11:44:25.648Z"
   },
   {
    "duration": 15,
    "start_time": "2022-07-27T11:44:26.025Z"
   },
   {
    "duration": 318,
    "start_time": "2022-07-27T11:44:26.042Z"
   },
   {
    "duration": 196,
    "start_time": "2022-07-27T11:44:26.362Z"
   },
   {
    "duration": 139,
    "start_time": "2022-07-27T11:44:26.560Z"
   },
   {
    "duration": 6,
    "start_time": "2022-07-27T11:44:26.701Z"
   },
   {
    "duration": 69,
    "start_time": "2022-07-27T11:44:26.709Z"
   },
   {
    "duration": 73,
    "start_time": "2022-07-27T11:44:26.780Z"
   },
   {
    "duration": 366,
    "start_time": "2022-07-27T11:44:26.855Z"
   },
   {
    "duration": 234,
    "start_time": "2022-07-27T11:44:27.224Z"
   },
   {
    "duration": 6,
    "start_time": "2022-07-27T11:44:27.460Z"
   },
   {
    "duration": 70,
    "start_time": "2022-07-27T11:44:27.468Z"
   },
   {
    "duration": 16,
    "start_time": "2022-07-27T11:44:27.540Z"
   },
   {
    "duration": 594,
    "start_time": "2022-07-27T11:44:27.558Z"
   },
   {
    "duration": 252,
    "start_time": "2022-07-27T11:44:28.154Z"
   },
   {
    "duration": 7,
    "start_time": "2022-07-27T11:44:28.408Z"
   },
   {
    "duration": 36,
    "start_time": "2022-07-27T11:44:28.417Z"
   },
   {
    "duration": 24,
    "start_time": "2022-07-27T11:44:28.455Z"
   },
   {
    "duration": 93,
    "start_time": "2022-07-27T11:44:28.481Z"
   },
   {
    "duration": 66,
    "start_time": "2022-07-27T11:44:28.576Z"
   },
   {
    "duration": 1107,
    "start_time": "2022-07-27T14:37:52.160Z"
   },
   {
    "duration": 425,
    "start_time": "2022-07-27T14:37:53.269Z"
   },
   {
    "duration": 3,
    "start_time": "2022-07-27T14:37:53.696Z"
   },
   {
    "duration": 99,
    "start_time": "2022-07-27T14:37:53.700Z"
   },
   {
    "duration": 17,
    "start_time": "2022-07-27T14:37:53.801Z"
   },
   {
    "duration": 317,
    "start_time": "2022-07-27T14:37:53.820Z"
   },
   {
    "duration": 342,
    "start_time": "2022-07-27T14:37:54.138Z"
   },
   {
    "duration": 4,
    "start_time": "2022-07-27T14:37:54.482Z"
   },
   {
    "duration": 302,
    "start_time": "2022-07-27T14:37:54.487Z"
   },
   {
    "duration": 185,
    "start_time": "2022-07-27T14:37:54.790Z"
   },
   {
    "duration": 127,
    "start_time": "2022-07-27T14:37:54.976Z"
   },
   {
    "duration": 3,
    "start_time": "2022-07-27T14:37:55.105Z"
   },
   {
    "duration": 63,
    "start_time": "2022-07-27T14:37:55.109Z"
   },
   {
    "duration": 32,
    "start_time": "2022-07-27T14:37:55.174Z"
   },
   {
    "duration": 356,
    "start_time": "2022-07-27T14:37:55.208Z"
   },
   {
    "duration": 202,
    "start_time": "2022-07-27T14:37:55.565Z"
   },
   {
    "duration": 5,
    "start_time": "2022-07-27T14:37:55.769Z"
   },
   {
    "duration": 40,
    "start_time": "2022-07-27T14:37:55.776Z"
   },
   {
    "duration": 12,
    "start_time": "2022-07-27T14:37:55.818Z"
   },
   {
    "duration": 600,
    "start_time": "2022-07-27T14:37:55.831Z"
   },
   {
    "duration": 229,
    "start_time": "2022-07-27T14:37:56.433Z"
   },
   {
    "duration": 6,
    "start_time": "2022-07-27T14:37:56.664Z"
   },
   {
    "duration": 11,
    "start_time": "2022-07-27T14:37:56.671Z"
   },
   {
    "duration": 11,
    "start_time": "2022-07-27T14:37:56.684Z"
   },
   {
    "duration": 103,
    "start_time": "2022-07-27T14:37:56.697Z"
   },
   {
    "duration": 59,
    "start_time": "2022-07-27T14:37:56.802Z"
   },
   {
    "duration": 3,
    "start_time": "2022-07-27T20:28:37.519Z"
   },
   {
    "duration": 206,
    "start_time": "2022-07-27T20:28:37.524Z"
   },
   {
    "duration": 4,
    "start_time": "2022-07-27T20:28:37.732Z"
   },
   {
    "duration": 69,
    "start_time": "2022-07-27T20:28:37.737Z"
   },
   {
    "duration": 21,
    "start_time": "2022-07-27T20:28:37.822Z"
   },
   {
    "duration": 343,
    "start_time": "2022-07-27T20:28:37.845Z"
   },
   {
    "duration": 377,
    "start_time": "2022-07-27T20:28:38.189Z"
   },
   {
    "duration": 10,
    "start_time": "2022-07-27T20:28:38.568Z"
   },
   {
    "duration": 6,
    "start_time": "2022-07-27T20:29:18.006Z"
   },
   {
    "duration": 5,
    "start_time": "2022-07-27T20:29:28.211Z"
   },
   {
    "duration": 8,
    "start_time": "2022-07-27T20:29:29.922Z"
   },
   {
    "duration": 46,
    "start_time": "2022-07-27T21:47:29.319Z"
   },
   {
    "duration": 1236,
    "start_time": "2022-07-27T21:47:33.896Z"
   },
   {
    "duration": 501,
    "start_time": "2022-07-27T21:47:35.134Z"
   },
   {
    "duration": 4,
    "start_time": "2022-07-27T21:47:35.637Z"
   },
   {
    "duration": 89,
    "start_time": "2022-07-27T21:47:35.643Z"
   },
   {
    "duration": 33,
    "start_time": "2022-07-27T21:47:35.733Z"
   },
   {
    "duration": 355,
    "start_time": "2022-07-27T21:47:35.769Z"
   },
   {
    "duration": 378,
    "start_time": "2022-07-27T21:47:36.126Z"
   },
   {
    "duration": 10,
    "start_time": "2022-07-27T21:47:36.506Z"
   },
   {
    "duration": 6,
    "start_time": "2022-07-27T21:47:36.517Z"
   },
   {
    "duration": 297,
    "start_time": "2022-07-27T21:47:36.526Z"
   },
   {
    "duration": 167,
    "start_time": "2022-07-27T21:47:36.825Z"
   },
   {
    "duration": 117,
    "start_time": "2022-07-27T21:47:36.993Z"
   },
   {
    "duration": 4,
    "start_time": "2022-07-27T21:47:37.111Z"
   },
   {
    "duration": 56,
    "start_time": "2022-07-27T21:47:37.116Z"
   },
   {
    "duration": 33,
    "start_time": "2022-07-27T21:47:37.174Z"
   },
   {
    "duration": 341,
    "start_time": "2022-07-27T21:47:37.208Z"
   },
   {
    "duration": 208,
    "start_time": "2022-07-27T21:47:37.551Z"
   },
   {
    "duration": 6,
    "start_time": "2022-07-27T21:47:37.761Z"
   },
   {
    "duration": 51,
    "start_time": "2022-07-27T21:47:37.769Z"
   },
   {
    "duration": 32,
    "start_time": "2022-07-27T21:47:37.822Z"
   },
   {
    "duration": 541,
    "start_time": "2022-07-27T21:47:37.856Z"
   },
   {
    "duration": 238,
    "start_time": "2022-07-27T21:47:38.399Z"
   },
   {
    "duration": 14,
    "start_time": "2022-07-27T21:47:38.639Z"
   },
   {
    "duration": 12,
    "start_time": "2022-07-27T21:47:38.655Z"
   },
   {
    "duration": 11,
    "start_time": "2022-07-27T21:47:38.669Z"
   },
   {
    "duration": 106,
    "start_time": "2022-07-27T21:47:38.682Z"
   },
   {
    "duration": 7,
    "start_time": "2022-07-27T21:47:38.790Z"
   },
   {
    "duration": 6,
    "start_time": "2022-07-27T21:52:00.222Z"
   },
   {
    "duration": 151,
    "start_time": "2022-07-27T21:52:05.934Z"
   },
   {
    "duration": 95,
    "start_time": "2022-07-27T21:52:24.031Z"
   },
   {
    "duration": 63,
    "start_time": "2022-07-27T21:53:32.629Z"
   },
   {
    "duration": 9,
    "start_time": "2022-07-27T21:53:40.022Z"
   },
   {
    "duration": 9,
    "start_time": "2022-07-27T21:54:28.546Z"
   },
   {
    "duration": 8,
    "start_time": "2022-07-27T21:54:45.980Z"
   },
   {
    "duration": 8,
    "start_time": "2022-07-27T21:56:09.923Z"
   },
   {
    "duration": 9,
    "start_time": "2022-07-27T21:56:43.799Z"
   },
   {
    "duration": 9,
    "start_time": "2022-07-27T21:57:41.491Z"
   },
   {
    "duration": 203,
    "start_time": "2022-07-27T21:57:49.033Z"
   },
   {
    "duration": 779,
    "start_time": "2022-07-27T21:57:57.806Z"
   },
   {
    "duration": 983,
    "start_time": "2022-07-27T22:04:02.916Z"
   },
   {
    "duration": 368,
    "start_time": "2022-07-27T22:04:37.055Z"
   },
   {
    "duration": 1057,
    "start_time": "2022-07-27T22:05:57.875Z"
   },
   {
    "duration": 1377,
    "start_time": "2022-07-27T22:06:21.795Z"
   },
   {
    "duration": 591,
    "start_time": "2022-07-27T22:06:38.120Z"
   },
   {
    "duration": 1069,
    "start_time": "2022-07-27T22:07:08.594Z"
   },
   {
    "duration": 1462,
    "start_time": "2022-07-27T22:07:32.760Z"
   },
   {
    "duration": 1063,
    "start_time": "2022-07-27T22:07:36.470Z"
   },
   {
    "duration": 1040,
    "start_time": "2022-07-27T22:07:51.017Z"
   },
   {
    "duration": 1085,
    "start_time": "2022-07-27T22:08:58.212Z"
   },
   {
    "duration": 1038,
    "start_time": "2022-07-27T22:09:49.888Z"
   },
   {
    "duration": 164,
    "start_time": "2022-07-27T22:09:50.928Z"
   },
   {
    "duration": 3,
    "start_time": "2022-07-27T22:09:51.093Z"
   },
   {
    "duration": 85,
    "start_time": "2022-07-27T22:09:51.098Z"
   },
   {
    "duration": 16,
    "start_time": "2022-07-27T22:09:51.184Z"
   },
   {
    "duration": 286,
    "start_time": "2022-07-27T22:09:51.201Z"
   },
   {
    "duration": 312,
    "start_time": "2022-07-27T22:09:51.488Z"
   },
   {
    "duration": 10,
    "start_time": "2022-07-27T22:09:51.801Z"
   },
   {
    "duration": 10,
    "start_time": "2022-07-27T22:09:51.812Z"
   },
   {
    "duration": 274,
    "start_time": "2022-07-27T22:09:51.824Z"
   },
   {
    "duration": 185,
    "start_time": "2022-07-27T22:09:52.100Z"
   },
   {
    "duration": 136,
    "start_time": "2022-07-27T22:09:52.287Z"
   },
   {
    "duration": 4,
    "start_time": "2022-07-27T22:09:52.424Z"
   },
   {
    "duration": 61,
    "start_time": "2022-07-27T22:09:52.430Z"
   },
   {
    "duration": 63,
    "start_time": "2022-07-27T22:09:52.492Z"
   },
   {
    "duration": 355,
    "start_time": "2022-07-27T22:09:52.557Z"
   },
   {
    "duration": 209,
    "start_time": "2022-07-27T22:09:52.914Z"
   },
   {
    "duration": 6,
    "start_time": "2022-07-27T22:09:53.125Z"
   },
   {
    "duration": 58,
    "start_time": "2022-07-27T22:09:53.132Z"
   },
   {
    "duration": 14,
    "start_time": "2022-07-27T22:09:53.191Z"
   },
   {
    "duration": 574,
    "start_time": "2022-07-27T22:09:53.207Z"
   },
   {
    "duration": 219,
    "start_time": "2022-07-27T22:09:53.782Z"
   },
   {
    "duration": 6,
    "start_time": "2022-07-27T22:09:54.003Z"
   },
   {
    "duration": 12,
    "start_time": "2022-07-27T22:09:54.010Z"
   },
   {
    "duration": 9,
    "start_time": "2022-07-27T22:09:54.024Z"
   },
   {
    "duration": 78,
    "start_time": "2022-07-27T22:09:54.051Z"
   },
   {
    "duration": 6,
    "start_time": "2022-07-27T22:09:54.151Z"
   },
   {
    "duration": 894,
    "start_time": "2022-07-27T22:09:54.160Z"
   },
   {
    "duration": 42,
    "start_time": "2022-07-27T22:09:55.055Z"
   },
   {
    "duration": 473,
    "start_time": "2022-07-27T22:18:57.972Z"
   },
   {
    "duration": 108,
    "start_time": "2022-07-27T22:19:13.379Z"
   },
   {
    "duration": 818,
    "start_time": "2022-07-27T22:19:16.463Z"
   },
   {
    "duration": 1090,
    "start_time": "2022-07-27T22:19:32.966Z"
   },
   {
    "duration": 197,
    "start_time": "2022-07-27T22:19:34.058Z"
   },
   {
    "duration": 4,
    "start_time": "2022-07-27T22:19:34.256Z"
   },
   {
    "duration": 215,
    "start_time": "2022-07-27T22:19:34.263Z"
   },
   {
    "duration": 74,
    "start_time": "2022-07-27T22:19:34.480Z"
   },
   {
    "duration": 637,
    "start_time": "2022-07-27T22:19:34.555Z"
   },
   {
    "duration": 683,
    "start_time": "2022-07-27T22:19:35.194Z"
   },
   {
    "duration": 8,
    "start_time": "2022-07-27T22:19:35.879Z"
   },
   {
    "duration": 13,
    "start_time": "2022-07-27T22:19:35.889Z"
   },
   {
    "duration": 365,
    "start_time": "2022-07-27T22:19:35.904Z"
   },
   {
    "duration": 187,
    "start_time": "2022-07-27T22:19:36.271Z"
   },
   {
    "duration": 140,
    "start_time": "2022-07-27T22:19:36.459Z"
   },
   {
    "duration": 5,
    "start_time": "2022-07-27T22:19:36.601Z"
   },
   {
    "duration": 64,
    "start_time": "2022-07-27T22:19:36.608Z"
   },
   {
    "duration": 40,
    "start_time": "2022-07-27T22:19:36.674Z"
   },
   {
    "duration": 324,
    "start_time": "2022-07-27T22:19:36.715Z"
   },
   {
    "duration": 193,
    "start_time": "2022-07-27T22:19:37.041Z"
   },
   {
    "duration": 6,
    "start_time": "2022-07-27T22:19:37.235Z"
   },
   {
    "duration": 37,
    "start_time": "2022-07-27T22:19:37.251Z"
   },
   {
    "duration": 12,
    "start_time": "2022-07-27T22:19:37.289Z"
   },
   {
    "duration": 440,
    "start_time": "2022-07-27T22:19:37.302Z"
   },
   {
    "duration": 192,
    "start_time": "2022-07-27T22:19:37.743Z"
   },
   {
    "duration": 5,
    "start_time": "2022-07-27T22:19:37.937Z"
   },
   {
    "duration": 8,
    "start_time": "2022-07-27T22:19:37.952Z"
   },
   {
    "duration": 9,
    "start_time": "2022-07-27T22:19:37.962Z"
   },
   {
    "duration": 89,
    "start_time": "2022-07-27T22:19:37.972Z"
   },
   {
    "duration": 5,
    "start_time": "2022-07-27T22:19:38.062Z"
   },
   {
    "duration": 867,
    "start_time": "2022-07-27T22:19:38.070Z"
   },
   {
    "duration": 41,
    "start_time": "2022-07-27T22:19:38.938Z"
   },
   {
    "duration": 979,
    "start_time": "2022-07-27T22:23:40.423Z"
   },
   {
    "duration": 171,
    "start_time": "2022-07-27T22:23:41.404Z"
   },
   {
    "duration": 3,
    "start_time": "2022-07-27T22:23:41.577Z"
   },
   {
    "duration": 90,
    "start_time": "2022-07-27T22:23:41.582Z"
   },
   {
    "duration": 18,
    "start_time": "2022-07-27T22:23:41.674Z"
   },
   {
    "duration": 310,
    "start_time": "2022-07-27T22:23:41.693Z"
   },
   {
    "duration": 306,
    "start_time": "2022-07-27T22:23:42.004Z"
   },
   {
    "duration": 9,
    "start_time": "2022-07-27T22:23:42.312Z"
   },
   {
    "duration": 16,
    "start_time": "2022-07-27T22:23:42.323Z"
   },
   {
    "duration": 265,
    "start_time": "2022-07-27T22:23:42.342Z"
   },
   {
    "duration": 166,
    "start_time": "2022-07-27T22:23:42.608Z"
   },
   {
    "duration": 115,
    "start_time": "2022-07-27T22:23:42.775Z"
   },
   {
    "duration": 4,
    "start_time": "2022-07-27T22:23:42.891Z"
   },
   {
    "duration": 63,
    "start_time": "2022-07-27T22:23:42.896Z"
   },
   {
    "duration": 32,
    "start_time": "2022-07-27T22:23:42.961Z"
   },
   {
    "duration": 331,
    "start_time": "2022-07-27T22:23:42.994Z"
   },
   {
    "duration": 186,
    "start_time": "2022-07-27T22:23:43.326Z"
   },
   {
    "duration": 5,
    "start_time": "2022-07-27T22:23:43.513Z"
   },
   {
    "duration": 55,
    "start_time": "2022-07-27T22:23:43.520Z"
   },
   {
    "duration": 13,
    "start_time": "2022-07-27T22:23:43.577Z"
   },
   {
    "duration": 549,
    "start_time": "2022-07-27T22:23:43.591Z"
   },
   {
    "duration": 199,
    "start_time": "2022-07-27T22:23:44.141Z"
   },
   {
    "duration": 12,
    "start_time": "2022-07-27T22:23:44.341Z"
   },
   {
    "duration": 9,
    "start_time": "2022-07-27T22:23:44.354Z"
   },
   {
    "duration": 7,
    "start_time": "2022-07-27T22:23:44.365Z"
   },
   {
    "duration": 92,
    "start_time": "2022-07-27T22:23:44.373Z"
   },
   {
    "duration": 5,
    "start_time": "2022-07-27T22:23:44.467Z"
   },
   {
    "duration": 852,
    "start_time": "2022-07-27T22:23:44.474Z"
   },
   {
    "duration": 46,
    "start_time": "2022-07-27T22:23:45.327Z"
   },
   {
    "duration": 1378,
    "start_time": "2022-07-27T22:26:34.590Z"
   },
   {
    "duration": 287,
    "start_time": "2022-07-27T22:26:35.970Z"
   },
   {
    "duration": 4,
    "start_time": "2022-07-27T22:26:36.258Z"
   },
   {
    "duration": 200,
    "start_time": "2022-07-27T22:26:36.264Z"
   },
   {
    "duration": 18,
    "start_time": "2022-07-27T22:26:36.465Z"
   },
   {
    "duration": 500,
    "start_time": "2022-07-27T22:26:36.485Z"
   },
   {
    "duration": 316,
    "start_time": "2022-07-27T22:26:36.986Z"
   },
   {
    "duration": 9,
    "start_time": "2022-07-27T22:26:37.303Z"
   },
   {
    "duration": 3,
    "start_time": "2022-07-27T22:26:37.314Z"
   },
   {
    "duration": 269,
    "start_time": "2022-07-27T22:26:37.319Z"
   },
   {
    "duration": 163,
    "start_time": "2022-07-27T22:26:37.590Z"
   },
   {
    "duration": 115,
    "start_time": "2022-07-27T22:26:37.754Z"
   },
   {
    "duration": 4,
    "start_time": "2022-07-27T22:26:37.871Z"
   },
   {
    "duration": 40,
    "start_time": "2022-07-27T22:26:37.876Z"
   },
   {
    "duration": 56,
    "start_time": "2022-07-27T22:26:37.917Z"
   },
   {
    "duration": 342,
    "start_time": "2022-07-27T22:26:37.974Z"
   },
   {
    "duration": 214,
    "start_time": "2022-07-27T22:26:38.318Z"
   },
   {
    "duration": 6,
    "start_time": "2022-07-27T22:26:38.534Z"
   },
   {
    "duration": 43,
    "start_time": "2022-07-27T22:26:38.541Z"
   },
   {
    "duration": 13,
    "start_time": "2022-07-27T22:26:38.586Z"
   },
   {
    "duration": 448,
    "start_time": "2022-07-27T22:26:38.600Z"
   },
   {
    "duration": 194,
    "start_time": "2022-07-27T22:26:39.054Z"
   },
   {
    "duration": 5,
    "start_time": "2022-07-27T22:26:39.252Z"
   },
   {
    "duration": 8,
    "start_time": "2022-07-27T22:26:39.259Z"
   },
   {
    "duration": 9,
    "start_time": "2022-07-27T22:26:39.268Z"
   },
   {
    "duration": 89,
    "start_time": "2022-07-27T22:26:39.278Z"
   },
   {
    "duration": 5,
    "start_time": "2022-07-27T22:26:39.368Z"
   },
   {
    "duration": 829,
    "start_time": "2022-07-27T22:26:39.376Z"
   },
   {
    "duration": 51,
    "start_time": "2022-07-27T22:26:40.206Z"
   },
   {
    "duration": 10,
    "start_time": "2022-07-27T22:27:06.588Z"
   },
   {
    "duration": 1067,
    "start_time": "2022-07-27T22:29:35.880Z"
   },
   {
    "duration": 169,
    "start_time": "2022-07-27T22:29:36.951Z"
   },
   {
    "duration": 3,
    "start_time": "2022-07-27T22:29:37.122Z"
   },
   {
    "duration": 83,
    "start_time": "2022-07-27T22:29:37.127Z"
   },
   {
    "duration": 16,
    "start_time": "2022-07-27T22:29:37.212Z"
   },
   {
    "duration": 291,
    "start_time": "2022-07-27T22:29:37.229Z"
   },
   {
    "duration": 314,
    "start_time": "2022-07-27T22:29:37.522Z"
   },
   {
    "duration": 17,
    "start_time": "2022-07-27T22:29:37.838Z"
   },
   {
    "duration": 3,
    "start_time": "2022-07-27T22:29:37.857Z"
   },
   {
    "duration": 326,
    "start_time": "2022-07-27T22:29:37.862Z"
   },
   {
    "duration": 402,
    "start_time": "2022-07-27T22:29:38.190Z"
   },
   {
    "duration": 277,
    "start_time": "2022-07-27T22:29:38.594Z"
   },
   {
    "duration": 4,
    "start_time": "2022-07-27T22:29:38.873Z"
   },
   {
    "duration": 97,
    "start_time": "2022-07-27T22:29:38.880Z"
   },
   {
    "duration": 87,
    "start_time": "2022-07-27T22:29:38.978Z"
   },
   {
    "duration": 623,
    "start_time": "2022-07-27T22:29:39.067Z"
   },
   {
    "duration": 227,
    "start_time": "2022-07-27T22:29:39.692Z"
   },
   {
    "duration": 6,
    "start_time": "2022-07-27T22:29:39.921Z"
   },
   {
    "duration": 60,
    "start_time": "2022-07-27T22:29:39.928Z"
   },
   {
    "duration": 17,
    "start_time": "2022-07-27T22:29:39.990Z"
   },
   {
    "duration": 444,
    "start_time": "2022-07-27T22:29:40.008Z"
   },
   {
    "duration": 215,
    "start_time": "2022-07-27T22:29:40.453Z"
   },
   {
    "duration": 5,
    "start_time": "2022-07-27T22:29:40.670Z"
   },
   {
    "duration": 8,
    "start_time": "2022-07-27T22:29:40.676Z"
   },
   {
    "duration": 7,
    "start_time": "2022-07-27T22:29:40.685Z"
   },
   {
    "duration": 92,
    "start_time": "2022-07-27T22:29:40.694Z"
   },
   {
    "duration": 5,
    "start_time": "2022-07-27T22:29:40.788Z"
   },
   {
    "duration": 814,
    "start_time": "2022-07-27T22:29:40.794Z"
   },
   {
    "duration": 48,
    "start_time": "2022-07-27T22:29:41.610Z"
   },
   {
    "duration": 3,
    "start_time": "2022-07-27T22:30:10.769Z"
   },
   {
    "duration": 170,
    "start_time": "2022-07-27T22:30:10.773Z"
   },
   {
    "duration": 3,
    "start_time": "2022-07-27T22:30:10.945Z"
   },
   {
    "duration": 63,
    "start_time": "2022-07-27T22:30:10.950Z"
   },
   {
    "duration": 16,
    "start_time": "2022-07-27T22:30:11.014Z"
   },
   {
    "duration": 285,
    "start_time": "2022-07-27T22:30:11.031Z"
   },
   {
    "duration": 351,
    "start_time": "2022-07-27T22:30:11.318Z"
   },
   {
    "duration": 10,
    "start_time": "2022-07-27T22:30:11.671Z"
   },
   {
    "duration": 4,
    "start_time": "2022-07-27T22:30:25.674Z"
   },
   {
    "duration": 9,
    "start_time": "2022-07-27T22:30:28.189Z"
   },
   {
    "duration": 1281,
    "start_time": "2022-07-27T22:30:33.457Z"
   },
   {
    "duration": 178,
    "start_time": "2022-07-27T22:30:34.740Z"
   },
   {
    "duration": 3,
    "start_time": "2022-07-27T22:30:34.953Z"
   },
   {
    "duration": 212,
    "start_time": "2022-07-27T22:30:34.958Z"
   },
   {
    "duration": 19,
    "start_time": "2022-07-27T22:30:35.171Z"
   },
   {
    "duration": 667,
    "start_time": "2022-07-27T22:30:35.192Z"
   },
   {
    "duration": 681,
    "start_time": "2022-07-27T22:30:35.861Z"
   },
   {
    "duration": 12,
    "start_time": "2022-07-27T22:30:36.552Z"
   },
   {
    "duration": 4,
    "start_time": "2022-07-27T22:30:36.566Z"
   },
   {
    "duration": 311,
    "start_time": "2022-07-27T22:30:36.571Z"
   },
   {
    "duration": 169,
    "start_time": "2022-07-27T22:30:36.884Z"
   },
   {
    "duration": 128,
    "start_time": "2022-07-27T22:30:37.054Z"
   },
   {
    "duration": 3,
    "start_time": "2022-07-27T22:30:37.184Z"
   },
   {
    "duration": 40,
    "start_time": "2022-07-27T22:30:37.189Z"
   },
   {
    "duration": 30,
    "start_time": "2022-07-27T22:30:37.252Z"
   },
   {
    "duration": 327,
    "start_time": "2022-07-27T22:30:37.284Z"
   },
   {
    "duration": 204,
    "start_time": "2022-07-27T22:30:37.613Z"
   },
   {
    "duration": 6,
    "start_time": "2022-07-27T22:30:37.819Z"
   },
   {
    "duration": 53,
    "start_time": "2022-07-27T22:30:37.827Z"
   },
   {
    "duration": 13,
    "start_time": "2022-07-27T22:30:37.882Z"
   },
   {
    "duration": 575,
    "start_time": "2022-07-27T22:30:37.896Z"
   },
   {
    "duration": 219,
    "start_time": "2022-07-27T22:30:38.473Z"
   },
   {
    "duration": 7,
    "start_time": "2022-07-27T22:30:38.694Z"
   },
   {
    "duration": 13,
    "start_time": "2022-07-27T22:30:38.702Z"
   },
   {
    "duration": 10,
    "start_time": "2022-07-27T22:30:38.717Z"
   },
   {
    "duration": 97,
    "start_time": "2022-07-27T22:30:38.729Z"
   },
   {
    "duration": 31,
    "start_time": "2022-07-27T22:30:38.827Z"
   },
   {
    "duration": 820,
    "start_time": "2022-07-27T22:30:38.860Z"
   },
   {
    "duration": 35,
    "start_time": "2022-07-27T22:30:39.681Z"
   },
   {
    "duration": 1389,
    "start_time": "2022-07-28T18:42:04.197Z"
   },
   {
    "duration": 462,
    "start_time": "2022-07-28T18:42:05.588Z"
   },
   {
    "duration": 5,
    "start_time": "2022-07-28T18:42:06.053Z"
   },
   {
    "duration": 130,
    "start_time": "2022-07-28T18:42:06.060Z"
   },
   {
    "duration": 37,
    "start_time": "2022-07-28T18:42:06.191Z"
   },
   {
    "duration": 358,
    "start_time": "2022-07-28T18:42:06.230Z"
   },
   {
    "duration": 389,
    "start_time": "2022-07-28T18:42:06.590Z"
   },
   {
    "duration": 14,
    "start_time": "2022-07-28T18:42:06.980Z"
   },
   {
    "duration": 4,
    "start_time": "2022-07-28T18:42:06.996Z"
   },
   {
    "duration": 341,
    "start_time": "2022-07-28T18:42:07.003Z"
   },
   {
    "duration": 223,
    "start_time": "2022-07-28T18:42:07.346Z"
   },
   {
    "duration": 153,
    "start_time": "2022-07-28T18:42:07.570Z"
   },
   {
    "duration": 6,
    "start_time": "2022-07-28T18:42:07.725Z"
   },
   {
    "duration": 49,
    "start_time": "2022-07-28T18:42:07.732Z"
   },
   {
    "duration": 78,
    "start_time": "2022-07-28T18:42:07.782Z"
   },
   {
    "duration": 404,
    "start_time": "2022-07-28T18:42:07.862Z"
   },
   {
    "duration": 242,
    "start_time": "2022-07-28T18:42:08.268Z"
   },
   {
    "duration": 16,
    "start_time": "2022-07-28T18:42:08.511Z"
   },
   {
    "duration": 52,
    "start_time": "2022-07-28T18:42:08.529Z"
   },
   {
    "duration": 15,
    "start_time": "2022-07-28T18:42:08.584Z"
   },
   {
    "duration": 643,
    "start_time": "2022-07-28T18:42:08.600Z"
   },
   {
    "duration": 240,
    "start_time": "2022-07-28T18:42:09.245Z"
   },
   {
    "duration": 7,
    "start_time": "2022-07-28T18:42:09.487Z"
   },
   {
    "duration": 16,
    "start_time": "2022-07-28T18:42:09.495Z"
   },
   {
    "duration": 11,
    "start_time": "2022-07-28T18:42:09.522Z"
   },
   {
    "duration": 110,
    "start_time": "2022-07-28T18:42:09.534Z"
   },
   {
    "duration": 6,
    "start_time": "2022-07-28T18:42:09.646Z"
   },
   {
    "duration": 1006,
    "start_time": "2022-07-28T18:42:09.655Z"
   },
   {
    "duration": 64,
    "start_time": "2022-07-28T18:42:10.663Z"
   },
   {
    "duration": 196,
    "start_time": "2022-07-28T18:43:36.181Z"
   },
   {
    "duration": 1285,
    "start_time": "2022-07-28T18:43:49.017Z"
   },
   {
    "duration": 200,
    "start_time": "2022-07-28T18:43:50.305Z"
   },
   {
    "duration": 4,
    "start_time": "2022-07-28T18:43:50.506Z"
   },
   {
    "duration": 101,
    "start_time": "2022-07-28T18:43:50.511Z"
   },
   {
    "duration": 29,
    "start_time": "2022-07-28T18:43:50.623Z"
   },
   {
    "duration": 364,
    "start_time": "2022-07-28T18:43:50.654Z"
   },
   {
    "duration": 374,
    "start_time": "2022-07-28T18:43:51.023Z"
   },
   {
    "duration": 25,
    "start_time": "2022-07-28T18:43:51.399Z"
   },
   {
    "duration": 5,
    "start_time": "2022-07-28T18:43:51.426Z"
   },
   {
    "duration": 324,
    "start_time": "2022-07-28T18:43:51.433Z"
   },
   {
    "duration": 202,
    "start_time": "2022-07-28T18:43:51.759Z"
   },
   {
    "duration": 139,
    "start_time": "2022-07-28T18:43:51.964Z"
   },
   {
    "duration": 21,
    "start_time": "2022-07-28T18:43:52.105Z"
   },
   {
    "duration": 46,
    "start_time": "2022-07-28T18:43:52.129Z"
   },
   {
    "duration": 65,
    "start_time": "2022-07-28T18:43:52.177Z"
   },
   {
    "duration": 369,
    "start_time": "2022-07-28T18:43:52.244Z"
   },
   {
    "duration": 225,
    "start_time": "2022-07-28T18:43:52.614Z"
   },
   {
    "duration": 7,
    "start_time": "2022-07-28T18:43:52.841Z"
   },
   {
    "duration": 46,
    "start_time": "2022-07-28T18:43:52.849Z"
   },
   {
    "duration": 39,
    "start_time": "2022-07-28T18:43:52.897Z"
   },
   {
    "duration": 524,
    "start_time": "2022-07-28T18:43:52.938Z"
   },
   {
    "duration": 241,
    "start_time": "2022-07-28T18:43:53.463Z"
   },
   {
    "duration": 18,
    "start_time": "2022-07-28T18:43:53.706Z"
   },
   {
    "duration": 13,
    "start_time": "2022-07-28T18:43:53.726Z"
   },
   {
    "duration": 15,
    "start_time": "2022-07-28T18:43:53.741Z"
   },
   {
    "duration": 110,
    "start_time": "2022-07-28T18:43:53.758Z"
   },
   {
    "duration": 7,
    "start_time": "2022-07-28T18:43:53.870Z"
   },
   {
    "duration": 982,
    "start_time": "2022-07-28T18:43:53.879Z"
   },
   {
    "duration": 69,
    "start_time": "2022-07-28T18:43:54.862Z"
   },
   {
    "duration": 13,
    "start_time": "2022-07-28T18:46:07.623Z"
   },
   {
    "duration": 108,
    "start_time": "2022-07-28T18:46:31.833Z"
   },
   {
    "duration": 11,
    "start_time": "2022-07-28T18:47:00.383Z"
   },
   {
    "duration": 14,
    "start_time": "2022-07-28T18:47:12.189Z"
   },
   {
    "duration": 11,
    "start_time": "2022-07-28T18:47:17.880Z"
   },
   {
    "duration": 15,
    "start_time": "2022-07-28T18:47:34.587Z"
   },
   {
    "duration": 850,
    "start_time": "2022-07-28T18:47:58.120Z"
   },
   {
    "duration": 12,
    "start_time": "2022-07-28T18:48:02.265Z"
   },
   {
    "duration": 14,
    "start_time": "2022-07-28T18:48:20.611Z"
   },
   {
    "duration": 7,
    "start_time": "2022-07-28T18:54:56.900Z"
   },
   {
    "duration": 17,
    "start_time": "2022-07-28T18:56:01.063Z"
   },
   {
    "duration": 12,
    "start_time": "2022-07-28T18:56:17.542Z"
   },
   {
    "duration": 13,
    "start_time": "2022-07-28T18:59:50.755Z"
   },
   {
    "duration": 25,
    "start_time": "2022-07-28T19:05:14.649Z"
   },
   {
    "duration": 68,
    "start_time": "2022-07-28T19:06:54.964Z"
   },
   {
    "duration": 11,
    "start_time": "2022-07-28T19:07:00.916Z"
   },
   {
    "duration": 14,
    "start_time": "2022-07-28T19:07:37.950Z"
   },
   {
    "duration": 1141,
    "start_time": "2022-07-28T19:08:04.122Z"
   },
   {
    "duration": 196,
    "start_time": "2022-07-28T19:08:05.265Z"
   },
   {
    "duration": 5,
    "start_time": "2022-07-28T19:08:05.462Z"
   },
   {
    "duration": 110,
    "start_time": "2022-07-28T19:08:05.469Z"
   },
   {
    "duration": 19,
    "start_time": "2022-07-28T19:08:05.581Z"
   },
   {
    "duration": 343,
    "start_time": "2022-07-28T19:08:05.602Z"
   },
   {
    "duration": 410,
    "start_time": "2022-07-28T19:08:05.947Z"
   },
   {
    "duration": 12,
    "start_time": "2022-07-28T19:08:06.359Z"
   },
   {
    "duration": 24,
    "start_time": "2022-07-28T19:08:06.373Z"
   },
   {
    "duration": 310,
    "start_time": "2022-07-28T19:08:06.399Z"
   },
   {
    "duration": 197,
    "start_time": "2022-07-28T19:08:06.711Z"
   },
   {
    "duration": 143,
    "start_time": "2022-07-28T19:08:06.910Z"
   },
   {
    "duration": 5,
    "start_time": "2022-07-28T19:08:07.055Z"
   },
   {
    "duration": 76,
    "start_time": "2022-07-28T19:08:07.062Z"
   },
   {
    "duration": 38,
    "start_time": "2022-07-28T19:08:07.141Z"
   },
   {
    "duration": 398,
    "start_time": "2022-07-28T19:08:07.181Z"
   },
   {
    "duration": 225,
    "start_time": "2022-07-28T19:08:07.581Z"
   },
   {
    "duration": 5,
    "start_time": "2022-07-28T19:08:07.808Z"
   },
   {
    "duration": 47,
    "start_time": "2022-07-28T19:08:07.822Z"
   },
   {
    "duration": 14,
    "start_time": "2022-07-28T19:08:07.871Z"
   },
   {
    "duration": 578,
    "start_time": "2022-07-28T19:08:07.887Z"
   },
   {
    "duration": 241,
    "start_time": "2022-07-28T19:08:08.467Z"
   },
   {
    "duration": 14,
    "start_time": "2022-07-28T19:08:08.710Z"
   },
   {
    "duration": 13,
    "start_time": "2022-07-28T19:08:08.726Z"
   },
   {
    "duration": 10,
    "start_time": "2022-07-28T19:08:08.741Z"
   },
   {
    "duration": 129,
    "start_time": "2022-07-28T19:08:08.753Z"
   },
   {
    "duration": 7,
    "start_time": "2022-07-28T19:08:08.884Z"
   },
   {
    "duration": 1068,
    "start_time": "2022-07-28T19:08:08.896Z"
   },
   {
    "duration": 59,
    "start_time": "2022-07-28T19:08:09.966Z"
   },
   {
    "duration": 13,
    "start_time": "2022-07-28T19:08:10.027Z"
   },
   {
    "duration": 111,
    "start_time": "2022-07-28T19:08:10.041Z"
   },
   {
    "duration": 0,
    "start_time": "2022-07-28T19:08:10.153Z"
   },
   {
    "duration": 19,
    "start_time": "2022-07-28T19:08:28.382Z"
   },
   {
    "duration": 13,
    "start_time": "2022-07-28T19:08:38.549Z"
   },
   {
    "duration": 3,
    "start_time": "2022-07-28T19:09:07.550Z"
   },
   {
    "duration": 209,
    "start_time": "2022-07-28T19:09:07.555Z"
   },
   {
    "duration": 3,
    "start_time": "2022-07-28T19:09:07.766Z"
   },
   {
    "duration": 62,
    "start_time": "2022-07-28T19:09:07.771Z"
   },
   {
    "duration": 21,
    "start_time": "2022-07-28T19:09:07.835Z"
   },
   {
    "duration": 357,
    "start_time": "2022-07-28T19:09:07.858Z"
   },
   {
    "duration": 403,
    "start_time": "2022-07-28T19:09:08.222Z"
   },
   {
    "duration": 13,
    "start_time": "2022-07-28T19:09:08.627Z"
   },
   {
    "duration": 4,
    "start_time": "2022-07-28T19:09:08.642Z"
   },
   {
    "duration": 408,
    "start_time": "2022-07-28T19:09:08.649Z"
   },
   {
    "duration": 233,
    "start_time": "2022-07-28T19:09:09.060Z"
   },
   {
    "duration": 164,
    "start_time": "2022-07-28T19:09:09.295Z"
   },
   {
    "duration": 4,
    "start_time": "2022-07-28T19:09:09.461Z"
   },
   {
    "duration": 77,
    "start_time": "2022-07-28T19:09:09.466Z"
   },
   {
    "duration": 39,
    "start_time": "2022-07-28T19:09:09.544Z"
   },
   {
    "duration": 347,
    "start_time": "2022-07-28T19:09:09.623Z"
   },
   {
    "duration": 351,
    "start_time": "2022-07-28T19:09:09.972Z"
   },
   {
    "duration": 7,
    "start_time": "2022-07-28T19:09:10.324Z"
   },
   {
    "duration": 46,
    "start_time": "2022-07-28T19:09:10.332Z"
   },
   {
    "duration": 43,
    "start_time": "2022-07-28T19:09:10.380Z"
   },
   {
    "duration": 542,
    "start_time": "2022-07-28T19:09:10.426Z"
   },
   {
    "duration": 242,
    "start_time": "2022-07-28T19:09:10.970Z"
   },
   {
    "duration": 10,
    "start_time": "2022-07-28T19:09:11.214Z"
   },
   {
    "duration": 10,
    "start_time": "2022-07-28T19:09:11.225Z"
   },
   {
    "duration": 11,
    "start_time": "2022-07-28T19:09:11.237Z"
   },
   {
    "duration": 105,
    "start_time": "2022-07-28T19:09:11.250Z"
   },
   {
    "duration": 6,
    "start_time": "2022-07-28T19:09:11.357Z"
   },
   {
    "duration": 1035,
    "start_time": "2022-07-28T19:09:11.366Z"
   },
   {
    "duration": 47,
    "start_time": "2022-07-28T19:09:12.402Z"
   },
   {
    "duration": 15,
    "start_time": "2022-07-28T19:09:17.450Z"
   },
   {
    "duration": 13,
    "start_time": "2022-07-28T19:09:27.191Z"
   },
   {
    "duration": 11,
    "start_time": "2022-07-28T19:11:42.031Z"
   },
   {
    "duration": 5,
    "start_time": "2022-07-28T19:11:57.495Z"
   },
   {
    "duration": 5,
    "start_time": "2022-07-28T19:12:02.368Z"
   },
   {
    "duration": 10,
    "start_time": "2022-07-28T19:12:06.192Z"
   },
   {
    "duration": 5,
    "start_time": "2022-07-28T19:12:20.867Z"
   },
   {
    "duration": 5,
    "start_time": "2022-07-28T19:12:41.074Z"
   },
   {
    "duration": 11,
    "start_time": "2022-07-28T19:13:14.606Z"
   },
   {
    "duration": 3,
    "start_time": "2022-07-28T19:13:39.425Z"
   },
   {
    "duration": 194,
    "start_time": "2022-07-28T19:13:39.430Z"
   },
   {
    "duration": 4,
    "start_time": "2022-07-28T19:13:39.626Z"
   },
   {
    "duration": 64,
    "start_time": "2022-07-28T19:13:39.632Z"
   },
   {
    "duration": 41,
    "start_time": "2022-07-28T19:13:39.698Z"
   },
   {
    "duration": 372,
    "start_time": "2022-07-28T19:13:39.741Z"
   },
   {
    "duration": 408,
    "start_time": "2022-07-28T19:13:40.115Z"
   },
   {
    "duration": 13,
    "start_time": "2022-07-28T19:13:40.525Z"
   },
   {
    "duration": 8,
    "start_time": "2022-07-28T19:13:40.539Z"
   },
   {
    "duration": 333,
    "start_time": "2022-07-28T19:13:40.549Z"
   },
   {
    "duration": 206,
    "start_time": "2022-07-28T19:13:40.884Z"
   },
   {
    "duration": 148,
    "start_time": "2022-07-28T19:13:41.092Z"
   },
   {
    "duration": 4,
    "start_time": "2022-07-28T19:13:41.242Z"
   },
   {
    "duration": 83,
    "start_time": "2022-07-28T19:13:41.249Z"
   },
   {
    "duration": 39,
    "start_time": "2022-07-28T19:13:41.334Z"
   },
   {
    "duration": 337,
    "start_time": "2022-07-28T19:13:41.375Z"
   },
   {
    "duration": 389,
    "start_time": "2022-07-28T19:13:41.714Z"
   },
   {
    "duration": 6,
    "start_time": "2022-07-28T19:13:42.105Z"
   },
   {
    "duration": 53,
    "start_time": "2022-07-28T19:13:42.113Z"
   },
   {
    "duration": 15,
    "start_time": "2022-07-28T19:13:42.168Z"
   },
   {
    "duration": 576,
    "start_time": "2022-07-28T19:13:42.185Z"
   },
   {
    "duration": 254,
    "start_time": "2022-07-28T19:13:42.763Z"
   },
   {
    "duration": 11,
    "start_time": "2022-07-28T19:13:43.019Z"
   },
   {
    "duration": 12,
    "start_time": "2022-07-28T19:13:43.031Z"
   },
   {
    "duration": 10,
    "start_time": "2022-07-28T19:13:43.045Z"
   },
   {
    "duration": 122,
    "start_time": "2022-07-28T19:13:43.057Z"
   },
   {
    "duration": 6,
    "start_time": "2022-07-28T19:13:43.181Z"
   },
   {
    "duration": 919,
    "start_time": "2022-07-28T19:13:43.188Z"
   },
   {
    "duration": 51,
    "start_time": "2022-07-28T19:13:44.108Z"
   },
   {
    "duration": 20,
    "start_time": "2022-07-28T19:13:44.161Z"
   },
   {
    "duration": 186,
    "start_time": "2022-07-28T19:13:44.184Z"
   },
   {
    "duration": 5,
    "start_time": "2022-07-28T19:13:44.372Z"
   },
   {
    "duration": 5,
    "start_time": "2022-07-28T19:14:06.609Z"
   },
   {
    "duration": 5,
    "start_time": "2022-07-28T19:14:12.090Z"
   },
   {
    "duration": 5,
    "start_time": "2022-07-28T19:14:15.306Z"
   },
   {
    "duration": 1179,
    "start_time": "2022-07-28T19:14:31.358Z"
   },
   {
    "duration": 197,
    "start_time": "2022-07-28T19:14:32.539Z"
   },
   {
    "duration": 4,
    "start_time": "2022-07-28T19:14:32.738Z"
   },
   {
    "duration": 137,
    "start_time": "2022-07-28T19:14:32.745Z"
   },
   {
    "duration": 22,
    "start_time": "2022-07-28T19:14:32.884Z"
   },
   {
    "duration": 376,
    "start_time": "2022-07-28T19:14:32.908Z"
   },
   {
    "duration": 389,
    "start_time": "2022-07-28T19:14:33.286Z"
   },
   {
    "duration": 14,
    "start_time": "2022-07-28T19:14:33.677Z"
   },
   {
    "duration": 15,
    "start_time": "2022-07-28T19:14:33.693Z"
   },
   {
    "duration": 330,
    "start_time": "2022-07-28T19:14:33.710Z"
   },
   {
    "duration": 215,
    "start_time": "2022-07-28T19:14:34.042Z"
   },
   {
    "duration": 153,
    "start_time": "2022-07-28T19:14:34.259Z"
   },
   {
    "duration": 5,
    "start_time": "2022-07-28T19:14:34.423Z"
   },
   {
    "duration": 63,
    "start_time": "2022-07-28T19:14:34.430Z"
   },
   {
    "duration": 50,
    "start_time": "2022-07-28T19:14:34.495Z"
   },
   {
    "duration": 380,
    "start_time": "2022-07-28T19:14:34.546Z"
   },
   {
    "duration": 264,
    "start_time": "2022-07-28T19:14:34.928Z"
   },
   {
    "duration": 7,
    "start_time": "2022-07-28T19:14:35.194Z"
   },
   {
    "duration": 66,
    "start_time": "2022-07-28T19:14:35.202Z"
   },
   {
    "duration": 17,
    "start_time": "2022-07-28T19:14:35.270Z"
   },
   {
    "duration": 574,
    "start_time": "2022-07-28T19:14:35.289Z"
   },
   {
    "duration": 262,
    "start_time": "2022-07-28T19:14:35.865Z"
   },
   {
    "duration": 6,
    "start_time": "2022-07-28T19:14:36.129Z"
   },
   {
    "duration": 12,
    "start_time": "2022-07-28T19:14:36.137Z"
   },
   {
    "duration": 9,
    "start_time": "2022-07-28T19:14:36.151Z"
   },
   {
    "duration": 119,
    "start_time": "2022-07-28T19:14:36.162Z"
   },
   {
    "duration": 22,
    "start_time": "2022-07-28T19:14:36.283Z"
   },
   {
    "duration": 1026,
    "start_time": "2022-07-28T19:14:36.310Z"
   },
   {
    "duration": 56,
    "start_time": "2022-07-28T19:14:37.338Z"
   },
   {
    "duration": 34,
    "start_time": "2022-07-28T19:14:37.396Z"
   },
   {
    "duration": 9,
    "start_time": "2022-07-28T19:14:37.432Z"
   },
   {
    "duration": 6,
    "start_time": "2022-07-28T19:14:37.442Z"
   },
   {
    "duration": 22,
    "start_time": "2022-07-28T19:14:37.450Z"
   },
   {
    "duration": 7,
    "start_time": "2022-07-28T19:20:32.393Z"
   },
   {
    "duration": 8,
    "start_time": "2022-07-28T19:20:36.922Z"
   },
   {
    "duration": 5,
    "start_time": "2022-07-28T19:20:40.668Z"
   },
   {
    "duration": 5,
    "start_time": "2022-07-28T19:20:44.461Z"
   },
   {
    "duration": 5,
    "start_time": "2022-07-28T19:21:18.571Z"
   },
   {
    "duration": 13,
    "start_time": "2022-07-28T19:21:24.305Z"
   },
   {
    "duration": 14,
    "start_time": "2022-07-28T19:21:33.308Z"
   },
   {
    "duration": 16,
    "start_time": "2022-07-28T19:21:55.441Z"
   },
   {
    "duration": 14,
    "start_time": "2022-07-28T19:28:36.611Z"
   },
   {
    "duration": 1034,
    "start_time": "2022-07-28T19:30:33.938Z"
   },
   {
    "duration": 14,
    "start_time": "2022-07-28T19:30:40.338Z"
   },
   {
    "duration": 20,
    "start_time": "2022-07-28T19:32:06.502Z"
   },
   {
    "duration": 14,
    "start_time": "2022-07-28T19:32:17.245Z"
   },
   {
    "duration": 18,
    "start_time": "2022-07-28T19:32:31.381Z"
   },
   {
    "duration": 16,
    "start_time": "2022-07-28T19:33:36.614Z"
   },
   {
    "duration": 15,
    "start_time": "2022-07-28T19:35:37.336Z"
   },
   {
    "duration": 21,
    "start_time": "2022-07-28T19:36:59.848Z"
   },
   {
    "duration": 20,
    "start_time": "2022-07-28T19:38:27.283Z"
   },
   {
    "duration": 24,
    "start_time": "2022-07-28T19:38:39.149Z"
   },
   {
    "duration": 1205,
    "start_time": "2022-07-28T19:39:00.058Z"
   },
   {
    "duration": 219,
    "start_time": "2022-07-28T19:39:01.265Z"
   },
   {
    "duration": 3,
    "start_time": "2022-07-28T19:39:01.486Z"
   },
   {
    "duration": 122,
    "start_time": "2022-07-28T19:39:01.491Z"
   },
   {
    "duration": 34,
    "start_time": "2022-07-28T19:39:01.615Z"
   },
   {
    "duration": 391,
    "start_time": "2022-07-28T19:39:01.650Z"
   },
   {
    "duration": 427,
    "start_time": "2022-07-28T19:39:02.043Z"
   },
   {
    "duration": 13,
    "start_time": "2022-07-28T19:39:02.472Z"
   },
   {
    "duration": 5,
    "start_time": "2022-07-28T19:39:02.486Z"
   },
   {
    "duration": 358,
    "start_time": "2022-07-28T19:39:02.494Z"
   },
   {
    "duration": 220,
    "start_time": "2022-07-28T19:39:02.854Z"
   },
   {
    "duration": 159,
    "start_time": "2022-07-28T19:39:03.076Z"
   },
   {
    "duration": 4,
    "start_time": "2022-07-28T19:39:03.237Z"
   },
   {
    "duration": 52,
    "start_time": "2022-07-28T19:39:03.243Z"
   },
   {
    "duration": 66,
    "start_time": "2022-07-28T19:39:03.297Z"
   },
   {
    "duration": 423,
    "start_time": "2022-07-28T19:39:03.364Z"
   },
   {
    "duration": 249,
    "start_time": "2022-07-28T19:39:03.789Z"
   },
   {
    "duration": 7,
    "start_time": "2022-07-28T19:39:04.039Z"
   },
   {
    "duration": 50,
    "start_time": "2022-07-28T19:39:04.048Z"
   },
   {
    "duration": 42,
    "start_time": "2022-07-28T19:39:04.100Z"
   },
   {
    "duration": 535,
    "start_time": "2022-07-28T19:39:04.143Z"
   },
   {
    "duration": 259,
    "start_time": "2022-07-28T19:39:04.680Z"
   },
   {
    "duration": 8,
    "start_time": "2022-07-28T19:39:04.941Z"
   },
   {
    "duration": 11,
    "start_time": "2022-07-28T19:39:04.951Z"
   },
   {
    "duration": 10,
    "start_time": "2022-07-28T19:39:04.964Z"
   },
   {
    "duration": 122,
    "start_time": "2022-07-28T19:39:04.976Z"
   },
   {
    "duration": 6,
    "start_time": "2022-07-28T19:39:05.100Z"
   },
   {
    "duration": 1223,
    "start_time": "2022-07-28T19:39:05.135Z"
   },
   {
    "duration": 68,
    "start_time": "2022-07-28T19:39:06.360Z"
   },
   {
    "duration": 22,
    "start_time": "2022-07-28T19:39:06.430Z"
   },
   {
    "duration": 20,
    "start_time": "2022-07-28T19:39:06.454Z"
   },
   {
    "duration": 20,
    "start_time": "2022-07-28T19:39:06.476Z"
   },
   {
    "duration": 52,
    "start_time": "2022-07-28T19:39:06.498Z"
   },
   {
    "duration": 118,
    "start_time": "2022-07-28T19:46:13.020Z"
   },
   {
    "duration": 13,
    "start_time": "2022-07-28T19:46:32.356Z"
   },
   {
    "duration": 17,
    "start_time": "2022-07-28T19:46:52.214Z"
   },
   {
    "duration": 2872,
    "start_time": "2022-07-28T19:47:04.445Z"
   },
   {
    "duration": 2710,
    "start_time": "2022-07-28T19:47:21.634Z"
   },
   {
    "duration": 19,
    "start_time": "2022-07-28T19:48:20.269Z"
   },
   {
    "duration": 17,
    "start_time": "2022-07-28T19:48:32.603Z"
   },
   {
    "duration": 2138,
    "start_time": "2022-07-28T19:48:49.421Z"
   },
   {
    "duration": 2013,
    "start_time": "2022-07-28T19:49:21.757Z"
   },
   {
    "duration": 1901,
    "start_time": "2022-07-28T19:49:46.043Z"
   },
   {
    "duration": 1976,
    "start_time": "2022-07-28T19:49:53.598Z"
   },
   {
    "duration": 2021,
    "start_time": "2022-07-28T19:51:05.462Z"
   },
   {
    "duration": 2034,
    "start_time": "2022-07-28T19:51:48.402Z"
   },
   {
    "duration": 47,
    "start_time": "2022-07-28T19:52:11.838Z"
   },
   {
    "duration": 2074,
    "start_time": "2022-07-28T19:53:12.899Z"
   },
   {
    "duration": 2102,
    "start_time": "2022-07-28T19:53:27.523Z"
   },
   {
    "duration": 2030,
    "start_time": "2022-07-28T19:53:37.270Z"
   },
   {
    "duration": 18,
    "start_time": "2022-07-28T19:56:46.975Z"
   },
   {
    "duration": 4,
    "start_time": "2022-07-28T19:58:23.385Z"
   },
   {
    "duration": 4,
    "start_time": "2022-07-28T19:58:28.383Z"
   },
   {
    "duration": 5,
    "start_time": "2022-07-28T19:58:31.417Z"
   },
   {
    "duration": 1205,
    "start_time": "2022-07-28T19:58:44.100Z"
   },
   {
    "duration": 199,
    "start_time": "2022-07-28T19:58:45.307Z"
   },
   {
    "duration": 3,
    "start_time": "2022-07-28T19:58:45.508Z"
   },
   {
    "duration": 153,
    "start_time": "2022-07-28T19:58:45.514Z"
   },
   {
    "duration": 21,
    "start_time": "2022-07-28T19:58:45.669Z"
   },
   {
    "duration": 452,
    "start_time": "2022-07-28T19:58:45.691Z"
   },
   {
    "duration": 416,
    "start_time": "2022-07-28T19:58:46.145Z"
   },
   {
    "duration": 16,
    "start_time": "2022-07-28T19:58:46.562Z"
   },
   {
    "duration": 5,
    "start_time": "2022-07-28T19:58:46.580Z"
   },
   {
    "duration": 491,
    "start_time": "2022-07-28T19:58:46.589Z"
   },
   {
    "duration": 215,
    "start_time": "2022-07-28T19:58:47.082Z"
   },
   {
    "duration": 171,
    "start_time": "2022-07-28T19:58:47.300Z"
   },
   {
    "duration": 5,
    "start_time": "2022-07-28T19:58:47.473Z"
   },
   {
    "duration": 80,
    "start_time": "2022-07-28T19:58:47.479Z"
   },
   {
    "duration": 73,
    "start_time": "2022-07-28T19:58:47.561Z"
   },
   {
    "duration": 387,
    "start_time": "2022-07-28T19:58:47.636Z"
   },
   {
    "duration": 240,
    "start_time": "2022-07-28T19:58:48.025Z"
   },
   {
    "duration": 6,
    "start_time": "2022-07-28T19:58:48.266Z"
   },
   {
    "duration": 72,
    "start_time": "2022-07-28T19:58:48.273Z"
   },
   {
    "duration": 16,
    "start_time": "2022-07-28T19:58:48.347Z"
   },
   {
    "duration": 510,
    "start_time": "2022-07-28T19:58:48.365Z"
   },
   {
    "duration": 301,
    "start_time": "2022-07-28T19:58:48.877Z"
   },
   {
    "duration": 7,
    "start_time": "2022-07-28T19:58:49.180Z"
   },
   {
    "duration": 11,
    "start_time": "2022-07-28T19:58:49.189Z"
   },
   {
    "duration": 29,
    "start_time": "2022-07-28T19:58:49.202Z"
   },
   {
    "duration": 102,
    "start_time": "2022-07-28T19:58:49.233Z"
   },
   {
    "duration": 6,
    "start_time": "2022-07-28T19:58:49.337Z"
   },
   {
    "duration": 1004,
    "start_time": "2022-07-28T19:58:49.346Z"
   },
   {
    "duration": 41,
    "start_time": "2022-07-28T19:58:50.352Z"
   },
   {
    "duration": 42,
    "start_time": "2022-07-28T19:58:50.395Z"
   },
   {
    "duration": 8,
    "start_time": "2022-07-28T19:58:50.439Z"
   },
   {
    "duration": 12,
    "start_time": "2022-07-28T19:58:50.449Z"
   },
   {
    "duration": 21,
    "start_time": "2022-07-28T19:58:50.463Z"
   },
   {
    "duration": 1728,
    "start_time": "2022-07-28T19:58:50.486Z"
   },
   {
    "duration": 12,
    "start_time": "2022-07-28T19:58:52.216Z"
   },
   {
    "duration": 18,
    "start_time": "2022-07-28T19:59:01.835Z"
   },
   {
    "duration": 114,
    "start_time": "2022-07-28T19:59:12.667Z"
   },
   {
    "duration": 13,
    "start_time": "2022-07-28T19:59:15.277Z"
   },
   {
    "duration": 15,
    "start_time": "2022-07-28T19:59:59.180Z"
   },
   {
    "duration": 14,
    "start_time": "2022-07-28T20:00:23.400Z"
   },
   {
    "duration": 1258,
    "start_time": "2022-07-28T20:00:28.621Z"
   },
   {
    "duration": 206,
    "start_time": "2022-07-28T20:00:29.881Z"
   },
   {
    "duration": 5,
    "start_time": "2022-07-28T20:00:30.089Z"
   },
   {
    "duration": 140,
    "start_time": "2022-07-28T20:00:30.096Z"
   },
   {
    "duration": 22,
    "start_time": "2022-07-28T20:00:30.238Z"
   },
   {
    "duration": 402,
    "start_time": "2022-07-28T20:00:30.262Z"
   },
   {
    "duration": 411,
    "start_time": "2022-07-28T20:00:30.666Z"
   },
   {
    "duration": 13,
    "start_time": "2022-07-28T20:00:31.079Z"
   },
   {
    "duration": 53,
    "start_time": "2022-07-28T20:00:31.096Z"
   },
   {
    "duration": 338,
    "start_time": "2022-07-28T20:00:31.151Z"
   },
   {
    "duration": 211,
    "start_time": "2022-07-28T20:00:31.491Z"
   },
   {
    "duration": 165,
    "start_time": "2022-07-28T20:00:31.704Z"
   },
   {
    "duration": 4,
    "start_time": "2022-07-28T20:00:31.871Z"
   },
   {
    "duration": 80,
    "start_time": "2022-07-28T20:00:31.877Z"
   },
   {
    "duration": 73,
    "start_time": "2022-07-28T20:00:31.958Z"
   },
   {
    "duration": 411,
    "start_time": "2022-07-28T20:00:32.033Z"
   },
   {
    "duration": 242,
    "start_time": "2022-07-28T20:00:32.446Z"
   },
   {
    "duration": 8,
    "start_time": "2022-07-28T20:00:32.689Z"
   },
   {
    "duration": 75,
    "start_time": "2022-07-28T20:00:32.698Z"
   },
   {
    "duration": 16,
    "start_time": "2022-07-28T20:00:32.775Z"
   },
   {
    "duration": 490,
    "start_time": "2022-07-28T20:00:32.793Z"
   },
   {
    "duration": 252,
    "start_time": "2022-07-28T20:00:33.285Z"
   },
   {
    "duration": 7,
    "start_time": "2022-07-28T20:00:33.539Z"
   },
   {
    "duration": 46,
    "start_time": "2022-07-28T20:00:33.547Z"
   },
   {
    "duration": 39,
    "start_time": "2022-07-28T20:00:33.594Z"
   },
   {
    "duration": 116,
    "start_time": "2022-07-28T20:00:33.634Z"
   },
   {
    "duration": 6,
    "start_time": "2022-07-28T20:00:33.752Z"
   },
   {
    "duration": 1000,
    "start_time": "2022-07-28T20:00:33.761Z"
   },
   {
    "duration": 63,
    "start_time": "2022-07-28T20:00:34.762Z"
   },
   {
    "duration": 15,
    "start_time": "2022-07-28T20:00:34.827Z"
   },
   {
    "duration": 8,
    "start_time": "2022-07-28T20:00:34.844Z"
   },
   {
    "duration": 33,
    "start_time": "2022-07-28T20:00:34.854Z"
   },
   {
    "duration": 22,
    "start_time": "2022-07-28T20:00:34.890Z"
   },
   {
    "duration": 1779,
    "start_time": "2022-07-28T20:00:34.914Z"
   },
   {
    "duration": 14,
    "start_time": "2022-07-28T20:00:36.696Z"
   },
   {
    "duration": 13,
    "start_time": "2022-07-28T20:04:13.240Z"
   },
   {
    "duration": 7,
    "start_time": "2022-07-28T20:04:20.566Z"
   },
   {
    "duration": 17,
    "start_time": "2022-07-28T20:05:40.836Z"
   },
   {
    "duration": 14,
    "start_time": "2022-07-28T20:06:11.072Z"
   },
   {
    "duration": 13,
    "start_time": "2022-07-28T20:06:18.051Z"
   },
   {
    "duration": 14,
    "start_time": "2022-07-28T20:06:55.652Z"
   },
   {
    "duration": 34,
    "start_time": "2022-07-28T20:20:58.799Z"
   },
   {
    "duration": 23,
    "start_time": "2022-07-28T20:21:29.798Z"
   },
   {
    "duration": 24,
    "start_time": "2022-07-28T20:21:40.943Z"
   },
   {
    "duration": 118,
    "start_time": "2022-07-28T20:24:09.176Z"
   },
   {
    "duration": 13,
    "start_time": "2022-07-28T20:24:20.464Z"
   },
   {
    "duration": 21,
    "start_time": "2022-07-28T20:24:31.240Z"
   },
   {
    "duration": 7,
    "start_time": "2022-07-28T20:32:02.243Z"
   },
   {
    "duration": 28,
    "start_time": "2022-07-28T20:35:39.816Z"
   },
   {
    "duration": 13,
    "start_time": "2022-07-28T20:36:01.344Z"
   },
   {
    "duration": 32,
    "start_time": "2022-07-28T20:36:04.767Z"
   },
   {
    "duration": 48,
    "start_time": "2022-07-28T20:36:12.459Z"
   },
   {
    "duration": 86,
    "start_time": "2022-07-28T20:36:30.742Z"
   },
   {
    "duration": 213,
    "start_time": "2022-07-28T20:36:58.117Z"
   },
   {
    "duration": 16,
    "start_time": "2022-07-28T20:37:18.873Z"
   },
   {
    "duration": 3,
    "start_time": "2022-07-28T20:37:28.410Z"
   },
   {
    "duration": 201,
    "start_time": "2022-07-28T20:37:28.457Z"
   },
   {
    "duration": 4,
    "start_time": "2022-07-28T20:37:28.660Z"
   },
   {
    "duration": 69,
    "start_time": "2022-07-28T20:37:28.665Z"
   },
   {
    "duration": 20,
    "start_time": "2022-07-28T20:37:28.741Z"
   },
   {
    "duration": 408,
    "start_time": "2022-07-28T20:37:28.763Z"
   },
   {
    "duration": 390,
    "start_time": "2022-07-28T20:37:29.173Z"
   },
   {
    "duration": 12,
    "start_time": "2022-07-28T20:37:29.565Z"
   },
   {
    "duration": 8,
    "start_time": "2022-07-28T20:37:29.578Z"
   },
   {
    "duration": 357,
    "start_time": "2022-07-28T20:37:29.588Z"
   },
   {
    "duration": 213,
    "start_time": "2022-07-28T20:37:29.947Z"
   },
   {
    "duration": 137,
    "start_time": "2022-07-28T20:37:30.161Z"
   },
   {
    "duration": 4,
    "start_time": "2022-07-28T20:37:30.300Z"
   },
   {
    "duration": 91,
    "start_time": "2022-07-28T20:37:30.305Z"
   },
   {
    "duration": 40,
    "start_time": "2022-07-28T20:37:30.399Z"
   },
   {
    "duration": 310,
    "start_time": "2022-07-28T20:37:30.440Z"
   },
   {
    "duration": 419,
    "start_time": "2022-07-28T20:37:30.753Z"
   },
   {
    "duration": 7,
    "start_time": "2022-07-28T20:37:31.174Z"
   },
   {
    "duration": 63,
    "start_time": "2022-07-28T20:37:31.183Z"
   },
   {
    "duration": 14,
    "start_time": "2022-07-28T20:37:31.248Z"
   },
   {
    "duration": 515,
    "start_time": "2022-07-28T20:37:31.264Z"
   },
   {
    "duration": 247,
    "start_time": "2022-07-28T20:37:31.781Z"
   },
   {
    "duration": 9,
    "start_time": "2022-07-28T20:37:32.031Z"
   },
   {
    "duration": 12,
    "start_time": "2022-07-28T20:37:32.042Z"
   },
   {
    "duration": 12,
    "start_time": "2022-07-28T20:37:32.056Z"
   },
   {
    "duration": 119,
    "start_time": "2022-07-28T20:37:32.069Z"
   },
   {
    "duration": 6,
    "start_time": "2022-07-28T20:37:32.190Z"
   },
   {
    "duration": 963,
    "start_time": "2022-07-28T20:37:32.198Z"
   },
   {
    "duration": 67,
    "start_time": "2022-07-28T20:37:33.163Z"
   },
   {
    "duration": 23,
    "start_time": "2022-07-28T20:37:33.233Z"
   },
   {
    "duration": 10,
    "start_time": "2022-07-28T20:37:33.259Z"
   },
   {
    "duration": 16,
    "start_time": "2022-07-28T20:37:33.272Z"
   },
   {
    "duration": 52,
    "start_time": "2022-07-28T20:37:33.291Z"
   },
   {
    "duration": 1970,
    "start_time": "2022-07-28T20:37:33.345Z"
   },
   {
    "duration": 9,
    "start_time": "2022-07-28T20:37:35.323Z"
   },
   {
    "duration": 13,
    "start_time": "2022-07-28T20:37:35.338Z"
   },
   {
    "duration": 23,
    "start_time": "2022-07-28T20:37:38.771Z"
   },
   {
    "duration": 13,
    "start_time": "2022-07-28T20:37:43.237Z"
   },
   {
    "duration": 12,
    "start_time": "2022-07-28T20:37:51.738Z"
   },
   {
    "duration": 14,
    "start_time": "2022-07-28T20:38:33.980Z"
   },
   {
    "duration": 16,
    "start_time": "2022-07-28T20:39:01.322Z"
   },
   {
    "duration": 1189,
    "start_time": "2022-07-28T20:41:26.408Z"
   },
   {
    "duration": 207,
    "start_time": "2022-07-28T20:41:27.599Z"
   },
   {
    "duration": 4,
    "start_time": "2022-07-28T20:41:27.808Z"
   },
   {
    "duration": 115,
    "start_time": "2022-07-28T20:41:27.814Z"
   },
   {
    "duration": 24,
    "start_time": "2022-07-28T20:41:27.931Z"
   },
   {
    "duration": 387,
    "start_time": "2022-07-28T20:41:27.957Z"
   },
   {
    "duration": 404,
    "start_time": "2022-07-28T20:41:28.346Z"
   },
   {
    "duration": 13,
    "start_time": "2022-07-28T20:41:28.751Z"
   },
   {
    "duration": 5,
    "start_time": "2022-07-28T20:41:28.765Z"
   },
   {
    "duration": 395,
    "start_time": "2022-07-28T20:41:28.773Z"
   },
   {
    "duration": 215,
    "start_time": "2022-07-28T20:41:29.170Z"
   },
   {
    "duration": 154,
    "start_time": "2022-07-28T20:41:29.386Z"
   },
   {
    "duration": 5,
    "start_time": "2022-07-28T20:41:29.541Z"
   },
   {
    "duration": 49,
    "start_time": "2022-07-28T20:41:29.547Z"
   },
   {
    "duration": 65,
    "start_time": "2022-07-28T20:41:29.598Z"
   },
   {
    "duration": 413,
    "start_time": "2022-07-28T20:41:29.664Z"
   },
   {
    "duration": 237,
    "start_time": "2022-07-28T20:41:30.079Z"
   },
   {
    "duration": 12,
    "start_time": "2022-07-28T20:41:30.317Z"
   },
   {
    "duration": 86,
    "start_time": "2022-07-28T20:41:30.331Z"
   },
   {
    "duration": 29,
    "start_time": "2022-07-28T20:41:30.419Z"
   },
   {
    "duration": 533,
    "start_time": "2022-07-28T20:41:30.449Z"
   },
   {
    "duration": 244,
    "start_time": "2022-07-28T20:41:30.984Z"
   },
   {
    "duration": 7,
    "start_time": "2022-07-28T20:41:31.230Z"
   },
   {
    "duration": 24,
    "start_time": "2022-07-28T20:41:31.239Z"
   },
   {
    "duration": 9,
    "start_time": "2022-07-28T20:41:31.264Z"
   },
   {
    "duration": 102,
    "start_time": "2022-07-28T20:41:31.275Z"
   },
   {
    "duration": 6,
    "start_time": "2022-07-28T20:41:31.378Z"
   },
   {
    "duration": 1003,
    "start_time": "2022-07-28T20:41:31.387Z"
   },
   {
    "duration": 54,
    "start_time": "2022-07-28T20:41:32.392Z"
   },
   {
    "duration": 16,
    "start_time": "2022-07-28T20:41:32.448Z"
   },
   {
    "duration": 9,
    "start_time": "2022-07-28T20:41:32.466Z"
   },
   {
    "duration": 18,
    "start_time": "2022-07-28T20:41:32.477Z"
   },
   {
    "duration": 44,
    "start_time": "2022-07-28T20:41:32.496Z"
   },
   {
    "duration": 1797,
    "start_time": "2022-07-28T20:41:32.542Z"
   },
   {
    "duration": 9,
    "start_time": "2022-07-28T20:41:34.341Z"
   },
   {
    "duration": 28,
    "start_time": "2022-07-28T20:41:34.352Z"
   },
   {
    "duration": 25,
    "start_time": "2022-07-28T20:41:34.381Z"
   },
   {
    "duration": 16,
    "start_time": "2022-07-28T20:41:34.408Z"
   },
   {
    "duration": 9,
    "start_time": "2022-07-28T20:42:20.677Z"
   },
   {
    "duration": 1193,
    "start_time": "2022-07-28T20:46:55.432Z"
   },
   {
    "duration": 216,
    "start_time": "2022-07-28T20:46:56.628Z"
   },
   {
    "duration": 3,
    "start_time": "2022-07-28T20:46:56.846Z"
   },
   {
    "duration": 114,
    "start_time": "2022-07-28T20:46:56.851Z"
   },
   {
    "duration": 23,
    "start_time": "2022-07-28T20:46:56.967Z"
   },
   {
    "duration": 375,
    "start_time": "2022-07-28T20:46:56.991Z"
   },
   {
    "duration": 398,
    "start_time": "2022-07-28T20:46:57.368Z"
   },
   {
    "duration": 14,
    "start_time": "2022-07-28T20:46:57.767Z"
   },
   {
    "duration": 4,
    "start_time": "2022-07-28T20:46:57.782Z"
   },
   {
    "duration": 358,
    "start_time": "2022-07-28T20:46:57.789Z"
   },
   {
    "duration": 207,
    "start_time": "2022-07-28T20:46:58.149Z"
   },
   {
    "duration": 144,
    "start_time": "2022-07-28T20:46:58.357Z"
   },
   {
    "duration": 5,
    "start_time": "2022-07-28T20:46:58.503Z"
   },
   {
    "duration": 55,
    "start_time": "2022-07-28T20:46:58.523Z"
   },
   {
    "duration": 72,
    "start_time": "2022-07-28T20:46:58.580Z"
   },
   {
    "duration": 473,
    "start_time": "2022-07-28T20:46:58.653Z"
   },
   {
    "duration": 246,
    "start_time": "2022-07-28T20:46:59.128Z"
   },
   {
    "duration": 5,
    "start_time": "2022-07-28T20:46:59.376Z"
   },
   {
    "duration": 78,
    "start_time": "2022-07-28T20:46:59.383Z"
   },
   {
    "duration": 15,
    "start_time": "2022-07-28T20:46:59.462Z"
   },
   {
    "duration": 507,
    "start_time": "2022-07-28T20:46:59.479Z"
   },
   {
    "duration": 244,
    "start_time": "2022-07-28T20:46:59.987Z"
   },
   {
    "duration": 7,
    "start_time": "2022-07-28T20:47:00.236Z"
   },
   {
    "duration": 19,
    "start_time": "2022-07-28T20:47:00.244Z"
   },
   {
    "duration": 9,
    "start_time": "2022-07-28T20:47:00.264Z"
   },
   {
    "duration": 106,
    "start_time": "2022-07-28T20:47:00.275Z"
   },
   {
    "duration": 6,
    "start_time": "2022-07-28T20:47:00.383Z"
   },
   {
    "duration": 1052,
    "start_time": "2022-07-28T20:47:00.392Z"
   },
   {
    "duration": 39,
    "start_time": "2022-07-28T20:47:01.446Z"
   },
   {
    "duration": 7,
    "start_time": "2022-07-28T20:47:01.487Z"
   },
   {
    "duration": 44,
    "start_time": "2022-07-28T20:47:01.496Z"
   },
   {
    "duration": 31,
    "start_time": "2022-07-28T20:47:01.542Z"
   },
   {
    "duration": 17,
    "start_time": "2022-07-28T20:47:01.574Z"
   },
   {
    "duration": 1812,
    "start_time": "2022-07-28T20:47:01.593Z"
   },
   {
    "duration": 10,
    "start_time": "2022-07-28T20:47:03.407Z"
   },
   {
    "duration": 20,
    "start_time": "2022-07-28T20:47:03.419Z"
   },
   {
    "duration": 20,
    "start_time": "2022-07-28T20:47:03.441Z"
   },
   {
    "duration": 46,
    "start_time": "2022-07-28T20:47:49.160Z"
   },
   {
    "duration": 17,
    "start_time": "2022-07-28T20:48:26.241Z"
   },
   {
    "duration": 12,
    "start_time": "2022-07-28T20:48:32.338Z"
   },
   {
    "duration": 16,
    "start_time": "2022-07-28T20:49:08.535Z"
   },
   {
    "duration": 8,
    "start_time": "2022-07-28T20:49:19.873Z"
   },
   {
    "duration": 114,
    "start_time": "2022-07-28T20:51:57.717Z"
   },
   {
    "duration": 22,
    "start_time": "2022-07-28T20:52:06.788Z"
   },
   {
    "duration": 14,
    "start_time": "2022-07-28T20:54:26.753Z"
   },
   {
    "duration": 24,
    "start_time": "2022-07-28T20:55:37.116Z"
   },
   {
    "duration": 105,
    "start_time": "2022-07-28T20:55:42.945Z"
   },
   {
    "duration": 799,
    "start_time": "2022-07-28T20:55:55.531Z"
   },
   {
    "duration": 98,
    "start_time": "2022-07-28T20:56:10.407Z"
   },
   {
    "duration": 24,
    "start_time": "2022-07-28T20:56:40.123Z"
   },
   {
    "duration": 7,
    "start_time": "2022-07-28T20:56:48.657Z"
   },
   {
    "duration": 818,
    "start_time": "2022-07-28T20:56:58.640Z"
   },
   {
    "duration": 14,
    "start_time": "2022-07-28T20:57:10.116Z"
   },
   {
    "duration": 10,
    "start_time": "2022-07-28T20:57:16.471Z"
   },
   {
    "duration": 101,
    "start_time": "2022-07-28T20:57:28.459Z"
   },
   {
    "duration": 11,
    "start_time": "2022-07-28T20:57:32.879Z"
   },
   {
    "duration": 7,
    "start_time": "2022-07-28T20:57:42.756Z"
   },
   {
    "duration": 7,
    "start_time": "2022-07-28T20:58:01.521Z"
   },
   {
    "duration": 9,
    "start_time": "2022-07-28T20:58:31.948Z"
   },
   {
    "duration": 11,
    "start_time": "2022-07-28T20:58:39.153Z"
   },
   {
    "duration": 11,
    "start_time": "2022-07-28T20:58:41.583Z"
   },
   {
    "duration": 37,
    "start_time": "2022-07-28T20:59:57.450Z"
   },
   {
    "duration": 31,
    "start_time": "2022-07-28T21:01:46.648Z"
   },
   {
    "duration": 4,
    "start_time": "2022-07-28T21:01:55.911Z"
   },
   {
    "duration": 36,
    "start_time": "2022-07-28T21:01:57.838Z"
   },
   {
    "duration": 21,
    "start_time": "2022-07-28T21:02:17.669Z"
   },
   {
    "duration": 5,
    "start_time": "2022-07-28T21:02:35.880Z"
   },
   {
    "duration": 28,
    "start_time": "2022-07-28T21:02:41.135Z"
   },
   {
    "duration": 12,
    "start_time": "2022-07-28T21:03:03.558Z"
   },
   {
    "duration": 13,
    "start_time": "2022-07-28T21:03:10.457Z"
   },
   {
    "duration": 6,
    "start_time": "2022-07-28T21:04:00.856Z"
   },
   {
    "duration": 1305,
    "start_time": "2022-07-28T21:04:12.215Z"
   },
   {
    "duration": 233,
    "start_time": "2022-07-28T21:04:13.522Z"
   },
   {
    "duration": 4,
    "start_time": "2022-07-28T21:04:13.756Z"
   },
   {
    "duration": 118,
    "start_time": "2022-07-28T21:04:13.762Z"
   },
   {
    "duration": 20,
    "start_time": "2022-07-28T21:04:13.881Z"
   },
   {
    "duration": 399,
    "start_time": "2022-07-28T21:04:13.903Z"
   },
   {
    "duration": 403,
    "start_time": "2022-07-28T21:04:14.304Z"
   },
   {
    "duration": 25,
    "start_time": "2022-07-28T21:04:14.709Z"
   },
   {
    "duration": 5,
    "start_time": "2022-07-28T21:04:14.736Z"
   },
   {
    "duration": 344,
    "start_time": "2022-07-28T21:04:14.744Z"
   },
   {
    "duration": 221,
    "start_time": "2022-07-28T21:04:15.090Z"
   },
   {
    "duration": 154,
    "start_time": "2022-07-28T21:04:15.313Z"
   },
   {
    "duration": 5,
    "start_time": "2022-07-28T21:04:15.469Z"
   },
   {
    "duration": 73,
    "start_time": "2022-07-28T21:04:15.475Z"
   },
   {
    "duration": 35,
    "start_time": "2022-07-28T21:04:15.550Z"
   },
   {
    "duration": 430,
    "start_time": "2022-07-28T21:04:15.586Z"
   },
   {
    "duration": 256,
    "start_time": "2022-07-28T21:04:16.017Z"
   },
   {
    "duration": 6,
    "start_time": "2022-07-28T21:04:16.275Z"
   },
   {
    "duration": 66,
    "start_time": "2022-07-28T21:04:16.282Z"
   },
   {
    "duration": 15,
    "start_time": "2022-07-28T21:04:16.349Z"
   },
   {
    "duration": 503,
    "start_time": "2022-07-28T21:04:16.366Z"
   },
   {
    "duration": 264,
    "start_time": "2022-07-28T21:04:16.877Z"
   },
   {
    "duration": 7,
    "start_time": "2022-07-28T21:04:17.143Z"
   },
   {
    "duration": 12,
    "start_time": "2022-07-28T21:04:17.151Z"
   },
   {
    "duration": 9,
    "start_time": "2022-07-28T21:04:17.164Z"
   },
   {
    "duration": 112,
    "start_time": "2022-07-28T21:04:17.174Z"
   },
   {
    "duration": 6,
    "start_time": "2022-07-28T21:04:17.288Z"
   },
   {
    "duration": 1008,
    "start_time": "2022-07-28T21:04:17.297Z"
   },
   {
    "duration": 61,
    "start_time": "2022-07-28T21:04:18.308Z"
   },
   {
    "duration": 8,
    "start_time": "2022-07-28T21:04:18.371Z"
   },
   {
    "duration": 20,
    "start_time": "2022-07-28T21:04:18.380Z"
   },
   {
    "duration": 40,
    "start_time": "2022-07-28T21:04:18.401Z"
   },
   {
    "duration": 17,
    "start_time": "2022-07-28T21:04:18.443Z"
   },
   {
    "duration": 1856,
    "start_time": "2022-07-28T21:04:18.461Z"
   },
   {
    "duration": 18,
    "start_time": "2022-07-28T21:04:20.319Z"
   },
   {
    "duration": 13,
    "start_time": "2022-07-28T21:04:20.339Z"
   },
   {
    "duration": 18,
    "start_time": "2022-07-28T21:04:20.354Z"
   },
   {
    "duration": 17,
    "start_time": "2022-07-28T21:04:20.374Z"
   },
   {
    "duration": 7,
    "start_time": "2022-07-28T21:04:20.392Z"
   },
   {
    "duration": 35,
    "start_time": "2022-07-28T21:04:20.401Z"
   },
   {
    "duration": 9,
    "start_time": "2022-07-28T21:04:20.438Z"
   },
   {
    "duration": 8,
    "start_time": "2022-07-28T21:06:31.847Z"
   },
   {
    "duration": 43,
    "start_time": "2022-07-28T21:06:40.620Z"
   },
   {
    "duration": 3,
    "start_time": "2022-07-28T21:06:55.515Z"
   },
   {
    "duration": 4,
    "start_time": "2022-07-28T21:20:51.836Z"
   },
   {
    "duration": 216,
    "start_time": "2022-07-28T21:20:51.844Z"
   },
   {
    "duration": 4,
    "start_time": "2022-07-28T21:20:52.062Z"
   },
   {
    "duration": 74,
    "start_time": "2022-07-28T21:20:52.067Z"
   },
   {
    "duration": 18,
    "start_time": "2022-07-28T21:20:52.143Z"
   },
   {
    "duration": 353,
    "start_time": "2022-07-28T21:20:52.163Z"
   },
   {
    "duration": 526,
    "start_time": "2022-07-28T21:20:52.518Z"
   },
   {
    "duration": 13,
    "start_time": "2022-07-28T21:20:53.045Z"
   },
   {
    "duration": 21,
    "start_time": "2022-07-28T21:20:53.060Z"
   },
   {
    "duration": 350,
    "start_time": "2022-07-28T21:20:53.082Z"
   },
   {
    "duration": 202,
    "start_time": "2022-07-28T21:20:53.438Z"
   },
   {
    "duration": 142,
    "start_time": "2022-07-28T21:20:53.642Z"
   },
   {
    "duration": 4,
    "start_time": "2022-07-28T21:20:53.786Z"
   },
   {
    "duration": 75,
    "start_time": "2022-07-28T21:20:53.794Z"
   },
   {
    "duration": 35,
    "start_time": "2022-07-28T21:20:53.871Z"
   },
   {
    "duration": 291,
    "start_time": "2022-07-28T21:20:53.922Z"
   },
   {
    "duration": 231,
    "start_time": "2022-07-28T21:20:54.214Z"
   },
   {
    "duration": 6,
    "start_time": "2022-07-28T21:20:54.447Z"
   },
   {
    "duration": 78,
    "start_time": "2022-07-28T21:20:54.455Z"
   },
   {
    "duration": 15,
    "start_time": "2022-07-28T21:20:54.535Z"
   },
   {
    "duration": 522,
    "start_time": "2022-07-28T21:20:54.551Z"
   },
   {
    "duration": 378,
    "start_time": "2022-07-28T21:20:55.075Z"
   },
   {
    "duration": 7,
    "start_time": "2022-07-28T21:20:55.454Z"
   },
   {
    "duration": 31,
    "start_time": "2022-07-28T21:20:55.462Z"
   },
   {
    "duration": 66,
    "start_time": "2022-07-28T21:20:55.495Z"
   },
   {
    "duration": 109,
    "start_time": "2022-07-28T21:20:55.562Z"
   },
   {
    "duration": 6,
    "start_time": "2022-07-28T21:20:55.673Z"
   },
   {
    "duration": 910,
    "start_time": "2022-07-28T21:20:55.681Z"
   },
   {
    "duration": 57,
    "start_time": "2022-07-28T21:20:56.593Z"
   },
   {
    "duration": 8,
    "start_time": "2022-07-28T21:20:56.651Z"
   },
   {
    "duration": 27,
    "start_time": "2022-07-28T21:20:56.660Z"
   },
   {
    "duration": 30,
    "start_time": "2022-07-28T21:20:56.689Z"
   },
   {
    "duration": 38,
    "start_time": "2022-07-28T21:20:56.721Z"
   },
   {
    "duration": 1881,
    "start_time": "2022-07-28T21:20:56.761Z"
   },
   {
    "duration": 9,
    "start_time": "2022-07-28T21:20:58.643Z"
   },
   {
    "duration": 29,
    "start_time": "2022-07-28T21:20:58.654Z"
   },
   {
    "duration": 32,
    "start_time": "2022-07-28T21:20:58.684Z"
   },
   {
    "duration": 89,
    "start_time": "2022-07-28T21:20:58.718Z"
   },
   {
    "duration": 22,
    "start_time": "2022-07-28T21:21:13.225Z"
   },
   {
    "duration": 9,
    "start_time": "2022-07-28T21:21:16.523Z"
   },
   {
    "duration": 128,
    "start_time": "2022-07-28T21:21:55.993Z"
   },
   {
    "duration": 8,
    "start_time": "2022-07-28T21:22:31.704Z"
   },
   {
    "duration": 7,
    "start_time": "2022-07-28T21:22:36.335Z"
   },
   {
    "duration": 4,
    "start_time": "2022-07-28T21:22:40.893Z"
   },
   {
    "duration": 8,
    "start_time": "2022-07-28T21:22:42.650Z"
   },
   {
    "duration": 1171,
    "start_time": "2022-07-28T21:22:55.305Z"
   },
   {
    "duration": 205,
    "start_time": "2022-07-28T21:22:56.479Z"
   },
   {
    "duration": 3,
    "start_time": "2022-07-28T21:22:56.686Z"
   },
   {
    "duration": 106,
    "start_time": "2022-07-28T21:22:56.692Z"
   },
   {
    "duration": 19,
    "start_time": "2022-07-28T21:22:56.799Z"
   },
   {
    "duration": 356,
    "start_time": "2022-07-28T21:22:56.822Z"
   },
   {
    "duration": 387,
    "start_time": "2022-07-28T21:22:57.179Z"
   },
   {
    "duration": 14,
    "start_time": "2022-07-28T21:22:57.568Z"
   },
   {
    "duration": 4,
    "start_time": "2022-07-28T21:22:57.583Z"
   },
   {
    "duration": 352,
    "start_time": "2022-07-28T21:22:57.590Z"
   },
   {
    "duration": 212,
    "start_time": "2022-07-28T21:22:57.944Z"
   },
   {
    "duration": 147,
    "start_time": "2022-07-28T21:22:58.158Z"
   },
   {
    "duration": 23,
    "start_time": "2022-07-28T21:22:58.307Z"
   },
   {
    "duration": 63,
    "start_time": "2022-07-28T21:22:58.331Z"
   },
   {
    "duration": 54,
    "start_time": "2022-07-28T21:22:58.395Z"
   },
   {
    "duration": 391,
    "start_time": "2022-07-28T21:22:58.450Z"
   },
   {
    "duration": 299,
    "start_time": "2022-07-28T21:22:58.843Z"
   },
   {
    "duration": 6,
    "start_time": "2022-07-28T21:22:59.144Z"
   },
   {
    "duration": 54,
    "start_time": "2022-07-28T21:22:59.151Z"
   },
   {
    "duration": 19,
    "start_time": "2022-07-28T21:22:59.223Z"
   },
   {
    "duration": 524,
    "start_time": "2022-07-28T21:22:59.244Z"
   },
   {
    "duration": 258,
    "start_time": "2022-07-28T21:22:59.770Z"
   },
   {
    "duration": 7,
    "start_time": "2022-07-28T21:23:00.036Z"
   },
   {
    "duration": 27,
    "start_time": "2022-07-28T21:23:00.045Z"
   },
   {
    "duration": 20,
    "start_time": "2022-07-28T21:23:00.074Z"
   },
   {
    "duration": 97,
    "start_time": "2022-07-28T21:23:00.096Z"
   },
   {
    "duration": 6,
    "start_time": "2022-07-28T21:23:00.195Z"
   },
   {
    "duration": 1015,
    "start_time": "2022-07-28T21:23:00.225Z"
   },
   {
    "duration": 43,
    "start_time": "2022-07-28T21:23:01.242Z"
   },
   {
    "duration": 8,
    "start_time": "2022-07-28T21:23:01.287Z"
   },
   {
    "duration": 36,
    "start_time": "2022-07-28T21:23:01.328Z"
   },
   {
    "duration": 24,
    "start_time": "2022-07-28T21:23:01.366Z"
   },
   {
    "duration": 46,
    "start_time": "2022-07-28T21:23:01.392Z"
   },
   {
    "duration": 1826,
    "start_time": "2022-07-28T21:23:01.440Z"
   },
   {
    "duration": 9,
    "start_time": "2022-07-28T21:23:03.267Z"
   },
   {
    "duration": 25,
    "start_time": "2022-07-28T21:23:03.277Z"
   },
   {
    "duration": 38,
    "start_time": "2022-07-28T21:23:03.304Z"
   },
   {
    "duration": 16,
    "start_time": "2022-07-28T21:23:03.344Z"
   },
   {
    "duration": 20,
    "start_time": "2022-07-28T21:23:03.362Z"
   },
   {
    "duration": 16,
    "start_time": "2022-07-28T21:23:03.384Z"
   },
   {
    "duration": 8,
    "start_time": "2022-07-28T21:23:03.402Z"
   },
   {
    "duration": 42,
    "start_time": "2022-07-28T21:23:25.390Z"
   },
   {
    "duration": 4,
    "start_time": "2022-07-28T21:23:35.057Z"
   },
   {
    "duration": 108,
    "start_time": "2022-07-28T21:23:36.957Z"
   },
   {
    "duration": 5,
    "start_time": "2022-07-28T21:23:38.412Z"
   },
   {
    "duration": 4,
    "start_time": "2022-07-28T21:24:35.791Z"
   },
   {
    "duration": 38,
    "start_time": "2022-07-28T21:24:41.001Z"
   },
   {
    "duration": 37,
    "start_time": "2022-07-28T21:24:46.201Z"
   },
   {
    "duration": 1163,
    "start_time": "2022-07-28T21:27:09.844Z"
   },
   {
    "duration": 207,
    "start_time": "2022-07-28T21:27:11.009Z"
   },
   {
    "duration": 4,
    "start_time": "2022-07-28T21:27:11.218Z"
   },
   {
    "duration": 116,
    "start_time": "2022-07-28T21:27:11.233Z"
   },
   {
    "duration": 19,
    "start_time": "2022-07-28T21:27:11.351Z"
   },
   {
    "duration": 360,
    "start_time": "2022-07-28T21:27:11.372Z"
   },
   {
    "duration": 379,
    "start_time": "2022-07-28T21:27:11.735Z"
   },
   {
    "duration": 30,
    "start_time": "2022-07-28T21:27:12.115Z"
   },
   {
    "duration": 4,
    "start_time": "2022-07-28T21:27:12.146Z"
   },
   {
    "duration": 324,
    "start_time": "2022-07-28T21:27:12.151Z"
   },
   {
    "duration": 209,
    "start_time": "2022-07-28T21:27:12.477Z"
   },
   {
    "duration": 141,
    "start_time": "2022-07-28T21:27:12.688Z"
   },
   {
    "duration": 8,
    "start_time": "2022-07-28T21:27:12.832Z"
   },
   {
    "duration": 50,
    "start_time": "2022-07-28T21:27:12.843Z"
   },
   {
    "duration": 63,
    "start_time": "2022-07-28T21:27:12.894Z"
   },
   {
    "duration": 432,
    "start_time": "2022-07-28T21:27:12.959Z"
   },
   {
    "duration": 237,
    "start_time": "2022-07-28T21:27:13.393Z"
   },
   {
    "duration": 6,
    "start_time": "2022-07-28T21:27:13.632Z"
   },
   {
    "duration": 47,
    "start_time": "2022-07-28T21:27:13.640Z"
   },
   {
    "duration": 48,
    "start_time": "2022-07-28T21:27:13.690Z"
   },
   {
    "duration": 511,
    "start_time": "2022-07-28T21:27:13.740Z"
   },
   {
    "duration": 233,
    "start_time": "2022-07-28T21:27:14.253Z"
   },
   {
    "duration": 6,
    "start_time": "2022-07-28T21:27:14.488Z"
   },
   {
    "duration": 9,
    "start_time": "2022-07-28T21:27:14.496Z"
   },
   {
    "duration": 29,
    "start_time": "2022-07-28T21:27:14.506Z"
   },
   {
    "duration": 110,
    "start_time": "2022-07-28T21:27:14.537Z"
   },
   {
    "duration": 7,
    "start_time": "2022-07-28T21:27:14.648Z"
   },
   {
    "duration": 984,
    "start_time": "2022-07-28T21:27:14.656Z"
   },
   {
    "duration": 43,
    "start_time": "2022-07-28T21:27:15.642Z"
   },
   {
    "duration": 8,
    "start_time": "2022-07-28T21:27:15.687Z"
   },
   {
    "duration": 26,
    "start_time": "2022-07-28T21:27:15.725Z"
   },
   {
    "duration": 12,
    "start_time": "2022-07-28T21:27:15.753Z"
   },
   {
    "duration": 18,
    "start_time": "2022-07-28T21:27:15.767Z"
   },
   {
    "duration": 1894,
    "start_time": "2022-07-28T21:27:15.787Z"
   },
   {
    "duration": 9,
    "start_time": "2022-07-28T21:27:17.683Z"
   },
   {
    "duration": 11,
    "start_time": "2022-07-28T21:27:17.694Z"
   },
   {
    "duration": 31,
    "start_time": "2022-07-28T21:27:17.707Z"
   },
   {
    "duration": 17,
    "start_time": "2022-07-28T21:27:17.739Z"
   },
   {
    "duration": 6,
    "start_time": "2022-07-28T21:27:17.758Z"
   },
   {
    "duration": 35,
    "start_time": "2022-07-28T21:27:17.766Z"
   },
   {
    "duration": 39,
    "start_time": "2022-07-28T21:28:05.810Z"
   },
   {
    "duration": 1245,
    "start_time": "2022-07-28T21:29:45.435Z"
   },
   {
    "duration": 212,
    "start_time": "2022-07-28T21:29:46.682Z"
   },
   {
    "duration": 4,
    "start_time": "2022-07-28T21:29:46.895Z"
   },
   {
    "duration": 133,
    "start_time": "2022-07-28T21:29:46.901Z"
   },
   {
    "duration": 20,
    "start_time": "2022-07-28T21:29:47.035Z"
   },
   {
    "duration": 342,
    "start_time": "2022-07-28T21:29:47.057Z"
   },
   {
    "duration": 381,
    "start_time": "2022-07-28T21:29:47.401Z"
   },
   {
    "duration": 13,
    "start_time": "2022-07-28T21:29:47.784Z"
   },
   {
    "duration": 4,
    "start_time": "2022-07-28T21:29:47.798Z"
   },
   {
    "duration": 335,
    "start_time": "2022-07-28T21:29:47.825Z"
   },
   {
    "duration": 202,
    "start_time": "2022-07-28T21:29:48.162Z"
   },
   {
    "duration": 137,
    "start_time": "2022-07-28T21:29:48.365Z"
   },
   {
    "duration": 31,
    "start_time": "2022-07-28T21:29:48.504Z"
   },
   {
    "duration": 45,
    "start_time": "2022-07-28T21:29:48.537Z"
   },
   {
    "duration": 62,
    "start_time": "2022-07-28T21:29:48.583Z"
   },
   {
    "duration": 470,
    "start_time": "2022-07-28T21:29:48.647Z"
   },
   {
    "duration": 251,
    "start_time": "2022-07-28T21:29:49.118Z"
   },
   {
    "duration": 6,
    "start_time": "2022-07-28T21:29:49.370Z"
   },
   {
    "duration": 64,
    "start_time": "2022-07-28T21:29:49.378Z"
   },
   {
    "duration": 14,
    "start_time": "2022-07-28T21:29:49.443Z"
   },
   {
    "duration": 536,
    "start_time": "2022-07-28T21:29:49.459Z"
   },
   {
    "duration": 255,
    "start_time": "2022-07-28T21:29:49.997Z"
   },
   {
    "duration": 7,
    "start_time": "2022-07-28T21:29:50.254Z"
   },
   {
    "duration": 12,
    "start_time": "2022-07-28T21:29:50.263Z"
   },
   {
    "duration": 8,
    "start_time": "2022-07-28T21:29:50.277Z"
   },
   {
    "duration": 108,
    "start_time": "2022-07-28T21:29:50.286Z"
   },
   {
    "duration": 7,
    "start_time": "2022-07-28T21:29:50.396Z"
   },
   {
    "duration": 1016,
    "start_time": "2022-07-28T21:29:50.432Z"
   },
   {
    "duration": 40,
    "start_time": "2022-07-28T21:29:51.450Z"
   },
   {
    "duration": 7,
    "start_time": "2022-07-28T21:29:51.492Z"
   },
   {
    "duration": 19,
    "start_time": "2022-07-28T21:29:51.522Z"
   },
   {
    "duration": 12,
    "start_time": "2022-07-28T21:29:51.543Z"
   },
   {
    "duration": 15,
    "start_time": "2022-07-28T21:29:51.557Z"
   },
   {
    "duration": 1792,
    "start_time": "2022-07-28T21:29:51.574Z"
   },
   {
    "duration": 10,
    "start_time": "2022-07-28T21:29:53.368Z"
   },
   {
    "duration": 16,
    "start_time": "2022-07-28T21:29:53.380Z"
   },
   {
    "duration": 17,
    "start_time": "2022-07-28T21:29:53.397Z"
   },
   {
    "duration": 24,
    "start_time": "2022-07-28T21:29:53.416Z"
   },
   {
    "duration": 6,
    "start_time": "2022-07-28T21:29:53.442Z"
   },
   {
    "duration": 33,
    "start_time": "2022-07-28T21:29:53.450Z"
   },
   {
    "duration": 12,
    "start_time": "2022-07-28T21:30:08.667Z"
   },
   {
    "duration": 421,
    "start_time": "2022-07-28T21:37:58.551Z"
   },
   {
    "duration": 41,
    "start_time": "2022-07-28T21:37:58.974Z"
   },
   {
    "duration": 6,
    "start_time": "2022-07-28T21:38:06.709Z"
   },
   {
    "duration": 7,
    "start_time": "2022-07-28T21:40:23.715Z"
   },
   {
    "duration": 33,
    "start_time": "2022-07-28T21:40:24.354Z"
   },
   {
    "duration": 6,
    "start_time": "2022-07-28T21:40:27.169Z"
   },
   {
    "duration": 118,
    "start_time": "2022-07-28T21:40:51.620Z"
   },
   {
    "duration": 6,
    "start_time": "2022-07-28T21:40:55.956Z"
   },
   {
    "duration": 4,
    "start_time": "2022-07-28T21:41:04.787Z"
   },
   {
    "duration": 3,
    "start_time": "2022-07-28T21:47:01.477Z"
   },
   {
    "duration": 9,
    "start_time": "2022-07-28T21:58:10.703Z"
   },
   {
    "duration": 44,
    "start_time": "2022-07-28T21:58:21.398Z"
   },
   {
    "duration": 198,
    "start_time": "2022-07-28T21:58:21.445Z"
   },
   {
    "duration": 4,
    "start_time": "2022-07-28T21:58:21.645Z"
   },
   {
    "duration": 89,
    "start_time": "2022-07-28T21:58:21.651Z"
   },
   {
    "duration": 27,
    "start_time": "2022-07-28T21:58:21.742Z"
   },
   {
    "duration": 341,
    "start_time": "2022-07-28T21:58:21.771Z"
   },
   {
    "duration": 362,
    "start_time": "2022-07-28T21:58:22.114Z"
   },
   {
    "duration": 11,
    "start_time": "2022-07-28T21:58:22.478Z"
   },
   {
    "duration": 17,
    "start_time": "2022-07-28T21:58:22.490Z"
   },
   {
    "duration": 307,
    "start_time": "2022-07-28T21:58:22.509Z"
   },
   {
    "duration": 190,
    "start_time": "2022-07-28T21:58:22.818Z"
   },
   {
    "duration": 144,
    "start_time": "2022-07-28T21:58:23.009Z"
   },
   {
    "duration": 5,
    "start_time": "2022-07-28T21:58:23.154Z"
   },
   {
    "duration": 70,
    "start_time": "2022-07-28T21:58:23.160Z"
   },
   {
    "duration": 38,
    "start_time": "2022-07-28T21:58:23.232Z"
   },
   {
    "duration": 313,
    "start_time": "2022-07-28T21:58:23.271Z"
   },
   {
    "duration": 343,
    "start_time": "2022-07-28T21:58:23.585Z"
   },
   {
    "duration": 6,
    "start_time": "2022-07-28T21:58:23.930Z"
   },
   {
    "duration": 48,
    "start_time": "2022-07-28T21:58:23.937Z"
   },
   {
    "duration": 37,
    "start_time": "2022-07-28T21:58:23.987Z"
   },
   {
    "duration": 526,
    "start_time": "2022-07-28T21:58:24.026Z"
   },
   {
    "duration": 229,
    "start_time": "2022-07-28T21:58:24.554Z"
   },
   {
    "duration": 7,
    "start_time": "2022-07-28T21:58:24.785Z"
   },
   {
    "duration": 19,
    "start_time": "2022-07-28T21:58:24.793Z"
   },
   {
    "duration": 21,
    "start_time": "2022-07-28T21:58:24.813Z"
   },
   {
    "duration": 93,
    "start_time": "2022-07-28T21:58:24.835Z"
   },
   {
    "duration": 7,
    "start_time": "2022-07-28T21:58:24.932Z"
   },
   {
    "duration": 995,
    "start_time": "2022-07-28T21:58:24.940Z"
   },
   {
    "duration": 41,
    "start_time": "2022-07-28T21:58:25.936Z"
   },
   {
    "duration": 7,
    "start_time": "2022-07-28T21:58:25.979Z"
   },
   {
    "duration": 50,
    "start_time": "2022-07-28T21:58:25.987Z"
   },
   {
    "duration": 12,
    "start_time": "2022-07-28T21:58:26.039Z"
   },
   {
    "duration": 18,
    "start_time": "2022-07-28T21:58:26.054Z"
   },
   {
    "duration": 1621,
    "start_time": "2022-07-28T21:58:26.074Z"
   },
   {
    "duration": 9,
    "start_time": "2022-07-28T21:58:27.697Z"
   },
   {
    "duration": 19,
    "start_time": "2022-07-28T21:58:27.707Z"
   },
   {
    "duration": 31,
    "start_time": "2022-07-28T21:58:27.728Z"
   },
   {
    "duration": 16,
    "start_time": "2022-07-28T21:58:27.760Z"
   },
   {
    "duration": 9,
    "start_time": "2022-07-28T21:58:27.778Z"
   },
   {
    "duration": 37,
    "start_time": "2022-07-28T21:58:27.788Z"
   },
   {
    "duration": 13,
    "start_time": "2022-07-28T21:58:27.827Z"
   },
   {
    "duration": 12,
    "start_time": "2022-07-28T21:58:27.842Z"
   },
   {
    "duration": 14,
    "start_time": "2022-07-28T21:58:27.855Z"
   },
   {
    "duration": 10,
    "start_time": "2022-07-28T21:58:27.871Z"
   },
   {
    "duration": 32,
    "start_time": "2022-07-28T21:58:27.883Z"
   },
   {
    "duration": 59,
    "start_time": "2022-07-28T22:00:08.178Z"
   },
   {
    "duration": 3,
    "start_time": "2022-07-28T22:00:14.802Z"
   },
   {
    "duration": 2936,
    "start_time": "2022-07-28T22:00:33.387Z"
   },
   {
    "duration": 3120,
    "start_time": "2022-07-28T22:00:43.007Z"
   },
   {
    "duration": 3454,
    "start_time": "2022-07-28T22:00:49.274Z"
   },
   {
    "duration": 27,
    "start_time": "2022-07-28T22:04:27.983Z"
   },
   {
    "duration": 28,
    "start_time": "2022-07-28T22:04:54.173Z"
   },
   {
    "duration": 27,
    "start_time": "2022-07-28T22:05:25.759Z"
   },
   {
    "duration": 28,
    "start_time": "2022-07-28T22:05:35.984Z"
   },
   {
    "duration": 31,
    "start_time": "2022-07-28T22:06:03.882Z"
   },
   {
    "duration": 745,
    "start_time": "2022-07-28T22:06:24.279Z"
   },
   {
    "duration": 428,
    "start_time": "2022-07-28T22:06:30.503Z"
   },
   {
    "duration": 315,
    "start_time": "2022-07-28T22:06:34.708Z"
   },
   {
    "duration": 1420,
    "start_time": "2022-07-28T22:06:35.707Z"
   },
   {
    "duration": 1352,
    "start_time": "2022-07-28T22:10:33.041Z"
   },
   {
    "duration": 197,
    "start_time": "2022-07-28T22:10:34.395Z"
   },
   {
    "duration": 5,
    "start_time": "2022-07-28T22:10:34.593Z"
   },
   {
    "duration": 104,
    "start_time": "2022-07-28T22:10:34.600Z"
   },
   {
    "duration": 32,
    "start_time": "2022-07-28T22:10:34.705Z"
   },
   {
    "duration": 352,
    "start_time": "2022-07-28T22:10:34.738Z"
   },
   {
    "duration": 370,
    "start_time": "2022-07-28T22:10:35.092Z"
   },
   {
    "duration": 13,
    "start_time": "2022-07-28T22:10:35.464Z"
   },
   {
    "duration": 4,
    "start_time": "2022-07-28T22:10:35.479Z"
   },
   {
    "duration": 403,
    "start_time": "2022-07-28T22:10:35.486Z"
   },
   {
    "duration": 213,
    "start_time": "2022-07-28T22:10:35.890Z"
   },
   {
    "duration": 142,
    "start_time": "2022-07-28T22:10:36.104Z"
   },
   {
    "duration": 5,
    "start_time": "2022-07-28T22:10:36.247Z"
   },
   {
    "duration": 70,
    "start_time": "2022-07-28T22:10:36.253Z"
   },
   {
    "duration": 38,
    "start_time": "2022-07-28T22:10:36.325Z"
   },
   {
    "duration": 317,
    "start_time": "2022-07-28T22:10:36.365Z"
   },
   {
    "duration": 241,
    "start_time": "2022-07-28T22:10:36.684Z"
   },
   {
    "duration": 6,
    "start_time": "2022-07-28T22:10:36.928Z"
   },
   {
    "duration": 45,
    "start_time": "2022-07-28T22:10:36.937Z"
   },
   {
    "duration": 47,
    "start_time": "2022-07-28T22:10:36.984Z"
   },
   {
    "duration": 512,
    "start_time": "2022-07-28T22:10:37.033Z"
   },
   {
    "duration": 241,
    "start_time": "2022-07-28T22:10:37.548Z"
   },
   {
    "duration": 7,
    "start_time": "2022-07-28T22:10:37.791Z"
   },
   {
    "duration": 26,
    "start_time": "2022-07-28T22:10:37.800Z"
   },
   {
    "duration": 12,
    "start_time": "2022-07-28T22:10:37.828Z"
   },
   {
    "duration": 201,
    "start_time": "2022-07-28T22:10:37.841Z"
   },
   {
    "duration": 7,
    "start_time": "2022-07-28T22:10:38.043Z"
   },
   {
    "duration": 897,
    "start_time": "2022-07-28T22:10:38.054Z"
   },
   {
    "duration": 45,
    "start_time": "2022-07-28T22:10:38.953Z"
   },
   {
    "duration": 9,
    "start_time": "2022-07-28T22:10:39.023Z"
   },
   {
    "duration": 17,
    "start_time": "2022-07-28T22:10:39.034Z"
   },
   {
    "duration": 23,
    "start_time": "2022-07-28T22:10:39.053Z"
   },
   {
    "duration": 47,
    "start_time": "2022-07-28T22:10:39.078Z"
   },
   {
    "duration": 1754,
    "start_time": "2022-07-28T22:10:39.127Z"
   },
   {
    "duration": 9,
    "start_time": "2022-07-28T22:10:40.883Z"
   },
   {
    "duration": 8,
    "start_time": "2022-07-28T22:10:40.894Z"
   },
   {
    "duration": 28,
    "start_time": "2022-07-28T22:10:40.903Z"
   },
   {
    "duration": 17,
    "start_time": "2022-07-28T22:10:40.932Z"
   },
   {
    "duration": 7,
    "start_time": "2022-07-28T22:10:40.950Z"
   },
   {
    "duration": 32,
    "start_time": "2022-07-28T22:10:40.958Z"
   },
   {
    "duration": 38,
    "start_time": "2022-07-28T22:10:40.991Z"
   },
   {
    "duration": 6,
    "start_time": "2022-07-28T22:10:41.031Z"
   },
   {
    "duration": 5,
    "start_time": "2022-07-28T22:10:41.038Z"
   },
   {
    "duration": 682,
    "start_time": "2022-07-28T22:10:41.045Z"
   },
   {
    "duration": 94,
    "start_time": "2022-07-28T22:10:41.730Z"
   },
   {
    "duration": 47401,
    "start_time": "2022-07-28T22:10:41.826Z"
   },
   {
    "duration": 6965,
    "start_time": "2022-07-28T22:11:29.231Z"
   },
   {
    "duration": 3,
    "start_time": "2022-07-28T22:11:42.717Z"
   },
   {
    "duration": 75511,
    "start_time": "2022-07-28T22:13:07.317Z"
   },
   {
    "duration": 604,
    "start_time": "2022-07-28T22:16:11.831Z"
   },
   {
    "duration": 485,
    "start_time": "2022-07-28T22:18:50.840Z"
   },
   {
    "duration": 5,
    "start_time": "2022-07-28T22:18:56.374Z"
   },
   {
    "duration": 2736,
    "start_time": "2022-07-28T22:19:02.096Z"
   },
   {
    "duration": 15515,
    "start_time": "2022-07-28T22:19:55.813Z"
   },
   {
    "duration": 61,
    "start_time": "2022-07-29T15:58:36.647Z"
   },
   {
    "duration": 1646,
    "start_time": "2022-07-29T15:58:49.163Z"
   },
   {
    "duration": 513,
    "start_time": "2022-07-29T15:58:50.811Z"
   },
   {
    "duration": 3,
    "start_time": "2022-07-29T15:58:51.326Z"
   },
   {
    "duration": 108,
    "start_time": "2022-07-29T15:58:51.331Z"
   },
   {
    "duration": 21,
    "start_time": "2022-07-29T15:58:51.441Z"
   },
   {
    "duration": 375,
    "start_time": "2022-07-29T15:58:51.464Z"
   },
   {
    "duration": 408,
    "start_time": "2022-07-29T15:58:51.841Z"
   },
   {
    "duration": 15,
    "start_time": "2022-07-29T15:58:52.251Z"
   },
   {
    "duration": 7,
    "start_time": "2022-07-29T15:58:52.268Z"
   },
   {
    "duration": 418,
    "start_time": "2022-07-29T15:58:52.278Z"
   },
   {
    "duration": 227,
    "start_time": "2022-07-29T15:58:52.703Z"
   },
   {
    "duration": 157,
    "start_time": "2022-07-29T15:58:52.931Z"
   },
   {
    "duration": 17,
    "start_time": "2022-07-29T15:58:53.090Z"
   },
   {
    "duration": 59,
    "start_time": "2022-07-29T15:58:53.109Z"
   },
   {
    "duration": 67,
    "start_time": "2022-07-29T15:58:53.169Z"
   },
   {
    "duration": 334,
    "start_time": "2022-07-29T15:58:53.237Z"
   },
   {
    "duration": 253,
    "start_time": "2022-07-29T15:58:53.573Z"
   },
   {
    "duration": 7,
    "start_time": "2022-07-29T15:58:53.828Z"
   },
   {
    "duration": 73,
    "start_time": "2022-07-29T15:58:53.836Z"
   },
   {
    "duration": 16,
    "start_time": "2022-07-29T15:58:53.911Z"
   },
   {
    "duration": 510,
    "start_time": "2022-07-29T15:58:53.929Z"
   },
   {
    "duration": 241,
    "start_time": "2022-07-29T15:58:54.441Z"
   },
   {
    "duration": 6,
    "start_time": "2022-07-29T15:58:54.684Z"
   },
   {
    "duration": 10,
    "start_time": "2022-07-29T15:58:54.704Z"
   },
   {
    "duration": 9,
    "start_time": "2022-07-29T15:58:54.716Z"
   },
   {
    "duration": 214,
    "start_time": "2022-07-29T15:58:54.726Z"
   },
   {
    "duration": 7,
    "start_time": "2022-07-29T15:58:54.941Z"
   },
   {
    "duration": 948,
    "start_time": "2022-07-29T15:58:54.952Z"
   },
   {
    "duration": 40,
    "start_time": "2022-07-29T15:58:55.901Z"
   },
   {
    "duration": 8,
    "start_time": "2022-07-29T15:58:55.942Z"
   },
   {
    "duration": 17,
    "start_time": "2022-07-29T15:58:55.951Z"
   },
   {
    "duration": 45,
    "start_time": "2022-07-29T15:58:55.970Z"
   },
   {
    "duration": 18,
    "start_time": "2022-07-29T15:58:56.016Z"
   },
   {
    "duration": 1982,
    "start_time": "2022-07-29T15:58:56.035Z"
   },
   {
    "duration": 9,
    "start_time": "2022-07-29T15:58:58.019Z"
   },
   {
    "duration": 11,
    "start_time": "2022-07-29T15:58:58.029Z"
   },
   {
    "duration": 18,
    "start_time": "2022-07-29T15:58:58.042Z"
   },
   {
    "duration": 16,
    "start_time": "2022-07-29T15:58:58.061Z"
   },
   {
    "duration": 7,
    "start_time": "2022-07-29T15:58:58.079Z"
   },
   {
    "duration": 48,
    "start_time": "2022-07-29T15:58:58.087Z"
   },
   {
    "duration": 13,
    "start_time": "2022-07-29T15:58:58.137Z"
   },
   {
    "duration": 15,
    "start_time": "2022-07-29T15:58:58.152Z"
   },
   {
    "duration": 6,
    "start_time": "2022-07-29T15:58:58.170Z"
   },
   {
    "duration": 727,
    "start_time": "2022-07-29T15:58:58.178Z"
   },
   {
    "duration": 93,
    "start_time": "2022-07-29T15:58:58.911Z"
   },
   {
    "duration": 275243,
    "start_time": "2022-07-29T15:58:59.006Z"
   },
   {
    "duration": 1555,
    "start_time": "2022-07-29T16:03:34.250Z"
   },
   {
    "duration": 614,
    "start_time": "2022-07-29T16:03:35.807Z"
   },
   {
    "duration": 9,
    "start_time": "2022-07-29T16:03:36.506Z"
   },
   {
    "duration": 1473,
    "start_time": "2022-07-29T16:03:47.211Z"
   },
   {
    "duration": 194,
    "start_time": "2022-07-29T16:03:48.686Z"
   },
   {
    "duration": 4,
    "start_time": "2022-07-29T16:03:48.882Z"
   },
   {
    "duration": 125,
    "start_time": "2022-07-29T16:03:48.888Z"
   },
   {
    "duration": 23,
    "start_time": "2022-07-29T16:03:49.015Z"
   },
   {
    "duration": 402,
    "start_time": "2022-07-29T16:03:49.039Z"
   },
   {
    "duration": 422,
    "start_time": "2022-07-29T16:03:49.443Z"
   },
   {
    "duration": 15,
    "start_time": "2022-07-29T16:03:49.867Z"
   },
   {
    "duration": 21,
    "start_time": "2022-07-29T16:03:49.884Z"
   },
   {
    "duration": 430,
    "start_time": "2022-07-29T16:03:49.908Z"
   },
   {
    "duration": 210,
    "start_time": "2022-07-29T16:03:50.340Z"
   },
   {
    "duration": 163,
    "start_time": "2022-07-29T16:03:50.552Z"
   },
   {
    "duration": 4,
    "start_time": "2022-07-29T16:03:50.717Z"
   },
   {
    "duration": 51,
    "start_time": "2022-07-29T16:03:50.723Z"
   },
   {
    "duration": 65,
    "start_time": "2022-07-29T16:03:50.775Z"
   },
   {
    "duration": 324,
    "start_time": "2022-07-29T16:03:50.842Z"
   },
   {
    "duration": 233,
    "start_time": "2022-07-29T16:03:51.168Z"
   },
   {
    "duration": 7,
    "start_time": "2022-07-29T16:03:51.403Z"
   },
   {
    "duration": 47,
    "start_time": "2022-07-29T16:03:51.411Z"
   },
   {
    "duration": 16,
    "start_time": "2022-07-29T16:03:51.459Z"
   },
   {
    "duration": 526,
    "start_time": "2022-07-29T16:03:51.505Z"
   },
   {
    "duration": 270,
    "start_time": "2022-07-29T16:03:52.032Z"
   },
   {
    "duration": 7,
    "start_time": "2022-07-29T16:03:52.304Z"
   },
   {
    "duration": 12,
    "start_time": "2022-07-29T16:03:52.312Z"
   },
   {
    "duration": 10,
    "start_time": "2022-07-29T16:03:52.326Z"
   },
   {
    "duration": 235,
    "start_time": "2022-07-29T16:03:52.338Z"
   },
   {
    "duration": 7,
    "start_time": "2022-07-29T16:03:52.575Z"
   },
   {
    "duration": 934,
    "start_time": "2022-07-29T16:03:52.603Z"
   },
   {
    "duration": 42,
    "start_time": "2022-07-29T16:03:53.539Z"
   },
   {
    "duration": 8,
    "start_time": "2022-07-29T16:03:53.603Z"
   },
   {
    "duration": 18,
    "start_time": "2022-07-29T16:03:53.613Z"
   },
   {
    "duration": 12,
    "start_time": "2022-07-29T16:03:53.633Z"
   },
   {
    "duration": 18,
    "start_time": "2022-07-29T16:03:53.647Z"
   },
   {
    "duration": 1913,
    "start_time": "2022-07-29T16:03:53.668Z"
   },
   {
    "duration": 9,
    "start_time": "2022-07-29T16:03:55.583Z"
   },
   {
    "duration": 10,
    "start_time": "2022-07-29T16:03:55.594Z"
   },
   {
    "duration": 21,
    "start_time": "2022-07-29T16:03:55.606Z"
   },
   {
    "duration": 17,
    "start_time": "2022-07-29T16:03:55.628Z"
   },
   {
    "duration": 7,
    "start_time": "2022-07-29T16:03:55.647Z"
   },
   {
    "duration": 54,
    "start_time": "2022-07-29T16:03:55.656Z"
   },
   {
    "duration": 12,
    "start_time": "2022-07-29T16:03:55.712Z"
   },
   {
    "duration": 9,
    "start_time": "2022-07-29T16:03:55.726Z"
   },
   {
    "duration": 6,
    "start_time": "2022-07-29T16:03:55.737Z"
   },
   {
    "duration": 6,
    "start_time": "2022-07-29T16:03:55.745Z"
   },
   {
    "duration": 0,
    "start_time": "2022-07-29T16:03:55.753Z"
   },
   {
    "duration": 2,
    "start_time": "2022-07-29T16:04:10.437Z"
   },
   {
    "duration": 340,
    "start_time": "2022-07-29T16:04:26.773Z"
   },
   {
    "duration": 3,
    "start_time": "2022-07-29T16:04:29.612Z"
   },
   {
    "duration": 249587,
    "start_time": "2022-07-29T16:04:31.169Z"
   },
   {
    "duration": 57,
    "start_time": "2022-07-29T16:20:34.082Z"
   },
   {
    "duration": 51,
    "start_time": "2022-07-29T16:20:42.578Z"
   },
   {
    "duration": 3394021,
    "start_time": "2022-07-29T16:20:46.841Z"
   },
   {
    "duration": 4115,
    "start_time": "2022-07-29T17:17:49.584Z"
   },
   {
    "duration": 139354,
    "start_time": "2022-07-29T17:18:11.761Z"
   },
   {
    "duration": 5357,
    "start_time": "2022-07-29T17:20:46.741Z"
   },
   {
    "duration": 1662,
    "start_time": "2022-07-29T17:22:23.524Z"
   },
   {
    "duration": 187,
    "start_time": "2022-07-29T17:22:25.189Z"
   },
   {
    "duration": 3,
    "start_time": "2022-07-29T17:22:25.378Z"
   },
   {
    "duration": 122,
    "start_time": "2022-07-29T17:22:25.383Z"
   },
   {
    "duration": 20,
    "start_time": "2022-07-29T17:22:25.507Z"
   },
   {
    "duration": 354,
    "start_time": "2022-07-29T17:22:25.528Z"
   },
   {
    "duration": 375,
    "start_time": "2022-07-29T17:22:25.883Z"
   },
   {
    "duration": 14,
    "start_time": "2022-07-29T17:22:26.261Z"
   },
   {
    "duration": 5,
    "start_time": "2022-07-29T17:22:26.277Z"
   },
   {
    "duration": 466,
    "start_time": "2022-07-29T17:22:26.304Z"
   },
   {
    "duration": 197,
    "start_time": "2022-07-29T17:22:26.771Z"
   },
   {
    "duration": 143,
    "start_time": "2022-07-29T17:22:26.970Z"
   },
   {
    "duration": 4,
    "start_time": "2022-07-29T17:22:27.115Z"
   },
   {
    "duration": 46,
    "start_time": "2022-07-29T17:22:27.122Z"
   },
   {
    "duration": 65,
    "start_time": "2022-07-29T17:22:27.170Z"
   },
   {
    "duration": 306,
    "start_time": "2022-07-29T17:22:27.237Z"
   },
   {
    "duration": 225,
    "start_time": "2022-07-29T17:22:27.544Z"
   },
   {
    "duration": 6,
    "start_time": "2022-07-29T17:22:27.770Z"
   },
   {
    "duration": 55,
    "start_time": "2022-07-29T17:22:27.778Z"
   },
   {
    "duration": 14,
    "start_time": "2022-07-29T17:22:27.835Z"
   },
   {
    "duration": 522,
    "start_time": "2022-07-29T17:22:27.851Z"
   },
   {
    "duration": 243,
    "start_time": "2022-07-29T17:22:28.375Z"
   },
   {
    "duration": 7,
    "start_time": "2022-07-29T17:22:28.619Z"
   },
   {
    "duration": 13,
    "start_time": "2022-07-29T17:22:28.627Z"
   },
   {
    "duration": 11,
    "start_time": "2022-07-29T17:22:28.642Z"
   },
   {
    "duration": 227,
    "start_time": "2022-07-29T17:22:28.654Z"
   },
   {
    "duration": 7,
    "start_time": "2022-07-29T17:22:28.883Z"
   },
   {
    "duration": 913,
    "start_time": "2022-07-29T17:22:28.905Z"
   },
   {
    "duration": 44,
    "start_time": "2022-07-29T17:22:29.820Z"
   },
   {
    "duration": 8,
    "start_time": "2022-07-29T17:22:29.865Z"
   },
   {
    "duration": 49,
    "start_time": "2022-07-29T17:22:29.875Z"
   },
   {
    "duration": 16,
    "start_time": "2022-07-29T17:22:29.926Z"
   },
   {
    "duration": 55,
    "start_time": "2022-07-29T17:22:29.944Z"
   },
   {
    "duration": 1936,
    "start_time": "2022-07-29T17:22:30.001Z"
   },
   {
    "duration": 10,
    "start_time": "2022-07-29T17:22:31.939Z"
   },
   {
    "duration": 9,
    "start_time": "2022-07-29T17:22:31.950Z"
   },
   {
    "duration": 19,
    "start_time": "2022-07-29T17:22:31.960Z"
   },
   {
    "duration": 23,
    "start_time": "2022-07-29T17:22:31.981Z"
   },
   {
    "duration": 7,
    "start_time": "2022-07-29T17:22:32.006Z"
   },
   {
    "duration": 34,
    "start_time": "2022-07-29T17:22:32.015Z"
   },
   {
    "duration": 16,
    "start_time": "2022-07-29T17:22:32.054Z"
   },
   {
    "duration": 35,
    "start_time": "2022-07-29T17:22:32.072Z"
   },
   {
    "duration": 6,
    "start_time": "2022-07-29T17:22:32.109Z"
   },
   {
    "duration": 596,
    "start_time": "2022-07-29T17:22:32.116Z"
   },
   {
    "duration": 461108,
    "start_time": "2022-07-29T17:22:32.714Z"
   },
   {
    "duration": 711,
    "start_time": "2022-07-29T17:30:13.903Z"
   },
   {
    "duration": 804,
    "start_time": "2022-07-29T17:30:14.616Z"
   },
   {
    "duration": 602,
    "start_time": "2022-07-29T17:30:46.405Z"
   },
   {
    "duration": 1167318,
    "start_time": "2022-07-29T17:33:35.038Z"
   },
   {
    "duration": 1678875,
    "start_time": "2022-07-29T17:53:11.450Z"
   },
   {
    "duration": 1550,
    "start_time": "2022-07-30T07:38:50.851Z"
   },
   {
    "duration": 471,
    "start_time": "2022-07-30T07:38:52.404Z"
   },
   {
    "duration": 4,
    "start_time": "2022-07-30T07:38:52.877Z"
   },
   {
    "duration": 106,
    "start_time": "2022-07-30T07:38:52.883Z"
   },
   {
    "duration": 34,
    "start_time": "2022-07-30T07:38:52.991Z"
   },
   {
    "duration": 362,
    "start_time": "2022-07-30T07:38:53.027Z"
   },
   {
    "duration": 430,
    "start_time": "2022-07-30T07:38:53.392Z"
   },
   {
    "duration": 18,
    "start_time": "2022-07-30T07:38:53.824Z"
   },
   {
    "duration": 5,
    "start_time": "2022-07-30T07:38:53.844Z"
   },
   {
    "duration": 394,
    "start_time": "2022-07-30T07:38:53.853Z"
   },
   {
    "duration": 187,
    "start_time": "2022-07-30T07:38:54.251Z"
   },
   {
    "duration": 160,
    "start_time": "2022-07-30T07:38:54.440Z"
   },
   {
    "duration": 5,
    "start_time": "2022-07-30T07:38:54.602Z"
   },
   {
    "duration": 86,
    "start_time": "2022-07-30T07:38:54.609Z"
   },
   {
    "duration": 59,
    "start_time": "2022-07-30T07:38:54.697Z"
   },
   {
    "duration": 323,
    "start_time": "2022-07-30T07:38:54.758Z"
   },
   {
    "duration": 237,
    "start_time": "2022-07-30T07:38:55.083Z"
   },
   {
    "duration": 7,
    "start_time": "2022-07-30T07:38:55.324Z"
   },
   {
    "duration": 57,
    "start_time": "2022-07-30T07:38:55.332Z"
   },
   {
    "duration": 35,
    "start_time": "2022-07-30T07:38:55.390Z"
   },
   {
    "duration": 678,
    "start_time": "2022-07-30T07:38:55.427Z"
   },
   {
    "duration": 269,
    "start_time": "2022-07-30T07:38:56.107Z"
   },
   {
    "duration": 8,
    "start_time": "2022-07-30T07:38:56.378Z"
   },
   {
    "duration": 16,
    "start_time": "2022-07-30T07:38:56.387Z"
   },
   {
    "duration": 28,
    "start_time": "2022-07-30T07:38:56.405Z"
   },
   {
    "duration": 230,
    "start_time": "2022-07-30T07:38:56.436Z"
   },
   {
    "duration": 8,
    "start_time": "2022-07-30T07:38:56.668Z"
   },
   {
    "duration": 1053,
    "start_time": "2022-07-30T07:38:56.682Z"
   },
   {
    "duration": 51,
    "start_time": "2022-07-30T07:38:57.738Z"
   },
   {
    "duration": 33,
    "start_time": "2022-07-30T07:38:57.791Z"
   },
   {
    "duration": 22,
    "start_time": "2022-07-30T07:38:57.827Z"
   },
   {
    "duration": 12,
    "start_time": "2022-07-30T07:38:57.851Z"
   },
   {
    "duration": 17,
    "start_time": "2022-07-30T07:38:57.866Z"
   },
   {
    "duration": 1888,
    "start_time": "2022-07-30T07:38:57.885Z"
   },
   {
    "duration": 12,
    "start_time": "2022-07-30T07:38:59.775Z"
   },
   {
    "duration": 10,
    "start_time": "2022-07-30T07:38:59.789Z"
   },
   {
    "duration": 29,
    "start_time": "2022-07-30T07:38:59.801Z"
   },
   {
    "duration": 16,
    "start_time": "2022-07-30T07:38:59.831Z"
   },
   {
    "duration": 8,
    "start_time": "2022-07-30T07:38:59.849Z"
   },
   {
    "duration": 33,
    "start_time": "2022-07-30T07:38:59.858Z"
   },
   {
    "duration": 40,
    "start_time": "2022-07-30T07:38:59.893Z"
   },
   {
    "duration": 11,
    "start_time": "2022-07-30T07:38:59.936Z"
   },
   {
    "duration": 7,
    "start_time": "2022-07-30T07:38:59.949Z"
   },
   {
    "duration": 1171,
    "start_time": "2022-07-30T07:38:59.958Z"
   },
   {
    "duration": 1870,
    "start_time": "2022-07-31T09:24:45.550Z"
   },
   {
    "duration": 661,
    "start_time": "2022-07-31T09:24:47.422Z"
   },
   {
    "duration": 5,
    "start_time": "2022-07-31T09:24:48.085Z"
   },
   {
    "duration": 118,
    "start_time": "2022-07-31T09:24:48.093Z"
   },
   {
    "duration": 21,
    "start_time": "2022-07-31T09:24:48.213Z"
   },
   {
    "duration": 365,
    "start_time": "2022-07-31T09:24:48.236Z"
   },
   {
    "duration": 466,
    "start_time": "2022-07-31T09:24:48.603Z"
   },
   {
    "duration": 13,
    "start_time": "2022-07-31T09:24:49.071Z"
   },
   {
    "duration": 5,
    "start_time": "2022-07-31T09:24:49.085Z"
   },
   {
    "duration": 338,
    "start_time": "2022-07-31T09:24:49.111Z"
   },
   {
    "duration": 231,
    "start_time": "2022-07-31T09:24:49.451Z"
   },
   {
    "duration": 152,
    "start_time": "2022-07-31T09:24:49.683Z"
   },
   {
    "duration": 4,
    "start_time": "2022-07-31T09:24:49.837Z"
   },
   {
    "duration": 72,
    "start_time": "2022-07-31T09:24:49.842Z"
   },
   {
    "duration": 45,
    "start_time": "2022-07-31T09:24:49.916Z"
   },
   {
    "duration": 341,
    "start_time": "2022-07-31T09:24:49.962Z"
   },
   {
    "duration": 262,
    "start_time": "2022-07-31T09:24:50.305Z"
   },
   {
    "duration": 7,
    "start_time": "2022-07-31T09:24:50.568Z"
   },
   {
    "duration": 68,
    "start_time": "2022-07-31T09:24:50.577Z"
   },
   {
    "duration": 15,
    "start_time": "2022-07-31T09:24:50.647Z"
   },
   {
    "duration": 598,
    "start_time": "2022-07-31T09:24:50.664Z"
   },
   {
    "duration": 360,
    "start_time": "2022-07-31T09:24:51.264Z"
   },
   {
    "duration": 7,
    "start_time": "2022-07-31T09:24:51.627Z"
   },
   {
    "duration": 11,
    "start_time": "2022-07-31T09:24:51.636Z"
   },
   {
    "duration": 10,
    "start_time": "2022-07-31T09:24:51.649Z"
   },
   {
    "duration": 132,
    "start_time": "2022-07-31T09:24:51.661Z"
   },
   {
    "duration": 15,
    "start_time": "2022-07-31T09:24:51.796Z"
   },
   {
    "duration": 1018,
    "start_time": "2022-07-31T09:24:51.817Z"
   },
   {
    "duration": 72,
    "start_time": "2022-07-31T09:24:52.838Z"
   },
   {
    "duration": 7,
    "start_time": "2022-07-31T09:24:52.913Z"
   },
   {
    "duration": 19,
    "start_time": "2022-07-31T09:24:52.922Z"
   },
   {
    "duration": 22,
    "start_time": "2022-07-31T09:24:52.943Z"
   },
   {
    "duration": 17,
    "start_time": "2022-07-31T09:24:52.966Z"
   },
   {
    "duration": 1893,
    "start_time": "2022-07-31T09:24:52.985Z"
   },
   {
    "duration": 8,
    "start_time": "2022-07-31T09:24:54.880Z"
   },
   {
    "duration": 10,
    "start_time": "2022-07-31T09:24:54.890Z"
   },
   {
    "duration": 21,
    "start_time": "2022-07-31T09:24:54.902Z"
   },
   {
    "duration": 8,
    "start_time": "2022-07-31T09:24:54.925Z"
   },
   {
    "duration": 12,
    "start_time": "2022-07-31T09:25:30.546Z"
   }
  ],
  "kernelspec": {
   "display_name": "Python 3 (ipykernel)",
   "language": "python",
   "name": "python3"
  },
  "language_info": {
   "codemirror_mode": {
    "name": "ipython",
    "version": 3
   },
   "file_extension": ".py",
   "mimetype": "text/x-python",
   "name": "python",
   "nbconvert_exporter": "python",
   "pygments_lexer": "ipython3",
   "version": "3.9.7"
  },
  "toc": {
   "base_numbering": 1,
   "nav_menu": {},
   "number_sections": true,
   "sideBar": true,
   "skip_h1_title": true,
   "title_cell": "Table of Contents",
   "title_sidebar": "Contents",
   "toc_cell": true,
   "toc_position": {
    "height": "630px",
    "left": "104px",
    "top": "221.125px",
    "width": "333.188px"
   },
   "toc_section_display": true,
   "toc_window_display": true
  }
 },
 "nbformat": 4,
 "nbformat_minor": 2
}
