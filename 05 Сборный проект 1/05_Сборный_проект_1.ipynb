{
 "cells": [
  {
   "cell_type": "markdown",
   "id": "c5f7f209",
   "metadata": {},
   "source": [
    "# Сборный проект №1"
   ]
  },
  {
   "cell_type": "markdown",
   "id": "0ce6938e",
   "metadata": {},
   "source": [
    "## Открытие файла с данными и изучение общей информации"
   ]
  },
  {
   "cell_type": "code",
   "execution_count": 1,
   "id": "2908cf6c",
   "metadata": {},
   "outputs": [],
   "source": [
    "import pandas as pd\n",
    "import numpy as np\n",
    "import matplotlib.pyplot as plt\n",
    "import plotly.express as px\n",
    "from scipy import stats as st"
   ]
  },
  {
   "cell_type": "code",
   "execution_count": 2,
   "id": "d256e27a",
   "metadata": {},
   "outputs": [
    {
     "name": "stdout",
     "output_type": "stream",
     "text": [
      "<class 'pandas.core.frame.DataFrame'>\n",
      "RangeIndex: 16715 entries, 0 to 16714\n",
      "Data columns (total 11 columns):\n",
      "Name               16713 non-null object\n",
      "Platform           16715 non-null object\n",
      "Year_of_Release    16446 non-null float64\n",
      "Genre              16713 non-null object\n",
      "NA_sales           16715 non-null float64\n",
      "EU_sales           16715 non-null float64\n",
      "JP_sales           16715 non-null float64\n",
      "Other_sales        16715 non-null float64\n",
      "Critic_Score       8137 non-null float64\n",
      "User_Score         10014 non-null object\n",
      "Rating             9949 non-null object\n",
      "dtypes: float64(6), object(5)\n",
      "memory usage: 1.4+ MB\n"
     ]
    },
    {
     "data": {
      "text/html": [
       "<div>\n",
       "<style scoped>\n",
       "    .dataframe tbody tr th:only-of-type {\n",
       "        vertical-align: middle;\n",
       "    }\n",
       "\n",
       "    .dataframe tbody tr th {\n",
       "        vertical-align: top;\n",
       "    }\n",
       "\n",
       "    .dataframe thead th {\n",
       "        text-align: right;\n",
       "    }\n",
       "</style>\n",
       "<table border=\"1\" class=\"dataframe\">\n",
       "  <thead>\n",
       "    <tr style=\"text-align: right;\">\n",
       "      <th></th>\n",
       "      <th>Name</th>\n",
       "      <th>Platform</th>\n",
       "      <th>Year_of_Release</th>\n",
       "      <th>Genre</th>\n",
       "      <th>NA_sales</th>\n",
       "      <th>EU_sales</th>\n",
       "      <th>JP_sales</th>\n",
       "      <th>Other_sales</th>\n",
       "      <th>Critic_Score</th>\n",
       "      <th>User_Score</th>\n",
       "      <th>Rating</th>\n",
       "    </tr>\n",
       "  </thead>\n",
       "  <tbody>\n",
       "    <tr>\n",
       "      <td>0</td>\n",
       "      <td>Wii Sports</td>\n",
       "      <td>Wii</td>\n",
       "      <td>2006.0</td>\n",
       "      <td>Sports</td>\n",
       "      <td>41.36</td>\n",
       "      <td>28.96</td>\n",
       "      <td>3.77</td>\n",
       "      <td>8.45</td>\n",
       "      <td>76.0</td>\n",
       "      <td>8</td>\n",
       "      <td>E</td>\n",
       "    </tr>\n",
       "    <tr>\n",
       "      <td>1</td>\n",
       "      <td>Super Mario Bros.</td>\n",
       "      <td>NES</td>\n",
       "      <td>1985.0</td>\n",
       "      <td>Platform</td>\n",
       "      <td>29.08</td>\n",
       "      <td>3.58</td>\n",
       "      <td>6.81</td>\n",
       "      <td>0.77</td>\n",
       "      <td>NaN</td>\n",
       "      <td>NaN</td>\n",
       "      <td>NaN</td>\n",
       "    </tr>\n",
       "    <tr>\n",
       "      <td>2</td>\n",
       "      <td>Mario Kart Wii</td>\n",
       "      <td>Wii</td>\n",
       "      <td>2008.0</td>\n",
       "      <td>Racing</td>\n",
       "      <td>15.68</td>\n",
       "      <td>12.76</td>\n",
       "      <td>3.79</td>\n",
       "      <td>3.29</td>\n",
       "      <td>82.0</td>\n",
       "      <td>8.3</td>\n",
       "      <td>E</td>\n",
       "    </tr>\n",
       "    <tr>\n",
       "      <td>3</td>\n",
       "      <td>Wii Sports Resort</td>\n",
       "      <td>Wii</td>\n",
       "      <td>2009.0</td>\n",
       "      <td>Sports</td>\n",
       "      <td>15.61</td>\n",
       "      <td>10.93</td>\n",
       "      <td>3.28</td>\n",
       "      <td>2.95</td>\n",
       "      <td>80.0</td>\n",
       "      <td>8</td>\n",
       "      <td>E</td>\n",
       "    </tr>\n",
       "    <tr>\n",
       "      <td>4</td>\n",
       "      <td>Pokemon Red/Pokemon Blue</td>\n",
       "      <td>GB</td>\n",
       "      <td>1996.0</td>\n",
       "      <td>Role-Playing</td>\n",
       "      <td>11.27</td>\n",
       "      <td>8.89</td>\n",
       "      <td>10.22</td>\n",
       "      <td>1.00</td>\n",
       "      <td>NaN</td>\n",
       "      <td>NaN</td>\n",
       "      <td>NaN</td>\n",
       "    </tr>\n",
       "    <tr>\n",
       "      <td>...</td>\n",
       "      <td>...</td>\n",
       "      <td>...</td>\n",
       "      <td>...</td>\n",
       "      <td>...</td>\n",
       "      <td>...</td>\n",
       "      <td>...</td>\n",
       "      <td>...</td>\n",
       "      <td>...</td>\n",
       "      <td>...</td>\n",
       "      <td>...</td>\n",
       "      <td>...</td>\n",
       "    </tr>\n",
       "    <tr>\n",
       "      <td>16710</td>\n",
       "      <td>Samurai Warriors: Sanada Maru</td>\n",
       "      <td>PS3</td>\n",
       "      <td>2016.0</td>\n",
       "      <td>Action</td>\n",
       "      <td>0.00</td>\n",
       "      <td>0.00</td>\n",
       "      <td>0.01</td>\n",
       "      <td>0.00</td>\n",
       "      <td>NaN</td>\n",
       "      <td>NaN</td>\n",
       "      <td>NaN</td>\n",
       "    </tr>\n",
       "    <tr>\n",
       "      <td>16711</td>\n",
       "      <td>LMA Manager 2007</td>\n",
       "      <td>X360</td>\n",
       "      <td>2006.0</td>\n",
       "      <td>Sports</td>\n",
       "      <td>0.00</td>\n",
       "      <td>0.01</td>\n",
       "      <td>0.00</td>\n",
       "      <td>0.00</td>\n",
       "      <td>NaN</td>\n",
       "      <td>NaN</td>\n",
       "      <td>NaN</td>\n",
       "    </tr>\n",
       "    <tr>\n",
       "      <td>16712</td>\n",
       "      <td>Haitaka no Psychedelica</td>\n",
       "      <td>PSV</td>\n",
       "      <td>2016.0</td>\n",
       "      <td>Adventure</td>\n",
       "      <td>0.00</td>\n",
       "      <td>0.00</td>\n",
       "      <td>0.01</td>\n",
       "      <td>0.00</td>\n",
       "      <td>NaN</td>\n",
       "      <td>NaN</td>\n",
       "      <td>NaN</td>\n",
       "    </tr>\n",
       "    <tr>\n",
       "      <td>16713</td>\n",
       "      <td>Spirits &amp; Spells</td>\n",
       "      <td>GBA</td>\n",
       "      <td>2003.0</td>\n",
       "      <td>Platform</td>\n",
       "      <td>0.01</td>\n",
       "      <td>0.00</td>\n",
       "      <td>0.00</td>\n",
       "      <td>0.00</td>\n",
       "      <td>NaN</td>\n",
       "      <td>NaN</td>\n",
       "      <td>NaN</td>\n",
       "    </tr>\n",
       "    <tr>\n",
       "      <td>16714</td>\n",
       "      <td>Winning Post 8 2016</td>\n",
       "      <td>PSV</td>\n",
       "      <td>2016.0</td>\n",
       "      <td>Simulation</td>\n",
       "      <td>0.00</td>\n",
       "      <td>0.00</td>\n",
       "      <td>0.01</td>\n",
       "      <td>0.00</td>\n",
       "      <td>NaN</td>\n",
       "      <td>NaN</td>\n",
       "      <td>NaN</td>\n",
       "    </tr>\n",
       "  </tbody>\n",
       "</table>\n",
       "<p>16715 rows × 11 columns</p>\n",
       "</div>"
      ],
      "text/plain": [
       "                                Name Platform  Year_of_Release         Genre  \\\n",
       "0                         Wii Sports      Wii           2006.0        Sports   \n",
       "1                  Super Mario Bros.      NES           1985.0      Platform   \n",
       "2                     Mario Kart Wii      Wii           2008.0        Racing   \n",
       "3                  Wii Sports Resort      Wii           2009.0        Sports   \n",
       "4           Pokemon Red/Pokemon Blue       GB           1996.0  Role-Playing   \n",
       "...                              ...      ...              ...           ...   \n",
       "16710  Samurai Warriors: Sanada Maru      PS3           2016.0        Action   \n",
       "16711               LMA Manager 2007     X360           2006.0        Sports   \n",
       "16712        Haitaka no Psychedelica      PSV           2016.0     Adventure   \n",
       "16713               Spirits & Spells      GBA           2003.0      Platform   \n",
       "16714            Winning Post 8 2016      PSV           2016.0    Simulation   \n",
       "\n",
       "       NA_sales  EU_sales  JP_sales  Other_sales  Critic_Score User_Score  \\\n",
       "0         41.36     28.96      3.77         8.45          76.0          8   \n",
       "1         29.08      3.58      6.81         0.77           NaN        NaN   \n",
       "2         15.68     12.76      3.79         3.29          82.0        8.3   \n",
       "3         15.61     10.93      3.28         2.95          80.0          8   \n",
       "4         11.27      8.89     10.22         1.00           NaN        NaN   \n",
       "...         ...       ...       ...          ...           ...        ...   \n",
       "16710      0.00      0.00      0.01         0.00           NaN        NaN   \n",
       "16711      0.00      0.01      0.00         0.00           NaN        NaN   \n",
       "16712      0.00      0.00      0.01         0.00           NaN        NaN   \n",
       "16713      0.01      0.00      0.00         0.00           NaN        NaN   \n",
       "16714      0.00      0.00      0.01         0.00           NaN        NaN   \n",
       "\n",
       "      Rating  \n",
       "0          E  \n",
       "1        NaN  \n",
       "2          E  \n",
       "3          E  \n",
       "4        NaN  \n",
       "...      ...  \n",
       "16710    NaN  \n",
       "16711    NaN  \n",
       "16712    NaN  \n",
       "16713    NaN  \n",
       "16714    NaN  \n",
       "\n",
       "[16715 rows x 11 columns]"
      ]
     },
     "execution_count": 2,
     "metadata": {},
     "output_type": "execute_result"
    }
   ],
   "source": [
    "games = pd.read_csv('/games.csv')\n",
    "games.info()\n",
    "games"
   ]
  },
  {
   "cell_type": "markdown",
   "id": "a04825a4",
   "metadata": {},
   "source": [
    "## Подготовка данных"
   ]
  },
  {
   "cell_type": "markdown",
   "id": "f60e851e",
   "metadata": {},
   "source": [
    "### Замена название столбцов (приведение к нижнему регистру);"
   ]
  },
  {
   "cell_type": "code",
   "execution_count": 3,
   "id": "fa570c17",
   "metadata": {
    "scrolled": false
   },
   "outputs": [],
   "source": [
    "games.columns = games.columns.str.lower()"
   ]
  },
  {
   "cell_type": "markdown",
   "id": "86b8c0cc",
   "metadata": {},
   "source": [
    "### Преобразование данных в нужные типы."
   ]
  },
  {
   "cell_type": "code",
   "execution_count": 4,
   "id": "751f7d28",
   "metadata": {
    "scrolled": true
   },
   "outputs": [
    {
     "name": "stdout",
     "output_type": "stream",
     "text": [
      "<class 'pandas.core.frame.DataFrame'>\n",
      "RangeIndex: 16715 entries, 0 to 16714\n",
      "Data columns (total 11 columns):\n",
      "name               16713 non-null object\n",
      "platform           16715 non-null object\n",
      "year_of_release    16446 non-null Int64\n",
      "genre              16713 non-null object\n",
      "na_sales           16715 non-null float64\n",
      "eu_sales           16715 non-null float64\n",
      "jp_sales           16715 non-null float64\n",
      "other_sales        16715 non-null float64\n",
      "critic_score       8137 non-null Int64\n",
      "user_score         10014 non-null object\n",
      "rating             9949 non-null object\n",
      "dtypes: Int64(2), float64(4), object(5)\n",
      "memory usage: 1.4+ MB\n"
     ]
    }
   ],
   "source": [
    "# преобразуем year_of_release в int64\n",
    "games['year_of_release'] = games['year_of_release'].astype('Int64')\n",
    "\n",
    "# преобразуем user_score в int64\n",
    "games['critic_score'] = games['critic_score'].astype('Int64')\n",
    "\n",
    "games.info()"
   ]
  },
  {
   "cell_type": "markdown",
   "id": "acfd8b16",
   "metadata": {},
   "source": [
    "### Обработка пропусков при необходимости:\n",
    " - Обратите внимание на аббревиатуру 'tbd' в столбцах с рейтингом. Отдельно разберите это значение и опишите, как его обработать;"
   ]
  },
  {
   "cell_type": "code",
   "execution_count": 5,
   "id": "8785f5d9",
   "metadata": {
    "scrolled": true
   },
   "outputs": [
    {
     "data": {
      "text/html": [
       "<div>\n",
       "<style scoped>\n",
       "    .dataframe tbody tr th:only-of-type {\n",
       "        vertical-align: middle;\n",
       "    }\n",
       "\n",
       "    .dataframe tbody tr th {\n",
       "        vertical-align: top;\n",
       "    }\n",
       "\n",
       "    .dataframe thead th {\n",
       "        text-align: right;\n",
       "    }\n",
       "</style>\n",
       "<table border=\"1\" class=\"dataframe\">\n",
       "  <thead>\n",
       "    <tr style=\"text-align: right;\">\n",
       "      <th></th>\n",
       "      <th>name</th>\n",
       "      <th>platform</th>\n",
       "      <th>year_of_release</th>\n",
       "      <th>genre</th>\n",
       "      <th>na_sales</th>\n",
       "      <th>eu_sales</th>\n",
       "      <th>jp_sales</th>\n",
       "      <th>other_sales</th>\n",
       "      <th>critic_score</th>\n",
       "      <th>user_score</th>\n",
       "      <th>rating</th>\n",
       "    </tr>\n",
       "  </thead>\n",
       "  <tbody>\n",
       "    <tr>\n",
       "      <td>659</td>\n",
       "      <td>NaN</td>\n",
       "      <td>GEN</td>\n",
       "      <td>1993</td>\n",
       "      <td>NaN</td>\n",
       "      <td>1.78</td>\n",
       "      <td>0.53</td>\n",
       "      <td>0.00</td>\n",
       "      <td>0.08</td>\n",
       "      <td>NaN</td>\n",
       "      <td>NaN</td>\n",
       "      <td>NaN</td>\n",
       "    </tr>\n",
       "    <tr>\n",
       "      <td>14244</td>\n",
       "      <td>NaN</td>\n",
       "      <td>GEN</td>\n",
       "      <td>1993</td>\n",
       "      <td>NaN</td>\n",
       "      <td>0.00</td>\n",
       "      <td>0.00</td>\n",
       "      <td>0.03</td>\n",
       "      <td>0.00</td>\n",
       "      <td>NaN</td>\n",
       "      <td>NaN</td>\n",
       "      <td>NaN</td>\n",
       "    </tr>\n",
       "  </tbody>\n",
       "</table>\n",
       "</div>"
      ],
      "text/plain": [
       "      name platform  year_of_release genre  na_sales  eu_sales  jp_sales  \\\n",
       "659    NaN      GEN             1993   NaN      1.78      0.53      0.00   \n",
       "14244  NaN      GEN             1993   NaN      0.00      0.00      0.03   \n",
       "\n",
       "       other_sales  critic_score user_score rating  \n",
       "659           0.08           NaN        NaN    NaN  \n",
       "14244         0.00           NaN        NaN    NaN  "
      ]
     },
     "execution_count": 5,
     "metadata": {},
     "output_type": "execute_result"
    }
   ],
   "source": [
    "# посмотрим, что за пропуски в столбце 'name'\n",
    "games[games['name'].isna()]"
   ]
  },
  {
   "cell_type": "code",
   "execution_count": 6,
   "id": "0b7d7ca3",
   "metadata": {},
   "outputs": [],
   "source": [
    "# Думаю их можно спокойно удалить\n",
    "games.dropna(subset=['name'], inplace=True)"
   ]
  },
  {
   "cell_type": "code",
   "execution_count": 7,
   "id": "f65fdf14",
   "metadata": {},
   "outputs": [
    {
     "name": "stdout",
     "output_type": "stream",
     "text": [
      "<class 'pandas.core.frame.DataFrame'>\n",
      "Int64Index: 16713 entries, 0 to 16714\n",
      "Data columns (total 11 columns):\n",
      "name               16713 non-null object\n",
      "platform           16713 non-null object\n",
      "year_of_release    16444 non-null Int64\n",
      "genre              16713 non-null object\n",
      "na_sales           16713 non-null float64\n",
      "eu_sales           16713 non-null float64\n",
      "jp_sales           16713 non-null float64\n",
      "other_sales        16713 non-null float64\n",
      "critic_score       8137 non-null Int64\n",
      "user_score         7590 non-null float64\n",
      "rating             9949 non-null object\n",
      "dtypes: Int64(2), float64(5), object(4)\n",
      "memory usage: 1.6+ MB\n"
     ]
    }
   ],
   "source": [
    "# 'tbd' означает, что будет определено, значить, что сейчас нам не известны, значит можно заменить на NaN\n",
    "games['user_score'] = games['user_score'].replace('tbd', np.nan)\n",
    "# меняем тип на float64\n",
    "games['user_score'] = games['user_score'].astype('float64')\n",
    "games.info()"
   ]
  },
  {
   "cell_type": "code",
   "execution_count": 8,
   "id": "da2c25f1",
   "metadata": {},
   "outputs": [
    {
     "data": {
      "text/plain": [
       "269"
      ]
     },
     "execution_count": 8,
     "metadata": {},
     "output_type": "execute_result"
    }
   ],
   "source": [
    "# Узнаем сколько пропустков в строке \"year_of_release\"\n",
    "games['year_of_release'].isna().sum()"
   ]
  },
  {
   "cell_type": "code",
   "execution_count": 9,
   "id": "369186d8",
   "metadata": {},
   "outputs": [],
   "source": [
    "# можно спокойно удалить, так как нам очень важно знать дату\n",
    "games.dropna(subset=['year_of_release'], inplace=True)"
   ]
  },
  {
   "cell_type": "markdown",
   "id": "d938361e",
   "metadata": {},
   "source": [
    "Есть много пропусков в столбцах 'year_of_release', 'critic_score', 'user_score', 'rating', но пока не понимаю зачем их заполнять"
   ]
  },
  {
   "cell_type": "markdown",
   "id": "07558647",
   "metadata": {},
   "source": [
    "### Подсчёт суммарных продаж во всех регионах и запись их в отдельный столбец."
   ]
  },
  {
   "cell_type": "code",
   "execution_count": 10,
   "id": "5f8d115a",
   "metadata": {
    "scrolled": false
   },
   "outputs": [
    {
     "data": {
      "text/html": [
       "<div>\n",
       "<style scoped>\n",
       "    .dataframe tbody tr th:only-of-type {\n",
       "        vertical-align: middle;\n",
       "    }\n",
       "\n",
       "    .dataframe tbody tr th {\n",
       "        vertical-align: top;\n",
       "    }\n",
       "\n",
       "    .dataframe thead th {\n",
       "        text-align: right;\n",
       "    }\n",
       "</style>\n",
       "<table border=\"1\" class=\"dataframe\">\n",
       "  <thead>\n",
       "    <tr style=\"text-align: right;\">\n",
       "      <th></th>\n",
       "      <th>name</th>\n",
       "      <th>platform</th>\n",
       "      <th>year_of_release</th>\n",
       "      <th>genre</th>\n",
       "      <th>na_sales</th>\n",
       "      <th>eu_sales</th>\n",
       "      <th>jp_sales</th>\n",
       "      <th>other_sales</th>\n",
       "      <th>critic_score</th>\n",
       "      <th>user_score</th>\n",
       "      <th>rating</th>\n",
       "      <th>total_sales</th>\n",
       "    </tr>\n",
       "  </thead>\n",
       "  <tbody>\n",
       "    <tr>\n",
       "      <td>0</td>\n",
       "      <td>Wii Sports</td>\n",
       "      <td>Wii</td>\n",
       "      <td>2006</td>\n",
       "      <td>Sports</td>\n",
       "      <td>41.36</td>\n",
       "      <td>28.96</td>\n",
       "      <td>3.77</td>\n",
       "      <td>8.45</td>\n",
       "      <td>76</td>\n",
       "      <td>8.0</td>\n",
       "      <td>E</td>\n",
       "      <td>82.54</td>\n",
       "    </tr>\n",
       "    <tr>\n",
       "      <td>1</td>\n",
       "      <td>Super Mario Bros.</td>\n",
       "      <td>NES</td>\n",
       "      <td>1985</td>\n",
       "      <td>Platform</td>\n",
       "      <td>29.08</td>\n",
       "      <td>3.58</td>\n",
       "      <td>6.81</td>\n",
       "      <td>0.77</td>\n",
       "      <td>NaN</td>\n",
       "      <td>NaN</td>\n",
       "      <td>NaN</td>\n",
       "      <td>40.24</td>\n",
       "    </tr>\n",
       "    <tr>\n",
       "      <td>2</td>\n",
       "      <td>Mario Kart Wii</td>\n",
       "      <td>Wii</td>\n",
       "      <td>2008</td>\n",
       "      <td>Racing</td>\n",
       "      <td>15.68</td>\n",
       "      <td>12.76</td>\n",
       "      <td>3.79</td>\n",
       "      <td>3.29</td>\n",
       "      <td>82</td>\n",
       "      <td>8.3</td>\n",
       "      <td>E</td>\n",
       "      <td>35.52</td>\n",
       "    </tr>\n",
       "    <tr>\n",
       "      <td>3</td>\n",
       "      <td>Wii Sports Resort</td>\n",
       "      <td>Wii</td>\n",
       "      <td>2009</td>\n",
       "      <td>Sports</td>\n",
       "      <td>15.61</td>\n",
       "      <td>10.93</td>\n",
       "      <td>3.28</td>\n",
       "      <td>2.95</td>\n",
       "      <td>80</td>\n",
       "      <td>8.0</td>\n",
       "      <td>E</td>\n",
       "      <td>32.77</td>\n",
       "    </tr>\n",
       "    <tr>\n",
       "      <td>4</td>\n",
       "      <td>Pokemon Red/Pokemon Blue</td>\n",
       "      <td>GB</td>\n",
       "      <td>1996</td>\n",
       "      <td>Role-Playing</td>\n",
       "      <td>11.27</td>\n",
       "      <td>8.89</td>\n",
       "      <td>10.22</td>\n",
       "      <td>1.00</td>\n",
       "      <td>NaN</td>\n",
       "      <td>NaN</td>\n",
       "      <td>NaN</td>\n",
       "      <td>31.38</td>\n",
       "    </tr>\n",
       "    <tr>\n",
       "      <td>...</td>\n",
       "      <td>...</td>\n",
       "      <td>...</td>\n",
       "      <td>...</td>\n",
       "      <td>...</td>\n",
       "      <td>...</td>\n",
       "      <td>...</td>\n",
       "      <td>...</td>\n",
       "      <td>...</td>\n",
       "      <td>...</td>\n",
       "      <td>...</td>\n",
       "      <td>...</td>\n",
       "      <td>...</td>\n",
       "    </tr>\n",
       "    <tr>\n",
       "      <td>16710</td>\n",
       "      <td>Samurai Warriors: Sanada Maru</td>\n",
       "      <td>PS3</td>\n",
       "      <td>2016</td>\n",
       "      <td>Action</td>\n",
       "      <td>0.00</td>\n",
       "      <td>0.00</td>\n",
       "      <td>0.01</td>\n",
       "      <td>0.00</td>\n",
       "      <td>NaN</td>\n",
       "      <td>NaN</td>\n",
       "      <td>NaN</td>\n",
       "      <td>0.01</td>\n",
       "    </tr>\n",
       "    <tr>\n",
       "      <td>16711</td>\n",
       "      <td>LMA Manager 2007</td>\n",
       "      <td>X360</td>\n",
       "      <td>2006</td>\n",
       "      <td>Sports</td>\n",
       "      <td>0.00</td>\n",
       "      <td>0.01</td>\n",
       "      <td>0.00</td>\n",
       "      <td>0.00</td>\n",
       "      <td>NaN</td>\n",
       "      <td>NaN</td>\n",
       "      <td>NaN</td>\n",
       "      <td>0.01</td>\n",
       "    </tr>\n",
       "    <tr>\n",
       "      <td>16712</td>\n",
       "      <td>Haitaka no Psychedelica</td>\n",
       "      <td>PSV</td>\n",
       "      <td>2016</td>\n",
       "      <td>Adventure</td>\n",
       "      <td>0.00</td>\n",
       "      <td>0.00</td>\n",
       "      <td>0.01</td>\n",
       "      <td>0.00</td>\n",
       "      <td>NaN</td>\n",
       "      <td>NaN</td>\n",
       "      <td>NaN</td>\n",
       "      <td>0.01</td>\n",
       "    </tr>\n",
       "    <tr>\n",
       "      <td>16713</td>\n",
       "      <td>Spirits &amp; Spells</td>\n",
       "      <td>GBA</td>\n",
       "      <td>2003</td>\n",
       "      <td>Platform</td>\n",
       "      <td>0.01</td>\n",
       "      <td>0.00</td>\n",
       "      <td>0.00</td>\n",
       "      <td>0.00</td>\n",
       "      <td>NaN</td>\n",
       "      <td>NaN</td>\n",
       "      <td>NaN</td>\n",
       "      <td>0.01</td>\n",
       "    </tr>\n",
       "    <tr>\n",
       "      <td>16714</td>\n",
       "      <td>Winning Post 8 2016</td>\n",
       "      <td>PSV</td>\n",
       "      <td>2016</td>\n",
       "      <td>Simulation</td>\n",
       "      <td>0.00</td>\n",
       "      <td>0.00</td>\n",
       "      <td>0.01</td>\n",
       "      <td>0.00</td>\n",
       "      <td>NaN</td>\n",
       "      <td>NaN</td>\n",
       "      <td>NaN</td>\n",
       "      <td>0.01</td>\n",
       "    </tr>\n",
       "  </tbody>\n",
       "</table>\n",
       "<p>16444 rows × 12 columns</p>\n",
       "</div>"
      ],
      "text/plain": [
       "                                name platform  year_of_release         genre  \\\n",
       "0                         Wii Sports      Wii             2006        Sports   \n",
       "1                  Super Mario Bros.      NES             1985      Platform   \n",
       "2                     Mario Kart Wii      Wii             2008        Racing   \n",
       "3                  Wii Sports Resort      Wii             2009        Sports   \n",
       "4           Pokemon Red/Pokemon Blue       GB             1996  Role-Playing   \n",
       "...                              ...      ...              ...           ...   \n",
       "16710  Samurai Warriors: Sanada Maru      PS3             2016        Action   \n",
       "16711               LMA Manager 2007     X360             2006        Sports   \n",
       "16712        Haitaka no Psychedelica      PSV             2016     Adventure   \n",
       "16713               Spirits & Spells      GBA             2003      Platform   \n",
       "16714            Winning Post 8 2016      PSV             2016    Simulation   \n",
       "\n",
       "       na_sales  eu_sales  jp_sales  other_sales  critic_score  user_score  \\\n",
       "0         41.36     28.96      3.77         8.45            76         8.0   \n",
       "1         29.08      3.58      6.81         0.77           NaN         NaN   \n",
       "2         15.68     12.76      3.79         3.29            82         8.3   \n",
       "3         15.61     10.93      3.28         2.95            80         8.0   \n",
       "4         11.27      8.89     10.22         1.00           NaN         NaN   \n",
       "...         ...       ...       ...          ...           ...         ...   \n",
       "16710      0.00      0.00      0.01         0.00           NaN         NaN   \n",
       "16711      0.00      0.01      0.00         0.00           NaN         NaN   \n",
       "16712      0.00      0.00      0.01         0.00           NaN         NaN   \n",
       "16713      0.01      0.00      0.00         0.00           NaN         NaN   \n",
       "16714      0.00      0.00      0.01         0.00           NaN         NaN   \n",
       "\n",
       "      rating  total_sales  \n",
       "0          E        82.54  \n",
       "1        NaN        40.24  \n",
       "2          E        35.52  \n",
       "3          E        32.77  \n",
       "4        NaN        31.38  \n",
       "...      ...          ...  \n",
       "16710    NaN         0.01  \n",
       "16711    NaN         0.01  \n",
       "16712    NaN         0.01  \n",
       "16713    NaN         0.01  \n",
       "16714    NaN         0.01  \n",
       "\n",
       "[16444 rows x 12 columns]"
      ]
     },
     "execution_count": 10,
     "metadata": {},
     "output_type": "execute_result"
    }
   ],
   "source": [
    "games['total_sales'] = games[['na_sales','eu_sales','jp_sales', 'other_sales']].sum(axis = 1)\n",
    "games"
   ]
  },
  {
   "cell_type": "markdown",
   "id": "1fa7ae99",
   "metadata": {},
   "source": [
    "## Проведение исследовательского анализа данных"
   ]
  },
  {
   "cell_type": "markdown",
   "id": "f70d1bb6",
   "metadata": {},
   "source": [
    "### Сколько игр выпускалось в разные годы"
   ]
  },
  {
   "cell_type": "code",
   "execution_count": 11,
   "id": "66208cec",
   "metadata": {},
   "outputs": [
    {
     "data": {
      "text/plain": [
       "<matplotlib.axes._subplots.AxesSubplot at 0x1edae3c01c8>"
      ]
     },
     "execution_count": 11,
     "metadata": {},
     "output_type": "execute_result"
    },
    {
     "data": {
      "image/png": "[encoded data removed]",
      "text/plain": [
       "<Figure size 720x360 with 1 Axes>"
      ]
     },
     "metadata": {
      "needs_background": "light"
     },
     "output_type": "display_data"
    }
   ],
   "source": [
    "games['year_of_release'].hist(bins=36, figsize=(10, 5))"
   ]
  },
  {
   "cell_type": "markdown",
   "id": "b8b22c9f",
   "metadata": {},
   "source": [
    "Можно увидеть рос начиная с 1993 года"
   ]
  },
  {
   "cell_type": "markdown",
   "id": "2d00c170",
   "metadata": {},
   "source": [
    "### Как менялись продажи по платформам. \n",
    "Выберите платформы с наибольшими суммарными продажами и постройте распределение по годам. За какой характерный срок появляются новые и исчезают старые платформы?"
   ]
  },
  {
   "cell_type": "code",
   "execution_count": 12,
   "id": "afea7e5e",
   "metadata": {
    "scrolled": true
   },
   "outputs": [
    {
     "data": {
      "text/plain": [
       "platform\n",
       "PS2     1233.56\n",
       "X360     961.24\n",
       "PS3      931.34\n",
       "Wii      891.18\n",
       "DS       802.78\n",
       "Name: total_sales, dtype: float64"
      ]
     },
     "execution_count": 12,
     "metadata": {},
     "output_type": "execute_result"
    }
   ],
   "source": [
    "games.groupby('platform')['total_sales'].sum().sort_values(ascending=False).head()"
   ]
  },
  {
   "cell_type": "markdown",
   "id": "af18d00d",
   "metadata": {},
   "source": [
    "Отобрали топ-5 платформ по суммарным продажам. Теперь построим распределение по годам."
   ]
  },
  {
   "cell_type": "code",
   "execution_count": 13,
   "id": "9096d7fe",
   "metadata": {},
   "outputs": [
    {
     "data": {
      "text/plain": [
       "<matplotlib.axes._subplots.AxesSubplot at 0x1edb0496a48>"
      ]
     },
     "execution_count": 13,
     "metadata": {},
     "output_type": "execute_result"
    },
    {
     "data": {
      "image/png": "[encoded data removed]",
      "text/plain": [
       "<Figure size 432x288 with 1 Axes>"
      ]
     },
     "metadata": {
      "needs_background": "light"
     },
     "output_type": "display_data"
    }
   ],
   "source": [
    "# PS2\n",
    "games.query('platform == \"PS2\"')['year_of_release'].hist(bins=11)"
   ]
  },
  {
   "cell_type": "markdown",
   "id": "a2fe70c7",
   "metadata": {},
   "source": [
    "Видно, что пик выпущенных игр для PS2 пришелся на 2002, немного спал в 2003 и не спадал вплоть до 2007. "
   ]
  },
  {
   "cell_type": "code",
   "execution_count": 14,
   "id": "ca83bb91",
   "metadata": {},
   "outputs": [
    {
     "data": {
      "text/plain": [
       "<matplotlib.axes._subplots.AxesSubplot at 0x1edb05cd308>"
      ]
     },
     "execution_count": 14,
     "metadata": {},
     "output_type": "execute_result"
    },
    {
     "data": {
      "image/png": "[encoded data removed]",
      "text/plain": [
       "<Figure size 432x288 with 1 Axes>"
      ]
     },
     "metadata": {
      "needs_background": "light"
     },
     "output_type": "display_data"
    }
   ],
   "source": [
    "# X360\n",
    "games.query('platform == \"X360\"')['year_of_release'].hist(bins=11)"
   ]
  },
  {
   "cell_type": "markdown",
   "id": "8f4e2e81",
   "metadata": {},
   "source": [
    "С каждым годом виден рост игр дл X360. В 2012 в два раза меньше было выпущенно игр для X360, чем в прошлом году. Динамика пошла на спад."
   ]
  },
  {
   "cell_type": "code",
   "execution_count": 15,
   "id": "502f5d6f",
   "metadata": {},
   "outputs": [
    {
     "data": {
      "text/plain": [
       "<matplotlib.axes._subplots.AxesSubplot at 0x1edb04a0b88>"
      ]
     },
     "execution_count": 15,
     "metadata": {},
     "output_type": "execute_result"
    },
    {
     "data": {
      "image/png": "[encoded data removed]",
      "text/plain": [
       "<Figure size 432x288 with 1 Axes>"
      ]
     },
     "metadata": {
      "needs_background": "light"
     },
     "output_type": "display_data"
    }
   ],
   "source": [
    "# PS3\n",
    "games.query('platform == \"PS3\"')['year_of_release'].hist(bins=10)"
   ]
  },
  {
   "cell_type": "markdown",
   "id": "e088fee6",
   "metadata": {},
   "source": [
    "Для PS3 мы видим равномерный подъем до 2011 и равномерный спад."
   ]
  },
  {
   "cell_type": "code",
   "execution_count": 16,
   "id": "b2a78de2",
   "metadata": {},
   "outputs": [
    {
     "data": {
      "text/plain": [
       "<matplotlib.axes._subplots.AxesSubplot at 0x1edb05d7f88>"
      ]
     },
     "execution_count": 16,
     "metadata": {},
     "output_type": "execute_result"
    },
    {
     "data": {
      "image/png": "[encoded data removed]",
      "text/plain": [
       "<Figure size 432x288 with 1 Axes>"
      ]
     },
     "metadata": {
      "needs_background": "light"
     },
     "output_type": "display_data"
    }
   ],
   "source": [
    "# Wii\n",
    "games.query('platform == \"Wii\"')['year_of_release'].hist(bins=10)"
   ]
  },
  {
   "cell_type": "markdown",
   "id": "3574f0ba",
   "metadata": {},
   "source": [
    "Для Wii пик выпускаемых игр пришел на 2009 год. Начиная с 2012 года игр на Wii выпукалось меньше, по сравнению с предыдущими годами."
   ]
  },
  {
   "cell_type": "code",
   "execution_count": 17,
   "id": "5edd69ff",
   "metadata": {
    "scrolled": true
   },
   "outputs": [
    {
     "data": {
      "text/plain": [
       "<matplotlib.axes._subplots.AxesSubplot at 0x1edb0753bc8>"
      ]
     },
     "execution_count": 17,
     "metadata": {},
     "output_type": "execute_result"
    },
    {
     "data": {
      "image/png": "[encoded data removed]",
      "text/plain": [
       "<Figure size 432x288 with 1 Axes>"
      ]
     },
     "metadata": {
      "needs_background": "light"
     },
     "output_type": "display_data"
    }
   ],
   "source": [
    "# DS\n",
    "games.query('platform == \"DS\"')['year_of_release'].hist()"
   ]
  },
  {
   "cell_type": "markdown",
   "id": "1f0b0df8",
   "metadata": {},
   "source": [
    "Можно увидеть, что есть одна игра, которая была выпущена только для рынка японии в 1985 году. Я думаю это ошибка. Игра была выпущена в 2010 году"
   ]
  },
  {
   "cell_type": "code",
   "execution_count": 18,
   "id": "f44b9072",
   "metadata": {},
   "outputs": [
    {
     "data": {
      "text/html": [
       "<div>\n",
       "<style scoped>\n",
       "    .dataframe tbody tr th:only-of-type {\n",
       "        vertical-align: middle;\n",
       "    }\n",
       "\n",
       "    .dataframe tbody tr th {\n",
       "        vertical-align: top;\n",
       "    }\n",
       "\n",
       "    .dataframe thead th {\n",
       "        text-align: right;\n",
       "    }\n",
       "</style>\n",
       "<table border=\"1\" class=\"dataframe\">\n",
       "  <thead>\n",
       "    <tr style=\"text-align: right;\">\n",
       "      <th></th>\n",
       "      <th>name</th>\n",
       "      <th>platform</th>\n",
       "      <th>year_of_release</th>\n",
       "      <th>genre</th>\n",
       "      <th>na_sales</th>\n",
       "      <th>eu_sales</th>\n",
       "      <th>jp_sales</th>\n",
       "      <th>other_sales</th>\n",
       "      <th>critic_score</th>\n",
       "      <th>user_score</th>\n",
       "      <th>rating</th>\n",
       "      <th>total_sales</th>\n",
       "    </tr>\n",
       "  </thead>\n",
       "  <tbody>\n",
       "    <tr>\n",
       "      <td>15957</td>\n",
       "      <td>Strongest Tokyo University Shogi DS</td>\n",
       "      <td>DS</td>\n",
       "      <td>1985</td>\n",
       "      <td>Action</td>\n",
       "      <td>0.0</td>\n",
       "      <td>0.0</td>\n",
       "      <td>0.02</td>\n",
       "      <td>0.0</td>\n",
       "      <td>NaN</td>\n",
       "      <td>NaN</td>\n",
       "      <td>NaN</td>\n",
       "      <td>0.02</td>\n",
       "    </tr>\n",
       "  </tbody>\n",
       "</table>\n",
       "</div>"
      ],
      "text/plain": [
       "                                      name platform  year_of_release   genre  \\\n",
       "15957  Strongest Tokyo University Shogi DS       DS             1985  Action   \n",
       "\n",
       "       na_sales  eu_sales  jp_sales  other_sales  critic_score  user_score  \\\n",
       "15957       0.0       0.0      0.02          0.0           NaN         NaN   \n",
       "\n",
       "      rating  total_sales  \n",
       "15957    NaN         0.02  "
      ]
     },
     "execution_count": 18,
     "metadata": {},
     "output_type": "execute_result"
    }
   ],
   "source": [
    "games.query('platform == \"DS\" and year_of_release == 1985')"
   ]
  },
  {
   "cell_type": "code",
   "execution_count": 19,
   "id": "aabf8c5f",
   "metadata": {},
   "outputs": [],
   "source": [
    "# Исправим на 2010\n",
    "games.loc[15957, 'year_of_release'] = 2010"
   ]
  },
  {
   "cell_type": "code",
   "execution_count": 20,
   "id": "c703365a",
   "metadata": {},
   "outputs": [
    {
     "data": {
      "text/plain": [
       "<matplotlib.axes._subplots.AxesSubplot at 0x1edb07ef788>"
      ]
     },
     "execution_count": 20,
     "metadata": {},
     "output_type": "execute_result"
    },
    {
     "data": {
      "image/png": "[encoded data removed]",
      "text/plain": [
       "<Figure size 432x288 with 1 Axes>"
      ]
     },
     "metadata": {
      "needs_background": "light"
     },
     "output_type": "display_data"
    }
   ],
   "source": [
    "# DS\n",
    "games.query('platform == \"DS\"')['year_of_release'].hist(bins=10, range=(2004, 2014))"
   ]
  },
  {
   "cell_type": "markdown",
   "id": "d7b8b36e",
   "metadata": {},
   "source": [
    "Для DS игры начали выпускать в 2004 году и до 2014. Пик пришелся на 2008 год"
   ]
  },
  {
   "cell_type": "code",
   "execution_count": 21,
   "id": "5499641d",
   "metadata": {},
   "outputs": [
    {
     "data": {
      "text/plain": [
       "<matplotlib.axes._subplots.AxesSubplot at 0x1edb086c388>"
      ]
     },
     "execution_count": 21,
     "metadata": {},
     "output_type": "execute_result"
    },
    {
     "data": {
      "image/png": "[encoded data removed]",
      "text/plain": [
       "<Figure size 1080x648 with 1 Axes>"
      ]
     },
     "metadata": {
      "needs_background": "light"
     },
     "output_type": "display_data"
    }
   ],
   "source": [
    "games.groupby(['platform', 'year_of_release'])['total_sales'].sum().unstack('platform').plot(grid=True, figsize=(15, 9))"
   ]
  },
  {
   "cell_type": "markdown",
   "id": "3bb244f0",
   "metadata": {},
   "source": [
    "Можно сделать вывод, что средний срок жизни платформы и выпускаемых для неё игр составляет примерно 8 лет."
   ]
  },
  {
   "cell_type": "markdown",
   "id": "e51472ad",
   "metadata": {},
   "source": [
    "### Возьмём данные за соответствующий актуальный период. \n",
    "Актуальный период определите самостоятельно в результате исследования предыдущих вопросов. Основной фактор — эти данные помогут построить прогноз на 2017 год."
   ]
  },
  {
   "cell_type": "code",
   "execution_count": 22,
   "id": "8fa7f21e",
   "metadata": {},
   "outputs": [],
   "source": [
    "gm = games.query('year_of_release > 2013')"
   ]
  },
  {
   "cell_type": "code",
   "execution_count": 23,
   "id": "4aff3a75",
   "metadata": {
    "scrolled": false
   },
   "outputs": [
    {
     "data": {
      "text/plain": [
       "<IntegerArray>\n",
       "[2015, 2014, 2016]\n",
       "Length: 3, dtype: Int64"
      ]
     },
     "execution_count": 23,
     "metadata": {},
     "output_type": "execute_result"
    }
   ],
   "source": [
    "gm['year_of_release'].unique()"
   ]
  },
  {
   "cell_type": "markdown",
   "id": "b4faaaf6",
   "metadata": {},
   "source": [
    "Не учитывайте в работе данные за предыдущие годы."
   ]
  },
  {
   "cell_type": "markdown",
   "id": "d4c5f177",
   "metadata": {},
   "source": [
    "### Какие платформы лидируют по продажам, растут или падают? \n",
    "Выберите несколько потенциально прибыльных платформ."
   ]
  },
  {
   "cell_type": "code",
   "execution_count": 24,
   "id": "903e6ce0",
   "metadata": {},
   "outputs": [
    {
     "data": {
      "text/plain": [
       "platform\n",
       "PS4     288.15\n",
       "XOne    140.36\n",
       "3DS      86.68\n",
       "PS3      68.18\n",
       "X360     48.22\n",
       "WiiU     42.98\n",
       "PC       27.05\n",
       "PSV      22.40\n",
       "Wii       5.07\n",
       "PSP       0.36\n",
       "Name: total_sales, dtype: float64"
      ]
     },
     "execution_count": 24,
     "metadata": {},
     "output_type": "execute_result"
    }
   ],
   "source": [
    "gm.groupby('platform')['total_sales'].sum().sort_values(ascending=False)"
   ]
  },
  {
   "cell_type": "code",
   "execution_count": 25,
   "id": "bfbd4782",
   "metadata": {
    "scrolled": false
   },
   "outputs": [
    {
     "data": {
      "text/plain": [
       "<matplotlib.axes._subplots.AxesSubplot at 0x1edb0cfcfc8>"
      ]
     },
     "execution_count": 25,
     "metadata": {},
     "output_type": "execute_result"
    },
    {
     "data": {
      "image/png": "[encoded data removed]",
      "text/plain": [
       "<Figure size 1080x360 with 1 Axes>"
      ]
     },
     "metadata": {
      "needs_background": "light"
     },
     "output_type": "display_data"
    }
   ],
   "source": [
    "gm.groupby(['platform', 'year_of_release'])['total_sales'].sum().unstack('platform').plot(figsize=(15, 5))"
   ]
  },
  {
   "cell_type": "markdown",
   "id": "97943cfa",
   "metadata": {},
   "source": [
    "Видео наибольшую популярность у платформ PS4, XOne"
   ]
  },
  {
   "cell_type": "markdown",
   "id": "b0838442",
   "metadata": {},
   "source": [
    "### Постройте график «ящик с усами» по глобальным продажам игр в разбивке по платформам. \n",
    "Опишите результат."
   ]
  },
  {
   "cell_type": "code",
   "execution_count": 26,
   "id": "6c1a408a",
   "metadata": {},
   "outputs": [
    {
     "data": {
      "text/plain": [
       "(0, 2)"
      ]
     },
     "execution_count": 26,
     "metadata": {},
     "output_type": "execute_result"
    },
    {
     "data": {
      "image/png": "[encoded data removed]",
      "text/plain": [
       "<Figure size 432x288 with 1 Axes>"
      ]
     },
     "metadata": {
      "needs_background": "light"
     },
     "output_type": "display_data"
    },
    {
     "data": {
      "image/png": "[encoded data removed]",
      "text/plain": [
       "<Figure size 432x288 with 1 Axes>"
      ]
     },
     "metadata": {
      "needs_background": "light"
     },
     "output_type": "display_data"
    }
   ],
   "source": [
    "gm.boxplot(column=['total_sales'], by=['platform'])\n",
    "plt.show\n",
    "\n",
    "gm.boxplot(column=['total_sales'], by=['platform'])\n",
    "plt.ylim(0, 2)"
   ]
  },
  {
   "cell_type": "markdown",
   "id": "2cd21229",
   "metadata": {},
   "source": [
    "Можно увидеть, что повальное большинство продаж сосредоточенно около 1 млн копий. Самые большие выбросы есть у таких платформ как PS4, XOne и Wii."
   ]
  },
  {
   "cell_type": "markdown",
   "id": "bd496ba9",
   "metadata": {},
   "source": [
    "### Посмотрите, как влияют на продажи внутри одной популярной платформы отзывы пользователей и критиков. \n",
    "Постройте диаграмму рассеяния и посчитайте корреляцию между отзывами и продажами. Сформулируйте выводы."
   ]
  },
  {
   "cell_type": "markdown",
   "id": "aad5a7fa",
   "metadata": {},
   "source": [
    "**Оценка критиков**"
   ]
  },
  {
   "cell_type": "code",
   "execution_count": 27,
   "id": "4fec4eeb",
   "metadata": {
    "scrolled": true
   },
   "outputs": [
    {
     "data": {
      "text/plain": [
       "<matplotlib.axes._subplots.AxesSubplot at 0x1edb10b4bc8>"
      ]
     },
     "execution_count": 27,
     "metadata": {},
     "output_type": "execute_result"
    },
    {
     "data": {
      "image/png": "[encoded data removed]",
      "text/plain": [
       "<Figure size 720x360 with 1 Axes>"
      ]
     },
     "metadata": {
      "needs_background": "light"
     },
     "output_type": "display_data"
    }
   ],
   "source": [
    "gm[gm['platform'] == 'PS4'].plot(x='critic_score', y='total_sales', kind='scatter', figsize = (10, 5))"
   ]
  },
  {
   "cell_type": "code",
   "execution_count": 28,
   "id": "4ee2d9bc",
   "metadata": {},
   "outputs": [
    {
     "data": {
      "text/plain": [
       "0.40266141068104083"
      ]
     },
     "execution_count": 28,
     "metadata": {},
     "output_type": "execute_result"
    }
   ],
   "source": [
    "PS4 = gm[gm['platform'] == 'PS4'].corr()\n",
    "PS4.loc['critic_score', 'total_sales']"
   ]
  },
  {
   "cell_type": "markdown",
   "id": "c7406398",
   "metadata": {},
   "source": [
    "Наблюдается слабая корреляция. Видно, что с ростом оценки идет рост продаж. Можно сказать, что корреляция положительная."
   ]
  },
  {
   "cell_type": "markdown",
   "id": "b5376ee1",
   "metadata": {},
   "source": [
    "**Пользовательская оценка**"
   ]
  },
  {
   "cell_type": "code",
   "execution_count": 29,
   "id": "4ec85ad5",
   "metadata": {
    "scrolled": true
   },
   "outputs": [
    {
     "data": {
      "text/plain": [
       "<matplotlib.axes._subplots.AxesSubplot at 0x1edac3938c8>"
      ]
     },
     "execution_count": 29,
     "metadata": {},
     "output_type": "execute_result"
    },
    {
     "data": {
      "image/png": "[encoded data removed]",
      "text/plain": [
       "<Figure size 720x360 with 1 Axes>"
      ]
     },
     "metadata": {
      "needs_background": "light"
     },
     "output_type": "display_data"
    }
   ],
   "source": [
    "gm[gm['platform'] == 'PS4'].plot(x='user_score', y='total_sales', kind='scatter', figsize = (10, 5))"
   ]
  },
  {
   "cell_type": "code",
   "execution_count": 30,
   "id": "7c764c13",
   "metadata": {},
   "outputs": [
    {
     "data": {
      "text/plain": [
       "-0.040131589472697356"
      ]
     },
     "execution_count": 30,
     "metadata": {},
     "output_type": "execute_result"
    }
   ],
   "source": [
    "PS4.loc['user_score', 'total_sales']"
   ]
  },
  {
   "cell_type": "markdown",
   "id": "848055ee",
   "metadata": {},
   "source": [
    "Можно сказать, что корреляция отсутствует"
   ]
  },
  {
   "cell_type": "markdown",
   "id": "4570ab1d",
   "metadata": {},
   "source": [
    "### Соотнесите выводы с продажами игр на других платформах."
   ]
  },
  {
   "cell_type": "markdown",
   "id": "287203d6",
   "metadata": {},
   "source": [
    "**Оценки критиков**"
   ]
  },
  {
   "cell_type": "code",
   "execution_count": 31,
   "id": "4f118412",
   "metadata": {},
   "outputs": [
    {
     "data": {
      "text/plain": [
       "0.4286769437033325"
      ]
     },
     "execution_count": 31,
     "metadata": {},
     "output_type": "execute_result"
    }
   ],
   "source": [
    "XOne = gm[gm['platform'] == 'XOne'].corr()\n",
    "XOne.loc['critic_score', 'total_sales']"
   ]
  },
  {
   "cell_type": "code",
   "execution_count": 32,
   "id": "871cb59b",
   "metadata": {
    "scrolled": true
   },
   "outputs": [
    {
     "data": {
      "text/plain": [
       "0.31411749286905105"
      ]
     },
     "execution_count": 32,
     "metadata": {},
     "output_type": "execute_result"
    }
   ],
   "source": [
    "ThreeDS = gm[gm['platform'] == '3DS'].corr()\n",
    "ThreeDS.loc['critic_score', 'total_sales']"
   ]
  },
  {
   "cell_type": "markdown",
   "id": "81817274",
   "metadata": {},
   "source": [
    "Корреляция слабая"
   ]
  },
  {
   "cell_type": "code",
   "execution_count": 33,
   "id": "ccbd3fa3",
   "metadata": {},
   "outputs": [
    {
     "data": {
      "text/plain": [
       "0.4465746049319071"
      ]
     },
     "execution_count": 33,
     "metadata": {},
     "output_type": "execute_result"
    }
   ],
   "source": [
    "PS3 = gm[gm['platform'] == 'PS3'].corr()\n",
    "PS3.loc['critic_score', 'total_sales']"
   ]
  },
  {
   "cell_type": "code",
   "execution_count": 34,
   "id": "ddc3cfe1",
   "metadata": {
    "scrolled": true
   },
   "outputs": [
    {
     "data": {
      "text/plain": [
       "0.525722835658152"
      ]
     },
     "execution_count": 34,
     "metadata": {},
     "output_type": "execute_result"
    }
   ],
   "source": [
    "X360 = gm[gm['platform'] == 'X360'].corr()\n",
    "X360.loc['critic_score', 'total_sales']"
   ]
  },
  {
   "cell_type": "markdown",
   "id": "da7c4979",
   "metadata": {},
   "source": [
    "Корреляция положительная и можно сделать вывод, что хороший рейтинг игры действительно влияет на продажи."
   ]
  },
  {
   "cell_type": "markdown",
   "id": "925e86d1",
   "metadata": {},
   "source": [
    "**Пользовательские оценки**"
   ]
  },
  {
   "cell_type": "code",
   "execution_count": 35,
   "id": "f18a6b03",
   "metadata": {},
   "outputs": [
    {
     "data": {
      "text/plain": [
       "-0.07038392806475821"
      ]
     },
     "execution_count": 35,
     "metadata": {},
     "output_type": "execute_result"
    }
   ],
   "source": [
    "XOne.loc['user_score', 'total_sales']"
   ]
  },
  {
   "cell_type": "code",
   "execution_count": 36,
   "id": "4fca847b",
   "metadata": {},
   "outputs": [
    {
     "data": {
      "text/plain": [
       "0.21519327185270282"
      ]
     },
     "execution_count": 36,
     "metadata": {},
     "output_type": "execute_result"
    }
   ],
   "source": [
    "ThreeDS.loc['user_score', 'total_sales']"
   ]
  },
  {
   "cell_type": "code",
   "execution_count": 37,
   "id": "caaebb0b",
   "metadata": {},
   "outputs": [
    {
     "data": {
      "text/plain": [
       "-0.1667614134766211"
      ]
     },
     "execution_count": 37,
     "metadata": {},
     "output_type": "execute_result"
    }
   ],
   "source": [
    "PS3.loc['user_score', 'total_sales']"
   ]
  },
  {
   "cell_type": "code",
   "execution_count": 38,
   "id": "723b0159",
   "metadata": {},
   "outputs": [
    {
     "data": {
      "text/plain": [
       "-0.13844457094566515"
      ]
     },
     "execution_count": 38,
     "metadata": {},
     "output_type": "execute_result"
    }
   ],
   "source": [
    "X360.loc['user_score', 'total_sales']"
   ]
  },
  {
   "cell_type": "markdown",
   "id": "6c669104",
   "metadata": {},
   "source": [
    "А у пользователей видно, что корреляции нет."
   ]
  },
  {
   "cell_type": "markdown",
   "id": "0d40bd95",
   "metadata": {},
   "source": [
    "### Общее распределение игр по жанрам. \n",
    "Что можно сказать о самых прибыльных жанрах? Выделяются ли жанры с высокими и низкими продажами?\n"
   ]
  },
  {
   "cell_type": "code",
   "execution_count": 39,
   "id": "75f06209",
   "metadata": {},
   "outputs": [],
   "source": [
    "genre_table = gm.pivot_table(index='genre', values='total_sales', aggfunc='sum').reset_index().sort_values(by='total_sales', ascending=False)\n",
    "genre_table.columns = ['genre', 'total_sales']"
   ]
  },
  {
   "cell_type": "code",
   "execution_count": 40,
   "id": "7fbe9480",
   "metadata": {},
   "outputs": [
    {
     "data": {
      "text/html": [
       "<div>\n",
       "<style scoped>\n",
       "    .dataframe tbody tr th:only-of-type {\n",
       "        vertical-align: middle;\n",
       "    }\n",
       "\n",
       "    .dataframe tbody tr th {\n",
       "        vertical-align: top;\n",
       "    }\n",
       "\n",
       "    .dataframe thead th {\n",
       "        text-align: right;\n",
       "    }\n",
       "</style>\n",
       "<table border=\"1\" class=\"dataframe\">\n",
       "  <thead>\n",
       "    <tr style=\"text-align: right;\">\n",
       "      <th></th>\n",
       "      <th>genre</th>\n",
       "      <th>total_sales</th>\n",
       "    </tr>\n",
       "  </thead>\n",
       "  <tbody>\n",
       "    <tr>\n",
       "      <td>0</td>\n",
       "      <td>Action</td>\n",
       "      <td>199.36</td>\n",
       "    </tr>\n",
       "    <tr>\n",
       "      <td>8</td>\n",
       "      <td>Shooter</td>\n",
       "      <td>170.94</td>\n",
       "    </tr>\n",
       "    <tr>\n",
       "      <td>10</td>\n",
       "      <td>Sports</td>\n",
       "      <td>109.48</td>\n",
       "    </tr>\n",
       "    <tr>\n",
       "      <td>7</td>\n",
       "      <td>Role-Playing</td>\n",
       "      <td>101.44</td>\n",
       "    </tr>\n",
       "    <tr>\n",
       "      <td>3</td>\n",
       "      <td>Misc</td>\n",
       "      <td>37.55</td>\n",
       "    </tr>\n",
       "    <tr>\n",
       "      <td>2</td>\n",
       "      <td>Fighting</td>\n",
       "      <td>28.22</td>\n",
       "    </tr>\n",
       "    <tr>\n",
       "      <td>6</td>\n",
       "      <td>Racing</td>\n",
       "      <td>27.52</td>\n",
       "    </tr>\n",
       "    <tr>\n",
       "      <td>4</td>\n",
       "      <td>Platform</td>\n",
       "      <td>18.09</td>\n",
       "    </tr>\n",
       "    <tr>\n",
       "      <td>1</td>\n",
       "      <td>Adventure</td>\n",
       "      <td>17.55</td>\n",
       "    </tr>\n",
       "    <tr>\n",
       "      <td>9</td>\n",
       "      <td>Simulation</td>\n",
       "      <td>13.13</td>\n",
       "    </tr>\n",
       "    <tr>\n",
       "      <td>11</td>\n",
       "      <td>Strategy</td>\n",
       "      <td>3.96</td>\n",
       "    </tr>\n",
       "    <tr>\n",
       "      <td>5</td>\n",
       "      <td>Puzzle</td>\n",
       "      <td>2.21</td>\n",
       "    </tr>\n",
       "  </tbody>\n",
       "</table>\n",
       "</div>"
      ],
      "text/plain": [
       "           genre  total_sales\n",
       "0         Action       199.36\n",
       "8        Shooter       170.94\n",
       "10        Sports       109.48\n",
       "7   Role-Playing       101.44\n",
       "3           Misc        37.55\n",
       "2       Fighting        28.22\n",
       "6         Racing        27.52\n",
       "4       Platform        18.09\n",
       "1      Adventure        17.55\n",
       "9     Simulation        13.13\n",
       "11      Strategy         3.96\n",
       "5         Puzzle         2.21"
      ]
     },
     "execution_count": 40,
     "metadata": {},
     "output_type": "execute_result"
    }
   ],
   "source": [
    "genre_table"
   ]
  },
  {
   "cell_type": "code",
   "execution_count": 41,
   "id": "c3d1a443",
   "metadata": {
    "scrolled": false
   },
   "outputs": [
    {
     "data": {
      "text/plain": [
       "(0, 4)"
      ]
     },
     "execution_count": 41,
     "metadata": {},
     "output_type": "execute_result"
    },
    {
     "data": {
      "image/png": "[encoded data removed]",
      "text/plain": [
       "<Figure size 1080x360 with 1 Axes>"
      ]
     },
     "metadata": {
      "needs_background": "light"
     },
     "output_type": "display_data"
    }
   ],
   "source": [
    "gm.boxplot(column=['total_sales'], by=['genre'], figsize=(15, 5))\n",
    "plt.ylim(0, 4)"
   ]
  },
  {
   "cell_type": "markdown",
   "id": "d3c2976f",
   "metadata": {},
   "source": [
    "Больше всего денег принёс жанр Action с общей прибылью в 199 млн. Но 75% всех игр продаются меньше 0.5 млн. А вот у жанра Shooter (170 млн.) 75% продаются больше 1.5 млн, поэтому можно с уверенностью сказать, что жанр Shooter является самым прибыльным"
   ]
  },
  {
   "cell_type": "markdown",
   "id": "af158751",
   "metadata": {},
   "source": [
    "## Портрет пользователя каждого региона\n",
    "Определите для пользователя каждого региона (NA, EU, JP):\n",
    " - Самые популярные платформы (топ-5). Опишите различия в долях продаж.\n",
    " - Самые популярные жанры (топ-5). Поясните разницу.\n",
    " - Влияет ли рейтинг ESRB на продажи в отдельном регионе?\n"
   ]
  },
  {
   "cell_type": "code",
   "execution_count": 42,
   "id": "b5410acc",
   "metadata": {
    "scrolled": false
   },
   "outputs": [
    {
     "name": "stderr",
     "output_type": "stream",
     "text": [
      "C:\\Users\\George\\.conda\\envs\\praktikum_env_win_new\\lib\\site-packages\\ipykernel_launcher.py:2: SettingWithCopyWarning: \n",
      "A value is trying to be set on a copy of a slice from a DataFrame.\n",
      "Try using .loc[row_indexer,col_indexer] = value instead\n",
      "\n",
      "See the caveats in the documentation: http://pandas.pydata.org/pandas-docs/stable/user_guide/indexing.html#returning-a-view-versus-a-copy\n",
      "  \n"
     ]
    }
   ],
   "source": [
    "# В столбце рейтинг много пропусков. Заменим их\n",
    "gm['rating'] = gm['rating'].fillna('Unknown')"
   ]
  },
  {
   "cell_type": "markdown",
   "id": "38cadd70",
   "metadata": {},
   "source": [
    "Создадим сводные таблицы"
   ]
  },
  {
   "cell_type": "code",
   "execution_count": 43,
   "id": "21005454",
   "metadata": {},
   "outputs": [],
   "source": [
    "# платформы\n",
    "NA_pop_platform = gm.pivot_table(index='platform', values='na_sales', aggfunc='sum').sort_values(by='na_sales', ascending=False)\n",
    "NA_pop_platform['percent'] = (NA_pop_platform['na_sales']/(NA_pop_platform['na_sales'].sum())).round(2)\n",
    "\n",
    "EU_pop_platform = gm.pivot_table(index='platform', values='eu_sales', aggfunc='sum').sort_values(by='eu_sales', ascending=False)\n",
    "EU_pop_platform['percent'] = (EU_pop_platform['eu_sales']/(EU_pop_platform['eu_sales'].sum())).round(2)\n",
    "\n",
    "JP_pop_platform = gm.pivot_table(index='platform', values='jp_sales', aggfunc='sum').sort_values(by='jp_sales', ascending=False)\n",
    "JP_pop_platform['percent'] = (JP_pop_platform['jp_sales']/(JP_pop_platform['jp_sales'].sum())).round(2)\n",
    "\n",
    "# жанры\n",
    "NA_pop_genre = gm.pivot_table(index='genre', values='na_sales', aggfunc='sum').sort_values(by='na_sales', ascending=False)\n",
    "NA_pop_genre['percent'] = (NA_pop_genre['na_sales']/(NA_pop_genre['na_sales'].sum())).round(2)\n",
    "\n",
    "EU_pop_genre = gm.pivot_table(index='genre', values='eu_sales', aggfunc='sum').sort_values(by='eu_sales', ascending=False)\n",
    "EU_pop_genre['percent'] = (EU_pop_genre['eu_sales']/(EU_pop_genre['eu_sales'].sum())).round(2)\n",
    "\n",
    "JP_pop_genre = gm.pivot_table(index='genre', values='jp_sales', aggfunc='sum').sort_values(by='jp_sales', ascending=False)\n",
    "JP_pop_genre['percent'] = (JP_pop_genre['jp_sales']/(JP_pop_genre['jp_sales'].sum())).round(2)\n",
    "\n",
    "# рейтинг\n",
    "NA_pop_rating = gm.pivot_table(index='rating', values='na_sales', aggfunc='sum').sort_values(by='na_sales', ascending=False)\n",
    "NA_pop_rating['percent'] = (NA_pop_rating['na_sales']/(NA_pop_rating['na_sales'].sum())).round(2)\n",
    "\n",
    "EU_pop_rating = gm.pivot_table(index='rating', values='eu_sales', aggfunc='sum').sort_values(by='eu_sales', ascending=False)\n",
    "EU_pop_rating['percent'] = (EU_pop_rating['eu_sales']/(EU_pop_rating['eu_sales'].sum())).round(2)\n",
    "\n",
    "JP_pop_rating = gm.pivot_table(index='rating', values='jp_sales', aggfunc='sum').sort_values(by='jp_sales', ascending=False)\n",
    "JP_pop_rating['percent'] = (JP_pop_rating['jp_sales']/(JP_pop_rating['jp_sales'].sum())).round(2)"
   ]
  },
  {
   "cell_type": "markdown",
   "id": "0ab94e4c",
   "metadata": {},
   "source": [
    "### Самые популярные платформы (топ-5). Опишите различия в долях продаж."
   ]
  },
  {
   "cell_type": "code",
   "execution_count": 44,
   "id": "8481825c",
   "metadata": {
    "scrolled": false
   },
   "outputs": [
    {
     "data": {
      "text/html": [
       "<div>\n",
       "<style scoped>\n",
       "    .dataframe tbody tr th:only-of-type {\n",
       "        vertical-align: middle;\n",
       "    }\n",
       "\n",
       "    .dataframe tbody tr th {\n",
       "        vertical-align: top;\n",
       "    }\n",
       "\n",
       "    .dataframe thead th {\n",
       "        text-align: right;\n",
       "    }\n",
       "</style>\n",
       "<table border=\"1\" class=\"dataframe\">\n",
       "  <thead>\n",
       "    <tr style=\"text-align: right;\">\n",
       "      <th></th>\n",
       "      <th>na_sales</th>\n",
       "      <th>percent</th>\n",
       "    </tr>\n",
       "    <tr>\n",
       "      <th>platform</th>\n",
       "      <th></th>\n",
       "      <th></th>\n",
       "    </tr>\n",
       "  </thead>\n",
       "  <tbody>\n",
       "    <tr>\n",
       "      <td>PS4</td>\n",
       "      <td>98.61</td>\n",
       "      <td>0.35</td>\n",
       "    </tr>\n",
       "    <tr>\n",
       "      <td>XOne</td>\n",
       "      <td>81.27</td>\n",
       "      <td>0.29</td>\n",
       "    </tr>\n",
       "    <tr>\n",
       "      <td>X360</td>\n",
       "      <td>28.30</td>\n",
       "      <td>0.10</td>\n",
       "    </tr>\n",
       "    <tr>\n",
       "      <td>3DS</td>\n",
       "      <td>22.64</td>\n",
       "      <td>0.08</td>\n",
       "    </tr>\n",
       "    <tr>\n",
       "      <td>PS3</td>\n",
       "      <td>22.05</td>\n",
       "      <td>0.08</td>\n",
       "    </tr>\n",
       "  </tbody>\n",
       "</table>\n",
       "</div>"
      ],
      "text/plain": [
       "          na_sales  percent\n",
       "platform                   \n",
       "PS4          98.61     0.35\n",
       "XOne         81.27     0.29\n",
       "X360         28.30     0.10\n",
       "3DS          22.64     0.08\n",
       "PS3          22.05     0.08"
      ]
     },
     "metadata": {},
     "output_type": "display_data"
    },
    {
     "data": {
      "text/html": [
       "<div>\n",
       "<style scoped>\n",
       "    .dataframe tbody tr th:only-of-type {\n",
       "        vertical-align: middle;\n",
       "    }\n",
       "\n",
       "    .dataframe tbody tr th {\n",
       "        vertical-align: top;\n",
       "    }\n",
       "\n",
       "    .dataframe thead th {\n",
       "        text-align: right;\n",
       "    }\n",
       "</style>\n",
       "<table border=\"1\" class=\"dataframe\">\n",
       "  <thead>\n",
       "    <tr style=\"text-align: right;\">\n",
       "      <th></th>\n",
       "      <th>eu_sales</th>\n",
       "      <th>percent</th>\n",
       "    </tr>\n",
       "    <tr>\n",
       "      <th>platform</th>\n",
       "      <th></th>\n",
       "      <th></th>\n",
       "    </tr>\n",
       "  </thead>\n",
       "  <tbody>\n",
       "    <tr>\n",
       "      <td>PS4</td>\n",
       "      <td>130.04</td>\n",
       "      <td>0.48</td>\n",
       "    </tr>\n",
       "    <tr>\n",
       "      <td>XOne</td>\n",
       "      <td>46.25</td>\n",
       "      <td>0.17</td>\n",
       "    </tr>\n",
       "    <tr>\n",
       "      <td>PS3</td>\n",
       "      <td>25.54</td>\n",
       "      <td>0.09</td>\n",
       "    </tr>\n",
       "    <tr>\n",
       "      <td>PC</td>\n",
       "      <td>17.97</td>\n",
       "      <td>0.07</td>\n",
       "    </tr>\n",
       "    <tr>\n",
       "      <td>3DS</td>\n",
       "      <td>16.12</td>\n",
       "      <td>0.06</td>\n",
       "    </tr>\n",
       "  </tbody>\n",
       "</table>\n",
       "</div>"
      ],
      "text/plain": [
       "          eu_sales  percent\n",
       "platform                   \n",
       "PS4         130.04     0.48\n",
       "XOne         46.25     0.17\n",
       "PS3          25.54     0.09\n",
       "PC           17.97     0.07\n",
       "3DS          16.12     0.06"
      ]
     },
     "metadata": {},
     "output_type": "display_data"
    },
    {
     "data": {
      "text/html": [
       "<div>\n",
       "<style scoped>\n",
       "    .dataframe tbody tr th:only-of-type {\n",
       "        vertical-align: middle;\n",
       "    }\n",
       "\n",
       "    .dataframe tbody tr th {\n",
       "        vertical-align: top;\n",
       "    }\n",
       "\n",
       "    .dataframe thead th {\n",
       "        text-align: right;\n",
       "    }\n",
       "</style>\n",
       "<table border=\"1\" class=\"dataframe\">\n",
       "  <thead>\n",
       "    <tr style=\"text-align: right;\">\n",
       "      <th></th>\n",
       "      <th>jp_sales</th>\n",
       "      <th>percent</th>\n",
       "    </tr>\n",
       "    <tr>\n",
       "      <th>platform</th>\n",
       "      <th></th>\n",
       "      <th></th>\n",
       "    </tr>\n",
       "  </thead>\n",
       "  <tbody>\n",
       "    <tr>\n",
       "      <td>3DS</td>\n",
       "      <td>44.24</td>\n",
       "      <td>0.48</td>\n",
       "    </tr>\n",
       "    <tr>\n",
       "      <td>PS4</td>\n",
       "      <td>15.02</td>\n",
       "      <td>0.16</td>\n",
       "    </tr>\n",
       "    <tr>\n",
       "      <td>PSV</td>\n",
       "      <td>14.54</td>\n",
       "      <td>0.16</td>\n",
       "    </tr>\n",
       "    <tr>\n",
       "      <td>PS3</td>\n",
       "      <td>11.22</td>\n",
       "      <td>0.12</td>\n",
       "    </tr>\n",
       "    <tr>\n",
       "      <td>WiiU</td>\n",
       "      <td>7.31</td>\n",
       "      <td>0.08</td>\n",
       "    </tr>\n",
       "  </tbody>\n",
       "</table>\n",
       "</div>"
      ],
      "text/plain": [
       "          jp_sales  percent\n",
       "platform                   \n",
       "3DS          44.24     0.48\n",
       "PS4          15.02     0.16\n",
       "PSV          14.54     0.16\n",
       "PS3          11.22     0.12\n",
       "WiiU          7.31     0.08"
      ]
     },
     "metadata": {},
     "output_type": "display_data"
    },
    {
     "data": {
      "image/png": "[encoded data removed]",
      "text/plain": [
       "<Figure size 1080x360 with 3 Axes>"
      ]
     },
     "metadata": {},
     "output_type": "display_data"
    }
   ],
   "source": [
    "fig, ax = plt.subplots(1,3,figsize=(15, 5))\n",
    "ax[0].pie(NA_pop_platform['na_sales'], labels = NA_pop_platform.index)\n",
    "ax[1].pie(EU_pop_platform['eu_sales'], labels = EU_pop_platform.index)\n",
    "ax[2].pie(JP_pop_platform['jp_sales'], labels = JP_pop_platform.index)\n",
    "plt.show\n",
    "\n",
    "display(NA_pop_platform.head())\n",
    "display(EU_pop_platform.head())\n",
    "display(JP_pop_platform.head())"
   ]
  },
  {
   "cell_type": "markdown",
   "id": "d009e40d",
   "metadata": {},
   "source": [
    "На рынке NA: В топ-5 популярных платформ входят X360, PS3, 3DS, XOne, PS4. Самой популярной является PS4 с долей в 35%.\n",
    "\n",
    "На рынке EU: 48% от всех продаж занимает PS4. На втором месте XOne\n",
    "\n",
    "А вот в регионе JP всё совершенно подругому. Самая популярная консоль 3DS - 48%. PS4 на втором месте - 16%"
   ]
  },
  {
   "cell_type": "markdown",
   "id": "ceca0ac0",
   "metadata": {},
   "source": [
    "### Самые популярные жанры (топ-5). Поясните разницу."
   ]
  },
  {
   "cell_type": "code",
   "execution_count": 45,
   "id": "0828613b",
   "metadata": {},
   "outputs": [
    {
     "data": {
      "text/html": [
       "<div>\n",
       "<style scoped>\n",
       "    .dataframe tbody tr th:only-of-type {\n",
       "        vertical-align: middle;\n",
       "    }\n",
       "\n",
       "    .dataframe tbody tr th {\n",
       "        vertical-align: top;\n",
       "    }\n",
       "\n",
       "    .dataframe thead th {\n",
       "        text-align: right;\n",
       "    }\n",
       "</style>\n",
       "<table border=\"1\" class=\"dataframe\">\n",
       "  <thead>\n",
       "    <tr style=\"text-align: right;\">\n",
       "      <th></th>\n",
       "      <th>na_sales</th>\n",
       "      <th>percent</th>\n",
       "    </tr>\n",
       "    <tr>\n",
       "      <th>genre</th>\n",
       "      <th></th>\n",
       "      <th></th>\n",
       "    </tr>\n",
       "  </thead>\n",
       "  <tbody>\n",
       "    <tr>\n",
       "      <td>Shooter</td>\n",
       "      <td>79.02</td>\n",
       "      <td>0.28</td>\n",
       "    </tr>\n",
       "    <tr>\n",
       "      <td>Action</td>\n",
       "      <td>72.53</td>\n",
       "      <td>0.26</td>\n",
       "    </tr>\n",
       "    <tr>\n",
       "      <td>Sports</td>\n",
       "      <td>46.13</td>\n",
       "      <td>0.16</td>\n",
       "    </tr>\n",
       "    <tr>\n",
       "      <td>Role-Playing</td>\n",
       "      <td>33.47</td>\n",
       "      <td>0.12</td>\n",
       "    </tr>\n",
       "    <tr>\n",
       "      <td>Misc</td>\n",
       "      <td>15.05</td>\n",
       "      <td>0.05</td>\n",
       "    </tr>\n",
       "  </tbody>\n",
       "</table>\n",
       "</div>"
      ],
      "text/plain": [
       "              na_sales  percent\n",
       "genre                          \n",
       "Shooter          79.02     0.28\n",
       "Action           72.53     0.26\n",
       "Sports           46.13     0.16\n",
       "Role-Playing     33.47     0.12\n",
       "Misc             15.05     0.05"
      ]
     },
     "metadata": {},
     "output_type": "display_data"
    },
    {
     "data": {
      "text/html": [
       "<div>\n",
       "<style scoped>\n",
       "    .dataframe tbody tr th:only-of-type {\n",
       "        vertical-align: middle;\n",
       "    }\n",
       "\n",
       "    .dataframe tbody tr th {\n",
       "        vertical-align: top;\n",
       "    }\n",
       "\n",
       "    .dataframe thead th {\n",
       "        text-align: right;\n",
       "    }\n",
       "</style>\n",
       "<table border=\"1\" class=\"dataframe\">\n",
       "  <thead>\n",
       "    <tr style=\"text-align: right;\">\n",
       "      <th></th>\n",
       "      <th>eu_sales</th>\n",
       "      <th>percent</th>\n",
       "    </tr>\n",
       "    <tr>\n",
       "      <th>genre</th>\n",
       "      <th></th>\n",
       "      <th></th>\n",
       "    </tr>\n",
       "  </thead>\n",
       "  <tbody>\n",
       "    <tr>\n",
       "      <td>Action</td>\n",
       "      <td>74.68</td>\n",
       "      <td>0.28</td>\n",
       "    </tr>\n",
       "    <tr>\n",
       "      <td>Shooter</td>\n",
       "      <td>65.52</td>\n",
       "      <td>0.24</td>\n",
       "    </tr>\n",
       "    <tr>\n",
       "      <td>Sports</td>\n",
       "      <td>45.73</td>\n",
       "      <td>0.17</td>\n",
       "    </tr>\n",
       "    <tr>\n",
       "      <td>Role-Playing</td>\n",
       "      <td>28.17</td>\n",
       "      <td>0.10</td>\n",
       "    </tr>\n",
       "    <tr>\n",
       "      <td>Racing</td>\n",
       "      <td>14.13</td>\n",
       "      <td>0.05</td>\n",
       "    </tr>\n",
       "  </tbody>\n",
       "</table>\n",
       "</div>"
      ],
      "text/plain": [
       "              eu_sales  percent\n",
       "genre                          \n",
       "Action           74.68     0.28\n",
       "Shooter          65.52     0.24\n",
       "Sports           45.73     0.17\n",
       "Role-Playing     28.17     0.10\n",
       "Racing           14.13     0.05"
      ]
     },
     "metadata": {},
     "output_type": "display_data"
    },
    {
     "data": {
      "text/html": [
       "<div>\n",
       "<style scoped>\n",
       "    .dataframe tbody tr th:only-of-type {\n",
       "        vertical-align: middle;\n",
       "    }\n",
       "\n",
       "    .dataframe tbody tr th {\n",
       "        vertical-align: top;\n",
       "    }\n",
       "\n",
       "    .dataframe thead th {\n",
       "        text-align: right;\n",
       "    }\n",
       "</style>\n",
       "<table border=\"1\" class=\"dataframe\">\n",
       "  <thead>\n",
       "    <tr style=\"text-align: right;\">\n",
       "      <th></th>\n",
       "      <th>jp_sales</th>\n",
       "      <th>percent</th>\n",
       "    </tr>\n",
       "    <tr>\n",
       "      <th>genre</th>\n",
       "      <th></th>\n",
       "      <th></th>\n",
       "    </tr>\n",
       "  </thead>\n",
       "  <tbody>\n",
       "    <tr>\n",
       "      <td>Role-Playing</td>\n",
       "      <td>31.16</td>\n",
       "      <td>0.33</td>\n",
       "    </tr>\n",
       "    <tr>\n",
       "      <td>Action</td>\n",
       "      <td>29.58</td>\n",
       "      <td>0.32</td>\n",
       "    </tr>\n",
       "    <tr>\n",
       "      <td>Fighting</td>\n",
       "      <td>6.37</td>\n",
       "      <td>0.07</td>\n",
       "    </tr>\n",
       "    <tr>\n",
       "      <td>Misc</td>\n",
       "      <td>5.61</td>\n",
       "      <td>0.06</td>\n",
       "    </tr>\n",
       "    <tr>\n",
       "      <td>Shooter</td>\n",
       "      <td>4.87</td>\n",
       "      <td>0.05</td>\n",
       "    </tr>\n",
       "  </tbody>\n",
       "</table>\n",
       "</div>"
      ],
      "text/plain": [
       "              jp_sales  percent\n",
       "genre                          \n",
       "Role-Playing     31.16     0.33\n",
       "Action           29.58     0.32\n",
       "Fighting          6.37     0.07\n",
       "Misc              5.61     0.06\n",
       "Shooter           4.87     0.05"
      ]
     },
     "metadata": {},
     "output_type": "display_data"
    },
    {
     "data": {
      "image/png": "[encoded data removed]",
      "text/plain": [
       "<Figure size 1080x360 with 3 Axes>"
      ]
     },
     "metadata": {},
     "output_type": "display_data"
    }
   ],
   "source": [
    "fig, ax = plt.subplots(1,3,figsize=(15, 5))\n",
    "ax[0].pie(NA_pop_genre['na_sales'], labels = NA_pop_genre.index)\n",
    "ax[1].pie(EU_pop_genre['eu_sales'], labels = EU_pop_genre.index)\n",
    "ax[2].pie(JP_pop_genre['jp_sales'], labels = JP_pop_genre.index)\n",
    "plt.show\n",
    "\n",
    "display(NA_pop_genre.head())\n",
    "display(EU_pop_genre.head())\n",
    "display(JP_pop_genre.head())"
   ]
  },
  {
   "cell_type": "markdown",
   "id": "01f8903c",
   "metadata": {},
   "source": [
    "На рынке NA: В топ-5 популярных жанров входят Action, Shooter, Sports, Misc, Role-Playing. Самой популярной является Shooter с долей в 28%.\n",
    "\n",
    "На рынке EU: 28% занимает жанр Action\n",
    "\n",
    "На рынке JP: С огромным отрывом жанр Role-Playing (33%) отрывается от Action (32%). Shooter на 5 месте (5%)"
   ]
  },
  {
   "cell_type": "markdown",
   "id": "2ca7bab5",
   "metadata": {},
   "source": [
    "### Влияет ли рейтинг ESRB на продажи в отдельном регионе?"
   ]
  },
  {
   "cell_type": "code",
   "execution_count": 46,
   "id": "44eabca8",
   "metadata": {
    "scrolled": false
   },
   "outputs": [
    {
     "data": {
      "text/html": [
       "<div>\n",
       "<style scoped>\n",
       "    .dataframe tbody tr th:only-of-type {\n",
       "        vertical-align: middle;\n",
       "    }\n",
       "\n",
       "    .dataframe tbody tr th {\n",
       "        vertical-align: top;\n",
       "    }\n",
       "\n",
       "    .dataframe thead th {\n",
       "        text-align: right;\n",
       "    }\n",
       "</style>\n",
       "<table border=\"1\" class=\"dataframe\">\n",
       "  <thead>\n",
       "    <tr style=\"text-align: right;\">\n",
       "      <th></th>\n",
       "      <th>na_sales</th>\n",
       "      <th>percent</th>\n",
       "    </tr>\n",
       "    <tr>\n",
       "      <th>rating</th>\n",
       "      <th></th>\n",
       "      <th></th>\n",
       "    </tr>\n",
       "  </thead>\n",
       "  <tbody>\n",
       "    <tr>\n",
       "      <td>M</td>\n",
       "      <td>96.42</td>\n",
       "      <td>0.34</td>\n",
       "    </tr>\n",
       "    <tr>\n",
       "      <td>Unknown</td>\n",
       "      <td>64.72</td>\n",
       "      <td>0.23</td>\n",
       "    </tr>\n",
       "    <tr>\n",
       "      <td>E</td>\n",
       "      <td>50.74</td>\n",
       "      <td>0.18</td>\n",
       "    </tr>\n",
       "    <tr>\n",
       "      <td>T</td>\n",
       "      <td>38.95</td>\n",
       "      <td>0.14</td>\n",
       "    </tr>\n",
       "    <tr>\n",
       "      <td>E10+</td>\n",
       "      <td>33.23</td>\n",
       "      <td>0.12</td>\n",
       "    </tr>\n",
       "  </tbody>\n",
       "</table>\n",
       "</div>"
      ],
      "text/plain": [
       "         na_sales  percent\n",
       "rating                    \n",
       "M           96.42     0.34\n",
       "Unknown     64.72     0.23\n",
       "E           50.74     0.18\n",
       "T           38.95     0.14\n",
       "E10+        33.23     0.12"
      ]
     },
     "metadata": {},
     "output_type": "display_data"
    },
    {
     "data": {
      "text/html": [
       "<div>\n",
       "<style scoped>\n",
       "    .dataframe tbody tr th:only-of-type {\n",
       "        vertical-align: middle;\n",
       "    }\n",
       "\n",
       "    .dataframe tbody tr th {\n",
       "        vertical-align: top;\n",
       "    }\n",
       "\n",
       "    .dataframe thead th {\n",
       "        text-align: right;\n",
       "    }\n",
       "</style>\n",
       "<table border=\"1\" class=\"dataframe\">\n",
       "  <thead>\n",
       "    <tr style=\"text-align: right;\">\n",
       "      <th></th>\n",
       "      <th>eu_sales</th>\n",
       "      <th>percent</th>\n",
       "    </tr>\n",
       "    <tr>\n",
       "      <th>rating</th>\n",
       "      <th></th>\n",
       "      <th></th>\n",
       "    </tr>\n",
       "  </thead>\n",
       "  <tbody>\n",
       "    <tr>\n",
       "      <td>M</td>\n",
       "      <td>93.44</td>\n",
       "      <td>0.35</td>\n",
       "    </tr>\n",
       "    <tr>\n",
       "      <td>Unknown</td>\n",
       "      <td>58.95</td>\n",
       "      <td>0.22</td>\n",
       "    </tr>\n",
       "    <tr>\n",
       "      <td>E</td>\n",
       "      <td>58.06</td>\n",
       "      <td>0.21</td>\n",
       "    </tr>\n",
       "    <tr>\n",
       "      <td>T</td>\n",
       "      <td>34.07</td>\n",
       "      <td>0.13</td>\n",
       "    </tr>\n",
       "    <tr>\n",
       "      <td>E10+</td>\n",
       "      <td>26.16</td>\n",
       "      <td>0.10</td>\n",
       "    </tr>\n",
       "  </tbody>\n",
       "</table>\n",
       "</div>"
      ],
      "text/plain": [
       "         eu_sales  percent\n",
       "rating                    \n",
       "M           93.44     0.35\n",
       "Unknown     58.95     0.22\n",
       "E           58.06     0.21\n",
       "T           34.07     0.13\n",
       "E10+        26.16     0.10"
      ]
     },
     "metadata": {},
     "output_type": "display_data"
    },
    {
     "data": {
      "text/html": [
       "<div>\n",
       "<style scoped>\n",
       "    .dataframe tbody tr th:only-of-type {\n",
       "        vertical-align: middle;\n",
       "    }\n",
       "\n",
       "    .dataframe tbody tr th {\n",
       "        vertical-align: top;\n",
       "    }\n",
       "\n",
       "    .dataframe thead th {\n",
       "        text-align: right;\n",
       "    }\n",
       "</style>\n",
       "<table border=\"1\" class=\"dataframe\">\n",
       "  <thead>\n",
       "    <tr style=\"text-align: right;\">\n",
       "      <th></th>\n",
       "      <th>jp_sales</th>\n",
       "      <th>percent</th>\n",
       "    </tr>\n",
       "    <tr>\n",
       "      <th>rating</th>\n",
       "      <th></th>\n",
       "      <th></th>\n",
       "    </tr>\n",
       "  </thead>\n",
       "  <tbody>\n",
       "    <tr>\n",
       "      <td>Unknown</td>\n",
       "      <td>56.90</td>\n",
       "      <td>0.61</td>\n",
       "    </tr>\n",
       "    <tr>\n",
       "      <td>T</td>\n",
       "      <td>14.78</td>\n",
       "      <td>0.16</td>\n",
       "    </tr>\n",
       "    <tr>\n",
       "      <td>E</td>\n",
       "      <td>8.94</td>\n",
       "      <td>0.10</td>\n",
       "    </tr>\n",
       "    <tr>\n",
       "      <td>M</td>\n",
       "      <td>8.01</td>\n",
       "      <td>0.09</td>\n",
       "    </tr>\n",
       "    <tr>\n",
       "      <td>E10+</td>\n",
       "      <td>4.46</td>\n",
       "      <td>0.05</td>\n",
       "    </tr>\n",
       "  </tbody>\n",
       "</table>\n",
       "</div>"
      ],
      "text/plain": [
       "         jp_sales  percent\n",
       "rating                    \n",
       "Unknown     56.90     0.61\n",
       "T           14.78     0.16\n",
       "E            8.94     0.10\n",
       "M            8.01     0.09\n",
       "E10+         4.46     0.05"
      ]
     },
     "metadata": {},
     "output_type": "display_data"
    },
    {
     "data": {
      "image/png": "[encoded data removed]",
      "text/plain": [
       "<Figure size 1080x360 with 3 Axes>"
      ]
     },
     "metadata": {},
     "output_type": "display_data"
    }
   ],
   "source": [
    "fig, ax = plt.subplots(1,3,figsize=(15, 5))\n",
    "ax[0].pie(NA_pop_rating['na_sales'], labels = NA_pop_rating.index)\n",
    "ax[1].pie(EU_pop_rating['eu_sales'], labels = EU_pop_rating.index)\n",
    "ax[2].pie(JP_pop_rating['jp_sales'], labels = JP_pop_rating.index)\n",
    "plt.show\n",
    "\n",
    "display(NA_pop_rating.head())\n",
    "display(EU_pop_rating.head())\n",
    "display(JP_pop_rating.head())"
   ]
  },
  {
   "cell_type": "markdown",
   "id": "d159fc0d",
   "metadata": {},
   "source": [
    "На рынке NA: Самый популярный рейтинг - M, с долей в 34%. На втором месте стоит E - 18%. А вот игры с неизвестным рейтингом составляет целых 23%.\n",
    "\n",
    "На рынке EU: 35% занимает рейтинг M. А вот игры с неизвестным рейтингом составляет целых 22 процента.\n",
    "\n",
    "На рынке JP:Целых 61% занимаеют игры с неизвестным рейтингом! На втором месте стоит рейтинг - E (16%)"
   ]
  },
  {
   "cell_type": "markdown",
   "id": "e0b1d030",
   "metadata": {},
   "source": [
    "### Общий вывод\n",
    "Портрет пользователя живущего в NA регионе такой:\n",
    "- Консоль - PS4\n",
    "- Жанр - Shooter\n",
    "- Рейтинг - M\n",
    "\n",
    "Портрет пользователя живущего в EU регионе такой:\n",
    "- Консоль - PS4\n",
    "- Жанр - Action\n",
    "- Рейтинг - M\n",
    "\n",
    "Портрет пользователя живущего в JP регионе такой:\n",
    "- Консоль - 3DS\n",
    "- Жанр - Role-Playing\n",
    "- Рейтинг - E или Unknown"
   ]
  },
  {
   "cell_type": "markdown",
   "id": "c1923aed",
   "metadata": {},
   "source": [
    "## Шаг 5. Проверьте гипотезы\n",
    " - Средние пользовательские рейтинги платформ Xbox One и PC одинаковые;\n",
    " - Средние пользовательские рейтинги жанров Action (англ. «действие», экшен-игры) и Sports (англ. «спортивные соревнования») разные.\n",
    "\n",
    "Задайте самостоятельно пороговое значение alpha.\n",
    "Поясните:\n",
    " - Как вы сформулировали нулевую и альтернативную гипотезы;\n",
    " - Какой критерий применили для проверки гипотез и почему.\n"
   ]
  },
  {
   "cell_type": "markdown",
   "id": "e0c23115",
   "metadata": {},
   "source": [
    "### Средние пользовательские рейтинги платформ Xbox One и PC одинаковые;"
   ]
  },
  {
   "cell_type": "markdown",
   "id": "4e055ce4",
   "metadata": {},
   "source": [
    "Выдвигаем нулевую гипотезу, что cредние пользовательские рейтинги платформ Xbox One и PC одинаковые.\n",
    "\n",
    "Альтернативная гипотеза звучит так: \"Средние пользовательские рейтинги платформ Xbox One и PC разные\""
   ]
  },
  {
   "cell_type": "code",
   "execution_count": 47,
   "id": "19d777d6",
   "metadata": {},
   "outputs": [
    {
     "name": "stdout",
     "output_type": "stream",
     "text": [
      "p-значение:  0.11601398086668835\n",
      "Не получилось отвергнуть нулевую гипотезу\n"
     ]
    }
   ],
   "source": [
    "XOne = gm.query('platform == \"XOne\"').user_score.dropna()\n",
    "PC = gm.query('platform == \"PC\"').user_score.dropna()\n",
    "\n",
    "\n",
    "alpha = 0.05\n",
    "\n",
    "\n",
    "results = st.ttest_ind(\n",
    "    XOne, \n",
    "    PC,\n",
    "    equal_var=False)\n",
    " \n",
    "print('p-значение: ', results.pvalue)\n",
    " \n",
    "if results.pvalue < alpha:\n",
    "    print(\"Отвергаем нулевую гипотезу\")\n",
    "else:\n",
    "    print(\"Не получилось отвергнуть нулевую гипотезу\") "
   ]
  },
  {
   "cell_type": "code",
   "execution_count": 48,
   "id": "cb8183e4",
   "metadata": {
    "scrolled": true
   },
   "outputs": [
    {
     "name": "stdout",
     "output_type": "stream",
     "text": [
      "Средние пользовательские рейтинги у Xbox One - 6.594545454545456\n",
      "Средние пользовательские рейтинги у PC - 6.298360655737705\n"
     ]
    }
   ],
   "source": [
    "print('Средние пользовательские рейтинги у Xbox One -', XOne.mean())\n",
    "print('Средние пользовательские рейтинги у PC -', PC.mean())"
   ]
  },
  {
   "cell_type": "markdown",
   "id": "f3234cfd",
   "metadata": {},
   "source": [
    "Да, действительно стредние оценки у Xone и PC почти одинаковые."
   ]
  },
  {
   "cell_type": "markdown",
   "id": "0d6bf409",
   "metadata": {},
   "source": [
    "### Средние пользовательские рейтинги жанров Action и Sports разные."
   ]
  },
  {
   "cell_type": "markdown",
   "id": "1587616d",
   "metadata": {},
   "source": [
    "Выдвигаем нулевую гипотезу, что средние пользовательские рейтинги жанров Action и Sports одинаковые.\n",
    "\n",
    "Альтернативная гипотеза звучит так: \"Средние пользовательские рейтинги жанров Action и Sports разные\""
   ]
  },
  {
   "cell_type": "code",
   "execution_count": 49,
   "id": "aabc8694",
   "metadata": {},
   "outputs": [
    {
     "name": "stdout",
     "output_type": "stream",
     "text": [
      "p-значение:  1.1825550382644557e-14\n",
      "Отвергаем нулевую гипотезу\n"
     ]
    }
   ],
   "source": [
    "Action = gm.query('genre == \"Action\"').user_score.dropna()\n",
    "Sports = gm.query('genre == \"Sports\"').user_score.dropna()\n",
    "\n",
    "\n",
    "alpha = 0.05\n",
    "\n",
    "\n",
    "results = st.ttest_ind(\n",
    "    Action, \n",
    "    Sports,\n",
    "    equal_var=False)\n",
    " \n",
    "print('p-значение: ', results.pvalue)\n",
    " \n",
    "if results.pvalue < alpha:\n",
    "    print(\"Отвергаем нулевую гипотезу\")\n",
    "else:\n",
    "    print(\"Не получилось отвергнуть нулевую гипотезу\") "
   ]
  },
  {
   "cell_type": "code",
   "execution_count": 50,
   "id": "9511c8b9",
   "metadata": {
    "scrolled": true
   },
   "outputs": [
    {
     "name": "stdout",
     "output_type": "stream",
     "text": [
      "Средние пользовательские рейтинги у Action - 6.760606060606061\n",
      "Средние пользовательские рейтинги у Sports - 5.2251968503937\n"
     ]
    }
   ],
   "source": [
    "print('Средние пользовательские рейтинги у Action -', Action.mean())\n",
    "print('Средние пользовательские рейтинги у Sports -', Sports.mean())"
   ]
  },
  {
   "cell_type": "markdown",
   "id": "d5e22635",
   "metadata": {},
   "source": [
    "## Общий вывод"
   ]
  },
  {
   "cell_type": "markdown",
   "id": "89f9e8ce",
   "metadata": {},
   "source": [
    "Вот какие выводы можно сделать из исследования:\n",
    " - Сильный рост выпуска игр прослеживается с 1993 года.\n",
    " - Средний срок жизни платформы/консоли составляет 8 лет.\n",
    " - Сейчас набирают рост такие платформы как PS4 и XOne.\n",
    " - Можно увидеть, что повальное большинство продаж для всех консолей сосредоточенно около 1 млн копий. Самые большие выбросы есть у PS4, XOne и 3DC.\n",
    " - Корреляция между оценками и продажами положительная, значит можно сделать вывод, что хороший рейтинг игры действительно влияет на продажи.\n",
    " - Больше всего денег принёс жанр Action с общей прибылью в 199 млн. Но 75% всех игр продаются меньше 0.5 млн. А вот у жанра Shooter (170 млн.) 75% продаются больше 1.5 млн, поэтому можно с уверенностью сказать, что жанр Shooter является самым прибыльным.<br> \n",
    " 2, 3 и 4 места занимают Shooter (170 млн.), Sports (109 млн.) и Role-Playing (101 млн.). Самым не прибыльным жанром является Puzzle (2.21 млн.) \n",
    " - Портреты пользователей:\n",
    "    - Портрет пользователя живущего в NA регионе такой:\n",
    "        - Консоль - PS4\n",
    "        - Жанр - Shooter\n",
    "        - Рейтинг - M\n",
    "\n",
    "    - Портрет пользователя живущего в EU регионе такой:\n",
    "        - Консоль - PS4\n",
    "        - Жанр - Action\n",
    "        - Рейтинг - M\n",
    "\n",
    "    - Портрет пользователя живущего в JP регионе такой:\n",
    "        - Консоль - 3DS\n",
    "        - Жанр - Role-Playing\n",
    "        - Рейтинг - E или Unknown\n",
    "    \n",
    " - После проверки гипотез были полученны такие результаты:\n",
    "     - Гипотезу о том, что cредние пользовательские рейтинги платформ Xbox One и PC одинаковые не получилось отвергнуть.\n",
    "     - Гипотеза о том, что средние пользовательские рейтинги жанров Action и Sports разные была отвергнута."
   ]
  }
 ],
 "metadata": {
  "ExecuteTimeLog": [
   {
    "duration": 1249,
    "start_time": "2022-03-06T09:35:41.276Z"
   },
   {
    "duration": 1396,
    "start_time": "2022-03-06T09:35:42.526Z"
   },
   {
    "duration": -319,
    "start_time": "2022-03-06T09:35:44.244Z"
   },
   {
    "duration": -327,
    "start_time": "2022-03-06T09:35:44.253Z"
   },
   {
    "duration": -331,
    "start_time": "2022-03-06T09:35:44.258Z"
   },
   {
    "duration": -335,
    "start_time": "2022-03-06T09:35:44.262Z"
   },
   {
    "duration": -345,
    "start_time": "2022-03-06T09:35:44.273Z"
   },
   {
    "duration": -349,
    "start_time": "2022-03-06T09:35:44.278Z"
   },
   {
    "duration": -360,
    "start_time": "2022-03-06T09:35:44.290Z"
   },
   {
    "duration": -366,
    "start_time": "2022-03-06T09:35:44.297Z"
   },
   {
    "duration": -372,
    "start_time": "2022-03-06T09:35:44.304Z"
   },
   {
    "duration": -376,
    "start_time": "2022-03-06T09:35:44.309Z"
   },
   {
    "duration": -379,
    "start_time": "2022-03-06T09:35:44.313Z"
   },
   {
    "duration": -385,
    "start_time": "2022-03-06T09:35:44.320Z"
   },
   {
    "duration": -390,
    "start_time": "2022-03-06T09:35:44.326Z"
   },
   {
    "duration": -393,
    "start_time": "2022-03-06T09:35:44.330Z"
   },
   {
    "duration": -398,
    "start_time": "2022-03-06T09:35:44.336Z"
   },
   {
    "duration": -403,
    "start_time": "2022-03-06T09:35:44.343Z"
   },
   {
    "duration": -408,
    "start_time": "2022-03-06T09:35:44.349Z"
   },
   {
    "duration": -413,
    "start_time": "2022-03-06T09:35:44.355Z"
   },
   {
    "duration": -415,
    "start_time": "2022-03-06T09:35:44.359Z"
   },
   {
    "duration": -421,
    "start_time": "2022-03-06T09:35:44.366Z"
   },
   {
    "duration": -424,
    "start_time": "2022-03-06T09:35:44.371Z"
   },
   {
    "duration": -427,
    "start_time": "2022-03-06T09:35:44.375Z"
   },
   {
    "duration": -432,
    "start_time": "2022-03-06T09:35:44.381Z"
   },
   {
    "duration": -436,
    "start_time": "2022-03-06T09:35:44.387Z"
   },
   {
    "duration": -442,
    "start_time": "2022-03-06T09:35:44.394Z"
   },
   {
    "duration": -446,
    "start_time": "2022-03-06T09:35:44.400Z"
   },
   {
    "duration": -449,
    "start_time": "2022-03-06T09:35:44.404Z"
   },
   {
    "duration": -454,
    "start_time": "2022-03-06T09:35:44.410Z"
   },
   {
    "duration": -456,
    "start_time": "2022-03-06T09:35:44.414Z"
   },
   {
    "duration": -461,
    "start_time": "2022-03-06T09:35:44.420Z"
   },
   {
    "duration": -464,
    "start_time": "2022-03-06T09:35:44.425Z"
   },
   {
    "duration": -467,
    "start_time": "2022-03-06T09:35:44.429Z"
   },
   {
    "duration": -472,
    "start_time": "2022-03-06T09:35:44.435Z"
   },
   {
    "duration": -474,
    "start_time": "2022-03-06T09:35:44.439Z"
   },
   {
    "duration": -476,
    "start_time": "2022-03-06T09:35:44.442Z"
   },
   {
    "duration": -478,
    "start_time": "2022-03-06T09:35:44.446Z"
   },
   {
    "duration": -483,
    "start_time": "2022-03-06T09:35:44.452Z"
   },
   {
    "duration": -485,
    "start_time": "2022-03-06T09:35:44.455Z"
   },
   {
    "duration": -488,
    "start_time": "2022-03-06T09:35:44.459Z"
   },
   {
    "duration": -491,
    "start_time": "2022-03-06T09:35:44.463Z"
   },
   {
    "duration": -498,
    "start_time": "2022-03-06T09:35:44.471Z"
   },
   {
    "duration": -502,
    "start_time": "2022-03-06T09:35:44.476Z"
   },
   {
    "duration": -506,
    "start_time": "2022-03-06T09:35:44.481Z"
   },
   {
    "duration": -510,
    "start_time": "2022-03-06T09:35:44.485Z"
   },
   {
    "duration": -460,
    "start_time": "2022-03-06T09:35:44.493Z"
   },
   {
    "duration": -466,
    "start_time": "2022-03-06T09:35:44.500Z"
   },
   {
    "duration": -471,
    "start_time": "2022-03-06T09:35:44.506Z"
   },
   {
    "duration": -474,
    "start_time": "2022-03-06T09:35:44.510Z"
   },
   {
    "duration": 53,
    "start_time": "2022-03-06T10:32:23.064Z"
   },
   {
    "duration": 3,
    "start_time": "2022-03-06T10:32:42.686Z"
   },
   {
    "duration": 15,
    "start_time": "2022-03-06T10:32:50.023Z"
   },
   {
    "duration": 14,
    "start_time": "2022-03-06T10:32:51.242Z"
   },
   {
    "duration": 8,
    "start_time": "2022-03-06T10:32:51.516Z"
   },
   {
    "duration": 14,
    "start_time": "2022-03-06T10:32:51.779Z"
   },
   {
    "duration": 21,
    "start_time": "2022-03-06T10:32:52.730Z"
   },
   {
    "duration": 243,
    "start_time": "2022-03-06T10:32:53.919Z"
   },
   {
    "duration": 8,
    "start_time": "2022-03-06T10:32:54.521Z"
   },
   {
    "duration": 164,
    "start_time": "2022-03-06T10:32:54.952Z"
   },
   {
    "duration": 170,
    "start_time": "2022-03-06T10:32:55.358Z"
   },
   {
    "duration": 159,
    "start_time": "2022-03-06T10:32:55.735Z"
   },
   {
    "duration": 167,
    "start_time": "2022-03-06T10:32:56.131Z"
   },
   {
    "duration": 164,
    "start_time": "2022-03-06T10:32:56.543Z"
   },
   {
    "duration": 15,
    "start_time": "2022-03-06T10:32:56.927Z"
   },
   {
    "duration": 4,
    "start_time": "2022-03-06T10:32:57.143Z"
   },
   {
    "duration": 160,
    "start_time": "2022-03-06T10:32:57.339Z"
   },
   {
    "duration": 2,
    "start_time": "2022-03-06T10:32:57.753Z"
   },
   {
    "duration": 704,
    "start_time": "2022-03-06T10:32:57.949Z"
   },
   {
    "duration": 6,
    "start_time": "2022-03-06T10:32:59.047Z"
   },
   {
    "duration": 5,
    "start_time": "2022-03-06T10:32:59.415Z"
   },
   {
    "duration": 8,
    "start_time": "2022-03-06T10:33:00.519Z"
   },
   {
    "duration": 246,
    "start_time": "2022-03-06T10:33:01.626Z"
   },
   {
    "duration": 313,
    "start_time": "2022-03-06T10:33:02.289Z"
   },
   {
    "duration": 6,
    "start_time": "2022-03-06T10:33:05.522Z"
   },
   {
    "duration": 10,
    "start_time": "2022-03-06T10:33:06.111Z"
   },
   {
    "duration": 289,
    "start_time": "2022-03-06T10:33:06.694Z"
   },
   {
    "duration": 6,
    "start_time": "2022-03-06T10:33:07.119Z"
   },
   {
    "duration": 2,
    "start_time": "2022-03-06T10:33:07.394Z"
   },
   {
    "duration": 10,
    "start_time": "2022-03-06T10:33:07.630Z"
   },
   {
    "duration": 8,
    "start_time": "2022-03-06T10:33:08.805Z"
   },
   {
    "duration": 7,
    "start_time": "2022-03-06T10:33:09.078Z"
   },
   {
    "duration": 8,
    "start_time": "2022-03-06T10:33:09.306Z"
   },
   {
    "duration": 8,
    "start_time": "2022-03-06T10:33:09.517Z"
   },
   {
    "duration": 10,
    "start_time": "2022-03-06T10:33:10.356Z"
   },
   {
    "duration": 7,
    "start_time": "2022-03-06T10:33:10.569Z"
   },
   {
    "duration": 218,
    "start_time": "2022-03-06T10:33:12.634Z"
   },
   {
    "duration": 220,
    "start_time": "2022-03-06T10:33:16.024Z"
   },
   {
    "duration": 187,
    "start_time": "2022-03-06T10:33:17.656Z"
   },
   {
    "duration": 324,
    "start_time": "2022-03-06T10:33:20.147Z"
   },
   {
    "duration": 212,
    "start_time": "2022-03-06T10:33:21.336Z"
   },
   {
    "duration": 161,
    "start_time": "2022-03-06T10:33:22.638Z"
   },
   {
    "duration": 212,
    "start_time": "2022-03-06T10:33:25.520Z"
   },
   {
    "duration": 220,
    "start_time": "2022-03-06T10:33:27.826Z"
   },
   {
    "duration": 171,
    "start_time": "2022-03-06T10:33:29.209Z"
   },
   {
    "duration": 555,
    "start_time": "2022-03-06T12:38:12.392Z"
   },
   {
    "duration": 165,
    "start_time": "2022-03-06T12:41:01.189Z"
   },
   {
    "duration": 188,
    "start_time": "2022-03-06T12:43:37.817Z"
   },
   {
    "duration": 504,
    "start_time": "2022-03-06T12:43:40.524Z"
   },
   {
    "duration": 5,
    "start_time": "2022-03-06T12:44:11.691Z"
   },
   {
    "duration": 20,
    "start_time": "2022-03-06T12:45:35.302Z"
   },
   {
    "duration": 191,
    "start_time": "2022-03-06T12:46:51.143Z"
   },
   {
    "duration": 187,
    "start_time": "2022-03-06T12:47:03.918Z"
   },
   {
    "duration": 174,
    "start_time": "2022-03-06T12:47:12.386Z"
   },
   {
    "duration": 617,
    "start_time": "2022-03-06T12:47:20.430Z"
   },
   {
    "duration": 55,
    "start_time": "2022-03-06T12:48:48.542Z"
   },
   {
    "duration": 206,
    "start_time": "2022-03-06T12:48:53.432Z"
   },
   {
    "duration": 168,
    "start_time": "2022-03-06T12:49:02.058Z"
   },
   {
    "duration": 173,
    "start_time": "2022-03-06T12:49:04.584Z"
   },
   {
    "duration": 175,
    "start_time": "2022-03-06T12:50:26.904Z"
   },
   {
    "duration": 511,
    "start_time": "2022-03-06T12:50:52.816Z"
   },
   {
    "duration": 14,
    "start_time": "2022-03-06T12:52:11.476Z"
   },
   {
    "duration": 184,
    "start_time": "2022-03-06T12:52:27.421Z"
   },
   {
    "duration": 203,
    "start_time": "2022-03-06T12:52:35.162Z"
   },
   {
    "duration": 168,
    "start_time": "2022-03-06T12:52:45.166Z"
   },
   {
    "duration": 10,
    "start_time": "2022-03-06T12:53:12.741Z"
   },
   {
    "duration": 9,
    "start_time": "2022-03-06T12:53:28.777Z"
   },
   {
    "duration": 7,
    "start_time": "2022-03-06T12:53:51.023Z"
   },
   {
    "duration": 6,
    "start_time": "2022-03-06T12:54:14.692Z"
   },
   {
    "duration": 172,
    "start_time": "2022-03-06T12:54:20.617Z"
   },
   {
    "duration": 4,
    "start_time": "2022-03-06T12:54:32.176Z"
   },
   {
    "duration": 661,
    "start_time": "2022-03-06T12:54:54.942Z"
   },
   {
    "duration": 3,
    "start_time": "2022-03-06T12:56:40.053Z"
   },
   {
    "duration": 5,
    "start_time": "2022-03-06T13:00:00.376Z"
   },
   {
    "duration": 14,
    "start_time": "2022-03-06T13:13:50.847Z"
   },
   {
    "duration": 1258,
    "start_time": "2022-03-06T13:14:05.582Z"
   },
   {
    "duration": 1541,
    "start_time": "2022-03-06T13:14:06.842Z"
   },
   {
    "duration": -292,
    "start_time": "2022-03-06T13:14:08.680Z"
   },
   {
    "duration": -295,
    "start_time": "2022-03-06T13:14:08.684Z"
   },
   {
    "duration": -300,
    "start_time": "2022-03-06T13:14:08.691Z"
   },
   {
    "duration": -302,
    "start_time": "2022-03-06T13:14:08.694Z"
   },
   {
    "duration": -304,
    "start_time": "2022-03-06T13:14:08.698Z"
   },
   {
    "duration": -308,
    "start_time": "2022-03-06T13:14:08.703Z"
   },
   {
    "duration": -314,
    "start_time": "2022-03-06T13:14:08.711Z"
   },
   {
    "duration": -319,
    "start_time": "2022-03-06T13:14:08.717Z"
   },
   {
    "duration": -325,
    "start_time": "2022-03-06T13:14:08.724Z"
   },
   {
    "duration": -328,
    "start_time": "2022-03-06T13:14:08.729Z"
   },
   {
    "duration": -331,
    "start_time": "2022-03-06T13:14:08.733Z"
   },
   {
    "duration": -332,
    "start_time": "2022-03-06T13:14:08.736Z"
   },
   {
    "duration": -335,
    "start_time": "2022-03-06T13:14:08.740Z"
   },
   {
    "duration": -347,
    "start_time": "2022-03-06T13:14:08.754Z"
   },
   {
    "duration": -350,
    "start_time": "2022-03-06T13:14:08.758Z"
   },
   {
    "duration": -353,
    "start_time": "2022-03-06T13:14:08.762Z"
   },
   {
    "duration": -355,
    "start_time": "2022-03-06T13:14:08.766Z"
   },
   {
    "duration": -358,
    "start_time": "2022-03-06T13:14:08.770Z"
   },
   {
    "duration": -362,
    "start_time": "2022-03-06T13:14:08.776Z"
   },
   {
    "duration": -366,
    "start_time": "2022-03-06T13:14:08.781Z"
   },
   {
    "duration": -369,
    "start_time": "2022-03-06T13:14:08.786Z"
   },
   {
    "duration": -372,
    "start_time": "2022-03-06T13:14:08.790Z"
   },
   {
    "duration": -374,
    "start_time": "2022-03-06T13:14:08.794Z"
   },
   {
    "duration": -376,
    "start_time": "2022-03-06T13:14:08.797Z"
   },
   {
    "duration": -379,
    "start_time": "2022-03-06T13:14:08.801Z"
   },
   {
    "duration": -381,
    "start_time": "2022-03-06T13:14:08.805Z"
   },
   {
    "duration": -384,
    "start_time": "2022-03-06T13:14:08.809Z"
   },
   {
    "duration": -386,
    "start_time": "2022-03-06T13:14:08.812Z"
   },
   {
    "duration": -397,
    "start_time": "2022-03-06T13:14:08.825Z"
   },
   {
    "duration": -441,
    "start_time": "2022-03-06T13:14:08.869Z"
   },
   {
    "duration": -473,
    "start_time": "2022-03-06T13:14:08.902Z"
   },
   {
    "duration": -496,
    "start_time": "2022-03-06T13:14:08.925Z"
   },
   {
    "duration": -511,
    "start_time": "2022-03-06T13:14:08.941Z"
   },
   {
    "duration": -529,
    "start_time": "2022-03-06T13:14:08.959Z"
   },
   {
    "duration": -546,
    "start_time": "2022-03-06T13:14:08.977Z"
   },
   {
    "duration": -564,
    "start_time": "2022-03-06T13:14:08.996Z"
   },
   {
    "duration": -568,
    "start_time": "2022-03-06T13:14:09.001Z"
   },
   {
    "duration": -571,
    "start_time": "2022-03-06T13:14:09.006Z"
   },
   {
    "duration": -575,
    "start_time": "2022-03-06T13:14:09.011Z"
   },
   {
    "duration": -577,
    "start_time": "2022-03-06T13:14:09.015Z"
   },
   {
    "duration": -580,
    "start_time": "2022-03-06T13:14:09.019Z"
   },
   {
    "duration": -582,
    "start_time": "2022-03-06T13:14:09.023Z"
   },
   {
    "duration": -585,
    "start_time": "2022-03-06T13:14:09.027Z"
   },
   {
    "duration": -586,
    "start_time": "2022-03-06T13:14:09.030Z"
   },
   {
    "duration": -588,
    "start_time": "2022-03-06T13:14:09.034Z"
   },
   {
    "duration": -589,
    "start_time": "2022-03-06T13:14:09.037Z"
   },
   {
    "duration": -592,
    "start_time": "2022-03-06T13:14:09.041Z"
   },
   {
    "duration": -595,
    "start_time": "2022-03-06T13:14:09.046Z"
   },
   {
    "duration": -599,
    "start_time": "2022-03-06T13:14:09.051Z"
   },
   {
    "duration": 52,
    "start_time": "2022-03-06T13:14:12.104Z"
   },
   {
    "duration": 3,
    "start_time": "2022-03-06T13:14:12.739Z"
   },
   {
    "duration": 13,
    "start_time": "2022-03-06T13:14:13.161Z"
   },
   {
    "duration": 14,
    "start_time": "2022-03-06T13:14:13.822Z"
   },
   {
    "duration": 8,
    "start_time": "2022-03-06T13:14:14.048Z"
   },
   {
    "duration": 13,
    "start_time": "2022-03-06T13:14:14.260Z"
   },
   {
    "duration": 23,
    "start_time": "2022-03-06T13:14:15.133Z"
   },
   {
    "duration": 245,
    "start_time": "2022-03-06T13:14:15.983Z"
   },
   {
    "duration": 8,
    "start_time": "2022-03-06T13:14:16.558Z"
   },
   {
    "duration": 162,
    "start_time": "2022-03-06T13:14:16.985Z"
   },
   {
    "duration": 178,
    "start_time": "2022-03-06T13:14:17.396Z"
   },
   {
    "duration": 163,
    "start_time": "2022-03-06T13:14:17.776Z"
   },
   {
    "duration": 172,
    "start_time": "2022-03-06T13:14:18.170Z"
   },
   {
    "duration": 171,
    "start_time": "2022-03-06T13:14:18.609Z"
   },
   {
    "duration": 14,
    "start_time": "2022-03-06T13:14:18.933Z"
   },
   {
    "duration": 4,
    "start_time": "2022-03-06T13:14:19.142Z"
   },
   {
    "duration": 166,
    "start_time": "2022-03-06T13:14:19.345Z"
   },
   {
    "duration": 2,
    "start_time": "2022-03-06T13:14:19.797Z"
   },
   {
    "duration": 691,
    "start_time": "2022-03-06T13:14:20.023Z"
   },
   {
    "duration": 6,
    "start_time": "2022-03-06T13:14:21.580Z"
   },
   {
    "duration": 6,
    "start_time": "2022-03-06T13:14:21.823Z"
   },
   {
    "duration": 7,
    "start_time": "2022-03-06T13:14:22.987Z"
   },
   {
    "duration": 240,
    "start_time": "2022-03-06T13:14:23.321Z"
   },
   {
    "duration": 340,
    "start_time": "2022-03-06T13:14:24.736Z"
   },
   {
    "duration": 5,
    "start_time": "2022-03-06T13:14:25.814Z"
   },
   {
    "duration": 8,
    "start_time": "2022-03-06T13:14:26.351Z"
   },
   {
    "duration": 318,
    "start_time": "2022-03-06T13:14:26.620Z"
   },
   {
    "duration": 5,
    "start_time": "2022-03-06T13:14:26.940Z"
   },
   {
    "duration": 3,
    "start_time": "2022-03-06T13:14:27.178Z"
   },
   {
    "duration": 8,
    "start_time": "2022-03-06T13:14:27.862Z"
   },
   {
    "duration": 8,
    "start_time": "2022-03-06T13:14:29.001Z"
   },
   {
    "duration": 8,
    "start_time": "2022-03-06T13:14:29.321Z"
   },
   {
    "duration": 8,
    "start_time": "2022-03-06T13:14:29.629Z"
   },
   {
    "duration": 7,
    "start_time": "2022-03-06T13:14:29.879Z"
   },
   {
    "duration": 10,
    "start_time": "2022-03-06T13:14:31.456Z"
   },
   {
    "duration": 7,
    "start_time": "2022-03-06T13:14:31.757Z"
   },
   {
    "duration": 202,
    "start_time": "2022-03-06T13:14:33.974Z"
   },
   {
    "duration": 217,
    "start_time": "2022-03-06T13:14:35.438Z"
   },
   {
    "duration": 160,
    "start_time": "2022-03-06T13:14:36.875Z"
   },
   {
    "duration": 327,
    "start_time": "2022-03-06T13:14:38.476Z"
   },
   {
    "duration": 215,
    "start_time": "2022-03-06T13:14:40.059Z"
   },
   {
    "duration": 158,
    "start_time": "2022-03-06T13:14:41.488Z"
   },
   {
    "duration": 201,
    "start_time": "2022-03-06T13:14:43.288Z"
   },
   {
    "duration": 218,
    "start_time": "2022-03-06T13:14:44.626Z"
   },
   {
    "duration": 168,
    "start_time": "2022-03-06T13:14:46.314Z"
   },
   {
    "duration": 13,
    "start_time": "2022-03-06T13:14:50.596Z"
   },
   {
    "duration": 4,
    "start_time": "2022-03-06T13:14:51.112Z"
   },
   {
    "duration": 13,
    "start_time": "2022-03-06T13:14:53.902Z"
   },
   {
    "duration": 4,
    "start_time": "2022-03-06T13:14:54.370Z"
   },
   {
    "duration": 347,
    "start_time": "2022-03-07T10:46:55.061Z"
   },
   {
    "duration": 2012,
    "start_time": "2022-03-07T10:46:56.956Z"
   },
   {
    "duration": 83,
    "start_time": "2022-03-07T10:46:58.974Z"
   },
   {
    "duration": 421,
    "start_time": "2022-03-07T11:03:26.845Z"
   },
   {
    "duration": 5,
    "start_time": "2022-03-07T11:03:53.018Z"
   },
   {
    "duration": 78,
    "start_time": "2022-03-07T11:03:53.029Z"
   },
   {
    "duration": 4,
    "start_time": "2022-03-07T11:03:53.109Z"
   },
   {
    "duration": 19,
    "start_time": "2022-03-07T11:03:53.116Z"
   },
   {
    "duration": 44,
    "start_time": "2022-03-07T11:03:53.138Z"
   },
   {
    "duration": 12,
    "start_time": "2022-03-07T11:03:53.185Z"
   },
   {
    "duration": 20,
    "start_time": "2022-03-07T11:03:53.199Z"
   },
   {
    "duration": 37,
    "start_time": "2022-03-07T11:03:56.389Z"
   },
   {
    "duration": 4,
    "start_time": "2022-03-07T11:04:09.758Z"
   },
   {
    "duration": 101,
    "start_time": "2022-03-07T11:04:09.766Z"
   },
   {
    "duration": 4,
    "start_time": "2022-03-07T11:04:09.875Z"
   },
   {
    "duration": 19,
    "start_time": "2022-03-07T11:04:09.883Z"
   },
   {
    "duration": 28,
    "start_time": "2022-03-07T11:04:09.904Z"
   },
   {
    "duration": 51,
    "start_time": "2022-03-07T11:04:09.935Z"
   },
   {
    "duration": 29,
    "start_time": "2022-03-07T11:04:09.990Z"
   },
   {
    "duration": 90,
    "start_time": "2022-03-07T11:04:10.023Z"
   },
   {
    "duration": 1160,
    "start_time": "2022-03-07T11:06:10.837Z"
   },
   {
    "duration": 4,
    "start_time": "2022-03-07T11:06:59.791Z"
   },
   {
    "duration": 79,
    "start_time": "2022-03-07T11:06:59.798Z"
   },
   {
    "duration": 5,
    "start_time": "2022-03-07T11:06:59.881Z"
   },
   {
    "duration": 24,
    "start_time": "2022-03-07T11:06:59.888Z"
   },
   {
    "duration": 21,
    "start_time": "2022-03-07T11:06:59.914Z"
   },
   {
    "duration": 12,
    "start_time": "2022-03-07T11:06:59.973Z"
   },
   {
    "duration": 24,
    "start_time": "2022-03-07T11:06:59.989Z"
   },
   {
    "duration": 92,
    "start_time": "2022-03-07T11:07:00.017Z"
   },
   {
    "duration": 788,
    "start_time": "2022-03-07T11:07:00.112Z"
   },
   {
    "duration": 12,
    "start_time": "2022-03-07T11:07:00.902Z"
   },
   {
    "duration": 318,
    "start_time": "2022-03-07T11:07:00.916Z"
   },
   {
    "duration": 340,
    "start_time": "2022-03-07T11:07:01.236Z"
   },
   {
    "duration": 309,
    "start_time": "2022-03-07T11:07:01.579Z"
   },
   {
    "duration": 317,
    "start_time": "2022-03-07T11:07:01.891Z"
   },
   {
    "duration": 312,
    "start_time": "2022-03-07T11:07:02.210Z"
   },
   {
    "duration": 26,
    "start_time": "2022-03-07T11:07:02.524Z"
   },
   {
    "duration": 24,
    "start_time": "2022-03-07T11:07:02.552Z"
   },
   {
    "duration": 316,
    "start_time": "2022-03-07T11:07:02.579Z"
   },
   {
    "duration": 4,
    "start_time": "2022-03-07T11:07:02.901Z"
   },
   {
    "duration": 400,
    "start_time": "2022-03-07T11:07:05.902Z"
   },
   {
    "duration": 782,
    "start_time": "2022-03-07T11:07:31.742Z"
   },
   {
    "duration": 5,
    "start_time": "2022-03-07T11:08:55.664Z"
   },
   {
    "duration": 802,
    "start_time": "2022-03-07T11:21:34.179Z"
   },
   {
    "duration": 754,
    "start_time": "2022-03-07T11:22:04.358Z"
   },
   {
    "duration": 983,
    "start_time": "2022-03-07T11:22:15.356Z"
   },
   {
    "duration": 956,
    "start_time": "2022-03-07T11:22:24.551Z"
   },
   {
    "duration": 883,
    "start_time": "2022-03-07T11:22:33.735Z"
   },
   {
    "duration": 896,
    "start_time": "2022-03-07T11:22:37.955Z"
   },
   {
    "duration": 903,
    "start_time": "2022-03-07T11:22:49.959Z"
   },
   {
    "duration": 382,
    "start_time": "2022-03-07T11:24:17.534Z"
   },
   {
    "duration": 1160,
    "start_time": "2022-03-07T11:24:37.058Z"
   },
   {
    "duration": 898,
    "start_time": "2022-03-07T11:24:47.779Z"
   },
   {
    "duration": 911,
    "start_time": "2022-03-07T11:25:39.999Z"
   },
   {
    "duration": 895,
    "start_time": "2022-03-07T11:28:30.621Z"
   },
   {
    "duration": 876,
    "start_time": "2022-03-07T11:35:47.536Z"
   },
   {
    "duration": 1000,
    "start_time": "2022-03-07T11:36:04.730Z"
   },
   {
    "duration": 839,
    "start_time": "2022-03-07T11:36:10.446Z"
   },
   {
    "duration": 8,
    "start_time": "2022-03-07T12:36:45.118Z"
   },
   {
    "duration": 4,
    "start_time": "2022-03-07T12:36:50.315Z"
   },
   {
    "duration": 89,
    "start_time": "2022-03-07T12:36:50.322Z"
   },
   {
    "duration": 5,
    "start_time": "2022-03-07T12:36:50.415Z"
   },
   {
    "duration": 24,
    "start_time": "2022-03-07T12:36:50.423Z"
   },
   {
    "duration": 21,
    "start_time": "2022-03-07T12:36:50.474Z"
   },
   {
    "duration": 13,
    "start_time": "2022-03-07T12:36:50.497Z"
   },
   {
    "duration": 18,
    "start_time": "2022-03-07T12:36:50.514Z"
   },
   {
    "duration": 70,
    "start_time": "2022-03-07T12:36:50.535Z"
   },
   {
    "duration": 465,
    "start_time": "2022-03-07T12:36:50.608Z"
   },
   {
    "duration": 12,
    "start_time": "2022-03-07T12:36:51.075Z"
   },
   {
    "duration": 320,
    "start_time": "2022-03-07T12:36:51.089Z"
   },
   {
    "duration": 323,
    "start_time": "2022-03-07T12:36:51.412Z"
   },
   {
    "duration": 311,
    "start_time": "2022-03-07T12:36:51.737Z"
   },
   {
    "duration": 317,
    "start_time": "2022-03-07T12:36:52.050Z"
   },
   {
    "duration": 308,
    "start_time": "2022-03-07T12:36:52.373Z"
   },
   {
    "duration": 24,
    "start_time": "2022-03-07T12:36:52.683Z"
   },
   {
    "duration": 9,
    "start_time": "2022-03-07T12:36:52.709Z"
   },
   {
    "duration": 337,
    "start_time": "2022-03-07T12:36:52.720Z"
   },
   {
    "duration": 11,
    "start_time": "2022-03-07T12:36:53.062Z"
   },
   {
    "duration": 1070,
    "start_time": "2022-03-07T12:36:53.076Z"
   },
   {
    "duration": 7,
    "start_time": "2022-03-07T12:36:54.149Z"
   },
   {
    "duration": 6,
    "start_time": "2022-03-07T12:36:57.230Z"
   },
   {
    "duration": 12,
    "start_time": "2022-03-07T12:38:41.921Z"
   },
   {
    "duration": 424,
    "start_time": "2022-03-07T12:39:04.523Z"
   },
   {
    "duration": 316,
    "start_time": "2022-03-07T12:42:49.283Z"
   },
   {
    "duration": 299,
    "start_time": "2022-03-07T12:43:00.907Z"
   },
   {
    "duration": 424,
    "start_time": "2022-03-07T12:43:11.352Z"
   },
   {
    "duration": 478,
    "start_time": "2022-03-07T12:43:28.050Z"
   },
   {
    "duration": 517,
    "start_time": "2022-03-07T12:43:33.307Z"
   },
   {
    "duration": 497,
    "start_time": "2022-03-07T12:45:58.342Z"
   },
   {
    "duration": 557,
    "start_time": "2022-03-07T12:46:38.974Z"
   },
   {
    "duration": 990,
    "start_time": "2022-03-07T12:53:35.499Z"
   },
   {
    "duration": 1000,
    "start_time": "2022-03-07T12:53:45.996Z"
   },
   {
    "duration": 10,
    "start_time": "2022-03-07T13:03:40.303Z"
   },
   {
    "duration": 10,
    "start_time": "2022-03-07T13:03:52.669Z"
   },
   {
    "duration": 414,
    "start_time": "2022-03-07T13:29:31.188Z"
   },
   {
    "duration": 294,
    "start_time": "2022-03-07T13:30:50.336Z"
   },
   {
    "duration": 10,
    "start_time": "2022-03-07T13:30:56.810Z"
   },
   {
    "duration": 6,
    "start_time": "2022-03-07T13:31:00.342Z"
   },
   {
    "duration": 1897,
    "start_time": "2022-03-07T13:31:19.777Z"
   },
   {
    "duration": 87,
    "start_time": "2022-03-07T13:31:21.677Z"
   },
   {
    "duration": 7,
    "start_time": "2022-03-07T13:31:21.767Z"
   },
   {
    "duration": 22,
    "start_time": "2022-03-07T13:31:21.776Z"
   },
   {
    "duration": 20,
    "start_time": "2022-03-07T13:31:21.800Z"
   },
   {
    "duration": 11,
    "start_time": "2022-03-07T13:31:21.822Z"
   },
   {
    "duration": 57,
    "start_time": "2022-03-07T13:31:21.835Z"
   },
   {
    "duration": 76,
    "start_time": "2022-03-07T13:31:21.897Z"
   },
   {
    "duration": 453,
    "start_time": "2022-03-07T13:31:21.978Z"
   },
   {
    "duration": 12,
    "start_time": "2022-03-07T13:31:22.433Z"
   },
   {
    "duration": 474,
    "start_time": "2022-03-07T13:31:22.448Z"
   },
   {
    "duration": 336,
    "start_time": "2022-03-07T13:31:22.925Z"
   },
   {
    "duration": 303,
    "start_time": "2022-03-07T13:31:23.263Z"
   },
   {
    "duration": 316,
    "start_time": "2022-03-07T13:31:23.573Z"
   },
   {
    "duration": 328,
    "start_time": "2022-03-07T13:31:23.892Z"
   },
   {
    "duration": 25,
    "start_time": "2022-03-07T13:31:24.223Z"
   },
   {
    "duration": 23,
    "start_time": "2022-03-07T13:31:24.250Z"
   },
   {
    "duration": 308,
    "start_time": "2022-03-07T13:31:24.276Z"
   },
   {
    "duration": 3,
    "start_time": "2022-03-07T13:31:24.587Z"
   },
   {
    "duration": 1155,
    "start_time": "2022-03-07T13:31:24.592Z"
   },
   {
    "duration": 1245,
    "start_time": "2022-03-07T13:31:25.750Z"
   },
   {
    "duration": 10,
    "start_time": "2022-03-07T13:31:26.999Z"
   },
   {
    "duration": 19,
    "start_time": "2022-03-07T13:31:27.015Z"
   },
   {
    "duration": 44,
    "start_time": "2022-03-07T13:31:27.039Z"
   },
   {
    "duration": 547,
    "start_time": "2022-03-07T13:31:27.086Z"
   },
   {
    "duration": 1251,
    "start_time": "2022-03-07T13:31:27.637Z"
   },
   {
    "duration": 441,
    "start_time": "2022-03-07T13:31:28.890Z"
   },
   {
    "duration": 7,
    "start_time": "2022-03-07T13:31:29.333Z"
   },
   {
    "duration": 8,
    "start_time": "2022-03-07T13:31:29.342Z"
   },
   {
    "duration": 30,
    "start_time": "2022-03-07T13:31:29.354Z"
   },
   {
    "duration": 594,
    "start_time": "2022-03-07T13:31:29.387Z"
   },
   {
    "duration": 6,
    "start_time": "2022-03-07T13:31:29.984Z"
   },
   {
    "duration": 10,
    "start_time": "2022-03-07T13:36:14.893Z"
   },
   {
    "duration": 463,
    "start_time": "2022-03-07T13:37:52.696Z"
   },
   {
    "duration": 488,
    "start_time": "2022-03-07T13:38:04.863Z"
   },
   {
    "duration": 11,
    "start_time": "2022-03-07T13:38:43.238Z"
   },
   {
    "duration": 5,
    "start_time": "2022-03-07T13:39:07.047Z"
   },
   {
    "duration": 4,
    "start_time": "2022-03-07T13:40:13.001Z"
   },
   {
    "duration": 3,
    "start_time": "2022-03-07T13:40:13.195Z"
   },
   {
    "duration": 11,
    "start_time": "2022-03-07T13:42:05.378Z"
   },
   {
    "duration": 598,
    "start_time": "2022-03-07T13:42:34.649Z"
   },
   {
    "duration": 13,
    "start_time": "2022-03-07T13:42:50.241Z"
   },
   {
    "duration": 12,
    "start_time": "2022-03-07T13:42:51.895Z"
   },
   {
    "duration": 13,
    "start_time": "2022-03-07T13:42:52.381Z"
   },
   {
    "duration": 6,
    "start_time": "2022-03-07T13:46:01.808Z"
   },
   {
    "duration": 5,
    "start_time": "2022-03-07T13:46:01.994Z"
   },
   {
    "duration": 5,
    "start_time": "2022-03-07T13:46:02.162Z"
   },
   {
    "duration": 7,
    "start_time": "2022-03-07T13:46:03.200Z"
   },
   {
    "duration": 1756,
    "start_time": "2022-03-07T15:38:34.763Z"
   },
   {
    "duration": 80,
    "start_time": "2022-03-07T15:38:36.522Z"
   },
   {
    "duration": 5,
    "start_time": "2022-03-07T15:38:36.606Z"
   },
   {
    "duration": 43,
    "start_time": "2022-03-07T15:38:36.614Z"
   },
   {
    "duration": 21,
    "start_time": "2022-03-07T15:38:36.660Z"
   },
   {
    "duration": 12,
    "start_time": "2022-03-07T15:38:36.684Z"
   },
   {
    "duration": 61,
    "start_time": "2022-03-07T15:38:36.699Z"
   },
   {
    "duration": 38,
    "start_time": "2022-03-07T15:38:36.764Z"
   },
   {
    "duration": 467,
    "start_time": "2022-03-07T15:38:36.805Z"
   },
   {
    "duration": 12,
    "start_time": "2022-03-07T15:38:37.275Z"
   },
   {
    "duration": 309,
    "start_time": "2022-03-07T15:38:37.289Z"
   },
   {
    "duration": 309,
    "start_time": "2022-03-07T15:38:37.600Z"
   },
   {
    "duration": 299,
    "start_time": "2022-03-07T15:38:37.911Z"
   },
   {
    "duration": 289,
    "start_time": "2022-03-07T15:38:38.212Z"
   },
   {
    "duration": 294,
    "start_time": "2022-03-07T15:38:38.504Z"
   },
   {
    "duration": 24,
    "start_time": "2022-03-07T15:38:38.801Z"
   },
   {
    "duration": 24,
    "start_time": "2022-03-07T15:38:38.827Z"
   },
   {
    "duration": 279,
    "start_time": "2022-03-07T15:38:38.853Z"
   },
   {
    "duration": 3,
    "start_time": "2022-03-07T15:38:39.134Z"
   },
   {
    "duration": 1027,
    "start_time": "2022-03-07T15:38:39.139Z"
   },
   {
    "duration": 973,
    "start_time": "2022-03-07T15:38:40.170Z"
   },
   {
    "duration": 13,
    "start_time": "2022-03-07T15:38:41.146Z"
   },
   {
    "duration": 6,
    "start_time": "2022-03-07T15:38:41.165Z"
   },
   {
    "duration": 9,
    "start_time": "2022-03-07T15:38:41.174Z"
   },
   {
    "duration": 669,
    "start_time": "2022-03-07T15:38:41.185Z"
   },
   {
    "duration": 1358,
    "start_time": "2022-03-07T15:38:41.857Z"
   },
   {
    "duration": 498,
    "start_time": "2022-03-07T15:38:43.218Z"
   },
   {
    "duration": 3,
    "start_time": "2022-03-07T15:38:43.719Z"
   },
   {
    "duration": 5,
    "start_time": "2022-03-07T15:38:43.724Z"
   },
   {
    "duration": 28,
    "start_time": "2022-03-07T15:38:43.731Z"
   },
   {
    "duration": 435,
    "start_time": "2022-03-07T15:38:43.762Z"
   },
   {
    "duration": 5,
    "start_time": "2022-03-07T15:38:44.200Z"
   },
   {
    "duration": 11,
    "start_time": "2022-03-07T15:38:44.207Z"
   },
   {
    "duration": 39,
    "start_time": "2022-03-07T15:38:44.220Z"
   },
   {
    "duration": 9,
    "start_time": "2022-03-07T15:38:44.261Z"
   },
   {
    "duration": 8,
    "start_time": "2022-03-07T15:38:44.273Z"
   },
   {
    "duration": 6,
    "start_time": "2022-03-07T15:38:44.284Z"
   },
   {
    "duration": 6,
    "start_time": "2022-03-07T15:38:44.292Z"
   },
   {
    "duration": 54,
    "start_time": "2022-03-07T15:38:44.300Z"
   },
   {
    "duration": 6,
    "start_time": "2022-03-07T15:38:44.356Z"
   },
   {
    "duration": 15,
    "start_time": "2022-03-07T15:38:44.365Z"
   },
   {
    "duration": 9,
    "start_time": "2022-03-07T15:38:44.382Z"
   },
   {
    "duration": 373,
    "start_time": "2022-03-07T15:38:44.394Z"
   },
   {
    "duration": 382,
    "start_time": "2022-03-07T15:38:44.769Z"
   },
   {
    "duration": 283,
    "start_time": "2022-03-07T15:38:45.153Z"
   },
   {
    "duration": 357,
    "start_time": "2022-03-07T15:38:45.438Z"
   },
   {
    "duration": 410,
    "start_time": "2022-03-07T15:38:45.797Z"
   },
   {
    "duration": 275,
    "start_time": "2022-03-07T15:38:46.210Z"
   },
   {
    "duration": 354,
    "start_time": "2022-03-07T15:38:46.487Z"
   },
   {
    "duration": 383,
    "start_time": "2022-03-07T15:38:46.851Z"
   },
   {
    "duration": 273,
    "start_time": "2022-03-07T15:38:47.236Z"
   },
   {
    "duration": 17,
    "start_time": "2022-03-07T15:38:47.511Z"
   },
   {
    "duration": 22,
    "start_time": "2022-03-07T15:38:47.531Z"
   },
   {
    "duration": 17,
    "start_time": "2022-03-07T15:38:47.555Z"
   },
   {
    "duration": 6,
    "start_time": "2022-03-07T15:38:47.575Z"
   },
   {
    "duration": 554,
    "start_time": "2022-03-07T15:49:54.576Z"
   },
   {
    "duration": 529,
    "start_time": "2022-03-07T15:49:56.932Z"
   },
   {
    "duration": 645,
    "start_time": "2022-03-07T15:50:06.854Z"
   },
   {
    "duration": 698,
    "start_time": "2022-03-07T15:52:07.403Z"
   },
   {
    "duration": 539,
    "start_time": "2022-03-07T15:52:20.561Z"
   },
   {
    "duration": 590,
    "start_time": "2022-03-07T15:52:40.380Z"
   },
   {
    "duration": 646,
    "start_time": "2022-03-07T15:52:45.930Z"
   },
   {
    "duration": 657,
    "start_time": "2022-03-07T15:53:29.587Z"
   },
   {
    "duration": 18,
    "start_time": "2022-03-07T15:53:34.294Z"
   },
   {
    "duration": 11,
    "start_time": "2022-03-07T15:53:38.440Z"
   },
   {
    "duration": 7099,
    "start_time": "2022-03-07T16:22:30.467Z"
   },
   {
    "duration": 9,
    "start_time": "2022-03-07T16:22:44.269Z"
   },
   {
    "duration": 8,
    "start_time": "2022-03-07T16:22:48.931Z"
   },
   {
    "duration": 6,
    "start_time": "2022-03-07T16:22:53.550Z"
   },
   {
    "duration": 8,
    "start_time": "2022-03-07T16:23:39.202Z"
   },
   {
    "duration": 256,
    "start_time": "2022-03-07T16:23:54.590Z"
   },
   {
    "duration": 248,
    "start_time": "2022-03-07T16:24:27.387Z"
   },
   {
    "duration": 1788,
    "start_time": "2022-03-07T16:25:05.163Z"
   },
   {
    "duration": 84,
    "start_time": "2022-03-07T16:25:06.954Z"
   },
   {
    "duration": 10,
    "start_time": "2022-03-07T16:25:07.042Z"
   },
   {
    "duration": 20,
    "start_time": "2022-03-07T16:25:07.055Z"
   },
   {
    "duration": 22,
    "start_time": "2022-03-07T16:25:07.078Z"
   },
   {
    "duration": 49,
    "start_time": "2022-03-07T16:25:07.102Z"
   },
   {
    "duration": 21,
    "start_time": "2022-03-07T16:25:07.154Z"
   },
   {
    "duration": 81,
    "start_time": "2022-03-07T16:25:07.179Z"
   },
   {
    "duration": 829,
    "start_time": "2022-03-07T16:25:07.264Z"
   },
   {
    "duration": 12,
    "start_time": "2022-03-07T16:25:08.096Z"
   },
   {
    "duration": 303,
    "start_time": "2022-03-07T16:25:08.111Z"
   },
   {
    "duration": 308,
    "start_time": "2022-03-07T16:25:08.417Z"
   },
   {
    "duration": 291,
    "start_time": "2022-03-07T16:25:08.728Z"
   },
   {
    "duration": 299,
    "start_time": "2022-03-07T16:25:09.022Z"
   },
   {
    "duration": 290,
    "start_time": "2022-03-07T16:25:09.323Z"
   },
   {
    "duration": 36,
    "start_time": "2022-03-07T16:25:09.616Z"
   },
   {
    "duration": 8,
    "start_time": "2022-03-07T16:25:09.654Z"
   },
   {
    "duration": 303,
    "start_time": "2022-03-07T16:25:09.664Z"
   },
   {
    "duration": 3,
    "start_time": "2022-03-07T16:25:09.969Z"
   },
   {
    "duration": 997,
    "start_time": "2022-03-07T16:25:09.975Z"
   },
   {
    "duration": 946,
    "start_time": "2022-03-07T16:25:10.974Z"
   },
   {
    "duration": 7,
    "start_time": "2022-03-07T16:25:11.922Z"
   },
   {
    "duration": 6,
    "start_time": "2022-03-07T16:25:11.952Z"
   },
   {
    "duration": 11,
    "start_time": "2022-03-07T16:25:11.961Z"
   },
   {
    "duration": 514,
    "start_time": "2022-03-07T16:25:11.975Z"
   },
   {
    "duration": 1094,
    "start_time": "2022-03-07T16:25:12.491Z"
   },
   {
    "duration": 492,
    "start_time": "2022-03-07T16:25:13.588Z"
   },
   {
    "duration": 3,
    "start_time": "2022-03-07T16:25:14.082Z"
   },
   {
    "duration": 4,
    "start_time": "2022-03-07T16:25:14.088Z"
   },
   {
    "duration": 14,
    "start_time": "2022-03-07T16:25:14.094Z"
   },
   {
    "duration": 459,
    "start_time": "2022-03-07T16:25:14.110Z"
   },
   {
    "duration": 5,
    "start_time": "2022-03-07T16:25:14.572Z"
   },
   {
    "duration": 10,
    "start_time": "2022-03-07T16:25:14.580Z"
   },
   {
    "duration": 9,
    "start_time": "2022-03-07T16:25:14.593Z"
   },
   {
    "duration": 49,
    "start_time": "2022-03-07T16:25:14.605Z"
   },
   {
    "duration": 10,
    "start_time": "2022-03-07T16:25:14.656Z"
   },
   {
    "duration": 6,
    "start_time": "2022-03-07T16:25:14.669Z"
   },
   {
    "duration": 6,
    "start_time": "2022-03-07T16:25:14.677Z"
   },
   {
    "duration": 6,
    "start_time": "2022-03-07T16:25:14.685Z"
   },
   {
    "duration": 60,
    "start_time": "2022-03-07T16:25:14.693Z"
   },
   {
    "duration": 17,
    "start_time": "2022-03-07T16:25:14.755Z"
   },
   {
    "duration": 10,
    "start_time": "2022-03-07T16:25:14.774Z"
   },
   {
    "duration": 657,
    "start_time": "2022-03-07T16:25:14.786Z"
   },
   {
    "duration": 339,
    "start_time": "2022-03-07T16:25:15.450Z"
   },
   {
    "duration": 395,
    "start_time": "2022-03-07T16:25:15.792Z"
   },
   {
    "duration": 274,
    "start_time": "2022-03-07T16:25:16.190Z"
   },
   {
    "duration": 341,
    "start_time": "2022-03-07T16:25:16.466Z"
   },
   {
    "duration": 388,
    "start_time": "2022-03-07T16:25:16.810Z"
   },
   {
    "duration": 270,
    "start_time": "2022-03-07T16:25:17.200Z"
   },
   {
    "duration": 338,
    "start_time": "2022-03-07T16:25:17.472Z"
   },
   {
    "duration": 382,
    "start_time": "2022-03-07T16:25:17.812Z"
   },
   {
    "duration": 263,
    "start_time": "2022-03-07T16:25:18.196Z"
   },
   {
    "duration": 16,
    "start_time": "2022-03-07T16:25:18.461Z"
   },
   {
    "duration": 7,
    "start_time": "2022-03-07T16:25:18.480Z"
   },
   {
    "duration": 16,
    "start_time": "2022-03-07T16:25:18.489Z"
   },
   {
    "duration": 4,
    "start_time": "2022-03-07T16:25:18.508Z"
   },
   {
    "duration": 34,
    "start_time": "2022-03-07T16:39:07.367Z"
   },
   {
    "duration": 8,
    "start_time": "2022-03-07T16:39:20.158Z"
   },
   {
    "duration": 8,
    "start_time": "2022-03-07T16:39:31.082Z"
   },
   {
    "duration": 6,
    "start_time": "2022-03-07T16:40:11.644Z"
   },
   {
    "duration": 496,
    "start_time": "2022-03-07T16:40:23.618Z"
   },
   {
    "duration": 19,
    "start_time": "2022-03-07T16:40:52.504Z"
   },
   {
    "duration": 8,
    "start_time": "2022-03-07T16:41:12.960Z"
   },
   {
    "duration": 19,
    "start_time": "2022-03-07T16:41:18.678Z"
   },
   {
    "duration": 8,
    "start_time": "2022-03-07T16:41:29.202Z"
   },
   {
    "duration": 18,
    "start_time": "2022-03-07T16:41:31.656Z"
   },
   {
    "duration": 8,
    "start_time": "2022-03-07T16:41:40.910Z"
   },
   {
    "duration": 6,
    "start_time": "2022-03-07T16:41:48.651Z"
   },
   {
    "duration": 19,
    "start_time": "2022-03-07T16:41:50.857Z"
   },
   {
    "duration": 20,
    "start_time": "2022-03-07T16:42:22.413Z"
   },
   {
    "duration": 321,
    "start_time": "2022-03-07T16:42:27.223Z"
   },
   {
    "duration": 24,
    "start_time": "2022-03-07T16:42:31.363Z"
   },
   {
    "duration": 330,
    "start_time": "2022-03-07T16:42:42.177Z"
   },
   {
    "duration": 396,
    "start_time": "2022-03-07T16:42:45.805Z"
   },
   {
    "duration": 283,
    "start_time": "2022-03-07T16:42:48.433Z"
   },
   {
    "duration": 292,
    "start_time": "2022-03-07T16:48:18.863Z"
   },
   {
    "duration": 258,
    "start_time": "2022-03-07T16:48:34.972Z"
   },
   {
    "duration": 4,
    "start_time": "2022-03-07T16:50:41.201Z"
   },
   {
    "duration": 79,
    "start_time": "2022-03-07T16:50:41.208Z"
   },
   {
    "duration": 4,
    "start_time": "2022-03-07T16:50:41.290Z"
   },
   {
    "duration": 19,
    "start_time": "2022-03-07T16:50:41.297Z"
   },
   {
    "duration": 23,
    "start_time": "2022-03-07T16:50:41.352Z"
   },
   {
    "duration": 11,
    "start_time": "2022-03-07T16:50:41.377Z"
   },
   {
    "duration": 64,
    "start_time": "2022-03-07T16:50:41.391Z"
   },
   {
    "duration": 44,
    "start_time": "2022-03-07T16:50:41.458Z"
   },
   {
    "duration": 448,
    "start_time": "2022-03-07T16:50:41.504Z"
   },
   {
    "duration": 11,
    "start_time": "2022-03-07T16:50:41.955Z"
   },
   {
    "duration": 308,
    "start_time": "2022-03-07T16:50:41.968Z"
   },
   {
    "duration": 488,
    "start_time": "2022-03-07T16:50:42.278Z"
   },
   {
    "duration": 287,
    "start_time": "2022-03-07T16:50:42.768Z"
   },
   {
    "duration": 311,
    "start_time": "2022-03-07T16:50:43.058Z"
   },
   {
    "duration": 301,
    "start_time": "2022-03-07T16:50:43.372Z"
   },
   {
    "duration": 24,
    "start_time": "2022-03-07T16:50:43.675Z"
   },
   {
    "duration": 7,
    "start_time": "2022-03-07T16:50:43.701Z"
   },
   {
    "duration": 312,
    "start_time": "2022-03-07T16:50:43.710Z"
   },
   {
    "duration": 3,
    "start_time": "2022-03-07T16:50:44.028Z"
   },
   {
    "duration": 396,
    "start_time": "2022-03-07T16:50:44.034Z"
   },
   {
    "duration": 823,
    "start_time": "2022-03-07T16:50:44.432Z"
   },
   {
    "duration": 7,
    "start_time": "2022-03-07T16:50:45.257Z"
   },
   {
    "duration": 13,
    "start_time": "2022-03-07T16:50:45.266Z"
   },
   {
    "duration": 12,
    "start_time": "2022-03-07T16:50:45.281Z"
   },
   {
    "duration": 523,
    "start_time": "2022-03-07T16:50:45.296Z"
   },
   {
    "duration": 1145,
    "start_time": "2022-03-07T16:50:45.822Z"
   },
   {
    "duration": 430,
    "start_time": "2022-03-07T16:50:46.970Z"
   },
   {
    "duration": 3,
    "start_time": "2022-03-07T16:50:47.402Z"
   },
   {
    "duration": 6,
    "start_time": "2022-03-07T16:50:47.407Z"
   },
   {
    "duration": 11,
    "start_time": "2022-03-07T16:50:47.415Z"
   },
   {
    "duration": 438,
    "start_time": "2022-03-07T16:50:47.452Z"
   },
   {
    "duration": 6,
    "start_time": "2022-03-07T16:50:47.893Z"
   },
   {
    "duration": 11,
    "start_time": "2022-03-07T16:50:47.902Z"
   },
   {
    "duration": 41,
    "start_time": "2022-03-07T16:50:47.915Z"
   },
   {
    "duration": 10,
    "start_time": "2022-03-07T16:50:47.958Z"
   },
   {
    "duration": 10,
    "start_time": "2022-03-07T16:50:47.970Z"
   },
   {
    "duration": 8,
    "start_time": "2022-03-07T16:50:47.982Z"
   },
   {
    "duration": 8,
    "start_time": "2022-03-07T16:50:47.992Z"
   },
   {
    "duration": 10,
    "start_time": "2022-03-07T16:50:48.002Z"
   },
   {
    "duration": 6,
    "start_time": "2022-03-07T16:50:48.051Z"
   },
   {
    "duration": 15,
    "start_time": "2022-03-07T16:50:48.059Z"
   },
   {
    "duration": 11,
    "start_time": "2022-03-07T16:50:48.076Z"
   },
   {
    "duration": 656,
    "start_time": "2022-03-07T16:50:48.090Z"
   },
   {
    "duration": 6,
    "start_time": "2022-03-07T16:50:48.751Z"
   },
   {
    "duration": 343,
    "start_time": "2022-03-07T16:50:48.760Z"
   },
   {
    "duration": 394,
    "start_time": "2022-03-07T16:50:49.107Z"
   },
   {
    "duration": 293,
    "start_time": "2022-03-07T16:50:49.504Z"
   },
   {
    "duration": 366,
    "start_time": "2022-03-07T16:50:49.799Z"
   },
   {
    "duration": 394,
    "start_time": "2022-03-07T16:50:50.168Z"
   },
   {
    "duration": 295,
    "start_time": "2022-03-07T16:50:50.564Z"
   },
   {
    "duration": 334,
    "start_time": "2022-03-07T16:50:50.861Z"
   },
   {
    "duration": 496,
    "start_time": "2022-03-07T16:50:51.198Z"
   },
   {
    "duration": 297,
    "start_time": "2022-03-07T16:50:51.697Z"
   },
   {
    "duration": 15,
    "start_time": "2022-03-07T16:57:02.987Z"
   },
   {
    "duration": 272,
    "start_time": "2022-03-07T16:57:22.145Z"
   },
   {
    "duration": 278,
    "start_time": "2022-03-07T16:57:24.414Z"
   },
   {
    "duration": 234,
    "start_time": "2022-03-07T16:57:34.311Z"
   },
   {
    "duration": 299,
    "start_time": "2022-03-07T16:57:44.633Z"
   },
   {
    "duration": 8,
    "start_time": "2022-03-07T16:58:02.320Z"
   },
   {
    "duration": 1823,
    "start_time": "2022-03-07T17:02:12.881Z"
   },
   {
    "duration": 80,
    "start_time": "2022-03-07T17:02:14.708Z"
   },
   {
    "duration": 5,
    "start_time": "2022-03-07T17:02:14.792Z"
   },
   {
    "duration": 19,
    "start_time": "2022-03-07T17:02:14.800Z"
   },
   {
    "duration": 48,
    "start_time": "2022-03-07T17:02:14.822Z"
   },
   {
    "duration": 12,
    "start_time": "2022-03-07T17:02:14.873Z"
   },
   {
    "duration": 17,
    "start_time": "2022-03-07T17:02:14.888Z"
   },
   {
    "duration": 69,
    "start_time": "2022-03-07T17:02:14.909Z"
   },
   {
    "duration": 456,
    "start_time": "2022-03-07T17:02:14.981Z"
   },
   {
    "duration": 16,
    "start_time": "2022-03-07T17:02:15.439Z"
   },
   {
    "duration": 304,
    "start_time": "2022-03-07T17:02:15.457Z"
   },
   {
    "duration": 319,
    "start_time": "2022-03-07T17:02:15.764Z"
   },
   {
    "duration": 284,
    "start_time": "2022-03-07T17:02:16.085Z"
   },
   {
    "duration": 295,
    "start_time": "2022-03-07T17:02:16.372Z"
   },
   {
    "duration": 295,
    "start_time": "2022-03-07T17:02:16.670Z"
   },
   {
    "duration": 23,
    "start_time": "2022-03-07T17:02:16.967Z"
   },
   {
    "duration": 6,
    "start_time": "2022-03-07T17:02:16.993Z"
   },
   {
    "duration": 309,
    "start_time": "2022-03-07T17:02:17.001Z"
   },
   {
    "duration": 2,
    "start_time": "2022-03-07T17:02:17.313Z"
   },
   {
    "duration": 1034,
    "start_time": "2022-03-07T17:02:17.317Z"
   },
   {
    "duration": 963,
    "start_time": "2022-03-07T17:02:18.353Z"
   },
   {
    "duration": 7,
    "start_time": "2022-03-07T17:02:19.319Z"
   },
   {
    "duration": 25,
    "start_time": "2022-03-07T17:02:19.332Z"
   },
   {
    "duration": 11,
    "start_time": "2022-03-07T17:02:19.360Z"
   },
   {
    "duration": 515,
    "start_time": "2022-03-07T17:02:19.374Z"
   },
   {
    "duration": 1113,
    "start_time": "2022-03-07T17:02:19.892Z"
   },
   {
    "duration": 471,
    "start_time": "2022-03-07T17:02:21.007Z"
   },
   {
    "duration": 3,
    "start_time": "2022-03-07T17:02:21.482Z"
   },
   {
    "duration": 18,
    "start_time": "2022-03-07T17:02:21.488Z"
   },
   {
    "duration": 31,
    "start_time": "2022-03-07T17:02:21.508Z"
   },
   {
    "duration": 505,
    "start_time": "2022-03-07T17:02:21.541Z"
   },
   {
    "duration": 5,
    "start_time": "2022-03-07T17:02:22.048Z"
   },
   {
    "duration": 24,
    "start_time": "2022-03-07T17:02:22.055Z"
   },
   {
    "duration": 36,
    "start_time": "2022-03-07T17:02:22.082Z"
   },
   {
    "duration": 39,
    "start_time": "2022-03-07T17:02:22.121Z"
   },
   {
    "duration": 43,
    "start_time": "2022-03-07T17:02:22.162Z"
   },
   {
    "duration": 8,
    "start_time": "2022-03-07T17:02:22.208Z"
   },
   {
    "duration": 13,
    "start_time": "2022-03-07T17:02:22.219Z"
   },
   {
    "duration": 44,
    "start_time": "2022-03-07T17:02:22.234Z"
   },
   {
    "duration": 49,
    "start_time": "2022-03-07T17:02:22.281Z"
   },
   {
    "duration": 32,
    "start_time": "2022-03-07T17:02:22.332Z"
   },
   {
    "duration": 31,
    "start_time": "2022-03-07T17:02:22.366Z"
   },
   {
    "duration": 637,
    "start_time": "2022-03-07T17:02:22.400Z"
   },
   {
    "duration": 14,
    "start_time": "2022-03-07T17:02:23.039Z"
   },
   {
    "duration": 344,
    "start_time": "2022-03-07T17:02:23.055Z"
   },
   {
    "duration": 389,
    "start_time": "2022-03-07T17:02:23.401Z"
   },
   {
    "duration": 388,
    "start_time": "2022-03-07T17:02:23.792Z"
   },
   {
    "duration": 332,
    "start_time": "2022-03-07T17:02:24.182Z"
   },
   {
    "duration": 436,
    "start_time": "2022-03-07T17:02:24.516Z"
   },
   {
    "duration": 361,
    "start_time": "2022-03-07T17:02:24.954Z"
   },
   {
    "duration": 333,
    "start_time": "2022-03-07T17:02:25.318Z"
   },
   {
    "duration": 403,
    "start_time": "2022-03-07T17:02:25.653Z"
   },
   {
    "duration": 314,
    "start_time": "2022-03-07T17:02:26.058Z"
   },
   {
    "duration": 16,
    "start_time": "2022-03-07T17:02:26.375Z"
   },
   {
    "duration": 57,
    "start_time": "2022-03-07T17:02:26.394Z"
   },
   {
    "duration": 19,
    "start_time": "2022-03-07T17:02:26.454Z"
   },
   {
    "duration": 7,
    "start_time": "2022-03-07T17:02:26.476Z"
   },
   {
    "duration": 357,
    "start_time": "2022-03-07T17:03:45.522Z"
   },
   {
    "duration": 89,
    "start_time": "2022-03-07T17:12:27.182Z"
   },
   {
    "duration": 103,
    "start_time": "2022-03-07T17:12:41.117Z"
   },
   {
    "duration": 89,
    "start_time": "2022-03-07T17:12:54.746Z"
   },
   {
    "duration": 101,
    "start_time": "2022-03-07T17:12:58.541Z"
   },
   {
    "duration": 85,
    "start_time": "2022-03-07T17:13:03.651Z"
   },
   {
    "duration": 120,
    "start_time": "2022-03-07T17:13:14.013Z"
   },
   {
    "duration": 128,
    "start_time": "2022-03-07T17:13:27.511Z"
   },
   {
    "duration": 86,
    "start_time": "2022-03-07T17:13:39.849Z"
   },
   {
    "duration": 89,
    "start_time": "2022-03-07T17:13:44.693Z"
   },
   {
    "duration": 1798,
    "start_time": "2022-03-07T17:14:44.221Z"
   },
   {
    "duration": 83,
    "start_time": "2022-03-07T17:14:46.021Z"
   },
   {
    "duration": 4,
    "start_time": "2022-03-07T17:14:46.107Z"
   },
   {
    "duration": 39,
    "start_time": "2022-03-07T17:14:46.113Z"
   },
   {
    "duration": 20,
    "start_time": "2022-03-07T17:14:46.154Z"
   },
   {
    "duration": 13,
    "start_time": "2022-03-07T17:14:46.177Z"
   },
   {
    "duration": 20,
    "start_time": "2022-03-07T17:14:46.193Z"
   },
   {
    "duration": 37,
    "start_time": "2022-03-07T17:14:46.253Z"
   },
   {
    "duration": 462,
    "start_time": "2022-03-07T17:14:46.294Z"
   },
   {
    "duration": 14,
    "start_time": "2022-03-07T17:14:46.759Z"
   },
   {
    "duration": 311,
    "start_time": "2022-03-07T17:14:46.775Z"
   },
   {
    "duration": 313,
    "start_time": "2022-03-07T17:14:47.088Z"
   },
   {
    "duration": 294,
    "start_time": "2022-03-07T17:14:47.403Z"
   },
   {
    "duration": 302,
    "start_time": "2022-03-07T17:14:47.699Z"
   },
   {
    "duration": 325,
    "start_time": "2022-03-07T17:14:48.005Z"
   },
   {
    "duration": 35,
    "start_time": "2022-03-07T17:14:48.333Z"
   },
   {
    "duration": 5,
    "start_time": "2022-03-07T17:14:48.371Z"
   },
   {
    "duration": 314,
    "start_time": "2022-03-07T17:14:48.379Z"
   },
   {
    "duration": 3,
    "start_time": "2022-03-07T17:14:48.695Z"
   },
   {
    "duration": 1083,
    "start_time": "2022-03-07T17:14:48.701Z"
   },
   {
    "duration": 978,
    "start_time": "2022-03-07T17:14:49.786Z"
   },
   {
    "duration": 8,
    "start_time": "2022-03-07T17:14:50.767Z"
   },
   {
    "duration": 7,
    "start_time": "2022-03-07T17:14:50.780Z"
   },
   {
    "duration": 9,
    "start_time": "2022-03-07T17:14:50.791Z"
   },
   {
    "duration": 558,
    "start_time": "2022-03-07T17:14:50.803Z"
   },
   {
    "duration": 1182,
    "start_time": "2022-03-07T17:14:51.364Z"
   },
   {
    "duration": 470,
    "start_time": "2022-03-07T17:14:52.548Z"
   },
   {
    "duration": 3,
    "start_time": "2022-03-07T17:14:53.020Z"
   },
   {
    "duration": 6,
    "start_time": "2022-03-07T17:14:53.026Z"
   },
   {
    "duration": 10,
    "start_time": "2022-03-07T17:14:53.051Z"
   },
   {
    "duration": 442,
    "start_time": "2022-03-07T17:14:53.064Z"
   },
   {
    "duration": 6,
    "start_time": "2022-03-07T17:14:53.508Z"
   },
   {
    "duration": 10,
    "start_time": "2022-03-07T17:14:53.516Z"
   },
   {
    "duration": 30,
    "start_time": "2022-03-07T17:14:53.528Z"
   },
   {
    "duration": 10,
    "start_time": "2022-03-07T17:14:53.561Z"
   },
   {
    "duration": 10,
    "start_time": "2022-03-07T17:14:53.573Z"
   },
   {
    "duration": 6,
    "start_time": "2022-03-07T17:14:53.585Z"
   },
   {
    "duration": 6,
    "start_time": "2022-03-07T17:14:53.593Z"
   },
   {
    "duration": 55,
    "start_time": "2022-03-07T17:14:53.601Z"
   },
   {
    "duration": 41,
    "start_time": "2022-03-07T17:14:53.658Z"
   },
   {
    "duration": 26,
    "start_time": "2022-03-07T17:14:53.701Z"
   },
   {
    "duration": 10,
    "start_time": "2022-03-07T17:14:53.729Z"
   },
   {
    "duration": 629,
    "start_time": "2022-03-07T17:14:53.742Z"
   },
   {
    "duration": 5,
    "start_time": "2022-03-07T17:14:54.374Z"
   },
   {
    "duration": 350,
    "start_time": "2022-03-07T17:14:54.381Z"
   },
   {
    "duration": 390,
    "start_time": "2022-03-07T17:14:54.733Z"
   },
   {
    "duration": 297,
    "start_time": "2022-03-07T17:14:55.125Z"
   },
   {
    "duration": 340,
    "start_time": "2022-03-07T17:14:55.425Z"
   },
   {
    "duration": 374,
    "start_time": "2022-03-07T17:14:55.768Z"
   },
   {
    "duration": 296,
    "start_time": "2022-03-07T17:14:56.145Z"
   },
   {
    "duration": 433,
    "start_time": "2022-03-07T17:14:56.451Z"
   },
   {
    "duration": 382,
    "start_time": "2022-03-07T17:14:56.886Z"
   },
   {
    "duration": 319,
    "start_time": "2022-03-07T17:14:57.271Z"
   },
   {
    "duration": 19,
    "start_time": "2022-03-07T17:14:57.592Z"
   },
   {
    "duration": 8,
    "start_time": "2022-03-07T17:14:57.614Z"
   },
   {
    "duration": 42,
    "start_time": "2022-03-07T17:14:57.626Z"
   },
   {
    "duration": 25,
    "start_time": "2022-03-07T17:14:57.671Z"
   },
   {
    "duration": 1725,
    "start_time": "2022-03-07T17:16:27.692Z"
   },
   {
    "duration": 82,
    "start_time": "2022-03-07T17:16:29.419Z"
   },
   {
    "duration": 4,
    "start_time": "2022-03-07T17:16:29.504Z"
   },
   {
    "duration": 17,
    "start_time": "2022-03-07T17:16:29.511Z"
   },
   {
    "duration": 19,
    "start_time": "2022-03-07T17:16:29.552Z"
   },
   {
    "duration": 14,
    "start_time": "2022-03-07T17:16:29.574Z"
   },
   {
    "duration": 17,
    "start_time": "2022-03-07T17:16:29.591Z"
   },
   {
    "duration": 71,
    "start_time": "2022-03-07T17:16:29.613Z"
   },
   {
    "duration": 468,
    "start_time": "2022-03-07T17:16:29.688Z"
   },
   {
    "duration": 12,
    "start_time": "2022-03-07T17:16:30.159Z"
   },
   {
    "duration": 316,
    "start_time": "2022-03-07T17:16:30.174Z"
   },
   {
    "duration": 488,
    "start_time": "2022-03-07T17:16:30.493Z"
   },
   {
    "duration": 420,
    "start_time": "2022-03-07T17:16:30.984Z"
   },
   {
    "duration": 311,
    "start_time": "2022-03-07T17:16:31.407Z"
   },
   {
    "duration": 346,
    "start_time": "2022-03-07T17:16:31.720Z"
   },
   {
    "duration": 26,
    "start_time": "2022-03-07T17:16:32.068Z"
   },
   {
    "duration": 7,
    "start_time": "2022-03-07T17:16:32.098Z"
   },
   {
    "duration": 322,
    "start_time": "2022-03-07T17:16:32.107Z"
   },
   {
    "duration": 956,
    "start_time": "2022-03-07T17:16:32.432Z"
   },
   {
    "duration": 8,
    "start_time": "2022-03-07T17:16:33.390Z"
   },
   {
    "duration": 10,
    "start_time": "2022-03-07T17:16:33.400Z"
   },
   {
    "duration": 40,
    "start_time": "2022-03-07T17:16:33.412Z"
   },
   {
    "duration": 502,
    "start_time": "2022-03-07T17:16:33.458Z"
   },
   {
    "duration": 965,
    "start_time": "2022-03-07T17:16:33.963Z"
   },
   {
    "duration": 483,
    "start_time": "2022-03-07T17:16:34.930Z"
   },
   {
    "duration": 4,
    "start_time": "2022-03-07T17:16:35.415Z"
   },
   {
    "duration": 8,
    "start_time": "2022-03-07T17:16:35.422Z"
   },
   {
    "duration": 25,
    "start_time": "2022-03-07T17:16:35.433Z"
   },
   {
    "duration": 438,
    "start_time": "2022-03-07T17:16:35.461Z"
   },
   {
    "duration": 6,
    "start_time": "2022-03-07T17:16:35.901Z"
   },
   {
    "duration": 13,
    "start_time": "2022-03-07T17:16:35.909Z"
   },
   {
    "duration": 33,
    "start_time": "2022-03-07T17:16:35.925Z"
   },
   {
    "duration": 9,
    "start_time": "2022-03-07T17:16:35.960Z"
   },
   {
    "duration": 9,
    "start_time": "2022-03-07T17:16:35.971Z"
   },
   {
    "duration": 5,
    "start_time": "2022-03-07T17:16:35.982Z"
   },
   {
    "duration": 6,
    "start_time": "2022-03-07T17:16:35.989Z"
   },
   {
    "duration": 6,
    "start_time": "2022-03-07T17:16:35.997Z"
   },
   {
    "duration": 5,
    "start_time": "2022-03-07T17:16:36.052Z"
   },
   {
    "duration": 20,
    "start_time": "2022-03-07T17:16:36.059Z"
   },
   {
    "duration": 10,
    "start_time": "2022-03-07T17:16:36.082Z"
   },
   {
    "duration": 660,
    "start_time": "2022-03-07T17:16:36.095Z"
   },
   {
    "duration": 6,
    "start_time": "2022-03-07T17:16:36.759Z"
   },
   {
    "duration": 437,
    "start_time": "2022-03-07T17:16:36.768Z"
   },
   {
    "duration": 408,
    "start_time": "2022-03-07T17:16:37.207Z"
   },
   {
    "duration": 288,
    "start_time": "2022-03-07T17:16:37.617Z"
   },
   {
    "duration": 453,
    "start_time": "2022-03-07T17:16:37.908Z"
   },
   {
    "duration": 381,
    "start_time": "2022-03-07T17:16:38.364Z"
   },
   {
    "duration": 275,
    "start_time": "2022-03-07T17:16:38.752Z"
   },
   {
    "duration": 330,
    "start_time": "2022-03-07T17:16:39.029Z"
   },
   {
    "duration": 377,
    "start_time": "2022-03-07T17:16:39.361Z"
   },
   {
    "duration": 282,
    "start_time": "2022-03-07T17:16:39.741Z"
   },
   {
    "duration": 25,
    "start_time": "2022-03-07T17:16:40.026Z"
   },
   {
    "duration": 6,
    "start_time": "2022-03-07T17:16:40.054Z"
   },
   {
    "duration": 18,
    "start_time": "2022-03-07T17:16:40.063Z"
   },
   {
    "duration": 6,
    "start_time": "2022-03-07T17:16:40.083Z"
   },
   {
    "duration": 1396,
    "start_time": "2022-03-07T21:00:53.679Z"
   },
   {
    "duration": 55,
    "start_time": "2022-03-07T21:00:55.077Z"
   },
   {
    "duration": 2,
    "start_time": "2022-03-07T21:00:55.134Z"
   },
   {
    "duration": 12,
    "start_time": "2022-03-07T21:00:55.138Z"
   },
   {
    "duration": 10,
    "start_time": "2022-03-07T21:00:55.152Z"
   },
   {
    "duration": 9,
    "start_time": "2022-03-07T21:00:55.164Z"
   },
   {
    "duration": 31,
    "start_time": "2022-03-07T21:00:55.175Z"
   },
   {
    "duration": 20,
    "start_time": "2022-03-07T21:00:55.207Z"
   },
   {
    "duration": 259,
    "start_time": "2022-03-07T21:00:55.230Z"
   },
   {
    "duration": 11,
    "start_time": "2022-03-07T21:00:55.491Z"
   },
   {
    "duration": 174,
    "start_time": "2022-03-07T21:00:55.504Z"
   },
   {
    "duration": 170,
    "start_time": "2022-03-07T21:00:55.679Z"
   },
   {
    "duration": 158,
    "start_time": "2022-03-07T21:00:55.850Z"
   },
   {
    "duration": 167,
    "start_time": "2022-03-07T21:00:56.009Z"
   },
   {
    "duration": 175,
    "start_time": "2022-03-07T21:00:56.178Z"
   },
   {
    "duration": 14,
    "start_time": "2022-03-07T21:00:56.355Z"
   },
   {
    "duration": 4,
    "start_time": "2022-03-07T21:00:56.371Z"
   },
   {
    "duration": 172,
    "start_time": "2022-03-07T21:00:56.377Z"
   },
   {
    "duration": 545,
    "start_time": "2022-03-07T21:00:56.550Z"
   },
   {
    "duration": 8,
    "start_time": "2022-03-07T21:00:57.096Z"
   },
   {
    "duration": 4,
    "start_time": "2022-03-07T21:00:57.106Z"
   },
   {
    "duration": 12,
    "start_time": "2022-03-07T21:00:57.111Z"
   },
   {
    "duration": 291,
    "start_time": "2022-03-07T21:00:57.124Z"
   },
   {
    "duration": 545,
    "start_time": "2022-03-07T21:00:57.417Z"
   },
   {
    "duration": 316,
    "start_time": "2022-03-07T21:00:57.964Z"
   },
   {
    "duration": 2,
    "start_time": "2022-03-07T21:00:58.282Z"
   },
   {
    "duration": 13,
    "start_time": "2022-03-07T21:00:58.288Z"
   },
   {
    "duration": 7,
    "start_time": "2022-03-07T21:00:58.303Z"
   },
   {
    "duration": 325,
    "start_time": "2022-03-07T21:00:58.312Z"
   },
   {
    "duration": 5,
    "start_time": "2022-03-07T21:00:58.639Z"
   },
   {
    "duration": 7,
    "start_time": "2022-03-07T21:00:58.645Z"
   },
   {
    "duration": 7,
    "start_time": "2022-03-07T21:00:58.654Z"
   },
   {
    "duration": 8,
    "start_time": "2022-03-07T21:00:58.663Z"
   },
   {
    "duration": 31,
    "start_time": "2022-03-07T21:00:58.673Z"
   },
   {
    "duration": 3,
    "start_time": "2022-03-07T21:00:58.706Z"
   },
   {
    "duration": 5,
    "start_time": "2022-03-07T21:00:58.711Z"
   },
   {
    "duration": 5,
    "start_time": "2022-03-07T21:00:58.717Z"
   },
   {
    "duration": 5,
    "start_time": "2022-03-07T21:00:58.723Z"
   },
   {
    "duration": 18,
    "start_time": "2022-03-07T21:00:58.730Z"
   },
   {
    "duration": 10,
    "start_time": "2022-03-07T21:00:58.749Z"
   },
   {
    "duration": 383,
    "start_time": "2022-03-07T21:00:58.760Z"
   },
   {
    "duration": 4,
    "start_time": "2022-03-07T21:00:59.144Z"
   },
   {
    "duration": 198,
    "start_time": "2022-03-07T21:00:59.149Z"
   },
   {
    "duration": 243,
    "start_time": "2022-03-07T21:00:59.350Z"
   },
   {
    "duration": 167,
    "start_time": "2022-03-07T21:00:59.595Z"
   },
   {
    "duration": 316,
    "start_time": "2022-03-07T21:00:59.764Z"
   },
   {
    "duration": 236,
    "start_time": "2022-03-07T21:01:00.083Z"
   },
   {
    "duration": 171,
    "start_time": "2022-03-07T21:01:00.321Z"
   },
   {
    "duration": 214,
    "start_time": "2022-03-07T21:01:00.494Z"
   },
   {
    "duration": 229,
    "start_time": "2022-03-07T21:01:00.709Z"
   },
   {
    "duration": 167,
    "start_time": "2022-03-07T21:01:00.940Z"
   },
   {
    "duration": 11,
    "start_time": "2022-03-07T21:01:01.108Z"
   },
   {
    "duration": 40,
    "start_time": "2022-03-07T21:01:01.120Z"
   },
   {
    "duration": 20,
    "start_time": "2022-03-07T21:01:01.161Z"
   },
   {
    "duration": 15,
    "start_time": "2022-03-07T21:01:01.183Z"
   },
   {
    "duration": 416,
    "start_time": "2022-03-07T21:43:53.729Z"
   },
   {
    "duration": 736,
    "start_time": "2022-03-07T21:44:28.999Z"
   },
   {
    "duration": 392,
    "start_time": "2022-03-07T21:45:37.011Z"
   },
   {
    "duration": 103,
    "start_time": "2022-03-07T21:45:47.373Z"
   },
   {
    "duration": 519,
    "start_time": "2022-03-07T21:45:50.216Z"
   },
   {
    "duration": 526,
    "start_time": "2022-03-07T21:47:10.478Z"
   },
   {
    "duration": 426,
    "start_time": "2022-03-07T21:49:40.752Z"
   },
   {
    "duration": 499,
    "start_time": "2022-03-07T21:49:49.513Z"
   },
   {
    "duration": 498,
    "start_time": "2022-03-07T21:50:06.861Z"
   },
   {
    "duration": 507,
    "start_time": "2022-03-07T21:50:10.421Z"
   },
   {
    "duration": 508,
    "start_time": "2022-03-07T21:50:14.706Z"
   },
   {
    "duration": 435,
    "start_time": "2022-03-07T21:50:20.481Z"
   },
   {
    "duration": 457,
    "start_time": "2022-03-07T21:50:35.396Z"
   },
   {
    "duration": 74,
    "start_time": "2022-03-07T21:50:42.102Z"
   },
   {
    "duration": 74,
    "start_time": "2022-03-07T21:50:55.688Z"
   },
   {
    "duration": 509,
    "start_time": "2022-03-07T21:51:15.099Z"
   },
   {
    "duration": 127,
    "start_time": "2022-03-07T21:51:34.028Z"
   },
   {
    "duration": 7282,
    "start_time": "2022-03-07T21:52:38.288Z"
   },
   {
    "duration": 7394,
    "start_time": "2022-03-07T21:53:28.366Z"
   },
   {
    "duration": 7834,
    "start_time": "2022-03-07T21:55:14.301Z"
   },
   {
    "duration": 759,
    "start_time": "2022-03-07T21:56:19.285Z"
   },
   {
    "duration": 122,
    "start_time": "2022-03-07T21:56:47.157Z"
   },
   {
    "duration": -1125,
    "start_time": "2022-03-07T21:57:15.892Z"
   },
   {
    "duration": 149,
    "start_time": "2022-03-07T21:57:21.010Z"
   },
   {
    "duration": 644,
    "start_time": "2022-03-07T21:59:36.144Z"
   },
   {
    "duration": 659,
    "start_time": "2022-03-07T21:59:46.237Z"
   },
   {
    "duration": 831,
    "start_time": "2022-03-07T21:59:53.437Z"
   },
   {
    "duration": 674,
    "start_time": "2022-03-07T21:59:59.153Z"
   },
   {
    "duration": 640,
    "start_time": "2022-03-07T22:00:07.080Z"
   },
   {
    "duration": 8135,
    "start_time": "2022-03-07T22:00:36.918Z"
   },
   {
    "duration": 7327,
    "start_time": "2022-03-07T22:00:53.857Z"
   },
   {
    "duration": 4,
    "start_time": "2022-03-07T22:01:10.241Z"
   },
   {
    "duration": 288,
    "start_time": "2022-03-07T22:01:26.021Z"
   },
   {
    "duration": 300,
    "start_time": "2022-03-07T22:01:28.006Z"
   },
   {
    "duration": 303,
    "start_time": "2022-03-07T22:01:33.111Z"
   },
   {
    "duration": 4,
    "start_time": "2022-03-07T22:01:35.149Z"
   },
   {
    "duration": 505,
    "start_time": "2022-03-07T22:01:41.858Z"
   },
   {
    "duration": 464,
    "start_time": "2022-03-07T22:02:14.467Z"
   },
   {
    "duration": 171,
    "start_time": "2022-03-07T22:02:21.630Z"
   },
   {
    "duration": 166,
    "start_time": "2022-03-07T22:02:52.707Z"
   },
   {
    "duration": 1413,
    "start_time": "2022-03-07T22:18:38.872Z"
   },
   {
    "duration": 56,
    "start_time": "2022-03-07T22:18:40.287Z"
   },
   {
    "duration": 3,
    "start_time": "2022-03-07T22:18:40.344Z"
   },
   {
    "duration": 15,
    "start_time": "2022-03-07T22:18:40.348Z"
   },
   {
    "duration": 12,
    "start_time": "2022-03-07T22:18:40.364Z"
   },
   {
    "duration": 8,
    "start_time": "2022-03-07T22:18:40.377Z"
   },
   {
    "duration": 12,
    "start_time": "2022-03-07T22:18:40.386Z"
   },
   {
    "duration": 22,
    "start_time": "2022-03-07T22:18:40.399Z"
   },
   {
    "duration": 244,
    "start_time": "2022-03-07T22:18:40.423Z"
   },
   {
    "duration": 8,
    "start_time": "2022-03-07T22:18:40.669Z"
   },
   {
    "duration": 225,
    "start_time": "2022-03-07T22:18:40.678Z"
   },
   {
    "duration": 213,
    "start_time": "2022-03-07T22:18:40.905Z"
   },
   {
    "duration": 199,
    "start_time": "2022-03-07T22:18:41.119Z"
   },
   {
    "duration": 166,
    "start_time": "2022-03-07T22:18:41.319Z"
   },
   {
    "duration": 163,
    "start_time": "2022-03-07T22:18:41.486Z"
   },
   {
    "duration": 15,
    "start_time": "2022-03-07T22:18:41.651Z"
   },
   {
    "duration": 4,
    "start_time": "2022-03-07T22:18:41.667Z"
   },
   {
    "duration": 162,
    "start_time": "2022-03-07T22:18:41.672Z"
   },
   {
    "duration": 571,
    "start_time": "2022-03-07T22:18:41.836Z"
   },
   {
    "duration": 6,
    "start_time": "2022-03-07T22:18:42.409Z"
   },
   {
    "duration": 23,
    "start_time": "2022-03-07T22:18:42.417Z"
   },
   {
    "duration": 11,
    "start_time": "2022-03-07T22:18:42.441Z"
   },
   {
    "duration": 284,
    "start_time": "2022-03-07T22:18:42.454Z"
   },
   {
    "duration": 538,
    "start_time": "2022-03-07T22:18:42.739Z"
   },
   {
    "duration": 324,
    "start_time": "2022-03-07T22:18:43.279Z"
   },
   {
    "duration": 2,
    "start_time": "2022-03-07T22:18:43.605Z"
   },
   {
    "duration": 13,
    "start_time": "2022-03-07T22:18:43.610Z"
   },
   {
    "duration": 20,
    "start_time": "2022-03-07T22:18:43.625Z"
   },
   {
    "duration": 290,
    "start_time": "2022-03-07T22:18:43.647Z"
   },
   {
    "duration": 4,
    "start_time": "2022-03-07T22:18:43.938Z"
   },
   {
    "duration": 15,
    "start_time": "2022-03-07T22:18:43.944Z"
   },
   {
    "duration": 17,
    "start_time": "2022-03-07T22:18:43.961Z"
   },
   {
    "duration": 17,
    "start_time": "2022-03-07T22:18:43.980Z"
   },
   {
    "duration": 12,
    "start_time": "2022-03-07T22:18:43.999Z"
   },
   {
    "duration": 24,
    "start_time": "2022-03-07T22:18:44.013Z"
   },
   {
    "duration": 9,
    "start_time": "2022-03-07T22:18:44.039Z"
   },
   {
    "duration": 21,
    "start_time": "2022-03-07T22:18:44.050Z"
   },
   {
    "duration": 7,
    "start_time": "2022-03-07T22:18:44.073Z"
   },
   {
    "duration": 22,
    "start_time": "2022-03-07T22:18:44.081Z"
   },
   {
    "duration": 21,
    "start_time": "2022-03-07T22:18:44.105Z"
   },
   {
    "duration": 359,
    "start_time": "2022-03-07T22:18:44.127Z"
   },
   {
    "duration": 14,
    "start_time": "2022-03-07T22:18:44.488Z"
   },
   {
    "duration": 187,
    "start_time": "2022-03-07T22:18:44.504Z"
   },
   {
    "duration": 223,
    "start_time": "2022-03-07T22:18:44.692Z"
   },
   {
    "duration": 169,
    "start_time": "2022-03-07T22:18:44.917Z"
   },
   {
    "duration": 284,
    "start_time": "2022-03-07T22:18:45.087Z"
   },
   {
    "duration": 222,
    "start_time": "2022-03-07T22:18:45.372Z"
   },
   {
    "duration": 165,
    "start_time": "2022-03-07T22:18:45.596Z"
   },
   {
    "duration": 191,
    "start_time": "2022-03-07T22:18:45.762Z"
   },
   {
    "duration": 220,
    "start_time": "2022-03-07T22:18:45.954Z"
   },
   {
    "duration": 168,
    "start_time": "2022-03-07T22:18:46.176Z"
   },
   {
    "duration": 174,
    "start_time": "2022-03-07T22:18:46.346Z"
   },
   {
    "duration": 11,
    "start_time": "2022-03-07T22:18:46.522Z"
   },
   {
    "duration": 13,
    "start_time": "2022-03-07T22:18:46.534Z"
   },
   {
    "duration": 12,
    "start_time": "2022-03-07T22:18:46.549Z"
   },
   {
    "duration": 5,
    "start_time": "2022-03-07T22:18:46.563Z"
   },
   {
    "duration": 362,
    "start_time": "2022-03-08T09:15:07.322Z"
   },
   {
    "duration": 1959,
    "start_time": "2022-03-08T09:15:15.857Z"
   },
   {
    "duration": 85,
    "start_time": "2022-03-08T09:15:17.819Z"
   },
   {
    "duration": 4,
    "start_time": "2022-03-08T09:15:17.906Z"
   },
   {
    "duration": 19,
    "start_time": "2022-03-08T09:15:17.934Z"
   },
   {
    "duration": 18,
    "start_time": "2022-03-08T09:15:17.956Z"
   },
   {
    "duration": 11,
    "start_time": "2022-03-08T09:15:17.977Z"
   },
   {
    "duration": 51,
    "start_time": "2022-03-08T09:15:17.990Z"
   },
   {
    "duration": 43,
    "start_time": "2022-03-08T09:15:18.044Z"
   },
   {
    "duration": 508,
    "start_time": "2022-03-08T09:15:18.091Z"
   },
   {
    "duration": 14,
    "start_time": "2022-03-08T09:15:18.602Z"
   },
   {
    "duration": 322,
    "start_time": "2022-03-08T09:15:18.633Z"
   },
   {
    "duration": 320,
    "start_time": "2022-03-08T09:15:18.957Z"
   },
   {
    "duration": 291,
    "start_time": "2022-03-08T09:15:19.280Z"
   },
   {
    "duration": 301,
    "start_time": "2022-03-08T09:15:19.573Z"
   },
   {
    "duration": 326,
    "start_time": "2022-03-08T09:15:19.877Z"
   },
   {
    "duration": 35,
    "start_time": "2022-03-08T09:15:20.206Z"
   },
   {
    "duration": 11,
    "start_time": "2022-03-08T09:15:20.244Z"
   },
   {
    "duration": 309,
    "start_time": "2022-03-08T09:15:20.257Z"
   },
   {
    "duration": 1254,
    "start_time": "2022-03-08T09:15:20.569Z"
   },
   {
    "duration": 9,
    "start_time": "2022-03-08T09:15:21.833Z"
   },
   {
    "duration": 8,
    "start_time": "2022-03-08T09:15:21.844Z"
   },
   {
    "duration": 10,
    "start_time": "2022-03-08T09:15:21.854Z"
   },
   {
    "duration": 737,
    "start_time": "2022-03-08T09:15:21.870Z"
   },
   {
    "duration": 1443,
    "start_time": "2022-03-08T09:15:22.611Z"
   },
   {
    "duration": 442,
    "start_time": "2022-03-08T09:15:24.057Z"
   },
   {
    "duration": 3,
    "start_time": "2022-03-08T09:15:24.502Z"
   },
   {
    "duration": 5,
    "start_time": "2022-03-08T09:15:24.508Z"
   },
   {
    "duration": 11,
    "start_time": "2022-03-08T09:15:24.533Z"
   },
   {
    "duration": 437,
    "start_time": "2022-03-08T09:15:24.547Z"
   },
   {
    "duration": 7,
    "start_time": "2022-03-08T09:15:24.987Z"
   },
   {
    "duration": 14,
    "start_time": "2022-03-08T09:15:24.996Z"
   },
   {
    "duration": 13,
    "start_time": "2022-03-08T09:15:25.033Z"
   },
   {
    "duration": 12,
    "start_time": "2022-03-08T09:15:25.048Z"
   },
   {
    "duration": 10,
    "start_time": "2022-03-08T09:15:25.062Z"
   },
   {
    "duration": 10,
    "start_time": "2022-03-08T09:15:25.074Z"
   },
   {
    "duration": 8,
    "start_time": "2022-03-08T09:15:25.086Z"
   },
   {
    "duration": 6,
    "start_time": "2022-03-08T09:15:25.135Z"
   },
   {
    "duration": 7,
    "start_time": "2022-03-08T09:15:25.143Z"
   },
   {
    "duration": 19,
    "start_time": "2022-03-08T09:15:25.152Z"
   },
   {
    "duration": 10,
    "start_time": "2022-03-08T09:15:25.173Z"
   },
   {
    "duration": 826,
    "start_time": "2022-03-08T09:15:25.185Z"
   },
   {
    "duration": 6,
    "start_time": "2022-03-08T09:15:26.013Z"
   },
   {
    "duration": 347,
    "start_time": "2022-03-08T09:15:26.033Z"
   },
   {
    "duration": 394,
    "start_time": "2022-03-08T09:15:26.383Z"
   },
   {
    "duration": 293,
    "start_time": "2022-03-08T09:15:26.780Z"
   },
   {
    "duration": 478,
    "start_time": "2022-03-08T09:15:27.075Z"
   },
   {
    "duration": 394,
    "start_time": "2022-03-08T09:15:27.555Z"
   },
   {
    "duration": 312,
    "start_time": "2022-03-08T09:15:27.952Z"
   },
   {
    "duration": 348,
    "start_time": "2022-03-08T09:15:28.267Z"
   },
   {
    "duration": 441,
    "start_time": "2022-03-08T09:15:28.618Z"
   },
   {
    "duration": 300,
    "start_time": "2022-03-08T09:15:29.061Z"
   },
   {
    "duration": 334,
    "start_time": "2022-03-08T09:15:29.364Z"
   },
   {
    "duration": 389,
    "start_time": "2022-03-08T09:15:29.700Z"
   },
   {
    "duration": 18,
    "start_time": "2022-03-08T09:15:30.091Z"
   },
   {
    "duration": 29,
    "start_time": "2022-03-08T09:15:30.111Z"
   },
   {
    "duration": 21,
    "start_time": "2022-03-08T09:15:30.143Z"
   },
   {
    "duration": 5,
    "start_time": "2022-03-08T09:15:30.167Z"
   },
   {
    "duration": 368,
    "start_time": "2022-03-08T09:23:00.391Z"
   },
   {
    "duration": 8040,
    "start_time": "2022-03-08T09:26:42.633Z"
   },
   {
    "duration": 346,
    "start_time": "2022-03-08T09:27:00.580Z"
   },
   {
    "duration": 479,
    "start_time": "2022-03-08T09:27:26.079Z"
   },
   {
    "duration": 344,
    "start_time": "2022-03-08T09:27:39.680Z"
   },
   {
    "duration": 373,
    "start_time": "2022-03-08T09:27:55.299Z"
   },
   {
    "duration": 375,
    "start_time": "2022-03-08T09:28:54.727Z"
   },
   {
    "duration": 383,
    "start_time": "2022-03-08T09:34:09.202Z"
   },
   {
    "duration": 409,
    "start_time": "2022-03-08T09:41:17.543Z"
   },
   {
    "duration": 535,
    "start_time": "2022-03-08T09:42:10.670Z"
   },
   {
    "duration": 309,
    "start_time": "2022-03-08T09:55:56.647Z"
   },
   {
    "duration": 1842,
    "start_time": "2022-03-08T10:02:30.386Z"
   },
   {
    "duration": 84,
    "start_time": "2022-03-08T10:02:32.230Z"
   },
   {
    "duration": 4,
    "start_time": "2022-03-08T10:02:32.317Z"
   },
   {
    "duration": 25,
    "start_time": "2022-03-08T10:02:32.324Z"
   },
   {
    "duration": 21,
    "start_time": "2022-03-08T10:02:32.352Z"
   },
   {
    "duration": 21,
    "start_time": "2022-03-08T10:02:32.376Z"
   },
   {
    "duration": 46,
    "start_time": "2022-03-08T10:02:32.400Z"
   },
   {
    "duration": 40,
    "start_time": "2022-03-08T10:02:32.452Z"
   },
   {
    "duration": 470,
    "start_time": "2022-03-08T10:02:32.496Z"
   },
   {
    "duration": 14,
    "start_time": "2022-03-08T10:02:32.969Z"
   },
   {
    "duration": 320,
    "start_time": "2022-03-08T10:02:32.986Z"
   },
   {
    "duration": 323,
    "start_time": "2022-03-08T10:02:33.309Z"
   },
   {
    "duration": 296,
    "start_time": "2022-03-08T10:02:33.634Z"
   },
   {
    "duration": 300,
    "start_time": "2022-03-08T10:02:33.932Z"
   },
   {
    "duration": 312,
    "start_time": "2022-03-08T10:02:34.234Z"
   },
   {
    "duration": 24,
    "start_time": "2022-03-08T10:02:34.548Z"
   },
   {
    "duration": 12,
    "start_time": "2022-03-08T10:02:34.574Z"
   },
   {
    "duration": 315,
    "start_time": "2022-03-08T10:02:34.588Z"
   },
   {
    "duration": 961,
    "start_time": "2022-03-08T10:02:34.905Z"
   },
   {
    "duration": 8,
    "start_time": "2022-03-08T10:02:35.868Z"
   },
   {
    "duration": 19,
    "start_time": "2022-03-08T10:02:35.878Z"
   },
   {
    "duration": 32,
    "start_time": "2022-03-08T10:02:35.900Z"
   },
   {
    "duration": 535,
    "start_time": "2022-03-08T10:02:35.937Z"
   },
   {
    "duration": 1001,
    "start_time": "2022-03-08T10:02:36.475Z"
   },
   {
    "duration": 457,
    "start_time": "2022-03-08T10:02:37.478Z"
   },
   {
    "duration": 4,
    "start_time": "2022-03-08T10:02:37.937Z"
   },
   {
    "duration": 8,
    "start_time": "2022-03-08T10:02:37.944Z"
   },
   {
    "duration": 12,
    "start_time": "2022-03-08T10:02:37.955Z"
   },
   {
    "duration": 527,
    "start_time": "2022-03-08T10:02:37.970Z"
   },
   {
    "duration": 5,
    "start_time": "2022-03-08T10:02:38.499Z"
   },
   {
    "duration": 30,
    "start_time": "2022-03-08T10:02:38.506Z"
   },
   {
    "duration": 11,
    "start_time": "2022-03-08T10:02:38.538Z"
   },
   {
    "duration": 10,
    "start_time": "2022-03-08T10:02:38.552Z"
   },
   {
    "duration": 11,
    "start_time": "2022-03-08T10:02:38.565Z"
   },
   {
    "duration": 5,
    "start_time": "2022-03-08T10:02:38.579Z"
   },
   {
    "duration": 51,
    "start_time": "2022-03-08T10:02:38.586Z"
   },
   {
    "duration": 14,
    "start_time": "2022-03-08T10:02:38.640Z"
   },
   {
    "duration": 5,
    "start_time": "2022-03-08T10:02:38.656Z"
   },
   {
    "duration": 16,
    "start_time": "2022-03-08T10:02:38.663Z"
   },
   {
    "duration": 50,
    "start_time": "2022-03-08T10:02:38.682Z"
   },
   {
    "duration": 664,
    "start_time": "2022-03-08T10:02:38.734Z"
   },
   {
    "duration": 5,
    "start_time": "2022-03-08T10:02:39.400Z"
   },
   {
    "duration": 113,
    "start_time": "2022-03-08T10:02:39.407Z"
   },
   {
    "duration": 399,
    "start_time": "2022-03-08T10:02:39.533Z"
   },
   {
    "duration": 586,
    "start_time": "2022-03-08T10:02:39.935Z"
   },
   {
    "duration": 352,
    "start_time": "2022-03-08T10:02:40.525Z"
   },
   {
    "duration": 312,
    "start_time": "2022-03-08T10:02:40.880Z"
   }
  ],
  "kernelspec": {
   "display_name": "Python 3 (ipykernel)",
   "language": "python",
   "name": "python3"
  },
  "language_info": {
   "codemirror_mode": {
    "name": "ipython",
    "version": 3
   },
   "file_extension": ".py",
   "mimetype": "text/x-python",
   "name": "python",
   "nbconvert_exporter": "python",
   "pygments_lexer": "ipython3",
   "version": "3.7.8"
  },
  "toc": {
   "base_numbering": "1",
   "nav_menu": {},
   "number_sections": true,
   "sideBar": true,
   "skip_h1_title": true,
   "title_cell": "Table of Contents",
   "title_sidebar": "Сборный проект-1",
   "toc_cell": false,
   "toc_position": {
    "height": "calc(100% - 180px)",
    "left": "10px",
    "top": "150px",
    "width": "259.792px"
   },
   "toc_section_display": true,
   "toc_window_display": true
  }
 },
 "nbformat": 4,
 "nbformat_minor": 5
}
