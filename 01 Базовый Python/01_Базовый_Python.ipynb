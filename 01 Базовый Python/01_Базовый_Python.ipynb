{
 "cells": [
  {
   "cell_type": "markdown",
   "metadata": {
    "id": "E0vqbgi9ay0H"
   },
   "source": [
    "# Яндекс.Музыка"
   ]
  },
  {
   "cell_type": "markdown",
   "metadata": {
    "id": "Ml1hmfXC_Zcs"
   },
   "source": [
    "## Обзор данных\n",
    "\n",
    "Составьте первое представление о данных Яндекс.Музыки."
   ]
  },
  {
   "cell_type": "markdown",
   "metadata": {
    "id": "57eAOGIz_Zcs"
   },
   "source": [
    "Основной инструмент аналитика — `pandas`. Импортируйте эту библиотеку."
   ]
  },
  {
   "cell_type": "code",
   "execution_count": 1,
   "metadata": {
    "id": "AXN7PHPN_Zcs"
   },
   "outputs": [],
   "source": [
    "# импорт библиотеки pandas\n",
    "import pandas as pd"
   ]
  },
  {
   "cell_type": "markdown",
   "metadata": {
    "id": "SG23P8tt_Zcs"
   },
   "source": [
    "Прочитайте файл `yandex_music_project.csv` из папки `/datasets` и сохраните его в переменной `df`:"
   ]
  },
  {
   "cell_type": "code",
   "execution_count": 2,
   "metadata": {
    "id": "fFVu7vqh_Zct"
   },
   "outputs": [],
   "source": [
    "# чтение файла с данными и сохранение в df\n",
    "df = pd.read_csv(\"/yandex_music_project.csv\")"
   ]
  },
  {
   "cell_type": "markdown",
   "metadata": {
    "id": "rDoOMd3uTqnZ"
   },
   "source": [
    "Выведите на экран первые десять строк таблицы:"
   ]
  },
  {
   "cell_type": "code",
   "execution_count": 3,
   "metadata": {
    "id": "oWTVX3gW_Zct",
    "scrolled": true
   },
   "outputs": [
    {
     "data": {
      "text/html": [
       "<div>\n",
       "<style scoped>\n",
       "    .dataframe tbody tr th:only-of-type {\n",
       "        vertical-align: middle;\n",
       "    }\n",
       "\n",
       "    .dataframe tbody tr th {\n",
       "        vertical-align: top;\n",
       "    }\n",
       "\n",
       "    .dataframe thead th {\n",
       "        text-align: right;\n",
       "    }\n",
       "</style>\n",
       "<table border=\"1\" class=\"dataframe\">\n",
       "  <thead>\n",
       "    <tr style=\"text-align: right;\">\n",
       "      <th></th>\n",
       "      <th>userID</th>\n",
       "      <th>Track</th>\n",
       "      <th>artist</th>\n",
       "      <th>genre</th>\n",
       "      <th>City</th>\n",
       "      <th>time</th>\n",
       "      <th>Day</th>\n",
       "    </tr>\n",
       "  </thead>\n",
       "  <tbody>\n",
       "    <tr>\n",
       "      <td>0</td>\n",
       "      <td>FFB692EC</td>\n",
       "      <td>Kamigata To Boots</td>\n",
       "      <td>The Mass Missile</td>\n",
       "      <td>rock</td>\n",
       "      <td>Saint-Petersburg</td>\n",
       "      <td>20:28:33</td>\n",
       "      <td>Wednesday</td>\n",
       "    </tr>\n",
       "    <tr>\n",
       "      <td>1</td>\n",
       "      <td>55204538</td>\n",
       "      <td>Delayed Because of Accident</td>\n",
       "      <td>Andreas Rönnberg</td>\n",
       "      <td>rock</td>\n",
       "      <td>Moscow</td>\n",
       "      <td>14:07:09</td>\n",
       "      <td>Friday</td>\n",
       "    </tr>\n",
       "    <tr>\n",
       "      <td>2</td>\n",
       "      <td>20EC38</td>\n",
       "      <td>Funiculì funiculà</td>\n",
       "      <td>Mario Lanza</td>\n",
       "      <td>pop</td>\n",
       "      <td>Saint-Petersburg</td>\n",
       "      <td>20:58:07</td>\n",
       "      <td>Wednesday</td>\n",
       "    </tr>\n",
       "    <tr>\n",
       "      <td>3</td>\n",
       "      <td>A3DD03C9</td>\n",
       "      <td>Dragons in the Sunset</td>\n",
       "      <td>Fire + Ice</td>\n",
       "      <td>folk</td>\n",
       "      <td>Saint-Petersburg</td>\n",
       "      <td>08:37:09</td>\n",
       "      <td>Monday</td>\n",
       "    </tr>\n",
       "    <tr>\n",
       "      <td>4</td>\n",
       "      <td>E2DC1FAE</td>\n",
       "      <td>Soul People</td>\n",
       "      <td>Space Echo</td>\n",
       "      <td>dance</td>\n",
       "      <td>Moscow</td>\n",
       "      <td>08:34:34</td>\n",
       "      <td>Monday</td>\n",
       "    </tr>\n",
       "    <tr>\n",
       "      <td>5</td>\n",
       "      <td>842029A1</td>\n",
       "      <td>Преданная</td>\n",
       "      <td>IMPERVTOR</td>\n",
       "      <td>rusrap</td>\n",
       "      <td>Saint-Petersburg</td>\n",
       "      <td>13:09:41</td>\n",
       "      <td>Friday</td>\n",
       "    </tr>\n",
       "    <tr>\n",
       "      <td>6</td>\n",
       "      <td>4CB90AA5</td>\n",
       "      <td>True</td>\n",
       "      <td>Roman Messer</td>\n",
       "      <td>dance</td>\n",
       "      <td>Moscow</td>\n",
       "      <td>13:00:07</td>\n",
       "      <td>Wednesday</td>\n",
       "    </tr>\n",
       "    <tr>\n",
       "      <td>7</td>\n",
       "      <td>F03E1C1F</td>\n",
       "      <td>Feeling This Way</td>\n",
       "      <td>Polina Griffith</td>\n",
       "      <td>dance</td>\n",
       "      <td>Moscow</td>\n",
       "      <td>20:47:49</td>\n",
       "      <td>Wednesday</td>\n",
       "    </tr>\n",
       "    <tr>\n",
       "      <td>8</td>\n",
       "      <td>8FA1D3BE</td>\n",
       "      <td>И вновь продолжается бой</td>\n",
       "      <td>NaN</td>\n",
       "      <td>ruspop</td>\n",
       "      <td>Moscow</td>\n",
       "      <td>09:17:40</td>\n",
       "      <td>Friday</td>\n",
       "    </tr>\n",
       "    <tr>\n",
       "      <td>9</td>\n",
       "      <td>E772D5C0</td>\n",
       "      <td>Pessimist</td>\n",
       "      <td>NaN</td>\n",
       "      <td>dance</td>\n",
       "      <td>Saint-Petersburg</td>\n",
       "      <td>21:20:49</td>\n",
       "      <td>Wednesday</td>\n",
       "    </tr>\n",
       "  </tbody>\n",
       "</table>\n",
       "</div>"
      ],
      "text/plain": [
       "     userID                        Track            artist   genre  \\\n",
       "0  FFB692EC            Kamigata To Boots  The Mass Missile    rock   \n",
       "1  55204538  Delayed Because of Accident  Andreas Rönnberg    rock   \n",
       "2    20EC38            Funiculì funiculà       Mario Lanza     pop   \n",
       "3  A3DD03C9        Dragons in the Sunset        Fire + Ice    folk   \n",
       "4  E2DC1FAE                  Soul People        Space Echo   dance   \n",
       "5  842029A1                    Преданная         IMPERVTOR  rusrap   \n",
       "6  4CB90AA5                         True      Roman Messer   dance   \n",
       "7  F03E1C1F             Feeling This Way   Polina Griffith   dance   \n",
       "8  8FA1D3BE     И вновь продолжается бой               NaN  ruspop   \n",
       "9  E772D5C0                    Pessimist               NaN   dance   \n",
       "\n",
       "             City        time        Day  \n",
       "0  Saint-Petersburg  20:28:33  Wednesday  \n",
       "1            Moscow  14:07:09     Friday  \n",
       "2  Saint-Petersburg  20:58:07  Wednesday  \n",
       "3  Saint-Petersburg  08:37:09     Monday  \n",
       "4            Moscow  08:34:34     Monday  \n",
       "5  Saint-Petersburg  13:09:41     Friday  \n",
       "6            Moscow  13:00:07  Wednesday  \n",
       "7            Moscow  20:47:49  Wednesday  \n",
       "8            Moscow  09:17:40     Friday  \n",
       "9  Saint-Petersburg  21:20:49  Wednesday  "
      ]
     },
     "metadata": {},
     "output_type": "display_data"
    }
   ],
   "source": [
    "# получение первых 10 строк таблицы df\n",
    "display(df.head(10))"
   ]
  },
  {
   "cell_type": "markdown",
   "metadata": {
    "id": "EO73Kwic_Zct"
   },
   "source": [
    "Одной командой получить общую информацию о таблице:"
   ]
  },
  {
   "cell_type": "code",
   "execution_count": 4,
   "metadata": {
    "id": "DSf2kIb-_Zct",
    "scrolled": true
   },
   "outputs": [
    {
     "name": "stdout",
     "output_type": "stream",
     "text": [
      "<class 'pandas.core.frame.DataFrame'>\n",
      "RangeIndex: 65079 entries, 0 to 65078\n",
      "Data columns (total 7 columns):\n",
      "  userID    65079 non-null object\n",
      "Track       63848 non-null object\n",
      "artist      57876 non-null object\n",
      "genre       63881 non-null object\n",
      "  City      65079 non-null object\n",
      "time        65079 non-null object\n",
      "Day         65079 non-null object\n",
      "dtypes: object(7)\n",
      "memory usage: 3.5+ MB\n"
     ]
    }
   ],
   "source": [
    "# получение общей информации о данных в таблице df\n",
    "df.info()"
   ]
  },
  {
   "cell_type": "markdown",
   "metadata": {
    "id": "TaQ2Iwbr_Zct"
   },
   "source": [
    "Итак, в таблице семь столбцов. Тип данных во всех столбцах — `object`.\n",
    "\n",
    "Согласно документации к данным:\n",
    "* `userID` — идентификатор пользователя;\n",
    "* `Track` — название трека;  \n",
    "* `artist` — имя исполнителя;\n",
    "* `genre` — название жанра;\n",
    "* `City` — город пользователя;\n",
    "* `time` — время начала прослушивания;\n",
    "* `Day` — день недели.\n",
    "\n",
    "В названиях колонок видны три нарушения стиля:\n",
    "1. Строчные буквы сочетаются с прописными.\n",
    "2. Встречаются пробелы.\n",
    "3. Cлова записаны в стиле camelCase вместо snake_case\n",
    "\n",
    "\n",
    "\n",
    "Количество значений в столбцах различается. Значит, в данных есть пропущенные значения.\n"
   ]
  },
  {
   "cell_type": "markdown",
   "metadata": {
    "id": "MCB6-dXG_Zct"
   },
   "source": [
    "**Выводы**\n",
    "\n",
    "В каждой строке таблицы — данные о прослушанном треке. Часть колонок описывает саму композицию: название, исполнителя и жанр. Остальные данные рассказывают о пользователе: из какого он города, когда он слушал музыку. \n",
    "\n",
    "Предварительно можно утверждать, что, данных достаточно для проверки гипотез. Но встречаются пропуски в данных, а в названиях колонок — расхождения с хорошим стилем.\n",
    "\n",
    "Чтобы двигаться дальше, нужно устранить проблемы в данных."
   ]
  },
  {
   "cell_type": "markdown",
   "metadata": {
    "id": "SjYF6Ub9_Zct"
   },
   "source": [
    "## Предобработка данных\n",
    "Исправьте стиль в заголовках столбцов, исключите пропуски. Затем проверьте данные на дубликаты."
   ]
  },
  {
   "cell_type": "markdown",
   "metadata": {
    "id": "dIaKXr29_Zct"
   },
   "source": [
    "### Стиль заголовков\n",
    "Выведите на экран названия столбцов:"
   ]
  },
  {
   "cell_type": "code",
   "execution_count": 5,
   "metadata": {
    "id": "oKOTdF_Q_Zct"
   },
   "outputs": [
    {
     "data": {
      "text/plain": [
       "Index(['  userID', 'Track', 'artist', 'genre', '  City  ', 'time', 'Day'], dtype='object')"
      ]
     },
     "execution_count": 5,
     "metadata": {},
     "output_type": "execute_result"
    }
   ],
   "source": [
    "# перечень названий столбцов таблицы df\n",
    "df.columns"
   ]
  },
  {
   "cell_type": "markdown",
   "metadata": {
    "id": "zj5534cv_Zct"
   },
   "source": [
    "Приведите названия в соответствие с хорошим стилем:\n",
    "* несколько слов в названии запишите в «змеином_регистре»,\n",
    "* все символы сделайте строчными,\n",
    "* устраните пробелы.\n",
    "\n",
    "Для этого переименуйте колонки так:\n",
    "* `'  userID'` → `'user_id'`;\n",
    "* `'Track'` → `'track'`;\n",
    "* `'  City  '` → `'city'`;\n",
    "* `'Day'` → `'day'`."
   ]
  },
  {
   "cell_type": "code",
   "execution_count": 6,
   "metadata": {
    "id": "ISlFqs5y_Zct"
   },
   "outputs": [],
   "source": [
    "# переименование столбцов\n",
    "df = df.rename(columns ={'  userID':'user_id', 'Track':'track', '  City  ':'city', 'Day':'day'})"
   ]
  },
  {
   "cell_type": "markdown",
   "metadata": {
    "id": "1dqbh00J_Zct"
   },
   "source": [
    "Проверьте результат. Для этого ещё раз выведите на экран названия столбцов:"
   ]
  },
  {
   "cell_type": "code",
   "execution_count": 7,
   "metadata": {
    "id": "d4NOAmTW_Zct"
   },
   "outputs": [
    {
     "data": {
      "text/plain": [
       "Index(['user_id', 'track', 'artist', 'genre', 'city', 'time', 'day'], dtype='object')"
      ]
     },
     "execution_count": 7,
     "metadata": {},
     "output_type": "execute_result"
    }
   ],
   "source": [
    "# проверка результатов - перечень названий столбцов\n",
    "df.columns"
   ]
  },
  {
   "cell_type": "markdown",
   "metadata": {
    "id": "5ISfbcfY_Zct"
   },
   "source": [
    "### Пропуски значений\n",
    "Сначала посчитайте, сколько в таблице пропущенных значений. Для этого достаточно двух методов `pandas`:"
   ]
  },
  {
   "cell_type": "code",
   "execution_count": 8,
   "metadata": {
    "id": "RskX29qr_Zct",
    "scrolled": true
   },
   "outputs": [
    {
     "data": {
      "text/plain": [
       "user_id       0\n",
       "track      1231\n",
       "artist     7203\n",
       "genre      1198\n",
       "city          0\n",
       "time          0\n",
       "day           0\n",
       "dtype: int64"
      ]
     },
     "execution_count": 8,
     "metadata": {},
     "output_type": "execute_result"
    }
   ],
   "source": [
    "# подсчёт пропусков\n",
    "df.isna().sum()"
   ]
  },
  {
   "cell_type": "markdown",
   "metadata": {
    "id": "qubhgnlO_Zct"
   },
   "source": [
    "Не все пропущенные значения влияют на исследование. Так в `track` и `artist` пропуски не важны для вашей работы. Достаточно заменить их явными обозначениями.\n",
    "\n",
    "Но пропуски в `genre` могут помешать сравнению музыкальных вкусов в Москве и Санкт-Петербурге. На практике было бы правильно установить причину пропусков и восстановить данные. Такой возможности нет в учебном проекте. Придётся:\n",
    "* заполнить и эти пропуски явными обозначениями,\n",
    "* оценить, насколько они повредят расчётам. "
   ]
  },
  {
   "cell_type": "markdown",
   "metadata": {
    "id": "fSv2laPA_Zct"
   },
   "source": [
    "Замените пропущенные значения в столбцах `track`, `artist` и `genre` на строку `'unknown'`. Для этого создайте список `columns_to_replace`, переберите его элементы циклом `for` и для каждого столбца выполните замену пропущенных значений:"
   ]
  },
  {
   "cell_type": "code",
   "execution_count": 9,
   "metadata": {
    "id": "KplB5qWs_Zct"
   },
   "outputs": [],
   "source": [
    "# перебор названий столбцов в цикле и замена пропущенных значений на 'unknown'\n",
    "columns_to_replace = ['track', 'artist', 'genre']\n",
    "\n",
    "for column in columns_to_replace:\n",
    "    df[column] = df[column].fillna('unknown')"
   ]
  },
  {
   "cell_type": "markdown",
   "metadata": {
    "id": "Ilsm-MZo_Zct"
   },
   "source": [
    "Убедитесь, что в таблице не осталось пропусков. Для этого ещё раз посчитайте пропущенные значения."
   ]
  },
  {
   "cell_type": "code",
   "execution_count": 10,
   "metadata": {
    "id": "Tq4nYRX4_Zct",
    "scrolled": true
   },
   "outputs": [
    {
     "data": {
      "text/plain": [
       "user_id    0\n",
       "track      0\n",
       "artist     0\n",
       "genre      0\n",
       "city       0\n",
       "time       0\n",
       "day        0\n",
       "dtype: int64"
      ]
     },
     "execution_count": 10,
     "metadata": {},
     "output_type": "execute_result"
    }
   ],
   "source": [
    "# подсчёт пропусков\n",
    "df.isna().sum()"
   ]
  },
  {
   "cell_type": "markdown",
   "metadata": {
    "id": "BWKRtBJ3_Zct"
   },
   "source": [
    "### Дубликаты\n",
    "Посчитайте явные дубликаты в таблице одной командой:"
   ]
  },
  {
   "cell_type": "code",
   "execution_count": 11,
   "metadata": {
    "id": "36eES_S0_Zct",
    "scrolled": true
   },
   "outputs": [
    {
     "name": "stdout",
     "output_type": "stream",
     "text": [
      "3826\n"
     ]
    }
   ],
   "source": [
    "# подсчёт явных дубликатов\n",
    "print(df.duplicated().sum())"
   ]
  },
  {
   "cell_type": "markdown",
   "metadata": {
    "id": "Ot25h6XR_Zct"
   },
   "source": [
    "Вызовите специальный метод `pandas`, чтобы удалить явные дубликаты:"
   ]
  },
  {
   "cell_type": "code",
   "execution_count": 12,
   "metadata": {
    "id": "exFHq6tt_Zct",
    "scrolled": false
   },
   "outputs": [
    {
     "data": {
      "text/html": [
       "<div>\n",
       "<style scoped>\n",
       "    .dataframe tbody tr th:only-of-type {\n",
       "        vertical-align: middle;\n",
       "    }\n",
       "\n",
       "    .dataframe tbody tr th {\n",
       "        vertical-align: top;\n",
       "    }\n",
       "\n",
       "    .dataframe thead th {\n",
       "        text-align: right;\n",
       "    }\n",
       "</style>\n",
       "<table border=\"1\" class=\"dataframe\">\n",
       "  <thead>\n",
       "    <tr style=\"text-align: right;\">\n",
       "      <th></th>\n",
       "      <th>user_id</th>\n",
       "      <th>track</th>\n",
       "      <th>artist</th>\n",
       "      <th>genre</th>\n",
       "      <th>city</th>\n",
       "      <th>time</th>\n",
       "      <th>day</th>\n",
       "    </tr>\n",
       "  </thead>\n",
       "  <tbody>\n",
       "    <tr>\n",
       "      <td>0</td>\n",
       "      <td>FFB692EC</td>\n",
       "      <td>Kamigata To Boots</td>\n",
       "      <td>The Mass Missile</td>\n",
       "      <td>rock</td>\n",
       "      <td>Saint-Petersburg</td>\n",
       "      <td>20:28:33</td>\n",
       "      <td>Wednesday</td>\n",
       "    </tr>\n",
       "    <tr>\n",
       "      <td>1</td>\n",
       "      <td>55204538</td>\n",
       "      <td>Delayed Because of Accident</td>\n",
       "      <td>Andreas Rönnberg</td>\n",
       "      <td>rock</td>\n",
       "      <td>Moscow</td>\n",
       "      <td>14:07:09</td>\n",
       "      <td>Friday</td>\n",
       "    </tr>\n",
       "    <tr>\n",
       "      <td>2</td>\n",
       "      <td>20EC38</td>\n",
       "      <td>Funiculì funiculà</td>\n",
       "      <td>Mario Lanza</td>\n",
       "      <td>pop</td>\n",
       "      <td>Saint-Petersburg</td>\n",
       "      <td>20:58:07</td>\n",
       "      <td>Wednesday</td>\n",
       "    </tr>\n",
       "    <tr>\n",
       "      <td>3</td>\n",
       "      <td>A3DD03C9</td>\n",
       "      <td>Dragons in the Sunset</td>\n",
       "      <td>Fire + Ice</td>\n",
       "      <td>folk</td>\n",
       "      <td>Saint-Petersburg</td>\n",
       "      <td>08:37:09</td>\n",
       "      <td>Monday</td>\n",
       "    </tr>\n",
       "    <tr>\n",
       "      <td>4</td>\n",
       "      <td>E2DC1FAE</td>\n",
       "      <td>Soul People</td>\n",
       "      <td>Space Echo</td>\n",
       "      <td>dance</td>\n",
       "      <td>Moscow</td>\n",
       "      <td>08:34:34</td>\n",
       "      <td>Monday</td>\n",
       "    </tr>\n",
       "    <tr>\n",
       "      <td>...</td>\n",
       "      <td>...</td>\n",
       "      <td>...</td>\n",
       "      <td>...</td>\n",
       "      <td>...</td>\n",
       "      <td>...</td>\n",
       "      <td>...</td>\n",
       "      <td>...</td>\n",
       "    </tr>\n",
       "    <tr>\n",
       "      <td>61248</td>\n",
       "      <td>729CBB09</td>\n",
       "      <td>My Name</td>\n",
       "      <td>McLean</td>\n",
       "      <td>rnb</td>\n",
       "      <td>Moscow</td>\n",
       "      <td>13:32:28</td>\n",
       "      <td>Wednesday</td>\n",
       "    </tr>\n",
       "    <tr>\n",
       "      <td>61249</td>\n",
       "      <td>D08D4A55</td>\n",
       "      <td>Maybe One Day (feat. Black Spade)</td>\n",
       "      <td>Blu &amp; Exile</td>\n",
       "      <td>hip</td>\n",
       "      <td>Saint-Petersburg</td>\n",
       "      <td>10:00:00</td>\n",
       "      <td>Monday</td>\n",
       "    </tr>\n",
       "    <tr>\n",
       "      <td>61250</td>\n",
       "      <td>C5E3A0D5</td>\n",
       "      <td>Jalopiina</td>\n",
       "      <td>unknown</td>\n",
       "      <td>industrial</td>\n",
       "      <td>Moscow</td>\n",
       "      <td>20:09:26</td>\n",
       "      <td>Friday</td>\n",
       "    </tr>\n",
       "    <tr>\n",
       "      <td>61251</td>\n",
       "      <td>321D0506</td>\n",
       "      <td>Freight Train</td>\n",
       "      <td>Chas McDevitt</td>\n",
       "      <td>rock</td>\n",
       "      <td>Moscow</td>\n",
       "      <td>21:43:59</td>\n",
       "      <td>Friday</td>\n",
       "    </tr>\n",
       "    <tr>\n",
       "      <td>61252</td>\n",
       "      <td>3A64EF84</td>\n",
       "      <td>Tell Me Sweet Little Lies</td>\n",
       "      <td>Monica Lopez</td>\n",
       "      <td>country</td>\n",
       "      <td>Moscow</td>\n",
       "      <td>21:59:46</td>\n",
       "      <td>Friday</td>\n",
       "    </tr>\n",
       "  </tbody>\n",
       "</table>\n",
       "<p>61253 rows × 7 columns</p>\n",
       "</div>"
      ],
      "text/plain": [
       "        user_id                              track            artist  \\\n",
       "0      FFB692EC                  Kamigata To Boots  The Mass Missile   \n",
       "1      55204538        Delayed Because of Accident  Andreas Rönnberg   \n",
       "2        20EC38                  Funiculì funiculà       Mario Lanza   \n",
       "3      A3DD03C9              Dragons in the Sunset        Fire + Ice   \n",
       "4      E2DC1FAE                        Soul People        Space Echo   \n",
       "...         ...                                ...               ...   \n",
       "61248  729CBB09                            My Name            McLean   \n",
       "61249  D08D4A55  Maybe One Day (feat. Black Spade)       Blu & Exile   \n",
       "61250  C5E3A0D5                          Jalopiina           unknown   \n",
       "61251  321D0506                      Freight Train     Chas McDevitt   \n",
       "61252  3A64EF84          Tell Me Sweet Little Lies      Monica Lopez   \n",
       "\n",
       "            genre              city      time        day  \n",
       "0            rock  Saint-Petersburg  20:28:33  Wednesday  \n",
       "1            rock            Moscow  14:07:09     Friday  \n",
       "2             pop  Saint-Petersburg  20:58:07  Wednesday  \n",
       "3            folk  Saint-Petersburg  08:37:09     Monday  \n",
       "4           dance            Moscow  08:34:34     Monday  \n",
       "...           ...               ...       ...        ...  \n",
       "61248         rnb            Moscow  13:32:28  Wednesday  \n",
       "61249         hip  Saint-Petersburg  10:00:00     Monday  \n",
       "61250  industrial            Moscow  20:09:26     Friday  \n",
       "61251        rock            Moscow  21:43:59     Friday  \n",
       "61252     country            Moscow  21:59:46     Friday  \n",
       "\n",
       "[61253 rows x 7 columns]"
      ]
     },
     "metadata": {},
     "output_type": "display_data"
    }
   ],
   "source": [
    "# удаление явных дубликатов (с удалением старых индексов и формированием новых)\n",
    "df = df.drop_duplicates().reset_index(drop=True)\n",
    "display(df)"
   ]
  },
  {
   "cell_type": "markdown",
   "metadata": {
    "id": "Im2YwBEG_Zct"
   },
   "source": [
    "Ещё раз посчитайте явные дубликаты в таблице — убедитесь, что полностью от них избавились:"
   ]
  },
  {
   "cell_type": "code",
   "execution_count": 13,
   "metadata": {
    "id": "-8PuNWQ0_Zct"
   },
   "outputs": [
    {
     "name": "stdout",
     "output_type": "stream",
     "text": [
      "0\n"
     ]
    }
   ],
   "source": [
    "# проверка на отсутствие дубликатов\n",
    "print(df.duplicated().sum())"
   ]
  },
  {
   "cell_type": "markdown",
   "metadata": {
    "id": "QlFBsxAr_Zct"
   },
   "source": [
    "Теперь избавьтесь от неявных дубликатов в колонке `genre`. Например, название одного и того же жанра может быть записано немного по-разному. Такие ошибки тоже повлияют на результат исследования."
   ]
  },
  {
   "cell_type": "markdown",
   "metadata": {
    "id": "eSjWwsOh_Zct"
   },
   "source": [
    "Выведите на экран список уникальных названий жанров, отсортированный в алфавитном порядке. Для этого:\n",
    "* извлеките нужный столбец датафрейма, \n",
    "* примените к нему метод сортировки,\n",
    "* для отсортированного столбца вызовите метод, который вернёт уникальные значения из столбца."
   ]
  },
  {
   "cell_type": "code",
   "execution_count": 14,
   "metadata": {
    "id": "JIUcqzZN_Zct",
    "scrolled": false
   },
   "outputs": [
    {
     "name": "stdout",
     "output_type": "stream",
     "text": [
      "['acid' 'acoustic' 'action' 'adult' 'africa' 'afrikaans' 'alternative'\n",
      " 'alternativepunk' 'ambient' 'americana' 'animated' 'anime' 'arabesk'\n",
      " 'arabic' 'arena' 'argentinetango' 'art' 'audiobook' 'author' 'avantgarde'\n",
      " 'axé' 'baile' 'balkan' 'beats' 'bigroom' 'black' 'bluegrass' 'blues'\n",
      " 'bollywood' 'bossa' 'brazilian' 'breakbeat' 'breaks' 'broadway'\n",
      " 'cantautori' 'cantopop' 'canzone' 'caribbean' 'caucasian' 'celtic'\n",
      " 'chamber' 'chanson' 'children' 'chill' 'chinese' 'choral' 'christian'\n",
      " 'christmas' 'classical' 'classicmetal' 'club' 'colombian' 'comedy'\n",
      " 'conjazz' 'contemporary' 'country' 'cuban' 'dance' 'dancehall' 'dancepop'\n",
      " 'dark' 'death' 'deep' 'deutschrock' 'deutschspr' 'dirty' 'disco' 'dnb'\n",
      " 'documentary' 'downbeat' 'downtempo' 'drum' 'dub' 'dubstep' 'eastern'\n",
      " 'easy' 'electronic' 'electropop' 'emo' 'entehno' 'epicmetal' 'estrada'\n",
      " 'ethnic' 'eurofolk' 'european' 'experimental' 'extrememetal' 'fado'\n",
      " 'fairytail' 'film' 'fitness' 'flamenco' 'folk' 'folklore' 'folkmetal'\n",
      " 'folkrock' 'folktronica' 'forró' 'frankreich' 'französisch' 'french'\n",
      " 'funk' 'future' 'gangsta' 'garage' 'german' 'ghazal' 'gitarre' 'glitch'\n",
      " 'gospel' 'gothic' 'grime' 'grunge' 'gypsy' 'handsup' \"hard'n'heavy\"\n",
      " 'hardcore' 'hardstyle' 'hardtechno' 'hip' 'hip-hop' 'hiphop' 'historisch'\n",
      " 'holiday' 'hop' 'horror' 'house' 'hymn' 'idm' 'independent' 'indian'\n",
      " 'indie' 'indipop' 'industrial' 'inspirational' 'instrumental'\n",
      " 'international' 'irish' 'jam' 'japanese' 'jazz' 'jewish' 'jpop' 'jungle'\n",
      " 'k-pop' 'karadeniz' 'karaoke' 'kayokyoku' 'korean' 'laiko' 'latin'\n",
      " 'latino' 'leftfield' 'local' 'lounge' 'loungeelectronic' 'lovers'\n",
      " 'malaysian' 'mandopop' 'marschmusik' 'meditative' 'mediterranean'\n",
      " 'melodic' 'metal' 'metalcore' 'mexican' 'middle' 'minimal'\n",
      " 'miscellaneous' 'modern' 'mood' 'mpb' 'muslim' 'native' 'neoklassik'\n",
      " 'neue' 'new' 'newage' 'newwave' 'nu' 'nujazz' 'numetal' 'oceania' 'old'\n",
      " 'opera' 'orchestral' 'other' 'piano' 'podcasts' 'pop' 'popdance'\n",
      " 'popelectronic' 'popeurodance' 'poprussian' 'post' 'posthardcore'\n",
      " 'postrock' 'power' 'progmetal' 'progressive' 'psychedelic' 'punjabi'\n",
      " 'punk' 'quebecois' 'ragga' 'ram' 'rancheras' 'rap' 'rave' 'reggae'\n",
      " 'reggaeton' 'regional' 'relax' 'religious' 'retro' 'rhythm' 'rnb' 'rnr'\n",
      " 'rock' 'rockabilly' 'rockalternative' 'rockindie' 'rockother' 'romance'\n",
      " 'roots' 'ruspop' 'rusrap' 'rusrock' 'russian' 'salsa' 'samba' 'scenic'\n",
      " 'schlager' 'self' 'sertanejo' 'shanson' 'shoegazing' 'showtunes' 'singer'\n",
      " 'ska' 'skarock' 'slow' 'smooth' 'soft' 'soul' 'soulful' 'sound'\n",
      " 'soundtrack' 'southern' 'specialty' 'speech' 'spiritual' 'sport'\n",
      " 'stonerrock' 'surf' 'swing' 'synthpop' 'synthrock' 'sängerportrait'\n",
      " 'tango' 'tanzorchester' 'taraftar' 'tatar' 'tech' 'techno' 'teen'\n",
      " 'thrash' 'top' 'traditional' 'tradjazz' 'trance' 'tribal' 'trip'\n",
      " 'triphop' 'tropical' 'türk' 'türkçe' 'ukrrock' 'unknown' 'urban' 'uzbek'\n",
      " 'variété' 'vi' 'videogame' 'vocal' 'western' 'world' 'worldbeat' 'ïîï'\n",
      " 'электроника']\n"
     ]
    }
   ],
   "source": [
    "# Просмотр уникальных названий жанров\n",
    "print(df['genre'].sort_values().unique()) "
   ]
  },
  {
   "cell_type": "markdown",
   "metadata": {
    "id": "qej-Qmuo_Zct"
   },
   "source": [
    "Просмотрите список и найдите неявные дубликаты названия `hiphop`. Это могут быть названия с ошибками или альтернативные названия того же жанра.\n",
    "\n",
    "Вы увидите следующие неявные дубликаты:\n",
    "* *hip*,\n",
    "* *hop*,\n",
    "* *hip-hop*.\n",
    "\n",
    "Чтобы очистить от них таблицу, напишите функцию `replace_wrong_genres()` с двумя параметрами: \n",
    "* `wrong_genres` — список дубликатов,\n",
    "* `correct_genre` — строка с правильным значением.\n",
    "\n",
    "Функция должна исправить колонку `genre` в таблице `df`: заменить каждое значение из списка `wrong_genres` на значение из `correct_genre`."
   ]
  },
  {
   "cell_type": "code",
   "execution_count": 15,
   "metadata": {
    "id": "ErNDkmns_Zct"
   },
   "outputs": [],
   "source": [
    "# Функция для замены неявных дубликатов\n",
    "\n",
    "def replace_wrong_genres(wrong_genres, correct_genre):\n",
    "    for wrong_genre in wrong_genres:\n",
    "        df['genre'] = df['genre'].replace(wrong_genre, correct_genre)"
   ]
  },
  {
   "cell_type": "markdown",
   "metadata": {
    "id": "aDoBJxbA_Zct"
   },
   "source": [
    "Вызовите `replace_wrong_genres()` и передайте ей такие аргументы, чтобы она устранила неявные дубликаты: вместо `hip`, `hop` и `hip-hop` в таблице должно быть значение `hiphop`:"
   ]
  },
  {
   "cell_type": "code",
   "execution_count": 16,
   "metadata": {
    "id": "YN5i2hpmSo09"
   },
   "outputs": [],
   "source": [
    "# Устранение неявных дубликатов\n",
    "replace_wrong_genres(['hip', 'hop', 'hip-hop'], 'hiphop')\n",
    "\n",
    "# также я заметил другие дубликаты : 'электроника' - 'electronic'\n",
    "replace_wrong_genres('электроника', 'electronic')"
   ]
  },
  {
   "cell_type": "markdown",
   "metadata": {
    "id": "zQKF16_RG15m"
   },
   "source": [
    "Проверьте, что заменили неправильные названия:\n",
    "\n",
    "*   hip\n",
    "*   hop\n",
    "*   hip-hop\n",
    "\n",
    "Выведите отсортированный список уникальных значений столбца `genre`:"
   ]
  },
  {
   "cell_type": "code",
   "execution_count": 17,
   "metadata": {
    "id": "wvixALnFG15m",
    "scrolled": false
   },
   "outputs": [
    {
     "name": "stdout",
     "output_type": "stream",
     "text": [
      "['acid' 'acoustic' 'action' 'adult' 'africa' 'afrikaans' 'alternative'\n",
      " 'alternativepunk' 'ambient' 'americana' 'animated' 'anime' 'arabesk'\n",
      " 'arabic' 'arena' 'argentinetango' 'art' 'audiobook' 'author' 'avantgarde'\n",
      " 'axé' 'baile' 'balkan' 'beats' 'bigroom' 'black' 'bluegrass' 'blues'\n",
      " 'bollywood' 'bossa' 'brazilian' 'breakbeat' 'breaks' 'broadway'\n",
      " 'cantautori' 'cantopop' 'canzone' 'caribbean' 'caucasian' 'celtic'\n",
      " 'chamber' 'chanson' 'children' 'chill' 'chinese' 'choral' 'christian'\n",
      " 'christmas' 'classical' 'classicmetal' 'club' 'colombian' 'comedy'\n",
      " 'conjazz' 'contemporary' 'country' 'cuban' 'dance' 'dancehall' 'dancepop'\n",
      " 'dark' 'death' 'deep' 'deutschrock' 'deutschspr' 'dirty' 'disco' 'dnb'\n",
      " 'documentary' 'downbeat' 'downtempo' 'drum' 'dub' 'dubstep' 'eastern'\n",
      " 'easy' 'electronic' 'electropop' 'emo' 'entehno' 'epicmetal' 'estrada'\n",
      " 'ethnic' 'eurofolk' 'european' 'experimental' 'extrememetal' 'fado'\n",
      " 'fairytail' 'film' 'fitness' 'flamenco' 'folk' 'folklore' 'folkmetal'\n",
      " 'folkrock' 'folktronica' 'forró' 'frankreich' 'französisch' 'french'\n",
      " 'funk' 'future' 'gangsta' 'garage' 'german' 'ghazal' 'gitarre' 'glitch'\n",
      " 'gospel' 'gothic' 'grime' 'grunge' 'gypsy' 'handsup' \"hard'n'heavy\"\n",
      " 'hardcore' 'hardstyle' 'hardtechno' 'hiphop' 'historisch' 'holiday'\n",
      " 'horror' 'house' 'hymn' 'idm' 'independent' 'indian' 'indie' 'indipop'\n",
      " 'industrial' 'inspirational' 'instrumental' 'international' 'irish' 'jam'\n",
      " 'japanese' 'jazz' 'jewish' 'jpop' 'jungle' 'k-pop' 'karadeniz' 'karaoke'\n",
      " 'kayokyoku' 'korean' 'laiko' 'latin' 'latino' 'leftfield' 'local'\n",
      " 'lounge' 'loungeelectronic' 'lovers' 'malaysian' 'mandopop' 'marschmusik'\n",
      " 'meditative' 'mediterranean' 'melodic' 'metal' 'metalcore' 'mexican'\n",
      " 'middle' 'minimal' 'miscellaneous' 'modern' 'mood' 'mpb' 'muslim'\n",
      " 'native' 'neoklassik' 'neue' 'new' 'newage' 'newwave' 'nu' 'nujazz'\n",
      " 'numetal' 'oceania' 'old' 'opera' 'orchestral' 'other' 'piano' 'podcasts'\n",
      " 'pop' 'popdance' 'popelectronic' 'popeurodance' 'poprussian' 'post'\n",
      " 'posthardcore' 'postrock' 'power' 'progmetal' 'progressive' 'psychedelic'\n",
      " 'punjabi' 'punk' 'quebecois' 'ragga' 'ram' 'rancheras' 'rap' 'rave'\n",
      " 'reggae' 'reggaeton' 'regional' 'relax' 'religious' 'retro' 'rhythm'\n",
      " 'rnb' 'rnr' 'rock' 'rockabilly' 'rockalternative' 'rockindie' 'rockother'\n",
      " 'romance' 'roots' 'ruspop' 'rusrap' 'rusrock' 'russian' 'salsa' 'samba'\n",
      " 'scenic' 'schlager' 'self' 'sertanejo' 'shanson' 'shoegazing' 'showtunes'\n",
      " 'singer' 'ska' 'skarock' 'slow' 'smooth' 'soft' 'soul' 'soulful' 'sound'\n",
      " 'soundtrack' 'southern' 'specialty' 'speech' 'spiritual' 'sport'\n",
      " 'stonerrock' 'surf' 'swing' 'synthpop' 'synthrock' 'sängerportrait'\n",
      " 'tango' 'tanzorchester' 'taraftar' 'tatar' 'tech' 'techno' 'teen'\n",
      " 'thrash' 'top' 'traditional' 'tradjazz' 'trance' 'tribal' 'trip'\n",
      " 'triphop' 'tropical' 'türk' 'türkçe' 'ukrrock' 'unknown' 'urban' 'uzbek'\n",
      " 'variété' 'vi' 'videogame' 'vocal' 'western' 'world' 'worldbeat' 'ïîï'\n",
      " 'электроника']\n"
     ]
    }
   ],
   "source": [
    "# Проверка на неявные дубликаты\n",
    "\n",
    "print(df['genre'].sort_values().unique())"
   ]
  },
  {
   "cell_type": "markdown",
   "metadata": {
    "id": "jz6a9-7HQUDd"
   },
   "source": [
    "**Выводы**\n",
    "\n",
    "Предобработка обнаружила три проблемы в данных:\n",
    "\n",
    "- нарушения в стиле заголовков,\n",
    "- пропущенные значения,\n",
    "- дубликаты — явные и неявные.\n",
    "\n",
    "Вы исправили заголовки, чтобы упростить работу с таблицей. Без дубликатов исследование станет более точным.\n",
    "\n",
    "Пропущенные значения вы заменили на `'unknown'`. Ещё предстоит увидеть, не повредят ли исследованию пропуски в колонке `genre`.\n",
    "\n",
    "Теперь можно перейти к проверке гипотез. "
   ]
  },
  {
   "cell_type": "markdown",
   "metadata": {
    "id": "WttZHXH0SqKk"
   },
   "source": [
    "## Проверка гипотез"
   ]
  },
  {
   "cell_type": "markdown",
   "metadata": {
    "id": "Im936VVi_Zcu"
   },
   "source": [
    "### Сравнение поведения пользователей двух столиц"
   ]
  },
  {
   "cell_type": "markdown",
   "metadata": {
    "id": "nwt_MuaL_Zcu"
   },
   "source": [
    "Первая гипотеза утверждает, что пользователи по-разному слушают музыку в Москве и Санкт-Петербурге. Проверьте это предположение по данным о трёх днях недели — понедельнике, среде и пятнице. Для этого:\n",
    "\n",
    "* Разделите пользователей Москвы и Санкт-Петербурга\n",
    "* Сравните, сколько треков послушала каждая группа пользователей в понедельник, среду и пятницу.\n"
   ]
  },
  {
   "cell_type": "markdown",
   "metadata": {
    "id": "8Dw_YMmT_Zcu"
   },
   "source": [
    "Для тренировки сначала выполните каждый из расчётов по отдельности. \n",
    "\n",
    "Оцените активность пользователей в каждом городе. Сгруппируйте данные по городу и посчитайте прослушивания в каждой группе.\n",
    "\n"
   ]
  },
  {
   "cell_type": "code",
   "execution_count": 18,
   "metadata": {
    "id": "0_Qs96oh_Zcu",
    "scrolled": true
   },
   "outputs": [
    {
     "name": "stdout",
     "output_type": "stream",
     "text": [
      "city\n",
      "Moscow              42741\n",
      "Saint-Petersburg    18512\n",
      "Name: city, dtype: int64\n"
     ]
    }
   ],
   "source": [
    "# Подсчёт прослушиваний в каждом городе\n",
    "print(df.groupby('city')['city'].count())"
   ]
  },
  {
   "cell_type": "markdown",
   "metadata": {
    "id": "dzli3w8o_Zcu"
   },
   "source": [
    "В Москве прослушиваний больше, чем в Петербурге. Из этого не следует, что московские пользователи чаще слушают музыку. Просто самих пользователей в Москве больше.\n",
    "\n",
    "Теперь сгруппируйте данные по дню недели и подсчитайте прослушивания в понедельник, среду и пятницу. Учтите, что в данных есть информация только о прослушиваниях только за эти дни.\n"
   ]
  },
  {
   "cell_type": "code",
   "execution_count": 19,
   "metadata": {
    "id": "uZMKjiJz_Zcu"
   },
   "outputs": [
    {
     "name": "stdout",
     "output_type": "stream",
     "text": [
      "day\n",
      "Friday       21840\n",
      "Monday       21354\n",
      "Wednesday    18059\n",
      "Name: user_id, dtype: int64\n"
     ]
    }
   ],
   "source": [
    "# Подсчёт прослушиваний в каждый из трёх дней\n",
    "print(df.groupby('day')['user_id'].count())"
   ]
  },
  {
   "cell_type": "markdown",
   "metadata": {
    "id": "cC2tNrlL_Zcu"
   },
   "source": [
    "В среднем пользователи из двух городов менее активны по средам. Но картина может измениться, если рассмотреть каждый город в отдельности."
   ]
  },
  {
   "cell_type": "markdown",
   "metadata": {},
   "source": [
    "Создам функцию `number_tracks()`, которая посчитает прослушивания для заданного дня и города. Ей понадобятся два параметра:\n",
    "* день недели,\n",
    "* название города."
   ]
  },
  {
   "cell_type": "code",
   "execution_count": 20,
   "metadata": {
    "id": "Nz3GdQB1_Zcu"
   },
   "outputs": [],
   "source": [
    "def number_tracks(day, city):\n",
    "    track_list = df[df['day'] == day]\n",
    "    track_list = track_list[track_list['city'] == city]\n",
    "    track_list_count = track_list['user_id'].count()\n",
    "    return track_list_count"
   ]
  },
  {
   "cell_type": "markdown",
   "metadata": {
    "id": "ytf7xFrFJQ2r"
   },
   "source": [
    "Вызову `number_tracks()` шесть раз, меняя значение параметров — так, чтобы получить данные для каждого города в каждый из трёх дней."
   ]
  },
  {
   "cell_type": "code",
   "execution_count": 21,
   "metadata": {},
   "outputs": [
    {
     "name": "stdout",
     "output_type": "stream",
     "text": [
      "По понедельникам\n",
      "15740 - в Москве\n",
      "5614 - в Санкт-Петербурге\n",
      "\n",
      "По средам\n",
      "11056 - в Москве\n",
      "7003 - в Санкт-Петербурге\n",
      "\n",
      "По пятницам\n",
      "15945 - в Москве\n",
      "5895 - в Санкт-Петербурге\n"
     ]
    }
   ],
   "source": [
    "print('По понедельникам')\n",
    "print(number_tracks('Monday', 'Moscow'), '- в Москве')\n",
    "print(number_tracks('Monday', 'Saint-Petersburg'), '- в Санкт-Петербурге')\n",
    "print()\n",
    "print('По средам')\n",
    "print(number_tracks('Wednesday', 'Moscow'), '- в Москве')\n",
    "print(number_tracks('Wednesday', 'Saint-Petersburg'), '- в Санкт-Петербурге')\n",
    "print()\n",
    "print('По пятницам')\n",
    "print(number_tracks('Friday', 'Moscow'), '- в Москве')\n",
    "print(number_tracks('Friday', 'Saint-Petersburg'), '- в Санкт-Петербурге')"
   ]
  },
  {
   "cell_type": "code",
   "execution_count": 22,
   "metadata": {
    "id": "APAcLpOr_Zcu"
   },
   "outputs": [
    {
     "data": {
      "text/html": [
       "<div>\n",
       "<style scoped>\n",
       "    .dataframe tbody tr th:only-of-type {\n",
       "        vertical-align: middle;\n",
       "    }\n",
       "\n",
       "    .dataframe tbody tr th {\n",
       "        vertical-align: top;\n",
       "    }\n",
       "\n",
       "    .dataframe thead th {\n",
       "        text-align: right;\n",
       "    }\n",
       "</style>\n",
       "<table border=\"1\" class=\"dataframe\">\n",
       "  <thead>\n",
       "    <tr style=\"text-align: right;\">\n",
       "      <th></th>\n",
       "      <th>city</th>\n",
       "      <th>monday</th>\n",
       "      <th>wednesday</th>\n",
       "      <th>friday</th>\n",
       "    </tr>\n",
       "  </thead>\n",
       "  <tbody>\n",
       "    <tr>\n",
       "      <td>0</td>\n",
       "      <td>Moscow</td>\n",
       "      <td>15740</td>\n",
       "      <td>11056</td>\n",
       "      <td>15945</td>\n",
       "    </tr>\n",
       "    <tr>\n",
       "      <td>1</td>\n",
       "      <td>Saint-Petersburg</td>\n",
       "      <td>5614</td>\n",
       "      <td>7003</td>\n",
       "      <td>5895</td>\n",
       "    </tr>\n",
       "  </tbody>\n",
       "</table>\n",
       "</div>"
      ],
      "text/plain": [
       "               city  monday  wednesday  friday\n",
       "0            Moscow   15740      11056   15945\n",
       "1  Saint-Petersburg    5614       7003    5895"
      ]
     },
     "metadata": {},
     "output_type": "display_data"
    }
   ],
   "source": [
    "# Таблица с результатами\n",
    "data = [\n",
    "        ['Moscow', 15740, 11056, 15945], \n",
    "        ['Saint-Petersburg', 5614, 7003, 5895]\n",
    "        ]\n",
    "\n",
    "columns = ['city', 'monday', 'wednesday', 'friday']\n",
    "\n",
    "display(pd.DataFrame(data=data, columns=columns))"
   ]
  },
  {
   "cell_type": "markdown",
   "metadata": {
    "id": "-EgPIHYu_Zcu"
   },
   "source": [
    "**Выводы**\n",
    "\n",
    "Данные показывают разницу поведения пользователей:\n",
    "\n",
    "- В Москве пик прослушиваний приходится на понедельник и пятницу, а в среду заметен спад.\n",
    "- В Петербурге, наоборот, больше слушают музыку по средам. Активность в понедельник и пятницу здесь почти в равной мере уступает среде.\n",
    "\n",
    "Значит, данные говорят в пользу первой гипотезы."
   ]
  },
  {
   "cell_type": "markdown",
   "metadata": {
    "id": "atZAxtq4_Zcu"
   },
   "source": [
    "### Музыка в начале и в конце недели"
   ]
  },
  {
   "cell_type": "markdown",
   "metadata": {
    "id": "eXrQqXFH_Zcu"
   },
   "source": [
    "Согласно второй гипотезе, утром в понедельник в Москве преобладают одни жанры, а в Петербурге — другие. Так же и вечером пятницы преобладают разные жанры — в зависимости от города."
   ]
  },
  {
   "cell_type": "markdown",
   "metadata": {
    "id": "S8UcW6Hw_Zcu"
   },
   "source": [
    "Сохраню таблицы с данными в две переменные:\n",
    "* по Москве — в `moscow_general`;\n",
    "* по Санкт-Петербургу — в `spb_general`."
   ]
  },
  {
   "cell_type": "code",
   "execution_count": 23,
   "metadata": {
    "id": "qeaFfM_P_Zcu"
   },
   "outputs": [],
   "source": [
    "# получение таблицы moscow_general из тех строк таблицы df, \n",
    "# для которых значение в столбце 'city' равно 'Moscow'\n",
    "\n",
    "moscow_general = df[df['city'] == 'Moscow']"
   ]
  },
  {
   "cell_type": "code",
   "execution_count": 24,
   "metadata": {
    "id": "ORaVRKto_Zcu"
   },
   "outputs": [],
   "source": [
    "# получение таблицы spb_general из тех строк таблицы df,\n",
    "# для которых значение в столбце 'city' равно 'Saint-Petersburg'\n",
    "\n",
    "spb_general = df[df['city'] == 'Saint-Petersburg']"
   ]
  },
  {
   "cell_type": "markdown",
   "metadata": {},
   "source": [
    "Создам функцию `genre_weekday()` с четырьмя параметрами:\n",
    "* таблица (датафрейм) с данными,\n",
    "* день недели,\n",
    "* начальная временная метка в формате 'hh:mm', \n",
    "* последняя временная метка в формате 'hh:mm'.\n",
    "\n",
    "Функция должна вернуть информацию о топ-10 жанров тех треков, которые прослушивали в указанный день, в промежутке между двумя отметками времени."
   ]
  },
  {
   "cell_type": "code",
   "execution_count": 25,
   "metadata": {
    "id": "laJT9BYl_Zcu"
   },
   "outputs": [],
   "source": [
    "def genre_weekday(table, day, time1, time2):\n",
    "    genre_df = table[table['day'] == day]\n",
    "    genre_df = genre_df[genre_df['time'] > time1]\n",
    "    genre_df = genre_df[genre_df['time'] < time2]\n",
    "    genre_df_count = genre_df.groupby('genre')['user_id'].count()\n",
    "    genre_df_sorted = genre_df_count.sort_values(ascending=False)\n",
    "    return genre_df_sorted.head(10)"
   ]
  },
  {
   "cell_type": "markdown",
   "metadata": {
    "id": "la2s2_PF_Zcu"
   },
   "source": [
    "Cравните результаты функции `genre_weekday()` для Москвы и Санкт-Петербурга в понедельник утром (с 7:00 до 11:00) и в пятницу вечером (с 17:00 до 23:00):"
   ]
  },
  {
   "cell_type": "code",
   "execution_count": 26,
   "metadata": {
    "id": "yz7itPUQ_Zcu"
   },
   "outputs": [
    {
     "data": {
      "text/plain": [
       "genre\n",
       "pop            781\n",
       "dance          549\n",
       "electronic     480\n",
       "rock           474\n",
       "hiphop         286\n",
       "ruspop         186\n",
       "world          181\n",
       "rusrap         175\n",
       "alternative    164\n",
       "unknown        161\n",
       "Name: user_id, dtype: int64"
      ]
     },
     "execution_count": 26,
     "metadata": {},
     "output_type": "execute_result"
    }
   ],
   "source": [
    "# вызов функции для утра понедельника в Москве (вместо df — таблица moscow_general)\n",
    "# объекты, хранящие время, являются строками и сравниваются как строки\n",
    "# пример вызова: genre_weekday(moscow_general, 'Monday', '07:00', '11:00')\n",
    "\n",
    "genre_weekday(moscow_general, 'Monday', '07:00', '11:00')"
   ]
  },
  {
   "cell_type": "code",
   "execution_count": 27,
   "metadata": {
    "id": "kwUcHPdy_Zcu"
   },
   "outputs": [
    {
     "data": {
      "text/plain": [
       "genre\n",
       "pop            218\n",
       "dance          182\n",
       "rock           162\n",
       "electronic     147\n",
       "hiphop          80\n",
       "ruspop          64\n",
       "alternative     58\n",
       "rusrap          55\n",
       "jazz            44\n",
       "classical       40\n",
       "Name: user_id, dtype: int64"
      ]
     },
     "execution_count": 27,
     "metadata": {},
     "output_type": "execute_result"
    }
   ],
   "source": [
    "# вызов функции для утра понедельника в Петербурге (вместо df — таблица spb_general)\n",
    "genre_weekday(spb_general, 'Monday', '07:00', '11:00')"
   ]
  },
  {
   "cell_type": "code",
   "execution_count": 28,
   "metadata": {
    "id": "EzXVRE1o_Zcu"
   },
   "outputs": [
    {
     "data": {
      "text/plain": [
       "genre\n",
       "pop            717\n",
       "dance          524\n",
       "rock           518\n",
       "electronic     485\n",
       "hiphop         238\n",
       "alternative    182\n",
       "world          172\n",
       "classical      172\n",
       "ruspop         149\n",
       "rusrap         133\n",
       "Name: user_id, dtype: int64"
      ]
     },
     "execution_count": 28,
     "metadata": {},
     "output_type": "execute_result"
    }
   ],
   "source": [
    "# вызов функции для вечера пятницы в Москве\n",
    "genre_weekday(moscow_general, 'Monday', '17:00', '23:00')"
   ]
  },
  {
   "cell_type": "code",
   "execution_count": 29,
   "metadata": {
    "id": "JZaEKu5v_Zcu"
   },
   "outputs": [
    {
     "data": {
      "text/plain": [
       "genre\n",
       "pop            263\n",
       "rock           208\n",
       "electronic     192\n",
       "dance          191\n",
       "hiphop         104\n",
       "alternative     72\n",
       "classical       71\n",
       "jazz            57\n",
       "rusrap          54\n",
       "ruspop          53\n",
       "Name: user_id, dtype: int64"
      ]
     },
     "execution_count": 29,
     "metadata": {},
     "output_type": "execute_result"
    }
   ],
   "source": [
    "# вызов функции для вечера пятницы в Петербурге\n",
    "genre_weekday(spb_general, 'Monday', '17:00', '23:00')"
   ]
  },
  {
   "cell_type": "markdown",
   "metadata": {
    "id": "wrCe4MNX_Zcu"
   },
   "source": [
    "**Выводы**\n",
    "\n",
    "Если сравнить топ-10 жанров в понедельник утром, можно сделать такие выводы:\n",
    "\n",
    "1. В Москве и Петербурге слушают похожую музыку. Единственное отличие — в московский рейтинг вошёл жанр “world”, а в петербургский — джаз и классика.\n",
    "\n",
    "2. В Москве пропущенных значений оказалось так много, что значение `'unknown'` заняло десятое место среди самых популярных жанров. Значит, пропущенные значения занимают существенную долю в данных и угрожают достоверности исследования.\n",
    "\n",
    "Вечер пятницы не меняет эту картину. Некоторые жанры поднимаются немного выше, другие спускаются, но в целом топ-10 остаётся тем же самым.\n",
    "\n",
    "Таким образом, вторая гипотеза подтвердилась лишь частично:\n",
    "* Пользователи слушают похожую музыку в начале недели и в конце.\n",
    "* Разница между Москвой и Петербургом не слишком выражена. В Москве чаще слушают русскую популярную музыку, в Петербурге — джаз.\n",
    "\n",
    "Однако пропуски в данных ставят под сомнение этот результат. В Москве их так много, что рейтинг топ-10 мог бы выглядеть иначе, если бы не утерянные  данные о жанрах."
   ]
  },
  {
   "cell_type": "markdown",
   "metadata": {
    "id": "JolODAqr_Zcu"
   },
   "source": [
    "### Жанровые предпочтения в Москве и Петербурге\n",
    "\n",
    "Гипотеза: Петербург — столица рэпа, музыку этого жанра там слушают чаще, чем в Москве.  А Москва — город контрастов, в котором, тем не менее, преобладает поп-музыка."
   ]
  },
  {
   "cell_type": "markdown",
   "metadata": {
    "id": "DlegSvaT_Zcu"
   },
   "source": [
    "Сгруппирую таблицу `moscow_general` по жанру и посчитаю прослушивания треков каждого жанра методом `count()`. Затем отсортирую результат в порядке убывания и сохраню его в таблице `moscow_genres`."
   ]
  },
  {
   "cell_type": "code",
   "execution_count": 30,
   "metadata": {
    "id": "r19lIPke_Zcu"
   },
   "outputs": [],
   "source": [
    "# одной строкой: группировка таблицы moscow_general по столбцу 'genre', \n",
    "# подсчёт числа значений 'genre' в этой группировке методом count(), \n",
    "# сортировка получившегося Series в порядке убывания и сохранение в moscow_genres\n",
    "\n",
    "moscow_genres = moscow_general.groupby('genre')['genre'].count().sort_values(ascending=False)"
   ]
  },
  {
   "cell_type": "markdown",
   "metadata": {
    "id": "6kMuomxTiIr8"
   },
   "source": [
    "Выведите на экран первые десять строк `moscow_genres`:"
   ]
  },
  {
   "cell_type": "code",
   "execution_count": 31,
   "metadata": {
    "id": "WhCSooF8_Zcv"
   },
   "outputs": [
    {
     "name": "stdout",
     "output_type": "stream",
     "text": [
      "genre\n",
      "pop            5892\n",
      "dance          4435\n",
      "rock           3965\n",
      "electronic     3786\n",
      "hiphop         2096\n",
      "classical      1616\n",
      "world          1432\n",
      "alternative    1379\n",
      "ruspop         1372\n",
      "rusrap         1161\n",
      "Name: genre, dtype: int64\n"
     ]
    }
   ],
   "source": [
    "# просмотр первых 10 строк moscow_genres\n",
    "\n",
    "print(moscow_genres.head(10))"
   ]
  },
  {
   "cell_type": "markdown",
   "metadata": {
    "id": "cnPG2vnN_Zcv"
   },
   "source": [
    "Теперь повторите то же и для Петербурга.\n",
    "\n",
    "Сгруппирую таблицу `spb_general` по жанру. Посчитаю прослушивания треков каждого жанра. Результат отсортирую в порядке убывания и сохраню в таблице `spb_genres`:"
   ]
  },
  {
   "cell_type": "code",
   "execution_count": 32,
   "metadata": {
    "id": "gluLIpE7_Zcv"
   },
   "outputs": [],
   "source": [
    "# одной строкой: группировка таблицы spb_general по столбцу 'genre', \n",
    "# подсчёт числа значений 'genre' в этой группировке методом count(), \n",
    "# сортировка получившегося Series в порядке убывания и сохранение в spb_genres\n",
    "\n",
    "spb_genres = spb_general.groupby('genre')['genre'].count().sort_values(ascending=False)"
   ]
  },
  {
   "cell_type": "markdown",
   "metadata": {
    "id": "5Doha_ODgyQ8"
   },
   "source": [
    "Выведите на экран первые десять строк `spb_genres`:"
   ]
  },
  {
   "cell_type": "code",
   "execution_count": 33,
   "metadata": {
    "id": "uaGJHjVU_Zcv"
   },
   "outputs": [
    {
     "name": "stdout",
     "output_type": "stream",
     "text": [
      "genre\n",
      "pop            2431\n",
      "dance          1932\n",
      "rock           1879\n",
      "electronic     1736\n",
      "hiphop          960\n",
      "alternative     649\n",
      "classical       646\n",
      "rusrap          564\n",
      "ruspop          538\n",
      "world           515\n",
      "Name: genre, dtype: int64\n"
     ]
    }
   ],
   "source": [
    "# просмотр первых 10 строк spb_genres\n",
    "\n",
    "print(spb_genres.head(10))"
   ]
  },
  {
   "cell_type": "markdown",
   "metadata": {
    "id": "RY51YJYu_Zcv"
   },
   "source": [
    "**Выводы**"
   ]
  },
  {
   "cell_type": "markdown",
   "metadata": {
    "id": "nVhnJEm__Zcv"
   },
   "source": [
    "Гипотеза частично подтвердилась:\n",
    "* Поп-музыка — самый популярный жанр в Москве, как и предполагала гипотеза. Более того, в топ-10 жанров встречается близкий жанр — русская популярная музыка.\n",
    "* Вопреки ожиданиям, рэп одинаково популярен в Москве и Петербурге. \n"
   ]
  },
  {
   "cell_type": "markdown",
   "metadata": {
    "id": "ykKQ0N65_Zcv"
   },
   "source": [
    "## Итоги исследования"
   ]
  },
  {
   "cell_type": "markdown",
   "metadata": {
    "id": "tjUwbHb3_Zcv"
   },
   "source": [
    "Я проверил три гипотезы и установил:\n",
    "\n",
    "1. **День недели по-разному влияет на активность пользователей в Москве и Петербурге.**\n",
    "\n",
    "Первая гипотеза полностью подтвердилась.\n",
    "\n",
    "2. **Музыкальные предпочтения не сильно меняются в течение недели — будь то Москва или Петербург. Небольшие различия заметны в начале недели, по понедельникам:**\n",
    "* в Москве слушают музыку жанра “world”,\n",
    "* в Петербурге — джаз и классику.\n",
    "\n",
    "Таким образом, вторая гипотеза подтвердилась лишь отчасти. Этот результат мог оказаться иным, если бы не пропуски в данных.\n",
    "\n",
    "3. **Во вкусах пользователей Москвы и Петербурга больше общего чем различий. Вопреки ожиданиям, предпочтения жанров в Петербурге напоминают московские.**\n",
    "\n",
    "Третья гипотеза не подтвердилась. Если различия в предпочтениях и существуют, на основной массе пользователей они незаметны."
   ]
  },
  {
   "cell_type": "code",
   "execution_count": null,
   "metadata": {},
   "outputs": [],
   "source": []
  }
 ],
 "metadata": {
  "ExecuteTimeLog": [
   {
    "duration": 720,
    "start_time": "2021-12-17T21:12:31.075Z"
   },
   {
    "duration": 166,
    "start_time": "2021-12-17T21:13:03.534Z"
   },
   {
    "duration": 10,
    "start_time": "2021-12-17T21:13:16.699Z"
   },
   {
    "duration": 22,
    "start_time": "2021-12-17T21:13:27.768Z"
   },
   {
    "duration": 9,
    "start_time": "2021-12-17T21:13:42.103Z"
   },
   {
    "duration": 15,
    "start_time": "2021-12-17T21:13:50.814Z"
   },
   {
    "duration": 45,
    "start_time": "2021-12-17T21:14:01.398Z"
   },
   {
    "duration": 45,
    "start_time": "2021-12-17T21:14:04.543Z"
   },
   {
    "duration": 153,
    "start_time": "2021-12-17T21:18:20.378Z"
   },
   {
    "duration": 479,
    "start_time": "2021-12-17T21:36:43.969Z"
   },
   {
    "duration": 789,
    "start_time": "2021-12-17T21:37:01.385Z"
   },
   {
    "duration": 169,
    "start_time": "2021-12-17T21:37:02.296Z"
   },
   {
    "duration": 25,
    "start_time": "2021-12-17T21:37:03.417Z"
   },
   {
    "duration": 32,
    "start_time": "2021-12-17T21:37:06.712Z"
   },
   {
    "duration": 394,
    "start_time": "2021-12-17T21:37:10.377Z"
   },
   {
    "duration": 5,
    "start_time": "2021-12-17T21:37:15.688Z"
   },
   {
    "duration": 27,
    "start_time": "2021-12-17T21:50:14.693Z"
   },
   {
    "duration": 5,
    "start_time": "2021-12-17T21:50:23.835Z"
   },
   {
    "duration": 12,
    "start_time": "2021-12-17T21:50:32.307Z"
   },
   {
    "duration": 32,
    "start_time": "2021-12-17T21:50:36.170Z"
   },
   {
    "duration": 6,
    "start_time": "2021-12-17T21:50:44.730Z"
   },
   {
    "duration": 12,
    "start_time": "2021-12-17T21:57:42.644Z"
   },
   {
    "duration": 38,
    "start_time": "2021-12-17T21:57:45.747Z"
   },
   {
    "duration": 33,
    "start_time": "2021-12-17T21:57:56.684Z"
   },
   {
    "duration": 31,
    "start_time": "2021-12-17T21:58:01.666Z"
   },
   {
    "duration": 21,
    "start_time": "2021-12-17T22:10:23.152Z"
   },
   {
    "duration": 4,
    "start_time": "2021-12-17T22:10:29.109Z"
   },
   {
    "duration": 29,
    "start_time": "2021-12-17T22:10:34.270Z"
   },
   {
    "duration": 786,
    "start_time": "2021-12-17T22:10:56.308Z"
   },
   {
    "duration": 170,
    "start_time": "2021-12-17T22:10:57.097Z"
   },
   {
    "duration": 27,
    "start_time": "2021-12-17T22:10:57.269Z"
   },
   {
    "duration": 51,
    "start_time": "2021-12-17T22:10:57.299Z"
   },
   {
    "duration": 6,
    "start_time": "2021-12-17T22:10:57.353Z"
   },
   {
    "duration": 26,
    "start_time": "2021-12-17T22:10:57.361Z"
   },
   {
    "duration": 35,
    "start_time": "2021-12-17T22:10:57.390Z"
   },
   {
    "duration": 32,
    "start_time": "2021-12-17T22:10:57.428Z"
   },
   {
    "duration": 21,
    "start_time": "2021-12-17T22:10:57.464Z"
   },
   {
    "duration": 55,
    "start_time": "2021-12-17T22:10:57.488Z"
   },
   {
    "duration": 4,
    "start_time": "2021-12-17T22:10:57.545Z"
   },
   {
    "duration": 8,
    "start_time": "2021-12-17T22:10:57.551Z"
   },
   {
    "duration": 6,
    "start_time": "2021-12-17T22:10:57.561Z"
   },
   {
    "duration": 7,
    "start_time": "2021-12-17T22:10:57.569Z"
   },
   {
    "duration": 6,
    "start_time": "2021-12-17T22:10:57.578Z"
   },
   {
    "duration": 18,
    "start_time": "2021-12-17T22:10:57.587Z"
   },
   {
    "duration": 21,
    "start_time": "2021-12-17T22:10:57.624Z"
   },
   {
    "duration": 12,
    "start_time": "2021-12-17T22:10:57.647Z"
   },
   {
    "duration": 22,
    "start_time": "2021-12-17T22:10:57.661Z"
   },
   {
    "duration": 20,
    "start_time": "2021-12-17T22:10:57.685Z"
   },
   {
    "duration": 41,
    "start_time": "2021-12-17T22:10:57.708Z"
   },
   {
    "duration": 32,
    "start_time": "2021-12-17T22:10:57.751Z"
   },
   {
    "duration": 21,
    "start_time": "2021-12-17T22:10:57.787Z"
   },
   {
    "duration": 18,
    "start_time": "2021-12-17T22:10:57.811Z"
   },
   {
    "duration": 35,
    "start_time": "2021-12-17T22:10:57.832Z"
   },
   {
    "duration": 42,
    "start_time": "2021-12-17T22:10:57.869Z"
   },
   {
    "duration": 32,
    "start_time": "2021-12-17T22:10:57.913Z"
   },
   {
    "duration": 29,
    "start_time": "2021-12-17T22:10:57.948Z"
   },
   {
    "duration": 19,
    "start_time": "2021-12-17T22:10:57.979Z"
   },
   {
    "duration": 26,
    "start_time": "2021-12-17T22:10:58.000Z"
   },
   {
    "duration": 35,
    "start_time": "2021-12-17T22:10:58.028Z"
   },
   {
    "duration": 27,
    "start_time": "2021-12-17T22:10:58.065Z"
   },
   {
    "duration": 43,
    "start_time": "2021-12-17T22:10:58.094Z"
   },
   {
    "duration": 30,
    "start_time": "2021-12-17T22:10:58.140Z"
   },
   {
    "duration": 23,
    "start_time": "2021-12-17T22:10:58.172Z"
   },
   {
    "duration": 23,
    "start_time": "2021-12-17T22:10:58.197Z"
   },
   {
    "duration": 26,
    "start_time": "2021-12-17T22:10:58.222Z"
   },
   {
    "duration": 36,
    "start_time": "2021-12-17T22:10:58.250Z"
   },
   {
    "duration": 79,
    "start_time": "2021-12-17T22:12:50.944Z"
   },
   {
    "duration": 75,
    "start_time": "2021-12-17T22:12:55.729Z"
   },
   {
    "duration": 81,
    "start_time": "2021-12-17T22:18:33.738Z"
   },
   {
    "duration": 105,
    "start_time": "2021-12-17T22:18:39.770Z"
   },
   {
    "duration": 97,
    "start_time": "2021-12-17T22:20:02.201Z"
   },
   {
    "duration": 101,
    "start_time": "2021-12-17T22:20:07.736Z"
   },
   {
    "duration": 102,
    "start_time": "2021-12-17T22:20:20.177Z"
   },
   {
    "duration": 106,
    "start_time": "2021-12-17T22:20:42.825Z"
   },
   {
    "duration": 112,
    "start_time": "2021-12-17T22:21:09.386Z"
   },
   {
    "duration": 160,
    "start_time": "2021-12-17T22:21:22.617Z"
   },
   {
    "duration": 112,
    "start_time": "2021-12-17T22:21:54.983Z"
   },
   {
    "duration": 73,
    "start_time": "2021-12-17T22:22:30.646Z"
   },
   {
    "duration": 9,
    "start_time": "2021-12-17T22:23:55.877Z"
   },
   {
    "duration": 391,
    "start_time": "2021-12-17T22:24:18.868Z"
   },
   {
    "duration": 318,
    "start_time": "2021-12-17T22:24:24.963Z"
   },
   {
    "duration": 330,
    "start_time": "2021-12-17T22:24:45.748Z"
   },
   {
    "duration": 317,
    "start_time": "2021-12-17T22:24:54.243Z"
   },
   {
    "duration": 8,
    "start_time": "2021-12-17T22:26:22.498Z"
   },
   {
    "duration": 363,
    "start_time": "2021-12-17T22:27:20.290Z"
   },
   {
    "duration": 318,
    "start_time": "2021-12-17T22:27:56.721Z"
   },
   {
    "duration": 360,
    "start_time": "2021-12-17T22:28:06.641Z"
   },
   {
    "duration": 352,
    "start_time": "2021-12-17T22:28:09.360Z"
   },
   {
    "duration": 8,
    "start_time": "2021-12-17T22:28:24.000Z"
   },
   {
    "duration": 13,
    "start_time": "2021-12-17T22:28:57.087Z"
   },
   {
    "duration": 12,
    "start_time": "2021-12-17T22:29:03.023Z"
   },
   {
    "duration": 11,
    "start_time": "2021-12-17T22:29:09.055Z"
   },
   {
    "duration": 8,
    "start_time": "2021-12-17T22:29:11.759Z"
   },
   {
    "duration": 52,
    "start_time": "2021-12-17T22:29:51.119Z"
   },
   {
    "duration": 51,
    "start_time": "2021-12-17T22:29:59.838Z"
   },
   {
    "duration": 4,
    "start_time": "2021-12-17T22:38:50.293Z"
   },
   {
    "duration": 58,
    "start_time": "2021-12-17T22:40:11.508Z"
   },
   {
    "duration": 4,
    "start_time": "2021-12-17T22:41:14.179Z"
   },
   {
    "duration": 320,
    "start_time": "2021-12-17T22:41:15.283Z"
   },
   {
    "duration": 14,
    "start_time": "2021-12-17T22:41:26.083Z"
   },
   {
    "duration": 57,
    "start_time": "2021-12-17T22:41:29.411Z"
   },
   {
    "duration": 17,
    "start_time": "2021-12-17T22:44:45.327Z"
   },
   {
    "duration": 53,
    "start_time": "2021-12-17T22:44:46.479Z"
   },
   {
    "duration": 47,
    "start_time": "2021-12-17T22:45:11.851Z"
   },
   {
    "duration": 59,
    "start_time": "2021-12-17T22:45:13.135Z"
   },
   {
    "duration": 721,
    "start_time": "2021-12-17T22:46:00.443Z"
   },
   {
    "duration": 185,
    "start_time": "2021-12-17T22:46:01.167Z"
   },
   {
    "duration": 25,
    "start_time": "2021-12-17T22:46:01.355Z"
   },
   {
    "duration": 54,
    "start_time": "2021-12-17T22:46:01.383Z"
   },
   {
    "duration": 12,
    "start_time": "2021-12-17T22:46:01.440Z"
   },
   {
    "duration": 34,
    "start_time": "2021-12-17T22:46:01.455Z"
   },
   {
    "duration": 14,
    "start_time": "2021-12-17T22:46:01.491Z"
   },
   {
    "duration": 29,
    "start_time": "2021-12-17T22:46:01.523Z"
   },
   {
    "duration": 33,
    "start_time": "2021-12-17T22:46:01.554Z"
   },
   {
    "duration": 36,
    "start_time": "2021-12-17T22:46:01.589Z"
   },
   {
    "duration": 104,
    "start_time": "2021-12-17T22:46:01.627Z"
   },
   {
    "duration": 116,
    "start_time": "2021-12-17T22:46:01.733Z"
   },
   {
    "duration": 125,
    "start_time": "2021-12-17T22:46:01.852Z"
   },
   {
    "duration": 103,
    "start_time": "2021-12-17T22:46:01.980Z"
   },
   {
    "duration": 9,
    "start_time": "2021-12-17T22:46:02.085Z"
   },
   {
    "duration": 44,
    "start_time": "2021-12-17T22:46:08.847Z"
   },
   {
    "duration": 58,
    "start_time": "2021-12-17T22:46:44.012Z"
   },
   {
    "duration": 17,
    "start_time": "2021-12-17T23:30:51.993Z"
   },
   {
    "duration": 235,
    "start_time": "2021-12-17T23:31:13.215Z"
   },
   {
    "duration": 304,
    "start_time": "2021-12-17T23:31:17.064Z"
   },
   {
    "duration": 18,
    "start_time": "2021-12-17T23:31:24.488Z"
   },
   {
    "duration": 323,
    "start_time": "2021-12-17T23:31:41.272Z"
   },
   {
    "duration": 30,
    "start_time": "2021-12-17T23:31:49.526Z"
   },
   {
    "duration": 34,
    "start_time": "2021-12-17T23:31:57.896Z"
   },
   {
    "duration": 33,
    "start_time": "2021-12-17T23:32:15.339Z"
   },
   {
    "duration": 36,
    "start_time": "2021-12-17T23:32:15.543Z"
   },
   {
    "duration": 20,
    "start_time": "2021-12-17T23:32:39.719Z"
   },
   {
    "duration": 37,
    "start_time": "2021-12-17T23:33:02.231Z"
   },
   {
    "duration": 22,
    "start_time": "2021-12-17T23:33:07.637Z"
   },
   {
    "duration": 130,
    "start_time": "2021-12-17T23:33:31.015Z"
   },
   {
    "duration": 21,
    "start_time": "2021-12-17T23:33:35.766Z"
   },
   {
    "duration": 21,
    "start_time": "2021-12-17T23:33:41.942Z"
   },
   {
    "duration": 27,
    "start_time": "2021-12-17T23:34:11.575Z"
   },
   {
    "duration": 36,
    "start_time": "2021-12-17T23:34:23.222Z"
   },
   {
    "duration": 32,
    "start_time": "2021-12-17T23:35:00.982Z"
   },
   {
    "duration": 5,
    "start_time": "2021-12-17T23:36:53.316Z"
   },
   {
    "duration": 42,
    "start_time": "2021-12-17T23:37:02.227Z"
   },
   {
    "duration": 13,
    "start_time": "2021-12-17T23:37:17.586Z"
   },
   {
    "duration": 242,
    "start_time": "2021-12-18T12:24:03.830Z"
   },
   {
    "duration": 4,
    "start_time": "2021-12-18T12:24:16.757Z"
   },
   {
    "duration": 203,
    "start_time": "2021-12-18T12:24:18.163Z"
   },
   {
    "duration": 202,
    "start_time": "2021-12-18T12:24:23.044Z"
   },
   {
    "duration": 192,
    "start_time": "2021-12-18T12:25:26.820Z"
   },
   {
    "duration": 411,
    "start_time": "2021-12-18T12:26:45.618Z"
   },
   {
    "duration": 539,
    "start_time": "2021-12-18T12:27:40.004Z"
   },
   {
    "duration": 116,
    "start_time": "2021-12-18T12:27:40.544Z"
   },
   {
    "duration": 16,
    "start_time": "2021-12-18T12:27:40.661Z"
   },
   {
    "duration": 26,
    "start_time": "2021-12-18T12:27:40.678Z"
   },
   {
    "duration": 3,
    "start_time": "2021-12-18T12:27:40.705Z"
   },
   {
    "duration": 17,
    "start_time": "2021-12-18T12:27:40.710Z"
   },
   {
    "duration": 3,
    "start_time": "2021-12-18T12:27:40.729Z"
   },
   {
    "duration": 20,
    "start_time": "2021-12-18T12:27:40.734Z"
   },
   {
    "duration": 38,
    "start_time": "2021-12-18T12:27:40.756Z"
   },
   {
    "duration": 18,
    "start_time": "2021-12-18T12:27:40.796Z"
   },
   {
    "duration": 49,
    "start_time": "2021-12-18T12:27:40.816Z"
   },
   {
    "duration": 82,
    "start_time": "2021-12-18T12:27:40.866Z"
   },
   {
    "duration": 47,
    "start_time": "2021-12-18T12:27:40.950Z"
   },
   {
    "duration": 35,
    "start_time": "2021-12-18T12:27:40.999Z"
   },
   {
    "duration": 2,
    "start_time": "2021-12-18T12:27:41.036Z"
   },
   {
    "duration": 48,
    "start_time": "2021-12-18T12:27:41.040Z"
   },
   {
    "duration": 34,
    "start_time": "2021-12-18T12:27:41.089Z"
   },
   {
    "duration": 19,
    "start_time": "2021-12-18T12:27:41.125Z"
   },
   {
    "duration": 9,
    "start_time": "2021-12-18T12:27:41.145Z"
   },
   {
    "duration": 4,
    "start_time": "2021-12-18T12:28:12.458Z"
   },
   {
    "duration": 440,
    "start_time": "2021-12-18T12:28:17.776Z"
   },
   {
    "duration": 4,
    "start_time": "2021-12-18T12:28:57.713Z"
   },
   {
    "duration": 394,
    "start_time": "2021-12-18T12:28:58.495Z"
   },
   {
    "duration": 6,
    "start_time": "2021-12-18T12:29:28.063Z"
   },
   {
    "duration": 482,
    "start_time": "2021-12-18T12:29:28.831Z"
   },
   {
    "duration": 546,
    "start_time": "2021-12-18T12:29:42.480Z"
   },
   {
    "duration": 413,
    "start_time": "2021-12-18T12:29:49.326Z"
   },
   {
    "duration": 4,
    "start_time": "2021-12-18T12:30:17.326Z"
   },
   {
    "duration": 397,
    "start_time": "2021-12-18T12:30:18.365Z"
   },
   {
    "duration": 3,
    "start_time": "2021-12-18T12:31:22.317Z"
   },
   {
    "duration": 417,
    "start_time": "2021-12-18T12:31:24.172Z"
   },
   {
    "duration": 73,
    "start_time": "2021-12-18T12:34:39.538Z"
   },
   {
    "duration": 3,
    "start_time": "2021-12-18T12:34:43.689Z"
   },
   {
    "duration": 552,
    "start_time": "2021-12-18T12:34:45.785Z"
   },
   {
    "duration": 4,
    "start_time": "2021-12-18T12:36:13.032Z"
   },
   {
    "duration": 25,
    "start_time": "2021-12-18T12:36:14.312Z"
   },
   {
    "duration": 18,
    "start_time": "2021-12-18T12:37:00.103Z"
   },
   {
    "duration": 28,
    "start_time": "2021-12-18T12:37:27.527Z"
   },
   {
    "duration": 9,
    "start_time": "2021-12-18T12:37:31.047Z"
   },
   {
    "duration": 3,
    "start_time": "2021-12-18T12:37:58.681Z"
   },
   {
    "duration": 17,
    "start_time": "2021-12-18T12:37:59.381Z"
   },
   {
    "duration": 14,
    "start_time": "2021-12-18T12:38:00.629Z"
   },
   {
    "duration": 14,
    "start_time": "2021-12-18T12:38:26.773Z"
   },
   {
    "duration": 15,
    "start_time": "2021-12-18T12:39:00.885Z"
   },
   {
    "duration": 15,
    "start_time": "2021-12-18T12:39:13.652Z"
   },
   {
    "duration": 12,
    "start_time": "2021-12-18T12:39:25.045Z"
   },
   {
    "duration": 13,
    "start_time": "2021-12-18T12:44:20.591Z"
   },
   {
    "duration": 12,
    "start_time": "2021-12-18T12:44:21.615Z"
   },
   {
    "duration": 13,
    "start_time": "2021-12-18T12:44:21.823Z"
   },
   {
    "duration": 12,
    "start_time": "2021-12-18T12:44:22.046Z"
   },
   {
    "duration": 12,
    "start_time": "2021-12-18T12:44:22.239Z"
   },
   {
    "duration": 12,
    "start_time": "2021-12-18T12:44:22.894Z"
   },
   {
    "duration": 18,
    "start_time": "2021-12-18T12:44:49.503Z"
   },
   {
    "duration": 15,
    "start_time": "2021-12-18T12:45:45.646Z"
   },
   {
    "duration": 13,
    "start_time": "2021-12-18T12:45:45.981Z"
   },
   {
    "duration": 16,
    "start_time": "2021-12-18T12:45:46.333Z"
   },
   {
    "duration": 14,
    "start_time": "2021-12-18T12:45:46.653Z"
   },
   {
    "duration": 16,
    "start_time": "2021-12-18T12:45:47.005Z"
   },
   {
    "duration": 3,
    "start_time": "2021-12-18T12:46:34.653Z"
   },
   {
    "duration": 7,
    "start_time": "2021-12-18T12:47:06.892Z"
   },
   {
    "duration": 8,
    "start_time": "2021-12-18T12:47:42.844Z"
   },
   {
    "duration": 10,
    "start_time": "2021-12-18T12:47:46.956Z"
   },
   {
    "duration": 9,
    "start_time": "2021-12-18T13:51:57.076Z"
   },
   {
    "duration": 11,
    "start_time": "2021-12-18T13:52:40.217Z"
   },
   {
    "duration": 8,
    "start_time": "2021-12-18T13:52:40.440Z"
   },
   {
    "duration": 4,
    "start_time": "2021-12-18T14:40:30.653Z"
   },
   {
    "duration": 17,
    "start_time": "2021-12-18T14:40:46.837Z"
   },
   {
    "duration": 3,
    "start_time": "2021-12-18T14:41:04.293Z"
   },
   {
    "duration": 17,
    "start_time": "2021-12-18T14:41:05.955Z"
   },
   {
    "duration": 17,
    "start_time": "2021-12-18T14:41:08.420Z"
   },
   {
    "duration": 4,
    "start_time": "2021-12-18T14:41:14.164Z"
   },
   {
    "duration": 16,
    "start_time": "2021-12-18T14:41:14.900Z"
   },
   {
    "duration": 11,
    "start_time": "2021-12-18T14:42:00.836Z"
   },
   {
    "duration": 11,
    "start_time": "2021-12-18T14:42:28.227Z"
   },
   {
    "duration": 13,
    "start_time": "2021-12-18T14:42:38.323Z"
   },
   {
    "duration": 12,
    "start_time": "2021-12-18T14:42:44.722Z"
   },
   {
    "duration": 10,
    "start_time": "2021-12-18T14:42:55.091Z"
   },
   {
    "duration": 11,
    "start_time": "2021-12-18T14:42:59.522Z"
   },
   {
    "duration": 15,
    "start_time": "2021-12-18T14:43:09.523Z"
   },
   {
    "duration": 597,
    "start_time": "2021-12-19T12:57:57.813Z"
   },
   {
    "duration": 131,
    "start_time": "2021-12-19T12:57:58.412Z"
   },
   {
    "duration": 16,
    "start_time": "2021-12-19T12:57:58.545Z"
   },
   {
    "duration": 27,
    "start_time": "2021-12-19T12:57:58.563Z"
   },
   {
    "duration": 4,
    "start_time": "2021-12-19T12:57:58.592Z"
   },
   {
    "duration": 18,
    "start_time": "2021-12-19T12:57:58.607Z"
   },
   {
    "duration": 6,
    "start_time": "2021-12-19T12:57:58.626Z"
   },
   {
    "duration": 21,
    "start_time": "2021-12-19T12:57:58.634Z"
   },
   {
    "duration": 16,
    "start_time": "2021-12-19T12:57:58.657Z"
   },
   {
    "duration": 49,
    "start_time": "2021-12-19T12:57:58.675Z"
   },
   {
    "duration": 54,
    "start_time": "2021-12-19T12:57:58.726Z"
   },
   {
    "duration": 80,
    "start_time": "2021-12-19T12:57:58.782Z"
   },
   {
    "duration": 57,
    "start_time": "2021-12-19T12:57:58.863Z"
   },
   {
    "duration": 39,
    "start_time": "2021-12-19T12:57:58.922Z"
   },
   {
    "duration": 3,
    "start_time": "2021-12-19T12:57:58.963Z"
   },
   {
    "duration": 45,
    "start_time": "2021-12-19T12:57:58.967Z"
   },
   {
    "duration": 40,
    "start_time": "2021-12-19T12:57:59.014Z"
   },
   {
    "duration": 21,
    "start_time": "2021-12-19T12:57:59.056Z"
   },
   {
    "duration": 30,
    "start_time": "2021-12-19T12:57:59.079Z"
   },
   {
    "duration": 3,
    "start_time": "2021-12-19T12:57:59.111Z"
   },
   {
    "duration": 19,
    "start_time": "2021-12-19T12:57:59.115Z"
   },
   {
    "duration": 13,
    "start_time": "2021-12-19T12:57:59.136Z"
   },
   {
    "duration": 13,
    "start_time": "2021-12-19T12:57:59.152Z"
   },
   {
    "duration": 41,
    "start_time": "2021-12-19T12:57:59.167Z"
   },
   {
    "duration": 16,
    "start_time": "2021-12-19T12:57:59.210Z"
   },
   {
    "duration": 13,
    "start_time": "2021-12-19T12:57:59.228Z"
   },
   {
    "duration": 7,
    "start_time": "2021-12-19T12:57:59.243Z"
   },
   {
    "duration": 12,
    "start_time": "2021-12-19T12:57:59.252Z"
   },
   {
    "duration": 9,
    "start_time": "2021-12-19T12:57:59.266Z"
   },
   {
    "duration": 4,
    "start_time": "2021-12-19T12:57:59.307Z"
   },
   {
    "duration": 22,
    "start_time": "2021-12-19T12:57:59.312Z"
   },
   {
    "duration": 12,
    "start_time": "2021-12-19T12:57:59.335Z"
   },
   {
    "duration": 16,
    "start_time": "2021-12-19T12:57:59.348Z"
   },
   {
    "duration": 10,
    "start_time": "2021-12-19T12:57:59.365Z"
   },
   {
    "duration": 9,
    "start_time": "2021-12-19T13:00:12.546Z"
   },
   {
    "duration": 380,
    "start_time": "2021-12-19T13:00:21.160Z"
   },
   {
    "duration": 3,
    "start_time": "2021-12-19T13:00:38.049Z"
   },
   {
    "duration": 5,
    "start_time": "2021-12-19T13:00:43.113Z"
   },
   {
    "duration": 9,
    "start_time": "2021-12-19T13:00:49.880Z"
   },
   {
    "duration": 5,
    "start_time": "2021-12-19T13:00:52.071Z"
   },
   {
    "duration": 9,
    "start_time": "2021-12-19T13:00:58.472Z"
   },
   {
    "duration": 5,
    "start_time": "2021-12-19T13:00:59.128Z"
   },
   {
    "duration": 316,
    "start_time": "2021-12-19T14:29:06.133Z"
   },
   {
    "duration": 6,
    "start_time": "2021-12-19T14:29:07.899Z"
   },
   {
    "duration": 4,
    "start_time": "2021-12-19T14:29:08.955Z"
   },
   {
    "duration": 4,
    "start_time": "2021-12-19T14:29:13.371Z"
   },
   {
    "duration": 3,
    "start_time": "2021-12-19T14:32:07.802Z"
   },
   {
    "duration": 157,
    "start_time": "2021-12-19T14:32:07.807Z"
   },
   {
    "duration": 9,
    "start_time": "2021-12-19T14:32:07.966Z"
   },
   {
    "duration": 44,
    "start_time": "2021-12-19T14:32:07.977Z"
   },
   {
    "duration": 4,
    "start_time": "2021-12-19T14:32:08.023Z"
   },
   {
    "duration": 17,
    "start_time": "2021-12-19T14:32:08.029Z"
   },
   {
    "duration": 4,
    "start_time": "2021-12-19T14:32:08.048Z"
   },
   {
    "duration": 26,
    "start_time": "2021-12-19T14:32:08.054Z"
   },
   {
    "duration": 37,
    "start_time": "2021-12-19T14:32:08.082Z"
   },
   {
    "duration": 23,
    "start_time": "2021-12-19T14:32:08.121Z"
   },
   {
    "duration": 75,
    "start_time": "2021-12-19T14:32:08.146Z"
   },
   {
    "duration": 70,
    "start_time": "2021-12-19T14:32:08.223Z"
   },
   {
    "duration": 58,
    "start_time": "2021-12-19T14:32:08.295Z"
   },
   {
    "duration": 52,
    "start_time": "2021-12-19T14:32:08.355Z"
   },
   {
    "duration": 3,
    "start_time": "2021-12-19T14:32:08.409Z"
   },
   {
    "duration": 32,
    "start_time": "2021-12-19T14:32:08.414Z"
   },
   {
    "duration": 64,
    "start_time": "2021-12-19T14:32:08.448Z"
   },
   {
    "duration": 25,
    "start_time": "2021-12-19T14:32:08.514Z"
   },
   {
    "duration": 10,
    "start_time": "2021-12-19T14:32:08.543Z"
   },
   {
    "duration": 4,
    "start_time": "2021-12-19T14:32:08.556Z"
   },
   {
    "duration": 53,
    "start_time": "2021-12-19T14:32:08.562Z"
   },
   {
    "duration": 16,
    "start_time": "2021-12-19T14:32:08.617Z"
   },
   {
    "duration": 16,
    "start_time": "2021-12-19T14:32:08.635Z"
   },
   {
    "duration": 15,
    "start_time": "2021-12-19T14:32:08.653Z"
   },
   {
    "duration": 53,
    "start_time": "2021-12-19T14:32:08.670Z"
   },
   {
    "duration": 16,
    "start_time": "2021-12-19T14:32:08.725Z"
   },
   {
    "duration": 8,
    "start_time": "2021-12-19T14:32:08.743Z"
   },
   {
    "duration": 15,
    "start_time": "2021-12-19T14:32:08.753Z"
   },
   {
    "duration": 41,
    "start_time": "2021-12-19T14:32:08.770Z"
   },
   {
    "duration": 5,
    "start_time": "2021-12-19T14:32:08.812Z"
   },
   {
    "duration": 23,
    "start_time": "2021-12-19T14:32:08.818Z"
   },
   {
    "duration": 13,
    "start_time": "2021-12-19T14:32:08.843Z"
   },
   {
    "duration": 17,
    "start_time": "2021-12-19T14:32:08.857Z"
   },
   {
    "duration": 40,
    "start_time": "2021-12-19T14:32:08.876Z"
   },
   {
    "duration": 10,
    "start_time": "2021-12-19T14:32:08.918Z"
   },
   {
    "duration": 5,
    "start_time": "2021-12-19T14:32:08.929Z"
   },
   {
    "duration": 9,
    "start_time": "2021-12-19T14:32:08.936Z"
   },
   {
    "duration": 4,
    "start_time": "2021-12-19T14:32:08.946Z"
   },
   {
    "duration": 613,
    "start_time": "2021-12-19T14:32:26.170Z"
   },
   {
    "duration": 132,
    "start_time": "2021-12-19T14:32:26.785Z"
   },
   {
    "duration": 17,
    "start_time": "2021-12-19T14:32:26.920Z"
   },
   {
    "duration": 22,
    "start_time": "2021-12-19T14:32:26.939Z"
   },
   {
    "duration": 5,
    "start_time": "2021-12-19T14:32:26.963Z"
   },
   {
    "duration": 40,
    "start_time": "2021-12-19T14:32:26.972Z"
   },
   {
    "duration": 6,
    "start_time": "2021-12-19T14:32:27.014Z"
   },
   {
    "duration": 22,
    "start_time": "2021-12-19T14:32:27.022Z"
   },
   {
    "duration": 15,
    "start_time": "2021-12-19T14:32:27.046Z"
   },
   {
    "duration": 48,
    "start_time": "2021-12-19T14:32:27.063Z"
   },
   {
    "duration": 53,
    "start_time": "2021-12-19T14:32:27.113Z"
   },
   {
    "duration": 91,
    "start_time": "2021-12-19T14:32:27.168Z"
   },
   {
    "duration": 56,
    "start_time": "2021-12-19T14:32:27.261Z"
   },
   {
    "duration": 46,
    "start_time": "2021-12-19T14:32:27.319Z"
   },
   {
    "duration": 3,
    "start_time": "2021-12-19T14:32:27.367Z"
   },
   {
    "duration": 53,
    "start_time": "2021-12-19T14:32:27.372Z"
   },
   {
    "duration": 39,
    "start_time": "2021-12-19T14:32:27.427Z"
   },
   {
    "duration": 40,
    "start_time": "2021-12-19T14:32:27.468Z"
   },
   {
    "duration": 11,
    "start_time": "2021-12-19T14:32:27.509Z"
   },
   {
    "duration": 4,
    "start_time": "2021-12-19T14:32:27.521Z"
   },
   {
    "duration": 20,
    "start_time": "2021-12-19T14:32:27.526Z"
   },
   {
    "duration": 13,
    "start_time": "2021-12-19T14:32:27.547Z"
   },
   {
    "duration": 13,
    "start_time": "2021-12-19T14:32:27.564Z"
   },
   {
    "duration": 14,
    "start_time": "2021-12-19T14:32:27.606Z"
   },
   {
    "duration": 15,
    "start_time": "2021-12-19T14:32:27.621Z"
   },
   {
    "duration": 14,
    "start_time": "2021-12-19T14:32:27.637Z"
   },
   {
    "duration": 8,
    "start_time": "2021-12-19T14:32:27.653Z"
   },
   {
    "duration": 43,
    "start_time": "2021-12-19T14:32:27.663Z"
   },
   {
    "duration": 9,
    "start_time": "2021-12-19T14:32:27.708Z"
   },
   {
    "duration": 4,
    "start_time": "2021-12-19T14:32:27.718Z"
   },
   {
    "duration": 21,
    "start_time": "2021-12-19T14:32:27.724Z"
   },
   {
    "duration": 12,
    "start_time": "2021-12-19T14:32:27.747Z"
   },
   {
    "duration": 15,
    "start_time": "2021-12-19T14:32:27.760Z"
   },
   {
    "duration": 38,
    "start_time": "2021-12-19T14:32:27.777Z"
   },
   {
    "duration": 7,
    "start_time": "2021-12-19T14:32:27.817Z"
   },
   {
    "duration": 3,
    "start_time": "2021-12-19T14:32:27.826Z"
   },
   {
    "duration": 7,
    "start_time": "2021-12-19T14:32:27.831Z"
   },
   {
    "duration": 4,
    "start_time": "2021-12-19T14:32:27.840Z"
   },
   {
    "duration": 17,
    "start_time": "2021-12-19T14:56:30.918Z"
   },
   {
    "duration": 13,
    "start_time": "2021-12-19T14:57:14.654Z"
   },
   {
    "duration": 8,
    "start_time": "2021-12-19T14:57:34.891Z"
   },
   {
    "duration": 11,
    "start_time": "2021-12-19T14:57:47.737Z"
   },
   {
    "duration": 16,
    "start_time": "2021-12-19T15:09:09.984Z"
   },
   {
    "duration": 10,
    "start_time": "2021-12-19T15:22:01.190Z"
   },
   {
    "duration": 601,
    "start_time": "2021-12-19T15:22:14.269Z"
   },
   {
    "duration": 132,
    "start_time": "2021-12-19T15:22:14.871Z"
   },
   {
    "duration": 17,
    "start_time": "2021-12-19T15:22:15.005Z"
   },
   {
    "duration": 26,
    "start_time": "2021-12-19T15:22:15.024Z"
   },
   {
    "duration": 5,
    "start_time": "2021-12-19T15:22:15.052Z"
   },
   {
    "duration": 23,
    "start_time": "2021-12-19T15:22:15.058Z"
   },
   {
    "duration": 25,
    "start_time": "2021-12-19T15:22:15.083Z"
   },
   {
    "duration": 23,
    "start_time": "2021-12-19T15:22:15.110Z"
   },
   {
    "duration": 17,
    "start_time": "2021-12-19T15:22:15.135Z"
   },
   {
    "duration": 22,
    "start_time": "2021-12-19T15:22:15.153Z"
   },
   {
    "duration": 80,
    "start_time": "2021-12-19T15:22:15.176Z"
   },
   {
    "duration": 88,
    "start_time": "2021-12-19T15:22:15.257Z"
   },
   {
    "duration": 59,
    "start_time": "2021-12-19T15:22:15.347Z"
   },
   {
    "duration": 40,
    "start_time": "2021-12-19T15:22:15.408Z"
   },
   {
    "duration": 3,
    "start_time": "2021-12-19T15:22:15.449Z"
   },
   {
    "duration": 30,
    "start_time": "2021-12-19T15:22:15.454Z"
   },
   {
    "duration": 57,
    "start_time": "2021-12-19T15:22:15.485Z"
   },
   {
    "duration": 23,
    "start_time": "2021-12-19T15:22:15.543Z"
   },
   {
    "duration": 9,
    "start_time": "2021-12-19T15:22:15.568Z"
   },
   {
    "duration": 8,
    "start_time": "2021-12-19T15:22:15.579Z"
   },
   {
    "duration": 17,
    "start_time": "2021-12-19T15:22:15.607Z"
   },
   {
    "duration": 14,
    "start_time": "2021-12-19T15:22:15.626Z"
   },
   {
    "duration": 15,
    "start_time": "2021-12-19T15:22:15.643Z"
   },
   {
    "duration": 14,
    "start_time": "2021-12-19T15:22:15.660Z"
   },
   {
    "duration": 16,
    "start_time": "2021-12-19T15:22:15.706Z"
   },
   {
    "duration": 13,
    "start_time": "2021-12-19T15:22:15.724Z"
   },
   {
    "duration": 7,
    "start_time": "2021-12-19T15:22:15.739Z"
   },
   {
    "duration": 10,
    "start_time": "2021-12-19T15:22:15.748Z"
   },
   {
    "duration": 8,
    "start_time": "2021-12-19T15:22:15.760Z"
   },
   {
    "duration": 4,
    "start_time": "2021-12-19T15:22:15.769Z"
   },
   {
    "duration": 18,
    "start_time": "2021-12-19T15:22:15.807Z"
   },
   {
    "duration": 11,
    "start_time": "2021-12-19T15:22:15.827Z"
   },
   {
    "duration": 16,
    "start_time": "2021-12-19T15:22:15.839Z"
   },
   {
    "duration": 12,
    "start_time": "2021-12-19T15:22:15.856Z"
   },
   {
    "duration": 41,
    "start_time": "2021-12-19T15:22:15.869Z"
   },
   {
    "duration": 4,
    "start_time": "2021-12-19T15:22:15.911Z"
   },
   {
    "duration": 8,
    "start_time": "2021-12-19T15:22:15.916Z"
   },
   {
    "duration": 3,
    "start_time": "2021-12-19T15:22:15.926Z"
   },
   {
    "duration": 97,
    "start_time": "2021-12-20T12:46:58.750Z"
   },
   {
    "duration": 767,
    "start_time": "2021-12-20T12:55:25.029Z"
   },
   {
    "duration": 178,
    "start_time": "2021-12-20T12:55:25.799Z"
   },
   {
    "duration": 24,
    "start_time": "2021-12-20T12:55:25.980Z"
   },
   {
    "duration": 55,
    "start_time": "2021-12-20T12:55:26.007Z"
   },
   {
    "duration": 5,
    "start_time": "2021-12-20T12:55:26.064Z"
   },
   {
    "duration": 27,
    "start_time": "2021-12-20T12:55:26.072Z"
   },
   {
    "duration": 7,
    "start_time": "2021-12-20T12:55:26.101Z"
   },
   {
    "duration": 75,
    "start_time": "2021-12-20T12:55:26.110Z"
   },
   {
    "duration": 34,
    "start_time": "2021-12-20T12:55:26.190Z"
   },
   {
    "duration": 45,
    "start_time": "2021-12-20T12:55:26.227Z"
   },
   {
    "duration": 97,
    "start_time": "2021-12-20T12:55:26.275Z"
   },
   {
    "duration": 129,
    "start_time": "2021-12-20T12:55:26.374Z"
   },
   {
    "duration": 84,
    "start_time": "2021-12-20T12:55:26.506Z"
   },
   {
    "duration": 74,
    "start_time": "2021-12-20T12:55:26.592Z"
   },
   {
    "duration": 5,
    "start_time": "2021-12-20T12:55:26.668Z"
   },
   {
    "duration": 49,
    "start_time": "2021-12-20T12:55:26.677Z"
   },
   {
    "duration": 86,
    "start_time": "2021-12-20T12:55:26.728Z"
   },
   {
    "duration": 63,
    "start_time": "2021-12-20T12:55:26.818Z"
   },
   {
    "duration": 20,
    "start_time": "2021-12-20T12:55:26.884Z"
   },
   {
    "duration": 14,
    "start_time": "2021-12-20T12:55:26.907Z"
   },
   {
    "duration": 54,
    "start_time": "2021-12-20T12:55:26.924Z"
   },
   {
    "duration": 26,
    "start_time": "2021-12-20T12:55:26.981Z"
   },
   {
    "duration": 52,
    "start_time": "2021-12-20T12:55:27.010Z"
   },
   {
    "duration": 27,
    "start_time": "2021-12-20T12:55:27.065Z"
   },
   {
    "duration": 31,
    "start_time": "2021-12-20T12:55:27.095Z"
   },
   {
    "duration": 51,
    "start_time": "2021-12-20T12:55:27.129Z"
   },
   {
    "duration": 12,
    "start_time": "2021-12-20T12:55:27.186Z"
   },
   {
    "duration": 14,
    "start_time": "2021-12-20T12:55:27.201Z"
   },
   {
    "duration": 50,
    "start_time": "2021-12-20T12:55:27.217Z"
   },
   {
    "duration": 6,
    "start_time": "2021-12-20T12:55:27.270Z"
   },
   {
    "duration": 26,
    "start_time": "2021-12-20T12:55:27.279Z"
   },
   {
    "duration": 16,
    "start_time": "2021-12-20T12:55:27.307Z"
   },
   {
    "duration": 53,
    "start_time": "2021-12-20T12:55:27.325Z"
   },
   {
    "duration": 17,
    "start_time": "2021-12-20T12:55:27.381Z"
   },
   {
    "duration": 12,
    "start_time": "2021-12-20T12:55:27.400Z"
   },
   {
    "duration": 5,
    "start_time": "2021-12-20T12:55:27.415Z"
   },
   {
    "duration": 48,
    "start_time": "2021-12-20T12:55:27.422Z"
   },
   {
    "duration": 5,
    "start_time": "2021-12-20T12:55:27.472Z"
   },
   {
    "duration": 248,
    "start_time": "2021-12-20T23:10:48.859Z"
   },
   {
    "duration": 579,
    "start_time": "2021-12-20T23:11:06.906Z"
   },
   {
    "duration": 140,
    "start_time": "2021-12-20T23:11:07.487Z"
   },
   {
    "duration": 16,
    "start_time": "2021-12-20T23:11:07.629Z"
   },
   {
    "duration": 41,
    "start_time": "2021-12-20T23:11:07.647Z"
   },
   {
    "duration": 5,
    "start_time": "2021-12-20T23:11:07.690Z"
   },
   {
    "duration": 23,
    "start_time": "2021-12-20T23:11:07.697Z"
   },
   {
    "duration": 4,
    "start_time": "2021-12-20T23:11:07.721Z"
   },
   {
    "duration": 41,
    "start_time": "2021-12-20T23:11:07.728Z"
   },
   {
    "duration": 18,
    "start_time": "2021-12-20T23:11:07.771Z"
   },
   {
    "duration": 22,
    "start_time": "2021-12-20T23:11:07.791Z"
   },
   {
    "duration": 87,
    "start_time": "2021-12-20T23:11:07.815Z"
   },
   {
    "duration": 74,
    "start_time": "2021-12-20T23:11:07.904Z"
   },
   {
    "duration": 48,
    "start_time": "2021-12-20T23:11:07.980Z"
   },
   {
    "duration": 63,
    "start_time": "2021-12-20T23:11:08.030Z"
   },
   {
    "duration": 3,
    "start_time": "2021-12-20T23:11:08.095Z"
   },
   {
    "duration": 29,
    "start_time": "2021-12-20T23:11:08.100Z"
   },
   {
    "duration": 59,
    "start_time": "2021-12-20T23:11:08.131Z"
   },
   {
    "duration": 22,
    "start_time": "2021-12-20T23:11:08.191Z"
   },
   {
    "duration": 9,
    "start_time": "2021-12-20T23:11:08.214Z"
   },
   {
    "duration": 4,
    "start_time": "2021-12-20T23:11:08.225Z"
   },
   {
    "duration": 46,
    "start_time": "2021-12-20T23:11:08.231Z"
   },
   {
    "duration": 14,
    "start_time": "2021-12-20T23:11:08.279Z"
   },
   {
    "duration": 15,
    "start_time": "2021-12-20T23:11:08.297Z"
   },
   {
    "duration": 14,
    "start_time": "2021-12-20T23:11:08.314Z"
   },
   {
    "duration": 51,
    "start_time": "2021-12-20T23:11:08.330Z"
   },
   {
    "duration": 15,
    "start_time": "2021-12-20T23:11:08.383Z"
   },
   {
    "duration": 8,
    "start_time": "2021-12-20T23:11:08.400Z"
   },
   {
    "duration": 12,
    "start_time": "2021-12-20T23:11:08.410Z"
   },
   {
    "duration": 37,
    "start_time": "2021-12-20T23:11:08.423Z"
   },
   {
    "duration": 3,
    "start_time": "2021-12-20T23:11:08.473Z"
   },
   {
    "duration": 25,
    "start_time": "2021-12-20T23:11:08.478Z"
   },
   {
    "duration": 11,
    "start_time": "2021-12-20T23:11:08.504Z"
   },
   {
    "duration": 15,
    "start_time": "2021-12-20T23:11:08.517Z"
   },
   {
    "duration": 40,
    "start_time": "2021-12-20T23:11:08.534Z"
   },
   {
    "duration": 7,
    "start_time": "2021-12-20T23:11:08.576Z"
   },
   {
    "duration": 3,
    "start_time": "2021-12-20T23:11:08.585Z"
   },
   {
    "duration": 7,
    "start_time": "2021-12-20T23:11:08.590Z"
   },
   {
    "duration": 4,
    "start_time": "2021-12-20T23:11:08.598Z"
   },
   {
    "duration": 215,
    "start_time": "2021-12-20T23:16:49.122Z"
   },
   {
    "duration": 10,
    "start_time": "2021-12-20T23:16:58.569Z"
   },
   {
    "duration": 11,
    "start_time": "2021-12-20T23:17:08.089Z"
   },
   {
    "duration": 14,
    "start_time": "2021-12-20T23:17:14.766Z"
   },
   {
    "duration": 12,
    "start_time": "2021-12-20T23:17:19.512Z"
   },
   {
    "duration": 2,
    "start_time": "2021-12-20T23:25:46.985Z"
   },
   {
    "duration": 797,
    "start_time": "2021-12-21T08:33:22.776Z"
   },
   {
    "duration": 184,
    "start_time": "2021-12-21T08:33:23.576Z"
   },
   {
    "duration": 29,
    "start_time": "2021-12-21T08:33:23.763Z"
   },
   {
    "duration": 33,
    "start_time": "2021-12-21T08:33:23.795Z"
   },
   {
    "duration": 30,
    "start_time": "2021-12-21T08:33:23.831Z"
   },
   {
    "duration": 27,
    "start_time": "2021-12-21T08:33:23.863Z"
   },
   {
    "duration": 6,
    "start_time": "2021-12-21T08:33:23.893Z"
   },
   {
    "duration": 65,
    "start_time": "2021-12-21T08:33:23.905Z"
   },
   {
    "duration": 25,
    "start_time": "2021-12-21T08:33:23.974Z"
   },
   {
    "duration": 58,
    "start_time": "2021-12-21T08:33:24.002Z"
   },
   {
    "duration": 99,
    "start_time": "2021-12-21T08:33:24.063Z"
   },
   {
    "duration": 126,
    "start_time": "2021-12-21T08:33:24.165Z"
   },
   {
    "duration": 85,
    "start_time": "2021-12-21T08:33:24.294Z"
   },
   {
    "duration": 57,
    "start_time": "2021-12-21T08:33:24.382Z"
   },
   {
    "duration": 4,
    "start_time": "2021-12-21T08:33:24.459Z"
   },
   {
    "duration": 46,
    "start_time": "2021-12-21T08:33:24.465Z"
   },
   {
    "duration": 71,
    "start_time": "2021-12-21T08:33:24.513Z"
   },
   {
    "duration": 13,
    "start_time": "2021-12-21T08:33:24.586Z"
   },
   {
    "duration": 13,
    "start_time": "2021-12-21T08:33:24.601Z"
   },
   {
    "duration": 5,
    "start_time": "2021-12-21T08:33:24.617Z"
   },
   {
    "duration": 22,
    "start_time": "2021-12-21T08:33:24.660Z"
   },
   {
    "duration": 19,
    "start_time": "2021-12-21T08:33:24.684Z"
   },
   {
    "duration": 17,
    "start_time": "2021-12-21T08:33:24.708Z"
   },
   {
    "duration": 46,
    "start_time": "2021-12-21T08:33:24.728Z"
   },
   {
    "duration": 20,
    "start_time": "2021-12-21T08:33:24.776Z"
   },
   {
    "duration": 18,
    "start_time": "2021-12-21T08:33:24.799Z"
   },
   {
    "duration": 49,
    "start_time": "2021-12-21T08:33:24.819Z"
   },
   {
    "duration": 16,
    "start_time": "2021-12-21T08:33:24.870Z"
   },
   {
    "duration": 11,
    "start_time": "2021-12-21T08:33:24.889Z"
   },
   {
    "duration": 5,
    "start_time": "2021-12-21T08:33:24.903Z"
   },
   {
    "duration": 63,
    "start_time": "2021-12-21T08:33:24.910Z"
   },
   {
    "duration": 16,
    "start_time": "2021-12-21T08:33:24.976Z"
   },
   {
    "duration": 22,
    "start_time": "2021-12-21T08:33:24.994Z"
   },
   {
    "duration": 45,
    "start_time": "2021-12-21T08:33:25.018Z"
   },
   {
    "duration": 11,
    "start_time": "2021-12-21T08:33:25.065Z"
   },
   {
    "duration": 6,
    "start_time": "2021-12-21T08:33:25.079Z"
   },
   {
    "duration": 13,
    "start_time": "2021-12-21T08:33:25.087Z"
   },
   {
    "duration": 5,
    "start_time": "2021-12-21T08:33:25.102Z"
   }
  ],
  "colab": {
   "collapsed_sections": [
    "E0vqbgi9ay0H",
    "VUC88oWjTJw2"
   ],
   "name": "yandex_music_project_2021.2.ipynb",
   "provenance": []
  },
  "kernelspec": {
   "display_name": "Python 3 (ipykernel)",
   "language": "python",
   "name": "python3"
  },
  "language_info": {
   "codemirror_mode": {
    "name": "ipython",
    "version": 3
   },
   "file_extension": ".py",
   "mimetype": "text/x-python",
   "name": "python",
   "nbconvert_exporter": "python",
   "pygments_lexer": "ipython3",
   "version": "3.7.8"
  },
  "toc": {
   "base_numbering": 1,
   "nav_menu": {},
   "number_sections": true,
   "sideBar": true,
   "skip_h1_title": true,
   "title_cell": "Table of Contents",
   "title_sidebar": "Contents",
   "toc_cell": false,
   "toc_position": {
    "height": "calc(100% - 180px)",
    "left": "10px",
    "top": "150px",
    "width": "298.375px"
   },
   "toc_section_display": true,
   "toc_window_display": true
  }
 },
 "nbformat": 4,
 "nbformat_minor": 1
}
