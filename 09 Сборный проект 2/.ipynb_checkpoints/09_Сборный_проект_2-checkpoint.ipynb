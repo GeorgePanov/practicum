{
 "cells": [
  {
   "cell_type": "markdown",
   "metadata": {
    "toc": true
   },
   "source": [
    "<h1>Содержание<span class=\"tocSkip\"></span></h1>\n",
    "<div class=\"toc\"><ul class=\"toc-item\"><li><span><a href=\"#Подготовка-данных\" data-toc-modified-id=\"Подготовка-данных-1\"><span class=\"toc-item-num\">1&nbsp;&nbsp;</span>Подготовка данных</a></span><ul class=\"toc-item\"><li><span><a href=\"#Открытие-и-изучение-файлов\" data-toc-modified-id=\"Открытие-и-изучение-файлов-1.1\"><span class=\"toc-item-num\">1.1&nbsp;&nbsp;</span>Открытие и изучение файлов</a></span></li><li><span><a href=\"#Проверено,-что-эффективность-обогащения-рассчитана-правильно\" data-toc-modified-id=\"Проверено,-что-эффективность-обогащения-рассчитана-правильно-1.2\"><span class=\"toc-item-num\">1.2&nbsp;&nbsp;</span>Проверено, что эффективность обогащения рассчитана правильно</a></span></li><li><span><a href=\"#Анализ-признаков-недоступные-в-тестовой-выборки\" data-toc-modified-id=\"Анализ-признаков-недоступные-в-тестовой-выборки-1.3\"><span class=\"toc-item-num\">1.3&nbsp;&nbsp;</span>Анализ признаков недоступные в тестовой выборки</a></span></li><li><span><a href=\"#Предобработка-данных.\" data-toc-modified-id=\"Предобработка-данных.-1.4\"><span class=\"toc-item-num\">1.4&nbsp;&nbsp;</span>Предобработка данных.</a></span></li></ul></li><li><span><a href=\"#Анализ-данных\" data-toc-modified-id=\"Анализ-данных-2\"><span class=\"toc-item-num\">2&nbsp;&nbsp;</span>Анализ данных</a></span><ul class=\"toc-item\"><li><span><a href=\"#Как-меняется-концентрация-металлов-(Au,-Ag,-Pb)-на-различных-этапах-очистки.\" data-toc-modified-id=\"Как-меняется-концентрация-металлов-(Au,-Ag,-Pb)-на-различных-этапах-очистки.-2.1\"><span class=\"toc-item-num\">2.1&nbsp;&nbsp;</span>Как меняется концентрация металлов (Au, Ag, Pb) на различных этапах очистки.</a></span></li><li><span><a href=\"#Сравнение-распределения-размеров-гранул-сырья-на-обучающей-и-тестовой-выборках.\" data-toc-modified-id=\"Сравнение-распределения-размеров-гранул-сырья-на-обучающей-и-тестовой-выборках.-2.2\"><span class=\"toc-item-num\">2.2&nbsp;&nbsp;</span>Сравнение распределения размеров гранул сырья на обучающей и тестовой выборках.</a></span></li><li><span><a href=\"#Исследование-суммарной-концентрации-всех-веществ-на-разных-стадиях:-в-сырье,-в-черновом-и-финальном-концентратах.\" data-toc-modified-id=\"Исследование-суммарной-концентрации-всех-веществ-на-разных-стадиях:-в-сырье,-в-черновом-и-финальном-концентратах.-2.3\"><span class=\"toc-item-num\">2.3&nbsp;&nbsp;</span>Исследование суммарной концентрации всех веществ на разных стадиях: в сырье, в черновом и финальном концентратах.</a></span></li></ul></li><li><span><a href=\"#Модель\" data-toc-modified-id=\"Модель-3\"><span class=\"toc-item-num\">3&nbsp;&nbsp;</span>Модель</a></span><ul class=\"toc-item\"><li><span><a href=\"#Функция-для-вычисления-итоговой-sMAPE.\" data-toc-modified-id=\"Функция-для-вычисления-итоговой-sMAPE.-3.1\"><span class=\"toc-item-num\">3.1&nbsp;&nbsp;</span>Функция для вычисления итоговой sMAPE.</a></span></li><li><span><a href=\"#Обучение-разных-моделей-и-оценка-их-качества-кросс-валидацией.\" data-toc-modified-id=\"Обучение-разных-моделей-и-оценка-их-качества-кросс-валидацией.-3.2\"><span class=\"toc-item-num\">3.2&nbsp;&nbsp;</span>Обучение разных моделей и оценка их качества кросс-валидацией.</a></span><ul class=\"toc-item\"><li><span><a href=\"#Обучение\" data-toc-modified-id=\"Обучение-3.2.1\"><span class=\"toc-item-num\">3.2.1&nbsp;&nbsp;</span>Обучение</a></span></li><li><span><a href=\"#Тестирование\" data-toc-modified-id=\"Тестирование-3.2.2\"><span class=\"toc-item-num\">3.2.2&nbsp;&nbsp;</span>Тестирование</a></span></li></ul></li></ul></li><li><span><a href=\"#Вывод\" data-toc-modified-id=\"Вывод-4\"><span class=\"toc-item-num\">4&nbsp;&nbsp;</span>Вывод</a></span></li></ul></div>"
   ]
  },
  {
   "cell_type": "markdown",
   "metadata": {},
   "source": [
    "# Восстановление золота из руды"
   ]
  },
  {
   "cell_type": "markdown",
   "metadata": {},
   "source": [
    "## Подготовка данных"
   ]
  },
  {
   "cell_type": "code",
   "execution_count": 1,
   "metadata": {},
   "outputs": [],
   "source": [
    "import pandas as pd\n",
    "import numpy as np\n",
    "import matplotlib.pyplot as plt\n",
    "from scipy import stats as st\n",
    "\n",
    "from sklearn.metrics import mean_squared_error\n",
    "from sklearn.metrics import make_scorer\n",
    "from sklearn.model_selection import cross_val_score\n",
    "from sklearn.model_selection import train_test_split\n",
    "\n",
    "from sklearn.tree import DecisionTreeRegressor\n",
    "from sklearn.ensemble import RandomForestRegressor\n",
    "from sklearn.linear_model import LinearRegression\n",
    "\n",
    "# чтобы не было предупреждений\n",
    "import warnings\n",
    "warnings.filterwarnings(\"ignore\")"
   ]
  },
  {
   "cell_type": "markdown",
   "metadata": {},
   "source": [
    "### Открытие и изучение файлов"
   ]
  },
  {
   "cell_type": "code",
   "execution_count": 2,
   "metadata": {},
   "outputs": [],
   "source": [
    "df_train = pd.read_csv(r\"C:\\Users\\George\\Мой диск\\Практикум\\2 Проекты\\09 Сборный проект 2\\gold_recovery_train_new.csv\")\n",
    "df_test = pd.read_csv(r\"C:\\Users\\George\\Мой диск\\Практикум\\2 Проекты\\09 Сборный проект 2\\gold_recovery_test_new.csv\")\n",
    "df = pd.read_csv(r\"C:\\Users\\George\\Мой диск\\Практикум\\2 Проекты\\09 Сборный проект 2\\gold_recovery_full_new.csv\")"
   ]
  },
  {
   "cell_type": "code",
   "execution_count": 3,
   "metadata": {
    "scrolled": false
   },
   "outputs": [
    {
     "data": {
      "text/html": [
       "<div>\n",
       "<style scoped>\n",
       "    .dataframe tbody tr th:only-of-type {\n",
       "        vertical-align: middle;\n",
       "    }\n",
       "\n",
       "    .dataframe tbody tr th {\n",
       "        vertical-align: top;\n",
       "    }\n",
       "\n",
       "    .dataframe thead th {\n",
       "        text-align: right;\n",
       "    }\n",
       "</style>\n",
       "<table border=\"1\" class=\"dataframe\">\n",
       "  <thead>\n",
       "    <tr style=\"text-align: right;\">\n",
       "      <th></th>\n",
       "      <th>date</th>\n",
       "      <th>final.output.concentrate_ag</th>\n",
       "      <th>final.output.concentrate_pb</th>\n",
       "      <th>final.output.concentrate_sol</th>\n",
       "      <th>final.output.concentrate_au</th>\n",
       "      <th>final.output.recovery</th>\n",
       "      <th>final.output.tail_ag</th>\n",
       "      <th>final.output.tail_pb</th>\n",
       "      <th>final.output.tail_sol</th>\n",
       "      <th>final.output.tail_au</th>\n",
       "      <th>...</th>\n",
       "      <th>secondary_cleaner.state.floatbank4_a_air</th>\n",
       "      <th>secondary_cleaner.state.floatbank4_a_level</th>\n",
       "      <th>secondary_cleaner.state.floatbank4_b_air</th>\n",
       "      <th>secondary_cleaner.state.floatbank4_b_level</th>\n",
       "      <th>secondary_cleaner.state.floatbank5_a_air</th>\n",
       "      <th>secondary_cleaner.state.floatbank5_a_level</th>\n",
       "      <th>secondary_cleaner.state.floatbank5_b_air</th>\n",
       "      <th>secondary_cleaner.state.floatbank5_b_level</th>\n",
       "      <th>secondary_cleaner.state.floatbank6_a_air</th>\n",
       "      <th>secondary_cleaner.state.floatbank6_a_level</th>\n",
       "    </tr>\n",
       "  </thead>\n",
       "  <tbody>\n",
       "    <tr>\n",
       "      <td>0</td>\n",
       "      <td>2016-01-15 00:00:00</td>\n",
       "      <td>6.055403</td>\n",
       "      <td>9.889648</td>\n",
       "      <td>5.507324</td>\n",
       "      <td>42.192020</td>\n",
       "      <td>70.541216</td>\n",
       "      <td>10.411962</td>\n",
       "      <td>0.895447</td>\n",
       "      <td>16.904297</td>\n",
       "      <td>2.143149</td>\n",
       "      <td>...</td>\n",
       "      <td>14.016835</td>\n",
       "      <td>-502.488007</td>\n",
       "      <td>12.099931</td>\n",
       "      <td>-504.715942</td>\n",
       "      <td>9.925633</td>\n",
       "      <td>-498.310211</td>\n",
       "      <td>8.079666</td>\n",
       "      <td>-500.470978</td>\n",
       "      <td>14.151341</td>\n",
       "      <td>-605.841980</td>\n",
       "    </tr>\n",
       "    <tr>\n",
       "      <td>1</td>\n",
       "      <td>2016-01-15 01:00:00</td>\n",
       "      <td>6.029369</td>\n",
       "      <td>9.968944</td>\n",
       "      <td>5.257781</td>\n",
       "      <td>42.701629</td>\n",
       "      <td>69.266198</td>\n",
       "      <td>10.462676</td>\n",
       "      <td>0.927452</td>\n",
       "      <td>16.634514</td>\n",
       "      <td>2.224930</td>\n",
       "      <td>...</td>\n",
       "      <td>13.992281</td>\n",
       "      <td>-505.503262</td>\n",
       "      <td>11.950531</td>\n",
       "      <td>-501.331529</td>\n",
       "      <td>10.039245</td>\n",
       "      <td>-500.169983</td>\n",
       "      <td>7.984757</td>\n",
       "      <td>-500.582168</td>\n",
       "      <td>13.998353</td>\n",
       "      <td>-599.787184</td>\n",
       "    </tr>\n",
       "    <tr>\n",
       "      <td>2</td>\n",
       "      <td>2016-01-15 02:00:00</td>\n",
       "      <td>6.055926</td>\n",
       "      <td>10.213995</td>\n",
       "      <td>5.383759</td>\n",
       "      <td>42.657501</td>\n",
       "      <td>68.116445</td>\n",
       "      <td>10.507046</td>\n",
       "      <td>0.953716</td>\n",
       "      <td>16.208849</td>\n",
       "      <td>2.257889</td>\n",
       "      <td>...</td>\n",
       "      <td>14.015015</td>\n",
       "      <td>-502.520901</td>\n",
       "      <td>11.912783</td>\n",
       "      <td>-501.133383</td>\n",
       "      <td>10.070913</td>\n",
       "      <td>-500.129135</td>\n",
       "      <td>8.013877</td>\n",
       "      <td>-500.517572</td>\n",
       "      <td>14.028663</td>\n",
       "      <td>-601.427363</td>\n",
       "    </tr>\n",
       "    <tr>\n",
       "      <td>3</td>\n",
       "      <td>2016-01-15 03:00:00</td>\n",
       "      <td>6.047977</td>\n",
       "      <td>9.977019</td>\n",
       "      <td>4.858634</td>\n",
       "      <td>42.689819</td>\n",
       "      <td>68.347543</td>\n",
       "      <td>10.422762</td>\n",
       "      <td>0.883763</td>\n",
       "      <td>16.532835</td>\n",
       "      <td>2.146849</td>\n",
       "      <td>...</td>\n",
       "      <td>14.036510</td>\n",
       "      <td>-500.857308</td>\n",
       "      <td>11.999550</td>\n",
       "      <td>-501.193686</td>\n",
       "      <td>9.970366</td>\n",
       "      <td>-499.201640</td>\n",
       "      <td>7.977324</td>\n",
       "      <td>-500.255908</td>\n",
       "      <td>14.005551</td>\n",
       "      <td>-599.996129</td>\n",
       "    </tr>\n",
       "    <tr>\n",
       "      <td>4</td>\n",
       "      <td>2016-01-15 04:00:00</td>\n",
       "      <td>6.148599</td>\n",
       "      <td>10.142511</td>\n",
       "      <td>4.939416</td>\n",
       "      <td>42.774141</td>\n",
       "      <td>66.927016</td>\n",
       "      <td>10.360302</td>\n",
       "      <td>0.792826</td>\n",
       "      <td>16.525686</td>\n",
       "      <td>2.055292</td>\n",
       "      <td>...</td>\n",
       "      <td>14.027298</td>\n",
       "      <td>-499.838632</td>\n",
       "      <td>11.953070</td>\n",
       "      <td>-501.053894</td>\n",
       "      <td>9.925709</td>\n",
       "      <td>-501.686727</td>\n",
       "      <td>7.894242</td>\n",
       "      <td>-500.356035</td>\n",
       "      <td>13.996647</td>\n",
       "      <td>-601.496691</td>\n",
       "    </tr>\n",
       "    <tr>\n",
       "      <td>...</td>\n",
       "      <td>...</td>\n",
       "      <td>...</td>\n",
       "      <td>...</td>\n",
       "      <td>...</td>\n",
       "      <td>...</td>\n",
       "      <td>...</td>\n",
       "      <td>...</td>\n",
       "      <td>...</td>\n",
       "      <td>...</td>\n",
       "      <td>...</td>\n",
       "      <td>...</td>\n",
       "      <td>...</td>\n",
       "      <td>...</td>\n",
       "      <td>...</td>\n",
       "      <td>...</td>\n",
       "      <td>...</td>\n",
       "      <td>...</td>\n",
       "      <td>...</td>\n",
       "      <td>...</td>\n",
       "      <td>...</td>\n",
       "      <td>...</td>\n",
       "    </tr>\n",
       "    <tr>\n",
       "      <td>19434</td>\n",
       "      <td>2018-08-18 06:59:59</td>\n",
       "      <td>3.224920</td>\n",
       "      <td>11.356233</td>\n",
       "      <td>6.803482</td>\n",
       "      <td>46.713954</td>\n",
       "      <td>73.755150</td>\n",
       "      <td>8.769645</td>\n",
       "      <td>3.141541</td>\n",
       "      <td>10.403181</td>\n",
       "      <td>1.529220</td>\n",
       "      <td>...</td>\n",
       "      <td>23.031497</td>\n",
       "      <td>-501.167942</td>\n",
       "      <td>20.007571</td>\n",
       "      <td>-499.740028</td>\n",
       "      <td>18.006038</td>\n",
       "      <td>-499.834374</td>\n",
       "      <td>13.001114</td>\n",
       "      <td>-500.155694</td>\n",
       "      <td>20.007840</td>\n",
       "      <td>-501.296428</td>\n",
       "    </tr>\n",
       "    <tr>\n",
       "      <td>19435</td>\n",
       "      <td>2018-08-18 07:59:59</td>\n",
       "      <td>3.195978</td>\n",
       "      <td>11.349355</td>\n",
       "      <td>6.862249</td>\n",
       "      <td>46.866780</td>\n",
       "      <td>69.049291</td>\n",
       "      <td>8.897321</td>\n",
       "      <td>3.130493</td>\n",
       "      <td>10.549470</td>\n",
       "      <td>1.612542</td>\n",
       "      <td>...</td>\n",
       "      <td>22.960095</td>\n",
       "      <td>-501.612783</td>\n",
       "      <td>20.035660</td>\n",
       "      <td>-500.251357</td>\n",
       "      <td>17.998535</td>\n",
       "      <td>-500.395178</td>\n",
       "      <td>12.954048</td>\n",
       "      <td>-499.895163</td>\n",
       "      <td>19.968498</td>\n",
       "      <td>-501.041608</td>\n",
       "    </tr>\n",
       "    <tr>\n",
       "      <td>19436</td>\n",
       "      <td>2018-08-18 08:59:59</td>\n",
       "      <td>3.109998</td>\n",
       "      <td>11.434366</td>\n",
       "      <td>6.886013</td>\n",
       "      <td>46.795691</td>\n",
       "      <td>67.002189</td>\n",
       "      <td>8.529606</td>\n",
       "      <td>2.911418</td>\n",
       "      <td>11.115147</td>\n",
       "      <td>1.596616</td>\n",
       "      <td>...</td>\n",
       "      <td>23.015718</td>\n",
       "      <td>-501.711599</td>\n",
       "      <td>19.951231</td>\n",
       "      <td>-499.857027</td>\n",
       "      <td>18.019543</td>\n",
       "      <td>-500.451156</td>\n",
       "      <td>13.023431</td>\n",
       "      <td>-499.914391</td>\n",
       "      <td>19.990885</td>\n",
       "      <td>-501.518452</td>\n",
       "    </tr>\n",
       "    <tr>\n",
       "      <td>19437</td>\n",
       "      <td>2018-08-18 09:59:59</td>\n",
       "      <td>3.367241</td>\n",
       "      <td>11.625587</td>\n",
       "      <td>6.799433</td>\n",
       "      <td>46.408188</td>\n",
       "      <td>65.523246</td>\n",
       "      <td>8.777171</td>\n",
       "      <td>2.819214</td>\n",
       "      <td>10.463847</td>\n",
       "      <td>1.602879</td>\n",
       "      <td>...</td>\n",
       "      <td>23.024963</td>\n",
       "      <td>-501.153409</td>\n",
       "      <td>20.054122</td>\n",
       "      <td>-500.314711</td>\n",
       "      <td>17.979515</td>\n",
       "      <td>-499.272871</td>\n",
       "      <td>12.992404</td>\n",
       "      <td>-499.976268</td>\n",
       "      <td>20.013986</td>\n",
       "      <td>-500.625471</td>\n",
       "    </tr>\n",
       "    <tr>\n",
       "      <td>19438</td>\n",
       "      <td>2018-08-18 10:59:59</td>\n",
       "      <td>3.598375</td>\n",
       "      <td>11.737832</td>\n",
       "      <td>6.717509</td>\n",
       "      <td>46.299438</td>\n",
       "      <td>70.281454</td>\n",
       "      <td>8.406690</td>\n",
       "      <td>2.517518</td>\n",
       "      <td>10.652193</td>\n",
       "      <td>1.389434</td>\n",
       "      <td>...</td>\n",
       "      <td>23.018622</td>\n",
       "      <td>-500.492702</td>\n",
       "      <td>20.020205</td>\n",
       "      <td>-500.220296</td>\n",
       "      <td>17.963512</td>\n",
       "      <td>-499.939490</td>\n",
       "      <td>12.990306</td>\n",
       "      <td>-500.080993</td>\n",
       "      <td>19.990336</td>\n",
       "      <td>-499.191575</td>\n",
       "    </tr>\n",
       "  </tbody>\n",
       "</table>\n",
       "<p>19439 rows × 87 columns</p>\n",
       "</div>"
      ],
      "text/plain": [
       "                      date  final.output.concentrate_ag  \\\n",
       "0      2016-01-15 00:00:00                     6.055403   \n",
       "1      2016-01-15 01:00:00                     6.029369   \n",
       "2      2016-01-15 02:00:00                     6.055926   \n",
       "3      2016-01-15 03:00:00                     6.047977   \n",
       "4      2016-01-15 04:00:00                     6.148599   \n",
       "...                    ...                          ...   \n",
       "19434  2018-08-18 06:59:59                     3.224920   \n",
       "19435  2018-08-18 07:59:59                     3.195978   \n",
       "19436  2018-08-18 08:59:59                     3.109998   \n",
       "19437  2018-08-18 09:59:59                     3.367241   \n",
       "19438  2018-08-18 10:59:59                     3.598375   \n",
       "\n",
       "       final.output.concentrate_pb  final.output.concentrate_sol  \\\n",
       "0                         9.889648                      5.507324   \n",
       "1                         9.968944                      5.257781   \n",
       "2                        10.213995                      5.383759   \n",
       "3                         9.977019                      4.858634   \n",
       "4                        10.142511                      4.939416   \n",
       "...                            ...                           ...   \n",
       "19434                    11.356233                      6.803482   \n",
       "19435                    11.349355                      6.862249   \n",
       "19436                    11.434366                      6.886013   \n",
       "19437                    11.625587                      6.799433   \n",
       "19438                    11.737832                      6.717509   \n",
       "\n",
       "       final.output.concentrate_au  final.output.recovery  \\\n",
       "0                        42.192020              70.541216   \n",
       "1                        42.701629              69.266198   \n",
       "2                        42.657501              68.116445   \n",
       "3                        42.689819              68.347543   \n",
       "4                        42.774141              66.927016   \n",
       "...                            ...                    ...   \n",
       "19434                    46.713954              73.755150   \n",
       "19435                    46.866780              69.049291   \n",
       "19436                    46.795691              67.002189   \n",
       "19437                    46.408188              65.523246   \n",
       "19438                    46.299438              70.281454   \n",
       "\n",
       "       final.output.tail_ag  final.output.tail_pb  final.output.tail_sol  \\\n",
       "0                 10.411962              0.895447              16.904297   \n",
       "1                 10.462676              0.927452              16.634514   \n",
       "2                 10.507046              0.953716              16.208849   \n",
       "3                 10.422762              0.883763              16.532835   \n",
       "4                 10.360302              0.792826              16.525686   \n",
       "...                     ...                   ...                    ...   \n",
       "19434              8.769645              3.141541              10.403181   \n",
       "19435              8.897321              3.130493              10.549470   \n",
       "19436              8.529606              2.911418              11.115147   \n",
       "19437              8.777171              2.819214              10.463847   \n",
       "19438              8.406690              2.517518              10.652193   \n",
       "\n",
       "       final.output.tail_au  ...  secondary_cleaner.state.floatbank4_a_air  \\\n",
       "0                  2.143149  ...                                 14.016835   \n",
       "1                  2.224930  ...                                 13.992281   \n",
       "2                  2.257889  ...                                 14.015015   \n",
       "3                  2.146849  ...                                 14.036510   \n",
       "4                  2.055292  ...                                 14.027298   \n",
       "...                     ...  ...                                       ...   \n",
       "19434              1.529220  ...                                 23.031497   \n",
       "19435              1.612542  ...                                 22.960095   \n",
       "19436              1.596616  ...                                 23.015718   \n",
       "19437              1.602879  ...                                 23.024963   \n",
       "19438              1.389434  ...                                 23.018622   \n",
       "\n",
       "       secondary_cleaner.state.floatbank4_a_level  \\\n",
       "0                                     -502.488007   \n",
       "1                                     -505.503262   \n",
       "2                                     -502.520901   \n",
       "3                                     -500.857308   \n",
       "4                                     -499.838632   \n",
       "...                                           ...   \n",
       "19434                                 -501.167942   \n",
       "19435                                 -501.612783   \n",
       "19436                                 -501.711599   \n",
       "19437                                 -501.153409   \n",
       "19438                                 -500.492702   \n",
       "\n",
       "       secondary_cleaner.state.floatbank4_b_air  \\\n",
       "0                                     12.099931   \n",
       "1                                     11.950531   \n",
       "2                                     11.912783   \n",
       "3                                     11.999550   \n",
       "4                                     11.953070   \n",
       "...                                         ...   \n",
       "19434                                 20.007571   \n",
       "19435                                 20.035660   \n",
       "19436                                 19.951231   \n",
       "19437                                 20.054122   \n",
       "19438                                 20.020205   \n",
       "\n",
       "       secondary_cleaner.state.floatbank4_b_level  \\\n",
       "0                                     -504.715942   \n",
       "1                                     -501.331529   \n",
       "2                                     -501.133383   \n",
       "3                                     -501.193686   \n",
       "4                                     -501.053894   \n",
       "...                                           ...   \n",
       "19434                                 -499.740028   \n",
       "19435                                 -500.251357   \n",
       "19436                                 -499.857027   \n",
       "19437                                 -500.314711   \n",
       "19438                                 -500.220296   \n",
       "\n",
       "       secondary_cleaner.state.floatbank5_a_air  \\\n",
       "0                                      9.925633   \n",
       "1                                     10.039245   \n",
       "2                                     10.070913   \n",
       "3                                      9.970366   \n",
       "4                                      9.925709   \n",
       "...                                         ...   \n",
       "19434                                 18.006038   \n",
       "19435                                 17.998535   \n",
       "19436                                 18.019543   \n",
       "19437                                 17.979515   \n",
       "19438                                 17.963512   \n",
       "\n",
       "       secondary_cleaner.state.floatbank5_a_level  \\\n",
       "0                                     -498.310211   \n",
       "1                                     -500.169983   \n",
       "2                                     -500.129135   \n",
       "3                                     -499.201640   \n",
       "4                                     -501.686727   \n",
       "...                                           ...   \n",
       "19434                                 -499.834374   \n",
       "19435                                 -500.395178   \n",
       "19436                                 -500.451156   \n",
       "19437                                 -499.272871   \n",
       "19438                                 -499.939490   \n",
       "\n",
       "       secondary_cleaner.state.floatbank5_b_air  \\\n",
       "0                                      8.079666   \n",
       "1                                      7.984757   \n",
       "2                                      8.013877   \n",
       "3                                      7.977324   \n",
       "4                                      7.894242   \n",
       "...                                         ...   \n",
       "19434                                 13.001114   \n",
       "19435                                 12.954048   \n",
       "19436                                 13.023431   \n",
       "19437                                 12.992404   \n",
       "19438                                 12.990306   \n",
       "\n",
       "       secondary_cleaner.state.floatbank5_b_level  \\\n",
       "0                                     -500.470978   \n",
       "1                                     -500.582168   \n",
       "2                                     -500.517572   \n",
       "3                                     -500.255908   \n",
       "4                                     -500.356035   \n",
       "...                                           ...   \n",
       "19434                                 -500.155694   \n",
       "19435                                 -499.895163   \n",
       "19436                                 -499.914391   \n",
       "19437                                 -499.976268   \n",
       "19438                                 -500.080993   \n",
       "\n",
       "       secondary_cleaner.state.floatbank6_a_air  \\\n",
       "0                                     14.151341   \n",
       "1                                     13.998353   \n",
       "2                                     14.028663   \n",
       "3                                     14.005551   \n",
       "4                                     13.996647   \n",
       "...                                         ...   \n",
       "19434                                 20.007840   \n",
       "19435                                 19.968498   \n",
       "19436                                 19.990885   \n",
       "19437                                 20.013986   \n",
       "19438                                 19.990336   \n",
       "\n",
       "       secondary_cleaner.state.floatbank6_a_level  \n",
       "0                                     -605.841980  \n",
       "1                                     -599.787184  \n",
       "2                                     -601.427363  \n",
       "3                                     -599.996129  \n",
       "4                                     -601.496691  \n",
       "...                                           ...  \n",
       "19434                                 -501.296428  \n",
       "19435                                 -501.041608  \n",
       "19436                                 -501.518452  \n",
       "19437                                 -500.625471  \n",
       "19438                                 -499.191575  \n",
       "\n",
       "[19439 rows x 87 columns]"
      ]
     },
     "metadata": {},
     "output_type": "display_data"
    },
    {
     "name": "stdout",
     "output_type": "stream",
     "text": [
      "<class 'pandas.core.frame.DataFrame'>\n",
      "RangeIndex: 19439 entries, 0 to 19438\n",
      "Data columns (total 87 columns):\n",
      "date                                                  19439 non-null object\n",
      "final.output.concentrate_ag                           19438 non-null float64\n",
      "final.output.concentrate_pb                           19438 non-null float64\n",
      "final.output.concentrate_sol                          19228 non-null float64\n",
      "final.output.concentrate_au                           19439 non-null float64\n",
      "final.output.recovery                                 19439 non-null float64\n",
      "final.output.tail_ag                                  19438 non-null float64\n",
      "final.output.tail_pb                                  19338 non-null float64\n",
      "final.output.tail_sol                                 19433 non-null float64\n",
      "final.output.tail_au                                  19439 non-null float64\n",
      "primary_cleaner.input.sulfate                         19415 non-null float64\n",
      "primary_cleaner.input.depressant                      19402 non-null float64\n",
      "primary_cleaner.input.feed_size                       19439 non-null float64\n",
      "primary_cleaner.input.xanthate                        19335 non-null float64\n",
      "primary_cleaner.output.concentrate_ag                 19439 non-null float64\n",
      "primary_cleaner.output.concentrate_pb                 19323 non-null float64\n",
      "primary_cleaner.output.concentrate_sol                19069 non-null float64\n",
      "primary_cleaner.output.concentrate_au                 19439 non-null float64\n",
      "primary_cleaner.output.tail_ag                        19435 non-null float64\n",
      "primary_cleaner.output.tail_pb                        19418 non-null float64\n",
      "primary_cleaner.output.tail_sol                       19377 non-null float64\n",
      "primary_cleaner.output.tail_au                        19439 non-null float64\n",
      "primary_cleaner.state.floatbank8_a_air                19435 non-null float64\n",
      "primary_cleaner.state.floatbank8_a_level              19438 non-null float64\n",
      "primary_cleaner.state.floatbank8_b_air                19435 non-null float64\n",
      "primary_cleaner.state.floatbank8_b_level              19438 non-null float64\n",
      "primary_cleaner.state.floatbank8_c_air                19437 non-null float64\n",
      "primary_cleaner.state.floatbank8_c_level              19438 non-null float64\n",
      "primary_cleaner.state.floatbank8_d_air                19436 non-null float64\n",
      "primary_cleaner.state.floatbank8_d_level              19438 non-null float64\n",
      "rougher.calculation.sulfate_to_au_concentrate         19437 non-null float64\n",
      "rougher.calculation.floatbank10_sulfate_to_au_feed    19437 non-null float64\n",
      "rougher.calculation.floatbank11_sulfate_to_au_feed    19437 non-null float64\n",
      "rougher.calculation.au_pb_ratio                       19439 non-null float64\n",
      "rougher.input.feed_ag                                 19439 non-null float64\n",
      "rougher.input.feed_pb                                 19339 non-null float64\n",
      "rougher.input.feed_rate                               19428 non-null float64\n",
      "rougher.input.feed_size                               19294 non-null float64\n",
      "rougher.input.feed_sol                                19340 non-null float64\n",
      "rougher.input.feed_au                                 19439 non-null float64\n",
      "rougher.input.floatbank10_sulfate                     19405 non-null float64\n",
      "rougher.input.floatbank10_xanthate                    19431 non-null float64\n",
      "rougher.input.floatbank11_sulfate                     19395 non-null float64\n",
      "rougher.input.floatbank11_xanthate                    18986 non-null float64\n",
      "rougher.output.concentrate_ag                         19439 non-null float64\n",
      "rougher.output.concentrate_pb                         19439 non-null float64\n",
      "rougher.output.concentrate_sol                        19416 non-null float64\n",
      "rougher.output.concentrate_au                         19439 non-null float64\n",
      "rougher.output.recovery                               19439 non-null float64\n",
      "rougher.output.tail_ag                                19438 non-null float64\n",
      "rougher.output.tail_pb                                19439 non-null float64\n",
      "rougher.output.tail_sol                               19439 non-null float64\n",
      "rougher.output.tail_au                                19439 non-null float64\n",
      "rougher.state.floatbank10_a_air                       19438 non-null float64\n",
      "rougher.state.floatbank10_a_level                     19438 non-null float64\n",
      "rougher.state.floatbank10_b_air                       19438 non-null float64\n",
      "rougher.state.floatbank10_b_level                     19438 non-null float64\n",
      "rougher.state.floatbank10_c_air                       19438 non-null float64\n",
      "rougher.state.floatbank10_c_level                     19438 non-null float64\n",
      "rougher.state.floatbank10_d_air                       19439 non-null float64\n",
      "rougher.state.floatbank10_d_level                     19439 non-null float64\n",
      "rougher.state.floatbank10_e_air                       19003 non-null float64\n",
      "rougher.state.floatbank10_e_level                     19439 non-null float64\n",
      "rougher.state.floatbank10_f_air                       19439 non-null float64\n",
      "rougher.state.floatbank10_f_level                     19439 non-null float64\n",
      "secondary_cleaner.output.tail_ag                      19437 non-null float64\n",
      "secondary_cleaner.output.tail_pb                      19427 non-null float64\n",
      "secondary_cleaner.output.tail_sol                     17691 non-null float64\n",
      "secondary_cleaner.output.tail_au                      19439 non-null float64\n",
      "secondary_cleaner.state.floatbank2_a_air              19219 non-null float64\n",
      "secondary_cleaner.state.floatbank2_a_level            19438 non-null float64\n",
      "secondary_cleaner.state.floatbank2_b_air              19416 non-null float64\n",
      "secondary_cleaner.state.floatbank2_b_level            19438 non-null float64\n",
      "secondary_cleaner.state.floatbank3_a_air              19426 non-null float64\n",
      "secondary_cleaner.state.floatbank3_a_level            19438 non-null float64\n",
      "secondary_cleaner.state.floatbank3_b_air              19438 non-null float64\n",
      "secondary_cleaner.state.floatbank3_b_level            19438 non-null float64\n",
      "secondary_cleaner.state.floatbank4_a_air              19433 non-null float64\n",
      "secondary_cleaner.state.floatbank4_a_level            19438 non-null float64\n",
      "secondary_cleaner.state.floatbank4_b_air              19438 non-null float64\n",
      "secondary_cleaner.state.floatbank4_b_level            19438 non-null float64\n",
      "secondary_cleaner.state.floatbank5_a_air              19438 non-null float64\n",
      "secondary_cleaner.state.floatbank5_a_level            19438 non-null float64\n",
      "secondary_cleaner.state.floatbank5_b_air              19438 non-null float64\n",
      "secondary_cleaner.state.floatbank5_b_level            19438 non-null float64\n",
      "secondary_cleaner.state.floatbank6_a_air              19437 non-null float64\n",
      "secondary_cleaner.state.floatbank6_a_level            19438 non-null float64\n",
      "dtypes: float64(86), object(1)\n",
      "memory usage: 12.9+ MB\n"
     ]
    }
   ],
   "source": [
    "display(df)\n",
    "df.info()"
   ]
  },
  {
   "cell_type": "code",
   "execution_count": 4,
   "metadata": {
    "scrolled": false
   },
   "outputs": [
    {
     "data": {
      "text/html": [
       "<div>\n",
       "<style scoped>\n",
       "    .dataframe tbody tr th:only-of-type {\n",
       "        vertical-align: middle;\n",
       "    }\n",
       "\n",
       "    .dataframe tbody tr th {\n",
       "        vertical-align: top;\n",
       "    }\n",
       "\n",
       "    .dataframe thead th {\n",
       "        text-align: right;\n",
       "    }\n",
       "</style>\n",
       "<table border=\"1\" class=\"dataframe\">\n",
       "  <thead>\n",
       "    <tr style=\"text-align: right;\">\n",
       "      <th></th>\n",
       "      <th>date</th>\n",
       "      <th>final.output.concentrate_ag</th>\n",
       "      <th>final.output.concentrate_pb</th>\n",
       "      <th>final.output.concentrate_sol</th>\n",
       "      <th>final.output.concentrate_au</th>\n",
       "      <th>final.output.recovery</th>\n",
       "      <th>final.output.tail_ag</th>\n",
       "      <th>final.output.tail_pb</th>\n",
       "      <th>final.output.tail_sol</th>\n",
       "      <th>final.output.tail_au</th>\n",
       "      <th>...</th>\n",
       "      <th>secondary_cleaner.state.floatbank4_a_air</th>\n",
       "      <th>secondary_cleaner.state.floatbank4_a_level</th>\n",
       "      <th>secondary_cleaner.state.floatbank4_b_air</th>\n",
       "      <th>secondary_cleaner.state.floatbank4_b_level</th>\n",
       "      <th>secondary_cleaner.state.floatbank5_a_air</th>\n",
       "      <th>secondary_cleaner.state.floatbank5_a_level</th>\n",
       "      <th>secondary_cleaner.state.floatbank5_b_air</th>\n",
       "      <th>secondary_cleaner.state.floatbank5_b_level</th>\n",
       "      <th>secondary_cleaner.state.floatbank6_a_air</th>\n",
       "      <th>secondary_cleaner.state.floatbank6_a_level</th>\n",
       "    </tr>\n",
       "  </thead>\n",
       "  <tbody>\n",
       "    <tr>\n",
       "      <td>0</td>\n",
       "      <td>2016-01-15 00:00:00</td>\n",
       "      <td>6.055403</td>\n",
       "      <td>9.889648</td>\n",
       "      <td>5.507324</td>\n",
       "      <td>42.192020</td>\n",
       "      <td>70.541216</td>\n",
       "      <td>10.411962</td>\n",
       "      <td>0.895447</td>\n",
       "      <td>16.904297</td>\n",
       "      <td>2.143149</td>\n",
       "      <td>...</td>\n",
       "      <td>14.016835</td>\n",
       "      <td>-502.488007</td>\n",
       "      <td>12.099931</td>\n",
       "      <td>-504.715942</td>\n",
       "      <td>9.925633</td>\n",
       "      <td>-498.310211</td>\n",
       "      <td>8.079666</td>\n",
       "      <td>-500.470978</td>\n",
       "      <td>14.151341</td>\n",
       "      <td>-605.841980</td>\n",
       "    </tr>\n",
       "    <tr>\n",
       "      <td>1</td>\n",
       "      <td>2016-01-15 01:00:00</td>\n",
       "      <td>6.029369</td>\n",
       "      <td>9.968944</td>\n",
       "      <td>5.257781</td>\n",
       "      <td>42.701629</td>\n",
       "      <td>69.266198</td>\n",
       "      <td>10.462676</td>\n",
       "      <td>0.927452</td>\n",
       "      <td>16.634514</td>\n",
       "      <td>2.224930</td>\n",
       "      <td>...</td>\n",
       "      <td>13.992281</td>\n",
       "      <td>-505.503262</td>\n",
       "      <td>11.950531</td>\n",
       "      <td>-501.331529</td>\n",
       "      <td>10.039245</td>\n",
       "      <td>-500.169983</td>\n",
       "      <td>7.984757</td>\n",
       "      <td>-500.582168</td>\n",
       "      <td>13.998353</td>\n",
       "      <td>-599.787184</td>\n",
       "    </tr>\n",
       "    <tr>\n",
       "      <td>2</td>\n",
       "      <td>2016-01-15 02:00:00</td>\n",
       "      <td>6.055926</td>\n",
       "      <td>10.213995</td>\n",
       "      <td>5.383759</td>\n",
       "      <td>42.657501</td>\n",
       "      <td>68.116445</td>\n",
       "      <td>10.507046</td>\n",
       "      <td>0.953716</td>\n",
       "      <td>16.208849</td>\n",
       "      <td>2.257889</td>\n",
       "      <td>...</td>\n",
       "      <td>14.015015</td>\n",
       "      <td>-502.520901</td>\n",
       "      <td>11.912783</td>\n",
       "      <td>-501.133383</td>\n",
       "      <td>10.070913</td>\n",
       "      <td>-500.129135</td>\n",
       "      <td>8.013877</td>\n",
       "      <td>-500.517572</td>\n",
       "      <td>14.028663</td>\n",
       "      <td>-601.427363</td>\n",
       "    </tr>\n",
       "    <tr>\n",
       "      <td>3</td>\n",
       "      <td>2016-01-15 03:00:00</td>\n",
       "      <td>6.047977</td>\n",
       "      <td>9.977019</td>\n",
       "      <td>4.858634</td>\n",
       "      <td>42.689819</td>\n",
       "      <td>68.347543</td>\n",
       "      <td>10.422762</td>\n",
       "      <td>0.883763</td>\n",
       "      <td>16.532835</td>\n",
       "      <td>2.146849</td>\n",
       "      <td>...</td>\n",
       "      <td>14.036510</td>\n",
       "      <td>-500.857308</td>\n",
       "      <td>11.999550</td>\n",
       "      <td>-501.193686</td>\n",
       "      <td>9.970366</td>\n",
       "      <td>-499.201640</td>\n",
       "      <td>7.977324</td>\n",
       "      <td>-500.255908</td>\n",
       "      <td>14.005551</td>\n",
       "      <td>-599.996129</td>\n",
       "    </tr>\n",
       "    <tr>\n",
       "      <td>4</td>\n",
       "      <td>2016-01-15 04:00:00</td>\n",
       "      <td>6.148599</td>\n",
       "      <td>10.142511</td>\n",
       "      <td>4.939416</td>\n",
       "      <td>42.774141</td>\n",
       "      <td>66.927016</td>\n",
       "      <td>10.360302</td>\n",
       "      <td>0.792826</td>\n",
       "      <td>16.525686</td>\n",
       "      <td>2.055292</td>\n",
       "      <td>...</td>\n",
       "      <td>14.027298</td>\n",
       "      <td>-499.838632</td>\n",
       "      <td>11.953070</td>\n",
       "      <td>-501.053894</td>\n",
       "      <td>9.925709</td>\n",
       "      <td>-501.686727</td>\n",
       "      <td>7.894242</td>\n",
       "      <td>-500.356035</td>\n",
       "      <td>13.996647</td>\n",
       "      <td>-601.496691</td>\n",
       "    </tr>\n",
       "    <tr>\n",
       "      <td>...</td>\n",
       "      <td>...</td>\n",
       "      <td>...</td>\n",
       "      <td>...</td>\n",
       "      <td>...</td>\n",
       "      <td>...</td>\n",
       "      <td>...</td>\n",
       "      <td>...</td>\n",
       "      <td>...</td>\n",
       "      <td>...</td>\n",
       "      <td>...</td>\n",
       "      <td>...</td>\n",
       "      <td>...</td>\n",
       "      <td>...</td>\n",
       "      <td>...</td>\n",
       "      <td>...</td>\n",
       "      <td>...</td>\n",
       "      <td>...</td>\n",
       "      <td>...</td>\n",
       "      <td>...</td>\n",
       "      <td>...</td>\n",
       "      <td>...</td>\n",
       "    </tr>\n",
       "    <tr>\n",
       "      <td>14144</td>\n",
       "      <td>2018-08-18 06:59:59</td>\n",
       "      <td>3.224920</td>\n",
       "      <td>11.356233</td>\n",
       "      <td>6.803482</td>\n",
       "      <td>46.713954</td>\n",
       "      <td>73.755150</td>\n",
       "      <td>8.769645</td>\n",
       "      <td>3.141541</td>\n",
       "      <td>10.403181</td>\n",
       "      <td>1.529220</td>\n",
       "      <td>...</td>\n",
       "      <td>23.031497</td>\n",
       "      <td>-501.167942</td>\n",
       "      <td>20.007571</td>\n",
       "      <td>-499.740028</td>\n",
       "      <td>18.006038</td>\n",
       "      <td>-499.834374</td>\n",
       "      <td>13.001114</td>\n",
       "      <td>-500.155694</td>\n",
       "      <td>20.007840</td>\n",
       "      <td>-501.296428</td>\n",
       "    </tr>\n",
       "    <tr>\n",
       "      <td>14145</td>\n",
       "      <td>2018-08-18 07:59:59</td>\n",
       "      <td>3.195978</td>\n",
       "      <td>11.349355</td>\n",
       "      <td>6.862249</td>\n",
       "      <td>46.866780</td>\n",
       "      <td>69.049291</td>\n",
       "      <td>8.897321</td>\n",
       "      <td>3.130493</td>\n",
       "      <td>10.549470</td>\n",
       "      <td>1.612542</td>\n",
       "      <td>...</td>\n",
       "      <td>22.960095</td>\n",
       "      <td>-501.612783</td>\n",
       "      <td>20.035660</td>\n",
       "      <td>-500.251357</td>\n",
       "      <td>17.998535</td>\n",
       "      <td>-500.395178</td>\n",
       "      <td>12.954048</td>\n",
       "      <td>-499.895163</td>\n",
       "      <td>19.968498</td>\n",
       "      <td>-501.041608</td>\n",
       "    </tr>\n",
       "    <tr>\n",
       "      <td>14146</td>\n",
       "      <td>2018-08-18 08:59:59</td>\n",
       "      <td>3.109998</td>\n",
       "      <td>11.434366</td>\n",
       "      <td>6.886013</td>\n",
       "      <td>46.795691</td>\n",
       "      <td>67.002189</td>\n",
       "      <td>8.529606</td>\n",
       "      <td>2.911418</td>\n",
       "      <td>11.115147</td>\n",
       "      <td>1.596616</td>\n",
       "      <td>...</td>\n",
       "      <td>23.015718</td>\n",
       "      <td>-501.711599</td>\n",
       "      <td>19.951231</td>\n",
       "      <td>-499.857027</td>\n",
       "      <td>18.019543</td>\n",
       "      <td>-500.451156</td>\n",
       "      <td>13.023431</td>\n",
       "      <td>-499.914391</td>\n",
       "      <td>19.990885</td>\n",
       "      <td>-501.518452</td>\n",
       "    </tr>\n",
       "    <tr>\n",
       "      <td>14147</td>\n",
       "      <td>2018-08-18 09:59:59</td>\n",
       "      <td>3.367241</td>\n",
       "      <td>11.625587</td>\n",
       "      <td>6.799433</td>\n",
       "      <td>46.408188</td>\n",
       "      <td>65.523246</td>\n",
       "      <td>8.777171</td>\n",
       "      <td>2.819214</td>\n",
       "      <td>10.463847</td>\n",
       "      <td>1.602879</td>\n",
       "      <td>...</td>\n",
       "      <td>23.024963</td>\n",
       "      <td>-501.153409</td>\n",
       "      <td>20.054122</td>\n",
       "      <td>-500.314711</td>\n",
       "      <td>17.979515</td>\n",
       "      <td>-499.272871</td>\n",
       "      <td>12.992404</td>\n",
       "      <td>-499.976268</td>\n",
       "      <td>20.013986</td>\n",
       "      <td>-500.625471</td>\n",
       "    </tr>\n",
       "    <tr>\n",
       "      <td>14148</td>\n",
       "      <td>2018-08-18 10:59:59</td>\n",
       "      <td>3.598375</td>\n",
       "      <td>11.737832</td>\n",
       "      <td>6.717509</td>\n",
       "      <td>46.299438</td>\n",
       "      <td>70.281454</td>\n",
       "      <td>8.406690</td>\n",
       "      <td>2.517518</td>\n",
       "      <td>10.652193</td>\n",
       "      <td>1.389434</td>\n",
       "      <td>...</td>\n",
       "      <td>23.018622</td>\n",
       "      <td>-500.492702</td>\n",
       "      <td>20.020205</td>\n",
       "      <td>-500.220296</td>\n",
       "      <td>17.963512</td>\n",
       "      <td>-499.939490</td>\n",
       "      <td>12.990306</td>\n",
       "      <td>-500.080993</td>\n",
       "      <td>19.990336</td>\n",
       "      <td>-499.191575</td>\n",
       "    </tr>\n",
       "  </tbody>\n",
       "</table>\n",
       "<p>14149 rows × 87 columns</p>\n",
       "</div>"
      ],
      "text/plain": [
       "                      date  final.output.concentrate_ag  \\\n",
       "0      2016-01-15 00:00:00                     6.055403   \n",
       "1      2016-01-15 01:00:00                     6.029369   \n",
       "2      2016-01-15 02:00:00                     6.055926   \n",
       "3      2016-01-15 03:00:00                     6.047977   \n",
       "4      2016-01-15 04:00:00                     6.148599   \n",
       "...                    ...                          ...   \n",
       "14144  2018-08-18 06:59:59                     3.224920   \n",
       "14145  2018-08-18 07:59:59                     3.195978   \n",
       "14146  2018-08-18 08:59:59                     3.109998   \n",
       "14147  2018-08-18 09:59:59                     3.367241   \n",
       "14148  2018-08-18 10:59:59                     3.598375   \n",
       "\n",
       "       final.output.concentrate_pb  final.output.concentrate_sol  \\\n",
       "0                         9.889648                      5.507324   \n",
       "1                         9.968944                      5.257781   \n",
       "2                        10.213995                      5.383759   \n",
       "3                         9.977019                      4.858634   \n",
       "4                        10.142511                      4.939416   \n",
       "...                            ...                           ...   \n",
       "14144                    11.356233                      6.803482   \n",
       "14145                    11.349355                      6.862249   \n",
       "14146                    11.434366                      6.886013   \n",
       "14147                    11.625587                      6.799433   \n",
       "14148                    11.737832                      6.717509   \n",
       "\n",
       "       final.output.concentrate_au  final.output.recovery  \\\n",
       "0                        42.192020              70.541216   \n",
       "1                        42.701629              69.266198   \n",
       "2                        42.657501              68.116445   \n",
       "3                        42.689819              68.347543   \n",
       "4                        42.774141              66.927016   \n",
       "...                            ...                    ...   \n",
       "14144                    46.713954              73.755150   \n",
       "14145                    46.866780              69.049291   \n",
       "14146                    46.795691              67.002189   \n",
       "14147                    46.408188              65.523246   \n",
       "14148                    46.299438              70.281454   \n",
       "\n",
       "       final.output.tail_ag  final.output.tail_pb  final.output.tail_sol  \\\n",
       "0                 10.411962              0.895447              16.904297   \n",
       "1                 10.462676              0.927452              16.634514   \n",
       "2                 10.507046              0.953716              16.208849   \n",
       "3                 10.422762              0.883763              16.532835   \n",
       "4                 10.360302              0.792826              16.525686   \n",
       "...                     ...                   ...                    ...   \n",
       "14144              8.769645              3.141541              10.403181   \n",
       "14145              8.897321              3.130493              10.549470   \n",
       "14146              8.529606              2.911418              11.115147   \n",
       "14147              8.777171              2.819214              10.463847   \n",
       "14148              8.406690              2.517518              10.652193   \n",
       "\n",
       "       final.output.tail_au  ...  secondary_cleaner.state.floatbank4_a_air  \\\n",
       "0                  2.143149  ...                                 14.016835   \n",
       "1                  2.224930  ...                                 13.992281   \n",
       "2                  2.257889  ...                                 14.015015   \n",
       "3                  2.146849  ...                                 14.036510   \n",
       "4                  2.055292  ...                                 14.027298   \n",
       "...                     ...  ...                                       ...   \n",
       "14144              1.529220  ...                                 23.031497   \n",
       "14145              1.612542  ...                                 22.960095   \n",
       "14146              1.596616  ...                                 23.015718   \n",
       "14147              1.602879  ...                                 23.024963   \n",
       "14148              1.389434  ...                                 23.018622   \n",
       "\n",
       "       secondary_cleaner.state.floatbank4_a_level  \\\n",
       "0                                     -502.488007   \n",
       "1                                     -505.503262   \n",
       "2                                     -502.520901   \n",
       "3                                     -500.857308   \n",
       "4                                     -499.838632   \n",
       "...                                           ...   \n",
       "14144                                 -501.167942   \n",
       "14145                                 -501.612783   \n",
       "14146                                 -501.711599   \n",
       "14147                                 -501.153409   \n",
       "14148                                 -500.492702   \n",
       "\n",
       "       secondary_cleaner.state.floatbank4_b_air  \\\n",
       "0                                     12.099931   \n",
       "1                                     11.950531   \n",
       "2                                     11.912783   \n",
       "3                                     11.999550   \n",
       "4                                     11.953070   \n",
       "...                                         ...   \n",
       "14144                                 20.007571   \n",
       "14145                                 20.035660   \n",
       "14146                                 19.951231   \n",
       "14147                                 20.054122   \n",
       "14148                                 20.020205   \n",
       "\n",
       "       secondary_cleaner.state.floatbank4_b_level  \\\n",
       "0                                     -504.715942   \n",
       "1                                     -501.331529   \n",
       "2                                     -501.133383   \n",
       "3                                     -501.193686   \n",
       "4                                     -501.053894   \n",
       "...                                           ...   \n",
       "14144                                 -499.740028   \n",
       "14145                                 -500.251357   \n",
       "14146                                 -499.857027   \n",
       "14147                                 -500.314711   \n",
       "14148                                 -500.220296   \n",
       "\n",
       "       secondary_cleaner.state.floatbank5_a_air  \\\n",
       "0                                      9.925633   \n",
       "1                                     10.039245   \n",
       "2                                     10.070913   \n",
       "3                                      9.970366   \n",
       "4                                      9.925709   \n",
       "...                                         ...   \n",
       "14144                                 18.006038   \n",
       "14145                                 17.998535   \n",
       "14146                                 18.019543   \n",
       "14147                                 17.979515   \n",
       "14148                                 17.963512   \n",
       "\n",
       "       secondary_cleaner.state.floatbank5_a_level  \\\n",
       "0                                     -498.310211   \n",
       "1                                     -500.169983   \n",
       "2                                     -500.129135   \n",
       "3                                     -499.201640   \n",
       "4                                     -501.686727   \n",
       "...                                           ...   \n",
       "14144                                 -499.834374   \n",
       "14145                                 -500.395178   \n",
       "14146                                 -500.451156   \n",
       "14147                                 -499.272871   \n",
       "14148                                 -499.939490   \n",
       "\n",
       "       secondary_cleaner.state.floatbank5_b_air  \\\n",
       "0                                      8.079666   \n",
       "1                                      7.984757   \n",
       "2                                      8.013877   \n",
       "3                                      7.977324   \n",
       "4                                      7.894242   \n",
       "...                                         ...   \n",
       "14144                                 13.001114   \n",
       "14145                                 12.954048   \n",
       "14146                                 13.023431   \n",
       "14147                                 12.992404   \n",
       "14148                                 12.990306   \n",
       "\n",
       "       secondary_cleaner.state.floatbank5_b_level  \\\n",
       "0                                     -500.470978   \n",
       "1                                     -500.582168   \n",
       "2                                     -500.517572   \n",
       "3                                     -500.255908   \n",
       "4                                     -500.356035   \n",
       "...                                           ...   \n",
       "14144                                 -500.155694   \n",
       "14145                                 -499.895163   \n",
       "14146                                 -499.914391   \n",
       "14147                                 -499.976268   \n",
       "14148                                 -500.080993   \n",
       "\n",
       "       secondary_cleaner.state.floatbank6_a_air  \\\n",
       "0                                     14.151341   \n",
       "1                                     13.998353   \n",
       "2                                     14.028663   \n",
       "3                                     14.005551   \n",
       "4                                     13.996647   \n",
       "...                                         ...   \n",
       "14144                                 20.007840   \n",
       "14145                                 19.968498   \n",
       "14146                                 19.990885   \n",
       "14147                                 20.013986   \n",
       "14148                                 19.990336   \n",
       "\n",
       "       secondary_cleaner.state.floatbank6_a_level  \n",
       "0                                     -605.841980  \n",
       "1                                     -599.787184  \n",
       "2                                     -601.427363  \n",
       "3                                     -599.996129  \n",
       "4                                     -601.496691  \n",
       "...                                           ...  \n",
       "14144                                 -501.296428  \n",
       "14145                                 -501.041608  \n",
       "14146                                 -501.518452  \n",
       "14147                                 -500.625471  \n",
       "14148                                 -499.191575  \n",
       "\n",
       "[14149 rows x 87 columns]"
      ]
     },
     "metadata": {},
     "output_type": "display_data"
    },
    {
     "name": "stdout",
     "output_type": "stream",
     "text": [
      "<class 'pandas.core.frame.DataFrame'>\n",
      "RangeIndex: 14149 entries, 0 to 14148\n",
      "Data columns (total 87 columns):\n",
      "date                                                  14149 non-null object\n",
      "final.output.concentrate_ag                           14148 non-null float64\n",
      "final.output.concentrate_pb                           14148 non-null float64\n",
      "final.output.concentrate_sol                          13938 non-null float64\n",
      "final.output.concentrate_au                           14149 non-null float64\n",
      "final.output.recovery                                 14149 non-null float64\n",
      "final.output.tail_ag                                  14149 non-null float64\n",
      "final.output.tail_pb                                  14049 non-null float64\n",
      "final.output.tail_sol                                 14144 non-null float64\n",
      "final.output.tail_au                                  14149 non-null float64\n",
      "primary_cleaner.input.sulfate                         14129 non-null float64\n",
      "primary_cleaner.input.depressant                      14117 non-null float64\n",
      "primary_cleaner.input.feed_size                       14149 non-null float64\n",
      "primary_cleaner.input.xanthate                        14049 non-null float64\n",
      "primary_cleaner.output.concentrate_ag                 14149 non-null float64\n",
      "primary_cleaner.output.concentrate_pb                 14063 non-null float64\n",
      "primary_cleaner.output.concentrate_sol                13863 non-null float64\n",
      "primary_cleaner.output.concentrate_au                 14149 non-null float64\n",
      "primary_cleaner.output.tail_ag                        14148 non-null float64\n",
      "primary_cleaner.output.tail_pb                        14134 non-null float64\n",
      "primary_cleaner.output.tail_sol                       14103 non-null float64\n",
      "primary_cleaner.output.tail_au                        14149 non-null float64\n",
      "primary_cleaner.state.floatbank8_a_air                14145 non-null float64\n",
      "primary_cleaner.state.floatbank8_a_level              14148 non-null float64\n",
      "primary_cleaner.state.floatbank8_b_air                14145 non-null float64\n",
      "primary_cleaner.state.floatbank8_b_level              14148 non-null float64\n",
      "primary_cleaner.state.floatbank8_c_air                14147 non-null float64\n",
      "primary_cleaner.state.floatbank8_c_level              14148 non-null float64\n",
      "primary_cleaner.state.floatbank8_d_air                14146 non-null float64\n",
      "primary_cleaner.state.floatbank8_d_level              14148 non-null float64\n",
      "rougher.calculation.sulfate_to_au_concentrate         14148 non-null float64\n",
      "rougher.calculation.floatbank10_sulfate_to_au_feed    14148 non-null float64\n",
      "rougher.calculation.floatbank11_sulfate_to_au_feed    14148 non-null float64\n",
      "rougher.calculation.au_pb_ratio                       14149 non-null float64\n",
      "rougher.input.feed_ag                                 14149 non-null float64\n",
      "rougher.input.feed_pb                                 14049 non-null float64\n",
      "rougher.input.feed_rate                               14141 non-null float64\n",
      "rougher.input.feed_size                               14005 non-null float64\n",
      "rougher.input.feed_sol                                14071 non-null float64\n",
      "rougher.input.feed_au                                 14149 non-null float64\n",
      "rougher.input.floatbank10_sulfate                     14120 non-null float64\n",
      "rougher.input.floatbank10_xanthate                    14141 non-null float64\n",
      "rougher.input.floatbank11_sulfate                     14113 non-null float64\n",
      "rougher.input.floatbank11_xanthate                    13721 non-null float64\n",
      "rougher.output.concentrate_ag                         14149 non-null float64\n",
      "rougher.output.concentrate_pb                         14149 non-null float64\n",
      "rougher.output.concentrate_sol                        14127 non-null float64\n",
      "rougher.output.concentrate_au                         14149 non-null float64\n",
      "rougher.output.recovery                               14149 non-null float64\n",
      "rougher.output.tail_ag                                14148 non-null float64\n",
      "rougher.output.tail_pb                                14149 non-null float64\n",
      "rougher.output.tail_sol                               14149 non-null float64\n",
      "rougher.output.tail_au                                14149 non-null float64\n",
      "rougher.state.floatbank10_a_air                       14148 non-null float64\n",
      "rougher.state.floatbank10_a_level                     14148 non-null float64\n",
      "rougher.state.floatbank10_b_air                       14148 non-null float64\n",
      "rougher.state.floatbank10_b_level                     14148 non-null float64\n",
      "rougher.state.floatbank10_c_air                       14148 non-null float64\n",
      "rougher.state.floatbank10_c_level                     14148 non-null float64\n",
      "rougher.state.floatbank10_d_air                       14149 non-null float64\n",
      "rougher.state.floatbank10_d_level                     14149 non-null float64\n",
      "rougher.state.floatbank10_e_air                       13713 non-null float64\n",
      "rougher.state.floatbank10_e_level                     14149 non-null float64\n",
      "rougher.state.floatbank10_f_air                       14149 non-null float64\n",
      "rougher.state.floatbank10_f_level                     14149 non-null float64\n",
      "secondary_cleaner.output.tail_ag                      14147 non-null float64\n",
      "secondary_cleaner.output.tail_pb                      14139 non-null float64\n",
      "secondary_cleaner.output.tail_sol                     12544 non-null float64\n",
      "secondary_cleaner.output.tail_au                      14149 non-null float64\n",
      "secondary_cleaner.state.floatbank2_a_air              13932 non-null float64\n",
      "secondary_cleaner.state.floatbank2_a_level            14148 non-null float64\n",
      "secondary_cleaner.state.floatbank2_b_air              14128 non-null float64\n",
      "secondary_cleaner.state.floatbank2_b_level            14148 non-null float64\n",
      "secondary_cleaner.state.floatbank3_a_air              14145 non-null float64\n",
      "secondary_cleaner.state.floatbank3_a_level            14148 non-null float64\n",
      "secondary_cleaner.state.floatbank3_b_air              14148 non-null float64\n",
      "secondary_cleaner.state.floatbank3_b_level            14148 non-null float64\n",
      "secondary_cleaner.state.floatbank4_a_air              14143 non-null float64\n",
      "secondary_cleaner.state.floatbank4_a_level            14148 non-null float64\n",
      "secondary_cleaner.state.floatbank4_b_air              14148 non-null float64\n",
      "secondary_cleaner.state.floatbank4_b_level            14148 non-null float64\n",
      "secondary_cleaner.state.floatbank5_a_air              14148 non-null float64\n",
      "secondary_cleaner.state.floatbank5_a_level            14148 non-null float64\n",
      "secondary_cleaner.state.floatbank5_b_air              14148 non-null float64\n",
      "secondary_cleaner.state.floatbank5_b_level            14148 non-null float64\n",
      "secondary_cleaner.state.floatbank6_a_air              14147 non-null float64\n",
      "secondary_cleaner.state.floatbank6_a_level            14148 non-null float64\n",
      "dtypes: float64(86), object(1)\n",
      "memory usage: 9.4+ MB\n"
     ]
    }
   ],
   "source": [
    "display(df_train)\n",
    "df_train.info()"
   ]
  },
  {
   "cell_type": "code",
   "execution_count": 5,
   "metadata": {
    "scrolled": false
   },
   "outputs": [
    {
     "data": {
      "text/html": [
       "<div>\n",
       "<style scoped>\n",
       "    .dataframe tbody tr th:only-of-type {\n",
       "        vertical-align: middle;\n",
       "    }\n",
       "\n",
       "    .dataframe tbody tr th {\n",
       "        vertical-align: top;\n",
       "    }\n",
       "\n",
       "    .dataframe thead th {\n",
       "        text-align: right;\n",
       "    }\n",
       "</style>\n",
       "<table border=\"1\" class=\"dataframe\">\n",
       "  <thead>\n",
       "    <tr style=\"text-align: right;\">\n",
       "      <th></th>\n",
       "      <th>date</th>\n",
       "      <th>primary_cleaner.input.sulfate</th>\n",
       "      <th>primary_cleaner.input.depressant</th>\n",
       "      <th>primary_cleaner.input.feed_size</th>\n",
       "      <th>primary_cleaner.input.xanthate</th>\n",
       "      <th>primary_cleaner.state.floatbank8_a_air</th>\n",
       "      <th>primary_cleaner.state.floatbank8_a_level</th>\n",
       "      <th>primary_cleaner.state.floatbank8_b_air</th>\n",
       "      <th>primary_cleaner.state.floatbank8_b_level</th>\n",
       "      <th>primary_cleaner.state.floatbank8_c_air</th>\n",
       "      <th>...</th>\n",
       "      <th>secondary_cleaner.state.floatbank4_a_air</th>\n",
       "      <th>secondary_cleaner.state.floatbank4_a_level</th>\n",
       "      <th>secondary_cleaner.state.floatbank4_b_air</th>\n",
       "      <th>secondary_cleaner.state.floatbank4_b_level</th>\n",
       "      <th>secondary_cleaner.state.floatbank5_a_air</th>\n",
       "      <th>secondary_cleaner.state.floatbank5_a_level</th>\n",
       "      <th>secondary_cleaner.state.floatbank5_b_air</th>\n",
       "      <th>secondary_cleaner.state.floatbank5_b_level</th>\n",
       "      <th>secondary_cleaner.state.floatbank6_a_air</th>\n",
       "      <th>secondary_cleaner.state.floatbank6_a_level</th>\n",
       "    </tr>\n",
       "  </thead>\n",
       "  <tbody>\n",
       "    <tr>\n",
       "      <td>0</td>\n",
       "      <td>2016-09-01 00:59:59</td>\n",
       "      <td>210.800909</td>\n",
       "      <td>14.993118</td>\n",
       "      <td>8.080000</td>\n",
       "      <td>1.005021</td>\n",
       "      <td>1398.981301</td>\n",
       "      <td>-500.225577</td>\n",
       "      <td>1399.144926</td>\n",
       "      <td>-499.919735</td>\n",
       "      <td>1400.102998</td>\n",
       "      <td>...</td>\n",
       "      <td>12.023554</td>\n",
       "      <td>-497.795834</td>\n",
       "      <td>8.016656</td>\n",
       "      <td>-501.289139</td>\n",
       "      <td>7.946562</td>\n",
       "      <td>-432.317850</td>\n",
       "      <td>4.872511</td>\n",
       "      <td>-500.037437</td>\n",
       "      <td>26.705889</td>\n",
       "      <td>-499.709414</td>\n",
       "    </tr>\n",
       "    <tr>\n",
       "      <td>1</td>\n",
       "      <td>2016-09-01 01:59:59</td>\n",
       "      <td>215.392455</td>\n",
       "      <td>14.987471</td>\n",
       "      <td>8.080000</td>\n",
       "      <td>0.990469</td>\n",
       "      <td>1398.777912</td>\n",
       "      <td>-500.057435</td>\n",
       "      <td>1398.055362</td>\n",
       "      <td>-499.778182</td>\n",
       "      <td>1396.151033</td>\n",
       "      <td>...</td>\n",
       "      <td>12.058140</td>\n",
       "      <td>-498.695773</td>\n",
       "      <td>8.130979</td>\n",
       "      <td>-499.634209</td>\n",
       "      <td>7.958270</td>\n",
       "      <td>-525.839648</td>\n",
       "      <td>4.878850</td>\n",
       "      <td>-500.162375</td>\n",
       "      <td>25.019940</td>\n",
       "      <td>-499.819438</td>\n",
       "    </tr>\n",
       "    <tr>\n",
       "      <td>2</td>\n",
       "      <td>2016-09-01 02:59:59</td>\n",
       "      <td>215.259946</td>\n",
       "      <td>12.884934</td>\n",
       "      <td>7.786667</td>\n",
       "      <td>0.996043</td>\n",
       "      <td>1398.493666</td>\n",
       "      <td>-500.868360</td>\n",
       "      <td>1398.860436</td>\n",
       "      <td>-499.764529</td>\n",
       "      <td>1398.075709</td>\n",
       "      <td>...</td>\n",
       "      <td>11.962366</td>\n",
       "      <td>-498.767484</td>\n",
       "      <td>8.096893</td>\n",
       "      <td>-500.827423</td>\n",
       "      <td>8.071056</td>\n",
       "      <td>-500.801673</td>\n",
       "      <td>4.905125</td>\n",
       "      <td>-499.828510</td>\n",
       "      <td>24.994862</td>\n",
       "      <td>-500.622559</td>\n",
       "    </tr>\n",
       "    <tr>\n",
       "      <td>3</td>\n",
       "      <td>2016-09-01 03:59:59</td>\n",
       "      <td>215.336236</td>\n",
       "      <td>12.006805</td>\n",
       "      <td>7.640000</td>\n",
       "      <td>0.863514</td>\n",
       "      <td>1399.618111</td>\n",
       "      <td>-498.863574</td>\n",
       "      <td>1397.440120</td>\n",
       "      <td>-499.211024</td>\n",
       "      <td>1400.129303</td>\n",
       "      <td>...</td>\n",
       "      <td>12.033091</td>\n",
       "      <td>-498.350935</td>\n",
       "      <td>8.074946</td>\n",
       "      <td>-499.474407</td>\n",
       "      <td>7.897085</td>\n",
       "      <td>-500.868509</td>\n",
       "      <td>4.931400</td>\n",
       "      <td>-499.963623</td>\n",
       "      <td>24.948919</td>\n",
       "      <td>-498.709987</td>\n",
       "    </tr>\n",
       "    <tr>\n",
       "      <td>4</td>\n",
       "      <td>2016-09-01 04:59:59</td>\n",
       "      <td>199.099327</td>\n",
       "      <td>10.682530</td>\n",
       "      <td>7.530000</td>\n",
       "      <td>0.805575</td>\n",
       "      <td>1401.268123</td>\n",
       "      <td>-500.808305</td>\n",
       "      <td>1398.128818</td>\n",
       "      <td>-499.504543</td>\n",
       "      <td>1402.172226</td>\n",
       "      <td>...</td>\n",
       "      <td>12.025367</td>\n",
       "      <td>-500.786497</td>\n",
       "      <td>8.054678</td>\n",
       "      <td>-500.397500</td>\n",
       "      <td>8.107890</td>\n",
       "      <td>-509.526725</td>\n",
       "      <td>4.957674</td>\n",
       "      <td>-500.360026</td>\n",
       "      <td>25.003331</td>\n",
       "      <td>-500.856333</td>\n",
       "    </tr>\n",
       "    <tr>\n",
       "      <td>...</td>\n",
       "      <td>...</td>\n",
       "      <td>...</td>\n",
       "      <td>...</td>\n",
       "      <td>...</td>\n",
       "      <td>...</td>\n",
       "      <td>...</td>\n",
       "      <td>...</td>\n",
       "      <td>...</td>\n",
       "      <td>...</td>\n",
       "      <td>...</td>\n",
       "      <td>...</td>\n",
       "      <td>...</td>\n",
       "      <td>...</td>\n",
       "      <td>...</td>\n",
       "      <td>...</td>\n",
       "      <td>...</td>\n",
       "      <td>...</td>\n",
       "      <td>...</td>\n",
       "      <td>...</td>\n",
       "      <td>...</td>\n",
       "      <td>...</td>\n",
       "    </tr>\n",
       "    <tr>\n",
       "      <td>5285</td>\n",
       "      <td>2017-12-31 19:59:59</td>\n",
       "      <td>173.957757</td>\n",
       "      <td>15.963399</td>\n",
       "      <td>8.070000</td>\n",
       "      <td>0.896701</td>\n",
       "      <td>1401.930554</td>\n",
       "      <td>-499.728848</td>\n",
       "      <td>1401.441445</td>\n",
       "      <td>-499.193423</td>\n",
       "      <td>1399.810313</td>\n",
       "      <td>...</td>\n",
       "      <td>13.995957</td>\n",
       "      <td>-500.157454</td>\n",
       "      <td>12.069155</td>\n",
       "      <td>-499.673279</td>\n",
       "      <td>7.977259</td>\n",
       "      <td>-499.516126</td>\n",
       "      <td>5.933319</td>\n",
       "      <td>-499.965973</td>\n",
       "      <td>8.987171</td>\n",
       "      <td>-499.755909</td>\n",
       "    </tr>\n",
       "    <tr>\n",
       "      <td>5286</td>\n",
       "      <td>2017-12-31 20:59:59</td>\n",
       "      <td>172.910270</td>\n",
       "      <td>16.002605</td>\n",
       "      <td>8.070000</td>\n",
       "      <td>0.896519</td>\n",
       "      <td>1447.075722</td>\n",
       "      <td>-494.716823</td>\n",
       "      <td>1448.851892</td>\n",
       "      <td>-465.963026</td>\n",
       "      <td>1443.890424</td>\n",
       "      <td>...</td>\n",
       "      <td>16.749781</td>\n",
       "      <td>-496.031539</td>\n",
       "      <td>13.365371</td>\n",
       "      <td>-499.122723</td>\n",
       "      <td>9.288553</td>\n",
       "      <td>-496.892967</td>\n",
       "      <td>7.372897</td>\n",
       "      <td>-499.942956</td>\n",
       "      <td>8.986832</td>\n",
       "      <td>-499.903761</td>\n",
       "    </tr>\n",
       "    <tr>\n",
       "      <td>5287</td>\n",
       "      <td>2017-12-31 21:59:59</td>\n",
       "      <td>171.135718</td>\n",
       "      <td>15.993669</td>\n",
       "      <td>8.070000</td>\n",
       "      <td>1.165996</td>\n",
       "      <td>1498.836182</td>\n",
       "      <td>-501.770403</td>\n",
       "      <td>1499.572353</td>\n",
       "      <td>-495.516347</td>\n",
       "      <td>1502.749213</td>\n",
       "      <td>...</td>\n",
       "      <td>19.994130</td>\n",
       "      <td>-499.791312</td>\n",
       "      <td>15.101425</td>\n",
       "      <td>-499.936252</td>\n",
       "      <td>10.989181</td>\n",
       "      <td>-498.347898</td>\n",
       "      <td>9.020944</td>\n",
       "      <td>-500.040448</td>\n",
       "      <td>8.982038</td>\n",
       "      <td>-497.789882</td>\n",
       "    </tr>\n",
       "    <tr>\n",
       "      <td>5288</td>\n",
       "      <td>2017-12-31 22:59:59</td>\n",
       "      <td>179.697158</td>\n",
       "      <td>15.438979</td>\n",
       "      <td>8.070000</td>\n",
       "      <td>1.501068</td>\n",
       "      <td>1498.466243</td>\n",
       "      <td>-500.483984</td>\n",
       "      <td>1497.986986</td>\n",
       "      <td>-519.200340</td>\n",
       "      <td>1496.569047</td>\n",
       "      <td>...</td>\n",
       "      <td>19.958760</td>\n",
       "      <td>-499.958750</td>\n",
       "      <td>15.026853</td>\n",
       "      <td>-499.723143</td>\n",
       "      <td>11.011607</td>\n",
       "      <td>-499.985046</td>\n",
       "      <td>9.009783</td>\n",
       "      <td>-499.937902</td>\n",
       "      <td>9.012660</td>\n",
       "      <td>-500.154284</td>\n",
       "    </tr>\n",
       "    <tr>\n",
       "      <td>5289</td>\n",
       "      <td>2017-12-31 23:59:59</td>\n",
       "      <td>181.556856</td>\n",
       "      <td>14.995850</td>\n",
       "      <td>8.070000</td>\n",
       "      <td>1.623454</td>\n",
       "      <td>1498.096303</td>\n",
       "      <td>-499.796922</td>\n",
       "      <td>1501.743791</td>\n",
       "      <td>-505.146931</td>\n",
       "      <td>1499.535978</td>\n",
       "      <td>...</td>\n",
       "      <td>20.034715</td>\n",
       "      <td>-500.728588</td>\n",
       "      <td>14.914199</td>\n",
       "      <td>-499.948518</td>\n",
       "      <td>10.986607</td>\n",
       "      <td>-500.658027</td>\n",
       "      <td>8.989497</td>\n",
       "      <td>-500.337588</td>\n",
       "      <td>8.988632</td>\n",
       "      <td>-500.764937</td>\n",
       "    </tr>\n",
       "  </tbody>\n",
       "</table>\n",
       "<p>5290 rows × 53 columns</p>\n",
       "</div>"
      ],
      "text/plain": [
       "                     date  primary_cleaner.input.sulfate  \\\n",
       "0     2016-09-01 00:59:59                     210.800909   \n",
       "1     2016-09-01 01:59:59                     215.392455   \n",
       "2     2016-09-01 02:59:59                     215.259946   \n",
       "3     2016-09-01 03:59:59                     215.336236   \n",
       "4     2016-09-01 04:59:59                     199.099327   \n",
       "...                   ...                            ...   \n",
       "5285  2017-12-31 19:59:59                     173.957757   \n",
       "5286  2017-12-31 20:59:59                     172.910270   \n",
       "5287  2017-12-31 21:59:59                     171.135718   \n",
       "5288  2017-12-31 22:59:59                     179.697158   \n",
       "5289  2017-12-31 23:59:59                     181.556856   \n",
       "\n",
       "      primary_cleaner.input.depressant  primary_cleaner.input.feed_size  \\\n",
       "0                            14.993118                         8.080000   \n",
       "1                            14.987471                         8.080000   \n",
       "2                            12.884934                         7.786667   \n",
       "3                            12.006805                         7.640000   \n",
       "4                            10.682530                         7.530000   \n",
       "...                                ...                              ...   \n",
       "5285                         15.963399                         8.070000   \n",
       "5286                         16.002605                         8.070000   \n",
       "5287                         15.993669                         8.070000   \n",
       "5288                         15.438979                         8.070000   \n",
       "5289                         14.995850                         8.070000   \n",
       "\n",
       "      primary_cleaner.input.xanthate  primary_cleaner.state.floatbank8_a_air  \\\n",
       "0                           1.005021                             1398.981301   \n",
       "1                           0.990469                             1398.777912   \n",
       "2                           0.996043                             1398.493666   \n",
       "3                           0.863514                             1399.618111   \n",
       "4                           0.805575                             1401.268123   \n",
       "...                              ...                                     ...   \n",
       "5285                        0.896701                             1401.930554   \n",
       "5286                        0.896519                             1447.075722   \n",
       "5287                        1.165996                             1498.836182   \n",
       "5288                        1.501068                             1498.466243   \n",
       "5289                        1.623454                             1498.096303   \n",
       "\n",
       "      primary_cleaner.state.floatbank8_a_level  \\\n",
       "0                                  -500.225577   \n",
       "1                                  -500.057435   \n",
       "2                                  -500.868360   \n",
       "3                                  -498.863574   \n",
       "4                                  -500.808305   \n",
       "...                                        ...   \n",
       "5285                               -499.728848   \n",
       "5286                               -494.716823   \n",
       "5287                               -501.770403   \n",
       "5288                               -500.483984   \n",
       "5289                               -499.796922   \n",
       "\n",
       "      primary_cleaner.state.floatbank8_b_air  \\\n",
       "0                                1399.144926   \n",
       "1                                1398.055362   \n",
       "2                                1398.860436   \n",
       "3                                1397.440120   \n",
       "4                                1398.128818   \n",
       "...                                      ...   \n",
       "5285                             1401.441445   \n",
       "5286                             1448.851892   \n",
       "5287                             1499.572353   \n",
       "5288                             1497.986986   \n",
       "5289                             1501.743791   \n",
       "\n",
       "      primary_cleaner.state.floatbank8_b_level  \\\n",
       "0                                  -499.919735   \n",
       "1                                  -499.778182   \n",
       "2                                  -499.764529   \n",
       "3                                  -499.211024   \n",
       "4                                  -499.504543   \n",
       "...                                        ...   \n",
       "5285                               -499.193423   \n",
       "5286                               -465.963026   \n",
       "5287                               -495.516347   \n",
       "5288                               -519.200340   \n",
       "5289                               -505.146931   \n",
       "\n",
       "      primary_cleaner.state.floatbank8_c_air  ...  \\\n",
       "0                                1400.102998  ...   \n",
       "1                                1396.151033  ...   \n",
       "2                                1398.075709  ...   \n",
       "3                                1400.129303  ...   \n",
       "4                                1402.172226  ...   \n",
       "...                                      ...  ...   \n",
       "5285                             1399.810313  ...   \n",
       "5286                             1443.890424  ...   \n",
       "5287                             1502.749213  ...   \n",
       "5288                             1496.569047  ...   \n",
       "5289                             1499.535978  ...   \n",
       "\n",
       "      secondary_cleaner.state.floatbank4_a_air  \\\n",
       "0                                    12.023554   \n",
       "1                                    12.058140   \n",
       "2                                    11.962366   \n",
       "3                                    12.033091   \n",
       "4                                    12.025367   \n",
       "...                                        ...   \n",
       "5285                                 13.995957   \n",
       "5286                                 16.749781   \n",
       "5287                                 19.994130   \n",
       "5288                                 19.958760   \n",
       "5289                                 20.034715   \n",
       "\n",
       "      secondary_cleaner.state.floatbank4_a_level  \\\n",
       "0                                    -497.795834   \n",
       "1                                    -498.695773   \n",
       "2                                    -498.767484   \n",
       "3                                    -498.350935   \n",
       "4                                    -500.786497   \n",
       "...                                          ...   \n",
       "5285                                 -500.157454   \n",
       "5286                                 -496.031539   \n",
       "5287                                 -499.791312   \n",
       "5288                                 -499.958750   \n",
       "5289                                 -500.728588   \n",
       "\n",
       "      secondary_cleaner.state.floatbank4_b_air  \\\n",
       "0                                     8.016656   \n",
       "1                                     8.130979   \n",
       "2                                     8.096893   \n",
       "3                                     8.074946   \n",
       "4                                     8.054678   \n",
       "...                                        ...   \n",
       "5285                                 12.069155   \n",
       "5286                                 13.365371   \n",
       "5287                                 15.101425   \n",
       "5288                                 15.026853   \n",
       "5289                                 14.914199   \n",
       "\n",
       "      secondary_cleaner.state.floatbank4_b_level  \\\n",
       "0                                    -501.289139   \n",
       "1                                    -499.634209   \n",
       "2                                    -500.827423   \n",
       "3                                    -499.474407   \n",
       "4                                    -500.397500   \n",
       "...                                          ...   \n",
       "5285                                 -499.673279   \n",
       "5286                                 -499.122723   \n",
       "5287                                 -499.936252   \n",
       "5288                                 -499.723143   \n",
       "5289                                 -499.948518   \n",
       "\n",
       "      secondary_cleaner.state.floatbank5_a_air  \\\n",
       "0                                     7.946562   \n",
       "1                                     7.958270   \n",
       "2                                     8.071056   \n",
       "3                                     7.897085   \n",
       "4                                     8.107890   \n",
       "...                                        ...   \n",
       "5285                                  7.977259   \n",
       "5286                                  9.288553   \n",
       "5287                                 10.989181   \n",
       "5288                                 11.011607   \n",
       "5289                                 10.986607   \n",
       "\n",
       "      secondary_cleaner.state.floatbank5_a_level  \\\n",
       "0                                    -432.317850   \n",
       "1                                    -525.839648   \n",
       "2                                    -500.801673   \n",
       "3                                    -500.868509   \n",
       "4                                    -509.526725   \n",
       "...                                          ...   \n",
       "5285                                 -499.516126   \n",
       "5286                                 -496.892967   \n",
       "5287                                 -498.347898   \n",
       "5288                                 -499.985046   \n",
       "5289                                 -500.658027   \n",
       "\n",
       "      secondary_cleaner.state.floatbank5_b_air  \\\n",
       "0                                     4.872511   \n",
       "1                                     4.878850   \n",
       "2                                     4.905125   \n",
       "3                                     4.931400   \n",
       "4                                     4.957674   \n",
       "...                                        ...   \n",
       "5285                                  5.933319   \n",
       "5286                                  7.372897   \n",
       "5287                                  9.020944   \n",
       "5288                                  9.009783   \n",
       "5289                                  8.989497   \n",
       "\n",
       "      secondary_cleaner.state.floatbank5_b_level  \\\n",
       "0                                    -500.037437   \n",
       "1                                    -500.162375   \n",
       "2                                    -499.828510   \n",
       "3                                    -499.963623   \n",
       "4                                    -500.360026   \n",
       "...                                          ...   \n",
       "5285                                 -499.965973   \n",
       "5286                                 -499.942956   \n",
       "5287                                 -500.040448   \n",
       "5288                                 -499.937902   \n",
       "5289                                 -500.337588   \n",
       "\n",
       "      secondary_cleaner.state.floatbank6_a_air  \\\n",
       "0                                    26.705889   \n",
       "1                                    25.019940   \n",
       "2                                    24.994862   \n",
       "3                                    24.948919   \n",
       "4                                    25.003331   \n",
       "...                                        ...   \n",
       "5285                                  8.987171   \n",
       "5286                                  8.986832   \n",
       "5287                                  8.982038   \n",
       "5288                                  9.012660   \n",
       "5289                                  8.988632   \n",
       "\n",
       "      secondary_cleaner.state.floatbank6_a_level  \n",
       "0                                    -499.709414  \n",
       "1                                    -499.819438  \n",
       "2                                    -500.622559  \n",
       "3                                    -498.709987  \n",
       "4                                    -500.856333  \n",
       "...                                          ...  \n",
       "5285                                 -499.755909  \n",
       "5286                                 -499.903761  \n",
       "5287                                 -497.789882  \n",
       "5288                                 -500.154284  \n",
       "5289                                 -500.764937  \n",
       "\n",
       "[5290 rows x 53 columns]"
      ]
     },
     "metadata": {},
     "output_type": "display_data"
    },
    {
     "name": "stdout",
     "output_type": "stream",
     "text": [
      "<class 'pandas.core.frame.DataFrame'>\n",
      "RangeIndex: 5290 entries, 0 to 5289\n",
      "Data columns (total 53 columns):\n",
      "date                                          5290 non-null object\n",
      "primary_cleaner.input.sulfate                 5286 non-null float64\n",
      "primary_cleaner.input.depressant              5285 non-null float64\n",
      "primary_cleaner.input.feed_size               5290 non-null float64\n",
      "primary_cleaner.input.xanthate                5286 non-null float64\n",
      "primary_cleaner.state.floatbank8_a_air        5290 non-null float64\n",
      "primary_cleaner.state.floatbank8_a_level      5290 non-null float64\n",
      "primary_cleaner.state.floatbank8_b_air        5290 non-null float64\n",
      "primary_cleaner.state.floatbank8_b_level      5290 non-null float64\n",
      "primary_cleaner.state.floatbank8_c_air        5290 non-null float64\n",
      "primary_cleaner.state.floatbank8_c_level      5290 non-null float64\n",
      "primary_cleaner.state.floatbank8_d_air        5290 non-null float64\n",
      "primary_cleaner.state.floatbank8_d_level      5290 non-null float64\n",
      "rougher.input.feed_ag                         5290 non-null float64\n",
      "rougher.input.feed_pb                         5290 non-null float64\n",
      "rougher.input.feed_rate                       5287 non-null float64\n",
      "rougher.input.feed_size                       5289 non-null float64\n",
      "rougher.input.feed_sol                        5269 non-null float64\n",
      "rougher.input.feed_au                         5290 non-null float64\n",
      "rougher.input.floatbank10_sulfate             5285 non-null float64\n",
      "rougher.input.floatbank10_xanthate            5290 non-null float64\n",
      "rougher.input.floatbank11_sulfate             5282 non-null float64\n",
      "rougher.input.floatbank11_xanthate            5265 non-null float64\n",
      "rougher.state.floatbank10_a_air               5290 non-null float64\n",
      "rougher.state.floatbank10_a_level             5290 non-null float64\n",
      "rougher.state.floatbank10_b_air               5290 non-null float64\n",
      "rougher.state.floatbank10_b_level             5290 non-null float64\n",
      "rougher.state.floatbank10_c_air               5290 non-null float64\n",
      "rougher.state.floatbank10_c_level             5290 non-null float64\n",
      "rougher.state.floatbank10_d_air               5290 non-null float64\n",
      "rougher.state.floatbank10_d_level             5290 non-null float64\n",
      "rougher.state.floatbank10_e_air               5290 non-null float64\n",
      "rougher.state.floatbank10_e_level             5290 non-null float64\n",
      "rougher.state.floatbank10_f_air               5290 non-null float64\n",
      "rougher.state.floatbank10_f_level             5290 non-null float64\n",
      "secondary_cleaner.state.floatbank2_a_air      5287 non-null float64\n",
      "secondary_cleaner.state.floatbank2_a_level    5290 non-null float64\n",
      "secondary_cleaner.state.floatbank2_b_air      5288 non-null float64\n",
      "secondary_cleaner.state.floatbank2_b_level    5290 non-null float64\n",
      "secondary_cleaner.state.floatbank3_a_air      5281 non-null float64\n",
      "secondary_cleaner.state.floatbank3_a_level    5290 non-null float64\n",
      "secondary_cleaner.state.floatbank3_b_air      5290 non-null float64\n",
      "secondary_cleaner.state.floatbank3_b_level    5290 non-null float64\n",
      "secondary_cleaner.state.floatbank4_a_air      5290 non-null float64\n",
      "secondary_cleaner.state.floatbank4_a_level    5290 non-null float64\n",
      "secondary_cleaner.state.floatbank4_b_air      5290 non-null float64\n",
      "secondary_cleaner.state.floatbank4_b_level    5290 non-null float64\n",
      "secondary_cleaner.state.floatbank5_a_air      5290 non-null float64\n",
      "secondary_cleaner.state.floatbank5_a_level    5290 non-null float64\n",
      "secondary_cleaner.state.floatbank5_b_air      5290 non-null float64\n",
      "secondary_cleaner.state.floatbank5_b_level    5290 non-null float64\n",
      "secondary_cleaner.state.floatbank6_a_air      5290 non-null float64\n",
      "secondary_cleaner.state.floatbank6_a_level    5290 non-null float64\n",
      "dtypes: float64(52), object(1)\n",
      "memory usage: 2.1+ MB\n"
     ]
    }
   ],
   "source": [
    "display(df_test)\n",
    "df_test.info()"
   ]
  },
  {
   "cell_type": "markdown",
   "metadata": {},
   "source": [
    "### Проверено, что эффективность обогащения рассчитана правильно\n",
    "Вычислено на обучающей выборке для признака \"rougher.output.recovery\". <br>\n",
    "Найдена MAE между расчётами и значением признака. Описаны выводы."
   ]
  },
  {
   "cell_type": "markdown",
   "metadata": {},
   "source": [
    "**Расчёт эффективности**<br>\n",
    "Эффективность обогащения рассчитывается по формуле:\n",
    "$$Recovery = C * (F - T) / F * (C - T)$$\n",
    "где:\n",
    "- C — доля золота в концентрате после флотации/очистки;\n",
    "- F — доля золота в сырье/концентрате до флотации/очистки;\n",
    "- T — доля золота в отвальных хвостах после флотации/очистки."
   ]
  },
  {
   "cell_type": "code",
   "execution_count": 43,
   "metadata": {},
   "outputs": [
    {
     "data": {
      "text/plain": [
       "0        87.107763\n",
       "1        86.843261\n",
       "2        86.842308\n",
       "3        87.226430\n",
       "4        86.688794\n",
       "           ...    \n",
       "14144    89.574376\n",
       "14145    87.724007\n",
       "14146    88.890579\n",
       "14147    89.858126\n",
       "14148    89.514960\n",
       "Name: rougher.output.recovery, Length: 11017, dtype: float64"
      ]
     },
     "execution_count": 43,
     "metadata": {},
     "output_type": "execute_result"
    }
   ],
   "source": [
    "recovery = (df_train['rougher.output.concentrate_au']*(df_train['rougher.input.feed_au']-df_train['rougher.output.tail_au']) ) / (df_train['rougher.input.feed_au']*(df_train['rougher.output.concentrate_au']-df_train['rougher.output.tail_au']))*100\n",
    "target = df_train['rougher.output.recovery']\n",
    "recovery"
   ]
  },
  {
   "cell_type": "code",
   "execution_count": 41,
   "metadata": {},
   "outputs": [
    {
     "data": {
      "text/plain": [
       "2.130074812427581e-28"
      ]
     },
     "execution_count": 41,
     "metadata": {},
     "output_type": "execute_result"
    }
   ],
   "source": [
    "mse = mean_squared_error(target, recovery)\n",
    "mse"
   ]
  },
  {
   "cell_type": "markdown",
   "metadata": {},
   "source": [
    "### Анализ признаков недоступные в тестовой выборки\n",
    "Что за параметры и к какому типу относятся?"
   ]
  },
  {
   "cell_type": "markdown",
   "metadata": {},
   "source": [
    "Узнаем каких признаков нет в тестовой выборке и сразу разделим на два списка с названиями этих признаков."
   ]
  },
  {
   "cell_type": "code",
   "execution_count": 8,
   "metadata": {},
   "outputs": [],
   "source": [
    "# Узнаем каких признаков нет в тестовой выборке\n",
    "non_columns = list(set(df_train.columns) - set(df_test.columns))\n",
    "non_columns.sort()"
   ]
  },
  {
   "cell_type": "code",
   "execution_count": 9,
   "metadata": {},
   "outputs": [],
   "source": [
    "# Уберём rougher.output.recovery\n",
    "not_rougher = list(set(df_train.columns) - set(df_test.columns))\n",
    "not_rougher.remove('rougher.output.recovery')\n",
    "not_rougher.sort()"
   ]
  },
  {
   "cell_type": "code",
   "execution_count": 10,
   "metadata": {},
   "outputs": [],
   "source": [
    "# Уберём final.output.recovery\n",
    "not_final = list(set(df_train.columns) - set(df_test.columns))\n",
    "not_final.remove('final.output.recovery')\n",
    "not_final.sort()"
   ]
  },
  {
   "cell_type": "code",
   "execution_count": 11,
   "metadata": {},
   "outputs": [
    {
     "data": {
      "text/plain": [
       "['final.output.concentrate_ag',\n",
       " 'final.output.concentrate_au',\n",
       " 'final.output.concentrate_pb',\n",
       " 'final.output.concentrate_sol',\n",
       " 'final.output.recovery',\n",
       " 'final.output.tail_ag',\n",
       " 'final.output.tail_au',\n",
       " 'final.output.tail_pb',\n",
       " 'final.output.tail_sol',\n",
       " 'primary_cleaner.output.concentrate_ag',\n",
       " 'primary_cleaner.output.concentrate_au',\n",
       " 'primary_cleaner.output.concentrate_pb',\n",
       " 'primary_cleaner.output.concentrate_sol',\n",
       " 'primary_cleaner.output.tail_ag',\n",
       " 'primary_cleaner.output.tail_au',\n",
       " 'primary_cleaner.output.tail_pb',\n",
       " 'primary_cleaner.output.tail_sol',\n",
       " 'rougher.calculation.au_pb_ratio',\n",
       " 'rougher.calculation.floatbank10_sulfate_to_au_feed',\n",
       " 'rougher.calculation.floatbank11_sulfate_to_au_feed',\n",
       " 'rougher.calculation.sulfate_to_au_concentrate',\n",
       " 'rougher.output.concentrate_ag',\n",
       " 'rougher.output.concentrate_au',\n",
       " 'rougher.output.concentrate_pb',\n",
       " 'rougher.output.concentrate_sol',\n",
       " 'rougher.output.recovery',\n",
       " 'rougher.output.tail_ag',\n",
       " 'rougher.output.tail_au',\n",
       " 'rougher.output.tail_pb',\n",
       " 'rougher.output.tail_sol',\n",
       " 'secondary_cleaner.output.tail_ag',\n",
       " 'secondary_cleaner.output.tail_au',\n",
       " 'secondary_cleaner.output.tail_pb',\n",
       " 'secondary_cleaner.output.tail_sol']"
      ]
     },
     "execution_count": 11,
     "metadata": {},
     "output_type": "execute_result"
    }
   ],
   "source": [
    "non_columns"
   ]
  },
  {
   "cell_type": "markdown",
   "metadata": {},
   "source": [
    "Можно увидеть, что на всех этапах нет параметра 'output' и на этапе 'rougher' нет парамерта 'calculation'."
   ]
  },
  {
   "cell_type": "markdown",
   "metadata": {},
   "source": [
    "### Предобработка данных."
   ]
  },
  {
   "cell_type": "markdown",
   "metadata": {},
   "source": [
    "Столбец 'data' во всех таблицах нужно привести к типу datatime64"
   ]
  },
  {
   "cell_type": "code",
   "execution_count": 12,
   "metadata": {},
   "outputs": [],
   "source": [
    "df['date'] = pd.to_datetime(df['date'], format='%Y.%m.%d %H:%M:%S')\n",
    "df_test['date'] = pd.to_datetime(df_test['date'], format='%Y.%m.%d %H:%M:%S')\n",
    "df_train['date'] = pd.to_datetime(df_train['date'], format='%Y.%m.%d %H:%M:%S')"
   ]
  },
  {
   "cell_type": "code",
   "execution_count": 13,
   "metadata": {
    "scrolled": true
   },
   "outputs": [
    {
     "name": "stdout",
     "output_type": "stream",
     "text": [
      "0\n",
      "0\n",
      "0\n"
     ]
    }
   ],
   "source": [
    "print(df.duplicated().sum())\n",
    "print(df_train.duplicated().sum())\n",
    "print(df_test.duplicated().sum())"
   ]
  },
  {
   "cell_type": "markdown",
   "metadata": {},
   "source": [
    "Дубликатов нет"
   ]
  },
  {
   "cell_type": "code",
   "execution_count": 14,
   "metadata": {},
   "outputs": [
    {
     "data": {
      "text/plain": [
       "secondary_cleaner.output.tail_sol           1748\n",
       "rougher.input.floatbank11_xanthate           453\n",
       "rougher.state.floatbank10_e_air              436\n",
       "primary_cleaner.output.concentrate_sol       370\n",
       "secondary_cleaner.state.floatbank2_a_air     220\n",
       "                                            ... \n",
       "rougher.state.floatbank10_e_level              0\n",
       "rougher.state.floatbank10_f_air                0\n",
       "rougher.output.concentrate_pb                  0\n",
       "rougher.state.floatbank10_f_level              0\n",
       "date                                           0\n",
       "Length: 87, dtype: int64"
      ]
     },
     "execution_count": 14,
     "metadata": {},
     "output_type": "execute_result"
    }
   ],
   "source": [
    "df.isna().sum().sort_values(ascending=False)"
   ]
  },
  {
   "cell_type": "code",
   "execution_count": 15,
   "metadata": {},
   "outputs": [],
   "source": [
    "# Избавимся от пропусков\n",
    "df_train.dropna(inplace=True)\n",
    "df_test.dropna(inplace=True)\n",
    "\n",
    "# заменяем 0 на nan и удаляем\n",
    "df = df.replace(0, np.nan)\n",
    "df = df.dropna(how='all')"
   ]
  },
  {
   "cell_type": "markdown",
   "metadata": {},
   "source": [
    "## Анализ данных"
   ]
  },
  {
   "cell_type": "markdown",
   "metadata": {},
   "source": [
    "### Как меняется концентрация металлов (Au, Ag, Pb) на различных этапах очистки. "
   ]
  },
  {
   "cell_type": "markdown",
   "metadata": {},
   "source": [
    "**Au**"
   ]
  },
  {
   "cell_type": "code",
   "execution_count": 16,
   "metadata": {},
   "outputs": [
    {
     "name": "stdout",
     "output_type": "stream",
     "text": [
      "20.18 - rougher\n",
      "32.3 - primary_cleaner\n",
      "44.3 - final\n"
     ]
    },
    {
     "data": {
      "image/png": "[encoded data removed]",
      "text/plain": [
       "<Figure size 432x288 with 1 Axes>"
      ]
     },
     "metadata": {
      "needs_background": "light"
     },
     "output_type": "display_data"
    },
    {
     "data": {
      "text/html": [
       "<div>\n",
       "<style scoped>\n",
       "    .dataframe tbody tr th:only-of-type {\n",
       "        vertical-align: middle;\n",
       "    }\n",
       "\n",
       "    .dataframe tbody tr th {\n",
       "        vertical-align: top;\n",
       "    }\n",
       "\n",
       "    .dataframe thead th {\n",
       "        text-align: right;\n",
       "    }\n",
       "</style>\n",
       "<table border=\"1\" class=\"dataframe\">\n",
       "  <thead>\n",
       "    <tr style=\"text-align: right;\">\n",
       "      <th></th>\n",
       "      <th>rougher.output.concentrate_au</th>\n",
       "      <th>primary_cleaner.output.concentrate_au</th>\n",
       "      <th>final.output.concentrate_au</th>\n",
       "    </tr>\n",
       "  </thead>\n",
       "  <tbody>\n",
       "    <tr>\n",
       "      <td>0</td>\n",
       "      <td>19.793808</td>\n",
       "      <td>34.174427</td>\n",
       "      <td>42.192020</td>\n",
       "    </tr>\n",
       "    <tr>\n",
       "      <td>1</td>\n",
       "      <td>20.050975</td>\n",
       "      <td>34.118526</td>\n",
       "      <td>42.701629</td>\n",
       "    </tr>\n",
       "    <tr>\n",
       "      <td>2</td>\n",
       "      <td>19.737170</td>\n",
       "      <td>33.969464</td>\n",
       "      <td>42.657501</td>\n",
       "    </tr>\n",
       "    <tr>\n",
       "      <td>3</td>\n",
       "      <td>19.320810</td>\n",
       "      <td>28.260743</td>\n",
       "      <td>42.689819</td>\n",
       "    </tr>\n",
       "    <tr>\n",
       "      <td>4</td>\n",
       "      <td>19.216101</td>\n",
       "      <td>33.044932</td>\n",
       "      <td>42.774141</td>\n",
       "    </tr>\n",
       "    <tr>\n",
       "      <td>...</td>\n",
       "      <td>...</td>\n",
       "      <td>...</td>\n",
       "      <td>...</td>\n",
       "    </tr>\n",
       "    <tr>\n",
       "      <td>19434</td>\n",
       "      <td>18.603550</td>\n",
       "      <td>32.940215</td>\n",
       "      <td>46.713954</td>\n",
       "    </tr>\n",
       "    <tr>\n",
       "      <td>19435</td>\n",
       "      <td>18.441436</td>\n",
       "      <td>32.925325</td>\n",
       "      <td>46.866780</td>\n",
       "    </tr>\n",
       "    <tr>\n",
       "      <td>19436</td>\n",
       "      <td>15.111231</td>\n",
       "      <td>31.856742</td>\n",
       "      <td>46.795691</td>\n",
       "    </tr>\n",
       "    <tr>\n",
       "      <td>19437</td>\n",
       "      <td>17.834772</td>\n",
       "      <td>30.770892</td>\n",
       "      <td>46.408188</td>\n",
       "    </tr>\n",
       "    <tr>\n",
       "      <td>19438</td>\n",
       "      <td>17.804134</td>\n",
       "      <td>30.356618</td>\n",
       "      <td>46.299438</td>\n",
       "    </tr>\n",
       "  </tbody>\n",
       "</table>\n",
       "<p>19439 rows × 3 columns</p>\n",
       "</div>"
      ],
      "text/plain": [
       "       rougher.output.concentrate_au  primary_cleaner.output.concentrate_au  \\\n",
       "0                          19.793808                              34.174427   \n",
       "1                          20.050975                              34.118526   \n",
       "2                          19.737170                              33.969464   \n",
       "3                          19.320810                              28.260743   \n",
       "4                          19.216101                              33.044932   \n",
       "...                              ...                                    ...   \n",
       "19434                      18.603550                              32.940215   \n",
       "19435                      18.441436                              32.925325   \n",
       "19436                      15.111231                              31.856742   \n",
       "19437                      17.834772                              30.770892   \n",
       "19438                      17.804134                              30.356618   \n",
       "\n",
       "       final.output.concentrate_au  \n",
       "0                        42.192020  \n",
       "1                        42.701629  \n",
       "2                        42.657501  \n",
       "3                        42.689819  \n",
       "4                        42.774141  \n",
       "...                            ...  \n",
       "19434                    46.713954  \n",
       "19435                    46.866780  \n",
       "19436                    46.795691  \n",
       "19437                    46.408188  \n",
       "19438                    46.299438  \n",
       "\n",
       "[19439 rows x 3 columns]"
      ]
     },
     "execution_count": 16,
     "metadata": {},
     "output_type": "execute_result"
    }
   ],
   "source": [
    "print(round(df['rougher.output.concentrate_au'].mean(), 2), '- rougher')\n",
    "print(round(df['primary_cleaner.output.concentrate_au'].mean(), 2), '- primary_cleaner')\n",
    "print(round(df['final.output.concentrate_au'].mean(), 2), '- final')\n",
    "\n",
    "df['rougher.output.concentrate_au'].hist(bins=50, alpha=0.7, label='rougher')\n",
    "df['primary_cleaner.output.concentrate_au'].hist(bins=50, alpha=0.7, label='primary_cleaner')\n",
    "df['final.output.concentrate_au'].hist(bins=50, alpha=0.7, label='final')\n",
    "plt.legend(loc='upper left')\n",
    "plt.show()\n",
    "\n",
    "df.loc[:, ['rougher.output.concentrate_au', 'primary_cleaner.output.concentrate_au', 'final.output.concentrate_au']]"
   ]
  },
  {
   "cell_type": "markdown",
   "metadata": {},
   "source": [
    "**Ag**"
   ]
  },
  {
   "cell_type": "code",
   "execution_count": 17,
   "metadata": {},
   "outputs": [
    {
     "name": "stdout",
     "output_type": "stream",
     "text": [
      "12.24 - rougher\n",
      "8.49 - primary_cleaner\n",
      "5.19 - final\n"
     ]
    },
    {
     "data": {
      "image/png": "[encoded data removed]",
      "text/plain": [
       "<Figure size 432x288 with 1 Axes>"
      ]
     },
     "metadata": {
      "needs_background": "light"
     },
     "output_type": "display_data"
    },
    {
     "data": {
      "text/html": [
       "<div>\n",
       "<style scoped>\n",
       "    .dataframe tbody tr th:only-of-type {\n",
       "        vertical-align: middle;\n",
       "    }\n",
       "\n",
       "    .dataframe tbody tr th {\n",
       "        vertical-align: top;\n",
       "    }\n",
       "\n",
       "    .dataframe thead th {\n",
       "        text-align: right;\n",
       "    }\n",
       "</style>\n",
       "<table border=\"1\" class=\"dataframe\">\n",
       "  <thead>\n",
       "    <tr style=\"text-align: right;\">\n",
       "      <th></th>\n",
       "      <th>rougher.output.concentrate_ag</th>\n",
       "      <th>primary_cleaner.output.concentrate_ag</th>\n",
       "      <th>final.output.concentrate_ag</th>\n",
       "    </tr>\n",
       "  </thead>\n",
       "  <tbody>\n",
       "    <tr>\n",
       "      <td>0</td>\n",
       "      <td>11.500771</td>\n",
       "      <td>8.547551</td>\n",
       "      <td>6.055403</td>\n",
       "    </tr>\n",
       "    <tr>\n",
       "      <td>1</td>\n",
       "      <td>11.615865</td>\n",
       "      <td>8.558743</td>\n",
       "      <td>6.029369</td>\n",
       "    </tr>\n",
       "    <tr>\n",
       "      <td>2</td>\n",
       "      <td>11.695753</td>\n",
       "      <td>8.603505</td>\n",
       "      <td>6.055926</td>\n",
       "    </tr>\n",
       "    <tr>\n",
       "      <td>3</td>\n",
       "      <td>11.915047</td>\n",
       "      <td>7.221879</td>\n",
       "      <td>6.047977</td>\n",
       "    </tr>\n",
       "    <tr>\n",
       "      <td>4</td>\n",
       "      <td>12.411054</td>\n",
       "      <td>9.089428</td>\n",
       "      <td>6.148599</td>\n",
       "    </tr>\n",
       "    <tr>\n",
       "      <td>...</td>\n",
       "      <td>...</td>\n",
       "      <td>...</td>\n",
       "      <td>...</td>\n",
       "    </tr>\n",
       "    <tr>\n",
       "      <td>19434</td>\n",
       "      <td>11.124896</td>\n",
       "      <td>6.559174</td>\n",
       "      <td>3.224920</td>\n",
       "    </tr>\n",
       "    <tr>\n",
       "      <td>19435</td>\n",
       "      <td>11.425983</td>\n",
       "      <td>6.612376</td>\n",
       "      <td>3.195978</td>\n",
       "    </tr>\n",
       "    <tr>\n",
       "      <td>19436</td>\n",
       "      <td>8.523497</td>\n",
       "      <td>7.128896</td>\n",
       "      <td>3.109998</td>\n",
       "    </tr>\n",
       "    <tr>\n",
       "      <td>19437</td>\n",
       "      <td>11.658799</td>\n",
       "      <td>7.490444</td>\n",
       "      <td>3.367241</td>\n",
       "    </tr>\n",
       "    <tr>\n",
       "      <td>19438</td>\n",
       "      <td>11.959486</td>\n",
       "      <td>7.537584</td>\n",
       "      <td>3.598375</td>\n",
       "    </tr>\n",
       "  </tbody>\n",
       "</table>\n",
       "<p>19439 rows × 3 columns</p>\n",
       "</div>"
      ],
      "text/plain": [
       "       rougher.output.concentrate_ag  primary_cleaner.output.concentrate_ag  \\\n",
       "0                          11.500771                               8.547551   \n",
       "1                          11.615865                               8.558743   \n",
       "2                          11.695753                               8.603505   \n",
       "3                          11.915047                               7.221879   \n",
       "4                          12.411054                               9.089428   \n",
       "...                              ...                                    ...   \n",
       "19434                      11.124896                               6.559174   \n",
       "19435                      11.425983                               6.612376   \n",
       "19436                       8.523497                               7.128896   \n",
       "19437                      11.658799                               7.490444   \n",
       "19438                      11.959486                               7.537584   \n",
       "\n",
       "       final.output.concentrate_ag  \n",
       "0                         6.055403  \n",
       "1                         6.029369  \n",
       "2                         6.055926  \n",
       "3                         6.047977  \n",
       "4                         6.148599  \n",
       "...                            ...  \n",
       "19434                     3.224920  \n",
       "19435                     3.195978  \n",
       "19436                     3.109998  \n",
       "19437                     3.367241  \n",
       "19438                     3.598375  \n",
       "\n",
       "[19439 rows x 3 columns]"
      ]
     },
     "execution_count": 17,
     "metadata": {},
     "output_type": "execute_result"
    }
   ],
   "source": [
    "print(round(df['rougher.output.concentrate_ag'].mean(), 2), '- rougher')\n",
    "print(round(df['primary_cleaner.output.concentrate_ag'].mean(), 2), '- primary_cleaner')\n",
    "print(round(df['final.output.concentrate_ag'].mean(), 2), '- final')\n",
    "\n",
    "df['rougher.output.concentrate_ag'].hist(bins=50, alpha=0.7, label='rougher')\n",
    "df['primary_cleaner.output.concentrate_ag'].hist(bins=50, alpha=0.7, label='primary_cleaner')\n",
    "df['final.output.concentrate_ag'].hist(bins=50, alpha=0.7, label='final')\n",
    "plt.legend(loc='upper right')\n",
    "plt.show()\n",
    "\n",
    "df.loc[:, ['rougher.output.concentrate_ag', 'primary_cleaner.output.concentrate_ag', 'final.output.concentrate_ag']]"
   ]
  },
  {
   "cell_type": "markdown",
   "metadata": {},
   "source": [
    "**Pb**"
   ]
  },
  {
   "cell_type": "code",
   "execution_count": 18,
   "metadata": {
    "scrolled": false
   },
   "outputs": [
    {
     "name": "stdout",
     "output_type": "stream",
     "text": [
      "7.76 - rougher\n",
      "9.88 - primary_cleaner\n",
      "10.03 - final\n"
     ]
    },
    {
     "data": {
      "image/png": "[encoded data removed]",
      "text/plain": [
       "<Figure size 432x288 with 1 Axes>"
      ]
     },
     "metadata": {
      "needs_background": "light"
     },
     "output_type": "display_data"
    },
    {
     "data": {
      "text/html": [
       "<div>\n",
       "<style scoped>\n",
       "    .dataframe tbody tr th:only-of-type {\n",
       "        vertical-align: middle;\n",
       "    }\n",
       "\n",
       "    .dataframe tbody tr th {\n",
       "        vertical-align: top;\n",
       "    }\n",
       "\n",
       "    .dataframe thead th {\n",
       "        text-align: right;\n",
       "    }\n",
       "</style>\n",
       "<table border=\"1\" class=\"dataframe\">\n",
       "  <thead>\n",
       "    <tr style=\"text-align: right;\">\n",
       "      <th></th>\n",
       "      <th>rougher.output.concentrate_pb</th>\n",
       "      <th>primary_cleaner.output.concentrate_pb</th>\n",
       "      <th>final.output.concentrate_pb</th>\n",
       "    </tr>\n",
       "  </thead>\n",
       "  <tbody>\n",
       "    <tr>\n",
       "      <td>0</td>\n",
       "      <td>7.101074</td>\n",
       "      <td>10.389648</td>\n",
       "      <td>9.889648</td>\n",
       "    </tr>\n",
       "    <tr>\n",
       "      <td>1</td>\n",
       "      <td>7.278807</td>\n",
       "      <td>10.497069</td>\n",
       "      <td>9.968944</td>\n",
       "    </tr>\n",
       "    <tr>\n",
       "      <td>2</td>\n",
       "      <td>7.216833</td>\n",
       "      <td>10.354494</td>\n",
       "      <td>10.213995</td>\n",
       "    </tr>\n",
       "    <tr>\n",
       "      <td>3</td>\n",
       "      <td>7.175616</td>\n",
       "      <td>8.496563</td>\n",
       "      <td>9.977019</td>\n",
       "    </tr>\n",
       "    <tr>\n",
       "      <td>4</td>\n",
       "      <td>7.240205</td>\n",
       "      <td>9.986786</td>\n",
       "      <td>10.142511</td>\n",
       "    </tr>\n",
       "    <tr>\n",
       "      <td>...</td>\n",
       "      <td>...</td>\n",
       "      <td>...</td>\n",
       "      <td>...</td>\n",
       "    </tr>\n",
       "    <tr>\n",
       "      <td>19434</td>\n",
       "      <td>10.984003</td>\n",
       "      <td>12.445966</td>\n",
       "      <td>11.356233</td>\n",
       "    </tr>\n",
       "    <tr>\n",
       "      <td>19435</td>\n",
       "      <td>10.888213</td>\n",
       "      <td>12.623947</td>\n",
       "      <td>11.349355</td>\n",
       "    </tr>\n",
       "    <tr>\n",
       "      <td>19436</td>\n",
       "      <td>8.955135</td>\n",
       "      <td>12.633558</td>\n",
       "      <td>11.434366</td>\n",
       "    </tr>\n",
       "    <tr>\n",
       "      <td>19437</td>\n",
       "      <td>10.655377</td>\n",
       "      <td>12.012378</td>\n",
       "      <td>11.625587</td>\n",
       "    </tr>\n",
       "    <tr>\n",
       "      <td>19438</td>\n",
       "      <td>10.702148</td>\n",
       "      <td>11.650285</td>\n",
       "      <td>11.737832</td>\n",
       "    </tr>\n",
       "  </tbody>\n",
       "</table>\n",
       "<p>19439 rows × 3 columns</p>\n",
       "</div>"
      ],
      "text/plain": [
       "       rougher.output.concentrate_pb  primary_cleaner.output.concentrate_pb  \\\n",
       "0                           7.101074                              10.389648   \n",
       "1                           7.278807                              10.497069   \n",
       "2                           7.216833                              10.354494   \n",
       "3                           7.175616                               8.496563   \n",
       "4                           7.240205                               9.986786   \n",
       "...                              ...                                    ...   \n",
       "19434                      10.984003                              12.445966   \n",
       "19435                      10.888213                              12.623947   \n",
       "19436                       8.955135                              12.633558   \n",
       "19437                      10.655377                              12.012378   \n",
       "19438                      10.702148                              11.650285   \n",
       "\n",
       "       final.output.concentrate_pb  \n",
       "0                         9.889648  \n",
       "1                         9.968944  \n",
       "2                        10.213995  \n",
       "3                         9.977019  \n",
       "4                        10.142511  \n",
       "...                            ...  \n",
       "19434                    11.356233  \n",
       "19435                    11.349355  \n",
       "19436                    11.434366  \n",
       "19437                    11.625587  \n",
       "19438                    11.737832  \n",
       "\n",
       "[19439 rows x 3 columns]"
      ]
     },
     "execution_count": 18,
     "metadata": {},
     "output_type": "execute_result"
    }
   ],
   "source": [
    "print(round(df['rougher.output.concentrate_pb'].mean(), 2), '- rougher')\n",
    "print(round(df['primary_cleaner.output.concentrate_pb'].mean(), 2), '- primary_cleaner')\n",
    "print(round(df['final.output.concentrate_pb'].mean(), 2), '- final')\n",
    "\n",
    "df['rougher.output.concentrate_pb'].hist(bins=50, alpha=0.7, label='rougher')\n",
    "df['primary_cleaner.output.concentrate_pb'].hist(bins=50, alpha=0.7, label='primary_cleaner')\n",
    "df['final.output.concentrate_pb'].hist(bins=50, alpha=0.7, label='final')\n",
    "plt.legend(loc='upper right')\n",
    "plt.show()\n",
    "\n",
    "df.loc[:, ['rougher.output.concentrate_pb', 'primary_cleaner.output.concentrate_pb', 'final.output.concentrate_pb']]"
   ]
  },
  {
   "cell_type": "markdown",
   "metadata": {},
   "source": [
    "**Вывод**<br>\n",
    "Видно, что у металла Au концентрация к финальному этапу увеличивается почти в два раза.<br>\n",
    "У металла Ag наоборот уменьшается почти в два раза.<br>\n",
    "А вот у металла Pb концентрация увеличивается после первой очистки, а на финальной только улучшается."
   ]
  },
  {
   "cell_type": "markdown",
   "metadata": {},
   "source": [
    "### Сравнение распределения размеров гранул сырья на обучающей и тестовой выборках. \n",
    "Если распределения сильно отличаются друг от друга, оценка модели будет неправильной."
   ]
  },
  {
   "cell_type": "code",
   "execution_count": 19,
   "metadata": {},
   "outputs": [
    {
     "data": {
      "image/png": "[encoded data removed]",
      "text/plain": [
       "<Figure size 504x288 with 2 Axes>"
      ]
     },
     "metadata": {
      "needs_background": "light"
     },
     "output_type": "display_data"
    }
   ],
   "source": [
    "fig, axes = plt.subplots(nrows = 1, ncols = 2, figsize = (7,4))\n",
    "plt.subplot(1,2,1)\n",
    "df_test.boxplot(column=['rougher.input.feed_size'])\n",
    "plt.ylim(20, 100)\n",
    "\n",
    "plt.subplot(1,2,2)\n",
    "df_train.boxplot(column=['rougher.input.feed_size'])\n",
    "plt.ylim(20, 100)\n",
    "plt.show()"
   ]
  },
  {
   "cell_type": "code",
   "execution_count": 20,
   "metadata": {},
   "outputs": [
    {
     "name": "stdout",
     "output_type": "stream",
     "text": [
      "test - 50.77272939330314\n",
      "train - 53.843358546082705\n"
     ]
    }
   ],
   "source": [
    "print('test -', df_test['rougher.input.feed_size'].median())\n",
    "print('train -', df_train['rougher.input.feed_size'].median())"
   ]
  },
  {
   "cell_type": "code",
   "execution_count": 21,
   "metadata": {
    "scrolled": true
   },
   "outputs": [
    {
     "name": "stdout",
     "output_type": "stream",
     "text": [
      "pvalue - 6.289032330289711e-176\n"
     ]
    }
   ],
   "source": [
    "print('pvalue -', st.kstest(df_test['rougher.input.feed_size'], df_train['rougher.input.feed_size']).pvalue)"
   ]
  },
  {
   "cell_type": "markdown",
   "metadata": {},
   "source": [
    "Распределения похожи, но немного отличаются. Сравнив распределения с помощью kstest, основываясь на значении pvalue, можно сделать вывод, что распределения не значительные."
   ]
  },
  {
   "cell_type": "markdown",
   "metadata": {},
   "source": [
    "### Исследование суммарной концентрации всех веществ на разных стадиях: в сырье, в черновом и финальном концентратах."
   ]
  },
  {
   "cell_type": "code",
   "execution_count": 22,
   "metadata": {
    "scrolled": false
   },
   "outputs": [
    {
     "data": {
      "image/png": "[encoded data removed]",
      "text/plain": [
       "<Figure size 432x288 with 1 Axes>"
      ]
     },
     "metadata": {
      "needs_background": "light"
     },
     "output_type": "display_data"
    }
   ],
   "source": [
    "# визуализируем\n",
    "(df['rougher.input.feed_au'] + df['rougher.input.feed_pb'] + df['rougher.input.feed_sol'] + df['rougher.input.feed_au']).hist(bins=50, alpha=0.7, label='input')\n",
    "(df['rougher.output.concentrate_ag'] + df['rougher.output.concentrate_pb'] + df['rougher.output.concentrate_sol'] + df['rougher.output.concentrate_au']).hist(bins=50, alpha=0.7, label='output')\n",
    "(df['final.output.concentrate_ag'] + df['final.output.concentrate_pb'] + df['final.output.concentrate_sol'] + df['final.output.concentrate_au']).hist(bins=50, alpha=0.7, label='final')\n",
    "\n",
    "plt.legend(loc='upper left')\n",
    "plt.show()"
   ]
  },
  {
   "cell_type": "code",
   "execution_count": 23,
   "metadata": {},
   "outputs": [],
   "source": [
    "# В сырье\n",
    "roughter = round(df['rougher.input.feed_au'].sum() + df['rougher.input.feed_pb'].sum() + df['rougher.input.feed_sol'].sum() + df['rougher.input.feed_au'].sum(), 2)\n",
    "\n",
    "# В черновом\n",
    "primal = round(df['rougher.output.concentrate_ag'].sum() + df['rougher.output.concentrate_pb'].sum() + df['rougher.output.concentrate_sol'].sum() + df['rougher.output.concentrate_au'].sum(), 2)\n",
    "\n",
    "# В финальном:\n",
    "final = round(df['final.output.concentrate_ag'].sum() + df['final.output.concentrate_pb'].sum() + df['final.output.concentrate_sol'].sum() + df['final.output.concentrate_au'].sum(), 2)"
   ]
  },
  {
   "cell_type": "code",
   "execution_count": 24,
   "metadata": {},
   "outputs": [
    {
     "name": "stdout",
     "output_type": "stream",
     "text": [
      "1100636.21 - в сырье\n",
      "1324661.33 - в черновом\n",
      "1333927.36 - в финальном\n"
     ]
    }
   ],
   "source": [
    "print(roughter, '- в сырье')\n",
    "print(primal, \"- в черновом\")\n",
    "print(final, \"- в финальном\")"
   ]
  },
  {
   "cell_type": "markdown",
   "metadata": {},
   "source": [
    "Мы можем увидеть, что суммарная концентрация в черновом на 224 тыс. больше чем в сырье, а в финальном только на 11 тыс. больше чем в черновом."
   ]
  },
  {
   "cell_type": "markdown",
   "metadata": {},
   "source": [
    "## Модель"
   ]
  },
  {
   "cell_type": "markdown",
   "metadata": {},
   "source": [
    "### Функция для вычисления итоговой sMAPE."
   ]
  },
  {
   "cell_type": "code",
   "execution_count": 25,
   "metadata": {},
   "outputs": [],
   "source": [
    "# основываясь на формуле данной в инструкции пришем функциию для вычисления sMAPE\n",
    "def smape(actual, predicted):\n",
    "    result = (abs(predicted - actual) / ((abs(predicted) + abs(actual))/2) * 100).mean()\n",
    "    return result"
   ]
  },
  {
   "cell_type": "markdown",
   "metadata": {},
   "source": [
    "### Обучение разных моделей и оценка их качества кросс-валидацией. \n",
    "Нужно выбрать лучшую модель и проверить её на тестовой выборке."
   ]
  },
  {
   "cell_type": "code",
   "execution_count": 26,
   "metadata": {},
   "outputs": [],
   "source": [
    "# метрику smape подготовим для скоринга в 'cross_val_score'\n",
    "my_scorer = make_scorer(smape, greater_is_better=False)"
   ]
  },
  {
   "cell_type": "markdown",
   "metadata": {},
   "source": [
    "#### Обучение"
   ]
  },
  {
   "cell_type": "code",
   "execution_count": 27,
   "metadata": {
    "scrolled": false
   },
   "outputs": [
    {
     "name": "stdout",
     "output_type": "stream",
     "text": [
      "----- df_train_rougher -----\n",
      "<class 'pandas.core.frame.DataFrame'>\n",
      "Int64Index: 11017 entries, 0 to 14148\n",
      "Data columns (total 54 columns):\n",
      "date                                          11017 non-null datetime64[ns]\n",
      "primary_cleaner.input.sulfate                 11017 non-null float64\n",
      "primary_cleaner.input.depressant              11017 non-null float64\n",
      "primary_cleaner.input.feed_size               11017 non-null float64\n",
      "primary_cleaner.input.xanthate                11017 non-null float64\n",
      "primary_cleaner.state.floatbank8_a_air        11017 non-null float64\n",
      "primary_cleaner.state.floatbank8_a_level      11017 non-null float64\n",
      "primary_cleaner.state.floatbank8_b_air        11017 non-null float64\n",
      "primary_cleaner.state.floatbank8_b_level      11017 non-null float64\n",
      "primary_cleaner.state.floatbank8_c_air        11017 non-null float64\n",
      "primary_cleaner.state.floatbank8_c_level      11017 non-null float64\n",
      "primary_cleaner.state.floatbank8_d_air        11017 non-null float64\n",
      "primary_cleaner.state.floatbank8_d_level      11017 non-null float64\n",
      "rougher.input.feed_ag                         11017 non-null float64\n",
      "rougher.input.feed_pb                         11017 non-null float64\n",
      "rougher.input.feed_rate                       11017 non-null float64\n",
      "rougher.input.feed_size                       11017 non-null float64\n",
      "rougher.input.feed_sol                        11017 non-null float64\n",
      "rougher.input.feed_au                         11017 non-null float64\n",
      "rougher.input.floatbank10_sulfate             11017 non-null float64\n",
      "rougher.input.floatbank10_xanthate            11017 non-null float64\n",
      "rougher.input.floatbank11_sulfate             11017 non-null float64\n",
      "rougher.input.floatbank11_xanthate            11017 non-null float64\n",
      "rougher.output.recovery                       11017 non-null float64\n",
      "rougher.state.floatbank10_a_air               11017 non-null float64\n",
      "rougher.state.floatbank10_a_level             11017 non-null float64\n",
      "rougher.state.floatbank10_b_air               11017 non-null float64\n",
      "rougher.state.floatbank10_b_level             11017 non-null float64\n",
      "rougher.state.floatbank10_c_air               11017 non-null float64\n",
      "rougher.state.floatbank10_c_level             11017 non-null float64\n",
      "rougher.state.floatbank10_d_air               11017 non-null float64\n",
      "rougher.state.floatbank10_d_level             11017 non-null float64\n",
      "rougher.state.floatbank10_e_air               11017 non-null float64\n",
      "rougher.state.floatbank10_e_level             11017 non-null float64\n",
      "rougher.state.floatbank10_f_air               11017 non-null float64\n",
      "rougher.state.floatbank10_f_level             11017 non-null float64\n",
      "secondary_cleaner.state.floatbank2_a_air      11017 non-null float64\n",
      "secondary_cleaner.state.floatbank2_a_level    11017 non-null float64\n",
      "secondary_cleaner.state.floatbank2_b_air      11017 non-null float64\n",
      "secondary_cleaner.state.floatbank2_b_level    11017 non-null float64\n",
      "secondary_cleaner.state.floatbank3_a_air      11017 non-null float64\n",
      "secondary_cleaner.state.floatbank3_a_level    11017 non-null float64\n",
      "secondary_cleaner.state.floatbank3_b_air      11017 non-null float64\n",
      "secondary_cleaner.state.floatbank3_b_level    11017 non-null float64\n",
      "secondary_cleaner.state.floatbank4_a_air      11017 non-null float64\n",
      "secondary_cleaner.state.floatbank4_a_level    11017 non-null float64\n",
      "secondary_cleaner.state.floatbank4_b_air      11017 non-null float64\n",
      "secondary_cleaner.state.floatbank4_b_level    11017 non-null float64\n",
      "secondary_cleaner.state.floatbank5_a_air      11017 non-null float64\n",
      "secondary_cleaner.state.floatbank5_a_level    11017 non-null float64\n",
      "secondary_cleaner.state.floatbank5_b_air      11017 non-null float64\n",
      "secondary_cleaner.state.floatbank5_b_level    11017 non-null float64\n",
      "secondary_cleaner.state.floatbank6_a_air      11017 non-null float64\n",
      "secondary_cleaner.state.floatbank6_a_level    11017 non-null float64\n",
      "dtypes: datetime64[ns](1), float64(53)\n",
      "memory usage: 4.6 MB\n"
     ]
    },
    {
     "data": {
      "text/plain": [
       "None"
      ]
     },
     "metadata": {},
     "output_type": "display_data"
    },
    {
     "name": "stdout",
     "output_type": "stream",
     "text": [
      "----- df_train_final -----\n",
      "<class 'pandas.core.frame.DataFrame'>\n",
      "Int64Index: 11017 entries, 0 to 14148\n",
      "Data columns (total 54 columns):\n",
      "date                                          11017 non-null datetime64[ns]\n",
      "final.output.recovery                         11017 non-null float64\n",
      "primary_cleaner.input.sulfate                 11017 non-null float64\n",
      "primary_cleaner.input.depressant              11017 non-null float64\n",
      "primary_cleaner.input.feed_size               11017 non-null float64\n",
      "primary_cleaner.input.xanthate                11017 non-null float64\n",
      "primary_cleaner.state.floatbank8_a_air        11017 non-null float64\n",
      "primary_cleaner.state.floatbank8_a_level      11017 non-null float64\n",
      "primary_cleaner.state.floatbank8_b_air        11017 non-null float64\n",
      "primary_cleaner.state.floatbank8_b_level      11017 non-null float64\n",
      "primary_cleaner.state.floatbank8_c_air        11017 non-null float64\n",
      "primary_cleaner.state.floatbank8_c_level      11017 non-null float64\n",
      "primary_cleaner.state.floatbank8_d_air        11017 non-null float64\n",
      "primary_cleaner.state.floatbank8_d_level      11017 non-null float64\n",
      "rougher.input.feed_ag                         11017 non-null float64\n",
      "rougher.input.feed_pb                         11017 non-null float64\n",
      "rougher.input.feed_rate                       11017 non-null float64\n",
      "rougher.input.feed_size                       11017 non-null float64\n",
      "rougher.input.feed_sol                        11017 non-null float64\n",
      "rougher.input.feed_au                         11017 non-null float64\n",
      "rougher.input.floatbank10_sulfate             11017 non-null float64\n",
      "rougher.input.floatbank10_xanthate            11017 non-null float64\n",
      "rougher.input.floatbank11_sulfate             11017 non-null float64\n",
      "rougher.input.floatbank11_xanthate            11017 non-null float64\n",
      "rougher.state.floatbank10_a_air               11017 non-null float64\n",
      "rougher.state.floatbank10_a_level             11017 non-null float64\n",
      "rougher.state.floatbank10_b_air               11017 non-null float64\n",
      "rougher.state.floatbank10_b_level             11017 non-null float64\n",
      "rougher.state.floatbank10_c_air               11017 non-null float64\n",
      "rougher.state.floatbank10_c_level             11017 non-null float64\n",
      "rougher.state.floatbank10_d_air               11017 non-null float64\n",
      "rougher.state.floatbank10_d_level             11017 non-null float64\n",
      "rougher.state.floatbank10_e_air               11017 non-null float64\n",
      "rougher.state.floatbank10_e_level             11017 non-null float64\n",
      "rougher.state.floatbank10_f_air               11017 non-null float64\n",
      "rougher.state.floatbank10_f_level             11017 non-null float64\n",
      "secondary_cleaner.state.floatbank2_a_air      11017 non-null float64\n",
      "secondary_cleaner.state.floatbank2_a_level    11017 non-null float64\n",
      "secondary_cleaner.state.floatbank2_b_air      11017 non-null float64\n",
      "secondary_cleaner.state.floatbank2_b_level    11017 non-null float64\n",
      "secondary_cleaner.state.floatbank3_a_air      11017 non-null float64\n",
      "secondary_cleaner.state.floatbank3_a_level    11017 non-null float64\n",
      "secondary_cleaner.state.floatbank3_b_air      11017 non-null float64\n",
      "secondary_cleaner.state.floatbank3_b_level    11017 non-null float64\n",
      "secondary_cleaner.state.floatbank4_a_air      11017 non-null float64\n",
      "secondary_cleaner.state.floatbank4_a_level    11017 non-null float64\n",
      "secondary_cleaner.state.floatbank4_b_air      11017 non-null float64\n",
      "secondary_cleaner.state.floatbank4_b_level    11017 non-null float64\n",
      "secondary_cleaner.state.floatbank5_a_air      11017 non-null float64\n",
      "secondary_cleaner.state.floatbank5_a_level    11017 non-null float64\n",
      "secondary_cleaner.state.floatbank5_b_air      11017 non-null float64\n",
      "secondary_cleaner.state.floatbank5_b_level    11017 non-null float64\n",
      "secondary_cleaner.state.floatbank6_a_air      11017 non-null float64\n",
      "secondary_cleaner.state.floatbank6_a_level    11017 non-null float64\n",
      "dtypes: datetime64[ns](1), float64(53)\n",
      "memory usage: 4.6 MB\n"
     ]
    }
   ],
   "source": [
    "# Избавимся от признаков в df_train, которых нет в df_test, но оставим rougher.output.recovery\n",
    "print(\"----- df_train_rougher -----\")\n",
    "df_train_rougher = df_train.drop(columns=not_rougher)\n",
    "display(df_train_rougher.info())\n",
    "\n",
    "# Избавимся от признаков в df_train, которых нет в df_test, но оставим final.output.recovery\n",
    "print(\"----- df_train_final -----\")\n",
    "df_train_final = df_train.drop(columns=not_final)\n",
    "df_train_final.info()"
   ]
  },
  {
   "cell_type": "code",
   "execution_count": 28,
   "metadata": {},
   "outputs": [],
   "source": [
    "# Разделим на признаки и целевой признак\n",
    "features_r = df_train_rougher.drop(['rougher.output.recovery', 'date'], axis=1)\n",
    "target_r = df_train_rougher['rougher.output.recovery']\n",
    "\n",
    "features_f = df_train_final.drop(['final.output.recovery', 'date'], axis=1)\n",
    "target_f = df_train_final['final.output.recovery']"
   ]
  },
  {
   "cell_type": "markdown",
   "metadata": {},
   "source": [
    "**Дерево решений для регрессии**"
   ]
  },
  {
   "cell_type": "code",
   "execution_count": 29,
   "metadata": {
    "scrolled": true
   },
   "outputs": [
    {
     "name": "stdout",
     "output_type": "stream",
     "text": [
      "Средняя оценка качества rougher_score: -11.57\n",
      "Средняя оценка качества final_score: -8.748\n",
      "Итоговое sMAPE -9.453\n",
      "best_depth = 1\n",
      "\n",
      "Wall time: 21.4 s\n"
     ]
    }
   ],
   "source": [
    "%%time\n",
    "\n",
    "best_depth = None\n",
    "best_rougher = 0\n",
    "best_final = 0\n",
    "best_finish_score = -100\n",
    "\n",
    "for depth in range(1, 11):\n",
    "    model = DecisionTreeRegressor(max_depth=depth, random_state=12345)\n",
    "    rougher_score = cross_val_score(model, features_r, target_r, scoring=my_scorer, cv=5).mean()\n",
    "    final_score = cross_val_score(model, features_f, target_f, scoring=my_scorer, cv=5).mean()\n",
    "    \n",
    "    finish_score = 0.25*rougher_score + 0.75*final_score\n",
    "    if finish_score > best_finish_score:\n",
    "        best_finish_score = finish_score\n",
    "        best_rougher = rougher_score\n",
    "        best_final = final_score\n",
    "        best_depth = depth\n",
    "        \n",
    "print('Средняя оценка качества rougher_score:', round(best_rougher, 3))\n",
    "print('Средняя оценка качества final_score:', round(best_final, 3))\n",
    "print('Итоговое sMAPE', round(best_finish_score, 3))\n",
    "print('best_depth =', best_depth)\n",
    "print()"
   ]
  },
  {
   "cell_type": "markdown",
   "metadata": {},
   "source": [
    "**Случайный лес для регрессии**"
   ]
  },
  {
   "cell_type": "code",
   "execution_count": 30,
   "metadata": {},
   "outputs": [
    {
     "name": "stdout",
     "output_type": "stream",
     "text": [
      "Средняя оценка качества rougher_score: -13.571\n",
      "Средняя оценка качества final_score: -11.579\n",
      "Итоговое sMAPE -12.077\n",
      "est = 10\n",
      "\n",
      "Wall time: 3min 23s\n"
     ]
    }
   ],
   "source": [
    "%%time\n",
    "\n",
    "est = None\n",
    "best_rougher = 0\n",
    "best_final = 0\n",
    "best_finish_score = -100\n",
    "\n",
    "for est in range(1, 11):\n",
    "    model = RandomForestRegressor(n_estimators=est, random_state=12345)\n",
    "    rougher_score = cross_val_score(model, features_r, target_r, scoring=my_scorer, cv=5).mean()\n",
    "    final_score = cross_val_score(model, features_f, target_f, scoring=my_scorer, cv=5).mean()\n",
    "\n",
    "    finish_score = 0.25*rougher_score + 0.75*final_score\n",
    "    if finish_score > best_finish_score:\n",
    "        best_finish_score = finish_score\n",
    "        best_rougher = rougher_score\n",
    "        best_final = final_score\n",
    "        est = est\n",
    "\n",
    "print('Средняя оценка качества rougher_score:', round(best_rougher, 3))\n",
    "print('Средняя оценка качества final_score:', round(best_final, 3))\n",
    "print('Итоговое sMAPE', round(best_finish_score, 3))\n",
    "print('est =', est)\n",
    "print()"
   ]
  },
  {
   "cell_type": "markdown",
   "metadata": {},
   "source": [
    "**Линейная регрессия**"
   ]
  },
  {
   "cell_type": "code",
   "execution_count": 31,
   "metadata": {},
   "outputs": [
    {
     "name": "stdout",
     "output_type": "stream",
     "text": [
      "Средняя оценка качества rougher_score: -11.925\n",
      "Средняя оценка качества final_score: -9.746\n",
      "Итоговое sMAPE -10.291\n",
      "\n",
      "Wall time: 172 ms\n"
     ]
    }
   ],
   "source": [
    "%%time\n",
    "\n",
    "model = LinearRegression()\n",
    "rougher_score = cross_val_score(model, features_r, target_r, scoring=my_scorer, cv=5).mean()\n",
    "final_score = cross_val_score(model, features_f, target_f, scoring=my_scorer, cv=5).mean()\n",
    "\n",
    "finish_score = 0.25*rougher_score + 0.75*final_score\n",
    "print('Средняя оценка качества rougher_score:', round(rougher_score, 3))\n",
    "print('Средняя оценка качества final_score:', round(final_score, 3))\n",
    "print('Итоговое sMAPE', round(finish_score, 3))\n",
    "print()"
   ]
  },
  {
   "cell_type": "markdown",
   "metadata": {},
   "source": [
    "**Вывод:**<br>\n",
    "После перебора параметров оказалось, что у дерева решений лучший результат: Итоговое sMAPE = -9.453"
   ]
  },
  {
   "cell_type": "markdown",
   "metadata": {},
   "source": [
    "#### Тестирование"
   ]
  },
  {
   "cell_type": "code",
   "execution_count": 32,
   "metadata": {
    "scrolled": false
   },
   "outputs": [
    {
     "name": "stdout",
     "output_type": "stream",
     "text": [
      "----- df_test_rougher -----\n",
      "<class 'pandas.core.frame.DataFrame'>\n",
      "Int64Index: 5133 entries, 0 to 5228\n",
      "Data columns (total 54 columns):\n",
      "date                                          5133 non-null datetime64[ns]\n",
      "primary_cleaner.input.sulfate                 5133 non-null float64\n",
      "primary_cleaner.input.depressant              5133 non-null float64\n",
      "primary_cleaner.input.feed_size               5133 non-null float64\n",
      "primary_cleaner.input.xanthate                5133 non-null float64\n",
      "primary_cleaner.state.floatbank8_a_air        5133 non-null float64\n",
      "primary_cleaner.state.floatbank8_a_level      5133 non-null float64\n",
      "primary_cleaner.state.floatbank8_b_air        5133 non-null float64\n",
      "primary_cleaner.state.floatbank8_b_level      5133 non-null float64\n",
      "primary_cleaner.state.floatbank8_c_air        5133 non-null float64\n",
      "primary_cleaner.state.floatbank8_c_level      5133 non-null float64\n",
      "primary_cleaner.state.floatbank8_d_air        5133 non-null float64\n",
      "primary_cleaner.state.floatbank8_d_level      5133 non-null float64\n",
      "rougher.input.feed_ag                         5133 non-null float64\n",
      "rougher.input.feed_pb                         5133 non-null float64\n",
      "rougher.input.feed_rate                       5133 non-null float64\n",
      "rougher.input.feed_size                       5133 non-null float64\n",
      "rougher.input.feed_sol                        5133 non-null float64\n",
      "rougher.input.feed_au                         5133 non-null float64\n",
      "rougher.input.floatbank10_sulfate             5133 non-null float64\n",
      "rougher.input.floatbank10_xanthate            5133 non-null float64\n",
      "rougher.input.floatbank11_sulfate             5133 non-null float64\n",
      "rougher.input.floatbank11_xanthate            5133 non-null float64\n",
      "rougher.state.floatbank10_a_air               5133 non-null float64\n",
      "rougher.state.floatbank10_a_level             5133 non-null float64\n",
      "rougher.state.floatbank10_b_air               5133 non-null float64\n",
      "rougher.state.floatbank10_b_level             5133 non-null float64\n",
      "rougher.state.floatbank10_c_air               5133 non-null float64\n",
      "rougher.state.floatbank10_c_level             5133 non-null float64\n",
      "rougher.state.floatbank10_d_air               5133 non-null float64\n",
      "rougher.state.floatbank10_d_level             5133 non-null float64\n",
      "rougher.state.floatbank10_e_air               5133 non-null float64\n",
      "rougher.state.floatbank10_e_level             5133 non-null float64\n",
      "rougher.state.floatbank10_f_air               5133 non-null float64\n",
      "rougher.state.floatbank10_f_level             5133 non-null float64\n",
      "secondary_cleaner.state.floatbank2_a_air      5133 non-null float64\n",
      "secondary_cleaner.state.floatbank2_a_level    5133 non-null float64\n",
      "secondary_cleaner.state.floatbank2_b_air      5133 non-null float64\n",
      "secondary_cleaner.state.floatbank2_b_level    5133 non-null float64\n",
      "secondary_cleaner.state.floatbank3_a_air      5133 non-null float64\n",
      "secondary_cleaner.state.floatbank3_a_level    5133 non-null float64\n",
      "secondary_cleaner.state.floatbank3_b_air      5133 non-null float64\n",
      "secondary_cleaner.state.floatbank3_b_level    5133 non-null float64\n",
      "secondary_cleaner.state.floatbank4_a_air      5133 non-null float64\n",
      "secondary_cleaner.state.floatbank4_a_level    5133 non-null float64\n",
      "secondary_cleaner.state.floatbank4_b_air      5133 non-null float64\n",
      "secondary_cleaner.state.floatbank4_b_level    5133 non-null float64\n",
      "secondary_cleaner.state.floatbank5_a_air      5133 non-null float64\n",
      "secondary_cleaner.state.floatbank5_a_level    5133 non-null float64\n",
      "secondary_cleaner.state.floatbank5_b_air      5133 non-null float64\n",
      "secondary_cleaner.state.floatbank5_b_level    5133 non-null float64\n",
      "secondary_cleaner.state.floatbank6_a_air      5133 non-null float64\n",
      "secondary_cleaner.state.floatbank6_a_level    5133 non-null float64\n",
      "rougher.output.recovery                       5133 non-null float64\n",
      "dtypes: datetime64[ns](1), float64(53)\n",
      "memory usage: 2.2 MB\n"
     ]
    },
    {
     "data": {
      "text/plain": [
       "None"
      ]
     },
     "metadata": {},
     "output_type": "display_data"
    },
    {
     "name": "stdout",
     "output_type": "stream",
     "text": [
      "----- df_test_final -----\n",
      "<class 'pandas.core.frame.DataFrame'>\n",
      "Int64Index: 5201 entries, 0 to 5228\n",
      "Data columns (total 54 columns):\n",
      "date                                          5201 non-null datetime64[ns]\n",
      "primary_cleaner.input.sulfate                 5201 non-null float64\n",
      "primary_cleaner.input.depressant              5201 non-null float64\n",
      "primary_cleaner.input.feed_size               5201 non-null float64\n",
      "primary_cleaner.input.xanthate                5201 non-null float64\n",
      "primary_cleaner.state.floatbank8_a_air        5201 non-null float64\n",
      "primary_cleaner.state.floatbank8_a_level      5201 non-null float64\n",
      "primary_cleaner.state.floatbank8_b_air        5201 non-null float64\n",
      "primary_cleaner.state.floatbank8_b_level      5201 non-null float64\n",
      "primary_cleaner.state.floatbank8_c_air        5201 non-null float64\n",
      "primary_cleaner.state.floatbank8_c_level      5201 non-null float64\n",
      "primary_cleaner.state.floatbank8_d_air        5201 non-null float64\n",
      "primary_cleaner.state.floatbank8_d_level      5201 non-null float64\n",
      "rougher.input.feed_ag                         5201 non-null float64\n",
      "rougher.input.feed_pb                         5201 non-null float64\n",
      "rougher.input.feed_rate                       5201 non-null float64\n",
      "rougher.input.feed_size                       5201 non-null float64\n",
      "rougher.input.feed_sol                        5201 non-null float64\n",
      "rougher.input.feed_au                         5201 non-null float64\n",
      "rougher.input.floatbank10_sulfate             5201 non-null float64\n",
      "rougher.input.floatbank10_xanthate            5201 non-null float64\n",
      "rougher.input.floatbank11_sulfate             5201 non-null float64\n",
      "rougher.input.floatbank11_xanthate            5201 non-null float64\n",
      "rougher.state.floatbank10_a_air               5201 non-null float64\n",
      "rougher.state.floatbank10_a_level             5201 non-null float64\n",
      "rougher.state.floatbank10_b_air               5201 non-null float64\n",
      "rougher.state.floatbank10_b_level             5201 non-null float64\n",
      "rougher.state.floatbank10_c_air               5201 non-null float64\n",
      "rougher.state.floatbank10_c_level             5201 non-null float64\n",
      "rougher.state.floatbank10_d_air               5201 non-null float64\n",
      "rougher.state.floatbank10_d_level             5201 non-null float64\n",
      "rougher.state.floatbank10_e_air               5201 non-null float64\n",
      "rougher.state.floatbank10_e_level             5201 non-null float64\n",
      "rougher.state.floatbank10_f_air               5201 non-null float64\n",
      "rougher.state.floatbank10_f_level             5201 non-null float64\n",
      "secondary_cleaner.state.floatbank2_a_air      5201 non-null float64\n",
      "secondary_cleaner.state.floatbank2_a_level    5201 non-null float64\n",
      "secondary_cleaner.state.floatbank2_b_air      5201 non-null float64\n",
      "secondary_cleaner.state.floatbank2_b_level    5201 non-null float64\n",
      "secondary_cleaner.state.floatbank3_a_air      5201 non-null float64\n",
      "secondary_cleaner.state.floatbank3_a_level    5201 non-null float64\n",
      "secondary_cleaner.state.floatbank3_b_air      5201 non-null float64\n",
      "secondary_cleaner.state.floatbank3_b_level    5201 non-null float64\n",
      "secondary_cleaner.state.floatbank4_a_air      5201 non-null float64\n",
      "secondary_cleaner.state.floatbank4_a_level    5201 non-null float64\n",
      "secondary_cleaner.state.floatbank4_b_air      5201 non-null float64\n",
      "secondary_cleaner.state.floatbank4_b_level    5201 non-null float64\n",
      "secondary_cleaner.state.floatbank5_a_air      5201 non-null float64\n",
      "secondary_cleaner.state.floatbank5_a_level    5201 non-null float64\n",
      "secondary_cleaner.state.floatbank5_b_air      5201 non-null float64\n",
      "secondary_cleaner.state.floatbank5_b_level    5201 non-null float64\n",
      "secondary_cleaner.state.floatbank6_a_air      5201 non-null float64\n",
      "secondary_cleaner.state.floatbank6_a_level    5201 non-null float64\n",
      "final.output.recovery                         5201 non-null float64\n",
      "dtypes: datetime64[ns](1), float64(53)\n",
      "memory usage: 2.2 MB\n"
     ]
    }
   ],
   "source": [
    "# в df_test нет целевого признака rougher.output.recovery, поэтому добавим его с помощью метода merge()\n",
    "df_test_rougher = df_test.merge(df[['date','rougher.output.recovery']], on='date', how='inner')\n",
    "# удалим пустые значения\n",
    "df_test_rougher.dropna(inplace=True)\n",
    "print('----- df_test_rougher -----')\n",
    "display(df_test_rougher.info())\n",
    "\n",
    "\n",
    "# в df_test нет целевого признака final.output.recovery, поэтому добавим его с помощью метода merge()\n",
    "df_test_final = df_test.merge(df[['date','final.output.recovery']], on='date', how='inner')\n",
    "# удалим пустые значения\n",
    "df_test_final.dropna(inplace=True)\n",
    "print('----- df_test_final -----')\n",
    "df_test_final.info()"
   ]
  },
  {
   "cell_type": "code",
   "execution_count": 33,
   "metadata": {},
   "outputs": [],
   "source": [
    "# Разделим на признаки и целевой признак\n",
    "features_tr = df_test_rougher.drop(['rougher.output.recovery', 'date'], axis=1)\n",
    "target_tr = df_test_rougher['rougher.output.recovery']\n",
    "\n",
    "features_tf = df_test_final.drop(['final.output.recovery', 'date'], axis=1)\n",
    "target_tf = df_test_final['final.output.recovery']"
   ]
  },
  {
   "cell_type": "code",
   "execution_count": 34,
   "metadata": {
    "scrolled": false
   },
   "outputs": [
    {
     "name": "stdout",
     "output_type": "stream",
     "text": [
      "Средняя оценка качества rougher_score: -4.485\n",
      "Средняя оценка качества final_score: -7.752\n",
      "Итоговое sMAPE -6.935\n",
      "\n",
      "Wall time: 235 ms\n"
     ]
    }
   ],
   "source": [
    "%%time\n",
    "\n",
    "model = DecisionTreeRegressor(max_depth=1, random_state=12345)\n",
    "rougher_score = cross_val_score(model, features_tr, target_tr, scoring=my_scorer, cv=5).mean()\n",
    "final_score = cross_val_score(model, features_tf, target_tf, scoring=my_scorer, cv=5).mean()\n",
    "\n",
    "finish_score = 0.25*rougher_score + 0.75*final_score\n",
    "\n",
    "print('Средняя оценка качества rougher_score:', round(rougher_score, 3))\n",
    "print('Средняя оценка качества final_score:', round(final_score, 3))\n",
    "print('Итоговое sMAPE', round(finish_score, 3))\n",
    "print()"
   ]
  },
  {
   "cell_type": "markdown",
   "metadata": {},
   "source": [
    "## Вывод"
   ]
  },
  {
   "cell_type": "markdown",
   "metadata": {},
   "source": [
    "- Полученные данные были подготовленны и проанализированны. \n",
    "- Была написанна функция итогового sMAPE и проверенно несколько моделей. \n",
    "- Качество лучшей модели (DecisionTreeRegressor) было проверено на  тестовой выборке. <br> \n",
    "- Итоговое sMAPE = -6.935 "
   ]
  }
 ],
 "metadata": {
  "ExecuteTimeLog": [
   {
    "duration": 583,
    "start_time": "2022-04-05T07:18:28.497Z"
   },
   {
    "duration": 664,
    "start_time": "2022-04-05T07:20:08.127Z"
   },
   {
    "duration": 39,
    "start_time": "2022-04-05T07:20:10.923Z"
   },
   {
    "duration": 28,
    "start_time": "2022-04-05T07:20:24.341Z"
   },
   {
    "duration": 30,
    "start_time": "2022-04-05T07:20:44.484Z"
   },
   {
    "duration": 30,
    "start_time": "2022-04-05T07:21:02.114Z"
   },
   {
    "duration": 16,
    "start_time": "2022-04-05T07:21:12.470Z"
   },
   {
    "duration": 58,
    "start_time": "2022-04-05T07:21:14.888Z"
   },
   {
    "duration": 30,
    "start_time": "2022-04-05T07:21:34.138Z"
   },
   {
    "duration": 18,
    "start_time": "2022-04-05T07:21:58.851Z"
   },
   {
    "duration": 45,
    "start_time": "2022-04-05T07:22:11.319Z"
   },
   {
    "duration": 44,
    "start_time": "2022-04-05T07:23:04.364Z"
   },
   {
    "duration": 38,
    "start_time": "2022-04-05T07:28:07.827Z"
   },
   {
    "duration": 18,
    "start_time": "2022-04-05T07:30:07.377Z"
   },
   {
    "duration": 10,
    "start_time": "2022-04-05T07:31:01.636Z"
   },
   {
    "duration": 18,
    "start_time": "2022-04-05T07:31:03.990Z"
   },
   {
    "duration": 67,
    "start_time": "2022-04-05T07:32:18.591Z"
   },
   {
    "duration": 10,
    "start_time": "2022-04-05T07:32:21.817Z"
   },
   {
    "duration": 5,
    "start_time": "2022-04-05T07:32:26.117Z"
   },
   {
    "duration": 6,
    "start_time": "2022-04-05T07:32:36.801Z"
   },
   {
    "duration": 6,
    "start_time": "2022-04-05T07:34:42.469Z"
   },
   {
    "duration": 5,
    "start_time": "2022-04-05T07:34:49.228Z"
   },
   {
    "duration": 22,
    "start_time": "2022-04-05T07:35:16.720Z"
   },
   {
    "duration": 15,
    "start_time": "2022-04-05T07:35:25.087Z"
   },
   {
    "duration": 18,
    "start_time": "2022-04-05T07:35:29.788Z"
   },
   {
    "duration": 54,
    "start_time": "2022-04-05T07:36:05.288Z"
   },
   {
    "duration": 16,
    "start_time": "2022-04-05T07:41:12.380Z"
   },
   {
    "duration": 21,
    "start_time": "2022-04-05T07:41:24.933Z"
   },
   {
    "duration": 12,
    "start_time": "2022-04-05T07:41:29.697Z"
   },
   {
    "duration": 14,
    "start_time": "2022-04-05T07:41:38.499Z"
   },
   {
    "duration": 707,
    "start_time": "2022-04-05T07:45:56.831Z"
   },
   {
    "duration": 47,
    "start_time": "2022-04-05T07:45:57.540Z"
   },
   {
    "duration": 531,
    "start_time": "2022-04-05T07:46:13.315Z"
   },
   {
    "duration": 675,
    "start_time": "2022-04-05T07:46:13.849Z"
   },
   {
    "duration": 110,
    "start_time": "2022-04-05T07:46:14.526Z"
   },
   {
    "duration": 44,
    "start_time": "2022-04-05T07:46:14.638Z"
   },
   {
    "duration": 69,
    "start_time": "2022-04-05T07:46:14.684Z"
   },
   {
    "duration": 46,
    "start_time": "2022-04-05T07:46:14.755Z"
   },
   {
    "duration": 858,
    "start_time": "2022-04-05T07:51:27.716Z"
   },
   {
    "duration": 108,
    "start_time": "2022-04-05T07:54:04.331Z"
   },
   {
    "duration": 9,
    "start_time": "2022-04-05T07:54:06.011Z"
   },
   {
    "duration": 37,
    "start_time": "2022-04-05T07:54:06.153Z"
   },
   {
    "duration": 6,
    "start_time": "2022-04-05T07:54:11.456Z"
   },
   {
    "duration": 12,
    "start_time": "2022-04-05T08:18:22.862Z"
   },
   {
    "duration": 12,
    "start_time": "2022-04-05T08:19:18.430Z"
   },
   {
    "duration": 6,
    "start_time": "2022-04-05T08:19:30.526Z"
   },
   {
    "duration": 8,
    "start_time": "2022-04-05T08:19:49.033Z"
   },
   {
    "duration": 5,
    "start_time": "2022-04-05T08:25:10.209Z"
   },
   {
    "duration": 4,
    "start_time": "2022-04-05T08:25:27.766Z"
   },
   {
    "duration": 34,
    "start_time": "2022-04-05T08:43:11.227Z"
   },
   {
    "duration": 19,
    "start_time": "2022-04-05T08:43:17.827Z"
   },
   {
    "duration": 14,
    "start_time": "2022-04-05T08:44:56.988Z"
   },
   {
    "duration": 6,
    "start_time": "2022-04-05T08:48:46.888Z"
   },
   {
    "duration": 11,
    "start_time": "2022-04-05T08:48:50.223Z"
   },
   {
    "duration": 20,
    "start_time": "2022-04-05T08:49:09.203Z"
   },
   {
    "duration": 19,
    "start_time": "2022-04-05T08:49:41.613Z"
   },
   {
    "duration": 5,
    "start_time": "2022-04-05T08:49:53.807Z"
   },
   {
    "duration": 10,
    "start_time": "2022-04-05T08:50:15.993Z"
   },
   {
    "duration": 9,
    "start_time": "2022-04-05T08:50:17.956Z"
   },
   {
    "duration": 10,
    "start_time": "2022-04-05T08:50:24.876Z"
   },
   {
    "duration": 12,
    "start_time": "2022-04-05T08:50:35.818Z"
   },
   {
    "duration": 153,
    "start_time": "2022-04-05T08:50:44.777Z"
   },
   {
    "duration": 6,
    "start_time": "2022-04-05T08:50:48.915Z"
   },
   {
    "duration": 1419,
    "start_time": "2022-04-05T09:05:04.329Z"
   },
   {
    "duration": 661,
    "start_time": "2022-04-05T09:05:05.751Z"
   },
   {
    "duration": 55,
    "start_time": "2022-04-05T09:05:06.414Z"
   },
   {
    "duration": 277,
    "start_time": "2022-04-05T09:05:06.471Z"
   },
   {
    "duration": 302,
    "start_time": "2022-04-05T09:05:06.751Z"
   },
   {
    "duration": 93,
    "start_time": "2022-04-05T09:05:07.055Z"
   },
   {
    "duration": 134,
    "start_time": "2022-04-05T09:05:07.150Z"
   },
   {
    "duration": 0,
    "start_time": "2022-04-05T09:05:07.286Z"
   },
   {
    "duration": 0,
    "start_time": "2022-04-05T09:05:07.287Z"
   },
   {
    "duration": 10,
    "start_time": "2022-04-05T09:05:33.568Z"
   },
   {
    "duration": 4,
    "start_time": "2022-04-05T09:05:33.840Z"
   },
   {
    "duration": 6,
    "start_time": "2022-04-05T09:05:38.923Z"
   },
   {
    "duration": 1338,
    "start_time": "2022-04-05T09:05:49.631Z"
   },
   {
    "duration": 706,
    "start_time": "2022-04-05T09:05:50.971Z"
   },
   {
    "duration": 62,
    "start_time": "2022-04-05T09:05:51.679Z"
   },
   {
    "duration": 42,
    "start_time": "2022-04-05T09:05:51.744Z"
   },
   {
    "duration": 38,
    "start_time": "2022-04-05T09:05:51.803Z"
   },
   {
    "duration": 11,
    "start_time": "2022-04-05T09:05:51.843Z"
   },
   {
    "duration": 7,
    "start_time": "2022-04-05T09:05:51.856Z"
   },
   {
    "duration": 21,
    "start_time": "2022-04-05T09:05:51.865Z"
   },
   {
    "duration": 18,
    "start_time": "2022-04-05T09:05:51.902Z"
   },
   {
    "duration": 18,
    "start_time": "2022-04-05T09:05:51.922Z"
   },
   {
    "duration": 114,
    "start_time": "2022-04-05T09:18:42.401Z"
   },
   {
    "duration": 99,
    "start_time": "2022-04-05T09:18:46.356Z"
   },
   {
    "duration": 133,
    "start_time": "2022-04-05T09:18:50.251Z"
   },
   {
    "duration": 25,
    "start_time": "2022-04-05T09:18:54.007Z"
   },
   {
    "duration": 22,
    "start_time": "2022-04-05T09:19:15.729Z"
   },
   {
    "duration": 245,
    "start_time": "2022-04-05T09:19:34.924Z"
   },
   {
    "duration": 1808,
    "start_time": "2022-04-05T11:33:52.437Z"
   },
   {
    "duration": 759,
    "start_time": "2022-04-05T11:33:54.248Z"
   },
   {
    "duration": 87,
    "start_time": "2022-04-05T11:33:55.009Z"
   },
   {
    "duration": 85,
    "start_time": "2022-04-05T11:33:55.099Z"
   },
   {
    "duration": 54,
    "start_time": "2022-04-05T11:33:55.186Z"
   },
   {
    "duration": 14,
    "start_time": "2022-04-05T11:33:55.242Z"
   },
   {
    "duration": 43,
    "start_time": "2022-04-05T11:33:55.258Z"
   },
   {
    "duration": 25,
    "start_time": "2022-04-05T11:33:55.303Z"
   },
   {
    "duration": 35,
    "start_time": "2022-04-05T11:33:55.330Z"
   },
   {
    "duration": 409,
    "start_time": "2022-04-05T11:33:55.368Z"
   },
   {
    "duration": 10,
    "start_time": "2022-04-05T11:33:55.779Z"
   },
   {
    "duration": 40,
    "start_time": "2022-04-05T11:39:23.967Z"
   },
   {
    "duration": 923,
    "start_time": "2022-04-05T11:42:19.057Z"
   },
   {
    "duration": 211,
    "start_time": "2022-04-05T11:42:35.496Z"
   },
   {
    "duration": 301,
    "start_time": "2022-04-05T11:42:43.306Z"
   },
   {
    "duration": 21,
    "start_time": "2022-04-05T11:43:00.119Z"
   },
   {
    "duration": 3279,
    "start_time": "2022-04-05T11:44:20.436Z"
   },
   {
    "duration": 17,
    "start_time": "2022-04-05T11:44:35.383Z"
   },
   {
    "duration": 177,
    "start_time": "2022-04-05T11:45:35.797Z"
   },
   {
    "duration": 16,
    "start_time": "2022-04-05T11:45:50.381Z"
   },
   {
    "duration": 16,
    "start_time": "2022-04-05T11:46:55.436Z"
   },
   {
    "duration": 16,
    "start_time": "2022-04-05T11:47:20.286Z"
   },
   {
    "duration": 16,
    "start_time": "2022-04-05T11:54:25.226Z"
   },
   {
    "duration": 18,
    "start_time": "2022-04-05T11:54:40.286Z"
   },
   {
    "duration": 17,
    "start_time": "2022-04-05T11:54:47.248Z"
   },
   {
    "duration": 16,
    "start_time": "2022-04-05T11:55:17.077Z"
   },
   {
    "duration": 13,
    "start_time": "2022-04-05T11:55:30.580Z"
   },
   {
    "duration": 17,
    "start_time": "2022-04-05T11:55:42.047Z"
   },
   {
    "duration": 6,
    "start_time": "2022-04-05T12:07:33.066Z"
   },
   {
    "duration": 7,
    "start_time": "2022-04-05T12:07:45.406Z"
   },
   {
    "duration": 6,
    "start_time": "2022-04-05T12:08:07.306Z"
   },
   {
    "duration": 7,
    "start_time": "2022-04-05T12:08:14.386Z"
   },
   {
    "duration": 8,
    "start_time": "2022-04-05T12:28:13.630Z"
   },
   {
    "duration": 729,
    "start_time": "2022-04-05T12:30:55.858Z"
   },
   {
    "duration": 204,
    "start_time": "2022-04-05T12:31:09.918Z"
   },
   {
    "duration": 194,
    "start_time": "2022-04-05T12:31:17.238Z"
   },
   {
    "duration": 182,
    "start_time": "2022-04-05T12:31:24.599Z"
   },
   {
    "duration": 188,
    "start_time": "2022-04-05T12:33:11.998Z"
   },
   {
    "duration": 175,
    "start_time": "2022-04-05T12:33:27.606Z"
   },
   {
    "duration": 280,
    "start_time": "2022-04-05T12:33:32.086Z"
   },
   {
    "duration": 181,
    "start_time": "2022-04-05T12:34:16.946Z"
   },
   {
    "duration": 182,
    "start_time": "2022-04-05T12:34:31.281Z"
   },
   {
    "duration": 196,
    "start_time": "2022-04-05T12:34:40.055Z"
   },
   {
    "duration": 196,
    "start_time": "2022-04-05T12:34:44.971Z"
   },
   {
    "duration": 4,
    "start_time": "2022-04-05T12:35:32.452Z"
   },
   {
    "duration": 205,
    "start_time": "2022-04-05T12:35:39.461Z"
   },
   {
    "duration": 200,
    "start_time": "2022-04-05T12:35:44.573Z"
   },
   {
    "duration": 181,
    "start_time": "2022-04-05T12:35:54.653Z"
   },
   {
    "duration": 192,
    "start_time": "2022-04-05T12:36:01.245Z"
   },
   {
    "duration": 183,
    "start_time": "2022-04-05T12:36:45.506Z"
   },
   {
    "duration": 183,
    "start_time": "2022-04-05T12:37:07.046Z"
   },
   {
    "duration": 1961,
    "start_time": "2022-04-05T12:37:23.413Z"
   },
   {
    "duration": 872,
    "start_time": "2022-04-05T12:37:25.377Z"
   },
   {
    "duration": 84,
    "start_time": "2022-04-05T12:37:26.251Z"
   },
   {
    "duration": 88,
    "start_time": "2022-04-05T12:37:26.338Z"
   },
   {
    "duration": 80,
    "start_time": "2022-04-05T12:37:26.428Z"
   },
   {
    "duration": 20,
    "start_time": "2022-04-05T12:37:26.511Z"
   },
   {
    "duration": 8,
    "start_time": "2022-04-05T12:37:26.534Z"
   },
   {
    "duration": 40,
    "start_time": "2022-04-05T12:37:26.545Z"
   },
   {
    "duration": 33,
    "start_time": "2022-04-05T12:37:26.588Z"
   },
   {
    "duration": 543,
    "start_time": "2022-04-05T12:37:26.625Z"
   },
   {
    "duration": 26,
    "start_time": "2022-04-05T12:37:27.170Z"
   },
   {
    "duration": 26,
    "start_time": "2022-04-05T12:37:27.199Z"
   },
   {
    "duration": 22,
    "start_time": "2022-04-05T12:37:27.227Z"
   },
   {
    "duration": 237,
    "start_time": "2022-04-05T12:37:27.252Z"
   },
   {
    "duration": 333,
    "start_time": "2022-04-05T13:34:36.206Z"
   },
   {
    "duration": 472,
    "start_time": "2022-04-05T13:34:55.969Z"
   },
   {
    "duration": 1531,
    "start_time": "2022-04-06T09:09:08.449Z"
   },
   {
    "duration": 673,
    "start_time": "2022-04-06T09:09:09.982Z"
   },
   {
    "duration": 54,
    "start_time": "2022-04-06T09:09:10.657Z"
   },
   {
    "duration": 38,
    "start_time": "2022-04-06T09:09:10.713Z"
   },
   {
    "duration": 55,
    "start_time": "2022-04-06T09:09:10.752Z"
   },
   {
    "duration": 11,
    "start_time": "2022-04-06T09:09:10.809Z"
   },
   {
    "duration": 5,
    "start_time": "2022-04-06T09:09:10.821Z"
   },
   {
    "duration": 6,
    "start_time": "2022-04-06T09:09:10.827Z"
   },
   {
    "duration": 15,
    "start_time": "2022-04-06T09:09:10.834Z"
   },
   {
    "duration": 278,
    "start_time": "2022-04-06T09:09:10.851Z"
   },
   {
    "duration": 11,
    "start_time": "2022-04-06T09:09:11.131Z"
   },
   {
    "duration": 32,
    "start_time": "2022-04-06T09:09:11.144Z"
   },
   {
    "duration": 21,
    "start_time": "2022-04-06T09:09:11.178Z"
   },
   {
    "duration": 290,
    "start_time": "2022-04-06T09:10:51.680Z"
   },
   {
    "duration": 191,
    "start_time": "2022-04-06T09:11:15.174Z"
   },
   {
    "duration": 89,
    "start_time": "2022-04-06T09:13:43.579Z"
   },
   {
    "duration": 84,
    "start_time": "2022-04-06T09:13:49.091Z"
   },
   {
    "duration": 94,
    "start_time": "2022-04-06T09:13:52.175Z"
   },
   {
    "duration": 175,
    "start_time": "2022-04-06T09:13:54.828Z"
   },
   {
    "duration": 16,
    "start_time": "2022-04-06T09:13:57.448Z"
   },
   {
    "duration": 16,
    "start_time": "2022-04-06T09:14:01.008Z"
   },
   {
    "duration": 91,
    "start_time": "2022-04-06T09:14:02.651Z"
   },
   {
    "duration": 101,
    "start_time": "2022-04-06T09:14:27.919Z"
   },
   {
    "duration": 96,
    "start_time": "2022-04-06T09:14:38.211Z"
   },
   {
    "duration": 111,
    "start_time": "2022-04-06T09:14:46.944Z"
   },
   {
    "duration": 203,
    "start_time": "2022-04-06T09:14:56.016Z"
   },
   {
    "duration": 106,
    "start_time": "2022-04-06T09:15:40.224Z"
   },
   {
    "duration": 103,
    "start_time": "2022-04-06T09:15:54.667Z"
   },
   {
    "duration": 197,
    "start_time": "2022-04-06T09:16:01.293Z"
   },
   {
    "duration": 293,
    "start_time": "2022-04-06T09:17:17.774Z"
   },
   {
    "duration": 135,
    "start_time": "2022-04-06T09:17:27.167Z"
   },
   {
    "duration": 117,
    "start_time": "2022-04-06T09:18:12.997Z"
   },
   {
    "duration": 104,
    "start_time": "2022-04-06T09:18:43.041Z"
   },
   {
    "duration": 74,
    "start_time": "2022-04-06T09:18:47.259Z"
   },
   {
    "duration": 77,
    "start_time": "2022-04-06T09:20:28.534Z"
   },
   {
    "duration": 197,
    "start_time": "2022-04-06T09:20:44.611Z"
   },
   {
    "duration": 107,
    "start_time": "2022-04-06T09:20:54.008Z"
   },
   {
    "duration": 179,
    "start_time": "2022-04-06T09:21:00.511Z"
   },
   {
    "duration": 172,
    "start_time": "2022-04-06T09:21:21.371Z"
   },
   {
    "duration": 7,
    "start_time": "2022-04-06T09:22:16.516Z"
   },
   {
    "duration": 5,
    "start_time": "2022-04-06T09:22:35.686Z"
   },
   {
    "duration": 5,
    "start_time": "2022-04-06T09:22:57.602Z"
   },
   {
    "duration": 5,
    "start_time": "2022-04-06T09:23:06.484Z"
   },
   {
    "duration": 33,
    "start_time": "2022-04-06T09:29:27.584Z"
   },
   {
    "duration": 17,
    "start_time": "2022-04-06T09:29:32.856Z"
   },
   {
    "duration": 6,
    "start_time": "2022-04-06T09:41:25.244Z"
   },
   {
    "duration": 4,
    "start_time": "2022-04-06T09:41:28.961Z"
   },
   {
    "duration": 5,
    "start_time": "2022-04-06T09:41:46.859Z"
   },
   {
    "duration": 4,
    "start_time": "2022-04-06T09:41:53.852Z"
   },
   {
    "duration": 6,
    "start_time": "2022-04-06T09:44:06.124Z"
   },
   {
    "duration": 5,
    "start_time": "2022-04-06T09:44:11.167Z"
   },
   {
    "duration": 5,
    "start_time": "2022-04-06T09:44:16.562Z"
   },
   {
    "duration": 9,
    "start_time": "2022-04-06T09:44:26.170Z"
   },
   {
    "duration": 5,
    "start_time": "2022-04-06T09:45:12.595Z"
   },
   {
    "duration": 5,
    "start_time": "2022-04-06T09:45:44.408Z"
   },
   {
    "duration": 4,
    "start_time": "2022-04-06T09:46:25.732Z"
   },
   {
    "duration": 3,
    "start_time": "2022-04-06T09:46:30.301Z"
   },
   {
    "duration": 17,
    "start_time": "2022-04-06T09:46:32.317Z"
   },
   {
    "duration": 5,
    "start_time": "2022-04-06T09:47:11.346Z"
   },
   {
    "duration": 6,
    "start_time": "2022-04-06T09:47:20.116Z"
   },
   {
    "duration": 1931,
    "start_time": "2022-04-06T09:47:26.130Z"
   },
   {
    "duration": 2025,
    "start_time": "2022-04-06T09:47:34.574Z"
   },
   {
    "duration": 1455,
    "start_time": "2022-04-06T09:47:56.197Z"
   },
   {
    "duration": 674,
    "start_time": "2022-04-06T09:47:57.654Z"
   },
   {
    "duration": 48,
    "start_time": "2022-04-06T09:47:58.330Z"
   },
   {
    "duration": 52,
    "start_time": "2022-04-06T09:47:58.379Z"
   },
   {
    "duration": 34,
    "start_time": "2022-04-06T09:47:58.434Z"
   },
   {
    "duration": 31,
    "start_time": "2022-04-06T09:47:58.470Z"
   },
   {
    "duration": 6,
    "start_time": "2022-04-06T09:47:58.503Z"
   },
   {
    "duration": 5,
    "start_time": "2022-04-06T09:47:58.511Z"
   },
   {
    "duration": 14,
    "start_time": "2022-04-06T09:47:58.518Z"
   },
   {
    "duration": 256,
    "start_time": "2022-04-06T09:47:58.533Z"
   },
   {
    "duration": 20,
    "start_time": "2022-04-06T09:47:58.791Z"
   },
   {
    "duration": 11,
    "start_time": "2022-04-06T09:47:58.813Z"
   },
   {
    "duration": 13,
    "start_time": "2022-04-06T09:47:58.826Z"
   },
   {
    "duration": 214,
    "start_time": "2022-04-06T09:47:58.843Z"
   },
   {
    "duration": 6,
    "start_time": "2022-04-06T09:47:59.059Z"
   },
   {
    "duration": 6,
    "start_time": "2022-04-06T09:47:59.067Z"
   },
   {
    "duration": 27,
    "start_time": "2022-04-06T09:47:59.075Z"
   },
   {
    "duration": 6,
    "start_time": "2022-04-06T09:48:25.616Z"
   },
   {
    "duration": 7,
    "start_time": "2022-04-06T09:48:35.178Z"
   },
   {
    "duration": 4,
    "start_time": "2022-04-06T09:48:46.183Z"
   },
   {
    "duration": 6,
    "start_time": "2022-04-06T09:48:51.625Z"
   },
   {
    "duration": 4,
    "start_time": "2022-04-06T09:48:55.695Z"
   },
   {
    "duration": 7,
    "start_time": "2022-04-06T09:49:13.899Z"
   },
   {
    "duration": 6,
    "start_time": "2022-04-06T09:49:18.625Z"
   },
   {
    "duration": 5,
    "start_time": "2022-04-06T09:49:33.091Z"
   },
   {
    "duration": 5,
    "start_time": "2022-04-06T09:49:36.814Z"
   },
   {
    "duration": 4,
    "start_time": "2022-04-06T09:49:40.589Z"
   },
   {
    "duration": 5,
    "start_time": "2022-04-06T09:49:47.359Z"
   },
   {
    "duration": 5,
    "start_time": "2022-04-06T09:49:49.137Z"
   },
   {
    "duration": 4,
    "start_time": "2022-04-06T09:49:50.906Z"
   },
   {
    "duration": 3,
    "start_time": "2022-04-06T09:50:18.007Z"
   },
   {
    "duration": 2050,
    "start_time": "2022-04-06T09:50:18.488Z"
   },
   {
    "duration": 0,
    "start_time": "2022-04-06T09:50:20.540Z"
   },
   {
    "duration": 2013,
    "start_time": "2022-04-06T09:50:25.805Z"
   },
   {
    "duration": 1489,
    "start_time": "2022-04-06T09:56:35.688Z"
   },
   {
    "duration": 702,
    "start_time": "2022-04-06T09:56:37.180Z"
   },
   {
    "duration": 75,
    "start_time": "2022-04-06T09:56:37.884Z"
   },
   {
    "duration": 48,
    "start_time": "2022-04-06T09:56:37.962Z"
   },
   {
    "duration": 33,
    "start_time": "2022-04-06T09:56:38.012Z"
   },
   {
    "duration": 10,
    "start_time": "2022-04-06T09:56:38.047Z"
   },
   {
    "duration": 4,
    "start_time": "2022-04-06T09:56:38.059Z"
   },
   {
    "duration": 37,
    "start_time": "2022-04-06T09:56:38.065Z"
   },
   {
    "duration": 13,
    "start_time": "2022-04-06T09:56:38.104Z"
   },
   {
    "duration": 246,
    "start_time": "2022-04-06T09:56:38.119Z"
   },
   {
    "duration": 11,
    "start_time": "2022-04-06T09:56:38.366Z"
   },
   {
    "duration": 22,
    "start_time": "2022-04-06T09:56:38.379Z"
   },
   {
    "duration": 10,
    "start_time": "2022-04-06T09:56:38.403Z"
   },
   {
    "duration": 199,
    "start_time": "2022-04-06T09:56:38.415Z"
   },
   {
    "duration": 6,
    "start_time": "2022-04-06T09:56:38.615Z"
   },
   {
    "duration": 112,
    "start_time": "2022-04-06T09:57:48.234Z"
   },
   {
    "duration": 181,
    "start_time": "2022-04-06T09:57:51.622Z"
   },
   {
    "duration": 19,
    "start_time": "2022-04-06T09:58:58.412Z"
   },
   {
    "duration": 17,
    "start_time": "2022-04-06T09:59:01.005Z"
   },
   {
    "duration": 101,
    "start_time": "2022-04-06T10:02:40.310Z"
   },
   {
    "duration": 5,
    "start_time": "2022-04-06T10:06:19.479Z"
   },
   {
    "duration": 5,
    "start_time": "2022-04-06T10:06:43.727Z"
   },
   {
    "duration": 5,
    "start_time": "2022-04-06T10:07:06.839Z"
   },
   {
    "duration": 5,
    "start_time": "2022-04-06T10:07:33.051Z"
   },
   {
    "duration": 6,
    "start_time": "2022-04-06T10:08:25.500Z"
   },
   {
    "duration": 5,
    "start_time": "2022-04-06T10:08:49.375Z"
   },
   {
    "duration": 8,
    "start_time": "2022-04-06T10:11:19.313Z"
   },
   {
    "duration": 6,
    "start_time": "2022-04-06T10:11:36.388Z"
   },
   {
    "duration": 5,
    "start_time": "2022-04-06T10:11:48.355Z"
   },
   {
    "duration": 4,
    "start_time": "2022-04-06T10:12:05.922Z"
   },
   {
    "duration": 5,
    "start_time": "2022-04-06T10:12:14.495Z"
   },
   {
    "duration": 3,
    "start_time": "2022-04-06T10:13:18.291Z"
   },
   {
    "duration": 4,
    "start_time": "2022-04-06T10:13:41.029Z"
   },
   {
    "duration": 7,
    "start_time": "2022-04-06T10:13:56.086Z"
   },
   {
    "duration": 7,
    "start_time": "2022-04-06T10:14:03.474Z"
   },
   {
    "duration": 4,
    "start_time": "2022-04-06T10:14:08.723Z"
   },
   {
    "duration": 4,
    "start_time": "2022-04-06T10:16:17.150Z"
   },
   {
    "duration": 4,
    "start_time": "2022-04-06T10:16:21.649Z"
   },
   {
    "duration": 4,
    "start_time": "2022-04-06T10:16:25.243Z"
   },
   {
    "duration": 4,
    "start_time": "2022-04-06T10:16:35.037Z"
   },
   {
    "duration": 4,
    "start_time": "2022-04-06T10:16:39.749Z"
   },
   {
    "duration": 3,
    "start_time": "2022-04-06T10:17:04.764Z"
   },
   {
    "duration": 3,
    "start_time": "2022-04-06T10:17:27.993Z"
   },
   {
    "duration": 9,
    "start_time": "2022-04-06T11:57:08.107Z"
   },
   {
    "duration": 1730,
    "start_time": "2022-04-06T11:59:17.916Z"
   },
   {
    "duration": 1194,
    "start_time": "2022-04-06T11:59:19.648Z"
   },
   {
    "duration": 57,
    "start_time": "2022-04-06T11:59:20.844Z"
   },
   {
    "duration": 40,
    "start_time": "2022-04-06T11:59:20.902Z"
   },
   {
    "duration": 56,
    "start_time": "2022-04-06T11:59:20.945Z"
   },
   {
    "duration": 12,
    "start_time": "2022-04-06T11:59:21.003Z"
   },
   {
    "duration": 18,
    "start_time": "2022-04-06T11:59:21.016Z"
   },
   {
    "duration": 11,
    "start_time": "2022-04-06T11:59:21.035Z"
   },
   {
    "duration": 33,
    "start_time": "2022-04-06T11:59:21.047Z"
   },
   {
    "duration": 244,
    "start_time": "2022-04-06T11:59:21.082Z"
   },
   {
    "duration": 11,
    "start_time": "2022-04-06T11:59:21.328Z"
   },
   {
    "duration": 31,
    "start_time": "2022-04-06T11:59:21.340Z"
   },
   {
    "duration": 25,
    "start_time": "2022-04-06T11:59:21.372Z"
   },
   {
    "duration": 206,
    "start_time": "2022-04-06T11:59:21.400Z"
   },
   {
    "duration": 5,
    "start_time": "2022-04-06T11:59:21.608Z"
   },
   {
    "duration": 28,
    "start_time": "2022-04-06T11:59:21.615Z"
   },
   {
    "duration": 24,
    "start_time": "2022-04-06T11:59:21.645Z"
   },
   {
    "duration": 22,
    "start_time": "2022-04-06T11:59:21.671Z"
   },
   {
    "duration": 21,
    "start_time": "2022-04-06T11:59:21.695Z"
   },
   {
    "duration": 30,
    "start_time": "2022-04-06T11:59:21.718Z"
   },
   {
    "duration": 3,
    "start_time": "2022-04-06T12:11:05.779Z"
   },
   {
    "duration": 108,
    "start_time": "2022-04-06T12:27:03.839Z"
   },
   {
    "duration": 28,
    "start_time": "2022-04-06T12:27:07.735Z"
   },
   {
    "duration": 10,
    "start_time": "2022-04-06T12:29:07.890Z"
   },
   {
    "duration": 25,
    "start_time": "2022-04-06T12:29:08.349Z"
   },
   {
    "duration": 21,
    "start_time": "2022-04-06T12:30:05.910Z"
   },
   {
    "duration": 16,
    "start_time": "2022-04-06T12:30:59.518Z"
   },
   {
    "duration": 8,
    "start_time": "2022-04-06T12:35:02.645Z"
   },
   {
    "duration": 19,
    "start_time": "2022-04-06T12:35:05.506Z"
   },
   {
    "duration": 14,
    "start_time": "2022-04-06T12:38:21.439Z"
   },
   {
    "duration": 19,
    "start_time": "2022-04-06T12:43:58.714Z"
   },
   {
    "duration": 8,
    "start_time": "2022-04-06T12:44:20.514Z"
   },
   {
    "duration": 16,
    "start_time": "2022-04-06T12:44:26.038Z"
   },
   {
    "duration": 12,
    "start_time": "2022-04-06T12:44:35.037Z"
   },
   {
    "duration": 6,
    "start_time": "2022-04-06T12:44:38.494Z"
   },
   {
    "duration": 18,
    "start_time": "2022-04-06T12:45:32.693Z"
   },
   {
    "duration": 2,
    "start_time": "2022-04-06T12:45:36.079Z"
   },
   {
    "duration": 47,
    "start_time": "2022-04-06T12:46:28.289Z"
   },
   {
    "duration": 8,
    "start_time": "2022-04-06T12:46:54.181Z"
   },
   {
    "duration": 26,
    "start_time": "2022-04-06T12:49:22.650Z"
   },
   {
    "duration": 3,
    "start_time": "2022-04-06T12:49:24.558Z"
   },
   {
    "duration": 4,
    "start_time": "2022-04-06T12:49:42.219Z"
   },
   {
    "duration": 212,
    "start_time": "2022-04-06T12:49:50.190Z"
   },
   {
    "duration": 50,
    "start_time": "2022-04-07T08:12:05.221Z"
   },
   {
    "duration": 1961,
    "start_time": "2022-04-07T08:12:10.160Z"
   },
   {
    "duration": 1522,
    "start_time": "2022-04-07T08:12:12.123Z"
   },
   {
    "duration": 62,
    "start_time": "2022-04-07T08:12:13.647Z"
   },
   {
    "duration": 43,
    "start_time": "2022-04-07T08:12:13.712Z"
   },
   {
    "duration": 60,
    "start_time": "2022-04-07T08:12:13.757Z"
   },
   {
    "duration": 14,
    "start_time": "2022-04-07T08:12:13.820Z"
   },
   {
    "duration": 14,
    "start_time": "2022-04-07T08:12:13.839Z"
   },
   {
    "duration": 11,
    "start_time": "2022-04-07T08:12:13.855Z"
   },
   {
    "duration": 33,
    "start_time": "2022-04-07T08:12:13.868Z"
   },
   {
    "duration": 298,
    "start_time": "2022-04-07T08:12:13.904Z"
   },
   {
    "duration": 13,
    "start_time": "2022-04-07T08:12:14.203Z"
   },
   {
    "duration": 20,
    "start_time": "2022-04-07T08:12:14.218Z"
   },
   {
    "duration": 15,
    "start_time": "2022-04-07T08:12:14.240Z"
   },
   {
    "duration": 219,
    "start_time": "2022-04-07T08:12:14.257Z"
   },
   {
    "duration": 5,
    "start_time": "2022-04-07T08:12:14.478Z"
   },
   {
    "duration": 21,
    "start_time": "2022-04-07T08:12:14.485Z"
   },
   {
    "duration": 7,
    "start_time": "2022-04-07T08:12:14.508Z"
   },
   {
    "duration": 9,
    "start_time": "2022-04-07T08:12:14.517Z"
   },
   {
    "duration": 8,
    "start_time": "2022-04-07T08:12:14.528Z"
   },
   {
    "duration": 11,
    "start_time": "2022-04-07T08:12:14.538Z"
   },
   {
    "duration": 26,
    "start_time": "2022-04-07T08:12:14.551Z"
   },
   {
    "duration": 14,
    "start_time": "2022-04-07T08:12:14.579Z"
   },
   {
    "duration": 210,
    "start_time": "2022-04-07T08:12:14.595Z"
   },
   {
    "duration": 4,
    "start_time": "2022-04-07T08:12:24.470Z"
   },
   {
    "duration": 5,
    "start_time": "2022-04-07T08:13:29.733Z"
   },
   {
    "duration": 4,
    "start_time": "2022-04-07T08:13:59.110Z"
   },
   {
    "duration": 5,
    "start_time": "2022-04-07T09:20:39.912Z"
   },
   {
    "duration": 5,
    "start_time": "2022-04-07T09:20:47.894Z"
   },
   {
    "duration": 132,
    "start_time": "2022-04-07T09:22:22.990Z"
   },
   {
    "duration": 38,
    "start_time": "2022-04-07T09:24:07.262Z"
   },
   {
    "duration": 17,
    "start_time": "2022-04-07T09:38:30.842Z"
   },
   {
    "duration": 51,
    "start_time": "2022-04-07T15:02:32.111Z"
   },
   {
    "duration": 1990,
    "start_time": "2022-04-07T15:02:38.758Z"
   },
   {
    "duration": 1126,
    "start_time": "2022-04-07T15:02:40.803Z"
   },
   {
    "duration": 52,
    "start_time": "2022-04-07T15:02:41.931Z"
   },
   {
    "duration": 55,
    "start_time": "2022-04-07T15:02:41.985Z"
   },
   {
    "duration": 58,
    "start_time": "2022-04-07T15:02:42.043Z"
   },
   {
    "duration": 12,
    "start_time": "2022-04-07T15:02:42.104Z"
   },
   {
    "duration": 5,
    "start_time": "2022-04-07T15:02:42.118Z"
   },
   {
    "duration": 9,
    "start_time": "2022-04-07T15:02:42.125Z"
   },
   {
    "duration": 23,
    "start_time": "2022-04-07T15:02:42.136Z"
   },
   {
    "duration": 279,
    "start_time": "2022-04-07T15:02:42.161Z"
   },
   {
    "duration": 14,
    "start_time": "2022-04-07T15:02:42.442Z"
   },
   {
    "duration": 12,
    "start_time": "2022-04-07T15:02:42.457Z"
   },
   {
    "duration": 40,
    "start_time": "2022-04-07T15:02:42.472Z"
   },
   {
    "duration": 343,
    "start_time": "2022-04-07T15:02:42.517Z"
   },
   {
    "duration": 7,
    "start_time": "2022-04-07T15:02:42.862Z"
   },
   {
    "duration": 17,
    "start_time": "2022-04-07T15:02:42.871Z"
   },
   {
    "duration": 15,
    "start_time": "2022-04-07T15:02:42.890Z"
   },
   {
    "duration": 14,
    "start_time": "2022-04-07T15:02:42.907Z"
   },
   {
    "duration": 8,
    "start_time": "2022-04-07T15:02:42.923Z"
   },
   {
    "duration": 7,
    "start_time": "2022-04-07T15:02:42.933Z"
   },
   {
    "duration": 28,
    "start_time": "2022-04-07T15:02:42.943Z"
   },
   {
    "duration": 9,
    "start_time": "2022-04-07T15:02:42.974Z"
   },
   {
    "duration": 3,
    "start_time": "2022-04-07T15:02:43.002Z"
   },
   {
    "duration": 252,
    "start_time": "2022-04-07T15:02:43.008Z"
   },
   {
    "duration": 6,
    "start_time": "2022-04-07T15:02:51.790Z"
   },
   {
    "duration": 6,
    "start_time": "2022-04-07T15:02:56.398Z"
   },
   {
    "duration": 6,
    "start_time": "2022-04-07T15:03:00.980Z"
   },
   {
    "duration": 17,
    "start_time": "2022-04-07T15:09:04.161Z"
   },
   {
    "duration": 9,
    "start_time": "2022-04-07T15:09:06.124Z"
   },
   {
    "duration": 2,
    "start_time": "2022-04-07T15:09:06.264Z"
   },
   {
    "duration": 129,
    "start_time": "2022-04-07T15:09:06.934Z"
   },
   {
    "duration": 6,
    "start_time": "2022-04-07T15:09:40.707Z"
   },
   {
    "duration": 28,
    "start_time": "2022-04-07T15:09:46.762Z"
   },
   {
    "duration": 4,
    "start_time": "2022-04-07T15:11:19.046Z"
   },
   {
    "duration": 3,
    "start_time": "2022-04-07T15:11:37.259Z"
   },
   {
    "duration": 12,
    "start_time": "2022-04-07T15:11:39.830Z"
   },
   {
    "duration": 3,
    "start_time": "2022-04-07T15:11:41.523Z"
   },
   {
    "duration": 4,
    "start_time": "2022-04-07T15:14:52.330Z"
   },
   {
    "duration": 28,
    "start_time": "2022-04-07T15:15:26.766Z"
   },
   {
    "duration": 16,
    "start_time": "2022-04-07T15:17:58.064Z"
   },
   {
    "duration": 10,
    "start_time": "2022-04-07T15:18:39.865Z"
   },
   {
    "duration": 11,
    "start_time": "2022-04-07T15:18:45.096Z"
   },
   {
    "duration": 18,
    "start_time": "2022-04-07T15:18:52.981Z"
   },
   {
    "duration": 22,
    "start_time": "2022-04-07T15:19:26.744Z"
   },
   {
    "duration": 28,
    "start_time": "2022-04-07T15:19:34.195Z"
   },
   {
    "duration": 15,
    "start_time": "2022-04-07T15:19:37.004Z"
   },
   {
    "duration": 27,
    "start_time": "2022-04-07T15:19:45.790Z"
   },
   {
    "duration": 26,
    "start_time": "2022-04-07T15:19:58.396Z"
   },
   {
    "duration": 6,
    "start_time": "2022-04-07T15:20:02.955Z"
   },
   {
    "duration": 26,
    "start_time": "2022-04-07T15:20:08.077Z"
   },
   {
    "duration": 4,
    "start_time": "2022-04-07T15:22:19.424Z"
   },
   {
    "duration": 920,
    "start_time": "2022-04-07T15:22:44.007Z"
   },
   {
    "duration": 5709,
    "start_time": "2022-04-07T15:23:24.600Z"
   },
   {
    "duration": 4878,
    "start_time": "2022-04-07T15:23:32.908Z"
   },
   {
    "duration": 966,
    "start_time": "2022-04-07T15:24:43.955Z"
   },
   {
    "duration": 4391,
    "start_time": "2022-04-07T15:25:24.714Z"
   },
   {
    "duration": 4689,
    "start_time": "2022-04-07T15:25:47.344Z"
   },
   {
    "duration": 4612,
    "start_time": "2022-04-07T15:25:53.623Z"
   },
   {
    "duration": 4710,
    "start_time": "2022-04-07T15:26:08.817Z"
   },
   {
    "duration": 4441,
    "start_time": "2022-04-07T15:30:22.795Z"
   },
   {
    "duration": 13855,
    "start_time": "2022-04-07T15:31:13.518Z"
   },
   {
    "duration": 1772,
    "start_time": "2022-04-07T15:32:16.432Z"
   },
   {
    "duration": 146094,
    "start_time": "2022-04-07T15:36:58.143Z"
   },
   {
    "duration": 1489,
    "start_time": "2022-04-07T15:40:15.831Z"
   },
   {
    "duration": 115613,
    "start_time": "2022-04-07T15:40:40.665Z"
   },
   {
    "duration": 3785,
    "start_time": "2022-04-07T15:42:36.280Z"
   },
   {
    "duration": 4741,
    "start_time": "2022-04-07T15:43:47.891Z"
   },
   {
    "duration": 1549,
    "start_time": "2022-04-07T15:44:11.952Z"
   },
   {
    "duration": 156575,
    "start_time": "2022-04-07T15:44:21.554Z"
   },
   {
    "duration": 1482,
    "start_time": "2022-04-07T15:57:58.747Z"
   },
   {
    "duration": 668,
    "start_time": "2022-04-07T15:58:00.231Z"
   },
   {
    "duration": 52,
    "start_time": "2022-04-07T15:58:00.901Z"
   },
   {
    "duration": 66,
    "start_time": "2022-04-07T15:58:00.956Z"
   },
   {
    "duration": 39,
    "start_time": "2022-04-07T15:58:01.025Z"
   },
   {
    "duration": 37,
    "start_time": "2022-04-07T15:58:01.066Z"
   },
   {
    "duration": 6,
    "start_time": "2022-04-07T15:58:01.105Z"
   },
   {
    "duration": 14,
    "start_time": "2022-04-07T15:58:01.113Z"
   },
   {
    "duration": 31,
    "start_time": "2022-04-07T15:58:01.129Z"
   },
   {
    "duration": 270,
    "start_time": "2022-04-07T15:58:01.163Z"
   },
   {
    "duration": 14,
    "start_time": "2022-04-07T15:58:01.435Z"
   },
   {
    "duration": 25,
    "start_time": "2022-04-07T15:58:01.450Z"
   },
   {
    "duration": 35,
    "start_time": "2022-04-07T15:58:01.477Z"
   },
   {
    "duration": 212,
    "start_time": "2022-04-07T15:58:01.514Z"
   },
   {
    "duration": 6,
    "start_time": "2022-04-07T15:58:01.728Z"
   },
   {
    "duration": 34,
    "start_time": "2022-04-07T15:58:01.736Z"
   },
   {
    "duration": 19,
    "start_time": "2022-04-07T15:58:01.772Z"
   },
   {
    "duration": 20,
    "start_time": "2022-04-07T15:58:01.794Z"
   },
   {
    "duration": 19,
    "start_time": "2022-04-07T15:58:01.816Z"
   },
   {
    "duration": 11,
    "start_time": "2022-04-07T15:58:01.837Z"
   },
   {
    "duration": 24,
    "start_time": "2022-04-07T15:58:01.850Z"
   },
   {
    "duration": 22,
    "start_time": "2022-04-07T15:58:01.876Z"
   },
   {
    "duration": 4892,
    "start_time": "2022-04-07T15:58:01.900Z"
   },
   {
    "duration": 160471,
    "start_time": "2022-04-07T15:58:30.532Z"
   },
   {
    "duration": 1597,
    "start_time": "2022-04-07T16:01:11.005Z"
   },
   {
    "duration": 3,
    "start_time": "2022-04-07T16:10:18.919Z"
   },
   {
    "duration": 47,
    "start_time": "2022-04-07T16:19:19.990Z"
   },
   {
    "duration": 6,
    "start_time": "2022-04-07T16:19:37.787Z"
   },
   {
    "duration": 121,
    "start_time": "2022-04-07T16:20:16.014Z"
   },
   {
    "duration": 29,
    "start_time": "2022-04-07T16:20:25.110Z"
   },
   {
    "duration": 29,
    "start_time": "2022-04-07T16:20:49.565Z"
   },
   {
    "duration": 31,
    "start_time": "2022-04-07T16:21:29.060Z"
   },
   {
    "duration": 6,
    "start_time": "2022-04-07T16:21:50.524Z"
   },
   {
    "duration": 27,
    "start_time": "2022-04-07T16:21:58.085Z"
   },
   {
    "duration": 8,
    "start_time": "2022-04-07T16:22:03.647Z"
   },
   {
    "duration": 6,
    "start_time": "2022-04-07T16:22:12.769Z"
   },
   {
    "duration": 7,
    "start_time": "2022-04-07T16:22:31.848Z"
   },
   {
    "duration": 14,
    "start_time": "2022-04-07T16:24:27.295Z"
   },
   {
    "duration": 690,
    "start_time": "2022-04-07T16:24:55.863Z"
   },
   {
    "duration": 14,
    "start_time": "2022-04-07T16:25:03.619Z"
   },
   {
    "duration": 29,
    "start_time": "2022-04-07T16:26:10.770Z"
   },
   {
    "duration": 30,
    "start_time": "2022-04-07T16:26:48.720Z"
   },
   {
    "duration": 29,
    "start_time": "2022-04-07T16:26:53.686Z"
   },
   {
    "duration": 15,
    "start_time": "2022-04-07T16:27:22.230Z"
   },
   {
    "duration": 15,
    "start_time": "2022-04-07T16:27:43.893Z"
   },
   {
    "duration": 3,
    "start_time": "2022-04-07T16:27:47.237Z"
   },
   {
    "duration": 13,
    "start_time": "2022-04-07T16:27:47.354Z"
   },
   {
    "duration": 3,
    "start_time": "2022-04-07T16:28:05.262Z"
   },
   {
    "duration": 14,
    "start_time": "2022-04-07T16:28:05.737Z"
   },
   {
    "duration": 4,
    "start_time": "2022-04-07T16:28:33.000Z"
   },
   {
    "duration": 1806,
    "start_time": "2022-04-07T16:28:33.468Z"
   },
   {
    "duration": 28,
    "start_time": "2022-04-07T16:29:10.116Z"
   },
   {
    "duration": 14,
    "start_time": "2022-04-07T16:29:18.109Z"
   },
   {
    "duration": 17,
    "start_time": "2022-04-07T16:31:32.568Z"
   },
   {
    "duration": 13,
    "start_time": "2022-04-07T16:31:40.356Z"
   },
   {
    "duration": 14,
    "start_time": "2022-04-07T16:32:04.654Z"
   },
   {
    "duration": 17,
    "start_time": "2022-04-07T16:33:58.104Z"
   },
   {
    "duration": 6,
    "start_time": "2022-04-07T16:38:17.330Z"
   },
   {
    "duration": 4,
    "start_time": "2022-04-07T16:38:24.714Z"
   },
   {
    "duration": 28,
    "start_time": "2022-04-07T16:41:00.848Z"
   },
   {
    "duration": 9,
    "start_time": "2022-04-07T16:41:04.743Z"
   },
   {
    "duration": 12,
    "start_time": "2022-04-07T16:41:14.987Z"
   },
   {
    "duration": 7,
    "start_time": "2022-04-07T16:41:25.498Z"
   },
   {
    "duration": 30,
    "start_time": "2022-04-07T16:44:07.790Z"
   },
   {
    "duration": 29,
    "start_time": "2022-04-07T16:44:14.841Z"
   },
   {
    "duration": 1463,
    "start_time": "2022-04-07T16:47:29.240Z"
   },
   {
    "duration": 1132,
    "start_time": "2022-04-07T16:47:30.706Z"
   },
   {
    "duration": 103,
    "start_time": "2022-04-07T16:47:31.840Z"
   },
   {
    "duration": 42,
    "start_time": "2022-04-07T16:47:32.002Z"
   },
   {
    "duration": 37,
    "start_time": "2022-04-07T16:47:32.101Z"
   },
   {
    "duration": 64,
    "start_time": "2022-04-07T16:47:32.140Z"
   },
   {
    "duration": 5,
    "start_time": "2022-04-07T16:47:32.206Z"
   },
   {
    "duration": 13,
    "start_time": "2022-04-07T16:47:32.213Z"
   },
   {
    "duration": 501,
    "start_time": "2022-04-07T16:47:32.228Z"
   },
   {
    "duration": 11,
    "start_time": "2022-04-07T16:47:32.732Z"
   },
   {
    "duration": 24,
    "start_time": "2022-04-07T16:47:32.745Z"
   },
   {
    "duration": 42,
    "start_time": "2022-04-07T16:47:32.771Z"
   },
   {
    "duration": 219,
    "start_time": "2022-04-07T16:47:32.815Z"
   },
   {
    "duration": 6,
    "start_time": "2022-04-07T16:47:33.036Z"
   },
   {
    "duration": 12,
    "start_time": "2022-04-07T16:47:33.043Z"
   },
   {
    "duration": 13,
    "start_time": "2022-04-07T16:47:33.057Z"
   },
   {
    "duration": 14,
    "start_time": "2022-04-07T16:47:33.071Z"
   },
   {
    "duration": 9,
    "start_time": "2022-04-07T16:47:33.087Z"
   },
   {
    "duration": 7,
    "start_time": "2022-04-07T16:47:33.102Z"
   },
   {
    "duration": 22,
    "start_time": "2022-04-07T16:47:33.111Z"
   },
   {
    "duration": 15,
    "start_time": "2022-04-07T16:47:33.134Z"
   },
   {
    "duration": 4275,
    "start_time": "2022-04-07T16:47:33.150Z"
   },
   {
    "duration": 144015,
    "start_time": "2022-04-07T16:47:37.427Z"
   },
   {
    "duration": 2156,
    "start_time": "2022-04-07T16:50:01.444Z"
   },
   {
    "duration": 243,
    "start_time": "2022-04-07T16:50:03.603Z"
   },
   {
    "duration": 0,
    "start_time": "2022-04-07T16:50:03.849Z"
   },
   {
    "duration": 1584,
    "start_time": "2022-04-07T18:34:02.504Z"
   },
   {
    "duration": 619,
    "start_time": "2022-04-07T18:34:04.090Z"
   },
   {
    "duration": 41,
    "start_time": "2022-04-07T18:34:04.710Z"
   },
   {
    "duration": 50,
    "start_time": "2022-04-07T18:34:04.753Z"
   },
   {
    "duration": 31,
    "start_time": "2022-04-07T18:34:04.804Z"
   },
   {
    "duration": 10,
    "start_time": "2022-04-07T18:34:04.836Z"
   },
   {
    "duration": 4,
    "start_time": "2022-04-07T18:34:04.848Z"
   },
   {
    "duration": 30,
    "start_time": "2022-04-07T18:34:04.853Z"
   },
   {
    "duration": 16,
    "start_time": "2022-04-07T18:34:04.884Z"
   },
   {
    "duration": 231,
    "start_time": "2022-04-07T18:34:04.902Z"
   },
   {
    "duration": 9,
    "start_time": "2022-04-07T18:34:05.134Z"
   },
   {
    "duration": 14,
    "start_time": "2022-04-07T18:34:05.145Z"
   },
   {
    "duration": 22,
    "start_time": "2022-04-07T18:34:05.160Z"
   },
   {
    "duration": 172,
    "start_time": "2022-04-07T18:34:05.183Z"
   },
   {
    "duration": 5,
    "start_time": "2022-04-07T18:34:05.356Z"
   },
   {
    "duration": 4,
    "start_time": "2022-04-07T18:34:05.362Z"
   },
   {
    "duration": 15,
    "start_time": "2022-04-07T18:34:05.367Z"
   },
   {
    "duration": 7,
    "start_time": "2022-04-07T18:34:05.383Z"
   },
   {
    "duration": 5,
    "start_time": "2022-04-07T18:34:05.391Z"
   },
   {
    "duration": 8,
    "start_time": "2022-04-07T18:34:05.397Z"
   },
   {
    "duration": 21,
    "start_time": "2022-04-07T18:34:05.407Z"
   },
   {
    "duration": 10,
    "start_time": "2022-04-07T18:34:05.430Z"
   },
   {
    "duration": 3768,
    "start_time": "2022-04-07T18:34:05.442Z"
   },
   {
    "duration": 123869,
    "start_time": "2022-04-07T18:34:09.212Z"
   },
   {
    "duration": 1407,
    "start_time": "2022-04-07T18:36:13.082Z"
   },
   {
    "duration": 44,
    "start_time": "2022-04-08T09:55:08.801Z"
   },
   {
    "duration": 1958,
    "start_time": "2022-04-08T09:55:20.211Z"
   },
   {
    "duration": 1297,
    "start_time": "2022-04-08T09:55:22.171Z"
   },
   {
    "duration": 97,
    "start_time": "2022-04-08T09:55:23.470Z"
   },
   {
    "duration": 94,
    "start_time": "2022-04-08T09:55:23.569Z"
   },
   {
    "duration": 32,
    "start_time": "2022-04-08T09:55:23.665Z"
   },
   {
    "duration": 11,
    "start_time": "2022-04-08T09:55:23.699Z"
   },
   {
    "duration": 6,
    "start_time": "2022-04-08T09:55:23.763Z"
   },
   {
    "duration": 7,
    "start_time": "2022-04-08T09:55:23.770Z"
   },
   {
    "duration": 17,
    "start_time": "2022-04-08T09:55:23.778Z"
   },
   {
    "duration": 506,
    "start_time": "2022-04-08T09:55:23.798Z"
   },
   {
    "duration": 64,
    "start_time": "2022-04-08T09:55:24.306Z"
   },
   {
    "duration": 11,
    "start_time": "2022-04-08T09:55:24.372Z"
   },
   {
    "duration": 13,
    "start_time": "2022-04-08T09:55:24.384Z"
   },
   {
    "duration": 388,
    "start_time": "2022-04-08T09:55:24.399Z"
   },
   {
    "duration": 6,
    "start_time": "2022-04-08T09:55:24.789Z"
   },
   {
    "duration": 17,
    "start_time": "2022-04-08T09:55:24.796Z"
   },
   {
    "duration": 5,
    "start_time": "2022-04-08T09:55:24.862Z"
   },
   {
    "duration": 9,
    "start_time": "2022-04-08T09:55:24.869Z"
   },
   {
    "duration": 29,
    "start_time": "2022-04-08T09:55:24.880Z"
   },
   {
    "duration": 52,
    "start_time": "2022-04-08T09:55:24.911Z"
   },
   {
    "duration": 28,
    "start_time": "2022-04-08T09:55:24.965Z"
   },
   {
    "duration": 18,
    "start_time": "2022-04-08T09:55:24.995Z"
   },
   {
    "duration": 4455,
    "start_time": "2022-04-08T09:55:25.015Z"
   },
   {
    "duration": 128372,
    "start_time": "2022-04-08T09:55:29.472Z"
   },
   {
    "duration": 1426,
    "start_time": "2022-04-08T09:57:37.845Z"
   },
   {
    "duration": 246,
    "start_time": "2022-04-08T09:57:39.364Z"
   },
   {
    "duration": 221,
    "start_time": "2022-04-08T09:57:58.888Z"
   },
   {
    "duration": 137,
    "start_time": "2022-04-08T09:58:13.813Z"
   },
   {
    "duration": 233,
    "start_time": "2022-04-08T09:58:16.650Z"
   },
   {
    "duration": 175,
    "start_time": "2022-04-08T09:58:23.985Z"
   },
   {
    "duration": 143,
    "start_time": "2022-04-08T10:01:26.939Z"
   },
   {
    "duration": 233,
    "start_time": "2022-04-08T10:01:54.856Z"
   },
   {
    "duration": 216,
    "start_time": "2022-04-08T10:02:18.684Z"
   },
   {
    "duration": 242,
    "start_time": "2022-04-08T10:02:40.294Z"
   },
   {
    "duration": 322,
    "start_time": "2022-04-08T10:02:45.341Z"
   },
   {
    "duration": 250,
    "start_time": "2022-04-08T10:02:57.234Z"
   },
   {
    "duration": 269,
    "start_time": "2022-04-08T10:04:19.701Z"
   },
   {
    "duration": 280,
    "start_time": "2022-04-08T10:04:44.308Z"
   },
   {
    "duration": 408,
    "start_time": "2022-04-08T10:05:05.403Z"
   },
   {
    "duration": 157,
    "start_time": "2022-04-08T10:05:40.036Z"
   },
   {
    "duration": 5,
    "start_time": "2022-04-08T10:05:46.315Z"
   },
   {
    "duration": 129,
    "start_time": "2022-04-08T10:06:03.745Z"
   },
   {
    "duration": 5,
    "start_time": "2022-04-08T10:06:19.469Z"
   },
   {
    "duration": 289,
    "start_time": "2022-04-08T10:06:34.502Z"
   },
   {
    "duration": 274,
    "start_time": "2022-04-08T10:07:04.077Z"
   },
   {
    "duration": 137,
    "start_time": "2022-04-08T10:08:50.320Z"
   },
   {
    "duration": 444,
    "start_time": "2022-04-08T10:09:16.645Z"
   },
   {
    "duration": 284,
    "start_time": "2022-04-08T10:12:01.910Z"
   },
   {
    "duration": 278,
    "start_time": "2022-04-08T10:12:23.656Z"
   },
   {
    "duration": 270,
    "start_time": "2022-04-08T10:12:58.524Z"
   },
   {
    "duration": 295,
    "start_time": "2022-04-08T10:13:23.084Z"
   },
   {
    "duration": 448,
    "start_time": "2022-04-08T10:13:36.468Z"
   },
   {
    "duration": 292,
    "start_time": "2022-04-08T10:18:52.771Z"
   },
   {
    "duration": 299,
    "start_time": "2022-04-08T10:19:05.443Z"
   },
   {
    "duration": 279,
    "start_time": "2022-04-08T10:20:13.659Z"
   },
   {
    "duration": 461,
    "start_time": "2022-04-08T10:20:44.226Z"
   },
   {
    "duration": 10,
    "start_time": "2022-04-08T10:34:42.104Z"
   },
   {
    "duration": 6,
    "start_time": "2022-04-08T10:34:48.300Z"
   },
   {
    "duration": 9,
    "start_time": "2022-04-08T10:35:03.226Z"
   },
   {
    "duration": 13,
    "start_time": "2022-04-08T10:35:29.877Z"
   },
   {
    "duration": 10,
    "start_time": "2022-04-08T10:35:57.714Z"
   },
   {
    "duration": 9,
    "start_time": "2022-04-08T10:36:04.655Z"
   },
   {
    "duration": 14,
    "start_time": "2022-04-08T10:36:09.354Z"
   },
   {
    "duration": 9,
    "start_time": "2022-04-08T10:36:13.890Z"
   },
   {
    "duration": 4,
    "start_time": "2022-04-08T10:36:55.588Z"
   },
   {
    "duration": 361,
    "start_time": "2022-04-08T10:40:47.616Z"
   },
   {
    "duration": 378,
    "start_time": "2022-04-08T10:41:04.157Z"
   },
   {
    "duration": 210,
    "start_time": "2022-04-08T10:41:13.612Z"
   },
   {
    "duration": 406,
    "start_time": "2022-04-08T10:41:19.168Z"
   },
   {
    "duration": 288,
    "start_time": "2022-04-08T10:41:23.308Z"
   },
   {
    "duration": 298,
    "start_time": "2022-04-08T10:41:29.575Z"
   },
   {
    "duration": 286,
    "start_time": "2022-04-08T10:41:32.552Z"
   },
   {
    "duration": 283,
    "start_time": "2022-04-08T10:41:37.516Z"
   },
   {
    "duration": 267,
    "start_time": "2022-04-08T10:41:40.456Z"
   },
   {
    "duration": 489,
    "start_time": "2022-04-08T10:41:43.743Z"
   },
   {
    "duration": 265,
    "start_time": "2022-04-08T10:41:46.060Z"
   },
   {
    "duration": 266,
    "start_time": "2022-04-08T10:41:53.116Z"
   },
   {
    "duration": 191,
    "start_time": "2022-04-08T10:41:56.541Z"
   },
   {
    "duration": 183,
    "start_time": "2022-04-08T10:42:06.079Z"
   },
   {
    "duration": 166,
    "start_time": "2022-04-08T10:42:10.929Z"
   },
   {
    "duration": 197,
    "start_time": "2022-04-08T10:42:15.078Z"
   },
   {
    "duration": 366,
    "start_time": "2022-04-08T10:42:18.931Z"
   },
   {
    "duration": 197,
    "start_time": "2022-04-08T10:42:43.783Z"
   },
   {
    "duration": 190,
    "start_time": "2022-04-08T10:43:00.504Z"
   },
   {
    "duration": 183,
    "start_time": "2022-04-08T10:43:19.730Z"
   },
   {
    "duration": 177,
    "start_time": "2022-04-08T10:43:23.960Z"
   },
   {
    "duration": 175,
    "start_time": "2022-04-08T10:43:31.544Z"
   },
   {
    "duration": 207,
    "start_time": "2022-04-08T10:43:37.011Z"
   },
   {
    "duration": 192,
    "start_time": "2022-04-08T10:43:45.118Z"
   },
   {
    "duration": 334,
    "start_time": "2022-04-08T10:43:49.741Z"
   },
   {
    "duration": 184,
    "start_time": "2022-04-08T10:43:54.256Z"
   },
   {
    "duration": 10,
    "start_time": "2022-04-08T10:44:22.247Z"
   },
   {
    "duration": 112,
    "start_time": "2022-04-08T10:44:31.443Z"
   },
   {
    "duration": 9,
    "start_time": "2022-04-08T10:44:34.935Z"
   },
   {
    "duration": 4,
    "start_time": "2022-04-08T10:44:52.036Z"
   },
   {
    "duration": 8,
    "start_time": "2022-04-08T10:45:45.877Z"
   },
   {
    "duration": 9,
    "start_time": "2022-04-08T10:45:52.125Z"
   },
   {
    "duration": 9,
    "start_time": "2022-04-08T10:45:57.313Z"
   },
   {
    "duration": 9,
    "start_time": "2022-04-08T10:46:00.078Z"
   },
   {
    "duration": 8,
    "start_time": "2022-04-08T10:46:10.916Z"
   },
   {
    "duration": 115,
    "start_time": "2022-04-08T10:53:33.412Z"
   },
   {
    "duration": 184,
    "start_time": "2022-04-08T10:53:47.679Z"
   },
   {
    "duration": 321,
    "start_time": "2022-04-08T10:55:23.956Z"
   },
   {
    "duration": 609,
    "start_time": "2022-04-08T10:55:42.664Z"
   },
   {
    "duration": 490,
    "start_time": "2022-04-08T10:58:02.883Z"
   },
   {
    "duration": 336,
    "start_time": "2022-04-08T10:58:26.843Z"
   },
   {
    "duration": 11,
    "start_time": "2022-04-08T11:02:42.238Z"
   },
   {
    "duration": 11,
    "start_time": "2022-04-08T11:02:48.132Z"
   },
   {
    "duration": 4,
    "start_time": "2022-04-08T11:02:53.324Z"
   },
   {
    "duration": 1372,
    "start_time": "2022-04-08T11:05:22.043Z"
   },
   {
    "duration": 852,
    "start_time": "2022-04-08T11:05:23.417Z"
   },
   {
    "duration": 97,
    "start_time": "2022-04-08T11:05:24.271Z"
   },
   {
    "duration": 36,
    "start_time": "2022-04-08T11:05:24.371Z"
   },
   {
    "duration": 84,
    "start_time": "2022-04-08T11:05:24.409Z"
   },
   {
    "duration": 10,
    "start_time": "2022-04-08T11:05:24.494Z"
   },
   {
    "duration": 61,
    "start_time": "2022-04-08T11:05:24.505Z"
   },
   {
    "duration": 27,
    "start_time": "2022-04-08T11:05:24.568Z"
   },
   {
    "duration": 39,
    "start_time": "2022-04-08T11:05:24.596Z"
   },
   {
    "duration": 442,
    "start_time": "2022-04-08T11:05:24.665Z"
   },
   {
    "duration": 64,
    "start_time": "2022-04-08T11:05:25.109Z"
   },
   {
    "duration": 420,
    "start_time": "2022-04-08T11:05:25.174Z"
   },
   {
    "duration": 11,
    "start_time": "2022-04-08T11:05:25.595Z"
   },
   {
    "duration": 366,
    "start_time": "2022-04-08T11:05:25.608Z"
   },
   {
    "duration": 10,
    "start_time": "2022-04-08T11:05:25.976Z"
   },
   {
    "duration": 295,
    "start_time": "2022-04-08T11:05:25.987Z"
   },
   {
    "duration": 186,
    "start_time": "2022-04-08T11:05:26.284Z"
   },
   {
    "duration": 5,
    "start_time": "2022-04-08T11:05:26.472Z"
   },
   {
    "duration": 11,
    "start_time": "2022-04-08T11:05:26.478Z"
   },
   {
    "duration": 341,
    "start_time": "2022-04-08T11:05:26.490Z"
   },
   {
    "duration": 4,
    "start_time": "2022-04-08T11:05:26.832Z"
   },
   {
    "duration": 861,
    "start_time": "2022-04-08T11:05:26.837Z"
   },
   {
    "duration": 4,
    "start_time": "2022-04-08T11:05:27.699Z"
   },
   {
    "duration": 685,
    "start_time": "2022-04-08T11:05:27.705Z"
   },
   {
    "duration": 4,
    "start_time": "2022-04-08T11:05:28.391Z"
   },
   {
    "duration": 7,
    "start_time": "2022-04-08T11:05:28.396Z"
   },
   {
    "duration": 20,
    "start_time": "2022-04-08T11:05:28.404Z"
   },
   {
    "duration": 11,
    "start_time": "2022-04-08T11:05:28.427Z"
   },
   {
    "duration": 3970,
    "start_time": "2022-04-08T11:05:28.439Z"
   },
   {
    "duration": 1455,
    "start_time": "2022-04-08T11:05:32.411Z"
   },
   {
    "duration": 163,
    "start_time": "2022-04-08T11:22:48.654Z"
   },
   {
    "duration": 9,
    "start_time": "2022-04-08T11:22:51.648Z"
   },
   {
    "duration": 5,
    "start_time": "2022-04-08T11:22:55.599Z"
   },
   {
    "duration": 10,
    "start_time": "2022-04-08T11:23:08.252Z"
   },
   {
    "duration": 3,
    "start_time": "2022-04-08T11:23:48.519Z"
   },
   {
    "duration": 3,
    "start_time": "2022-04-08T11:23:56.961Z"
   },
   {
    "duration": 4,
    "start_time": "2022-04-08T11:23:58.498Z"
   },
   {
    "duration": 5,
    "start_time": "2022-04-08T11:24:06.621Z"
   },
   {
    "duration": 5,
    "start_time": "2022-04-08T11:24:19.861Z"
   },
   {
    "duration": 4,
    "start_time": "2022-04-08T11:24:25.461Z"
   },
   {
    "duration": 3,
    "start_time": "2022-04-08T11:24:29.036Z"
   },
   {
    "duration": 3,
    "start_time": "2022-04-08T11:24:34.638Z"
   },
   {
    "duration": 5,
    "start_time": "2022-04-08T11:24:46.764Z"
   },
   {
    "duration": 5,
    "start_time": "2022-04-08T11:24:52.931Z"
   },
   {
    "duration": 4,
    "start_time": "2022-04-08T11:25:07.376Z"
   },
   {
    "duration": 5,
    "start_time": "2022-04-08T11:25:14.957Z"
   },
   {
    "duration": 6,
    "start_time": "2022-04-08T11:27:16.803Z"
   },
   {
    "duration": 4,
    "start_time": "2022-04-08T11:27:19.211Z"
   },
   {
    "duration": 4,
    "start_time": "2022-04-08T11:27:25.328Z"
   },
   {
    "duration": 4,
    "start_time": "2022-04-08T11:27:40.250Z"
   },
   {
    "duration": 3,
    "start_time": "2022-04-08T11:28:05.871Z"
   },
   {
    "duration": 4,
    "start_time": "2022-04-08T11:28:15.806Z"
   },
   {
    "duration": 3,
    "start_time": "2022-04-08T11:28:24.971Z"
   },
   {
    "duration": 4,
    "start_time": "2022-04-08T11:28:40.815Z"
   },
   {
    "duration": 4,
    "start_time": "2022-04-08T11:29:36.237Z"
   },
   {
    "duration": 6,
    "start_time": "2022-04-08T11:29:54.791Z"
   },
   {
    "duration": 5,
    "start_time": "2022-04-08T11:30:14.901Z"
   },
   {
    "duration": 9,
    "start_time": "2022-04-08T11:33:15.545Z"
   },
   {
    "duration": 4,
    "start_time": "2022-04-08T11:33:23.131Z"
   },
   {
    "duration": 9,
    "start_time": "2022-04-08T11:34:08.344Z"
   },
   {
    "duration": 5,
    "start_time": "2022-04-08T11:34:44.185Z"
   },
   {
    "duration": 12,
    "start_time": "2022-04-08T11:35:01.381Z"
   },
   {
    "duration": 9,
    "start_time": "2022-04-08T11:35:12.293Z"
   },
   {
    "duration": 6,
    "start_time": "2022-04-08T11:35:21.925Z"
   },
   {
    "duration": 4,
    "start_time": "2022-04-08T11:36:36.546Z"
   },
   {
    "duration": 5,
    "start_time": "2022-04-08T11:36:45.627Z"
   },
   {
    "duration": 4,
    "start_time": "2022-04-08T11:36:51.318Z"
   },
   {
    "duration": 5,
    "start_time": "2022-04-08T11:36:54.699Z"
   },
   {
    "duration": 4,
    "start_time": "2022-04-08T11:37:01.512Z"
   },
   {
    "duration": 32,
    "start_time": "2022-04-08T11:38:06.516Z"
   },
   {
    "duration": 3,
    "start_time": "2022-04-08T11:38:50.592Z"
   },
   {
    "duration": 4,
    "start_time": "2022-04-08T11:38:56.819Z"
   },
   {
    "duration": 4,
    "start_time": "2022-04-08T11:40:27.434Z"
   },
   {
    "duration": 3,
    "start_time": "2022-04-08T11:41:02.070Z"
   },
   {
    "duration": 3,
    "start_time": "2022-04-08T11:41:07.230Z"
   },
   {
    "duration": 8,
    "start_time": "2022-04-08T11:41:12.722Z"
   },
   {
    "duration": 5,
    "start_time": "2022-04-08T11:44:57.918Z"
   },
   {
    "duration": 5,
    "start_time": "2022-04-08T11:45:24.518Z"
   },
   {
    "duration": 6,
    "start_time": "2022-04-08T11:45:56.833Z"
   },
   {
    "duration": 4,
    "start_time": "2022-04-08T11:47:50.782Z"
   },
   {
    "duration": 5,
    "start_time": "2022-04-08T11:47:54.746Z"
   },
   {
    "duration": 5,
    "start_time": "2022-04-08T11:48:47.579Z"
   },
   {
    "duration": 6,
    "start_time": "2022-04-08T11:49:01.178Z"
   },
   {
    "duration": 4,
    "start_time": "2022-04-08T11:49:51.097Z"
   },
   {
    "duration": 3,
    "start_time": "2022-04-08T11:49:51.355Z"
   },
   {
    "duration": 5,
    "start_time": "2022-04-08T11:49:58.337Z"
   },
   {
    "duration": 4,
    "start_time": "2022-04-08T11:50:38.443Z"
   },
   {
    "duration": 4,
    "start_time": "2022-04-08T11:51:25.277Z"
   },
   {
    "duration": 5,
    "start_time": "2022-04-08T11:51:25.764Z"
   },
   {
    "duration": 3,
    "start_time": "2022-04-08T11:51:46.620Z"
   },
   {
    "duration": 3,
    "start_time": "2022-04-08T11:51:46.790Z"
   },
   {
    "duration": 6,
    "start_time": "2022-04-08T11:58:56.357Z"
   },
   {
    "duration": 4,
    "start_time": "2022-04-08T11:59:46.419Z"
   },
   {
    "duration": 5,
    "start_time": "2022-04-08T11:59:48.201Z"
   },
   {
    "duration": 4,
    "start_time": "2022-04-08T11:59:48.333Z"
   },
   {
    "duration": 5,
    "start_time": "2022-04-08T11:59:48.835Z"
   },
   {
    "duration": 4,
    "start_time": "2022-04-08T11:59:53.337Z"
   },
   {
    "duration": 6,
    "start_time": "2022-04-08T12:00:00.772Z"
   },
   {
    "duration": 1550,
    "start_time": "2022-04-08T12:00:40.408Z"
   },
   {
    "duration": 729,
    "start_time": "2022-04-08T12:00:41.960Z"
   },
   {
    "duration": 47,
    "start_time": "2022-04-08T12:00:42.691Z"
   },
   {
    "duration": 55,
    "start_time": "2022-04-08T12:00:42.740Z"
   },
   {
    "duration": 35,
    "start_time": "2022-04-08T12:00:42.796Z"
   },
   {
    "duration": 34,
    "start_time": "2022-04-08T12:00:42.833Z"
   },
   {
    "duration": 19,
    "start_time": "2022-04-08T12:00:42.869Z"
   },
   {
    "duration": 1921,
    "start_time": "2022-04-08T12:00:52.180Z"
   },
   {
    "duration": 619,
    "start_time": "2022-04-08T12:00:54.103Z"
   },
   {
    "duration": 49,
    "start_time": "2022-04-08T12:00:54.724Z"
   },
   {
    "duration": 37,
    "start_time": "2022-04-08T12:00:54.775Z"
   },
   {
    "duration": 56,
    "start_time": "2022-04-08T12:00:54.814Z"
   },
   {
    "duration": 12,
    "start_time": "2022-04-08T12:00:54.872Z"
   },
   {
    "duration": 6,
    "start_time": "2022-04-08T12:00:54.885Z"
   },
   {
    "duration": 5,
    "start_time": "2022-04-08T12:00:54.893Z"
   },
   {
    "duration": 6,
    "start_time": "2022-04-08T12:00:54.900Z"
   },
   {
    "duration": 4,
    "start_time": "2022-04-08T12:00:54.910Z"
   },
   {
    "duration": 42,
    "start_time": "2022-04-08T12:00:54.916Z"
   },
   {
    "duration": 25,
    "start_time": "2022-04-08T12:00:54.961Z"
   },
   {
    "duration": 359,
    "start_time": "2022-04-08T12:00:54.988Z"
   },
   {
    "duration": 16,
    "start_time": "2022-04-08T12:00:55.349Z"
   },
   {
    "duration": 316,
    "start_time": "2022-04-08T12:00:55.366Z"
   },
   {
    "duration": 11,
    "start_time": "2022-04-08T12:00:55.684Z"
   },
   {
    "duration": 408,
    "start_time": "2022-04-08T12:00:55.697Z"
   },
   {
    "duration": 12,
    "start_time": "2022-04-08T12:00:56.106Z"
   },
   {
    "duration": 309,
    "start_time": "2022-04-08T12:00:56.120Z"
   },
   {
    "duration": 199,
    "start_time": "2022-04-08T12:00:56.431Z"
   },
   {
    "duration": 6,
    "start_time": "2022-04-08T12:00:56.631Z"
   },
   {
    "duration": 22,
    "start_time": "2022-04-08T12:00:56.639Z"
   },
   {
    "duration": 638,
    "start_time": "2022-04-08T12:00:56.663Z"
   },
   {
    "duration": 6,
    "start_time": "2022-04-08T12:00:57.303Z"
   },
   {
    "duration": 798,
    "start_time": "2022-04-08T12:00:57.311Z"
   },
   {
    "duration": 5,
    "start_time": "2022-04-08T12:00:58.111Z"
   },
   {
    "duration": 356,
    "start_time": "2022-04-08T12:00:58.118Z"
   },
   {
    "duration": 4,
    "start_time": "2022-04-08T12:00:58.477Z"
   },
   {
    "duration": 11,
    "start_time": "2022-04-08T12:00:58.482Z"
   },
   {
    "duration": 47,
    "start_time": "2022-04-08T12:00:58.495Z"
   },
   {
    "duration": 17,
    "start_time": "2022-04-08T12:00:58.544Z"
   },
   {
    "duration": 5119,
    "start_time": "2022-04-08T12:00:58.563Z"
   },
   {
    "duration": 1874,
    "start_time": "2022-04-08T12:01:03.684Z"
   },
   {
    "duration": 30,
    "start_time": "2022-04-08T12:04:26.578Z"
   },
   {
    "duration": 19,
    "start_time": "2022-04-08T12:04:35.390Z"
   },
   {
    "duration": 21,
    "start_time": "2022-04-08T12:04:45.892Z"
   },
   {
    "duration": 15,
    "start_time": "2022-04-08T12:05:09.088Z"
   },
   {
    "duration": 15,
    "start_time": "2022-04-08T12:06:28.978Z"
   },
   {
    "duration": 16,
    "start_time": "2022-04-08T12:06:29.223Z"
   },
   {
    "duration": 1661,
    "start_time": "2022-04-08T12:08:52.506Z"
   },
   {
    "duration": 622,
    "start_time": "2022-04-08T12:08:54.169Z"
   },
   {
    "duration": 48,
    "start_time": "2022-04-08T12:08:54.793Z"
   },
   {
    "duration": 52,
    "start_time": "2022-04-08T12:08:54.843Z"
   },
   {
    "duration": 35,
    "start_time": "2022-04-08T12:08:54.897Z"
   },
   {
    "duration": 11,
    "start_time": "2022-04-08T12:08:54.957Z"
   },
   {
    "duration": 5,
    "start_time": "2022-04-08T12:08:54.970Z"
   },
   {
    "duration": 5,
    "start_time": "2022-04-08T12:08:54.976Z"
   },
   {
    "duration": 7,
    "start_time": "2022-04-08T12:08:54.982Z"
   },
   {
    "duration": 4,
    "start_time": "2022-04-08T12:08:54.991Z"
   },
   {
    "duration": 7,
    "start_time": "2022-04-08T12:08:54.997Z"
   },
   {
    "duration": 52,
    "start_time": "2022-04-08T12:08:55.006Z"
   },
   {
    "duration": 366,
    "start_time": "2022-04-08T12:08:55.061Z"
   },
   {
    "duration": 12,
    "start_time": "2022-04-08T12:08:55.430Z"
   },
   {
    "duration": 303,
    "start_time": "2022-04-08T12:08:55.457Z"
   },
   {
    "duration": 13,
    "start_time": "2022-04-08T12:08:55.762Z"
   },
   {
    "duration": 410,
    "start_time": "2022-04-08T12:08:55.776Z"
   },
   {
    "duration": 11,
    "start_time": "2022-04-08T12:08:56.188Z"
   },
   {
    "duration": 318,
    "start_time": "2022-04-08T12:08:56.201Z"
   },
   {
    "duration": 198,
    "start_time": "2022-04-08T12:08:56.521Z"
   },
   {
    "duration": 5,
    "start_time": "2022-04-08T12:08:56.721Z"
   },
   {
    "duration": 24,
    "start_time": "2022-04-08T12:08:56.728Z"
   },
   {
    "duration": 353,
    "start_time": "2022-04-08T12:08:56.758Z"
   },
   {
    "duration": 5,
    "start_time": "2022-04-08T12:08:57.113Z"
   },
   {
    "duration": 468,
    "start_time": "2022-04-08T12:08:57.120Z"
   },
   {
    "duration": 5,
    "start_time": "2022-04-08T12:08:57.589Z"
   },
   {
    "duration": 369,
    "start_time": "2022-04-08T12:08:57.596Z"
   },
   {
    "duration": 3,
    "start_time": "2022-04-08T12:08:57.969Z"
   },
   {
    "duration": 37,
    "start_time": "2022-04-08T12:08:57.974Z"
   },
   {
    "duration": 55,
    "start_time": "2022-04-08T12:08:58.013Z"
   },
   {
    "duration": 18,
    "start_time": "2022-04-08T12:09:01.531Z"
   },
   {
    "duration": 13,
    "start_time": "2022-04-08T12:09:12.740Z"
   },
   {
    "duration": 110,
    "start_time": "2022-04-08T12:13:14.206Z"
   },
   {
    "duration": 9,
    "start_time": "2022-04-08T12:13:19.265Z"
   },
   {
    "duration": 4,
    "start_time": "2022-04-08T12:13:25.201Z"
   },
   {
    "duration": 15,
    "start_time": "2022-04-08T12:17:28.202Z"
   },
   {
    "duration": 8,
    "start_time": "2022-04-08T12:17:29.600Z"
   },
   {
    "duration": 4,
    "start_time": "2022-04-08T12:17:29.795Z"
   },
   {
    "duration": 20,
    "start_time": "2022-04-08T12:17:35.398Z"
   },
   {
    "duration": 27,
    "start_time": "2022-04-08T12:17:40.360Z"
   },
   {
    "duration": 17,
    "start_time": "2022-04-08T12:18:44.591Z"
   },
   {
    "duration": 4,
    "start_time": "2022-04-08T12:18:57.852Z"
   },
   {
    "duration": 16,
    "start_time": "2022-04-08T12:19:10.719Z"
   },
   {
    "duration": 16,
    "start_time": "2022-04-08T12:19:10.958Z"
   },
   {
    "duration": 4,
    "start_time": "2022-04-08T12:19:14.921Z"
   },
   {
    "duration": 17,
    "start_time": "2022-04-08T12:19:21.692Z"
   },
   {
    "duration": 5,
    "start_time": "2022-04-08T12:19:31.872Z"
   },
   {
    "duration": 47,
    "start_time": "2022-04-08T12:24:46.488Z"
   },
   {
    "duration": 1962,
    "start_time": "2022-04-08T12:24:57.330Z"
   },
   {
    "duration": 908,
    "start_time": "2022-04-08T12:24:59.295Z"
   },
   {
    "duration": 77,
    "start_time": "2022-04-08T12:25:00.205Z"
   },
   {
    "duration": 80,
    "start_time": "2022-04-08T12:25:00.284Z"
   },
   {
    "duration": 53,
    "start_time": "2022-04-08T12:25:00.366Z"
   },
   {
    "duration": 14,
    "start_time": "2022-04-08T12:25:00.421Z"
   },
   {
    "duration": 7,
    "start_time": "2022-04-08T12:25:00.458Z"
   },
   {
    "duration": 10,
    "start_time": "2022-04-08T12:25:00.467Z"
   },
   {
    "duration": 17,
    "start_time": "2022-04-08T12:25:00.479Z"
   },
   {
    "duration": 9,
    "start_time": "2022-04-08T12:25:00.499Z"
   },
   {
    "duration": 22,
    "start_time": "2022-04-08T12:25:00.510Z"
   },
   {
    "duration": 32,
    "start_time": "2022-04-08T12:25:00.533Z"
   },
   {
    "duration": 245,
    "start_time": "2022-04-08T12:25:00.566Z"
   },
   {
    "duration": 11,
    "start_time": "2022-04-08T12:25:00.813Z"
   },
   {
    "duration": 315,
    "start_time": "2022-04-08T12:25:00.825Z"
   },
   {
    "duration": 17,
    "start_time": "2022-04-08T12:25:01.141Z"
   },
   {
    "duration": 400,
    "start_time": "2022-04-08T12:25:01.160Z"
   },
   {
    "duration": 11,
    "start_time": "2022-04-08T12:25:01.561Z"
   },
   {
    "duration": 322,
    "start_time": "2022-04-08T12:25:01.574Z"
   },
   {
    "duration": 209,
    "start_time": "2022-04-08T12:25:01.898Z"
   },
   {
    "duration": 6,
    "start_time": "2022-04-08T12:25:02.109Z"
   },
   {
    "duration": 31,
    "start_time": "2022-04-08T12:25:02.117Z"
   },
   {
    "duration": 456,
    "start_time": "2022-04-08T12:25:02.150Z"
   },
   {
    "duration": 4,
    "start_time": "2022-04-08T12:25:02.608Z"
   },
   {
    "duration": 479,
    "start_time": "2022-04-08T12:25:02.614Z"
   },
   {
    "duration": 4,
    "start_time": "2022-04-08T12:25:03.095Z"
   },
   {
    "duration": 356,
    "start_time": "2022-04-08T12:25:03.101Z"
   },
   {
    "duration": 4,
    "start_time": "2022-04-08T12:25:03.460Z"
   },
   {
    "duration": 21,
    "start_time": "2022-04-08T12:25:03.466Z"
   },
   {
    "duration": 41,
    "start_time": "2022-04-08T12:25:03.489Z"
   },
   {
    "duration": 15,
    "start_time": "2022-04-08T12:25:03.532Z"
   },
   {
    "duration": 23,
    "start_time": "2022-04-08T12:25:03.549Z"
   },
   {
    "duration": 42,
    "start_time": "2022-04-08T12:25:03.573Z"
   },
   {
    "duration": 3942,
    "start_time": "2022-04-08T12:25:03.616Z"
   },
   {
    "duration": 2001,
    "start_time": "2022-04-08T12:25:07.560Z"
   },
   {
    "duration": 15,
    "start_time": "2022-04-08T12:25:09.563Z"
   },
   {
    "duration": 6,
    "start_time": "2022-04-08T13:01:09.162Z"
   },
   {
    "duration": 3461,
    "start_time": "2022-04-08T13:04:12.011Z"
   },
   {
    "duration": 3385,
    "start_time": "2022-04-08T13:04:37.669Z"
   },
   {
    "duration": 105,
    "start_time": "2022-04-08T13:05:05.883Z"
   },
   {
    "duration": 11,
    "start_time": "2022-04-08T13:05:11.253Z"
   },
   {
    "duration": 13,
    "start_time": "2022-04-08T13:05:13.197Z"
   },
   {
    "duration": 3377,
    "start_time": "2022-04-08T13:05:35.913Z"
   },
   {
    "duration": 1218,
    "start_time": "2022-04-08T13:05:42.051Z"
   },
   {
    "duration": 7590,
    "start_time": "2022-04-08T13:08:36.590Z"
   },
   {
    "duration": 109442,
    "start_time": "2022-04-08T13:09:01.928Z"
   },
   {
    "duration": 655,
    "start_time": "2022-04-08T13:15:30.981Z"
   },
   {
    "duration": 646,
    "start_time": "2022-04-08T13:16:28.973Z"
   },
   {
    "duration": 3387,
    "start_time": "2022-04-08T13:17:49.699Z"
   },
   {
    "duration": 11,
    "start_time": "2022-04-08T13:28:12.049Z"
   },
   {
    "duration": 18,
    "start_time": "2022-04-08T13:28:19.192Z"
   },
   {
    "duration": 29,
    "start_time": "2022-04-08T13:28:26.787Z"
   },
   {
    "duration": 18,
    "start_time": "2022-04-08T13:28:30.901Z"
   },
   {
    "duration": 676,
    "start_time": "2022-04-08T13:29:01.667Z"
   },
   {
    "duration": 13,
    "start_time": "2022-04-08T13:29:06.819Z"
   },
   {
    "duration": 13,
    "start_time": "2022-04-08T13:30:13.691Z"
   },
   {
    "duration": 14,
    "start_time": "2022-04-08T13:30:13.839Z"
   },
   {
    "duration": 11,
    "start_time": "2022-04-08T13:30:25.940Z"
   },
   {
    "duration": 1530,
    "start_time": "2022-04-08T13:30:36.759Z"
   },
   {
    "duration": 637,
    "start_time": "2022-04-08T13:30:38.291Z"
   },
   {
    "duration": 56,
    "start_time": "2022-04-08T13:30:38.930Z"
   },
   {
    "duration": 38,
    "start_time": "2022-04-08T13:30:38.988Z"
   },
   {
    "duration": 56,
    "start_time": "2022-04-08T13:30:39.029Z"
   },
   {
    "duration": 11,
    "start_time": "2022-04-08T13:30:39.087Z"
   },
   {
    "duration": 6,
    "start_time": "2022-04-08T13:30:39.099Z"
   },
   {
    "duration": 4,
    "start_time": "2022-04-08T13:30:39.107Z"
   },
   {
    "duration": 5,
    "start_time": "2022-04-08T13:30:39.113Z"
   },
   {
    "duration": 5,
    "start_time": "2022-04-08T13:30:39.119Z"
   },
   {
    "duration": 33,
    "start_time": "2022-04-08T13:30:39.126Z"
   },
   {
    "duration": 14,
    "start_time": "2022-04-08T13:30:39.161Z"
   },
   {
    "duration": 247,
    "start_time": "2022-04-08T13:30:39.177Z"
   },
   {
    "duration": 11,
    "start_time": "2022-04-08T13:30:39.427Z"
   },
   {
    "duration": 325,
    "start_time": "2022-04-08T13:30:39.440Z"
   },
   {
    "duration": 11,
    "start_time": "2022-04-08T13:30:39.766Z"
   },
   {
    "duration": 394,
    "start_time": "2022-04-08T13:30:39.778Z"
   },
   {
    "duration": 11,
    "start_time": "2022-04-08T13:30:40.173Z"
   },
   {
    "duration": 319,
    "start_time": "2022-04-08T13:30:40.185Z"
   },
   {
    "duration": 208,
    "start_time": "2022-04-08T13:30:40.506Z"
   },
   {
    "duration": 5,
    "start_time": "2022-04-08T13:30:40.716Z"
   },
   {
    "duration": 11,
    "start_time": "2022-04-08T13:30:40.723Z"
   },
   {
    "duration": 376,
    "start_time": "2022-04-08T13:30:40.735Z"
   },
   {
    "duration": 5,
    "start_time": "2022-04-08T13:30:41.112Z"
   },
   {
    "duration": 480,
    "start_time": "2022-04-08T13:30:41.119Z"
   },
   {
    "duration": 5,
    "start_time": "2022-04-08T13:30:41.601Z"
   },
   {
    "duration": 358,
    "start_time": "2022-04-08T13:30:41.607Z"
   },
   {
    "duration": 4,
    "start_time": "2022-04-08T13:30:41.967Z"
   },
   {
    "duration": 19,
    "start_time": "2022-04-08T13:30:41.972Z"
   },
   {
    "duration": 34,
    "start_time": "2022-04-08T13:30:41.993Z"
   },
   {
    "duration": 17,
    "start_time": "2022-04-08T13:30:42.029Z"
   },
   {
    "duration": 13,
    "start_time": "2022-04-08T13:30:42.048Z"
   },
   {
    "duration": 21,
    "start_time": "2022-04-08T13:30:42.063Z"
   },
   {
    "duration": 3317,
    "start_time": "2022-04-08T13:30:42.086Z"
   },
   {
    "duration": 46447,
    "start_time": "2022-04-08T13:30:45.405Z"
   },
   {
    "duration": 93,
    "start_time": "2022-04-08T13:31:33.078Z"
   },
   {
    "duration": 10,
    "start_time": "2022-04-08T13:31:33.173Z"
   },
   {
    "duration": 77,
    "start_time": "2022-04-08T13:31:33.185Z"
   },
   {
    "duration": 1699,
    "start_time": "2022-04-08T13:31:33.265Z"
   },
   {
    "duration": 1869,
    "start_time": "2022-04-08T15:36:09.336Z"
   },
   {
    "duration": 621,
    "start_time": "2022-04-08T15:36:11.207Z"
   },
   {
    "duration": 54,
    "start_time": "2022-04-08T15:36:11.831Z"
   },
   {
    "duration": 40,
    "start_time": "2022-04-08T15:36:11.888Z"
   },
   {
    "duration": 55,
    "start_time": "2022-04-08T15:36:11.930Z"
   },
   {
    "duration": 10,
    "start_time": "2022-04-08T15:36:11.987Z"
   },
   {
    "duration": 5,
    "start_time": "2022-04-08T15:36:11.999Z"
   },
   {
    "duration": 6,
    "start_time": "2022-04-08T15:36:12.005Z"
   },
   {
    "duration": 5,
    "start_time": "2022-04-08T15:36:12.013Z"
   },
   {
    "duration": 3,
    "start_time": "2022-04-08T15:36:12.021Z"
   },
   {
    "duration": 33,
    "start_time": "2022-04-08T15:36:12.026Z"
   },
   {
    "duration": 13,
    "start_time": "2022-04-08T15:36:12.061Z"
   },
   {
    "duration": 252,
    "start_time": "2022-04-08T15:36:12.076Z"
   },
   {
    "duration": 11,
    "start_time": "2022-04-08T15:36:12.330Z"
   },
   {
    "duration": 326,
    "start_time": "2022-04-08T15:36:12.343Z"
   },
   {
    "duration": 11,
    "start_time": "2022-04-08T15:36:12.670Z"
   },
   {
    "duration": 393,
    "start_time": "2022-04-08T15:36:12.683Z"
   },
   {
    "duration": 11,
    "start_time": "2022-04-08T15:36:13.078Z"
   },
   {
    "duration": 406,
    "start_time": "2022-04-08T15:36:13.090Z"
   },
   {
    "duration": 703,
    "start_time": "2022-04-08T15:36:13.498Z"
   },
   {
    "duration": 7,
    "start_time": "2022-04-08T15:36:14.259Z"
   },
   {
    "duration": 32,
    "start_time": "2022-04-08T15:36:14.268Z"
   },
   {
    "duration": 775,
    "start_time": "2022-04-08T15:36:14.302Z"
   },
   {
    "duration": 6,
    "start_time": "2022-04-08T15:36:15.080Z"
   },
   {
    "duration": 475,
    "start_time": "2022-04-08T15:36:15.087Z"
   },
   {
    "duration": 4,
    "start_time": "2022-04-08T15:36:15.564Z"
   },
   {
    "duration": 440,
    "start_time": "2022-04-08T15:36:15.570Z"
   },
   {
    "duration": 5,
    "start_time": "2022-04-08T15:36:16.016Z"
   },
   {
    "duration": 10,
    "start_time": "2022-04-08T15:36:16.024Z"
   },
   {
    "duration": 34,
    "start_time": "2022-04-08T15:36:16.036Z"
   },
   {
    "duration": 18,
    "start_time": "2022-04-08T15:36:16.072Z"
   },
   {
    "duration": 6,
    "start_time": "2022-04-08T15:36:16.092Z"
   },
   {
    "duration": 11,
    "start_time": "2022-04-08T15:36:16.100Z"
   },
   {
    "duration": 3576,
    "start_time": "2022-04-08T15:36:16.112Z"
   },
   {
    "duration": 1879,
    "start_time": "2022-04-08T15:36:19.690Z"
   },
   {
    "duration": 89,
    "start_time": "2022-04-08T15:36:21.571Z"
   },
   {
    "duration": 11,
    "start_time": "2022-04-08T15:36:21.662Z"
   },
   {
    "duration": 17,
    "start_time": "2022-04-08T15:36:21.674Z"
   },
   {
    "duration": 9,
    "start_time": "2022-04-08T15:37:56.155Z"
   },
   {
    "duration": 9,
    "start_time": "2022-04-08T15:39:15.741Z"
   },
   {
    "duration": 9,
    "start_time": "2022-04-08T15:39:17.612Z"
   },
   {
    "duration": 14,
    "start_time": "2022-04-08T15:39:18.060Z"
   },
   {
    "duration": 4,
    "start_time": "2022-04-08T15:39:56.283Z"
   },
   {
    "duration": 17,
    "start_time": "2022-04-08T15:39:58.721Z"
   },
   {
    "duration": 4,
    "start_time": "2022-04-08T15:41:10.487Z"
   },
   {
    "duration": 12,
    "start_time": "2022-04-08T15:41:57.195Z"
   },
   {
    "duration": 11,
    "start_time": "2022-04-08T15:41:58.883Z"
   },
   {
    "duration": 13,
    "start_time": "2022-04-08T15:41:58.955Z"
   },
   {
    "duration": 17,
    "start_time": "2022-04-08T16:25:24.055Z"
   },
   {
    "duration": 4,
    "start_time": "2022-04-08T16:27:04.393Z"
   },
   {
    "duration": 11,
    "start_time": "2022-04-08T16:28:33.826Z"
   },
   {
    "duration": 15,
    "start_time": "2022-04-08T16:28:34.073Z"
   },
   {
    "duration": 1602,
    "start_time": "2022-04-08T16:33:00.465Z"
   },
   {
    "duration": 15,
    "start_time": "2022-04-08T16:36:01.445Z"
   },
   {
    "duration": 954,
    "start_time": "2022-04-08T16:37:26.824Z"
   },
   {
    "duration": 3,
    "start_time": "2022-04-08T16:37:56.372Z"
   },
   {
    "duration": 629,
    "start_time": "2022-04-08T16:38:02.397Z"
   },
   {
    "duration": 193,
    "start_time": "2022-04-08T16:38:26.167Z"
   },
   {
    "duration": 633,
    "start_time": "2022-04-08T16:40:17.046Z"
   },
   {
    "duration": 3377,
    "start_time": "2022-04-08T16:40:22.244Z"
   },
   {
    "duration": 16,
    "start_time": "2022-04-08T16:45:23.976Z"
   },
   {
    "duration": 8,
    "start_time": "2022-04-08T16:45:43.714Z"
   },
   {
    "duration": 23,
    "start_time": "2022-04-08T16:45:48.798Z"
   },
   {
    "duration": 12,
    "start_time": "2022-04-08T16:45:52.292Z"
   },
   {
    "duration": 1859,
    "start_time": "2022-04-08T16:46:06.445Z"
   },
   {
    "duration": 859,
    "start_time": "2022-04-08T16:46:08.357Z"
   },
   {
    "duration": 52,
    "start_time": "2022-04-08T16:46:09.218Z"
   },
   {
    "duration": 36,
    "start_time": "2022-04-08T16:46:09.272Z"
   },
   {
    "duration": 55,
    "start_time": "2022-04-08T16:46:09.310Z"
   },
   {
    "duration": 15,
    "start_time": "2022-04-08T16:46:09.367Z"
   },
   {
    "duration": 15,
    "start_time": "2022-04-08T16:46:09.384Z"
   },
   {
    "duration": 6,
    "start_time": "2022-04-08T16:46:09.401Z"
   },
   {
    "duration": 10,
    "start_time": "2022-04-08T16:46:09.409Z"
   },
   {
    "duration": 18,
    "start_time": "2022-04-08T16:46:09.421Z"
   },
   {
    "duration": 16,
    "start_time": "2022-04-08T16:46:09.441Z"
   },
   {
    "duration": 34,
    "start_time": "2022-04-08T16:46:09.458Z"
   },
   {
    "duration": 246,
    "start_time": "2022-04-08T16:46:09.493Z"
   },
   {
    "duration": 20,
    "start_time": "2022-04-08T16:46:09.742Z"
   },
   {
    "duration": 316,
    "start_time": "2022-04-08T16:46:09.764Z"
   },
   {
    "duration": 11,
    "start_time": "2022-04-08T16:46:10.082Z"
   },
   {
    "duration": 396,
    "start_time": "2022-04-08T16:46:10.094Z"
   },
   {
    "duration": 11,
    "start_time": "2022-04-08T16:46:10.492Z"
   },
   {
    "duration": 310,
    "start_time": "2022-04-08T16:46:10.505Z"
   },
   {
    "duration": 203,
    "start_time": "2022-04-08T16:46:10.817Z"
   },
   {
    "duration": 6,
    "start_time": "2022-04-08T16:46:11.022Z"
   },
   {
    "duration": 16,
    "start_time": "2022-04-08T16:46:11.029Z"
   },
   {
    "duration": 341,
    "start_time": "2022-04-08T16:46:11.057Z"
   },
   {
    "duration": 4,
    "start_time": "2022-04-08T16:46:11.400Z"
   },
   {
    "duration": 456,
    "start_time": "2022-04-08T16:46:11.406Z"
   },
   {
    "duration": 5,
    "start_time": "2022-04-08T16:46:11.864Z"
   },
   {
    "duration": 361,
    "start_time": "2022-04-08T16:46:11.870Z"
   },
   {
    "duration": 4,
    "start_time": "2022-04-08T16:46:12.233Z"
   },
   {
    "duration": 19,
    "start_time": "2022-04-08T16:46:12.239Z"
   },
   {
    "duration": 29,
    "start_time": "2022-04-08T16:46:12.260Z"
   },
   {
    "duration": 15,
    "start_time": "2022-04-08T16:46:12.291Z"
   },
   {
    "duration": 15,
    "start_time": "2022-04-08T16:46:12.308Z"
   },
   {
    "duration": 19,
    "start_time": "2022-04-08T16:46:12.325Z"
   },
   {
    "duration": 14,
    "start_time": "2022-04-08T16:46:12.345Z"
   },
   {
    "duration": 14,
    "start_time": "2022-04-08T16:46:12.360Z"
   },
   {
    "duration": 3296,
    "start_time": "2022-04-08T16:46:12.376Z"
   },
   {
    "duration": 636,
    "start_time": "2022-04-08T16:46:15.674Z"
   },
   {
    "duration": 1500,
    "start_time": "2022-04-09T10:23:09.660Z"
   },
   {
    "duration": 659,
    "start_time": "2022-04-09T10:23:11.162Z"
   },
   {
    "duration": 50,
    "start_time": "2022-04-09T10:23:11.823Z"
   },
   {
    "duration": 66,
    "start_time": "2022-04-09T10:23:11.876Z"
   },
   {
    "duration": 39,
    "start_time": "2022-04-09T10:23:11.944Z"
   },
   {
    "duration": 31,
    "start_time": "2022-04-09T10:23:11.986Z"
   },
   {
    "duration": 6,
    "start_time": "2022-04-09T10:23:12.019Z"
   },
   {
    "duration": 15,
    "start_time": "2022-04-09T10:23:12.027Z"
   },
   {
    "duration": 5,
    "start_time": "2022-04-09T10:23:12.044Z"
   },
   {
    "duration": 7,
    "start_time": "2022-04-09T10:23:12.053Z"
   },
   {
    "duration": 8,
    "start_time": "2022-04-09T10:23:12.061Z"
   },
   {
    "duration": 39,
    "start_time": "2022-04-09T10:23:12.071Z"
   },
   {
    "duration": 257,
    "start_time": "2022-04-09T10:23:12.112Z"
   },
   {
    "duration": 13,
    "start_time": "2022-04-09T10:23:12.371Z"
   },
   {
    "duration": 358,
    "start_time": "2022-04-09T10:23:12.386Z"
   },
   {
    "duration": 11,
    "start_time": "2022-04-09T10:23:12.746Z"
   },
   {
    "duration": 427,
    "start_time": "2022-04-09T10:23:12.759Z"
   },
   {
    "duration": 20,
    "start_time": "2022-04-09T10:23:13.188Z"
   },
   {
    "duration": 352,
    "start_time": "2022-04-09T10:23:13.211Z"
   },
   {
    "duration": 221,
    "start_time": "2022-04-09T10:23:13.565Z"
   },
   {
    "duration": 6,
    "start_time": "2022-04-09T10:23:13.788Z"
   },
   {
    "duration": 10,
    "start_time": "2022-04-09T10:23:13.809Z"
   },
   {
    "duration": 409,
    "start_time": "2022-04-09T10:23:13.821Z"
   },
   {
    "duration": 4,
    "start_time": "2022-04-09T10:23:14.233Z"
   },
   {
    "duration": 515,
    "start_time": "2022-04-09T10:23:14.239Z"
   },
   {
    "duration": 6,
    "start_time": "2022-04-09T10:23:14.756Z"
   },
   {
    "duration": 410,
    "start_time": "2022-04-09T10:23:14.763Z"
   },
   {
    "duration": 5,
    "start_time": "2022-04-09T10:23:15.177Z"
   },
   {
    "duration": 5,
    "start_time": "2022-04-09T10:23:15.183Z"
   },
   {
    "duration": 37,
    "start_time": "2022-04-09T10:23:15.190Z"
   },
   {
    "duration": 19,
    "start_time": "2022-04-09T10:23:15.229Z"
   },
   {
    "duration": 4,
    "start_time": "2022-04-09T10:23:15.250Z"
   },
   {
    "duration": 12,
    "start_time": "2022-04-09T10:23:15.256Z"
   },
   {
    "duration": 44,
    "start_time": "2022-04-09T10:23:15.269Z"
   },
   {
    "duration": 15,
    "start_time": "2022-04-09T10:23:15.315Z"
   },
   {
    "duration": 3439,
    "start_time": "2022-04-09T10:23:15.331Z"
   },
   {
    "duration": 666,
    "start_time": "2022-04-09T10:23:18.772Z"
   },
   {
    "duration": 109410,
    "start_time": "2022-04-09T10:23:19.440Z"
   },
   {
    "duration": 163,
    "start_time": "2022-04-09T10:25:08.851Z"
   },
   {
    "duration": 197,
    "start_time": "2022-04-09T10:25:09.016Z"
   },
   {
    "duration": 4,
    "start_time": "2022-04-09T10:25:09.215Z"
   },
   {
    "duration": 11,
    "start_time": "2022-04-09T10:25:09.220Z"
   },
   {
    "duration": 13,
    "start_time": "2022-04-09T10:25:09.232Z"
   },
   {
    "duration": 9,
    "start_time": "2022-04-09T10:25:09.247Z"
   },
   {
    "duration": 211,
    "start_time": "2022-04-09T12:09:29.751Z"
   },
   {
    "duration": 1595,
    "start_time": "2022-04-09T12:09:41.994Z"
   },
   {
    "duration": 614,
    "start_time": "2022-04-09T12:09:43.591Z"
   },
   {
    "duration": 42,
    "start_time": "2022-04-09T12:09:44.207Z"
   },
   {
    "duration": 51,
    "start_time": "2022-04-09T12:09:44.250Z"
   },
   {
    "duration": 35,
    "start_time": "2022-04-09T12:09:44.303Z"
   },
   {
    "duration": 11,
    "start_time": "2022-04-09T12:09:44.340Z"
   },
   {
    "duration": 6,
    "start_time": "2022-04-09T12:09:44.352Z"
   },
   {
    "duration": 3,
    "start_time": "2022-04-09T12:09:44.359Z"
   },
   {
    "duration": 5,
    "start_time": "2022-04-09T12:09:44.364Z"
   },
   {
    "duration": 3,
    "start_time": "2022-04-09T12:09:44.403Z"
   },
   {
    "duration": 4,
    "start_time": "2022-04-09T12:09:44.408Z"
   },
   {
    "duration": 14,
    "start_time": "2022-04-09T12:09:44.414Z"
   },
   {
    "duration": 252,
    "start_time": "2022-04-09T12:09:44.430Z"
   },
   {
    "duration": 18,
    "start_time": "2022-04-09T12:09:44.684Z"
   },
   {
    "duration": 320,
    "start_time": "2022-04-09T12:09:44.704Z"
   },
   {
    "duration": 11,
    "start_time": "2022-04-09T12:09:45.026Z"
   },
   {
    "duration": 371,
    "start_time": "2022-04-09T12:09:45.039Z"
   },
   {
    "duration": 12,
    "start_time": "2022-04-09T12:09:45.412Z"
   },
   {
    "duration": 322,
    "start_time": "2022-04-09T12:09:45.425Z"
   },
   {
    "duration": 195,
    "start_time": "2022-04-09T12:09:45.750Z"
   },
   {
    "duration": 6,
    "start_time": "2022-04-09T12:09:45.947Z"
   },
   {
    "duration": 9,
    "start_time": "2022-04-09T12:09:45.954Z"
   },
   {
    "duration": 364,
    "start_time": "2022-04-09T12:09:45.964Z"
   },
   {
    "duration": 4,
    "start_time": "2022-04-09T12:09:46.329Z"
   },
   {
    "duration": 424,
    "start_time": "2022-04-09T12:09:46.335Z"
   },
   {
    "duration": 4,
    "start_time": "2022-04-09T12:09:46.760Z"
   },
   {
    "duration": 346,
    "start_time": "2022-04-09T12:09:46.766Z"
   },
   {
    "duration": 3,
    "start_time": "2022-04-09T12:09:47.116Z"
   },
   {
    "duration": 5,
    "start_time": "2022-04-09T12:09:47.120Z"
   },
   {
    "duration": 18,
    "start_time": "2022-04-09T12:09:47.127Z"
   },
   {
    "duration": 14,
    "start_time": "2022-04-09T12:09:47.147Z"
   },
   {
    "duration": 4,
    "start_time": "2022-04-09T12:09:47.162Z"
   },
   {
    "duration": 39,
    "start_time": "2022-04-09T12:09:47.167Z"
   },
   {
    "duration": 11,
    "start_time": "2022-04-09T12:09:47.208Z"
   },
   {
    "duration": 10,
    "start_time": "2022-04-09T12:09:47.220Z"
   },
   {
    "duration": 3418,
    "start_time": "2022-04-09T12:09:47.232Z"
   },
   {
    "duration": 110579,
    "start_time": "2022-04-09T12:09:50.651Z"
   },
   {
    "duration": 273,
    "start_time": "2022-04-09T12:11:41.232Z"
   },
   {
    "duration": 99,
    "start_time": "2022-04-09T12:11:41.508Z"
   },
   {
    "duration": 4,
    "start_time": "2022-04-09T12:11:41.608Z"
   },
   {
    "duration": 16,
    "start_time": "2022-04-09T12:11:41.613Z"
   },
   {
    "duration": 15,
    "start_time": "2022-04-09T12:11:41.631Z"
   },
   {
    "duration": 58,
    "start_time": "2022-04-09T12:11:41.648Z"
   },
   {
    "duration": 3541,
    "start_time": "2022-04-09T12:19:32.854Z"
   },
   {
    "duration": 15,
    "start_time": "2022-04-09T12:22:25.816Z"
   },
   {
    "duration": 18,
    "start_time": "2022-04-09T12:22:31.755Z"
   },
   {
    "duration": 5,
    "start_time": "2022-04-09T12:25:11.314Z"
   },
   {
    "duration": 5,
    "start_time": "2022-04-09T12:25:14.954Z"
   },
   {
    "duration": 27,
    "start_time": "2022-04-09T12:28:46.703Z"
   },
   {
    "duration": 23,
    "start_time": "2022-04-09T12:29:06.514Z"
   },
   {
    "duration": 18,
    "start_time": "2022-04-09T12:30:46.016Z"
   },
   {
    "duration": 9,
    "start_time": "2022-04-09T12:31:16.414Z"
   },
   {
    "duration": 9,
    "start_time": "2022-04-09T12:31:56.935Z"
   },
   {
    "duration": 5,
    "start_time": "2022-04-09T12:32:06.497Z"
   },
   {
    "duration": 5,
    "start_time": "2022-04-09T12:32:13.335Z"
   },
   {
    "duration": 3,
    "start_time": "2022-04-09T12:32:18.168Z"
   },
   {
    "duration": 261,
    "start_time": "2022-04-09T12:56:05.394Z"
   },
   {
    "duration": 10,
    "start_time": "2022-04-09T13:00:29.128Z"
   },
   {
    "duration": 4,
    "start_time": "2022-04-09T13:00:49.673Z"
   },
   {
    "duration": 3,
    "start_time": "2022-04-09T13:05:09.815Z"
   },
   {
    "duration": 7916,
    "start_time": "2022-04-09T13:05:10.070Z"
   },
   {
    "duration": 4,
    "start_time": "2022-04-09T13:08:10.275Z"
   },
   {
    "duration": 7755,
    "start_time": "2022-04-09T13:08:33.689Z"
   },
   {
    "duration": 7178,
    "start_time": "2022-04-09T13:11:22.514Z"
   },
   {
    "duration": 163,
    "start_time": "2022-04-09T13:11:44.497Z"
   },
   {
    "duration": 190,
    "start_time": "2022-04-09T13:11:49.287Z"
   },
   {
    "duration": 7237,
    "start_time": "2022-04-09T13:12:01.980Z"
   },
   {
    "duration": 6982,
    "start_time": "2022-04-09T13:12:35.294Z"
   },
   {
    "duration": 7232,
    "start_time": "2022-04-09T13:12:45.875Z"
   },
   {
    "duration": 6732,
    "start_time": "2022-04-09T13:14:25.374Z"
   },
   {
    "duration": 2333,
    "start_time": "2022-04-09T13:15:31.967Z"
   },
   {
    "duration": 5,
    "start_time": "2022-04-09T13:16:10.993Z"
   },
   {
    "duration": 20334,
    "start_time": "2022-04-09T13:16:50.574Z"
   },
   {
    "duration": 1548,
    "start_time": "2022-04-09T13:19:33.781Z"
   },
   {
    "duration": 1276,
    "start_time": "2022-04-09T13:19:35.331Z"
   },
   {
    "duration": 100,
    "start_time": "2022-04-09T13:19:36.609Z"
   },
   {
    "duration": 37,
    "start_time": "2022-04-09T13:19:36.711Z"
   },
   {
    "duration": 82,
    "start_time": "2022-04-09T13:19:36.749Z"
   },
   {
    "duration": 11,
    "start_time": "2022-04-09T13:19:36.833Z"
   },
   {
    "duration": 6,
    "start_time": "2022-04-09T13:19:36.902Z"
   },
   {
    "duration": 4,
    "start_time": "2022-04-09T13:19:36.910Z"
   },
   {
    "duration": 5,
    "start_time": "2022-04-09T13:19:36.916Z"
   },
   {
    "duration": 5,
    "start_time": "2022-04-09T13:19:36.923Z"
   },
   {
    "duration": 9,
    "start_time": "2022-04-09T13:19:36.929Z"
   },
   {
    "duration": 61,
    "start_time": "2022-04-09T13:19:36.940Z"
   },
   {
    "duration": 289,
    "start_time": "2022-04-09T13:19:37.003Z"
   },
   {
    "duration": 11,
    "start_time": "2022-04-09T13:19:37.294Z"
   },
   {
    "duration": 319,
    "start_time": "2022-04-09T13:19:37.307Z"
   },
   {
    "duration": 11,
    "start_time": "2022-04-09T13:19:37.628Z"
   },
   {
    "duration": 413,
    "start_time": "2022-04-09T13:19:37.640Z"
   },
   {
    "duration": 11,
    "start_time": "2022-04-09T13:19:38.054Z"
   },
   {
    "duration": 328,
    "start_time": "2022-04-09T13:19:38.067Z"
   },
   {
    "duration": 218,
    "start_time": "2022-04-09T13:19:38.397Z"
   },
   {
    "duration": 6,
    "start_time": "2022-04-09T13:19:38.618Z"
   },
   {
    "duration": 9,
    "start_time": "2022-04-09T13:19:38.626Z"
   },
   {
    "duration": 378,
    "start_time": "2022-04-09T13:19:38.637Z"
   },
   {
    "duration": 4,
    "start_time": "2022-04-09T13:19:39.017Z"
   },
   {
    "duration": 459,
    "start_time": "2022-04-09T13:19:39.022Z"
   },
   {
    "duration": 4,
    "start_time": "2022-04-09T13:19:39.482Z"
   },
   {
    "duration": 366,
    "start_time": "2022-04-09T13:19:39.488Z"
   },
   {
    "duration": 4,
    "start_time": "2022-04-09T13:19:39.859Z"
   },
   {
    "duration": 4,
    "start_time": "2022-04-09T13:19:39.865Z"
   },
   {
    "duration": 42,
    "start_time": "2022-04-09T13:19:39.871Z"
   },
   {
    "duration": 18,
    "start_time": "2022-04-09T13:19:39.915Z"
   },
   {
    "duration": 17,
    "start_time": "2022-04-09T13:19:39.935Z"
   },
   {
    "duration": 11,
    "start_time": "2022-04-09T13:19:39.954Z"
   },
   {
    "duration": 34,
    "start_time": "2022-04-09T13:19:39.967Z"
   },
   {
    "duration": 6799,
    "start_time": "2022-04-09T13:19:40.003Z"
   },
   {
    "duration": 20123,
    "start_time": "2022-04-09T13:19:46.804Z"
   },
   {
    "duration": 2380,
    "start_time": "2022-04-09T13:20:06.928Z"
   },
   {
    "duration": 195,
    "start_time": "2022-04-09T13:20:09.311Z"
   },
   {
    "duration": 20,
    "start_time": "2022-04-09T13:20:09.508Z"
   },
   {
    "duration": 11,
    "start_time": "2022-04-09T13:20:09.530Z"
   },
   {
    "duration": 22,
    "start_time": "2022-04-09T13:21:22.967Z"
   },
   {
    "duration": 20,
    "start_time": "2022-04-09T13:21:40.559Z"
   },
   {
    "duration": 12,
    "start_time": "2022-04-09T13:23:16.346Z"
   },
   {
    "duration": 1953,
    "start_time": "2022-04-09T13:24:03.950Z"
   },
   {
    "duration": 1459,
    "start_time": "2022-04-09T13:26:47.853Z"
   },
   {
    "duration": 722,
    "start_time": "2022-04-09T13:26:49.314Z"
   },
   {
    "duration": 47,
    "start_time": "2022-04-09T13:26:50.037Z"
   },
   {
    "duration": 50,
    "start_time": "2022-04-09T13:26:50.087Z"
   },
   {
    "duration": 35,
    "start_time": "2022-04-09T13:26:50.139Z"
   },
   {
    "duration": 35,
    "start_time": "2022-04-09T13:26:50.176Z"
   },
   {
    "duration": 6,
    "start_time": "2022-04-09T13:26:50.212Z"
   },
   {
    "duration": 3,
    "start_time": "2022-04-09T13:26:50.220Z"
   },
   {
    "duration": 4,
    "start_time": "2022-04-09T13:26:50.225Z"
   },
   {
    "duration": 3,
    "start_time": "2022-04-09T13:26:50.232Z"
   },
   {
    "duration": 6,
    "start_time": "2022-04-09T13:26:50.236Z"
   },
   {
    "duration": 19,
    "start_time": "2022-04-09T13:26:50.243Z"
   },
   {
    "duration": 286,
    "start_time": "2022-04-09T13:26:50.263Z"
   },
   {
    "duration": 11,
    "start_time": "2022-04-09T13:26:50.551Z"
   },
   {
    "duration": 324,
    "start_time": "2022-04-09T13:26:50.564Z"
   },
   {
    "duration": 16,
    "start_time": "2022-04-09T13:26:50.891Z"
   },
   {
    "duration": 384,
    "start_time": "2022-04-09T13:26:50.909Z"
   },
   {
    "duration": 15,
    "start_time": "2022-04-09T13:26:51.295Z"
   },
   {
    "duration": 318,
    "start_time": "2022-04-09T13:26:51.312Z"
   },
   {
    "duration": 204,
    "start_time": "2022-04-09T13:26:51.631Z"
   },
   {
    "duration": 6,
    "start_time": "2022-04-09T13:26:51.836Z"
   },
   {
    "duration": 9,
    "start_time": "2022-04-09T13:26:51.843Z"
   },
   {
    "duration": 388,
    "start_time": "2022-04-09T13:26:51.854Z"
   },
   {
    "duration": 4,
    "start_time": "2022-04-09T13:26:52.244Z"
   },
   {
    "duration": 455,
    "start_time": "2022-04-09T13:26:52.250Z"
   },
   {
    "duration": 4,
    "start_time": "2022-04-09T13:26:52.707Z"
   },
   {
    "duration": 344,
    "start_time": "2022-04-09T13:26:52.712Z"
   },
   {
    "duration": 4,
    "start_time": "2022-04-09T13:26:53.059Z"
   },
   {
    "duration": 5,
    "start_time": "2022-04-09T13:26:53.065Z"
   },
   {
    "duration": 37,
    "start_time": "2022-04-09T13:26:53.071Z"
   },
   {
    "duration": 17,
    "start_time": "2022-04-09T13:26:53.110Z"
   },
   {
    "duration": 16,
    "start_time": "2022-04-09T13:26:53.128Z"
   },
   {
    "duration": 9,
    "start_time": "2022-04-09T13:26:53.145Z"
   },
   {
    "duration": 5,
    "start_time": "2022-04-09T13:26:53.155Z"
   },
   {
    "duration": 7206,
    "start_time": "2022-04-09T13:26:53.161Z"
   },
   {
    "duration": 20917,
    "start_time": "2022-04-09T13:27:00.369Z"
   },
   {
    "duration": 3121,
    "start_time": "2022-04-09T13:27:21.288Z"
   },
   {
    "duration": 23,
    "start_time": "2022-04-09T13:27:24.500Z"
   },
   {
    "duration": 21,
    "start_time": "2022-04-09T13:27:24.524Z"
   },
   {
    "duration": 12,
    "start_time": "2022-04-09T13:27:24.546Z"
   },
   {
    "duration": 4544,
    "start_time": "2022-04-09T13:27:24.559Z"
   },
   {
    "duration": 42,
    "start_time": "2022-04-10T11:02:12.749Z"
   },
   {
    "duration": 1401,
    "start_time": "2022-04-10T11:02:18.809Z"
   },
   {
    "duration": 559,
    "start_time": "2022-04-10T11:02:20.212Z"
   },
   {
    "duration": 44,
    "start_time": "2022-04-10T11:02:20.773Z"
   },
   {
    "duration": 60,
    "start_time": "2022-04-10T11:02:20.819Z"
   },
   {
    "duration": 31,
    "start_time": "2022-04-10T11:02:20.881Z"
   },
   {
    "duration": 11,
    "start_time": "2022-04-10T11:02:20.914Z"
   },
   {
    "duration": 5,
    "start_time": "2022-04-10T11:02:20.926Z"
   },
   {
    "duration": 4,
    "start_time": "2022-04-10T11:02:20.933Z"
   },
   {
    "duration": 5,
    "start_time": "2022-04-10T11:02:20.939Z"
   },
   {
    "duration": 11,
    "start_time": "2022-04-10T11:02:20.972Z"
   },
   {
    "duration": 11,
    "start_time": "2022-04-10T11:02:20.985Z"
   },
   {
    "duration": 19,
    "start_time": "2022-04-10T11:02:20.998Z"
   },
   {
    "duration": 229,
    "start_time": "2022-04-10T11:02:21.018Z"
   },
   {
    "duration": 11,
    "start_time": "2022-04-10T11:02:21.248Z"
   },
   {
    "duration": 304,
    "start_time": "2022-04-10T11:02:21.261Z"
   },
   {
    "duration": 11,
    "start_time": "2022-04-10T11:02:21.567Z"
   },
   {
    "duration": 350,
    "start_time": "2022-04-10T11:02:21.579Z"
   },
   {
    "duration": 10,
    "start_time": "2022-04-10T11:02:21.930Z"
   },
   {
    "duration": 272,
    "start_time": "2022-04-10T11:02:21.941Z"
   },
   {
    "duration": 185,
    "start_time": "2022-04-10T11:02:22.214Z"
   },
   {
    "duration": 5,
    "start_time": "2022-04-10T11:02:22.400Z"
   },
   {
    "duration": 11,
    "start_time": "2022-04-10T11:02:22.406Z"
   },
   {
    "duration": 164,
    "start_time": "2022-04-10T11:02:22.418Z"
   },
   {
    "duration": 192,
    "start_time": "2022-04-10T11:12:05.603Z"
   },
   {
    "duration": 1271,
    "start_time": "2022-04-10T11:12:15.695Z"
   },
   {
    "duration": 528,
    "start_time": "2022-04-10T11:12:16.968Z"
   },
   {
    "duration": 40,
    "start_time": "2022-04-10T11:12:17.498Z"
   },
   {
    "duration": 45,
    "start_time": "2022-04-10T11:12:17.540Z"
   },
   {
    "duration": 28,
    "start_time": "2022-04-10T11:12:17.586Z"
   },
   {
    "duration": 8,
    "start_time": "2022-04-10T11:12:17.615Z"
   },
   {
    "duration": 12,
    "start_time": "2022-04-10T11:12:17.624Z"
   },
   {
    "duration": 8,
    "start_time": "2022-04-10T11:12:17.637Z"
   },
   {
    "duration": 20,
    "start_time": "2022-04-10T11:12:17.646Z"
   },
   {
    "duration": 8,
    "start_time": "2022-04-10T11:12:17.668Z"
   },
   {
    "duration": 20,
    "start_time": "2022-04-10T11:12:17.678Z"
   },
   {
    "duration": 21,
    "start_time": "2022-04-10T11:12:17.699Z"
   },
   {
    "duration": 213,
    "start_time": "2022-04-10T11:12:17.721Z"
   },
   {
    "duration": 10,
    "start_time": "2022-04-10T11:12:17.936Z"
   },
   {
    "duration": 444,
    "start_time": "2022-04-10T11:12:17.947Z"
   },
   {
    "duration": 10,
    "start_time": "2022-04-10T11:12:18.393Z"
   },
   {
    "duration": 687,
    "start_time": "2022-04-10T11:12:18.404Z"
   },
   {
    "duration": 10,
    "start_time": "2022-04-10T11:12:19.093Z"
   },
   {
    "duration": 502,
    "start_time": "2022-04-10T11:12:19.104Z"
   },
   {
    "duration": 180,
    "start_time": "2022-04-10T11:12:19.608Z"
   },
   {
    "duration": 5,
    "start_time": "2022-04-10T11:12:19.790Z"
   },
   {
    "duration": 9,
    "start_time": "2022-04-10T11:12:19.796Z"
   },
   {
    "duration": 163,
    "start_time": "2022-04-10T11:12:19.807Z"
   },
   {
    "duration": 318,
    "start_time": "2022-04-10T11:12:19.972Z"
   },
   {
    "duration": 4,
    "start_time": "2022-04-10T11:12:20.291Z"
   },
   {
    "duration": 428,
    "start_time": "2022-04-10T11:12:20.296Z"
   },
   {
    "duration": 4,
    "start_time": "2022-04-10T11:12:20.726Z"
   },
   {
    "duration": 348,
    "start_time": "2022-04-10T11:12:20.734Z"
   },
   {
    "duration": 3,
    "start_time": "2022-04-10T11:12:21.084Z"
   },
   {
    "duration": 12,
    "start_time": "2022-04-10T11:12:21.088Z"
   },
   {
    "duration": 27,
    "start_time": "2022-04-10T11:12:21.101Z"
   },
   {
    "duration": 16,
    "start_time": "2022-04-10T11:12:21.130Z"
   },
   {
    "duration": 28,
    "start_time": "2022-04-10T11:12:21.147Z"
   },
   {
    "duration": 9,
    "start_time": "2022-04-10T11:12:21.176Z"
   },
   {
    "duration": 9,
    "start_time": "2022-04-10T11:12:21.186Z"
   },
   {
    "duration": 5863,
    "start_time": "2022-04-10T11:12:21.196Z"
   },
   {
    "duration": 8288,
    "start_time": "2022-04-10T11:12:27.061Z"
   },
   {
    "duration": 2225,
    "start_time": "2022-04-10T11:12:35.350Z"
   },
   {
    "duration": 105,
    "start_time": "2022-04-10T11:12:37.576Z"
   },
   {
    "duration": 18,
    "start_time": "2022-04-10T11:12:37.683Z"
   },
   {
    "duration": 8,
    "start_time": "2022-04-10T11:12:37.703Z"
   },
   {
    "duration": 1766,
    "start_time": "2022-04-10T11:12:37.713Z"
   },
   {
    "duration": 839472,
    "start_time": "2022-04-10T11:13:10.347Z"
   },
   {
    "duration": 20728,
    "start_time": "2022-04-10T11:29:41.648Z"
   },
   {
    "duration": 188188,
    "start_time": "2022-04-10T11:30:39.640Z"
   },
   {
    "duration": 19331,
    "start_time": "2022-04-10T11:39:06.216Z"
   },
   {
    "duration": 17873,
    "start_time": "2022-04-10T11:39:48.133Z"
   },
   {
    "duration": 19094,
    "start_time": "2022-04-10T11:42:06.669Z"
   },
   {
    "duration": 236,
    "start_time": "2022-04-10T11:44:43.889Z"
   },
   {
    "duration": 234,
    "start_time": "2022-04-10T11:48:53.526Z"
   },
   {
    "duration": 19140,
    "start_time": "2022-04-10T11:50:55.201Z"
   },
   {
    "duration": 1926746,
    "start_time": "2022-04-10T11:51:20.182Z"
   },
   {
    "duration": 203,
    "start_time": "2022-04-10T12:44:04.582Z"
   },
   {
    "duration": 176,
    "start_time": "2022-04-10T12:44:48.584Z"
   },
   {
    "duration": 196,
    "start_time": "2022-04-10T12:45:12.174Z"
   },
   {
    "duration": 14,
    "start_time": "2022-04-10T12:49:05.146Z"
   },
   {
    "duration": 263,
    "start_time": "2022-04-10T12:49:32.884Z"
   },
   {
    "duration": 1754,
    "start_time": "2022-04-10T12:51:13.976Z"
   },
   {
    "duration": 1682,
    "start_time": "2022-04-10T12:57:47.088Z"
   },
   {
    "duration": 335,
    "start_time": "2022-04-10T12:58:07.541Z"
   },
   {
    "duration": 250,
    "start_time": "2022-04-10T12:58:20.970Z"
   },
   {
    "duration": 4,
    "start_time": "2022-04-10T12:59:13.136Z"
   },
   {
    "duration": 1289,
    "start_time": "2022-04-10T13:04:01.483Z"
   },
   {
    "duration": 648,
    "start_time": "2022-04-10T13:04:02.774Z"
   },
   {
    "duration": 52,
    "start_time": "2022-04-10T13:04:03.424Z"
   },
   {
    "duration": 33,
    "start_time": "2022-04-10T13:04:03.478Z"
   },
   {
    "duration": 29,
    "start_time": "2022-04-10T13:04:03.513Z"
   },
   {
    "duration": 30,
    "start_time": "2022-04-10T13:04:03.543Z"
   },
   {
    "duration": 4,
    "start_time": "2022-04-10T13:04:03.574Z"
   },
   {
    "duration": 5,
    "start_time": "2022-04-10T13:04:03.580Z"
   },
   {
    "duration": 4,
    "start_time": "2022-04-10T13:04:03.586Z"
   },
   {
    "duration": 3,
    "start_time": "2022-04-10T13:04:03.592Z"
   },
   {
    "duration": 6,
    "start_time": "2022-04-10T13:04:03.596Z"
   },
   {
    "duration": 14,
    "start_time": "2022-04-10T13:04:03.603Z"
   },
   {
    "duration": 240,
    "start_time": "2022-04-10T13:04:03.618Z"
   },
   {
    "duration": 15,
    "start_time": "2022-04-10T13:04:03.859Z"
   },
   {
    "duration": 287,
    "start_time": "2022-04-10T13:04:03.876Z"
   },
   {
    "duration": 14,
    "start_time": "2022-04-10T13:04:04.164Z"
   },
   {
    "duration": 353,
    "start_time": "2022-04-10T13:04:04.180Z"
   },
   {
    "duration": 11,
    "start_time": "2022-04-10T13:04:04.535Z"
   },
   {
    "duration": 296,
    "start_time": "2022-04-10T13:04:04.547Z"
   },
   {
    "duration": 186,
    "start_time": "2022-04-10T13:04:04.845Z"
   },
   {
    "duration": 5,
    "start_time": "2022-04-10T13:04:05.033Z"
   },
   {
    "duration": 22,
    "start_time": "2022-04-10T13:04:05.039Z"
   },
   {
    "duration": 31,
    "start_time": "2022-04-10T13:04:05.062Z"
   },
   {
    "duration": 249,
    "start_time": "2022-04-10T13:04:05.095Z"
   },
   {
    "duration": 3,
    "start_time": "2022-04-10T13:04:05.346Z"
   },
   {
    "duration": 6,
    "start_time": "2022-04-10T13:04:05.350Z"
   },
   {
    "duration": 8,
    "start_time": "2022-04-10T13:04:05.357Z"
   },
   {
    "duration": 2,
    "start_time": "2022-04-10T13:04:05.370Z"
   },
   {
    "duration": 4,
    "start_time": "2022-04-10T13:04:05.374Z"
   },
   {
    "duration": 17,
    "start_time": "2022-04-10T13:04:05.379Z"
   },
   {
    "duration": 13,
    "start_time": "2022-04-10T13:04:05.397Z"
   },
   {
    "duration": 13,
    "start_time": "2022-04-10T13:04:05.411Z"
   },
   {
    "duration": 7,
    "start_time": "2022-04-10T13:04:05.426Z"
   },
   {
    "duration": 5,
    "start_time": "2022-04-10T13:04:05.434Z"
   },
   {
    "duration": 20855,
    "start_time": "2022-04-10T13:04:05.441Z"
   },
   {
    "duration": 2675,
    "start_time": "2022-04-10T13:04:26.297Z"
   },
   {
    "duration": 23,
    "start_time": "2022-04-10T13:04:28.974Z"
   },
   {
    "duration": 87,
    "start_time": "2022-04-10T13:04:28.999Z"
   },
   {
    "duration": 9,
    "start_time": "2022-04-10T13:04:29.088Z"
   },
   {
    "duration": 1374,
    "start_time": "2022-04-10T13:04:29.098Z"
   },
   {
    "duration": 333,
    "start_time": "2022-04-10T13:04:30.474Z"
   },
   {
    "duration": 4,
    "start_time": "2022-04-10T13:06:54.007Z"
   },
   {
    "duration": 4,
    "start_time": "2022-04-10T13:06:55.002Z"
   },
   {
    "duration": 4,
    "start_time": "2022-04-10T13:06:55.470Z"
   },
   {
    "duration": 4,
    "start_time": "2022-04-10T13:07:48.209Z"
   },
   {
    "duration": 4,
    "start_time": "2022-04-10T13:07:49.294Z"
   },
   {
    "duration": 4,
    "start_time": "2022-04-10T13:07:49.947Z"
   },
   {
    "duration": 3,
    "start_time": "2022-04-10T13:07:50.672Z"
   },
   {
    "duration": 5,
    "start_time": "2022-04-10T13:09:02.975Z"
   },
   {
    "duration": 3,
    "start_time": "2022-04-10T13:09:05.203Z"
   },
   {
    "duration": 3,
    "start_time": "2022-04-10T13:15:51.217Z"
   },
   {
    "duration": 3,
    "start_time": "2022-04-10T13:15:57.433Z"
   },
   {
    "duration": 97,
    "start_time": "2022-04-10T13:16:09.275Z"
   },
   {
    "duration": 3,
    "start_time": "2022-04-10T13:16:15.982Z"
   },
   {
    "duration": 6,
    "start_time": "2022-04-10T13:16:36.522Z"
   },
   {
    "duration": 3,
    "start_time": "2022-04-10T13:16:37.046Z"
   },
   {
    "duration": 6,
    "start_time": "2022-04-10T13:16:52.028Z"
   },
   {
    "duration": 3,
    "start_time": "2022-04-10T13:16:52.415Z"
   },
   {
    "duration": 2447,
    "start_time": "2022-04-11T14:13:45.711Z"
   },
   {
    "duration": 953,
    "start_time": "2022-04-11T14:13:48.161Z"
   },
   {
    "duration": 93,
    "start_time": "2022-04-11T14:13:49.116Z"
   },
   {
    "duration": 81,
    "start_time": "2022-04-11T14:13:49.212Z"
   },
   {
    "duration": 77,
    "start_time": "2022-04-11T14:13:49.295Z"
   },
   {
    "duration": 16,
    "start_time": "2022-04-11T14:13:49.375Z"
   },
   {
    "duration": 6,
    "start_time": "2022-04-11T14:13:49.394Z"
   },
   {
    "duration": 6,
    "start_time": "2022-04-11T14:13:49.402Z"
   },
   {
    "duration": 6,
    "start_time": "2022-04-11T14:13:49.411Z"
   },
   {
    "duration": 47,
    "start_time": "2022-04-11T14:13:49.421Z"
   },
   {
    "duration": 9,
    "start_time": "2022-04-11T14:13:49.470Z"
   },
   {
    "duration": 21,
    "start_time": "2022-04-11T14:13:49.482Z"
   },
   {
    "duration": 447,
    "start_time": "2022-04-11T14:13:49.506Z"
   },
   {
    "duration": 25,
    "start_time": "2022-04-11T14:13:49.955Z"
   },
   {
    "duration": 665,
    "start_time": "2022-04-11T14:13:49.982Z"
   },
   {
    "duration": 26,
    "start_time": "2022-04-11T14:13:50.649Z"
   },
   {
    "duration": 627,
    "start_time": "2022-04-11T14:13:50.678Z"
   },
   {
    "duration": 18,
    "start_time": "2022-04-11T14:13:51.307Z"
   },
   {
    "duration": 572,
    "start_time": "2022-04-11T14:13:51.328Z"
   },
   {
    "duration": 360,
    "start_time": "2022-04-11T14:13:51.902Z"
   },
   {
    "duration": 7,
    "start_time": "2022-04-11T14:13:52.268Z"
   },
   {
    "duration": 15,
    "start_time": "2022-04-11T14:13:52.277Z"
   },
   {
    "duration": 549,
    "start_time": "2022-04-11T14:13:52.295Z"
   },
   {
    "duration": 63,
    "start_time": "2022-04-11T14:14:32.181Z"
   },
   {
    "duration": 21,
    "start_time": "2022-04-11T14:14:55.445Z"
   },
   {
    "duration": 35,
    "start_time": "2022-04-11T14:15:10.147Z"
   },
   {
    "duration": 2399,
    "start_time": "2022-04-12T08:09:15.646Z"
   },
   {
    "duration": 898,
    "start_time": "2022-04-12T08:09:18.047Z"
   },
   {
    "duration": 87,
    "start_time": "2022-04-12T08:09:18.947Z"
   },
   {
    "duration": 86,
    "start_time": "2022-04-12T08:09:19.038Z"
   },
   {
    "duration": 74,
    "start_time": "2022-04-12T08:09:19.126Z"
   },
   {
    "duration": 18,
    "start_time": "2022-04-12T08:09:19.203Z"
   },
   {
    "duration": 8,
    "start_time": "2022-04-12T08:09:19.224Z"
   },
   {
    "duration": 8,
    "start_time": "2022-04-12T08:09:19.234Z"
   },
   {
    "duration": 4,
    "start_time": "2022-04-12T08:09:19.277Z"
   },
   {
    "duration": 34,
    "start_time": "2022-04-12T08:09:19.288Z"
   },
   {
    "duration": 16,
    "start_time": "2022-04-12T08:09:19.324Z"
   },
   {
    "duration": 21,
    "start_time": "2022-04-12T08:09:19.343Z"
   },
   {
    "duration": 491,
    "start_time": "2022-04-12T08:09:19.366Z"
   },
   {
    "duration": 34,
    "start_time": "2022-04-12T08:09:19.860Z"
   },
   {
    "duration": 621,
    "start_time": "2022-04-12T08:09:19.896Z"
   },
   {
    "duration": 15,
    "start_time": "2022-04-12T08:09:20.520Z"
   },
   {
    "duration": 684,
    "start_time": "2022-04-12T08:09:20.537Z"
   },
   {
    "duration": 15,
    "start_time": "2022-04-12T08:09:21.223Z"
   },
   {
    "duration": 604,
    "start_time": "2022-04-12T08:09:21.240Z"
   },
   {
    "duration": 375,
    "start_time": "2022-04-12T08:09:21.846Z"
   },
   {
    "duration": 8,
    "start_time": "2022-04-12T08:09:22.223Z"
   },
   {
    "duration": 22,
    "start_time": "2022-04-12T08:09:22.233Z"
   },
   {
    "duration": 183,
    "start_time": "2022-04-12T08:09:58.260Z"
   },
   {
    "duration": 5,
    "start_time": "2022-04-12T08:10:16.551Z"
   },
   {
    "duration": 44,
    "start_time": "2022-04-12T08:10:20.018Z"
   },
   {
    "duration": 500,
    "start_time": "2022-04-12T08:10:20.555Z"
   },
   {
    "duration": 5,
    "start_time": "2022-04-12T08:10:41.168Z"
   },
   {
    "duration": 882,
    "start_time": "2022-04-12T08:10:41.176Z"
   },
   {
    "duration": 76,
    "start_time": "2022-04-12T08:10:42.060Z"
   },
   {
    "duration": 86,
    "start_time": "2022-04-12T08:10:42.139Z"
   },
   {
    "duration": 80,
    "start_time": "2022-04-12T08:10:42.228Z"
   },
   {
    "duration": 11,
    "start_time": "2022-04-12T08:10:42.311Z"
   },
   {
    "duration": 7,
    "start_time": "2022-04-12T08:10:42.325Z"
   },
   {
    "duration": 4,
    "start_time": "2022-04-12T08:10:42.334Z"
   },
   {
    "duration": 9,
    "start_time": "2022-04-12T08:10:42.375Z"
   },
   {
    "duration": 20,
    "start_time": "2022-04-12T08:10:42.387Z"
   },
   {
    "duration": 12,
    "start_time": "2022-04-12T08:10:42.409Z"
   },
   {
    "duration": 20,
    "start_time": "2022-04-12T08:10:42.424Z"
   },
   {
    "duration": 407,
    "start_time": "2022-04-12T08:10:42.447Z"
   },
   {
    "duration": 41,
    "start_time": "2022-04-12T08:10:42.857Z"
   },
   {
    "duration": 644,
    "start_time": "2022-04-12T08:10:42.900Z"
   },
   {
    "duration": 15,
    "start_time": "2022-04-12T08:10:43.546Z"
   },
   {
    "duration": 567,
    "start_time": "2022-04-12T08:10:43.575Z"
   },
   {
    "duration": 16,
    "start_time": "2022-04-12T08:10:44.144Z"
   },
   {
    "duration": 574,
    "start_time": "2022-04-12T08:10:44.161Z"
   },
   {
    "duration": 356,
    "start_time": "2022-04-12T08:10:44.737Z"
   },
   {
    "duration": 8,
    "start_time": "2022-04-12T08:10:45.098Z"
   },
   {
    "duration": 13,
    "start_time": "2022-04-12T08:10:45.108Z"
   },
   {
    "duration": 32,
    "start_time": "2022-04-12T08:12:30.058Z"
   },
   {
    "duration": 676,
    "start_time": "2022-04-12T08:12:31.336Z"
   },
   {
    "duration": 24,
    "start_time": "2022-04-12T08:12:51.984Z"
   },
   {
    "duration": 667,
    "start_time": "2022-04-12T08:12:52.162Z"
   },
   {
    "duration": 21,
    "start_time": "2022-04-12T08:12:56.001Z"
   },
   {
    "duration": 28,
    "start_time": "2022-04-12T08:13:03.068Z"
   },
   {
    "duration": 11,
    "start_time": "2022-04-12T08:13:09.991Z"
   },
   {
    "duration": 6,
    "start_time": "2022-04-12T08:13:10.196Z"
   },
   {
    "duration": 6,
    "start_time": "2022-04-12T08:13:25.202Z"
   },
   {
    "duration": 827,
    "start_time": "2022-04-12T08:13:25.210Z"
   },
   {
    "duration": 95,
    "start_time": "2022-04-12T08:13:26.039Z"
   },
   {
    "duration": 67,
    "start_time": "2022-04-12T08:13:26.137Z"
   },
   {
    "duration": 75,
    "start_time": "2022-04-12T08:13:26.207Z"
   },
   {
    "duration": 16,
    "start_time": "2022-04-12T08:13:26.285Z"
   },
   {
    "duration": 7,
    "start_time": "2022-04-12T08:13:26.304Z"
   },
   {
    "duration": 5,
    "start_time": "2022-04-12T08:13:26.313Z"
   },
   {
    "duration": 6,
    "start_time": "2022-04-12T08:13:26.320Z"
   },
   {
    "duration": 7,
    "start_time": "2022-04-12T08:13:26.329Z"
   },
   {
    "duration": 42,
    "start_time": "2022-04-12T08:13:26.339Z"
   },
   {
    "duration": 38,
    "start_time": "2022-04-12T08:13:26.383Z"
   },
   {
    "duration": 392,
    "start_time": "2022-04-12T08:13:26.423Z"
   },
   {
    "duration": 16,
    "start_time": "2022-04-12T08:13:26.817Z"
   },
   {
    "duration": 560,
    "start_time": "2022-04-12T08:13:26.835Z"
   },
   {
    "duration": 18,
    "start_time": "2022-04-12T08:13:27.397Z"
   },
   {
    "duration": 570,
    "start_time": "2022-04-12T08:13:27.417Z"
   },
   {
    "duration": 21,
    "start_time": "2022-04-12T08:13:27.989Z"
   },
   {
    "duration": 669,
    "start_time": "2022-04-12T08:13:28.012Z"
   },
   {
    "duration": 355,
    "start_time": "2022-04-12T08:13:28.683Z"
   },
   {
    "duration": 7,
    "start_time": "2022-04-12T08:13:29.040Z"
   },
   {
    "duration": 29,
    "start_time": "2022-04-12T08:13:29.049Z"
   },
   {
    "duration": 29,
    "start_time": "2022-04-12T08:13:29.080Z"
   },
   {
    "duration": 518,
    "start_time": "2022-04-12T08:13:30.673Z"
   },
   {
    "duration": 40,
    "start_time": "2022-04-12T08:13:35.472Z"
   },
   {
    "duration": 9,
    "start_time": "2022-04-12T08:13:49.432Z"
   },
   {
    "duration": 5,
    "start_time": "2022-04-12T08:13:52.034Z"
   },
   {
    "duration": 2056,
    "start_time": "2022-04-12T08:16:18.369Z"
   },
   {
    "duration": 823,
    "start_time": "2022-04-12T08:16:20.428Z"
   },
   {
    "duration": 82,
    "start_time": "2022-04-12T08:16:21.253Z"
   },
   {
    "duration": 82,
    "start_time": "2022-04-12T08:16:21.337Z"
   },
   {
    "duration": 78,
    "start_time": "2022-04-12T08:16:21.422Z"
   },
   {
    "duration": 13,
    "start_time": "2022-04-12T08:16:21.504Z"
   },
   {
    "duration": 6,
    "start_time": "2022-04-12T08:16:21.519Z"
   },
   {
    "duration": 6,
    "start_time": "2022-04-12T08:16:21.527Z"
   },
   {
    "duration": 8,
    "start_time": "2022-04-12T08:16:21.535Z"
   },
   {
    "duration": 31,
    "start_time": "2022-04-12T08:16:21.545Z"
   },
   {
    "duration": 35,
    "start_time": "2022-04-12T08:16:21.581Z"
   },
   {
    "duration": 36,
    "start_time": "2022-04-12T08:16:21.618Z"
   },
   {
    "duration": 425,
    "start_time": "2022-04-12T08:16:21.656Z"
   },
   {
    "duration": 17,
    "start_time": "2022-04-12T08:16:22.087Z"
   },
   {
    "duration": 589,
    "start_time": "2022-04-12T08:16:22.107Z"
   },
   {
    "duration": 16,
    "start_time": "2022-04-12T08:16:22.700Z"
   },
   {
    "duration": 1289,
    "start_time": "2022-04-12T08:16:22.718Z"
   },
   {
    "duration": 88,
    "start_time": "2022-04-12T08:16:24.009Z"
   },
   {
    "duration": 1192,
    "start_time": "2022-04-12T08:16:24.102Z"
   },
   {
    "duration": 792,
    "start_time": "2022-04-12T08:16:25.296Z"
   },
   {
    "duration": 13,
    "start_time": "2022-04-12T08:16:26.090Z"
   },
   {
    "duration": 19,
    "start_time": "2022-04-12T08:16:26.106Z"
   },
   {
    "duration": 50,
    "start_time": "2022-04-12T08:16:26.175Z"
   },
   {
    "duration": 1334,
    "start_time": "2022-04-12T08:16:26.275Z"
   },
   {
    "duration": 101,
    "start_time": "2022-04-12T08:16:27.611Z"
   },
   {
    "duration": 62,
    "start_time": "2022-04-12T08:16:27.715Z"
   },
   {
    "duration": 14,
    "start_time": "2022-04-12T08:16:27.790Z"
   },
   {
    "duration": 6,
    "start_time": "2022-04-12T08:16:27.806Z"
   },
   {
    "duration": 79,
    "start_time": "2022-04-12T08:16:27.814Z"
   },
   {
    "duration": 85,
    "start_time": "2022-04-12T08:16:27.897Z"
   },
   {
    "duration": 27,
    "start_time": "2022-04-12T08:16:27.984Z"
   },
   {
    "duration": 64,
    "start_time": "2022-04-12T08:16:28.014Z"
   },
   {
    "duration": 19,
    "start_time": "2022-04-12T08:16:28.082Z"
   },
   {
    "duration": 34639,
    "start_time": "2022-04-12T08:16:28.103Z"
   },
   {
    "duration": 6160,
    "start_time": "2022-04-12T08:17:02.745Z"
   },
   {
    "duration": 167,
    "start_time": "2022-04-12T08:17:08.908Z"
   },
   {
    "duration": 40,
    "start_time": "2022-04-12T08:17:09.090Z"
   },
   {
    "duration": 10,
    "start_time": "2022-04-12T08:17:09.132Z"
   },
   {
    "duration": 88,
    "start_time": "2022-04-12T08:17:09.144Z"
   },
   {
    "duration": 90,
    "start_time": "2022-04-12T08:17:09.235Z"
   }
  ],
  "kernelspec": {
   "display_name": "Python 3 (ipykernel)",
   "language": "python",
   "name": "python3"
  },
  "language_info": {
   "codemirror_mode": {
    "name": "ipython",
    "version": 3
   },
   "file_extension": ".py",
   "mimetype": "text/x-python",
   "name": "python",
   "nbconvert_exporter": "python",
   "pygments_lexer": "ipython3",
   "version": "3.7.8"
  },
  "toc": {
   "base_numbering": 1,
   "nav_menu": {},
   "number_sections": true,
   "sideBar": true,
   "skip_h1_title": true,
   "title_cell": "Содержание",
   "title_sidebar": "Contents",
   "toc_cell": true,
   "toc_position": {
    "height": "calc(100% - 180px)",
    "left": "10px",
    "top": "150px",
    "width": "293.594px"
   },
   "toc_section_display": true,
   "toc_window_display": true
  }
 },
 "nbformat": 4,
 "nbformat_minor": 2
}
