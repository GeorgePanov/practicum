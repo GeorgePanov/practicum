{
 "cells": [
  {
   "cell_type": "markdown",
   "metadata": {},
   "source": [
    "**Комментарий ревьюера**\n",
    "\n",
    "Георгий, привет! Меня зовут Сергей Волков, я буду проверять твой проект. Если не против, давай общаться на «ты». Если это неудобно, дай знать, перейдем на «вы».\n",
    "\n",
    "У тебя уже проделана очень большая работа над проектом, но давай сделаем его еще лучше. Дальше ты найдешь мои комментарии — пожалуйста, не перемещай и не удаляй их. Буду использовать цветовую разметку:\n",
    "\n",
    "<div class=\"alert alert-danger\">\n",
    "<b>Комментарий ревьюера:</b>  ❌красный текст - так выделены самые важные замечания. Без их отработки проект не будет принят. </div>\n",
    "\n",
    "<div class=\"alert alert-warning\">\n",
    "<b>Комментарий ревьюера:</b>⚠️оранжевый текст - есть рекомендации, на что стоит обратить внимание. Так выделены небольшие замечания. Одно-два таких замечания в проекте допустимы, но если их будет больше - тебе будет необходимо внести исправления. </div>\n",
    "\n",
    "<div class=\"alert alert-success\">\n",
    "<b>Комментарий ревьюера:</b> ✔️зеленый текст - все отлично.</div>\n",
    "\n",
    "Давай работать над проектом в диалоге: если ты что-то меняешь в проекте или отвечаешь на мои комментарии — пиши об этом. Мне будет легче отследить изменения, если ты выделишь свои комментарии:\n",
    "<div class=\"alert alert-info\"> <b>Комментарий студента:</b> Например, вот так.</div>\n",
    "\n",
    "Всё это поможет выполнить повторную проверку твоего проекта оперативнее. "
   ]
  },
  {
   "cell_type": "markdown",
   "metadata": {},
   "source": [
    "<div class=\"alert alert-info\"> <b>Комментарий студента V2:</b> Я очень много переделал в этой работе поэтому какие-то коментарии были смещены</div>\n"
   ]
  },
  {
   "cell_type": "markdown",
   "metadata": {},
   "source": [
    "\n",
    "<div class=\"alert alert-success\">\n",
    "<b>Комментарий ревьюера v.2:</b> ✔️Георгий, привет! Повторные комментарии отмечены v.2</div>"
   ]
  },
  {
   "cell_type": "markdown",
   "metadata": {},
   "source": [
    "\n",
    "<div class=\"alert alert-success\">\n",
    "<b>Комментарий ревьюера v.3:</b> ✔️Георгий,снова привет!) Повторные комментарии отмечены v.3</div>"
   ]
  },
  {
   "cell_type": "markdown",
   "metadata": {},
   "source": [
    "# Определение стоимости автомобилей"
   ]
  },
  {
   "cell_type": "markdown",
   "metadata": {},
   "source": [
    "Сервис по продаже автомобилей с пробегом «Не бит, не крашен» разрабатывает приложение для привлечения новых клиентов. В нём можно быстро узнать рыночную стоимость своего автомобиля. В вашем распоряжении исторические данные: технические характеристики, комплектации и цены автомобилей. Вам нужно построить модель для определения стоимости. \n",
    "\n",
    "Заказчику важны:\n",
    "\n",
    "- качество предсказания;\n",
    "- скорость предсказания;\n",
    "- время обучения."
   ]
  },
  {
   "cell_type": "markdown",
   "metadata": {},
   "source": [
    "<div class=\"alert alert-success\">\n",
    "<b>Комментарий ревьюера:</b> ✔️Здорово что вместе с названием есть краткое описание и ход исследования проекта!.</div>"
   ]
  },
  {
   "cell_type": "markdown",
   "metadata": {},
   "source": [
    "## Подготовка данных"
   ]
  },
  {
   "cell_type": "code",
   "execution_count": 1,
   "metadata": {},
   "outputs": [],
   "source": [
    "import time\n",
    "import numpy as np\n",
    "import pandas as pd\n",
    "import matplotlib.pyplot as plt\n",
    "\n",
    "import lightgbm as lgb\n",
    "from sklearn.model_selection import train_test_split\n",
    "from sklearn.model_selection import GridSearchCV\n",
    "from sklearn.linear_model import LinearRegression\n",
    "from sklearn.metrics import mean_squared_error\n",
    "from sklearn.ensemble import GradientBoostingRegressor"
   ]
  },
  {
   "cell_type": "markdown",
   "metadata": {},
   "source": [
    "<div class=\"alert alert-block alert-success\">\n",
    "<b>Комментарий ревьюера:</b> ✔️Отлично, что все импорты собраны в первой ячейке ноутбука! Если у того, кто будет запускать твой ноутбук будут отсутствовать некоторые библиотеки, то он это увидит сразу, а не в процессе. Круто что ислозуется try except при загрузке данных 👍🏼.</div>"
   ]
  },
  {
   "cell_type": "markdown",
   "metadata": {},
   "source": [
    "### Анализ данных"
   ]
  },
  {
   "cell_type": "code",
   "execution_count": 2,
   "metadata": {},
   "outputs": [
    {
     "data": {
      "text/html": [
       "<div>\n",
       "<style scoped>\n",
       "    .dataframe tbody tr th:only-of-type {\n",
       "        vertical-align: middle;\n",
       "    }\n",
       "\n",
       "    .dataframe tbody tr th {\n",
       "        vertical-align: top;\n",
       "    }\n",
       "\n",
       "    .dataframe thead th {\n",
       "        text-align: right;\n",
       "    }\n",
       "</style>\n",
       "<table border=\"1\" class=\"dataframe\">\n",
       "  <thead>\n",
       "    <tr style=\"text-align: right;\">\n",
       "      <th></th>\n",
       "      <th>DateCrawled</th>\n",
       "      <th>Price</th>\n",
       "      <th>VehicleType</th>\n",
       "      <th>RegistrationYear</th>\n",
       "      <th>Gearbox</th>\n",
       "      <th>Power</th>\n",
       "      <th>Model</th>\n",
       "      <th>Kilometer</th>\n",
       "      <th>RegistrationMonth</th>\n",
       "      <th>FuelType</th>\n",
       "      <th>Brand</th>\n",
       "      <th>NotRepaired</th>\n",
       "      <th>DateCreated</th>\n",
       "      <th>NumberOfPictures</th>\n",
       "      <th>PostalCode</th>\n",
       "      <th>LastSeen</th>\n",
       "    </tr>\n",
       "  </thead>\n",
       "  <tbody>\n",
       "    <tr>\n",
       "      <th>0</th>\n",
       "      <td>2016-03-24 11:52:17</td>\n",
       "      <td>480</td>\n",
       "      <td>NaN</td>\n",
       "      <td>1993</td>\n",
       "      <td>manual</td>\n",
       "      <td>0</td>\n",
       "      <td>golf</td>\n",
       "      <td>150000</td>\n",
       "      <td>0</td>\n",
       "      <td>petrol</td>\n",
       "      <td>volkswagen</td>\n",
       "      <td>NaN</td>\n",
       "      <td>2016-03-24 00:00:00</td>\n",
       "      <td>0</td>\n",
       "      <td>70435</td>\n",
       "      <td>2016-04-07 03:16:57</td>\n",
       "    </tr>\n",
       "    <tr>\n",
       "      <th>1</th>\n",
       "      <td>2016-03-24 10:58:45</td>\n",
       "      <td>18300</td>\n",
       "      <td>coupe</td>\n",
       "      <td>2011</td>\n",
       "      <td>manual</td>\n",
       "      <td>190</td>\n",
       "      <td>NaN</td>\n",
       "      <td>125000</td>\n",
       "      <td>5</td>\n",
       "      <td>gasoline</td>\n",
       "      <td>audi</td>\n",
       "      <td>yes</td>\n",
       "      <td>2016-03-24 00:00:00</td>\n",
       "      <td>0</td>\n",
       "      <td>66954</td>\n",
       "      <td>2016-04-07 01:46:50</td>\n",
       "    </tr>\n",
       "    <tr>\n",
       "      <th>2</th>\n",
       "      <td>2016-03-14 12:52:21</td>\n",
       "      <td>9800</td>\n",
       "      <td>suv</td>\n",
       "      <td>2004</td>\n",
       "      <td>auto</td>\n",
       "      <td>163</td>\n",
       "      <td>grand</td>\n",
       "      <td>125000</td>\n",
       "      <td>8</td>\n",
       "      <td>gasoline</td>\n",
       "      <td>jeep</td>\n",
       "      <td>NaN</td>\n",
       "      <td>2016-03-14 00:00:00</td>\n",
       "      <td>0</td>\n",
       "      <td>90480</td>\n",
       "      <td>2016-04-05 12:47:46</td>\n",
       "    </tr>\n",
       "    <tr>\n",
       "      <th>3</th>\n",
       "      <td>2016-03-17 16:54:04</td>\n",
       "      <td>1500</td>\n",
       "      <td>small</td>\n",
       "      <td>2001</td>\n",
       "      <td>manual</td>\n",
       "      <td>75</td>\n",
       "      <td>golf</td>\n",
       "      <td>150000</td>\n",
       "      <td>6</td>\n",
       "      <td>petrol</td>\n",
       "      <td>volkswagen</td>\n",
       "      <td>no</td>\n",
       "      <td>2016-03-17 00:00:00</td>\n",
       "      <td>0</td>\n",
       "      <td>91074</td>\n",
       "      <td>2016-03-17 17:40:17</td>\n",
       "    </tr>\n",
       "    <tr>\n",
       "      <th>4</th>\n",
       "      <td>2016-03-31 17:25:20</td>\n",
       "      <td>3600</td>\n",
       "      <td>small</td>\n",
       "      <td>2008</td>\n",
       "      <td>manual</td>\n",
       "      <td>69</td>\n",
       "      <td>fabia</td>\n",
       "      <td>90000</td>\n",
       "      <td>7</td>\n",
       "      <td>gasoline</td>\n",
       "      <td>skoda</td>\n",
       "      <td>no</td>\n",
       "      <td>2016-03-31 00:00:00</td>\n",
       "      <td>0</td>\n",
       "      <td>60437</td>\n",
       "      <td>2016-04-06 10:17:21</td>\n",
       "    </tr>\n",
       "    <tr>\n",
       "      <th>...</th>\n",
       "      <td>...</td>\n",
       "      <td>...</td>\n",
       "      <td>...</td>\n",
       "      <td>...</td>\n",
       "      <td>...</td>\n",
       "      <td>...</td>\n",
       "      <td>...</td>\n",
       "      <td>...</td>\n",
       "      <td>...</td>\n",
       "      <td>...</td>\n",
       "      <td>...</td>\n",
       "      <td>...</td>\n",
       "      <td>...</td>\n",
       "      <td>...</td>\n",
       "      <td>...</td>\n",
       "      <td>...</td>\n",
       "    </tr>\n",
       "    <tr>\n",
       "      <th>354364</th>\n",
       "      <td>2016-03-21 09:50:58</td>\n",
       "      <td>0</td>\n",
       "      <td>NaN</td>\n",
       "      <td>2005</td>\n",
       "      <td>manual</td>\n",
       "      <td>0</td>\n",
       "      <td>colt</td>\n",
       "      <td>150000</td>\n",
       "      <td>7</td>\n",
       "      <td>petrol</td>\n",
       "      <td>mitsubishi</td>\n",
       "      <td>yes</td>\n",
       "      <td>2016-03-21 00:00:00</td>\n",
       "      <td>0</td>\n",
       "      <td>2694</td>\n",
       "      <td>2016-03-21 10:42:49</td>\n",
       "    </tr>\n",
       "    <tr>\n",
       "      <th>354365</th>\n",
       "      <td>2016-03-14 17:48:27</td>\n",
       "      <td>2200</td>\n",
       "      <td>NaN</td>\n",
       "      <td>2005</td>\n",
       "      <td>NaN</td>\n",
       "      <td>0</td>\n",
       "      <td>NaN</td>\n",
       "      <td>20000</td>\n",
       "      <td>1</td>\n",
       "      <td>NaN</td>\n",
       "      <td>sonstige_autos</td>\n",
       "      <td>NaN</td>\n",
       "      <td>2016-03-14 00:00:00</td>\n",
       "      <td>0</td>\n",
       "      <td>39576</td>\n",
       "      <td>2016-04-06 00:46:52</td>\n",
       "    </tr>\n",
       "    <tr>\n",
       "      <th>354366</th>\n",
       "      <td>2016-03-05 19:56:21</td>\n",
       "      <td>1199</td>\n",
       "      <td>convertible</td>\n",
       "      <td>2000</td>\n",
       "      <td>auto</td>\n",
       "      <td>101</td>\n",
       "      <td>fortwo</td>\n",
       "      <td>125000</td>\n",
       "      <td>3</td>\n",
       "      <td>petrol</td>\n",
       "      <td>smart</td>\n",
       "      <td>no</td>\n",
       "      <td>2016-03-05 00:00:00</td>\n",
       "      <td>0</td>\n",
       "      <td>26135</td>\n",
       "      <td>2016-03-11 18:17:12</td>\n",
       "    </tr>\n",
       "    <tr>\n",
       "      <th>354367</th>\n",
       "      <td>2016-03-19 18:57:12</td>\n",
       "      <td>9200</td>\n",
       "      <td>bus</td>\n",
       "      <td>1996</td>\n",
       "      <td>manual</td>\n",
       "      <td>102</td>\n",
       "      <td>transporter</td>\n",
       "      <td>150000</td>\n",
       "      <td>3</td>\n",
       "      <td>gasoline</td>\n",
       "      <td>volkswagen</td>\n",
       "      <td>no</td>\n",
       "      <td>2016-03-19 00:00:00</td>\n",
       "      <td>0</td>\n",
       "      <td>87439</td>\n",
       "      <td>2016-04-07 07:15:26</td>\n",
       "    </tr>\n",
       "    <tr>\n",
       "      <th>354368</th>\n",
       "      <td>2016-03-20 19:41:08</td>\n",
       "      <td>3400</td>\n",
       "      <td>wagon</td>\n",
       "      <td>2002</td>\n",
       "      <td>manual</td>\n",
       "      <td>100</td>\n",
       "      <td>golf</td>\n",
       "      <td>150000</td>\n",
       "      <td>6</td>\n",
       "      <td>gasoline</td>\n",
       "      <td>volkswagen</td>\n",
       "      <td>NaN</td>\n",
       "      <td>2016-03-20 00:00:00</td>\n",
       "      <td>0</td>\n",
       "      <td>40764</td>\n",
       "      <td>2016-03-24 12:45:21</td>\n",
       "    </tr>\n",
       "  </tbody>\n",
       "</table>\n",
       "<p>354369 rows × 16 columns</p>\n",
       "</div>"
      ],
      "text/plain": [
       "                DateCrawled  Price  VehicleType  RegistrationYear Gearbox  \\\n",
       "0       2016-03-24 11:52:17    480          NaN              1993  manual   \n",
       "1       2016-03-24 10:58:45  18300        coupe              2011  manual   \n",
       "2       2016-03-14 12:52:21   9800          suv              2004    auto   \n",
       "3       2016-03-17 16:54:04   1500        small              2001  manual   \n",
       "4       2016-03-31 17:25:20   3600        small              2008  manual   \n",
       "...                     ...    ...          ...               ...     ...   \n",
       "354364  2016-03-21 09:50:58      0          NaN              2005  manual   \n",
       "354365  2016-03-14 17:48:27   2200          NaN              2005     NaN   \n",
       "354366  2016-03-05 19:56:21   1199  convertible              2000    auto   \n",
       "354367  2016-03-19 18:57:12   9200          bus              1996  manual   \n",
       "354368  2016-03-20 19:41:08   3400        wagon              2002  manual   \n",
       "\n",
       "        Power        Model  Kilometer  RegistrationMonth  FuelType  \\\n",
       "0           0         golf     150000                  0    petrol   \n",
       "1         190          NaN     125000                  5  gasoline   \n",
       "2         163        grand     125000                  8  gasoline   \n",
       "3          75         golf     150000                  6    petrol   \n",
       "4          69        fabia      90000                  7  gasoline   \n",
       "...       ...          ...        ...                ...       ...   \n",
       "354364      0         colt     150000                  7    petrol   \n",
       "354365      0          NaN      20000                  1       NaN   \n",
       "354366    101       fortwo     125000                  3    petrol   \n",
       "354367    102  transporter     150000                  3  gasoline   \n",
       "354368    100         golf     150000                  6  gasoline   \n",
       "\n",
       "                 Brand NotRepaired          DateCreated  NumberOfPictures  \\\n",
       "0           volkswagen         NaN  2016-03-24 00:00:00                 0   \n",
       "1                 audi         yes  2016-03-24 00:00:00                 0   \n",
       "2                 jeep         NaN  2016-03-14 00:00:00                 0   \n",
       "3           volkswagen          no  2016-03-17 00:00:00                 0   \n",
       "4                skoda          no  2016-03-31 00:00:00                 0   \n",
       "...                ...         ...                  ...               ...   \n",
       "354364      mitsubishi         yes  2016-03-21 00:00:00                 0   \n",
       "354365  sonstige_autos         NaN  2016-03-14 00:00:00                 0   \n",
       "354366           smart          no  2016-03-05 00:00:00                 0   \n",
       "354367      volkswagen          no  2016-03-19 00:00:00                 0   \n",
       "354368      volkswagen         NaN  2016-03-20 00:00:00                 0   \n",
       "\n",
       "        PostalCode             LastSeen  \n",
       "0            70435  2016-04-07 03:16:57  \n",
       "1            66954  2016-04-07 01:46:50  \n",
       "2            90480  2016-04-05 12:47:46  \n",
       "3            91074  2016-03-17 17:40:17  \n",
       "4            60437  2016-04-06 10:17:21  \n",
       "...            ...                  ...  \n",
       "354364        2694  2016-03-21 10:42:49  \n",
       "354365       39576  2016-04-06 00:46:52  \n",
       "354366       26135  2016-03-11 18:17:12  \n",
       "354367       87439  2016-04-07 07:15:26  \n",
       "354368       40764  2016-03-24 12:45:21  \n",
       "\n",
       "[354369 rows x 16 columns]"
      ]
     },
     "metadata": {},
     "output_type": "display_data"
    },
    {
     "name": "stdout",
     "output_type": "stream",
     "text": [
      "<class 'pandas.core.frame.DataFrame'>\n",
      "RangeIndex: 354369 entries, 0 to 354368\n",
      "Data columns (total 16 columns):\n",
      " #   Column             Non-Null Count   Dtype \n",
      "---  ------             --------------   ----- \n",
      " 0   DateCrawled        354369 non-null  object\n",
      " 1   Price              354369 non-null  int64 \n",
      " 2   VehicleType        316879 non-null  object\n",
      " 3   RegistrationYear   354369 non-null  int64 \n",
      " 4   Gearbox            334536 non-null  object\n",
      " 5   Power              354369 non-null  int64 \n",
      " 6   Model              334664 non-null  object\n",
      " 7   Kilometer          354369 non-null  int64 \n",
      " 8   RegistrationMonth  354369 non-null  int64 \n",
      " 9   FuelType           321474 non-null  object\n",
      " 10  Brand              354369 non-null  object\n",
      " 11  NotRepaired        283215 non-null  object\n",
      " 12  DateCreated        354369 non-null  object\n",
      " 13  NumberOfPictures   354369 non-null  int64 \n",
      " 14  PostalCode         354369 non-null  int64 \n",
      " 15  LastSeen           354369 non-null  object\n",
      "dtypes: int64(7), object(9)\n",
      "memory usage: 43.3+ MB\n"
     ]
    }
   ],
   "source": [
    "df = pd.read_csv('/datasets/autos.csv')\n",
    "\n",
    "display(df)\n",
    "df.info()"
   ]
  },
  {
   "cell_type": "code",
   "execution_count": 3,
   "metadata": {},
   "outputs": [
    {
     "data": {
      "text/html": [
       "<div>\n",
       "<style scoped>\n",
       "    .dataframe tbody tr th:only-of-type {\n",
       "        vertical-align: middle;\n",
       "    }\n",
       "\n",
       "    .dataframe tbody tr th {\n",
       "        vertical-align: top;\n",
       "    }\n",
       "\n",
       "    .dataframe thead th {\n",
       "        text-align: right;\n",
       "    }\n",
       "</style>\n",
       "<table border=\"1\" class=\"dataframe\">\n",
       "  <thead>\n",
       "    <tr style=\"text-align: right;\">\n",
       "      <th></th>\n",
       "      <th>Price</th>\n",
       "      <th>RegistrationYear</th>\n",
       "      <th>Power</th>\n",
       "      <th>Kilometer</th>\n",
       "      <th>RegistrationMonth</th>\n",
       "      <th>NumberOfPictures</th>\n",
       "      <th>PostalCode</th>\n",
       "    </tr>\n",
       "  </thead>\n",
       "  <tbody>\n",
       "    <tr>\n",
       "      <th>count</th>\n",
       "      <td>354369.000000</td>\n",
       "      <td>354369.000000</td>\n",
       "      <td>354369.000000</td>\n",
       "      <td>354369.000000</td>\n",
       "      <td>354369.000000</td>\n",
       "      <td>354369.0</td>\n",
       "      <td>354369.000000</td>\n",
       "    </tr>\n",
       "    <tr>\n",
       "      <th>mean</th>\n",
       "      <td>4416.656776</td>\n",
       "      <td>2004.234448</td>\n",
       "      <td>110.094337</td>\n",
       "      <td>128211.172535</td>\n",
       "      <td>5.714645</td>\n",
       "      <td>0.0</td>\n",
       "      <td>50508.689087</td>\n",
       "    </tr>\n",
       "    <tr>\n",
       "      <th>std</th>\n",
       "      <td>4514.158514</td>\n",
       "      <td>90.227958</td>\n",
       "      <td>189.850405</td>\n",
       "      <td>37905.341530</td>\n",
       "      <td>3.726421</td>\n",
       "      <td>0.0</td>\n",
       "      <td>25783.096248</td>\n",
       "    </tr>\n",
       "    <tr>\n",
       "      <th>min</th>\n",
       "      <td>0.000000</td>\n",
       "      <td>1000.000000</td>\n",
       "      <td>0.000000</td>\n",
       "      <td>5000.000000</td>\n",
       "      <td>0.000000</td>\n",
       "      <td>0.0</td>\n",
       "      <td>1067.000000</td>\n",
       "    </tr>\n",
       "    <tr>\n",
       "      <th>25%</th>\n",
       "      <td>1050.000000</td>\n",
       "      <td>1999.000000</td>\n",
       "      <td>69.000000</td>\n",
       "      <td>125000.000000</td>\n",
       "      <td>3.000000</td>\n",
       "      <td>0.0</td>\n",
       "      <td>30165.000000</td>\n",
       "    </tr>\n",
       "    <tr>\n",
       "      <th>50%</th>\n",
       "      <td>2700.000000</td>\n",
       "      <td>2003.000000</td>\n",
       "      <td>105.000000</td>\n",
       "      <td>150000.000000</td>\n",
       "      <td>6.000000</td>\n",
       "      <td>0.0</td>\n",
       "      <td>49413.000000</td>\n",
       "    </tr>\n",
       "    <tr>\n",
       "      <th>75%</th>\n",
       "      <td>6400.000000</td>\n",
       "      <td>2008.000000</td>\n",
       "      <td>143.000000</td>\n",
       "      <td>150000.000000</td>\n",
       "      <td>9.000000</td>\n",
       "      <td>0.0</td>\n",
       "      <td>71083.000000</td>\n",
       "    </tr>\n",
       "    <tr>\n",
       "      <th>max</th>\n",
       "      <td>20000.000000</td>\n",
       "      <td>9999.000000</td>\n",
       "      <td>20000.000000</td>\n",
       "      <td>150000.000000</td>\n",
       "      <td>12.000000</td>\n",
       "      <td>0.0</td>\n",
       "      <td>99998.000000</td>\n",
       "    </tr>\n",
       "  </tbody>\n",
       "</table>\n",
       "</div>"
      ],
      "text/plain": [
       "               Price  RegistrationYear          Power      Kilometer  \\\n",
       "count  354369.000000     354369.000000  354369.000000  354369.000000   \n",
       "mean     4416.656776       2004.234448     110.094337  128211.172535   \n",
       "std      4514.158514         90.227958     189.850405   37905.341530   \n",
       "min         0.000000       1000.000000       0.000000    5000.000000   \n",
       "25%      1050.000000       1999.000000      69.000000  125000.000000   \n",
       "50%      2700.000000       2003.000000     105.000000  150000.000000   \n",
       "75%      6400.000000       2008.000000     143.000000  150000.000000   \n",
       "max     20000.000000       9999.000000   20000.000000  150000.000000   \n",
       "\n",
       "       RegistrationMonth  NumberOfPictures     PostalCode  \n",
       "count      354369.000000          354369.0  354369.000000  \n",
       "mean            5.714645               0.0   50508.689087  \n",
       "std             3.726421               0.0   25783.096248  \n",
       "min             0.000000               0.0    1067.000000  \n",
       "25%             3.000000               0.0   30165.000000  \n",
       "50%             6.000000               0.0   49413.000000  \n",
       "75%             9.000000               0.0   71083.000000  \n",
       "max            12.000000               0.0   99998.000000  "
      ]
     },
     "execution_count": 3,
     "metadata": {},
     "output_type": "execute_result"
    }
   ],
   "source": [
    "# Посмотрим общее распределение:\n",
    "df.describe()"
   ]
  },
  {
   "cell_type": "markdown",
   "metadata": {},
   "source": [
    "<div class=\"alert alert-warning\">\n",
    "<b>Комментарий ревьюера:</b>⚠️Что можно сразу сказать, посмотрев на это распределение в первых трех колонках. </div>\n"
   ]
  },
  {
   "cell_type": "markdown",
   "metadata": {},
   "source": [
    "<div class=\"alert alert-info\">\n",
    "<b> Комментарий студента V2:</b> Я так понял, что минимальная цена и минимальная мощность не может быть равна 0. Также год регистрации не может быть равен 1000.  \n",
    "</div>"
   ]
  },
  {
   "cell_type": "code",
   "execution_count": 4,
   "metadata": {},
   "outputs": [
    {
     "data": {
      "text/html": [
       "<div>\n",
       "<style scoped>\n",
       "    .dataframe tbody tr th:only-of-type {\n",
       "        vertical-align: middle;\n",
       "    }\n",
       "\n",
       "    .dataframe tbody tr th {\n",
       "        vertical-align: top;\n",
       "    }\n",
       "\n",
       "    .dataframe thead th {\n",
       "        text-align: right;\n",
       "    }\n",
       "</style>\n",
       "<table border=\"1\" class=\"dataframe\">\n",
       "  <thead>\n",
       "    <tr style=\"text-align: right;\">\n",
       "      <th></th>\n",
       "      <th>DateCrawled</th>\n",
       "      <th>VehicleType</th>\n",
       "      <th>Gearbox</th>\n",
       "      <th>Model</th>\n",
       "      <th>FuelType</th>\n",
       "      <th>Brand</th>\n",
       "      <th>NotRepaired</th>\n",
       "      <th>DateCreated</th>\n",
       "      <th>LastSeen</th>\n",
       "    </tr>\n",
       "  </thead>\n",
       "  <tbody>\n",
       "    <tr>\n",
       "      <th>0</th>\n",
       "      <td>2016-03-24 11:52:17</td>\n",
       "      <td>NaN</td>\n",
       "      <td>manual</td>\n",
       "      <td>golf</td>\n",
       "      <td>petrol</td>\n",
       "      <td>volkswagen</td>\n",
       "      <td>NaN</td>\n",
       "      <td>2016-03-24 00:00:00</td>\n",
       "      <td>2016-04-07 03:16:57</td>\n",
       "    </tr>\n",
       "    <tr>\n",
       "      <th>1</th>\n",
       "      <td>2016-03-24 10:58:45</td>\n",
       "      <td>coupe</td>\n",
       "      <td>manual</td>\n",
       "      <td>NaN</td>\n",
       "      <td>gasoline</td>\n",
       "      <td>audi</td>\n",
       "      <td>yes</td>\n",
       "      <td>2016-03-24 00:00:00</td>\n",
       "      <td>2016-04-07 01:46:50</td>\n",
       "    </tr>\n",
       "    <tr>\n",
       "      <th>2</th>\n",
       "      <td>2016-03-14 12:52:21</td>\n",
       "      <td>suv</td>\n",
       "      <td>auto</td>\n",
       "      <td>grand</td>\n",
       "      <td>gasoline</td>\n",
       "      <td>jeep</td>\n",
       "      <td>NaN</td>\n",
       "      <td>2016-03-14 00:00:00</td>\n",
       "      <td>2016-04-05 12:47:46</td>\n",
       "    </tr>\n",
       "    <tr>\n",
       "      <th>3</th>\n",
       "      <td>2016-03-17 16:54:04</td>\n",
       "      <td>small</td>\n",
       "      <td>manual</td>\n",
       "      <td>golf</td>\n",
       "      <td>petrol</td>\n",
       "      <td>volkswagen</td>\n",
       "      <td>no</td>\n",
       "      <td>2016-03-17 00:00:00</td>\n",
       "      <td>2016-03-17 17:40:17</td>\n",
       "    </tr>\n",
       "    <tr>\n",
       "      <th>4</th>\n",
       "      <td>2016-03-31 17:25:20</td>\n",
       "      <td>small</td>\n",
       "      <td>manual</td>\n",
       "      <td>fabia</td>\n",
       "      <td>gasoline</td>\n",
       "      <td>skoda</td>\n",
       "      <td>no</td>\n",
       "      <td>2016-03-31 00:00:00</td>\n",
       "      <td>2016-04-06 10:17:21</td>\n",
       "    </tr>\n",
       "    <tr>\n",
       "      <th>...</th>\n",
       "      <td>...</td>\n",
       "      <td>...</td>\n",
       "      <td>...</td>\n",
       "      <td>...</td>\n",
       "      <td>...</td>\n",
       "      <td>...</td>\n",
       "      <td>...</td>\n",
       "      <td>...</td>\n",
       "      <td>...</td>\n",
       "    </tr>\n",
       "    <tr>\n",
       "      <th>354364</th>\n",
       "      <td>2016-03-21 09:50:58</td>\n",
       "      <td>NaN</td>\n",
       "      <td>manual</td>\n",
       "      <td>colt</td>\n",
       "      <td>petrol</td>\n",
       "      <td>mitsubishi</td>\n",
       "      <td>yes</td>\n",
       "      <td>2016-03-21 00:00:00</td>\n",
       "      <td>2016-03-21 10:42:49</td>\n",
       "    </tr>\n",
       "    <tr>\n",
       "      <th>354365</th>\n",
       "      <td>2016-03-14 17:48:27</td>\n",
       "      <td>NaN</td>\n",
       "      <td>NaN</td>\n",
       "      <td>NaN</td>\n",
       "      <td>NaN</td>\n",
       "      <td>sonstige_autos</td>\n",
       "      <td>NaN</td>\n",
       "      <td>2016-03-14 00:00:00</td>\n",
       "      <td>2016-04-06 00:46:52</td>\n",
       "    </tr>\n",
       "    <tr>\n",
       "      <th>354366</th>\n",
       "      <td>2016-03-05 19:56:21</td>\n",
       "      <td>convertible</td>\n",
       "      <td>auto</td>\n",
       "      <td>fortwo</td>\n",
       "      <td>petrol</td>\n",
       "      <td>smart</td>\n",
       "      <td>no</td>\n",
       "      <td>2016-03-05 00:00:00</td>\n",
       "      <td>2016-03-11 18:17:12</td>\n",
       "    </tr>\n",
       "    <tr>\n",
       "      <th>354367</th>\n",
       "      <td>2016-03-19 18:57:12</td>\n",
       "      <td>bus</td>\n",
       "      <td>manual</td>\n",
       "      <td>transporter</td>\n",
       "      <td>gasoline</td>\n",
       "      <td>volkswagen</td>\n",
       "      <td>no</td>\n",
       "      <td>2016-03-19 00:00:00</td>\n",
       "      <td>2016-04-07 07:15:26</td>\n",
       "    </tr>\n",
       "    <tr>\n",
       "      <th>354368</th>\n",
       "      <td>2016-03-20 19:41:08</td>\n",
       "      <td>wagon</td>\n",
       "      <td>manual</td>\n",
       "      <td>golf</td>\n",
       "      <td>gasoline</td>\n",
       "      <td>volkswagen</td>\n",
       "      <td>NaN</td>\n",
       "      <td>2016-03-20 00:00:00</td>\n",
       "      <td>2016-03-24 12:45:21</td>\n",
       "    </tr>\n",
       "  </tbody>\n",
       "</table>\n",
       "<p>354369 rows × 9 columns</p>\n",
       "</div>"
      ],
      "text/plain": [
       "                DateCrawled  VehicleType Gearbox        Model  FuelType  \\\n",
       "0       2016-03-24 11:52:17          NaN  manual         golf    petrol   \n",
       "1       2016-03-24 10:58:45        coupe  manual          NaN  gasoline   \n",
       "2       2016-03-14 12:52:21          suv    auto        grand  gasoline   \n",
       "3       2016-03-17 16:54:04        small  manual         golf    petrol   \n",
       "4       2016-03-31 17:25:20        small  manual        fabia  gasoline   \n",
       "...                     ...          ...     ...          ...       ...   \n",
       "354364  2016-03-21 09:50:58          NaN  manual         colt    petrol   \n",
       "354365  2016-03-14 17:48:27          NaN     NaN          NaN       NaN   \n",
       "354366  2016-03-05 19:56:21  convertible    auto       fortwo    petrol   \n",
       "354367  2016-03-19 18:57:12          bus  manual  transporter  gasoline   \n",
       "354368  2016-03-20 19:41:08        wagon  manual         golf  gasoline   \n",
       "\n",
       "                 Brand NotRepaired          DateCreated             LastSeen  \n",
       "0           volkswagen         NaN  2016-03-24 00:00:00  2016-04-07 03:16:57  \n",
       "1                 audi         yes  2016-03-24 00:00:00  2016-04-07 01:46:50  \n",
       "2                 jeep         NaN  2016-03-14 00:00:00  2016-04-05 12:47:46  \n",
       "3           volkswagen          no  2016-03-17 00:00:00  2016-03-17 17:40:17  \n",
       "4                skoda          no  2016-03-31 00:00:00  2016-04-06 10:17:21  \n",
       "...                ...         ...                  ...                  ...  \n",
       "354364      mitsubishi         yes  2016-03-21 00:00:00  2016-03-21 10:42:49  \n",
       "354365  sonstige_autos         NaN  2016-03-14 00:00:00  2016-04-06 00:46:52  \n",
       "354366           smart          no  2016-03-05 00:00:00  2016-03-11 18:17:12  \n",
       "354367      volkswagen          no  2016-03-19 00:00:00  2016-04-07 07:15:26  \n",
       "354368      volkswagen         NaN  2016-03-20 00:00:00  2016-03-24 12:45:21  \n",
       "\n",
       "[354369 rows x 9 columns]"
      ]
     },
     "execution_count": 4,
     "metadata": {},
     "output_type": "execute_result"
    }
   ],
   "source": [
    "df.select_dtypes(['object'])"
   ]
  },
  {
   "cell_type": "code",
   "execution_count": 5,
   "metadata": {},
   "outputs": [
    {
     "data": {
      "text/plain": [
       "DateCrawled              0\n",
       "Price                    0\n",
       "VehicleType          37490\n",
       "RegistrationYear         0\n",
       "Gearbox              19833\n",
       "Power                    0\n",
       "Model                19705\n",
       "Kilometer                0\n",
       "RegistrationMonth        0\n",
       "FuelType             32895\n",
       "Brand                    0\n",
       "NotRepaired          71154\n",
       "DateCreated              0\n",
       "NumberOfPictures         0\n",
       "PostalCode               0\n",
       "LastSeen                 0\n",
       "dtype: int64"
      ]
     },
     "execution_count": 5,
     "metadata": {},
     "output_type": "execute_result"
    }
   ],
   "source": [
    "# посмотрим сколько пустых значений\n",
    "df.isna().sum()"
   ]
  },
  {
   "cell_type": "code",
   "execution_count": 6,
   "metadata": {},
   "outputs": [
    {
     "data": {
      "text/html": [
       "<div>\n",
       "<style scoped>\n",
       "    .dataframe tbody tr th:only-of-type {\n",
       "        vertical-align: middle;\n",
       "    }\n",
       "\n",
       "    .dataframe tbody tr th {\n",
       "        vertical-align: top;\n",
       "    }\n",
       "\n",
       "    .dataframe thead th {\n",
       "        text-align: right;\n",
       "    }\n",
       "</style>\n",
       "<table border=\"1\" class=\"dataframe\">\n",
       "  <thead>\n",
       "    <tr style=\"text-align: right;\">\n",
       "      <th></th>\n",
       "      <th>Price</th>\n",
       "      <th>RegistrationYear</th>\n",
       "      <th>Power</th>\n",
       "      <th>Kilometer</th>\n",
       "      <th>RegistrationMonth</th>\n",
       "      <th>NumberOfPictures</th>\n",
       "      <th>PostalCode</th>\n",
       "    </tr>\n",
       "  </thead>\n",
       "  <tbody>\n",
       "    <tr>\n",
       "      <th>Price</th>\n",
       "      <td>1.000000</td>\n",
       "      <td>0.026916</td>\n",
       "      <td>0.158872</td>\n",
       "      <td>-0.333199</td>\n",
       "      <td>0.110581</td>\n",
       "      <td>NaN</td>\n",
       "      <td>0.076055</td>\n",
       "    </tr>\n",
       "    <tr>\n",
       "      <th>RegistrationYear</th>\n",
       "      <td>0.026916</td>\n",
       "      <td>1.000000</td>\n",
       "      <td>-0.000828</td>\n",
       "      <td>-0.053447</td>\n",
       "      <td>-0.011619</td>\n",
       "      <td>NaN</td>\n",
       "      <td>-0.003459</td>\n",
       "    </tr>\n",
       "    <tr>\n",
       "      <th>Power</th>\n",
       "      <td>0.158872</td>\n",
       "      <td>-0.000828</td>\n",
       "      <td>1.000000</td>\n",
       "      <td>0.024002</td>\n",
       "      <td>0.043380</td>\n",
       "      <td>NaN</td>\n",
       "      <td>0.021665</td>\n",
       "    </tr>\n",
       "    <tr>\n",
       "      <th>Kilometer</th>\n",
       "      <td>-0.333199</td>\n",
       "      <td>-0.053447</td>\n",
       "      <td>0.024002</td>\n",
       "      <td>1.000000</td>\n",
       "      <td>0.009571</td>\n",
       "      <td>NaN</td>\n",
       "      <td>-0.007698</td>\n",
       "    </tr>\n",
       "    <tr>\n",
       "      <th>RegistrationMonth</th>\n",
       "      <td>0.110581</td>\n",
       "      <td>-0.011619</td>\n",
       "      <td>0.043380</td>\n",
       "      <td>0.009571</td>\n",
       "      <td>1.000000</td>\n",
       "      <td>NaN</td>\n",
       "      <td>0.013995</td>\n",
       "    </tr>\n",
       "    <tr>\n",
       "      <th>NumberOfPictures</th>\n",
       "      <td>NaN</td>\n",
       "      <td>NaN</td>\n",
       "      <td>NaN</td>\n",
       "      <td>NaN</td>\n",
       "      <td>NaN</td>\n",
       "      <td>NaN</td>\n",
       "      <td>NaN</td>\n",
       "    </tr>\n",
       "    <tr>\n",
       "      <th>PostalCode</th>\n",
       "      <td>0.076055</td>\n",
       "      <td>-0.003459</td>\n",
       "      <td>0.021665</td>\n",
       "      <td>-0.007698</td>\n",
       "      <td>0.013995</td>\n",
       "      <td>NaN</td>\n",
       "      <td>1.000000</td>\n",
       "    </tr>\n",
       "  </tbody>\n",
       "</table>\n",
       "</div>"
      ],
      "text/plain": [
       "                      Price  RegistrationYear     Power  Kilometer  \\\n",
       "Price              1.000000          0.026916  0.158872  -0.333199   \n",
       "RegistrationYear   0.026916          1.000000 -0.000828  -0.053447   \n",
       "Power              0.158872         -0.000828  1.000000   0.024002   \n",
       "Kilometer         -0.333199         -0.053447  0.024002   1.000000   \n",
       "RegistrationMonth  0.110581         -0.011619  0.043380   0.009571   \n",
       "NumberOfPictures        NaN               NaN       NaN        NaN   \n",
       "PostalCode         0.076055         -0.003459  0.021665  -0.007698   \n",
       "\n",
       "                   RegistrationMonth  NumberOfPictures  PostalCode  \n",
       "Price                       0.110581               NaN    0.076055  \n",
       "RegistrationYear           -0.011619               NaN   -0.003459  \n",
       "Power                       0.043380               NaN    0.021665  \n",
       "Kilometer                   0.009571               NaN   -0.007698  \n",
       "RegistrationMonth           1.000000               NaN    0.013995  \n",
       "NumberOfPictures                 NaN               NaN         NaN  \n",
       "PostalCode                  0.013995               NaN    1.000000  "
      ]
     },
     "execution_count": 6,
     "metadata": {},
     "output_type": "execute_result"
    }
   ],
   "source": [
    "# посмотрим корреляцию\n",
    "df.corr()"
   ]
  },
  {
   "cell_type": "markdown",
   "metadata": {},
   "source": [
    "**Вывод**<br>\n",
    "Из общего распределения можно увидеть, что:\n",
    "- В столбцах `'Price', 'Power'`  минимальное значение равняется 0, что очень не логично, нужно построить boxplot, гистограмму, чтобы посмотреть распределение\n",
    "- В столбце `'RegistrationYear'` минимальное значение равняется 1000, что не возвожно.\n",
    "- Столбцы `'RegistrationMonth', 'NumberOfPictures', 'PostalCode'` нам не интересны, поэтому их мы не будем редактировать.\n",
    "- Столбец `'NotRepaired'` имеет два уникальных значения: `yes, no`. Можно заменить на 1, 0\n",
    "- Присутствую пропуски в 4 столбцах: `VehicleType, Gearbox, Model, NotRepaired`. Нужно просмотреть распределение там и по возможность заполнить пропуски.\n",
    "- Корреляция между признаками слабая."
   ]
  },
  {
   "cell_type": "markdown",
   "metadata": {},
   "source": [
    "<div class=\"alert alert-block alert-success\">\n",
    "<b>Комментарий ревьюера:</b> ✔️Хорошо, данные загружены. Есть первичный осмотр данных.</div>"
   ]
  },
  {
   "cell_type": "markdown",
   "metadata": {},
   "source": [
    "### Обработка данных\n",
    "Начнём редактирование данных для машинного обучения. Для этого создадим DataFrame `data`"
   ]
  },
  {
   "cell_type": "markdown",
   "metadata": {},
   "source": [
    "Оставим признаки которые нам понадобятся при обучении модели.<br>\n",
    "Из всех признаков:\n",
    "- `DateCrawled` — дата скачивания анкеты из базы\n",
    "- `VehicleType` — тип автомобильного кузова\n",
    "- `RegistrationYear` — год регистрации автомобиля\n",
    "- `Gearbox` — тип коробки передач\n",
    "- `Power` — мощность (л. с.)\n",
    "- `Model` — модель автомобиля\n",
    "- `Kilometer` — пробег (км)\n",
    "- `RegistrationMonth` — месяц регистрации автомобиля\n",
    "- `FuelType` — тип топлива\n",
    "- `Brand` — марка автомобиля\n",
    "- `NotRepaired` — была машина в ремонте или нет\n",
    "- `DateCreated` — дата создания анкеты\n",
    "- `NumberOfPictures` — количество фотографий автомобиля\n",
    "- `PostalCode` — почтовый индекс владельца анкеты (пользователя)\n",
    "- `LastSeen` — дата последней активности пользователя\n",
    "- `Price` — цена (евро)\n",
    "\n",
    "\n",
    "Оставляем:\n",
    "- `Brand` — марка автомобиля\n",
    "- `Model` — модель автомобиля\n",
    "- `VehicleType` — тип автомобильного кузова\n",
    "- `Gearbox` — тип коробки передач\n",
    "- `Power` — мощность (л. с.)\n",
    "- `FuelType` — тип топлива\n",
    "- `RegistrationYear` — год регистрации автомобиля\n",
    "- `Kilometer` — пробег (км)\n",
    "- `NotRepaired` — была машина в ремонте или нет\n",
    "- `Price` — цена (евро) "
   ]
  },
  {
   "cell_type": "markdown",
   "metadata": {},
   "source": [
    "<div class=\"alert alert-danger\">\n",
    "<b>Комментарий ревьюера:</b>  ❌Год регистрации, важный для нас признак, даже чисто интуитивно, можно сделать вывод, что чем новей машина тем она дороже. </div>"
   ]
  },
  {
   "cell_type": "markdown",
   "metadata": {},
   "source": [
    "<div class=\"alert alert-info\">\n",
    "    <b> Комментарий студента V2:</b> Добавил год регистрации\n",
    "    \n",
    "</div>"
   ]
  },
  {
   "cell_type": "code",
   "execution_count": 7,
   "metadata": {},
   "outputs": [
    {
     "data": {
      "text/plain": [
       "(354369, 10)"
      ]
     },
     "execution_count": 7,
     "metadata": {},
     "output_type": "execute_result"
    }
   ],
   "source": [
    "data = df[[\n",
    "    'Brand',\n",
    "    'Model',\n",
    "    'VehicleType',\n",
    "    'Gearbox',\n",
    "    'Power',\n",
    "    'FuelType',\n",
    "    'RegistrationYear',\n",
    "    'Kilometer',\n",
    "    'NotRepaired',\n",
    "    'Price'\n",
    "]]\n",
    "\n",
    "data.shape"
   ]
  },
  {
   "cell_type": "code",
   "execution_count": 8,
   "metadata": {},
   "outputs": [
    {
     "data": {
      "text/plain": [
       "45040"
      ]
     },
     "execution_count": 8,
     "metadata": {},
     "output_type": "execute_result"
    }
   ],
   "source": [
    "# Проверим на наличие дубликатов\n",
    "data.duplicated().sum()"
   ]
  },
  {
   "cell_type": "code",
   "execution_count": 9,
   "metadata": {},
   "outputs": [],
   "source": [
    "# Удалим их\n",
    "data = data.drop_duplicates()"
   ]
  },
  {
   "cell_type": "markdown",
   "metadata": {},
   "source": [
    "---"
   ]
  },
  {
   "cell_type": "markdown",
   "metadata": {},
   "source": [
    "#### Ограничения"
   ]
  },
  {
   "cell_type": "markdown",
   "metadata": {},
   "source": [
    "Посмотрим распределение и уберём выбросы"
   ]
  },
  {
   "cell_type": "code",
   "execution_count": 10,
   "metadata": {},
   "outputs": [
    {
     "data": {
      "text/html": [
       "<div>\n",
       "<style scoped>\n",
       "    .dataframe tbody tr th:only-of-type {\n",
       "        vertical-align: middle;\n",
       "    }\n",
       "\n",
       "    .dataframe tbody tr th {\n",
       "        vertical-align: top;\n",
       "    }\n",
       "\n",
       "    .dataframe thead th {\n",
       "        text-align: right;\n",
       "    }\n",
       "</style>\n",
       "<table border=\"1\" class=\"dataframe\">\n",
       "  <thead>\n",
       "    <tr style=\"text-align: right;\">\n",
       "      <th></th>\n",
       "      <th>Brand</th>\n",
       "      <th>Model</th>\n",
       "      <th>VehicleType</th>\n",
       "      <th>Gearbox</th>\n",
       "      <th>Power</th>\n",
       "      <th>FuelType</th>\n",
       "      <th>RegistrationYear</th>\n",
       "      <th>Kilometer</th>\n",
       "      <th>NotRepaired</th>\n",
       "      <th>Price</th>\n",
       "    </tr>\n",
       "  </thead>\n",
       "  <tbody>\n",
       "    <tr>\n",
       "      <th>0</th>\n",
       "      <td>volkswagen</td>\n",
       "      <td>golf</td>\n",
       "      <td>NaN</td>\n",
       "      <td>manual</td>\n",
       "      <td>0</td>\n",
       "      <td>petrol</td>\n",
       "      <td>1993</td>\n",
       "      <td>150000</td>\n",
       "      <td>NaN</td>\n",
       "      <td>480</td>\n",
       "    </tr>\n",
       "    <tr>\n",
       "      <th>1</th>\n",
       "      <td>audi</td>\n",
       "      <td>NaN</td>\n",
       "      <td>coupe</td>\n",
       "      <td>manual</td>\n",
       "      <td>190</td>\n",
       "      <td>gasoline</td>\n",
       "      <td>2011</td>\n",
       "      <td>125000</td>\n",
       "      <td>yes</td>\n",
       "      <td>18300</td>\n",
       "    </tr>\n",
       "    <tr>\n",
       "      <th>2</th>\n",
       "      <td>jeep</td>\n",
       "      <td>grand</td>\n",
       "      <td>suv</td>\n",
       "      <td>auto</td>\n",
       "      <td>163</td>\n",
       "      <td>gasoline</td>\n",
       "      <td>2004</td>\n",
       "      <td>125000</td>\n",
       "      <td>NaN</td>\n",
       "      <td>9800</td>\n",
       "    </tr>\n",
       "    <tr>\n",
       "      <th>3</th>\n",
       "      <td>volkswagen</td>\n",
       "      <td>golf</td>\n",
       "      <td>small</td>\n",
       "      <td>manual</td>\n",
       "      <td>75</td>\n",
       "      <td>petrol</td>\n",
       "      <td>2001</td>\n",
       "      <td>150000</td>\n",
       "      <td>no</td>\n",
       "      <td>1500</td>\n",
       "    </tr>\n",
       "    <tr>\n",
       "      <th>4</th>\n",
       "      <td>skoda</td>\n",
       "      <td>fabia</td>\n",
       "      <td>small</td>\n",
       "      <td>manual</td>\n",
       "      <td>69</td>\n",
       "      <td>gasoline</td>\n",
       "      <td>2008</td>\n",
       "      <td>90000</td>\n",
       "      <td>no</td>\n",
       "      <td>3600</td>\n",
       "    </tr>\n",
       "  </tbody>\n",
       "</table>\n",
       "</div>"
      ],
      "text/plain": [
       "        Brand  Model VehicleType Gearbox  Power  FuelType  RegistrationYear  \\\n",
       "0  volkswagen   golf         NaN  manual      0    petrol              1993   \n",
       "1        audi    NaN       coupe  manual    190  gasoline              2011   \n",
       "2        jeep  grand         suv    auto    163  gasoline              2004   \n",
       "3  volkswagen   golf       small  manual     75    petrol              2001   \n",
       "4       skoda  fabia       small  manual     69  gasoline              2008   \n",
       "\n",
       "   Kilometer NotRepaired  Price  \n",
       "0     150000         NaN    480  \n",
       "1     125000         yes  18300  \n",
       "2     125000         NaN   9800  \n",
       "3     150000          no   1500  \n",
       "4      90000          no   3600  "
      ]
     },
     "execution_count": 10,
     "metadata": {},
     "output_type": "execute_result"
    }
   ],
   "source": [
    "data.head()"
   ]
  },
  {
   "cell_type": "code",
   "execution_count": 11,
   "metadata": {
    "scrolled": true
   },
   "outputs": [
    {
     "data": {
      "text/html": [
       "<div>\n",
       "<style scoped>\n",
       "    .dataframe tbody tr th:only-of-type {\n",
       "        vertical-align: middle;\n",
       "    }\n",
       "\n",
       "    .dataframe tbody tr th {\n",
       "        vertical-align: top;\n",
       "    }\n",
       "\n",
       "    .dataframe thead th {\n",
       "        text-align: right;\n",
       "    }\n",
       "</style>\n",
       "<table border=\"1\" class=\"dataframe\">\n",
       "  <thead>\n",
       "    <tr style=\"text-align: right;\">\n",
       "      <th></th>\n",
       "      <th>Power</th>\n",
       "      <th>RegistrationYear</th>\n",
       "      <th>Kilometer</th>\n",
       "      <th>Price</th>\n",
       "    </tr>\n",
       "  </thead>\n",
       "  <tbody>\n",
       "    <tr>\n",
       "      <th>count</th>\n",
       "      <td>309329.000000</td>\n",
       "      <td>309329.000000</td>\n",
       "      <td>309329.000000</td>\n",
       "      <td>309329.000000</td>\n",
       "    </tr>\n",
       "    <tr>\n",
       "      <th>mean</th>\n",
       "      <td>110.976908</td>\n",
       "      <td>2004.360105</td>\n",
       "      <td>127217.735809</td>\n",
       "      <td>4486.937196</td>\n",
       "    </tr>\n",
       "    <tr>\n",
       "      <th>std</th>\n",
       "      <td>200.969473</td>\n",
       "      <td>92.541399</td>\n",
       "      <td>38532.941010</td>\n",
       "      <td>4564.852796</td>\n",
       "    </tr>\n",
       "    <tr>\n",
       "      <th>min</th>\n",
       "      <td>0.000000</td>\n",
       "      <td>1000.000000</td>\n",
       "      <td>5000.000000</td>\n",
       "      <td>0.000000</td>\n",
       "    </tr>\n",
       "    <tr>\n",
       "      <th>25%</th>\n",
       "      <td>69.000000</td>\n",
       "      <td>1999.000000</td>\n",
       "      <td>125000.000000</td>\n",
       "      <td>1100.000000</td>\n",
       "    </tr>\n",
       "    <tr>\n",
       "      <th>50%</th>\n",
       "      <td>105.000000</td>\n",
       "      <td>2003.000000</td>\n",
       "      <td>150000.000000</td>\n",
       "      <td>2800.000000</td>\n",
       "    </tr>\n",
       "    <tr>\n",
       "      <th>75%</th>\n",
       "      <td>143.000000</td>\n",
       "      <td>2008.000000</td>\n",
       "      <td>150000.000000</td>\n",
       "      <td>6500.000000</td>\n",
       "    </tr>\n",
       "    <tr>\n",
       "      <th>max</th>\n",
       "      <td>20000.000000</td>\n",
       "      <td>9999.000000</td>\n",
       "      <td>150000.000000</td>\n",
       "      <td>20000.000000</td>\n",
       "    </tr>\n",
       "  </tbody>\n",
       "</table>\n",
       "</div>"
      ],
      "text/plain": [
       "               Power  RegistrationYear      Kilometer          Price\n",
       "count  309329.000000     309329.000000  309329.000000  309329.000000\n",
       "mean      110.976908       2004.360105  127217.735809    4486.937196\n",
       "std       200.969473         92.541399   38532.941010    4564.852796\n",
       "min         0.000000       1000.000000    5000.000000       0.000000\n",
       "25%        69.000000       1999.000000  125000.000000    1100.000000\n",
       "50%       105.000000       2003.000000  150000.000000    2800.000000\n",
       "75%       143.000000       2008.000000  150000.000000    6500.000000\n",
       "max     20000.000000       9999.000000  150000.000000   20000.000000"
      ]
     },
     "execution_count": 11,
     "metadata": {},
     "output_type": "execute_result"
    }
   ],
   "source": [
    "data.describe()"
   ]
  },
  {
   "cell_type": "markdown",
   "metadata": {},
   "source": [
    "**RegistrationYear**"
   ]
  },
  {
   "cell_type": "code",
   "execution_count": 12,
   "metadata": {},
   "outputs": [
    {
     "data": {
      "image/png": "[encoded data removed]",
      "text/plain": [
       "<Figure size 864x360 with 2 Axes>"
      ]
     },
     "metadata": {
      "needs_background": "light"
     },
     "output_type": "display_data"
    }
   ],
   "source": [
    "# распределение в столбце RegistrationYear\n",
    "fig, axes = plt.subplots(1, 2, figsize = (12,5))\n",
    "\n",
    "plt.subplot(1,2,1)\n",
    "data.boxplot(column='RegistrationYear')\n",
    "\n",
    "plt.subplot(1,2,2)\n",
    "data.boxplot(column='RegistrationYear')\n",
    "plt.ylim(1900, 2040)\n",
    "\n",
    "plt.show()"
   ]
  },
  {
   "cell_type": "code",
   "execution_count": 13,
   "metadata": {},
   "outputs": [
    {
     "data": {
      "text/html": [
       "<div>\n",
       "<style scoped>\n",
       "    .dataframe tbody tr th:only-of-type {\n",
       "        vertical-align: middle;\n",
       "    }\n",
       "\n",
       "    .dataframe tbody tr th {\n",
       "        vertical-align: top;\n",
       "    }\n",
       "\n",
       "    .dataframe thead th {\n",
       "        text-align: right;\n",
       "    }\n",
       "</style>\n",
       "<table border=\"1\" class=\"dataframe\">\n",
       "  <thead>\n",
       "    <tr style=\"text-align: right;\">\n",
       "      <th></th>\n",
       "      <th>Brand</th>\n",
       "      <th>Model</th>\n",
       "      <th>VehicleType</th>\n",
       "      <th>Gearbox</th>\n",
       "      <th>Power</th>\n",
       "      <th>FuelType</th>\n",
       "      <th>RegistrationYear</th>\n",
       "      <th>Kilometer</th>\n",
       "      <th>NotRepaired</th>\n",
       "      <th>Price</th>\n",
       "    </tr>\n",
       "  </thead>\n",
       "  <tbody>\n",
       "    <tr>\n",
       "      <th>48958</th>\n",
       "      <td>opel</td>\n",
       "      <td>agila</td>\n",
       "      <td>small</td>\n",
       "      <td>manual</td>\n",
       "      <td>0</td>\n",
       "      <td>NaN</td>\n",
       "      <td>1910</td>\n",
       "      <td>5000</td>\n",
       "      <td>yes</td>\n",
       "      <td>600</td>\n",
       "    </tr>\n",
       "    <tr>\n",
       "      <th>318111</th>\n",
       "      <td>volkswagen</td>\n",
       "      <td>golf</td>\n",
       "      <td>NaN</td>\n",
       "      <td>NaN</td>\n",
       "      <td>0</td>\n",
       "      <td>NaN</td>\n",
       "      <td>1910</td>\n",
       "      <td>125000</td>\n",
       "      <td>NaN</td>\n",
       "      <td>1</td>\n",
       "    </tr>\n",
       "    <tr>\n",
       "      <th>82829</th>\n",
       "      <td>opel</td>\n",
       "      <td>corsa</td>\n",
       "      <td>NaN</td>\n",
       "      <td>NaN</td>\n",
       "      <td>0</td>\n",
       "      <td>NaN</td>\n",
       "      <td>1910</td>\n",
       "      <td>150000</td>\n",
       "      <td>NaN</td>\n",
       "      <td>500</td>\n",
       "    </tr>\n",
       "    <tr>\n",
       "      <th>78374</th>\n",
       "      <td>audi</td>\n",
       "      <td>NaN</td>\n",
       "      <td>other</td>\n",
       "      <td>NaN</td>\n",
       "      <td>0</td>\n",
       "      <td>NaN</td>\n",
       "      <td>1910</td>\n",
       "      <td>5000</td>\n",
       "      <td>NaN</td>\n",
       "      <td>250</td>\n",
       "    </tr>\n",
       "    <tr>\n",
       "      <th>200148</th>\n",
       "      <td>audi</td>\n",
       "      <td>a4</td>\n",
       "      <td>NaN</td>\n",
       "      <td>NaN</td>\n",
       "      <td>0</td>\n",
       "      <td>NaN</td>\n",
       "      <td>1910</td>\n",
       "      <td>150000</td>\n",
       "      <td>NaN</td>\n",
       "      <td>0</td>\n",
       "    </tr>\n",
       "    <tr>\n",
       "      <th>...</th>\n",
       "      <td>...</td>\n",
       "      <td>...</td>\n",
       "      <td>...</td>\n",
       "      <td>...</td>\n",
       "      <td>...</td>\n",
       "      <td>...</td>\n",
       "      <td>...</td>\n",
       "      <td>...</td>\n",
       "      <td>...</td>\n",
       "      <td>...</td>\n",
       "    </tr>\n",
       "    <tr>\n",
       "      <th>61345</th>\n",
       "      <td>hyundai</td>\n",
       "      <td>i_reihe</td>\n",
       "      <td>NaN</td>\n",
       "      <td>NaN</td>\n",
       "      <td>0</td>\n",
       "      <td>gasoline</td>\n",
       "      <td>2019</td>\n",
       "      <td>30000</td>\n",
       "      <td>no</td>\n",
       "      <td>19490</td>\n",
       "    </tr>\n",
       "    <tr>\n",
       "      <th>178620</th>\n",
       "      <td>volkswagen</td>\n",
       "      <td>polo</td>\n",
       "      <td>NaN</td>\n",
       "      <td>manual</td>\n",
       "      <td>90</td>\n",
       "      <td>petrol</td>\n",
       "      <td>2019</td>\n",
       "      <td>5000</td>\n",
       "      <td>no</td>\n",
       "      <td>15500</td>\n",
       "    </tr>\n",
       "    <tr>\n",
       "      <th>126686</th>\n",
       "      <td>bmw</td>\n",
       "      <td>5er</td>\n",
       "      <td>NaN</td>\n",
       "      <td>manual</td>\n",
       "      <td>1</td>\n",
       "      <td>NaN</td>\n",
       "      <td>2019</td>\n",
       "      <td>150000</td>\n",
       "      <td>NaN</td>\n",
       "      <td>0</td>\n",
       "    </tr>\n",
       "    <tr>\n",
       "      <th>62996</th>\n",
       "      <td>volkswagen</td>\n",
       "      <td>passat</td>\n",
       "      <td>NaN</td>\n",
       "      <td>auto</td>\n",
       "      <td>170</td>\n",
       "      <td>NaN</td>\n",
       "      <td>2019</td>\n",
       "      <td>150000</td>\n",
       "      <td>no</td>\n",
       "      <td>7900</td>\n",
       "    </tr>\n",
       "    <tr>\n",
       "      <th>50749</th>\n",
       "      <td>mercedes_benz</td>\n",
       "      <td>s_klasse</td>\n",
       "      <td>NaN</td>\n",
       "      <td>auto</td>\n",
       "      <td>0</td>\n",
       "      <td>cng</td>\n",
       "      <td>2019</td>\n",
       "      <td>100000</td>\n",
       "      <td>no</td>\n",
       "      <td>10000</td>\n",
       "    </tr>\n",
       "  </tbody>\n",
       "</table>\n",
       "<p>309167 rows × 10 columns</p>\n",
       "</div>"
      ],
      "text/plain": [
       "                Brand     Model VehicleType Gearbox  Power  FuelType  \\\n",
       "48958            opel     agila       small  manual      0       NaN   \n",
       "318111     volkswagen      golf         NaN     NaN      0       NaN   \n",
       "82829            opel     corsa         NaN     NaN      0       NaN   \n",
       "78374            audi       NaN       other     NaN      0       NaN   \n",
       "200148           audi        a4         NaN     NaN      0       NaN   \n",
       "...               ...       ...         ...     ...    ...       ...   \n",
       "61345         hyundai   i_reihe         NaN     NaN      0  gasoline   \n",
       "178620     volkswagen      polo         NaN  manual     90    petrol   \n",
       "126686            bmw       5er         NaN  manual      1       NaN   \n",
       "62996      volkswagen    passat         NaN    auto    170       NaN   \n",
       "50749   mercedes_benz  s_klasse         NaN    auto      0       cng   \n",
       "\n",
       "        RegistrationYear  Kilometer NotRepaired  Price  \n",
       "48958               1910       5000         yes    600  \n",
       "318111              1910     125000         NaN      1  \n",
       "82829               1910     150000         NaN    500  \n",
       "78374               1910       5000         NaN    250  \n",
       "200148              1910     150000         NaN      0  \n",
       "...                  ...        ...         ...    ...  \n",
       "61345               2019      30000          no  19490  \n",
       "178620              2019       5000          no  15500  \n",
       "126686              2019     150000         NaN      0  \n",
       "62996               2019     150000          no   7900  \n",
       "50749               2019     100000          no  10000  \n",
       "\n",
       "[309167 rows x 10 columns]"
      ]
     },
     "execution_count": 13,
     "metadata": {},
     "output_type": "execute_result"
    }
   ],
   "source": [
    "# посмотрим с 1900 по 2040\n",
    "data[(data['RegistrationYear'] >=1900) & (data['RegistrationYear'] <= 2022)].sort_values(by='RegistrationYear')"
   ]
  },
  {
   "cell_type": "markdown",
   "metadata": {},
   "source": [
    "Можно сделать вывод, что данные были введены неправильно, поэтому ограничим годы с 1985 по 2022:"
   ]
  },
  {
   "cell_type": "code",
   "execution_count": 14,
   "metadata": {},
   "outputs": [],
   "source": [
    "data = data[(data['RegistrationYear'] >= 1985) & (data['RegistrationYear'] <= 2022)]"
   ]
  },
  {
   "cell_type": "markdown",
   "metadata": {},
   "source": [
    "**Power**"
   ]
  },
  {
   "cell_type": "code",
   "execution_count": 15,
   "metadata": {},
   "outputs": [
    {
     "data": {
      "image/png": "[encoded data removed]",
      "text/plain": [
       "<Figure size 864x360 with 2 Axes>"
      ]
     },
     "metadata": {
      "needs_background": "light"
     },
     "output_type": "display_data"
    }
   ],
   "source": [
    "# распределение в столбце Power\n",
    "fig, axes = plt.subplots(1, 2, figsize = (12,5))\n",
    "\n",
    "plt.subplot(1,2,1)\n",
    "data.boxplot(column='Power')\n",
    "\n",
    "plt.subplot(1,2,2)\n",
    "data.boxplot(column='Power')\n",
    "plt.ylim(-10, 300)\n",
    "\n",
    "plt.show()"
   ]
  },
  {
   "cell_type": "code",
   "execution_count": 16,
   "metadata": {},
   "outputs": [
    {
     "data": {
      "text/html": [
       "<div>\n",
       "<style scoped>\n",
       "    .dataframe tbody tr th:only-of-type {\n",
       "        vertical-align: middle;\n",
       "    }\n",
       "\n",
       "    .dataframe tbody tr th {\n",
       "        vertical-align: top;\n",
       "    }\n",
       "\n",
       "    .dataframe thead th {\n",
       "        text-align: right;\n",
       "    }\n",
       "</style>\n",
       "<table border=\"1\" class=\"dataframe\">\n",
       "  <thead>\n",
       "    <tr style=\"text-align: right;\">\n",
       "      <th></th>\n",
       "      <th>Power</th>\n",
       "      <th>Quantity</th>\n",
       "    </tr>\n",
       "  </thead>\n",
       "  <tbody>\n",
       "    <tr>\n",
       "      <th>0</th>\n",
       "      <td>0</td>\n",
       "      <td>34346</td>\n",
       "    </tr>\n",
       "    <tr>\n",
       "      <th>234</th>\n",
       "      <td>1</td>\n",
       "      <td>28</td>\n",
       "    </tr>\n",
       "    <tr>\n",
       "      <th>302</th>\n",
       "      <td>2</td>\n",
       "      <td>9</td>\n",
       "    </tr>\n",
       "    <tr>\n",
       "      <th>315</th>\n",
       "      <td>3</td>\n",
       "      <td>7</td>\n",
       "    </tr>\n",
       "    <tr>\n",
       "      <th>237</th>\n",
       "      <td>4</td>\n",
       "      <td>26</td>\n",
       "    </tr>\n",
       "    <tr>\n",
       "      <th>...</th>\n",
       "      <td>...</td>\n",
       "      <td>...</td>\n",
       "    </tr>\n",
       "    <tr>\n",
       "      <th>542</th>\n",
       "      <td>17932</td>\n",
       "      <td>1</td>\n",
       "    </tr>\n",
       "    <tr>\n",
       "      <th>609</th>\n",
       "      <td>19208</td>\n",
       "      <td>1</td>\n",
       "    </tr>\n",
       "    <tr>\n",
       "      <th>505</th>\n",
       "      <td>19211</td>\n",
       "      <td>1</td>\n",
       "    </tr>\n",
       "    <tr>\n",
       "      <th>586</th>\n",
       "      <td>19312</td>\n",
       "      <td>1</td>\n",
       "    </tr>\n",
       "    <tr>\n",
       "      <th>508</th>\n",
       "      <td>20000</td>\n",
       "      <td>1</td>\n",
       "    </tr>\n",
       "  </tbody>\n",
       "</table>\n",
       "<p>706 rows × 2 columns</p>\n",
       "</div>"
      ],
      "text/plain": [
       "     Power  Quantity\n",
       "0        0     34346\n",
       "234      1        28\n",
       "302      2         9\n",
       "315      3         7\n",
       "237      4        26\n",
       "..     ...       ...\n",
       "542  17932         1\n",
       "609  19208         1\n",
       "505  19211         1\n",
       "586  19312         1\n",
       "508  20000         1\n",
       "\n",
       "[706 rows x 2 columns]"
      ]
     },
     "execution_count": 16,
     "metadata": {},
     "output_type": "execute_result"
    }
   ],
   "source": [
    "power = data['Power'].value_counts().reset_index().sort_values(by='index', ascending=True)\n",
    "power_df = pd.DataFrame(power)\n",
    "power_df.rename(columns={'index': 'Power', 'Power': 'Quantity'}, inplace=True)\n",
    "\n",
    "power_df"
   ]
  },
  {
   "cell_type": "markdown",
   "metadata": {},
   "source": [
    "Имеет смысл поставить ограничения с 50 л.с. до 1200 л.с."
   ]
  },
  {
   "cell_type": "code",
   "execution_count": 17,
   "metadata": {},
   "outputs": [],
   "source": [
    "data = data[(data['Power'] >= 50) & (data['Power'] <= 1200)]"
   ]
  },
  {
   "cell_type": "markdown",
   "metadata": {},
   "source": [
    "<div class=\"alert alert-danger\">\n",
    "<b>Комментарий ревьюера:</b>  ❌Верхнюю границу обозначили, но почему именно 270л.с., есть например Porsche, также остались машины с мощностью 0 л.с., лучше ограничить самой маломощной, здесь это Smart.) </div>"
   ]
  },
  {
   "cell_type": "markdown",
   "metadata": {},
   "source": [
    "<div class=\"alert alert-info\"> <b>Комментарий студента V2:</b> Исправил</div>"
   ]
  },
  {
   "cell_type": "markdown",
   "metadata": {},
   "source": [
    "**Kilometer**"
   ]
  },
  {
   "cell_type": "code",
   "execution_count": 18,
   "metadata": {},
   "outputs": [
    {
     "data": {
      "image/png": "[encoded data removed]",
      "text/plain": [
       "<Figure size 864x360 with 1 Axes>"
      ]
     },
     "metadata": {
      "needs_background": "light"
     },
     "output_type": "display_data"
    },
    {
     "name": "stdout",
     "output_type": "stream",
     "text": [
      "[5000, 10000, 20000, 30000, 40000, 50000, 60000, 70000, 80000, 90000, 100000, 125000, 150000]\n"
     ]
    }
   ],
   "source": [
    "# распределение в столбце Kilometer\n",
    "data.plot(kind='hist',\n",
    "         y='Kilometer',\n",
    "         range=(0, 160000),\n",
    "         bins=32,\n",
    "         figsize=(12, 5),\n",
    "         grid=True,\n",
    "         label='Kilometer')\n",
    "plt.show()\n",
    "\n",
    "print(sorted(data['Kilometer'].unique()))"
   ]
  },
  {
   "cell_type": "markdown",
   "metadata": {},
   "source": [
    "Тут ничего странного нет. Да, большинство машин имеют пробег в 125000, 150000 км"
   ]
  },
  {
   "cell_type": "markdown",
   "metadata": {},
   "source": [
    "**Price**"
   ]
  },
  {
   "cell_type": "code",
   "execution_count": 19,
   "metadata": {},
   "outputs": [
    {
     "data": {
      "text/plain": [
       "<AxesSubplot:>"
      ]
     },
     "execution_count": 19,
     "metadata": {},
     "output_type": "execute_result"
    },
    {
     "data": {
      "image/png": "[encoded data removed]",
      "text/plain": [
       "<Figure size 432x288 with 1 Axes>"
      ]
     },
     "metadata": {
      "needs_background": "light"
     },
     "output_type": "display_data"
    }
   ],
   "source": [
    "# Проанализируем цену на автомобили\n",
    "data.boxplot(column='Price')"
   ]
  },
  {
   "cell_type": "code",
   "execution_count": 20,
   "metadata": {},
   "outputs": [
    {
     "data": {
      "text/plain": [
       "<AxesSubplot:ylabel='Frequency'>"
      ]
     },
     "execution_count": 20,
     "metadata": {},
     "output_type": "execute_result"
    },
    {
     "data": {
      "image/png": "[encoded data removed]",
      "text/plain": [
       "<Figure size 864x360 with 1 Axes>"
      ]
     },
     "metadata": {
      "needs_background": "light"
     },
     "output_type": "display_data"
    },
    {
     "data": {
      "image/png": "[encoded data removed]",
      "text/plain": [
       "<Figure size 864x360 with 1 Axes>"
      ]
     },
     "metadata": {
      "needs_background": "light"
     },
     "output_type": "display_data"
    }
   ],
   "source": [
    "# Распределение в столбце Price\n",
    "data.plot(kind='hist',\n",
    "        y='Price',\n",
    "        bins=40,\n",
    "        figsize = (12, 5),\n",
    "        grid=True,\n",
    "        label='Price')\n",
    "\n",
    "data.plot(kind='hist',\n",
    "        y='Price',\n",
    "        bins=10,\n",
    "        range = (0, 1000),\n",
    "        figsize = (12, 5),\n",
    "        grid=True,\n",
    "        label='Price')"
   ]
  },
  {
   "cell_type": "markdown",
   "metadata": {},
   "source": [
    "Можно увидеть, что очень много машин с ценой 0, что не может быть. Имеет смысл ограничить с 900 у.е."
   ]
  },
  {
   "cell_type": "code",
   "execution_count": 21,
   "metadata": {},
   "outputs": [],
   "source": [
    "# Удалим выбросы\n",
    "data = data[data['Price'] > 900]"
   ]
  },
  {
   "cell_type": "code",
   "execution_count": 22,
   "metadata": {
    "scrolled": false
   },
   "outputs": [
    {
     "data": {
      "text/html": [
       "<div>\n",
       "<style scoped>\n",
       "    .dataframe tbody tr th:only-of-type {\n",
       "        vertical-align: middle;\n",
       "    }\n",
       "\n",
       "    .dataframe tbody tr th {\n",
       "        vertical-align: top;\n",
       "    }\n",
       "\n",
       "    .dataframe thead th {\n",
       "        text-align: right;\n",
       "    }\n",
       "</style>\n",
       "<table border=\"1\" class=\"dataframe\">\n",
       "  <thead>\n",
       "    <tr style=\"text-align: right;\">\n",
       "      <th></th>\n",
       "      <th>Power</th>\n",
       "      <th>RegistrationYear</th>\n",
       "      <th>Kilometer</th>\n",
       "      <th>Price</th>\n",
       "    </tr>\n",
       "  </thead>\n",
       "  <tbody>\n",
       "    <tr>\n",
       "      <th>count</th>\n",
       "      <td>218588.000000</td>\n",
       "      <td>218588.000000</td>\n",
       "      <td>218588.000000</td>\n",
       "      <td>218588.000000</td>\n",
       "    </tr>\n",
       "    <tr>\n",
       "      <th>mean</th>\n",
       "      <td>128.951891</td>\n",
       "      <td>2004.641618</td>\n",
       "      <td>125677.004227</td>\n",
       "      <td>5733.569025</td>\n",
       "    </tr>\n",
       "    <tr>\n",
       "      <th>std</th>\n",
       "      <td>55.755841</td>\n",
       "      <td>5.866832</td>\n",
       "      <td>37912.740764</td>\n",
       "      <td>4606.392864</td>\n",
       "    </tr>\n",
       "    <tr>\n",
       "      <th>min</th>\n",
       "      <td>50.000000</td>\n",
       "      <td>1985.000000</td>\n",
       "      <td>5000.000000</td>\n",
       "      <td>901.000000</td>\n",
       "    </tr>\n",
       "    <tr>\n",
       "      <th>25%</th>\n",
       "      <td>90.000000</td>\n",
       "      <td>2001.000000</td>\n",
       "      <td>100000.000000</td>\n",
       "      <td>2100.000000</td>\n",
       "    </tr>\n",
       "    <tr>\n",
       "      <th>50%</th>\n",
       "      <td>120.000000</td>\n",
       "      <td>2005.000000</td>\n",
       "      <td>150000.000000</td>\n",
       "      <td>4100.000000</td>\n",
       "    </tr>\n",
       "    <tr>\n",
       "      <th>75%</th>\n",
       "      <td>150.000000</td>\n",
       "      <td>2008.000000</td>\n",
       "      <td>150000.000000</td>\n",
       "      <td>7999.000000</td>\n",
       "    </tr>\n",
       "    <tr>\n",
       "      <th>max</th>\n",
       "      <td>1164.000000</td>\n",
       "      <td>2019.000000</td>\n",
       "      <td>150000.000000</td>\n",
       "      <td>20000.000000</td>\n",
       "    </tr>\n",
       "  </tbody>\n",
       "</table>\n",
       "</div>"
      ],
      "text/plain": [
       "               Power  RegistrationYear      Kilometer          Price\n",
       "count  218588.000000     218588.000000  218588.000000  218588.000000\n",
       "mean      128.951891       2004.641618  125677.004227    5733.569025\n",
       "std        55.755841          5.866832   37912.740764    4606.392864\n",
       "min        50.000000       1985.000000    5000.000000     901.000000\n",
       "25%        90.000000       2001.000000  100000.000000    2100.000000\n",
       "50%       120.000000       2005.000000  150000.000000    4100.000000\n",
       "75%       150.000000       2008.000000  150000.000000    7999.000000\n",
       "max      1164.000000       2019.000000  150000.000000   20000.000000"
      ]
     },
     "execution_count": 22,
     "metadata": {},
     "output_type": "execute_result"
    }
   ],
   "source": [
    "#код ревьюера\n",
    "data.describe()"
   ]
  },
  {
   "cell_type": "markdown",
   "metadata": {},
   "source": [
    "<div class=\"alert alert-danger\">\n",
    "<b>Комментарий ревьюера:</b>  ❌Давай размышлять логичеки, разве машина не может стоитьболее 16 000 у.е., мне кажется вполне, а вот 0 стоимсоть точно не может быть, думаю оптимальная граница от 800 у.е. Можно конечно использовать статистические методы, взять квантили.) </div>"
   ]
  },
  {
   "cell_type": "markdown",
   "metadata": {},
   "source": [
    "<div class=\"alert alert-info\"> <b>Комментарий студента V2:</b> Исправил</div>"
   ]
  },
  {
   "cell_type": "markdown",
   "metadata": {},
   "source": [
    "\n",
    "<div class=\"alert alert-success\">\n",
    "<b>Комментарий ревьюера v.2:</b> ✔️Отлично, от выбросов избавилсиь!\t👍 </div>"
   ]
  },
  {
   "cell_type": "markdown",
   "metadata": {},
   "source": [
    "----"
   ]
  },
  {
   "cell_type": "markdown",
   "metadata": {},
   "source": [
    "#### Пропуски"
   ]
  },
  {
   "cell_type": "code",
   "execution_count": 23,
   "metadata": {},
   "outputs": [
    {
     "data": {
      "text/plain": [
       "(218588, 10)"
      ]
     },
     "execution_count": 23,
     "metadata": {},
     "output_type": "execute_result"
    }
   ],
   "source": [
    "data.shape"
   ]
  },
  {
   "cell_type": "code",
   "execution_count": 24,
   "metadata": {},
   "outputs": [
    {
     "data": {
      "text/plain": [
       "Brand                   0\n",
       "Model                7887\n",
       "VehicleType         13777\n",
       "Gearbox              3731\n",
       "Power                   0\n",
       "FuelType            12506\n",
       "RegistrationYear        0\n",
       "Kilometer               0\n",
       "NotRepaired         29894\n",
       "Price                   0\n",
       "dtype: int64"
      ]
     },
     "execution_count": 24,
     "metadata": {},
     "output_type": "execute_result"
    }
   ],
   "source": [
    "data.isna().sum()"
   ]
  },
  {
   "cell_type": "markdown",
   "metadata": {},
   "source": [
    "Как мы видим данные параметры имеют такое количество пропусков:\n",
    "\n",
    " - `Model` (модель автомобиля) - 7 887\n",
    " - `VehicleType` (тип автомобильного кузова) - 13 777\n",
    " - `Gearbox` (тип коробки передач) - 3 731\n",
    " - `FuelType` (тип топлива) - 12 506\n",
    " - `NotRepaired` (была машина в ремонте или нет) - 29 894\n",
    "\n",
    "Нужно заполнить или удалить пропуски эти пропуски, т.к. при обучении модели будут возникать ошибки. А также параметр `NotRepaired` для нас важен, поэтому в нём не может быть пропусков"
   ]
  },
  {
   "cell_type": "markdown",
   "metadata": {},
   "source": [
    "**VehicleType**"
   ]
  },
  {
   "cell_type": "code",
   "execution_count": 25,
   "metadata": {},
   "outputs": [
    {
     "data": {
      "text/plain": [
       "sedan          59862\n",
       "wagon          44010\n",
       "small          41473\n",
       "bus            21817\n",
       "convertible    15488\n",
       "coupe          10990\n",
       "suv             9423\n",
       "other           1748\n",
       "Name: VehicleType, dtype: int64"
      ]
     },
     "metadata": {},
     "output_type": "display_data"
    },
    {
     "name": "stdout",
     "output_type": "stream",
     "text": [
      "Машины класса седан составляют 29.227922328390566%\n"
     ]
    }
   ],
   "source": [
    "# исследуем кузов машины\n",
    "VehicleType = data['VehicleType'].value_counts()\n",
    "display(VehicleType)\n",
    "print(f'Машины класса седан составляют {VehicleType[0]/VehicleType.sum()*100}%')"
   ]
  },
  {
   "cell_type": "markdown",
   "metadata": {},
   "source": [
    "Можно сделать вывод, что машины класса седан больше всего поэтому имеет смысл заполнить пропуски именно им"
   ]
  },
  {
   "cell_type": "markdown",
   "metadata": {},
   "source": [
    "\n",
    "<div class=\"alert alert-warning\">\n",
    "<b>Комментарий ревьюера v.2:</b> Если хотел заполнить наиболее часто встречающимся значением вот пример \n",
    "    \n",
    "    data[\"VehicleType\"] = data[\"VehicleType\"].fillna(data[\"VehicleType\"].mode().values[0]) \n",
    "</div>"
   ]
  },
  {
   "cell_type": "markdown",
   "metadata": {},
   "source": [
    "**Gearbox**"
   ]
  },
  {
   "cell_type": "code",
   "execution_count": 26,
   "metadata": {},
   "outputs": [
    {
     "data": {
      "text/plain": [
       "manual    166216\n",
       "auto       48641\n",
       "Name: Gearbox, dtype: int64"
      ]
     },
     "metadata": {},
     "output_type": "display_data"
    },
    {
     "name": "stdout",
     "output_type": "stream",
     "text": [
      "Машины на механике составляют 77.36122164974843%\n"
     ]
    }
   ],
   "source": [
    "# исследуем трансмиссию машины\n",
    "Gearbox = data['Gearbox'].value_counts()\n",
    "display(Gearbox)\n",
    "print(f'Машины на механике составляют {Gearbox[0] / Gearbox.sum()*100}%')"
   ]
  },
  {
   "cell_type": "markdown",
   "metadata": {},
   "source": [
    "И также можно увидеть, что машин на механике в 4 раза больше, чем на автомате."
   ]
  },
  {
   "cell_type": "markdown",
   "metadata": {},
   "source": [
    "**FuelType**"
   ]
  },
  {
   "cell_type": "code",
   "execution_count": 27,
   "metadata": {},
   "outputs": [
    {
     "data": {
      "text/plain": [
       "petrol      128183\n",
       "gasoline     73298\n",
       "lpg           3924\n",
       "cng            421\n",
       "hybrid         185\n",
       "other           41\n",
       "electric        30\n",
       "Name: FuelType, dtype: int64"
      ]
     },
     "metadata": {},
     "output_type": "display_data"
    },
    {
     "name": "stdout",
     "output_type": "stream",
     "text": [
      "В 62.2% машин ездят на бензине\n"
     ]
    }
   ],
   "source": [
    "# исследуем топливо автомобиля\n",
    "FuelType = data['FuelType'].value_counts()\n",
    "display(FuelType)\n",
    "print(f'В {(FuelType[0]/FuelType.sum()*100).round(2)}% машин ездят на бензине')"
   ]
  },
  {
   "cell_type": "markdown",
   "metadata": {},
   "source": [
    "Пропуски можно заполнить 'petrol'"
   ]
  },
  {
   "cell_type": "markdown",
   "metadata": {},
   "source": [
    "**NotRepaired**"
   ]
  },
  {
   "cell_type": "code",
   "execution_count": 28,
   "metadata": {},
   "outputs": [],
   "source": [
    "data = data.replace({'NotRepaired' : { 'yes' : 1, 'no' : 0}})"
   ]
  },
  {
   "cell_type": "code",
   "execution_count": 29,
   "metadata": {
    "scrolled": true
   },
   "outputs": [
    {
     "data": {
      "text/plain": [
       "<matplotlib.collections.PathCollection at 0x7f60d6ab8a00>"
      ]
     },
     "execution_count": 29,
     "metadata": {},
     "output_type": "execute_result"
    },
    {
     "data": {
      "image/png": "[encoded data removed]",
      "text/plain": [
       "<Figure size 432x288 with 1 Axes>"
      ]
     },
     "metadata": {
      "needs_background": "light"
     },
     "output_type": "display_data"
    }
   ],
   "source": [
    "plt.scatter(data['NotRepaired'], data['Kilometer'])"
   ]
  },
  {
   "cell_type": "code",
   "execution_count": 30,
   "metadata": {},
   "outputs": [
    {
     "name": "stdout",
     "output_type": "stream",
     "text": [
      "Пропусков: 29894\n"
     ]
    },
    {
     "data": {
      "text/plain": [
       "0.0    173681\n",
       "1.0     15013\n",
       "Name: NotRepaired, dtype: int64"
      ]
     },
     "metadata": {},
     "output_type": "display_data"
    },
    {
     "name": "stdout",
     "output_type": "stream",
     "text": [
      "Только 7.96% машин были в ремонте\n"
     ]
    }
   ],
   "source": [
    "print('Пропусков:', data['NotRepaired'].isna().sum())\n",
    "NotRepaired = data['NotRepaired'].value_counts()\n",
    "display(NotRepaired)\n",
    "\n",
    "print(f'Только {(NotRepaired[1] / NotRepaired.sum()*100).round(2)}% машин были в ремонте')"
   ]
  },
  {
   "cell_type": "code",
   "execution_count": 31,
   "metadata": {},
   "outputs": [],
   "source": [
    "# Заполним пропуски\n",
    "data['VehicleType'] = data['VehicleType'].fillna('sedan')\n",
    "data['Gearbox'] = data['Gearbox'].fillna('manual')\n",
    "data['FuelType'] = data['FuelType'].fillna('petrol')"
   ]
  },
  {
   "cell_type": "markdown",
   "metadata": {},
   "source": [
    "<div class=\"alert alert-warning\">\n",
    "<b>Комментарий ревьюера:</b>⚠️Вот тут необходимо обосновать, раскрыть мысль почему удаляем, а не пытаемся восстановить. У нас есть несколько вариантов заполнить пропуски, удалить, заполнить неизвестной(unknown) или попробовать восстановить каким-либо способом, например наиболее часто встречающимся значением, т.к. not_repeared бинарный признак, можно воспользоваться следующей логикой условно до 100 000 км не ремонтировалась более ремонтировалась, чтоб определиться с порогом, мы или пользуемся опытом или сторонними источниками или строим гравики по текущей выборке. При переборе стратегии или останавливаемся на лучшей метрике, если уверен, что в этом нет смысла, то необходимо чётко аргументироватьту или иную стратегию. Процесс творческий.)</div>\n"
   ]
  },
  {
   "cell_type": "markdown",
   "metadata": {},
   "source": [
    "<div class=\"alert alert-info\">\n",
    "<h2> Комментарий студента V2<a class=\"tocSkip\"></h2>\n",
    "<hr>  \n",
    "    Я не разобрался как заполнять по условию. Пытался так:\n",
    "    \n",
    "</div>\n",
    "    \n",
    "`data[data['Kilometer'] >= 100000].NotRepaired = data[data['Kilometer'] >= 100000].NotRepaired.fillna(1)`\n"
   ]
  },
  {
   "cell_type": "markdown",
   "metadata": {},
   "source": [
    "\n",
    "<div class=\"alert alert-warning\">\n",
    "<b>Комментарий ревьюера v.2:</b> Пример ниже. </div>"
   ]
  },
  {
   "cell_type": "code",
   "execution_count": 32,
   "metadata": {},
   "outputs": [],
   "source": [
    "# код ревьюера заполнение пропусков с ремонтами, 'yes' свыше 100 000 км пробега\n",
    "data.loc[data['NotRepaired'].isna(), 'NotRepaired'] = data.loc[data['NotRepaired'].isna(), 'NotRepaired'] \\\n",
    "    .apply(lambda x: 'no' if x > 1000000 else 'yes')"
   ]
  },
  {
   "cell_type": "markdown",
   "metadata": {},
   "source": [
    "<div class=\"alert alert-info\"> <b>Комментарий студента V3:</b> Разобрался, спасибо</div>"
   ]
  },
  {
   "cell_type": "markdown",
   "metadata": {},
   "source": [
    "\n",
    "<div class=\"alert alert-success\">\n",
    "<b>Комментарий ревьюера v.3:</b> ✔️Отлично!)</div>"
   ]
  },
  {
   "cell_type": "code",
   "execution_count": 33,
   "metadata": {},
   "outputs": [
    {
     "data": {
      "text/plain": [
       "Brand               0\n",
       "Model               0\n",
       "VehicleType         0\n",
       "Gearbox             0\n",
       "Power               0\n",
       "FuelType            0\n",
       "RegistrationYear    0\n",
       "Kilometer           0\n",
       "NotRepaired         0\n",
       "Price               0\n",
       "dtype: int64"
      ]
     },
     "execution_count": 33,
     "metadata": {},
     "output_type": "execute_result"
    }
   ],
   "source": [
    "# удалим оставшие пропуски в столбце model и проверим\n",
    "data = data.dropna()\n",
    "data.isna().sum()"
   ]
  },
  {
   "cell_type": "code",
   "execution_count": 34,
   "metadata": {
    "scrolled": false
   },
   "outputs": [
    {
     "name": "stdout",
     "output_type": "stream",
     "text": [
      "<class 'pandas.core.frame.DataFrame'>\n",
      "Int64Index: 210701 entries, 2 to 354368\n",
      "Data columns (total 10 columns):\n",
      " #   Column            Non-Null Count   Dtype \n",
      "---  ------            --------------   ----- \n",
      " 0   Brand             210701 non-null  object\n",
      " 1   Model             210701 non-null  object\n",
      " 2   VehicleType       210701 non-null  object\n",
      " 3   Gearbox           210701 non-null  object\n",
      " 4   Power             210701 non-null  int64 \n",
      " 5   FuelType          210701 non-null  object\n",
      " 6   RegistrationYear  210701 non-null  int64 \n",
      " 7   Kilometer         210701 non-null  int64 \n",
      " 8   NotRepaired       210701 non-null  object\n",
      " 9   Price             210701 non-null  int64 \n",
      "dtypes: int64(4), object(6)\n",
      "memory usage: 17.7+ MB\n"
     ]
    }
   ],
   "source": [
    "data.info()"
   ]
  },
  {
   "cell_type": "markdown",
   "metadata": {},
   "source": [
    "---"
   ]
  },
  {
   "cell_type": "markdown",
   "metadata": {},
   "source": [
    "Получение дамми-признаков"
   ]
  },
  {
   "cell_type": "code",
   "execution_count": 35,
   "metadata": {},
   "outputs": [],
   "source": [
    "data = pd.get_dummies(data, drop_first=True)"
   ]
  },
  {
   "cell_type": "code",
   "execution_count": 36,
   "metadata": {},
   "outputs": [
    {
     "name": "stdout",
     "output_type": "stream",
     "text": [
      "<class 'pandas.core.frame.DataFrame'>\n",
      "Int64Index: 210701 entries, 2 to 354368\n",
      "Columns: 304 entries, Power to NotRepaired_yes\n",
      "dtypes: int64(4), uint8(300)\n",
      "memory usage: 68.3 MB\n"
     ]
    }
   ],
   "source": [
    "data.info()"
   ]
  },
  {
   "cell_type": "markdown",
   "metadata": {},
   "source": [
    "**Вывод**<br>\n",
    "- Проанализировал данные и удалил дубликаты.\n",
    "- Создал таблицу с нужными для нас признаками \n",
    "- Очистили от выбросов параметры *Price* и *Power*\n",
    "- Получил дамми-признаки"
   ]
  },
  {
   "cell_type": "markdown",
   "metadata": {},
   "source": [
    "## Обучение моделей"
   ]
  },
  {
   "cell_type": "markdown",
   "metadata": {},
   "source": [
    "Разобьём на выборки"
   ]
  },
  {
   "cell_type": "code",
   "execution_count": 37,
   "metadata": {},
   "outputs": [
    {
     "name": "stdout",
     "output_type": "stream",
     "text": [
      "(158025, 303)\n",
      "(52676, 303)\n",
      "(158025,)\n",
      "(52676,)\n"
     ]
    }
   ],
   "source": [
    "features = data.drop(['Price'], axis=1)\n",
    "target = data['Price']\n",
    "\n",
    "features_train, features_valid, target_train, target_valid = train_test_split(features, target, test_size=0.25, random_state=12345)\n",
    "\n",
    "print(features_train.shape)\n",
    "print(features_valid.shape)\n",
    "print(target_train.shape)\n",
    "print(target_valid.shape)"
   ]
  },
  {
   "cell_type": "code",
   "execution_count": 38,
   "metadata": {},
   "outputs": [],
   "source": [
    "# создадим списки для rsme, время обучения, время предсказания\n",
    "rmse_list = []\n",
    "learning_time = []\n",
    "predict_time = []"
   ]
  },
  {
   "cell_type": "markdown",
   "metadata": {},
   "source": [
    "### Линейная регрессия"
   ]
  },
  {
   "cell_type": "code",
   "execution_count": 39,
   "metadata": {},
   "outputs": [],
   "source": [
    "model_lr = LinearRegression()"
   ]
  },
  {
   "cell_type": "code",
   "execution_count": 40,
   "metadata": {},
   "outputs": [
    {
     "name": "stdout",
     "output_type": "stream",
     "text": [
      "CPU times: user 9.78 s, sys: 6.96 s, total: 16.7 s\n",
      "Wall time: 16.7 s\n"
     ]
    }
   ],
   "source": [
    "%%time\n",
    "start = time.time()\n",
    "model_lr.fit(features_train, target_train)\n",
    "end = time.time()\n",
    "linear_time = end - start\n",
    "\n",
    "learning_time.append(linear_time)"
   ]
  },
  {
   "cell_type": "code",
   "execution_count": 41,
   "metadata": {},
   "outputs": [
    {
     "name": "stdout",
     "output_type": "stream",
     "text": [
      "[0.22308826446533203]\n",
      "2594.2136815064023\n"
     ]
    }
   ],
   "source": [
    "# Предсказание\n",
    "start = time.time()\n",
    "predict_valid = model_lr.predict(features_valid)\n",
    "end = time.time()\n",
    "\n",
    "predict = end - start\n",
    "rmse = mean_squared_error(target_valid, predict_valid)**0.5\n",
    "\n",
    "predict_time.append(predict)\n",
    "rmse_list.append(rmse)\n",
    "\n",
    "print(predict_time)\n",
    "print(rmse)"
   ]
  },
  {
   "cell_type": "markdown",
   "metadata": {},
   "source": [
    "### LightGBM"
   ]
  },
  {
   "cell_type": "code",
   "execution_count": 42,
   "metadata": {},
   "outputs": [],
   "source": [
    "GBM_model = lgb.LGBMRegressor(random_state=12345)"
   ]
  },
  {
   "cell_type": "code",
   "execution_count": 43,
   "metadata": {
    "scrolled": false
   },
   "outputs": [
    {
     "name": "stdout",
     "output_type": "stream",
     "text": [
      "[1]\ttraining's rmse: 4291.94\ttraining's l2: 1.84207e+07\n",
      "[2]\ttraining's rmse: 4008.76\ttraining's l2: 1.60702e+07\n",
      "[3]\ttraining's rmse: 3760.67\ttraining's l2: 1.41426e+07\n",
      "[4]\ttraining's rmse: 3537.96\ttraining's l2: 1.25172e+07\n",
      "[5]\ttraining's rmse: 3344.59\ttraining's l2: 1.11863e+07\n",
      "[6]\ttraining's rmse: 3176.51\ttraining's l2: 1.00902e+07\n",
      "[7]\ttraining's rmse: 3029.25\ttraining's l2: 9.17633e+06\n",
      "[8]\ttraining's rmse: 2901.02\ttraining's l2: 8.41592e+06\n",
      "[9]\ttraining's rmse: 2787.06\ttraining's l2: 7.76768e+06\n",
      "[10]\ttraining's rmse: 2689.74\ttraining's l2: 7.23473e+06\n",
      "[11]\ttraining's rmse: 2602.88\ttraining's l2: 6.77501e+06\n",
      "[12]\ttraining's rmse: 2521.58\ttraining's l2: 6.35839e+06\n",
      "[13]\ttraining's rmse: 2454.97\ttraining's l2: 6.02689e+06\n",
      "[14]\ttraining's rmse: 2391.65\ttraining's l2: 5.72001e+06\n",
      "[15]\ttraining's rmse: 2337.28\ttraining's l2: 5.46288e+06\n",
      "[16]\ttraining's rmse: 2284.63\ttraining's l2: 5.21953e+06\n",
      "[17]\ttraining's rmse: 2237.61\ttraining's l2: 5.00688e+06\n",
      "[18]\ttraining's rmse: 2197.07\ttraining's l2: 4.82713e+06\n",
      "[19]\ttraining's rmse: 2159.18\ttraining's l2: 4.66206e+06\n",
      "[20]\ttraining's rmse: 2122.59\ttraining's l2: 4.50539e+06\n",
      "[21]\ttraining's rmse: 2094.2\ttraining's l2: 4.38565e+06\n",
      "[22]\ttraining's rmse: 2067.98\ttraining's l2: 4.27654e+06\n",
      "[23]\ttraining's rmse: 2044.85\ttraining's l2: 4.1814e+06\n",
      "[24]\ttraining's rmse: 2023.71\ttraining's l2: 4.09541e+06\n",
      "[25]\ttraining's rmse: 2002.61\ttraining's l2: 4.01044e+06\n",
      "[26]\ttraining's rmse: 1979.77\ttraining's l2: 3.91949e+06\n",
      "[27]\ttraining's rmse: 1963.38\ttraining's l2: 3.85486e+06\n",
      "[28]\ttraining's rmse: 1948.33\ttraining's l2: 3.79599e+06\n",
      "[29]\ttraining's rmse: 1932.83\ttraining's l2: 3.73585e+06\n",
      "[30]\ttraining's rmse: 1919.79\ttraining's l2: 3.68559e+06\n",
      "[31]\ttraining's rmse: 1905.52\ttraining's l2: 3.631e+06\n",
      "[32]\ttraining's rmse: 1895.13\ttraining's l2: 3.59151e+06\n",
      "[33]\ttraining's rmse: 1885.55\ttraining's l2: 3.55528e+06\n",
      "[34]\ttraining's rmse: 1875.12\ttraining's l2: 3.51607e+06\n",
      "[35]\ttraining's rmse: 1864.58\ttraining's l2: 3.47667e+06\n",
      "[36]\ttraining's rmse: 1854.2\ttraining's l2: 3.43805e+06\n",
      "[37]\ttraining's rmse: 1845.71\ttraining's l2: 3.40666e+06\n",
      "[38]\ttraining's rmse: 1838.73\ttraining's l2: 3.38093e+06\n",
      "[39]\ttraining's rmse: 1832.03\ttraining's l2: 3.35633e+06\n",
      "[40]\ttraining's rmse: 1824.93\ttraining's l2: 3.33038e+06\n",
      "[41]\ttraining's rmse: 1818.64\ttraining's l2: 3.30745e+06\n",
      "[42]\ttraining's rmse: 1811.88\ttraining's l2: 3.28291e+06\n",
      "[43]\ttraining's rmse: 1805.79\ttraining's l2: 3.2609e+06\n",
      "[44]\ttraining's rmse: 1799.5\ttraining's l2: 3.23822e+06\n",
      "[45]\ttraining's rmse: 1794.5\ttraining's l2: 3.22023e+06\n",
      "[46]\ttraining's rmse: 1789.1\ttraining's l2: 3.20088e+06\n",
      "[47]\ttraining's rmse: 1784.65\ttraining's l2: 3.18499e+06\n",
      "[48]\ttraining's rmse: 1780.85\ttraining's l2: 3.17144e+06\n",
      "[49]\ttraining's rmse: 1777.24\ttraining's l2: 3.15857e+06\n",
      "[50]\ttraining's rmse: 1772.87\ttraining's l2: 3.14305e+06\n",
      "[51]\ttraining's rmse: 1769.41\ttraining's l2: 3.13082e+06\n",
      "[52]\ttraining's rmse: 1765.17\ttraining's l2: 3.11581e+06\n",
      "[53]\ttraining's rmse: 1762.04\ttraining's l2: 3.10479e+06\n",
      "[54]\ttraining's rmse: 1759.4\ttraining's l2: 3.0955e+06\n",
      "[55]\ttraining's rmse: 1755.76\ttraining's l2: 3.0827e+06\n",
      "[56]\ttraining's rmse: 1753.15\ttraining's l2: 3.07355e+06\n",
      "[57]\ttraining's rmse: 1750.43\ttraining's l2: 3.06402e+06\n",
      "[58]\ttraining's rmse: 1748.22\ttraining's l2: 3.05627e+06\n",
      "[59]\ttraining's rmse: 1745.31\ttraining's l2: 3.04609e+06\n",
      "[60]\ttraining's rmse: 1742.66\ttraining's l2: 3.03688e+06\n",
      "[61]\ttraining's rmse: 1740.3\ttraining's l2: 3.02865e+06\n",
      "[62]\ttraining's rmse: 1738.17\ttraining's l2: 3.02122e+06\n",
      "[63]\ttraining's rmse: 1736.06\ttraining's l2: 3.01391e+06\n",
      "[64]\ttraining's rmse: 1733.66\ttraining's l2: 3.00558e+06\n",
      "[65]\ttraining's rmse: 1731.55\ttraining's l2: 2.99827e+06\n",
      "[66]\ttraining's rmse: 1729.67\ttraining's l2: 2.99175e+06\n",
      "[67]\ttraining's rmse: 1727.54\ttraining's l2: 2.98439e+06\n",
      "[68]\ttraining's rmse: 1725.93\ttraining's l2: 2.97883e+06\n",
      "[69]\ttraining's rmse: 1724.53\ttraining's l2: 2.97402e+06\n",
      "[70]\ttraining's rmse: 1722.83\ttraining's l2: 2.96813e+06\n",
      "[71]\ttraining's rmse: 1721.43\ttraining's l2: 2.96331e+06\n",
      "[72]\ttraining's rmse: 1720.21\ttraining's l2: 2.95912e+06\n",
      "[73]\ttraining's rmse: 1718.23\ttraining's l2: 2.95232e+06\n",
      "[74]\ttraining's rmse: 1716.63\ttraining's l2: 2.9468e+06\n",
      "[75]\ttraining's rmse: 1714.51\ttraining's l2: 2.93954e+06\n",
      "[76]\ttraining's rmse: 1712.86\ttraining's l2: 2.93388e+06\n",
      "[77]\ttraining's rmse: 1711.31\ttraining's l2: 2.92858e+06\n",
      "[78]\ttraining's rmse: 1710.15\ttraining's l2: 2.9246e+06\n",
      "[79]\ttraining's rmse: 1708.8\ttraining's l2: 2.91999e+06\n",
      "[80]\ttraining's rmse: 1707.56\ttraining's l2: 2.91575e+06\n",
      "[81]\ttraining's rmse: 1705.95\ttraining's l2: 2.91028e+06\n",
      "[82]\ttraining's rmse: 1704.39\ttraining's l2: 2.90494e+06\n",
      "[83]\ttraining's rmse: 1703.33\ttraining's l2: 2.90132e+06\n",
      "[84]\ttraining's rmse: 1701.83\ttraining's l2: 2.89622e+06\n",
      "[85]\ttraining's rmse: 1700.28\ttraining's l2: 2.89096e+06\n",
      "[86]\ttraining's rmse: 1699.04\ttraining's l2: 2.88675e+06\n",
      "[87]\ttraining's rmse: 1698.02\ttraining's l2: 2.88327e+06\n",
      "[88]\ttraining's rmse: 1696.81\ttraining's l2: 2.87917e+06\n",
      "[89]\ttraining's rmse: 1695.92\ttraining's l2: 2.87614e+06\n",
      "[90]\ttraining's rmse: 1694.84\ttraining's l2: 2.87248e+06\n",
      "[91]\ttraining's rmse: 1693.77\ttraining's l2: 2.86886e+06\n",
      "[92]\ttraining's rmse: 1692.79\ttraining's l2: 2.86555e+06\n",
      "[93]\ttraining's rmse: 1691.4\ttraining's l2: 2.86083e+06\n",
      "[94]\ttraining's rmse: 1690.5\ttraining's l2: 2.85778e+06\n",
      "[95]\ttraining's rmse: 1689.1\ttraining's l2: 2.85307e+06\n",
      "[96]\ttraining's rmse: 1687.99\ttraining's l2: 2.84931e+06\n",
      "[97]\ttraining's rmse: 1686.98\ttraining's l2: 2.84591e+06\n",
      "[98]\ttraining's rmse: 1685.97\ttraining's l2: 2.8425e+06\n",
      "[99]\ttraining's rmse: 1684.9\ttraining's l2: 2.83889e+06\n",
      "[100]\ttraining's rmse: 1683.35\ttraining's l2: 2.83367e+06\n",
      "CPU times: user 5min 26s, sys: 1.91 s, total: 5min 28s\n",
      "Wall time: 5min 32s\n"
     ]
    }
   ],
   "source": [
    "%%time\n",
    "\n",
    "start = time.time()\n",
    "GBM_model.fit(features_train, target_train, eval_set=[(features_train, target_train),], eval_metric=[\"rmse\"])\n",
    "end = time.time()\n",
    "linear_time = end - start\n",
    "\n",
    "learning_time.append(linear_time)"
   ]
  },
  {
   "cell_type": "markdown",
   "metadata": {},
   "source": [
    "Можно сделать вывод, что модель LightGBM обучилась лучше."
   ]
  },
  {
   "cell_type": "markdown",
   "metadata": {},
   "source": [
    "\n",
    "<div class=\"alert alert-warning\">\n",
    "<b>Комментарий ревьюера:</b>⚠️Можно сделатьтакой вывод, но сначала нужно протестировать модель на тестовой выборке.)</div>"
   ]
  },
  {
   "cell_type": "markdown",
   "metadata": {},
   "source": [
    "<div class=\"alert alert-info\"> <b>Комментарий студента V2:</b> Протестировал</div>"
   ]
  },
  {
   "cell_type": "markdown",
   "metadata": {},
   "source": [
    "\n",
    "<div class=\"alert alert-warning\">\n",
    "<b>Комментарий ревьюера v.2:</b> Сначала обучаем все модели, потом тестируем, далее собираем все в одну таблицу и анализаруем, выборку необходимо переименовать это target по идеии, а не valid.</div>"
   ]
  },
  {
   "cell_type": "code",
   "execution_count": 44,
   "metadata": {},
   "outputs": [
    {
     "name": "stdout",
     "output_type": "stream",
     "text": [
      "[0.22308826446533203, 0.6192207336425781]\n",
      "1692.6421988554623\n"
     ]
    }
   ],
   "source": [
    "# Предсказание\n",
    "start = time.time()\n",
    "predict_valid = GBM_model.predict(features_valid)\n",
    "end = time.time()\n",
    "\n",
    "predict = end - start\n",
    "rmse = mean_squared_error(target_valid, predict_valid)**0.5\n",
    "\n",
    "predict_time.append(predict)\n",
    "rmse_list.append(rmse)\n",
    "\n",
    "print(predict_time)\n",
    "print(rmse)"
   ]
  },
  {
   "cell_type": "markdown",
   "metadata": {},
   "source": [
    "---"
   ]
  },
  {
   "cell_type": "markdown",
   "metadata": {},
   "source": [
    "## Анализ моделей"
   ]
  },
  {
   "cell_type": "markdown",
   "metadata": {},
   "source": [
    "<div class=\"alert alert-info\">\n",
    "<h2> Комментарий студента V2<a class=\"tocSkip\"></h2>\n",
    "<hr>  \n",
    "    Ниже, пошли мои попытки разобраться с GridSearchCV, но ничего не получается. Когда я запускаю .fit(), то модель обучается <b>очень</b> долго\n",
    "    </div>"
   ]
  },
  {
   "cell_type": "markdown",
   "metadata": {},
   "source": [
    "\n",
    "<div class=\"alert alert-warning\">\n",
    "<b>Комментарий ревьюера v.2:</b> То что долго считает, это нормально,можешьили поставитьна ночьи сделать локально. </div>"
   ]
  },
  {
   "cell_type": "markdown",
   "metadata": {},
   "source": [
    "Изменим модель градиентного бустинга с помощью GridSearchCV"
   ]
  },
  {
   "cell_type": "markdown",
   "metadata": {},
   "source": [
    "    %%time\n",
    "\n",
    "    params = {\n",
    "        'max_depth': [-1, 3, 6],\n",
    "        'n_estimators': [50, 100, 200, 500],\n",
    "    }\n",
    "\n",
    "    grid = GridSearchCV(GBM_model, params, scoring='neg_mean_squared_error', cv=5)\n",
    "    grid.fit(features_train, target_train)\n",
    "\n",
    "    grid.best_params_"
   ]
  },
  {
   "cell_type": "markdown",
   "metadata": {},
   "source": [
    "    CPU times: user 1h 12min 43s, sys: 32.5 s, total: 1h 13min 16s\n",
    "    Wall time: 1h 13min 53s\n",
    "    {'max_depth': -1, 'n_estimators': 500}"
   ]
  },
  {
   "cell_type": "markdown",
   "metadata": {},
   "source": [
    "Делаем вывод, что лучшие параметр это 500 и меняем модель"
   ]
  },
  {
   "cell_type": "code",
   "execution_count": 45,
   "metadata": {},
   "outputs": [],
   "source": [
    "GBM_model = lgb.LGBMRegressor(random_state=12345, n_estimators=500)"
   ]
  },
  {
   "cell_type": "code",
   "execution_count": 46,
   "metadata": {},
   "outputs": [
    {
     "name": "stdout",
     "output_type": "stream",
     "text": [
      "[1]\ttraining's rmse: 4291.94\ttraining's l2: 1.84207e+07\n",
      "[2]\ttraining's rmse: 4008.76\ttraining's l2: 1.60702e+07\n",
      "[3]\ttraining's rmse: 3760.67\ttraining's l2: 1.41426e+07\n",
      "[4]\ttraining's rmse: 3537.96\ttraining's l2: 1.25172e+07\n",
      "[5]\ttraining's rmse: 3344.59\ttraining's l2: 1.11863e+07\n",
      "[6]\ttraining's rmse: 3176.51\ttraining's l2: 1.00902e+07\n",
      "[7]\ttraining's rmse: 3029.25\ttraining's l2: 9.17633e+06\n",
      "[8]\ttraining's rmse: 2901.02\ttraining's l2: 8.41592e+06\n",
      "[9]\ttraining's rmse: 2787.06\ttraining's l2: 7.76768e+06\n",
      "[10]\ttraining's rmse: 2689.74\ttraining's l2: 7.23473e+06\n",
      "[11]\ttraining's rmse: 2602.88\ttraining's l2: 6.77501e+06\n",
      "[12]\ttraining's rmse: 2521.58\ttraining's l2: 6.35839e+06\n",
      "[13]\ttraining's rmse: 2454.97\ttraining's l2: 6.02689e+06\n",
      "[14]\ttraining's rmse: 2391.65\ttraining's l2: 5.72001e+06\n",
      "[15]\ttraining's rmse: 2337.28\ttraining's l2: 5.46288e+06\n",
      "[16]\ttraining's rmse: 2284.63\ttraining's l2: 5.21953e+06\n",
      "[17]\ttraining's rmse: 2237.61\ttraining's l2: 5.00688e+06\n",
      "[18]\ttraining's rmse: 2197.07\ttraining's l2: 4.82713e+06\n",
      "[19]\ttraining's rmse: 2159.18\ttraining's l2: 4.66206e+06\n",
      "[20]\ttraining's rmse: 2122.59\ttraining's l2: 4.50539e+06\n",
      "[21]\ttraining's rmse: 2094.2\ttraining's l2: 4.38565e+06\n",
      "[22]\ttraining's rmse: 2067.98\ttraining's l2: 4.27654e+06\n",
      "[23]\ttraining's rmse: 2044.85\ttraining's l2: 4.1814e+06\n",
      "[24]\ttraining's rmse: 2023.71\ttraining's l2: 4.09541e+06\n",
      "[25]\ttraining's rmse: 2002.61\ttraining's l2: 4.01044e+06\n",
      "[26]\ttraining's rmse: 1979.77\ttraining's l2: 3.91949e+06\n",
      "[27]\ttraining's rmse: 1963.38\ttraining's l2: 3.85486e+06\n",
      "[28]\ttraining's rmse: 1948.33\ttraining's l2: 3.79599e+06\n",
      "[29]\ttraining's rmse: 1932.83\ttraining's l2: 3.73585e+06\n",
      "[30]\ttraining's rmse: 1919.79\ttraining's l2: 3.68559e+06\n",
      "[31]\ttraining's rmse: 1905.52\ttraining's l2: 3.631e+06\n",
      "[32]\ttraining's rmse: 1895.13\ttraining's l2: 3.59151e+06\n",
      "[33]\ttraining's rmse: 1885.55\ttraining's l2: 3.55528e+06\n",
      "[34]\ttraining's rmse: 1875.12\ttraining's l2: 3.51607e+06\n",
      "[35]\ttraining's rmse: 1864.58\ttraining's l2: 3.47667e+06\n",
      "[36]\ttraining's rmse: 1854.2\ttraining's l2: 3.43805e+06\n",
      "[37]\ttraining's rmse: 1845.71\ttraining's l2: 3.40666e+06\n",
      "[38]\ttraining's rmse: 1838.73\ttraining's l2: 3.38093e+06\n",
      "[39]\ttraining's rmse: 1832.03\ttraining's l2: 3.35633e+06\n",
      "[40]\ttraining's rmse: 1824.93\ttraining's l2: 3.33038e+06\n",
      "[41]\ttraining's rmse: 1818.64\ttraining's l2: 3.30745e+06\n",
      "[42]\ttraining's rmse: 1811.88\ttraining's l2: 3.28291e+06\n",
      "[43]\ttraining's rmse: 1805.79\ttraining's l2: 3.2609e+06\n",
      "[44]\ttraining's rmse: 1799.5\ttraining's l2: 3.23822e+06\n",
      "[45]\ttraining's rmse: 1794.5\ttraining's l2: 3.22023e+06\n",
      "[46]\ttraining's rmse: 1789.1\ttraining's l2: 3.20088e+06\n",
      "[47]\ttraining's rmse: 1784.65\ttraining's l2: 3.18499e+06\n",
      "[48]\ttraining's rmse: 1780.85\ttraining's l2: 3.17144e+06\n",
      "[49]\ttraining's rmse: 1777.24\ttraining's l2: 3.15857e+06\n",
      "[50]\ttraining's rmse: 1772.87\ttraining's l2: 3.14305e+06\n",
      "[51]\ttraining's rmse: 1769.41\ttraining's l2: 3.13082e+06\n",
      "[52]\ttraining's rmse: 1765.17\ttraining's l2: 3.11581e+06\n",
      "[53]\ttraining's rmse: 1762.04\ttraining's l2: 3.10479e+06\n",
      "[54]\ttraining's rmse: 1759.4\ttraining's l2: 3.0955e+06\n",
      "[55]\ttraining's rmse: 1755.76\ttraining's l2: 3.0827e+06\n",
      "[56]\ttraining's rmse: 1753.15\ttraining's l2: 3.07355e+06\n",
      "[57]\ttraining's rmse: 1750.43\ttraining's l2: 3.06402e+06\n",
      "[58]\ttraining's rmse: 1748.22\ttraining's l2: 3.05627e+06\n",
      "[59]\ttraining's rmse: 1745.31\ttraining's l2: 3.04609e+06\n",
      "[60]\ttraining's rmse: 1742.66\ttraining's l2: 3.03688e+06\n",
      "[61]\ttraining's rmse: 1740.3\ttraining's l2: 3.02865e+06\n",
      "[62]\ttraining's rmse: 1738.17\ttraining's l2: 3.02122e+06\n",
      "[63]\ttraining's rmse: 1736.06\ttraining's l2: 3.01391e+06\n",
      "[64]\ttraining's rmse: 1733.66\ttraining's l2: 3.00558e+06\n",
      "[65]\ttraining's rmse: 1731.55\ttraining's l2: 2.99827e+06\n",
      "[66]\ttraining's rmse: 1729.67\ttraining's l2: 2.99175e+06\n",
      "[67]\ttraining's rmse: 1727.54\ttraining's l2: 2.98439e+06\n",
      "[68]\ttraining's rmse: 1725.93\ttraining's l2: 2.97883e+06\n",
      "[69]\ttraining's rmse: 1724.53\ttraining's l2: 2.97402e+06\n",
      "[70]\ttraining's rmse: 1722.83\ttraining's l2: 2.96813e+06\n",
      "[71]\ttraining's rmse: 1721.43\ttraining's l2: 2.96331e+06\n",
      "[72]\ttraining's rmse: 1720.21\ttraining's l2: 2.95912e+06\n",
      "[73]\ttraining's rmse: 1718.23\ttraining's l2: 2.95232e+06\n",
      "[74]\ttraining's rmse: 1716.63\ttraining's l2: 2.9468e+06\n",
      "[75]\ttraining's rmse: 1714.51\ttraining's l2: 2.93954e+06\n",
      "[76]\ttraining's rmse: 1712.86\ttraining's l2: 2.93388e+06\n",
      "[77]\ttraining's rmse: 1711.31\ttraining's l2: 2.92858e+06\n",
      "[78]\ttraining's rmse: 1710.15\ttraining's l2: 2.9246e+06\n",
      "[79]\ttraining's rmse: 1708.8\ttraining's l2: 2.91999e+06\n",
      "[80]\ttraining's rmse: 1707.56\ttraining's l2: 2.91575e+06\n",
      "[81]\ttraining's rmse: 1705.95\ttraining's l2: 2.91028e+06\n",
      "[82]\ttraining's rmse: 1704.39\ttraining's l2: 2.90494e+06\n",
      "[83]\ttraining's rmse: 1703.33\ttraining's l2: 2.90132e+06\n",
      "[84]\ttraining's rmse: 1701.83\ttraining's l2: 2.89622e+06\n",
      "[85]\ttraining's rmse: 1700.28\ttraining's l2: 2.89096e+06\n",
      "[86]\ttraining's rmse: 1699.04\ttraining's l2: 2.88675e+06\n",
      "[87]\ttraining's rmse: 1698.02\ttraining's l2: 2.88327e+06\n",
      "[88]\ttraining's rmse: 1696.81\ttraining's l2: 2.87917e+06\n",
      "[89]\ttraining's rmse: 1695.92\ttraining's l2: 2.87614e+06\n",
      "[90]\ttraining's rmse: 1694.84\ttraining's l2: 2.87248e+06\n",
      "[91]\ttraining's rmse: 1693.77\ttraining's l2: 2.86886e+06\n",
      "[92]\ttraining's rmse: 1692.79\ttraining's l2: 2.86555e+06\n",
      "[93]\ttraining's rmse: 1691.4\ttraining's l2: 2.86083e+06\n",
      "[94]\ttraining's rmse: 1690.5\ttraining's l2: 2.85778e+06\n",
      "[95]\ttraining's rmse: 1689.1\ttraining's l2: 2.85307e+06\n",
      "[96]\ttraining's rmse: 1687.99\ttraining's l2: 2.84931e+06\n",
      "[97]\ttraining's rmse: 1686.98\ttraining's l2: 2.84591e+06\n",
      "[98]\ttraining's rmse: 1685.97\ttraining's l2: 2.8425e+06\n",
      "[99]\ttraining's rmse: 1684.9\ttraining's l2: 2.83889e+06\n",
      "[100]\ttraining's rmse: 1683.35\ttraining's l2: 2.83367e+06\n",
      "[101]\ttraining's rmse: 1682.38\ttraining's l2: 2.8304e+06\n",
      "[102]\ttraining's rmse: 1681.61\ttraining's l2: 2.8278e+06\n",
      "[103]\ttraining's rmse: 1680.81\ttraining's l2: 2.82511e+06\n",
      "[104]\ttraining's rmse: 1679.86\ttraining's l2: 2.82193e+06\n",
      "[105]\ttraining's rmse: 1678.93\ttraining's l2: 2.81881e+06\n",
      "[106]\ttraining's rmse: 1677.99\ttraining's l2: 2.81566e+06\n",
      "[107]\ttraining's rmse: 1677.35\ttraining's l2: 2.8135e+06\n",
      "[108]\ttraining's rmse: 1676.73\ttraining's l2: 2.81141e+06\n",
      "[109]\ttraining's rmse: 1675.68\ttraining's l2: 2.80789e+06\n",
      "[110]\ttraining's rmse: 1675.15\ttraining's l2: 2.80612e+06\n",
      "[111]\ttraining's rmse: 1674.45\ttraining's l2: 2.80378e+06\n",
      "[112]\ttraining's rmse: 1673.4\ttraining's l2: 2.80025e+06\n",
      "[113]\ttraining's rmse: 1672.84\ttraining's l2: 2.79838e+06\n",
      "[114]\ttraining's rmse: 1672.12\ttraining's l2: 2.796e+06\n",
      "[115]\ttraining's rmse: 1671.49\ttraining's l2: 2.79389e+06\n",
      "[116]\ttraining's rmse: 1670.69\ttraining's l2: 2.79122e+06\n",
      "[117]\ttraining's rmse: 1669.33\ttraining's l2: 2.78666e+06\n",
      "[118]\ttraining's rmse: 1668.44\ttraining's l2: 2.78368e+06\n",
      "[119]\ttraining's rmse: 1667.63\ttraining's l2: 2.78099e+06\n",
      "[120]\ttraining's rmse: 1666.87\ttraining's l2: 2.77844e+06\n",
      "[121]\ttraining's rmse: 1666.38\ttraining's l2: 2.77683e+06\n",
      "[122]\ttraining's rmse: 1665.68\ttraining's l2: 2.77451e+06\n",
      "[123]\ttraining's rmse: 1665.23\ttraining's l2: 2.77299e+06\n",
      "[124]\ttraining's rmse: 1664.68\ttraining's l2: 2.77117e+06\n",
      "[125]\ttraining's rmse: 1663.26\ttraining's l2: 2.76644e+06\n",
      "[126]\ttraining's rmse: 1662.48\ttraining's l2: 2.76384e+06\n",
      "[127]\ttraining's rmse: 1661.79\ttraining's l2: 2.76154e+06\n",
      "[128]\ttraining's rmse: 1661.21\ttraining's l2: 2.7596e+06\n",
      "[129]\ttraining's rmse: 1660.79\ttraining's l2: 2.75823e+06\n",
      "[130]\ttraining's rmse: 1660.19\ttraining's l2: 2.75624e+06\n",
      "[131]\ttraining's rmse: 1659.76\ttraining's l2: 2.7548e+06\n",
      "[132]\ttraining's rmse: 1658.88\ttraining's l2: 2.75189e+06\n",
      "[133]\ttraining's rmse: 1658.07\ttraining's l2: 2.7492e+06\n",
      "[134]\ttraining's rmse: 1657.18\ttraining's l2: 2.74623e+06\n",
      "[135]\ttraining's rmse: 1656.35\ttraining's l2: 2.74348e+06\n",
      "[136]\ttraining's rmse: 1655.12\ttraining's l2: 2.73943e+06\n",
      "[137]\ttraining's rmse: 1654.56\ttraining's l2: 2.73756e+06\n",
      "[138]\ttraining's rmse: 1654.05\ttraining's l2: 2.73589e+06\n",
      "[139]\ttraining's rmse: 1653.45\ttraining's l2: 2.73388e+06\n",
      "[140]\ttraining's rmse: 1652.89\ttraining's l2: 2.73204e+06\n",
      "[141]\ttraining's rmse: 1652.55\ttraining's l2: 2.73092e+06\n",
      "[142]\ttraining's rmse: 1652.1\ttraining's l2: 2.72942e+06\n",
      "[143]\ttraining's rmse: 1651.33\ttraining's l2: 2.72688e+06\n",
      "[144]\ttraining's rmse: 1650.49\ttraining's l2: 2.7241e+06\n",
      "[145]\ttraining's rmse: 1649.99\ttraining's l2: 2.72247e+06\n",
      "[146]\ttraining's rmse: 1649.24\ttraining's l2: 2.71999e+06\n",
      "[147]\ttraining's rmse: 1648.25\ttraining's l2: 2.71673e+06\n",
      "[148]\ttraining's rmse: 1647.85\ttraining's l2: 2.71541e+06\n",
      "[149]\ttraining's rmse: 1647.33\ttraining's l2: 2.71369e+06\n",
      "[150]\ttraining's rmse: 1646.68\ttraining's l2: 2.71156e+06\n",
      "[151]\ttraining's rmse: 1646.23\ttraining's l2: 2.71007e+06\n",
      "[152]\ttraining's rmse: 1645.64\ttraining's l2: 2.70814e+06\n",
      "[153]\ttraining's rmse: 1645.27\ttraining's l2: 2.7069e+06\n",
      "[154]\ttraining's rmse: 1644.86\ttraining's l2: 2.70555e+06\n",
      "[155]\ttraining's rmse: 1644.11\ttraining's l2: 2.7031e+06\n",
      "[156]\ttraining's rmse: 1643.46\ttraining's l2: 2.70097e+06\n",
      "[157]\ttraining's rmse: 1643.1\ttraining's l2: 2.69978e+06\n",
      "[158]\ttraining's rmse: 1642.19\ttraining's l2: 2.69678e+06\n",
      "[159]\ttraining's rmse: 1641.82\ttraining's l2: 2.69556e+06\n",
      "[160]\ttraining's rmse: 1641.33\ttraining's l2: 2.69396e+06\n",
      "[161]\ttraining's rmse: 1640.87\ttraining's l2: 2.69246e+06\n",
      "[162]\ttraining's rmse: 1640.35\ttraining's l2: 2.69073e+06\n",
      "[163]\ttraining's rmse: 1639.66\ttraining's l2: 2.68849e+06\n",
      "[164]\ttraining's rmse: 1638.89\ttraining's l2: 2.68595e+06\n",
      "[165]\ttraining's rmse: 1638.2\ttraining's l2: 2.68369e+06\n",
      "[166]\ttraining's rmse: 1637.53\ttraining's l2: 2.6815e+06\n",
      "[167]\ttraining's rmse: 1637.1\ttraining's l2: 2.68011e+06\n",
      "[168]\ttraining's rmse: 1636.51\ttraining's l2: 2.67815e+06\n",
      "[169]\ttraining's rmse: 1635.82\ttraining's l2: 2.67592e+06\n",
      "[170]\ttraining's rmse: 1635.39\ttraining's l2: 2.6745e+06\n",
      "[171]\ttraining's rmse: 1634.68\ttraining's l2: 2.67217e+06\n",
      "[172]\ttraining's rmse: 1634.37\ttraining's l2: 2.67116e+06\n",
      "[173]\ttraining's rmse: 1633.7\ttraining's l2: 2.66898e+06\n",
      "[174]\ttraining's rmse: 1633.36\ttraining's l2: 2.66786e+06\n",
      "[175]\ttraining's rmse: 1632.37\ttraining's l2: 2.66463e+06\n",
      "[176]\ttraining's rmse: 1631.98\ttraining's l2: 2.66336e+06\n",
      "[177]\ttraining's rmse: 1631.63\ttraining's l2: 2.66223e+06\n",
      "[178]\ttraining's rmse: 1631.21\ttraining's l2: 2.66085e+06\n",
      "[179]\ttraining's rmse: 1630.7\ttraining's l2: 2.65919e+06\n",
      "[180]\ttraining's rmse: 1630.32\ttraining's l2: 2.65795e+06\n",
      "[181]\ttraining's rmse: 1629.94\ttraining's l2: 2.6567e+06\n",
      "[182]\ttraining's rmse: 1629.58\ttraining's l2: 2.65553e+06\n",
      "[183]\ttraining's rmse: 1628.82\ttraining's l2: 2.65305e+06\n",
      "[184]\ttraining's rmse: 1628.02\ttraining's l2: 2.65046e+06\n",
      "[185]\ttraining's rmse: 1627.74\ttraining's l2: 2.64954e+06\n",
      "[186]\ttraining's rmse: 1627.43\ttraining's l2: 2.64852e+06\n",
      "[187]\ttraining's rmse: 1626.8\ttraining's l2: 2.64646e+06\n",
      "[188]\ttraining's rmse: 1626.48\ttraining's l2: 2.64544e+06\n",
      "[189]\ttraining's rmse: 1626.03\ttraining's l2: 2.64398e+06\n",
      "[190]\ttraining's rmse: 1625.48\ttraining's l2: 2.64218e+06\n",
      "[191]\ttraining's rmse: 1625.14\ttraining's l2: 2.64108e+06\n",
      "[192]\ttraining's rmse: 1624.33\ttraining's l2: 2.63846e+06\n",
      "[193]\ttraining's rmse: 1623.94\ttraining's l2: 2.6372e+06\n",
      "[194]\ttraining's rmse: 1623.28\ttraining's l2: 2.63505e+06\n",
      "[195]\ttraining's rmse: 1622.88\ttraining's l2: 2.63375e+06\n",
      "[196]\ttraining's rmse: 1622.45\ttraining's l2: 2.63234e+06\n",
      "[197]\ttraining's rmse: 1622\ttraining's l2: 2.63088e+06\n",
      "[198]\ttraining's rmse: 1621.69\ttraining's l2: 2.62987e+06\n",
      "[199]\ttraining's rmse: 1621.43\ttraining's l2: 2.62903e+06\n",
      "[200]\ttraining's rmse: 1620.96\ttraining's l2: 2.62751e+06\n",
      "[201]\ttraining's rmse: 1620.61\ttraining's l2: 2.62637e+06\n",
      "[202]\ttraining's rmse: 1620.16\ttraining's l2: 2.62492e+06\n",
      "[203]\ttraining's rmse: 1619.91\ttraining's l2: 2.6241e+06\n",
      "[204]\ttraining's rmse: 1619.48\ttraining's l2: 2.62271e+06\n",
      "[205]\ttraining's rmse: 1619.14\ttraining's l2: 2.62161e+06\n",
      "[206]\ttraining's rmse: 1618.84\ttraining's l2: 2.62065e+06\n",
      "[207]\ttraining's rmse: 1618.59\ttraining's l2: 2.61982e+06\n",
      "[208]\ttraining's rmse: 1618.28\ttraining's l2: 2.61882e+06\n",
      "[209]\ttraining's rmse: 1617.98\ttraining's l2: 2.61785e+06\n",
      "[210]\ttraining's rmse: 1617.54\ttraining's l2: 2.61643e+06\n",
      "[211]\ttraining's rmse: 1617.1\ttraining's l2: 2.61501e+06\n",
      "[212]\ttraining's rmse: 1616.8\ttraining's l2: 2.61403e+06\n",
      "[213]\ttraining's rmse: 1616.56\ttraining's l2: 2.61326e+06\n",
      "[214]\ttraining's rmse: 1616.08\ttraining's l2: 2.61172e+06\n",
      "[215]\ttraining's rmse: 1615.59\ttraining's l2: 2.61013e+06\n",
      "[216]\ttraining's rmse: 1615.04\ttraining's l2: 2.60834e+06\n",
      "[217]\ttraining's rmse: 1614.79\ttraining's l2: 2.60753e+06\n",
      "[218]\ttraining's rmse: 1614.39\ttraining's l2: 2.60625e+06\n",
      "[219]\ttraining's rmse: 1613.85\ttraining's l2: 2.60452e+06\n",
      "[220]\ttraining's rmse: 1613.56\ttraining's l2: 2.60359e+06\n",
      "[221]\ttraining's rmse: 1612.94\ttraining's l2: 2.60159e+06\n",
      "[222]\ttraining's rmse: 1612.69\ttraining's l2: 2.60078e+06\n",
      "[223]\ttraining's rmse: 1612.14\ttraining's l2: 2.599e+06\n",
      "[224]\ttraining's rmse: 1611.49\ttraining's l2: 2.59689e+06\n",
      "[225]\ttraining's rmse: 1611.12\ttraining's l2: 2.5957e+06\n",
      "[226]\ttraining's rmse: 1610.71\ttraining's l2: 2.5944e+06\n",
      "[227]\ttraining's rmse: 1610.21\ttraining's l2: 2.59276e+06\n",
      "[228]\ttraining's rmse: 1609.53\ttraining's l2: 2.5906e+06\n",
      "[229]\ttraining's rmse: 1609.18\ttraining's l2: 2.58945e+06\n",
      "[230]\ttraining's rmse: 1608.73\ttraining's l2: 2.58802e+06\n",
      "[231]\ttraining's rmse: 1608.19\ttraining's l2: 2.58627e+06\n",
      "[232]\ttraining's rmse: 1607.56\ttraining's l2: 2.58424e+06\n",
      "[233]\ttraining's rmse: 1607.04\ttraining's l2: 2.58259e+06\n",
      "[234]\ttraining's rmse: 1606.74\ttraining's l2: 2.58161e+06\n",
      "[235]\ttraining's rmse: 1606.24\ttraining's l2: 2.58002e+06\n",
      "[236]\ttraining's rmse: 1605.76\ttraining's l2: 2.57847e+06\n",
      "[237]\ttraining's rmse: 1605.4\ttraining's l2: 2.57731e+06\n",
      "[238]\ttraining's rmse: 1604.81\ttraining's l2: 2.57541e+06\n",
      "[239]\ttraining's rmse: 1604.47\ttraining's l2: 2.57434e+06\n",
      "[240]\ttraining's rmse: 1604.09\ttraining's l2: 2.57311e+06\n",
      "[241]\ttraining's rmse: 1603.85\ttraining's l2: 2.57233e+06\n",
      "[242]\ttraining's rmse: 1603.5\ttraining's l2: 2.57121e+06\n",
      "[243]\ttraining's rmse: 1602.75\ttraining's l2: 2.56879e+06\n",
      "[244]\ttraining's rmse: 1602.29\ttraining's l2: 2.56734e+06\n",
      "[245]\ttraining's rmse: 1601.85\ttraining's l2: 2.56592e+06\n",
      "[246]\ttraining's rmse: 1601.4\ttraining's l2: 2.56449e+06\n",
      "[247]\ttraining's rmse: 1601.05\ttraining's l2: 2.56335e+06\n",
      "[248]\ttraining's rmse: 1600.77\ttraining's l2: 2.56248e+06\n",
      "[249]\ttraining's rmse: 1600.52\ttraining's l2: 2.56167e+06\n",
      "[250]\ttraining's rmse: 1600.28\ttraining's l2: 2.56091e+06\n",
      "[251]\ttraining's rmse: 1599.78\ttraining's l2: 2.55929e+06\n",
      "[252]\ttraining's rmse: 1599.43\ttraining's l2: 2.55819e+06\n",
      "[253]\ttraining's rmse: 1599.03\ttraining's l2: 2.55688e+06\n",
      "[254]\ttraining's rmse: 1598.76\ttraining's l2: 2.55605e+06\n",
      "[255]\ttraining's rmse: 1598.52\ttraining's l2: 2.55525e+06\n",
      "[256]\ttraining's rmse: 1598.33\ttraining's l2: 2.55465e+06\n",
      "[257]\ttraining's rmse: 1597.82\ttraining's l2: 2.55304e+06\n",
      "[258]\ttraining's rmse: 1597.51\ttraining's l2: 2.55205e+06\n",
      "[259]\ttraining's rmse: 1597.15\ttraining's l2: 2.55089e+06\n",
      "[260]\ttraining's rmse: 1596.93\ttraining's l2: 2.55019e+06\n",
      "[261]\ttraining's rmse: 1596.66\ttraining's l2: 2.54933e+06\n",
      "[262]\ttraining's rmse: 1596.34\ttraining's l2: 2.5483e+06\n",
      "[263]\ttraining's rmse: 1596.03\ttraining's l2: 2.54732e+06\n",
      "[264]\ttraining's rmse: 1595.69\ttraining's l2: 2.54623e+06\n",
      "[265]\ttraining's rmse: 1595.51\ttraining's l2: 2.54565e+06\n",
      "[266]\ttraining's rmse: 1595.12\ttraining's l2: 2.5444e+06\n",
      "[267]\ttraining's rmse: 1594.83\ttraining's l2: 2.54348e+06\n",
      "[268]\ttraining's rmse: 1594.29\ttraining's l2: 2.54175e+06\n",
      "[269]\ttraining's rmse: 1594.06\ttraining's l2: 2.54102e+06\n",
      "[270]\ttraining's rmse: 1593.87\ttraining's l2: 2.54042e+06\n",
      "[271]\ttraining's rmse: 1593.58\ttraining's l2: 2.53949e+06\n",
      "[272]\ttraining's rmse: 1593.32\ttraining's l2: 2.53868e+06\n",
      "[273]\ttraining's rmse: 1593\ttraining's l2: 2.53766e+06\n",
      "[274]\ttraining's rmse: 1592.43\ttraining's l2: 2.53583e+06\n",
      "[275]\ttraining's rmse: 1592.24\ttraining's l2: 2.53522e+06\n",
      "[276]\ttraining's rmse: 1592.06\ttraining's l2: 2.53464e+06\n",
      "[277]\ttraining's rmse: 1591.88\ttraining's l2: 2.53409e+06\n",
      "[278]\ttraining's rmse: 1591.59\ttraining's l2: 2.53314e+06\n",
      "[279]\ttraining's rmse: 1591.34\ttraining's l2: 2.53237e+06\n",
      "[280]\ttraining's rmse: 1590.99\ttraining's l2: 2.53124e+06\n",
      "[281]\ttraining's rmse: 1590.76\ttraining's l2: 2.53053e+06\n",
      "[282]\ttraining's rmse: 1590.45\ttraining's l2: 2.52953e+06\n",
      "[283]\ttraining's rmse: 1590.19\ttraining's l2: 2.52872e+06\n",
      "[284]\ttraining's rmse: 1590\ttraining's l2: 2.52811e+06\n",
      "[285]\ttraining's rmse: 1589.79\ttraining's l2: 2.52744e+06\n",
      "[286]\ttraining's rmse: 1589.57\ttraining's l2: 2.52672e+06\n",
      "[287]\ttraining's rmse: 1589.26\ttraining's l2: 2.52575e+06\n",
      "[288]\ttraining's rmse: 1589.1\ttraining's l2: 2.52523e+06\n",
      "[289]\ttraining's rmse: 1588.93\ttraining's l2: 2.5247e+06\n",
      "[290]\ttraining's rmse: 1588.78\ttraining's l2: 2.52422e+06\n",
      "[291]\ttraining's rmse: 1588.6\ttraining's l2: 2.52364e+06\n",
      "[292]\ttraining's rmse: 1588.37\ttraining's l2: 2.52293e+06\n",
      "[293]\ttraining's rmse: 1587.84\ttraining's l2: 2.52122e+06\n",
      "[294]\ttraining's rmse: 1587.58\ttraining's l2: 2.5204e+06\n",
      "[295]\ttraining's rmse: 1587.13\ttraining's l2: 2.51897e+06\n",
      "[296]\ttraining's rmse: 1586.7\ttraining's l2: 2.51762e+06\n",
      "[297]\ttraining's rmse: 1586.52\ttraining's l2: 2.51704e+06\n",
      "[298]\ttraining's rmse: 1586.22\ttraining's l2: 2.51608e+06\n",
      "[299]\ttraining's rmse: 1585.64\ttraining's l2: 2.51425e+06\n",
      "[300]\ttraining's rmse: 1585.48\ttraining's l2: 2.51375e+06\n",
      "[301]\ttraining's rmse: 1585.27\ttraining's l2: 2.51307e+06\n",
      "[302]\ttraining's rmse: 1585.07\ttraining's l2: 2.51245e+06\n",
      "[303]\ttraining's rmse: 1584.77\ttraining's l2: 2.51149e+06\n",
      "[304]\ttraining's rmse: 1584.62\ttraining's l2: 2.51102e+06\n",
      "[305]\ttraining's rmse: 1584.49\ttraining's l2: 2.5106e+06\n",
      "[306]\ttraining's rmse: 1584.26\ttraining's l2: 2.50987e+06\n",
      "[307]\ttraining's rmse: 1584.12\ttraining's l2: 2.50944e+06\n",
      "[308]\ttraining's rmse: 1583.83\ttraining's l2: 2.50853e+06\n",
      "[309]\ttraining's rmse: 1583.49\ttraining's l2: 2.50743e+06\n",
      "[310]\ttraining's rmse: 1583.3\ttraining's l2: 2.50684e+06\n",
      "[311]\ttraining's rmse: 1583.06\ttraining's l2: 2.50609e+06\n",
      "[312]\ttraining's rmse: 1582.92\ttraining's l2: 2.50565e+06\n",
      "[313]\ttraining's rmse: 1582.74\ttraining's l2: 2.50506e+06\n",
      "[314]\ttraining's rmse: 1582.57\ttraining's l2: 2.50453e+06\n",
      "[315]\ttraining's rmse: 1582.39\ttraining's l2: 2.50394e+06\n",
      "[316]\ttraining's rmse: 1582.17\ttraining's l2: 2.50326e+06\n",
      "[317]\ttraining's rmse: 1582\ttraining's l2: 2.50273e+06\n",
      "[318]\ttraining's rmse: 1581.74\ttraining's l2: 2.5019e+06\n",
      "[319]\ttraining's rmse: 1581.36\ttraining's l2: 2.50068e+06\n",
      "[320]\ttraining's rmse: 1581.02\ttraining's l2: 2.49961e+06\n",
      "[321]\ttraining's rmse: 1580.87\ttraining's l2: 2.49914e+06\n",
      "[322]\ttraining's rmse: 1580.46\ttraining's l2: 2.49784e+06\n",
      "[323]\ttraining's rmse: 1580.2\ttraining's l2: 2.49702e+06\n",
      "[324]\ttraining's rmse: 1579.78\ttraining's l2: 2.49572e+06\n",
      "[325]\ttraining's rmse: 1579.36\ttraining's l2: 2.49438e+06\n",
      "[326]\ttraining's rmse: 1578.99\ttraining's l2: 2.49321e+06\n",
      "[327]\ttraining's rmse: 1578.82\ttraining's l2: 2.49268e+06\n",
      "[328]\ttraining's rmse: 1578.66\ttraining's l2: 2.49216e+06\n",
      "[329]\ttraining's rmse: 1578.48\ttraining's l2: 2.49159e+06\n",
      "[330]\ttraining's rmse: 1578.17\ttraining's l2: 2.49062e+06\n",
      "[331]\ttraining's rmse: 1578.04\ttraining's l2: 2.4902e+06\n",
      "[332]\ttraining's rmse: 1577.88\ttraining's l2: 2.4897e+06\n",
      "[333]\ttraining's rmse: 1577.61\ttraining's l2: 2.48884e+06\n",
      "[334]\ttraining's rmse: 1577.44\ttraining's l2: 2.4883e+06\n",
      "[335]\ttraining's rmse: 1577.2\ttraining's l2: 2.48756e+06\n",
      "[336]\ttraining's rmse: 1576.89\ttraining's l2: 2.48659e+06\n",
      "[337]\ttraining's rmse: 1576.75\ttraining's l2: 2.48614e+06\n",
      "[338]\ttraining's rmse: 1576.63\ttraining's l2: 2.48576e+06\n",
      "[339]\ttraining's rmse: 1576.46\ttraining's l2: 2.48521e+06\n",
      "[340]\ttraining's rmse: 1575.94\ttraining's l2: 2.48358e+06\n",
      "[341]\ttraining's rmse: 1575.68\ttraining's l2: 2.48278e+06\n",
      "[342]\ttraining's rmse: 1575.53\ttraining's l2: 2.48228e+06\n",
      "[343]\ttraining's rmse: 1575.2\ttraining's l2: 2.48125e+06\n",
      "[344]\ttraining's rmse: 1574.97\ttraining's l2: 2.48052e+06\n",
      "[345]\ttraining's rmse: 1574.65\ttraining's l2: 2.47953e+06\n",
      "[346]\ttraining's rmse: 1574.3\ttraining's l2: 2.47843e+06\n",
      "[347]\ttraining's rmse: 1573.9\ttraining's l2: 2.47715e+06\n",
      "[348]\ttraining's rmse: 1573.53\ttraining's l2: 2.47601e+06\n",
      "[349]\ttraining's rmse: 1573.17\ttraining's l2: 2.47488e+06\n",
      "[350]\ttraining's rmse: 1573.05\ttraining's l2: 2.47447e+06\n",
      "[351]\ttraining's rmse: 1572.83\ttraining's l2: 2.4738e+06\n",
      "[352]\ttraining's rmse: 1572.42\ttraining's l2: 2.47249e+06\n",
      "[353]\ttraining's rmse: 1572.27\ttraining's l2: 2.47202e+06\n",
      "[354]\ttraining's rmse: 1572.17\ttraining's l2: 2.47171e+06\n",
      "[355]\ttraining's rmse: 1572.02\ttraining's l2: 2.47124e+06\n",
      "[356]\ttraining's rmse: 1571.61\ttraining's l2: 2.46996e+06\n",
      "[357]\ttraining's rmse: 1571.3\ttraining's l2: 2.46898e+06\n",
      "[358]\ttraining's rmse: 1571.03\ttraining's l2: 2.46813e+06\n",
      "[359]\ttraining's rmse: 1570.89\ttraining's l2: 2.4677e+06\n",
      "[360]\ttraining's rmse: 1570.76\ttraining's l2: 2.4673e+06\n",
      "[361]\ttraining's rmse: 1570.63\ttraining's l2: 2.46687e+06\n",
      "[362]\ttraining's rmse: 1570.5\ttraining's l2: 2.46648e+06\n",
      "[363]\ttraining's rmse: 1570.34\ttraining's l2: 2.46598e+06\n",
      "[364]\ttraining's rmse: 1570.18\ttraining's l2: 2.46545e+06\n",
      "[365]\ttraining's rmse: 1570.05\ttraining's l2: 2.46505e+06\n",
      "[366]\ttraining's rmse: 1569.76\ttraining's l2: 2.46414e+06\n",
      "[367]\ttraining's rmse: 1569.43\ttraining's l2: 2.46312e+06\n",
      "[368]\ttraining's rmse: 1569.28\ttraining's l2: 2.46263e+06\n",
      "[369]\ttraining's rmse: 1569.19\ttraining's l2: 2.46234e+06\n",
      "[370]\ttraining's rmse: 1569.02\ttraining's l2: 2.46182e+06\n",
      "[371]\ttraining's rmse: 1568.9\ttraining's l2: 2.46144e+06\n",
      "[372]\ttraining's rmse: 1568.56\ttraining's l2: 2.46039e+06\n",
      "[373]\ttraining's rmse: 1568.4\ttraining's l2: 2.45988e+06\n",
      "[374]\ttraining's rmse: 1568.23\ttraining's l2: 2.45934e+06\n",
      "[375]\ttraining's rmse: 1567.92\ttraining's l2: 2.45837e+06\n",
      "[376]\ttraining's rmse: 1567.72\ttraining's l2: 2.45775e+06\n",
      "[377]\ttraining's rmse: 1567.33\ttraining's l2: 2.45654e+06\n",
      "[378]\ttraining's rmse: 1567.1\ttraining's l2: 2.45579e+06\n",
      "[379]\ttraining's rmse: 1566.97\ttraining's l2: 2.45541e+06\n",
      "[380]\ttraining's rmse: 1566.85\ttraining's l2: 2.45503e+06\n",
      "[381]\ttraining's rmse: 1566.76\ttraining's l2: 2.45473e+06\n",
      "[382]\ttraining's rmse: 1566.63\ttraining's l2: 2.45433e+06\n",
      "[383]\ttraining's rmse: 1566.52\ttraining's l2: 2.45399e+06\n",
      "[384]\ttraining's rmse: 1566.39\ttraining's l2: 2.45358e+06\n",
      "[385]\ttraining's rmse: 1566.29\ttraining's l2: 2.45328e+06\n",
      "[386]\ttraining's rmse: 1566.19\ttraining's l2: 2.45295e+06\n",
      "[387]\ttraining's rmse: 1565.87\ttraining's l2: 2.45194e+06\n",
      "[388]\ttraining's rmse: 1565.3\ttraining's l2: 2.45017e+06\n",
      "[389]\ttraining's rmse: 1564.87\ttraining's l2: 2.44882e+06\n",
      "[390]\ttraining's rmse: 1564.41\ttraining's l2: 2.44737e+06\n",
      "[391]\ttraining's rmse: 1564.2\ttraining's l2: 2.44673e+06\n",
      "[392]\ttraining's rmse: 1563.96\ttraining's l2: 2.44597e+06\n",
      "[393]\ttraining's rmse: 1563.54\ttraining's l2: 2.44465e+06\n",
      "[394]\ttraining's rmse: 1563.37\ttraining's l2: 2.44411e+06\n",
      "[395]\ttraining's rmse: 1563.25\ttraining's l2: 2.44375e+06\n",
      "[396]\ttraining's rmse: 1563.11\ttraining's l2: 2.4433e+06\n",
      "[397]\ttraining's rmse: 1562.83\ttraining's l2: 2.44243e+06\n",
      "[398]\ttraining's rmse: 1562.59\ttraining's l2: 2.4417e+06\n",
      "[399]\ttraining's rmse: 1562.27\ttraining's l2: 2.44068e+06\n",
      "[400]\ttraining's rmse: 1561.9\ttraining's l2: 2.43954e+06\n",
      "[401]\ttraining's rmse: 1561.64\ttraining's l2: 2.43871e+06\n",
      "[402]\ttraining's rmse: 1561.32\ttraining's l2: 2.43771e+06\n",
      "[403]\ttraining's rmse: 1560.94\ttraining's l2: 2.43655e+06\n",
      "[404]\ttraining's rmse: 1560.8\ttraining's l2: 2.4361e+06\n",
      "[405]\ttraining's rmse: 1560.67\ttraining's l2: 2.43569e+06\n",
      "[406]\ttraining's rmse: 1560.53\ttraining's l2: 2.43526e+06\n",
      "[407]\ttraining's rmse: 1560.44\ttraining's l2: 2.43497e+06\n",
      "[408]\ttraining's rmse: 1560.28\ttraining's l2: 2.43447e+06\n",
      "[409]\ttraining's rmse: 1560.15\ttraining's l2: 2.43406e+06\n",
      "[410]\ttraining's rmse: 1560\ttraining's l2: 2.43359e+06\n",
      "[411]\ttraining's rmse: 1559.7\ttraining's l2: 2.43266e+06\n",
      "[412]\ttraining's rmse: 1559.47\ttraining's l2: 2.43195e+06\n",
      "[413]\ttraining's rmse: 1559.29\ttraining's l2: 2.43138e+06\n",
      "[414]\ttraining's rmse: 1559.18\ttraining's l2: 2.43103e+06\n",
      "[415]\ttraining's rmse: 1559.07\ttraining's l2: 2.43071e+06\n",
      "[416]\ttraining's rmse: 1558.98\ttraining's l2: 2.43042e+06\n",
      "[417]\ttraining's rmse: 1558.85\ttraining's l2: 2.43e+06\n",
      "[418]\ttraining's rmse: 1558.69\ttraining's l2: 2.42953e+06\n",
      "[419]\ttraining's rmse: 1558.55\ttraining's l2: 2.42906e+06\n",
      "[420]\ttraining's rmse: 1558.41\ttraining's l2: 2.42866e+06\n",
      "[421]\ttraining's rmse: 1558.31\ttraining's l2: 2.42831e+06\n",
      "[422]\ttraining's rmse: 1558.2\ttraining's l2: 2.428e+06\n",
      "[423]\ttraining's rmse: 1558.09\ttraining's l2: 2.42764e+06\n",
      "[424]\ttraining's rmse: 1557.85\ttraining's l2: 2.42691e+06\n",
      "[425]\ttraining's rmse: 1557.77\ttraining's l2: 2.42663e+06\n",
      "[426]\ttraining's rmse: 1557.67\ttraining's l2: 2.42635e+06\n",
      "[427]\ttraining's rmse: 1557.46\ttraining's l2: 2.42569e+06\n",
      "[428]\ttraining's rmse: 1557.29\ttraining's l2: 2.42516e+06\n",
      "[429]\ttraining's rmse: 1557.2\ttraining's l2: 2.42488e+06\n",
      "[430]\ttraining's rmse: 1556.99\ttraining's l2: 2.42421e+06\n",
      "[431]\ttraining's rmse: 1556.87\ttraining's l2: 2.42386e+06\n",
      "[432]\ttraining's rmse: 1556.75\ttraining's l2: 2.42348e+06\n",
      "[433]\ttraining's rmse: 1556.61\ttraining's l2: 2.42305e+06\n",
      "[434]\ttraining's rmse: 1556.21\ttraining's l2: 2.4218e+06\n",
      "[435]\ttraining's rmse: 1555.78\ttraining's l2: 2.42045e+06\n",
      "[436]\ttraining's rmse: 1555.51\ttraining's l2: 2.41961e+06\n",
      "[437]\ttraining's rmse: 1555.07\ttraining's l2: 2.41825e+06\n",
      "[438]\ttraining's rmse: 1554.95\ttraining's l2: 2.41786e+06\n",
      "[439]\ttraining's rmse: 1554.78\ttraining's l2: 2.41736e+06\n",
      "[440]\ttraining's rmse: 1554.57\ttraining's l2: 2.41667e+06\n",
      "[441]\ttraining's rmse: 1554.22\ttraining's l2: 2.41559e+06\n",
      "[442]\ttraining's rmse: 1554.1\ttraining's l2: 2.41524e+06\n",
      "[443]\ttraining's rmse: 1554.02\ttraining's l2: 2.41499e+06\n",
      "[444]\ttraining's rmse: 1553.78\ttraining's l2: 2.41423e+06\n",
      "[445]\ttraining's rmse: 1553.7\ttraining's l2: 2.41398e+06\n",
      "[446]\ttraining's rmse: 1553.49\ttraining's l2: 2.41333e+06\n",
      "[447]\ttraining's rmse: 1553.37\ttraining's l2: 2.41296e+06\n",
      "[448]\ttraining's rmse: 1553.24\ttraining's l2: 2.41256e+06\n",
      "[449]\ttraining's rmse: 1552.94\ttraining's l2: 2.41163e+06\n",
      "[450]\ttraining's rmse: 1552.83\ttraining's l2: 2.41127e+06\n",
      "[451]\ttraining's rmse: 1552.6\ttraining's l2: 2.41057e+06\n",
      "[452]\ttraining's rmse: 1552.4\ttraining's l2: 2.40993e+06\n",
      "[453]\ttraining's rmse: 1552.29\ttraining's l2: 2.40959e+06\n",
      "[454]\ttraining's rmse: 1552.07\ttraining's l2: 2.40893e+06\n",
      "[455]\ttraining's rmse: 1551.96\ttraining's l2: 2.40857e+06\n",
      "[456]\ttraining's rmse: 1551.73\ttraining's l2: 2.40786e+06\n",
      "[457]\ttraining's rmse: 1551.53\ttraining's l2: 2.40725e+06\n",
      "[458]\ttraining's rmse: 1551.4\ttraining's l2: 2.40685e+06\n",
      "[459]\ttraining's rmse: 1551.23\ttraining's l2: 2.4063e+06\n",
      "[460]\ttraining's rmse: 1551.13\ttraining's l2: 2.406e+06\n",
      "[461]\ttraining's rmse: 1550.81\ttraining's l2: 2.40502e+06\n",
      "[462]\ttraining's rmse: 1550.7\ttraining's l2: 2.40466e+06\n",
      "[463]\ttraining's rmse: 1550.48\ttraining's l2: 2.40398e+06\n",
      "[464]\ttraining's rmse: 1550.08\ttraining's l2: 2.40275e+06\n",
      "[465]\ttraining's rmse: 1549.72\ttraining's l2: 2.40162e+06\n",
      "[466]\ttraining's rmse: 1549.53\ttraining's l2: 2.40106e+06\n",
      "[467]\ttraining's rmse: 1549.44\ttraining's l2: 2.40077e+06\n",
      "[468]\ttraining's rmse: 1549.18\ttraining's l2: 2.39995e+06\n",
      "[469]\ttraining's rmse: 1548.9\ttraining's l2: 2.39908e+06\n",
      "[470]\ttraining's rmse: 1548.63\ttraining's l2: 2.39824e+06\n",
      "[471]\ttraining's rmse: 1548.27\ttraining's l2: 2.39715e+06\n",
      "[472]\ttraining's rmse: 1547.97\ttraining's l2: 2.3962e+06\n",
      "[473]\ttraining's rmse: 1547.53\ttraining's l2: 2.39485e+06\n",
      "[474]\ttraining's rmse: 1547.22\ttraining's l2: 2.3939e+06\n",
      "[475]\ttraining's rmse: 1547\ttraining's l2: 2.3932e+06\n",
      "[476]\ttraining's rmse: 1546.69\ttraining's l2: 2.39224e+06\n",
      "[477]\ttraining's rmse: 1546.58\ttraining's l2: 2.3919e+06\n",
      "[478]\ttraining's rmse: 1546.25\ttraining's l2: 2.39089e+06\n",
      "[479]\ttraining's rmse: 1545.87\ttraining's l2: 2.3897e+06\n",
      "[480]\ttraining's rmse: 1545.73\ttraining's l2: 2.38927e+06\n",
      "[481]\ttraining's rmse: 1545.55\ttraining's l2: 2.38873e+06\n",
      "[482]\ttraining's rmse: 1545.44\ttraining's l2: 2.38839e+06\n",
      "[483]\ttraining's rmse: 1545.18\ttraining's l2: 2.38757e+06\n",
      "[484]\ttraining's rmse: 1544.91\ttraining's l2: 2.38675e+06\n",
      "[485]\ttraining's rmse: 1544.69\ttraining's l2: 2.38608e+06\n",
      "[486]\ttraining's rmse: 1544.53\ttraining's l2: 2.38557e+06\n",
      "[487]\ttraining's rmse: 1544.26\ttraining's l2: 2.38473e+06\n",
      "[488]\ttraining's rmse: 1544.01\ttraining's l2: 2.38396e+06\n",
      "[489]\ttraining's rmse: 1543.54\ttraining's l2: 2.38251e+06\n",
      "[490]\ttraining's rmse: 1543.46\ttraining's l2: 2.38226e+06\n",
      "[491]\ttraining's rmse: 1543.17\ttraining's l2: 2.38137e+06\n",
      "[492]\ttraining's rmse: 1542.97\ttraining's l2: 2.38075e+06\n",
      "[493]\ttraining's rmse: 1542.8\ttraining's l2: 2.38024e+06\n",
      "[494]\ttraining's rmse: 1542.54\ttraining's l2: 2.37942e+06\n",
      "[495]\ttraining's rmse: 1542.27\ttraining's l2: 2.37859e+06\n",
      "[496]\ttraining's rmse: 1542.17\ttraining's l2: 2.37827e+06\n",
      "[497]\ttraining's rmse: 1542.07\ttraining's l2: 2.37797e+06\n",
      "[498]\ttraining's rmse: 1541.76\ttraining's l2: 2.37701e+06\n",
      "[499]\ttraining's rmse: 1541.46\ttraining's l2: 2.37611e+06\n",
      "[500]\ttraining's rmse: 1540.96\ttraining's l2: 2.37457e+06\n",
      "CPU times: user 26min 16s, sys: 8.79 s, total: 26min 24s\n",
      "Wall time: 26min 43s\n"
     ]
    }
   ],
   "source": [
    "%%time\n",
    "\n",
    "start = time.time()\n",
    "GBM_model.fit(features_train, target_train, eval_set=[(features_train, target_train),], eval_metric=[\"rmse\"])\n",
    "end = time.time()\n",
    "linear_time = end - start\n",
    "\n",
    "learning_time.append(linear_time)"
   ]
  },
  {
   "cell_type": "code",
   "execution_count": 47,
   "metadata": {},
   "outputs": [
    {
     "name": "stdout",
     "output_type": "stream",
     "text": [
      "[0.22308826446533203, 0.6192207336425781, 1.9992282390594482]\n",
      "1600.0509997065858\n"
     ]
    }
   ],
   "source": [
    "# Предсказание\n",
    "start = time.time()\n",
    "predict_valid = GBM_model.predict(features_valid)\n",
    "end = time.time()\n",
    "\n",
    "predict = end - start\n",
    "rmse = mean_squared_error(target_valid, predict_valid)**0.5\n",
    "\n",
    "predict_time.append(predict)\n",
    "rmse_list.append(rmse)\n",
    "\n",
    "print(predict_time)\n",
    "print(rmse)"
   ]
  },
  {
   "cell_type": "markdown",
   "metadata": {},
   "source": [
    "Итак, посмотрим на таблицу метрики и времён:"
   ]
  },
  {
   "cell_type": "code",
   "execution_count": 48,
   "metadata": {
    "scrolled": false
   },
   "outputs": [
    {
     "data": {
      "text/html": [
       "<div>\n",
       "<style scoped>\n",
       "    .dataframe tbody tr th:only-of-type {\n",
       "        vertical-align: middle;\n",
       "    }\n",
       "\n",
       "    .dataframe tbody tr th {\n",
       "        vertical-align: top;\n",
       "    }\n",
       "\n",
       "    .dataframe thead th {\n",
       "        text-align: right;\n",
       "    }\n",
       "</style>\n",
       "<table border=\"1\" class=\"dataframe\">\n",
       "  <thead>\n",
       "    <tr style=\"text-align: right;\">\n",
       "      <th></th>\n",
       "      <th>LinearRegression</th>\n",
       "      <th>LGBMRegressor</th>\n",
       "      <th>LGBMRegressor_upgrade</th>\n",
       "    </tr>\n",
       "  </thead>\n",
       "  <tbody>\n",
       "    <tr>\n",
       "      <th>RMSE</th>\n",
       "      <td>2594.213682</td>\n",
       "      <td>1692.642199</td>\n",
       "      <td>1600.051000</td>\n",
       "    </tr>\n",
       "    <tr>\n",
       "      <th>Learning Time</th>\n",
       "      <td>16.718917</td>\n",
       "      <td>332.177194</td>\n",
       "      <td>1603.015618</td>\n",
       "    </tr>\n",
       "    <tr>\n",
       "      <th>Predicting Time</th>\n",
       "      <td>0.223088</td>\n",
       "      <td>0.619221</td>\n",
       "      <td>1.999228</td>\n",
       "    </tr>\n",
       "  </tbody>\n",
       "</table>\n",
       "</div>"
      ],
      "text/plain": [
       "                 LinearRegression  LGBMRegressor  LGBMRegressor_upgrade\n",
       "RMSE                  2594.213682    1692.642199            1600.051000\n",
       "Learning Time           16.718917     332.177194            1603.015618\n",
       "Predicting Time          0.223088       0.619221               1.999228"
      ]
     },
     "execution_count": 48,
     "metadata": {},
     "output_type": "execute_result"
    }
   ],
   "source": [
    "pd.DataFrame(data=[rmse_list, learning_time, predict_time], columns=['LinearRegression', 'LGBMRegressor', 'LGBMRegressor_upgrade'], index=['RMSE', 'Learning Time', 'Predicting Time'])"
   ]
  },
  {
   "cell_type": "markdown",
   "metadata": {},
   "source": [
    "**Вывод:**\n",
    "\n",
    "Можно сделать вывод, что хоть и модель `LGBMRegressor_upgrade` обучалась намного дольше, но результат лучше, её и будем рекомендовать заказчику."
   ]
  },
  {
   "cell_type": "markdown",
   "metadata": {},
   "source": [
    "<div class=\"alert alert-info\">\n",
    "<h2> Комментарий студента<a class=\"tocSkip\"></h2>\n",
    "<hr>  \n",
    "   Очень слабо разобрался в теме. Посоветуй, что поможет мне лучше понять. Где почитать или посмотреть поподробнее.\n",
    "</div>"
   ]
  },
  {
   "cell_type": "markdown",
   "metadata": {},
   "source": [
    "\n",
    "<div class=\"alert alert-success\">\n",
    "<b>Комментарий ревьюера:</b> ✔️Георгий, сделано уже много. Спасибо тебе. Необходимо ещё потрудится, т.к. как самты говоришь много моментов не понятных, давай работать в режиме диалога.\n",
    "    \n",
    "- В предобработке нужно определится, какие признаки нам важны, мы всегда должны руководствоваться логикой и теме методами,которые изучили. В начале можно было сделать таблицу с корреляцией и увидеть, что там \"бардак\", который свидетельствует о том, что есть аномалии и пропуски, которые влияют на адекватность корреляции. Вот если мы так сделаем после обработки аномалий, то увидим, что возраст машины влияет на стоимость.\n",
    "- Комментарий по пропускам  оставил.\n",
    "- Аномалии необходимо обработаь они будут влиять на качество метрики. Тут мы или смотрим на рапределения и boxplot или используем опыт или сторонние еисточники информации(всемирная сеть например).\n",
    "- Что касается модели, нам нужно перебрать несколько гиперпараметров, чтоб найти оптимальные , можно топорно в ручную, можно циклом,  а можно использовать алгоритмы подбора, например GridSearch или Random Search. https://medium.com/@senapati.dipak97/grid-search-vs-random-search-d34c92946318(это описание принципа работы их ), а это пример кода https://medium.com/@cjl2fv/an-intro-to-hyper-parameter-optimization-using-grid-search-and-random-search-d73b9834ca0a  \n",
    "- Далее на лучших гиперпараметрах произвести тестирование модели, собрать данные в одну таблицу и сделать финальный вывод, не вот так можно собрать данные в одну таблицу https://www.geeksforgeeks.org/creating-a-pandas-series/. \n",
    "\n",
    "Надеюс эти рекомендации тебе помогут. Также жду твоих правко и ещё вопросов.</div>\n"
   ]
  },
  {
   "cell_type": "markdown",
   "metadata": {},
   "source": [
    "<div class=\"alert alert-success\">\n",
    "<b>Комментарий ревьюера:</b> ✔️Георгий, ты на верном пути многое уже сделано осталось доучить протестировать модели и подвести итог, должны справится за одну итерацию. Можешьпросто перебратьнесколько парамеров или подобрать в ручную или циклом."
   ]
  },
  {
   "cell_type": "markdown",
   "metadata": {},
   "source": [
    "<div class=\"alert alert-success\">\n",
    "<b>Комментарий ревьюера v.3:</b> ✔️Георгий, ты хорошо поработал. Надеюсь я чуть помог тебе разобраться в теме.) Проект принят, если остались вопросы, можешь задать их через своего куратора. Удачи!) Пару наблюдений, вывод должен содеражть рекомендацию заказчика, это условие задания и не называй тестовую выборку valid, так можно запутаться."
   ]
  },
  {
   "cell_type": "markdown",
   "metadata": {},
   "source": [
    "## Чек-лист проверки"
   ]
  },
  {
   "cell_type": "markdown",
   "metadata": {},
   "source": [
    "Поставьте 'x' в выполненных пунктах. Далее нажмите Shift+Enter."
   ]
  },
  {
   "cell_type": "markdown",
   "metadata": {},
   "source": [
    "- [x]  Jupyter Notebook открыт\n",
    "- [ ]  Весь код выполняется без ошибок\n",
    "- [ ]  Ячейки с кодом расположены в порядке исполнения\n",
    "- [ ]  Выполнена загрузка и подготовка данных\n",
    "- [ ]  Выполнено обучение моделей\n",
    "- [ ]  Есть анализ скорости работы и качества моделей"
   ]
  },
  {
   "cell_type": "code",
   "execution_count": 49,
   "metadata": {},
   "outputs": [
    {
     "name": "stdout",
     "output_type": "stream",
     "text": [
      "The end\n"
     ]
    }
   ],
   "source": []
  }
 ],
 "metadata": {
  "ExecuteTimeLog": [
   {
    "duration": 4,
    "start_time": "2022-05-22T16:28:56.049Z"
   },
   {
    "duration": 809,
    "start_time": "2022-05-22T16:29:48.325Z"
   },
   {
    "duration": 123,
    "start_time": "2022-05-22T16:29:49.136Z"
   },
   {
    "duration": 106,
    "start_time": "2022-05-22T16:29:49.260Z"
   },
   {
    "duration": 160,
    "start_time": "2022-05-22T16:30:12.437Z"
   },
   {
    "duration": 129,
    "start_time": "2022-05-22T16:30:23.432Z"
   },
   {
    "duration": 234,
    "start_time": "2022-05-22T16:30:37.108Z"
   },
   {
    "duration": 188,
    "start_time": "2022-05-22T16:30:54.609Z"
   },
   {
    "duration": 123,
    "start_time": "2022-05-22T16:30:58.453Z"
   },
   {
    "duration": 190,
    "start_time": "2022-05-22T16:31:03.334Z"
   },
   {
    "duration": 132,
    "start_time": "2022-05-22T16:31:05.686Z"
   },
   {
    "duration": 183,
    "start_time": "2022-05-22T16:32:17.813Z"
   },
   {
    "duration": 98,
    "start_time": "2022-05-22T16:32:17.999Z"
   },
   {
    "duration": 405,
    "start_time": "2022-05-22T16:32:29.068Z"
   },
   {
    "duration": 194,
    "start_time": "2022-05-22T16:33:07.418Z"
   },
   {
    "duration": 181,
    "start_time": "2022-05-22T16:33:10.737Z"
   },
   {
    "duration": 267,
    "start_time": "2022-05-22T16:33:13.438Z"
   },
   {
    "duration": 75,
    "start_time": "2022-05-22T16:33:17.336Z"
   },
   {
    "duration": 701,
    "start_time": "2022-05-22T16:35:19.247Z"
   },
   {
    "duration": 893,
    "start_time": "2022-05-22T16:35:19.950Z"
   },
   {
    "duration": 127,
    "start_time": "2022-05-22T16:35:20.846Z"
   },
   {
    "duration": 133,
    "start_time": "2022-05-22T16:35:20.975Z"
   },
   {
    "duration": 161,
    "start_time": "2022-05-22T16:35:21.332Z"
   },
   {
    "duration": 92,
    "start_time": "2022-05-22T16:35:23.722Z"
   },
   {
    "duration": 392,
    "start_time": "2022-05-22T16:45:32.112Z"
   },
   {
    "duration": 467,
    "start_time": "2022-05-22T16:45:36.574Z"
   },
   {
    "duration": 436,
    "start_time": "2022-05-22T16:46:38.589Z"
   },
   {
    "duration": 876,
    "start_time": "2022-05-22T16:46:43.684Z"
   },
   {
    "duration": 398,
    "start_time": "2022-05-22T16:46:57.191Z"
   },
   {
    "duration": 40,
    "start_time": "2022-05-22T16:47:45.202Z"
   },
   {
    "duration": 413,
    "start_time": "2022-05-22T16:48:16.371Z"
   },
   {
    "duration": 13,
    "start_time": "2022-05-22T16:48:51.605Z"
   },
   {
    "duration": 570,
    "start_time": "2022-05-22T16:48:58.155Z"
   },
   {
    "duration": 518,
    "start_time": "2022-05-22T16:49:01.921Z"
   },
   {
    "duration": 502,
    "start_time": "2022-05-22T16:49:08.013Z"
   },
   {
    "duration": 394,
    "start_time": "2022-05-22T16:49:09.571Z"
   },
   {
    "duration": 699,
    "start_time": "2022-05-22T16:49:28.607Z"
   },
   {
    "duration": 920,
    "start_time": "2022-05-22T16:49:29.308Z"
   },
   {
    "duration": 136,
    "start_time": "2022-05-22T16:49:30.230Z"
   },
   {
    "duration": 564,
    "start_time": "2022-05-22T16:49:30.367Z"
   },
   {
    "duration": 589,
    "start_time": "2022-05-22T16:49:30.933Z"
   },
   {
    "duration": 129,
    "start_time": "2022-05-22T16:49:31.525Z"
   },
   {
    "duration": 215,
    "start_time": "2022-05-22T16:49:31.656Z"
   },
   {
    "duration": 89,
    "start_time": "2022-05-22T16:49:31.873Z"
   },
   {
    "duration": 105,
    "start_time": "2022-05-22T16:49:59.181Z"
   },
   {
    "duration": 6,
    "start_time": "2022-05-22T16:50:58.677Z"
   },
   {
    "duration": 16,
    "start_time": "2022-05-22T16:51:05.254Z"
   },
   {
    "duration": 83,
    "start_time": "2022-05-22T16:52:29.031Z"
   },
   {
    "duration": 9,
    "start_time": "2022-05-22T16:52:31.681Z"
   },
   {
    "duration": 10,
    "start_time": "2022-05-22T16:52:34.880Z"
   },
   {
    "duration": 9,
    "start_time": "2022-05-22T16:53:02.760Z"
   },
   {
    "duration": 15,
    "start_time": "2022-05-22T16:53:24.025Z"
   },
   {
    "duration": 41,
    "start_time": "2022-05-22T16:54:13.627Z"
   },
   {
    "duration": 5,
    "start_time": "2022-05-22T16:57:18.614Z"
   },
   {
    "duration": 18,
    "start_time": "2022-05-22T16:57:22.190Z"
   },
   {
    "duration": 18,
    "start_time": "2022-05-22T16:59:21.462Z"
   },
   {
    "duration": 15,
    "start_time": "2022-05-22T16:59:27.097Z"
   },
   {
    "duration": 15,
    "start_time": "2022-05-22T16:59:34.439Z"
   },
   {
    "duration": 19,
    "start_time": "2022-05-22T16:59:55.239Z"
   },
   {
    "duration": 8,
    "start_time": "2022-05-22T17:01:09.488Z"
   },
   {
    "duration": 424,
    "start_time": "2022-05-22T17:01:22.388Z"
   },
   {
    "duration": 356,
    "start_time": "2022-05-22T17:01:47.352Z"
   },
   {
    "duration": 246,
    "start_time": "2022-05-22T17:01:53.766Z"
   },
   {
    "duration": 255,
    "start_time": "2022-05-22T17:01:57.346Z"
   },
   {
    "duration": 266,
    "start_time": "2022-05-22T17:02:02.578Z"
   },
   {
    "duration": 271,
    "start_time": "2022-05-22T17:02:07.556Z"
   },
   {
    "duration": 360,
    "start_time": "2022-05-22T17:02:35.607Z"
   },
   {
    "duration": 630,
    "start_time": "2022-05-22T17:02:42.387Z"
   },
   {
    "duration": 498,
    "start_time": "2022-05-22T17:02:53.649Z"
   },
   {
    "duration": 86,
    "start_time": "2022-05-22T17:04:08.104Z"
   },
   {
    "duration": 65,
    "start_time": "2022-05-22T17:04:12.135Z"
   },
   {
    "duration": 70,
    "start_time": "2022-05-22T17:04:18.287Z"
   },
   {
    "duration": 37,
    "start_time": "2022-05-22T17:04:37.560Z"
   },
   {
    "duration": 33,
    "start_time": "2022-05-22T17:04:40.998Z"
   },
   {
    "duration": 63,
    "start_time": "2022-05-22T17:04:54.587Z"
   },
   {
    "duration": 40,
    "start_time": "2022-05-22T17:05:02.057Z"
   },
   {
    "duration": 540,
    "start_time": "2022-05-22T17:08:19.446Z"
   },
   {
    "duration": 130,
    "start_time": "2022-05-22T17:09:52.532Z"
   },
   {
    "duration": 124,
    "start_time": "2022-05-22T17:10:08.401Z"
   },
   {
    "duration": 122,
    "start_time": "2022-05-22T17:10:11.123Z"
   },
   {
    "duration": 136,
    "start_time": "2022-05-22T17:10:20.298Z"
   },
   {
    "duration": 689,
    "start_time": "2022-05-22T17:14:41.687Z"
   },
   {
    "duration": 551,
    "start_time": "2022-05-22T17:15:00.054Z"
   },
   {
    "duration": 586,
    "start_time": "2022-05-22T17:15:28.667Z"
   },
   {
    "duration": 859,
    "start_time": "2022-05-22T17:16:36.899Z"
   },
   {
    "duration": 806,
    "start_time": "2022-05-22T17:16:46.658Z"
   },
   {
    "duration": 616,
    "start_time": "2022-05-22T17:16:57.697Z"
   },
   {
    "duration": 301,
    "start_time": "2022-05-22T17:17:00.337Z"
   },
   {
    "duration": 295,
    "start_time": "2022-05-22T17:17:19.109Z"
   },
   {
    "duration": 296,
    "start_time": "2022-05-22T17:17:26.027Z"
   },
   {
    "duration": 296,
    "start_time": "2022-05-22T17:17:32.368Z"
   },
   {
    "duration": 333,
    "start_time": "2022-05-22T17:19:54.348Z"
   },
   {
    "duration": 559,
    "start_time": "2022-05-22T17:19:58.236Z"
   },
   {
    "duration": 41,
    "start_time": "2022-05-22T17:23:51.050Z"
   },
   {
    "duration": 34,
    "start_time": "2022-05-22T17:23:53.302Z"
   },
   {
    "duration": 35,
    "start_time": "2022-05-22T17:23:59.599Z"
   },
   {
    "duration": 36,
    "start_time": "2022-05-22T17:24:06.582Z"
   },
   {
    "duration": 48,
    "start_time": "2022-05-22T17:24:11.169Z"
   },
   {
    "duration": 12,
    "start_time": "2022-05-22T17:24:25.007Z"
   },
   {
    "duration": 20,
    "start_time": "2022-05-22T17:24:32.709Z"
   },
   {
    "duration": 3,
    "start_time": "2022-05-22T17:31:51.778Z"
   },
   {
    "duration": 747,
    "start_time": "2022-05-22T17:33:24.961Z"
   },
   {
    "duration": 918,
    "start_time": "2022-05-22T17:33:25.710Z"
   },
   {
    "duration": 168,
    "start_time": "2022-05-22T17:33:26.630Z"
   },
   {
    "duration": 559,
    "start_time": "2022-05-22T17:33:26.801Z"
   },
   {
    "duration": 621,
    "start_time": "2022-05-22T17:33:27.362Z"
   },
   {
    "duration": 177,
    "start_time": "2022-05-22T17:33:27.985Z"
   },
   {
    "duration": 239,
    "start_time": "2022-05-22T17:33:28.164Z"
   },
   {
    "duration": 95,
    "start_time": "2022-05-22T17:33:28.405Z"
   },
   {
    "duration": 38,
    "start_time": "2022-05-22T17:33:28.501Z"
   },
   {
    "duration": 3,
    "start_time": "2022-05-22T17:33:28.542Z"
   },
   {
    "duration": 606,
    "start_time": "2022-05-22T17:33:28.547Z"
   },
   {
    "duration": 578,
    "start_time": "2022-05-22T17:34:33.927Z"
   },
   {
    "duration": 151,
    "start_time": "2022-05-22T17:49:39.555Z"
   },
   {
    "duration": 38,
    "start_time": "2022-05-22T17:49:49.781Z"
   },
   {
    "duration": 28,
    "start_time": "2022-05-22T17:50:11.102Z"
   },
   {
    "duration": 89,
    "start_time": "2022-05-22T17:50:13.032Z"
   },
   {
    "duration": 31,
    "start_time": "2022-05-22T17:50:51.190Z"
   },
   {
    "duration": 70,
    "start_time": "2022-05-22T17:51:08.428Z"
   },
   {
    "duration": 27,
    "start_time": "2022-05-22T17:51:18.983Z"
   },
   {
    "duration": 49,
    "start_time": "2022-05-22T17:51:24.755Z"
   },
   {
    "duration": 25,
    "start_time": "2022-05-22T17:51:39.530Z"
   },
   {
    "duration": 488,
    "start_time": "2022-05-22T17:52:26.649Z"
   },
   {
    "duration": 38,
    "start_time": "2022-05-22T17:52:38.069Z"
   },
   {
    "duration": 4,
    "start_time": "2022-05-22T17:55:04.842Z"
   },
   {
    "duration": 104,
    "start_time": "2022-05-22T17:55:12.105Z"
   },
   {
    "duration": 30,
    "start_time": "2022-05-22T17:56:31.618Z"
   },
   {
    "duration": 27,
    "start_time": "2022-05-22T17:57:29.883Z"
   },
   {
    "duration": 566,
    "start_time": "2022-05-22T17:57:30.437Z"
   },
   {
    "duration": 45,
    "start_time": "2022-05-22T17:58:56.903Z"
   },
   {
    "duration": 547,
    "start_time": "2022-05-22T17:59:25.118Z"
   },
   {
    "duration": 671,
    "start_time": "2022-05-22T17:59:33.010Z"
   },
   {
    "duration": 601,
    "start_time": "2022-05-22T17:59:38.184Z"
   },
   {
    "duration": 5,
    "start_time": "2022-05-22T17:59:59.116Z"
   },
   {
    "duration": 152,
    "start_time": "2022-05-22T18:00:01.315Z"
   },
   {
    "duration": 4,
    "start_time": "2022-05-22T18:00:12.546Z"
   },
   {
    "duration": 183,
    "start_time": "2022-05-22T18:00:26.391Z"
   },
   {
    "duration": 4,
    "start_time": "2022-05-22T18:00:32.430Z"
   },
   {
    "duration": 127,
    "start_time": "2022-05-22T18:02:51.176Z"
   },
   {
    "duration": 89,
    "start_time": "2022-05-22T18:03:05.554Z"
   },
   {
    "duration": 744,
    "start_time": "2022-05-22T18:03:34.093Z"
   },
   {
    "duration": 974,
    "start_time": "2022-05-22T18:03:34.839Z"
   },
   {
    "duration": 155,
    "start_time": "2022-05-22T18:03:35.815Z"
   },
   {
    "duration": 539,
    "start_time": "2022-05-22T18:03:35.971Z"
   },
   {
    "duration": 618,
    "start_time": "2022-05-22T18:03:36.513Z"
   },
   {
    "duration": 134,
    "start_time": "2022-05-22T18:03:37.134Z"
   },
   {
    "duration": 217,
    "start_time": "2022-05-22T18:03:37.270Z"
   },
   {
    "duration": 77,
    "start_time": "2022-05-22T18:03:37.489Z"
   },
   {
    "duration": 44,
    "start_time": "2022-05-22T18:03:37.567Z"
   },
   {
    "duration": 3,
    "start_time": "2022-05-22T18:03:37.613Z"
   },
   {
    "duration": 22,
    "start_time": "2022-05-22T18:03:37.618Z"
   },
   {
    "duration": 91,
    "start_time": "2022-05-22T18:03:37.642Z"
   },
   {
    "duration": 56,
    "start_time": "2022-05-22T18:03:37.734Z"
   },
   {
    "duration": 636,
    "start_time": "2022-05-22T18:03:37.793Z"
   },
   {
    "duration": 4,
    "start_time": "2022-05-22T18:03:38.431Z"
   },
   {
    "duration": 50,
    "start_time": "2022-05-22T18:03:38.436Z"
   },
   {
    "duration": 6,
    "start_time": "2022-05-22T18:03:38.496Z"
   },
   {
    "duration": 36,
    "start_time": "2022-05-22T18:04:00.664Z"
   },
   {
    "duration": 4,
    "start_time": "2022-05-22T18:04:01.722Z"
   },
   {
    "duration": 531,
    "start_time": "2022-05-22T18:04:09.460Z"
   },
   {
    "duration": 736,
    "start_time": "2022-05-22T18:04:45.166Z"
   },
   {
    "duration": 6,
    "start_time": "2022-05-22T18:05:17.514Z"
   },
   {
    "duration": 680,
    "start_time": "2022-05-22T18:06:05.831Z"
   },
   {
    "duration": 954,
    "start_time": "2022-05-22T18:06:06.514Z"
   },
   {
    "duration": 139,
    "start_time": "2022-05-22T18:06:07.469Z"
   },
   {
    "duration": 636,
    "start_time": "2022-05-22T18:06:07.610Z"
   },
   {
    "duration": 588,
    "start_time": "2022-05-22T18:06:08.248Z"
   },
   {
    "duration": 122,
    "start_time": "2022-05-22T18:06:08.837Z"
   },
   {
    "duration": 192,
    "start_time": "2022-05-22T18:06:08.961Z"
   },
   {
    "duration": 91,
    "start_time": "2022-05-22T18:06:09.155Z"
   },
   {
    "duration": 41,
    "start_time": "2022-05-22T18:06:09.247Z"
   },
   {
    "duration": 2,
    "start_time": "2022-05-22T18:06:09.291Z"
   },
   {
    "duration": 25,
    "start_time": "2022-05-22T18:06:09.295Z"
   },
   {
    "duration": 80,
    "start_time": "2022-05-22T18:06:09.322Z"
   },
   {
    "duration": 45,
    "start_time": "2022-05-22T18:06:09.405Z"
   },
   {
    "duration": 627,
    "start_time": "2022-05-22T18:06:09.452Z"
   },
   {
    "duration": 5,
    "start_time": "2022-05-22T18:06:10.080Z"
   },
   {
    "duration": 26,
    "start_time": "2022-05-22T18:06:10.087Z"
   },
   {
    "duration": 5,
    "start_time": "2022-05-22T18:06:10.115Z"
   },
   {
    "duration": 86,
    "start_time": "2022-05-22T18:07:20.879Z"
   },
   {
    "duration": 72,
    "start_time": "2022-05-22T18:07:30.030Z"
   },
   {
    "duration": 37,
    "start_time": "2022-05-22T18:09:44.932Z"
   },
   {
    "duration": 758,
    "start_time": "2022-05-22T18:09:57.680Z"
   },
   {
    "duration": 889,
    "start_time": "2022-05-22T18:09:58.441Z"
   },
   {
    "duration": 142,
    "start_time": "2022-05-22T18:09:59.332Z"
   },
   {
    "duration": 505,
    "start_time": "2022-05-22T18:09:59.484Z"
   },
   {
    "duration": 577,
    "start_time": "2022-05-22T18:09:59.991Z"
   },
   {
    "duration": 131,
    "start_time": "2022-05-22T18:10:00.569Z"
   },
   {
    "duration": 206,
    "start_time": "2022-05-22T18:10:00.702Z"
   },
   {
    "duration": 87,
    "start_time": "2022-05-22T18:10:00.910Z"
   },
   {
    "duration": 38,
    "start_time": "2022-05-22T18:10:00.999Z"
   },
   {
    "duration": 2,
    "start_time": "2022-05-22T18:10:01.039Z"
   },
   {
    "duration": 48,
    "start_time": "2022-05-22T18:10:01.043Z"
   },
   {
    "duration": 105,
    "start_time": "2022-05-22T18:10:01.093Z"
   },
   {
    "duration": 46,
    "start_time": "2022-05-22T18:10:01.200Z"
   },
   {
    "duration": 599,
    "start_time": "2022-05-22T18:10:01.248Z"
   },
   {
    "duration": 4,
    "start_time": "2022-05-22T18:10:01.850Z"
   },
   {
    "duration": 55,
    "start_time": "2022-05-22T18:10:01.856Z"
   },
   {
    "duration": 8,
    "start_time": "2022-05-22T18:10:01.913Z"
   },
   {
    "duration": 18,
    "start_time": "2022-05-22T18:11:18.936Z"
   },
   {
    "duration": 32,
    "start_time": "2022-05-22T18:11:31.194Z"
   },
   {
    "duration": 27,
    "start_time": "2022-05-22T18:11:35.705Z"
   },
   {
    "duration": 7,
    "start_time": "2022-05-22T18:18:22.877Z"
   },
   {
    "duration": 8,
    "start_time": "2022-05-22T18:18:27.774Z"
   },
   {
    "duration": 9,
    "start_time": "2022-05-22T18:19:17.269Z"
   },
   {
    "duration": 19,
    "start_time": "2022-05-22T18:19:50.082Z"
   },
   {
    "duration": 11,
    "start_time": "2022-05-22T18:19:56.652Z"
   },
   {
    "duration": 33,
    "start_time": "2022-05-22T18:20:00.490Z"
   },
   {
    "duration": 23,
    "start_time": "2022-05-22T18:20:15.421Z"
   },
   {
    "duration": 6,
    "start_time": "2022-05-22T18:20:37.191Z"
   },
   {
    "duration": 35,
    "start_time": "2022-05-22T18:20:49.107Z"
   },
   {
    "duration": 13,
    "start_time": "2022-05-22T18:20:56.991Z"
   },
   {
    "duration": 5,
    "start_time": "2022-05-22T18:20:59.208Z"
   },
   {
    "duration": 6,
    "start_time": "2022-05-22T18:21:01.714Z"
   },
   {
    "duration": 5,
    "start_time": "2022-05-22T18:21:03.725Z"
   },
   {
    "duration": 47,
    "start_time": "2022-05-22T18:22:09.656Z"
   },
   {
    "duration": 732,
    "start_time": "2022-05-22T18:23:16.653Z"
   },
   {
    "duration": 955,
    "start_time": "2022-05-22T18:23:17.388Z"
   },
   {
    "duration": 130,
    "start_time": "2022-05-22T18:23:18.345Z"
   },
   {
    "duration": 509,
    "start_time": "2022-05-22T18:23:18.483Z"
   },
   {
    "duration": 541,
    "start_time": "2022-05-22T18:23:18.995Z"
   },
   {
    "duration": 128,
    "start_time": "2022-05-22T18:23:19.538Z"
   },
   {
    "duration": 226,
    "start_time": "2022-05-22T18:23:19.667Z"
   },
   {
    "duration": 74,
    "start_time": "2022-05-22T18:23:19.897Z"
   },
   {
    "duration": 40,
    "start_time": "2022-05-22T18:23:19.983Z"
   },
   {
    "duration": 2,
    "start_time": "2022-05-22T18:23:20.025Z"
   },
   {
    "duration": 24,
    "start_time": "2022-05-22T18:23:20.029Z"
   },
   {
    "duration": 92,
    "start_time": "2022-05-22T18:23:20.055Z"
   },
   {
    "duration": 55,
    "start_time": "2022-05-22T18:23:20.149Z"
   },
   {
    "duration": 555,
    "start_time": "2022-05-22T18:23:20.206Z"
   },
   {
    "duration": 4,
    "start_time": "2022-05-22T18:23:20.762Z"
   },
   {
    "duration": 43,
    "start_time": "2022-05-22T18:23:20.768Z"
   },
   {
    "duration": 8,
    "start_time": "2022-05-22T18:23:20.814Z"
   },
   {
    "duration": 19,
    "start_time": "2022-05-22T18:23:20.823Z"
   },
   {
    "duration": 60,
    "start_time": "2022-05-22T18:23:20.843Z"
   },
   {
    "duration": 92,
    "start_time": "2022-05-22T18:23:33.489Z"
   },
   {
    "duration": 13,
    "start_time": "2022-05-22T18:23:35.331Z"
   },
   {
    "duration": 19,
    "start_time": "2022-05-22T18:23:42.187Z"
   },
   {
    "duration": 11,
    "start_time": "2022-05-22T18:23:51.451Z"
   },
   {
    "duration": 9,
    "start_time": "2022-05-22T18:23:54.808Z"
   },
   {
    "duration": 9,
    "start_time": "2022-05-22T18:24:04.557Z"
   },
   {
    "duration": 10,
    "start_time": "2022-05-22T18:24:07.857Z"
   },
   {
    "duration": 10,
    "start_time": "2022-05-22T18:24:12.467Z"
   },
   {
    "duration": 9,
    "start_time": "2022-05-22T18:24:24.348Z"
   },
   {
    "duration": 9,
    "start_time": "2022-05-22T18:24:53.530Z"
   },
   {
    "duration": 10,
    "start_time": "2022-05-22T18:25:01.554Z"
   },
   {
    "duration": 343,
    "start_time": "2022-05-22T18:25:52.187Z"
   },
   {
    "duration": 321,
    "start_time": "2022-05-22T18:27:33.123Z"
   },
   {
    "duration": 330,
    "start_time": "2022-05-22T18:28:01.407Z"
   },
   {
    "duration": 309,
    "start_time": "2022-05-22T18:28:05.848Z"
   },
   {
    "duration": 327,
    "start_time": "2022-05-22T18:28:08.980Z"
   },
   {
    "duration": 326,
    "start_time": "2022-05-22T18:28:26.432Z"
   },
   {
    "duration": 413,
    "start_time": "2022-05-22T18:28:33.841Z"
   },
   {
    "duration": 688,
    "start_time": "2022-05-22T18:29:00.890Z"
   },
   {
    "duration": 633,
    "start_time": "2022-05-22T18:29:08.929Z"
   },
   {
    "duration": 640,
    "start_time": "2022-05-22T18:29:21.022Z"
   },
   {
    "duration": 704,
    "start_time": "2022-05-22T18:29:28.025Z"
   },
   {
    "duration": 31,
    "start_time": "2022-05-22T18:30:22.164Z"
   },
   {
    "duration": 746,
    "start_time": "2022-05-22T18:31:02.167Z"
   },
   {
    "duration": 953,
    "start_time": "2022-05-22T18:31:02.915Z"
   },
   {
    "duration": 149,
    "start_time": "2022-05-22T18:31:03.870Z"
   },
   {
    "duration": 528,
    "start_time": "2022-05-22T18:31:04.021Z"
   },
   {
    "duration": 578,
    "start_time": "2022-05-22T18:31:04.551Z"
   },
   {
    "duration": 128,
    "start_time": "2022-05-22T18:31:05.131Z"
   },
   {
    "duration": 201,
    "start_time": "2022-05-22T18:31:05.261Z"
   },
   {
    "duration": 87,
    "start_time": "2022-05-22T18:31:05.463Z"
   },
   {
    "duration": 51,
    "start_time": "2022-05-22T18:31:05.552Z"
   },
   {
    "duration": 2,
    "start_time": "2022-05-22T18:31:05.605Z"
   },
   {
    "duration": 23,
    "start_time": "2022-05-22T18:31:05.609Z"
   },
   {
    "duration": 101,
    "start_time": "2022-05-22T18:31:05.634Z"
   },
   {
    "duration": 59,
    "start_time": "2022-05-22T18:31:05.738Z"
   },
   {
    "duration": 586,
    "start_time": "2022-05-22T18:31:05.808Z"
   },
   {
    "duration": 22,
    "start_time": "2022-05-22T18:31:06.397Z"
   },
   {
    "duration": 725,
    "start_time": "2022-05-22T18:31:06.421Z"
   },
   {
    "duration": 20,
    "start_time": "2022-05-22T18:31:07.147Z"
   },
   {
    "duration": 55,
    "start_time": "2022-05-22T18:31:23.920Z"
   },
   {
    "duration": 18,
    "start_time": "2022-05-22T18:33:26.767Z"
   },
   {
    "duration": 17,
    "start_time": "2022-05-22T18:33:33.919Z"
   },
   {
    "duration": 13,
    "start_time": "2022-05-22T18:34:05.969Z"
   },
   {
    "duration": 532,
    "start_time": "2022-05-22T18:34:29.373Z"
   },
   {
    "duration": 465,
    "start_time": "2022-05-22T18:35:09.819Z"
   },
   {
    "duration": 456,
    "start_time": "2022-05-22T18:35:17.474Z"
   },
   {
    "duration": 891,
    "start_time": "2022-05-22T19:49:41.424Z"
   },
   {
    "duration": 2889,
    "start_time": "2022-05-22T19:49:42.317Z"
   },
   {
    "duration": 124,
    "start_time": "2022-05-22T19:49:45.207Z"
   },
   {
    "duration": 508,
    "start_time": "2022-05-22T19:49:45.333Z"
   },
   {
    "duration": 494,
    "start_time": "2022-05-22T19:49:45.843Z"
   },
   {
    "duration": 135,
    "start_time": "2022-05-22T19:49:46.339Z"
   },
   {
    "duration": 185,
    "start_time": "2022-05-22T19:49:46.476Z"
   },
   {
    "duration": 76,
    "start_time": "2022-05-22T19:49:46.663Z"
   },
   {
    "duration": 31,
    "start_time": "2022-05-22T19:49:46.741Z"
   },
   {
    "duration": 2,
    "start_time": "2022-05-22T19:49:46.774Z"
   },
   {
    "duration": 34,
    "start_time": "2022-05-22T19:49:46.777Z"
   },
   {
    "duration": 93,
    "start_time": "2022-05-22T19:49:46.813Z"
   },
   {
    "duration": 38,
    "start_time": "2022-05-22T19:49:46.907Z"
   },
   {
    "duration": 642,
    "start_time": "2022-05-22T19:49:46.947Z"
   },
   {
    "duration": 27,
    "start_time": "2022-05-22T19:49:47.591Z"
   },
   {
    "duration": 637,
    "start_time": "2022-05-22T19:49:47.620Z"
   },
   {
    "duration": 17,
    "start_time": "2022-05-22T19:49:48.259Z"
   },
   {
    "duration": 72,
    "start_time": "2022-05-22T19:49:48.278Z"
   },
   {
    "duration": 466,
    "start_time": "2022-05-22T19:49:48.352Z"
   },
   {
    "duration": 56,
    "start_time": "2022-05-22T19:49:48.820Z"
   },
   {
    "duration": 446,
    "start_time": "2022-05-22T19:50:10.506Z"
   },
   {
    "duration": 919,
    "start_time": "2022-05-23T11:46:44.110Z"
   },
   {
    "duration": 3014,
    "start_time": "2022-05-23T11:46:45.031Z"
   },
   {
    "duration": 132,
    "start_time": "2022-05-23T11:46:48.046Z"
   },
   {
    "duration": 445,
    "start_time": "2022-05-23T11:46:48.184Z"
   },
   {
    "duration": 492,
    "start_time": "2022-05-23T11:46:48.631Z"
   },
   {
    "duration": 121,
    "start_time": "2022-05-23T11:46:49.125Z"
   },
   {
    "duration": 173,
    "start_time": "2022-05-23T11:46:49.247Z"
   },
   {
    "duration": 76,
    "start_time": "2022-05-23T11:46:49.421Z"
   },
   {
    "duration": 28,
    "start_time": "2022-05-23T11:46:49.499Z"
   },
   {
    "duration": 2,
    "start_time": "2022-05-23T11:46:49.529Z"
   },
   {
    "duration": 23,
    "start_time": "2022-05-23T11:46:49.532Z"
   },
   {
    "duration": 90,
    "start_time": "2022-05-23T11:46:49.556Z"
   },
   {
    "duration": 43,
    "start_time": "2022-05-23T11:46:49.647Z"
   },
   {
    "duration": 582,
    "start_time": "2022-05-23T11:46:49.691Z"
   },
   {
    "duration": 27,
    "start_time": "2022-05-23T11:46:50.276Z"
   },
   {
    "duration": 648,
    "start_time": "2022-05-23T11:46:50.304Z"
   },
   {
    "duration": 23,
    "start_time": "2022-05-23T11:46:50.954Z"
   },
   {
    "duration": 66,
    "start_time": "2022-05-23T11:46:50.980Z"
   },
   {
    "duration": 461,
    "start_time": "2022-05-23T11:46:51.048Z"
   },
   {
    "duration": 52,
    "start_time": "2022-05-23T11:46:51.510Z"
   },
   {
    "duration": 399,
    "start_time": "2022-05-23T12:05:57.885Z"
   },
   {
    "duration": 384,
    "start_time": "2022-05-23T12:06:11.096Z"
   },
   {
    "duration": 16,
    "start_time": "2022-05-23T12:06:11.664Z"
   },
   {
    "duration": 62,
    "start_time": "2022-05-23T14:07:51.731Z"
   },
   {
    "duration": 847,
    "start_time": "2022-05-23T14:07:56.660Z"
   },
   {
    "duration": 1155,
    "start_time": "2022-05-23T14:07:57.509Z"
   },
   {
    "duration": 127,
    "start_time": "2022-05-23T14:07:58.666Z"
   },
   {
    "duration": 529,
    "start_time": "2022-05-23T14:07:58.795Z"
   },
   {
    "duration": 530,
    "start_time": "2022-05-23T14:07:59.327Z"
   },
   {
    "duration": 124,
    "start_time": "2022-05-23T14:07:59.859Z"
   },
   {
    "duration": 192,
    "start_time": "2022-05-23T14:07:59.985Z"
   },
   {
    "duration": 83,
    "start_time": "2022-05-23T14:08:00.179Z"
   },
   {
    "duration": 32,
    "start_time": "2022-05-23T14:08:00.264Z"
   },
   {
    "duration": 37,
    "start_time": "2022-05-23T14:08:00.298Z"
   },
   {
    "duration": 92,
    "start_time": "2022-05-23T14:08:00.337Z"
   },
   {
    "duration": 44,
    "start_time": "2022-05-23T14:08:00.431Z"
   },
   {
    "duration": 582,
    "start_time": "2022-05-23T14:08:00.477Z"
   },
   {
    "duration": 24,
    "start_time": "2022-05-23T14:08:01.061Z"
   },
   {
    "duration": 812,
    "start_time": "2022-05-23T14:08:01.087Z"
   },
   {
    "duration": 30,
    "start_time": "2022-05-23T14:08:01.901Z"
   },
   {
    "duration": 73,
    "start_time": "2022-05-23T14:08:01.934Z"
   },
   {
    "duration": 555,
    "start_time": "2022-05-23T14:08:02.009Z"
   },
   {
    "duration": 25,
    "start_time": "2022-05-23T14:08:02.566Z"
   },
   {
    "duration": 105,
    "start_time": "2022-05-23T14:49:17.304Z"
   },
   {
    "duration": 24,
    "start_time": "2022-05-23T14:49:21.664Z"
   },
   {
    "duration": 31,
    "start_time": "2022-05-23T14:50:37.104Z"
   },
   {
    "duration": 746,
    "start_time": "2022-05-23T14:51:37.203Z"
   },
   {
    "duration": 389,
    "start_time": "2022-05-23T14:56:28.167Z"
   },
   {
    "duration": 37,
    "start_time": "2022-05-23T14:56:33.008Z"
   },
   {
    "duration": 4,
    "start_time": "2022-05-23T14:56:45.966Z"
   },
   {
    "duration": 4,
    "start_time": "2022-05-23T14:56:56.216Z"
   },
   {
    "duration": 347,
    "start_time": "2022-05-23T14:57:52.755Z"
   },
   {
    "duration": 351,
    "start_time": "2022-05-23T14:58:01.811Z"
   },
   {
    "duration": 20255,
    "start_time": "2022-05-23T15:05:12.976Z"
   },
   {
    "duration": 21640,
    "start_time": "2022-05-23T15:05:45.095Z"
   },
   {
    "duration": 14,
    "start_time": "2022-05-23T15:08:43.385Z"
   },
   {
    "duration": 321,
    "start_time": "2022-05-23T15:09:14.946Z"
   },
   {
    "duration": 1370,
    "start_time": "2022-05-23T15:18:48.909Z"
   },
   {
    "duration": 1283,
    "start_time": "2022-05-23T15:19:07.598Z"
   },
   {
    "duration": 1358,
    "start_time": "2022-05-27T14:46:35.885Z"
   },
   {
    "duration": 2664,
    "start_time": "2022-05-27T14:46:37.246Z"
   },
   {
    "duration": 146,
    "start_time": "2022-05-27T14:46:39.912Z"
   },
   {
    "duration": 472,
    "start_time": "2022-05-27T14:46:40.061Z"
   },
   {
    "duration": 472,
    "start_time": "2022-05-27T14:46:40.535Z"
   },
   {
    "duration": 111,
    "start_time": "2022-05-27T14:46:41.008Z"
   },
   {
    "duration": 183,
    "start_time": "2022-05-27T14:46:41.121Z"
   },
   {
    "duration": 79,
    "start_time": "2022-05-27T14:46:41.306Z"
   },
   {
    "duration": 29,
    "start_time": "2022-05-27T14:46:41.388Z"
   },
   {
    "duration": 29,
    "start_time": "2022-05-27T14:46:41.419Z"
   },
   {
    "duration": 71,
    "start_time": "2022-05-27T14:46:41.450Z"
   },
   {
    "duration": 53,
    "start_time": "2022-05-27T14:46:41.523Z"
   },
   {
    "duration": 582,
    "start_time": "2022-05-27T14:46:41.578Z"
   },
   {
    "duration": 22,
    "start_time": "2022-05-27T14:46:42.163Z"
   },
   {
    "duration": 591,
    "start_time": "2022-05-27T14:46:42.186Z"
   },
   {
    "duration": 16,
    "start_time": "2022-05-27T14:46:42.779Z"
   },
   {
    "duration": 58,
    "start_time": "2022-05-27T14:46:42.796Z"
   },
   {
    "duration": 431,
    "start_time": "2022-05-27T14:46:42.856Z"
   },
   {
    "duration": 19,
    "start_time": "2022-05-27T14:46:43.289Z"
   },
   {
    "duration": 354,
    "start_time": "2022-05-27T14:46:43.310Z"
   },
   {
    "duration": 15083,
    "start_time": "2022-05-27T14:46:43.665Z"
   },
   {
    "duration": 1149,
    "start_time": "2022-05-27T14:49:14.123Z"
   },
   {
    "duration": 836,
    "start_time": "2022-05-27T14:49:15.274Z"
   },
   {
    "duration": 132,
    "start_time": "2022-05-27T14:49:16.112Z"
   },
   {
    "duration": 444,
    "start_time": "2022-05-27T14:49:16.245Z"
   },
   {
    "duration": 517,
    "start_time": "2022-05-27T14:49:16.691Z"
   },
   {
    "duration": 132,
    "start_time": "2022-05-27T14:49:17.209Z"
   },
   {
    "duration": 167,
    "start_time": "2022-05-27T14:49:17.343Z"
   },
   {
    "duration": 79,
    "start_time": "2022-05-27T14:49:17.512Z"
   },
   {
    "duration": 30,
    "start_time": "2022-05-27T14:49:17.593Z"
   },
   {
    "duration": 17,
    "start_time": "2022-05-27T14:49:17.640Z"
   },
   {
    "duration": 82,
    "start_time": "2022-05-27T14:49:17.659Z"
   },
   {
    "duration": 40,
    "start_time": "2022-05-27T14:49:17.743Z"
   },
   {
    "duration": 649,
    "start_time": "2022-05-27T14:49:17.784Z"
   },
   {
    "duration": 25,
    "start_time": "2022-05-27T14:49:18.435Z"
   },
   {
    "duration": 617,
    "start_time": "2022-05-27T14:49:18.461Z"
   },
   {
    "duration": 16,
    "start_time": "2022-05-27T14:49:19.079Z"
   },
   {
    "duration": 70,
    "start_time": "2022-05-27T14:49:19.097Z"
   },
   {
    "duration": 440,
    "start_time": "2022-05-27T14:49:19.169Z"
   },
   {
    "duration": 16,
    "start_time": "2022-05-27T14:49:19.610Z"
   },
   {
    "duration": 377,
    "start_time": "2022-05-27T14:49:19.628Z"
   },
   {
    "duration": 14744,
    "start_time": "2022-05-27T14:49:20.006Z"
   },
   {
    "duration": 292,
    "start_time": "2022-05-27T15:07:02.805Z"
   },
   {
    "duration": 34033,
    "start_time": "2022-05-27T16:15:23.617Z"
   },
   {
    "duration": 57095,
    "start_time": "2022-05-27T16:16:10.077Z"
   },
   {
    "duration": 56979,
    "start_time": "2022-05-27T16:17:36.065Z"
   },
   {
    "duration": 4,
    "start_time": "2022-05-27T16:18:33.046Z"
   },
   {
    "duration": 49,
    "start_time": "2022-05-27T16:22:10.839Z"
   },
   {
    "duration": 4,
    "start_time": "2022-05-27T16:22:38.950Z"
   },
   {
    "duration": 37,
    "start_time": "2022-05-27T16:22:42.765Z"
   },
   {
    "duration": 43,
    "start_time": "2022-05-27T16:22:48.516Z"
   },
   {
    "duration": 41251,
    "start_time": "2022-05-27T16:23:03.696Z"
   },
   {
    "duration": 107357,
    "start_time": "2022-05-27T16:28:04.995Z"
   },
   {
    "duration": 1662,
    "start_time": "2022-05-27T18:53:14.371Z"
   },
   {
    "duration": 1969,
    "start_time": "2022-05-27T18:53:16.043Z"
   },
   {
    "duration": 154,
    "start_time": "2022-05-27T18:53:18.014Z"
   },
   {
    "duration": 648,
    "start_time": "2022-05-27T18:53:18.170Z"
   },
   {
    "duration": 602,
    "start_time": "2022-05-27T18:53:18.821Z"
   },
   {
    "duration": 139,
    "start_time": "2022-05-27T18:53:19.426Z"
   },
   {
    "duration": 204,
    "start_time": "2022-05-27T18:53:19.567Z"
   },
   {
    "duration": 95,
    "start_time": "2022-05-27T18:53:19.774Z"
   },
   {
    "duration": 36,
    "start_time": "2022-05-27T18:53:19.875Z"
   },
   {
    "duration": 30,
    "start_time": "2022-05-27T18:53:19.913Z"
   },
   {
    "duration": 92,
    "start_time": "2022-05-27T18:53:19.946Z"
   },
   {
    "duration": 44,
    "start_time": "2022-05-27T18:53:20.046Z"
   },
   {
    "duration": 678,
    "start_time": "2022-05-27T18:53:20.093Z"
   },
   {
    "duration": 22,
    "start_time": "2022-05-27T18:53:20.775Z"
   },
   {
    "duration": 750,
    "start_time": "2022-05-27T18:53:20.799Z"
   },
   {
    "duration": 18,
    "start_time": "2022-05-27T18:53:21.553Z"
   },
   {
    "duration": 93,
    "start_time": "2022-05-27T18:53:21.573Z"
   },
   {
    "duration": 451,
    "start_time": "2022-05-27T18:53:21.668Z"
   },
   {
    "duration": 31,
    "start_time": "2022-05-27T18:53:22.121Z"
   },
   {
    "duration": 412,
    "start_time": "2022-05-27T18:53:22.154Z"
   },
   {
    "duration": 49381,
    "start_time": "2022-05-27T18:53:22.568Z"
   },
   {
    "duration": 120430,
    "start_time": "2022-05-27T18:54:11.951Z"
   },
   {
    "duration": 379370,
    "start_time": "2022-05-27T19:03:13.006Z"
   },
   {
    "duration": 1232,
    "start_time": "2022-05-28T07:08:16.532Z"
   },
   {
    "duration": 1098,
    "start_time": "2022-05-28T07:08:17.766Z"
   },
   {
    "duration": 130,
    "start_time": "2022-05-28T07:08:18.865Z"
   },
   {
    "duration": 522,
    "start_time": "2022-05-28T07:08:18.998Z"
   },
   {
    "duration": 490,
    "start_time": "2022-05-28T07:08:19.522Z"
   },
   {
    "duration": 123,
    "start_time": "2022-05-28T07:08:20.014Z"
   },
   {
    "duration": 180,
    "start_time": "2022-05-28T07:08:20.291Z"
   },
   {
    "duration": 69,
    "start_time": "2022-05-28T07:08:21.119Z"
   },
   {
    "duration": 38,
    "start_time": "2022-05-28T07:08:22.592Z"
   },
   {
    "duration": 17,
    "start_time": "2022-05-28T07:08:24.480Z"
   },
   {
    "duration": 71,
    "start_time": "2022-05-28T07:08:24.917Z"
   },
   {
    "duration": 38,
    "start_time": "2022-05-28T07:08:28.120Z"
   },
   {
    "duration": 601,
    "start_time": "2022-05-28T07:08:29.443Z"
   },
   {
    "duration": 20,
    "start_time": "2022-05-28T07:08:30.046Z"
   },
   {
    "duration": 664,
    "start_time": "2022-05-28T07:08:30.912Z"
   },
   {
    "duration": 19,
    "start_time": "2022-05-28T07:08:31.788Z"
   },
   {
    "duration": 35,
    "start_time": "2022-05-28T07:08:33.632Z"
   },
   {
    "duration": 89,
    "start_time": "2022-05-28T10:14:14.485Z"
   },
   {
    "duration": 1969,
    "start_time": "2022-05-28T12:31:04.851Z"
   },
   {
    "duration": 4716,
    "start_time": "2022-05-28T12:31:06.823Z"
   },
   {
    "duration": 204,
    "start_time": "2022-05-28T12:31:11.542Z"
   },
   {
    "duration": 650,
    "start_time": "2022-05-28T12:31:11.748Z"
   },
   {
    "duration": 787,
    "start_time": "2022-05-28T12:31:12.401Z"
   },
   {
    "duration": 223,
    "start_time": "2022-05-28T12:31:13.190Z"
   },
   {
    "duration": 264,
    "start_time": "2022-05-28T12:31:13.415Z"
   },
   {
    "duration": 110,
    "start_time": "2022-05-28T12:31:13.680Z"
   },
   {
    "duration": 51,
    "start_time": "2022-05-28T12:31:13.792Z"
   },
   {
    "duration": 20,
    "start_time": "2022-05-28T12:31:13.846Z"
   },
   {
    "duration": 147,
    "start_time": "2022-05-28T12:31:13.868Z"
   },
   {
    "duration": 57,
    "start_time": "2022-05-28T12:31:14.017Z"
   },
   {
    "duration": 845,
    "start_time": "2022-05-28T12:31:14.076Z"
   },
   {
    "duration": 25,
    "start_time": "2022-05-28T12:31:14.925Z"
   },
   {
    "duration": 1021,
    "start_time": "2022-05-28T12:31:14.953Z"
   },
   {
    "duration": 41,
    "start_time": "2022-05-28T12:31:15.977Z"
   },
   {
    "duration": 99,
    "start_time": "2022-05-28T12:31:16.020Z"
   },
   {
    "duration": 96,
    "start_time": "2022-05-28T12:31:16.124Z"
   },
   {
    "duration": 606,
    "start_time": "2022-05-28T12:31:16.222Z"
   },
   {
    "duration": 24,
    "start_time": "2022-05-28T12:31:16.830Z"
   },
   {
    "duration": 482,
    "start_time": "2022-05-28T12:31:16.859Z"
   },
   {
    "duration": 33110,
    "start_time": "2022-05-28T12:31:17.343Z"
   },
   {
    "duration": 393319,
    "start_time": "2022-05-28T12:31:50.511Z"
   },
   {
    "duration": 1368,
    "start_time": "2022-05-28T15:22:05.674Z"
   },
   {
    "duration": 1121,
    "start_time": "2022-05-28T15:22:07.044Z"
   },
   {
    "duration": 122,
    "start_time": "2022-05-28T15:22:08.167Z"
   },
   {
    "duration": 462,
    "start_time": "2022-05-28T15:22:08.295Z"
   },
   {
    "duration": 567,
    "start_time": "2022-05-28T15:22:08.758Z"
   },
   {
    "duration": 120,
    "start_time": "2022-05-28T15:22:09.326Z"
   },
   {
    "duration": 183,
    "start_time": "2022-05-28T15:22:09.448Z"
   },
   {
    "duration": 76,
    "start_time": "2022-05-28T15:22:09.633Z"
   },
   {
    "duration": 30,
    "start_time": "2022-05-28T15:22:09.711Z"
   },
   {
    "duration": 19,
    "start_time": "2022-05-28T15:22:09.743Z"
   },
   {
    "duration": 86,
    "start_time": "2022-05-28T15:22:09.763Z"
   },
   {
    "duration": 133,
    "start_time": "2022-05-28T15:22:09.851Z"
   },
   {
    "duration": 543,
    "start_time": "2022-05-28T15:22:09.986Z"
   },
   {
    "duration": 22,
    "start_time": "2022-05-28T15:22:10.530Z"
   },
   {
    "duration": 574,
    "start_time": "2022-05-28T15:22:10.554Z"
   },
   {
    "duration": 21,
    "start_time": "2022-05-28T15:22:11.130Z"
   },
   {
    "duration": 59,
    "start_time": "2022-05-28T15:22:11.153Z"
   },
   {
    "duration": 58,
    "start_time": "2022-05-28T15:22:11.214Z"
   },
   {
    "duration": 440,
    "start_time": "2022-05-28T15:22:11.274Z"
   },
   {
    "duration": 17,
    "start_time": "2022-05-28T15:22:11.716Z"
   },
   {
    "duration": 363,
    "start_time": "2022-05-28T15:22:11.735Z"
   },
   {
    "duration": 60,
    "start_time": "2022-05-28T15:22:24.111Z"
   },
   {
    "duration": 1115,
    "start_time": "2022-05-28T15:22:27.041Z"
   },
   {
    "duration": 881,
    "start_time": "2022-05-28T15:22:28.593Z"
   },
   {
    "duration": 1117,
    "start_time": "2022-05-28T15:22:40.556Z"
   },
   {
    "duration": 819,
    "start_time": "2022-05-28T15:22:41.675Z"
   },
   {
    "duration": 131,
    "start_time": "2022-05-28T15:22:42.496Z"
   },
   {
    "duration": 449,
    "start_time": "2022-05-28T15:22:42.629Z"
   },
   {
    "duration": 487,
    "start_time": "2022-05-28T15:22:43.080Z"
   },
   {
    "duration": 113,
    "start_time": "2022-05-28T15:22:43.568Z"
   },
   {
    "duration": 22,
    "start_time": "2022-05-28T15:22:53.006Z"
   },
   {
    "duration": 12,
    "start_time": "2022-05-28T15:23:07.562Z"
   },
   {
    "duration": 4,
    "start_time": "2022-05-28T15:24:20.146Z"
   },
   {
    "duration": 20,
    "start_time": "2022-05-28T15:24:23.910Z"
   },
   {
    "duration": 107,
    "start_time": "2022-05-28T15:24:25.787Z"
   },
   {
    "duration": 59,
    "start_time": "2022-05-28T15:24:31.459Z"
   },
   {
    "duration": 0,
    "start_time": "2022-05-28T15:24:31.520Z"
   },
   {
    "duration": 0,
    "start_time": "2022-05-28T15:24:31.521Z"
   },
   {
    "duration": 0,
    "start_time": "2022-05-28T15:24:31.523Z"
   },
   {
    "duration": 0,
    "start_time": "2022-05-28T15:24:31.524Z"
   },
   {
    "duration": 0,
    "start_time": "2022-05-28T15:24:31.526Z"
   },
   {
    "duration": 0,
    "start_time": "2022-05-28T15:24:31.527Z"
   },
   {
    "duration": 0,
    "start_time": "2022-05-28T15:24:31.528Z"
   },
   {
    "duration": 0,
    "start_time": "2022-05-28T15:24:31.530Z"
   },
   {
    "duration": 0,
    "start_time": "2022-05-28T15:24:31.531Z"
   },
   {
    "duration": 0,
    "start_time": "2022-05-28T15:24:31.532Z"
   },
   {
    "duration": 0,
    "start_time": "2022-05-28T15:24:31.533Z"
   },
   {
    "duration": 0,
    "start_time": "2022-05-28T15:24:31.534Z"
   },
   {
    "duration": 0,
    "start_time": "2022-05-28T15:24:31.535Z"
   },
   {
    "duration": 0,
    "start_time": "2022-05-28T15:24:31.536Z"
   },
   {
    "duration": 0,
    "start_time": "2022-05-28T15:24:31.537Z"
   },
   {
    "duration": 0,
    "start_time": "2022-05-28T15:24:31.538Z"
   },
   {
    "duration": 0,
    "start_time": "2022-05-28T15:24:31.539Z"
   },
   {
    "duration": 0,
    "start_time": "2022-05-28T15:24:31.540Z"
   },
   {
    "duration": 6,
    "start_time": "2022-05-28T15:24:31.596Z"
   },
   {
    "duration": 0,
    "start_time": "2022-05-28T15:24:31.604Z"
   },
   {
    "duration": 0,
    "start_time": "2022-05-28T15:24:31.605Z"
   },
   {
    "duration": 6,
    "start_time": "2022-05-28T15:24:31.956Z"
   },
   {
    "duration": 0,
    "start_time": "2022-05-28T15:24:31.964Z"
   },
   {
    "duration": 0,
    "start_time": "2022-05-28T15:24:31.965Z"
   },
   {
    "duration": 1160,
    "start_time": "2022-05-28T15:24:39.580Z"
   },
   {
    "duration": 837,
    "start_time": "2022-05-28T15:24:45.660Z"
   },
   {
    "duration": 131,
    "start_time": "2022-05-28T15:24:46.499Z"
   },
   {
    "duration": 461,
    "start_time": "2022-05-28T15:24:46.632Z"
   },
   {
    "duration": 500,
    "start_time": "2022-05-28T15:24:47.095Z"
   },
   {
    "duration": 115,
    "start_time": "2022-05-28T15:24:47.597Z"
   },
   {
    "duration": 1486,
    "start_time": "2022-05-28T16:01:39.998Z"
   },
   {
    "duration": 31,
    "start_time": "2022-05-28T16:02:25.472Z"
   },
   {
    "duration": 441,
    "start_time": "2022-05-28T16:02:33.524Z"
   },
   {
    "duration": 92,
    "start_time": "2022-05-28T16:02:44.744Z"
   },
   {
    "duration": 41,
    "start_time": "2022-05-28T16:02:52.483Z"
   },
   {
    "duration": 32,
    "start_time": "2022-05-28T16:03:39.382Z"
   },
   {
    "duration": 35,
    "start_time": "2022-05-28T16:03:58.218Z"
   },
   {
    "duration": 29,
    "start_time": "2022-05-28T16:04:20.876Z"
   },
   {
    "duration": 30,
    "start_time": "2022-05-28T16:04:25.301Z"
   },
   {
    "duration": 33,
    "start_time": "2022-05-28T16:05:01.928Z"
   },
   {
    "duration": 38,
    "start_time": "2022-05-28T16:05:06.363Z"
   },
   {
    "duration": 31,
    "start_time": "2022-05-28T16:05:17.171Z"
   },
   {
    "duration": 31,
    "start_time": "2022-05-28T16:06:17.215Z"
   },
   {
    "duration": 41,
    "start_time": "2022-05-28T16:06:31.789Z"
   },
   {
    "duration": 33,
    "start_time": "2022-05-28T16:06:35.823Z"
   },
   {
    "duration": 31,
    "start_time": "2022-05-28T16:07:38.384Z"
   },
   {
    "duration": 32,
    "start_time": "2022-05-28T16:12:12.922Z"
   },
   {
    "duration": 32,
    "start_time": "2022-05-28T16:12:52.613Z"
   },
   {
    "duration": 4,
    "start_time": "2022-05-28T16:13:08.723Z"
   },
   {
    "duration": 33,
    "start_time": "2022-05-28T16:13:11.808Z"
   },
   {
    "duration": 34,
    "start_time": "2022-05-28T16:13:16.062Z"
   },
   {
    "duration": 60,
    "start_time": "2022-05-28T18:15:54.475Z"
   },
   {
    "duration": 1323,
    "start_time": "2022-05-28T18:16:13.620Z"
   },
   {
    "duration": 3069,
    "start_time": "2022-05-28T18:16:14.945Z"
   },
   {
    "duration": 131,
    "start_time": "2022-05-28T18:16:18.015Z"
   },
   {
    "duration": 464,
    "start_time": "2022-05-28T18:16:18.148Z"
   },
   {
    "duration": 465,
    "start_time": "2022-05-28T18:16:18.614Z"
   },
   {
    "duration": 126,
    "start_time": "2022-05-28T18:16:19.080Z"
   },
   {
    "duration": 30,
    "start_time": "2022-05-28T18:16:19.208Z"
   },
   {
    "duration": 47,
    "start_time": "2022-05-28T18:16:19.239Z"
   },
   {
    "duration": 33,
    "start_time": "2022-05-28T18:16:19.287Z"
   },
   {
    "duration": 299,
    "start_time": "2022-05-28T18:16:22.239Z"
   },
   {
    "duration": 201,
    "start_time": "2022-05-28T18:18:18.289Z"
   },
   {
    "duration": 171,
    "start_time": "2022-05-28T18:18:32.034Z"
   },
   {
    "duration": 522,
    "start_time": "2022-05-28T18:18:34.689Z"
   },
   {
    "duration": 542,
    "start_time": "2022-05-28T18:19:07.232Z"
   },
   {
    "duration": 555,
    "start_time": "2022-05-28T18:24:20.849Z"
   },
   {
    "duration": 536,
    "start_time": "2022-05-28T18:24:45.176Z"
   },
   {
    "duration": 268,
    "start_time": "2022-05-28T18:24:55.744Z"
   },
   {
    "duration": 555,
    "start_time": "2022-05-28T18:25:16.399Z"
   },
   {
    "duration": 10,
    "start_time": "2022-05-28T18:26:18.045Z"
   },
   {
    "duration": 11,
    "start_time": "2022-05-28T18:26:39.913Z"
   },
   {
    "duration": 6,
    "start_time": "2022-05-28T18:26:45.275Z"
   },
   {
    "duration": 41,
    "start_time": "2022-05-28T18:26:58.465Z"
   },
   {
    "duration": 10,
    "start_time": "2022-05-28T18:27:03.905Z"
   },
   {
    "duration": 10,
    "start_time": "2022-05-28T18:27:18.525Z"
   },
   {
    "duration": 30,
    "start_time": "2022-05-28T18:27:53.656Z"
   },
   {
    "duration": 244,
    "start_time": "2022-05-28T18:28:36.494Z"
   },
   {
    "duration": 8,
    "start_time": "2022-05-28T18:29:24.997Z"
   },
   {
    "duration": 45,
    "start_time": "2022-05-28T18:29:38.995Z"
   },
   {
    "duration": 180,
    "start_time": "2022-05-28T18:29:48.680Z"
   },
   {
    "duration": 45,
    "start_time": "2022-05-28T18:31:29.469Z"
   },
   {
    "duration": 46,
    "start_time": "2022-05-28T18:31:33.235Z"
   },
   {
    "duration": 46,
    "start_time": "2022-05-28T18:32:38.764Z"
   },
   {
    "duration": 404,
    "start_time": "2022-05-28T18:32:53.341Z"
   },
   {
    "duration": 355,
    "start_time": "2022-05-28T18:32:59.253Z"
   },
   {
    "duration": 1213,
    "start_time": "2022-05-28T18:33:11.746Z"
   },
   {
    "duration": 811,
    "start_time": "2022-05-28T18:33:12.962Z"
   },
   {
    "duration": 144,
    "start_time": "2022-05-28T18:33:13.775Z"
   },
   {
    "duration": 445,
    "start_time": "2022-05-28T18:33:13.921Z"
   },
   {
    "duration": 452,
    "start_time": "2022-05-28T18:33:14.368Z"
   },
   {
    "duration": 138,
    "start_time": "2022-05-28T18:33:14.822Z"
   },
   {
    "duration": 35,
    "start_time": "2022-05-28T18:33:14.961Z"
   },
   {
    "duration": 49,
    "start_time": "2022-05-28T18:33:14.998Z"
   },
   {
    "duration": 42,
    "start_time": "2022-05-28T18:33:15.049Z"
   },
   {
    "duration": 211,
    "start_time": "2022-05-28T18:33:15.092Z"
   },
   {
    "duration": 646,
    "start_time": "2022-05-28T18:33:15.304Z"
   },
   {
    "duration": 58,
    "start_time": "2022-05-28T18:33:46.215Z"
   },
   {
    "duration": 46,
    "start_time": "2022-05-28T18:33:59.426Z"
   },
   {
    "duration": 153,
    "start_time": "2022-05-28T18:34:02.896Z"
   },
   {
    "duration": 1133,
    "start_time": "2022-05-28T18:39:25.685Z"
   },
   {
    "duration": 780,
    "start_time": "2022-05-28T18:39:26.821Z"
   },
   {
    "duration": 117,
    "start_time": "2022-05-28T18:39:27.602Z"
   },
   {
    "duration": 431,
    "start_time": "2022-05-28T18:39:27.721Z"
   },
   {
    "duration": 456,
    "start_time": "2022-05-28T18:39:28.153Z"
   },
   {
    "duration": 110,
    "start_time": "2022-05-28T18:39:28.610Z"
   },
   {
    "duration": 30,
    "start_time": "2022-05-28T18:39:28.721Z"
   },
   {
    "duration": 54,
    "start_time": "2022-05-28T18:39:28.753Z"
   },
   {
    "duration": 45,
    "start_time": "2022-05-28T18:39:28.809Z"
   },
   {
    "duration": 227,
    "start_time": "2022-05-28T18:39:28.857Z"
   },
   {
    "duration": 677,
    "start_time": "2022-05-28T18:39:29.086Z"
   },
   {
    "duration": 84,
    "start_time": "2022-05-28T18:39:47.525Z"
   },
   {
    "duration": 15,
    "start_time": "2022-05-28T18:39:48.132Z"
   },
   {
    "duration": 112,
    "start_time": "2022-05-28T18:42:34.163Z"
   },
   {
    "duration": 125,
    "start_time": "2022-05-28T18:42:58.714Z"
   },
   {
    "duration": 115,
    "start_time": "2022-05-28T18:43:08.749Z"
   },
   {
    "duration": 146,
    "start_time": "2022-05-28T18:43:53.930Z"
   },
   {
    "duration": 142,
    "start_time": "2022-05-28T18:44:20.612Z"
   },
   {
    "duration": 107,
    "start_time": "2022-05-28T18:46:17.089Z"
   },
   {
    "duration": 1170,
    "start_time": "2022-05-28T18:46:34.151Z"
   },
   {
    "duration": 798,
    "start_time": "2022-05-28T18:46:35.323Z"
   },
   {
    "duration": 131,
    "start_time": "2022-05-28T18:46:36.122Z"
   },
   {
    "duration": 433,
    "start_time": "2022-05-28T18:46:36.255Z"
   },
   {
    "duration": 472,
    "start_time": "2022-05-28T18:46:36.691Z"
   },
   {
    "duration": 119,
    "start_time": "2022-05-28T18:46:37.164Z"
   },
   {
    "duration": 33,
    "start_time": "2022-05-28T18:46:37.285Z"
   },
   {
    "duration": 35,
    "start_time": "2022-05-28T18:46:37.320Z"
   },
   {
    "duration": 51,
    "start_time": "2022-05-28T18:46:37.356Z"
   },
   {
    "duration": 213,
    "start_time": "2022-05-28T18:46:37.408Z"
   },
   {
    "duration": 645,
    "start_time": "2022-05-28T18:46:37.622Z"
   },
   {
    "duration": 3,
    "start_time": "2022-05-28T18:46:38.268Z"
   },
   {
    "duration": 16,
    "start_time": "2022-05-28T18:46:38.275Z"
   },
   {
    "duration": 154,
    "start_time": "2022-05-28T18:46:38.294Z"
   },
   {
    "duration": 125,
    "start_time": "2022-05-28T18:46:38.450Z"
   },
   {
    "duration": 30,
    "start_time": "2022-05-28T18:46:38.577Z"
   },
   {
    "duration": 21,
    "start_time": "2022-05-28T18:46:38.609Z"
   },
   {
    "duration": 107,
    "start_time": "2022-05-28T18:46:38.632Z"
   },
   {
    "duration": 95,
    "start_time": "2022-05-28T18:46:38.740Z"
   },
   {
    "duration": 626,
    "start_time": "2022-05-28T18:46:38.837Z"
   },
   {
    "duration": 32,
    "start_time": "2022-05-28T18:46:39.465Z"
   },
   {
    "duration": 806,
    "start_time": "2022-05-28T18:46:39.498Z"
   },
   {
    "duration": 24,
    "start_time": "2022-05-28T18:46:40.306Z"
   },
   {
    "duration": 85,
    "start_time": "2022-05-28T18:46:40.331Z"
   },
   {
    "duration": 75,
    "start_time": "2022-05-28T18:46:40.418Z"
   },
   {
    "duration": 751,
    "start_time": "2022-05-28T18:46:40.496Z"
   },
   {
    "duration": 17,
    "start_time": "2022-05-28T18:46:41.248Z"
   },
   {
    "duration": 516,
    "start_time": "2022-05-28T18:46:41.275Z"
   },
   {
    "duration": 446,
    "start_time": "2022-05-28T18:46:41.792Z"
   },
   {
    "duration": 409,
    "start_time": "2022-05-28T18:48:56.797Z"
   },
   {
    "duration": 49,
    "start_time": "2022-05-28T18:48:57.821Z"
   },
   {
    "duration": 1104,
    "start_time": "2022-05-28T18:49:25.706Z"
   },
   {
    "duration": 758,
    "start_time": "2022-05-28T18:49:26.812Z"
   },
   {
    "duration": 119,
    "start_time": "2022-05-28T18:49:27.571Z"
   },
   {
    "duration": 420,
    "start_time": "2022-05-28T18:49:27.692Z"
   },
   {
    "duration": 470,
    "start_time": "2022-05-28T18:49:28.114Z"
   },
   {
    "duration": 115,
    "start_time": "2022-05-28T18:49:28.586Z"
   },
   {
    "duration": 31,
    "start_time": "2022-05-28T18:49:28.702Z"
   },
   {
    "duration": 48,
    "start_time": "2022-05-28T18:49:28.735Z"
   },
   {
    "duration": 37,
    "start_time": "2022-05-28T18:49:28.785Z"
   },
   {
    "duration": 200,
    "start_time": "2022-05-28T18:49:28.824Z"
   },
   {
    "duration": 625,
    "start_time": "2022-05-28T18:49:29.026Z"
   },
   {
    "duration": 2,
    "start_time": "2022-05-28T18:49:29.653Z"
   },
   {
    "duration": 23,
    "start_time": "2022-05-28T18:49:29.656Z"
   },
   {
    "duration": 148,
    "start_time": "2022-05-28T18:49:29.681Z"
   },
   {
    "duration": 137,
    "start_time": "2022-05-28T18:49:29.831Z"
   },
   {
    "duration": 29,
    "start_time": "2022-05-28T18:49:29.980Z"
   },
   {
    "duration": 21,
    "start_time": "2022-05-28T18:49:30.011Z"
   },
   {
    "duration": 99,
    "start_time": "2022-05-28T18:49:30.033Z"
   },
   {
    "duration": 81,
    "start_time": "2022-05-28T18:49:30.134Z"
   },
   {
    "duration": 65,
    "start_time": "2022-05-28T18:49:30.217Z"
   },
   {
    "duration": 538,
    "start_time": "2022-05-28T18:49:30.284Z"
   },
   {
    "duration": 17,
    "start_time": "2022-05-28T18:49:30.824Z"
   },
   {
    "duration": 642,
    "start_time": "2022-05-28T18:49:30.844Z"
   },
   {
    "duration": 114,
    "start_time": "2022-05-28T18:50:23.476Z"
   },
   {
    "duration": 7,
    "start_time": "2022-05-28T18:50:35.243Z"
   },
   {
    "duration": 14,
    "start_time": "2022-05-28T18:50:40.786Z"
   },
   {
    "duration": 8,
    "start_time": "2022-05-28T18:50:44.831Z"
   },
   {
    "duration": 7,
    "start_time": "2022-05-28T18:50:57.949Z"
   },
   {
    "duration": 8,
    "start_time": "2022-05-28T18:51:46.590Z"
   },
   {
    "duration": 15,
    "start_time": "2022-05-28T18:52:19.905Z"
   },
   {
    "duration": 52,
    "start_time": "2022-05-29T09:49:34.308Z"
   },
   {
    "duration": 1492,
    "start_time": "2022-05-29T09:49:41.660Z"
   },
   {
    "duration": 3715,
    "start_time": "2022-05-29T09:49:43.155Z"
   },
   {
    "duration": 144,
    "start_time": "2022-05-29T09:49:46.871Z"
   },
   {
    "duration": 437,
    "start_time": "2022-05-29T09:49:47.016Z"
   },
   {
    "duration": 465,
    "start_time": "2022-05-29T09:49:47.456Z"
   },
   {
    "duration": 130,
    "start_time": "2022-05-29T09:49:47.922Z"
   },
   {
    "duration": 55,
    "start_time": "2022-05-29T09:49:48.053Z"
   },
   {
    "duration": 30,
    "start_time": "2022-05-29T09:49:48.110Z"
   },
   {
    "duration": 50,
    "start_time": "2022-05-29T09:49:48.142Z"
   },
   {
    "duration": 198,
    "start_time": "2022-05-29T09:49:48.203Z"
   },
   {
    "duration": 616,
    "start_time": "2022-05-29T09:49:48.403Z"
   },
   {
    "duration": 2,
    "start_time": "2022-05-29T09:49:49.021Z"
   },
   {
    "duration": 12,
    "start_time": "2022-05-29T09:49:49.025Z"
   },
   {
    "duration": 433,
    "start_time": "2022-05-29T09:50:56.308Z"
   },
   {
    "duration": 94,
    "start_time": "2022-05-29T09:51:01.649Z"
   },
   {
    "duration": 1160,
    "start_time": "2022-05-29T09:51:39.966Z"
   },
   {
    "duration": 824,
    "start_time": "2022-05-29T09:51:41.127Z"
   },
   {
    "duration": 149,
    "start_time": "2022-05-29T09:51:41.952Z"
   },
   {
    "duration": 449,
    "start_time": "2022-05-29T09:51:42.103Z"
   },
   {
    "duration": 560,
    "start_time": "2022-05-29T09:51:42.554Z"
   },
   {
    "duration": 142,
    "start_time": "2022-05-29T09:51:43.119Z"
   },
   {
    "duration": 59,
    "start_time": "2022-05-29T09:51:43.262Z"
   },
   {
    "duration": 38,
    "start_time": "2022-05-29T09:51:43.322Z"
   },
   {
    "duration": 72,
    "start_time": "2022-05-29T09:51:43.362Z"
   },
   {
    "duration": 237,
    "start_time": "2022-05-29T09:51:43.436Z"
   },
   {
    "duration": 738,
    "start_time": "2022-05-29T09:51:43.678Z"
   },
   {
    "duration": 2,
    "start_time": "2022-05-29T09:51:44.418Z"
   },
   {
    "duration": 15,
    "start_time": "2022-05-29T09:51:44.422Z"
   },
   {
    "duration": 201,
    "start_time": "2022-05-29T09:51:44.439Z"
   },
   {
    "duration": 132,
    "start_time": "2022-05-29T09:51:44.641Z"
   },
   {
    "duration": 40,
    "start_time": "2022-05-29T09:51:44.782Z"
   },
   {
    "duration": 19,
    "start_time": "2022-05-29T09:51:44.824Z"
   },
   {
    "duration": 105,
    "start_time": "2022-05-29T09:51:48.453Z"
   },
   {
    "duration": 81,
    "start_time": "2022-05-29T09:51:49.142Z"
   },
   {
    "duration": 611,
    "start_time": "2022-05-29T09:53:39.494Z"
   },
   {
    "duration": 75,
    "start_time": "2022-05-29T09:53:46.746Z"
   },
   {
    "duration": 57,
    "start_time": "2022-05-29T10:20:21.659Z"
   },
   {
    "duration": 0,
    "start_time": "2022-05-29T10:20:21.718Z"
   },
   {
    "duration": 0,
    "start_time": "2022-05-29T10:20:21.719Z"
   },
   {
    "duration": 0,
    "start_time": "2022-05-29T10:20:21.720Z"
   },
   {
    "duration": 0,
    "start_time": "2022-05-29T10:20:21.721Z"
   },
   {
    "duration": 0,
    "start_time": "2022-05-29T10:20:21.722Z"
   },
   {
    "duration": 0,
    "start_time": "2022-05-29T10:20:21.724Z"
   },
   {
    "duration": 0,
    "start_time": "2022-05-29T10:20:21.725Z"
   },
   {
    "duration": 0,
    "start_time": "2022-05-29T10:20:21.726Z"
   },
   {
    "duration": 0,
    "start_time": "2022-05-29T10:20:21.727Z"
   },
   {
    "duration": 0,
    "start_time": "2022-05-29T10:20:21.728Z"
   },
   {
    "duration": 0,
    "start_time": "2022-05-29T10:20:21.729Z"
   },
   {
    "duration": 0,
    "start_time": "2022-05-29T10:20:21.730Z"
   },
   {
    "duration": 0,
    "start_time": "2022-05-29T10:20:21.731Z"
   },
   {
    "duration": 0,
    "start_time": "2022-05-29T10:20:21.732Z"
   },
   {
    "duration": 0,
    "start_time": "2022-05-29T10:20:21.733Z"
   },
   {
    "duration": 0,
    "start_time": "2022-05-29T10:20:21.734Z"
   },
   {
    "duration": 0,
    "start_time": "2022-05-29T10:20:21.735Z"
   },
   {
    "duration": 0,
    "start_time": "2022-05-29T10:20:21.735Z"
   },
   {
    "duration": 0,
    "start_time": "2022-05-29T10:20:21.736Z"
   },
   {
    "duration": 0,
    "start_time": "2022-05-29T10:20:21.737Z"
   },
   {
    "duration": 12,
    "start_time": "2022-05-29T10:20:21.776Z"
   },
   {
    "duration": 0,
    "start_time": "2022-05-29T10:20:21.792Z"
   },
   {
    "duration": 0,
    "start_time": "2022-05-29T10:20:21.794Z"
   },
   {
    "duration": 0,
    "start_time": "2022-05-29T10:20:21.795Z"
   },
   {
    "duration": 0,
    "start_time": "2022-05-29T10:20:21.796Z"
   },
   {
    "duration": 0,
    "start_time": "2022-05-29T10:20:21.798Z"
   },
   {
    "duration": 0,
    "start_time": "2022-05-29T10:20:21.799Z"
   },
   {
    "duration": 0,
    "start_time": "2022-05-29T10:20:21.801Z"
   },
   {
    "duration": 0,
    "start_time": "2022-05-29T10:20:21.802Z"
   },
   {
    "duration": 0,
    "start_time": "2022-05-29T10:20:21.803Z"
   },
   {
    "duration": 0,
    "start_time": "2022-05-29T10:20:21.804Z"
   },
   {
    "duration": 1112,
    "start_time": "2022-05-29T10:20:54.485Z"
   },
   {
    "duration": 790,
    "start_time": "2022-05-29T10:20:55.598Z"
   },
   {
    "duration": 139,
    "start_time": "2022-05-29T10:20:56.390Z"
   },
   {
    "duration": 457,
    "start_time": "2022-05-29T10:20:56.531Z"
   },
   {
    "duration": 464,
    "start_time": "2022-05-29T10:20:56.989Z"
   },
   {
    "duration": 134,
    "start_time": "2022-05-29T10:20:57.455Z"
   },
   {
    "duration": 32,
    "start_time": "2022-05-29T10:21:04.118Z"
   },
   {
    "duration": 41,
    "start_time": "2022-05-29T10:21:26.067Z"
   },
   {
    "duration": 38,
    "start_time": "2022-05-29T10:21:28.148Z"
   },
   {
    "duration": 200,
    "start_time": "2022-05-29T10:21:46.886Z"
   },
   {
    "duration": 741,
    "start_time": "2022-05-29T10:21:47.549Z"
   },
   {
    "duration": 3,
    "start_time": "2022-05-29T10:21:53.056Z"
   },
   {
    "duration": 11,
    "start_time": "2022-05-29T10:21:53.297Z"
   },
   {
    "duration": 168,
    "start_time": "2022-05-29T10:21:56.721Z"
   },
   {
    "duration": 142,
    "start_time": "2022-05-29T10:22:12.898Z"
   },
   {
    "duration": 31,
    "start_time": "2022-05-29T10:22:21.927Z"
   },
   {
    "duration": 23,
    "start_time": "2022-05-29T10:22:30.213Z"
   },
   {
    "duration": 83,
    "start_time": "2022-05-29T10:22:47.951Z"
   },
   {
    "duration": 83,
    "start_time": "2022-05-29T10:23:00.052Z"
   },
   {
    "duration": 647,
    "start_time": "2022-05-29T10:23:00.590Z"
   },
   {
    "duration": 7,
    "start_time": "2022-05-29T10:23:15.141Z"
   },
   {
    "duration": 8,
    "start_time": "2022-05-29T10:24:25.860Z"
   },
   {
    "duration": 8,
    "start_time": "2022-05-29T10:24:29.155Z"
   },
   {
    "duration": 9,
    "start_time": "2022-05-29T10:24:36.051Z"
   },
   {
    "duration": 70,
    "start_time": "2022-05-29T10:25:45.193Z"
   },
   {
    "duration": 14,
    "start_time": "2022-05-29T10:25:50.986Z"
   },
   {
    "duration": 9,
    "start_time": "2022-05-29T10:26:16.769Z"
   },
   {
    "duration": 13,
    "start_time": "2022-05-29T10:26:27.253Z"
   },
   {
    "duration": 17,
    "start_time": "2022-05-29T10:26:58.373Z"
   },
   {
    "duration": 11,
    "start_time": "2022-05-29T10:27:01.104Z"
   },
   {
    "duration": 18,
    "start_time": "2022-05-29T10:27:08.493Z"
   },
   {
    "duration": 18,
    "start_time": "2022-05-29T10:27:18.874Z"
   },
   {
    "duration": 24,
    "start_time": "2022-05-29T10:28:51.966Z"
   },
   {
    "duration": 14,
    "start_time": "2022-05-29T11:06:38.414Z"
   },
   {
    "duration": 39,
    "start_time": "2022-05-29T11:06:58.021Z"
   },
   {
    "duration": 16,
    "start_time": "2022-05-29T11:07:04.378Z"
   },
   {
    "duration": 816,
    "start_time": "2022-05-29T11:08:03.973Z"
   },
   {
    "duration": 560,
    "start_time": "2022-05-29T11:08:49.594Z"
   },
   {
    "duration": 207,
    "start_time": "2022-05-29T11:10:27.042Z"
   },
   {
    "duration": 337,
    "start_time": "2022-05-29T11:11:25.644Z"
   },
   {
    "duration": 442,
    "start_time": "2022-05-29T11:11:39.285Z"
   },
   {
    "duration": 51,
    "start_time": "2022-05-29T11:12:09.856Z"
   },
   {
    "duration": 32,
    "start_time": "2022-05-29T11:12:12.402Z"
   },
   {
    "duration": 433,
    "start_time": "2022-05-29T11:12:26.462Z"
   },
   {
    "duration": 344,
    "start_time": "2022-05-29T11:12:49.345Z"
   },
   {
    "duration": 347,
    "start_time": "2022-05-29T11:12:57.946Z"
   },
   {
    "duration": 685,
    "start_time": "2022-05-29T11:13:45.104Z"
   },
   {
    "duration": 48,
    "start_time": "2022-05-29T11:13:59.857Z"
   },
   {
    "duration": 774,
    "start_time": "2022-05-29T11:14:04.962Z"
   },
   {
    "duration": 629,
    "start_time": "2022-05-29T11:14:17.092Z"
   },
   {
    "duration": 620,
    "start_time": "2022-05-29T11:14:28.290Z"
   },
   {
    "duration": 689,
    "start_time": "2022-05-29T11:14:33.185Z"
   },
   {
    "duration": 579,
    "start_time": "2022-05-29T11:14:43.311Z"
   },
   {
    "duration": 549,
    "start_time": "2022-05-29T11:14:53.204Z"
   },
   {
    "duration": 438,
    "start_time": "2022-05-29T11:22:23.952Z"
   },
   {
    "duration": 470,
    "start_time": "2022-05-29T11:22:29.889Z"
   },
   {
    "duration": 487,
    "start_time": "2022-05-29T11:22:36.168Z"
   },
   {
    "duration": 633,
    "start_time": "2022-05-29T11:22:43.120Z"
   },
   {
    "duration": 982,
    "start_time": "2022-05-29T11:28:59.872Z"
   },
   {
    "duration": 897,
    "start_time": "2022-05-29T11:29:08.560Z"
   },
   {
    "duration": 873,
    "start_time": "2022-05-29T11:29:18.247Z"
   },
   {
    "duration": 867,
    "start_time": "2022-05-29T11:29:26.176Z"
   },
   {
    "duration": 59,
    "start_time": "2022-05-29T11:30:09.810Z"
   },
   {
    "duration": 0,
    "start_time": "2022-05-29T11:30:09.871Z"
   },
   {
    "duration": 0,
    "start_time": "2022-05-29T11:30:09.872Z"
   },
   {
    "duration": 0,
    "start_time": "2022-05-29T11:30:09.873Z"
   },
   {
    "duration": 0,
    "start_time": "2022-05-29T11:30:09.875Z"
   },
   {
    "duration": 0,
    "start_time": "2022-05-29T11:30:09.876Z"
   },
   {
    "duration": 0,
    "start_time": "2022-05-29T11:30:09.877Z"
   },
   {
    "duration": 0,
    "start_time": "2022-05-29T11:30:09.878Z"
   },
   {
    "duration": 0,
    "start_time": "2022-05-29T11:30:09.879Z"
   },
   {
    "duration": 0,
    "start_time": "2022-05-29T11:30:09.880Z"
   },
   {
    "duration": 0,
    "start_time": "2022-05-29T11:30:09.881Z"
   },
   {
    "duration": 0,
    "start_time": "2022-05-29T11:30:09.882Z"
   },
   {
    "duration": 0,
    "start_time": "2022-05-29T11:30:09.883Z"
   },
   {
    "duration": 0,
    "start_time": "2022-05-29T11:30:09.884Z"
   },
   {
    "duration": 0,
    "start_time": "2022-05-29T11:30:09.885Z"
   },
   {
    "duration": 0,
    "start_time": "2022-05-29T11:30:09.886Z"
   },
   {
    "duration": 0,
    "start_time": "2022-05-29T11:30:09.886Z"
   },
   {
    "duration": 0,
    "start_time": "2022-05-29T11:30:09.887Z"
   },
   {
    "duration": 0,
    "start_time": "2022-05-29T11:30:09.888Z"
   },
   {
    "duration": 0,
    "start_time": "2022-05-29T11:30:09.892Z"
   },
   {
    "duration": 0,
    "start_time": "2022-05-29T11:30:09.893Z"
   },
   {
    "duration": 0,
    "start_time": "2022-05-29T11:30:09.894Z"
   },
   {
    "duration": 0,
    "start_time": "2022-05-29T11:30:09.895Z"
   },
   {
    "duration": 0,
    "start_time": "2022-05-29T11:30:09.896Z"
   },
   {
    "duration": 0,
    "start_time": "2022-05-29T11:30:09.897Z"
   },
   {
    "duration": 0,
    "start_time": "2022-05-29T11:30:09.898Z"
   },
   {
    "duration": 8,
    "start_time": "2022-05-29T11:30:09.900Z"
   },
   {
    "duration": 0,
    "start_time": "2022-05-29T11:30:09.910Z"
   },
   {
    "duration": 0,
    "start_time": "2022-05-29T11:30:09.911Z"
   },
   {
    "duration": 0,
    "start_time": "2022-05-29T11:30:09.913Z"
   },
   {
    "duration": 0,
    "start_time": "2022-05-29T11:30:09.914Z"
   },
   {
    "duration": 0,
    "start_time": "2022-05-29T11:30:09.916Z"
   },
   {
    "duration": 0,
    "start_time": "2022-05-29T11:30:09.917Z"
   },
   {
    "duration": 1165,
    "start_time": "2022-05-29T11:30:35.567Z"
   },
   {
    "duration": 908,
    "start_time": "2022-05-29T11:30:46.694Z"
   },
   {
    "duration": 99,
    "start_time": "2022-05-29T11:30:56.564Z"
   },
   {
    "duration": 118,
    "start_time": "2022-05-29T11:31:29.956Z"
   },
   {
    "duration": 431,
    "start_time": "2022-05-29T11:32:29.086Z"
   },
   {
    "duration": 489,
    "start_time": "2022-05-29T11:32:30.213Z"
   },
   {
    "duration": 101,
    "start_time": "2022-05-29T11:33:02.743Z"
   },
   {
    "duration": 32,
    "start_time": "2022-05-29T11:44:18.487Z"
   },
   {
    "duration": 70,
    "start_time": "2022-05-29T12:04:52.074Z"
   },
   {
    "duration": 1099,
    "start_time": "2022-05-29T12:04:59.413Z"
   },
   {
    "duration": 928,
    "start_time": "2022-05-29T12:05:00.514Z"
   },
   {
    "duration": 98,
    "start_time": "2022-05-29T12:05:01.444Z"
   },
   {
    "duration": 49,
    "start_time": "2022-05-29T12:05:01.545Z"
   },
   {
    "duration": 127,
    "start_time": "2022-05-29T12:05:01.596Z"
   },
   {
    "duration": 85,
    "start_time": "2022-05-29T12:05:01.725Z"
   },
   {
    "duration": 25,
    "start_time": "2022-05-29T12:05:01.811Z"
   },
   {
    "duration": 202,
    "start_time": "2022-05-29T12:05:01.838Z"
   },
   {
    "duration": 213,
    "start_time": "2022-05-29T12:05:02.041Z"
   },
   {
    "duration": 69,
    "start_time": "2022-05-29T12:05:02.256Z"
   },
   {
    "duration": 146,
    "start_time": "2022-05-29T12:06:17.267Z"
   },
   {
    "duration": 374,
    "start_time": "2022-05-29T12:06:28.652Z"
   },
   {
    "duration": 125,
    "start_time": "2022-05-29T12:06:33.064Z"
   },
   {
    "duration": 3,
    "start_time": "2022-05-29T12:06:41.927Z"
   },
   {
    "duration": 829,
    "start_time": "2022-05-29T12:06:41.932Z"
   },
   {
    "duration": 107,
    "start_time": "2022-05-29T12:06:42.763Z"
   },
   {
    "duration": 40,
    "start_time": "2022-05-29T12:06:42.875Z"
   },
   {
    "duration": 140,
    "start_time": "2022-05-29T12:06:42.917Z"
   },
   {
    "duration": 81,
    "start_time": "2022-05-29T12:06:43.058Z"
   },
   {
    "duration": 17,
    "start_time": "2022-05-29T12:06:43.140Z"
   },
   {
    "duration": 181,
    "start_time": "2022-05-29T12:06:43.158Z"
   },
   {
    "duration": 143,
    "start_time": "2022-05-29T12:06:52.231Z"
   },
   {
    "duration": 141,
    "start_time": "2022-05-29T12:06:57.513Z"
   },
   {
    "duration": 75,
    "start_time": "2022-05-29T12:07:47.251Z"
   },
   {
    "duration": 3,
    "start_time": "2022-05-29T12:08:55.952Z"
   },
   {
    "duration": 821,
    "start_time": "2022-05-29T12:08:55.957Z"
   },
   {
    "duration": 81,
    "start_time": "2022-05-29T12:08:56.779Z"
   },
   {
    "duration": 40,
    "start_time": "2022-05-29T12:08:56.861Z"
   },
   {
    "duration": 115,
    "start_time": "2022-05-29T12:08:56.903Z"
   },
   {
    "duration": 78,
    "start_time": "2022-05-29T12:08:57.020Z"
   },
   {
    "duration": 344,
    "start_time": "2022-05-29T12:08:57.100Z"
   },
   {
    "duration": 387,
    "start_time": "2022-05-29T12:09:06.551Z"
   },
   {
    "duration": 17,
    "start_time": "2022-05-29T12:09:14.352Z"
   },
   {
    "duration": 77,
    "start_time": "2022-05-29T12:09:16.452Z"
   },
   {
    "duration": 144,
    "start_time": "2022-05-29T12:09:19.551Z"
   },
   {
    "duration": 148,
    "start_time": "2022-05-29T12:09:32.112Z"
   },
   {
    "duration": 173,
    "start_time": "2022-05-29T12:09:32.884Z"
   },
   {
    "duration": 75,
    "start_time": "2022-05-29T12:09:36.233Z"
   },
   {
    "duration": 75,
    "start_time": "2022-05-29T12:09:43.159Z"
   },
   {
    "duration": 3,
    "start_time": "2022-05-29T12:09:50.220Z"
   },
   {
    "duration": 833,
    "start_time": "2022-05-29T12:09:50.226Z"
   },
   {
    "duration": 160,
    "start_time": "2022-05-29T12:09:51.061Z"
   },
   {
    "duration": 31,
    "start_time": "2022-05-29T12:09:51.222Z"
   },
   {
    "duration": 114,
    "start_time": "2022-05-29T12:09:51.255Z"
   },
   {
    "duration": 65,
    "start_time": "2022-05-29T12:09:51.371Z"
   },
   {
    "duration": 361,
    "start_time": "2022-05-29T12:09:51.438Z"
   },
   {
    "duration": 389,
    "start_time": "2022-05-29T12:09:51.800Z"
   },
   {
    "duration": 20,
    "start_time": "2022-05-29T12:09:52.190Z"
   },
   {
    "duration": 99,
    "start_time": "2022-05-29T12:09:52.212Z"
   },
   {
    "duration": 163,
    "start_time": "2022-05-29T12:09:52.312Z"
   },
   {
    "duration": 70,
    "start_time": "2022-05-29T12:09:58.006Z"
   },
   {
    "duration": 163,
    "start_time": "2022-05-29T12:10:10.914Z"
   },
   {
    "duration": 63,
    "start_time": "2022-05-29T12:10:15.365Z"
   },
   {
    "duration": 111,
    "start_time": "2022-05-29T12:10:47.112Z"
   },
   {
    "duration": 4,
    "start_time": "2022-05-29T12:10:49.005Z"
   },
   {
    "duration": 18,
    "start_time": "2022-05-29T12:12:07.590Z"
   },
   {
    "duration": 55,
    "start_time": "2022-05-29T12:53:08.238Z"
   },
   {
    "duration": 0,
    "start_time": "2022-05-29T12:53:08.295Z"
   },
   {
    "duration": 0,
    "start_time": "2022-05-29T12:53:08.296Z"
   },
   {
    "duration": 0,
    "start_time": "2022-05-29T12:53:08.297Z"
   },
   {
    "duration": 0,
    "start_time": "2022-05-29T12:53:08.299Z"
   },
   {
    "duration": 0,
    "start_time": "2022-05-29T12:53:08.300Z"
   },
   {
    "duration": 0,
    "start_time": "2022-05-29T12:53:08.301Z"
   },
   {
    "duration": 0,
    "start_time": "2022-05-29T12:53:08.302Z"
   },
   {
    "duration": 0,
    "start_time": "2022-05-29T12:53:08.303Z"
   },
   {
    "duration": 1,
    "start_time": "2022-05-29T12:53:08.304Z"
   },
   {
    "duration": 0,
    "start_time": "2022-05-29T12:53:08.306Z"
   },
   {
    "duration": 0,
    "start_time": "2022-05-29T12:53:08.307Z"
   },
   {
    "duration": 0,
    "start_time": "2022-05-29T12:53:08.307Z"
   },
   {
    "duration": 0,
    "start_time": "2022-05-29T12:53:08.308Z"
   },
   {
    "duration": 0,
    "start_time": "2022-05-29T12:53:08.309Z"
   },
   {
    "duration": 0,
    "start_time": "2022-05-29T12:53:08.311Z"
   },
   {
    "duration": 0,
    "start_time": "2022-05-29T12:53:08.312Z"
   },
   {
    "duration": 9,
    "start_time": "2022-05-29T12:53:08.426Z"
   },
   {
    "duration": 0,
    "start_time": "2022-05-29T12:53:08.436Z"
   },
   {
    "duration": 0,
    "start_time": "2022-05-29T12:53:08.437Z"
   },
   {
    "duration": 0,
    "start_time": "2022-05-29T12:53:08.438Z"
   },
   {
    "duration": 0,
    "start_time": "2022-05-29T12:53:08.439Z"
   },
   {
    "duration": 0,
    "start_time": "2022-05-29T12:53:08.441Z"
   },
   {
    "duration": 0,
    "start_time": "2022-05-29T12:53:08.442Z"
   },
   {
    "duration": 0,
    "start_time": "2022-05-29T12:53:08.443Z"
   },
   {
    "duration": 0,
    "start_time": "2022-05-29T12:53:08.444Z"
   },
   {
    "duration": 0,
    "start_time": "2022-05-29T12:53:08.445Z"
   },
   {
    "duration": 0,
    "start_time": "2022-05-29T12:53:08.446Z"
   },
   {
    "duration": 0,
    "start_time": "2022-05-29T12:53:08.447Z"
   },
   {
    "duration": 0,
    "start_time": "2022-05-29T12:53:08.448Z"
   },
   {
    "duration": 0,
    "start_time": "2022-05-29T12:53:08.449Z"
   },
   {
    "duration": 0,
    "start_time": "2022-05-29T12:53:08.450Z"
   },
   {
    "duration": 0,
    "start_time": "2022-05-29T12:53:08.451Z"
   },
   {
    "duration": 1116,
    "start_time": "2022-05-29T12:53:16.983Z"
   },
   {
    "duration": 958,
    "start_time": "2022-05-29T12:53:26.149Z"
   },
   {
    "duration": 166,
    "start_time": "2022-05-29T12:53:27.110Z"
   },
   {
    "duration": 43,
    "start_time": "2022-05-29T12:53:27.277Z"
   },
   {
    "duration": 138,
    "start_time": "2022-05-29T12:53:27.323Z"
   },
   {
    "duration": 79,
    "start_time": "2022-05-29T12:53:31.772Z"
   },
   {
    "duration": 1767,
    "start_time": "2022-05-29T15:32:28.483Z"
   },
   {
    "duration": 135,
    "start_time": "2022-05-29T15:32:34.516Z"
   },
   {
    "duration": 1565,
    "start_time": "2022-05-29T15:32:36.189Z"
   },
   {
    "duration": 114,
    "start_time": "2022-05-29T15:32:40.485Z"
   },
   {
    "duration": 55,
    "start_time": "2022-05-29T15:32:44.571Z"
   },
   {
    "duration": 140,
    "start_time": "2022-05-29T15:32:44.681Z"
   },
   {
    "duration": 96,
    "start_time": "2022-05-29T15:32:44.829Z"
   },
   {
    "duration": 29,
    "start_time": "2022-05-29T15:32:59.416Z"
   },
   {
    "duration": 259,
    "start_time": "2022-05-29T15:33:02.160Z"
   },
   {
    "duration": 247,
    "start_time": "2022-05-29T15:33:02.488Z"
   },
   {
    "duration": 89,
    "start_time": "2022-05-29T15:33:02.908Z"
   },
   {
    "duration": 46,
    "start_time": "2022-05-29T15:34:26.655Z"
   },
   {
    "duration": 45,
    "start_time": "2022-05-29T15:34:28.240Z"
   },
   {
    "duration": 45,
    "start_time": "2022-05-29T15:34:31.285Z"
   },
   {
    "duration": 207,
    "start_time": "2022-05-29T15:49:15.775Z"
   },
   {
    "duration": 977,
    "start_time": "2022-05-29T15:49:15.985Z"
   },
   {
    "duration": 16,
    "start_time": "2022-05-29T15:49:27.422Z"
   },
   {
    "duration": 55,
    "start_time": "2022-05-29T15:49:45.012Z"
   },
   {
    "duration": 170,
    "start_time": "2022-05-29T15:50:14.355Z"
   },
   {
    "duration": 121,
    "start_time": "2022-05-29T15:50:21.415Z"
   },
   {
    "duration": 192,
    "start_time": "2022-05-29T15:50:55.241Z"
   },
   {
    "duration": 1272,
    "start_time": "2022-05-29T15:51:23.852Z"
   },
   {
    "duration": 1145,
    "start_time": "2022-05-29T15:51:25.126Z"
   },
   {
    "duration": 108,
    "start_time": "2022-05-29T15:51:26.273Z"
   },
   {
    "duration": 47,
    "start_time": "2022-05-29T15:51:26.383Z"
   },
   {
    "duration": 139,
    "start_time": "2022-05-29T15:51:26.432Z"
   },
   {
    "duration": 92,
    "start_time": "2022-05-29T15:51:26.573Z"
   },
   {
    "duration": 21,
    "start_time": "2022-05-29T15:51:26.667Z"
   },
   {
    "duration": 215,
    "start_time": "2022-05-29T15:51:26.690Z"
   },
   {
    "duration": 248,
    "start_time": "2022-05-29T15:51:26.908Z"
   },
   {
    "duration": 77,
    "start_time": "2022-05-29T15:51:27.157Z"
   },
   {
    "duration": 60,
    "start_time": "2022-05-29T15:51:27.236Z"
   },
   {
    "duration": 38,
    "start_time": "2022-05-29T15:51:27.299Z"
   },
   {
    "duration": 80,
    "start_time": "2022-05-29T15:51:27.339Z"
   },
   {
    "duration": 229,
    "start_time": "2022-05-29T15:51:27.422Z"
   },
   {
    "duration": 722,
    "start_time": "2022-05-29T15:51:27.653Z"
   },
   {
    "duration": 3,
    "start_time": "2022-05-29T15:51:28.377Z"
   },
   {
    "duration": 45,
    "start_time": "2022-05-29T15:51:28.382Z"
   },
   {
    "duration": 1244,
    "start_time": "2022-05-29T15:53:05.998Z"
   },
   {
    "duration": 1091,
    "start_time": "2022-05-29T15:53:07.244Z"
   },
   {
    "duration": 129,
    "start_time": "2022-05-29T15:53:08.337Z"
   },
   {
    "duration": 52,
    "start_time": "2022-05-29T15:53:08.468Z"
   },
   {
    "duration": 155,
    "start_time": "2022-05-29T15:53:08.523Z"
   },
   {
    "duration": 94,
    "start_time": "2022-05-29T15:53:08.680Z"
   },
   {
    "duration": 29,
    "start_time": "2022-05-29T15:53:08.776Z"
   },
   {
    "duration": 261,
    "start_time": "2022-05-29T15:53:08.807Z"
   },
   {
    "duration": 313,
    "start_time": "2022-05-29T15:53:09.070Z"
   },
   {
    "duration": 92,
    "start_time": "2022-05-29T15:53:09.386Z"
   },
   {
    "duration": 34,
    "start_time": "2022-05-29T15:53:09.481Z"
   },
   {
    "duration": 56,
    "start_time": "2022-05-29T15:53:09.516Z"
   },
   {
    "duration": 36,
    "start_time": "2022-05-29T15:53:09.574Z"
   },
   {
    "duration": 133,
    "start_time": "2022-05-29T15:53:09.613Z"
   },
   {
    "duration": 687,
    "start_time": "2022-05-29T15:53:09.748Z"
   },
   {
    "duration": 3,
    "start_time": "2022-05-29T15:53:10.437Z"
   },
   {
    "duration": 24,
    "start_time": "2022-05-29T15:53:10.441Z"
   },
   {
    "duration": 135,
    "start_time": "2022-05-29T15:53:10.467Z"
   },
   {
    "duration": 97,
    "start_time": "2022-05-29T15:53:51.105Z"
   },
   {
    "duration": 95,
    "start_time": "2022-05-29T15:53:57.984Z"
   },
   {
    "duration": 80,
    "start_time": "2022-05-29T15:54:13.855Z"
   },
   {
    "duration": 409,
    "start_time": "2022-05-29T15:55:21.555Z"
   },
   {
    "duration": 412,
    "start_time": "2022-05-29T15:55:52.505Z"
   },
   {
    "duration": 686,
    "start_time": "2022-05-29T15:58:52.949Z"
   },
   {
    "duration": 837,
    "start_time": "2022-05-29T15:59:34.787Z"
   },
   {
    "duration": 842,
    "start_time": "2022-05-29T15:59:42.045Z"
   },
   {
    "duration": 792,
    "start_time": "2022-05-29T15:59:55.087Z"
   },
   {
    "duration": 961,
    "start_time": "2022-05-29T16:00:27.001Z"
   },
   {
    "duration": 165,
    "start_time": "2022-05-29T16:01:15.695Z"
   },
   {
    "duration": 136,
    "start_time": "2022-05-29T16:01:37.287Z"
   },
   {
    "duration": 127,
    "start_time": "2022-05-29T18:46:59.928Z"
   },
   {
    "duration": 0,
    "start_time": "2022-05-29T18:47:00.059Z"
   },
   {
    "duration": 0,
    "start_time": "2022-05-29T18:47:00.061Z"
   },
   {
    "duration": 0,
    "start_time": "2022-05-29T18:47:00.062Z"
   },
   {
    "duration": 0,
    "start_time": "2022-05-29T18:47:00.064Z"
   },
   {
    "duration": 0,
    "start_time": "2022-05-29T18:47:00.066Z"
   },
   {
    "duration": 0,
    "start_time": "2022-05-29T18:47:00.067Z"
   },
   {
    "duration": 0,
    "start_time": "2022-05-29T18:47:00.068Z"
   },
   {
    "duration": 0,
    "start_time": "2022-05-29T18:47:00.069Z"
   },
   {
    "duration": 0,
    "start_time": "2022-05-29T18:47:00.070Z"
   },
   {
    "duration": 0,
    "start_time": "2022-05-29T18:47:00.071Z"
   },
   {
    "duration": 0,
    "start_time": "2022-05-29T18:47:00.072Z"
   },
   {
    "duration": 0,
    "start_time": "2022-05-29T18:47:00.073Z"
   },
   {
    "duration": 0,
    "start_time": "2022-05-29T18:47:00.074Z"
   },
   {
    "duration": 0,
    "start_time": "2022-05-29T18:47:00.075Z"
   },
   {
    "duration": 0,
    "start_time": "2022-05-29T18:47:00.076Z"
   },
   {
    "duration": 0,
    "start_time": "2022-05-29T18:47:00.076Z"
   },
   {
    "duration": 0,
    "start_time": "2022-05-29T18:47:00.078Z"
   },
   {
    "duration": 0,
    "start_time": "2022-05-29T18:47:00.078Z"
   },
   {
    "duration": 0,
    "start_time": "2022-05-29T18:47:00.079Z"
   },
   {
    "duration": 0,
    "start_time": "2022-05-29T18:47:00.080Z"
   },
   {
    "duration": 0,
    "start_time": "2022-05-29T18:47:00.081Z"
   },
   {
    "duration": 0,
    "start_time": "2022-05-29T18:47:00.122Z"
   },
   {
    "duration": 0,
    "start_time": "2022-05-29T18:47:00.124Z"
   },
   {
    "duration": 0,
    "start_time": "2022-05-29T18:47:00.125Z"
   },
   {
    "duration": 0,
    "start_time": "2022-05-29T18:47:00.127Z"
   },
   {
    "duration": 0,
    "start_time": "2022-05-29T18:47:00.127Z"
   },
   {
    "duration": 0,
    "start_time": "2022-05-29T18:47:00.129Z"
   },
   {
    "duration": 0,
    "start_time": "2022-05-29T18:47:00.130Z"
   },
   {
    "duration": 0,
    "start_time": "2022-05-29T18:47:00.131Z"
   },
   {
    "duration": 0,
    "start_time": "2022-05-29T18:47:00.132Z"
   },
   {
    "duration": 0,
    "start_time": "2022-05-29T18:47:00.133Z"
   },
   {
    "duration": 11,
    "start_time": "2022-05-29T18:47:00.135Z"
   },
   {
    "duration": 0,
    "start_time": "2022-05-29T18:47:00.148Z"
   },
   {
    "duration": 0,
    "start_time": "2022-05-29T18:47:00.150Z"
   },
   {
    "duration": 1401,
    "start_time": "2022-05-29T18:47:15.940Z"
   },
   {
    "duration": 1327,
    "start_time": "2022-05-29T18:47:18.438Z"
   },
   {
    "duration": 152,
    "start_time": "2022-05-29T18:47:22.660Z"
   },
   {
    "duration": 59,
    "start_time": "2022-05-29T18:47:26.332Z"
   },
   {
    "duration": 167,
    "start_time": "2022-05-29T18:47:26.520Z"
   },
   {
    "duration": 129,
    "start_time": "2022-05-29T18:47:26.690Z"
   },
   {
    "duration": 29,
    "start_time": "2022-05-29T18:47:31.515Z"
   },
   {
    "duration": 236,
    "start_time": "2022-05-29T18:47:31.687Z"
   },
   {
    "duration": 344,
    "start_time": "2022-05-29T18:47:31.926Z"
   },
   {
    "duration": 65,
    "start_time": "2022-05-29T18:47:33.584Z"
   },
   {
    "duration": 34,
    "start_time": "2022-05-29T18:47:46.611Z"
   },
   {
    "duration": 35,
    "start_time": "2022-05-29T18:47:47.990Z"
   },
   {
    "duration": 31,
    "start_time": "2022-05-29T18:47:51.252Z"
   },
   {
    "duration": 35,
    "start_time": "2022-05-29T18:48:08.233Z"
   },
   {
    "duration": 100,
    "start_time": "2022-05-29T18:48:14.723Z"
   },
   {
    "duration": 517,
    "start_time": "2022-05-29T18:48:15.056Z"
   },
   {
    "duration": 10,
    "start_time": "2022-05-29T18:48:19.429Z"
   },
   {
    "duration": 168,
    "start_time": "2022-05-29T18:48:28.936Z"
   },
   {
    "duration": 93,
    "start_time": "2022-05-29T18:48:32.721Z"
   },
   {
    "duration": 74,
    "start_time": "2022-05-29T18:48:40.168Z"
   },
   {
    "duration": 731,
    "start_time": "2022-05-29T18:48:45.784Z"
   },
   {
    "duration": 23,
    "start_time": "2022-05-29T18:49:12.146Z"
   },
   {
    "duration": 75,
    "start_time": "2022-05-29T18:49:20.583Z"
   },
   {
    "duration": 22,
    "start_time": "2022-05-29T18:49:31.385Z"
   },
   {
    "duration": 30,
    "start_time": "2022-05-29T18:49:41.001Z"
   },
   {
    "duration": 30,
    "start_time": "2022-05-29T18:54:50.618Z"
   },
   {
    "duration": 12,
    "start_time": "2022-05-29T18:54:57.935Z"
   },
   {
    "duration": 91,
    "start_time": "2022-05-29T18:55:07.126Z"
   },
   {
    "duration": 96,
    "start_time": "2022-05-29T18:55:17.933Z"
   },
   {
    "duration": 102,
    "start_time": "2022-05-29T18:55:24.188Z"
   },
   {
    "duration": 747,
    "start_time": "2022-05-29T18:57:16.372Z"
   },
   {
    "duration": 722,
    "start_time": "2022-05-29T18:58:11.888Z"
   },
   {
    "duration": 749,
    "start_time": "2022-05-29T18:58:21.707Z"
   },
   {
    "duration": 108,
    "start_time": "2022-05-29T18:59:33.547Z"
   },
   {
    "duration": 142,
    "start_time": "2022-05-29T19:00:02.664Z"
   },
   {
    "duration": 101,
    "start_time": "2022-05-29T19:00:17.647Z"
   },
   {
    "duration": 122,
    "start_time": "2022-05-29T19:00:26.213Z"
   },
   {
    "duration": 98,
    "start_time": "2022-05-29T19:01:38.069Z"
   },
   {
    "duration": 102,
    "start_time": "2022-05-29T19:02:11.391Z"
   },
   {
    "duration": 94,
    "start_time": "2022-05-29T19:03:44.707Z"
   },
   {
    "duration": 97,
    "start_time": "2022-05-29T19:04:59.733Z"
   },
   {
    "duration": 19,
    "start_time": "2022-05-29T19:08:16.255Z"
   },
   {
    "duration": 1256,
    "start_time": "2022-05-29T19:11:38.833Z"
   },
   {
    "duration": 1023,
    "start_time": "2022-05-29T19:11:40.091Z"
   },
   {
    "duration": 95,
    "start_time": "2022-05-29T19:11:41.116Z"
   },
   {
    "duration": 49,
    "start_time": "2022-05-29T19:11:41.224Z"
   },
   {
    "duration": 152,
    "start_time": "2022-05-29T19:11:41.275Z"
   },
   {
    "duration": 93,
    "start_time": "2022-05-29T19:11:41.429Z"
   },
   {
    "duration": 37,
    "start_time": "2022-05-29T19:11:41.524Z"
   },
   {
    "duration": 245,
    "start_time": "2022-05-29T19:11:41.563Z"
   },
   {
    "duration": 263,
    "start_time": "2022-05-29T19:11:41.810Z"
   },
   {
    "duration": 86,
    "start_time": "2022-05-29T19:11:42.076Z"
   },
   {
    "duration": 39,
    "start_time": "2022-05-29T19:11:42.165Z"
   },
   {
    "duration": 39,
    "start_time": "2022-05-29T19:11:42.227Z"
   },
   {
    "duration": 29,
    "start_time": "2022-05-29T19:11:42.268Z"
   },
   {
    "duration": 162,
    "start_time": "2022-05-29T19:11:42.298Z"
   },
   {
    "duration": 706,
    "start_time": "2022-05-29T19:11:42.462Z"
   },
   {
    "duration": 2,
    "start_time": "2022-05-29T19:11:43.170Z"
   },
   {
    "duration": 14,
    "start_time": "2022-05-29T19:11:43.174Z"
   },
   {
    "duration": 134,
    "start_time": "2022-05-29T19:11:43.190Z"
   },
   {
    "duration": 77,
    "start_time": "2022-05-29T19:11:43.327Z"
   },
   {
    "duration": 101,
    "start_time": "2022-05-29T19:11:43.406Z"
   },
   {
    "duration": 1007,
    "start_time": "2022-05-29T19:13:15.203Z"
   },
   {
    "duration": 104,
    "start_time": "2022-05-29T19:13:18.389Z"
   },
   {
    "duration": 25,
    "start_time": "2022-05-29T19:13:22.077Z"
   },
   {
    "duration": 40,
    "start_time": "2022-05-29T19:13:29.131Z"
   },
   {
    "duration": 52,
    "start_time": "2022-05-29T19:15:28.634Z"
   },
   {
    "duration": 80,
    "start_time": "2022-05-29T19:15:38.622Z"
   },
   {
    "duration": 72,
    "start_time": "2022-05-29T19:26:54.895Z"
   },
   {
    "duration": 0,
    "start_time": "2022-05-29T19:26:54.969Z"
   },
   {
    "duration": 0,
    "start_time": "2022-05-29T19:26:54.970Z"
   },
   {
    "duration": 0,
    "start_time": "2022-05-29T19:26:54.972Z"
   },
   {
    "duration": 0,
    "start_time": "2022-05-29T19:26:54.973Z"
   },
   {
    "duration": 0,
    "start_time": "2022-05-29T19:26:54.974Z"
   },
   {
    "duration": 0,
    "start_time": "2022-05-29T19:26:54.975Z"
   },
   {
    "duration": 0,
    "start_time": "2022-05-29T19:26:54.976Z"
   },
   {
    "duration": 0,
    "start_time": "2022-05-29T19:26:54.978Z"
   },
   {
    "duration": 0,
    "start_time": "2022-05-29T19:26:54.979Z"
   },
   {
    "duration": 0,
    "start_time": "2022-05-29T19:26:54.980Z"
   },
   {
    "duration": 0,
    "start_time": "2022-05-29T19:26:54.982Z"
   },
   {
    "duration": 0,
    "start_time": "2022-05-29T19:26:54.983Z"
   },
   {
    "duration": 0,
    "start_time": "2022-05-29T19:26:54.984Z"
   },
   {
    "duration": 0,
    "start_time": "2022-05-29T19:26:54.985Z"
   },
   {
    "duration": 0,
    "start_time": "2022-05-29T19:26:54.986Z"
   },
   {
    "duration": 0,
    "start_time": "2022-05-29T19:26:54.988Z"
   },
   {
    "duration": 0,
    "start_time": "2022-05-29T19:26:54.989Z"
   },
   {
    "duration": 0,
    "start_time": "2022-05-29T19:26:54.990Z"
   },
   {
    "duration": 1,
    "start_time": "2022-05-29T19:26:55.023Z"
   },
   {
    "duration": 0,
    "start_time": "2022-05-29T19:26:55.025Z"
   },
   {
    "duration": 0,
    "start_time": "2022-05-29T19:26:55.031Z"
   },
   {
    "duration": 0,
    "start_time": "2022-05-29T19:26:55.038Z"
   },
   {
    "duration": 0,
    "start_time": "2022-05-29T19:26:55.040Z"
   },
   {
    "duration": 0,
    "start_time": "2022-05-29T19:26:55.041Z"
   },
   {
    "duration": 0,
    "start_time": "2022-05-29T19:26:55.042Z"
   },
   {
    "duration": 0,
    "start_time": "2022-05-29T19:26:55.044Z"
   },
   {
    "duration": 0,
    "start_time": "2022-05-29T19:26:55.046Z"
   },
   {
    "duration": 0,
    "start_time": "2022-05-29T19:26:55.047Z"
   },
   {
    "duration": 0,
    "start_time": "2022-05-29T19:26:55.049Z"
   },
   {
    "duration": 0,
    "start_time": "2022-05-29T19:26:55.050Z"
   },
   {
    "duration": 0,
    "start_time": "2022-05-29T19:26:55.052Z"
   },
   {
    "duration": 0,
    "start_time": "2022-05-29T19:26:55.054Z"
   },
   {
    "duration": 0,
    "start_time": "2022-05-29T19:26:55.055Z"
   },
   {
    "duration": 0,
    "start_time": "2022-05-29T19:26:55.056Z"
   },
   {
    "duration": 0,
    "start_time": "2022-05-29T19:26:55.058Z"
   },
   {
    "duration": 0,
    "start_time": "2022-05-29T19:26:55.059Z"
   },
   {
    "duration": 1286,
    "start_time": "2022-05-29T19:31:43.121Z"
   },
   {
    "duration": 1017,
    "start_time": "2022-05-29T19:31:44.409Z"
   },
   {
    "duration": 124,
    "start_time": "2022-05-29T19:31:45.429Z"
   },
   {
    "duration": 47,
    "start_time": "2022-05-29T19:31:45.555Z"
   },
   {
    "duration": 153,
    "start_time": "2022-05-29T19:31:45.604Z"
   },
   {
    "duration": 95,
    "start_time": "2022-05-29T19:31:45.759Z"
   },
   {
    "duration": 36,
    "start_time": "2022-05-29T19:32:29.608Z"
   },
   {
    "duration": 201,
    "start_time": "2022-05-29T19:32:31.956Z"
   },
   {
    "duration": 201,
    "start_time": "2022-05-29T19:32:32.807Z"
   },
   {
    "duration": 54,
    "start_time": "2022-05-29T19:32:35.577Z"
   },
   {
    "duration": 917,
    "start_time": "2022-05-29T19:32:39.241Z"
   },
   {
    "duration": 110,
    "start_time": "2022-05-29T19:32:44.477Z"
   },
   {
    "duration": 34,
    "start_time": "2022-05-29T19:33:10.324Z"
   },
   {
    "duration": 28,
    "start_time": "2022-05-29T19:33:50.719Z"
   },
   {
    "duration": 18,
    "start_time": "2022-05-29T19:33:58.244Z"
   },
   {
    "duration": 24,
    "start_time": "2022-05-29T19:37:50.516Z"
   },
   {
    "duration": 57,
    "start_time": "2022-05-29T19:38:05.586Z"
   },
   {
    "duration": 37,
    "start_time": "2022-05-29T19:38:08.646Z"
   },
   {
    "duration": 64,
    "start_time": "2022-05-29T19:38:11.705Z"
   },
   {
    "duration": 770,
    "start_time": "2022-05-29T19:38:30.068Z"
   },
   {
    "duration": 28,
    "start_time": "2022-05-29T19:38:41.751Z"
   },
   {
    "duration": 54,
    "start_time": "2022-05-29T19:38:45.012Z"
   },
   {
    "duration": 724,
    "start_time": "2022-05-29T19:38:47.622Z"
   },
   {
    "duration": 631,
    "start_time": "2022-05-29T19:41:34.656Z"
   },
   {
    "duration": 17,
    "start_time": "2022-05-29T19:42:30.835Z"
   },
   {
    "duration": 16,
    "start_time": "2022-05-29T19:45:59.655Z"
   },
   {
    "duration": 15,
    "start_time": "2022-05-29T19:46:20.317Z"
   },
   {
    "duration": 15,
    "start_time": "2022-05-29T19:46:48.851Z"
   },
   {
    "duration": 13,
    "start_time": "2022-05-29T19:46:57.255Z"
   },
   {
    "duration": 16,
    "start_time": "2022-05-29T19:47:11.036Z"
   },
   {
    "duration": 23,
    "start_time": "2022-05-29T19:48:05.240Z"
   },
   {
    "duration": 17,
    "start_time": "2022-05-29T19:48:20.436Z"
   },
   {
    "duration": 21,
    "start_time": "2022-05-29T19:49:03.429Z"
   },
   {
    "duration": 12,
    "start_time": "2022-05-29T19:49:07.800Z"
   },
   {
    "duration": 8,
    "start_time": "2022-05-29T19:51:07.838Z"
   },
   {
    "duration": 11,
    "start_time": "2022-05-29T19:51:15.651Z"
   },
   {
    "duration": 10,
    "start_time": "2022-05-29T19:51:21.152Z"
   },
   {
    "duration": 14,
    "start_time": "2022-05-29T19:51:30.863Z"
   },
   {
    "duration": 15,
    "start_time": "2022-05-29T19:51:35.371Z"
   },
   {
    "duration": 14,
    "start_time": "2022-05-29T19:52:03.698Z"
   },
   {
    "duration": 15,
    "start_time": "2022-05-29T19:52:12.959Z"
   },
   {
    "duration": 14,
    "start_time": "2022-05-29T19:52:48.294Z"
   },
   {
    "duration": 15,
    "start_time": "2022-05-29T19:53:03.685Z"
   },
   {
    "duration": 12,
    "start_time": "2022-05-29T19:56:47.797Z"
   },
   {
    "duration": 24,
    "start_time": "2022-05-29T19:57:03.896Z"
   },
   {
    "duration": 13,
    "start_time": "2022-05-29T19:57:44.251Z"
   },
   {
    "duration": 89,
    "start_time": "2022-05-29T19:59:27.278Z"
   },
   {
    "duration": 82,
    "start_time": "2022-05-29T20:00:11.190Z"
   },
   {
    "duration": 88,
    "start_time": "2022-05-29T20:00:19.782Z"
   },
   {
    "duration": 23,
    "start_time": "2022-05-29T20:01:16.676Z"
   },
   {
    "duration": 45,
    "start_time": "2022-05-29T20:01:28.080Z"
   },
   {
    "duration": 493,
    "start_time": "2022-05-29T20:01:55.079Z"
   },
   {
    "duration": 55,
    "start_time": "2022-05-29T20:02:27.255Z"
   },
   {
    "duration": 0,
    "start_time": "2022-05-29T20:02:27.312Z"
   },
   {
    "duration": 0,
    "start_time": "2022-05-29T20:02:27.315Z"
   },
   {
    "duration": 0,
    "start_time": "2022-05-29T20:02:27.316Z"
   },
   {
    "duration": 0,
    "start_time": "2022-05-29T20:02:27.317Z"
   },
   {
    "duration": 0,
    "start_time": "2022-05-29T20:02:27.322Z"
   },
   {
    "duration": 0,
    "start_time": "2022-05-29T20:02:27.324Z"
   },
   {
    "duration": 0,
    "start_time": "2022-05-29T20:02:27.325Z"
   },
   {
    "duration": 0,
    "start_time": "2022-05-29T20:02:27.325Z"
   },
   {
    "duration": 0,
    "start_time": "2022-05-29T20:02:27.327Z"
   },
   {
    "duration": 0,
    "start_time": "2022-05-29T20:02:27.327Z"
   },
   {
    "duration": 0,
    "start_time": "2022-05-29T20:02:27.328Z"
   },
   {
    "duration": 0,
    "start_time": "2022-05-29T20:02:27.329Z"
   },
   {
    "duration": 0,
    "start_time": "2022-05-29T20:02:27.330Z"
   },
   {
    "duration": 0,
    "start_time": "2022-05-29T20:02:27.331Z"
   },
   {
    "duration": 0,
    "start_time": "2022-05-29T20:02:27.332Z"
   },
   {
    "duration": 0,
    "start_time": "2022-05-29T20:02:27.333Z"
   },
   {
    "duration": 0,
    "start_time": "2022-05-29T20:02:27.334Z"
   },
   {
    "duration": 0,
    "start_time": "2022-05-29T20:02:27.335Z"
   },
   {
    "duration": 0,
    "start_time": "2022-05-29T20:02:27.336Z"
   },
   {
    "duration": 0,
    "start_time": "2022-05-29T20:02:27.337Z"
   },
   {
    "duration": 0,
    "start_time": "2022-05-29T20:02:27.338Z"
   },
   {
    "duration": 0,
    "start_time": "2022-05-29T20:02:27.339Z"
   },
   {
    "duration": 0,
    "start_time": "2022-05-29T20:02:27.340Z"
   },
   {
    "duration": 0,
    "start_time": "2022-05-29T20:02:27.341Z"
   },
   {
    "duration": 0,
    "start_time": "2022-05-29T20:02:27.342Z"
   },
   {
    "duration": 0,
    "start_time": "2022-05-29T20:02:27.343Z"
   },
   {
    "duration": 0,
    "start_time": "2022-05-29T20:02:27.344Z"
   },
   {
    "duration": 0,
    "start_time": "2022-05-29T20:02:27.345Z"
   },
   {
    "duration": 0,
    "start_time": "2022-05-29T20:02:27.347Z"
   },
   {
    "duration": 0,
    "start_time": "2022-05-29T20:02:27.348Z"
   },
   {
    "duration": 0,
    "start_time": "2022-05-29T20:02:27.349Z"
   },
   {
    "duration": 0,
    "start_time": "2022-05-29T20:02:27.349Z"
   },
   {
    "duration": 7,
    "start_time": "2022-05-29T20:02:27.352Z"
   },
   {
    "duration": 0,
    "start_time": "2022-05-29T20:02:27.361Z"
   },
   {
    "duration": 1,
    "start_time": "2022-05-29T20:02:27.422Z"
   },
   {
    "duration": 0,
    "start_time": "2022-05-29T20:02:27.424Z"
   },
   {
    "duration": 0,
    "start_time": "2022-05-29T20:02:27.425Z"
   },
   {
    "duration": 0,
    "start_time": "2022-05-29T20:02:27.426Z"
   },
   {
    "duration": 1219,
    "start_time": "2022-05-29T20:02:39.157Z"
   },
   {
    "duration": 1099,
    "start_time": "2022-05-29T20:02:40.378Z"
   },
   {
    "duration": 103,
    "start_time": "2022-05-29T20:02:41.478Z"
   },
   {
    "duration": 56,
    "start_time": "2022-05-29T20:02:41.583Z"
   },
   {
    "duration": 124,
    "start_time": "2022-05-29T20:02:41.641Z"
   },
   {
    "duration": 82,
    "start_time": "2022-05-29T20:02:41.767Z"
   },
   {
    "duration": 28,
    "start_time": "2022-05-29T20:02:41.851Z"
   },
   {
    "duration": 210,
    "start_time": "2022-05-29T20:02:41.881Z"
   },
   {
    "duration": 234,
    "start_time": "2022-05-29T20:02:42.093Z"
   },
   {
    "duration": 11,
    "start_time": "2022-05-29T20:02:42.329Z"
   },
   {
    "duration": 55,
    "start_time": "2022-05-29T20:02:42.341Z"
   },
   {
    "duration": 896,
    "start_time": "2022-05-29T20:02:42.398Z"
   },
   {
    "duration": 123,
    "start_time": "2022-05-29T20:02:43.296Z"
   },
   {
    "duration": 23,
    "start_time": "2022-05-29T20:02:43.423Z"
   },
   {
    "duration": 587,
    "start_time": "2022-05-29T20:02:43.448Z"
   },
   {
    "duration": 12,
    "start_time": "2022-05-29T20:02:44.037Z"
   },
   {
    "duration": 24,
    "start_time": "2022-05-29T20:02:44.051Z"
   },
   {
    "duration": 68,
    "start_time": "2022-05-29T20:02:44.076Z"
   },
   {
    "duration": 16,
    "start_time": "2022-05-29T20:04:45.035Z"
   },
   {
    "duration": 183,
    "start_time": "2022-05-29T20:06:02.259Z"
   },
   {
    "duration": 177,
    "start_time": "2022-05-29T20:06:43.760Z"
   },
   {
    "duration": 214,
    "start_time": "2022-05-29T20:07:01.959Z"
   },
   {
    "duration": 220,
    "start_time": "2022-05-29T20:07:07.827Z"
   },
   {
    "duration": 199,
    "start_time": "2022-05-29T20:07:24.954Z"
   },
   {
    "duration": 208,
    "start_time": "2022-05-29T20:07:42.215Z"
   },
   {
    "duration": 231,
    "start_time": "2022-05-29T20:08:02.095Z"
   },
   {
    "duration": 317,
    "start_time": "2022-05-29T20:08:30.623Z"
   },
   {
    "duration": 216,
    "start_time": "2022-05-29T20:09:13.765Z"
   },
   {
    "duration": 309,
    "start_time": "2022-05-29T20:09:35.970Z"
   },
   {
    "duration": 190,
    "start_time": "2022-05-29T20:09:38.656Z"
   },
   {
    "duration": 212,
    "start_time": "2022-05-29T20:09:42.737Z"
   },
   {
    "duration": 200,
    "start_time": "2022-05-29T20:09:46.223Z"
   },
   {
    "duration": 200,
    "start_time": "2022-05-29T20:09:54.683Z"
   },
   {
    "duration": 198,
    "start_time": "2022-05-29T20:10:10.745Z"
   },
   {
    "duration": 287,
    "start_time": "2022-05-29T20:10:17.585Z"
   },
   {
    "duration": 31,
    "start_time": "2022-05-29T20:11:27.087Z"
   },
   {
    "duration": 200,
    "start_time": "2022-05-29T20:11:30.588Z"
   },
   {
    "duration": 316,
    "start_time": "2022-05-29T20:11:39.442Z"
   },
   {
    "duration": 248,
    "start_time": "2022-05-29T20:11:42.426Z"
   },
   {
    "duration": 137,
    "start_time": "2022-05-29T20:11:57.343Z"
   },
   {
    "duration": 207,
    "start_time": "2022-05-29T20:12:07.443Z"
   },
   {
    "duration": 213,
    "start_time": "2022-05-29T20:12:32.085Z"
   },
   {
    "duration": 207,
    "start_time": "2022-05-29T20:13:29.423Z"
   },
   {
    "duration": 217,
    "start_time": "2022-05-29T20:13:48.593Z"
   },
   {
    "duration": 1279,
    "start_time": "2022-05-29T20:16:57.801Z"
   },
   {
    "duration": 996,
    "start_time": "2022-05-29T20:16:59.082Z"
   },
   {
    "duration": 108,
    "start_time": "2022-05-29T20:17:00.080Z"
   },
   {
    "duration": 53,
    "start_time": "2022-05-29T20:17:00.191Z"
   },
   {
    "duration": 140,
    "start_time": "2022-05-29T20:17:00.246Z"
   },
   {
    "duration": 77,
    "start_time": "2022-05-29T20:17:00.388Z"
   },
   {
    "duration": 29,
    "start_time": "2022-05-29T20:17:00.467Z"
   },
   {
    "duration": 212,
    "start_time": "2022-05-29T20:17:00.497Z"
   },
   {
    "duration": 212,
    "start_time": "2022-05-29T20:17:00.711Z"
   },
   {
    "duration": 10,
    "start_time": "2022-05-29T20:17:00.925Z"
   },
   {
    "duration": 72,
    "start_time": "2022-05-29T20:17:00.937Z"
   },
   {
    "duration": 831,
    "start_time": "2022-05-29T20:17:01.011Z"
   },
   {
    "duration": 114,
    "start_time": "2022-05-29T20:17:01.844Z"
   },
   {
    "duration": 20,
    "start_time": "2022-05-29T20:17:01.960Z"
   },
   {
    "duration": 597,
    "start_time": "2022-05-29T20:17:01.982Z"
   },
   {
    "duration": 17,
    "start_time": "2022-05-29T20:17:02.580Z"
   },
   {
    "duration": 49,
    "start_time": "2022-05-29T20:17:02.600Z"
   },
   {
    "duration": 56,
    "start_time": "2022-05-29T20:17:02.651Z"
   },
   {
    "duration": 271,
    "start_time": "2022-05-29T20:17:02.710Z"
   },
   {
    "duration": 64,
    "start_time": "2022-05-29T20:22:19.887Z"
   },
   {
    "duration": 26,
    "start_time": "2022-05-29T20:23:26.668Z"
   },
   {
    "duration": 27,
    "start_time": "2022-05-29T20:23:33.378Z"
   },
   {
    "duration": 27,
    "start_time": "2022-05-29T20:23:43.554Z"
   },
   {
    "duration": 248,
    "start_time": "2022-05-29T20:24:20.036Z"
   },
   {
    "duration": 87,
    "start_time": "2022-05-29T20:24:30.894Z"
   },
   {
    "duration": 456,
    "start_time": "2022-05-29T20:24:31.049Z"
   },
   {
    "duration": 495,
    "start_time": "2022-05-29T20:24:52.834Z"
   },
   {
    "duration": 504,
    "start_time": "2022-05-29T20:24:57.976Z"
   },
   {
    "duration": 448,
    "start_time": "2022-05-29T20:25:05.558Z"
   },
   {
    "duration": 8,
    "start_time": "2022-05-29T20:25:39.457Z"
   },
   {
    "duration": 11,
    "start_time": "2022-05-29T20:25:45.404Z"
   },
   {
    "duration": 84,
    "start_time": "2022-05-29T20:26:04.303Z"
   },
   {
    "duration": 800,
    "start_time": "2022-05-29T20:26:31.842Z"
   },
   {
    "duration": 66,
    "start_time": "2022-05-29T20:29:33.310Z"
   },
   {
    "duration": 407,
    "start_time": "2022-05-29T20:30:16.058Z"
   },
   {
    "duration": 2052,
    "start_time": "2022-05-29T20:30:31.765Z"
   },
   {
    "duration": 658,
    "start_time": "2022-05-29T20:30:42.305Z"
   },
   {
    "duration": 559,
    "start_time": "2022-05-29T20:30:50.802Z"
   },
   {
    "duration": 91,
    "start_time": "2022-05-29T20:31:24.215Z"
   },
   {
    "duration": 1125,
    "start_time": "2022-05-29T20:40:38.138Z"
   },
   {
    "duration": 934,
    "start_time": "2022-05-29T20:40:39.265Z"
   },
   {
    "duration": 94,
    "start_time": "2022-05-29T20:40:40.200Z"
   },
   {
    "duration": 49,
    "start_time": "2022-05-29T20:40:40.295Z"
   },
   {
    "duration": 121,
    "start_time": "2022-05-29T20:40:40.346Z"
   },
   {
    "duration": 83,
    "start_time": "2022-05-29T20:40:40.469Z"
   },
   {
    "duration": 28,
    "start_time": "2022-05-29T20:40:40.553Z"
   },
   {
    "duration": 196,
    "start_time": "2022-05-29T20:40:40.582Z"
   },
   {
    "duration": 216,
    "start_time": "2022-05-29T20:40:40.780Z"
   },
   {
    "duration": 10,
    "start_time": "2022-05-29T20:40:40.998Z"
   },
   {
    "duration": 61,
    "start_time": "2022-05-29T20:40:41.010Z"
   },
   {
    "duration": 772,
    "start_time": "2022-05-29T20:40:41.072Z"
   },
   {
    "duration": 100,
    "start_time": "2022-05-29T20:40:41.845Z"
   },
   {
    "duration": 21,
    "start_time": "2022-05-29T20:40:41.947Z"
   },
   {
    "duration": 603,
    "start_time": "2022-05-29T20:40:41.971Z"
   },
   {
    "duration": 17,
    "start_time": "2022-05-29T20:40:42.576Z"
   },
   {
    "duration": 47,
    "start_time": "2022-05-29T20:40:42.596Z"
   },
   {
    "duration": 295,
    "start_time": "2022-05-29T20:40:42.645Z"
   },
   {
    "duration": 676,
    "start_time": "2022-05-29T20:40:42.943Z"
   },
   {
    "duration": 435,
    "start_time": "2022-05-29T20:40:43.620Z"
   },
   {
    "duration": 341,
    "start_time": "2022-05-29T20:42:35.795Z"
   },
   {
    "duration": 616,
    "start_time": "2022-05-29T20:42:54.500Z"
   },
   {
    "duration": 11,
    "start_time": "2022-05-29T20:42:58.186Z"
   },
   {
    "duration": 546,
    "start_time": "2022-05-29T20:43:02.819Z"
   },
   {
    "duration": 14,
    "start_time": "2022-05-29T20:48:07.738Z"
   },
   {
    "duration": 43,
    "start_time": "2022-05-29T20:48:08.980Z"
   },
   {
    "duration": 427,
    "start_time": "2022-05-29T20:48:18.334Z"
   },
   {
    "duration": 345,
    "start_time": "2022-05-29T20:48:22.513Z"
   },
   {
    "duration": 1159,
    "start_time": "2022-05-29T20:48:40.616Z"
   },
   {
    "duration": 1037,
    "start_time": "2022-05-29T20:48:41.777Z"
   },
   {
    "duration": 109,
    "start_time": "2022-05-29T20:48:42.815Z"
   },
   {
    "duration": 47,
    "start_time": "2022-05-29T20:48:42.925Z"
   },
   {
    "duration": 126,
    "start_time": "2022-05-29T20:48:42.974Z"
   },
   {
    "duration": 86,
    "start_time": "2022-05-29T20:48:43.102Z"
   },
   {
    "duration": 36,
    "start_time": "2022-05-29T20:48:43.190Z"
   },
   {
    "duration": 200,
    "start_time": "2022-05-29T20:48:43.228Z"
   },
   {
    "duration": 210,
    "start_time": "2022-05-29T20:48:43.430Z"
   },
   {
    "duration": 10,
    "start_time": "2022-05-29T20:48:43.642Z"
   },
   {
    "duration": 52,
    "start_time": "2022-05-29T20:48:43.653Z"
   },
   {
    "duration": 754,
    "start_time": "2022-05-29T20:48:43.707Z"
   },
   {
    "duration": 107,
    "start_time": "2022-05-29T20:48:44.463Z"
   },
   {
    "duration": 18,
    "start_time": "2022-05-29T20:48:44.572Z"
   },
   {
    "duration": 584,
    "start_time": "2022-05-29T20:48:44.592Z"
   },
   {
    "duration": 13,
    "start_time": "2022-05-29T20:48:45.178Z"
   },
   {
    "duration": 38,
    "start_time": "2022-05-29T20:48:45.193Z"
   },
   {
    "duration": 229,
    "start_time": "2022-05-29T20:48:45.233Z"
   },
   {
    "duration": 308,
    "start_time": "2022-05-29T20:48:45.464Z"
   },
   {
    "duration": 440,
    "start_time": "2022-05-29T20:48:45.774Z"
   },
   {
    "duration": 20,
    "start_time": "2022-05-29T20:48:46.215Z"
   },
   {
    "duration": 43,
    "start_time": "2022-05-29T20:48:46.236Z"
   },
   {
    "duration": 4,
    "start_time": "2022-05-29T20:51:54.681Z"
   },
   {
    "duration": 902,
    "start_time": "2022-05-29T20:51:54.687Z"
   },
   {
    "duration": 100,
    "start_time": "2022-05-29T20:51:55.591Z"
   },
   {
    "duration": 47,
    "start_time": "2022-05-29T20:51:55.694Z"
   },
   {
    "duration": 124,
    "start_time": "2022-05-29T20:51:55.743Z"
   },
   {
    "duration": 77,
    "start_time": "2022-05-29T20:51:55.869Z"
   },
   {
    "duration": 20,
    "start_time": "2022-05-29T20:51:55.948Z"
   },
   {
    "duration": 176,
    "start_time": "2022-05-29T20:51:55.970Z"
   },
   {
    "duration": 175,
    "start_time": "2022-05-29T20:51:56.148Z"
   },
   {
    "duration": 11,
    "start_time": "2022-05-29T20:51:56.325Z"
   },
   {
    "duration": 51,
    "start_time": "2022-05-29T20:51:56.338Z"
   },
   {
    "duration": 699,
    "start_time": "2022-05-29T20:51:56.391Z"
   },
   {
    "duration": 105,
    "start_time": "2022-05-29T20:51:57.092Z"
   },
   {
    "duration": 28,
    "start_time": "2022-05-29T20:51:57.199Z"
   },
   {
    "duration": 723,
    "start_time": "2022-05-29T20:51:57.229Z"
   },
   {
    "duration": 14,
    "start_time": "2022-05-29T20:51:57.954Z"
   },
   {
    "duration": 24,
    "start_time": "2022-05-29T20:51:57.970Z"
   },
   {
    "duration": 263,
    "start_time": "2022-05-29T20:51:57.996Z"
   },
   {
    "duration": 351,
    "start_time": "2022-05-29T20:51:58.260Z"
   },
   {
    "duration": 469,
    "start_time": "2022-05-29T20:51:58.613Z"
   },
   {
    "duration": 17,
    "start_time": "2022-05-29T20:51:59.084Z"
   },
   {
    "duration": 56,
    "start_time": "2022-05-29T20:51:59.103Z"
   },
   {
    "duration": 51,
    "start_time": "2022-05-29T20:52:06.978Z"
   },
   {
    "duration": 23,
    "start_time": "2022-05-29T20:52:43.736Z"
   },
   {
    "duration": 27,
    "start_time": "2022-05-29T20:52:49.267Z"
   },
   {
    "duration": 23,
    "start_time": "2022-05-29T20:52:54.936Z"
   },
   {
    "duration": 3,
    "start_time": "2022-05-29T20:53:07.636Z"
   },
   {
    "duration": 898,
    "start_time": "2022-05-29T20:53:07.640Z"
   },
   {
    "duration": 96,
    "start_time": "2022-05-29T20:53:08.540Z"
   },
   {
    "duration": 35,
    "start_time": "2022-05-29T20:53:08.638Z"
   },
   {
    "duration": 126,
    "start_time": "2022-05-29T20:53:08.675Z"
   },
   {
    "duration": 77,
    "start_time": "2022-05-29T20:53:08.803Z"
   },
   {
    "duration": 20,
    "start_time": "2022-05-29T20:53:08.881Z"
   },
   {
    "duration": 186,
    "start_time": "2022-05-29T20:53:08.903Z"
   },
   {
    "duration": 178,
    "start_time": "2022-05-29T20:53:09.091Z"
   },
   {
    "duration": 12,
    "start_time": "2022-05-29T20:53:09.271Z"
   },
   {
    "duration": 62,
    "start_time": "2022-05-29T20:53:09.284Z"
   },
   {
    "duration": 695,
    "start_time": "2022-05-29T20:53:09.348Z"
   },
   {
    "duration": 101,
    "start_time": "2022-05-29T20:53:10.045Z"
   },
   {
    "duration": 20,
    "start_time": "2022-05-29T20:53:10.148Z"
   },
   {
    "duration": 559,
    "start_time": "2022-05-29T20:53:10.170Z"
   },
   {
    "duration": 12,
    "start_time": "2022-05-29T20:53:10.730Z"
   },
   {
    "duration": 25,
    "start_time": "2022-05-29T20:53:10.744Z"
   },
   {
    "duration": 242,
    "start_time": "2022-05-29T20:53:10.771Z"
   },
   {
    "duration": 339,
    "start_time": "2022-05-29T20:53:11.015Z"
   },
   {
    "duration": 586,
    "start_time": "2022-05-29T20:53:11.357Z"
   },
   {
    "duration": 17,
    "start_time": "2022-05-29T20:53:11.945Z"
   },
   {
    "duration": 60,
    "start_time": "2022-05-29T20:53:11.964Z"
   },
   {
    "duration": 64,
    "start_time": "2022-05-29T20:53:12.026Z"
   },
   {
    "duration": 42,
    "start_time": "2022-05-29T20:53:12.095Z"
   },
   {
    "duration": 25,
    "start_time": "2022-05-29T20:53:12.139Z"
   },
   {
    "duration": 24,
    "start_time": "2022-05-29T20:53:12.166Z"
   },
   {
    "duration": 92,
    "start_time": "2022-05-29T20:53:12.192Z"
   },
   {
    "duration": 475,
    "start_time": "2022-05-29T20:53:12.287Z"
   },
   {
    "duration": 5,
    "start_time": "2022-05-29T20:53:12.764Z"
   },
   {
    "duration": 18,
    "start_time": "2022-05-29T20:53:12.771Z"
   },
   {
    "duration": 112,
    "start_time": "2022-05-29T20:53:12.791Z"
   },
   {
    "duration": 23,
    "start_time": "2022-05-29T20:55:57.836Z"
   },
   {
    "duration": 10,
    "start_time": "2022-05-29T20:56:03.382Z"
   },
   {
    "duration": 12,
    "start_time": "2022-05-29T20:56:31.694Z"
   },
   {
    "duration": 13,
    "start_time": "2022-05-29T20:56:38.569Z"
   },
   {
    "duration": 15,
    "start_time": "2022-05-29T20:56:43.380Z"
   },
   {
    "duration": 13,
    "start_time": "2022-05-29T20:56:49.371Z"
   },
   {
    "duration": 23,
    "start_time": "2022-05-29T20:56:56.639Z"
   },
   {
    "duration": 23,
    "start_time": "2022-05-29T20:56:58.871Z"
   },
   {
    "duration": 25,
    "start_time": "2022-05-29T20:57:02.485Z"
   },
   {
    "duration": 23,
    "start_time": "2022-05-29T20:57:04.595Z"
   },
   {
    "duration": 68,
    "start_time": "2022-05-29T20:57:37.553Z"
   },
   {
    "duration": 31,
    "start_time": "2022-05-29T20:59:07.859Z"
   },
   {
    "duration": 3,
    "start_time": "2022-05-29T20:59:16.837Z"
   },
   {
    "duration": 876,
    "start_time": "2022-05-29T20:59:16.842Z"
   },
   {
    "duration": 83,
    "start_time": "2022-05-29T20:59:17.723Z"
   },
   {
    "duration": 48,
    "start_time": "2022-05-29T20:59:17.808Z"
   },
   {
    "duration": 132,
    "start_time": "2022-05-29T20:59:17.858Z"
   },
   {
    "duration": 80,
    "start_time": "2022-05-29T20:59:17.991Z"
   },
   {
    "duration": 18,
    "start_time": "2022-05-29T20:59:18.073Z"
   },
   {
    "duration": 165,
    "start_time": "2022-05-29T20:59:18.093Z"
   },
   {
    "duration": 173,
    "start_time": "2022-05-29T20:59:18.259Z"
   },
   {
    "duration": 10,
    "start_time": "2022-05-29T20:59:18.434Z"
   },
   {
    "duration": 79,
    "start_time": "2022-05-29T20:59:18.446Z"
   },
   {
    "duration": 778,
    "start_time": "2022-05-29T20:59:18.527Z"
   },
   {
    "duration": 105,
    "start_time": "2022-05-29T20:59:19.307Z"
   },
   {
    "duration": 25,
    "start_time": "2022-05-29T20:59:19.415Z"
   },
   {
    "duration": 578,
    "start_time": "2022-05-29T20:59:19.442Z"
   },
   {
    "duration": 13,
    "start_time": "2022-05-29T20:59:20.023Z"
   },
   {
    "duration": 25,
    "start_time": "2022-05-29T20:59:20.038Z"
   },
   {
    "duration": 251,
    "start_time": "2022-05-29T20:59:20.065Z"
   },
   {
    "duration": 356,
    "start_time": "2022-05-29T20:59:20.323Z"
   },
   {
    "duration": 426,
    "start_time": "2022-05-29T20:59:20.681Z"
   },
   {
    "duration": 27,
    "start_time": "2022-05-29T20:59:21.109Z"
   },
   {
    "duration": 44,
    "start_time": "2022-05-29T20:59:21.138Z"
   },
   {
    "duration": 65,
    "start_time": "2022-05-29T20:59:21.183Z"
   },
   {
    "duration": 24,
    "start_time": "2022-05-29T20:59:21.249Z"
   },
   {
    "duration": 26,
    "start_time": "2022-05-29T20:59:21.275Z"
   },
   {
    "duration": 24,
    "start_time": "2022-05-29T20:59:21.323Z"
   },
   {
    "duration": 103,
    "start_time": "2022-05-29T20:59:21.349Z"
   },
   {
    "duration": 562,
    "start_time": "2022-05-29T20:59:21.453Z"
   },
   {
    "duration": 6,
    "start_time": "2022-05-29T20:59:22.017Z"
   },
   {
    "duration": 16,
    "start_time": "2022-05-29T20:59:22.025Z"
   },
   {
    "duration": 33,
    "start_time": "2022-05-29T20:59:22.042Z"
   },
   {
    "duration": 85,
    "start_time": "2022-05-29T20:59:54.135Z"
   },
   {
    "duration": 333,
    "start_time": "2022-05-29T21:00:02.057Z"
   },
   {
    "duration": 19,
    "start_time": "2022-05-29T21:00:02.392Z"
   },
   {
    "duration": 4,
    "start_time": "2022-05-29T21:00:45.539Z"
   },
   {
    "duration": 4,
    "start_time": "2022-05-29T21:01:09.154Z"
   },
   {
    "duration": 22,
    "start_time": "2022-05-29T21:01:12.773Z"
   },
   {
    "duration": 11,
    "start_time": "2022-05-29T21:01:15.139Z"
   },
   {
    "duration": 1106,
    "start_time": "2022-05-29T21:01:36.253Z"
   },
   {
    "duration": 984,
    "start_time": "2022-05-29T21:01:37.361Z"
   },
   {
    "duration": 202,
    "start_time": "2022-05-29T21:01:38.346Z"
   },
   {
    "duration": 97,
    "start_time": "2022-05-29T21:01:38.550Z"
   },
   {
    "duration": 277,
    "start_time": "2022-05-29T21:01:38.649Z"
   },
   {
    "duration": 195,
    "start_time": "2022-05-29T21:01:38.928Z"
   },
   {
    "duration": 38,
    "start_time": "2022-05-29T21:01:39.124Z"
   },
   {
    "duration": 394,
    "start_time": "2022-05-29T21:01:39.163Z"
   },
   {
    "duration": 417,
    "start_time": "2022-05-29T21:01:39.559Z"
   },
   {
    "duration": 11,
    "start_time": "2022-05-29T21:01:40.023Z"
   },
   {
    "duration": 59,
    "start_time": "2022-05-29T21:01:40.036Z"
   },
   {
    "duration": 793,
    "start_time": "2022-05-29T21:01:40.096Z"
   },
   {
    "duration": 98,
    "start_time": "2022-05-29T21:01:40.891Z"
   },
   {
    "duration": 19,
    "start_time": "2022-05-29T21:01:40.990Z"
   },
   {
    "duration": 567,
    "start_time": "2022-05-29T21:01:41.022Z"
   },
   {
    "duration": 14,
    "start_time": "2022-05-29T21:01:41.590Z"
   },
   {
    "duration": 39,
    "start_time": "2022-05-29T21:01:41.606Z"
   },
   {
    "duration": 232,
    "start_time": "2022-05-29T21:01:41.646Z"
   },
   {
    "duration": 330,
    "start_time": "2022-05-29T21:01:41.880Z"
   },
   {
    "duration": 477,
    "start_time": "2022-05-29T21:01:42.212Z"
   },
   {
    "duration": 18,
    "start_time": "2022-05-29T21:01:42.690Z"
   },
   {
    "duration": 64,
    "start_time": "2022-05-29T21:01:42.710Z"
   },
   {
    "duration": 4,
    "start_time": "2022-05-29T21:01:42.776Z"
   },
   {
    "duration": 64,
    "start_time": "2022-05-29T21:01:42.781Z"
   },
   {
    "duration": 27,
    "start_time": "2022-05-29T21:01:42.847Z"
   },
   {
    "duration": 22,
    "start_time": "2022-05-29T21:01:42.876Z"
   },
   {
    "duration": 44,
    "start_time": "2022-05-29T21:01:42.900Z"
   },
   {
    "duration": 94,
    "start_time": "2022-05-29T21:01:42.947Z"
   },
   {
    "duration": 432,
    "start_time": "2022-05-29T21:01:43.042Z"
   },
   {
    "duration": 10,
    "start_time": "2022-05-29T21:01:43.475Z"
   },
   {
    "duration": 51,
    "start_time": "2022-05-29T21:01:43.487Z"
   },
   {
    "duration": 94,
    "start_time": "2022-05-29T21:01:43.540Z"
   },
   {
    "duration": 41,
    "start_time": "2022-05-29T21:01:43.636Z"
   },
   {
    "duration": 336,
    "start_time": "2022-05-29T21:01:43.679Z"
   },
   {
    "duration": 22,
    "start_time": "2022-05-29T21:01:44.017Z"
   },
   {
    "duration": 39,
    "start_time": "2022-05-29T21:03:12.417Z"
   },
   {
    "duration": 287,
    "start_time": "2022-05-29T21:03:37.872Z"
   },
   {
    "duration": 12758,
    "start_time": "2022-05-29T21:03:42.871Z"
   },
   {
    "duration": 20964,
    "start_time": "2022-05-29T21:04:09.871Z"
   },
   {
    "duration": 488,
    "start_time": "2022-05-29T21:04:49.050Z"
   },
   {
    "duration": 1342,
    "start_time": "2022-05-29T21:08:37.403Z"
   },
   {
    "duration": 999,
    "start_time": "2022-05-29T21:08:38.747Z"
   },
   {
    "duration": 98,
    "start_time": "2022-05-29T21:08:39.747Z"
   },
   {
    "duration": 44,
    "start_time": "2022-05-29T21:08:39.847Z"
   },
   {
    "duration": 143,
    "start_time": "2022-05-29T21:08:39.892Z"
   },
   {
    "duration": 72,
    "start_time": "2022-05-29T21:08:40.037Z"
   },
   {
    "duration": 28,
    "start_time": "2022-05-29T21:08:40.123Z"
   },
   {
    "duration": 193,
    "start_time": "2022-05-29T21:08:40.153Z"
   },
   {
    "duration": 215,
    "start_time": "2022-05-29T21:08:40.348Z"
   },
   {
    "duration": 10,
    "start_time": "2022-05-29T21:08:40.565Z"
   },
   {
    "duration": 57,
    "start_time": "2022-05-29T21:08:40.576Z"
   },
   {
    "duration": 724,
    "start_time": "2022-05-29T21:08:40.635Z"
   },
   {
    "duration": 102,
    "start_time": "2022-05-29T21:08:41.361Z"
   },
   {
    "duration": 21,
    "start_time": "2022-05-29T21:08:41.466Z"
   },
   {
    "duration": 567,
    "start_time": "2022-05-29T21:08:41.488Z"
   },
   {
    "duration": 12,
    "start_time": "2022-05-29T21:08:42.057Z"
   },
   {
    "duration": 24,
    "start_time": "2022-05-29T21:08:42.071Z"
   },
   {
    "duration": 251,
    "start_time": "2022-05-29T21:08:42.097Z"
   },
   {
    "duration": 353,
    "start_time": "2022-05-29T21:08:42.350Z"
   },
   {
    "duration": 450,
    "start_time": "2022-05-29T21:08:42.704Z"
   },
   {
    "duration": 15,
    "start_time": "2022-05-29T21:08:43.156Z"
   },
   {
    "duration": 68,
    "start_time": "2022-05-29T21:08:43.172Z"
   },
   {
    "duration": 4,
    "start_time": "2022-05-29T21:08:43.242Z"
   },
   {
    "duration": 54,
    "start_time": "2022-05-29T21:08:43.248Z"
   },
   {
    "duration": 36,
    "start_time": "2022-05-29T21:08:43.304Z"
   },
   {
    "duration": 25,
    "start_time": "2022-05-29T21:08:43.342Z"
   },
   {
    "duration": 23,
    "start_time": "2022-05-29T21:08:43.369Z"
   },
   {
    "duration": 108,
    "start_time": "2022-05-29T21:08:43.394Z"
   },
   {
    "duration": 420,
    "start_time": "2022-05-29T21:08:43.504Z"
   },
   {
    "duration": 10,
    "start_time": "2022-05-29T21:08:43.926Z"
   },
   {
    "duration": 32,
    "start_time": "2022-05-29T21:08:43.938Z"
   },
   {
    "duration": 104,
    "start_time": "2022-05-29T21:08:43.972Z"
   },
   {
    "duration": 55,
    "start_time": "2022-05-29T21:08:44.078Z"
   },
   {
    "duration": 329,
    "start_time": "2022-05-29T21:08:44.135Z"
   },
   {
    "duration": 17,
    "start_time": "2022-05-29T21:08:44.466Z"
   },
   {
    "duration": 292,
    "start_time": "2022-05-29T21:08:44.485Z"
   },
   {
    "duration": 11051,
    "start_time": "2022-05-29T21:08:44.779Z"
   },
   {
    "duration": 7003,
    "start_time": "2022-05-29T21:08:55.832Z"
   },
   {
    "duration": 598,
    "start_time": "2022-05-29T21:09:02.837Z"
   },
   {
    "duration": 6562,
    "start_time": "2022-05-29T21:09:22.865Z"
   },
   {
    "duration": 1443,
    "start_time": "2022-05-30T08:30:52.103Z"
   },
   {
    "duration": 3058,
    "start_time": "2022-05-30T08:30:53.548Z"
   },
   {
    "duration": 107,
    "start_time": "2022-05-30T08:30:56.608Z"
   },
   {
    "duration": 46,
    "start_time": "2022-05-30T08:30:56.717Z"
   },
   {
    "duration": 135,
    "start_time": "2022-05-30T08:30:56.765Z"
   },
   {
    "duration": 86,
    "start_time": "2022-05-30T08:30:56.901Z"
   },
   {
    "duration": 30,
    "start_time": "2022-05-30T08:30:56.988Z"
   },
   {
    "duration": 207,
    "start_time": "2022-05-30T08:30:57.020Z"
   },
   {
    "duration": 244,
    "start_time": "2022-05-30T08:30:57.229Z"
   },
   {
    "duration": 16,
    "start_time": "2022-05-30T08:30:57.476Z"
   },
   {
    "duration": 62,
    "start_time": "2022-05-30T08:30:57.494Z"
   },
   {
    "duration": 837,
    "start_time": "2022-05-30T08:30:57.558Z"
   },
   {
    "duration": 110,
    "start_time": "2022-05-30T08:30:58.397Z"
   },
   {
    "duration": 21,
    "start_time": "2022-05-30T08:30:58.509Z"
   },
   {
    "duration": 611,
    "start_time": "2022-05-30T08:30:58.531Z"
   },
   {
    "duration": 15,
    "start_time": "2022-05-30T08:30:59.144Z"
   },
   {
    "duration": 41,
    "start_time": "2022-05-30T08:30:59.161Z"
   },
   {
    "duration": 248,
    "start_time": "2022-05-30T08:30:59.203Z"
   },
   {
    "duration": 336,
    "start_time": "2022-05-30T08:30:59.453Z"
   },
   {
    "duration": 458,
    "start_time": "2022-05-30T08:30:59.790Z"
   },
   {
    "duration": 16,
    "start_time": "2022-05-30T08:31:00.250Z"
   },
   {
    "duration": 263,
    "start_time": "2022-05-30T08:31:00.268Z"
   },
   {
    "duration": 20,
    "start_time": "2022-05-30T08:31:00.533Z"
   },
   {
    "duration": 83,
    "start_time": "2022-05-30T08:31:00.555Z"
   },
   {
    "duration": 31,
    "start_time": "2022-05-30T08:31:00.640Z"
   },
   {
    "duration": 36,
    "start_time": "2022-05-30T08:31:00.673Z"
   },
   {
    "duration": 31,
    "start_time": "2022-05-30T08:31:00.711Z"
   },
   {
    "duration": 88,
    "start_time": "2022-05-30T08:31:00.745Z"
   },
   {
    "duration": 436,
    "start_time": "2022-05-30T08:31:00.835Z"
   },
   {
    "duration": 13,
    "start_time": "2022-05-30T08:31:01.273Z"
   },
   {
    "duration": 45,
    "start_time": "2022-05-30T08:31:01.287Z"
   },
   {
    "duration": 98,
    "start_time": "2022-05-30T08:31:01.334Z"
   },
   {
    "duration": 55,
    "start_time": "2022-05-30T08:31:01.434Z"
   },
   {
    "duration": 357,
    "start_time": "2022-05-30T08:31:01.491Z"
   },
   {
    "duration": 33,
    "start_time": "2022-05-30T08:31:01.851Z"
   },
   {
    "duration": 300,
    "start_time": "2022-05-30T08:31:01.886Z"
   },
   {
    "duration": 11697,
    "start_time": "2022-05-30T08:31:02.188Z"
   },
   {
    "duration": 7607,
    "start_time": "2022-05-30T08:31:13.888Z"
   },
   {
    "duration": 603,
    "start_time": "2022-05-30T08:31:21.497Z"
   },
   {
    "duration": 1309,
    "start_time": "2022-05-30T09:18:38.633Z"
   },
   {
    "duration": 1030,
    "start_time": "2022-05-30T09:18:39.945Z"
   },
   {
    "duration": 111,
    "start_time": "2022-05-30T09:18:40.976Z"
   },
   {
    "duration": 56,
    "start_time": "2022-05-30T09:18:41.089Z"
   },
   {
    "duration": 154,
    "start_time": "2022-05-30T09:18:41.149Z"
   },
   {
    "duration": 91,
    "start_time": "2022-05-30T09:18:41.305Z"
   },
   {
    "duration": 26,
    "start_time": "2022-05-30T09:18:41.398Z"
   },
   {
    "duration": 202,
    "start_time": "2022-05-30T09:18:41.425Z"
   },
   {
    "duration": 212,
    "start_time": "2022-05-30T09:18:41.629Z"
   },
   {
    "duration": 12,
    "start_time": "2022-05-30T09:18:41.843Z"
   },
   {
    "duration": 69,
    "start_time": "2022-05-30T09:18:41.857Z"
   },
   {
    "duration": 768,
    "start_time": "2022-05-30T09:18:41.928Z"
   },
   {
    "duration": 110,
    "start_time": "2022-05-30T09:18:42.698Z"
   },
   {
    "duration": 20,
    "start_time": "2022-05-30T09:18:42.811Z"
   },
   {
    "duration": 624,
    "start_time": "2022-05-30T09:18:42.833Z"
   },
   {
    "duration": 26,
    "start_time": "2022-05-30T09:18:43.459Z"
   },
   {
    "duration": 26,
    "start_time": "2022-05-30T09:18:43.487Z"
   },
   {
    "duration": 251,
    "start_time": "2022-05-30T09:18:43.515Z"
   },
   {
    "duration": 326,
    "start_time": "2022-05-30T09:18:43.768Z"
   },
   {
    "duration": 466,
    "start_time": "2022-05-30T09:18:44.096Z"
   },
   {
    "duration": 22,
    "start_time": "2022-05-30T09:18:44.564Z"
   },
   {
    "duration": 46,
    "start_time": "2022-05-30T09:18:44.588Z"
   },
   {
    "duration": 4,
    "start_time": "2022-05-30T09:18:44.636Z"
   },
   {
    "duration": 67,
    "start_time": "2022-05-30T09:18:44.642Z"
   },
   {
    "duration": 39,
    "start_time": "2022-05-30T09:18:44.711Z"
   },
   {
    "duration": 40,
    "start_time": "2022-05-30T09:18:44.752Z"
   },
   {
    "duration": 27,
    "start_time": "2022-05-30T09:18:44.794Z"
   },
   {
    "duration": 101,
    "start_time": "2022-05-30T09:18:44.823Z"
   },
   {
    "duration": 443,
    "start_time": "2022-05-30T09:18:44.926Z"
   },
   {
    "duration": 18,
    "start_time": "2022-05-30T09:18:45.371Z"
   },
   {
    "duration": 33,
    "start_time": "2022-05-30T09:18:45.390Z"
   },
   {
    "duration": 110,
    "start_time": "2022-05-30T09:18:45.425Z"
   },
   {
    "duration": 55,
    "start_time": "2022-05-30T09:18:45.537Z"
   },
   {
    "duration": 330,
    "start_time": "2022-05-30T09:18:45.595Z"
   },
   {
    "duration": 17,
    "start_time": "2022-05-30T09:18:45.927Z"
   },
   {
    "duration": 310,
    "start_time": "2022-05-30T09:18:45.946Z"
   },
   {
    "duration": 13127,
    "start_time": "2022-05-30T09:18:46.258Z"
   },
   {
    "duration": 17103,
    "start_time": "2022-05-30T09:18:59.387Z"
   },
   {
    "duration": 594,
    "start_time": "2022-05-30T09:19:16.491Z"
   },
   {
    "duration": 3,
    "start_time": "2022-05-30T09:19:17.087Z"
   },
   {
    "duration": 3,
    "start_time": "2022-05-30T09:19:22.421Z"
   },
   {
    "duration": 129,
    "start_time": "2022-05-30T09:22:49.566Z"
   },
   {
    "duration": 194839,
    "start_time": "2022-05-30T09:23:06.658Z"
   },
   {
    "duration": 114273,
    "start_time": "2022-05-30T09:26:49.354Z"
   },
   {
    "duration": 4,
    "start_time": "2022-05-30T09:29:08.310Z"
   },
   {
    "duration": 916360,
    "start_time": "2022-05-30T09:29:10.574Z"
   },
   {
    "duration": 0,
    "start_time": "2022-05-30T09:44:26.937Z"
   },
   {
    "duration": 4,
    "start_time": "2022-05-30T09:46:22.899Z"
   },
   {
    "duration": 1795,
    "start_time": "2022-05-30T09:46:22.906Z"
   },
   {
    "duration": 4,
    "start_time": "2022-05-30T09:46:34.045Z"
   },
   {
    "duration": 104122,
    "start_time": "2022-05-30T09:46:34.268Z"
   },
   {
    "duration": 12,
    "start_time": "2022-05-30T09:48:23.821Z"
   },
   {
    "duration": 49,
    "start_time": "2022-05-30T09:48:38.363Z"
   },
   {
    "duration": 27,
    "start_time": "2022-05-30T09:52:27.722Z"
   },
   {
    "duration": 36,
    "start_time": "2022-05-30T09:52:53.777Z"
   },
   {
    "duration": 1465,
    "start_time": "2022-05-30T18:09:43.505Z"
   },
   {
    "duration": 1501,
    "start_time": "2022-05-30T18:09:44.972Z"
   },
   {
    "duration": 100,
    "start_time": "2022-05-30T18:09:46.474Z"
   },
   {
    "duration": 41,
    "start_time": "2022-05-30T18:09:46.576Z"
   },
   {
    "duration": 152,
    "start_time": "2022-05-30T18:09:46.619Z"
   },
   {
    "duration": 86,
    "start_time": "2022-05-30T18:09:46.773Z"
   },
   {
    "duration": 18,
    "start_time": "2022-05-30T18:09:46.861Z"
   },
   {
    "duration": 238,
    "start_time": "2022-05-30T18:09:46.880Z"
   },
   {
    "duration": 238,
    "start_time": "2022-05-30T18:09:47.120Z"
   },
   {
    "duration": 12,
    "start_time": "2022-05-30T18:09:47.362Z"
   },
   {
    "duration": 59,
    "start_time": "2022-05-30T18:09:47.376Z"
   },
   {
    "duration": 794,
    "start_time": "2022-05-30T18:09:47.448Z"
   },
   {
    "duration": 129,
    "start_time": "2022-05-30T18:09:48.245Z"
   },
   {
    "duration": 18,
    "start_time": "2022-05-30T18:09:48.375Z"
   },
   {
    "duration": 684,
    "start_time": "2022-05-30T18:09:48.394Z"
   },
   {
    "duration": 18,
    "start_time": "2022-05-30T18:09:49.080Z"
   },
   {
    "duration": 63,
    "start_time": "2022-05-30T18:09:49.100Z"
   },
   {
    "duration": 261,
    "start_time": "2022-05-30T18:09:49.165Z"
   },
   {
    "duration": 367,
    "start_time": "2022-05-30T18:09:49.428Z"
   },
   {
    "duration": 493,
    "start_time": "2022-05-30T18:09:49.797Z"
   },
   {
    "duration": 15,
    "start_time": "2022-05-30T18:09:50.292Z"
   },
   {
    "duration": 73,
    "start_time": "2022-05-30T18:09:50.309Z"
   },
   {
    "duration": 4,
    "start_time": "2022-05-30T18:09:50.384Z"
   },
   {
    "duration": 76,
    "start_time": "2022-05-30T18:09:50.390Z"
   },
   {
    "duration": 25,
    "start_time": "2022-05-30T18:09:50.468Z"
   },
   {
    "duration": 26,
    "start_time": "2022-05-30T18:09:50.494Z"
   },
   {
    "duration": 31,
    "start_time": "2022-05-30T18:09:50.548Z"
   },
   {
    "duration": 116,
    "start_time": "2022-05-30T18:09:50.584Z"
   },
   {
    "duration": 472,
    "start_time": "2022-05-30T18:09:50.702Z"
   },
   {
    "duration": 11,
    "start_time": "2022-05-30T18:09:51.176Z"
   },
   {
    "duration": 34,
    "start_time": "2022-05-30T18:09:51.188Z"
   },
   {
    "duration": 133,
    "start_time": "2022-05-30T18:09:51.223Z"
   },
   {
    "duration": 45,
    "start_time": "2022-05-30T18:09:51.369Z"
   },
   {
    "duration": 413,
    "start_time": "2022-05-30T18:09:51.415Z"
   },
   {
    "duration": 26,
    "start_time": "2022-05-30T18:09:51.830Z"
   },
   {
    "duration": 402,
    "start_time": "2022-05-30T18:09:51.861Z"
   },
   {
    "duration": 30782,
    "start_time": "2022-05-30T18:09:52.265Z"
   },
   {
    "duration": 401998,
    "start_time": "2022-05-30T18:10:23.052Z"
   },
   {
    "duration": 612,
    "start_time": "2022-05-30T18:17:05.051Z"
   },
   {
    "duration": 3,
    "start_time": "2022-05-30T18:17:05.665Z"
   },
   {
    "duration": 47,
    "start_time": "2022-05-30T18:17:05.670Z"
   },
   {
    "duration": 27,
    "start_time": "2022-05-30T18:17:05.719Z"
   },
   {
    "duration": 733456,
    "start_time": "2022-05-30T18:17:05.748Z"
   },
   {
    "duration": 14,
    "start_time": "2022-05-30T18:29:19.206Z"
   },
   {
    "duration": 0,
    "start_time": "2022-05-30T18:29:19.222Z"
   },
   {
    "duration": 13,
    "start_time": "2022-05-30T18:40:52.253Z"
   },
   {
    "duration": 4,
    "start_time": "2022-05-30T18:40:55.793Z"
   },
   {
    "duration": 3,
    "start_time": "2022-05-30T18:40:56.277Z"
   },
   {
    "duration": 548460,
    "start_time": "2022-05-30T18:41:24.036Z"
   },
   {
    "duration": 55,
    "start_time": "2022-05-30T19:50:42.494Z"
   },
   {
    "duration": 54,
    "start_time": "2022-05-31T11:02:30.290Z"
   },
   {
    "duration": 1515,
    "start_time": "2022-05-31T11:07:08.608Z"
   },
   {
    "duration": 1258,
    "start_time": "2022-05-31T11:07:10.125Z"
   },
   {
    "duration": 96,
    "start_time": "2022-05-31T11:07:11.384Z"
   },
   {
    "duration": 38,
    "start_time": "2022-05-31T11:07:11.481Z"
   },
   {
    "duration": 126,
    "start_time": "2022-05-31T11:07:11.521Z"
   },
   {
    "duration": 83,
    "start_time": "2022-05-31T11:07:11.648Z"
   },
   {
    "duration": 26,
    "start_time": "2022-05-31T11:07:11.732Z"
   },
   {
    "duration": 227,
    "start_time": "2022-05-31T11:07:11.759Z"
   },
   {
    "duration": 203,
    "start_time": "2022-05-31T11:07:11.988Z"
   },
   {
    "duration": 10,
    "start_time": "2022-05-31T11:07:12.194Z"
   },
   {
    "duration": 49,
    "start_time": "2022-05-31T11:07:12.205Z"
   },
   {
    "duration": 684,
    "start_time": "2022-05-31T11:07:12.256Z"
   },
   {
    "duration": 120,
    "start_time": "2022-05-31T11:07:12.942Z"
   },
   {
    "duration": 32,
    "start_time": "2022-05-31T11:07:13.064Z"
   },
   {
    "duration": 585,
    "start_time": "2022-05-31T11:07:13.098Z"
   },
   {
    "duration": 14,
    "start_time": "2022-05-31T11:07:13.685Z"
   },
   {
    "duration": 34,
    "start_time": "2022-05-31T11:07:13.700Z"
   },
   {
    "duration": 246,
    "start_time": "2022-05-31T11:07:13.736Z"
   },
   {
    "duration": 302,
    "start_time": "2022-05-31T11:07:13.984Z"
   },
   {
    "duration": 432,
    "start_time": "2022-05-31T11:07:14.288Z"
   },
   {
    "duration": 13,
    "start_time": "2022-05-31T11:07:14.721Z"
   },
   {
    "duration": 58,
    "start_time": "2022-05-31T11:07:14.736Z"
   },
   {
    "duration": 3,
    "start_time": "2022-05-31T11:07:14.795Z"
   },
   {
    "duration": 51,
    "start_time": "2022-05-31T11:07:14.800Z"
   },
   {
    "duration": 31,
    "start_time": "2022-05-31T11:07:14.853Z"
   },
   {
    "duration": 21,
    "start_time": "2022-05-31T11:07:14.886Z"
   },
   {
    "duration": 23,
    "start_time": "2022-05-31T11:07:14.908Z"
   },
   {
    "duration": 104,
    "start_time": "2022-05-31T11:07:14.933Z"
   },
   {
    "duration": 460,
    "start_time": "2022-05-31T11:07:15.039Z"
   },
   {
    "duration": 10,
    "start_time": "2022-05-31T11:07:15.500Z"
   },
   {
    "duration": 31,
    "start_time": "2022-05-31T11:07:15.511Z"
   },
   {
    "duration": 112,
    "start_time": "2022-05-31T11:07:15.544Z"
   },
   {
    "duration": 42,
    "start_time": "2022-05-31T11:07:39.280Z"
   },
   {
    "duration": 43,
    "start_time": "2022-05-31T11:08:05.224Z"
   },
   {
    "duration": 49,
    "start_time": "2022-05-31T11:08:07.859Z"
   },
   {
    "duration": 456,
    "start_time": "2022-05-31T11:08:43.062Z"
   },
   {
    "duration": 412,
    "start_time": "2022-05-31T11:09:26.503Z"
   },
   {
    "duration": 24,
    "start_time": "2022-05-31T11:09:37.388Z"
   },
   {
    "duration": 45,
    "start_time": "2022-05-31T11:09:39.223Z"
   },
   {
    "duration": 17,
    "start_time": "2022-05-31T11:09:58.188Z"
   },
   {
    "duration": 56,
    "start_time": "2022-05-31T11:09:58.738Z"
   },
   {
    "duration": 57,
    "start_time": "2022-05-31T11:11:32.230Z"
   },
   {
    "duration": 1132,
    "start_time": "2022-05-31T11:11:39.297Z"
   },
   {
    "duration": 833,
    "start_time": "2022-05-31T11:11:40.430Z"
   },
   {
    "duration": 90,
    "start_time": "2022-05-31T11:11:41.264Z"
   },
   {
    "duration": 48,
    "start_time": "2022-05-31T11:11:41.356Z"
   },
   {
    "duration": 125,
    "start_time": "2022-05-31T11:11:41.406Z"
   },
   {
    "duration": 76,
    "start_time": "2022-05-31T11:11:41.532Z"
   },
   {
    "duration": 23,
    "start_time": "2022-05-31T11:11:41.610Z"
   },
   {
    "duration": 183,
    "start_time": "2022-05-31T11:11:41.635Z"
   },
   {
    "duration": 203,
    "start_time": "2022-05-31T11:11:41.820Z"
   },
   {
    "duration": 9,
    "start_time": "2022-05-31T11:11:42.024Z"
   },
   {
    "duration": 57,
    "start_time": "2022-05-31T11:11:42.035Z"
   },
   {
    "duration": 672,
    "start_time": "2022-05-31T11:11:42.094Z"
   },
   {
    "duration": 90,
    "start_time": "2022-05-31T11:11:42.768Z"
   },
   {
    "duration": 28,
    "start_time": "2022-05-31T11:11:42.861Z"
   },
   {
    "duration": 564,
    "start_time": "2022-05-31T11:11:42.890Z"
   },
   {
    "duration": 19,
    "start_time": "2022-05-31T11:11:43.456Z"
   },
   {
    "duration": 39,
    "start_time": "2022-05-31T11:11:43.477Z"
   },
   {
    "duration": 226,
    "start_time": "2022-05-31T11:11:43.517Z"
   },
   {
    "duration": 291,
    "start_time": "2022-05-31T11:11:43.745Z"
   },
   {
    "duration": 408,
    "start_time": "2022-05-31T11:11:44.037Z"
   },
   {
    "duration": 13,
    "start_time": "2022-05-31T11:11:44.446Z"
   },
   {
    "duration": 60,
    "start_time": "2022-05-31T11:11:44.461Z"
   },
   {
    "duration": 3,
    "start_time": "2022-05-31T11:11:44.522Z"
   },
   {
    "duration": 76,
    "start_time": "2022-05-31T11:11:44.526Z"
   },
   {
    "duration": 21,
    "start_time": "2022-05-31T11:11:44.603Z"
   },
   {
    "duration": 51,
    "start_time": "2022-05-31T11:11:44.626Z"
   },
   {
    "duration": 45,
    "start_time": "2022-05-31T11:11:44.678Z"
   },
   {
    "duration": 86,
    "start_time": "2022-05-31T11:11:44.724Z"
   },
   {
    "duration": 430,
    "start_time": "2022-05-31T11:11:44.811Z"
   },
   {
    "duration": 11,
    "start_time": "2022-05-31T11:11:45.243Z"
   },
   {
    "duration": 52,
    "start_time": "2022-05-31T11:11:45.255Z"
   },
   {
    "duration": 16,
    "start_time": "2022-05-31T11:11:45.309Z"
   },
   {
    "duration": 124,
    "start_time": "2022-05-31T11:11:45.326Z"
   },
   {
    "duration": 3,
    "start_time": "2022-05-31T11:19:12.254Z"
   },
   {
    "duration": 3,
    "start_time": "2022-05-31T11:20:44.267Z"
   },
   {
    "duration": 3,
    "start_time": "2022-05-31T11:20:47.429Z"
   },
   {
    "duration": 3,
    "start_time": "2022-05-31T11:24:44.577Z"
   },
   {
    "duration": 167,
    "start_time": "2022-05-31T11:24:44.978Z"
   },
   {
    "duration": 52,
    "start_time": "2022-05-31T11:24:49.779Z"
   },
   {
    "duration": 3,
    "start_time": "2022-05-31T11:24:50.274Z"
   },
   {
    "duration": 4,
    "start_time": "2022-05-31T11:24:52.389Z"
   },
   {
    "duration": 105,
    "start_time": "2022-05-31T11:24:52.525Z"
   },
   {
    "duration": 1178,
    "start_time": "2022-05-31T11:25:15.010Z"
   },
   {
    "duration": 868,
    "start_time": "2022-05-31T11:25:16.190Z"
   },
   {
    "duration": 92,
    "start_time": "2022-05-31T11:25:17.060Z"
   },
   {
    "duration": 46,
    "start_time": "2022-05-31T11:25:17.154Z"
   },
   {
    "duration": 127,
    "start_time": "2022-05-31T11:25:17.202Z"
   },
   {
    "duration": 92,
    "start_time": "2022-05-31T11:25:17.330Z"
   },
   {
    "duration": 26,
    "start_time": "2022-05-31T11:25:17.424Z"
   },
   {
    "duration": 212,
    "start_time": "2022-05-31T11:25:17.451Z"
   },
   {
    "duration": 206,
    "start_time": "2022-05-31T11:25:17.665Z"
   },
   {
    "duration": 12,
    "start_time": "2022-05-31T11:25:17.875Z"
   },
   {
    "duration": 62,
    "start_time": "2022-05-31T11:25:17.889Z"
   },
   {
    "duration": 676,
    "start_time": "2022-05-31T11:25:17.952Z"
   },
   {
    "duration": 123,
    "start_time": "2022-05-31T11:25:18.630Z"
   },
   {
    "duration": 31,
    "start_time": "2022-05-31T11:25:18.754Z"
   },
   {
    "duration": 587,
    "start_time": "2022-05-31T11:25:18.786Z"
   },
   {
    "duration": 14,
    "start_time": "2022-05-31T11:25:19.374Z"
   },
   {
    "duration": 38,
    "start_time": "2022-05-31T11:25:19.389Z"
   },
   {
    "duration": 248,
    "start_time": "2022-05-31T11:25:19.429Z"
   },
   {
    "duration": 313,
    "start_time": "2022-05-31T11:25:19.678Z"
   },
   {
    "duration": 422,
    "start_time": "2022-05-31T11:25:19.993Z"
   },
   {
    "duration": 14,
    "start_time": "2022-05-31T11:25:20.417Z"
   },
   {
    "duration": 66,
    "start_time": "2022-05-31T11:25:20.433Z"
   },
   {
    "duration": 4,
    "start_time": "2022-05-31T11:25:20.501Z"
   },
   {
    "duration": 50,
    "start_time": "2022-05-31T11:25:20.507Z"
   },
   {
    "duration": 22,
    "start_time": "2022-05-31T11:25:20.574Z"
   },
   {
    "duration": 30,
    "start_time": "2022-05-31T11:25:20.598Z"
   },
   {
    "duration": 25,
    "start_time": "2022-05-31T11:25:20.630Z"
   },
   {
    "duration": 106,
    "start_time": "2022-05-31T11:25:20.674Z"
   },
   {
    "duration": 426,
    "start_time": "2022-05-31T11:25:20.781Z"
   },
   {
    "duration": 11,
    "start_time": "2022-05-31T11:25:21.209Z"
   },
   {
    "duration": 31,
    "start_time": "2022-05-31T11:25:21.222Z"
   },
   {
    "duration": 41,
    "start_time": "2022-05-31T11:25:21.255Z"
   },
   {
    "duration": 138,
    "start_time": "2022-05-31T11:25:21.298Z"
   },
   {
    "duration": 56,
    "start_time": "2022-05-31T11:25:21.438Z"
   },
   {
    "duration": 455,
    "start_time": "2022-05-31T11:25:21.495Z"
   },
   {
    "duration": 16,
    "start_time": "2022-05-31T11:25:21.952Z"
   },
   {
    "duration": 413,
    "start_time": "2022-05-31T11:25:21.975Z"
   },
   {
    "duration": 3,
    "start_time": "2022-05-31T11:25:22.392Z"
   },
   {
    "duration": 25,
    "start_time": "2022-05-31T11:25:22.397Z"
   },
   {
    "duration": 18856,
    "start_time": "2022-05-31T11:25:24.923Z"
   },
   {
    "duration": 4,
    "start_time": "2022-05-31T11:25:57.860Z"
   },
   {
    "duration": 3,
    "start_time": "2022-05-31T11:26:14.800Z"
   },
   {
    "duration": 289,
    "start_time": "2022-05-31T11:30:39.012Z"
   },
   {
    "duration": 423,
    "start_time": "2022-05-31T11:36:32.252Z"
   },
   {
    "duration": 12126,
    "start_time": "2022-05-31T11:36:55.250Z"
   },
   {
    "duration": 206,
    "start_time": "2022-05-31T11:37:07.378Z"
   },
   {
    "duration": 3,
    "start_time": "2022-05-31T11:37:53.892Z"
   },
   {
    "duration": 2,
    "start_time": "2022-05-31T11:37:56.189Z"
   },
   {
    "duration": 13316,
    "start_time": "2022-05-31T11:37:56.659Z"
   },
   {
    "duration": 206,
    "start_time": "2022-05-31T11:38:09.977Z"
   },
   {
    "duration": 6,
    "start_time": "2022-05-31T11:38:19.904Z"
   },
   {
    "duration": 151,
    "start_time": "2022-05-31T11:39:13.432Z"
   },
   {
    "duration": 231,
    "start_time": "2022-05-31T11:40:09.745Z"
   },
   {
    "duration": 2,
    "start_time": "2022-05-31T11:40:35.638Z"
   },
   {
    "duration": 2,
    "start_time": "2022-05-31T11:40:36.408Z"
   },
   {
    "duration": 12997,
    "start_time": "2022-05-31T11:40:36.583Z"
   },
   {
    "duration": 201,
    "start_time": "2022-05-31T11:40:49.581Z"
   },
   {
    "duration": 6,
    "start_time": "2022-05-31T11:40:53.706Z"
   },
   {
    "duration": 6795,
    "start_time": "2022-05-31T11:42:05.488Z"
   },
   {
    "duration": 9,
    "start_time": "2022-05-31T11:42:20.182Z"
   },
   {
    "duration": 610,
    "start_time": "2022-05-31T11:42:32.380Z"
   },
   {
    "duration": 565,
    "start_time": "2022-05-31T11:48:37.526Z"
   },
   {
    "duration": 157,
    "start_time": "2022-05-31T11:49:57.701Z"
   },
   {
    "duration": 9,
    "start_time": "2022-05-31T11:50:04.810Z"
   },
   {
    "duration": 5,
    "start_time": "2022-05-31T11:50:18.648Z"
   },
   {
    "duration": 27,
    "start_time": "2022-05-31T11:51:22.463Z"
   },
   {
    "duration": 19,
    "start_time": "2022-05-31T11:51:25.028Z"
   },
   {
    "duration": 3,
    "start_time": "2022-05-31T11:51:25.200Z"
   },
   {
    "duration": 24,
    "start_time": "2022-05-31T11:51:38.908Z"
   },
   {
    "duration": 19,
    "start_time": "2022-05-31T11:51:46.076Z"
   },
   {
    "duration": 8,
    "start_time": "2022-05-31T11:51:53.908Z"
   },
   {
    "duration": 3,
    "start_time": "2022-05-31T11:52:13.614Z"
   },
   {
    "duration": 3,
    "start_time": "2022-05-31T11:52:18.704Z"
   },
   {
    "duration": 70076,
    "start_time": "2022-05-31T11:52:45.706Z"
   },
   {
    "duration": 2,
    "start_time": "2022-05-31T11:54:39.898Z"
   },
   {
    "duration": 10,
    "start_time": "2022-05-31T11:57:28.712Z"
   },
   {
    "duration": 12,
    "start_time": "2022-05-31T11:59:07.342Z"
   },
   {
    "duration": 1223,
    "start_time": "2022-05-31T11:59:27.362Z"
   },
   {
    "duration": 871,
    "start_time": "2022-05-31T11:59:28.587Z"
   },
   {
    "duration": 94,
    "start_time": "2022-05-31T11:59:29.460Z"
   },
   {
    "duration": 49,
    "start_time": "2022-05-31T11:59:29.556Z"
   },
   {
    "duration": 121,
    "start_time": "2022-05-31T11:59:29.606Z"
   },
   {
    "duration": 81,
    "start_time": "2022-05-31T11:59:29.728Z"
   },
   {
    "duration": 26,
    "start_time": "2022-05-31T11:59:29.810Z"
   },
   {
    "duration": 194,
    "start_time": "2022-05-31T11:59:29.837Z"
   },
   {
    "duration": 212,
    "start_time": "2022-05-31T11:59:30.032Z"
   },
   {
    "duration": 10,
    "start_time": "2022-05-31T11:59:30.246Z"
   },
   {
    "duration": 69,
    "start_time": "2022-05-31T11:59:30.257Z"
   },
   {
    "duration": 667,
    "start_time": "2022-05-31T11:59:30.327Z"
   },
   {
    "duration": 96,
    "start_time": "2022-05-31T11:59:30.996Z"
   },
   {
    "duration": 20,
    "start_time": "2022-05-31T11:59:31.093Z"
   },
   {
    "duration": 568,
    "start_time": "2022-05-31T11:59:31.115Z"
   },
   {
    "duration": 12,
    "start_time": "2022-05-31T11:59:31.685Z"
   },
   {
    "duration": 22,
    "start_time": "2022-05-31T11:59:31.698Z"
   },
   {
    "duration": 268,
    "start_time": "2022-05-31T11:59:31.722Z"
   },
   {
    "duration": 319,
    "start_time": "2022-05-31T11:59:31.992Z"
   },
   {
    "duration": 481,
    "start_time": "2022-05-31T11:59:32.313Z"
   },
   {
    "duration": 13,
    "start_time": "2022-05-31T11:59:32.796Z"
   },
   {
    "duration": 42,
    "start_time": "2022-05-31T11:59:32.811Z"
   },
   {
    "duration": 21,
    "start_time": "2022-05-31T11:59:32.855Z"
   },
   {
    "duration": 48,
    "start_time": "2022-05-31T11:59:32.877Z"
   },
   {
    "duration": 22,
    "start_time": "2022-05-31T11:59:32.927Z"
   },
   {
    "duration": 43,
    "start_time": "2022-05-31T11:59:32.950Z"
   },
   {
    "duration": 25,
    "start_time": "2022-05-31T11:59:32.994Z"
   },
   {
    "duration": 90,
    "start_time": "2022-05-31T11:59:33.023Z"
   },
   {
    "duration": 416,
    "start_time": "2022-05-31T11:59:33.115Z"
   },
   {
    "duration": 10,
    "start_time": "2022-05-31T11:59:33.533Z"
   },
   {
    "duration": 45,
    "start_time": "2022-05-31T11:59:33.544Z"
   },
   {
    "duration": 17,
    "start_time": "2022-05-31T11:59:33.590Z"
   },
   {
    "duration": 130,
    "start_time": "2022-05-31T11:59:33.609Z"
   },
   {
    "duration": 57,
    "start_time": "2022-05-31T11:59:33.740Z"
   },
   {
    "duration": 394,
    "start_time": "2022-05-31T11:59:33.799Z"
   },
   {
    "duration": 16,
    "start_time": "2022-05-31T11:59:34.194Z"
   },
   {
    "duration": 438,
    "start_time": "2022-05-31T11:59:34.212Z"
   },
   {
    "duration": 3,
    "start_time": "2022-05-31T11:59:34.652Z"
   },
   {
    "duration": 9,
    "start_time": "2022-05-31T11:59:34.657Z"
   },
   {
    "duration": 15204,
    "start_time": "2022-05-31T11:59:34.674Z"
   },
   {
    "duration": 202,
    "start_time": "2022-05-31T11:59:49.880Z"
   },
   {
    "duration": 93,
    "start_time": "2022-05-31T11:59:50.084Z"
   },
   {
    "duration": 12208,
    "start_time": "2022-05-31T11:59:50.178Z"
   },
   {
    "duration": 696,
    "start_time": "2022-05-31T12:00:02.388Z"
   },
   {
    "duration": 8,
    "start_time": "2022-05-31T12:00:03.085Z"
   },
   {
    "duration": 3,
    "start_time": "2022-05-31T12:07:36.804Z"
   },
   {
    "duration": 10372,
    "start_time": "2022-05-31T12:07:37.104Z"
   },
   {
    "duration": 946,
    "start_time": "2022-05-31T12:07:55.943Z"
   },
   {
    "duration": 8,
    "start_time": "2022-05-31T12:07:56.891Z"
   },
   {
    "duration": 1176,
    "start_time": "2022-05-31T12:09:48.910Z"
   },
   {
    "duration": 884,
    "start_time": "2022-05-31T12:09:50.088Z"
   },
   {
    "duration": 90,
    "start_time": "2022-05-31T12:09:50.974Z"
   },
   {
    "duration": 40,
    "start_time": "2022-05-31T12:09:51.074Z"
   },
   {
    "duration": 130,
    "start_time": "2022-05-31T12:09:51.116Z"
   },
   {
    "duration": 79,
    "start_time": "2022-05-31T12:09:51.248Z"
   },
   {
    "duration": 23,
    "start_time": "2022-05-31T12:09:51.329Z"
   },
   {
    "duration": 194,
    "start_time": "2022-05-31T12:09:51.354Z"
   },
   {
    "duration": 211,
    "start_time": "2022-05-31T12:09:51.549Z"
   },
   {
    "duration": 14,
    "start_time": "2022-05-31T12:09:51.762Z"
   },
   {
    "duration": 56,
    "start_time": "2022-05-31T12:09:51.778Z"
   },
   {
    "duration": 692,
    "start_time": "2022-05-31T12:09:51.836Z"
   },
   {
    "duration": 103,
    "start_time": "2022-05-31T12:09:52.530Z"
   },
   {
    "duration": 19,
    "start_time": "2022-05-31T12:09:52.635Z"
   },
   {
    "duration": 590,
    "start_time": "2022-05-31T12:09:52.655Z"
   },
   {
    "duration": 12,
    "start_time": "2022-05-31T12:09:53.247Z"
   },
   {
    "duration": 34,
    "start_time": "2022-05-31T12:09:53.261Z"
   },
   {
    "duration": 235,
    "start_time": "2022-05-31T12:09:53.296Z"
   },
   {
    "duration": 305,
    "start_time": "2022-05-31T12:09:53.532Z"
   },
   {
    "duration": 434,
    "start_time": "2022-05-31T12:09:53.838Z"
   },
   {
    "duration": 13,
    "start_time": "2022-05-31T12:09:54.274Z"
   },
   {
    "duration": 42,
    "start_time": "2022-05-31T12:09:54.288Z"
   },
   {
    "duration": 4,
    "start_time": "2022-05-31T12:09:54.331Z"
   },
   {
    "duration": 71,
    "start_time": "2022-05-31T12:09:54.336Z"
   },
   {
    "duration": 23,
    "start_time": "2022-05-31T12:09:54.408Z"
   },
   {
    "duration": 22,
    "start_time": "2022-05-31T12:09:54.432Z"
   },
   {
    "duration": 35,
    "start_time": "2022-05-31T12:09:54.456Z"
   },
   {
    "duration": 83,
    "start_time": "2022-05-31T12:09:54.494Z"
   },
   {
    "duration": 427,
    "start_time": "2022-05-31T12:09:54.578Z"
   },
   {
    "duration": 10,
    "start_time": "2022-05-31T12:09:55.007Z"
   },
   {
    "duration": 33,
    "start_time": "2022-05-31T12:09:55.019Z"
   },
   {
    "duration": 35,
    "start_time": "2022-05-31T12:09:55.054Z"
   },
   {
    "duration": 122,
    "start_time": "2022-05-31T12:09:55.091Z"
   },
   {
    "duration": 62,
    "start_time": "2022-05-31T12:09:55.214Z"
   },
   {
    "duration": 347,
    "start_time": "2022-05-31T12:09:55.278Z"
   },
   {
    "duration": 17,
    "start_time": "2022-05-31T12:09:55.626Z"
   },
   {
    "duration": 354,
    "start_time": "2022-05-31T12:09:55.645Z"
   },
   {
    "duration": 3,
    "start_time": "2022-05-31T12:09:56.002Z"
   },
   {
    "duration": 17,
    "start_time": "2022-05-31T12:09:56.006Z"
   },
   {
    "duration": 14452,
    "start_time": "2022-05-31T12:09:56.025Z"
   },
   {
    "duration": 202,
    "start_time": "2022-05-31T12:10:10.479Z"
   },
   {
    "duration": 91,
    "start_time": "2022-05-31T12:10:10.685Z"
   },
   {
    "duration": 9014,
    "start_time": "2022-05-31T12:10:10.778Z"
   },
   {
    "duration": 614,
    "start_time": "2022-05-31T12:10:19.876Z"
   },
   {
    "duration": 81,
    "start_time": "2022-05-31T12:10:20.494Z"
   },
   {
    "duration": 1265,
    "start_time": "2022-05-31T12:11:08.195Z"
   },
   {
    "duration": 921,
    "start_time": "2022-05-31T12:11:09.461Z"
   },
   {
    "duration": 99,
    "start_time": "2022-05-31T12:11:10.383Z"
   },
   {
    "duration": 43,
    "start_time": "2022-05-31T12:11:10.484Z"
   },
   {
    "duration": 134,
    "start_time": "2022-05-31T12:11:10.528Z"
   },
   {
    "duration": 77,
    "start_time": "2022-05-31T12:11:10.664Z"
   },
   {
    "duration": 33,
    "start_time": "2022-05-31T12:11:10.743Z"
   },
   {
    "duration": 183,
    "start_time": "2022-05-31T12:11:10.777Z"
   },
   {
    "duration": 207,
    "start_time": "2022-05-31T12:11:10.962Z"
   },
   {
    "duration": 12,
    "start_time": "2022-05-31T12:11:11.171Z"
   },
   {
    "duration": 50,
    "start_time": "2022-05-31T12:11:11.184Z"
   },
   {
    "duration": 675,
    "start_time": "2022-05-31T12:11:11.236Z"
   },
   {
    "duration": 100,
    "start_time": "2022-05-31T12:11:11.913Z"
   },
   {
    "duration": 20,
    "start_time": "2022-05-31T12:11:12.015Z"
   },
   {
    "duration": 627,
    "start_time": "2022-05-31T12:11:12.037Z"
   },
   {
    "duration": 20,
    "start_time": "2022-05-31T12:11:12.666Z"
   },
   {
    "duration": 28,
    "start_time": "2022-05-31T12:11:12.688Z"
   },
   {
    "duration": 276,
    "start_time": "2022-05-31T12:11:12.718Z"
   },
   {
    "duration": 298,
    "start_time": "2022-05-31T12:11:12.996Z"
   },
   {
    "duration": 416,
    "start_time": "2022-05-31T12:11:13.296Z"
   },
   {
    "duration": 13,
    "start_time": "2022-05-31T12:11:13.714Z"
   },
   {
    "duration": 55,
    "start_time": "2022-05-31T12:11:13.729Z"
   },
   {
    "duration": 3,
    "start_time": "2022-05-31T12:11:13.786Z"
   },
   {
    "duration": 50,
    "start_time": "2022-05-31T12:11:13.791Z"
   },
   {
    "duration": 36,
    "start_time": "2022-05-31T12:11:13.843Z"
   },
   {
    "duration": 25,
    "start_time": "2022-05-31T12:11:13.880Z"
   },
   {
    "duration": 24,
    "start_time": "2022-05-31T12:11:13.907Z"
   },
   {
    "duration": 101,
    "start_time": "2022-05-31T12:11:13.936Z"
   },
   {
    "duration": 447,
    "start_time": "2022-05-31T12:11:14.039Z"
   },
   {
    "duration": 10,
    "start_time": "2022-05-31T12:11:14.488Z"
   },
   {
    "duration": 35,
    "start_time": "2022-05-31T12:11:14.500Z"
   },
   {
    "duration": 39,
    "start_time": "2022-05-31T12:11:14.536Z"
   },
   {
    "duration": 116,
    "start_time": "2022-05-31T12:11:14.577Z"
   },
   {
    "duration": 49,
    "start_time": "2022-05-31T12:11:14.694Z"
   },
   {
    "duration": 437,
    "start_time": "2022-05-31T12:11:14.745Z"
   },
   {
    "duration": 15,
    "start_time": "2022-05-31T12:11:15.184Z"
   },
   {
    "duration": 376,
    "start_time": "2022-05-31T12:11:15.201Z"
   },
   {
    "duration": 3,
    "start_time": "2022-05-31T12:11:15.579Z"
   },
   {
    "duration": 6,
    "start_time": "2022-05-31T12:11:15.584Z"
   },
   {
    "duration": 12384,
    "start_time": "2022-05-31T12:11:15.591Z"
   },
   {
    "duration": 204,
    "start_time": "2022-05-31T12:11:27.977Z"
   },
   {
    "duration": 93,
    "start_time": "2022-05-31T12:11:28.183Z"
   },
   {
    "duration": 6607,
    "start_time": "2022-05-31T12:11:28.278Z"
   },
   {
    "duration": 700,
    "start_time": "2022-05-31T12:11:34.887Z"
   },
   {
    "duration": 8,
    "start_time": "2022-05-31T12:11:35.588Z"
   },
   {
    "duration": 2,
    "start_time": "2022-05-31T12:13:20.470Z"
   },
   {
    "duration": 1293,
    "start_time": "2022-05-31T12:14:05.155Z"
   },
   {
    "duration": 1013,
    "start_time": "2022-05-31T12:14:06.450Z"
   },
   {
    "duration": 114,
    "start_time": "2022-05-31T12:14:07.465Z"
   },
   {
    "duration": 42,
    "start_time": "2022-05-31T12:14:07.582Z"
   },
   {
    "duration": 141,
    "start_time": "2022-05-31T12:14:07.626Z"
   },
   {
    "duration": 75,
    "start_time": "2022-05-31T12:14:07.769Z"
   },
   {
    "duration": 40,
    "start_time": "2022-05-31T12:14:07.845Z"
   },
   {
    "duration": 198,
    "start_time": "2022-05-31T12:14:07.887Z"
   },
   {
    "duration": 213,
    "start_time": "2022-05-31T12:14:08.087Z"
   },
   {
    "duration": 12,
    "start_time": "2022-05-31T12:14:08.303Z"
   },
   {
    "duration": 65,
    "start_time": "2022-05-31T12:14:08.316Z"
   },
   {
    "duration": 748,
    "start_time": "2022-05-31T12:14:08.382Z"
   },
   {
    "duration": 104,
    "start_time": "2022-05-31T12:14:09.132Z"
   },
   {
    "duration": 21,
    "start_time": "2022-05-31T12:14:09.238Z"
   },
   {
    "duration": 617,
    "start_time": "2022-05-31T12:14:09.260Z"
   },
   {
    "duration": 15,
    "start_time": "2022-05-31T12:14:09.880Z"
   },
   {
    "duration": 22,
    "start_time": "2022-05-31T12:14:09.898Z"
   },
   {
    "duration": 255,
    "start_time": "2022-05-31T12:14:09.921Z"
   },
   {
    "duration": 327,
    "start_time": "2022-05-31T12:14:10.177Z"
   },
   {
    "duration": 448,
    "start_time": "2022-05-31T12:14:10.505Z"
   },
   {
    "duration": 24,
    "start_time": "2022-05-31T12:14:10.954Z"
   },
   {
    "duration": 46,
    "start_time": "2022-05-31T12:14:10.980Z"
   },
   {
    "duration": 5,
    "start_time": "2022-05-31T12:14:11.027Z"
   },
   {
    "duration": 69,
    "start_time": "2022-05-31T12:14:11.034Z"
   },
   {
    "duration": 24,
    "start_time": "2022-05-31T12:14:11.104Z"
   },
   {
    "duration": 45,
    "start_time": "2022-05-31T12:14:11.130Z"
   },
   {
    "duration": 24,
    "start_time": "2022-05-31T12:14:11.176Z"
   },
   {
    "duration": 88,
    "start_time": "2022-05-31T12:14:11.203Z"
   },
   {
    "duration": 437,
    "start_time": "2022-05-31T12:14:11.293Z"
   },
   {
    "duration": 11,
    "start_time": "2022-05-31T12:14:11.731Z"
   },
   {
    "duration": 46,
    "start_time": "2022-05-31T12:14:11.744Z"
   },
   {
    "duration": 20,
    "start_time": "2022-05-31T12:14:11.792Z"
   },
   {
    "duration": 139,
    "start_time": "2022-05-31T12:14:11.814Z"
   },
   {
    "duration": 62,
    "start_time": "2022-05-31T12:14:11.955Z"
   },
   {
    "duration": 541,
    "start_time": "2022-05-31T12:14:12.019Z"
   },
   {
    "duration": 23,
    "start_time": "2022-05-31T12:14:12.562Z"
   },
   {
    "duration": 333,
    "start_time": "2022-05-31T12:14:12.588Z"
   },
   {
    "duration": 3,
    "start_time": "2022-05-31T12:14:12.924Z"
   },
   {
    "duration": 6,
    "start_time": "2022-05-31T12:14:12.929Z"
   },
   {
    "duration": 19241,
    "start_time": "2022-05-31T12:14:12.936Z"
   },
   {
    "duration": 296,
    "start_time": "2022-05-31T12:14:32.179Z"
   },
   {
    "duration": 4,
    "start_time": "2022-05-31T12:14:36.534Z"
   },
   {
    "duration": 11780,
    "start_time": "2022-05-31T12:14:38.099Z"
   },
   {
    "duration": 207,
    "start_time": "2022-05-31T12:14:49.881Z"
   },
   {
    "duration": 91,
    "start_time": "2022-05-31T12:14:50.089Z"
   },
   {
    "duration": 3,
    "start_time": "2022-05-31T12:15:12.434Z"
   },
   {
    "duration": 34550,
    "start_time": "2022-05-31T12:15:13.534Z"
   },
   {
    "duration": 5515,
    "start_time": "2022-05-31T12:15:48.086Z"
   },
   {
    "duration": 9,
    "start_time": "2022-05-31T12:15:53.602Z"
   },
   {
    "duration": 5482,
    "start_time": "2022-05-31T12:16:32.604Z"
   },
   {
    "duration": 8,
    "start_time": "2022-05-31T12:16:38.088Z"
   },
   {
    "duration": 3,
    "start_time": "2022-05-31T12:21:52.952Z"
   },
   {
    "duration": 36024,
    "start_time": "2022-05-31T12:21:53.759Z"
   },
   {
    "duration": 13,
    "start_time": "2022-05-31T13:06:30.860Z"
   },
   {
    "duration": 4,
    "start_time": "2022-05-31T13:06:55.267Z"
   },
   {
    "duration": 3,
    "start_time": "2022-05-31T13:07:36.932Z"
   },
   {
    "duration": 50973,
    "start_time": "2022-05-31T13:07:36.937Z"
   },
   {
    "duration": 1269,
    "start_time": "2022-05-31T13:08:41.924Z"
   },
   {
    "duration": 900,
    "start_time": "2022-05-31T13:08:43.195Z"
   },
   {
    "duration": 106,
    "start_time": "2022-05-31T13:08:44.097Z"
   },
   {
    "duration": 43,
    "start_time": "2022-05-31T13:08:44.205Z"
   },
   {
    "duration": 140,
    "start_time": "2022-05-31T13:08:44.250Z"
   },
   {
    "duration": 96,
    "start_time": "2022-05-31T13:08:44.392Z"
   },
   {
    "duration": 25,
    "start_time": "2022-05-31T13:08:44.490Z"
   },
   {
    "duration": 200,
    "start_time": "2022-05-31T13:08:44.516Z"
   },
   {
    "duration": 222,
    "start_time": "2022-05-31T13:08:44.718Z"
   },
   {
    "duration": 10,
    "start_time": "2022-05-31T13:08:44.942Z"
   },
   {
    "duration": 63,
    "start_time": "2022-05-31T13:08:44.954Z"
   },
   {
    "duration": 727,
    "start_time": "2022-05-31T13:08:45.018Z"
   },
   {
    "duration": 122,
    "start_time": "2022-05-31T13:08:45.747Z"
   },
   {
    "duration": 24,
    "start_time": "2022-05-31T13:08:45.876Z"
   },
   {
    "duration": 657,
    "start_time": "2022-05-31T13:08:45.902Z"
   },
   {
    "duration": 25,
    "start_time": "2022-05-31T13:08:46.561Z"
   },
   {
    "duration": 36,
    "start_time": "2022-05-31T13:08:46.588Z"
   },
   {
    "duration": 285,
    "start_time": "2022-05-31T13:08:46.626Z"
   },
   {
    "duration": 366,
    "start_time": "2022-05-31T13:08:46.913Z"
   },
   {
    "duration": 481,
    "start_time": "2022-05-31T13:08:47.281Z"
   },
   {
    "duration": 22,
    "start_time": "2022-05-31T13:08:47.764Z"
   },
   {
    "duration": 44,
    "start_time": "2022-05-31T13:08:47.788Z"
   },
   {
    "duration": 5,
    "start_time": "2022-05-31T13:08:47.834Z"
   },
   {
    "duration": 73,
    "start_time": "2022-05-31T13:08:47.840Z"
   },
   {
    "duration": 32,
    "start_time": "2022-05-31T13:08:47.915Z"
   },
   {
    "duration": 51,
    "start_time": "2022-05-31T13:08:47.949Z"
   },
   {
    "duration": 31,
    "start_time": "2022-05-31T13:08:48.001Z"
   },
   {
    "duration": 85,
    "start_time": "2022-05-31T13:08:48.034Z"
   },
   {
    "duration": 433,
    "start_time": "2022-05-31T13:08:48.121Z"
   },
   {
    "duration": 20,
    "start_time": "2022-05-31T13:08:48.556Z"
   },
   {
    "duration": 32,
    "start_time": "2022-05-31T13:08:48.578Z"
   },
   {
    "duration": 17,
    "start_time": "2022-05-31T13:08:48.612Z"
   },
   {
    "duration": 138,
    "start_time": "2022-05-31T13:08:48.631Z"
   },
   {
    "duration": 53,
    "start_time": "2022-05-31T13:08:48.775Z"
   },
   {
    "duration": 384,
    "start_time": "2022-05-31T13:08:48.829Z"
   },
   {
    "duration": 18,
    "start_time": "2022-05-31T13:08:49.214Z"
   },
   {
    "duration": 342,
    "start_time": "2022-05-31T13:08:49.233Z"
   },
   {
    "duration": 2,
    "start_time": "2022-05-31T13:08:49.577Z"
   },
   {
    "duration": 14,
    "start_time": "2022-05-31T13:08:49.581Z"
   },
   {
    "duration": 16586,
    "start_time": "2022-05-31T13:08:49.596Z"
   },
   {
    "duration": 289,
    "start_time": "2022-05-31T13:09:06.186Z"
   },
   {
    "duration": 3,
    "start_time": "2022-05-31T13:09:06.478Z"
   },
   {
    "duration": 1265,
    "start_time": "2022-05-31T13:26:45.926Z"
   },
   {
    "duration": 910,
    "start_time": "2022-05-31T13:26:47.193Z"
   },
   {
    "duration": 99,
    "start_time": "2022-05-31T13:26:48.105Z"
   },
   {
    "duration": 41,
    "start_time": "2022-05-31T13:26:48.207Z"
   },
   {
    "duration": 140,
    "start_time": "2022-05-31T13:26:48.250Z"
   },
   {
    "duration": 86,
    "start_time": "2022-05-31T13:26:48.392Z"
   },
   {
    "duration": 26,
    "start_time": "2022-05-31T13:26:48.479Z"
   },
   {
    "duration": 211,
    "start_time": "2022-05-31T13:26:48.506Z"
   },
   {
    "duration": 473,
    "start_time": "2022-05-31T13:26:48.719Z"
   },
   {
    "duration": 14,
    "start_time": "2022-05-31T13:26:49.195Z"
   },
   {
    "duration": 165,
    "start_time": "2022-05-31T13:26:49.211Z"
   },
   {
    "duration": 791,
    "start_time": "2022-05-31T13:26:49.378Z"
   },
   {
    "duration": 89,
    "start_time": "2022-05-31T13:26:50.174Z"
   },
   {
    "duration": 29,
    "start_time": "2022-05-31T13:26:50.265Z"
   },
   {
    "duration": 618,
    "start_time": "2022-05-31T13:26:50.296Z"
   },
   {
    "duration": 13,
    "start_time": "2022-05-31T13:26:50.915Z"
   },
   {
    "duration": 26,
    "start_time": "2022-05-31T13:26:50.929Z"
   },
   {
    "duration": 245,
    "start_time": "2022-05-31T13:26:50.957Z"
   },
   {
    "duration": 326,
    "start_time": "2022-05-31T13:26:51.204Z"
   },
   {
    "duration": 460,
    "start_time": "2022-05-31T13:26:51.532Z"
   },
   {
    "duration": 14,
    "start_time": "2022-05-31T13:26:51.994Z"
   },
   {
    "duration": 48,
    "start_time": "2022-05-31T13:26:52.010Z"
   },
   {
    "duration": 16,
    "start_time": "2022-05-31T13:26:52.060Z"
   },
   {
    "duration": 52,
    "start_time": "2022-05-31T13:26:52.078Z"
   },
   {
    "duration": 25,
    "start_time": "2022-05-31T13:26:52.132Z"
   },
   {
    "duration": 41,
    "start_time": "2022-05-31T13:26:52.159Z"
   },
   {
    "duration": 25,
    "start_time": "2022-05-31T13:26:52.202Z"
   },
   {
    "duration": 98,
    "start_time": "2022-05-31T13:26:52.229Z"
   },
   {
    "duration": 486,
    "start_time": "2022-05-31T13:26:52.329Z"
   },
   {
    "duration": 11,
    "start_time": "2022-05-31T13:26:52.817Z"
   },
   {
    "duration": 52,
    "start_time": "2022-05-31T13:26:52.830Z"
   },
   {
    "duration": 17,
    "start_time": "2022-05-31T13:26:52.883Z"
   },
   {
    "duration": 128,
    "start_time": "2022-05-31T13:26:52.902Z"
   },
   {
    "duration": 56,
    "start_time": "2022-05-31T13:26:53.032Z"
   },
   {
    "duration": 377,
    "start_time": "2022-05-31T13:26:53.090Z"
   },
   {
    "duration": 19,
    "start_time": "2022-05-31T13:26:53.468Z"
   },
   {
    "duration": 362,
    "start_time": "2022-05-31T13:26:53.489Z"
   },
   {
    "duration": 3,
    "start_time": "2022-05-31T13:26:53.853Z"
   },
   {
    "duration": 8,
    "start_time": "2022-05-31T13:26:53.857Z"
   },
   {
    "duration": 24404,
    "start_time": "2022-05-31T13:26:53.878Z"
   },
   {
    "duration": 492,
    "start_time": "2022-05-31T13:27:18.284Z"
   },
   {
    "duration": 4,
    "start_time": "2022-05-31T13:27:18.778Z"
   },
   {
    "duration": 251211,
    "start_time": "2022-05-31T13:27:18.783Z"
   },
   {
    "duration": 11,
    "start_time": "2022-05-31T13:31:29.997Z"
   },
   {
    "duration": 0,
    "start_time": "2022-05-31T13:31:30.010Z"
   },
   {
    "duration": 3,
    "start_time": "2022-05-31T13:31:35.542Z"
   },
   {
    "duration": 3,
    "start_time": "2022-05-31T13:31:40.240Z"
   },
   {
    "duration": 374607,
    "start_time": "2022-05-31T13:31:40.877Z"
   },
   {
    "duration": 704,
    "start_time": "2022-05-31T13:37:55.487Z"
   },
   {
    "duration": 8,
    "start_time": "2022-05-31T13:37:56.326Z"
   },
   {
    "duration": 22,
    "start_time": "2022-05-31T13:43:41.183Z"
   },
   {
    "duration": 8,
    "start_time": "2022-05-31T13:43:44.539Z"
   },
   {
    "duration": 3,
    "start_time": "2022-05-31T13:48:36.571Z"
   },
   {
    "duration": 35,
    "start_time": "2022-05-31T13:49:33.620Z"
   },
   {
    "duration": 4433214,
    "start_time": "2022-05-31T13:52:19.975Z"
   },
   {
    "duration": 1296,
    "start_time": "2022-05-31T19:28:00.431Z"
   },
   {
    "duration": 972,
    "start_time": "2022-05-31T19:28:01.729Z"
   },
   {
    "duration": 93,
    "start_time": "2022-05-31T19:28:02.703Z"
   },
   {
    "duration": 38,
    "start_time": "2022-05-31T19:28:02.798Z"
   },
   {
    "duration": 117,
    "start_time": "2022-05-31T19:28:02.838Z"
   },
   {
    "duration": 73,
    "start_time": "2022-05-31T19:28:02.957Z"
   },
   {
    "duration": 23,
    "start_time": "2022-05-31T19:28:03.032Z"
   },
   {
    "duration": 179,
    "start_time": "2022-05-31T19:28:03.057Z"
   },
   {
    "duration": 206,
    "start_time": "2022-05-31T19:28:03.238Z"
   },
   {
    "duration": 11,
    "start_time": "2022-05-31T19:28:03.446Z"
   },
   {
    "duration": 60,
    "start_time": "2022-05-31T19:28:03.458Z"
   },
   {
    "duration": 644,
    "start_time": "2022-05-31T19:28:03.520Z"
   },
   {
    "duration": 89,
    "start_time": "2022-05-31T19:28:04.166Z"
   },
   {
    "duration": 33,
    "start_time": "2022-05-31T19:28:04.257Z"
   },
   {
    "duration": 543,
    "start_time": "2022-05-31T19:28:04.291Z"
   },
   {
    "duration": 14,
    "start_time": "2022-05-31T19:28:04.835Z"
   },
   {
    "duration": 31,
    "start_time": "2022-05-31T19:28:04.850Z"
   },
   {
    "duration": 212,
    "start_time": "2022-05-31T19:28:04.883Z"
   },
   {
    "duration": 293,
    "start_time": "2022-05-31T19:28:05.097Z"
   },
   {
    "duration": 388,
    "start_time": "2022-05-31T19:28:05.391Z"
   },
   {
    "duration": 15,
    "start_time": "2022-05-31T19:28:05.781Z"
   },
   {
    "duration": 45,
    "start_time": "2022-05-31T19:28:05.798Z"
   },
   {
    "duration": 4,
    "start_time": "2022-05-31T19:28:05.844Z"
   },
   {
    "duration": 77,
    "start_time": "2022-05-31T19:28:05.850Z"
   },
   {
    "duration": 30,
    "start_time": "2022-05-31T19:28:05.929Z"
   },
   {
    "duration": 32,
    "start_time": "2022-05-31T19:28:05.961Z"
   },
   {
    "duration": 22,
    "start_time": "2022-05-31T19:28:05.995Z"
   },
   {
    "duration": 87,
    "start_time": "2022-05-31T19:28:06.022Z"
   },
   {
    "duration": 426,
    "start_time": "2022-05-31T19:28:06.111Z"
   },
   {
    "duration": 11,
    "start_time": "2022-05-31T19:28:06.538Z"
   },
   {
    "duration": 56,
    "start_time": "2022-05-31T19:28:06.551Z"
   },
   {
    "duration": 19,
    "start_time": "2022-05-31T19:28:06.609Z"
   },
   {
    "duration": 144,
    "start_time": "2022-05-31T19:28:06.630Z"
   },
   {
    "duration": 56,
    "start_time": "2022-05-31T19:28:06.776Z"
   },
   {
    "duration": 390,
    "start_time": "2022-05-31T19:28:06.833Z"
   },
   {
    "duration": 17,
    "start_time": "2022-05-31T19:28:07.225Z"
   },
   {
    "duration": 317,
    "start_time": "2022-05-31T19:28:07.244Z"
   },
   {
    "duration": 3,
    "start_time": "2022-05-31T19:28:07.563Z"
   },
   {
    "duration": 3,
    "start_time": "2022-05-31T19:28:07.574Z"
   },
   {
    "duration": 16728,
    "start_time": "2022-05-31T19:28:07.579Z"
   },
   {
    "duration": 304,
    "start_time": "2022-05-31T19:28:24.375Z"
   },
   {
    "duration": 6,
    "start_time": "2022-05-31T19:28:24.685Z"
   },
   {
    "duration": 332190,
    "start_time": "2022-05-31T19:28:24.695Z"
   },
   {
    "duration": 624,
    "start_time": "2022-05-31T19:33:56.887Z"
   },
   {
    "duration": 3,
    "start_time": "2022-05-31T19:33:57.576Z"
   },
   {
    "duration": 1603025,
    "start_time": "2022-05-31T19:33:57.581Z"
   },
   {
    "duration": 2005,
    "start_time": "2022-05-31T20:00:40.675Z"
   },
   {
    "duration": 8,
    "start_time": "2022-05-31T20:00:42.682Z"
   },
   {
    "duration": 5,
    "start_time": "2022-05-31T20:00:42.693Z"
   }
  ],
  "kernelspec": {
   "display_name": "Python 3 (ipykernel)",
   "language": "python",
   "name": "python3"
  },
  "language_info": {
   "codemirror_mode": {
    "name": "ipython",
    "version": 3
   },
   "file_extension": ".py",
   "mimetype": "text/x-python",
   "name": "python",
   "nbconvert_exporter": "python",
   "pygments_lexer": "ipython3",
   "version": "3.9.5"
  },
  "toc": {
   "base_numbering": 1,
   "nav_menu": {},
   "number_sections": true,
   "sideBar": true,
   "skip_h1_title": true,
   "title_cell": "Table of Contents",
   "title_sidebar": "Contents",
   "toc_cell": false,
   "toc_position": {
    "height": "calc(100% - 180px)",
    "left": "10px",
    "top": "150px",
    "width": "281.198px"
   },
   "toc_section_display": true,
   "toc_window_display": true
  }
 },
 "nbformat": 4,
 "nbformat_minor": 2
}
