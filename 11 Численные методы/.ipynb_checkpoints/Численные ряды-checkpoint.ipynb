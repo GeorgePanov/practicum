{
 "cells": [
  {
   "cell_type": "markdown",
   "metadata": {},
   "source": [
    "**Комментарий ревьюера**\n",
    "\n",
    "Георгий, привет! Меня зовут Сергей Волков, я буду проверять твой проект. Если не против, давай общаться на «ты». Если это неудобно, дай знать, перейдем на «вы».\n",
    "\n",
    "У тебя уже проделана очень большая работа над проектом, но давай сделаем его еще лучше. Дальше ты найдешь мои комментарии — пожалуйста, не перемещай и не удаляй их. Буду использовать цветовую разметку:\n",
    "\n",
    "<div class=\"alert alert-danger\">\n",
    "<b>Комментарий ревьюера:</b>  ❌красный текст - так выделены самые важные замечания. Без их отработки проект не будет принят. </div>\n",
    "\n",
    "<div class=\"alert alert-warning\">\n",
    "<b>Комментарий ревьюера:</b>⚠️оранжевый текст - есть рекомендации, на что стоит обратить внимание. Так выделены небольшие замечания. Одно-два таких замечания в проекте допустимы, но если их будет больше - тебе будет необходимо внести исправления. </div>\n",
    "\n",
    "<div class=\"alert alert-success\">\n",
    "<b>Комментарий ревьюера:</b> ✔️зеленый текст - все отлично.</div>\n",
    "\n",
    "Давай работать над проектом в диалоге: если ты что-то меняешь в проекте или отвечаешь на мои комментарии — пиши об этом. Мне будет легче отследить изменения, если ты выделишь свои комментарии:\n",
    "<div class=\"alert alert-info\"> <b>Комментарий студента:</b> Например, вот так.</div>\n",
    "\n",
    "Всё это поможет выполнить повторную проверку твоего проекта оперативнее. "
   ]
  },
  {
   "cell_type": "markdown",
   "metadata": {},
   "source": [
    "# Определение стоимости автомобилей"
   ]
  },
  {
   "cell_type": "markdown",
   "metadata": {},
   "source": [
    "Сервис по продаже автомобилей с пробегом «Не бит, не крашен» разрабатывает приложение для привлечения новых клиентов. В нём можно быстро узнать рыночную стоимость своего автомобиля. В вашем распоряжении исторические данные: технические характеристики, комплектации и цены автомобилей. Вам нужно построить модель для определения стоимости. \n",
    "\n",
    "Заказчику важны:\n",
    "\n",
    "- качество предсказания;\n",
    "- скорость предсказания;\n",
    "- время обучения."
   ]
  },
  {
   "cell_type": "markdown",
   "metadata": {},
   "source": [
    "<div class=\"alert alert-success\">\n",
    "<b>Комментарий ревьюера:</b> ✔️Здорово что вместе с названием есть краткое описание и ход исследования проекта!.</div>"
   ]
  },
  {
   "cell_type": "markdown",
   "metadata": {},
   "source": [
    "## Подготовка данных"
   ]
  },
  {
   "cell_type": "markdown",
   "metadata": {},
   "source": [
    "r"
   ]
  },
  {
   "cell_type": "code",
   "execution_count": 2,
   "metadata": {},
   "outputs": [
    {
     "ename": "ModuleNotFoundError",
     "evalue": "No module named 'lightgbm'",
     "output_type": "error",
     "traceback": [
      "\u001b[1;31m---------------------------------------------------------------------------\u001b[0m",
      "\u001b[1;31mModuleNotFoundError\u001b[0m                       Traceback (most recent call last)",
      "\u001b[1;32m~\\AppData\\Local\\Temp\\ipykernel_88148\\3067363777.py\u001b[0m in \u001b[0;36m<module>\u001b[1;34m\u001b[0m\n\u001b[0;32m      2\u001b[0m \u001b[1;32mimport\u001b[0m \u001b[0mnumpy\u001b[0m \u001b[1;32mas\u001b[0m \u001b[0mnp\u001b[0m\u001b[1;33m\u001b[0m\u001b[1;33m\u001b[0m\u001b[0m\n\u001b[0;32m      3\u001b[0m \u001b[1;32mimport\u001b[0m \u001b[0mmatplotlib\u001b[0m\u001b[1;33m.\u001b[0m\u001b[0mpyplot\u001b[0m \u001b[1;32mas\u001b[0m \u001b[0mplt\u001b[0m\u001b[1;33m\u001b[0m\u001b[1;33m\u001b[0m\u001b[0m\n\u001b[1;32m----> 4\u001b[1;33m \u001b[1;32mimport\u001b[0m \u001b[0mlightgbm\u001b[0m \u001b[1;32mas\u001b[0m \u001b[0mlgb\u001b[0m\u001b[1;33m\u001b[0m\u001b[1;33m\u001b[0m\u001b[0m\n\u001b[0m\u001b[0;32m      5\u001b[0m \u001b[1;32mimport\u001b[0m \u001b[0mtime\u001b[0m\u001b[1;33m\u001b[0m\u001b[1;33m\u001b[0m\u001b[0m\n\u001b[0;32m      6\u001b[0m \u001b[1;33m\u001b[0m\u001b[0m\n",
      "\u001b[1;31mModuleNotFoundError\u001b[0m: No module named 'lightgbm'"
     ]
    }
   ],
   "source": [
    "import pandas as pd\n",
    "import numpy as np\n",
    "import matplotlib.pyplot as plt\n",
    "import lightgbm as lgb\n",
    "import time\n",
    "\n",
    "from sklearn.model_selection import train_test_split\n",
    "from sklearn.linear_model import LinearRegression\n",
    "from sklearn.metrics import mean_squared_error"
   ]
  },
  {
   "cell_type": "markdown",
   "metadata": {},
   "source": [
    "<div class=\"alert alert-block alert-success\">\n",
    "<b>Комментарий ревьюера:</b> ✔️Отлично, что все импорты собраны в первой ячейке ноутбука! Если у того, кто будет запускать твой ноутбук будут отсутствовать некоторые библиотеки, то он это увидит сразу, а не в процессе. Круто что ислозуется try except при загрузке данных 👍🏼.</div>"
   ]
  },
  {
   "cell_type": "markdown",
   "metadata": {},
   "source": [
    "### Анализ данных"
   ]
  },
  {
   "cell_type": "code",
   "execution_count": null,
   "metadata": {
    "scrolled": false
   },
   "outputs": [],
   "source": [
    "df = pd.read_csv(r\"C:\\Users\\George\\Мой диск\\3 Практикум\\2 Проекты\\11 Численные ряды\\autos.csv\")\n",
    "\n",
    "display(df)\n",
    "df.info()"
   ]
  },
  {
   "cell_type": "code",
   "execution_count": null,
   "metadata": {
    "scrolled": true
   },
   "outputs": [],
   "source": [
    "# Посмотрим общее распределение:\n",
    "df.describe()"
   ]
  },
  {
   "cell_type": "code",
   "execution_count": null,
   "metadata": {},
   "outputs": [],
   "source": [
    "df.select_dtypes(['object'])"
   ]
  },
  {
   "cell_type": "code",
   "execution_count": null,
   "metadata": {
    "scrolled": true
   },
   "outputs": [],
   "source": [
    "# посмотрим сколько пустых значений\n",
    "df.isna().sum()"
   ]
  },
  {
   "cell_type": "code",
   "execution_count": null,
   "metadata": {},
   "outputs": [],
   "source": [
    "# посмотрим корреляцию\n",
    "df.corr()"
   ]
  },
  {
   "cell_type": "markdown",
   "metadata": {},
   "source": [
    "**Вывод**<br>\n",
    "Из общего распределения можно увидеть, что:\n",
    "- В столбцах `'Price', 'Power'`  минимальное значение равняется 0, что очень не логично, нужно построить boxplot, гистограмму, чтобы посмотреть распределение\n",
    "- В столбце `'RegistrationYear'` минимальное значение равняется 1000, что не возвожно.\n",
    "- Столбцы `'RegistrationMonth', 'NumberOfPictures', 'PostalCode'` нам не интересны, поэтому их мы не будем редактировать.\n",
    "- Столбец `'NotRepaired'` имеет два уникальных значения: `yes, no`. Можно заменить на 1, 0\n",
    "- Присутствую пропуски в 4 столбцах: `VehicleType, Gearbox, Model, NotRepaired`. Нужно просмотреть распределение там и по возможность заполнить пропуски.\n",
    "- Корреляция между признаками слабая."
   ]
  },
  {
   "cell_type": "markdown",
   "metadata": {},
   "source": [
    "<div class=\"alert alert-block alert-success\">\n",
    "<b>Комментарий ревьюера:</b> ✔️Хорошо, данные загружены. Есть первичный осмотр данных.</div>"
   ]
  },
  {
   "cell_type": "markdown",
   "metadata": {},
   "source": [
    "### Обработка данных\n",
    "Начнём редактирование данных для машинного обучения. Для этого создадим DataFrame `data`"
   ]
  },
  {
   "cell_type": "markdown",
   "metadata": {},
   "source": [
    "Оставим признаки которые нам понадобятся при обучении модели.<br>\n",
    "Из всех признаков:\n",
    "- `DateCrawled` — дата скачивания анкеты из базы\n",
    "- `VehicleType` — тип автомобильного кузова\n",
    "- `RegistrationYear` — год регистрации автомобиля\n",
    "- `Gearbox` — тип коробки передач\n",
    "- `Power` — мощность (л. с.)\n",
    "- `Model` — модель автомобиля\n",
    "- `Kilometer` — пробег (км)\n",
    "- `RegistrationMonth` — месяц регистрации автомобиля\n",
    "- `FuelType` — тип топлива\n",
    "- `Brand` — марка автомобиля\n",
    "- `NotRepaired` — была машина в ремонте или нет\n",
    "- `DateCreated` — дата создания анкеты\n",
    "- `NumberOfPictures` — количество фотографий автомобиля\n",
    "- `PostalCode` — почтовый индекс владельца анкеты (пользователя)\n",
    "- `LastSeen` — дата последней активности пользователя\n",
    "- `Price` — цена (евро)\n",
    "\n",
    "\n",
    "Оставляем:\n",
    "- `VehicleType` — тип автомобильного кузова\n",
    "- `RegistrationYear` — год регистрации автомобиля\n",
    "- `Gearbox` — тип коробки передач\n",
    "- `Power` — мощность (л. с.)\n",
    "- `Model` — модель автомобиля\n",
    "- `Kilometer` — пробег (км)\n",
    "- `FuelType` — тип топлива\n",
    "- `Brand` — марка автомобиля\n",
    "- `NotRepaired` — была машина в ремонте или нет\n",
    "- `Price` — цена (евро)\n"
   ]
  },
  {
   "cell_type": "markdown",
   "metadata": {},
   "source": [
    "<div class=\"alert alert-danger\">\n",
    "<b>Комментарий ревьюера:</b>  ❌Год регистрации, важный для нас признак, даже чисто интуитивно, можно сделать вывод, что чем новей машина тем она дороже. </div>"
   ]
  },
  {
   "cell_type": "code",
   "execution_count": null,
   "metadata": {},
   "outputs": [],
   "source": [
    "data = df[[\n",
    "    'VehicleType',\n",
    "    'Gearbox',\n",
    "    'RegistrationYear',\n",
    "    'Power',\n",
    "    'Model',\n",
    "    'Kilometer',\n",
    "    'FuelType',\n",
    "    'Brand',\n",
    "    'NotRepaired',\n",
    "    'Price'\n",
    "]]\n",
    "\n",
    "data.shape"
   ]
  },
  {
   "cell_type": "code",
   "execution_count": null,
   "metadata": {},
   "outputs": [],
   "source": [
    "# Проверим на наличие дубликатов\n",
    "data.duplicated().sum()"
   ]
  },
  {
   "cell_type": "code",
   "execution_count": null,
   "metadata": {},
   "outputs": [],
   "source": [
    "# Удалим их\n",
    "data = data.drop_duplicates()"
   ]
  },
  {
   "cell_type": "code",
   "execution_count": null,
   "metadata": {},
   "outputs": [],
   "source": [
    "data.isna().sum()"
   ]
  },
  {
   "cell_type": "markdown",
   "metadata": {},
   "source": [
    "Как мы видим данные параметры имеют такое количество пропусков:\n",
    "\n",
    " - `VehicleType` (тип автомобильного кузова) - 37 490\n",
    " - `Gearbox` (тип коробки передач) - 19 833\n",
    " - `Model` (модель автомобиля) - 19 705\n",
    " - `FuelType` (тип топлива) - 32 895\n",
    " - `NotRepaired` (была машина в ремонте или нет) - 71 154\n",
    "\n",
    "Нужно заполнить или удалить пропуски эти пропуски, т.к. при обучении модели будут возникать ошибки. А также параметр `NotRepaired` для нас важен, поэтому в нём не может быть пропусков"
   ]
  },
  {
   "cell_type": "code",
   "execution_count": null,
   "metadata": {},
   "outputs": [],
   "source": [
    "# исследуем кузов машины\n",
    "VehicleType = df['VehicleType'].value_counts()\n",
    "display(VehicleType)\n",
    "print(f'Машины класса седан составляют {VehicleType[0]/VehicleType.sum()*100}%')"
   ]
  },
  {
   "cell_type": "markdown",
   "metadata": {},
   "source": [
    "Можно сделать вывод, что машины класса седан больше всего поэтому имеет смысл заполнить пропуски именно им"
   ]
  },
  {
   "cell_type": "code",
   "execution_count": null,
   "metadata": {},
   "outputs": [],
   "source": [
    "# исследуем трансмиссию машины\n",
    "Gearbox = df['Gearbox'].value_counts()\n",
    "display(Gearbox)\n",
    "print(f'Машины на механике составляют {Gearbox[0]/Gearbox.sum()*100}%')"
   ]
  },
  {
   "cell_type": "markdown",
   "metadata": {},
   "source": [
    "И также можно увидеть, что машин на механике в 4 раза больше, чем на автомате."
   ]
  },
  {
   "cell_type": "code",
   "execution_count": null,
   "metadata": {},
   "outputs": [],
   "source": [
    "# исследуем топливо автомобиля\n",
    "FuelType = df['FuelType'].value_counts()\n",
    "display(FuelType)\n",
    "print(f'В {(FuelType[0]/FuelType.sum()*100).round(2)}% машины ездят на бензине')"
   ]
  },
  {
   "cell_type": "markdown",
   "metadata": {},
   "source": [
    "Пропуски можно заполнить 'petrol'"
   ]
  },
  {
   "cell_type": "code",
   "execution_count": null,
   "metadata": {},
   "outputs": [],
   "source": [
    "# df['NotRepaired'] = df['NotRepaired'].map({'yes':1, 'no':0})\n",
    "df = df.replace({'NotRepaired' : { 'yes' : 1, 'no' : 0}})"
   ]
  },
  {
   "cell_type": "code",
   "execution_count": null,
   "metadata": {},
   "outputs": [],
   "source": [
    "plt.scatter(df['NotRepaired'], df['Kilometer'])"
   ]
  },
  {
   "cell_type": "code",
   "execution_count": null,
   "metadata": {},
   "outputs": [],
   "source": [
    "# df[df['Kilometer'] >= 100000].NotRepaired = df[df['Kilometer'] >= 100000].NotRepaired.fillna(1)"
   ]
  },
  {
   "cell_type": "code",
   "execution_count": null,
   "metadata": {},
   "outputs": [],
   "source": [
    "print('Пропусков:', df['NotRepaired'].isna().sum())\n",
    "print(df['NotRepaired'].value_counts())"
   ]
  },
  {
   "cell_type": "code",
   "execution_count": null,
   "metadata": {
    "scrolled": true
   },
   "outputs": [],
   "source": [
    "df['VehicleType'] = df['VehicleType'].fillna('sedan')\n",
    "df['Gearbox'] = df['Gearbox'].fillna('manual')\n",
    "df['FuelType'] = df['FuelType'].fillna('petrol')\n",
    "\n",
    "df.isna().sum()\n"
   ]
  },
  {
   "cell_type": "markdown",
   "metadata": {},
   "source": [
    "<div class=\"alert alert-warning\">\n",
    "<b>Комментарий ревьюера:</b>⚠️Вот тут необходимо обосновать, раскрыть мысль почему удаляем, а не пытаемся восстановить. У нас есть несколько вариантов заполнить пропуски, удалить, заполнить неизвестной(unknown) или попробовать восстановить каким-либо способом, например наиболее часто встречающимся значением, т.к. not_repeared бинарный признак, можно воспользоваться следующей логикой условно до 100 000 км не ремонтировалась более ремонтировалась, чтоб определиться с порогом, мы или пользуемся опытом или сторонними источниками или строим гравики по текущей выборке. При переборе стратегии или останавливаемся на лучшей метрике, если уверен, что в этом нет смысла, то необходимо чётко аргументироватьту или иную стратегию. Процесс творческий.)</div>\n"
   ]
  },
  {
   "cell_type": "markdown",
   "metadata": {},
   "source": [
    "<div class=\"alert alert-info\">\n",
    "<h2> Комментарий студента<a class=\"tocSkip\"></h2>\n",
    "<hr>  \n",
    "    Я не разобрался как заполнять по условию. Пытался так:\n",
    "    \n",
    "</div>\n",
    "    \n",
    "`df[df['Kilometer'] >= 100000].NotRepaired = df[df['Kilometer'] >= 100000].NotRepaired.fillna(1)`"
   ]
  },
  {
   "cell_type": "markdown",
   "metadata": {},
   "source": [
    "<div class=\"alert alert-warning\">\n",
    "<b>Комментарий ревьюера:</b>⚠️Что можно сразу сказать, посмотрев на это распределение в первых трех колонках. </div>\n"
   ]
  },
  {
   "cell_type": "markdown",
   "metadata": {},
   "source": [
    "<div class=\"alert alert-info\">\n",
    "<h2> Комментарий студента<a class=\"tocSkip\"></h2>\n",
    "<hr>  \n",
    "    Я так понял, что минимальная цена и минимальная мощность не можнт быть равна 0. Также год регистрации не может быть равен 1000.\n",
    "    \n",
    "</div>"
   ]
  },
  {
   "cell_type": "code",
   "execution_count": null,
   "metadata": {
    "scrolled": false
   },
   "outputs": [],
   "source": [
    "display(data)\n",
    "print(data.info())"
   ]
  },
  {
   "cell_type": "markdown",
   "metadata": {},
   "source": [
    "Посмотрим распределение и уберём выбросы"
   ]
  },
  {
   "cell_type": "code",
   "execution_count": null,
   "metadata": {},
   "outputs": [],
   "source": [
    "data.describe()"
   ]
  },
  {
   "cell_type": "markdown",
   "metadata": {},
   "source": [
    "**Power**"
   ]
  },
  {
   "cell_type": "code",
   "execution_count": null,
   "metadata": {},
   "outputs": [],
   "source": [
    "# распределение в столбце Power\n",
    "fig, axes = plt.subplots(1, 2, figsize = (12,5))\n",
    "\n",
    "plt.subplot(1,2,1)\n",
    "data.boxplot(column='Power')\n",
    "\n",
    "plt.subplot(1,2,2)\n",
    "data.boxplot(column='Power')\n",
    "plt.ylim(-10, 300)\n",
    "\n",
    "plt.show()"
   ]
  },
  {
   "cell_type": "code",
   "execution_count": null,
   "metadata": {},
   "outputs": [],
   "source": [
    "data['Power'].value_counts().reset_index().sort_values(by='index', ascending=True).head(50)"
   ]
  },
  {
   "cell_type": "markdown",
   "metadata": {},
   "source": [
    "Index - количесво лошадинный сил, а power - в данном случае колличество."
   ]
  },
  {
   "cell_type": "code",
   "execution_count": null,
   "metadata": {},
   "outputs": [],
   "source": [
    "# Удалим выбросы в столбце Power\n",
    "data = data[data['Power'] < 1500]\n",
    "data = data[data['Power'] > 44]"
   ]
  },
  {
   "cell_type": "markdown",
   "metadata": {},
   "source": [
    "<div class=\"alert alert-danger\">\n",
    "<b>Комментарий ревьюера:</b>  ❌Верхнюю границу обозначили, но почему именно 270л.с., есть например Porche, также остались машины с мощностью 0 л.с., лучше ограничить самой маломощной, здесь это Smart.) </div>"
   ]
  },
  {
   "cell_type": "markdown",
   "metadata": {},
   "source": [
    "**Price**"
   ]
  },
  {
   "cell_type": "code",
   "execution_count": null,
   "metadata": {},
   "outputs": [],
   "source": [
    "# Проанализируем цену на автомобили\n",
    "fig, axes = plt.subplots(1, 2, figsize = (12,5))\n",
    "\n",
    "plt.subplot(1,2,1)\n",
    "data.boxplot(column='Price')\n",
    "\n",
    "plt.subplot(1,2,2)\n",
    "data.boxplot(column='Price')\n",
    "plt.ylim(-1000, 16500)\n",
    "\n",
    "plt.show()"
   ]
  },
  {
   "cell_type": "code",
   "execution_count": null,
   "metadata": {},
   "outputs": [],
   "source": [
    "data.plot(kind='hist',\n",
    "        y='Price',\n",
    "        bins=40,\n",
    "        figsize = (12, 5),\n",
    "        grid=True,\n",
    "        label='Price')\n",
    "\n",
    "data.plot(kind='hist',\n",
    "        y='Price',\n",
    "        bins=10,\n",
    "        range = (0, 1000),\n",
    "        figsize = (12, 5),\n",
    "        grid=True,\n",
    "        label='Price')"
   ]
  },
  {
   "cell_type": "markdown",
   "metadata": {},
   "source": [
    "Можно увидеть, что "
   ]
  },
  {
   "cell_type": "code",
   "execution_count": null,
   "metadata": {},
   "outputs": [],
   "source": [
    "# Удалим выбросы\n",
    "data = data[data['Price'] <= 16000]"
   ]
  },
  {
   "cell_type": "markdown",
   "metadata": {},
   "source": [
    "<div class=\"alert alert-danger\">\n",
    "<b>Комментарий ревьюера:</b>  ❌Давай размышлять логичеки, разве машина не может стоитьболее 16 000 у.е., мне кажется вполне, а вот 0 стоимсоть точно не может быть, думаю оптимальная граница от 800 у.е. Можно конечно использовать статистические методы, взять квантили.) </div>"
   ]
  },
  {
   "cell_type": "code",
   "execution_count": null,
   "metadata": {},
   "outputs": [],
   "source": [
    "#код ревьюера\n",
    "data.describe()"
   ]
  },
  {
   "cell_type": "code",
   "execution_count": null,
   "metadata": {},
   "outputs": [],
   "source": [
    "data.info()"
   ]
  },
  {
   "cell_type": "markdown",
   "metadata": {},
   "source": [
    "Получение дамми-признаков"
   ]
  },
  {
   "cell_type": "code",
   "execution_count": null,
   "metadata": {},
   "outputs": [],
   "source": [
    "data = pd.get_dummies(data, drop_first=True)"
   ]
  },
  {
   "cell_type": "code",
   "execution_count": null,
   "metadata": {},
   "outputs": [],
   "source": [
    "data.info()"
   ]
  },
  {
   "cell_type": "markdown",
   "metadata": {},
   "source": [
    "**Вывод**<br>\n",
    "- Проанализировал данные и удалил дубликаты.\n",
    "- Создал таблицу с нужными для нас признаками \n",
    "- Очистили от выбросов параметры *Price* и *Power*\n",
    "- Получил дамми-признаки"
   ]
  },
  {
   "cell_type": "markdown",
   "metadata": {},
   "source": [
    "## Обучение моделей"
   ]
  },
  {
   "cell_type": "markdown",
   "metadata": {},
   "source": [
    "Разобьём на выборки"
   ]
  },
  {
   "cell_type": "code",
   "execution_count": null,
   "metadata": {},
   "outputs": [],
   "source": [
    "features = data.drop(['Price'], axis=1)\n",
    "target = data['Price']\n",
    "\n",
    "features_train, features_valid, target_train, target_valid = train_test_split(features, target, test_size=0.25, random_state=12345)\n",
    "\n",
    "print(features_train.shape)\n",
    "print(features_valid.shape)\n",
    "print(target_train.shape)\n",
    "print(target_valid.shape)"
   ]
  },
  {
   "cell_type": "markdown",
   "metadata": {},
   "source": [
    "### Линейная регрессия"
   ]
  },
  {
   "cell_type": "markdown",
   "metadata": {},
   "source": [
    "Вычислим корень среднеквадратичной ошибки линейной регрессии"
   ]
  },
  {
   "cell_type": "code",
   "execution_count": null,
   "metadata": {},
   "outputs": [],
   "source": [
    "%%time\n",
    "\n",
    "model = LinearRegression()\n",
    "model.fit(features_train, target_train)\n",
    "print(mean_squared_error(target_valid, model.predict(features_valid))**0.5)"
   ]
  },
  {
   "cell_type": "markdown",
   "metadata": {},
   "source": [
    "### LightGBM"
   ]
  },
  {
   "cell_type": "markdown",
   "metadata": {
    "scrolled": false
   },
   "source": [
    "%%time\n",
    "\n",
    "model = lgb.LGBMRegressor(n_estimators=100)\n",
    "model.fit(features_train, target_train, eval_set=[(features_valid, target_valid),], eval_metric=[\"rmse\"])"
   ]
  },
  {
   "cell_type": "markdown",
   "metadata": {},
   "source": [
    "## Анализ моделей"
   ]
  },
  {
   "cell_type": "markdown",
   "metadata": {},
   "source": [
    "Можно сделать вывод, что модель LightGBM обучилась лучше."
   ]
  },
  {
   "cell_type": "markdown",
   "metadata": {},
   "source": [
    "\n",
    "<div class=\"alert alert-warning\">\n",
    "<b>Комментарий ревьюера:</b>⚠️Можно сделатьтакой вывод, но сначала нужно протестировать модель на тестовой выборке.)</div>"
   ]
  },
  {
   "cell_type": "markdown",
   "metadata": {},
   "source": [
    "<div class=\"alert alert-info\">\n",
    "<h2> Комментарий студента<a class=\"tocSkip\"></h2>\n",
    "<hr>  \n",
    "   ОЧень слабо разобрался в теме. Посоветуй, что поможет мне лучше понять. Где почитать или посмотреть поподробнее.\n",
    "</div>"
   ]
  },
  {
   "cell_type": "markdown",
   "metadata": {},
   "source": [
    "\n",
    "<div class=\"alert alert-success\">\n",
    "<b>Комментарий ревьюера:</b> ✔️Георгий, сделано уже много. Спасибо тебе. Необходимо ещё потрудится, т.к. как самты говоришь много моментов не понятных, давай работать в режиме диалога.\n",
    "    \n",
    "- В предобработке нужно определится, какие признаки нам важны, мы всегда должны руководствоваться логикой и теме методами,которые изучили. В начале можно было сделать таблицу с корреляцией и увидеть, что там \"бардак\", который свидетельствует о том, что есть аномалии и пропуски, которые влияют на адекватность корреляции. Вот если мы так сделаем после обработки аномалий, то увидим, что возраст машины влияет на стоимость.\n",
    "- Комментарий по пропускам  оставил.\n",
    "- Аномалии необходимо обработаь они будут влиять на качество метрики. Тут мы или смотрим на рапределения и boxplot или используем опыт или сторонние еисточники информации(всемирная сеть например).\n",
    "- Что касается модели, нам нужно перебрать несколько гиперпараметров, чтоб найти оптимальные , можно топорно в ручную, можно циклом,  а можно использовать алгоритмы подбора, например GridSearch или Random Search. https://medium.com/@senapati.dipak97/grid-search-vs-random-search-d34c92946318(это описание принципа работы их ), а это пример кода https://medium.com/@cjl2fv/an-intro-to-hyper-parameter-optimization-using-grid-search-and-random-search-d73b9834ca0a  \n",
    "- Далее на лучших гиперпараметрах произвести тестирование модели, собрать данные в одну таблицу и сделать финальный вывод, не вот так можно собрать данные в одну таблицу https://www.geeksforgeeks.org/creating-a-pandas-series/. \n",
    "\n",
    "Надеюс эти рекомендации тебе помогут. Также жду твоих правко и ещё вопросов.</div>\n"
   ]
  },
  {
   "cell_type": "markdown",
   "metadata": {},
   "source": [
    "## Чек-лист проверки"
   ]
  },
  {
   "cell_type": "markdown",
   "metadata": {},
   "source": [
    "Поставьте 'x' в выполненных пунктах. Далее нажмите Shift+Enter."
   ]
  },
  {
   "cell_type": "markdown",
   "metadata": {},
   "source": [
    "- [x]  Jupyter Notebook открыт\n",
    "- [ ]  Весь код выполняется без ошибок\n",
    "- [ ]  Ячейки с кодом расположены в порядке исполнения\n",
    "- [ ]  Выполнена загрузка и подготовка данных\n",
    "- [ ]  Выполнено обучение моделей\n",
    "- [ ]  Есть анализ скорости работы и качества моделей"
   ]
  },
  {
   "cell_type": "code",
   "execution_count": null,
   "metadata": {},
   "outputs": [],
   "source": []
  }
 ],
 "metadata": {
  "ExecuteTimeLog": [
   {
    "duration": 4,
    "start_time": "2022-05-22T16:28:56.049Z"
   },
   {
    "duration": 809,
    "start_time": "2022-05-22T16:29:48.325Z"
   },
   {
    "duration": 123,
    "start_time": "2022-05-22T16:29:49.136Z"
   },
   {
    "duration": 106,
    "start_time": "2022-05-22T16:29:49.260Z"
   },
   {
    "duration": 160,
    "start_time": "2022-05-22T16:30:12.437Z"
   },
   {
    "duration": 129,
    "start_time": "2022-05-22T16:30:23.432Z"
   },
   {
    "duration": 234,
    "start_time": "2022-05-22T16:30:37.108Z"
   },
   {
    "duration": 188,
    "start_time": "2022-05-22T16:30:54.609Z"
   },
   {
    "duration": 123,
    "start_time": "2022-05-22T16:30:58.453Z"
   },
   {
    "duration": 190,
    "start_time": "2022-05-22T16:31:03.334Z"
   },
   {
    "duration": 132,
    "start_time": "2022-05-22T16:31:05.686Z"
   },
   {
    "duration": 183,
    "start_time": "2022-05-22T16:32:17.813Z"
   },
   {
    "duration": 98,
    "start_time": "2022-05-22T16:32:17.999Z"
   },
   {
    "duration": 405,
    "start_time": "2022-05-22T16:32:29.068Z"
   },
   {
    "duration": 194,
    "start_time": "2022-05-22T16:33:07.418Z"
   },
   {
    "duration": 181,
    "start_time": "2022-05-22T16:33:10.737Z"
   },
   {
    "duration": 267,
    "start_time": "2022-05-22T16:33:13.438Z"
   },
   {
    "duration": 75,
    "start_time": "2022-05-22T16:33:17.336Z"
   },
   {
    "duration": 701,
    "start_time": "2022-05-22T16:35:19.247Z"
   },
   {
    "duration": 893,
    "start_time": "2022-05-22T16:35:19.950Z"
   },
   {
    "duration": 127,
    "start_time": "2022-05-22T16:35:20.846Z"
   },
   {
    "duration": 133,
    "start_time": "2022-05-22T16:35:20.975Z"
   },
   {
    "duration": 161,
    "start_time": "2022-05-22T16:35:21.332Z"
   },
   {
    "duration": 92,
    "start_time": "2022-05-22T16:35:23.722Z"
   },
   {
    "duration": 392,
    "start_time": "2022-05-22T16:45:32.112Z"
   },
   {
    "duration": 467,
    "start_time": "2022-05-22T16:45:36.574Z"
   },
   {
    "duration": 436,
    "start_time": "2022-05-22T16:46:38.589Z"
   },
   {
    "duration": 876,
    "start_time": "2022-05-22T16:46:43.684Z"
   },
   {
    "duration": 398,
    "start_time": "2022-05-22T16:46:57.191Z"
   },
   {
    "duration": 40,
    "start_time": "2022-05-22T16:47:45.202Z"
   },
   {
    "duration": 413,
    "start_time": "2022-05-22T16:48:16.371Z"
   },
   {
    "duration": 13,
    "start_time": "2022-05-22T16:48:51.605Z"
   },
   {
    "duration": 570,
    "start_time": "2022-05-22T16:48:58.155Z"
   },
   {
    "duration": 518,
    "start_time": "2022-05-22T16:49:01.921Z"
   },
   {
    "duration": 502,
    "start_time": "2022-05-22T16:49:08.013Z"
   },
   {
    "duration": 394,
    "start_time": "2022-05-22T16:49:09.571Z"
   },
   {
    "duration": 699,
    "start_time": "2022-05-22T16:49:28.607Z"
   },
   {
    "duration": 920,
    "start_time": "2022-05-22T16:49:29.308Z"
   },
   {
    "duration": 136,
    "start_time": "2022-05-22T16:49:30.230Z"
   },
   {
    "duration": 564,
    "start_time": "2022-05-22T16:49:30.367Z"
   },
   {
    "duration": 589,
    "start_time": "2022-05-22T16:49:30.933Z"
   },
   {
    "duration": 129,
    "start_time": "2022-05-22T16:49:31.525Z"
   },
   {
    "duration": 215,
    "start_time": "2022-05-22T16:49:31.656Z"
   },
   {
    "duration": 89,
    "start_time": "2022-05-22T16:49:31.873Z"
   },
   {
    "duration": 105,
    "start_time": "2022-05-22T16:49:59.181Z"
   },
   {
    "duration": 6,
    "start_time": "2022-05-22T16:50:58.677Z"
   },
   {
    "duration": 16,
    "start_time": "2022-05-22T16:51:05.254Z"
   },
   {
    "duration": 83,
    "start_time": "2022-05-22T16:52:29.031Z"
   },
   {
    "duration": 9,
    "start_time": "2022-05-22T16:52:31.681Z"
   },
   {
    "duration": 10,
    "start_time": "2022-05-22T16:52:34.880Z"
   },
   {
    "duration": 9,
    "start_time": "2022-05-22T16:53:02.760Z"
   },
   {
    "duration": 15,
    "start_time": "2022-05-22T16:53:24.025Z"
   },
   {
    "duration": 41,
    "start_time": "2022-05-22T16:54:13.627Z"
   },
   {
    "duration": 5,
    "start_time": "2022-05-22T16:57:18.614Z"
   },
   {
    "duration": 18,
    "start_time": "2022-05-22T16:57:22.190Z"
   },
   {
    "duration": 18,
    "start_time": "2022-05-22T16:59:21.462Z"
   },
   {
    "duration": 15,
    "start_time": "2022-05-22T16:59:27.097Z"
   },
   {
    "duration": 15,
    "start_time": "2022-05-22T16:59:34.439Z"
   },
   {
    "duration": 19,
    "start_time": "2022-05-22T16:59:55.239Z"
   },
   {
    "duration": 8,
    "start_time": "2022-05-22T17:01:09.488Z"
   },
   {
    "duration": 424,
    "start_time": "2022-05-22T17:01:22.388Z"
   },
   {
    "duration": 356,
    "start_time": "2022-05-22T17:01:47.352Z"
   },
   {
    "duration": 246,
    "start_time": "2022-05-22T17:01:53.766Z"
   },
   {
    "duration": 255,
    "start_time": "2022-05-22T17:01:57.346Z"
   },
   {
    "duration": 266,
    "start_time": "2022-05-22T17:02:02.578Z"
   },
   {
    "duration": 271,
    "start_time": "2022-05-22T17:02:07.556Z"
   },
   {
    "duration": 360,
    "start_time": "2022-05-22T17:02:35.607Z"
   },
   {
    "duration": 630,
    "start_time": "2022-05-22T17:02:42.387Z"
   },
   {
    "duration": 498,
    "start_time": "2022-05-22T17:02:53.649Z"
   },
   {
    "duration": 86,
    "start_time": "2022-05-22T17:04:08.104Z"
   },
   {
    "duration": 65,
    "start_time": "2022-05-22T17:04:12.135Z"
   },
   {
    "duration": 70,
    "start_time": "2022-05-22T17:04:18.287Z"
   },
   {
    "duration": 37,
    "start_time": "2022-05-22T17:04:37.560Z"
   },
   {
    "duration": 33,
    "start_time": "2022-05-22T17:04:40.998Z"
   },
   {
    "duration": 63,
    "start_time": "2022-05-22T17:04:54.587Z"
   },
   {
    "duration": 40,
    "start_time": "2022-05-22T17:05:02.057Z"
   },
   {
    "duration": 540,
    "start_time": "2022-05-22T17:08:19.446Z"
   },
   {
    "duration": 130,
    "start_time": "2022-05-22T17:09:52.532Z"
   },
   {
    "duration": 124,
    "start_time": "2022-05-22T17:10:08.401Z"
   },
   {
    "duration": 122,
    "start_time": "2022-05-22T17:10:11.123Z"
   },
   {
    "duration": 136,
    "start_time": "2022-05-22T17:10:20.298Z"
   },
   {
    "duration": 689,
    "start_time": "2022-05-22T17:14:41.687Z"
   },
   {
    "duration": 551,
    "start_time": "2022-05-22T17:15:00.054Z"
   },
   {
    "duration": 586,
    "start_time": "2022-05-22T17:15:28.667Z"
   },
   {
    "duration": 859,
    "start_time": "2022-05-22T17:16:36.899Z"
   },
   {
    "duration": 806,
    "start_time": "2022-05-22T17:16:46.658Z"
   },
   {
    "duration": 616,
    "start_time": "2022-05-22T17:16:57.697Z"
   },
   {
    "duration": 301,
    "start_time": "2022-05-22T17:17:00.337Z"
   },
   {
    "duration": 295,
    "start_time": "2022-05-22T17:17:19.109Z"
   },
   {
    "duration": 296,
    "start_time": "2022-05-22T17:17:26.027Z"
   },
   {
    "duration": 296,
    "start_time": "2022-05-22T17:17:32.368Z"
   },
   {
    "duration": 333,
    "start_time": "2022-05-22T17:19:54.348Z"
   },
   {
    "duration": 559,
    "start_time": "2022-05-22T17:19:58.236Z"
   },
   {
    "duration": 41,
    "start_time": "2022-05-22T17:23:51.050Z"
   },
   {
    "duration": 34,
    "start_time": "2022-05-22T17:23:53.302Z"
   },
   {
    "duration": 35,
    "start_time": "2022-05-22T17:23:59.599Z"
   },
   {
    "duration": 36,
    "start_time": "2022-05-22T17:24:06.582Z"
   },
   {
    "duration": 48,
    "start_time": "2022-05-22T17:24:11.169Z"
   },
   {
    "duration": 12,
    "start_time": "2022-05-22T17:24:25.007Z"
   },
   {
    "duration": 20,
    "start_time": "2022-05-22T17:24:32.709Z"
   },
   {
    "duration": 3,
    "start_time": "2022-05-22T17:31:51.778Z"
   },
   {
    "duration": 747,
    "start_time": "2022-05-22T17:33:24.961Z"
   },
   {
    "duration": 918,
    "start_time": "2022-05-22T17:33:25.710Z"
   },
   {
    "duration": 168,
    "start_time": "2022-05-22T17:33:26.630Z"
   },
   {
    "duration": 559,
    "start_time": "2022-05-22T17:33:26.801Z"
   },
   {
    "duration": 621,
    "start_time": "2022-05-22T17:33:27.362Z"
   },
   {
    "duration": 177,
    "start_time": "2022-05-22T17:33:27.985Z"
   },
   {
    "duration": 239,
    "start_time": "2022-05-22T17:33:28.164Z"
   },
   {
    "duration": 95,
    "start_time": "2022-05-22T17:33:28.405Z"
   },
   {
    "duration": 38,
    "start_time": "2022-05-22T17:33:28.501Z"
   },
   {
    "duration": 3,
    "start_time": "2022-05-22T17:33:28.542Z"
   },
   {
    "duration": 606,
    "start_time": "2022-05-22T17:33:28.547Z"
   },
   {
    "duration": 578,
    "start_time": "2022-05-22T17:34:33.927Z"
   },
   {
    "duration": 151,
    "start_time": "2022-05-22T17:49:39.555Z"
   },
   {
    "duration": 38,
    "start_time": "2022-05-22T17:49:49.781Z"
   },
   {
    "duration": 28,
    "start_time": "2022-05-22T17:50:11.102Z"
   },
   {
    "duration": 89,
    "start_time": "2022-05-22T17:50:13.032Z"
   },
   {
    "duration": 31,
    "start_time": "2022-05-22T17:50:51.190Z"
   },
   {
    "duration": 70,
    "start_time": "2022-05-22T17:51:08.428Z"
   },
   {
    "duration": 27,
    "start_time": "2022-05-22T17:51:18.983Z"
   },
   {
    "duration": 49,
    "start_time": "2022-05-22T17:51:24.755Z"
   },
   {
    "duration": 25,
    "start_time": "2022-05-22T17:51:39.530Z"
   },
   {
    "duration": 488,
    "start_time": "2022-05-22T17:52:26.649Z"
   },
   {
    "duration": 38,
    "start_time": "2022-05-22T17:52:38.069Z"
   },
   {
    "duration": 4,
    "start_time": "2022-05-22T17:55:04.842Z"
   },
   {
    "duration": 104,
    "start_time": "2022-05-22T17:55:12.105Z"
   },
   {
    "duration": 30,
    "start_time": "2022-05-22T17:56:31.618Z"
   },
   {
    "duration": 27,
    "start_time": "2022-05-22T17:57:29.883Z"
   },
   {
    "duration": 566,
    "start_time": "2022-05-22T17:57:30.437Z"
   },
   {
    "duration": 45,
    "start_time": "2022-05-22T17:58:56.903Z"
   },
   {
    "duration": 547,
    "start_time": "2022-05-22T17:59:25.118Z"
   },
   {
    "duration": 671,
    "start_time": "2022-05-22T17:59:33.010Z"
   },
   {
    "duration": 601,
    "start_time": "2022-05-22T17:59:38.184Z"
   },
   {
    "duration": 5,
    "start_time": "2022-05-22T17:59:59.116Z"
   },
   {
    "duration": 152,
    "start_time": "2022-05-22T18:00:01.315Z"
   },
   {
    "duration": 4,
    "start_time": "2022-05-22T18:00:12.546Z"
   },
   {
    "duration": 183,
    "start_time": "2022-05-22T18:00:26.391Z"
   },
   {
    "duration": 4,
    "start_time": "2022-05-22T18:00:32.430Z"
   },
   {
    "duration": 127,
    "start_time": "2022-05-22T18:02:51.176Z"
   },
   {
    "duration": 89,
    "start_time": "2022-05-22T18:03:05.554Z"
   },
   {
    "duration": 744,
    "start_time": "2022-05-22T18:03:34.093Z"
   },
   {
    "duration": 974,
    "start_time": "2022-05-22T18:03:34.839Z"
   },
   {
    "duration": 155,
    "start_time": "2022-05-22T18:03:35.815Z"
   },
   {
    "duration": 539,
    "start_time": "2022-05-22T18:03:35.971Z"
   },
   {
    "duration": 618,
    "start_time": "2022-05-22T18:03:36.513Z"
   },
   {
    "duration": 134,
    "start_time": "2022-05-22T18:03:37.134Z"
   },
   {
    "duration": 217,
    "start_time": "2022-05-22T18:03:37.270Z"
   },
   {
    "duration": 77,
    "start_time": "2022-05-22T18:03:37.489Z"
   },
   {
    "duration": 44,
    "start_time": "2022-05-22T18:03:37.567Z"
   },
   {
    "duration": 3,
    "start_time": "2022-05-22T18:03:37.613Z"
   },
   {
    "duration": 22,
    "start_time": "2022-05-22T18:03:37.618Z"
   },
   {
    "duration": 91,
    "start_time": "2022-05-22T18:03:37.642Z"
   },
   {
    "duration": 56,
    "start_time": "2022-05-22T18:03:37.734Z"
   },
   {
    "duration": 636,
    "start_time": "2022-05-22T18:03:37.793Z"
   },
   {
    "duration": 4,
    "start_time": "2022-05-22T18:03:38.431Z"
   },
   {
    "duration": 50,
    "start_time": "2022-05-22T18:03:38.436Z"
   },
   {
    "duration": 6,
    "start_time": "2022-05-22T18:03:38.496Z"
   },
   {
    "duration": 36,
    "start_time": "2022-05-22T18:04:00.664Z"
   },
   {
    "duration": 4,
    "start_time": "2022-05-22T18:04:01.722Z"
   },
   {
    "duration": 531,
    "start_time": "2022-05-22T18:04:09.460Z"
   },
   {
    "duration": 736,
    "start_time": "2022-05-22T18:04:45.166Z"
   },
   {
    "duration": 6,
    "start_time": "2022-05-22T18:05:17.514Z"
   },
   {
    "duration": 680,
    "start_time": "2022-05-22T18:06:05.831Z"
   },
   {
    "duration": 954,
    "start_time": "2022-05-22T18:06:06.514Z"
   },
   {
    "duration": 139,
    "start_time": "2022-05-22T18:06:07.469Z"
   },
   {
    "duration": 636,
    "start_time": "2022-05-22T18:06:07.610Z"
   },
   {
    "duration": 588,
    "start_time": "2022-05-22T18:06:08.248Z"
   },
   {
    "duration": 122,
    "start_time": "2022-05-22T18:06:08.837Z"
   },
   {
    "duration": 192,
    "start_time": "2022-05-22T18:06:08.961Z"
   },
   {
    "duration": 91,
    "start_time": "2022-05-22T18:06:09.155Z"
   },
   {
    "duration": 41,
    "start_time": "2022-05-22T18:06:09.247Z"
   },
   {
    "duration": 2,
    "start_time": "2022-05-22T18:06:09.291Z"
   },
   {
    "duration": 25,
    "start_time": "2022-05-22T18:06:09.295Z"
   },
   {
    "duration": 80,
    "start_time": "2022-05-22T18:06:09.322Z"
   },
   {
    "duration": 45,
    "start_time": "2022-05-22T18:06:09.405Z"
   },
   {
    "duration": 627,
    "start_time": "2022-05-22T18:06:09.452Z"
   },
   {
    "duration": 5,
    "start_time": "2022-05-22T18:06:10.080Z"
   },
   {
    "duration": 26,
    "start_time": "2022-05-22T18:06:10.087Z"
   },
   {
    "duration": 5,
    "start_time": "2022-05-22T18:06:10.115Z"
   },
   {
    "duration": 86,
    "start_time": "2022-05-22T18:07:20.879Z"
   },
   {
    "duration": 72,
    "start_time": "2022-05-22T18:07:30.030Z"
   },
   {
    "duration": 37,
    "start_time": "2022-05-22T18:09:44.932Z"
   },
   {
    "duration": 758,
    "start_time": "2022-05-22T18:09:57.680Z"
   },
   {
    "duration": 889,
    "start_time": "2022-05-22T18:09:58.441Z"
   },
   {
    "duration": 142,
    "start_time": "2022-05-22T18:09:59.332Z"
   },
   {
    "duration": 505,
    "start_time": "2022-05-22T18:09:59.484Z"
   },
   {
    "duration": 577,
    "start_time": "2022-05-22T18:09:59.991Z"
   },
   {
    "duration": 131,
    "start_time": "2022-05-22T18:10:00.569Z"
   },
   {
    "duration": 206,
    "start_time": "2022-05-22T18:10:00.702Z"
   },
   {
    "duration": 87,
    "start_time": "2022-05-22T18:10:00.910Z"
   },
   {
    "duration": 38,
    "start_time": "2022-05-22T18:10:00.999Z"
   },
   {
    "duration": 2,
    "start_time": "2022-05-22T18:10:01.039Z"
   },
   {
    "duration": 48,
    "start_time": "2022-05-22T18:10:01.043Z"
   },
   {
    "duration": 105,
    "start_time": "2022-05-22T18:10:01.093Z"
   },
   {
    "duration": 46,
    "start_time": "2022-05-22T18:10:01.200Z"
   },
   {
    "duration": 599,
    "start_time": "2022-05-22T18:10:01.248Z"
   },
   {
    "duration": 4,
    "start_time": "2022-05-22T18:10:01.850Z"
   },
   {
    "duration": 55,
    "start_time": "2022-05-22T18:10:01.856Z"
   },
   {
    "duration": 8,
    "start_time": "2022-05-22T18:10:01.913Z"
   },
   {
    "duration": 18,
    "start_time": "2022-05-22T18:11:18.936Z"
   },
   {
    "duration": 32,
    "start_time": "2022-05-22T18:11:31.194Z"
   },
   {
    "duration": 27,
    "start_time": "2022-05-22T18:11:35.705Z"
   },
   {
    "duration": 7,
    "start_time": "2022-05-22T18:18:22.877Z"
   },
   {
    "duration": 8,
    "start_time": "2022-05-22T18:18:27.774Z"
   },
   {
    "duration": 9,
    "start_time": "2022-05-22T18:19:17.269Z"
   },
   {
    "duration": 19,
    "start_time": "2022-05-22T18:19:50.082Z"
   },
   {
    "duration": 11,
    "start_time": "2022-05-22T18:19:56.652Z"
   },
   {
    "duration": 33,
    "start_time": "2022-05-22T18:20:00.490Z"
   },
   {
    "duration": 23,
    "start_time": "2022-05-22T18:20:15.421Z"
   },
   {
    "duration": 6,
    "start_time": "2022-05-22T18:20:37.191Z"
   },
   {
    "duration": 35,
    "start_time": "2022-05-22T18:20:49.107Z"
   },
   {
    "duration": 13,
    "start_time": "2022-05-22T18:20:56.991Z"
   },
   {
    "duration": 5,
    "start_time": "2022-05-22T18:20:59.208Z"
   },
   {
    "duration": 6,
    "start_time": "2022-05-22T18:21:01.714Z"
   },
   {
    "duration": 5,
    "start_time": "2022-05-22T18:21:03.725Z"
   },
   {
    "duration": 47,
    "start_time": "2022-05-22T18:22:09.656Z"
   },
   {
    "duration": 732,
    "start_time": "2022-05-22T18:23:16.653Z"
   },
   {
    "duration": 955,
    "start_time": "2022-05-22T18:23:17.388Z"
   },
   {
    "duration": 130,
    "start_time": "2022-05-22T18:23:18.345Z"
   },
   {
    "duration": 509,
    "start_time": "2022-05-22T18:23:18.483Z"
   },
   {
    "duration": 541,
    "start_time": "2022-05-22T18:23:18.995Z"
   },
   {
    "duration": 128,
    "start_time": "2022-05-22T18:23:19.538Z"
   },
   {
    "duration": 226,
    "start_time": "2022-05-22T18:23:19.667Z"
   },
   {
    "duration": 74,
    "start_time": "2022-05-22T18:23:19.897Z"
   },
   {
    "duration": 40,
    "start_time": "2022-05-22T18:23:19.983Z"
   },
   {
    "duration": 2,
    "start_time": "2022-05-22T18:23:20.025Z"
   },
   {
    "duration": 24,
    "start_time": "2022-05-22T18:23:20.029Z"
   },
   {
    "duration": 92,
    "start_time": "2022-05-22T18:23:20.055Z"
   },
   {
    "duration": 55,
    "start_time": "2022-05-22T18:23:20.149Z"
   },
   {
    "duration": 555,
    "start_time": "2022-05-22T18:23:20.206Z"
   },
   {
    "duration": 4,
    "start_time": "2022-05-22T18:23:20.762Z"
   },
   {
    "duration": 43,
    "start_time": "2022-05-22T18:23:20.768Z"
   },
   {
    "duration": 8,
    "start_time": "2022-05-22T18:23:20.814Z"
   },
   {
    "duration": 19,
    "start_time": "2022-05-22T18:23:20.823Z"
   },
   {
    "duration": 60,
    "start_time": "2022-05-22T18:23:20.843Z"
   },
   {
    "duration": 92,
    "start_time": "2022-05-22T18:23:33.489Z"
   },
   {
    "duration": 13,
    "start_time": "2022-05-22T18:23:35.331Z"
   },
   {
    "duration": 19,
    "start_time": "2022-05-22T18:23:42.187Z"
   },
   {
    "duration": 11,
    "start_time": "2022-05-22T18:23:51.451Z"
   },
   {
    "duration": 9,
    "start_time": "2022-05-22T18:23:54.808Z"
   },
   {
    "duration": 9,
    "start_time": "2022-05-22T18:24:04.557Z"
   },
   {
    "duration": 10,
    "start_time": "2022-05-22T18:24:07.857Z"
   },
   {
    "duration": 10,
    "start_time": "2022-05-22T18:24:12.467Z"
   },
   {
    "duration": 9,
    "start_time": "2022-05-22T18:24:24.348Z"
   },
   {
    "duration": 9,
    "start_time": "2022-05-22T18:24:53.530Z"
   },
   {
    "duration": 10,
    "start_time": "2022-05-22T18:25:01.554Z"
   },
   {
    "duration": 343,
    "start_time": "2022-05-22T18:25:52.187Z"
   },
   {
    "duration": 321,
    "start_time": "2022-05-22T18:27:33.123Z"
   },
   {
    "duration": 330,
    "start_time": "2022-05-22T18:28:01.407Z"
   },
   {
    "duration": 309,
    "start_time": "2022-05-22T18:28:05.848Z"
   },
   {
    "duration": 327,
    "start_time": "2022-05-22T18:28:08.980Z"
   },
   {
    "duration": 326,
    "start_time": "2022-05-22T18:28:26.432Z"
   },
   {
    "duration": 413,
    "start_time": "2022-05-22T18:28:33.841Z"
   },
   {
    "duration": 688,
    "start_time": "2022-05-22T18:29:00.890Z"
   },
   {
    "duration": 633,
    "start_time": "2022-05-22T18:29:08.929Z"
   },
   {
    "duration": 640,
    "start_time": "2022-05-22T18:29:21.022Z"
   },
   {
    "duration": 704,
    "start_time": "2022-05-22T18:29:28.025Z"
   },
   {
    "duration": 31,
    "start_time": "2022-05-22T18:30:22.164Z"
   },
   {
    "duration": 746,
    "start_time": "2022-05-22T18:31:02.167Z"
   },
   {
    "duration": 953,
    "start_time": "2022-05-22T18:31:02.915Z"
   },
   {
    "duration": 149,
    "start_time": "2022-05-22T18:31:03.870Z"
   },
   {
    "duration": 528,
    "start_time": "2022-05-22T18:31:04.021Z"
   },
   {
    "duration": 578,
    "start_time": "2022-05-22T18:31:04.551Z"
   },
   {
    "duration": 128,
    "start_time": "2022-05-22T18:31:05.131Z"
   },
   {
    "duration": 201,
    "start_time": "2022-05-22T18:31:05.261Z"
   },
   {
    "duration": 87,
    "start_time": "2022-05-22T18:31:05.463Z"
   },
   {
    "duration": 51,
    "start_time": "2022-05-22T18:31:05.552Z"
   },
   {
    "duration": 2,
    "start_time": "2022-05-22T18:31:05.605Z"
   },
   {
    "duration": 23,
    "start_time": "2022-05-22T18:31:05.609Z"
   },
   {
    "duration": 101,
    "start_time": "2022-05-22T18:31:05.634Z"
   },
   {
    "duration": 59,
    "start_time": "2022-05-22T18:31:05.738Z"
   },
   {
    "duration": 586,
    "start_time": "2022-05-22T18:31:05.808Z"
   },
   {
    "duration": 22,
    "start_time": "2022-05-22T18:31:06.397Z"
   },
   {
    "duration": 725,
    "start_time": "2022-05-22T18:31:06.421Z"
   },
   {
    "duration": 20,
    "start_time": "2022-05-22T18:31:07.147Z"
   },
   {
    "duration": 55,
    "start_time": "2022-05-22T18:31:23.920Z"
   },
   {
    "duration": 18,
    "start_time": "2022-05-22T18:33:26.767Z"
   },
   {
    "duration": 17,
    "start_time": "2022-05-22T18:33:33.919Z"
   },
   {
    "duration": 13,
    "start_time": "2022-05-22T18:34:05.969Z"
   },
   {
    "duration": 532,
    "start_time": "2022-05-22T18:34:29.373Z"
   },
   {
    "duration": 465,
    "start_time": "2022-05-22T18:35:09.819Z"
   },
   {
    "duration": 456,
    "start_time": "2022-05-22T18:35:17.474Z"
   },
   {
    "duration": 891,
    "start_time": "2022-05-22T19:49:41.424Z"
   },
   {
    "duration": 2889,
    "start_time": "2022-05-22T19:49:42.317Z"
   },
   {
    "duration": 124,
    "start_time": "2022-05-22T19:49:45.207Z"
   },
   {
    "duration": 508,
    "start_time": "2022-05-22T19:49:45.333Z"
   },
   {
    "duration": 494,
    "start_time": "2022-05-22T19:49:45.843Z"
   },
   {
    "duration": 135,
    "start_time": "2022-05-22T19:49:46.339Z"
   },
   {
    "duration": 185,
    "start_time": "2022-05-22T19:49:46.476Z"
   },
   {
    "duration": 76,
    "start_time": "2022-05-22T19:49:46.663Z"
   },
   {
    "duration": 31,
    "start_time": "2022-05-22T19:49:46.741Z"
   },
   {
    "duration": 2,
    "start_time": "2022-05-22T19:49:46.774Z"
   },
   {
    "duration": 34,
    "start_time": "2022-05-22T19:49:46.777Z"
   },
   {
    "duration": 93,
    "start_time": "2022-05-22T19:49:46.813Z"
   },
   {
    "duration": 38,
    "start_time": "2022-05-22T19:49:46.907Z"
   },
   {
    "duration": 642,
    "start_time": "2022-05-22T19:49:46.947Z"
   },
   {
    "duration": 27,
    "start_time": "2022-05-22T19:49:47.591Z"
   },
   {
    "duration": 637,
    "start_time": "2022-05-22T19:49:47.620Z"
   },
   {
    "duration": 17,
    "start_time": "2022-05-22T19:49:48.259Z"
   },
   {
    "duration": 72,
    "start_time": "2022-05-22T19:49:48.278Z"
   },
   {
    "duration": 466,
    "start_time": "2022-05-22T19:49:48.352Z"
   },
   {
    "duration": 56,
    "start_time": "2022-05-22T19:49:48.820Z"
   },
   {
    "duration": 446,
    "start_time": "2022-05-22T19:50:10.506Z"
   },
   {
    "duration": 919,
    "start_time": "2022-05-23T11:46:44.110Z"
   },
   {
    "duration": 3014,
    "start_time": "2022-05-23T11:46:45.031Z"
   },
   {
    "duration": 132,
    "start_time": "2022-05-23T11:46:48.046Z"
   },
   {
    "duration": 445,
    "start_time": "2022-05-23T11:46:48.184Z"
   },
   {
    "duration": 492,
    "start_time": "2022-05-23T11:46:48.631Z"
   },
   {
    "duration": 121,
    "start_time": "2022-05-23T11:46:49.125Z"
   },
   {
    "duration": 173,
    "start_time": "2022-05-23T11:46:49.247Z"
   },
   {
    "duration": 76,
    "start_time": "2022-05-23T11:46:49.421Z"
   },
   {
    "duration": 28,
    "start_time": "2022-05-23T11:46:49.499Z"
   },
   {
    "duration": 2,
    "start_time": "2022-05-23T11:46:49.529Z"
   },
   {
    "duration": 23,
    "start_time": "2022-05-23T11:46:49.532Z"
   },
   {
    "duration": 90,
    "start_time": "2022-05-23T11:46:49.556Z"
   },
   {
    "duration": 43,
    "start_time": "2022-05-23T11:46:49.647Z"
   },
   {
    "duration": 582,
    "start_time": "2022-05-23T11:46:49.691Z"
   },
   {
    "duration": 27,
    "start_time": "2022-05-23T11:46:50.276Z"
   },
   {
    "duration": 648,
    "start_time": "2022-05-23T11:46:50.304Z"
   },
   {
    "duration": 23,
    "start_time": "2022-05-23T11:46:50.954Z"
   },
   {
    "duration": 66,
    "start_time": "2022-05-23T11:46:50.980Z"
   },
   {
    "duration": 461,
    "start_time": "2022-05-23T11:46:51.048Z"
   },
   {
    "duration": 52,
    "start_time": "2022-05-23T11:46:51.510Z"
   },
   {
    "duration": 399,
    "start_time": "2022-05-23T12:05:57.885Z"
   },
   {
    "duration": 384,
    "start_time": "2022-05-23T12:06:11.096Z"
   },
   {
    "duration": 16,
    "start_time": "2022-05-23T12:06:11.664Z"
   },
   {
    "duration": 62,
    "start_time": "2022-05-23T14:07:51.731Z"
   },
   {
    "duration": 847,
    "start_time": "2022-05-23T14:07:56.660Z"
   },
   {
    "duration": 1155,
    "start_time": "2022-05-23T14:07:57.509Z"
   },
   {
    "duration": 127,
    "start_time": "2022-05-23T14:07:58.666Z"
   },
   {
    "duration": 529,
    "start_time": "2022-05-23T14:07:58.795Z"
   },
   {
    "duration": 530,
    "start_time": "2022-05-23T14:07:59.327Z"
   },
   {
    "duration": 124,
    "start_time": "2022-05-23T14:07:59.859Z"
   },
   {
    "duration": 192,
    "start_time": "2022-05-23T14:07:59.985Z"
   },
   {
    "duration": 83,
    "start_time": "2022-05-23T14:08:00.179Z"
   },
   {
    "duration": 32,
    "start_time": "2022-05-23T14:08:00.264Z"
   },
   {
    "duration": 37,
    "start_time": "2022-05-23T14:08:00.298Z"
   },
   {
    "duration": 92,
    "start_time": "2022-05-23T14:08:00.337Z"
   },
   {
    "duration": 44,
    "start_time": "2022-05-23T14:08:00.431Z"
   },
   {
    "duration": 582,
    "start_time": "2022-05-23T14:08:00.477Z"
   },
   {
    "duration": 24,
    "start_time": "2022-05-23T14:08:01.061Z"
   },
   {
    "duration": 812,
    "start_time": "2022-05-23T14:08:01.087Z"
   },
   {
    "duration": 30,
    "start_time": "2022-05-23T14:08:01.901Z"
   },
   {
    "duration": 73,
    "start_time": "2022-05-23T14:08:01.934Z"
   },
   {
    "duration": 555,
    "start_time": "2022-05-23T14:08:02.009Z"
   },
   {
    "duration": 25,
    "start_time": "2022-05-23T14:08:02.566Z"
   },
   {
    "duration": 105,
    "start_time": "2022-05-23T14:49:17.304Z"
   },
   {
    "duration": 24,
    "start_time": "2022-05-23T14:49:21.664Z"
   },
   {
    "duration": 31,
    "start_time": "2022-05-23T14:50:37.104Z"
   },
   {
    "duration": 746,
    "start_time": "2022-05-23T14:51:37.203Z"
   },
   {
    "duration": 389,
    "start_time": "2022-05-23T14:56:28.167Z"
   },
   {
    "duration": 37,
    "start_time": "2022-05-23T14:56:33.008Z"
   },
   {
    "duration": 4,
    "start_time": "2022-05-23T14:56:45.966Z"
   },
   {
    "duration": 4,
    "start_time": "2022-05-23T14:56:56.216Z"
   },
   {
    "duration": 347,
    "start_time": "2022-05-23T14:57:52.755Z"
   },
   {
    "duration": 351,
    "start_time": "2022-05-23T14:58:01.811Z"
   },
   {
    "duration": 20255,
    "start_time": "2022-05-23T15:05:12.976Z"
   },
   {
    "duration": 21640,
    "start_time": "2022-05-23T15:05:45.095Z"
   },
   {
    "duration": 14,
    "start_time": "2022-05-23T15:08:43.385Z"
   },
   {
    "duration": 321,
    "start_time": "2022-05-23T15:09:14.946Z"
   },
   {
    "duration": 1370,
    "start_time": "2022-05-23T15:18:48.909Z"
   },
   {
    "duration": 1283,
    "start_time": "2022-05-23T15:19:07.598Z"
   },
   {
    "duration": 1358,
    "start_time": "2022-05-27T14:46:35.885Z"
   },
   {
    "duration": 2664,
    "start_time": "2022-05-27T14:46:37.246Z"
   },
   {
    "duration": 146,
    "start_time": "2022-05-27T14:46:39.912Z"
   },
   {
    "duration": 472,
    "start_time": "2022-05-27T14:46:40.061Z"
   },
   {
    "duration": 472,
    "start_time": "2022-05-27T14:46:40.535Z"
   },
   {
    "duration": 111,
    "start_time": "2022-05-27T14:46:41.008Z"
   },
   {
    "duration": 183,
    "start_time": "2022-05-27T14:46:41.121Z"
   },
   {
    "duration": 79,
    "start_time": "2022-05-27T14:46:41.306Z"
   },
   {
    "duration": 29,
    "start_time": "2022-05-27T14:46:41.388Z"
   },
   {
    "duration": 29,
    "start_time": "2022-05-27T14:46:41.419Z"
   },
   {
    "duration": 71,
    "start_time": "2022-05-27T14:46:41.450Z"
   },
   {
    "duration": 53,
    "start_time": "2022-05-27T14:46:41.523Z"
   },
   {
    "duration": 582,
    "start_time": "2022-05-27T14:46:41.578Z"
   },
   {
    "duration": 22,
    "start_time": "2022-05-27T14:46:42.163Z"
   },
   {
    "duration": 591,
    "start_time": "2022-05-27T14:46:42.186Z"
   },
   {
    "duration": 16,
    "start_time": "2022-05-27T14:46:42.779Z"
   },
   {
    "duration": 58,
    "start_time": "2022-05-27T14:46:42.796Z"
   },
   {
    "duration": 431,
    "start_time": "2022-05-27T14:46:42.856Z"
   },
   {
    "duration": 19,
    "start_time": "2022-05-27T14:46:43.289Z"
   },
   {
    "duration": 354,
    "start_time": "2022-05-27T14:46:43.310Z"
   },
   {
    "duration": 15083,
    "start_time": "2022-05-27T14:46:43.665Z"
   },
   {
    "duration": 1149,
    "start_time": "2022-05-27T14:49:14.123Z"
   },
   {
    "duration": 836,
    "start_time": "2022-05-27T14:49:15.274Z"
   },
   {
    "duration": 132,
    "start_time": "2022-05-27T14:49:16.112Z"
   },
   {
    "duration": 444,
    "start_time": "2022-05-27T14:49:16.245Z"
   },
   {
    "duration": 517,
    "start_time": "2022-05-27T14:49:16.691Z"
   },
   {
    "duration": 132,
    "start_time": "2022-05-27T14:49:17.209Z"
   },
   {
    "duration": 167,
    "start_time": "2022-05-27T14:49:17.343Z"
   },
   {
    "duration": 79,
    "start_time": "2022-05-27T14:49:17.512Z"
   },
   {
    "duration": 30,
    "start_time": "2022-05-27T14:49:17.593Z"
   },
   {
    "duration": 17,
    "start_time": "2022-05-27T14:49:17.640Z"
   },
   {
    "duration": 82,
    "start_time": "2022-05-27T14:49:17.659Z"
   },
   {
    "duration": 40,
    "start_time": "2022-05-27T14:49:17.743Z"
   },
   {
    "duration": 649,
    "start_time": "2022-05-27T14:49:17.784Z"
   },
   {
    "duration": 25,
    "start_time": "2022-05-27T14:49:18.435Z"
   },
   {
    "duration": 617,
    "start_time": "2022-05-27T14:49:18.461Z"
   },
   {
    "duration": 16,
    "start_time": "2022-05-27T14:49:19.079Z"
   },
   {
    "duration": 70,
    "start_time": "2022-05-27T14:49:19.097Z"
   },
   {
    "duration": 440,
    "start_time": "2022-05-27T14:49:19.169Z"
   },
   {
    "duration": 16,
    "start_time": "2022-05-27T14:49:19.610Z"
   },
   {
    "duration": 377,
    "start_time": "2022-05-27T14:49:19.628Z"
   },
   {
    "duration": 14744,
    "start_time": "2022-05-27T14:49:20.006Z"
   },
   {
    "duration": 292,
    "start_time": "2022-05-27T15:07:02.805Z"
   },
   {
    "duration": 34033,
    "start_time": "2022-05-27T16:15:23.617Z"
   },
   {
    "duration": 57095,
    "start_time": "2022-05-27T16:16:10.077Z"
   },
   {
    "duration": 56979,
    "start_time": "2022-05-27T16:17:36.065Z"
   },
   {
    "duration": 4,
    "start_time": "2022-05-27T16:18:33.046Z"
   },
   {
    "duration": 49,
    "start_time": "2022-05-27T16:22:10.839Z"
   },
   {
    "duration": 4,
    "start_time": "2022-05-27T16:22:38.950Z"
   },
   {
    "duration": 37,
    "start_time": "2022-05-27T16:22:42.765Z"
   },
   {
    "duration": 43,
    "start_time": "2022-05-27T16:22:48.516Z"
   },
   {
    "duration": 41251,
    "start_time": "2022-05-27T16:23:03.696Z"
   },
   {
    "duration": 107357,
    "start_time": "2022-05-27T16:28:04.995Z"
   },
   {
    "duration": 1662,
    "start_time": "2022-05-27T18:53:14.371Z"
   },
   {
    "duration": 1969,
    "start_time": "2022-05-27T18:53:16.043Z"
   },
   {
    "duration": 154,
    "start_time": "2022-05-27T18:53:18.014Z"
   },
   {
    "duration": 648,
    "start_time": "2022-05-27T18:53:18.170Z"
   },
   {
    "duration": 602,
    "start_time": "2022-05-27T18:53:18.821Z"
   },
   {
    "duration": 139,
    "start_time": "2022-05-27T18:53:19.426Z"
   },
   {
    "duration": 204,
    "start_time": "2022-05-27T18:53:19.567Z"
   },
   {
    "duration": 95,
    "start_time": "2022-05-27T18:53:19.774Z"
   },
   {
    "duration": 36,
    "start_time": "2022-05-27T18:53:19.875Z"
   },
   {
    "duration": 30,
    "start_time": "2022-05-27T18:53:19.913Z"
   },
   {
    "duration": 92,
    "start_time": "2022-05-27T18:53:19.946Z"
   },
   {
    "duration": 44,
    "start_time": "2022-05-27T18:53:20.046Z"
   },
   {
    "duration": 678,
    "start_time": "2022-05-27T18:53:20.093Z"
   },
   {
    "duration": 22,
    "start_time": "2022-05-27T18:53:20.775Z"
   },
   {
    "duration": 750,
    "start_time": "2022-05-27T18:53:20.799Z"
   },
   {
    "duration": 18,
    "start_time": "2022-05-27T18:53:21.553Z"
   },
   {
    "duration": 93,
    "start_time": "2022-05-27T18:53:21.573Z"
   },
   {
    "duration": 451,
    "start_time": "2022-05-27T18:53:21.668Z"
   },
   {
    "duration": 31,
    "start_time": "2022-05-27T18:53:22.121Z"
   },
   {
    "duration": 412,
    "start_time": "2022-05-27T18:53:22.154Z"
   },
   {
    "duration": 49381,
    "start_time": "2022-05-27T18:53:22.568Z"
   },
   {
    "duration": 120430,
    "start_time": "2022-05-27T18:54:11.951Z"
   },
   {
    "duration": 379370,
    "start_time": "2022-05-27T19:03:13.006Z"
   },
   {
    "duration": 1232,
    "start_time": "2022-05-28T07:08:16.532Z"
   },
   {
    "duration": 1098,
    "start_time": "2022-05-28T07:08:17.766Z"
   },
   {
    "duration": 130,
    "start_time": "2022-05-28T07:08:18.865Z"
   },
   {
    "duration": 522,
    "start_time": "2022-05-28T07:08:18.998Z"
   },
   {
    "duration": 490,
    "start_time": "2022-05-28T07:08:19.522Z"
   },
   {
    "duration": 123,
    "start_time": "2022-05-28T07:08:20.014Z"
   },
   {
    "duration": 180,
    "start_time": "2022-05-28T07:08:20.291Z"
   },
   {
    "duration": 69,
    "start_time": "2022-05-28T07:08:21.119Z"
   },
   {
    "duration": 38,
    "start_time": "2022-05-28T07:08:22.592Z"
   },
   {
    "duration": 17,
    "start_time": "2022-05-28T07:08:24.480Z"
   },
   {
    "duration": 71,
    "start_time": "2022-05-28T07:08:24.917Z"
   },
   {
    "duration": 38,
    "start_time": "2022-05-28T07:08:28.120Z"
   },
   {
    "duration": 601,
    "start_time": "2022-05-28T07:08:29.443Z"
   },
   {
    "duration": 20,
    "start_time": "2022-05-28T07:08:30.046Z"
   },
   {
    "duration": 664,
    "start_time": "2022-05-28T07:08:30.912Z"
   },
   {
    "duration": 19,
    "start_time": "2022-05-28T07:08:31.788Z"
   },
   {
    "duration": 35,
    "start_time": "2022-05-28T07:08:33.632Z"
   },
   {
    "duration": 89,
    "start_time": "2022-05-28T10:14:14.485Z"
   },
   {
    "duration": 1969,
    "start_time": "2022-05-28T12:31:04.851Z"
   },
   {
    "duration": 4716,
    "start_time": "2022-05-28T12:31:06.823Z"
   },
   {
    "duration": 204,
    "start_time": "2022-05-28T12:31:11.542Z"
   },
   {
    "duration": 650,
    "start_time": "2022-05-28T12:31:11.748Z"
   },
   {
    "duration": 787,
    "start_time": "2022-05-28T12:31:12.401Z"
   },
   {
    "duration": 223,
    "start_time": "2022-05-28T12:31:13.190Z"
   },
   {
    "duration": 264,
    "start_time": "2022-05-28T12:31:13.415Z"
   },
   {
    "duration": 110,
    "start_time": "2022-05-28T12:31:13.680Z"
   },
   {
    "duration": 51,
    "start_time": "2022-05-28T12:31:13.792Z"
   },
   {
    "duration": 20,
    "start_time": "2022-05-28T12:31:13.846Z"
   },
   {
    "duration": 147,
    "start_time": "2022-05-28T12:31:13.868Z"
   },
   {
    "duration": 57,
    "start_time": "2022-05-28T12:31:14.017Z"
   },
   {
    "duration": 845,
    "start_time": "2022-05-28T12:31:14.076Z"
   },
   {
    "duration": 25,
    "start_time": "2022-05-28T12:31:14.925Z"
   },
   {
    "duration": 1021,
    "start_time": "2022-05-28T12:31:14.953Z"
   },
   {
    "duration": 41,
    "start_time": "2022-05-28T12:31:15.977Z"
   },
   {
    "duration": 99,
    "start_time": "2022-05-28T12:31:16.020Z"
   },
   {
    "duration": 96,
    "start_time": "2022-05-28T12:31:16.124Z"
   },
   {
    "duration": 606,
    "start_time": "2022-05-28T12:31:16.222Z"
   },
   {
    "duration": 24,
    "start_time": "2022-05-28T12:31:16.830Z"
   },
   {
    "duration": 482,
    "start_time": "2022-05-28T12:31:16.859Z"
   },
   {
    "duration": 33110,
    "start_time": "2022-05-28T12:31:17.343Z"
   },
   {
    "duration": 393319,
    "start_time": "2022-05-28T12:31:50.511Z"
   },
   {
    "duration": 1368,
    "start_time": "2022-05-28T15:22:05.674Z"
   },
   {
    "duration": 1121,
    "start_time": "2022-05-28T15:22:07.044Z"
   },
   {
    "duration": 122,
    "start_time": "2022-05-28T15:22:08.167Z"
   },
   {
    "duration": 462,
    "start_time": "2022-05-28T15:22:08.295Z"
   },
   {
    "duration": 567,
    "start_time": "2022-05-28T15:22:08.758Z"
   },
   {
    "duration": 120,
    "start_time": "2022-05-28T15:22:09.326Z"
   },
   {
    "duration": 183,
    "start_time": "2022-05-28T15:22:09.448Z"
   },
   {
    "duration": 76,
    "start_time": "2022-05-28T15:22:09.633Z"
   },
   {
    "duration": 30,
    "start_time": "2022-05-28T15:22:09.711Z"
   },
   {
    "duration": 19,
    "start_time": "2022-05-28T15:22:09.743Z"
   },
   {
    "duration": 86,
    "start_time": "2022-05-28T15:22:09.763Z"
   },
   {
    "duration": 133,
    "start_time": "2022-05-28T15:22:09.851Z"
   },
   {
    "duration": 543,
    "start_time": "2022-05-28T15:22:09.986Z"
   },
   {
    "duration": 22,
    "start_time": "2022-05-28T15:22:10.530Z"
   },
   {
    "duration": 574,
    "start_time": "2022-05-28T15:22:10.554Z"
   },
   {
    "duration": 21,
    "start_time": "2022-05-28T15:22:11.130Z"
   },
   {
    "duration": 59,
    "start_time": "2022-05-28T15:22:11.153Z"
   },
   {
    "duration": 58,
    "start_time": "2022-05-28T15:22:11.214Z"
   },
   {
    "duration": 440,
    "start_time": "2022-05-28T15:22:11.274Z"
   },
   {
    "duration": 17,
    "start_time": "2022-05-28T15:22:11.716Z"
   },
   {
    "duration": 363,
    "start_time": "2022-05-28T15:22:11.735Z"
   },
   {
    "duration": 60,
    "start_time": "2022-05-28T15:22:24.111Z"
   },
   {
    "duration": 1115,
    "start_time": "2022-05-28T15:22:27.041Z"
   },
   {
    "duration": 881,
    "start_time": "2022-05-28T15:22:28.593Z"
   },
   {
    "duration": 1117,
    "start_time": "2022-05-28T15:22:40.556Z"
   },
   {
    "duration": 819,
    "start_time": "2022-05-28T15:22:41.675Z"
   },
   {
    "duration": 131,
    "start_time": "2022-05-28T15:22:42.496Z"
   },
   {
    "duration": 449,
    "start_time": "2022-05-28T15:22:42.629Z"
   },
   {
    "duration": 487,
    "start_time": "2022-05-28T15:22:43.080Z"
   },
   {
    "duration": 113,
    "start_time": "2022-05-28T15:22:43.568Z"
   },
   {
    "duration": 22,
    "start_time": "2022-05-28T15:22:53.006Z"
   },
   {
    "duration": 12,
    "start_time": "2022-05-28T15:23:07.562Z"
   },
   {
    "duration": 4,
    "start_time": "2022-05-28T15:24:20.146Z"
   },
   {
    "duration": 20,
    "start_time": "2022-05-28T15:24:23.910Z"
   },
   {
    "duration": 107,
    "start_time": "2022-05-28T15:24:25.787Z"
   },
   {
    "duration": 59,
    "start_time": "2022-05-28T15:24:31.459Z"
   },
   {
    "duration": 0,
    "start_time": "2022-05-28T15:24:31.520Z"
   },
   {
    "duration": 0,
    "start_time": "2022-05-28T15:24:31.521Z"
   },
   {
    "duration": 0,
    "start_time": "2022-05-28T15:24:31.523Z"
   },
   {
    "duration": 0,
    "start_time": "2022-05-28T15:24:31.524Z"
   },
   {
    "duration": 0,
    "start_time": "2022-05-28T15:24:31.526Z"
   },
   {
    "duration": 0,
    "start_time": "2022-05-28T15:24:31.527Z"
   },
   {
    "duration": 0,
    "start_time": "2022-05-28T15:24:31.528Z"
   },
   {
    "duration": 0,
    "start_time": "2022-05-28T15:24:31.530Z"
   },
   {
    "duration": 0,
    "start_time": "2022-05-28T15:24:31.531Z"
   },
   {
    "duration": 0,
    "start_time": "2022-05-28T15:24:31.532Z"
   },
   {
    "duration": 0,
    "start_time": "2022-05-28T15:24:31.533Z"
   },
   {
    "duration": 0,
    "start_time": "2022-05-28T15:24:31.534Z"
   },
   {
    "duration": 0,
    "start_time": "2022-05-28T15:24:31.535Z"
   },
   {
    "duration": 0,
    "start_time": "2022-05-28T15:24:31.536Z"
   },
   {
    "duration": 0,
    "start_time": "2022-05-28T15:24:31.537Z"
   },
   {
    "duration": 0,
    "start_time": "2022-05-28T15:24:31.538Z"
   },
   {
    "duration": 0,
    "start_time": "2022-05-28T15:24:31.539Z"
   },
   {
    "duration": 0,
    "start_time": "2022-05-28T15:24:31.540Z"
   },
   {
    "duration": 6,
    "start_time": "2022-05-28T15:24:31.596Z"
   },
   {
    "duration": 0,
    "start_time": "2022-05-28T15:24:31.604Z"
   },
   {
    "duration": 0,
    "start_time": "2022-05-28T15:24:31.605Z"
   },
   {
    "duration": 6,
    "start_time": "2022-05-28T15:24:31.956Z"
   },
   {
    "duration": 0,
    "start_time": "2022-05-28T15:24:31.964Z"
   },
   {
    "duration": 0,
    "start_time": "2022-05-28T15:24:31.965Z"
   },
   {
    "duration": 1160,
    "start_time": "2022-05-28T15:24:39.580Z"
   },
   {
    "duration": 837,
    "start_time": "2022-05-28T15:24:45.660Z"
   },
   {
    "duration": 131,
    "start_time": "2022-05-28T15:24:46.499Z"
   },
   {
    "duration": 461,
    "start_time": "2022-05-28T15:24:46.632Z"
   },
   {
    "duration": 500,
    "start_time": "2022-05-28T15:24:47.095Z"
   },
   {
    "duration": 115,
    "start_time": "2022-05-28T15:24:47.597Z"
   },
   {
    "duration": 1486,
    "start_time": "2022-05-28T16:01:39.998Z"
   },
   {
    "duration": 31,
    "start_time": "2022-05-28T16:02:25.472Z"
   },
   {
    "duration": 441,
    "start_time": "2022-05-28T16:02:33.524Z"
   },
   {
    "duration": 92,
    "start_time": "2022-05-28T16:02:44.744Z"
   },
   {
    "duration": 41,
    "start_time": "2022-05-28T16:02:52.483Z"
   },
   {
    "duration": 32,
    "start_time": "2022-05-28T16:03:39.382Z"
   },
   {
    "duration": 35,
    "start_time": "2022-05-28T16:03:58.218Z"
   },
   {
    "duration": 29,
    "start_time": "2022-05-28T16:04:20.876Z"
   },
   {
    "duration": 30,
    "start_time": "2022-05-28T16:04:25.301Z"
   },
   {
    "duration": 33,
    "start_time": "2022-05-28T16:05:01.928Z"
   },
   {
    "duration": 38,
    "start_time": "2022-05-28T16:05:06.363Z"
   },
   {
    "duration": 31,
    "start_time": "2022-05-28T16:05:17.171Z"
   },
   {
    "duration": 31,
    "start_time": "2022-05-28T16:06:17.215Z"
   },
   {
    "duration": 41,
    "start_time": "2022-05-28T16:06:31.789Z"
   },
   {
    "duration": 33,
    "start_time": "2022-05-28T16:06:35.823Z"
   },
   {
    "duration": 31,
    "start_time": "2022-05-28T16:07:38.384Z"
   },
   {
    "duration": 32,
    "start_time": "2022-05-28T16:12:12.922Z"
   },
   {
    "duration": 32,
    "start_time": "2022-05-28T16:12:52.613Z"
   },
   {
    "duration": 4,
    "start_time": "2022-05-28T16:13:08.723Z"
   },
   {
    "duration": 33,
    "start_time": "2022-05-28T16:13:11.808Z"
   },
   {
    "duration": 34,
    "start_time": "2022-05-28T16:13:16.062Z"
   },
   {
    "duration": 60,
    "start_time": "2022-05-28T18:15:54.475Z"
   },
   {
    "duration": 1323,
    "start_time": "2022-05-28T18:16:13.620Z"
   },
   {
    "duration": 3069,
    "start_time": "2022-05-28T18:16:14.945Z"
   },
   {
    "duration": 131,
    "start_time": "2022-05-28T18:16:18.015Z"
   },
   {
    "duration": 464,
    "start_time": "2022-05-28T18:16:18.148Z"
   },
   {
    "duration": 465,
    "start_time": "2022-05-28T18:16:18.614Z"
   },
   {
    "duration": 126,
    "start_time": "2022-05-28T18:16:19.080Z"
   },
   {
    "duration": 30,
    "start_time": "2022-05-28T18:16:19.208Z"
   },
   {
    "duration": 47,
    "start_time": "2022-05-28T18:16:19.239Z"
   },
   {
    "duration": 33,
    "start_time": "2022-05-28T18:16:19.287Z"
   },
   {
    "duration": 299,
    "start_time": "2022-05-28T18:16:22.239Z"
   },
   {
    "duration": 201,
    "start_time": "2022-05-28T18:18:18.289Z"
   },
   {
    "duration": 171,
    "start_time": "2022-05-28T18:18:32.034Z"
   },
   {
    "duration": 522,
    "start_time": "2022-05-28T18:18:34.689Z"
   },
   {
    "duration": 542,
    "start_time": "2022-05-28T18:19:07.232Z"
   },
   {
    "duration": 555,
    "start_time": "2022-05-28T18:24:20.849Z"
   },
   {
    "duration": 536,
    "start_time": "2022-05-28T18:24:45.176Z"
   },
   {
    "duration": 268,
    "start_time": "2022-05-28T18:24:55.744Z"
   },
   {
    "duration": 555,
    "start_time": "2022-05-28T18:25:16.399Z"
   },
   {
    "duration": 10,
    "start_time": "2022-05-28T18:26:18.045Z"
   },
   {
    "duration": 11,
    "start_time": "2022-05-28T18:26:39.913Z"
   },
   {
    "duration": 6,
    "start_time": "2022-05-28T18:26:45.275Z"
   },
   {
    "duration": 41,
    "start_time": "2022-05-28T18:26:58.465Z"
   },
   {
    "duration": 10,
    "start_time": "2022-05-28T18:27:03.905Z"
   },
   {
    "duration": 10,
    "start_time": "2022-05-28T18:27:18.525Z"
   },
   {
    "duration": 30,
    "start_time": "2022-05-28T18:27:53.656Z"
   },
   {
    "duration": 244,
    "start_time": "2022-05-28T18:28:36.494Z"
   },
   {
    "duration": 8,
    "start_time": "2022-05-28T18:29:24.997Z"
   },
   {
    "duration": 45,
    "start_time": "2022-05-28T18:29:38.995Z"
   },
   {
    "duration": 180,
    "start_time": "2022-05-28T18:29:48.680Z"
   },
   {
    "duration": 45,
    "start_time": "2022-05-28T18:31:29.469Z"
   },
   {
    "duration": 46,
    "start_time": "2022-05-28T18:31:33.235Z"
   },
   {
    "duration": 46,
    "start_time": "2022-05-28T18:32:38.764Z"
   },
   {
    "duration": 404,
    "start_time": "2022-05-28T18:32:53.341Z"
   },
   {
    "duration": 355,
    "start_time": "2022-05-28T18:32:59.253Z"
   },
   {
    "duration": 1213,
    "start_time": "2022-05-28T18:33:11.746Z"
   },
   {
    "duration": 811,
    "start_time": "2022-05-28T18:33:12.962Z"
   },
   {
    "duration": 144,
    "start_time": "2022-05-28T18:33:13.775Z"
   },
   {
    "duration": 445,
    "start_time": "2022-05-28T18:33:13.921Z"
   },
   {
    "duration": 452,
    "start_time": "2022-05-28T18:33:14.368Z"
   },
   {
    "duration": 138,
    "start_time": "2022-05-28T18:33:14.822Z"
   },
   {
    "duration": 35,
    "start_time": "2022-05-28T18:33:14.961Z"
   },
   {
    "duration": 49,
    "start_time": "2022-05-28T18:33:14.998Z"
   },
   {
    "duration": 42,
    "start_time": "2022-05-28T18:33:15.049Z"
   },
   {
    "duration": 211,
    "start_time": "2022-05-28T18:33:15.092Z"
   },
   {
    "duration": 646,
    "start_time": "2022-05-28T18:33:15.304Z"
   },
   {
    "duration": 58,
    "start_time": "2022-05-28T18:33:46.215Z"
   },
   {
    "duration": 46,
    "start_time": "2022-05-28T18:33:59.426Z"
   },
   {
    "duration": 153,
    "start_time": "2022-05-28T18:34:02.896Z"
   },
   {
    "duration": 1133,
    "start_time": "2022-05-28T18:39:25.685Z"
   },
   {
    "duration": 780,
    "start_time": "2022-05-28T18:39:26.821Z"
   },
   {
    "duration": 117,
    "start_time": "2022-05-28T18:39:27.602Z"
   },
   {
    "duration": 431,
    "start_time": "2022-05-28T18:39:27.721Z"
   },
   {
    "duration": 456,
    "start_time": "2022-05-28T18:39:28.153Z"
   },
   {
    "duration": 110,
    "start_time": "2022-05-28T18:39:28.610Z"
   },
   {
    "duration": 30,
    "start_time": "2022-05-28T18:39:28.721Z"
   },
   {
    "duration": 54,
    "start_time": "2022-05-28T18:39:28.753Z"
   },
   {
    "duration": 45,
    "start_time": "2022-05-28T18:39:28.809Z"
   },
   {
    "duration": 227,
    "start_time": "2022-05-28T18:39:28.857Z"
   },
   {
    "duration": 677,
    "start_time": "2022-05-28T18:39:29.086Z"
   },
   {
    "duration": 84,
    "start_time": "2022-05-28T18:39:47.525Z"
   },
   {
    "duration": 15,
    "start_time": "2022-05-28T18:39:48.132Z"
   },
   {
    "duration": 112,
    "start_time": "2022-05-28T18:42:34.163Z"
   },
   {
    "duration": 125,
    "start_time": "2022-05-28T18:42:58.714Z"
   },
   {
    "duration": 115,
    "start_time": "2022-05-28T18:43:08.749Z"
   },
   {
    "duration": 146,
    "start_time": "2022-05-28T18:43:53.930Z"
   },
   {
    "duration": 142,
    "start_time": "2022-05-28T18:44:20.612Z"
   },
   {
    "duration": 107,
    "start_time": "2022-05-28T18:46:17.089Z"
   },
   {
    "duration": 1170,
    "start_time": "2022-05-28T18:46:34.151Z"
   },
   {
    "duration": 798,
    "start_time": "2022-05-28T18:46:35.323Z"
   },
   {
    "duration": 131,
    "start_time": "2022-05-28T18:46:36.122Z"
   },
   {
    "duration": 433,
    "start_time": "2022-05-28T18:46:36.255Z"
   },
   {
    "duration": 472,
    "start_time": "2022-05-28T18:46:36.691Z"
   },
   {
    "duration": 119,
    "start_time": "2022-05-28T18:46:37.164Z"
   },
   {
    "duration": 33,
    "start_time": "2022-05-28T18:46:37.285Z"
   },
   {
    "duration": 35,
    "start_time": "2022-05-28T18:46:37.320Z"
   },
   {
    "duration": 51,
    "start_time": "2022-05-28T18:46:37.356Z"
   },
   {
    "duration": 213,
    "start_time": "2022-05-28T18:46:37.408Z"
   },
   {
    "duration": 645,
    "start_time": "2022-05-28T18:46:37.622Z"
   },
   {
    "duration": 3,
    "start_time": "2022-05-28T18:46:38.268Z"
   },
   {
    "duration": 16,
    "start_time": "2022-05-28T18:46:38.275Z"
   },
   {
    "duration": 154,
    "start_time": "2022-05-28T18:46:38.294Z"
   },
   {
    "duration": 125,
    "start_time": "2022-05-28T18:46:38.450Z"
   },
   {
    "duration": 30,
    "start_time": "2022-05-28T18:46:38.577Z"
   },
   {
    "duration": 21,
    "start_time": "2022-05-28T18:46:38.609Z"
   },
   {
    "duration": 107,
    "start_time": "2022-05-28T18:46:38.632Z"
   },
   {
    "duration": 95,
    "start_time": "2022-05-28T18:46:38.740Z"
   },
   {
    "duration": 626,
    "start_time": "2022-05-28T18:46:38.837Z"
   },
   {
    "duration": 32,
    "start_time": "2022-05-28T18:46:39.465Z"
   },
   {
    "duration": 806,
    "start_time": "2022-05-28T18:46:39.498Z"
   },
   {
    "duration": 24,
    "start_time": "2022-05-28T18:46:40.306Z"
   },
   {
    "duration": 85,
    "start_time": "2022-05-28T18:46:40.331Z"
   },
   {
    "duration": 75,
    "start_time": "2022-05-28T18:46:40.418Z"
   },
   {
    "duration": 751,
    "start_time": "2022-05-28T18:46:40.496Z"
   },
   {
    "duration": 17,
    "start_time": "2022-05-28T18:46:41.248Z"
   },
   {
    "duration": 516,
    "start_time": "2022-05-28T18:46:41.275Z"
   },
   {
    "duration": 446,
    "start_time": "2022-05-28T18:46:41.792Z"
   },
   {
    "duration": 409,
    "start_time": "2022-05-28T18:48:56.797Z"
   },
   {
    "duration": 49,
    "start_time": "2022-05-28T18:48:57.821Z"
   },
   {
    "duration": 1104,
    "start_time": "2022-05-28T18:49:25.706Z"
   },
   {
    "duration": 758,
    "start_time": "2022-05-28T18:49:26.812Z"
   },
   {
    "duration": 119,
    "start_time": "2022-05-28T18:49:27.571Z"
   },
   {
    "duration": 420,
    "start_time": "2022-05-28T18:49:27.692Z"
   },
   {
    "duration": 470,
    "start_time": "2022-05-28T18:49:28.114Z"
   },
   {
    "duration": 115,
    "start_time": "2022-05-28T18:49:28.586Z"
   },
   {
    "duration": 31,
    "start_time": "2022-05-28T18:49:28.702Z"
   },
   {
    "duration": 48,
    "start_time": "2022-05-28T18:49:28.735Z"
   },
   {
    "duration": 37,
    "start_time": "2022-05-28T18:49:28.785Z"
   },
   {
    "duration": 200,
    "start_time": "2022-05-28T18:49:28.824Z"
   },
   {
    "duration": 625,
    "start_time": "2022-05-28T18:49:29.026Z"
   },
   {
    "duration": 2,
    "start_time": "2022-05-28T18:49:29.653Z"
   },
   {
    "duration": 23,
    "start_time": "2022-05-28T18:49:29.656Z"
   },
   {
    "duration": 148,
    "start_time": "2022-05-28T18:49:29.681Z"
   },
   {
    "duration": 137,
    "start_time": "2022-05-28T18:49:29.831Z"
   },
   {
    "duration": 29,
    "start_time": "2022-05-28T18:49:29.980Z"
   },
   {
    "duration": 21,
    "start_time": "2022-05-28T18:49:30.011Z"
   },
   {
    "duration": 99,
    "start_time": "2022-05-28T18:49:30.033Z"
   },
   {
    "duration": 81,
    "start_time": "2022-05-28T18:49:30.134Z"
   },
   {
    "duration": 65,
    "start_time": "2022-05-28T18:49:30.217Z"
   },
   {
    "duration": 538,
    "start_time": "2022-05-28T18:49:30.284Z"
   },
   {
    "duration": 17,
    "start_time": "2022-05-28T18:49:30.824Z"
   },
   {
    "duration": 642,
    "start_time": "2022-05-28T18:49:30.844Z"
   },
   {
    "duration": 114,
    "start_time": "2022-05-28T18:50:23.476Z"
   },
   {
    "duration": 7,
    "start_time": "2022-05-28T18:50:35.243Z"
   },
   {
    "duration": 14,
    "start_time": "2022-05-28T18:50:40.786Z"
   },
   {
    "duration": 8,
    "start_time": "2022-05-28T18:50:44.831Z"
   },
   {
    "duration": 7,
    "start_time": "2022-05-28T18:50:57.949Z"
   },
   {
    "duration": 8,
    "start_time": "2022-05-28T18:51:46.590Z"
   },
   {
    "duration": 15,
    "start_time": "2022-05-28T18:52:19.905Z"
   },
   {
    "duration": 52,
    "start_time": "2022-05-29T09:49:34.308Z"
   },
   {
    "duration": 1492,
    "start_time": "2022-05-29T09:49:41.660Z"
   },
   {
    "duration": 3715,
    "start_time": "2022-05-29T09:49:43.155Z"
   },
   {
    "duration": 144,
    "start_time": "2022-05-29T09:49:46.871Z"
   },
   {
    "duration": 437,
    "start_time": "2022-05-29T09:49:47.016Z"
   },
   {
    "duration": 465,
    "start_time": "2022-05-29T09:49:47.456Z"
   },
   {
    "duration": 130,
    "start_time": "2022-05-29T09:49:47.922Z"
   },
   {
    "duration": 55,
    "start_time": "2022-05-29T09:49:48.053Z"
   },
   {
    "duration": 30,
    "start_time": "2022-05-29T09:49:48.110Z"
   },
   {
    "duration": 50,
    "start_time": "2022-05-29T09:49:48.142Z"
   },
   {
    "duration": 198,
    "start_time": "2022-05-29T09:49:48.203Z"
   },
   {
    "duration": 616,
    "start_time": "2022-05-29T09:49:48.403Z"
   },
   {
    "duration": 2,
    "start_time": "2022-05-29T09:49:49.021Z"
   },
   {
    "duration": 12,
    "start_time": "2022-05-29T09:49:49.025Z"
   },
   {
    "duration": 433,
    "start_time": "2022-05-29T09:50:56.308Z"
   },
   {
    "duration": 94,
    "start_time": "2022-05-29T09:51:01.649Z"
   },
   {
    "duration": 1160,
    "start_time": "2022-05-29T09:51:39.966Z"
   },
   {
    "duration": 824,
    "start_time": "2022-05-29T09:51:41.127Z"
   },
   {
    "duration": 149,
    "start_time": "2022-05-29T09:51:41.952Z"
   },
   {
    "duration": 449,
    "start_time": "2022-05-29T09:51:42.103Z"
   },
   {
    "duration": 560,
    "start_time": "2022-05-29T09:51:42.554Z"
   },
   {
    "duration": 142,
    "start_time": "2022-05-29T09:51:43.119Z"
   },
   {
    "duration": 59,
    "start_time": "2022-05-29T09:51:43.262Z"
   },
   {
    "duration": 38,
    "start_time": "2022-05-29T09:51:43.322Z"
   },
   {
    "duration": 72,
    "start_time": "2022-05-29T09:51:43.362Z"
   },
   {
    "duration": 237,
    "start_time": "2022-05-29T09:51:43.436Z"
   },
   {
    "duration": 738,
    "start_time": "2022-05-29T09:51:43.678Z"
   },
   {
    "duration": 2,
    "start_time": "2022-05-29T09:51:44.418Z"
   },
   {
    "duration": 15,
    "start_time": "2022-05-29T09:51:44.422Z"
   },
   {
    "duration": 201,
    "start_time": "2022-05-29T09:51:44.439Z"
   },
   {
    "duration": 132,
    "start_time": "2022-05-29T09:51:44.641Z"
   },
   {
    "duration": 40,
    "start_time": "2022-05-29T09:51:44.782Z"
   },
   {
    "duration": 19,
    "start_time": "2022-05-29T09:51:44.824Z"
   },
   {
    "duration": 105,
    "start_time": "2022-05-29T09:51:48.453Z"
   },
   {
    "duration": 81,
    "start_time": "2022-05-29T09:51:49.142Z"
   },
   {
    "duration": 611,
    "start_time": "2022-05-29T09:53:39.494Z"
   },
   {
    "duration": 75,
    "start_time": "2022-05-29T09:53:46.746Z"
   },
   {
    "duration": 57,
    "start_time": "2022-05-29T10:20:21.659Z"
   },
   {
    "duration": 0,
    "start_time": "2022-05-29T10:20:21.718Z"
   },
   {
    "duration": 0,
    "start_time": "2022-05-29T10:20:21.719Z"
   },
   {
    "duration": 0,
    "start_time": "2022-05-29T10:20:21.720Z"
   },
   {
    "duration": 0,
    "start_time": "2022-05-29T10:20:21.721Z"
   },
   {
    "duration": 0,
    "start_time": "2022-05-29T10:20:21.722Z"
   },
   {
    "duration": 0,
    "start_time": "2022-05-29T10:20:21.724Z"
   },
   {
    "duration": 0,
    "start_time": "2022-05-29T10:20:21.725Z"
   },
   {
    "duration": 0,
    "start_time": "2022-05-29T10:20:21.726Z"
   },
   {
    "duration": 0,
    "start_time": "2022-05-29T10:20:21.727Z"
   },
   {
    "duration": 0,
    "start_time": "2022-05-29T10:20:21.728Z"
   },
   {
    "duration": 0,
    "start_time": "2022-05-29T10:20:21.729Z"
   },
   {
    "duration": 0,
    "start_time": "2022-05-29T10:20:21.730Z"
   },
   {
    "duration": 0,
    "start_time": "2022-05-29T10:20:21.731Z"
   },
   {
    "duration": 0,
    "start_time": "2022-05-29T10:20:21.732Z"
   },
   {
    "duration": 0,
    "start_time": "2022-05-29T10:20:21.733Z"
   },
   {
    "duration": 0,
    "start_time": "2022-05-29T10:20:21.734Z"
   },
   {
    "duration": 0,
    "start_time": "2022-05-29T10:20:21.735Z"
   },
   {
    "duration": 0,
    "start_time": "2022-05-29T10:20:21.735Z"
   },
   {
    "duration": 0,
    "start_time": "2022-05-29T10:20:21.736Z"
   },
   {
    "duration": 0,
    "start_time": "2022-05-29T10:20:21.737Z"
   },
   {
    "duration": 12,
    "start_time": "2022-05-29T10:20:21.776Z"
   },
   {
    "duration": 0,
    "start_time": "2022-05-29T10:20:21.792Z"
   },
   {
    "duration": 0,
    "start_time": "2022-05-29T10:20:21.794Z"
   },
   {
    "duration": 0,
    "start_time": "2022-05-29T10:20:21.795Z"
   },
   {
    "duration": 0,
    "start_time": "2022-05-29T10:20:21.796Z"
   },
   {
    "duration": 0,
    "start_time": "2022-05-29T10:20:21.798Z"
   },
   {
    "duration": 0,
    "start_time": "2022-05-29T10:20:21.799Z"
   },
   {
    "duration": 0,
    "start_time": "2022-05-29T10:20:21.801Z"
   },
   {
    "duration": 0,
    "start_time": "2022-05-29T10:20:21.802Z"
   },
   {
    "duration": 0,
    "start_time": "2022-05-29T10:20:21.803Z"
   },
   {
    "duration": 0,
    "start_time": "2022-05-29T10:20:21.804Z"
   },
   {
    "duration": 1112,
    "start_time": "2022-05-29T10:20:54.485Z"
   },
   {
    "duration": 790,
    "start_time": "2022-05-29T10:20:55.598Z"
   },
   {
    "duration": 139,
    "start_time": "2022-05-29T10:20:56.390Z"
   },
   {
    "duration": 457,
    "start_time": "2022-05-29T10:20:56.531Z"
   },
   {
    "duration": 464,
    "start_time": "2022-05-29T10:20:56.989Z"
   },
   {
    "duration": 134,
    "start_time": "2022-05-29T10:20:57.455Z"
   },
   {
    "duration": 32,
    "start_time": "2022-05-29T10:21:04.118Z"
   },
   {
    "duration": 41,
    "start_time": "2022-05-29T10:21:26.067Z"
   },
   {
    "duration": 38,
    "start_time": "2022-05-29T10:21:28.148Z"
   },
   {
    "duration": 200,
    "start_time": "2022-05-29T10:21:46.886Z"
   },
   {
    "duration": 741,
    "start_time": "2022-05-29T10:21:47.549Z"
   },
   {
    "duration": 3,
    "start_time": "2022-05-29T10:21:53.056Z"
   },
   {
    "duration": 11,
    "start_time": "2022-05-29T10:21:53.297Z"
   },
   {
    "duration": 168,
    "start_time": "2022-05-29T10:21:56.721Z"
   },
   {
    "duration": 142,
    "start_time": "2022-05-29T10:22:12.898Z"
   },
   {
    "duration": 31,
    "start_time": "2022-05-29T10:22:21.927Z"
   },
   {
    "duration": 23,
    "start_time": "2022-05-29T10:22:30.213Z"
   },
   {
    "duration": 83,
    "start_time": "2022-05-29T10:22:47.951Z"
   },
   {
    "duration": 83,
    "start_time": "2022-05-29T10:23:00.052Z"
   },
   {
    "duration": 647,
    "start_time": "2022-05-29T10:23:00.590Z"
   },
   {
    "duration": 7,
    "start_time": "2022-05-29T10:23:15.141Z"
   },
   {
    "duration": 8,
    "start_time": "2022-05-29T10:24:25.860Z"
   },
   {
    "duration": 8,
    "start_time": "2022-05-29T10:24:29.155Z"
   },
   {
    "duration": 9,
    "start_time": "2022-05-29T10:24:36.051Z"
   },
   {
    "duration": 70,
    "start_time": "2022-05-29T10:25:45.193Z"
   },
   {
    "duration": 14,
    "start_time": "2022-05-29T10:25:50.986Z"
   },
   {
    "duration": 9,
    "start_time": "2022-05-29T10:26:16.769Z"
   },
   {
    "duration": 13,
    "start_time": "2022-05-29T10:26:27.253Z"
   },
   {
    "duration": 17,
    "start_time": "2022-05-29T10:26:58.373Z"
   },
   {
    "duration": 11,
    "start_time": "2022-05-29T10:27:01.104Z"
   },
   {
    "duration": 18,
    "start_time": "2022-05-29T10:27:08.493Z"
   },
   {
    "duration": 18,
    "start_time": "2022-05-29T10:27:18.874Z"
   },
   {
    "duration": 24,
    "start_time": "2022-05-29T10:28:51.966Z"
   },
   {
    "duration": 14,
    "start_time": "2022-05-29T11:06:38.414Z"
   },
   {
    "duration": 39,
    "start_time": "2022-05-29T11:06:58.021Z"
   },
   {
    "duration": 16,
    "start_time": "2022-05-29T11:07:04.378Z"
   },
   {
    "duration": 816,
    "start_time": "2022-05-29T11:08:03.973Z"
   },
   {
    "duration": 560,
    "start_time": "2022-05-29T11:08:49.594Z"
   },
   {
    "duration": 207,
    "start_time": "2022-05-29T11:10:27.042Z"
   },
   {
    "duration": 337,
    "start_time": "2022-05-29T11:11:25.644Z"
   },
   {
    "duration": 442,
    "start_time": "2022-05-29T11:11:39.285Z"
   },
   {
    "duration": 51,
    "start_time": "2022-05-29T11:12:09.856Z"
   },
   {
    "duration": 32,
    "start_time": "2022-05-29T11:12:12.402Z"
   },
   {
    "duration": 433,
    "start_time": "2022-05-29T11:12:26.462Z"
   },
   {
    "duration": 344,
    "start_time": "2022-05-29T11:12:49.345Z"
   },
   {
    "duration": 347,
    "start_time": "2022-05-29T11:12:57.946Z"
   },
   {
    "duration": 685,
    "start_time": "2022-05-29T11:13:45.104Z"
   },
   {
    "duration": 48,
    "start_time": "2022-05-29T11:13:59.857Z"
   },
   {
    "duration": 774,
    "start_time": "2022-05-29T11:14:04.962Z"
   },
   {
    "duration": 629,
    "start_time": "2022-05-29T11:14:17.092Z"
   },
   {
    "duration": 620,
    "start_time": "2022-05-29T11:14:28.290Z"
   },
   {
    "duration": 689,
    "start_time": "2022-05-29T11:14:33.185Z"
   },
   {
    "duration": 579,
    "start_time": "2022-05-29T11:14:43.311Z"
   },
   {
    "duration": 549,
    "start_time": "2022-05-29T11:14:53.204Z"
   },
   {
    "duration": 438,
    "start_time": "2022-05-29T11:22:23.952Z"
   },
   {
    "duration": 470,
    "start_time": "2022-05-29T11:22:29.889Z"
   },
   {
    "duration": 487,
    "start_time": "2022-05-29T11:22:36.168Z"
   },
   {
    "duration": 633,
    "start_time": "2022-05-29T11:22:43.120Z"
   },
   {
    "duration": 982,
    "start_time": "2022-05-29T11:28:59.872Z"
   },
   {
    "duration": 897,
    "start_time": "2022-05-29T11:29:08.560Z"
   },
   {
    "duration": 873,
    "start_time": "2022-05-29T11:29:18.247Z"
   },
   {
    "duration": 867,
    "start_time": "2022-05-29T11:29:26.176Z"
   },
   {
    "duration": 59,
    "start_time": "2022-05-29T11:30:09.810Z"
   },
   {
    "duration": 0,
    "start_time": "2022-05-29T11:30:09.871Z"
   },
   {
    "duration": 0,
    "start_time": "2022-05-29T11:30:09.872Z"
   },
   {
    "duration": 0,
    "start_time": "2022-05-29T11:30:09.873Z"
   },
   {
    "duration": 0,
    "start_time": "2022-05-29T11:30:09.875Z"
   },
   {
    "duration": 0,
    "start_time": "2022-05-29T11:30:09.876Z"
   },
   {
    "duration": 0,
    "start_time": "2022-05-29T11:30:09.877Z"
   },
   {
    "duration": 0,
    "start_time": "2022-05-29T11:30:09.878Z"
   },
   {
    "duration": 0,
    "start_time": "2022-05-29T11:30:09.879Z"
   },
   {
    "duration": 0,
    "start_time": "2022-05-29T11:30:09.880Z"
   },
   {
    "duration": 0,
    "start_time": "2022-05-29T11:30:09.881Z"
   },
   {
    "duration": 0,
    "start_time": "2022-05-29T11:30:09.882Z"
   },
   {
    "duration": 0,
    "start_time": "2022-05-29T11:30:09.883Z"
   },
   {
    "duration": 0,
    "start_time": "2022-05-29T11:30:09.884Z"
   },
   {
    "duration": 0,
    "start_time": "2022-05-29T11:30:09.885Z"
   },
   {
    "duration": 0,
    "start_time": "2022-05-29T11:30:09.886Z"
   },
   {
    "duration": 0,
    "start_time": "2022-05-29T11:30:09.886Z"
   },
   {
    "duration": 0,
    "start_time": "2022-05-29T11:30:09.887Z"
   },
   {
    "duration": 0,
    "start_time": "2022-05-29T11:30:09.888Z"
   },
   {
    "duration": 0,
    "start_time": "2022-05-29T11:30:09.892Z"
   },
   {
    "duration": 0,
    "start_time": "2022-05-29T11:30:09.893Z"
   },
   {
    "duration": 0,
    "start_time": "2022-05-29T11:30:09.894Z"
   },
   {
    "duration": 0,
    "start_time": "2022-05-29T11:30:09.895Z"
   },
   {
    "duration": 0,
    "start_time": "2022-05-29T11:30:09.896Z"
   },
   {
    "duration": 0,
    "start_time": "2022-05-29T11:30:09.897Z"
   },
   {
    "duration": 0,
    "start_time": "2022-05-29T11:30:09.898Z"
   },
   {
    "duration": 8,
    "start_time": "2022-05-29T11:30:09.900Z"
   },
   {
    "duration": 0,
    "start_time": "2022-05-29T11:30:09.910Z"
   },
   {
    "duration": 0,
    "start_time": "2022-05-29T11:30:09.911Z"
   },
   {
    "duration": 0,
    "start_time": "2022-05-29T11:30:09.913Z"
   },
   {
    "duration": 0,
    "start_time": "2022-05-29T11:30:09.914Z"
   },
   {
    "duration": 0,
    "start_time": "2022-05-29T11:30:09.916Z"
   },
   {
    "duration": 0,
    "start_time": "2022-05-29T11:30:09.917Z"
   },
   {
    "duration": 1165,
    "start_time": "2022-05-29T11:30:35.567Z"
   },
   {
    "duration": 908,
    "start_time": "2022-05-29T11:30:46.694Z"
   },
   {
    "duration": 99,
    "start_time": "2022-05-29T11:30:56.564Z"
   },
   {
    "duration": 118,
    "start_time": "2022-05-29T11:31:29.956Z"
   },
   {
    "duration": 431,
    "start_time": "2022-05-29T11:32:29.086Z"
   },
   {
    "duration": 489,
    "start_time": "2022-05-29T11:32:30.213Z"
   },
   {
    "duration": 101,
    "start_time": "2022-05-29T11:33:02.743Z"
   },
   {
    "duration": 32,
    "start_time": "2022-05-29T11:44:18.487Z"
   },
   {
    "duration": 70,
    "start_time": "2022-05-29T12:04:52.074Z"
   },
   {
    "duration": 1099,
    "start_time": "2022-05-29T12:04:59.413Z"
   },
   {
    "duration": 928,
    "start_time": "2022-05-29T12:05:00.514Z"
   },
   {
    "duration": 98,
    "start_time": "2022-05-29T12:05:01.444Z"
   },
   {
    "duration": 49,
    "start_time": "2022-05-29T12:05:01.545Z"
   },
   {
    "duration": 127,
    "start_time": "2022-05-29T12:05:01.596Z"
   },
   {
    "duration": 85,
    "start_time": "2022-05-29T12:05:01.725Z"
   },
   {
    "duration": 25,
    "start_time": "2022-05-29T12:05:01.811Z"
   },
   {
    "duration": 202,
    "start_time": "2022-05-29T12:05:01.838Z"
   },
   {
    "duration": 213,
    "start_time": "2022-05-29T12:05:02.041Z"
   },
   {
    "duration": 69,
    "start_time": "2022-05-29T12:05:02.256Z"
   },
   {
    "duration": 146,
    "start_time": "2022-05-29T12:06:17.267Z"
   },
   {
    "duration": 374,
    "start_time": "2022-05-29T12:06:28.652Z"
   },
   {
    "duration": 125,
    "start_time": "2022-05-29T12:06:33.064Z"
   },
   {
    "duration": 3,
    "start_time": "2022-05-29T12:06:41.927Z"
   },
   {
    "duration": 829,
    "start_time": "2022-05-29T12:06:41.932Z"
   },
   {
    "duration": 107,
    "start_time": "2022-05-29T12:06:42.763Z"
   },
   {
    "duration": 40,
    "start_time": "2022-05-29T12:06:42.875Z"
   },
   {
    "duration": 140,
    "start_time": "2022-05-29T12:06:42.917Z"
   },
   {
    "duration": 81,
    "start_time": "2022-05-29T12:06:43.058Z"
   },
   {
    "duration": 17,
    "start_time": "2022-05-29T12:06:43.140Z"
   },
   {
    "duration": 181,
    "start_time": "2022-05-29T12:06:43.158Z"
   },
   {
    "duration": 143,
    "start_time": "2022-05-29T12:06:52.231Z"
   },
   {
    "duration": 141,
    "start_time": "2022-05-29T12:06:57.513Z"
   },
   {
    "duration": 75,
    "start_time": "2022-05-29T12:07:47.251Z"
   },
   {
    "duration": 3,
    "start_time": "2022-05-29T12:08:55.952Z"
   },
   {
    "duration": 821,
    "start_time": "2022-05-29T12:08:55.957Z"
   },
   {
    "duration": 81,
    "start_time": "2022-05-29T12:08:56.779Z"
   },
   {
    "duration": 40,
    "start_time": "2022-05-29T12:08:56.861Z"
   },
   {
    "duration": 115,
    "start_time": "2022-05-29T12:08:56.903Z"
   },
   {
    "duration": 78,
    "start_time": "2022-05-29T12:08:57.020Z"
   },
   {
    "duration": 344,
    "start_time": "2022-05-29T12:08:57.100Z"
   },
   {
    "duration": 387,
    "start_time": "2022-05-29T12:09:06.551Z"
   },
   {
    "duration": 17,
    "start_time": "2022-05-29T12:09:14.352Z"
   },
   {
    "duration": 77,
    "start_time": "2022-05-29T12:09:16.452Z"
   },
   {
    "duration": 144,
    "start_time": "2022-05-29T12:09:19.551Z"
   },
   {
    "duration": 148,
    "start_time": "2022-05-29T12:09:32.112Z"
   },
   {
    "duration": 173,
    "start_time": "2022-05-29T12:09:32.884Z"
   },
   {
    "duration": 75,
    "start_time": "2022-05-29T12:09:36.233Z"
   },
   {
    "duration": 75,
    "start_time": "2022-05-29T12:09:43.159Z"
   },
   {
    "duration": 3,
    "start_time": "2022-05-29T12:09:50.220Z"
   },
   {
    "duration": 833,
    "start_time": "2022-05-29T12:09:50.226Z"
   },
   {
    "duration": 160,
    "start_time": "2022-05-29T12:09:51.061Z"
   },
   {
    "duration": 31,
    "start_time": "2022-05-29T12:09:51.222Z"
   },
   {
    "duration": 114,
    "start_time": "2022-05-29T12:09:51.255Z"
   },
   {
    "duration": 65,
    "start_time": "2022-05-29T12:09:51.371Z"
   },
   {
    "duration": 361,
    "start_time": "2022-05-29T12:09:51.438Z"
   },
   {
    "duration": 389,
    "start_time": "2022-05-29T12:09:51.800Z"
   },
   {
    "duration": 20,
    "start_time": "2022-05-29T12:09:52.190Z"
   },
   {
    "duration": 99,
    "start_time": "2022-05-29T12:09:52.212Z"
   },
   {
    "duration": 163,
    "start_time": "2022-05-29T12:09:52.312Z"
   },
   {
    "duration": 70,
    "start_time": "2022-05-29T12:09:58.006Z"
   },
   {
    "duration": 163,
    "start_time": "2022-05-29T12:10:10.914Z"
   },
   {
    "duration": 63,
    "start_time": "2022-05-29T12:10:15.365Z"
   },
   {
    "duration": 111,
    "start_time": "2022-05-29T12:10:47.112Z"
   },
   {
    "duration": 4,
    "start_time": "2022-05-29T12:10:49.005Z"
   },
   {
    "duration": 18,
    "start_time": "2022-05-29T12:12:07.590Z"
   }
  ],
  "kernelspec": {
   "display_name": "Python 3 (ipykernel)",
   "language": "python",
   "name": "python3"
  },
  "language_info": {
   "codemirror_mode": {
    "name": "ipython",
    "version": 3
   },
   "file_extension": ".py",
   "mimetype": "text/x-python",
   "name": "python",
   "nbconvert_exporter": "python",
   "pygments_lexer": "ipython3",
   "version": "3.7.8"
  },
  "toc": {
   "base_numbering": 1,
   "nav_menu": {},
   "number_sections": true,
   "sideBar": true,
   "skip_h1_title": true,
   "title_cell": "Table of Contents",
   "title_sidebar": "Contents",
   "toc_cell": false,
   "toc_position": {
    "height": "calc(100% - 180px)",
    "left": "10px",
    "top": "150px",
    "width": "281.198px"
   },
   "toc_section_display": true,
   "toc_window_display": true
  }
 },
 "nbformat": 4,
 "nbformat_minor": 2
}
