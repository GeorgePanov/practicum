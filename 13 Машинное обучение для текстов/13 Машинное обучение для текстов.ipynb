{
 "cells": [
  {
   "cell_type": "markdown",
   "metadata": {},
   "source": [
    "# Проект для «Викишоп»"
   ]
  },
  {
   "cell_type": "markdown",
   "metadata": {},
   "source": [
    "<div style=\"border:solid blue 2px; padding: 20px\">\n",
    "Привет Георгий! Меня зовут Андрей Петрушин, я буду проверять твой проект. Предлагаю общаться на «ты», это упрощает коммуникацию :) Но если это некомфортно - можем перейти на “Вы”.\n",
    "\n",
    "Вижу, проведена большая работа над проектом и он выполнен на хорошем уровне. Моя основная цель при проверке работы — помочь сделать проект лучше и возможно, поделиться своим опытом решения подобных задач\n",
    "\n",
    "Я буду делать комментарии тремя цветами:\n",
    "    \n",
    "<font color=\"green\">✔️ Комментарий ревьювера    \n",
    "зеленый - все отлично, хорошее решение</font>    \n",
    "\n",
    "<font color=\"brown\">⚠️ Комментарий ревьювера     \n",
    "Коричневый - есть рекомендации, в другой раз можно сделать иначе</font>\n",
    "    \n",
    "<font color=\"red\">❌Комментарий ревьювера     \n",
    "красный - есть недочеты, их нужно исправить и проект будет принят</font>\n",
    "    \n",
    "Пожалуйста, не удаляй мои комментарии, нам обоим будет проще разобраться в недочетах, что и как исправлено. Желательно реагировать на каждый оранжевый и красный комментарии. Свои комментарии тоже отмечай, например другим цветом или надписью “Комментарий студента”. \n",
    "\n",
    "\\<font color='darkblue'> Этот код позволяет менять цвет текста. \\</font>\n",
    "</div>\n"
   ]
  },
  {
   "cell_type": "markdown",
   "metadata": {},
   "source": [
    "Интернет-магазин «Викишоп» запускает новый сервис. Теперь пользователи могут редактировать и дополнять описания товаров, как в вики-сообществах. То есть клиенты предлагают свои правки и комментируют изменения других. Магазину нужен инструмент, который будет искать токсичные комментарии и отправлять их на модерацию. \n",
    "\n",
    "Обучите модель классифицировать комментарии на позитивные и негативные. В вашем распоряжении набор данных с разметкой о токсичности правок.\n",
    "\n",
    "Постройте модель со значением метрики качества *F1* не меньше 0.75. \n",
    "\n",
    "**Инструкция по выполнению проекта**\n",
    "\n",
    "1. Загрузите и подготовьте данные.\n",
    "2. Обучите разные модели. \n",
    "3. Сделайте выводы.\n",
    "\n",
    "Для выполнения проекта применять *BERT* необязательно, но вы можете попробовать.\n",
    "\n",
    "**Описание данных**\n",
    "\n",
    "Данные находятся в файле `toxic_comments.csv`. Столбец *text* в нём содержит текст комментария, а *toxic* — целевой признак."
   ]
  },
  {
   "cell_type": "markdown",
   "metadata": {},
   "source": [
    "<font color=\"green\">✔️Комментарий ревьювера    \n",
    "Отлично, что приведено описание задачи и план исследования - это очень важная часть любого проекта.</font>\n"
   ]
  },
  {
   "cell_type": "markdown",
   "metadata": {},
   "source": [
    "## Подготовка"
   ]
  },
  {
   "cell_type": "code",
   "execution_count": 1,
   "metadata": {},
   "outputs": [
    {
     "name": "stderr",
     "output_type": "stream",
     "text": [
      "[nltk_data] Downloading package stopwords to /home/jovyan/nltk_data...\n",
      "[nltk_data]   Package stopwords is already up-to-date!\n",
      "[nltk_data] Downloading package wordnet to /home/jovyan/nltk_data...\n",
      "[nltk_data]   Package wordnet is already up-to-date!\n"
     ]
    }
   ],
   "source": [
    "import pandas as pd\n",
    "import numpy as np\n",
    "import seaborn as sns\n",
    "\n",
    "# from pymystem3 import Mystem\n",
    "\n",
    "import re\n",
    "import nltk \n",
    "nltk.download('stopwords')\n",
    "nltk.download('wordnet')\n",
    "from nltk.stem import WordNetLemmatizer\n",
    "from nltk.corpus import stopwords as nltk_stopwords\n",
    "from sklearn.feature_extraction.text import TfidfVectorizer\n",
    "\n",
    "from sklearn.linear_model import LogisticRegression\n",
    "from sklearn.tree import DecisionTreeClassifier\n",
    "from sklearn.ensemble import RandomForestClassifier\n",
    "\n",
    "from sklearn.model_selection import GridSearchCV\n",
    "from sklearn.model_selection import cross_val_score\n",
    "from sklearn.model_selection import train_test_split\n",
    "\n",
    "from sklearn.metrics import f1_score"
   ]
  },
  {
   "cell_type": "markdown",
   "metadata": {},
   "source": [
    "<font color=\"green\">✔️ Комментарий ревьювера     \n",
    "Верно -  весь импорт библиотек в начале проекта</font>\n"
   ]
  },
  {
   "cell_type": "code",
   "execution_count": 2,
   "metadata": {},
   "outputs": [
    {
     "data": {
      "text/html": [
       "<div>\n",
       "<style scoped>\n",
       "    .dataframe tbody tr th:only-of-type {\n",
       "        vertical-align: middle;\n",
       "    }\n",
       "\n",
       "    .dataframe tbody tr th {\n",
       "        vertical-align: top;\n",
       "    }\n",
       "\n",
       "    .dataframe thead th {\n",
       "        text-align: right;\n",
       "    }\n",
       "</style>\n",
       "<table border=\"1\" class=\"dataframe\">\n",
       "  <thead>\n",
       "    <tr style=\"text-align: right;\">\n",
       "      <th></th>\n",
       "      <th>text</th>\n",
       "      <th>toxic</th>\n",
       "    </tr>\n",
       "  </thead>\n",
       "  <tbody>\n",
       "    <tr>\n",
       "      <th>0</th>\n",
       "      <td>Explanation\\nWhy the edits made under my usern...</td>\n",
       "      <td>0</td>\n",
       "    </tr>\n",
       "    <tr>\n",
       "      <th>1</th>\n",
       "      <td>D'aww! He matches this background colour I'm s...</td>\n",
       "      <td>0</td>\n",
       "    </tr>\n",
       "    <tr>\n",
       "      <th>2</th>\n",
       "      <td>Hey man, I'm really not trying to edit war. It...</td>\n",
       "      <td>0</td>\n",
       "    </tr>\n",
       "    <tr>\n",
       "      <th>3</th>\n",
       "      <td>\"\\nMore\\nI can't make any real suggestions on ...</td>\n",
       "      <td>0</td>\n",
       "    </tr>\n",
       "    <tr>\n",
       "      <th>4</th>\n",
       "      <td>You, sir, are my hero. Any chance you remember...</td>\n",
       "      <td>0</td>\n",
       "    </tr>\n",
       "    <tr>\n",
       "      <th>...</th>\n",
       "      <td>...</td>\n",
       "      <td>...</td>\n",
       "    </tr>\n",
       "    <tr>\n",
       "      <th>159566</th>\n",
       "      <td>\":::::And for the second time of asking, when ...</td>\n",
       "      <td>0</td>\n",
       "    </tr>\n",
       "    <tr>\n",
       "      <th>159567</th>\n",
       "      <td>You should be ashamed of yourself \\n\\nThat is ...</td>\n",
       "      <td>0</td>\n",
       "    </tr>\n",
       "    <tr>\n",
       "      <th>159568</th>\n",
       "      <td>Spitzer \\n\\nUmm, theres no actual article for ...</td>\n",
       "      <td>0</td>\n",
       "    </tr>\n",
       "    <tr>\n",
       "      <th>159569</th>\n",
       "      <td>And it looks like it was actually you who put ...</td>\n",
       "      <td>0</td>\n",
       "    </tr>\n",
       "    <tr>\n",
       "      <th>159570</th>\n",
       "      <td>\"\\nAnd ... I really don't think you understand...</td>\n",
       "      <td>0</td>\n",
       "    </tr>\n",
       "  </tbody>\n",
       "</table>\n",
       "<p>159571 rows × 2 columns</p>\n",
       "</div>"
      ],
      "text/plain": [
       "                                                     text  toxic\n",
       "0       Explanation\\nWhy the edits made under my usern...      0\n",
       "1       D'aww! He matches this background colour I'm s...      0\n",
       "2       Hey man, I'm really not trying to edit war. It...      0\n",
       "3       \"\\nMore\\nI can't make any real suggestions on ...      0\n",
       "4       You, sir, are my hero. Any chance you remember...      0\n",
       "...                                                   ...    ...\n",
       "159566  \":::::And for the second time of asking, when ...      0\n",
       "159567  You should be ashamed of yourself \\n\\nThat is ...      0\n",
       "159568  Spitzer \\n\\nUmm, theres no actual article for ...      0\n",
       "159569  And it looks like it was actually you who put ...      0\n",
       "159570  \"\\nAnd ... I really don't think you understand...      0\n",
       "\n",
       "[159571 rows x 2 columns]"
      ]
     },
     "execution_count": 2,
     "metadata": {},
     "output_type": "execute_result"
    }
   ],
   "source": [
    "# data = pd.read_csv(r\"C:\\Users\\George\\Мой диск\\3 Практикум\\2 Проекты\\13 Машинное обучение для текстов\\toxic_comments.csv\")\n",
    "data = pd.read_csv('/datasets/toxic_comments.csv')\n",
    "data"
   ]
  },
  {
   "cell_type": "markdown",
   "metadata": {},
   "source": [
    "Не рабочий код:\n",
    "```python\n",
    "m = Mystem()\n",
    "def lemmatize_text(text):    \n",
    "    text = text.lower()\n",
    "    lemm_text = \"\".join(m.lemmatize(text))\n",
    "    cleared_text = re.sub(r'[^a-zA-Z]', ' ', lemm_text) \n",
    "    return \" \".join(cleared_text.split())\n",
    "```"
   ]
  },
  {
   "cell_type": "code",
   "execution_count": 3,
   "metadata": {},
   "outputs": [],
   "source": [
    "m = WordNetLemmatizer()\n",
    "\n",
    "def lemmatize_text(text):    \n",
    "    text = text.lower()\n",
    "    word_list = nltk.word_tokenize(text)    \n",
    "    lemm_text = ' '.join([m.lemmatize(w) for w in word_list])\n",
    "    cleared_text = re.sub(r'[^a-zA-Z]', ' ', lemm_text) \n",
    "    return \" \".join(cleared_text.split())"
   ]
  },
  {
   "cell_type": "markdown",
   "metadata": {},
   "source": [
    "<font color=\"red\">❌ Комментарий ревьювера          \n",
    "Увы, метод лемматизации pymystem3 сделан только для русского текста, его нельзя применять   \n",
    "По ссылке есть несколько методов лемматизации:  https://webdevblog.ru/podhody-lemmatizacii-s-primerami-v-python/   \n",
    "Ты мог сам это заметить - она ведь не сработала :)  Должно быть \"d aww he match this background colour\"\n",
    "Очистка текста правильная!   \n",
    "</font>\n"
   ]
  },
  {
   "cell_type": "markdown",
   "metadata": {},
   "source": [
    "<div class=\"alert alert-info\"> <b>Комментарий студента:</b> \n",
    "    Исправил\n",
    "</div>"
   ]
  },
  {
   "cell_type": "markdown",
   "metadata": {},
   "source": [
    "<font color=\"green\">✔️ Комментарий ревьювера 2     \n",
    "Верно</font>\n"
   ]
  },
  {
   "cell_type": "code",
   "execution_count": 4,
   "metadata": {},
   "outputs": [
    {
     "name": "stdout",
     "output_type": "stream",
     "text": [
      "D'aww! He matches this background colour I'm seemingly stuck with. Thanks.  (talk) 21:51, January 11, 2016 (UTC)\n",
      "\n",
      "d aww he match this background colour i m seemingly stuck with thanks talk january utc\n"
     ]
    }
   ],
   "source": [
    "# Проверим работоспособность функции\n",
    "print(data.loc[1, 'text'])\n",
    "print()\n",
    "print(lemmatize_text(data.loc[1, 'text']))"
   ]
  },
  {
   "cell_type": "code",
   "execution_count": 5,
   "metadata": {},
   "outputs": [
    {
     "name": "stdout",
     "output_type": "stream",
     "text": [
      "CPU times: user 1min 59s, sys: 105 ms, total: 2min\n",
      "Wall time: 2min 1s\n"
     ]
    },
    {
     "data": {
      "text/html": [
       "<div>\n",
       "<style scoped>\n",
       "    .dataframe tbody tr th:only-of-type {\n",
       "        vertical-align: middle;\n",
       "    }\n",
       "\n",
       "    .dataframe tbody tr th {\n",
       "        vertical-align: top;\n",
       "    }\n",
       "\n",
       "    .dataframe thead th {\n",
       "        text-align: right;\n",
       "    }\n",
       "</style>\n",
       "<table border=\"1\" class=\"dataframe\">\n",
       "  <thead>\n",
       "    <tr style=\"text-align: right;\">\n",
       "      <th></th>\n",
       "      <th>text</th>\n",
       "      <th>toxic</th>\n",
       "    </tr>\n",
       "  </thead>\n",
       "  <tbody>\n",
       "    <tr>\n",
       "      <th>0</th>\n",
       "      <td>explanation why the edits made under my userna...</td>\n",
       "      <td>0</td>\n",
       "    </tr>\n",
       "    <tr>\n",
       "      <th>1</th>\n",
       "      <td>d aww he match this background colour i m seem...</td>\n",
       "      <td>0</td>\n",
       "    </tr>\n",
       "    <tr>\n",
       "      <th>2</th>\n",
       "      <td>hey man i m really not trying to edit war it s...</td>\n",
       "      <td>0</td>\n",
       "    </tr>\n",
       "    <tr>\n",
       "      <th>3</th>\n",
       "      <td>more i ca n t make any real suggestion on impr...</td>\n",
       "      <td>0</td>\n",
       "    </tr>\n",
       "    <tr>\n",
       "      <th>4</th>\n",
       "      <td>you sir are my hero any chance you remember wh...</td>\n",
       "      <td>0</td>\n",
       "    </tr>\n",
       "    <tr>\n",
       "      <th>...</th>\n",
       "      <td>...</td>\n",
       "      <td>...</td>\n",
       "    </tr>\n",
       "    <tr>\n",
       "      <th>159566</th>\n",
       "      <td>and for the second time of asking when your vi...</td>\n",
       "      <td>0</td>\n",
       "    </tr>\n",
       "    <tr>\n",
       "      <th>159567</th>\n",
       "      <td>you should be ashamed of yourself that is a ho...</td>\n",
       "      <td>0</td>\n",
       "    </tr>\n",
       "    <tr>\n",
       "      <th>159568</th>\n",
       "      <td>spitzer umm there no actual article for prosti...</td>\n",
       "      <td>0</td>\n",
       "    </tr>\n",
       "    <tr>\n",
       "      <th>159569</th>\n",
       "      <td>and it look like it wa actually you who put on...</td>\n",
       "      <td>0</td>\n",
       "    </tr>\n",
       "    <tr>\n",
       "      <th>159570</th>\n",
       "      <td>and i really do n t think you understand i cam...</td>\n",
       "      <td>0</td>\n",
       "    </tr>\n",
       "  </tbody>\n",
       "</table>\n",
       "<p>159571 rows × 2 columns</p>\n",
       "</div>"
      ],
      "text/plain": [
       "                                                     text  toxic\n",
       "0       explanation why the edits made under my userna...      0\n",
       "1       d aww he match this background colour i m seem...      0\n",
       "2       hey man i m really not trying to edit war it s...      0\n",
       "3       more i ca n t make any real suggestion on impr...      0\n",
       "4       you sir are my hero any chance you remember wh...      0\n",
       "...                                                   ...    ...\n",
       "159566  and for the second time of asking when your vi...      0\n",
       "159567  you should be ashamed of yourself that is a ho...      0\n",
       "159568  spitzer umm there no actual article for prosti...      0\n",
       "159569  and it look like it wa actually you who put on...      0\n",
       "159570  and i really do n t think you understand i cam...      0\n",
       "\n",
       "[159571 rows x 2 columns]"
      ]
     },
     "execution_count": 5,
     "metadata": {},
     "output_type": "execute_result"
    }
   ],
   "source": [
    "%%time\n",
    "\n",
    "data['text'] = data['text'].apply(lemmatize_text)\n",
    "data"
   ]
  },
  {
   "cell_type": "code",
   "execution_count": 6,
   "metadata": {},
   "outputs": [
    {
     "data": {
      "text/html": [
       "<div>\n",
       "<style scoped>\n",
       "    .dataframe tbody tr th:only-of-type {\n",
       "        vertical-align: middle;\n",
       "    }\n",
       "\n",
       "    .dataframe tbody tr th {\n",
       "        vertical-align: top;\n",
       "    }\n",
       "\n",
       "    .dataframe thead th {\n",
       "        text-align: right;\n",
       "    }\n",
       "</style>\n",
       "<table border=\"1\" class=\"dataframe\">\n",
       "  <thead>\n",
       "    <tr style=\"text-align: right;\">\n",
       "      <th></th>\n",
       "      <th>toxic</th>\n",
       "      <th>percent</th>\n",
       "    </tr>\n",
       "  </thead>\n",
       "  <tbody>\n",
       "    <tr>\n",
       "      <th>0</th>\n",
       "      <td>143346</td>\n",
       "      <td>0.898</td>\n",
       "    </tr>\n",
       "    <tr>\n",
       "      <th>1</th>\n",
       "      <td>16225</td>\n",
       "      <td>0.102</td>\n",
       "    </tr>\n",
       "  </tbody>\n",
       "</table>\n",
       "</div>"
      ],
      "text/plain": [
       "    toxic  percent\n",
       "0  143346    0.898\n",
       "1   16225    0.102"
      ]
     },
     "execution_count": 6,
     "metadata": {},
     "output_type": "execute_result"
    },
    {
     "data": {
      "image/png": "[encoded data removed]",
      "text/plain": [
       "<Figure size 432x288 with 1 Axes>"
      ]
     },
     "metadata": {
      "needs_background": "light"
     },
     "output_type": "display_data"
    }
   ],
   "source": [
    "sns.countplot(x = 'toxic', data = data)\n",
    "\n",
    "table = pd.DataFrame(data['toxic'].value_counts())\n",
    "table['percent'] = (table['toxic']/table['toxic'].sum()).round(3)\n",
    "table"
   ]
  },
  {
   "cell_type": "markdown",
   "metadata": {},
   "source": [
    "<font color=\"green\">✔️Комментарий ревьювера    \n",
    "Отлично, что проверен дисбаланс данных.</font>\n"
   ]
  },
  {
   "cell_type": "code",
   "execution_count": 7,
   "metadata": {},
   "outputs": [],
   "source": [
    "data_toxic = data[data['toxic'] == 1]\n",
    "data_not_toxic = data[data['toxic'] == 0]"
   ]
  },
  {
   "cell_type": "code",
   "execution_count": 8,
   "metadata": {},
   "outputs": [
    {
     "data": {
      "text/html": [
       "<div>\n",
       "<style scoped>\n",
       "    .dataframe tbody tr th:only-of-type {\n",
       "        vertical-align: middle;\n",
       "    }\n",
       "\n",
       "    .dataframe tbody tr th {\n",
       "        vertical-align: top;\n",
       "    }\n",
       "\n",
       "    .dataframe thead th {\n",
       "        text-align: right;\n",
       "    }\n",
       "</style>\n",
       "<table border=\"1\" class=\"dataframe\">\n",
       "  <thead>\n",
       "    <tr style=\"text-align: right;\">\n",
       "      <th></th>\n",
       "      <th>text</th>\n",
       "      <th>toxic</th>\n",
       "    </tr>\n",
       "  </thead>\n",
       "  <tbody>\n",
       "    <tr>\n",
       "      <th>0</th>\n",
       "      <td>who are you i must admit you are not the most ...</td>\n",
       "      <td>1</td>\n",
       "    </tr>\n",
       "    <tr>\n",
       "      <th>1</th>\n",
       "      <td>you need to fuck off and stop hrassing people</td>\n",
       "      <td>1</td>\n",
       "    </tr>\n",
       "    <tr>\n",
       "      <th>2</th>\n",
       "      <td>chickenshit vikie addict you are a liar about ...</td>\n",
       "      <td>1</td>\n",
       "    </tr>\n",
       "    <tr>\n",
       "      <th>3</th>\n",
       "      <td>thank you for showing me just how much of jack...</td>\n",
       "      <td>1</td>\n",
       "    </tr>\n",
       "    <tr>\n",
       "      <th>4</th>\n",
       "      <td>p also guy i know we are lazy a fuck but come ...</td>\n",
       "      <td>1</td>\n",
       "    </tr>\n",
       "    <tr>\n",
       "      <th>...</th>\n",
       "      <td>...</td>\n",
       "      <td>...</td>\n",
       "    </tr>\n",
       "    <tr>\n",
       "      <th>29995</th>\n",
       "      <td>it is interesting to note that both aircraft l...</td>\n",
       "      <td>0</td>\n",
       "    </tr>\n",
       "    <tr>\n",
       "      <th>29996</th>\n",
       "      <td>family genealogy section addition while many s...</td>\n",
       "      <td>0</td>\n",
       "    </tr>\n",
       "    <tr>\n",
       "      <th>29997</th>\n",
       "      <td>well dark green is the color of islam so light...</td>\n",
       "      <td>0</td>\n",
       "    </tr>\n",
       "    <tr>\n",
       "      <th>29998</th>\n",
       "      <td>this is your last warning the next time you va...</td>\n",
       "      <td>0</td>\n",
       "    </tr>\n",
       "    <tr>\n",
       "      <th>29999</th>\n",
       "      <td>again you have added notable alumnus section h...</td>\n",
       "      <td>0</td>\n",
       "    </tr>\n",
       "  </tbody>\n",
       "</table>\n",
       "<p>30000 rows × 2 columns</p>\n",
       "</div>"
      ],
      "text/plain": [
       "                                                    text  toxic\n",
       "0      who are you i must admit you are not the most ...      1\n",
       "1          you need to fuck off and stop hrassing people      1\n",
       "2      chickenshit vikie addict you are a liar about ...      1\n",
       "3      thank you for showing me just how much of jack...      1\n",
       "4      p also guy i know we are lazy a fuck but come ...      1\n",
       "...                                                  ...    ...\n",
       "29995  it is interesting to note that both aircraft l...      0\n",
       "29996  family genealogy section addition while many s...      0\n",
       "29997  well dark green is the color of islam so light...      0\n",
       "29998  this is your last warning the next time you va...      0\n",
       "29999  again you have added notable alumnus section h...      0\n",
       "\n",
       "[30000 rows x 2 columns]"
      ]
     },
     "execution_count": 8,
     "metadata": {},
     "output_type": "execute_result"
    }
   ],
   "source": [
    "final_data = data_toxic.sample(15000)\n",
    "final_data = final_data.append(data_not_toxic.sample(15000))\n",
    "final_data = final_data.reset_index(drop=True)\n",
    "final_data"
   ]
  },
  {
   "cell_type": "markdown",
   "metadata": {},
   "source": [
    "<font color=\"green\">✔️Комментарий ревьювера    \n",
    "Отлично, проверил.</font>"
   ]
  },
  {
   "cell_type": "code",
   "execution_count": 9,
   "metadata": {},
   "outputs": [
    {
     "data": {
      "text/plain": [
       "0    15000\n",
       "1    15000\n",
       "Name: toxic, dtype: int64"
      ]
     },
     "execution_count": 9,
     "metadata": {},
     "output_type": "execute_result"
    }
   ],
   "source": [
    "final_data['toxic'].value_counts()"
   ]
  },
  {
   "cell_type": "markdown",
   "metadata": {},
   "source": [
    "## Обучение"
   ]
  },
  {
   "cell_type": "code",
   "execution_count": 10,
   "metadata": {},
   "outputs": [],
   "source": [
    "target = final_data['toxic']\n",
    "features = final_data.drop(['toxic'], axis=1)\n",
    "\n",
    "features_train, features_test, target_train, target_test = train_test_split(features, target, test_size=0.2, random_state=12345)"
   ]
  },
  {
   "cell_type": "code",
   "execution_count": 11,
   "metadata": {},
   "outputs": [
    {
     "name": "stdout",
     "output_type": "stream",
     "text": [
      "(24000, 1)\n",
      "(6000, 1)\n",
      "(24000,)\n",
      "(6000,)\n"
     ]
    }
   ],
   "source": [
    "print(features_train.shape)\n",
    "print(features_test.shape)\n",
    "print(target_train.shape)\n",
    "print(target_test.shape)"
   ]
  },
  {
   "cell_type": "markdown",
   "metadata": {},
   "source": [
    "<font color=\"brown\">⚠️ Комментарий ревьювера   \n",
    "Всегда желательно выводить размерность выборок :)</font>\n"
   ]
  },
  {
   "cell_type": "markdown",
   "metadata": {},
   "source": [
    "<div class=\"alert alert-info\"> <b>Комментарий студента:</b> \n",
    "    Исправил\n",
    "</div>"
   ]
  },
  {
   "cell_type": "markdown",
   "metadata": {},
   "source": [
    "<font color=\"green\">✔️ Комментарий ревьювера 2     \n",
    "Верно</font>\n"
   ]
  },
  {
   "cell_type": "code",
   "execution_count": 12,
   "metadata": {},
   "outputs": [],
   "source": [
    "# nltk.download('stopwords')\n",
    "stopwords = set(nltk_stopwords.words('english'))"
   ]
  },
  {
   "cell_type": "code",
   "execution_count": 13,
   "metadata": {},
   "outputs": [],
   "source": [
    "count_tf_idf = TfidfVectorizer(stop_words=stopwords)"
   ]
  },
  {
   "cell_type": "markdown",
   "metadata": {},
   "source": [
    "<font color=\"brown\">⚠️ Комментарий ревьювера   \n",
    "Бывает интересно поменять дефолтные значения TfidfVectorizer. Например c ngram_range, max_df, min_df. Подробнее см. https://scikit-learn.org/stable/modules/generated/sklearn.feature_extraction.text.TfidfVectorizer.html</font>\n"
   ]
  },
  {
   "cell_type": "code",
   "execution_count": 14,
   "metadata": {},
   "outputs": [],
   "source": [
    "features_train = count_tf_idf.fit_transform(features_train['text'].values)"
   ]
  },
  {
   "cell_type": "code",
   "execution_count": 15,
   "metadata": {},
   "outputs": [],
   "source": [
    "features_test = count_tf_idf.transform(features_test['text'].values)"
   ]
  },
  {
   "cell_type": "markdown",
   "metadata": {},
   "source": [
    "<font color=\"red\">❌ Комментарий ревьювера          \n",
    "У нас датасет на английском языке, поэтому перевод в юникод не требуется. Это увеличит количество потребляемой памяти, а ядро в тренажере может упасть</font>"
   ]
  },
  {
   "cell_type": "markdown",
   "metadata": {},
   "source": [
    "<div class=\"alert alert-info\"> <b>Комментарий студента:</b> \n",
    "    На этом моменте у меня ломается ядро и я не понимаю почему. Проект еще есть куда доделывать, но пока нужно понять что делать с этим.\n",
    "</div>"
   ]
  },
  {
   "cell_type": "markdown",
   "metadata": {},
   "source": [
    "<font color=\"brown\">⚠️ Комментарий ревьювера   \n",
    "Единственный вариант - сократить размер базы. По опыту этого датасета - рекомендую 2000 оставить :)</font>\n"
   ]
  },
  {
   "cell_type": "markdown",
   "metadata": {},
   "source": [
    "У нас есть признаки, осталось только обучить модели и выбрать из них лучшую."
   ]
  },
  {
   "cell_type": "markdown",
   "metadata": {},
   "source": [
    "### Логическая регрессия"
   ]
  },
  {
   "cell_type": "code",
   "execution_count": 16,
   "metadata": {
    "scrolled": true
   },
   "outputs": [
    {
     "data": {
      "text/plain": [
       "0.8782759790709156"
      ]
     },
     "execution_count": 16,
     "metadata": {},
     "output_type": "execute_result"
    }
   ],
   "source": [
    "model_lr = LogisticRegression(random_state=12345)\n",
    "model_lr.fit(features_train, target_train)\n",
    "\n",
    "linear_result = cross_val_score(model_lr, features_train, target_train, cv=5, scoring='f1').mean()\n",
    "linear_result"
   ]
  },
  {
   "cell_type": "markdown",
   "metadata": {},
   "source": [
    "### Дерево решений"
   ]
  },
  {
   "cell_type": "markdown",
   "metadata": {},
   "source": [
    "Воспользуемся GridSearchCV чтобы подобрать лучшие гиперпараметры"
   ]
  },
  {
   "cell_type": "code",
   "execution_count": 17,
   "metadata": {},
   "outputs": [
    {
     "name": "stdout",
     "output_type": "stream",
     "text": [
      "CPU times: user 5min 43s, sys: 497 ms, total: 5min 43s\n",
      "Wall time: 5min 43s\n"
     ]
    },
    {
     "data": {
      "text/plain": [
       "{'max_depth': 40}"
      ]
     },
     "execution_count": 17,
     "metadata": {},
     "output_type": "execute_result"
    }
   ],
   "source": [
    "%%time\n",
    "\n",
    "model = DecisionTreeClassifier()\n",
    "\n",
    "parametrs = { 'max_depth': range(1, 41) }\n",
    "\n",
    "grid = GridSearchCV(estimator=model, cv=5, param_grid=parametrs)\n",
    "grid.fit(features_train, target_train)\n",
    "\n",
    "grid.best_params_"
   ]
  },
  {
   "cell_type": "code",
   "execution_count": 18,
   "metadata": {},
   "outputs": [
    {
     "data": {
      "text/plain": [
       "0.76813566599516"
      ]
     },
     "execution_count": 18,
     "metadata": {},
     "output_type": "execute_result"
    }
   ],
   "source": [
    "model_dt = DecisionTreeClassifier(max_depth=40, random_state=12345)\n",
    "model_dt.fit(features_train, target_train)\n",
    "\n",
    "decision_tree_result = cross_val_score(model_dt, features_train, target_train, cv=5, scoring='f1').mean()\n",
    "decision_tree_result"
   ]
  },
  {
   "cell_type": "markdown",
   "metadata": {},
   "source": [
    "### Случайный лес"
   ]
  },
  {
   "cell_type": "code",
   "execution_count": 19,
   "metadata": {},
   "outputs": [
    {
     "data": {
      "text/plain": [
       "{'max_depth': 9, 'n_estimators': 50}"
      ]
     },
     "execution_count": 19,
     "metadata": {},
     "output_type": "execute_result"
    }
   ],
   "source": [
    "model = RandomForestClassifier()\n",
    "\n",
    "parametrs = { 'n_estimators': range(10, 51, 10),\n",
    "              'max_depth': range(1, 13, 2) }\n",
    "#               'min_samples_leaf': range(1, 8),\n",
    "#               'min_samples_split': range(2, 11, 2) }\n",
    "\n",
    "grid = GridSearchCV(estimator=model, cv=5, param_grid=parametrs)\n",
    "grid.fit(features_train, target_train)\n",
    "\n",
    "grid.best_params_"
   ]
  },
  {
   "cell_type": "code",
   "execution_count": 20,
   "metadata": {},
   "outputs": [
    {
     "data": {
      "text/plain": [
       "0.7835088483159176"
      ]
     },
     "execution_count": 20,
     "metadata": {},
     "output_type": "execute_result"
    }
   ],
   "source": [
    "model_rf = RandomForestClassifier(max_depth=11, n_estimators=50, random_state=12345)\n",
    "model_rf.fit(features_train, target_train)\n",
    "\n",
    "random_forest_result = cross_val_score(model_rf, features_train, target_train, cv=5, scoring='f1').mean()\n",
    "random_forest_result"
   ]
  },
  {
   "cell_type": "code",
   "execution_count": 21,
   "metadata": {},
   "outputs": [
    {
     "data": {
      "text/html": [
       "<div>\n",
       "<style scoped>\n",
       "    .dataframe tbody tr th:only-of-type {\n",
       "        vertical-align: middle;\n",
       "    }\n",
       "\n",
       "    .dataframe tbody tr th {\n",
       "        vertical-align: top;\n",
       "    }\n",
       "\n",
       "    .dataframe thead th {\n",
       "        text-align: right;\n",
       "    }\n",
       "</style>\n",
       "<table border=\"1\" class=\"dataframe\">\n",
       "  <thead>\n",
       "    <tr style=\"text-align: right;\">\n",
       "      <th></th>\n",
       "      <th>F1_score</th>\n",
       "    </tr>\n",
       "  </thead>\n",
       "  <tbody>\n",
       "    <tr>\n",
       "      <th>Логическая регрессия</th>\n",
       "      <td>0.878276</td>\n",
       "    </tr>\n",
       "    <tr>\n",
       "      <th>Дерево решений</th>\n",
       "      <td>0.768136</td>\n",
       "    </tr>\n",
       "    <tr>\n",
       "      <th>Случайный лес</th>\n",
       "      <td>0.783509</td>\n",
       "    </tr>\n",
       "  </tbody>\n",
       "</table>\n",
       "</div>"
      ],
      "text/plain": [
       "                      F1_score\n",
       "Логическая регрессия  0.878276\n",
       "Дерево решений        0.768136\n",
       "Случайный лес         0.783509"
      ]
     },
     "execution_count": 21,
     "metadata": {},
     "output_type": "execute_result"
    }
   ],
   "source": [
    "# Построим таблицу с результатами моделей\n",
    "data = {'F1_score' : [linear_result, decision_tree_result, random_forest_result]}\n",
    "total_results = pd.DataFrame(data=data, index=['Логическая регрессия', 'Дерево решений', 'Случайный лес'])\n",
    "total_results"
   ]
  },
  {
   "cell_type": "markdown",
   "metadata": {},
   "source": [
    "Можно сделать вывод, что у логической регрессии наилучший показатель"
   ]
  },
  {
   "cell_type": "markdown",
   "metadata": {},
   "source": [
    "✔️Комментарий ревьювера 2    \n",
    "Отлично, хороший результат у  логической регрессии !"
   ]
  },
  {
   "cell_type": "markdown",
   "metadata": {},
   "source": [
    "## Выводы"
   ]
  },
  {
   "cell_type": "code",
   "execution_count": 22,
   "metadata": {},
   "outputs": [
    {
     "name": "stdout",
     "output_type": "stream",
     "text": [
      "0.884174508126604\n"
     ]
    }
   ],
   "source": [
    "print(f1_score(target_test, model_lr.predict(features_test)))"
   ]
  },
  {
   "cell_type": "markdown",
   "metadata": {},
   "source": [
    "✔️Комментарий ревьювера 2    \n",
    "Отлично\n"
   ]
  },
  {
   "cell_type": "markdown",
   "metadata": {},
   "source": [
    "В этой работе была разработана модель которая умеет классифицировать комментарии на позитивные и негативные. И лучший показатель `f1_score` получился 0.88, что намного больше поставленной в условии задачи - 0.75"
   ]
  },
  {
   "cell_type": "markdown",
   "metadata": {},
   "source": [
    "## Чек-лист проверки"
   ]
  },
  {
   "cell_type": "markdown",
   "metadata": {},
   "source": [
    "- [x]  Jupyter Notebook открыт\n",
    "- [ ]  Весь код выполняется без ошибок\n",
    "- [ ]  Ячейки с кодом расположены в порядке исполнения\n",
    "- [ ]  Данные загружены и подготовлены\n",
    "- [ ]  Модели обучены\n",
    "- [ ]  Значение метрики *F1* не меньше 0.75\n",
    "- [ ]  Выводы написаны"
   ]
  },
  {
   "cell_type": "markdown",
   "metadata": {},
   "source": [
    "<font color=\"green\">✔️ Комментарий ревьювера 2       \n",
    "Молодец, хорошая работа над проектом, выполнены все пункты задания. \n",
    "\n",
    "<font color=\"green\">✔️ Комментарий ревьювера 2    \n",
    "После проекта обычно просят оценить работу ревьювера, оставить отзыв - поставь пожалуйста оценку, если не сложно  :). Это помогает улучшить нашу работу. Только оценивай, честно, как есть!</font>\n",
    "\n",
    "\n",
    "\n",
    "Для работы с текстами используют и другие подходы. Например, сейчас активно используются трансформеры (BERT и другие с улицы Сезам, например, ELMO). НО! Они не являются панацеей, не всегда они нужны, так как и TF-IDF или Word2Vec + модели из классического ML тоже могут справляться.   \n",
    "BERT тяжелый, существует много его вариаций для разных задач, есть готовые модели, есть надстройки над библиотекой transformers. Если, обучать BERT на GPU (можно в Google Colab или Kaggle), то должно быть побыстрее.   \n",
    "https://huggingface.co/transformers/model_doc/bert.html   \n",
    "https://t.me/renat_alimbekov    \n",
    "https://web.stanford.edu/~jurafsky/slp3/10.pdf - про энкодер-декодер модели, этеншены     \n",
    "https://pytorch.org/tutorials/beginner/transformer_tutorial.html - официальный гайд по трансформеру от создателей pytorch    \n",
    "https://transformer.huggingface.co/ - поболтать с трансформером    \n",
    "Библиотеки: allennlp, fairseq, transformers, tensorflow-text — множество реализованных методов для трансформеров методов NLP\n",
    "Word2Vec https://radimrehurek.com/gensim/models/word2vec.html  \n",
    "</font>\n"
   ]
  },
  {
   "cell_type": "code",
   "execution_count": null,
   "metadata": {},
   "outputs": [],
   "source": []
  }
 ],
 "metadata": {
  "ExecuteTimeLog": [
   {
    "duration": 1714,
    "start_time": "2022-06-19T16:48:06.104Z"
   },
   {
    "duration": 168,
    "start_time": "2022-06-19T16:48:07.820Z"
   },
   {
    "duration": 0,
    "start_time": "2022-06-19T16:48:07.990Z"
   },
   {
    "duration": 0,
    "start_time": "2022-06-19T16:48:07.991Z"
   },
   {
    "duration": 2811,
    "start_time": "2022-06-19T16:48:50.060Z"
   },
   {
    "duration": 4,
    "start_time": "2022-06-19T16:48:52.874Z"
   },
   {
    "duration": 926,
    "start_time": "2022-06-19T16:48:52.880Z"
   },
   {
    "duration": 125817,
    "start_time": "2022-06-19T16:49:03.913Z"
   },
   {
    "duration": 12,
    "start_time": "2022-06-19T17:37:20.510Z"
   },
   {
    "duration": 10,
    "start_time": "2022-06-19T17:37:27.636Z"
   },
   {
    "duration": 12,
    "start_time": "2022-06-19T17:37:46.750Z"
   },
   {
    "duration": 9,
    "start_time": "2022-06-19T17:38:07.485Z"
   },
   {
    "duration": 474,
    "start_time": "2022-06-19T17:38:28.119Z"
   },
   {
    "duration": 133,
    "start_time": "2022-06-19T17:38:36.970Z"
   },
   {
    "duration": 48,
    "start_time": "2022-06-19T17:38:51.622Z"
   },
   {
    "duration": 8,
    "start_time": "2022-06-19T17:38:55.527Z"
   },
   {
    "duration": 201,
    "start_time": "2022-06-19T17:39:32.019Z"
   },
   {
    "duration": 128,
    "start_time": "2022-06-19T17:39:48.477Z"
   },
   {
    "duration": 127,
    "start_time": "2022-06-19T17:39:55.860Z"
   },
   {
    "duration": 6,
    "start_time": "2022-06-19T17:42:17.758Z"
   },
   {
    "duration": 6,
    "start_time": "2022-06-19T17:42:21.476Z"
   },
   {
    "duration": 11,
    "start_time": "2022-06-19T17:49:17.296Z"
   },
   {
    "duration": 11,
    "start_time": "2022-06-19T17:49:35.440Z"
   },
   {
    "duration": 25,
    "start_time": "2022-06-19T17:54:13.291Z"
   },
   {
    "duration": 11,
    "start_time": "2022-06-19T17:54:16.598Z"
   },
   {
    "duration": 9,
    "start_time": "2022-06-19T17:54:26.601Z"
   },
   {
    "duration": 10,
    "start_time": "2022-06-19T17:54:33.507Z"
   },
   {
    "duration": 9,
    "start_time": "2022-06-19T17:54:36.567Z"
   },
   {
    "duration": 113,
    "start_time": "2022-06-19T17:54:55.118Z"
   },
   {
    "duration": 116,
    "start_time": "2022-06-19T17:55:03.107Z"
   },
   {
    "duration": 133,
    "start_time": "2022-06-19T17:55:09.744Z"
   },
   {
    "duration": 123,
    "start_time": "2022-06-19T17:55:14.041Z"
   },
   {
    "duration": 124,
    "start_time": "2022-06-19T17:55:22.717Z"
   },
   {
    "duration": 18,
    "start_time": "2022-06-19T17:58:31.031Z"
   },
   {
    "duration": 34,
    "start_time": "2022-06-19T17:59:23.287Z"
   },
   {
    "duration": 30,
    "start_time": "2022-06-19T18:01:39.824Z"
   },
   {
    "duration": 22,
    "start_time": "2022-06-19T18:01:58.470Z"
   },
   {
    "duration": 30,
    "start_time": "2022-06-19T18:02:03.187Z"
   },
   {
    "duration": 17,
    "start_time": "2022-06-19T18:02:42.207Z"
   },
   {
    "duration": 18,
    "start_time": "2022-06-19T18:02:50.654Z"
   },
   {
    "duration": 18,
    "start_time": "2022-06-19T18:02:54.138Z"
   },
   {
    "duration": 19,
    "start_time": "2022-06-19T18:03:24.222Z"
   },
   {
    "duration": 20,
    "start_time": "2022-06-19T18:03:33.744Z"
   },
   {
    "duration": 24,
    "start_time": "2022-06-19T18:03:43.862Z"
   },
   {
    "duration": 22,
    "start_time": "2022-06-19T18:07:44.688Z"
   },
   {
    "duration": 24,
    "start_time": "2022-06-19T18:07:51.387Z"
   },
   {
    "duration": 19,
    "start_time": "2022-06-19T18:07:58.578Z"
   },
   {
    "duration": 20,
    "start_time": "2022-06-19T18:08:08.343Z"
   },
   {
    "duration": 34,
    "start_time": "2022-06-19T18:08:14.952Z"
   },
   {
    "duration": 28,
    "start_time": "2022-06-19T18:08:50.367Z"
   },
   {
    "duration": 17,
    "start_time": "2022-06-19T18:08:55.395Z"
   },
   {
    "duration": 17,
    "start_time": "2022-06-19T18:09:08.809Z"
   },
   {
    "duration": 20,
    "start_time": "2022-06-19T18:09:11.543Z"
   },
   {
    "duration": 75,
    "start_time": "2022-06-19T18:09:46.354Z"
   },
   {
    "duration": 6,
    "start_time": "2022-06-19T18:09:57.452Z"
   },
   {
    "duration": 21,
    "start_time": "2022-06-19T18:10:17.678Z"
   },
   {
    "duration": 7,
    "start_time": "2022-06-19T18:10:20.373Z"
   },
   {
    "duration": 31,
    "start_time": "2022-06-19T18:13:29.635Z"
   },
   {
    "duration": 1653,
    "start_time": "2022-06-19T18:17:18.353Z"
   },
   {
    "duration": 3048,
    "start_time": "2022-06-19T18:17:20.008Z"
   },
   {
    "duration": 10,
    "start_time": "2022-06-19T18:17:23.058Z"
   },
   {
    "duration": 764,
    "start_time": "2022-06-19T18:17:23.074Z"
   },
   {
    "duration": 98975,
    "start_time": "2022-06-19T18:17:23.840Z"
   },
   {
    "duration": 212,
    "start_time": "2022-06-19T18:19:02.817Z"
   },
   {
    "duration": 17,
    "start_time": "2022-06-19T18:19:03.030Z"
   },
   {
    "duration": 34,
    "start_time": "2022-06-19T18:19:03.049Z"
   },
   {
    "duration": 7,
    "start_time": "2022-06-19T18:19:03.084Z"
   },
   {
    "duration": 33,
    "start_time": "2022-06-19T18:19:03.093Z"
   },
   {
    "duration": 1411,
    "start_time": "2022-06-19T18:19:38.513Z"
   },
   {
    "duration": 2378,
    "start_time": "2022-06-19T18:19:39.926Z"
   },
   {
    "duration": 3,
    "start_time": "2022-06-19T18:19:42.306Z"
   },
   {
    "duration": 664,
    "start_time": "2022-06-19T18:19:42.311Z"
   },
   {
    "duration": 93218,
    "start_time": "2022-06-19T18:19:42.979Z"
   },
   {
    "duration": 168,
    "start_time": "2022-06-19T18:21:16.199Z"
   },
   {
    "duration": 13,
    "start_time": "2022-06-19T18:21:16.369Z"
   },
   {
    "duration": 24,
    "start_time": "2022-06-19T18:21:16.384Z"
   },
   {
    "duration": 5,
    "start_time": "2022-06-19T18:21:16.410Z"
   },
   {
    "duration": 50,
    "start_time": "2022-06-19T18:21:16.416Z"
   },
   {
    "duration": 1548,
    "start_time": "2022-06-19T18:26:00.379Z"
   },
   {
    "duration": 2762,
    "start_time": "2022-06-19T18:26:01.929Z"
   },
   {
    "duration": 3,
    "start_time": "2022-06-19T18:26:04.693Z"
   },
   {
    "duration": 715,
    "start_time": "2022-06-19T18:26:04.698Z"
   },
   {
    "duration": 98522,
    "start_time": "2022-06-19T18:26:05.415Z"
   },
   {
    "duration": 139,
    "start_time": "2022-06-19T18:27:43.938Z"
   },
   {
    "duration": 14,
    "start_time": "2022-06-19T18:27:44.080Z"
   },
   {
    "duration": 19,
    "start_time": "2022-06-19T18:27:44.096Z"
   },
   {
    "duration": 5,
    "start_time": "2022-06-19T18:27:44.117Z"
   },
   {
    "duration": 69,
    "start_time": "2022-06-19T18:27:44.124Z"
   },
   {
    "duration": 5,
    "start_time": "2022-06-19T18:28:11.199Z"
   },
   {
    "duration": 1539,
    "start_time": "2022-06-19T18:28:41.593Z"
   },
   {
    "duration": 2688,
    "start_time": "2022-06-19T18:28:43.134Z"
   },
   {
    "duration": 4,
    "start_time": "2022-06-19T18:28:45.824Z"
   },
   {
    "duration": 693,
    "start_time": "2022-06-19T18:28:45.830Z"
   },
   {
    "duration": 98076,
    "start_time": "2022-06-19T18:28:46.526Z"
   },
   {
    "duration": 133,
    "start_time": "2022-06-19T18:30:24.604Z"
   },
   {
    "duration": 39,
    "start_time": "2022-06-19T18:30:24.738Z"
   },
   {
    "duration": 27,
    "start_time": "2022-06-19T18:30:24.785Z"
   },
   {
    "duration": 6,
    "start_time": "2022-06-19T18:30:24.814Z"
   },
   {
    "duration": 35,
    "start_time": "2022-06-19T18:30:24.821Z"
   },
   {
    "duration": 7,
    "start_time": "2022-06-19T18:30:24.860Z"
   },
   {
    "duration": 3,
    "start_time": "2022-06-19T18:32:09.428Z"
   },
   {
    "duration": 1609,
    "start_time": "2022-06-19T18:34:00.153Z"
   },
   {
    "duration": 2555,
    "start_time": "2022-06-19T18:34:01.764Z"
   },
   {
    "duration": 3,
    "start_time": "2022-06-19T18:34:04.320Z"
   },
   {
    "duration": 700,
    "start_time": "2022-06-19T18:34:04.325Z"
   },
   {
    "duration": 101106,
    "start_time": "2022-06-19T18:34:05.029Z"
   },
   {
    "duration": 151,
    "start_time": "2022-06-19T18:35:46.137Z"
   },
   {
    "duration": 16,
    "start_time": "2022-06-19T18:35:46.290Z"
   },
   {
    "duration": 22,
    "start_time": "2022-06-19T18:35:46.307Z"
   },
   {
    "duration": 5,
    "start_time": "2022-06-19T18:35:46.330Z"
   },
   {
    "duration": 62,
    "start_time": "2022-06-19T18:35:46.336Z"
   },
   {
    "duration": 4,
    "start_time": "2022-06-19T18:35:46.400Z"
   },
   {
    "duration": 6,
    "start_time": "2022-06-19T18:35:46.406Z"
   },
   {
    "duration": 5828,
    "start_time": "2022-06-19T18:35:46.414Z"
   },
   {
    "duration": 1755,
    "start_time": "2022-06-20T19:37:25.540Z"
   },
   {
    "duration": 3,
    "start_time": "2022-06-20T19:37:37.532Z"
   },
   {
    "duration": 1265,
    "start_time": "2022-06-20T19:37:51.678Z"
   },
   {
    "duration": 4,
    "start_time": "2022-06-20T19:40:19.066Z"
   },
   {
    "duration": 2455,
    "start_time": "2022-06-20T19:40:19.072Z"
   },
   {
    "duration": 4,
    "start_time": "2022-06-20T19:40:21.528Z"
   },
   {
    "duration": 12,
    "start_time": "2022-06-20T19:40:21.533Z"
   },
   {
    "duration": 5,
    "start_time": "2022-06-20T19:43:07.222Z"
   },
   {
    "duration": 3,
    "start_time": "2022-06-20T19:43:43.456Z"
   },
   {
    "duration": 3,
    "start_time": "2022-06-20T19:43:48.375Z"
   },
   {
    "duration": 4,
    "start_time": "2022-06-20T19:44:07.361Z"
   },
   {
    "duration": 137,
    "start_time": "2022-06-20T19:44:10.452Z"
   },
   {
    "duration": 3,
    "start_time": "2022-06-20T19:44:22.047Z"
   },
   {
    "duration": 3,
    "start_time": "2022-06-20T19:44:23.892Z"
   },
   {
    "duration": 3,
    "start_time": "2022-06-20T19:44:49.376Z"
   },
   {
    "duration": 259,
    "start_time": "2022-06-20T19:45:09.169Z"
   },
   {
    "duration": 3,
    "start_time": "2022-06-20T19:45:13.933Z"
   },
   {
    "duration": 3,
    "start_time": "2022-06-20T19:45:15.861Z"
   },
   {
    "duration": 5,
    "start_time": "2022-06-20T19:49:29.190Z"
   },
   {
    "duration": 3,
    "start_time": "2022-06-20T19:49:36.547Z"
   },
   {
    "duration": 3,
    "start_time": "2022-06-20T19:49:39.803Z"
   },
   {
    "duration": 3,
    "start_time": "2022-06-20T19:51:56.093Z"
   },
   {
    "duration": 3,
    "start_time": "2022-06-20T19:51:57.842Z"
   },
   {
    "duration": 4,
    "start_time": "2022-06-20T19:52:04.147Z"
   },
   {
    "duration": 5,
    "start_time": "2022-06-20T19:52:05.796Z"
   },
   {
    "duration": 3,
    "start_time": "2022-06-20T19:53:54.264Z"
   },
   {
    "duration": 3,
    "start_time": "2022-06-20T19:54:03.692Z"
   },
   {
    "duration": 50,
    "start_time": "2022-06-20T19:54:50.454Z"
   },
   {
    "duration": 3,
    "start_time": "2022-06-20T19:55:03.398Z"
   },
   {
    "duration": 55,
    "start_time": "2022-06-20T19:56:00.763Z"
   },
   {
    "duration": 4,
    "start_time": "2022-06-20T20:01:52.920Z"
   },
   {
    "duration": 17,
    "start_time": "2022-06-20T20:02:07.716Z"
   },
   {
    "duration": 3,
    "start_time": "2022-06-20T20:03:14.847Z"
   },
   {
    "duration": 14,
    "start_time": "2022-06-20T20:03:17.441Z"
   },
   {
    "duration": 3,
    "start_time": "2022-06-20T20:03:23.583Z"
   },
   {
    "duration": 4,
    "start_time": "2022-06-20T20:03:25.178Z"
   },
   {
    "duration": 11,
    "start_time": "2022-06-20T20:03:59.787Z"
   },
   {
    "duration": 3,
    "start_time": "2022-06-20T20:04:10.878Z"
   },
   {
    "duration": 10,
    "start_time": "2022-06-20T20:04:11.202Z"
   },
   {
    "duration": 3,
    "start_time": "2022-06-20T20:04:19.412Z"
   },
   {
    "duration": 4,
    "start_time": "2022-06-20T20:04:38.893Z"
   },
   {
    "duration": 4,
    "start_time": "2022-06-20T20:04:46.505Z"
   },
   {
    "duration": 4,
    "start_time": "2022-06-20T20:05:13.177Z"
   },
   {
    "duration": 4,
    "start_time": "2022-06-20T20:05:53.360Z"
   },
   {
    "duration": 754,
    "start_time": "2022-06-20T20:05:53.366Z"
   },
   {
    "duration": 3,
    "start_time": "2022-06-20T20:05:54.122Z"
   },
   {
    "duration": 12,
    "start_time": "2022-06-20T20:05:54.126Z"
   },
   {
    "duration": 11,
    "start_time": "2022-06-20T20:06:04.781Z"
   },
   {
    "duration": 5,
    "start_time": "2022-06-20T20:06:23.064Z"
   },
   {
    "duration": 7,
    "start_time": "2022-06-20T20:06:43.066Z"
   },
   {
    "duration": 4,
    "start_time": "2022-06-20T20:06:46.992Z"
   },
   {
    "duration": 52,
    "start_time": "2022-06-20T20:06:59.049Z"
   },
   {
    "duration": 5,
    "start_time": "2022-06-20T20:07:07.646Z"
   },
   {
    "duration": 4,
    "start_time": "2022-06-20T20:07:11.810Z"
   },
   {
    "duration": 4,
    "start_time": "2022-06-20T20:08:36.265Z"
   },
   {
    "duration": 1533,
    "start_time": "2022-06-20T20:08:51.103Z"
   },
   {
    "duration": 835,
    "start_time": "2022-06-20T20:08:52.639Z"
   },
   {
    "duration": 4,
    "start_time": "2022-06-20T20:08:53.475Z"
   },
   {
    "duration": 1248,
    "start_time": "2022-06-20T20:08:53.481Z"
   },
   {
    "duration": 123411,
    "start_time": "2022-06-20T20:08:54.730Z"
   },
   {
    "duration": 125,
    "start_time": "2022-06-20T20:10:58.143Z"
   },
   {
    "duration": 15,
    "start_time": "2022-06-20T20:10:58.270Z"
   },
   {
    "duration": 31,
    "start_time": "2022-06-20T20:10:58.288Z"
   },
   {
    "duration": 7,
    "start_time": "2022-06-20T20:10:58.321Z"
   },
   {
    "duration": 29,
    "start_time": "2022-06-20T20:11:20.769Z"
   },
   {
    "duration": 4,
    "start_time": "2022-06-20T20:11:21.318Z"
   },
   {
    "duration": 4,
    "start_time": "2022-06-20T20:11:28.437Z"
   },
   {
    "duration": 3,
    "start_time": "2022-06-20T20:11:28.815Z"
   },
   {
    "duration": 5241,
    "start_time": "2022-06-20T20:11:32.727Z"
   },
   {
    "duration": 113,
    "start_time": "2022-06-20T20:11:46.409Z"
   },
   {
    "duration": 2038,
    "start_time": "2022-06-20T20:12:08.139Z"
   },
   {
    "duration": 14,
    "start_time": "2022-06-20T20:13:26.191Z"
   },
   {
    "duration": 34,
    "start_time": "2022-06-20T20:13:34.956Z"
   },
   {
    "duration": 4,
    "start_time": "2022-06-20T20:13:35.153Z"
   },
   {
    "duration": 3,
    "start_time": "2022-06-20T20:13:36.092Z"
   },
   {
    "duration": 22,
    "start_time": "2022-06-20T20:13:36.466Z"
   },
   {
    "duration": 5060,
    "start_time": "2022-06-20T20:13:37.152Z"
   },
   {
    "duration": 1211,
    "start_time": "2022-06-20T20:13:42.214Z"
   },
   {
    "duration": 1758,
    "start_time": "2022-06-20T20:16:19.739Z"
   },
   {
    "duration": 795,
    "start_time": "2022-06-20T20:16:21.500Z"
   },
   {
    "duration": 4,
    "start_time": "2022-06-20T20:16:22.296Z"
   },
   {
    "duration": 1254,
    "start_time": "2022-06-20T20:16:22.301Z"
   },
   {
    "duration": 127254,
    "start_time": "2022-06-20T20:16:23.558Z"
   },
   {
    "duration": 130,
    "start_time": "2022-06-20T20:18:30.814Z"
   },
   {
    "duration": 22,
    "start_time": "2022-06-20T20:18:30.946Z"
   },
   {
    "duration": 36,
    "start_time": "2022-06-20T20:18:30.969Z"
   },
   {
    "duration": 42,
    "start_time": "2022-06-20T20:18:31.007Z"
   },
   {
    "duration": 86,
    "start_time": "2022-06-20T20:18:31.050Z"
   },
   {
    "duration": 149,
    "start_time": "2022-06-20T20:18:31.138Z"
   },
   {
    "duration": 0,
    "start_time": "2022-06-20T20:18:31.289Z"
   },
   {
    "duration": 0,
    "start_time": "2022-06-20T20:18:31.290Z"
   },
   {
    "duration": 0,
    "start_time": "2022-06-20T20:18:31.292Z"
   },
   {
    "duration": 0,
    "start_time": "2022-06-20T20:18:31.294Z"
   },
   {
    "duration": 4,
    "start_time": "2022-06-20T20:23:36.443Z"
   },
   {
    "duration": 4,
    "start_time": "2022-06-20T20:23:38.824Z"
   },
   {
    "duration": 9,
    "start_time": "2022-06-20T20:23:45.857Z"
   },
   {
    "duration": 3,
    "start_time": "2022-06-20T20:23:50.615Z"
   },
   {
    "duration": 5156,
    "start_time": "2022-06-20T20:23:53.273Z"
   },
   {
    "duration": 4,
    "start_time": "2022-06-20T20:24:02.910Z"
   },
   {
    "duration": 35,
    "start_time": "2022-06-20T20:24:09.090Z"
   },
   {
    "duration": 1202,
    "start_time": "2022-06-20T20:25:12.911Z"
   },
   {
    "duration": 13,
    "start_time": "2022-06-20T20:25:19.765Z"
   },
   {
    "duration": 1671,
    "start_time": "2022-06-20T20:25:29.795Z"
   },
   {
    "duration": 806,
    "start_time": "2022-06-20T20:25:31.468Z"
   },
   {
    "duration": 5,
    "start_time": "2022-06-20T20:25:32.275Z"
   },
   {
    "duration": 1267,
    "start_time": "2022-06-20T20:25:32.282Z"
   },
   {
    "duration": 120719,
    "start_time": "2022-06-20T20:25:33.551Z"
   },
   {
    "duration": 143,
    "start_time": "2022-06-20T20:27:34.272Z"
   },
   {
    "duration": 17,
    "start_time": "2022-06-20T20:27:34.417Z"
   },
   {
    "duration": 35,
    "start_time": "2022-06-20T20:27:34.436Z"
   },
   {
    "duration": 4,
    "start_time": "2022-06-20T20:27:34.473Z"
   },
   {
    "duration": 12,
    "start_time": "2022-06-20T20:27:34.479Z"
   },
   {
    "duration": 4,
    "start_time": "2022-06-20T20:27:34.492Z"
   },
   {
    "duration": 5,
    "start_time": "2022-06-20T20:27:34.497Z"
   },
   {
    "duration": 5,
    "start_time": "2022-06-20T20:27:34.503Z"
   },
   {
    "duration": 858,
    "start_time": "2022-06-20T20:27:34.510Z"
   },
   {
    "duration": 204,
    "start_time": "2022-06-20T20:27:35.370Z"
   },
   {
    "duration": 4,
    "start_time": "2022-06-20T20:27:35.576Z"
   },
   {
    "duration": 3,
    "start_time": "2022-06-20T20:27:58.642Z"
   },
   {
    "duration": 11554,
    "start_time": "2022-06-20T20:31:59.505Z"
   },
   {
    "duration": 60990,
    "start_time": "2022-06-20T20:33:39.575Z"
   },
   {
    "duration": 28,
    "start_time": "2022-06-20T20:37:10.859Z"
   },
   {
    "duration": 60420,
    "start_time": "2022-06-20T20:38:21.646Z"
   },
   {
    "duration": 114,
    "start_time": "2022-06-20T20:40:34.284Z"
   },
   {
    "duration": 5,
    "start_time": "2022-06-20T20:40:55.149Z"
   },
   {
    "duration": 10532,
    "start_time": "2022-06-20T20:40:59.279Z"
   },
   {
    "duration": 37724,
    "start_time": "2022-06-20T20:41:22.440Z"
   },
   {
    "duration": 27,
    "start_time": "2022-06-20T20:43:33.168Z"
   },
   {
    "duration": 947833,
    "start_time": "2022-06-20T20:43:41.149Z"
   },
   {
    "duration": 5555,
    "start_time": "2022-06-20T20:59:28.984Z"
   },
   {
    "duration": 37317,
    "start_time": "2022-06-20T20:59:38.491Z"
   },
   {
    "duration": 5587,
    "start_time": "2022-06-20T21:00:15.810Z"
   },
   {
    "duration": 49788,
    "start_time": "2022-06-20T21:00:36.271Z"
   },
   {
    "duration": 64259,
    "start_time": "2022-06-20T21:04:55.312Z"
   },
   {
    "duration": 5756,
    "start_time": "2022-06-20T21:05:59.573Z"
   },
   {
    "duration": 2,
    "start_time": "2022-06-20T21:06:05.331Z"
   },
   {
    "duration": 18,
    "start_time": "2022-06-20T21:06:05.343Z"
   },
   {
    "duration": 107176,
    "start_time": "2022-06-20T21:06:35.877Z"
   },
   {
    "duration": 9725,
    "start_time": "2022-06-20T21:09:51.162Z"
   },
   {
    "duration": 1631,
    "start_time": "2022-06-20T21:12:50.026Z"
   },
   {
    "duration": 745,
    "start_time": "2022-06-20T21:12:51.659Z"
   },
   {
    "duration": 3,
    "start_time": "2022-06-20T21:12:52.405Z"
   },
   {
    "duration": 1307,
    "start_time": "2022-06-20T21:12:52.410Z"
   },
   {
    "duration": 119463,
    "start_time": "2022-06-20T21:12:53.719Z"
   },
   {
    "duration": 127,
    "start_time": "2022-06-20T21:14:53.183Z"
   },
   {
    "duration": 14,
    "start_time": "2022-06-20T21:14:53.312Z"
   },
   {
    "duration": 38,
    "start_time": "2022-06-20T21:14:53.328Z"
   },
   {
    "duration": 6,
    "start_time": "2022-06-20T21:14:53.368Z"
   },
   {
    "duration": 23,
    "start_time": "2022-06-20T21:14:53.376Z"
   },
   {
    "duration": 15,
    "start_time": "2022-06-20T21:14:53.401Z"
   },
   {
    "duration": 35,
    "start_time": "2022-06-20T21:14:53.418Z"
   },
   {
    "duration": 7,
    "start_time": "2022-06-20T21:14:53.455Z"
   },
   {
    "duration": 894,
    "start_time": "2022-06-20T21:14:53.464Z"
   },
   {
    "duration": 215,
    "start_time": "2022-06-20T21:14:54.360Z"
   },
   {
    "duration": 55085,
    "start_time": "2022-06-20T21:14:54.577Z"
   },
   {
    "duration": 346664,
    "start_time": "2022-06-20T21:15:49.664Z"
   },
   {
    "duration": 9854,
    "start_time": "2022-06-20T21:21:36.330Z"
   },
   {
    "duration": 75128,
    "start_time": "2022-06-20T21:21:46.185Z"
   },
   {
    "duration": 2,
    "start_time": "2022-06-20T21:23:01.315Z"
   },
   {
    "duration": 22,
    "start_time": "2022-06-20T21:23:01.318Z"
   },
   {
    "duration": 25,
    "start_time": "2022-06-20T21:23:01.341Z"
   },
   {
    "duration": 17881,
    "start_time": "2022-06-20T21:23:09.846Z"
   },
   {
    "duration": 7419,
    "start_time": "2022-06-20T21:24:55.477Z"
   },
   {
    "duration": 8,
    "start_time": "2022-06-20T21:25:02.897Z"
   },
   {
    "duration": 7,
    "start_time": "2022-06-20T21:26:03.066Z"
   },
   {
    "duration": 8,
    "start_time": "2022-06-20T21:26:23.316Z"
   },
   {
    "duration": 49,
    "start_time": "2022-06-20T21:26:37.473Z"
   },
   {
    "duration": 121,
    "start_time": "2022-06-20T21:27:42.758Z"
   },
   {
    "duration": 44301,
    "start_time": "2022-06-20T21:27:47.659Z"
   },
   {
    "duration": 8,
    "start_time": "2022-06-20T21:28:31.963Z"
   },
   {
    "duration": 1784,
    "start_time": "2022-06-20T23:31:11.951Z"
   },
   {
    "duration": 768,
    "start_time": "2022-06-20T23:31:13.737Z"
   },
   {
    "duration": 4,
    "start_time": "2022-06-20T23:31:14.506Z"
   },
   {
    "duration": 1305,
    "start_time": "2022-06-20T23:31:14.512Z"
   },
   {
    "duration": 121052,
    "start_time": "2022-06-20T23:31:15.819Z"
   },
   {
    "duration": 132,
    "start_time": "2022-06-20T23:33:16.872Z"
   },
   {
    "duration": 14,
    "start_time": "2022-06-20T23:33:17.005Z"
   },
   {
    "duration": 18,
    "start_time": "2022-06-20T23:33:17.021Z"
   },
   {
    "duration": 20,
    "start_time": "2022-06-20T23:33:17.040Z"
   },
   {
    "duration": 20,
    "start_time": "2022-06-20T23:33:17.061Z"
   },
   {
    "duration": 5,
    "start_time": "2022-06-20T23:33:17.082Z"
   },
   {
    "duration": 6,
    "start_time": "2022-06-20T23:33:17.088Z"
   },
   {
    "duration": 5,
    "start_time": "2022-06-20T23:33:17.095Z"
   },
   {
    "duration": 926,
    "start_time": "2022-06-20T23:33:17.102Z"
   },
   {
    "duration": 202,
    "start_time": "2022-06-20T23:33:18.029Z"
   },
   {
    "duration": 40533,
    "start_time": "2022-06-20T23:33:18.232Z"
   },
   {
    "duration": 343825,
    "start_time": "2022-06-20T23:33:58.767Z"
   },
   {
    "duration": 17766,
    "start_time": "2022-06-20T23:39:42.594Z"
   },
   {
    "duration": 75035,
    "start_time": "2022-06-20T23:40:00.362Z"
   },
   {
    "duration": 7622,
    "start_time": "2022-06-20T23:41:15.399Z"
   },
   {
    "duration": 10,
    "start_time": "2022-06-20T23:41:23.023Z"
   },
   {
    "duration": 25,
    "start_time": "2022-06-20T23:41:23.034Z"
   }
  ],
  "kernelspec": {
   "display_name": "Python 3 (ipykernel)",
   "language": "python",
   "name": "python3"
  },
  "language_info": {
   "codemirror_mode": {
    "name": "ipython",
    "version": 3
   },
   "file_extension": ".py",
   "mimetype": "text/x-python",
   "name": "python",
   "nbconvert_exporter": "python",
   "pygments_lexer": "ipython3",
   "version": "3.9.5"
  },
  "toc": {
   "base_numbering": 1,
   "nav_menu": {},
   "number_sections": true,
   "sideBar": true,
   "skip_h1_title": true,
   "title_cell": "Содержание",
   "title_sidebar": "Contents",
   "toc_cell": false,
   "toc_position": {
    "height": "calc(100% - 180px)",
    "left": "10px",
    "top": "150px",
    "width": "302.385px"
   },
   "toc_section_display": true,
   "toc_window_display": true
  }
 },
 "nbformat": 4,
 "nbformat_minor": 2
}
